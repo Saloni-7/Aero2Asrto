{
  "nbformat": 4,
  "nbformat_minor": 0,
  "metadata": {
    "colab": {
      "name": "Time_graph_for_Small Village_Rootsift_without image enhance(0.35x).ipynb",
      "provenance": [],
      "collapsed_sections": []
    },
    "kernelspec": {
      "name": "python3",
      "display_name": "Python 3"
    },
    "language_info": {
      "name": "python"
    }
  },
  "cells": [
    {
      "cell_type": "code",
      "metadata": {
        "id": "TawUfS8U5M_k"
      },
      "source": [
        "import pandas as pd\n",
        "import matplotlib.pyplot as plt\n",
        "import numpy as np\n"
      ],
      "execution_count": 1,
      "outputs": []
    },
    {
      "cell_type": "code",
      "metadata": {
        "id": "qNzK9BoETjTS"
      },
      "source": [
        "#d = {'Detector': ['Agast','agast','agast'], 'Number of Total Matches':[100,200,300],'Parameter':['Parameter1','Parameter2','Parameter3'],'ParameterName':['A','B','C'] }"
      ],
      "execution_count": null,
      "outputs": []
    },
    {
      "cell_type": "code",
      "metadata": {
        "id": "1Dwj0uzp5Jnx"
      },
      "source": [
        "df1=pd.read_csv('/content/Time_1_Small Village_Rootsift_without image enhance(0.35x).csv')"
      ],
      "execution_count": 3,
      "outputs": []
    },
    {
      "cell_type": "code",
      "metadata": {
        "id": "dEO_68muTK3S"
      },
      "source": [
        "df1['ParameterName'] = \"A\""
      ],
      "execution_count": 4,
      "outputs": []
    },
    {
      "cell_type": "code",
      "metadata": {
        "id": "ypvx7rKkJ_zd"
      },
      "source": [
        "df2=pd.read_csv('/content/Time_1_Small Village_Rootsift_without image enhance(0.35x)_1.csv')"
      ],
      "execution_count": 5,
      "outputs": []
    },
    {
      "cell_type": "code",
      "metadata": {
        "id": "QVyAQGV5VdZ4"
      },
      "source": [
        "df2['ParameterName'] = \"B\""
      ],
      "execution_count": 6,
      "outputs": []
    },
    {
      "cell_type": "code",
      "metadata": {
        "id": "ezEncKgzJ_nf"
      },
      "source": [
        "df3=pd.read_csv('/content/Time_1_Small Village_Rootsift_without image enhance(0.35x)_2.csv')"
      ],
      "execution_count": 7,
      "outputs": []
    },
    {
      "cell_type": "code",
      "metadata": {
        "id": "lSogUQCAWS94"
      },
      "source": [
        "df3['ParameterName'] = \"C\""
      ],
      "execution_count": 8,
      "outputs": []
    },
    {
      "cell_type": "code",
      "metadata": {
        "colab": {
          "base_uri": "https://localhost:8080/",
          "height": 80
        },
        "id": "WBD7tvHk5hUn",
        "outputId": "f2053da6-40cf-4cc8-b940-995270345d77"
      },
      "source": [
        "df1"
      ],
      "execution_count": 9,
      "outputs": [
        {
          "output_type": "execute_result",
          "data": {
            "text/html": [
              "<div>\n",
              "<style scoped>\n",
              "    .dataframe tbody tr th:only-of-type {\n",
              "        vertical-align: middle;\n",
              "    }\n",
              "\n",
              "    .dataframe tbody tr th {\n",
              "        vertical-align: top;\n",
              "    }\n",
              "\n",
              "    .dataframe thead th {\n",
              "        text-align: right;\n",
              "    }\n",
              "</style>\n",
              "<table border=\"1\" class=\"dataframe\">\n",
              "  <thead>\n",
              "    <tr style=\"text-align: right;\">\n",
              "      <th></th>\n",
              "      <th>Unnamed: 0</th>\n",
              "      <th>Dataset</th>\n",
              "      <th>Time</th>\n",
              "      <th>Detector/Descriptor</th>\n",
              "      <th>ParameterName</th>\n",
              "    </tr>\n",
              "  </thead>\n",
              "  <tbody>\n",
              "    <tr>\n",
              "      <th>0</th>\n",
              "      <td>0</td>\n",
              "      <td>Small Village Dataset</td>\n",
              "      <td>75.037334</td>\n",
              "      <td>ROOTSIFT</td>\n",
              "      <td>A</td>\n",
              "    </tr>\n",
              "  </tbody>\n",
              "</table>\n",
              "</div>"
            ],
            "text/plain": [
              "   Unnamed: 0                Dataset  ...  Detector/Descriptor ParameterName\n",
              "0           0  Small Village Dataset  ...             ROOTSIFT             A\n",
              "\n",
              "[1 rows x 5 columns]"
            ]
          },
          "metadata": {},
          "execution_count": 9
        }
      ]
    },
    {
      "cell_type": "code",
      "metadata": {
        "id": "Sck9YTp-14Nb"
      },
      "source": [
        "df1['Parameter'] = \"Sift: nfeatures = 1000, nOctaveLayers = 4, contrastThreshold = 0.06, edgeThreshold = 12\""
      ],
      "execution_count": 10,
      "outputs": []
    },
    {
      "cell_type": "code",
      "metadata": {
        "colab": {
          "base_uri": "https://localhost:8080/",
          "height": 80
        },
        "id": "_E7PsFOg53Ht",
        "outputId": "34de0fdb-5dd0-4405-a48f-0df5924f1e34"
      },
      "source": [
        "df1"
      ],
      "execution_count": 11,
      "outputs": [
        {
          "output_type": "execute_result",
          "data": {
            "text/html": [
              "<div>\n",
              "<style scoped>\n",
              "    .dataframe tbody tr th:only-of-type {\n",
              "        vertical-align: middle;\n",
              "    }\n",
              "\n",
              "    .dataframe tbody tr th {\n",
              "        vertical-align: top;\n",
              "    }\n",
              "\n",
              "    .dataframe thead th {\n",
              "        text-align: right;\n",
              "    }\n",
              "</style>\n",
              "<table border=\"1\" class=\"dataframe\">\n",
              "  <thead>\n",
              "    <tr style=\"text-align: right;\">\n",
              "      <th></th>\n",
              "      <th>Unnamed: 0</th>\n",
              "      <th>Dataset</th>\n",
              "      <th>Time</th>\n",
              "      <th>Detector/Descriptor</th>\n",
              "      <th>ParameterName</th>\n",
              "      <th>Parameter</th>\n",
              "    </tr>\n",
              "  </thead>\n",
              "  <tbody>\n",
              "    <tr>\n",
              "      <th>0</th>\n",
              "      <td>0</td>\n",
              "      <td>Small Village Dataset</td>\n",
              "      <td>75.037334</td>\n",
              "      <td>ROOTSIFT</td>\n",
              "      <td>A</td>\n",
              "      <td>Sift: nfeatures = 1000, nOctaveLayers = 4, con...</td>\n",
              "    </tr>\n",
              "  </tbody>\n",
              "</table>\n",
              "</div>"
            ],
            "text/plain": [
              "   Unnamed: 0  ...                                          Parameter\n",
              "0           0  ...  Sift: nfeatures = 1000, nOctaveLayers = 4, con...\n",
              "\n",
              "[1 rows x 6 columns]"
            ]
          },
          "metadata": {},
          "execution_count": 11
        }
      ]
    },
    {
      "cell_type": "code",
      "metadata": {
        "colab": {
          "base_uri": "https://localhost:8080/",
          "height": 80
        },
        "id": "1hLjHt1zKhs9",
        "outputId": "1fa5c5a4-bd41-44fa-ec4a-becc81e8694d"
      },
      "source": [
        "df2"
      ],
      "execution_count": 12,
      "outputs": [
        {
          "output_type": "execute_result",
          "data": {
            "text/html": [
              "<div>\n",
              "<style scoped>\n",
              "    .dataframe tbody tr th:only-of-type {\n",
              "        vertical-align: middle;\n",
              "    }\n",
              "\n",
              "    .dataframe tbody tr th {\n",
              "        vertical-align: top;\n",
              "    }\n",
              "\n",
              "    .dataframe thead th {\n",
              "        text-align: right;\n",
              "    }\n",
              "</style>\n",
              "<table border=\"1\" class=\"dataframe\">\n",
              "  <thead>\n",
              "    <tr style=\"text-align: right;\">\n",
              "      <th></th>\n",
              "      <th>Unnamed: 0</th>\n",
              "      <th>Dataset</th>\n",
              "      <th>Time</th>\n",
              "      <th>Detector/Descriptor</th>\n",
              "      <th>ParameterName</th>\n",
              "    </tr>\n",
              "  </thead>\n",
              "  <tbody>\n",
              "    <tr>\n",
              "      <th>0</th>\n",
              "      <td>0</td>\n",
              "      <td>Small Village Dataset</td>\n",
              "      <td>76.95229</td>\n",
              "      <td>ROOTSIFT</td>\n",
              "      <td>B</td>\n",
              "    </tr>\n",
              "  </tbody>\n",
              "</table>\n",
              "</div>"
            ],
            "text/plain": [
              "   Unnamed: 0                Dataset  ...  Detector/Descriptor ParameterName\n",
              "0           0  Small Village Dataset  ...             ROOTSIFT             B\n",
              "\n",
              "[1 rows x 5 columns]"
            ]
          },
          "metadata": {},
          "execution_count": 12
        }
      ]
    },
    {
      "cell_type": "code",
      "metadata": {
        "id": "4OipKSbK2alg"
      },
      "source": [
        "df2['Parameter'] = \"Sift: nfeatures = 2000, nOctaveLayers = 3, contrastThreshold = 0.04, edgeThreshold = 10\""
      ],
      "execution_count": 13,
      "outputs": []
    },
    {
      "cell_type": "code",
      "metadata": {
        "colab": {
          "base_uri": "https://localhost:8080/",
          "height": 80
        },
        "id": "YJ9tYPPKKhU8",
        "outputId": "80c47864-09da-4836-b2f0-3225092a8ae2"
      },
      "source": [
        "df2"
      ],
      "execution_count": 14,
      "outputs": [
        {
          "output_type": "execute_result",
          "data": {
            "text/html": [
              "<div>\n",
              "<style scoped>\n",
              "    .dataframe tbody tr th:only-of-type {\n",
              "        vertical-align: middle;\n",
              "    }\n",
              "\n",
              "    .dataframe tbody tr th {\n",
              "        vertical-align: top;\n",
              "    }\n",
              "\n",
              "    .dataframe thead th {\n",
              "        text-align: right;\n",
              "    }\n",
              "</style>\n",
              "<table border=\"1\" class=\"dataframe\">\n",
              "  <thead>\n",
              "    <tr style=\"text-align: right;\">\n",
              "      <th></th>\n",
              "      <th>Unnamed: 0</th>\n",
              "      <th>Dataset</th>\n",
              "      <th>Time</th>\n",
              "      <th>Detector/Descriptor</th>\n",
              "      <th>ParameterName</th>\n",
              "      <th>Parameter</th>\n",
              "    </tr>\n",
              "  </thead>\n",
              "  <tbody>\n",
              "    <tr>\n",
              "      <th>0</th>\n",
              "      <td>0</td>\n",
              "      <td>Small Village Dataset</td>\n",
              "      <td>76.95229</td>\n",
              "      <td>ROOTSIFT</td>\n",
              "      <td>B</td>\n",
              "      <td>Sift: nfeatures = 2000, nOctaveLayers = 3, con...</td>\n",
              "    </tr>\n",
              "  </tbody>\n",
              "</table>\n",
              "</div>"
            ],
            "text/plain": [
              "   Unnamed: 0  ...                                          Parameter\n",
              "0           0  ...  Sift: nfeatures = 2000, nOctaveLayers = 3, con...\n",
              "\n",
              "[1 rows x 6 columns]"
            ]
          },
          "metadata": {},
          "execution_count": 14
        }
      ]
    },
    {
      "cell_type": "code",
      "metadata": {
        "colab": {
          "base_uri": "https://localhost:8080/",
          "height": 80
        },
        "id": "oc3vYypQK4YA",
        "outputId": "8b6cfc9d-016e-4698-ada6-4597325a6ceb"
      },
      "source": [
        "df3"
      ],
      "execution_count": 15,
      "outputs": [
        {
          "output_type": "execute_result",
          "data": {
            "text/html": [
              "<div>\n",
              "<style scoped>\n",
              "    .dataframe tbody tr th:only-of-type {\n",
              "        vertical-align: middle;\n",
              "    }\n",
              "\n",
              "    .dataframe tbody tr th {\n",
              "        vertical-align: top;\n",
              "    }\n",
              "\n",
              "    .dataframe thead th {\n",
              "        text-align: right;\n",
              "    }\n",
              "</style>\n",
              "<table border=\"1\" class=\"dataframe\">\n",
              "  <thead>\n",
              "    <tr style=\"text-align: right;\">\n",
              "      <th></th>\n",
              "      <th>Unnamed: 0</th>\n",
              "      <th>Dataset</th>\n",
              "      <th>Time</th>\n",
              "      <th>Detector/Descriptor</th>\n",
              "      <th>ParameterName</th>\n",
              "    </tr>\n",
              "  </thead>\n",
              "  <tbody>\n",
              "    <tr>\n",
              "      <th>0</th>\n",
              "      <td>0</td>\n",
              "      <td>Small Village Dataset</td>\n",
              "      <td>75.420846</td>\n",
              "      <td>ROOTSIFT</td>\n",
              "      <td>C</td>\n",
              "    </tr>\n",
              "  </tbody>\n",
              "</table>\n",
              "</div>"
            ],
            "text/plain": [
              "   Unnamed: 0                Dataset  ...  Detector/Descriptor ParameterName\n",
              "0           0  Small Village Dataset  ...             ROOTSIFT             C\n",
              "\n",
              "[1 rows x 5 columns]"
            ]
          },
          "metadata": {},
          "execution_count": 15
        }
      ]
    },
    {
      "cell_type": "code",
      "metadata": {
        "id": "kmudLwGf2m8R"
      },
      "source": [
        "df3['Parameter'] = \"Sift: nfeatures = 1000, nOctaveLayers = 3, contrastThreshold = 0.04, edgeThreshold = 8\" "
      ],
      "execution_count": 16,
      "outputs": []
    },
    {
      "cell_type": "code",
      "metadata": {
        "id": "cQVNHBe3LBMk",
        "colab": {
          "base_uri": "https://localhost:8080/",
          "height": 80
        },
        "outputId": "d3f037c5-74ba-4351-875e-37380404eb36"
      },
      "source": [
        "df3"
      ],
      "execution_count": 17,
      "outputs": [
        {
          "output_type": "execute_result",
          "data": {
            "text/html": [
              "<div>\n",
              "<style scoped>\n",
              "    .dataframe tbody tr th:only-of-type {\n",
              "        vertical-align: middle;\n",
              "    }\n",
              "\n",
              "    .dataframe tbody tr th {\n",
              "        vertical-align: top;\n",
              "    }\n",
              "\n",
              "    .dataframe thead th {\n",
              "        text-align: right;\n",
              "    }\n",
              "</style>\n",
              "<table border=\"1\" class=\"dataframe\">\n",
              "  <thead>\n",
              "    <tr style=\"text-align: right;\">\n",
              "      <th></th>\n",
              "      <th>Unnamed: 0</th>\n",
              "      <th>Dataset</th>\n",
              "      <th>Time</th>\n",
              "      <th>Detector/Descriptor</th>\n",
              "      <th>ParameterName</th>\n",
              "      <th>Parameter</th>\n",
              "    </tr>\n",
              "  </thead>\n",
              "  <tbody>\n",
              "    <tr>\n",
              "      <th>0</th>\n",
              "      <td>0</td>\n",
              "      <td>Small Village Dataset</td>\n",
              "      <td>75.420846</td>\n",
              "      <td>ROOTSIFT</td>\n",
              "      <td>C</td>\n",
              "      <td>Sift: nfeatures = 1000, nOctaveLayers = 3, con...</td>\n",
              "    </tr>\n",
              "  </tbody>\n",
              "</table>\n",
              "</div>"
            ],
            "text/plain": [
              "   Unnamed: 0  ...                                          Parameter\n",
              "0           0  ...  Sift: nfeatures = 1000, nOctaveLayers = 3, con...\n",
              "\n",
              "[1 rows x 6 columns]"
            ]
          },
          "metadata": {},
          "execution_count": 17
        }
      ]
    },
    {
      "cell_type": "code",
      "metadata": {
        "id": "E12FC_MXLD2Q"
      },
      "source": [
        "df=pd.concat([df1,df2,df3])"
      ],
      "execution_count": 18,
      "outputs": []
    },
    {
      "cell_type": "code",
      "metadata": {
        "colab": {
          "base_uri": "https://localhost:8080/",
          "height": 142
        },
        "id": "QEfaGfQXMYDt",
        "outputId": "804d6d7f-e123-4af8-b6ed-0883fc07407d"
      },
      "source": [
        "df"
      ],
      "execution_count": 19,
      "outputs": [
        {
          "output_type": "execute_result",
          "data": {
            "text/html": [
              "<div>\n",
              "<style scoped>\n",
              "    .dataframe tbody tr th:only-of-type {\n",
              "        vertical-align: middle;\n",
              "    }\n",
              "\n",
              "    .dataframe tbody tr th {\n",
              "        vertical-align: top;\n",
              "    }\n",
              "\n",
              "    .dataframe thead th {\n",
              "        text-align: right;\n",
              "    }\n",
              "</style>\n",
              "<table border=\"1\" class=\"dataframe\">\n",
              "  <thead>\n",
              "    <tr style=\"text-align: right;\">\n",
              "      <th></th>\n",
              "      <th>Unnamed: 0</th>\n",
              "      <th>Dataset</th>\n",
              "      <th>Time</th>\n",
              "      <th>Detector/Descriptor</th>\n",
              "      <th>ParameterName</th>\n",
              "      <th>Parameter</th>\n",
              "    </tr>\n",
              "  </thead>\n",
              "  <tbody>\n",
              "    <tr>\n",
              "      <th>0</th>\n",
              "      <td>0</td>\n",
              "      <td>Small Village Dataset</td>\n",
              "      <td>75.037334</td>\n",
              "      <td>ROOTSIFT</td>\n",
              "      <td>A</td>\n",
              "      <td>Sift: nfeatures = 1000, nOctaveLayers = 4, con...</td>\n",
              "    </tr>\n",
              "    <tr>\n",
              "      <th>0</th>\n",
              "      <td>0</td>\n",
              "      <td>Small Village Dataset</td>\n",
              "      <td>76.952290</td>\n",
              "      <td>ROOTSIFT</td>\n",
              "      <td>B</td>\n",
              "      <td>Sift: nfeatures = 2000, nOctaveLayers = 3, con...</td>\n",
              "    </tr>\n",
              "    <tr>\n",
              "      <th>0</th>\n",
              "      <td>0</td>\n",
              "      <td>Small Village Dataset</td>\n",
              "      <td>75.420846</td>\n",
              "      <td>ROOTSIFT</td>\n",
              "      <td>C</td>\n",
              "      <td>Sift: nfeatures = 1000, nOctaveLayers = 3, con...</td>\n",
              "    </tr>\n",
              "  </tbody>\n",
              "</table>\n",
              "</div>"
            ],
            "text/plain": [
              "   Unnamed: 0  ...                                          Parameter\n",
              "0           0  ...  Sift: nfeatures = 1000, nOctaveLayers = 4, con...\n",
              "0           0  ...  Sift: nfeatures = 2000, nOctaveLayers = 3, con...\n",
              "0           0  ...  Sift: nfeatures = 1000, nOctaveLayers = 3, con...\n",
              "\n",
              "[3 rows x 6 columns]"
            ]
          },
          "metadata": {},
          "execution_count": 19
        }
      ]
    },
    {
      "cell_type": "code",
      "metadata": {
        "id": "4yyb9x0EcQ64",
        "colab": {
          "base_uri": "https://localhost:8080/",
          "height": 567
        },
        "outputId": "6c3f8df6-e4ea-4142-f6fd-bcd3ee755132"
      },
      "source": [
        " import seaborn as sns\n",
        "sns.set_theme(style='whitegrid')\n",
        "\n",
        "\n",
        "g = sns.catplot(\n",
        "    data=df, kind=\"bar\",\n",
        "    x=\"ParameterName\", y=\"Time\", hue=\"Parameter\" ,\n",
        "    ci=\"sd\", palette=\"Spectral\", alpha=.9, height=8, aspect=0.9\n",
        ")\n",
        "g.despine(left=True)\n",
        "g.set_axis_labels(\"Parameter Combinations \", \"Time Taken for Consecutive/Overlapping Images\")\n",
        "g.legend.set_title(\"Parameter Combinations\")\n",
        "g.fig.suptitle(\"Time Taken for ROOTSIFT for different parameter combinations\")"
      ],
      "execution_count": 20,
      "outputs": [
        {
          "output_type": "execute_result",
          "data": {
            "text/plain": [
              "Text(0.5, 0.98, 'Time Taken for ROOTSIFT for different parameter combinations')"
            ]
          },
          "metadata": {},
          "execution_count": 20
        },
        {
          "output_type": "display_data",
          "data": {
            "image/png": "[encoded data removed]",
            "text/plain": [
              "<Figure size 1061x576 with 1 Axes>"
            ]
          },
          "metadata": {}
        }
      ]
    },
    {
      "cell_type": "code",
      "metadata": {
        "id": "w8oosWzjbFpS"
      },
      "source": [
        ""
      ],
      "execution_count": null,
      "outputs": []
    }
  ]
}
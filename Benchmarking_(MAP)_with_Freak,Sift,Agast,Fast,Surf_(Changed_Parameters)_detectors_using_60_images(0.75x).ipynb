{
  "nbformat": 4,
  "nbformat_minor": 0,
  "metadata": {
    "colab": {
      "name": "Benchmarking_(MAP)_with_Freak,Sift,Agast,Fast,Surf_(Changed Parameters)_detectors_using_60_images(0.75x).ipynb",
      "provenance": [],
      "collapsed_sections": []
    },
    "kernelspec": {
      "name": "python3",
      "display_name": "Python 3"
    },
    "language_info": {
      "name": "python"
    }
  },
  "cells": [
    {
      "cell_type": "code",
      "metadata": {
        "id": "aa8bfJcWCWFb"
      },
      "source": [
        "import numpy as np\n",
        "import cv2\n",
        "import scipy.io\n",
        "import os\n",
        "from numpy.linalg import norm\n",
        "from matplotlib import pyplot as plt\n",
        "from numpy.linalg import det\n",
        "from numpy.linalg import inv\n",
        "from scipy.linalg import rq\n",
        "from numpy.linalg import svd\n",
        "import matplotlib.pyplot as plt\n",
        "import numpy as np\n",
        "import math\n",
        "import random\n",
        "import sys\n",
        "from scipy import ndimage, spatial\n",
        "from tqdm.notebook import tqdm, trange\n",
        "\n",
        "import torch\n",
        "import torch.nn as nn\n",
        "import torch.optim as optim\n",
        "from torch.optim import lr_scheduler\n",
        "from torch.autograd import Variable\n",
        "import torchvision\n",
        "from torchvision import datasets, models, transforms\n",
        "from torch.utils.data import Dataset, DataLoader, ConcatDataset\n",
        "from skimage import io, transform,data\n",
        "from torchvision import transforms, utils\n",
        "import numpy as np\n",
        "import math\n",
        "import glob\n",
        "import matplotlib.pyplot as plt\n",
        "import time\n",
        "import os\n",
        "import copy\n",
        "import sklearn.svm\n",
        "import cv2\n",
        "from matplotlib import pyplot as plt\n",
        "import numpy as np\n",
        "from os.path import exists\n",
        "import pandas as pd\n",
        "import PIL\n",
        "import random\n",
        "from google.colab import drive\n",
        "from sklearn.metrics.cluster import completeness_score\n",
        "from sklearn.cluster import KMeans\n",
        "from tqdm import tqdm, tqdm_notebook\n",
        "from functools import partial\n",
        "from torchsummary import summary\n",
        "from torchvision.datasets import ImageFolder\n",
        "from torch.utils.data.sampler import SubsetRandomSampler\n",
        "import h5py as h5\n",
        "\n",
        "#cuda_output = !ldconfig -p|grep cudart.so|sed -e 's/.*\\.\\([0-9]*\\)\\.\\([0-9]*\\)$/cu\\1\\2/'\n",
        "#accelerator = cuda_output[0] if exists('/dev/nvidia0') else 'cpu'\n",
        "\n",
        "#print(\"Accelerator type = \",accelerator)\n",
        "#print(\"Pytorch verision: \", torch.__version__)"
      ],
      "execution_count": 1,
      "outputs": []
    },
    {
      "cell_type": "code",
      "metadata": {
        "colab": {
          "base_uri": "https://localhost:8080/"
        },
        "id": "rL9rcKHAChcb",
        "outputId": "de25ed95-20a8-48f3-f3ae-36f9ad80261d"
      },
      "source": [
        "from google.colab import drive\n",
        "\n",
        "# This will prompt for authorization.\n",
        "drive.mount('/content/drive')"
      ],
      "execution_count": 2,
      "outputs": [
        {
          "output_type": "stream",
          "text": [
            "Drive already mounted at /content/drive; to attempt to forcibly remount, call drive.mount(\"/content/drive\", force_remount=True).\n"
          ],
          "name": "stdout"
        }
      ]
    },
    {
      "cell_type": "code",
      "metadata": {
        "id": "KdSkrM1pGGNf"
      },
      "source": [
        "#!pip install ipython-autotime\n",
        "\n",
        "#%load_ext autotime"
      ],
      "execution_count": null,
      "outputs": []
    },
    {
      "cell_type": "code",
      "metadata": {
        "colab": {
          "base_uri": "https://localhost:8080/"
        },
        "id": "-VFwhM5HChUt",
        "outputId": "f8ff219a-add4-4f41-f400-b2d08240a376"
      },
      "source": [
        "!pip install opencv-python==3.4.2.17\n",
        "!pip install opencv-contrib-python==3.4.2.17"
      ],
      "execution_count": 3,
      "outputs": [
        {
          "output_type": "stream",
          "text": [
            "Requirement already satisfied: opencv-python==3.4.2.17 in /usr/local/lib/python3.7/dist-packages (3.4.2.17)\n",
            "Requirement already satisfied: numpy>=1.14.5 in /usr/local/lib/python3.7/dist-packages (from opencv-python==3.4.2.17) (1.19.5)\n",
            "Requirement already satisfied: opencv-contrib-python==3.4.2.17 in /usr/local/lib/python3.7/dist-packages (3.4.2.17)\n",
            "Requirement already satisfied: numpy>=1.14.5 in /usr/local/lib/python3.7/dist-packages (from opencv-contrib-python==3.4.2.17) (1.19.5)\n"
          ],
          "name": "stdout"
        }
      ]
    },
    {
      "cell_type": "code",
      "metadata": {
        "id": "hl3jpVdOChL1"
      },
      "source": [
        "class Image:\n",
        "    def __init__(self, img, position):\n",
        "        \n",
        "        self.img = img\n",
        "        self.position = position\n",
        "\n",
        "inlier_matchset = []\n",
        "def features_matching(a,keypointlength,threshold):\n",
        "  #threshold=0.2\n",
        "  bestmatch=np.empty((keypointlength),dtype= np.int16)\n",
        "  img1index=np.empty((keypointlength),dtype=np.int16)\n",
        "  distance=np.empty((keypointlength))\n",
        "  index=0\n",
        "  for j in range(0,keypointlength):\n",
        "    #For a descriptor fa in Ia, take the two closest descriptors fb1 and fb2 in Ib\n",
        "    x=a[j]\n",
        "    listx=x.tolist()\n",
        "    x.sort()\n",
        "    minval1=x[0]                                # min \n",
        "    minval2=x[1]                                # 2nd min\n",
        "    itemindex1 = listx.index(minval1)           #index of min val    \n",
        "    itemindex2 = listx.index(minval2)           #index of second min value \n",
        "    ratio=minval1/minval2                       #Ratio Test\n",
        "    \n",
        "    if ratio<threshold: \n",
        "      #Low distance ratio: fb1 can be a good match\n",
        "      bestmatch[index]=itemindex1\n",
        "      distance[index]=minval1\n",
        "      img1index[index]=j\n",
        "      index=index+1\n",
        "  return  [cv2.DMatch(img1index[i],bestmatch[i].astype(int),distance[i]) for i in range(0,index)]\n",
        "          \n",
        "   \n",
        "  \n",
        "def compute_Homography(im1_pts,im2_pts):\n",
        "  \"\"\"\n",
        "  im1_pts and im2_pts are 2×n matrices with\n",
        "  4 point correspondences from the two images\n",
        "  \"\"\"\n",
        "  num_matches=len(im1_pts)\n",
        "  num_rows = 2 * num_matches\n",
        "  num_cols = 9\n",
        "  A_matrix_shape = (num_rows,num_cols)\n",
        "  A = np.zeros(A_matrix_shape)\n",
        "  a_index = 0\n",
        "  for i in range(0,num_matches):\n",
        "    (a_x, a_y) = im1_pts[i]\n",
        "    (b_x, b_y) = im2_pts[i]\n",
        "    row1 = [a_x, a_y, 1, 0, 0, 0, -b_x*a_x, -b_x*a_y, -b_x] # First row \n",
        "    row2 = [0, 0, 0, a_x, a_y, 1, -b_y*a_x, -b_y*a_y, -b_y] # Second row \n",
        "\n",
        "    # place the rows in the matrix\n",
        "    A[a_index] = row1\n",
        "    A[a_index+1] = row2\n",
        "\n",
        "    a_index += 2\n",
        "    \n",
        "  U, s, Vt = np.linalg.svd(A)\n",
        "\n",
        "  #s is a 1-D array of singular values sorted in descending order\n",
        "  #U, Vt are unitary matrices\n",
        "  #Rows of Vt are the eigenvectors of A^TA.\n",
        "  #Columns of U are the eigenvectors of AA^T.\n",
        "  H = np.eye(3)\n",
        "  H = Vt[-1].reshape(3,3) # take the last row of the Vt matrix\n",
        "  return H\n",
        "  \n",
        "  \n",
        "def displayplot(img,title):\n",
        "  \n",
        "  plt.figure(figsize=(15,15))\n",
        "  plt.title(title)\n",
        "  plt.imshow(cv2.cvtColor(img, cv2.COLOR_BGR2RGB))\n",
        "  plt.show()"
      ],
      "execution_count": 3,
      "outputs": []
    },
    {
      "cell_type": "code",
      "metadata": {
        "id": "rJz6bnF_CgaL"
      },
      "source": [
        "def get_inliers(f1, f2, matches, H, RANSACthresh):\n",
        "\n",
        "  inlier_indices = []\n",
        "  for i in range(len(matches)):\n",
        "    queryInd = matches[i].queryIdx\n",
        "    trainInd = matches[i].trainIdx\n",
        "\n",
        "    #queryInd = matches[i][0]\n",
        "    #trainInd = matches[i][1]\n",
        "\n",
        "    queryPoint = np.array([f1[queryInd].pt[0],  f1[queryInd].pt[1], 1]).T \n",
        "    trans_query = H.dot(queryPoint) \n",
        "\n",
        "   \n",
        "    comp1 = [trans_query[0]/trans_query[2], trans_query[1]/trans_query[2]] # normalize with respect to z\n",
        "    comp2 = np.array(f2[trainInd].pt)[:2]\n",
        "    \n",
        "\n",
        "    if(np.linalg.norm(comp1-comp2) <= RANSACthresh): # check against threshold\n",
        "      inlier_indices.append(i)\n",
        "  return inlier_indices\n",
        "\n",
        "\n",
        "def RANSAC_alg(f1, f2, matches, nRANSAC, RANSACthresh):\n",
        "\n",
        "      \n",
        "    minMatches = 4\n",
        "    nBest = 0\n",
        "    best_inliers = []\n",
        "    H_estimate = np.eye(3,3)\n",
        "    global inlier_matchset\n",
        "    inlier_matchset=[]\n",
        "    for iteration in range(nRANSAC):\n",
        "      \n",
        "        #Choose a minimal set of feature matches.\n",
        "        matchSample = random.sample(matches, minMatches)\n",
        "        \n",
        "        #Estimate the Homography implied by these matches\n",
        "        im1_pts=np.empty((minMatches,2))\n",
        "        im2_pts=np.empty((minMatches,2))\n",
        "        for i in range(0,minMatches):\n",
        "          m = matchSample[i]\n",
        "          im1_pts[i] = f1[m.queryIdx].pt\n",
        "          im2_pts[i] = f2[m.trainIdx].pt\n",
        "          #im1_pts[i] = f1[m[0]].pt\n",
        "          #im2_pts[i] = f2[m[1]].pt             \n",
        "          \n",
        "        H_estimate=compute_Homography(im1_pts,im2_pts)\n",
        "        \n",
        "               \n",
        "        # Calculate the inliers for the H\n",
        "        inliers = get_inliers(f1, f2, matches, H_estimate, RANSACthresh)\n",
        "\n",
        "        # if the number of inliers is higher than previous iterations, update the best estimates\n",
        "        if len(inliers) > nBest:\n",
        "            nBest= len(inliers)\n",
        "            best_inliers = inliers\n",
        "\n",
        "    print(\"Number of best inliers\",len(best_inliers))\n",
        "    for i in range(len(best_inliers)):\n",
        "      inlier_matchset.append(matches[best_inliers[i]])\n",
        "    \n",
        "    # compute a homography given this set of matches\n",
        "    im1_pts=np.empty((len(best_inliers),2))\n",
        "    im2_pts=np.empty((len(best_inliers),2))\n",
        "    for i in range(0,len(best_inliers)):\n",
        "      m = inlier_matchset[i]\n",
        "      im1_pts[i] = f1[m.queryIdx].pt\n",
        "      im2_pts[i] = f2[m.trainIdx].pt\n",
        "      #im1_pts[i] = f1[m[0]].pt\n",
        "      #im2_pts[i] = f2[m[1]].pt\n",
        "\n",
        "    M=compute_Homography(im1_pts,im2_pts)\n",
        "    return M, best_inliers"
      ],
      "execution_count": 4,
      "outputs": []
    },
    {
      "cell_type": "code",
      "metadata": {
        "id": "RV-a3Gc2CgHC"
      },
      "source": [
        "tqdm = partial(tqdm, position=0, leave=True)"
      ],
      "execution_count": 5,
      "outputs": []
    },
    {
      "cell_type": "code",
      "metadata": {
        "id": "43ZzIO2rDcxW"
      },
      "source": [
        "files_all=[]\n",
        "for file in os.listdir(\"/content/drive/MyDrive/MAP-20210707T092105Z-001/MAP\"):\n",
        "    if file.endswith(\".JPG\"):\n",
        "      files_all.append(file)\n",
        "\n",
        "\n",
        "files_all.sort()\n",
        "folder_path = '/content/drive/MyDrive/MAP-20210707T092105Z-001/MAP/'\n",
        "\n",
        "#centre_file = folder_path + files_all[50]\n",
        "left_files_path_rev = []\n",
        "right_files_path = []\n",
        "\n",
        "\n",
        "#Change this according to your dataset split\n",
        "\n",
        "for file in files_all[:31]:\n",
        "  left_files_path_rev.append(folder_path + file)\n",
        "\n",
        "left_files_path = left_files_path_rev[::-1]\n",
        "\n",
        "for file in files_all[30:60]:\n",
        "  right_files_path.append(folder_path + file)"
      ],
      "execution_count": 6,
      "outputs": []
    },
    {
      "cell_type": "code",
      "metadata": {
        "colab": {
          "base_uri": "https://localhost:8080/"
        },
        "id": "lqngRpI6UabS",
        "outputId": "e15e58cf-17fa-44ff-bf7a-c6584d91d3bf"
      },
      "source": [
        "print(len(files_all))"
      ],
      "execution_count": 7,
      "outputs": [
        {
          "output_type": "stream",
          "text": [
            "176\n"
          ],
          "name": "stdout"
        }
      ]
    },
    {
      "cell_type": "code",
      "metadata": {
        "id": "ERrE4NuoDcqr"
      },
      "source": [
        "from multiprocessing import Pool"
      ],
      "execution_count": 8,
      "outputs": []
    },
    {
      "cell_type": "code",
      "metadata": {
        "colab": {
          "base_uri": "https://localhost:8080/"
        },
        "id": "cJYWbq9HDcaS",
        "outputId": "1c5ec399-1dd9-449b-a861-b0a47974681d"
      },
      "source": [
        "import multiprocessing\n",
        "print(multiprocessing.cpu_count())\n"
      ],
      "execution_count": 9,
      "outputs": [
        {
          "output_type": "stream",
          "text": [
            "2\n"
          ],
          "name": "stdout"
        }
      ]
    },
    {
      "cell_type": "code",
      "metadata": {
        "colab": {
          "base_uri": "https://localhost:8080/"
        },
        "id": "SiG8CVOtHaP-",
        "outputId": "ba8eeb5f-09bf-41b5-b423-6564ac8ebc72"
      },
      "source": [
        "gridsize = 8\n",
        "clahe = cv2.createCLAHE(clipLimit=2.0,tileGridSize=(gridsize,gridsize))\n",
        "\n",
        "images_left_bgr = []\n",
        "images_right_bgr = []\n",
        "\n",
        "images_left = []\n",
        "images_right = []\n",
        "\n",
        "for file in tqdm(left_files_path):\n",
        "  left_image_sat= cv2.imread(file)\n",
        "  lab = cv2.cvtColor(left_image_sat, cv2.COLOR_BGR2LAB)\n",
        "  lab[...,0] = clahe.apply(lab[...,0])\n",
        "  left_image_sat = cv2.cvtColor(lab, cv2.COLOR_LAB2BGR)\n",
        "  left_img = cv2.resize(left_image_sat,None,fx=0.75, fy=0.75, interpolation = cv2.INTER_CUBIC )\n",
        "  images_left.append(cv2.cvtColor(left_img, cv2.COLOR_BGR2GRAY).astype('float32')/255.)\n",
        "  images_left_bgr.append(left_img)\n",
        "\n",
        "\n",
        "for file in tqdm(right_files_path):\n",
        "  right_image_sat= cv2.imread(file)\n",
        "  lab = cv2.cvtColor(right_image_sat, cv2.COLOR_BGR2LAB)\n",
        "  lab[...,0] = clahe.apply(lab[...,0])\n",
        "  right_image_sat = cv2.cvtColor(lab, cv2.COLOR_LAB2BGR)\n",
        "  right_img = cv2.resize(right_image_sat,None,fx=0.75,fy=0.75, interpolation = cv2.INTER_CUBIC )\n",
        "  images_right.append(cv2.cvtColor(right_img, cv2.COLOR_BGR2GRAY).astype('float32')/255.)\n",
        "  images_right_bgr.append(right_img)"
      ],
      "execution_count": 10,
      "outputs": [
        {
          "output_type": "stream",
          "text": [
            "100%|██████████| 31/31 [00:34<00:00,  1.11s/it]\n",
            "100%|██████████| 30/30 [00:33<00:00,  1.10s/it]\n"
          ],
          "name": "stderr"
        }
      ]
    },
    {
      "cell_type": "code",
      "metadata": {
        "id": "QZZ5LCMiUjBR"
      },
      "source": [
        "Dataset = 'MAP Dataset'"
      ],
      "execution_count": 11,
      "outputs": []
    },
    {
      "cell_type": "code",
      "metadata": {
        "colab": {
          "base_uri": "https://localhost:8080/"
        },
        "id": "DcRM1Hn0HaKt",
        "outputId": "8ba5164b-d7dd-4f3d-c666-b8cb75f8b4ba"
      },
      "source": [
        "f=h5.File(f'drive/MyDrive/all_images_bgr_{Dataset}.h5','w')\n",
        "t0=time.time()\n",
        "f.create_dataset('data',data=images_left_bgr + images_right_bgr)\n",
        "f.close()\n",
        "print('HDF5  w/o comp.:',time.time()-t0,'[s] ... size',os.path.getsize(f'drive/MyDrive/all_images_bgr_{Dataset}.h5')/1.e6,'MB')"
      ],
      "execution_count": 12,
      "outputs": [
        {
          "output_type": "stream",
          "text": [
            "HDF5  w/o comp.: 20.903094053268433 [s] ... size 2054.8256 MB\n"
          ],
          "name": "stdout"
        }
      ]
    },
    {
      "cell_type": "code",
      "metadata": {
        "id": "k7daORhhPUlY"
      },
      "source": [
        "'''\n",
        "f=h5.File(f'drive/MyDrive/all_images_gray_{Dataset}.h5','w')\n",
        "t0=time.time()\n",
        "f.create_dataset('data',data=images_left + images_right)\n",
        "f.close()\n",
        "print('HDF5  w/o comp.:',time.time()-t0,'[s] ... size',os.path.getsize(f'drive/MyDrive/all_images_gray_{Dataset}.h5')/1.e6,'MB')"
      ],
      "execution_count": null,
      "outputs": []
    },
    {
      "cell_type": "code",
      "metadata": {
        "id": "WuMrRmX4PUe1"
      },
      "source": [
        "del images_left_bgr,images_right_bgr"
      ],
      "execution_count": 13,
      "outputs": []
    },
    {
      "cell_type": "code",
      "metadata": {
        "id": "Vu0CPw_HPUXk"
      },
      "source": [
        "#images_left_bgr_no_enhance = []\n",
        "#images_right_bgr_no_enhance = []\n",
        "\n",
        "#for file in tqdm(left_files_path):\n",
        "#  left_image_sat= cv2.imread(file)\n",
        "#  left_img = cv2.resize(left_image_sat,None,fx=0.35, fy=0.35, interpolation = cv2.INTER_CUBIC)\n",
        "#  images_left_bgr_no_enhance.append(left_img)\n",
        "\n",
        "#for file in tqdm(right_files_path):\n",
        "# right_image_sat= cv2.imread(file)\n",
        "#  right_img = cv2.resize(right_image_sat,None,fx=0.35,fy=0.35, interpolation = cv2.INTER_CUBIC)\n",
        "#  images_right_bgr_no_enhance.append(right_img)"
      ],
      "execution_count": null,
      "outputs": []
    },
    {
      "cell_type": "code",
      "metadata": {
        "id": "Pw1048ZtPUPW"
      },
      "source": [
        "from timeit import default_timer as timer"
      ],
      "execution_count": 14,
      "outputs": []
    },
    {
      "cell_type": "code",
      "metadata": {
        "id": "nEz_15CQRVZ4"
      },
      "source": [
        "time_all = []"
      ],
      "execution_count": 15,
      "outputs": []
    },
    {
      "cell_type": "code",
      "metadata": {
        "id": "Q6qDnTfWRnoy"
      },
      "source": [
        "num_kps_sift = []\n",
        "num_kps_brisk = []\n",
        "num_kps_agast = []\n",
        "num_kps_kaze = []\n",
        "num_kps_akaze = []\n",
        "num_kps_orb = []\n",
        "num_kps_mser = []\n",
        "num_kps_daisy = []\n",
        "num_kps_surfsift = []\n",
        "num_kps_fast = []\n",
        "num_kps_freak = []\n",
        "num_kps_gftt = []\n",
        "num_kps_star = []\n",
        "num_kps_surf = []\n",
        "num_kps_rootsift = []\n",
        "num_kps_superpoint = []\n"
      ],
      "execution_count": 16,
      "outputs": []
    },
    {
      "cell_type": "code",
      "metadata": {
        "id": "NwwNaN8fE1QP"
      },
      "source": [
        "images_left_bgr=[]\n",
        "images_right_bgr=[]"
      ],
      "execution_count": 17,
      "outputs": []
    },
    {
      "cell_type": "markdown",
      "metadata": {
        "id": "0XzUMd-6AvOu"
      },
      "source": [
        "BRISK"
      ]
    },
    {
      "cell_type": "code",
      "metadata": {
        "colab": {
          "base_uri": "https://localhost:8080/"
        },
        "id": "vEgZRVa2AtnF",
        "outputId": "890fec6f-abfd-424b-e45b-0ecc14e6edc0"
      },
      "source": [
        "'''Threshl=60;\n",
        "Octaves=6; \n",
        "#PatternScales=1.0f;\n",
        "\n",
        "start = timer()\n",
        "\n",
        "brisk = cv2.BRISK_create(Threshl,Octaves)\n",
        "\n",
        "\n",
        "keypoints_all_left_brisk = []\n",
        "descriptors_all_left_brisk = []\n",
        "points_all_left_brisk=[]\n",
        "\n",
        "keypoints_all_right_brisk = []\n",
        "descriptors_all_right_brisk = []\n",
        "points_all_right_brisk=[]\n",
        "\n",
        "for cnt in tqdm(range(len(left_files_path))):\n",
        "  f=h5.File(f'drive/MyDrive/all_images_bgr_{Dataset}.h5','r')\n",
        "  imgs = f['data'][cnt]\n",
        "  f.close()  \n",
        "  kpt = brisk.detect(imgs,None)\n",
        "  kpt,descrip =  brisk.compute(imgs, kpt)\n",
        "  keypoints_all_left_brisk.append(kpt)\n",
        "  descriptors_all_left_brisk.append(descrip)\n",
        "  #points_all_left_brisk.append(np.asarray([[p.pt[0], p.pt[1]] for p in kpt]))\n",
        "\n",
        "for cnt in tqdm(range(len(right_files_path))):\n",
        "  f=h5.File(f'drive/MyDrive/all_images_bgr_{Dataset}.h5','r')\n",
        "  imgs = f['data'][cnt+len(left_files_path)]\n",
        "  f.close()  \n",
        "  kpt = brisk.detect(imgs,None)\n",
        "  kpt,descrip =  brisk.compute(imgs, kpt)\n",
        "  keypoints_all_right_brisk.append(kpt)\n",
        "  descriptors_all_right_brisk.append(descrip)\n",
        "  #points_all_right_brisk.append(np.asarray([[p.pt[0], p.pt[1]] for p in kpt]))\n",
        "\n",
        "end = timer()\n",
        "\n",
        "time_all.append(end-start)"
      ],
      "execution_count": null,
      "outputs": [
        {
          "output_type": "stream",
          "text": [
            "100%|██████████| 61/61 [01:20<00:00,  1.32s/it]\n",
            "100%|██████████| 60/60 [01:24<00:00,  1.41s/it]\n"
          ],
          "name": "stderr"
        }
      ]
    },
    {
      "cell_type": "code",
      "metadata": {
        "colab": {
          "base_uri": "https://localhost:8080/"
        },
        "id": "t-kBwl3FAtc2",
        "outputId": "17a409d9-8a22-4740-bfa4-a0f89e3c90c9"
      },
      "source": [
        "'''for j in tqdm(keypoints_all_left_brisk + keypoints_all_right_brisk[1:]):\n",
        "  num_kps_brisk.append(len(j))"
      ],
      "execution_count": null,
      "outputs": [
        {
          "output_type": "stream",
          "text": [
            "100%|██████████| 120/120 [00:00<00:00, 330911.56it/s]\n"
          ],
          "name": "stderr"
        }
      ]
    },
    {
      "cell_type": "code",
      "metadata": {
        "id": "toJp9ANJA1B7"
      },
      "source": [
        "'''all_feat_brisk_left = []\n",
        "for cnt,kpt_all in enumerate(keypoints_all_left_brisk):\n",
        "  all_feat_brisk_left_each = []\n",
        "  for cnt_each, kpt in enumerate(kpt_all):\n",
        "    desc = descriptors_all_left_brisk[cnt][cnt_each]\n",
        "    temp = (kpt.pt, kpt.size, kpt.angle, kpt.response, kpt.octave, \n",
        "        kpt.class_id, desc)\n",
        "    all_feat_brisk_left_each.append(temp)\n",
        "  all_feat_brisk_left.append(all_feat_brisk_left_each)"
      ],
      "execution_count": null,
      "outputs": []
    },
    {
      "cell_type": "code",
      "metadata": {
        "id": "wCJoIhp3A0-_"
      },
      "source": [
        "'''all_feat_brisk_right = []\n",
        "for cnt,kpt_all in enumerate(keypoints_all_right_brisk):\n",
        "  all_feat_brisk_right_each = []\n",
        "  for cnt_each, kpt in enumerate(kpt_all):\n",
        "    desc = descriptors_all_right_brisk[cnt][cnt_each]\n",
        "    temp = (kpt.pt, kpt.size, kpt.angle, kpt.response, kpt.octave, \n",
        "        kpt.class_id, desc)\n",
        "    all_feat_brisk_right_each.append(temp)\n",
        "  all_feat_brisk_right.append(all_feat_brisk_right_each)"
      ],
      "execution_count": null,
      "outputs": []
    },
    {
      "cell_type": "code",
      "metadata": {
        "id": "W50kDEIyA07K"
      },
      "source": [
        "'''del keypoints_all_left_brisk, keypoints_all_right_brisk, descriptors_all_left_brisk, descriptors_all_right_brisk"
      ],
      "execution_count": null,
      "outputs": []
    },
    {
      "cell_type": "code",
      "metadata": {
        "id": "K9phujFrA04X"
      },
      "source": [
        "'''import pickle\n",
        "Fdb = open('all_feat_brisk_left.dat', 'wb')\n",
        "pickle.dump(all_feat_brisk_left,Fdb,-1)\n",
        "Fdb.close()"
      ],
      "execution_count": null,
      "outputs": []
    },
    {
      "cell_type": "code",
      "metadata": {
        "id": "VzyVXsHwA00p"
      },
      "source": [
        "'''import pickle\n",
        "Fdb = open('all_feat_brisk_right.dat', 'wb')\n",
        "pickle.dump(all_feat_brisk_right,Fdb,-1)\n",
        "Fdb.close()"
      ],
      "execution_count": null,
      "outputs": []
    },
    {
      "cell_type": "code",
      "metadata": {
        "id": "xULi5lVwA0vZ"
      },
      "source": [
        "'''del Fdb, all_feat_brisk_left, all_feat_brisk_right"
      ],
      "execution_count": null,
      "outputs": []
    },
    {
      "cell_type": "markdown",
      "metadata": {
        "id": "JYC1agZ6BBZo"
      },
      "source": [
        "ORB"
      ]
    },
    {
      "cell_type": "code",
      "metadata": {
        "id": "TQ4R8QrDA_Zr",
        "colab": {
          "base_uri": "https://localhost:8080/"
        },
        "outputId": "c64270c3-c766-4034-f385-19855fd0a130"
      },
      "source": [
        "'''orb = cv2.ORB_create(20000)\n",
        "\n",
        "start = timer()\n",
        "\n",
        "\n",
        "keypoints_all_left_orb = []\n",
        "descriptors_all_left_orb = []\n",
        "points_all_left_orb=[]\n",
        "\n",
        "keypoints_all_right_orb = []\n",
        "descriptors_all_right_orb = []\n",
        "points_all_right_orb=[]\n",
        "\n",
        "for cnt in tqdm(range(len(left_files_path))):\n",
        "  f=h5.File(f'drive/MyDrive/all_images_bgr_{Dataset}.h5','r')\n",
        "  imgs = f['data'][cnt]\n",
        "  f.close()    \n",
        "  kpt = orb.detect(imgs,None)\n",
        "  kpt,descrip =  orb.compute(imgs, kpt)\n",
        "  keypoints_all_left_orb.append(kpt)\n",
        "  descriptors_all_left_orb.append(descrip)\n",
        "  #points_all_left_orb.append(np.asarray([[p.pt[0], p.pt[1]] for p in kpt]))\n",
        "\n",
        "for cnt in tqdm(range(len(right_files_path))):\n",
        "  f=h5.File(f'drive/MyDrive/all_images_bgr_{Dataset}.h5','r')\n",
        "  imgs = f['data'][cnt+len(left_files_path)]\n",
        "  f.close()  \n",
        "  kpt = orb.detect(imgs,None)\n",
        "  kpt,descrip =  orb.compute(imgs, kpt)\n",
        "  keypoints_all_right_orb.append(kpt)\n",
        "  descriptors_all_right_orb.append(descrip)\n",
        "  #points_all_right_orb.append(np.asarray([[p.pt[0], p.pt[1]] for p in kpt]))\n",
        "\n",
        "end = timer()\n",
        "\n",
        "time_all.append(end-start)"
      ],
      "execution_count": null,
      "outputs": [
        {
          "output_type": "stream",
          "text": [
            "100%|██████████| 61/61 [00:18<00:00,  3.38it/s]\n",
            "100%|██████████| 60/60 [00:17<00:00,  3.44it/s]\n"
          ],
          "name": "stderr"
        }
      ]
    },
    {
      "cell_type": "code",
      "metadata": {
        "id": "6a6mfgoZA_To",
        "colab": {
          "base_uri": "https://localhost:8080/"
        },
        "outputId": "a5358cbe-f3f2-43bf-bbc7-0ae0f96e1296"
      },
      "source": [
        "'''for j in tqdm(keypoints_all_left_orb + keypoints_all_right_orb[1:]):\n",
        "  num_kps_orb.append(len(j))"
      ],
      "execution_count": null,
      "outputs": [
        {
          "output_type": "stream",
          "text": [
            "100%|██████████| 120/120 [00:00<00:00, 66779.42it/s]\n"
          ],
          "name": "stderr"
        }
      ]
    },
    {
      "cell_type": "code",
      "metadata": {
        "id": "-djChAE5A_Q8"
      },
      "source": [
        "'''all_feat_orb_left = []\n",
        "for cnt,kpt_all in enumerate(keypoints_all_left_orb):\n",
        "  all_feat_orb_left_each = []\n",
        "  for cnt_each, kpt in enumerate(kpt_all):\n",
        "    desc = descriptors_all_left_orb[cnt][cnt_each]\n",
        "    temp = (kpt.pt, kpt.size, kpt.angle, kpt.response, kpt.octave, \n",
        "        kpt.class_id, desc)\n",
        "    all_feat_orb_left_each.append(temp)\n",
        "  all_feat_orb_left.append(all_feat_orb_left_each)"
      ],
      "execution_count": null,
      "outputs": []
    },
    {
      "cell_type": "code",
      "metadata": {
        "id": "SameNN1xA_NJ"
      },
      "source": [
        "'''all_feat_orb_right = []\n",
        "for cnt,kpt_all in enumerate(keypoints_all_right_orb):\n",
        "  all_feat_orb_right_each = []\n",
        "  for cnt_each, kpt in enumerate(kpt_all):\n",
        "    desc = descriptors_all_right_orb[cnt][cnt_each]\n",
        "    temp = (kpt.pt, kpt.size, kpt.angle, kpt.response, kpt.octave, \n",
        "        kpt.class_id, desc)\n",
        "    all_feat_orb_right_each.append(temp)\n",
        "  all_feat_orb_right.append(all_feat_orb_right_each)"
      ],
      "execution_count": null,
      "outputs": []
    },
    {
      "cell_type": "code",
      "metadata": {
        "id": "ZewtuV_dA_JC"
      },
      "source": [
        "'''del keypoints_all_left_orb, keypoints_all_right_orb, descriptors_all_left_orb, descriptors_all_right_orb"
      ],
      "execution_count": null,
      "outputs": []
    },
    {
      "cell_type": "code",
      "metadata": {
        "id": "GkiRp1evBLeA"
      },
      "source": [
        "'''import pickle\n",
        "Fdb = open('all_feat_orb_left.dat', 'wb')\n",
        "pickle.dump(all_feat_orb_left,Fdb,-1)\n",
        "Fdb.close()"
      ],
      "execution_count": null,
      "outputs": []
    },
    {
      "cell_type": "code",
      "metadata": {
        "id": "vaGMXXk3BLa3"
      },
      "source": [
        "'''import pickle\n",
        "Fdb = open('all_feat_orb_right.dat', 'wb')\n",
        "pickle.dump(all_feat_orb_right,Fdb,-1)\n",
        "Fdb.close()"
      ],
      "execution_count": null,
      "outputs": []
    },
    {
      "cell_type": "code",
      "metadata": {
        "id": "Q6U0t9SKBLYX"
      },
      "source": [
        "'''del Fdb, all_feat_orb_left, all_feat_orb_right"
      ],
      "execution_count": null,
      "outputs": []
    },
    {
      "cell_type": "markdown",
      "metadata": {
        "id": "mpoh-2DHWFSW"
      },
      "source": [
        "KAZE\n"
      ]
    },
    {
      "cell_type": "code",
      "metadata": {
        "colab": {
          "base_uri": "https://localhost:8080/"
        },
        "id": "kvn4HVDOvquh",
        "outputId": "8d203800-8327-4536-f8d1-f625f255a7bf"
      },
      "source": [
        "'''start = timer()\n",
        "\n",
        "kaze = cv2.KAZE_create()\n",
        "\n",
        "\n",
        "keypoints_all_left_kaze = []\n",
        "descriptors_all_left_kaze = []\n",
        "points_all_left_kaze=[]\n",
        "\n",
        "keypoints_all_right_kaze = []\n",
        "descriptors_all_right_kaze = []\n",
        "points_all_right_kaze=[]\n",
        "\n",
        "for cnt in tqdm(range(len(left_files_path))):\n",
        "  f=h5.File(f'drive/MyDrive/all_images_bgr_{Dataset}.h5','r')\n",
        "  imgs = f['data'][cnt]\n",
        "  f.close()     \n",
        "  kpt = kaze.detect(imgs,None)\n",
        "  kpt,descrip =  kaze.compute(imgs, kpt)\n",
        "  keypoints_all_left_kaze.append(kpt)\n",
        "  descriptors_all_left_kaze.append(descrip)\n",
        "  #points_all_left_kaze.append(np.asarray([[p.pt[0], p.pt[1]] for p in kpt]))\n",
        "\n",
        "for cnt in tqdm(range(len(right_files_path))):\n",
        "  f=h5.File(f'drive/MyDrive/all_images_bgr_{Dataset}.h5','r')\n",
        "  imgs = f['data'][cnt+len(left_files_path)]\n",
        "  f.close()  \n",
        "  kpt = kaze.detect(imgs,None)\n",
        "  kpt,descrip =  kaze.compute(imgs, kpt)\n",
        "  keypoints_all_right_kaze.append(kpt)\n",
        "  descriptors_all_right_kaze.append(descrip)\n",
        "  #points_all_right_kaze.append(np.asarray([[p.pt[0], p.pt[1]] for p in kpt]))\n",
        "\n",
        "end = timer()\n",
        "\n",
        "time_all.append(end-start)"
      ],
      "execution_count": null,
      "outputs": [
        {
          "output_type": "stream",
          "text": [
            "100%|██████████| 61/61 [07:18<00:00,  7.19s/it]\n",
            "100%|██████████| 60/60 [07:19<00:00,  7.32s/it]\n"
          ],
          "name": "stderr"
        }
      ]
    },
    {
      "cell_type": "code",
      "metadata": {
        "colab": {
          "base_uri": "https://localhost:8080/"
        },
        "id": "a7j0fqIeRVPF",
        "outputId": "2625d3da-1985-4006-ca1d-57343890df5b"
      },
      "source": [
        "'''for j in tqdm(keypoints_all_left_kaze + keypoints_all_right_kaze[1:]):\n",
        "  num_kps_kaze.append(len(j))"
      ],
      "execution_count": null,
      "outputs": [
        {
          "output_type": "stream",
          "text": [
            "100%|██████████| 120/120 [00:00<00:00, 169924.54it/s]\n"
          ],
          "name": "stderr"
        }
      ]
    },
    {
      "cell_type": "code",
      "metadata": {
        "id": "GnxCPMDvRVKW"
      },
      "source": [
        "'''all_feat_kaze_left = []\n",
        "for cnt,kpt_all in enumerate(keypoints_all_left_kaze):\n",
        "  all_feat_kaze_left_each = []\n",
        "  for cnt_each, kpt in enumerate(kpt_all):\n",
        "    desc = descriptors_all_left_kaze[cnt][cnt_each]\n",
        "    temp = (kpt.pt, kpt.size, kpt.angle, kpt.response, kpt.octave, \n",
        "        kpt.class_id, desc)\n",
        "    all_feat_kaze_left_each.append(temp)\n",
        "  all_feat_kaze_left.append(all_feat_kaze_left_each)"
      ],
      "execution_count": null,
      "outputs": []
    },
    {
      "cell_type": "code",
      "metadata": {
        "id": "n_rsRaTnRVEq"
      },
      "source": [
        "'''all_feat_kaze_right = []\n",
        "for cnt,kpt_all in enumerate(keypoints_all_right_kaze):\n",
        "  all_feat_kaze_right_each = []\n",
        "  for cnt_each, kpt in enumerate(kpt_all):\n",
        "    desc = descriptors_all_right_kaze[cnt][cnt_each]\n",
        "    temp = (kpt.pt, kpt.size, kpt.angle, kpt.response, kpt.octave, \n",
        "        kpt.class_id, desc)\n",
        "    all_feat_kaze_right_each.append(temp)\n",
        "  all_feat_kaze_right.append(all_feat_kaze_right_each)"
      ],
      "execution_count": null,
      "outputs": []
    },
    {
      "cell_type": "code",
      "metadata": {
        "id": "CmnJdV8KRU-6"
      },
      "source": [
        "'''del keypoints_all_left_kaze, keypoints_all_right_kaze, descriptors_all_left_kaze, descriptors_all_right_kaze"
      ],
      "execution_count": null,
      "outputs": []
    },
    {
      "cell_type": "code",
      "metadata": {
        "id": "oE-eS6B1RU4M"
      },
      "source": [
        "'''import pickle\n",
        "Fdb = open('all_feat_kaze_left.dat', 'wb')\n",
        "pickle.dump(all_feat_kaze_left,Fdb,-1)\n",
        "Fdb.close()"
      ],
      "execution_count": null,
      "outputs": []
    },
    {
      "cell_type": "code",
      "metadata": {
        "id": "jLSfTjxNRUyE"
      },
      "source": [
        "'''import pickle\n",
        "Fdb = open('all_feat_kaze_right.dat', 'wb')\n",
        "pickle.dump(all_feat_kaze_right,Fdb,-1)\n",
        "Fdb.close()"
      ],
      "execution_count": null,
      "outputs": []
    },
    {
      "cell_type": "code",
      "metadata": {
        "id": "ixbUx2XYRUpu"
      },
      "source": [
        "'''del Fdb, all_feat_kaze_left, all_feat_kaze_right"
      ],
      "execution_count": null,
      "outputs": []
    },
    {
      "cell_type": "markdown",
      "metadata": {
        "id": "_A6LaNo9BZih"
      },
      "source": [
        "AKAZE"
      ]
    },
    {
      "cell_type": "code",
      "metadata": {
        "id": "1jxJlohmVPtb"
      },
      "source": [
        "'''from functools import partial\n",
        "from tqdm import tqdm\n",
        "tqdm = partial(tqdm, position=0, leave=True)"
      ],
      "execution_count": null,
      "outputs": []
    },
    {
      "cell_type": "code",
      "metadata": {
        "id": "-u2IUSGdVPli",
        "colab": {
          "base_uri": "https://localhost:8080/"
        },
        "outputId": "05ba4ff5-e53b-4916-ab31-081127674436"
      },
      "source": [
        "'''start = timer()\n",
        "\n",
        "akaze = cv2.AKAZE_create()\n",
        "\n",
        "\n",
        "keypoints_all_left_akaze = []\n",
        "descriptors_all_left_akaze = []\n",
        "points_all_left_akaze=[]\n",
        "\n",
        "keypoints_all_right_akaze = []\n",
        "descriptors_all_right_akaze = []\n",
        "points_all_right_akaze=[]\n",
        "\n",
        "for cnt in tqdm(range(len(left_files_path))):\n",
        "  f=h5.File(f'drive/MyDrive/all_images_bgr_{Dataset}.h5','r')\n",
        "  imgs = f['data'][cnt]\n",
        "  f.close()     \n",
        "  kpt = akaze.detect(imgs,None)\n",
        "  kpt,descrip =  akaze.compute(imgs, kpt)\n",
        "  keypoints_all_left_akaze.append(kpt)\n",
        "  descriptors_all_left_akaze.append(descrip)\n",
        "  #points_all_left_akaze.append(np.asarray([[p.pt[0], p.pt[1]] for p in kpt]))\n",
        "\n",
        "for cnt in tqdm(range(len(right_files_path))):\n",
        "  f=h5.File(f'drive/MyDrive/all_images_bgr_{Dataset}.h5','r')\n",
        "  imgs = f['data'][cnt+len(left_files_path)]\n",
        "  f.close()  \n",
        "  kpt = akaze.detect(imgs,None)\n",
        "  kpt,descrip = akaze.compute(imgs, kpt)\n",
        "  keypoints_all_right_akaze.append(kpt)\n",
        "  descriptors_all_right_akaze.append(descrip)\n",
        "  #points_all_right_akaze.append(np.asarray([[p.pt[0], p.pt[1]] for p in kpt]))\n",
        "\n",
        "end = timer()\n",
        "\n",
        "time_all.append(end-start)"
      ],
      "execution_count": null,
      "outputs": [
        {
          "output_type": "stream",
          "text": [
            "100%|██████████| 61/61 [01:27<00:00,  1.44s/it]\n",
            "100%|██████████| 60/60 [01:28<00:00,  1.47s/it]\n"
          ],
          "name": "stderr"
        }
      ]
    },
    {
      "cell_type": "code",
      "metadata": {
        "id": "Efye6tC2Bfg_",
        "colab": {
          "base_uri": "https://localhost:8080/"
        },
        "outputId": "2b404a22-fa71-413f-acbb-591e482160f8"
      },
      "source": [
        "'''for j in tqdm(keypoints_all_left_akaze + keypoints_all_right_akaze[1:]):\n",
        "  num_kps_akaze.append(len(j))"
      ],
      "execution_count": null,
      "outputs": [
        {
          "output_type": "stream",
          "text": [
            "100%|██████████| 120/120 [00:00<00:00, 18709.95it/s]\n"
          ],
          "name": "stderr"
        }
      ]
    },
    {
      "cell_type": "code",
      "metadata": {
        "id": "u6YLQN2lBfbV"
      },
      "source": [
        "'''all_feat_akaze_left = []\n",
        "for cnt,kpt_all in enumerate(keypoints_all_left_akaze):\n",
        "  all_feat_akaze_left_each = []\n",
        "  for cnt_each, kpt in enumerate(kpt_all):\n",
        "    desc = descriptors_all_left_akaze[cnt][cnt_each]\n",
        "    temp = (kpt.pt, kpt.size, kpt.angle, kpt.response, kpt.octave, \n",
        "        kpt.class_id, desc)\n",
        "    all_feat_akaze_left_each.append(temp)\n",
        "  all_feat_akaze_left.append(all_feat_akaze_left_each)"
      ],
      "execution_count": null,
      "outputs": []
    },
    {
      "cell_type": "code",
      "metadata": {
        "id": "uOiE4zUkBfXj"
      },
      "source": [
        "'''all_feat_akaze_right = []\n",
        "for cnt,kpt_all in enumerate(keypoints_all_right_akaze):\n",
        "  all_feat_akaze_right_each = []\n",
        "  for cnt_each, kpt in enumerate(kpt_all):\n",
        "    desc = descriptors_all_right_akaze[cnt][cnt_each]\n",
        "    temp = (kpt.pt, kpt.size, kpt.angle, kpt.response, kpt.octave, \n",
        "        kpt.class_id, desc)\n",
        "    all_feat_akaze_right_each.append(temp)\n",
        "  all_feat_akaze_right.append(all_feat_akaze_right_each)"
      ],
      "execution_count": null,
      "outputs": []
    },
    {
      "cell_type": "code",
      "metadata": {
        "id": "Bp-XefAKBfUV"
      },
      "source": [
        "'''del keypoints_all_left_akaze, keypoints_all_right_akaze, descriptors_all_left_akaze, descriptors_all_right_akaze"
      ],
      "execution_count": null,
      "outputs": []
    },
    {
      "cell_type": "code",
      "metadata": {
        "id": "kbHSQehqBfQN"
      },
      "source": [
        "'''import pickle\n",
        "Fdb = open('all_feat_akaze_left.dat', 'wb')\n",
        "pickle.dump(all_feat_akaze_left,Fdb,-1)\n",
        "Fdb.close()"
      ],
      "execution_count": null,
      "outputs": []
    },
    {
      "cell_type": "code",
      "metadata": {
        "id": "qsZSDbuQBfM9"
      },
      "source": [
        "'''import pickle\n",
        "Fdb = open('all_feat_akaze_right.dat', 'wb')\n",
        "pickle.dump(all_feat_akaze_right,Fdb,-1)\n",
        "Fdb.close()"
      ],
      "execution_count": null,
      "outputs": []
    },
    {
      "cell_type": "code",
      "metadata": {
        "id": "RnV2d_GRBrcH"
      },
      "source": [
        "'''del Fdb, all_feat_akaze_left, all_feat_akaze_right"
      ],
      "execution_count": null,
      "outputs": []
    },
    {
      "cell_type": "markdown",
      "metadata": {
        "id": "KRpih8uqCSc9"
      },
      "source": [
        "\n",
        "STAR + BRIEF"
      ]
    },
    {
      "cell_type": "code",
      "metadata": {
        "id": "fttzUuuNCVhp",
        "colab": {
          "base_uri": "https://localhost:8080/"
        },
        "outputId": "05fa3622-27ff-414c-b62f-489413836155"
      },
      "source": [
        "'''start = timer()\n",
        "\n",
        "star = cv2.xfeatures2d.StarDetector_create()\n",
        "brief = cv2.xfeatures2d.BriefDescriptorExtractor_create()\n",
        "\n",
        "keypoints_all_left_star = []\n",
        "descriptors_all_left_brief = []\n",
        "points_all_left_star=[]\n",
        "\n",
        "keypoints_all_right_star = []\n",
        "descriptors_all_right_brief = []\n",
        "points_all_right_star=[]\n",
        "\n",
        "for cnt in tqdm(range(len(left_files_path))):\n",
        "  f=h5.File(f'drive/MyDrive/all_images_bgr_{Dataset}.h5','r')\n",
        "  imgs = f['data'][cnt]\n",
        "  f.close()     \n",
        "  kpt = star.detect(imgs,None)\n",
        "  kpt,descrip =  brief.compute(imgs, kpt)\n",
        "  keypoints_all_left_star.append(kpt)\n",
        "  descriptors_all_left_brief.append(descrip)\n",
        "  #points_all_left_star.append(np.asarray([[p.pt[0], p.pt[1]] for p in kpt]))\n",
        "\n",
        "for cnt in tqdm(range(len(right_files_path))):\n",
        "  f=h5.File(f'drive/MyDrive/all_images_bgr_{Dataset}.h5','r')\n",
        "  imgs = f['data'][cnt+len(left_files_path)]\n",
        "  f.close()  \n",
        "  kpt = star.detect(imgs,None)\n",
        "  kpt,descrip =  brief.compute(imgs, kpt)\n",
        "  keypoints_all_right_star.append(kpt)\n",
        "  descriptors_all_right_brief.append(descrip)\n",
        "  #points_all_right_star.append(np.asarray([[p.pt[0], p.pt[1]] for p in kpt]))\n",
        "\n",
        "end = timer()\n",
        "\n",
        "time_all.append(end-start)"
      ],
      "execution_count": null,
      "outputs": [
        {
          "output_type": "stream",
          "text": [
            "100%|██████████| 61/61 [00:12<00:00,  5.07it/s]\n",
            "100%|██████████| 60/60 [00:12<00:00,  5.00it/s]\n"
          ],
          "name": "stderr"
        }
      ]
    },
    {
      "cell_type": "code",
      "metadata": {
        "id": "uppvh4UwCVWp",
        "colab": {
          "base_uri": "https://localhost:8080/"
        },
        "outputId": "14fea1f7-7b9c-49f8-a07c-a25f456b9945"
      },
      "source": [
        "'''for j in tqdm(keypoints_all_left_star + keypoints_all_right_star[1:]):\n",
        "  num_kps_star.append(len(j))"
      ],
      "execution_count": null,
      "outputs": [
        {
          "output_type": "stream",
          "text": [
            "100%|██████████| 120/120 [00:00<00:00, 252795.82it/s]\n"
          ],
          "name": "stderr"
        }
      ]
    },
    {
      "cell_type": "code",
      "metadata": {
        "id": "jWif45XBCVT_"
      },
      "source": [
        "'''all_feat_star_left = []\n",
        "for cnt,kpt_all in enumerate(keypoints_all_left_star):\n",
        "  all_feat_star_left_each = []\n",
        "  for cnt_each, kpt in enumerate(kpt_all):\n",
        "    desc = descriptors_all_left_brief[cnt][cnt_each]\n",
        "    temp = (kpt.pt, kpt.size, kpt.angle, kpt.response, kpt.octave, \n",
        "        kpt.class_id, desc)\n",
        "    all_feat_star_left_each.append(temp)\n",
        "  all_feat_star_left.append(all_feat_star_left_each)"
      ],
      "execution_count": null,
      "outputs": []
    },
    {
      "cell_type": "code",
      "metadata": {
        "id": "C68lTIg8CVQy"
      },
      "source": [
        "'''all_feat_star_right = []\n",
        "for cnt,kpt_all in enumerate(keypoints_all_right_star):\n",
        "  all_feat_star_right_each = []\n",
        "  for cnt_each, kpt in enumerate(kpt_all):\n",
        "    desc = descriptors_all_right_brief[cnt][cnt_each]\n",
        "    temp = (kpt.pt, kpt.size, kpt.angle, kpt.response, kpt.octave, \n",
        "        kpt.class_id, desc)\n",
        "    all_feat_star_right_each.append(temp)\n",
        "  all_feat_star_right.append(all_feat_star_right_each)"
      ],
      "execution_count": null,
      "outputs": []
    },
    {
      "cell_type": "code",
      "metadata": {
        "id": "vtlJNPa5CVMx"
      },
      "source": [
        "'''del keypoints_all_left_star, keypoints_all_right_star, descriptors_all_left_brief, descriptors_all_right_brief"
      ],
      "execution_count": null,
      "outputs": []
    },
    {
      "cell_type": "code",
      "metadata": {
        "id": "i_SedP3HCVJp"
      },
      "source": [
        "'''import pickle\n",
        "Fdb = open('all_feat_star_left.dat', 'wb')\n",
        "pickle.dump(all_feat_star_left,Fdb,-1)\n",
        "Fdb.close()"
      ],
      "execution_count": null,
      "outputs": []
    },
    {
      "cell_type": "code",
      "metadata": {
        "id": "aK3skKAMCVF2"
      },
      "source": [
        "'''import pickle\n",
        "Fdb = open('all_feat_star_right.dat', 'wb')\n",
        "pickle.dump(all_feat_star_right,Fdb,-1)\n",
        "Fdb.close()"
      ],
      "execution_count": null,
      "outputs": []
    },
    {
      "cell_type": "code",
      "metadata": {
        "id": "Xnf8kB3MCU91"
      },
      "source": [
        "'''del Fdb, all_feat_star_left, all_feat_star_right"
      ],
      "execution_count": null,
      "outputs": []
    },
    {
      "cell_type": "markdown",
      "metadata": {
        "id": "VpFFN3FUCoQi"
      },
      "source": [
        "\n",
        "BRISK + FREAK"
      ]
    },
    {
      "cell_type": "code",
      "metadata": {
        "id": "xFjSnoZdCpMa",
        "colab": {
          "base_uri": "https://localhost:8080/"
        },
        "outputId": "5edb5e11-5d52-4bd7-d191-f4501253c9c2"
      },
      "source": [
        "start = timer()\n",
        "\n",
        "Threshl=60;\n",
        "Octaves=6; \n",
        "#PatternScales=1.0f;\n",
        "brisk = cv2.BRISK_create(Threshl,Octaves)\n",
        "\n",
        "freak = cv2.xfeatures2d.FREAK_create()\n",
        "keypoints_all_left_freak = []\n",
        "descriptors_all_left_freak = []\n",
        "points_all_left_freak=[]\n",
        "\n",
        "keypoints_all_right_freak = []\n",
        "descriptors_all_right_freak = []\n",
        "points_all_right_freak=[]\n",
        "\n",
        "\n",
        "for cnt in tqdm(range(len(left_files_path))):\n",
        "  f=h5.File(f'drive/MyDrive/all_images_bgr_{Dataset}.h5','r')\n",
        "  imgs = f['data'][cnt]\n",
        "  f.close()     \n",
        "  kpt = brisk.detect(imgs)\n",
        "  kpt,descrip =  freak.compute(imgs, kpt)\n",
        "  keypoints_all_left_freak.append(kpt)\n",
        "  descriptors_all_left_freak.append(descrip)\n",
        "  #points_all_left_freak.append(np.asarray([[p.pt[0], p.pt[1]] for p in kpt]))\n",
        "\n",
        "for cnt in tqdm(range(len(right_files_path))):\n",
        "  f=h5.File(f'drive/MyDrive/all_images_bgr_{Dataset}.h5','r')\n",
        "  imgs = f['data'][cnt+len(left_files_path)]\n",
        "  f.close()  \n",
        "  kpt = brisk.detect(imgs,None)\n",
        "  kpt,descrip =  freak.compute(imgs, kpt)\n",
        "  keypoints_all_right_freak.append(kpt)\n",
        "  descriptors_all_right_freak.append(descrip)\n",
        "  #points_all_right_freak.append(np.asarray([[p.pt[0], p.pt[1]] for p in kpt]))\n",
        "\n",
        "end = timer()\n",
        "\n",
        "time_all.append(end-start)"
      ],
      "execution_count": 18,
      "outputs": [
        {
          "output_type": "stream",
          "text": [
            "100%|██████████| 31/31 [02:58<00:00,  5.77s/it]\n",
            "100%|██████████| 30/30 [03:17<00:00,  6.58s/it]\n"
          ],
          "name": "stderr"
        }
      ]
    },
    {
      "cell_type": "code",
      "metadata": {
        "id": "eRR-JZgPCqb4",
        "colab": {
          "base_uri": "https://localhost:8080/"
        },
        "outputId": "1eeb9b7b-115f-473b-8333-2cec16b96e34"
      },
      "source": [
        "for j in tqdm(keypoints_all_left_freak + keypoints_all_right_freak[1:]):\n",
        "  num_kps_freak.append(len(j))"
      ],
      "execution_count": 19,
      "outputs": [
        {
          "output_type": "stream",
          "text": [
            "100%|██████████| 60/60 [00:00<00:00, 22988.79it/s]\n"
          ],
          "name": "stderr"
        }
      ]
    },
    {
      "cell_type": "code",
      "metadata": {
        "id": "0suZngLtCqXc"
      },
      "source": [
        "'''\n",
        "all_feat_freak_left = []\n",
        "for cnt,kpt_all in enumerate(keypoints_all_left_freak):\n",
        "  all_feat_freak_left_each = []\n",
        "  for cnt_each, kpt in enumerate(kpt_all):\n",
        "    desc = descriptors_all_left_freak[cnt][cnt_each]\n",
        "    temp = (kpt.pt, kpt.size, kpt.angle, kpt.response, kpt.octave, \n",
        "        kpt.class_id, desc)\n",
        "    all_feat_freak_left_each.append(temp)\n",
        "  all_feat_freak_left.append(all_feat_freak_left_each)"
      ],
      "execution_count": null,
      "outputs": []
    },
    {
      "cell_type": "code",
      "metadata": {
        "id": "T6UEvj4-CqSJ"
      },
      "source": [
        "'''\n",
        "all_feat_freak_right = []\n",
        "for cnt,kpt_all in enumerate(keypoints_all_right_freak):\n",
        "  all_feat_freak_right_each = []\n",
        "  for cnt_each, kpt in enumerate(kpt_all):\n",
        "    desc = descriptors_all_right_freak[cnt][cnt_each]\n",
        "    temp = (kpt.pt, kpt.size, kpt.angle, kpt.response, kpt.octave, \n",
        "        kpt.class_id, desc)\n",
        "    all_feat_freak_right_each.append(temp)\n",
        "  all_feat_freak_right.append(all_feat_freak_right_each)"
      ],
      "execution_count": null,
      "outputs": []
    },
    {
      "cell_type": "code",
      "metadata": {
        "id": "53M9yWIsCqIW"
      },
      "source": [
        "'''\n",
        "del keypoints_all_left_freak, keypoints_all_right_freak, descriptors_all_left_freak, descriptors_all_right_freak"
      ],
      "execution_count": null,
      "outputs": []
    },
    {
      "cell_type": "code",
      "metadata": {
        "id": "uJxhMG_nDKqP"
      },
      "source": [
        "'''\n",
        "import pickle\n",
        "Fdb = open('all_feat_freak_left.dat', 'wb')\n",
        "pickle.dump(all_feat_freak_left,Fdb,-1)\n",
        "Fdb.close()"
      ],
      "execution_count": null,
      "outputs": []
    },
    {
      "cell_type": "code",
      "metadata": {
        "id": "cZxjEc1tDKg5"
      },
      "source": [
        "'''\n",
        "import pickle\n",
        "Fdb = open('all_feat_freak_right.dat', 'wb')\n",
        "pickle.dump(all_feat_freak_right,Fdb,-1)\n",
        "Fdb.close()"
      ],
      "execution_count": null,
      "outputs": []
    },
    {
      "cell_type": "code",
      "metadata": {
        "id": "fNluy3ftDKdI"
      },
      "source": [
        "'''\n",
        "del Fdb, all_feat_freak_left, all_feat_freak_right"
      ],
      "execution_count": null,
      "outputs": []
    },
    {
      "cell_type": "markdown",
      "metadata": {
        "id": "lk6PEqByDSH0"
      },
      "source": [
        "MSER + SIFT"
      ]
    },
    {
      "cell_type": "code",
      "metadata": {
        "id": "YH-9JMRADKW6"
      },
      "source": [
        "'''\n",
        "start = timer()\n",
        "\n",
        "mser = cv2.MSER_create()\n",
        "sift = cv2.xfeatures2d.SIFT_create()\n",
        "\n",
        "keypoints_all_left_mser = []\n",
        "descriptors_all_left_mser = []\n",
        "points_all_left_mser=[]\n",
        "\n",
        "keypoints_all_right_mser = []\n",
        "descriptors_all_right_mser = []\n",
        "points_all_right_mser=[]\n",
        "\n",
        "for cnt in tqdm(range(len(left_files_path))):\n",
        "  f=h5.File(f'drive/MyDrive/all_images_bgr_{Dataset}.h5','r')\n",
        "  imgs = f['data'][cnt]\n",
        "  f.close()     \n",
        "  kpt = mser.detect(imgs,None)\n",
        "  kpt,descrip =  sift.compute(imgs, kpt)\n",
        "  keypoints_all_left_mser.append(kpt)\n",
        "  descriptors_all_left_mser.append(descrip)\n",
        "  #points_all_left_mser.append(np.asarray([[p.pt[0], p.pt[1]] for p in kpt]))\n",
        "\n",
        "for cnt in tqdm(range(len(right_files_path))):\n",
        "  f=h5.File(f'drive/MyDrive/all_images_bgr_{Dataset}.h5','r')\n",
        "  imgs = f['data'][cnt+len(left_files_path)]\n",
        "  f.close()  \n",
        "  kpt = mser.detect(imgs,None)\n",
        "  kpt,descrip =  sift.compute(imgs, kpt)\n",
        "  keypoints_all_right_mser.append(kpt)\n",
        "  descriptors_all_right_mser.append(descrip)\n",
        "  #points_all_right_mser.append(np.asarray([[p.pt[0], p.pt[1]] for p in kpt]))\n",
        "\n",
        "end = timer()\n",
        "\n",
        "time_all.append(end-start)"
      ],
      "execution_count": null,
      "outputs": []
    },
    {
      "cell_type": "code",
      "metadata": {
        "id": "0BstgiHKDKQV"
      },
      "source": [
        "'''\n",
        "for j in tqdm(keypoints_all_left_mser + keypoints_all_right_mser[1:]):\n",
        "  num_kps_mser.append(len(j))"
      ],
      "execution_count": null,
      "outputs": []
    },
    {
      "cell_type": "code",
      "metadata": {
        "id": "ptgNXIMFDWyl"
      },
      "source": [
        "'''\n",
        "all_feat_mser_left = []\n",
        "for cnt,kpt_all in enumerate(keypoints_all_left_mser):\n",
        "  all_feat_mser_left_each = []\n",
        "  for cnt_each, kpt in enumerate(kpt_all):\n",
        "    desc = descriptors_all_left_mser[cnt][cnt_each]\n",
        "    temp = (kpt.pt, kpt.size, kpt.angle, kpt.response, kpt.octave, \n",
        "        kpt.class_id, desc)\n",
        "    all_feat_mser_left_each.append(temp)\n",
        "  all_feat_mser_left.append(all_feat_mser_left_each)"
      ],
      "execution_count": null,
      "outputs": []
    },
    {
      "cell_type": "code",
      "metadata": {
        "id": "y3CvnEpODWu2"
      },
      "source": [
        "'''\n",
        "all_feat_mser_right = []\n",
        "for cnt,kpt_all in enumerate(keypoints_all_right_mser):\n",
        "  all_feat_mser_right_each = []\n",
        "  for cnt_each, kpt in enumerate(kpt_all):\n",
        "    desc = descriptors_all_right_mser[cnt][cnt_each]\n",
        "    temp = (kpt.pt, kpt.size, kpt.angle, kpt.response, kpt.octave, \n",
        "        kpt.class_id, desc)\n",
        "    all_feat_mser_right_each.append(temp)\n",
        "  all_feat_mser_right.append(all_feat_mser_right_each)"
      ],
      "execution_count": null,
      "outputs": []
    },
    {
      "cell_type": "code",
      "metadata": {
        "id": "hQfOmhHHDWrL"
      },
      "source": [
        "'''\n",
        "del keypoints_all_left_mser, keypoints_all_right_mser, descriptors_all_left_mser, descriptors_all_right_mser"
      ],
      "execution_count": null,
      "outputs": []
    },
    {
      "cell_type": "code",
      "metadata": {
        "id": "-2okVS6MDWno"
      },
      "source": [
        "'''\n",
        "import pickle\n",
        "Fdb = open('all_feat_mser_left.dat', 'wb')\n",
        "pickle.dump(all_feat_mser_left,Fdb,-1)\n",
        "Fdb.close()"
      ],
      "execution_count": null,
      "outputs": []
    },
    {
      "cell_type": "code",
      "metadata": {
        "id": "zj6quw8eDWkD"
      },
      "source": [
        "'''\n",
        "import pickle\n",
        "Fdb = open('all_feat_mser_right.dat', 'wb')\n",
        "pickle.dump(all_feat_mser_right,Fdb,-1)\n",
        "Fdb.close()"
      ],
      "execution_count": null,
      "outputs": []
    },
    {
      "cell_type": "code",
      "metadata": {
        "id": "QyDwaVtyDWgX"
      },
      "source": [
        "'''\n",
        "del Fdb, all_feat_mser_left, all_feat_mser_right"
      ],
      "execution_count": null,
      "outputs": []
    },
    {
      "cell_type": "markdown",
      "metadata": {
        "id": "igrL8pcKJIe-"
      },
      "source": [
        "AGAST + SIFT"
      ]
    },
    {
      "cell_type": "code",
      "metadata": {
        "id": "qptKPAxHJJnN",
        "colab": {
          "base_uri": "https://localhost:8080/"
        },
        "outputId": "9c3e0d30-951b-41cc-c80a-63cfa0c65e7c"
      },
      "source": [
        "\n",
        "start = timer()\n",
        "\n",
        "agast = cv2.AgastFeatureDetector_create(threshold = 60)\n",
        "sift = cv2.xfeatures2d.SIFT_create(nfeatures = 1000, contrastThreshold=0.02, edgeThreshold=4)\n",
        "\n",
        "keypoints_all_left_agast = []\n",
        "descriptors_all_left_agast = []\n",
        "points_all_left_agast=[]\n",
        "\n",
        "keypoints_all_right_agast = []\n",
        "descriptors_all_right_agast = []\n",
        "points_all_right_agast=[]\n",
        "\n",
        "for cnt in tqdm(range(len(left_files_path))):\n",
        "  f=h5.File(f'drive/MyDrive/all_images_bgr_{Dataset}.h5','r')\n",
        "  imgs = f['data'][cnt]\n",
        "  f.close()     \n",
        "  kpt = agast.detect(imgs,None)\n",
        "  kpt,descrip =  sift.compute(imgs, kpt)\n",
        "  keypoints_all_left_agast.append(kpt)\n",
        "  descriptors_all_left_agast.append(descrip)\n",
        "  #points_all_left_agast.append(np.asarray([[p.pt[0], p.pt[1]] for p in kpt]))\n",
        "\n",
        "for cnt in tqdm(range(len(right_files_path))):\n",
        "  f=h5.File(f'drive/MyDrive/all_images_bgr_{Dataset}.h5','r')\n",
        "  imgs = f['data'][cnt+len(left_files_path)]\n",
        "  f.close()  \n",
        "  kpt = agast.detect(imgs,None)\n",
        "  kpt,descrip =  sift.compute(imgs, kpt)\n",
        "  keypoints_all_right_agast.append(kpt)\n",
        "  descriptors_all_right_agast.append(descrip)\n",
        "  #points_all_right_agast.append(np.asarray([[p.pt[0], p.pt[1]] for p in kpt]))\n",
        "\n",
        "end = timer()\n",
        "\n",
        "time_all.append(end-start)"
      ],
      "execution_count": 20,
      "outputs": [
        {
          "output_type": "stream",
          "text": [
            "100%|██████████| 31/31 [05:50<00:00, 11.30s/it]\n",
            "100%|██████████| 30/30 [05:32<00:00, 11.09s/it]\n"
          ],
          "name": "stderr"
        }
      ]
    },
    {
      "cell_type": "code",
      "metadata": {
        "id": "KXEiT-i3JKXc",
        "colab": {
          "base_uri": "https://localhost:8080/"
        },
        "outputId": "787792eb-73d1-4300-ab8f-337a8ea5ff8b"
      },
      "source": [
        "\n",
        "for j in tqdm(keypoints_all_left_agast + keypoints_all_right_agast[1:]):\n",
        "  num_kps_agast.append(len(j))"
      ],
      "execution_count": 21,
      "outputs": [
        {
          "output_type": "stream",
          "text": [
            "100%|██████████| 60/60 [00:00<00:00, 16159.91it/s]\n"
          ],
          "name": "stderr"
        }
      ]
    },
    {
      "cell_type": "code",
      "metadata": {
        "id": "Q-tOYuY3JKUX"
      },
      "source": [
        "'''\n",
        "all_feat_agast_left = []\n",
        "for cnt,kpt_all in enumerate(keypoints_all_left_agast):\n",
        "  all_feat_agast_left_each = []\n",
        "  for cnt_each, kpt in enumerate(kpt_all):\n",
        "    desc = descriptors_all_left_agast[cnt][cnt_each]\n",
        "    temp = (kpt.pt, kpt.size, kpt.angle, kpt.response, kpt.octave, \n",
        "        kpt.class_id, desc)\n",
        "    all_feat_agast_left_each.append(temp)\n",
        "  all_feat_agast_left.append(all_feat_agast_left_each)"
      ],
      "execution_count": null,
      "outputs": []
    },
    {
      "cell_type": "code",
      "metadata": {
        "id": "ITuhTLbgJKQf"
      },
      "source": [
        "'''\n",
        "all_feat_agast_right = []\n",
        "for cnt,kpt_all in enumerate(keypoints_all_right_agast):\n",
        "  all_feat_agast_right_each = []\n",
        "  for cnt_each, kpt in enumerate(kpt_all):\n",
        "    desc = descriptors_all_right_agast[cnt][cnt_each]\n",
        "    temp = (kpt.pt, kpt.size, kpt.angle, kpt.response, kpt.octave, \n",
        "        kpt.class_id, desc)\n",
        "    all_feat_agast_right_each.append(temp)\n",
        "  all_feat_agast_right.append(all_feat_agast_right_each)"
      ],
      "execution_count": null,
      "outputs": []
    },
    {
      "cell_type": "code",
      "metadata": {
        "id": "I7CTjFFfJKNZ"
      },
      "source": [
        "'''\n",
        "del keypoints_all_left_agast, keypoints_all_right_agast, descriptors_all_left_agast, descriptors_all_right_agast"
      ],
      "execution_count": null,
      "outputs": []
    },
    {
      "cell_type": "code",
      "metadata": {
        "id": "9ZMjm3RAJKIG"
      },
      "source": [
        "'''\n",
        "import pickle\n",
        "Fdb = open('all_feat_agast_left.dat', 'wb')\n",
        "pickle.dump(all_feat_agast_left,Fdb,-1)\n",
        "Fdb.close()"
      ],
      "execution_count": null,
      "outputs": []
    },
    {
      "cell_type": "code",
      "metadata": {
        "id": "AzYI6EvPJKDP"
      },
      "source": [
        "'''\n",
        "del Fdb, all_feat_agast_left"
      ],
      "execution_count": null,
      "outputs": []
    },
    {
      "cell_type": "code",
      "metadata": {
        "id": "9McFDaRnJXQi"
      },
      "source": [
        "'''\n",
        "import pickle\n",
        "Fdb = open('all_feat_agast_right.dat', 'wb')\n",
        "pickle.dump(all_feat_agast_right,Fdb,-1)\n",
        "Fdb.close()"
      ],
      "execution_count": null,
      "outputs": []
    },
    {
      "cell_type": "code",
      "metadata": {
        "id": "nslPuEslJXJT"
      },
      "source": [
        "'''\n",
        "del Fdb, all_feat_agast_right"
      ],
      "execution_count": null,
      "outputs": []
    },
    {
      "cell_type": "markdown",
      "metadata": {
        "id": "MmHJo2qUJcZT"
      },
      "source": [
        "FAST + SIFT"
      ]
    },
    {
      "cell_type": "code",
      "metadata": {
        "id": "ig4yKEIGJbsr",
        "colab": {
          "base_uri": "https://localhost:8080/"
        },
        "outputId": "2288cf07-a797-4c1f-8404-6b194ba273d8"
      },
      "source": [
        "\n",
        "start = timer()\n",
        "\n",
        "\n",
        "fast = cv2.FastFeatureDetector_create(threshold=60)\n",
        "sift = cv2.xfeatures2d.SIFT_create(nfeatures = 1000, contrastThreshold=0.02, edgeThreshold=4)\n",
        "\n",
        "keypoints_all_left_fast = []\n",
        "descriptors_all_left_fast = []\n",
        "points_all_left_fast=[]\n",
        "\n",
        "keypoints_all_right_fast = []\n",
        "descriptors_all_right_fast = []\n",
        "points_all_right_fast=[]\n",
        "\n",
        "for cnt in tqdm(range(len(left_files_path))):\n",
        "  f=h5.File(f'drive/MyDrive/all_images_bgr_{Dataset}.h5','r')\n",
        "  imgs = f['data'][cnt]\n",
        "  f.close()     \n",
        "  kpt = fast.detect(imgs,None)\n",
        "  kpt,descrip =  sift.compute(imgs, kpt)\n",
        "  keypoints_all_left_fast.append(kpt)\n",
        "  descriptors_all_left_fast.append(descrip)\n",
        "  #points_all_left_fast.append(np.asarray([[p.pt[0], p.pt[1]] for p in kpt]))\n",
        "\n",
        "for cnt in tqdm(range(len(right_files_path))):\n",
        "  f=h5.File(f'drive/MyDrive/all_images_bgr_{Dataset}.h5','r')\n",
        "  imgs = f['data'][cnt+len(left_files_path)]\n",
        "  f.close()  \n",
        "  kpt = fast.detect(imgs,None)\n",
        "  kpt,descrip =  sift.compute(imgs, kpt)\n",
        "  keypoints_all_right_fast.append(kpt)\n",
        "  descriptors_all_right_fast.append(descrip)\n",
        "  #points_all_right_fast.append(np.asarray([[p.pt[0], p.pt[1]] for p in kpt]))\n",
        "\n",
        "end = timer()\n",
        "\n",
        "time_all.append(end-start)"
      ],
      "execution_count": 30,
      "outputs": [
        {
          "output_type": "stream",
          "text": [
            "100%|██████████| 31/31 [05:38<00:00, 10.91s/it]\n",
            "100%|██████████| 30/30 [05:17<00:00, 10.60s/it]\n"
          ],
          "name": "stderr"
        }
      ]
    },
    {
      "cell_type": "code",
      "metadata": {
        "id": "Ie_WnWkWJgQ_",
        "colab": {
          "base_uri": "https://localhost:8080/"
        },
        "outputId": "31f67039-6e21-4ee6-fc57-fd5837b1d951"
      },
      "source": [
        "\n",
        "for j in tqdm(keypoints_all_left_fast + keypoints_all_right_fast[1:]):\n",
        "  num_kps_fast.append(len(j))"
      ],
      "execution_count": 31,
      "outputs": [
        {
          "output_type": "stream",
          "text": [
            "100%|██████████| 60/60 [00:00<00:00, 238087.27it/s]\n"
          ],
          "name": "stderr"
        }
      ]
    },
    {
      "cell_type": "code",
      "metadata": {
        "id": "l3pl_8CWJgLr"
      },
      "source": [
        "'''\n",
        "all_feat_fast_left = []\n",
        "for cnt,kpt_all in enumerate(keypoints_all_left_fast):\n",
        "  all_feat_fast_left_each = []\n",
        "  for cnt_each, kpt in enumerate(kpt_all):\n",
        "    desc = descriptors_all_left_fast[cnt][cnt_each]\n",
        "    temp = (kpt.pt, kpt.size, kpt.angle, kpt.response, kpt.octave, \n",
        "        kpt.class_id, desc)\n",
        "    all_feat_fast_left_each.append(temp)\n",
        "  all_feat_fast_left.append(all_feat_fast_left_each)"
      ],
      "execution_count": null,
      "outputs": []
    },
    {
      "cell_type": "code",
      "metadata": {
        "id": "e10-tkbiJgGM"
      },
      "source": [
        "'''\n",
        "all_feat_fast_right = []\n",
        "for cnt,kpt_all in enumerate(keypoints_all_right_fast):\n",
        "  all_feat_fast_right_each = []\n",
        "  for cnt_each, kpt in enumerate(kpt_all):\n",
        "    desc = descriptors_all_right_fast[cnt][cnt_each]\n",
        "    temp = (kpt.pt, kpt.size, kpt.angle, kpt.response, kpt.octave, \n",
        "        kpt.class_id, desc)\n",
        "    all_feat_fast_right_each.append(temp)\n",
        "  all_feat_fast_right.append(all_feat_fast_right_each)"
      ],
      "execution_count": null,
      "outputs": []
    },
    {
      "cell_type": "code",
      "metadata": {
        "id": "wTGgthlOJf_N"
      },
      "source": [
        "'''\n",
        "del keypoints_all_left_fast, keypoints_all_right_fast, descriptors_all_left_fast, descriptors_all_right_fast"
      ],
      "execution_count": null,
      "outputs": []
    },
    {
      "cell_type": "code",
      "metadata": {
        "id": "Yv5YzAjFJpRQ"
      },
      "source": [
        "'''\n",
        "import pickle\n",
        "Fdb = open('all_feat_fast_left.dat', 'wb')\n",
        "pickle.dump(all_feat_fast_left,Fdb,-1)\n",
        "Fdb.close()"
      ],
      "execution_count": null,
      "outputs": []
    },
    {
      "cell_type": "code",
      "metadata": {
        "id": "R5d__0yXJpKO"
      },
      "source": [
        "'''\n",
        "import pickle\n",
        "Fdb = open('all_feat_fast_right.dat', 'wb')\n",
        "pickle.dump(all_feat_fast_right,Fdb,-1)\n",
        "Fdb.close()"
      ],
      "execution_count": null,
      "outputs": []
    },
    {
      "cell_type": "code",
      "metadata": {
        "id": "WOu4VdRgJpDW"
      },
      "source": [
        "'''\n",
        "del Fdb, all_feat_fast_left, all_feat_fast_right"
      ],
      "execution_count": null,
      "outputs": []
    },
    {
      "cell_type": "markdown",
      "metadata": {
        "id": "yfyxf0FoJvlp"
      },
      "source": [
        "GFTT + SIFT"
      ]
    },
    {
      "cell_type": "code",
      "metadata": {
        "id": "-VnVeTvxJwKg"
      },
      "source": [
        "'''\n",
        "start = timer()\n",
        "\n",
        "gftt = cv2.GFTTDetector_create()\n",
        "sift = cv2.xfeatures2d.SIFT_create()\n",
        "\n",
        "keypoints_all_left_gftt = []\n",
        "descriptors_all_left_gftt = []\n",
        "points_all_left_gftt=[]\n",
        "\n",
        "keypoints_all_right_gftt = []\n",
        "descriptors_all_right_gftt = []\n",
        "points_all_right_gftt=[]\n",
        "\n",
        "for cnt in tqdm(range(len(left_files_path))):\n",
        "  f=h5.File(f'drive/MyDrive/all_images_bgr_{Dataset}.h5','r')\n",
        "  imgs = f['data'][cnt]\n",
        "  f.close()     \n",
        "  kpt = gftt.detect(imgs,None)\n",
        "  kpt,descrip =  sift.compute(imgs, kpt)\n",
        "  keypoints_all_left_gftt.append(kpt)\n",
        "  descriptors_all_left_gftt.append(descrip)\n",
        "  #points_all_left_gftt.append(np.asarray([[p.pt[0], p.pt[1]] for p in kpt]))\n",
        "\n",
        "for cnt in tqdm(range(len(right_files_path))):\n",
        "  f=h5.File(f'drive/MyDrive/all_images_bgr_{Dataset}.h5','r')\n",
        "  imgs = f['data'][cnt+len(left_files_path)]\n",
        "  f.close()  \n",
        "  kpt = gftt.detect(imgs,None)\n",
        "  kpt,descrip =  sift.compute(imgs, kpt)\n",
        "  keypoints_all_right_gftt.append(kpt)\n",
        "  descriptors_all_right_gftt.append(descrip)\n",
        "  #points_all_right_gftt.append(np.asarray([[p.pt[0], p.pt[1]] for p in kpt]))\n",
        "\n",
        "end = timer()\n",
        "\n",
        "time_all.append(end-start)"
      ],
      "execution_count": null,
      "outputs": []
    },
    {
      "cell_type": "code",
      "metadata": {
        "id": "o_kOTgxDJ0s6"
      },
      "source": [
        "'''\n",
        "for j in tqdm(keypoints_all_left_gftt + keypoints_all_right_gftt[1:]):\n",
        "  num_kps_gftt.append(len(j))"
      ],
      "execution_count": null,
      "outputs": []
    },
    {
      "cell_type": "code",
      "metadata": {
        "id": "4qUPAYraJ0mu"
      },
      "source": [
        "'''\n",
        "all_feat_gftt_left = []\n",
        "for cnt,kpt_all in enumerate(keypoints_all_left_gftt):\n",
        "  all_feat_gftt_left_each = []\n",
        "  for cnt_each, kpt in enumerate(kpt_all):\n",
        "    desc = descriptors_all_left_gftt[cnt][cnt_each]\n",
        "    temp = (kpt.pt, kpt.size, kpt.angle, kpt.response, kpt.octave, \n",
        "        kpt.class_id, desc)\n",
        "    all_feat_gftt_left_each.append(temp)\n",
        "  all_feat_gftt_left.append(all_feat_gftt_left_each)"
      ],
      "execution_count": null,
      "outputs": []
    },
    {
      "cell_type": "code",
      "metadata": {
        "id": "1wXmL7naJ0f9"
      },
      "source": [
        "'''\n",
        "all_feat_gftt_right = []\n",
        "for cnt,kpt_all in enumerate(keypoints_all_right_gftt):\n",
        "  all_feat_gftt_right_each = []\n",
        "  for cnt_each, kpt in enumerate(kpt_all):\n",
        "    desc = descriptors_all_right_gftt[cnt][cnt_each]\n",
        "    temp = (kpt.pt, kpt.size, kpt.angle, kpt.response, kpt.octave, \n",
        "        kpt.class_id, desc)\n",
        "    all_feat_gftt_right_each.append(temp)\n",
        "  all_feat_gftt_right.append(all_feat_gftt_right_each)"
      ],
      "execution_count": null,
      "outputs": []
    },
    {
      "cell_type": "code",
      "metadata": {
        "id": "MQ8_cQ6KJ0Wl"
      },
      "source": [
        "'''\n",
        "del keypoints_all_left_gftt, keypoints_all_right_gftt, descriptors_all_left_gftt, descriptors_all_right_gftt"
      ],
      "execution_count": null,
      "outputs": []
    },
    {
      "cell_type": "code",
      "metadata": {
        "id": "gXPIU4DeJ8AN"
      },
      "source": [
        "'''\n",
        "import pickle\n",
        "Fdb = open('all_feat_gftt_left.dat', 'wb')\n",
        "pickle.dump(all_feat_gftt_left,Fdb,-1)\n",
        "Fdb.close()"
      ],
      "execution_count": null,
      "outputs": []
    },
    {
      "cell_type": "code",
      "metadata": {
        "id": "nLAVNzy-J751"
      },
      "source": [
        "'''\n",
        "import pickle\n",
        "Fdb = open('all_feat_gftt_right.dat', 'wb')\n",
        "pickle.dump(all_feat_gftt_right,Fdb,-1)\n",
        "Fdb.close()"
      ],
      "execution_count": null,
      "outputs": []
    },
    {
      "cell_type": "code",
      "metadata": {
        "id": "Gz_JbQe3J7z7"
      },
      "source": [
        "'''\n",
        "del Fdb, all_feat_gftt_left, all_feat_gftt_right"
      ],
      "execution_count": null,
      "outputs": []
    },
    {
      "cell_type": "markdown",
      "metadata": {
        "id": "eg21YN-4LWMd"
      },
      "source": [
        "DAISY+SIFT"
      ]
    },
    {
      "cell_type": "code",
      "metadata": {
        "id": "roXAjN8jYgeP"
      },
      "source": [
        "'''\n",
        "start = timer()\n",
        "\n",
        "daisy = cv2.xfeatures2d.DAISY_create()\n",
        "sift = cv2.xfeatures2d.SIFT_create()\n",
        "\n",
        "keypoints_all_left_daisy = []\n",
        "descriptors_all_left_daisy = []\n",
        "points_all_left_daisy=[]\n",
        "\n",
        "keypoints_all_right_daisy = []\n",
        "descriptors_all_right_daisy = []\n",
        "points_all_right_daisy=[]\n",
        "\n",
        "for cnt in tqdm(range(len(left_files_path))):\n",
        "  f=h5.File(f'drive/MyDrive/all_images_bgr_{Dataset}.h5','r')\n",
        "  imgs = f['data'][cnt]\n",
        "  f.close()     \n",
        "  kpt = sift.detect(imgs,None)\n",
        "  kpt,descrip =  daisy.compute(imgs, kpt)\n",
        "  keypoints_all_left_daisy.append(kpt)\n",
        "  descriptors_all_left_daisy.append(descrip)\n",
        "  #points_all_left_daisy.append(np.asarray([[p.pt[0], p.pt[1]] for p in kpt]))\n",
        "\n",
        "for cnt in tqdm(range(len(right_files_path))):\n",
        "  f=h5.File(f'drive/MyDrive/all_images_bgr_{Dataset}.h5','r')\n",
        "  imgs = f['data'][cnt+len(left_files_path)]\n",
        "  f.close()  \n",
        "  kpt = sift.detect(imgs,None)\n",
        "  kpt,descrip =  daisy.compute(imgs, kpt)\n",
        "  keypoints_all_right_daisy.append(kpt)\n",
        "  descriptors_all_right_daisy.append(descrip)\n",
        "  #points_all_right_daisy.append(np.asarray([[p.pt[0], p.pt[1]] for p in kpt]))\n",
        "\n",
        "end = timer()\n",
        "\n",
        "time_all.append(end-start)"
      ],
      "execution_count": null,
      "outputs": []
    },
    {
      "cell_type": "code",
      "metadata": {
        "id": "IDJTpGnJYgXy"
      },
      "source": [
        "'''\n",
        "for j in tqdm(keypoints_all_left_daisy + keypoints_all_right_daisy[1:]):\n",
        "  num_kps_daisy.append(len(j))"
      ],
      "execution_count": null,
      "outputs": []
    },
    {
      "cell_type": "code",
      "metadata": {
        "id": "sTp2Q-HdYgTH"
      },
      "source": [
        "'''\n",
        "all_feat_daisy_left = []\n",
        "for cnt,kpt_all in enumerate(keypoints_all_left_daisy):\n",
        "  all_feat_daisy_left_each = []\n",
        "  for cnt_each, kpt in enumerate(kpt_all):\n",
        "    desc = descriptors_all_left_daisy[cnt][cnt_each]\n",
        "    temp = (kpt.pt, kpt.size, kpt.angle, kpt.response, kpt.octave, \n",
        "        kpt.class_id, desc)\n",
        "    all_feat_daisy_left_each.append(temp)\n",
        "  all_feat_daisy_left.append(all_feat_daisy_left_each)"
      ],
      "execution_count": null,
      "outputs": []
    },
    {
      "cell_type": "code",
      "metadata": {
        "id": "XqgObNhQYuhS"
      },
      "source": [
        "'''\n",
        "all_feat_daisy_right = []\n",
        "for cnt,kpt_all in enumerate(keypoints_all_right_daisy):\n",
        "  all_feat_daisy_right_each = []\n",
        "  for cnt_each, kpt in enumerate(kpt_all):\n",
        "    desc = descriptors_all_right_daisy[cnt][cnt_each]\n",
        "    temp = (kpt.pt, kpt.size, kpt.angle, kpt.response, kpt.octave, \n",
        "        kpt.class_id, desc)\n",
        "    all_feat_daisy_right_each.append(temp)\n",
        "  all_feat_daisy_right.append(all_feat_daisy_right_each)"
      ],
      "execution_count": null,
      "outputs": []
    },
    {
      "cell_type": "code",
      "metadata": {
        "id": "vidqbr5UYufD"
      },
      "source": [
        "'''\n",
        "del keypoints_all_left_daisy, keypoints_all_right_daisy, descriptors_all_left_daisy, descriptors_all_right_daisy"
      ],
      "execution_count": null,
      "outputs": []
    },
    {
      "cell_type": "code",
      "metadata": {
        "id": "4RbfnN6XYuYQ"
      },
      "source": [
        "'''\n",
        "import pickle\n",
        "Fdb = open('all_feat_daisy_left.dat', 'wb')\n",
        "pickle.dump(all_feat_daisy_left,Fdb,-1)\n",
        "Fdb.close()"
      ],
      "execution_count": null,
      "outputs": []
    },
    {
      "cell_type": "code",
      "metadata": {
        "id": "ia8arOghYuQP"
      },
      "source": [
        "'''\n",
        "import pickle\n",
        "Fdb = open('all_feat_daisy_right.dat', 'wb')\n",
        "pickle.dump(all_feat_daisy_right,Fdb,-1)\n",
        "Fdb.close()"
      ],
      "execution_count": null,
      "outputs": []
    },
    {
      "cell_type": "code",
      "metadata": {
        "id": "44W95xPWYuMD"
      },
      "source": [
        "'''\n",
        "del Fdb, all_feat_daisy_left, all_feat_daisy_right"
      ],
      "execution_count": null,
      "outputs": []
    },
    {
      "cell_type": "markdown",
      "metadata": {
        "id": "XnpjEZcGA1j_"
      },
      "source": [
        "SURF + SIFT"
      ]
    },
    {
      "cell_type": "code",
      "metadata": {
        "id": "zIZpQjn5A2CE"
      },
      "source": [
        "'''\n",
        "start = timer()\n",
        "\n",
        "surf = cv2.xfeatures2d.SURF_create(upright=1)\n",
        "sift = cv2.xfeatures2d.SIFT_create()\n",
        "\n",
        "keypoints_all_left_surfsift = []\n",
        "descriptors_all_left_surfsift = []\n",
        "points_all_left_surfsift=[]\n",
        "\n",
        "keypoints_all_right_surfsift = []\n",
        "descriptors_all_right_surfsift = []\n",
        "points_all_right_surfsift=[]\n",
        "\n",
        "for cnt in tqdm(range(len(left_files_path))):\n",
        "  f=h5.File('drive/MyDrive/all_images_bgr_sift_40.h5','r')\n",
        "  imgs = f['data'][cnt]\n",
        "  f.close()     \n",
        "  kpt = surf.detect(imgs,None)\n",
        "  kpt,descrip =  sift.compute(imgs, kpt)\n",
        "  keypoints_all_left_surfsift.append(kpt)\n",
        "  descriptors_all_left_surfsift.append(descrip)\n",
        "  #points_all_left_surfsift.append(np.asarray([[p.pt[0], p.pt[1]] for p in kpt]))\n",
        "\n",
        "for cnt in tqdm(range(len(right_files_path))):\n",
        "  f=h5.File('drive/MyDrive/all_images_bgr_sift_40.h5','r')\n",
        "  imgs = f['data'][cnt+len(left_files_path)]\n",
        "  f.close()  \n",
        "  kpt = surf.detect(imgs,None)\n",
        "  kpt,descrip =  sift.compute(imgs, kpt)\n",
        "  keypoints_all_right_surfsift.append(kpt)\n",
        "  descriptors_all_right_surfsift.append(descrip)\n",
        "  #points_all_right_surfsift.append(np.asarray([[p.pt[0], p.pt[1]] for p in kpt]))\n",
        "\n",
        "end = timer()\n",
        "\n",
        "time_all.append(end-start)"
      ],
      "execution_count": null,
      "outputs": []
    },
    {
      "cell_type": "code",
      "metadata": {
        "id": "b-si9W07A2q9"
      },
      "source": [
        "'''\n",
        "for j in tqdm(keypoints_all_left_surfsift + keypoints_all_right_surfsift[1:]):\n",
        "  num_kps_surfsift.append(len(j))"
      ],
      "execution_count": null,
      "outputs": []
    },
    {
      "cell_type": "code",
      "metadata": {
        "id": "yKXUSzbfA2Zx"
      },
      "source": [
        "'''\n",
        "all_feat_surfsift_left = []\n",
        "for cnt,kpt_all in enumerate(keypoints_all_left_surfsift):\n",
        "  all_feat_surfsift_left_each = []\n",
        "  for cnt_each, kpt in enumerate(kpt_all):\n",
        "    desc = descriptors_all_left_surfsift[cnt][cnt_each]\n",
        "    temp = (kpt.pt, kpt.size, kpt.angle, kpt.response, kpt.octave, \n",
        "        kpt.class_id, desc)\n",
        "    all_feat_surfsift_left_each.append(temp)\n",
        "  all_feat_surfsift_left.append(all_feat_surfsift_left_each)"
      ],
      "execution_count": null,
      "outputs": []
    },
    {
      "cell_type": "code",
      "metadata": {
        "id": "EA3GBpZABBjl"
      },
      "source": [
        "'''\n",
        "all_feat_surfsift_right = []\n",
        "for cnt,kpt_all in enumerate(keypoints_all_right_surfsift):\n",
        "  all_feat_surfsift_right_each = []\n",
        "  for cnt_each, kpt in enumerate(kpt_all):\n",
        "    desc = descriptors_all_right_surfsift[cnt][cnt_each]\n",
        "    temp = (kpt.pt, kpt.size, kpt.angle, kpt.response, kpt.octave, \n",
        "        kpt.class_id, desc)\n",
        "    all_feat_surfsift_right_each.append(temp)\n",
        "  all_feat_surfsift_right.append(all_feat_surfsift_right_each)"
      ],
      "execution_count": null,
      "outputs": []
    },
    {
      "cell_type": "code",
      "metadata": {
        "id": "95Xlu1ORBBeW"
      },
      "source": [
        "'''\n",
        "del keypoints_all_left_surfsift, keypoints_all_right_surfsift, descriptors_all_left_surfsift, descriptors_all_right_surfsift"
      ],
      "execution_count": null,
      "outputs": []
    },
    {
      "cell_type": "code",
      "metadata": {
        "id": "9SaqEJ1nBBYu"
      },
      "source": [
        "'''\n",
        "import pickle\n",
        "Fdb = open('all_feat_surfsift_left.dat', 'wb')\n",
        "pickle.dump(all_feat_surfsift_left,Fdb,-1)\n",
        "Fdb.close()"
      ],
      "execution_count": null,
      "outputs": []
    },
    {
      "cell_type": "code",
      "metadata": {
        "id": "dbUvyVuZBBS-"
      },
      "source": [
        "'''\n",
        "import pickle\n",
        "Fdb = open('all_feat_surfsift_right.dat', 'wb')\n",
        "pickle.dump(all_feat_surfsift_right,Fdb,-1)\n",
        "Fdb.close()"
      ],
      "execution_count": null,
      "outputs": []
    },
    {
      "cell_type": "code",
      "metadata": {
        "id": "0tNYxgZBBBNF"
      },
      "source": [
        "'''\n",
        "del Fdb, all_feat_surfsift_left, all_feat_surfsift_right"
      ],
      "execution_count": null,
      "outputs": []
    },
    {
      "cell_type": "markdown",
      "metadata": {
        "id": "2G9byE4MBLnF"
      },
      "source": [
        "SIFT"
      ]
    },
    {
      "cell_type": "code",
      "metadata": {
        "id": "I-CBqB4JBBHG",
        "colab": {
          "base_uri": "https://localhost:8080/"
        },
        "outputId": "ec6158db-7cd5-41c0-f841-71427c681418"
      },
      "source": [
        "\n",
        "print(len(left_files_path))"
      ],
      "execution_count": 40,
      "outputs": [
        {
          "output_type": "stream",
          "text": [
            "31\n"
          ],
          "name": "stdout"
        }
      ]
    },
    {
      "cell_type": "code",
      "metadata": {
        "id": "0tcYtoM5BOhe",
        "colab": {
          "base_uri": "https://localhost:8080/"
        },
        "outputId": "1a4c6731-e559-48a6-9fb5-dc3e91dfdcc8"
      },
      "source": [
        "\n",
        "print(len(right_files_path))"
      ],
      "execution_count": 41,
      "outputs": [
        {
          "output_type": "stream",
          "text": [
            "30\n"
          ],
          "name": "stdout"
        }
      ]
    },
    {
      "cell_type": "code",
      "metadata": {
        "id": "F3JjADHCBOeI"
      },
      "source": [
        "# H5 file w/o compression\n",
        "#t0=time.time()\n",
        "#f=h5.File('drive/MyDrive/all_images_bgr_sift.h5','r')\n",
        "#print('HDF5  w/o comp.: data shape =',len(f['data'][0]),time.time()-t0,'[s]')\n",
        "#f.close()"
      ],
      "execution_count": null,
      "outputs": []
    },
    {
      "cell_type": "code",
      "metadata": {
        "id": "Zq3pEMS_BOa9"
      },
      "source": [
        "#del f"
      ],
      "execution_count": null,
      "outputs": []
    },
    {
      "cell_type": "code",
      "metadata": {
        "id": "h8m3R7gIBOXf",
        "colab": {
          "base_uri": "https://localhost:8080/"
        },
        "outputId": "bec62a3d-7929-41e4-c2f5-6b4c5becee99"
      },
      "source": [
        "\n",
        "start = timer()\n",
        "\n",
        "sift = cv2.xfeatures2d.SIFT_create(nfeatures = 2000, contrastThreshold=0.02, edgeThreshold=6 )\n",
        "keypoints_all_left_sift = []\n",
        "descriptors_all_left_sift = []\n",
        "points_all_left_sift=[]\n",
        "\n",
        "keypoints_all_right_sift = []\n",
        "descriptors_all_right_sift = []\n",
        "points_all_right_sift=[]\n",
        "\n",
        "\n",
        "for cnt in tqdm(range(len(left_files_path))):\n",
        "  f=h5.File(f'drive/MyDrive/all_images_bgr_{Dataset}.h5','r')\n",
        "  imgs = f['data'][cnt]\n",
        "  f.close()\n",
        "  kpt = sift.detect(imgs,None)\n",
        "  kpt,descrip =  sift.compute(imgs, kpt)\n",
        "  keypoints_all_left_sift.append(kpt)\n",
        "  descriptors_all_left_sift.append(descrip)\n",
        "  #points_all_left_sift.append(np.asarray([[p.pt[0], p.pt[1]] for p in kpt]))\n",
        "\n",
        "for cnt in tqdm(range(len(right_files_path))):\n",
        "  f=h5.File(f'drive/MyDrive/all_images_bgr_{Dataset}.h5','r')\n",
        "  imgs = f['data'][cnt+len(left_files_path)]\n",
        "  f.close()\n",
        "  kpt = sift.detect(imgs,None)\n",
        "  kpt,descrip =  sift.compute(imgs, kpt)\n",
        "  keypoints_all_right_sift.append(kpt)\n",
        "  descriptors_all_right_sift.append(descrip)\n",
        "  #points_all_right_sift.append(np.asarray([[p.pt[0], p.pt[1]] for p in kpt]))\n",
        "\n",
        "end = timer()\n",
        "\n",
        "time_all.append(end-start)"
      ],
      "execution_count": 42,
      "outputs": [
        {
          "output_type": "stream",
          "text": [
            "100%|██████████| 31/31 [04:24<00:00,  8.52s/it]\n",
            "100%|██████████| 30/30 [04:15<00:00,  8.50s/it]\n"
          ],
          "name": "stderr"
        }
      ]
    },
    {
      "cell_type": "code",
      "metadata": {
        "id": "SB_q6BV-BOTE",
        "colab": {
          "base_uri": "https://localhost:8080/"
        },
        "outputId": "7934682d-fcdb-43c4-c739-14cbb2869cdc"
      },
      "source": [
        "\n",
        "for j in tqdm(keypoints_all_left_sift + keypoints_all_right_sift[1:]):\n",
        "  num_kps_sift.append(len(j))"
      ],
      "execution_count": 43,
      "outputs": [
        {
          "output_type": "stream",
          "text": [
            "100%|██████████| 60/60 [00:00<00:00, 52103.16it/s]\n"
          ],
          "name": "stderr"
        }
      ]
    },
    {
      "cell_type": "code",
      "metadata": {
        "id": "uaOGm1MTBOPJ"
      },
      "source": [
        "'''\n",
        "all_feat_sift_left = []\n",
        "for cnt,kpt_all in enumerate(keypoints_all_left_sift):\n",
        "  all_feat_sift_left_each = []\n",
        "  for cnt_each, kpt in enumerate(kpt_all):\n",
        "    desc = descriptors_all_left_sift[cnt][cnt_each]\n",
        "    temp = (kpt.pt, kpt.size, kpt.angle, kpt.response, kpt.octave, \n",
        "        kpt.class_id, desc)\n",
        "    all_feat_sift_left_each.append(temp)\n",
        "  all_feat_sift_left.append(all_feat_sift_left_each)"
      ],
      "execution_count": null,
      "outputs": []
    },
    {
      "cell_type": "code",
      "metadata": {
        "id": "jTLEBcppBOJm"
      },
      "source": [
        "'''\n",
        "all_feat_sift_right = []\n",
        "for cnt,kpt_all in enumerate(keypoints_all_right_sift):\n",
        "  all_feat_sift_right_each = []\n",
        "  for cnt_each, kpt in enumerate(kpt_all):\n",
        "    desc = descriptors_all_right_sift[cnt][cnt_each]\n",
        "    temp = (kpt.pt, kpt.size, kpt.angle, kpt.response, kpt.octave, \n",
        "        kpt.class_id, desc)\n",
        "    all_feat_sift_right_each.append(temp)\n",
        "  all_feat_sift_right.append(all_feat_sift_right_each)"
      ],
      "execution_count": null,
      "outputs": []
    },
    {
      "cell_type": "code",
      "metadata": {
        "id": "vuzpJ4aWBcFv"
      },
      "source": [
        "'''\n",
        "del keypoints_all_left_sift, keypoints_all_right_sift, descriptors_all_left_sift, descriptors_all_right_sift"
      ],
      "execution_count": null,
      "outputs": []
    },
    {
      "cell_type": "code",
      "metadata": {
        "id": "keX-zbR5BcAC"
      },
      "source": [
        "'''\n",
        "import pickle\n",
        "Fdb = open('all_feat_sift_left.dat', 'wb')\n",
        "pickle.dump(all_feat_sift_left,Fdb,-1)\n",
        "Fdb.close()"
      ],
      "execution_count": null,
      "outputs": []
    },
    {
      "cell_type": "code",
      "metadata": {
        "id": "LzV0lBZnBb3_"
      },
      "source": [
        "'''\n",
        "import pickle\n",
        "Fdb = open('all_feat_sift_right.dat', 'wb')\n",
        "pickle.dump(all_feat_sift_right,Fdb,-1)\n",
        "Fdb.close()"
      ],
      "execution_count": null,
      "outputs": []
    },
    {
      "cell_type": "code",
      "metadata": {
        "id": "FsrOHWZcBbwW"
      },
      "source": [
        "'''\n",
        "del Fdb, all_feat_sift_left, all_feat_sift_right"
      ],
      "execution_count": null,
      "outputs": []
    },
    {
      "cell_type": "code",
      "metadata": {
        "id": "J3rAfnOBBi0_"
      },
      "source": [
        "#del keypoints_all_right_sift, keypoints_all_left_sift, descriptors_all_right_sift, descriptors_all_left_sift, points_all_right_sift, points_all_left_sift"
      ],
      "execution_count": null,
      "outputs": []
    },
    {
      "cell_type": "markdown",
      "metadata": {
        "id": "6-hRX8jrBkrp"
      },
      "source": [
        "SURF"
      ]
    },
    {
      "cell_type": "code",
      "metadata": {
        "id": "Ql4NScZ1Biut",
        "colab": {
          "base_uri": "https://localhost:8080/"
        },
        "outputId": "1dc9c2cd-da5b-4a21-f1c8-954a348897ad"
      },
      "source": [
        "\n",
        "start = timer()\n",
        "\n",
        "surf  = cv2.xfeatures2d.SURF_create(nOctaves = 3, hessianThreshold = 60 ,upright=1)\n",
        "keypoints_all_left_surf = []\n",
        "descriptors_all_left_surf = []\n",
        "points_all_left_surf=[]\n",
        "\n",
        "keypoints_all_right_surf = []\n",
        "descriptors_all_right_surf = []\n",
        "points_all_right_surf=[]\n",
        "\n",
        "for cnt in tqdm(range(len(left_files_path))):\n",
        "  f=h5.File(f'drive/MyDrive/all_images_bgr_{Dataset}.h5','r')\n",
        "  imgs = f['data'][cnt]\n",
        "  f.close()  \n",
        "  kpt = surf.detect(imgs,None)\n",
        "  kpt,descrip =  surf.compute(imgs, kpt)\n",
        "  keypoints_all_left_surf.append(kpt)\n",
        "  descriptors_all_left_surf.append(descrip)\n",
        "  #points_all_left_surf.append(np.asarray([[p.pt[0], p.pt[1]] for p in kpt]))\n",
        "\n",
        "for cnt in tqdm(range(len(right_files_path))):\n",
        "  f=h5.File(f'drive/MyDrive/all_images_bgr_{Dataset}.h5','r')\n",
        "  imgs = f['data'][cnt+len(left_files_path)]\n",
        "  f.close()  \n",
        "  kpt = surf.detect(imgs,None)\n",
        "  kpt,descrip =  surf.compute(imgs, kpt)\n",
        "  keypoints_all_right_surf.append(kpt)\n",
        "  descriptors_all_right_surf.append(descrip)\n",
        "  #points_all_right_surf.append(np.asarray([[p.pt[0], p.pt[1]] for p in kpt]))\n",
        "\n",
        "end = timer()\n",
        "\n",
        "time_all.append(end-start)"
      ],
      "execution_count": 44,
      "outputs": [
        {
          "output_type": "stream",
          "text": [
            "100%|██████████| 31/31 [06:11<00:00, 11.98s/it]\n",
            "100%|██████████| 30/30 [06:04<00:00, 12.14s/it]\n"
          ],
          "name": "stderr"
        }
      ]
    },
    {
      "cell_type": "code",
      "metadata": {
        "id": "ebC3Q3MBBm4O",
        "colab": {
          "base_uri": "https://localhost:8080/"
        },
        "outputId": "79292bb9-39fc-4852-f883-a2e9c644870b"
      },
      "source": [
        "\n",
        "for j in tqdm(keypoints_all_left_surf + keypoints_all_right_surf[1:]):\n",
        "  num_kps_surf.append(len(j))"
      ],
      "execution_count": 45,
      "outputs": [
        {
          "output_type": "stream",
          "text": [
            "100%|██████████| 60/60 [00:00<00:00, 82973.37it/s]\n"
          ],
          "name": "stderr"
        }
      ]
    },
    {
      "cell_type": "code",
      "metadata": {
        "id": "E3tsk0eJBm0o"
      },
      "source": [
        "'''\n",
        "all_feat_surf_left = []\n",
        "for cnt,kpt_all in enumerate(keypoints_all_left_surf):\n",
        "  all_feat_surf_left_each = []\n",
        "  for cnt_each, kpt in enumerate(kpt_all):\n",
        "    desc = descriptors_all_left_surf[cnt][cnt_each]\n",
        "    temp = (kpt.pt, kpt.size, kpt.angle, kpt.response, kpt.octave, \n",
        "        kpt.class_id, desc)\n",
        "    all_feat_surf_left_each.append(temp)\n",
        "  all_feat_surf_left.append(all_feat_surf_left_each)"
      ],
      "execution_count": null,
      "outputs": []
    },
    {
      "cell_type": "code",
      "metadata": {
        "id": "U-RykyRjBmx1"
      },
      "source": [
        "'''\n",
        "all_feat_surf_right = []\n",
        "for cnt,kpt_all in enumerate(keypoints_all_right_surf):\n",
        "  all_feat_surf_right_each = []\n",
        "  for cnt_each, kpt in enumerate(kpt_all):\n",
        "    desc = descriptors_all_right_surf[cnt][cnt_each]\n",
        "    temp = (kpt.pt, kpt.size, kpt.angle, kpt.response, kpt.octave, \n",
        "        kpt.class_id, desc)\n",
        "    all_feat_surf_right_each.append(temp)\n",
        "  all_feat_surf_right.append(all_feat_surf_right_each)"
      ],
      "execution_count": null,
      "outputs": []
    },
    {
      "cell_type": "code",
      "metadata": {
        "id": "fBXM6S9VBmuh"
      },
      "source": [
        "'''\n",
        "del keypoints_all_left_surf, keypoints_all_right_surf, descriptors_all_left_surf, descriptors_all_right_surf"
      ],
      "execution_count": null,
      "outputs": []
    },
    {
      "cell_type": "code",
      "metadata": {
        "id": "OnYtZPMHBmqx"
      },
      "source": [
        "'''\n",
        "import pickle\n",
        "Fdb = open('all_feat_surf_left.dat', 'wb')\n",
        "pickle.dump(all_feat_surf_left,Fdb,-1)\n",
        "Fdb.close()"
      ],
      "execution_count": null,
      "outputs": []
    },
    {
      "cell_type": "code",
      "metadata": {
        "id": "eYl890XMByIG"
      },
      "source": [
        "'''\n",
        "import pickle\n",
        "Fdb = open('all_feat_surf_right.dat', 'wb')\n",
        "pickle.dump(all_feat_surf_right,Fdb,-1)\n",
        "Fdb.close()"
      ],
      "execution_count": null,
      "outputs": []
    },
    {
      "cell_type": "code",
      "metadata": {
        "id": "SIu9u7gPB0Mo"
      },
      "source": [
        "'''\n",
        "del Fdb, all_feat_surf_left, all_feat_surf_right"
      ],
      "execution_count": null,
      "outputs": []
    },
    {
      "cell_type": "markdown",
      "metadata": {
        "id": "4X-Xmis2Y9k8"
      },
      "source": [
        "ROOTSIFT"
      ]
    },
    {
      "cell_type": "code",
      "metadata": {
        "id": "uq-AUPpAY5CN"
      },
      "source": [
        "'''class RootSIFT:\n",
        "  def __init__(self):\n",
        "    # initialize the SIFT feature extractor\n",
        "    #self.extractor = cv2.DescriptorExtractor_create(\"SIFT\")\n",
        "    self.sift = cv2.xfeatures2d.SIFT_create()\n",
        "\n",
        "  def compute(self, image, kps, eps=1e-7):\n",
        "    # compute SIFT descriptors\n",
        "    (kps, descs) = self.sift.compute(image, kps)\n",
        "\n",
        "    # if there are no keypoints or descriptors, return an empty tuple\n",
        "    if len(kps) == 0:\n",
        "      return ([], None)\n",
        "\n",
        "    # apply the Hellinger kernel by first L1-normalizing, taking the\n",
        "    # square-root, and then L2-normalizing\n",
        "    descs /= (np.linalg.norm(descs, axis=0, ord=2) + eps)\n",
        "    descs /= (descs.sum(axis=0) + eps)\n",
        "    descs = np.sqrt(descs)\n",
        "    #descs /= (np.linalg.norm(descs, axis=0, ord=2) + eps)\n",
        "\n",
        "    # return a tuple of the keypoints and descriptors\n",
        "    return (kps, descs)"
      ],
      "execution_count": null,
      "outputs": []
    },
    {
      "cell_type": "code",
      "metadata": {
        "id": "vKVJojBAY49D",
        "colab": {
          "base_uri": "https://localhost:8080/"
        },
        "outputId": "a05628a0-2da3-4533-b838-e4376b8c4602"
      },
      "source": [
        "'''start = timer()\n",
        "\n",
        "sift = cv2.xfeatures2d.SIFT_create()\n",
        "rootsift = RootSIFT()\n",
        "keypoints_all_left_rootsift = []\n",
        "descriptors_all_left_rootsift = []\n",
        "points_all_left_rootsift=[]\n",
        "\n",
        "keypoints_all_right_rootsift = []\n",
        "descriptors_all_right_rootsift = []\n",
        "points_all_right_rootsift=[]\n",
        "\n",
        "for cnt in tqdm(range(len(left_files_path))):\n",
        "  f=h5.File(f'drive/MyDrive/all_images_bgr_{Dataset}.h5','r')\n",
        "  imgs = f['data'][cnt]\n",
        "  f.close()  \n",
        "  kpt = sift.detect(imgs,None)\n",
        "  kpt,descrip =  rootsift.compute(imgs, kpt)\n",
        "  keypoints_all_left_rootsift.append(kpt)\n",
        "  descriptors_all_left_rootsift.append(descrip)\n",
        "  #points_all_left_rootsift.append(np.asarray([[p.pt[0], p.pt[1]] for p in kpt]))\n",
        "\n",
        "for cnt in tqdm(range(len(right_files_path))):\n",
        "  f=h5.File(f'drive/MyDrive/all_images_bgr_{Dataset}.h5','r')\n",
        "  imgs = f['data'][cnt+len(left_files_path)]\n",
        "  f.close()  \n",
        "  kpt = sift.detect(imgs,None)\n",
        "  kpt,descrip =  rootsift.compute(imgs, kpt)\n",
        "  keypoints_all_right_rootsift.append(kpt)\n",
        "  descriptors_all_right_rootsift.append(descrip)\n",
        "  #points_all_right_rootsift.append(np.asarray([[p.pt[0], p.pt[1]] for p in kpt]))\n",
        "\n",
        "end = timer()\n",
        "\n",
        "time_all.append(end-start)"
      ],
      "execution_count": null,
      "outputs": [
        {
          "output_type": "stream",
          "text": [
            "100%|██████████| 61/61 [02:58<00:00,  2.93s/it]\n",
            "100%|██████████| 60/60 [02:57<00:00,  2.95s/it]\n"
          ],
          "name": "stderr"
        }
      ]
    },
    {
      "cell_type": "code",
      "metadata": {
        "id": "P-pIYbFDY44T",
        "colab": {
          "base_uri": "https://localhost:8080/"
        },
        "outputId": "54ada41d-0196-49bc-bea4-578b21536755"
      },
      "source": [
        "'''for j in tqdm(keypoints_all_left_rootsift + keypoints_all_right_rootsift[1:]):\n",
        "  num_kps_rootsift.append(len(j))"
      ],
      "execution_count": null,
      "outputs": [
        {
          "output_type": "stream",
          "text": [
            "100%|██████████| 120/120 [00:00<00:00, 48989.34it/s]\n"
          ],
          "name": "stderr"
        }
      ]
    },
    {
      "cell_type": "code",
      "metadata": {
        "id": "TzaUmPtGY4y3"
      },
      "source": [
        "'''all_feat_rootsift_left = []\n",
        "for cnt,kpt_all in enumerate(keypoints_all_left_rootsift):\n",
        "  all_feat_rootsift_left_each = []\n",
        "  for cnt_each, kpt in enumerate(kpt_all):\n",
        "    desc = descriptors_all_left_rootsift[cnt][cnt_each]\n",
        "    temp = (kpt.pt, kpt.size, kpt.angle, kpt.response, kpt.octave, \n",
        "        kpt.class_id, desc)\n",
        "    all_feat_rootsift_left_each.append(temp)\n",
        "  all_feat_rootsift_left.append(all_feat_rootsift_left_each)"
      ],
      "execution_count": null,
      "outputs": []
    },
    {
      "cell_type": "code",
      "metadata": {
        "id": "WOz51FvlY4uE"
      },
      "source": [
        "'''all_feat_rootsift_right = []\n",
        "for cnt,kpt_all in enumerate(keypoints_all_right_rootsift):\n",
        "  all_feat_rootsift_right_each = []\n",
        "  for cnt_each, kpt in enumerate(kpt_all):\n",
        "    desc = descriptors_all_right_rootsift[cnt][cnt_each]\n",
        "    temp = (kpt.pt, kpt.size, kpt.angle, kpt.response, kpt.octave, \n",
        "        kpt.class_id, desc)\n",
        "    all_feat_rootsift_right_each.append(temp)\n",
        "  all_feat_rootsift_right.append(all_feat_rootsift_right_each)"
      ],
      "execution_count": null,
      "outputs": []
    },
    {
      "cell_type": "code",
      "metadata": {
        "id": "_j2VRWDAY4of"
      },
      "source": [
        "'''del keypoints_all_left_rootsift, keypoints_all_right_rootsift, descriptors_all_left_rootsift, descriptors_all_right_rootsift"
      ],
      "execution_count": null,
      "outputs": []
    },
    {
      "cell_type": "code",
      "metadata": {
        "id": "2ZbKnM1ZY4jI"
      },
      "source": [
        "'''import pickle\n",
        "Fdb = open('all_feat_rootsift_left.dat', 'wb')\n",
        "pickle.dump(all_feat_rootsift_left,Fdb,-1)\n",
        "Fdb.close()"
      ],
      "execution_count": null,
      "outputs": []
    },
    {
      "cell_type": "code",
      "metadata": {
        "id": "ImEPlaTtY4dc"
      },
      "source": [
        "'''import pickle\n",
        "Fdb = open('all_feat_rootsift_right.dat', 'wb')\n",
        "pickle.dump(all_feat_rootsift_right,Fdb,-1)\n",
        "Fdb.close()"
      ],
      "execution_count": null,
      "outputs": []
    },
    {
      "cell_type": "code",
      "metadata": {
        "id": "kxznTKgpZM01"
      },
      "source": [
        "'''del Fdb, all_feat_rootsift_left, all_feat_rootsift_right"
      ],
      "execution_count": null,
      "outputs": []
    },
    {
      "cell_type": "markdown",
      "metadata": {
        "id": "DMidlSPsB6XZ"
      },
      "source": [
        "SuperPoint"
      ]
    },
    {
      "cell_type": "code",
      "metadata": {
        "id": "bWZhoEjuZfIv"
      },
      "source": [
        "'''\n",
        "!git clone https://github.com/magicleap/SuperPointPretrainedNetwork.git"
      ],
      "execution_count": null,
      "outputs": []
    },
    {
      "cell_type": "code",
      "metadata": {
        "id": "Z6bD80zQZfCR"
      },
      "source": [
        "'''\n",
        "weights_path = 'SuperPointPretrainedNetwork/superpoint_v1.pth'\n",
        "\n",
        "cuda = 'True'"
      ],
      "execution_count": null,
      "outputs": []
    },
    {
      "cell_type": "code",
      "metadata": {
        "id": "TIiSaHNCCG_i"
      },
      "source": [
        "'''\n",
        "def to_kpts(pts, size=1):\n",
        "  return [cv2.KeyPoint(pt[0], pt[1], size) for pt in pts]"
      ],
      "execution_count": null,
      "outputs": []
    },
    {
      "cell_type": "code",
      "metadata": {
        "id": "kHzRz_l5CG6B"
      },
      "source": [
        "'''\n",
        "import numpy as np\n",
        "import torch\n",
        "import torch.nn as nn\n",
        "import torch.nn.functional as F\n",
        "\n",
        "torch.cuda.empty_cache()\n",
        "\n",
        "class SuperPointNet(nn.Module):\n",
        "    def __init__(self):\n",
        "        super(SuperPointNet, self).__init__()\n",
        "        self.relu = nn.ReLU(inplace=True)\n",
        "        self.pool = nn.MaxPool2d(kernel_size=2, stride=2)\n",
        "        c1, c2, c3, c4, c5, d1 = 64, 64, 128, 128, 256, 256\n",
        "        # Shared Encoder.\n",
        "        self.conv1a = nn.Conv2d(1, c1, kernel_size=3, stride=1, padding=1)\n",
        "        self.conv1b = nn.Conv2d(c1, c1, kernel_size=3, stride=1, padding=1)\n",
        "        self.conv2a = nn.Conv2d(c1, c2, kernel_size=3, stride=1, padding=1)\n",
        "        self.conv2b = nn.Conv2d(c2, c2, kernel_size=3, stride=1, padding=1)\n",
        "        self.conv3a = nn.Conv2d(c2, c3, kernel_size=3, stride=1, padding=1)\n",
        "        self.conv3b = nn.Conv2d(c3, c3, kernel_size=3, stride=1, padding=1)\n",
        "        self.conv4a = nn.Conv2d(c3, c4, kernel_size=3, stride=1, padding=1)\n",
        "        self.conv4b = nn.Conv2d(c4, c4, kernel_size=3, stride=1, padding=1)\n",
        "        # Detector Head.\n",
        "        self.convPa = nn.Conv2d(c4, c5, kernel_size=3, stride=1, padding=1)\n",
        "        self.convPb = nn.Conv2d(c5, 65, kernel_size=1, stride=1, padding=0)\n",
        "        # Descriptor Head.\n",
        "        self.convDa = nn.Conv2d(c4, c5, kernel_size=3, stride=1, padding=1)\n",
        "        self.convDb = nn.Conv2d(c5, d1, kernel_size=1, stride=1, padding=0)\n",
        "\n",
        "    def forward(self, x):\n",
        "\n",
        "        # Shared Encoder.\n",
        "        x = self.relu(self.conv1a(x))\n",
        "        x = self.relu(self.conv1b(x))\n",
        "        x = self.pool(x)\n",
        "        x = self.relu(self.conv2a(x))\n",
        "        x = self.relu(self.conv2b(x))\n",
        "        x = self.pool(x)\n",
        "        x = self.relu(self.conv3a(x))\n",
        "        x = self.relu(self.conv3b(x))\n",
        "        x = self.pool(x)\n",
        "        x = self.relu(self.conv4a(x))\n",
        "        x = self.relu(self.conv4b(x))\n",
        "        # Detector Head.\n",
        "        cPa = self.relu(self.convPa(x))\n",
        "        semi = self.convPb(cPa)\n",
        "        # Descriptor Head.\n",
        "        cDa = self.relu(self.convDa(x))\n",
        "        desc = self.convDb(cDa)\n",
        "        dn = torch.norm(desc, p=2, dim=1) # Compute the norm.\n",
        "        desc = desc.div(torch.unsqueeze(dn, 1)) # Divide by norm to normalize.\n",
        "        return semi, desc\n",
        "\n",
        "\n",
        "class SuperPointFrontend(object):\n",
        "    def __init__(self, weights_path, nms_dist, conf_thresh, nn_thresh,cuda=True):\n",
        "        self.name = 'SuperPoint'\n",
        "        self.cuda = cuda\n",
        "        self.nms_dist = nms_dist\n",
        "        self.conf_thresh = conf_thresh\n",
        "        self.nn_thresh = nn_thresh # L2 descriptor distance for good match.\n",
        "        self.cell = 8 # Size of each output cell. Keep this fixed.\n",
        "        self.border_remove = 4 # Remove points this close to the border.\n",
        "\n",
        "        # Load the network in inference mode.\n",
        "        self.net = SuperPointNet()\n",
        "        if cuda:\n",
        "          # Train on GPU, deploy on GPU.\n",
        "            self.net.load_state_dict(torch.load(weights_path))\n",
        "            self.net = self.net.cuda()\n",
        "        else:\n",
        "          # Train on GPU, deploy on CPU.\n",
        "            self.net.load_state_dict(torch.load(weights_path, map_location=lambda storage, loc: storage))\n",
        "        self.net.eval()\n",
        "\n",
        "    def nms_fast(self, in_corners, H, W, dist_thresh):\n",
        "\n",
        "        grid = np.zeros((H, W)).astype(int) # Track NMS data.\n",
        "        inds = np.zeros((H, W)).astype(int) # Store indices of points.\n",
        "        # Sort by confidence and round to nearest int.\n",
        "        inds1 = np.argsort(-in_corners[2,:])\n",
        "        corners = in_corners[:,inds1]\n",
        "        rcorners = corners[:2,:].round().astype(int) # Rounded corners.\n",
        "        # Check for edge case of 0 or 1 corners.\n",
        "        if rcorners.shape[1] == 0:\n",
        "            return np.zeros((3,0)).astype(int), np.zeros(0).astype(int)\n",
        "        if rcorners.shape[1] == 1:\n",
        "            out = np.vstack((rcorners, in_corners[2])).reshape(3,1)\n",
        "            return out, np.zeros((1)).astype(int)\n",
        "        # Initialize the grid.\n",
        "        for i, rc in enumerate(rcorners.T):\n",
        "            grid[rcorners[1,i], rcorners[0,i]] = 1\n",
        "            inds[rcorners[1,i], rcorners[0,i]] = i\n",
        "        # Pad the border of the grid, so that we can NMS points near the border.\n",
        "        pad = dist_thresh\n",
        "        grid = np.pad(grid, ((pad,pad), (pad,pad)), mode='constant')\n",
        "        # Iterate through points, highest to lowest conf, suppress neighborhood.\n",
        "        count = 0\n",
        "        for i, rc in enumerate(rcorners.T):\n",
        "          # Account for top and left padding.\n",
        "            pt = (rc[0]+pad, rc[1]+pad)\n",
        "            if grid[pt[1], pt[0]] == 1: # If not yet suppressed.\n",
        "                grid[pt[1]-pad:pt[1]+pad+1, pt[0]-pad:pt[0]+pad+1] = 0\n",
        "                grid[pt[1], pt[0]] = -1\n",
        "                count += 1\n",
        "        # Get all surviving -1's and return sorted array of remaining corners.\n",
        "        keepy, keepx = np.where(grid==-1)\n",
        "        keepy, keepx = keepy - pad, keepx - pad\n",
        "        inds_keep = inds[keepy, keepx]\n",
        "        out = corners[:, inds_keep]\n",
        "        values = out[-1, :]\n",
        "        inds2 = np.argsort(-values)\n",
        "        out = out[:, inds2]\n",
        "        out_inds = inds1[inds_keep[inds2]]\n",
        "        return out, out_inds\n",
        "\n",
        "    def run(self, img):\n",
        "        assert img.ndim == 2 #Image must be grayscale.\n",
        "        assert img.dtype == np.float32 #Image must be float32.\n",
        "        H, W = img.shape[0], img.shape[1]\n",
        "        inp = img.copy()\n",
        "        inp = (inp.reshape(1, H, W))\n",
        "        inp = torch.from_numpy(inp)\n",
        "        inp = torch.autograd.Variable(inp).view(1, 1, H, W)\n",
        "        if self.cuda:\n",
        "            inp = inp.cuda()\n",
        "        # Forward pass of network.\n",
        "        outs = self.net.forward(inp)\n",
        "        semi, coarse_desc = outs[0], outs[1]\n",
        "        # Convert pytorch -> numpy.\n",
        "        semi = semi.data.cpu().numpy().squeeze()\n",
        "        \n",
        "        # --- Process points.\n",
        "        dense = np.exp(semi) # Softmax.\n",
        "        dense = dense / (np.sum(dense, axis=0)+.00001) # Should sum to 1.\n",
        "        nodust = dense[:-1, :, :]\n",
        "        # Reshape to get full resolution heatmap.\n",
        "        Hc = int(H / self.cell)\n",
        "        Wc = int(W / self.cell)\n",
        "        nodust = np.transpose(nodust, [1, 2, 0])\n",
        "        heatmap = np.reshape(nodust, [Hc, Wc, self.cell, self.cell])\n",
        "        heatmap = np.transpose(heatmap, [0, 2, 1, 3])\n",
        "        heatmap = np.reshape(heatmap, [Hc*self.cell, Wc*self.cell]) \n",
        "        prob_map = heatmap/np.sum(np.sum(heatmap))\n",
        "        \n",
        "        return heatmap, coarse_desc\n",
        "\n",
        "\n",
        "    def key_pt_sampling(self, img, heat_map, coarse_desc, sampled):\n",
        "        \n",
        "        H, W = img.shape[0], img.shape[1]\n",
        "\n",
        "        xs, ys = np.where(heat_map >= self.conf_thresh) # Confidence threshold.\n",
        "        if len(xs) == 0:\n",
        "            return np.zeros((3, 0)), None, None\n",
        "        print(\"number of pts selected :\", len(xs))\n",
        "        \n",
        "        \n",
        "        pts = np.zeros((3, len(xs))) # Populate point data sized 3xN.\n",
        "        pts[0, :] = ys\n",
        "        pts[1, :] = xs\n",
        "        pts[2, :] = heat_map[xs, ys]\n",
        "        pts, _ = self.nms_fast(pts, H, W, dist_thresh=self.nms_dist) # Apply NMS.\n",
        "        inds = np.argsort(pts[2,:])\n",
        "        pts = pts[:,inds[::-1]] # Sort by confidence.\n",
        "        bord = self.border_remove\n",
        "        toremoveW = np.logical_or(pts[0, :] < bord, pts[0, :] >= (W-bord))\n",
        "        toremoveH = np.logical_or(pts[1, :] < bord, pts[1, :] >= (H-bord))\n",
        "        toremove = np.logical_or(toremoveW, toremoveH)\n",
        "        pts = pts[:, ~toremove]\n",
        "        pts = pts[:,0:sampled] #we take 2000 keypoints with highest probability from heatmap for our benchmark\n",
        "        \n",
        "        # --- Process descriptor.\n",
        "        D = coarse_desc.shape[1]\n",
        "        if pts.shape[1] == 0:\n",
        "            desc = np.zeros((D, 0))\n",
        "        else:\n",
        "          # Interpolate into descriptor map using 2D point locations.\n",
        "            samp_pts = torch.from_numpy(pts[:2, :].copy())\n",
        "            samp_pts[0, :] = (samp_pts[0, :] / (float(W)/2.)) - 1.\n",
        "            samp_pts[1, :] = (samp_pts[1, :] / (float(H)/2.)) - 1.\n",
        "            samp_pts = samp_pts.transpose(0, 1).contiguous()\n",
        "            samp_pts = samp_pts.view(1, 1, -1, 2)\n",
        "            samp_pts = samp_pts.float()\n",
        "            if self.cuda:\n",
        "                samp_pts = samp_pts.cuda()            \n",
        "            desc = nn.functional.grid_sample(coarse_desc, samp_pts)\n",
        "            desc = desc.data.cpu().numpy().reshape(D, -1)\n",
        "            desc /= np.linalg.norm(desc, axis=0)[np.newaxis, :]\n",
        "\n",
        "            \n",
        "        return pts, desc"
      ],
      "execution_count": null,
      "outputs": []
    },
    {
      "cell_type": "code",
      "metadata": {
        "id": "v_NTKvX5CG0h"
      },
      "source": [
        "'''\n",
        "print('Loading pre-trained network.')\n",
        "# This class runs the SuperPoint network and processes its outputs.\n",
        "fe = SuperPointFrontend(weights_path=weights_path,nms_dist = 3,conf_thresh = 0.01,nn_thresh=0.5)\n",
        "print('Successfully loaded pre-trained network.')"
      ],
      "execution_count": null,
      "outputs": []
    },
    {
      "cell_type": "code",
      "metadata": {
        "id": "zARa2vimCGu2"
      },
      "source": [
        "'''\n",
        "start = timer()\n",
        "\n",
        "keypoints_all_left_superpoint = []\n",
        "descriptors_all_left_superpoint = []\n",
        "points_all_left_superpoint=[]\n",
        "\n",
        "keypoints_all_right_superpoint = []\n",
        "descriptors_all_right_superpoint = []\n",
        "points_all_right_superpoint=[]\n",
        "\n",
        "tqdm = partial(tqdm, position=0, leave=True)\n",
        "\n",
        "for cnt in tqdm(range(len(left_files_path))):\n",
        "  f=h5.File(f'drive/MyDrive/all_images_gray_{Dataset}.h5','r')\n",
        "  lfpth = f['data'][cnt]\n",
        "  f.close()  \n",
        "  heatmap1, coarse_desc1 = fe.run(lfpth)\n",
        "  pts_1, desc_1 = fe.key_pt_sampling(lfpth, heatmap1, coarse_desc1, 80000) #Getting keypoints and descriptors for 1st image\n",
        "\n",
        "  keypoints_all_left_superpoint.append(to_kpts(pts_1.T))\n",
        "  descriptors_all_left_superpoint.append(desc_1.T)\n",
        "  #points_all_left_superpoint.append(pts_1.T)\n",
        "\n",
        "\n",
        "for cnt in tqdm(range(len(right_files_path))):\n",
        "  f=h5.File(f'drive/MyDrive/all_images_gray_{Dataset}.h5','r')\n",
        "  rfpth = f['data'][cnt]\n",
        "  f.close()  \n",
        "  heatmap1, coarse_desc1 = fe.run(rfpth)\n",
        "  pts_1, desc_1 = fe.key_pt_sampling(rfpth, heatmap1, coarse_desc1, 80000) #Getting keypoints and descriptors for 1st image\n",
        "\n",
        "  keypoints_all_right_superpoint.append(to_kpts(pts_1.T))\n",
        "  descriptors_all_right_superpoint.append(desc_1.T)\n",
        "  #points_all_right_superpoint.append(pts_1.T)\n",
        "\n",
        "end = timer()\n",
        "time_all.append(end-start)"
      ],
      "execution_count": null,
      "outputs": []
    },
    {
      "cell_type": "code",
      "metadata": {
        "id": "GShtFy1qCGpV"
      },
      "source": [
        "'''\n",
        "for j in tqdm(keypoints_all_left_superpoint + keypoints_all_right_superpoint[1:]):\n",
        "  num_kps_superpoint.append(len(j))"
      ],
      "execution_count": null,
      "outputs": []
    },
    {
      "cell_type": "code",
      "metadata": {
        "id": "_V3c3iWJCGjT"
      },
      "source": [
        "'''\n",
        "all_feat_superpoint_left = []\n",
        "for cnt,kpt_all in enumerate(keypoints_all_left_superpoint):\n",
        "  all_feat_superpoint_left_each = []\n",
        "  for cnt_each, kpt in enumerate(kpt_all):\n",
        "    desc = descriptors_all_left_superpoint[cnt][cnt_each]\n",
        "    temp = (kpt.pt, kpt.size, kpt.angle, kpt.response, kpt.octave, \n",
        "        kpt.class_id, desc)\n",
        "    all_feat_superpoint_left_each.append(temp)\n",
        "  all_feat_superpoint_left.append(all_feat_superpoint_left_each)"
      ],
      "execution_count": null,
      "outputs": []
    },
    {
      "cell_type": "code",
      "metadata": {
        "id": "ygLEJB5eCTXV"
      },
      "source": [
        "'''\n",
        "all_feat_superpoint_right = []\n",
        "for cnt,kpt_all in enumerate(keypoints_all_right_superpoint):\n",
        "  all_feat_superpoint_right_each = []\n",
        "  for cnt_each, kpt in enumerate(kpt_all):\n",
        "    desc = descriptors_all_right_superpoint[cnt][cnt_each]\n",
        "    temp = (kpt.pt, kpt.size, kpt.angle, kpt.response, kpt.octave, \n",
        "        kpt.class_id, desc)\n",
        "    all_feat_superpoint_right_each.append(temp)\n",
        "  all_feat_superpoint_right.append(all_feat_superpoint_right_each)"
      ],
      "execution_count": null,
      "outputs": []
    },
    {
      "cell_type": "code",
      "metadata": {
        "id": "9DHtCaFKCTSQ"
      },
      "source": [
        "'''\n",
        "del keypoints_all_left_superpoint, keypoints_all_right_superpoint, descriptors_all_left_superpoint, descriptors_all_right_superpoint"
      ],
      "execution_count": null,
      "outputs": []
    },
    {
      "cell_type": "code",
      "metadata": {
        "id": "mwLhhM_tCTKq"
      },
      "source": [
        "'''\n",
        "import pickle\n",
        "Fdb = open('all_feat_superpoint_left.dat', 'wb')\n",
        "pickle.dump(all_feat_superpoint_left,Fdb,-1)\n",
        "Fdb.close()"
      ],
      "execution_count": null,
      "outputs": []
    },
    {
      "cell_type": "code",
      "metadata": {
        "id": "_2XRYMrfCYhy"
      },
      "source": [
        "'''\n",
        "import pickle\n",
        "Fdb = open('all_feat_superpoint_right.dat', 'wb')\n",
        "pickle.dump(all_feat_superpoint_right,Fdb,-1)\n",
        "Fdb.close()"
      ],
      "execution_count": null,
      "outputs": []
    },
    {
      "cell_type": "code",
      "metadata": {
        "id": "QCWo--YTCYaM"
      },
      "source": [
        "'''\n",
        "del Fdb, all_feat_superpoint_left, all_feat_superpoint_right"
      ],
      "execution_count": null,
      "outputs": []
    },
    {
      "cell_type": "markdown",
      "metadata": {
        "id": "LFAdEmiACcst"
      },
      "source": [
        "Total Matches,Robust Matches and Homography Computation"
      ]
    },
    {
      "cell_type": "code",
      "metadata": {
        "id": "H1HvLX8HSWoQ"
      },
      "source": [
        "def compute_homography_fast(matched_pts1, matched_pts2,thresh=4):\n",
        "    #matched_pts1 = cv2.KeyPoint_convert(matched_kp1)\n",
        "    #matched_pts2 = cv2.KeyPoint_convert(matched_kp2)\n",
        "\n",
        "    # Estimate the homography between the matches using RANSAC\n",
        "    H, inliers = cv2.findHomography(matched_pts1,\n",
        "                                    matched_pts2,\n",
        "                                    cv2.RANSAC, ransacReprojThreshold =thresh, maxIters=3000)\n",
        "    inliers = inliers.flatten()\n",
        "    return H, inliers"
      ],
      "execution_count": 22,
      "outputs": []
    },
    {
      "cell_type": "code",
      "metadata": {
        "id": "1rQ1tDx0SWf9"
      },
      "source": [
        "def compute_homography_fast_other(matched_pts1, matched_pts2):\n",
        "    #matched_pts1 = cv2.KeyPoint_convert(matched_kp1)\n",
        "    #matched_pts2 = cv2.KeyPoint_convert(matched_kp2)\n",
        "\n",
        "    # Estimate the homography between the matches using RANSAC\n",
        "    H, inliers = cv2.findHomography(matched_pts1,\n",
        "                                    matched_pts2,\n",
        "                                    0)\n",
        "    inliers = inliers.flatten()\n",
        "    return H, inliers"
      ],
      "execution_count": 23,
      "outputs": []
    },
    {
      "cell_type": "code",
      "metadata": {
        "id": "_Q8lSaVqTQIE"
      },
      "source": [
        "def get_Hmatrix(imgs,keypts,pts,descripts,ratio=0.75,thresh=4,use_lowe=True,disp=False,no_ransac=False,binary=False):\n",
        "  lff1 = descripts[0]\n",
        "  lff = descripts[1]\n",
        "\n",
        "  if use_lowe==False:\n",
        "    #FLANN_INDEX_KDTREE = 2\n",
        "    #index_params = dict(algorithm=FLANN_INDEX_KDTREE, trees=5)\n",
        "    #search_params = dict(checks=50)\n",
        "    #flann = cv2.FlannBasedMatcher(index_params, search_params)\n",
        "    #flann = cv2.BFMatcher()\n",
        "    if binary==True:\n",
        "      bf = cv2.BFMatcher(cv2.NORM_HAMMING, crossCheck=True)\n",
        "\n",
        "    else:\n",
        "      bf = cv2.BFMatcher(cv2.NORM_L2, crossCheck=True)\n",
        "      lff1 = np.float32(descripts[0])\n",
        "      lff = np.float32(descripts[1])\n",
        "\n",
        "\n",
        "    #matches_lf1_lf = flann.knnMatch(lff1, lff, k=2)\n",
        "    matches_4 = bf.knnMatch(lff1, lff,k=2)\n",
        "    matches_lf1_lf = []\n",
        "\n",
        "\n",
        "    print(\"\\nNumber of matches\",len(matches_4))\n",
        "    '''\n",
        "    matches_4 = []\n",
        "    ratio = ratio\n",
        "    # loop over the raw matches\n",
        "    for m in matches_lf1_lf:\n",
        "      # ensure the distance is within a certain ratio of each\n",
        "      # other (i.e. Lowe’s ratio test)\n",
        "      #if len(m) == 2 and m[0].distance < m[1].distance * ratio:\n",
        "          #matches_1.append((m[0].trainIdx, m[0].queryIdx))\n",
        "      matches_4.append(m[0])\n",
        "    '''\n",
        "    print(\"Number of matches After Lowe's Ratio\",len(matches_4))\n",
        "  else:\n",
        "    FLANN_INDEX_KDTREE = 2\n",
        "    index_params = dict(algorithm=FLANN_INDEX_KDTREE, trees=5)\n",
        "    search_params = dict(checks=50)\n",
        "    flann = cv2.FlannBasedMatcher(index_params, search_params)\n",
        "    if binary==True:\n",
        "      bf = cv2.BFMatcher(cv2.NORM_HAMMING, crossCheck=True)\n",
        "      lff1 = np.float32(descripts[0])\n",
        "      lff = np.float32(descripts[1])\n",
        "    else:\n",
        "      bf = cv2.BFMatcher(cv2.NORM_L2, crossCheck=True)\n",
        "      lff1 = np.float32(descripts[0])\n",
        "      lff = np.float32(descripts[1])\n",
        "\n",
        "\n",
        "    matches_lf1_lf = flann.knnMatch(lff1, lff, k=2)\n",
        "    #matches_lf1_lf = bf.knnMatch(lff1, lff,k=2)\n",
        "\n",
        "\n",
        "    print(\"\\nNumber of matches\",len(matches_lf1_lf))\n",
        "    matches_4 = []\n",
        "    ratio = ratio\n",
        "    # loop over the raw matches\n",
        "    for m in matches_lf1_lf:\n",
        "      # ensure the distance is within a certain ratio of each\n",
        "      # other (i.e. Lowe’s ratio test)\n",
        "      if len(m) == 2 and m[0].distance < m[1].distance * ratio:\n",
        "          #matches_1.append((m[0].trainIdx, m[0].queryIdx))\n",
        "        matches_4.append(m[0])\n",
        "  \n",
        "    print(\"Number of matches After Lowe's Ratio\",len(matches_4))\n",
        "\n",
        "\n",
        "  \n",
        "  matches_idx = np.array([m.queryIdx for m in matches_4])\n",
        "  imm1_pts = np.array([keypts[0][idx].pt for idx in matches_idx])\n",
        "  matches_idx = np.array([m.trainIdx for m in matches_4])\n",
        "  imm2_pts = np.array([keypts[1][idx].pt for idx in matches_idx])\n",
        "  '''\n",
        "  # Estimate homography 1\n",
        "  #Compute H1\n",
        "  # Estimate homography 1\n",
        "  #Compute H1\n",
        "  imm1_pts=np.empty((len(matches_4),2))\n",
        "  imm2_pts=np.empty((len(matches_4),2))\n",
        "  for i in range(0,len(matches_4)):\n",
        "    m = matches_4[i]\n",
        "    (a_x, a_y) = keypts[0][m.queryIdx].pt\n",
        "    (b_x, b_y) = keypts[1][m.trainIdx].pt\n",
        "    imm1_pts[i]=(a_x, a_y)\n",
        "    imm2_pts[i]=(b_x, b_y)    \n",
        "  H=compute_Homography(imm1_pts,imm2_pts) \n",
        "  #Robustly estimate Homography 1 using RANSAC\n",
        "  Hn, best_inliers=RANSAC_alg(keypts[0] ,keypts[1], matches_4,  nRANSAC=1000, RANSACthresh=6)\n",
        "  '''\n",
        "  \n",
        "  if no_ransac==True:\n",
        "    Hn,inliers = compute_homography_fast_other(imm1_pts,imm2_pts)\n",
        "  else:\n",
        "    Hn,inliers = compute_homography_fast(imm1_pts,imm2_pts,thresh)  \n",
        "\n",
        "  inlier_matchset = np.array(matches_4)[inliers.astype(bool)].tolist()\n",
        "  print(\"Number of Robust matches\",len(inlier_matchset))\n",
        "  print(\"\\n\")\n",
        "  \n",
        "  if len(inlier_matchset)<25:\n",
        "    matches_4 = []\n",
        "    ratio = 0.85\n",
        "    # loop over the raw matches\n",
        "    for m in matches_lf1_lf:\n",
        "      # ensure the distance is within a certain ratio of each\n",
        "      # other (i.e. Lowe’s ratio test)\n",
        "      if len(m) == 2 and m[0].distance < m[1].distance * ratio:\n",
        "          #matches_1.append((m[0].trainIdx, m[0].queryIdx))\n",
        "          matches_4.append(m[0])\n",
        "    print(\"Number of matches After Lowe's Ratio New\",len(matches_4))\n",
        "  \n",
        "    matches_idx = np.array([m.queryIdx for m in matches_4])\n",
        "    imm1_pts = np.array([keypts[0][idx].pt for idx in matches_idx])\n",
        "    matches_idx = np.array([m.trainIdx for m in matches_4])\n",
        "    imm2_pts = np.array([keypts[1][idx].pt for idx in matches_idx])\n",
        "    Hn,inliers = compute_homography_fast(imm1_pts,imm2_pts)  \n",
        "    inlier_matchset = np.array(matches_4)[inliers.astype(bool)].tolist()\n",
        "    print(\"Number of Robust matches New\",len(inlier_matchset))\n",
        "    print(\"\\n\")    \n",
        "  \n",
        "  #H=compute_Homography(imm1_pts,imm2_pts) \n",
        "  #Robustly estimate Homography 1 using RANSAC\n",
        "  #Hn=RANSAC_alg(keypts[0] ,keypts[1], matches_4,  nRANSAC=1500, RANSACthresh=6)\n",
        "\n",
        "  #global inlier_matchset   \n",
        "  \n",
        "  if disp==True:\n",
        "    dispimg1=cv2.drawMatches(imgs[0], keypts[0], imgs[1], keypts[1], inlier_matchset, None,flags=2)\n",
        "    displayplot(dispimg1,'Robust Matching between Reference Image and Right Image ')\n",
        "  \n",
        "  \n",
        "  return Hn/Hn[2,2], len(matches_lf1_lf), len(inlier_matchset)"
      ],
      "execution_count": 24,
      "outputs": []
    },
    {
      "cell_type": "code",
      "metadata": {
        "id": "sbSaUB-hTQDG"
      },
      "source": [
        "def get_Hmatrix_rfnet(imgs,pts,descripts,disp=True):\n",
        "\n",
        "  des1 = descripts[0]\n",
        "  des2 = descripts[1]\n",
        "\n",
        "  kp1 = pts[0]\n",
        "  kp2 = pts[1]\n",
        "\n",
        "\n",
        "  predict_label, nn_kp2 = nearest_neighbor_distance_ratio_match(des1, des2, kp2, 0.7)\n",
        "  idx = predict_label.nonzero().view(-1)\n",
        "  mkp1 = kp1.index_select(dim=0, index=idx.long())  # predict match keypoints in I1\n",
        "  mkp2 = nn_kp2.index_select(dim=0, index=idx.long())  # predict match keypoints in I2\n",
        "\n",
        "  #img1, img2 = reverse_img(img1), reverse_img(img2)\n",
        "  keypoints1 = list(map(to_cv2_kp, mkp1))\n",
        "  keypoints2 = list(map(to_cv2_kp, mkp2))\n",
        "  DMatch = list(map(to_cv2_dmatch, np.arange(0, len(keypoints1))))\n",
        "\n",
        "  imm1_pts=np.empty((len(DMatch),2))\n",
        "  imm2_pts=np.empty((len(DMatch),2))\n",
        "  for i in range(0,len(DMatch)):\n",
        "    m = DMatch[i]\n",
        "    (a_x, a_y) = keypoints1[m.queryIdx].pt\n",
        "    (b_x, b_y) = keypoints2[m.trainIdx].pt\n",
        "    imm1_pts[i]=(a_x, a_y)\n",
        "    imm2_pts[i]=(b_x, b_y)    \n",
        "  H=compute_Homography_fast(imm1_pts,imm2_pts) \n",
        "\n",
        "\n",
        "  if disp==True:\n",
        "    dispimg1 = cv2.drawMatches(imgs[0], keypoints1, imgs[1], keypoints2, DMatch, None)\n",
        "    displayplot(dispimg1,'Robust Matching between Reference Image and Right Image ')\n",
        "\n",
        "\n",
        "  return H/H[2,2]"
      ],
      "execution_count": 25,
      "outputs": []
    },
    {
      "cell_type": "code",
      "metadata": {
        "id": "BxmB14K1IGji"
      },
      "source": [
        "'''\n",
        "import pickle\n",
        "Fdb = open('all_feat_brisk_left.dat', 'rb')\n",
        "kpts_all = pickle.load(Fdb)\n",
        "Fdb.close()\n",
        "\n",
        "keypoints_all_left_brisk = []\n",
        "descriptors_all_left_brisk = []\n",
        "points_all_left_brisk = []\n",
        "\n",
        "for j,kpt_each in enumerate(kpts_all):\n",
        "  keypoints_each = []\n",
        "  descrip_each = []\n",
        "  for k,kpt_img in enumerate(kpt_each):\n",
        "    temp_feature = cv2.KeyPoint(x=kpt_img[0][0],y=kpt_img[0][1],_size=kpt_img[1], _angle=kpt_img[2], \n",
        "                            _response=kpt_img[3], _octave=kpt_img[4], _class_id=kpt_img[5]) \n",
        "    temp_descriptor = kpt_img[6]\n",
        "    keypoints_each.append(temp_feature)\n",
        "    descrip_each.append(temp_descriptor)\n",
        "  points_all_left_brisk.append(np.asarray([[p.pt[0], p.pt[1]] for p in keypoints_each]))\n",
        "  keypoints_all_left_brisk.append(keypoints_each)\n",
        "  descriptors_all_left_brisk.append(descrip_each)"
      ],
      "execution_count": null,
      "outputs": []
    },
    {
      "cell_type": "code",
      "metadata": {
        "id": "GbsNJSsCIGfP"
      },
      "source": [
        "'''\n",
        "import pickle\n",
        "Fdb = open('all_feat_brisk_right.dat', 'rb')\n",
        "kpts_all = pickle.load(Fdb)\n",
        "Fdb.close()\n",
        "\n",
        "keypoints_all_right_brisk = []\n",
        "descriptors_all_right_brisk = []\n",
        "points_all_right_brisk = []\n",
        "\n",
        "for j,kpt_each in enumerate(kpts_all):\n",
        "  keypoints_each = []\n",
        "  descrip_each = []\n",
        "  for k,kpt_img in enumerate(kpt_each):\n",
        "    temp_feature = cv2.KeyPoint(x=kpt_img[0][0],y=kpt_img[0][1],_size=kpt_img[1], _angle=kpt_img[2], \n",
        "                            _response=kpt_img[3], _octave=kpt_img[4], _class_id=kpt_img[5]) \n",
        "    temp_descriptor = kpt_img[6]\n",
        "    keypoints_each.append(temp_feature)\n",
        "    descrip_each.append(temp_descriptor)\n",
        "  points_all_right_brisk.append(np.asarray([[p.pt[0], p.pt[1]] for p in keypoints_each]))\n",
        "  keypoints_all_right_brisk.append(keypoints_each)\n",
        "  descriptors_all_right_brisk.append(descrip_each)"
      ],
      "execution_count": null,
      "outputs": []
    },
    {
      "cell_type": "code",
      "metadata": {
        "id": "yvc4MelmIGaK"
      },
      "source": [
        "'''\n",
        "H_left_brisk = []\n",
        "H_right_brisk = []\n",
        "\n",
        "num_matches_brisk = []\n",
        "num_good_matches_brisk = []\n",
        "\n",
        "images_left_bgr = []\n",
        "images_right_bgr = []\n",
        "for j in tqdm(range(len(left_files_path))):\n",
        "  if j==len(left_files_path)-1:\n",
        "    break\n",
        "\n",
        "  H_a,matches,gd_matches = get_Hmatrix(images_left_bgr[j:j+2][::-1],keypoints_all_left_brisk[j:j+2][::-1],points_all_left_brisk[j:j+2][::-1],descriptors_all_left_brisk[j:j+2][::-1],0.7,3,use_lowe=True,binary=True)\n",
        "  H_left_brisk.append(H_a)\n",
        "  num_matches_brisk.append(matches)\n",
        "  num_good_matches_brisk.append(gd_matches)\n",
        "\n",
        "for j in tqdm(range(len(right_files_path))):\n",
        "  if j==len(right_files_path)-1:\n",
        "    break\n",
        "\n",
        "  H_a,matches,gd_matches = get_Hmatrix(images_right_bgr[j:j+2][::-1],keypoints_all_right_brisk[j:j+2][::-1],points_all_right_brisk[j:j+2][::-1],descriptors_all_right_brisk[j:j+2][::-1],0.7,3,use_lowe=True,binary=True)\n",
        "  H_right_brisk.append(H_a)\n",
        "  num_matches_brisk.append(matches)\n",
        "  num_good_matches_brisk.append(gd_matches)"
      ],
      "execution_count": null,
      "outputs": []
    },
    {
      "cell_type": "code",
      "metadata": {
        "colab": {
          "base_uri": "https://localhost:8080/"
        },
        "id": "c8T74TJ4IGU9",
        "outputId": "9c6b21ca-3c61-4f2d-8fb8-6343dd82578c"
      },
      "source": [
        "'''\n",
        "import h5py as h5\n",
        "f=h5.File('drive/MyDrive/H_left_brisk_40.h5','w')\n",
        "t0=time.time()\n",
        "f.create_dataset('data',data=H_left_brisk)\n",
        "f.close()\n",
        "print('HDF5  w/o comp.:',time.time()-t0,'[s] ... size',os.path.getsize('drive/MyDrive/H_left_brisk_40.h5')/1.e6,'MB')"
      ],
      "execution_count": null,
      "outputs": [
        {
          "output_type": "stream",
          "text": [
            "HDF5  w/o comp.: 0.020707368850708008 [s] ... size 0.006368 MB\n"
          ],
          "name": "stdout"
        }
      ]
    },
    {
      "cell_type": "code",
      "metadata": {
        "colab": {
          "base_uri": "https://localhost:8080/"
        },
        "id": "t_nFQdxmIGOU",
        "outputId": "48705855-e0f5-42b5-9eb1-4db060b28954"
      },
      "source": [
        "'''\n",
        "import h5py as h5\n",
        "f=h5.File('drive/MyDrive/H_right_brisk_40.h5','w')\n",
        "t0=time.time()\n",
        "f.create_dataset('data',data=H_right_brisk)\n",
        "f.close()\n",
        "print('HDF5  w/o comp.:',time.time()-t0,'[s] ... size',os.path.getsize('drive/MyDrive/H_right_brisk_40.h5')/1.e6,'MB')"
      ],
      "execution_count": null,
      "outputs": [
        {
          "output_type": "stream",
          "text": [
            "HDF5  w/o comp.: 0.00494694709777832 [s] ... size 0.006296 MB\n"
          ],
          "name": "stdout"
        }
      ]
    },
    {
      "cell_type": "code",
      "metadata": {
        "id": "1mkl11ZfIGGP"
      },
      "source": [
        "'''\n",
        "del H_left_brisk, H_right_brisk,keypoints_all_left_brisk, keypoints_all_right_brisk, descriptors_all_left_brisk, descriptors_all_right_brisk, points_all_left_brisk, points_all_right_brisk"
      ],
      "execution_count": null,
      "outputs": []
    },
    {
      "cell_type": "code",
      "metadata": {
        "id": "3Bbuf1pWIF7k"
      },
      "source": [
        ""
      ],
      "execution_count": null,
      "outputs": []
    },
    {
      "cell_type": "code",
      "metadata": {
        "id": "0hAvJVtyCpgk"
      },
      "source": [
        "'''\n",
        "import pickle\n",
        "Fdb = open('all_feat_sift_left.dat', 'rb')\n",
        "kpts_all = pickle.load(Fdb)\n",
        "Fdb.close()\n",
        "\n",
        "keypoints_all_left_sift = []\n",
        "descriptors_all_left_sift = []\n",
        "\n",
        "\n",
        "\n",
        "for j,kpt_each in enumerate(kpts_all):\n",
        "  keypoints_each = []\n",
        "  descrip_each = []\n",
        "  for k,kpt_img in enumerate(kpt_each):\n",
        "    temp_feature = cv2.KeyPoint(x=kpt_img[0][0],y=kpt_img[0][1],_size=kpt_img[1], _angle=kpt_img[2], \n",
        "                            _response=kpt_img[3], _octave=kpt_img[4], _class_id=kpt_img[5]) \n",
        "    temp_descriptor = kpt_img[6]\n",
        "    keypoints_each.append(temp_feature)\n",
        "    descrip_each.append(temp_descriptor)\n",
        "  points_all_left_sift.append(np.asarray([[p.pt[0], p.pt[1]] for p in keypoints_each]))\n",
        "  keypoints_all_left_sift.append(keypoints_each)\n",
        "  descriptors_all_left_sift.append(descrip_each)"
      ],
      "execution_count": null,
      "outputs": []
    },
    {
      "cell_type": "code",
      "metadata": {
        "id": "sYZ8M-JGCpdG"
      },
      "source": [
        "'''\n",
        "import pickle\n",
        "Fdb = open('all_feat_sift_right.dat', 'rb')\n",
        "kpts_all = pickle.load(Fdb)\n",
        "Fdb.close()\n",
        "\n",
        "keypoints_all_right_sift = []\n",
        "descriptors_all_right_sift = []\n",
        "\n",
        "for j,kpt_each in enumerate(kpts_all):\n",
        "  keypoints_each = []\n",
        "  descrip_each = []\n",
        "  for k,kpt_img in enumerate(kpt_each):\n",
        "    temp_feature = cv2.KeyPoint(x=kpt_img[0][0],y=kpt_img[0][1],_size=kpt_img[1], _angle=kpt_img[2], \n",
        "                            _response=kpt_img[3], _octave=kpt_img[4], _class_id=kpt_img[5]) \n",
        "    temp_descriptor = kpt_img[6]\n",
        "    keypoints_each.append(temp_feature)\n",
        "    descrip_each.append(temp_descriptor)\n",
        "  points_all_right_sift.append(np.asarray([[p.pt[0], p.pt[1]] for p in keypoints_each]))\n",
        "  keypoints_all_right_sift.append(keypoints_each)\n",
        "  descriptors_all_right_sift.append(descrip_each)"
      ],
      "execution_count": null,
      "outputs": []
    },
    {
      "cell_type": "code",
      "metadata": {
        "id": "BzLUr-JVCpaE",
        "colab": {
          "base_uri": "https://localhost:8080/"
        },
        "outputId": "b4f2fb2d-3dd8-46d4-9fed-f3b75bd5a8ed"
      },
      "source": [
        "\n",
        "H_left_sift = []\n",
        "H_right_sift = []\n",
        "\n",
        "num_matches_sift = []\n",
        "num_good_matches_sift = []\n",
        "\n",
        "for j in tqdm(range(len(left_files_path))):\n",
        "  if j==len(left_files_path)-1:\n",
        "    break\n",
        "\n",
        "  H_a,matches,gd_matches = get_Hmatrix(images_left_bgr[j:j+2][::-1],keypoints_all_left_sift[j:j+2][::-1],points_all_left_sift[j:j+2][::-1],descriptors_all_left_sift[j:j+2][::-1],0.75)\n",
        "  H_left_sift.append(H_a)\n",
        "  num_matches_sift.append(matches)\n",
        "  num_good_matches_sift.append(gd_matches)\n",
        "\n",
        "for j in tqdm(range(len(right_files_path))):\n",
        "  if j==len(right_files_path)-1:\n",
        "    break\n",
        "\n",
        "  H_a,matches,gd_matches = get_Hmatrix(images_right_bgr[j:j+2][::-1],keypoints_all_right_sift[j:j+2][::-1],points_all_right_sift[j:j+2][::-1],descriptors_all_right_sift[j:j+2][::-1],0.75)\n",
        "  H_right_sift.append(H_a)\n",
        "  num_matches_sift.append(matches)\n",
        "  num_good_matches_sift.append(gd_matches)"
      ],
      "execution_count": 46,
      "outputs": [
        {
          "output_type": "stream",
          "text": [
            "  3%|▎         | 1/31 [00:00<00:08,  3.72it/s]"
          ],
          "name": "stderr"
        },
        {
          "output_type": "stream",
          "text": [
            "\n",
            "Number of matches 2000\n",
            "Number of matches After Lowe's Ratio 188\n",
            "Number of Robust matches 160\n",
            "\n",
            "\n"
          ],
          "name": "stdout"
        },
        {
          "output_type": "stream",
          "text": [
            "\r  6%|▋         | 2/31 [00:00<00:10,  2.86it/s]"
          ],
          "name": "stderr"
        },
        {
          "output_type": "stream",
          "text": [
            "\n",
            "Number of matches 2000\n",
            "Number of matches After Lowe's Ratio 132\n",
            "Number of Robust matches 104\n",
            "\n",
            "\n"
          ],
          "name": "stdout"
        },
        {
          "output_type": "stream",
          "text": [
            "\r 10%|▉         | 3/31 [00:01<00:09,  3.11it/s]"
          ],
          "name": "stderr"
        },
        {
          "output_type": "stream",
          "text": [
            "\n",
            "Number of matches 2001\n",
            "Number of matches After Lowe's Ratio 201\n",
            "Number of Robust matches 170\n",
            "\n",
            "\n"
          ],
          "name": "stdout"
        },
        {
          "output_type": "stream",
          "text": [
            "\r 13%|█▎        | 4/31 [00:01<00:08,  3.20it/s]"
          ],
          "name": "stderr"
        },
        {
          "output_type": "stream",
          "text": [
            "\n",
            "Number of matches 2000\n",
            "Number of matches After Lowe's Ratio 212\n",
            "Number of Robust matches 187\n",
            "\n",
            "\n"
          ],
          "name": "stdout"
        },
        {
          "output_type": "stream",
          "text": [
            "\r 16%|█▌        | 5/31 [00:01<00:08,  3.25it/s]"
          ],
          "name": "stderr"
        },
        {
          "output_type": "stream",
          "text": [
            "\n",
            "Number of matches 2000\n",
            "Number of matches After Lowe's Ratio 220\n",
            "Number of Robust matches 198\n",
            "\n",
            "\n"
          ],
          "name": "stdout"
        },
        {
          "output_type": "stream",
          "text": [
            "\r 19%|█▉        | 6/31 [00:01<00:07,  3.43it/s]"
          ],
          "name": "stderr"
        },
        {
          "output_type": "stream",
          "text": [
            "\n",
            "Number of matches 2000\n",
            "Number of matches After Lowe's Ratio 248\n",
            "Number of Robust matches 233\n",
            "\n",
            "\n"
          ],
          "name": "stdout"
        },
        {
          "output_type": "stream",
          "text": [
            "\r 23%|██▎       | 7/31 [00:02<00:06,  3.44it/s]"
          ],
          "name": "stderr"
        },
        {
          "output_type": "stream",
          "text": [
            "\n",
            "Number of matches 2000\n",
            "Number of matches After Lowe's Ratio 308\n",
            "Number of Robust matches 299\n",
            "\n",
            "\n"
          ],
          "name": "stdout"
        },
        {
          "output_type": "stream",
          "text": [
            "\r 26%|██▌       | 8/31 [00:02<00:06,  3.52it/s]"
          ],
          "name": "stderr"
        },
        {
          "output_type": "stream",
          "text": [
            "\n",
            "Number of matches 2000\n",
            "Number of matches After Lowe's Ratio 305\n",
            "Number of Robust matches 290\n",
            "\n",
            "\n"
          ],
          "name": "stdout"
        },
        {
          "output_type": "stream",
          "text": [
            "\r 29%|██▉       | 9/31 [00:02<00:06,  3.61it/s]"
          ],
          "name": "stderr"
        },
        {
          "output_type": "stream",
          "text": [
            "\n",
            "Number of matches 2000\n",
            "Number of matches After Lowe's Ratio 317\n",
            "Number of Robust matches 302\n",
            "\n",
            "\n"
          ],
          "name": "stdout"
        },
        {
          "output_type": "stream",
          "text": [
            "\r 32%|███▏      | 10/31 [00:03<00:05,  3.59it/s]"
          ],
          "name": "stderr"
        },
        {
          "output_type": "stream",
          "text": [
            "\n",
            "Number of matches 2000\n",
            "Number of matches After Lowe's Ratio 293\n",
            "Number of Robust matches 230\n",
            "\n",
            "\n"
          ],
          "name": "stdout"
        },
        {
          "output_type": "stream",
          "text": [
            "\r 35%|███▌      | 11/31 [00:03<00:05,  3.49it/s]"
          ],
          "name": "stderr"
        },
        {
          "output_type": "stream",
          "text": [
            "\n",
            "Number of matches 2000\n",
            "Number of matches After Lowe's Ratio 10\n",
            "Number of Robust matches 6\n",
            "\n",
            "\n",
            "Number of matches After Lowe's Ratio New 83\n",
            "Number of Robust matches New 22\n",
            "\n",
            "\n"
          ],
          "name": "stdout"
        },
        {
          "output_type": "stream",
          "text": [
            "\r 39%|███▊      | 12/31 [00:03<00:05,  3.55it/s]"
          ],
          "name": "stderr"
        },
        {
          "output_type": "stream",
          "text": [
            "\n",
            "Number of matches 2000\n",
            "Number of matches After Lowe's Ratio 560\n",
            "Number of Robust matches 560\n",
            "\n",
            "\n"
          ],
          "name": "stdout"
        },
        {
          "output_type": "stream",
          "text": [
            "\r 42%|████▏     | 13/31 [00:03<00:05,  3.56it/s]"
          ],
          "name": "stderr"
        },
        {
          "output_type": "stream",
          "text": [
            "\n",
            "Number of matches 2001\n",
            "Number of matches After Lowe's Ratio 298\n",
            "Number of Robust matches 279\n",
            "\n",
            "\n"
          ],
          "name": "stdout"
        },
        {
          "output_type": "stream",
          "text": [
            "\r 45%|████▌     | 14/31 [00:04<00:04,  3.61it/s]"
          ],
          "name": "stderr"
        },
        {
          "output_type": "stream",
          "text": [
            "\n",
            "Number of matches 2000\n",
            "Number of matches After Lowe's Ratio 353\n",
            "Number of Robust matches 315\n",
            "\n",
            "\n"
          ],
          "name": "stdout"
        },
        {
          "output_type": "stream",
          "text": [
            "\r 48%|████▊     | 15/31 [00:04<00:04,  3.61it/s]"
          ],
          "name": "stderr"
        },
        {
          "output_type": "stream",
          "text": [
            "\n",
            "Number of matches 2000\n",
            "Number of matches After Lowe's Ratio 283\n",
            "Number of Robust matches 235\n",
            "\n",
            "\n"
          ],
          "name": "stdout"
        },
        {
          "output_type": "stream",
          "text": [
            "\r 52%|█████▏    | 16/31 [00:04<00:04,  3.62it/s]"
          ],
          "name": "stderr"
        },
        {
          "output_type": "stream",
          "text": [
            "\n",
            "Number of matches 2001\n",
            "Number of matches After Lowe's Ratio 216\n",
            "Number of Robust matches 180\n",
            "\n",
            "\n"
          ],
          "name": "stdout"
        },
        {
          "output_type": "stream",
          "text": [
            "\r 55%|█████▍    | 17/31 [00:04<00:03,  3.64it/s]"
          ],
          "name": "stderr"
        },
        {
          "output_type": "stream",
          "text": [
            "\n",
            "Number of matches 2000\n",
            "Number of matches After Lowe's Ratio 233\n",
            "Number of Robust matches 206\n",
            "\n",
            "\n"
          ],
          "name": "stdout"
        },
        {
          "output_type": "stream",
          "text": [
            "\r 58%|█████▊    | 18/31 [00:05<00:03,  3.64it/s]"
          ],
          "name": "stderr"
        },
        {
          "output_type": "stream",
          "text": [
            "\n",
            "Number of matches 2000\n",
            "Number of matches After Lowe's Ratio 186\n",
            "Number of Robust matches 170\n",
            "\n",
            "\n"
          ],
          "name": "stdout"
        },
        {
          "output_type": "stream",
          "text": [
            "\r 61%|██████▏   | 19/31 [00:05<00:03,  3.73it/s]"
          ],
          "name": "stderr"
        },
        {
          "output_type": "stream",
          "text": [
            "\n",
            "Number of matches 2000\n",
            "Number of matches After Lowe's Ratio 155\n",
            "Number of Robust matches 134\n",
            "\n",
            "\n"
          ],
          "name": "stdout"
        },
        {
          "output_type": "stream",
          "text": [
            "\r 65%|██████▍   | 20/31 [00:05<00:02,  3.67it/s]"
          ],
          "name": "stderr"
        },
        {
          "output_type": "stream",
          "text": [
            "\n",
            "Number of matches 2000\n",
            "Number of matches After Lowe's Ratio 194\n",
            "Number of Robust matches 165\n",
            "\n",
            "\n"
          ],
          "name": "stdout"
        },
        {
          "output_type": "stream",
          "text": [
            "\r 68%|██████▊   | 21/31 [00:06<00:02,  3.67it/s]"
          ],
          "name": "stderr"
        },
        {
          "output_type": "stream",
          "text": [
            "\n",
            "Number of matches 2000\n",
            "Number of matches After Lowe's Ratio 175\n",
            "Number of Robust matches 147\n",
            "\n",
            "\n"
          ],
          "name": "stdout"
        },
        {
          "output_type": "stream",
          "text": [
            "\r 71%|███████   | 22/31 [00:06<00:02,  3.63it/s]"
          ],
          "name": "stderr"
        },
        {
          "output_type": "stream",
          "text": [
            "\n",
            "Number of matches 2001\n",
            "Number of matches After Lowe's Ratio 22\n",
            "Number of Robust matches 18\n",
            "\n",
            "\n",
            "Number of matches After Lowe's Ratio New 83\n",
            "Number of Robust matches New 26\n",
            "\n",
            "\n"
          ],
          "name": "stdout"
        },
        {
          "output_type": "stream",
          "text": [
            "\r 74%|███████▍  | 23/31 [00:06<00:02,  3.67it/s]"
          ],
          "name": "stderr"
        },
        {
          "output_type": "stream",
          "text": [
            "\n",
            "Number of matches 2001\n",
            "Number of matches After Lowe's Ratio 786\n",
            "Number of Robust matches 755\n",
            "\n",
            "\n"
          ],
          "name": "stdout"
        },
        {
          "output_type": "stream",
          "text": [
            "\r 77%|███████▋  | 24/31 [00:06<00:01,  3.71it/s]"
          ],
          "name": "stderr"
        },
        {
          "output_type": "stream",
          "text": [
            "\n",
            "Number of matches 2001\n",
            "Number of matches After Lowe's Ratio 242\n",
            "Number of Robust matches 190\n",
            "\n",
            "\n"
          ],
          "name": "stdout"
        },
        {
          "output_type": "stream",
          "text": [
            "\r 81%|████████  | 25/31 [00:07<00:01,  3.71it/s]"
          ],
          "name": "stderr"
        },
        {
          "output_type": "stream",
          "text": [
            "\n",
            "Number of matches 2000\n",
            "Number of matches After Lowe's Ratio 237\n",
            "Number of Robust matches 219\n",
            "\n",
            "\n"
          ],
          "name": "stdout"
        },
        {
          "output_type": "stream",
          "text": [
            "\r 84%|████████▍ | 26/31 [00:07<00:01,  3.71it/s]"
          ],
          "name": "stderr"
        },
        {
          "output_type": "stream",
          "text": [
            "\n",
            "Number of matches 2002\n",
            "Number of matches After Lowe's Ratio 281\n",
            "Number of Robust matches 242\n",
            "\n",
            "\n"
          ],
          "name": "stdout"
        },
        {
          "output_type": "stream",
          "text": [
            "\r 87%|████████▋ | 27/31 [00:07<00:01,  3.74it/s]"
          ],
          "name": "stderr"
        },
        {
          "output_type": "stream",
          "text": [
            "\n",
            "Number of matches 2000\n",
            "Number of matches After Lowe's Ratio 251\n",
            "Number of Robust matches 237\n",
            "\n",
            "\n"
          ],
          "name": "stdout"
        },
        {
          "output_type": "stream",
          "text": [
            "\r 90%|█████████ | 28/31 [00:07<00:00,  3.73it/s]"
          ],
          "name": "stderr"
        },
        {
          "output_type": "stream",
          "text": [
            "\n",
            "Number of matches 2000\n",
            "Number of matches After Lowe's Ratio 287\n",
            "Number of Robust matches 257\n",
            "\n",
            "\n"
          ],
          "name": "stdout"
        },
        {
          "output_type": "stream",
          "text": [
            "\r 94%|█████████▎| 29/31 [00:08<00:00,  3.68it/s]"
          ],
          "name": "stderr"
        },
        {
          "output_type": "stream",
          "text": [
            "\n",
            "Number of matches 2000\n",
            "Number of matches After Lowe's Ratio 28\n",
            "Number of Robust matches 22\n",
            "\n",
            "\n",
            "Number of matches After Lowe's Ratio New 94\n",
            "Number of Robust matches New 37\n",
            "\n",
            "\n"
          ],
          "name": "stdout"
        },
        {
          "output_type": "stream",
          "text": [
            "  0%|          | 0/30 [00:00<?, ?it/s]"
          ],
          "name": "stderr"
        },
        {
          "output_type": "stream",
          "text": [
            "\n",
            "Number of matches 2000\n",
            "Number of matches After Lowe's Ratio 409\n",
            "Number of Robust matches 394\n",
            "\n",
            "\n"
          ],
          "name": "stdout"
        },
        {
          "output_type": "stream",
          "text": [
            "\r  3%|▎         | 1/30 [00:00<00:08,  3.39it/s]"
          ],
          "name": "stderr"
        },
        {
          "output_type": "stream",
          "text": [
            "\n",
            "Number of matches 2001\n",
            "Number of matches After Lowe's Ratio 234\n",
            "Number of Robust matches 189\n",
            "\n",
            "\n"
          ],
          "name": "stdout"
        },
        {
          "output_type": "stream",
          "text": [
            "\r  7%|▋         | 2/30 [00:00<00:08,  3.48it/s]"
          ],
          "name": "stderr"
        },
        {
          "output_type": "stream",
          "text": [
            "\n",
            "Number of matches 2000\n",
            "Number of matches After Lowe's Ratio 246\n",
            "Number of Robust matches 194\n",
            "\n",
            "\n"
          ],
          "name": "stdout"
        },
        {
          "output_type": "stream",
          "text": [
            "\r 10%|█         | 3/30 [00:00<00:07,  3.47it/s]"
          ],
          "name": "stderr"
        },
        {
          "output_type": "stream",
          "text": [
            "\n",
            "Number of matches 2000\n",
            "Number of matches After Lowe's Ratio 195\n",
            "Number of Robust matches 158\n",
            "\n",
            "\n"
          ],
          "name": "stdout"
        },
        {
          "output_type": "stream",
          "text": [
            "\r 13%|█▎        | 4/30 [00:01<00:07,  3.52it/s]"
          ],
          "name": "stderr"
        },
        {
          "output_type": "stream",
          "text": [
            "\n",
            "Number of matches 2001\n",
            "Number of matches After Lowe's Ratio 191\n",
            "Number of Robust matches 169\n",
            "\n",
            "\n"
          ],
          "name": "stdout"
        },
        {
          "output_type": "stream",
          "text": [
            "\r 17%|█▋        | 5/30 [00:01<00:07,  3.50it/s]"
          ],
          "name": "stderr"
        },
        {
          "output_type": "stream",
          "text": [
            "\n",
            "Number of matches 2000\n",
            "Number of matches After Lowe's Ratio 695\n",
            "Number of Robust matches 683\n",
            "\n",
            "\n"
          ],
          "name": "stdout"
        },
        {
          "output_type": "stream",
          "text": [
            "\r 20%|██        | 6/30 [00:01<00:07,  3.31it/s]"
          ],
          "name": "stderr"
        },
        {
          "output_type": "stream",
          "text": [
            "\n",
            "Number of matches 2000\n",
            "Number of matches After Lowe's Ratio 9\n",
            "Number of Robust matches 5\n",
            "\n",
            "\n",
            "Number of matches After Lowe's Ratio New 61\n",
            "Number of Robust matches New 6\n",
            "\n",
            "\n"
          ],
          "name": "stdout"
        },
        {
          "output_type": "stream",
          "text": [
            "\r 23%|██▎       | 7/30 [00:02<00:06,  3.35it/s]"
          ],
          "name": "stderr"
        },
        {
          "output_type": "stream",
          "text": [
            "\n",
            "Number of matches 2001\n",
            "Number of matches After Lowe's Ratio 137\n",
            "Number of Robust matches 91\n",
            "\n",
            "\n"
          ],
          "name": "stdout"
        },
        {
          "output_type": "stream",
          "text": [
            "\r 27%|██▋       | 8/30 [00:02<00:06,  3.44it/s]"
          ],
          "name": "stderr"
        },
        {
          "output_type": "stream",
          "text": [
            "\n",
            "Number of matches 2000\n",
            "Number of matches After Lowe's Ratio 147\n",
            "Number of Robust matches 88\n",
            "\n",
            "\n"
          ],
          "name": "stdout"
        },
        {
          "output_type": "stream",
          "text": [
            "\r 30%|███       | 9/30 [00:02<00:06,  3.49it/s]"
          ],
          "name": "stderr"
        },
        {
          "output_type": "stream",
          "text": [
            "\n",
            "Number of matches 2000\n",
            "Number of matches After Lowe's Ratio 170\n",
            "Number of Robust matches 146\n",
            "\n",
            "\n"
          ],
          "name": "stdout"
        },
        {
          "output_type": "stream",
          "text": [
            "\r 33%|███▎      | 10/30 [00:02<00:05,  3.51it/s]"
          ],
          "name": "stderr"
        },
        {
          "output_type": "stream",
          "text": [
            "\n",
            "Number of matches 2000\n",
            "Number of matches After Lowe's Ratio 221\n",
            "Number of Robust matches 188\n",
            "\n",
            "\n"
          ],
          "name": "stdout"
        },
        {
          "output_type": "stream",
          "text": [
            "\r 37%|███▋      | 11/30 [00:03<00:05,  3.52it/s]"
          ],
          "name": "stderr"
        },
        {
          "output_type": "stream",
          "text": [
            "\n",
            "Number of matches 2000\n",
            "Number of matches After Lowe's Ratio 202\n",
            "Number of Robust matches 176\n",
            "\n",
            "\n"
          ],
          "name": "stdout"
        },
        {
          "output_type": "stream",
          "text": [
            "\r 40%|████      | 12/30 [00:03<00:05,  3.58it/s]"
          ],
          "name": "stderr"
        },
        {
          "output_type": "stream",
          "text": [
            "\n",
            "Number of matches 2000\n",
            "Number of matches After Lowe's Ratio 203\n",
            "Number of Robust matches 161\n",
            "\n",
            "\n"
          ],
          "name": "stdout"
        },
        {
          "output_type": "stream",
          "text": [
            "\r 43%|████▎     | 13/30 [00:03<00:04,  3.60it/s]"
          ],
          "name": "stderr"
        },
        {
          "output_type": "stream",
          "text": [
            "\n",
            "Number of matches 2000\n",
            "Number of matches After Lowe's Ratio 184\n",
            "Number of Robust matches 143\n",
            "\n",
            "\n"
          ],
          "name": "stdout"
        },
        {
          "output_type": "stream",
          "text": [
            "\r 47%|████▋     | 14/30 [00:03<00:04,  3.58it/s]"
          ],
          "name": "stderr"
        },
        {
          "output_type": "stream",
          "text": [
            "\n",
            "Number of matches 2000\n",
            "Number of matches After Lowe's Ratio 129\n",
            "Number of Robust matches 100\n",
            "\n",
            "\n"
          ],
          "name": "stdout"
        },
        {
          "output_type": "stream",
          "text": [
            "\r 50%|█████     | 15/30 [00:04<00:04,  3.58it/s]"
          ],
          "name": "stderr"
        },
        {
          "output_type": "stream",
          "text": [
            "\n",
            "Number of matches 2001\n",
            "Number of matches After Lowe's Ratio 158\n",
            "Number of Robust matches 141\n",
            "\n",
            "\n"
          ],
          "name": "stdout"
        },
        {
          "output_type": "stream",
          "text": [
            "\r 53%|█████▎    | 16/30 [00:04<00:03,  3.62it/s]"
          ],
          "name": "stderr"
        },
        {
          "output_type": "stream",
          "text": [
            "\n",
            "Number of matches 2000\n",
            "Number of matches After Lowe's Ratio 199\n",
            "Number of Robust matches 167\n",
            "\n",
            "\n"
          ],
          "name": "stdout"
        },
        {
          "output_type": "stream",
          "text": [
            "\r 57%|█████▋    | 17/30 [00:04<00:03,  3.62it/s]"
          ],
          "name": "stderr"
        },
        {
          "output_type": "stream",
          "text": [
            "\n",
            "Number of matches 2000\n",
            "Number of matches After Lowe's Ratio 216\n",
            "Number of Robust matches 185\n",
            "\n",
            "\n"
          ],
          "name": "stdout"
        },
        {
          "output_type": "stream",
          "text": [
            "\r 60%|██████    | 18/30 [00:05<00:03,  3.59it/s]"
          ],
          "name": "stderr"
        },
        {
          "output_type": "stream",
          "text": [
            "\n",
            "Number of matches 2000\n",
            "Number of matches After Lowe's Ratio 234\n",
            "Number of Robust matches 174\n",
            "\n",
            "\n"
          ],
          "name": "stdout"
        },
        {
          "output_type": "stream",
          "text": [
            "\r 63%|██████▎   | 19/30 [00:05<00:03,  3.63it/s]"
          ],
          "name": "stderr"
        },
        {
          "output_type": "stream",
          "text": [
            "\n",
            "Number of matches 2000\n",
            "Number of matches After Lowe's Ratio 268\n",
            "Number of Robust matches 221\n",
            "\n",
            "\n"
          ],
          "name": "stdout"
        },
        {
          "output_type": "stream",
          "text": [
            "\r 67%|██████▋   | 20/30 [00:05<00:02,  3.56it/s]"
          ],
          "name": "stderr"
        },
        {
          "output_type": "stream",
          "text": [
            "\n",
            "Number of matches 2000\n",
            "Number of matches After Lowe's Ratio 242\n",
            "Number of Robust matches 222\n",
            "\n",
            "\n"
          ],
          "name": "stdout"
        },
        {
          "output_type": "stream",
          "text": [
            "\r 70%|███████   | 21/30 [00:05<00:02,  3.58it/s]"
          ],
          "name": "stderr"
        },
        {
          "output_type": "stream",
          "text": [
            "\n",
            "Number of matches 2000\n",
            "Number of matches After Lowe's Ratio 248\n",
            "Number of Robust matches 218\n",
            "\n",
            "\n"
          ],
          "name": "stdout"
        },
        {
          "output_type": "stream",
          "text": [
            "\r 73%|███████▎  | 22/30 [00:06<00:02,  3.63it/s]"
          ],
          "name": "stderr"
        },
        {
          "output_type": "stream",
          "text": [
            "\n",
            "Number of matches 2001\n",
            "Number of matches After Lowe's Ratio 219\n",
            "Number of Robust matches 139\n",
            "\n",
            "\n"
          ],
          "name": "stdout"
        },
        {
          "output_type": "stream",
          "text": [
            "\r 77%|███████▋  | 23/30 [00:06<00:01,  3.68it/s]"
          ],
          "name": "stderr"
        },
        {
          "output_type": "stream",
          "text": [
            "\n",
            "Number of matches 2000\n",
            "Number of matches After Lowe's Ratio 193\n",
            "Number of Robust matches 118\n",
            "\n",
            "\n"
          ],
          "name": "stdout"
        },
        {
          "output_type": "stream",
          "text": [
            "\r 80%|████████  | 24/30 [00:06<00:01,  3.69it/s]"
          ],
          "name": "stderr"
        },
        {
          "output_type": "stream",
          "text": [
            "\n",
            "Number of matches 2000\n",
            "Number of matches After Lowe's Ratio 147\n",
            "Number of Robust matches 90\n",
            "\n",
            "\n"
          ],
          "name": "stdout"
        },
        {
          "output_type": "stream",
          "text": [
            "\r 83%|████████▎ | 25/30 [00:07<00:01,  3.64it/s]"
          ],
          "name": "stderr"
        },
        {
          "output_type": "stream",
          "text": [
            "\n",
            "Number of matches 2000\n",
            "Number of matches After Lowe's Ratio 277\n",
            "Number of Robust matches 128\n",
            "\n",
            "\n"
          ],
          "name": "stdout"
        },
        {
          "output_type": "stream",
          "text": [
            "\r 87%|████████▋ | 26/30 [00:07<00:01,  3.38it/s]"
          ],
          "name": "stderr"
        },
        {
          "output_type": "stream",
          "text": [
            "\n",
            "Number of matches 2000\n",
            "Number of matches After Lowe's Ratio 8\n",
            "Number of Robust matches 4\n",
            "\n",
            "\n",
            "Number of matches After Lowe's Ratio New 77\n",
            "Number of Robust matches New 10\n",
            "\n",
            "\n"
          ],
          "name": "stdout"
        },
        {
          "output_type": "stream",
          "text": [
            "\r 90%|█████████ | 27/30 [00:07<00:00,  3.44it/s]"
          ],
          "name": "stderr"
        },
        {
          "output_type": "stream",
          "text": [
            "\n",
            "Number of matches 2000\n",
            "Number of matches After Lowe's Ratio 93\n",
            "Number of Robust matches 25\n",
            "\n",
            "\n"
          ],
          "name": "stdout"
        },
        {
          "output_type": "stream",
          "text": [
            "\r 93%|█████████▎| 28/30 [00:07<00:00,  3.46it/s]"
          ],
          "name": "stderr"
        },
        {
          "output_type": "stream",
          "text": [
            "\n",
            "Number of matches 2000\n",
            "Number of matches After Lowe's Ratio 124\n",
            "Number of Robust matches 37\n",
            "\n",
            "\n"
          ],
          "name": "stdout"
        },
        {
          "output_type": "stream",
          "text": [
            "\r 97%|█████████▋| 29/30 [00:08<00:00,  3.43it/s]"
          ],
          "name": "stderr"
        },
        {
          "output_type": "stream",
          "text": [
            "\n",
            "Number of matches 2001\n",
            "Number of matches After Lowe's Ratio 134\n",
            "Number of Robust matches 40\n",
            "\n",
            "\n"
          ],
          "name": "stdout"
        }
      ]
    },
    {
      "cell_type": "code",
      "metadata": {
        "id": "S0ZfgXvFCpXA",
        "colab": {
          "base_uri": "https://localhost:8080/"
        },
        "outputId": "52a2955b-c588-496e-faad-dc79c38cb74b"
      },
      "source": [
        "\n",
        "import h5py as h5\n",
        "f=h5.File('drive/MyDrive/H_left_sift_40.h5','w')\n",
        "t0=time.time()\n",
        "f.create_dataset('data',data=H_left_sift)\n",
        "f.close()\n",
        "print('HDF5  w/o comp.:',time.time()-t0,'[s] ... size',os.path.getsize('drive/MyDrive/H_left_sift_40.h5')/1.e6,'MB')"
      ],
      "execution_count": 47,
      "outputs": [
        {
          "output_type": "stream",
          "text": [
            "HDF5  w/o comp.: 0.007642984390258789 [s] ... size 0.004208 MB\n"
          ],
          "name": "stdout"
        }
      ]
    },
    {
      "cell_type": "code",
      "metadata": {
        "id": "X5aeoRmrCpUD",
        "colab": {
          "base_uri": "https://localhost:8080/"
        },
        "outputId": "0e0df9b9-680a-4973-d3c9-3b126ef774da"
      },
      "source": [
        "\n",
        "import h5py as h5\n",
        "f=h5.File('drive/MyDrive/H_right_sift_40.h5','w')\n",
        "t0=time.time()\n",
        "f.create_dataset('data',data=H_right_sift)\n",
        "f.close()\n",
        "print('HDF5  w/o comp.:',time.time()-t0,'[s] ... size',os.path.getsize('drive/MyDrive/H_right_sift_40.h5')/1.e6,'MB')"
      ],
      "execution_count": 48,
      "outputs": [
        {
          "output_type": "stream",
          "text": [
            "HDF5  w/o comp.: 0.014472484588623047 [s] ... size 0.004136 MB\n"
          ],
          "name": "stdout"
        }
      ]
    },
    {
      "cell_type": "code",
      "metadata": {
        "id": "Sm6OxmVOCpOq"
      },
      "source": [
        "\n",
        "del H_left_sift, H_right_sift,keypoints_all_left_sift, keypoints_all_right_sift, descriptors_all_left_sift, descriptors_all_right_sift, points_all_left_sift, points_all_right_sift"
      ],
      "execution_count": 49,
      "outputs": []
    },
    {
      "cell_type": "code",
      "metadata": {
        "id": "vq9_ipIrCpL0"
      },
      "source": [
        ""
      ],
      "execution_count": null,
      "outputs": []
    },
    {
      "cell_type": "code",
      "metadata": {
        "id": "FrD8MHF3CpJT"
      },
      "source": [
        "'''\n",
        "import pickle\n",
        "Fdb = open('all_feat_fast_left.dat', 'rb')\n",
        "kpts_all = pickle.load(Fdb)\n",
        "Fdb.close()\n",
        "\n",
        "keypoints_all_left_fast = []\n",
        "descriptors_all_left_fast = []\n",
        "\n",
        "for j,kpt_each in enumerate(kpts_all):\n",
        "  keypoints_each = []\n",
        "  descrip_each = []\n",
        "  for k,kpt_img in enumerate(kpt_each):\n",
        "    temp_feature = cv2.KeyPoint(x=kpt_img[0][0],y=kpt_img[0][1],_size=kpt_img[1], _angle=kpt_img[2], \n",
        "                            _response=kpt_img[3], _octave=kpt_img[4], _class_id=kpt_img[5]) \n",
        "    temp_descriptor = kpt_img[6]\n",
        "    keypoints_each.append(temp_feature)\n",
        "    descrip_each.append(temp_descriptor)\n",
        "  points_all_left_fast.append(np.asarray([[p.pt[0], p.pt[1]] for p in keypoints_each]))\n",
        "  keypoints_all_left_fast.append(keypoints_each)\n",
        "  descriptors_all_left_fast.append(descrip_each)"
      ],
      "execution_count": null,
      "outputs": []
    },
    {
      "cell_type": "code",
      "metadata": {
        "id": "OgCxWEUpCpGg"
      },
      "source": [
        "'''\n",
        "import pickle\n",
        "Fdb = open('all_feat_fast_right.dat', 'rb')\n",
        "kpts_all = pickle.load(Fdb)\n",
        "Fdb.close()\n",
        "\n",
        "keypoints_all_right_fast = []\n",
        "descriptors_all_right_fast = []\n",
        "\n",
        "for j,kpt_each in enumerate(kpts_all):\n",
        "  keypoints_each = []\n",
        "  descrip_each = []\n",
        "  for k,kpt_img in enumerate(kpt_each):\n",
        "    temp_feature = cv2.KeyPoint(x=kpt_img[0][0],y=kpt_img[0][1],_size=kpt_img[1], _angle=kpt_img[2], \n",
        "                            _response=kpt_img[3], _octave=kpt_img[4], _class_id=kpt_img[5]) \n",
        "    temp_descriptor = kpt_img[6]\n",
        "    keypoints_each.append(temp_feature)\n",
        "    descrip_each.append(temp_descriptor)\n",
        "  points_all_right_fast.append(np.asarray([[p.pt[0], p.pt[1]] for p in keypoints_each]))\n",
        "  keypoints_all_right_fast.append(keypoints_each)\n",
        "  descriptors_all_right_fast.append(descrip_each)"
      ],
      "execution_count": null,
      "outputs": []
    },
    {
      "cell_type": "code",
      "metadata": {
        "id": "pBGTBep2CpD7",
        "colab": {
          "base_uri": "https://localhost:8080/"
        },
        "outputId": "690dff05-bb6f-48ab-93d3-3d31ee65fef8"
      },
      "source": [
        "\n",
        "H_left_fast = []\n",
        "H_right_fast = []\n",
        "\n",
        "num_matches_fast = []\n",
        "num_good_matches_fast = []\n",
        "\n",
        "for j in tqdm(range(len(left_files_path))):\n",
        "  if j==len(left_files_path)-1:\n",
        "    break\n",
        "\n",
        "  H_a,matches,gd_matches = get_Hmatrix(images_left_bgr[j:j+2][::-1],keypoints_all_left_fast[j:j+2][::-1],points_all_left_fast[j:j+2][::-1],descriptors_all_left_fast[j:j+2][::-1],0.9,6)\n",
        "  H_left_fast.append(H_a)\n",
        "  num_matches_fast.append(matches)\n",
        "  num_good_matches_fast.append(gd_matches)\n",
        "\n",
        "for j in tqdm(range(len(right_files_path))):\n",
        "  if j==len(right_files_path)-1:\n",
        "    break\n",
        "\n",
        "  H_a,matches,gd_matches = get_Hmatrix(images_right_bgr[j:j+2][::-1],keypoints_all_right_fast[j:j+2][::-1],points_all_right_fast[j:j+2][::-1],descriptors_all_right_fast[j:j+2][::-1],0.9,6)\n",
        "  H_right_fast.append(H_a)\n",
        "  num_matches_fast.append(matches)\n",
        "  num_good_matches_fast.append(gd_matches)"
      ],
      "execution_count": 32,
      "outputs": [
        {
          "output_type": "stream",
          "text": [
            "\r  0%|          | 0/31 [00:00<?, ?it/s]"
          ],
          "name": "stderr"
        },
        {
          "output_type": "stream",
          "text": [
            "\n",
            "Number of matches 84068\n",
            "Number of matches After Lowe's Ratio 40314\n"
          ],
          "name": "stdout"
        },
        {
          "output_type": "stream",
          "text": [
            "\r  3%|▎         | 1/31 [00:21<10:58, 21.96s/it]"
          ],
          "name": "stderr"
        },
        {
          "output_type": "stream",
          "text": [
            "Number of Robust matches 30951\n",
            "\n",
            "\n",
            "\n",
            "Number of matches 98207\n",
            "Number of matches After Lowe's Ratio 44272\n"
          ],
          "name": "stdout"
        },
        {
          "output_type": "stream",
          "text": [
            "\r  6%|▋         | 2/31 [00:46<11:01, 22.82s/it]"
          ],
          "name": "stderr"
        },
        {
          "output_type": "stream",
          "text": [
            "Number of Robust matches 38623\n",
            "\n",
            "\n",
            "\n",
            "Number of matches 99261\n",
            "Number of matches After Lowe's Ratio 49029\n"
          ],
          "name": "stdout"
        },
        {
          "output_type": "stream",
          "text": [
            "\r 10%|▉         | 3/31 [01:13<11:09, 23.92s/it]"
          ],
          "name": "stderr"
        },
        {
          "output_type": "stream",
          "text": [
            "Number of Robust matches 44004\n",
            "\n",
            "\n",
            "\n",
            "Number of matches 109305\n",
            "Number of matches After Lowe's Ratio 53898\n"
          ],
          "name": "stdout"
        },
        {
          "output_type": "stream",
          "text": [
            "\r 13%|█▎        | 4/31 [01:41<11:18, 25.15s/it]"
          ],
          "name": "stderr"
        },
        {
          "output_type": "stream",
          "text": [
            "Number of Robust matches 47376\n",
            "\n",
            "\n",
            "\n",
            "Number of matches 121974\n",
            "Number of matches After Lowe's Ratio 60773\n"
          ],
          "name": "stdout"
        },
        {
          "output_type": "stream",
          "text": [
            "\r 16%|█▌        | 5/31 [02:12<11:43, 27.06s/it]"
          ],
          "name": "stderr"
        },
        {
          "output_type": "stream",
          "text": [
            "Number of Robust matches 46612\n",
            "\n",
            "\n",
            "\n",
            "Number of matches 124016\n",
            "Number of matches After Lowe's Ratio 62075\n"
          ],
          "name": "stdout"
        },
        {
          "output_type": "stream",
          "text": [
            "\r 19%|█▉        | 6/31 [02:46<12:05, 29.02s/it]"
          ],
          "name": "stderr"
        },
        {
          "output_type": "stream",
          "text": [
            "Number of Robust matches 55185\n",
            "\n",
            "\n",
            "\n",
            "Number of matches 127675\n",
            "Number of matches After Lowe's Ratio 64701\n"
          ],
          "name": "stdout"
        },
        {
          "output_type": "stream",
          "text": [
            "\r 23%|██▎       | 7/31 [03:20<12:13, 30.58s/it]"
          ],
          "name": "stderr"
        },
        {
          "output_type": "stream",
          "text": [
            "Number of Robust matches 60032\n",
            "\n",
            "\n",
            "\n",
            "Number of matches 143696\n",
            "Number of matches After Lowe's Ratio 70629\n"
          ],
          "name": "stdout"
        },
        {
          "output_type": "stream",
          "text": [
            "\r 26%|██▌       | 8/31 [03:57<12:29, 32.58s/it]"
          ],
          "name": "stderr"
        },
        {
          "output_type": "stream",
          "text": [
            "Number of Robust matches 50108\n",
            "\n",
            "\n",
            "\n",
            "Number of matches 134444\n",
            "Number of matches After Lowe's Ratio 68313\n"
          ],
          "name": "stdout"
        },
        {
          "output_type": "stream",
          "text": [
            "\r 29%|██▉       | 9/31 [04:35<12:31, 34.16s/it]"
          ],
          "name": "stderr"
        },
        {
          "output_type": "stream",
          "text": [
            "Number of Robust matches 59863\n",
            "\n",
            "\n",
            "\n",
            "Number of matches 176752\n",
            "Number of matches After Lowe's Ratio 49189\n"
          ],
          "name": "stdout"
        },
        {
          "output_type": "stream",
          "text": [
            "\r 32%|███▏      | 10/31 [05:21<13:11, 37.68s/it]"
          ],
          "name": "stderr"
        },
        {
          "output_type": "stream",
          "text": [
            "Number of Robust matches 42637\n",
            "\n",
            "\n",
            "\n",
            "Number of matches 170862\n",
            "Number of matches After Lowe's Ratio 3638\n",
            "Number of Robust matches 9\n",
            "\n",
            "\n"
          ],
          "name": "stdout"
        },
        {
          "output_type": "stream",
          "text": [
            "\r 35%|███▌      | 11/31 [06:07<13:19, 40.00s/it]"
          ],
          "name": "stderr"
        },
        {
          "output_type": "stream",
          "text": [
            "Number of matches After Lowe's Ratio New 341\n",
            "Number of Robust matches New 8\n",
            "\n",
            "\n",
            "\n",
            "Number of matches 148898\n",
            "Number of matches After Lowe's Ratio 105942\n"
          ],
          "name": "stdout"
        },
        {
          "output_type": "stream",
          "text": [
            "\r 39%|███▊      | 12/31 [07:01<14:04, 44.47s/it]"
          ],
          "name": "stderr"
        },
        {
          "output_type": "stream",
          "text": [
            "Number of Robust matches 101307\n",
            "\n",
            "\n",
            "\n",
            "Number of matches 138957\n",
            "Number of matches After Lowe's Ratio 75889\n"
          ],
          "name": "stdout"
        },
        {
          "output_type": "stream",
          "text": [
            "\r 42%|████▏     | 13/31 [07:40<12:47, 42.65s/it]"
          ],
          "name": "stderr"
        },
        {
          "output_type": "stream",
          "text": [
            "Number of Robust matches 71180\n",
            "\n",
            "\n",
            "\n",
            "Number of matches 130722\n",
            "Number of matches After Lowe's Ratio 70696\n"
          ],
          "name": "stdout"
        },
        {
          "output_type": "stream",
          "text": [
            "\r 45%|████▌     | 14/31 [08:20<11:51, 41.83s/it]"
          ],
          "name": "stderr"
        },
        {
          "output_type": "stream",
          "text": [
            "Number of Robust matches 56627\n",
            "\n",
            "\n",
            "\n",
            "Number of matches 118594\n",
            "Number of matches After Lowe's Ratio 63572\n"
          ],
          "name": "stdout"
        },
        {
          "output_type": "stream",
          "text": [
            "\r 48%|████▊     | 15/31 [09:00<11:00, 41.30s/it]"
          ],
          "name": "stderr"
        },
        {
          "output_type": "stream",
          "text": [
            "Number of Robust matches 57964\n",
            "\n",
            "\n",
            "\n",
            "Number of matches 117942\n",
            "Number of matches After Lowe's Ratio 60683\n"
          ],
          "name": "stdout"
        },
        {
          "output_type": "stream",
          "text": [
            "\r 52%|█████▏    | 16/31 [09:32<09:38, 38.57s/it]"
          ],
          "name": "stderr"
        },
        {
          "output_type": "stream",
          "text": [
            "Number of Robust matches 51314\n",
            "\n",
            "\n",
            "\n",
            "Number of matches 116956\n",
            "Number of matches After Lowe's Ratio 60820\n"
          ],
          "name": "stdout"
        },
        {
          "output_type": "stream",
          "text": [
            "\r 55%|█████▍    | 17/31 [10:04<08:34, 36.75s/it]"
          ],
          "name": "stderr"
        },
        {
          "output_type": "stream",
          "text": [
            "Number of Robust matches 54860\n",
            "\n",
            "\n",
            "\n",
            "Number of matches 121391\n",
            "Number of matches After Lowe's Ratio 62077\n"
          ],
          "name": "stdout"
        },
        {
          "output_type": "stream",
          "text": [
            "\r 58%|█████▊    | 18/31 [10:37<07:41, 35.49s/it]"
          ],
          "name": "stderr"
        },
        {
          "output_type": "stream",
          "text": [
            "Number of Robust matches 57691\n",
            "\n",
            "\n",
            "\n",
            "Number of matches 115063\n",
            "Number of matches After Lowe's Ratio 54449\n"
          ],
          "name": "stdout"
        },
        {
          "output_type": "stream",
          "text": [
            "\r 61%|██████▏   | 19/31 [11:10<06:56, 34.68s/it]"
          ],
          "name": "stderr"
        },
        {
          "output_type": "stream",
          "text": [
            "Number of Robust matches 45319\n",
            "\n",
            "\n",
            "\n",
            "Number of matches 115512\n",
            "Number of matches After Lowe's Ratio 53688\n"
          ],
          "name": "stdout"
        },
        {
          "output_type": "stream",
          "text": [
            "\r 65%|██████▍   | 20/31 [11:42<06:12, 33.83s/it]"
          ],
          "name": "stderr"
        },
        {
          "output_type": "stream",
          "text": [
            "Number of Robust matches 39920\n",
            "\n",
            "\n",
            "\n",
            "Number of matches 143343\n",
            "Number of matches After Lowe's Ratio 33319\n"
          ],
          "name": "stdout"
        },
        {
          "output_type": "stream",
          "text": [
            "\r 68%|██████▊   | 21/31 [12:30<06:22, 38.26s/it]"
          ],
          "name": "stderr"
        },
        {
          "output_type": "stream",
          "text": [
            "Number of Robust matches 21867\n",
            "\n",
            "\n",
            "\n",
            "Number of matches 131892\n",
            "Number of matches After Lowe's Ratio 2743\n",
            "Number of Robust matches 7\n",
            "\n",
            "\n",
            "Number of matches After Lowe's Ratio New 271\n"
          ],
          "name": "stdout"
        },
        {
          "output_type": "stream",
          "text": [
            "\r 71%|███████   | 22/31 [13:10<05:49, 38.83s/it]"
          ],
          "name": "stderr"
        },
        {
          "output_type": "stream",
          "text": [
            "Number of Robust matches New 6\n",
            "\n",
            "\n",
            "\n",
            "Number of matches 131529\n",
            "Number of matches After Lowe's Ratio 99603\n"
          ],
          "name": "stdout"
        },
        {
          "output_type": "stream",
          "text": [
            "\r 74%|███████▍  | 23/31 [13:54<05:22, 40.37s/it]"
          ],
          "name": "stderr"
        },
        {
          "output_type": "stream",
          "text": [
            "Number of Robust matches 92988\n",
            "\n",
            "\n",
            "\n",
            "Number of matches 95052\n",
            "Number of matches After Lowe's Ratio 53498\n"
          ],
          "name": "stdout"
        },
        {
          "output_type": "stream",
          "text": [
            "\r 77%|███████▋  | 24/31 [14:32<04:36, 39.44s/it]"
          ],
          "name": "stderr"
        },
        {
          "output_type": "stream",
          "text": [
            "Number of Robust matches 48303\n",
            "\n",
            "\n",
            "\n",
            "Number of matches 106666\n",
            "Number of matches After Lowe's Ratio 54118\n"
          ],
          "name": "stdout"
        },
        {
          "output_type": "stream",
          "text": [
            "\r 81%|████████  | 25/31 [15:00<03:35, 35.97s/it]"
          ],
          "name": "stderr"
        },
        {
          "output_type": "stream",
          "text": [
            "Number of Robust matches 43133\n",
            "\n",
            "\n",
            "\n",
            "Number of matches 104344\n",
            "Number of matches After Lowe's Ratio 53792\n"
          ],
          "name": "stdout"
        },
        {
          "output_type": "stream",
          "text": [
            "\r 84%|████████▍ | 26/31 [15:29<02:50, 34.14s/it]"
          ],
          "name": "stderr"
        },
        {
          "output_type": "stream",
          "text": [
            "Number of Robust matches 48733\n",
            "\n",
            "\n",
            "\n",
            "Number of matches 111197\n",
            "Number of matches After Lowe's Ratio 55489\n"
          ],
          "name": "stdout"
        },
        {
          "output_type": "stream",
          "text": [
            "\r 87%|████████▋ | 27/31 [16:00<02:11, 32.93s/it]"
          ],
          "name": "stderr"
        },
        {
          "output_type": "stream",
          "text": [
            "Number of Robust matches 43523\n",
            "\n",
            "\n",
            "\n",
            "Number of matches 138923\n",
            "Number of matches After Lowe's Ratio 40688\n"
          ],
          "name": "stdout"
        },
        {
          "output_type": "stream",
          "text": [
            "\r 90%|█████████ | 28/31 [16:45<01:50, 36.77s/it]"
          ],
          "name": "stderr"
        },
        {
          "output_type": "stream",
          "text": [
            "Number of Robust matches 32570\n",
            "\n",
            "\n",
            "\n",
            "Number of matches 123654\n",
            "Number of matches After Lowe's Ratio 2817\n",
            "Number of Robust matches 9\n",
            "\n",
            "\n",
            "Number of matches After Lowe's Ratio New 301\n"
          ],
          "name": "stdout"
        },
        {
          "output_type": "stream",
          "text": [
            "\r 94%|█████████▎| 29/31 [17:25<01:15, 37.61s/it]"
          ],
          "name": "stderr"
        },
        {
          "output_type": "stream",
          "text": [
            "Number of Robust matches New 7\n",
            "\n",
            "\n",
            "\n",
            "Number of matches 119234\n",
            "Number of matches After Lowe's Ratio 74389\n"
          ],
          "name": "stdout"
        },
        {
          "output_type": "stream",
          "text": [
            "  0%|          | 0/30 [00:00<?, ?it/s]"
          ],
          "name": "stderr"
        },
        {
          "output_type": "stream",
          "text": [
            "Number of Robust matches 62241\n",
            "\n",
            "\n",
            "\n",
            "Number of matches 92700\n",
            "Number of matches After Lowe's Ratio 43990\n"
          ],
          "name": "stdout"
        },
        {
          "output_type": "stream",
          "text": [
            "\r  3%|▎         | 1/30 [00:24<11:36, 24.03s/it]"
          ],
          "name": "stderr"
        },
        {
          "output_type": "stream",
          "text": [
            "Number of Robust matches 34673\n",
            "\n",
            "\n",
            "\n",
            "Number of matches 82528\n",
            "Number of matches After Lowe's Ratio 39078\n"
          ],
          "name": "stdout"
        },
        {
          "output_type": "stream",
          "text": [
            "\r  7%|▋         | 2/30 [00:48<11:16, 24.16s/it]"
          ],
          "name": "stderr"
        },
        {
          "output_type": "stream",
          "text": [
            "Number of Robust matches 34126\n",
            "\n",
            "\n",
            "\n",
            "Number of matches 82893\n",
            "Number of matches After Lowe's Ratio 35749\n"
          ],
          "name": "stdout"
        },
        {
          "output_type": "stream",
          "text": [
            "\r 10%|█         | 3/30 [01:10<10:37, 23.62s/it]"
          ],
          "name": "stderr"
        },
        {
          "output_type": "stream",
          "text": [
            "Number of Robust matches 31069\n",
            "\n",
            "\n",
            "\n",
            "Number of matches 105245\n",
            "Number of matches After Lowe's Ratio 50230\n"
          ],
          "name": "stdout"
        },
        {
          "output_type": "stream",
          "text": [
            "\r 13%|█▎        | 4/30 [01:36<10:28, 24.16s/it]"
          ],
          "name": "stderr"
        },
        {
          "output_type": "stream",
          "text": [
            "Number of Robust matches 42237\n",
            "\n",
            "\n",
            "\n",
            "Number of matches 105304\n",
            "Number of matches After Lowe's Ratio 79660\n"
          ],
          "name": "stdout"
        },
        {
          "output_type": "stream",
          "text": [
            "\r 17%|█▋        | 5/30 [02:05<10:41, 25.65s/it]"
          ],
          "name": "stderr"
        },
        {
          "output_type": "stream",
          "text": [
            "Number of Robust matches 73859\n",
            "\n",
            "\n",
            "\n",
            "Number of matches 99813\n",
            "Number of matches After Lowe's Ratio 2213\n",
            "Number of Robust matches 10\n",
            "\n",
            "\n",
            "Number of matches After Lowe's Ratio New 238\n"
          ],
          "name": "stdout"
        },
        {
          "output_type": "stream",
          "text": [
            "\r 20%|██        | 6/30 [02:32<10:28, 26.20s/it]"
          ],
          "name": "stderr"
        },
        {
          "output_type": "stream",
          "text": [
            "Number of Robust matches New 7\n",
            "\n",
            "\n"
          ],
          "name": "stdout"
        },
        {
          "output_type": "stream",
          "text": [
            "\r 23%|██▎       | 7/30 [02:57<09:54, 25.83s/it]"
          ],
          "name": "stderr"
        },
        {
          "output_type": "stream",
          "text": [
            "\n",
            "Number of matches 82318\n",
            "Number of matches After Lowe's Ratio 23285\n",
            "Number of Robust matches 16177\n",
            "\n",
            "\n",
            "\n",
            "Number of matches 89253\n",
            "Number of matches After Lowe's Ratio 39420\n"
          ],
          "name": "stdout"
        },
        {
          "output_type": "stream",
          "text": [
            "\r 27%|██▋       | 8/30 [03:22<09:17, 25.34s/it]"
          ],
          "name": "stderr"
        },
        {
          "output_type": "stream",
          "text": [
            "Number of Robust matches 34046\n",
            "\n",
            "\n",
            "\n",
            "Number of matches 85519\n",
            "Number of matches After Lowe's Ratio 40177\n"
          ],
          "name": "stdout"
        },
        {
          "output_type": "stream",
          "text": [
            "\r 30%|███       | 9/30 [03:46<08:44, 24.99s/it]"
          ],
          "name": "stderr"
        },
        {
          "output_type": "stream",
          "text": [
            "Number of Robust matches 34426\n",
            "\n",
            "\n",
            "\n",
            "Number of matches 86116\n",
            "Number of matches After Lowe's Ratio 40135\n"
          ],
          "name": "stdout"
        },
        {
          "output_type": "stream",
          "text": [
            "\r 33%|███▎      | 10/30 [04:09<08:09, 24.46s/it]"
          ],
          "name": "stderr"
        },
        {
          "output_type": "stream",
          "text": [
            "Number of Robust matches 31101\n",
            "\n",
            "\n",
            "\n",
            "Number of matches 84460\n",
            "Number of matches After Lowe's Ratio 38819\n"
          ],
          "name": "stdout"
        },
        {
          "output_type": "stream",
          "text": [
            "\r 37%|███▋      | 11/30 [04:32<07:38, 24.11s/it]"
          ],
          "name": "stderr"
        },
        {
          "output_type": "stream",
          "text": [
            "Number of Robust matches 34027\n",
            "\n",
            "\n",
            "\n",
            "Number of matches 94450\n",
            "Number of matches After Lowe's Ratio 43031\n"
          ],
          "name": "stdout"
        },
        {
          "output_type": "stream",
          "text": [
            "\r 40%|████      | 12/30 [04:56<07:14, 24.14s/it]"
          ],
          "name": "stderr"
        },
        {
          "output_type": "stream",
          "text": [
            "Number of Robust matches 35285\n",
            "\n",
            "\n",
            "\n",
            "Number of matches 92170\n",
            "Number of matches After Lowe's Ratio 44933\n"
          ],
          "name": "stdout"
        },
        {
          "output_type": "stream",
          "text": [
            "\r 43%|████▎     | 13/30 [05:22<06:56, 24.53s/it]"
          ],
          "name": "stderr"
        },
        {
          "output_type": "stream",
          "text": [
            "Number of Robust matches 39866\n",
            "\n",
            "\n",
            "\n",
            "Number of matches 103258\n",
            "Number of matches After Lowe's Ratio 46554\n"
          ],
          "name": "stdout"
        },
        {
          "output_type": "stream",
          "text": [
            "\r 47%|████▋     | 14/30 [05:48<06:39, 24.96s/it]"
          ],
          "name": "stderr"
        },
        {
          "output_type": "stream",
          "text": [
            "Number of Robust matches 41452\n",
            "\n",
            "\n",
            "\n",
            "Number of matches 108723\n",
            "Number of matches After Lowe's Ratio 51428\n"
          ],
          "name": "stdout"
        },
        {
          "output_type": "stream",
          "text": [
            "\r 50%|█████     | 15/30 [06:16<06:30, 26.01s/it]"
          ],
          "name": "stderr"
        },
        {
          "output_type": "stream",
          "text": [
            "Number of Robust matches 39295\n",
            "\n",
            "\n",
            "\n",
            "Number of matches 114799\n",
            "Number of matches After Lowe's Ratio 55891\n"
          ],
          "name": "stdout"
        },
        {
          "output_type": "stream",
          "text": [
            "\r 53%|█████▎    | 16/30 [06:46<06:18, 27.06s/it]"
          ],
          "name": "stderr"
        },
        {
          "output_type": "stream",
          "text": [
            "Number of Robust matches 44527\n",
            "\n",
            "\n",
            "\n",
            "Number of matches 119464\n",
            "Number of matches After Lowe's Ratio 56780\n"
          ],
          "name": "stdout"
        },
        {
          "output_type": "stream",
          "text": [
            "\r 57%|█████▋    | 17/30 [07:17<06:06, 28.22s/it]"
          ],
          "name": "stderr"
        },
        {
          "output_type": "stream",
          "text": [
            "Number of Robust matches 52256\n",
            "\n",
            "\n",
            "\n",
            "Number of matches 132699\n",
            "Number of matches After Lowe's Ratio 61176\n"
          ],
          "name": "stdout"
        },
        {
          "output_type": "stream",
          "text": [
            "\r 60%|██████    | 18/30 [07:49<05:53, 29.43s/it]"
          ],
          "name": "stderr"
        },
        {
          "output_type": "stream",
          "text": [
            "Number of Robust matches 49517\n",
            "\n",
            "\n",
            "\n",
            "Number of matches 125861\n",
            "Number of matches After Lowe's Ratio 60890\n"
          ],
          "name": "stdout"
        },
        {
          "output_type": "stream",
          "text": [
            "\r 63%|██████▎   | 19/30 [08:29<05:58, 32.63s/it]"
          ],
          "name": "stderr"
        },
        {
          "output_type": "stream",
          "text": [
            "Number of Robust matches 50833\n",
            "\n",
            "\n",
            "\n",
            "Number of matches 139921\n",
            "Number of matches After Lowe's Ratio 66922\n"
          ],
          "name": "stdout"
        },
        {
          "output_type": "stream",
          "text": [
            "\r 67%|██████▋   | 20/30 [09:12<05:58, 35.85s/it]"
          ],
          "name": "stderr"
        },
        {
          "output_type": "stream",
          "text": [
            "Number of Robust matches 59155\n",
            "\n",
            "\n",
            "\n",
            "Number of matches 136382\n",
            "Number of matches After Lowe's Ratio 65095\n"
          ],
          "name": "stdout"
        },
        {
          "output_type": "stream",
          "text": [
            "\r 70%|███████   | 21/30 [09:53<05:35, 37.23s/it]"
          ],
          "name": "stderr"
        },
        {
          "output_type": "stream",
          "text": [
            "Number of Robust matches 51489\n",
            "\n",
            "\n",
            "\n",
            "Number of matches 147535\n",
            "Number of matches After Lowe's Ratio 68951\n"
          ],
          "name": "stdout"
        },
        {
          "output_type": "stream",
          "text": [
            "\r 73%|███████▎  | 22/30 [10:35<05:10, 38.77s/it]"
          ],
          "name": "stderr"
        },
        {
          "output_type": "stream",
          "text": [
            "Number of Robust matches 56292\n",
            "\n",
            "\n",
            "\n",
            "Number of matches 167187\n",
            "Number of matches After Lowe's Ratio 76345\n"
          ],
          "name": "stdout"
        },
        {
          "output_type": "stream",
          "text": [
            "\r 77%|███████▋  | 23/30 [11:17<04:38, 39.79s/it]"
          ],
          "name": "stderr"
        },
        {
          "output_type": "stream",
          "text": [
            "Number of Robust matches 59619\n",
            "\n",
            "\n",
            "\n",
            "Number of matches 162327\n",
            "Number of matches After Lowe's Ratio 70605\n"
          ],
          "name": "stdout"
        },
        {
          "output_type": "stream",
          "text": [
            "\r 80%|████████  | 24/30 [12:03<04:08, 41.46s/it]"
          ],
          "name": "stderr"
        },
        {
          "output_type": "stream",
          "text": [
            "Number of Robust matches 56857\n",
            "\n",
            "\n",
            "\n",
            "Number of matches 202514\n",
            "Number of matches After Lowe's Ratio 113484\n"
          ],
          "name": "stdout"
        },
        {
          "output_type": "stream",
          "text": [
            "\r 83%|████████▎ | 25/30 [13:03<03:54, 46.98s/it]"
          ],
          "name": "stderr"
        },
        {
          "output_type": "stream",
          "text": [
            "Number of Robust matches 84601\n",
            "\n",
            "\n",
            "\n",
            "Number of matches 180280\n",
            "Number of matches After Lowe's Ratio 3836\n",
            "Number of Robust matches 9\n",
            "\n",
            "\n"
          ],
          "name": "stdout"
        },
        {
          "output_type": "stream",
          "text": [
            "\r 87%|████████▋ | 26/30 [13:53<03:11, 47.89s/it]"
          ],
          "name": "stderr"
        },
        {
          "output_type": "stream",
          "text": [
            "Number of matches After Lowe's Ratio New 400\n",
            "Number of Robust matches New 8\n",
            "\n",
            "\n",
            "\n",
            "Number of matches 173445\n",
            "Number of matches After Lowe's Ratio 31120\n"
          ],
          "name": "stdout"
        },
        {
          "output_type": "stream",
          "text": [
            "\r 90%|█████████ | 27/30 [14:52<02:34, 51.45s/it]"
          ],
          "name": "stderr"
        },
        {
          "output_type": "stream",
          "text": [
            "Number of Robust matches 18221\n",
            "\n",
            "\n",
            "\n",
            "Number of matches 168584\n",
            "Number of matches After Lowe's Ratio 61090\n"
          ],
          "name": "stdout"
        },
        {
          "output_type": "stream",
          "text": [
            "\r 93%|█████████▎| 28/30 [15:50<01:46, 53.37s/it]"
          ],
          "name": "stderr"
        },
        {
          "output_type": "stream",
          "text": [
            "Number of Robust matches 37940\n",
            "\n",
            "\n",
            "\n",
            "Number of matches 166397\n",
            "Number of matches After Lowe's Ratio 64506\n"
          ],
          "name": "stdout"
        },
        {
          "output_type": "stream",
          "text": [
            "\r 97%|█████████▋| 29/30 [16:36<00:51, 51.13s/it]"
          ],
          "name": "stderr"
        },
        {
          "output_type": "stream",
          "text": [
            "Number of Robust matches 41303\n",
            "\n",
            "\n"
          ],
          "name": "stdout"
        }
      ]
    },
    {
      "cell_type": "code",
      "metadata": {
        "id": "6KYrPTE6CpAT",
        "colab": {
          "base_uri": "https://localhost:8080/"
        },
        "outputId": "f5c87ea9-f1e2-496b-bd16-c6acab43c3c5"
      },
      "source": [
        "\n",
        "import h5py as h5\n",
        "f=h5.File('drive/MyDrive/H_left_fast_40.h5','w')\n",
        "t0=time.time()\n",
        "f.create_dataset('data',data=H_left_fast)\n",
        "f.close()\n",
        "print('HDF5  w/o comp.:',time.time()-t0,'[s] ... size',os.path.getsize('drive/MyDrive/H_left_fast_40.h5')/1.e6,'MB')"
      ],
      "execution_count": 33,
      "outputs": [
        {
          "output_type": "stream",
          "text": [
            "HDF5  w/o comp.: 0.01732015609741211 [s] ... size 0.004208 MB\n"
          ],
          "name": "stdout"
        }
      ]
    },
    {
      "cell_type": "code",
      "metadata": {
        "id": "pHY7cpdhCo9g",
        "colab": {
          "base_uri": "https://localhost:8080/"
        },
        "outputId": "f38ed214-34a8-465e-9ad4-5de02bfaf3ec"
      },
      "source": [
        "\n",
        "import h5py as h5\n",
        "f=h5.File('drive/MyDrive/H_right_fast_40.h5','w')\n",
        "t0=time.time()\n",
        "f.create_dataset('data',data=H_right_fast)\n",
        "f.close()\n",
        "print('HDF5  w/o comp.:',time.time()-t0,'[s] ... size',os.path.getsize('drive/MyDrive/H_right_fast_40.h5')/1.e6,'MB')"
      ],
      "execution_count": 34,
      "outputs": [
        {
          "output_type": "stream",
          "text": [
            "HDF5  w/o comp.: 0.005356311798095703 [s] ... size 0.004136 MB\n"
          ],
          "name": "stdout"
        }
      ]
    },
    {
      "cell_type": "code",
      "metadata": {
        "id": "HSskRoPqCo6N"
      },
      "source": [
        "\n",
        "del H_left_fast, H_right_fast,keypoints_all_left_fast, keypoints_all_right_fast, descriptors_all_left_fast, descriptors_all_right_fast, points_all_left_fast, points_all_right_fast"
      ],
      "execution_count": 35,
      "outputs": []
    },
    {
      "cell_type": "code",
      "metadata": {
        "id": "aFQQsAnmCo2h"
      },
      "source": [
        ""
      ],
      "execution_count": null,
      "outputs": []
    },
    {
      "cell_type": "code",
      "metadata": {
        "id": "iPqE-tN3Coy1"
      },
      "source": [
        "'''\n",
        "import pickle\n",
        "Fdb = open('all_feat_orb_left.dat', 'rb')\n",
        "kpts_all = pickle.load(Fdb)\n",
        "Fdb.close()\n",
        "\n",
        "keypoints_all_left_orb = []\n",
        "descriptors_all_left_orb = []\n",
        "\n",
        "for j,kpt_each in enumerate(kpts_all):\n",
        "  keypoints_each = []\n",
        "  descrip_each = []\n",
        "  for k,kpt_img in enumerate(kpt_each):\n",
        "    temp_feature = cv2.KeyPoint(x=kpt_img[0][0],y=kpt_img[0][1],_size=kpt_img[1], _angle=kpt_img[2], \n",
        "                            _response=kpt_img[3], _octave=kpt_img[4], _class_id=kpt_img[5]) \n",
        "    temp_descriptor = kpt_img[6]\n",
        "    keypoints_each.append(temp_feature)\n",
        "    descrip_each.append(temp_descriptor)\n",
        "  points_all_left_orb.append(np.asarray([[p.pt[0], p.pt[1]] for p in keypoints_each]))\n",
        "  keypoints_all_left_orb.append(keypoints_each)\n",
        "  descriptors_all_left_orb.append(descrip_each)"
      ],
      "execution_count": null,
      "outputs": []
    },
    {
      "cell_type": "code",
      "metadata": {
        "id": "LDINZCa2Coth"
      },
      "source": [
        "'''\n",
        "import pickle\n",
        "Fdb = open('all_feat_orb_right.dat', 'rb')\n",
        "kpts_all = pickle.load(Fdb)\n",
        "Fdb.close()\n",
        "\n",
        "keypoints_all_right_orb = []\n",
        "descriptors_all_right_orb = []\n",
        "\n",
        "for j,kpt_each in enumerate(kpts_all):\n",
        "  keypoints_each = []\n",
        "  descrip_each = []\n",
        "  for k,kpt_img in enumerate(kpt_each):\n",
        "    temp_feature = cv2.KeyPoint(x=kpt_img[0][0],y=kpt_img[0][1],_size=kpt_img[1], _angle=kpt_img[2], \n",
        "                            _response=kpt_img[3], _octave=kpt_img[4], _class_id=kpt_img[5]) \n",
        "    temp_descriptor = kpt_img[6]\n",
        "    keypoints_each.append(temp_feature)\n",
        "    descrip_each.append(temp_descriptor)\n",
        "  points_all_right_orb.append(np.asarray([[p.pt[0], p.pt[1]] for p in keypoints_each]))\n",
        "  keypoints_all_right_orb.append(keypoints_each)\n",
        "  descriptors_all_right_orb.append(descrip_each)"
      ],
      "execution_count": null,
      "outputs": []
    },
    {
      "cell_type": "code",
      "metadata": {
        "id": "1WHgugSBCony"
      },
      "source": [
        "'''\n",
        "H_left_orb = []\n",
        "H_right_orb = []\n",
        "\n",
        "num_matches_orb = []\n",
        "num_good_matches_orb = []\n",
        "\n",
        "for j in tqdm(range(len(left_files_path))):\n",
        "  if j==len(left_files_path)-1:\n",
        "    break\n",
        "\n",
        "  H_a,matches,gd_matches = get_Hmatrix(images_left_bgr[j:j+2][::-1],keypoints_all_left_orb[j:j+2][::-1],points_all_left_orb[j:j+2][::-1],descriptors_all_left_orb[j:j+2][::-1],0.7)\n",
        "  H_left_orb.append(H_a)\n",
        "  num_matches_orb.append(matches)\n",
        "  num_good_matches_orb.append(gd_matches)\n",
        "\n",
        "for j in tqdm(range(len(right_files_path))):\n",
        "  if j==len(right_files_path)-1:\n",
        "    break\n",
        "\n",
        "  H_a,matches,gd_matches = get_Hmatrix(images_right_bgr[j:j+2][::-1],keypoints_all_right_orb[j:j+2][::-1],points_all_right_orb[j:j+2][::-1],descriptors_all_right_orb[j:j+2][::-1],0.7)\n",
        "  H_right_orb.append(H_a)\n",
        "  num_matches_orb.append(matches)\n",
        "  num_good_matches_orb.append(gd_matches)"
      ],
      "execution_count": null,
      "outputs": []
    },
    {
      "cell_type": "code",
      "metadata": {
        "colab": {
          "base_uri": "https://localhost:8080/"
        },
        "id": "5KOqm_thCoiE",
        "outputId": "47c568ca-b160-413e-878b-cb1b3cd397cb"
      },
      "source": [
        "'''\n",
        "import h5py as h5\n",
        "f=h5.File('drive/MyDrive/H_left_orb_40.h5','w')\n",
        "t0=time.time()\n",
        "f.create_dataset('data',data=H_left_orb)\n",
        "f.close()\n",
        "print('HDF5  w/o comp.:',time.time()-t0,'[s] ... size',os.path.getsize('drive/MyDrive/H_left_orb_40.h5')/1.e6,'MB')"
      ],
      "execution_count": null,
      "outputs": [
        {
          "output_type": "stream",
          "text": [
            "HDF5  w/o comp.: 0.007542133331298828 [s] ... size 0.006368 MB\n"
          ],
          "name": "stdout"
        }
      ]
    },
    {
      "cell_type": "code",
      "metadata": {
        "colab": {
          "base_uri": "https://localhost:8080/"
        },
        "id": "1Thqr2JOCoRY",
        "outputId": "9f044a37-b545-401a-a484-af1438b5486f"
      },
      "source": [
        "'''\n",
        "import h5py as h5\n",
        "f=h5.File('drive/MyDrive/H_right_orb_40.h5','w')\n",
        "t0=time.time()\n",
        "f.create_dataset('data',data=H_right_orb)\n",
        "f.close()\n",
        "print('HDF5  w/o comp.:',time.time()-t0,'[s] ... size',os.path.getsize('drive/MyDrive/H_right_orb_40.h5')/1.e6,'MB')"
      ],
      "execution_count": null,
      "outputs": [
        {
          "output_type": "stream",
          "text": [
            "HDF5  w/o comp.: 0.011137247085571289 [s] ... size 0.006296 MB\n"
          ],
          "name": "stdout"
        }
      ]
    },
    {
      "cell_type": "code",
      "metadata": {
        "id": "Od2bhrUTCoMK"
      },
      "source": [
        "'''\n",
        "del H_left_orb, H_right_orb,keypoints_all_left_orb, keypoints_all_right_orb, descriptors_all_left_orb, descriptors_all_right_orb, points_all_left_orb, points_all_right_orb"
      ],
      "execution_count": null,
      "outputs": []
    },
    {
      "cell_type": "code",
      "metadata": {
        "id": "r9jqLTS8CoF6"
      },
      "source": [
        ""
      ],
      "execution_count": null,
      "outputs": []
    },
    {
      "cell_type": "code",
      "metadata": {
        "id": "C8JpQMQ8Cn_a"
      },
      "source": [
        "'''\n",
        "import pickle\n",
        "Fdb = open('all_feat_kaze_left.dat', 'rb')\n",
        "kpts_all = pickle.load(Fdb)\n",
        "Fdb.close()\n",
        "\n",
        "keypoints_all_left_kaze = []\n",
        "descriptors_all_left_kaze = []\n",
        "\n",
        "for j,kpt_each in enumerate(kpts_all):\n",
        "  keypoints_each = []\n",
        "  descrip_each = []\n",
        "  for k,kpt_img in enumerate(kpt_each):\n",
        "    temp_feature = cv2.KeyPoint(x=kpt_img[0][0],y=kpt_img[0][1],_size=kpt_img[1], _angle=kpt_img[2], \n",
        "                            _response=kpt_img[3], _octave=kpt_img[4], _class_id=kpt_img[5]) \n",
        "    temp_descriptor = kpt_img[6]\n",
        "    keypoints_each.append(temp_feature)\n",
        "    descrip_each.append(temp_descriptor)\n",
        "  points_all_left_kaze.append(np.asarray([[p.pt[0], p.pt[1]] for p in keypoints_each]))\n",
        "  keypoints_all_left_kaze.append(keypoints_each)\n",
        "  descriptors_all_left_kaze.append(descrip_each)"
      ],
      "execution_count": null,
      "outputs": []
    },
    {
      "cell_type": "code",
      "metadata": {
        "id": "zIxJL3eVLU4-"
      },
      "source": [
        "'''\n",
        "import pickle\n",
        "Fdb = open('all_feat_kaze_right.dat', 'rb')\n",
        "kpts_all = pickle.load(Fdb)\n",
        "Fdb.close()\n",
        "\n",
        "keypoints_all_right_kaze = []\n",
        "descriptors_all_right_kaze = []\n",
        "\n",
        "for j,kpt_each in enumerate(kpts_all):\n",
        "  keypoints_each = []\n",
        "  descrip_each = []\n",
        "  for k,kpt_img in enumerate(kpt_each):\n",
        "    temp_feature = cv2.KeyPoint(x=kpt_img[0][0],y=kpt_img[0][1],_size=kpt_img[1], _angle=kpt_img[2], \n",
        "                            _response=kpt_img[3], _octave=kpt_img[4], _class_id=kpt_img[5]) \n",
        "    temp_descriptor = kpt_img[6]\n",
        "    keypoints_each.append(temp_feature)\n",
        "    descrip_each.append(temp_descriptor)\n",
        "  points_all_right_kaze.append(np.asarray([[p.pt[0], p.pt[1]] for p in keypoints_each]))\n",
        "  keypoints_all_right_kaze.append(keypoints_each)\n",
        "  descriptors_all_right_kaze.append(descrip_each)"
      ],
      "execution_count": null,
      "outputs": []
    },
    {
      "cell_type": "code",
      "metadata": {
        "id": "MVmEjVvtLU1c"
      },
      "source": [
        "'''\n",
        "H_left_kaze = []\n",
        "H_right_kaze = []\n",
        "\n",
        "num_matches_kaze = []\n",
        "num_good_matches_kaze = []\n",
        "\n",
        "for j in tqdm(range(len(left_files_path))):\n",
        "  if j==len(left_files_path)-1:\n",
        "    break\n",
        "\n",
        "  H_a,matches,gd_matches = get_Hmatrix(images_left_bgr[j:j+2][::-1],keypoints_all_left_kaze[j:j+2][::-1],points_all_left_kaze[j:j+2][::-1],descriptors_all_left_kaze[j:j+2][::-1])\n",
        "  H_left_kaze.append(H_a)\n",
        "  num_matches_kaze.append(matches)\n",
        "  num_good_matches_kaze.append(gd_matches)\n",
        "\n",
        "for j in tqdm(range(len(right_files_path))):\n",
        "  if j==len(right_files_path)-1:\n",
        "    break\n",
        "\n",
        "  H_a,matches,gd_matches = get_Hmatrix(images_right_bgr[j:j+2][::-1],keypoints_all_right_kaze[j:j+2][::-1],points_all_right_kaze[j:j+2][::-1],descriptors_all_right_kaze[j:j+2][::-1])\n",
        "  H_right_kaze.append(H_a)\n",
        "  num_matches_kaze.append(matches)\n",
        "  num_good_matches_kaze.append(gd_matches)"
      ],
      "execution_count": null,
      "outputs": []
    },
    {
      "cell_type": "code",
      "metadata": {
        "colab": {
          "base_uri": "https://localhost:8080/"
        },
        "id": "guD4TGu6LUx3",
        "outputId": "c25f23ea-c71d-4221-f6a2-17f02328c971"
      },
      "source": [
        "'''\n",
        "import h5py as h5\n",
        "f=h5.File('drive/MyDrive/H_left_kaze_40.h5','w')\n",
        "t0=time.time()\n",
        "f.create_dataset('data',data=H_left_kaze)\n",
        "f.close()\n",
        "print('HDF5  w/o comp.:',time.time()-t0,'[s] ... size',os.path.getsize('drive/MyDrive/H_left_kaze_40.h5')/1.e6,'MB')"
      ],
      "execution_count": null,
      "outputs": [
        {
          "output_type": "stream",
          "text": [
            "HDF5  w/o comp.: 0.0066378116607666016 [s] ... size 0.006368 MB\n"
          ],
          "name": "stdout"
        }
      ]
    },
    {
      "cell_type": "code",
      "metadata": {
        "colab": {
          "base_uri": "https://localhost:8080/"
        },
        "id": "MtlBrHx-LUsA",
        "outputId": "49f9f5bc-49cd-4d53-96cb-82be098404ef"
      },
      "source": [
        "'''\n",
        "import h5py as h5\n",
        "f=h5.File('drive/MyDrive/H_right_kaze_40.h5','w')\n",
        "t0=time.time()\n",
        "f.create_dataset('data',data=H_right_kaze)\n",
        "f.close()\n",
        "print('HDF5  w/o comp.:',time.time()-t0,'[s] ... size',os.path.getsize('drive/MyDrive/H_right_kaze_40.h5')/1.e6,'MB')\n"
      ],
      "execution_count": null,
      "outputs": [
        {
          "output_type": "stream",
          "text": [
            "HDF5  w/o comp.: 0.0036492347717285156 [s] ... size 0.006296 MB\n"
          ],
          "name": "stdout"
        }
      ]
    },
    {
      "cell_type": "code",
      "metadata": {
        "id": "bi9MYWV1LUog"
      },
      "source": [
        "'''\n",
        "del H_left_kaze, H_right_kaze,keypoints_all_left_kaze, keypoints_all_right_kaze, descriptors_all_left_kaze, descriptors_all_right_kaze, points_all_left_kaze, points_all_right_kaze"
      ],
      "execution_count": null,
      "outputs": []
    },
    {
      "cell_type": "code",
      "metadata": {
        "id": "Na358EdCLUlI"
      },
      "source": [
        ""
      ],
      "execution_count": null,
      "outputs": []
    },
    {
      "cell_type": "code",
      "metadata": {
        "id": "yygpK4ReLUgv"
      },
      "source": [
        "'''\n",
        "import pickle\n",
        "Fdb = open('all_feat_akaze_left.dat', 'rb')\n",
        "kpts_all = pickle.load(Fdb)\n",
        "Fdb.close()\n",
        "\n",
        "keypoints_all_left_akaze = []\n",
        "descriptors_all_left_akaze = []\n",
        "\n",
        "for j,kpt_each in enumerate(kpts_all):\n",
        "  keypoints_each = []\n",
        "  descrip_each = []\n",
        "  for k,kpt_img in enumerate(kpt_each):\n",
        "    temp_feature = cv2.KeyPoint(x=kpt_img[0][0],y=kpt_img[0][1],_size=kpt_img[1], _angle=kpt_img[2], \n",
        "                            _response=kpt_img[3], _octave=kpt_img[4], _class_id=kpt_img[5]) \n",
        "    temp_descriptor = kpt_img[6]\n",
        "    keypoints_each.append(temp_feature)\n",
        "    descrip_each.append(temp_descriptor)\n",
        "  points_all_left_akaze.append(np.asarray([[p.pt[0], p.pt[1]] for p in keypoints_each]))\n",
        "  keypoints_all_left_akaze.append(keypoints_each)\n",
        "  descriptors_all_left_akaze.append(descrip_each)"
      ],
      "execution_count": null,
      "outputs": []
    },
    {
      "cell_type": "code",
      "metadata": {
        "id": "iMVyOCZkLUa8"
      },
      "source": [
        "'''\n",
        "import pickle\n",
        "Fdb = open('all_feat_akaze_right.dat', 'rb')\n",
        "kpts_all = pickle.load(Fdb)\n",
        "Fdb.close()\n",
        "\n",
        "keypoints_all_right_akaze = []\n",
        "descriptors_all_right_akaze = []\n",
        "\n",
        "for j,kpt_each in enumerate(kpts_all):\n",
        "  keypoints_each = []\n",
        "  descrip_each = []\n",
        "  for k,kpt_img in enumerate(kpt_each):\n",
        "    temp_feature = cv2.KeyPoint(x=kpt_img[0][0],y=kpt_img[0][1],_size=kpt_img[1], _angle=kpt_img[2], \n",
        "                            _response=kpt_img[3], _octave=kpt_img[4], _class_id=kpt_img[5]) \n",
        "    temp_descriptor = kpt_img[6]\n",
        "    keypoints_each.append(temp_feature)\n",
        "    descrip_each.append(temp_descriptor)\n",
        "  points_all_right_akaze.append(np.asarray([[p.pt[0], p.pt[1]] for p in keypoints_each]))\n",
        "  keypoints_all_right_akaze.append(keypoints_each)\n",
        "  descriptors_all_right_akaze.append(descrip_each)"
      ],
      "execution_count": null,
      "outputs": []
    },
    {
      "cell_type": "code",
      "metadata": {
        "id": "JXXoYuWrLUVi"
      },
      "source": [
        "'''\n",
        "H_left_akaze = []\n",
        "H_right_akaze = []\n",
        "\n",
        "num_matches_akaze = []\n",
        "num_good_matches_akaze = []\n",
        "\n",
        "for j in tqdm(range(len(left_files_path))):\n",
        "  if j==len(left_files_path)-1:\n",
        "    break\n",
        "\n",
        "  H_a,matches,gd_matches = get_Hmatrix(images_left_bgr[j:j+2][::-1],keypoints_all_left_akaze[j:j+2][::-1],points_all_left_akaze[j:j+2][::-1],descriptors_all_left_akaze[j:j+2][::-1])\n",
        "  H_left_akaze.append(H_a)\n",
        "  num_matches_akaze.append(matches)\n",
        "  num_good_matches_akaze.append(gd_matches)\n",
        "\n",
        "for j in tqdm(range(len(right_files_path))):\n",
        "  if j==len(right_files_path)-1:\n",
        "    break\n",
        "\n",
        "  H_a,matches,gd_matches = get_Hmatrix(images_right_bgr[j:j+2][::-1],keypoints_all_right_akaze[j:j+2][::-1],points_all_right_akaze[j:j+2][::-1],descriptors_all_right_akaze[j:j+2][::-1])\n",
        "  H_right_akaze.append(H_a)\n",
        "  num_matches_akaze.append(matches)\n",
        "  num_good_matches_akaze.append(gd_matches)"
      ],
      "execution_count": null,
      "outputs": []
    },
    {
      "cell_type": "code",
      "metadata": {
        "colab": {
          "base_uri": "https://localhost:8080/"
        },
        "id": "VCUbYsdqLUPW",
        "outputId": "ab335276-7eb5-4c61-9858-82c9d6c334c0"
      },
      "source": [
        "'''\n",
        "import h5py as h5\n",
        "f=h5.File('drive/MyDrive/H_left_akaze_40.h5','w')\n",
        "t0=time.time()\n",
        "f.create_dataset('data',data=H_left_akaze)\n",
        "f.close()\n",
        "print('HDF5  w/o comp.:',time.time()-t0,'[s] ... size',os.path.getsize('drive/MyDrive/H_left_akaze_40.h5')/1.e6,'MB')"
      ],
      "execution_count": null,
      "outputs": [
        {
          "output_type": "stream",
          "text": [
            "HDF5  w/o comp.: 0.008526325225830078 [s] ... size 0.006368 MB\n"
          ],
          "name": "stdout"
        }
      ]
    },
    {
      "cell_type": "code",
      "metadata": {
        "colab": {
          "base_uri": "https://localhost:8080/"
        },
        "id": "uKB4xG_yLrCm",
        "outputId": "e191aad4-1de5-4b28-effa-478bca9f22c6"
      },
      "source": [
        "'''\n",
        "import h5py as h5\n",
        "f=h5.File('drive/MyDrive/H_right_akaze_40.h5','w')\n",
        "t0=time.time()\n",
        "f.create_dataset('data',data=H_right_akaze)\n",
        "f.close()\n",
        "print('HDF5  w/o comp.:',time.time()-t0,'[s] ... size',os.path.getsize('drive/MyDrive/H_right_akaze_40.h5')/1.e6,'MB')"
      ],
      "execution_count": null,
      "outputs": [
        {
          "output_type": "stream",
          "text": [
            "HDF5  w/o comp.: 0.008221626281738281 [s] ... size 0.006296 MB\n"
          ],
          "name": "stdout"
        }
      ]
    },
    {
      "cell_type": "code",
      "metadata": {
        "id": "nTsWFn9ULq-9"
      },
      "source": [
        "'''\n",
        "del H_left_akaze, H_right_akaze,keypoints_all_left_akaze, keypoints_all_right_akaze, descriptors_all_left_akaze, descriptors_all_right_akaze, points_all_left_akaze, points_all_right_akaze"
      ],
      "execution_count": null,
      "outputs": []
    },
    {
      "cell_type": "code",
      "metadata": {
        "id": "cEmrP5gQLq7D"
      },
      "source": [
        "'''\n",
        "import pickle\n",
        "Fdb = open('all_feat_star_left.dat', 'rb')\n",
        "kpts_all = pickle.load(Fdb)\n",
        "Fdb.close()\n",
        "\n",
        "keypoints_all_left_star = []\n",
        "descriptors_all_left_brief = []\n",
        "\n",
        "for j,kpt_each in enumerate(kpts_all):\n",
        "  keypoints_each = []\n",
        "  descrip_each = []\n",
        "  for k,kpt_img in enumerate(kpt_each):\n",
        "    temp_feature = cv2.KeyPoint(x=kpt_img[0][0],y=kpt_img[0][1],_size=kpt_img[1], _angle=kpt_img[2], \n",
        "                            _response=kpt_img[3], _octave=kpt_img[4], _class_id=kpt_img[5]) \n",
        "    temp_descriptor = kpt_img[6]\n",
        "    keypoints_each.append(temp_feature)\n",
        "    descrip_each.append(temp_descriptor)\n",
        "  points_all_left_star.append(np.asarray([[p.pt[0], p.pt[1]] for p in keypoints_each]))\n",
        "  keypoints_all_left_star.append(keypoints_each)\n",
        "  descriptors_all_left_brief.append(descrip_each)"
      ],
      "execution_count": null,
      "outputs": []
    },
    {
      "cell_type": "code",
      "metadata": {
        "id": "a37U2l41Lq3d"
      },
      "source": [
        "'''\n",
        "import pickle\n",
        "Fdb = open('all_feat_star_right.dat', 'rb')\n",
        "kpts_all = pickle.load(Fdb)\n",
        "Fdb.close()\n",
        "\n",
        "keypoints_all_right_star = []\n",
        "descriptors_all_right_brief = []\n",
        "\n",
        "for j,kpt_each in enumerate(kpts_all):\n",
        "  keypoints_each = []\n",
        "  descrip_each = []\n",
        "  for k,kpt_img in enumerate(kpt_each):\n",
        "    temp_feature = cv2.KeyPoint(x=kpt_img[0][0],y=kpt_img[0][1],_size=kpt_img[1], _angle=kpt_img[2], \n",
        "                            _response=kpt_img[3], _octave=kpt_img[4], _class_id=kpt_img[5]) \n",
        "    temp_descriptor = kpt_img[6]\n",
        "    keypoints_each.append(temp_feature)\n",
        "    descrip_each.append(temp_descriptor)\n",
        "  points_all_right_star.append(np.asarray([[p.pt[0], p.pt[1]] for p in keypoints_each]))\n",
        "  keypoints_all_right_star.append(keypoints_each)\n",
        "  descriptors_all_right_brief.append(descrip_each)"
      ],
      "execution_count": null,
      "outputs": []
    },
    {
      "cell_type": "code",
      "metadata": {
        "id": "9AqNG-R1Lqzm"
      },
      "source": [
        "'''\n",
        "H_left_brief = []\n",
        "H_right_brief = []\n",
        "\n",
        "num_matches_briefstar = []\n",
        "num_good_matches_briefstar = []\n",
        "\n",
        "for j in tqdm(range(len(left_files_path))):\n",
        "  if j==len(left_files_path)-1:\n",
        "    break\n",
        "\n",
        "  H_a,matches,gd_matches = get_Hmatrix(images_left_bgr[j:j+2][::-1],keypoints_all_left_star[j:j+2][::-1],points_all_left_star[j:j+2][::-1],descriptors_all_left_brief[j:j+2][::-1])\n",
        "  H_left_brief.append(H_a)\n",
        "  num_matches_briefstar.append(matches)\n",
        "  num_good_matches_briefstar.append(gd_matches)\n",
        "\n",
        "for j in tqdm(range(len(right_files_path))):\n",
        "  if j==len(right_files_path)-1:\n",
        "    break\n",
        "\n",
        "  H_a,matches,gd_matches = get_Hmatrix(images_right_bgr[j:j+2][::-1],keypoints_all_right_star[j:j+2][::-1],points_all_right_star[j:j+2][::-1],descriptors_all_right_brief[j:j+2][::-1])\n",
        "  H_right_brief.append(H_a)\n",
        "  num_matches_briefstar.append(matches)\n",
        "  num_good_matches_briefstar.append(gd_matches)"
      ],
      "execution_count": null,
      "outputs": []
    },
    {
      "cell_type": "code",
      "metadata": {
        "colab": {
          "base_uri": "https://localhost:8080/"
        },
        "id": "u0rUJtNXL_3A",
        "outputId": "8ae499ba-6ed1-4f0f-feba-01007eead68c"
      },
      "source": [
        "'''\n",
        "import h5py as h5\n",
        "f=h5.File('drive/MyDrive/H_left_brief_40.h5','w')\n",
        "t0=time.time()\n",
        "f.create_dataset('data',data=H_left_brief)\n",
        "f.close()\n",
        "print('HDF5  w/o comp.:',time.time()-t0,'[s] ... size',os.path.getsize('drive/MyDrive/H_left_brief_40.h5')/1.e6,'MB')"
      ],
      "execution_count": null,
      "outputs": [
        {
          "output_type": "stream",
          "text": [
            "HDF5  w/o comp.: 0.007969856262207031 [s] ... size 0.006368 MB\n"
          ],
          "name": "stdout"
        }
      ]
    },
    {
      "cell_type": "code",
      "metadata": {
        "colab": {
          "base_uri": "https://localhost:8080/"
        },
        "id": "1UcMra4TL_ya",
        "outputId": "3a16b35a-db89-494e-8877-15df779e76ce"
      },
      "source": [
        "'''\n",
        "import h5py as h5\n",
        "f=h5.File('drive/MyDrive/H_right_brief_40.h5','w')\n",
        "t0=time.time()\n",
        "f.create_dataset('data',data=H_right_brief)\n",
        "f.close()\n",
        "print('HDF5  w/o comp.:',time.time()-t0,'[s] ... size',os.path.getsize('drive/MyDrive/H_right_brief_40.h5')/1.e6,'MB')"
      ],
      "execution_count": null,
      "outputs": [
        {
          "output_type": "stream",
          "text": [
            "HDF5  w/o comp.: 0.006999015808105469 [s] ... size 0.006296 MB\n"
          ],
          "name": "stdout"
        }
      ]
    },
    {
      "cell_type": "code",
      "metadata": {
        "id": "J2byBTnoL_t_"
      },
      "source": [
        "'''\n",
        "del H_left_brief, H_right_brief,keypoints_all_left_star, keypoints_all_right_star, descriptors_all_left_brief, descriptors_all_right_brief, points_all_left_star, points_all_right_star"
      ],
      "execution_count": null,
      "outputs": []
    },
    {
      "cell_type": "code",
      "metadata": {
        "id": "GbdGzY8tL_m0"
      },
      "source": [
        ""
      ],
      "execution_count": null,
      "outputs": []
    },
    {
      "cell_type": "code",
      "metadata": {
        "id": "VMQUSHH2L_hd"
      },
      "source": [
        "'''\n",
        "import pickle\n",
        "Fdb = open('all_feat_agast_left.dat', 'rb')\n",
        "kpts_all = pickle.load(Fdb)\n",
        "Fdb.close()\n",
        "\n",
        "keypoints_all_left_agast = []\n",
        "descriptors_all_left_agast = []\n",
        "\n",
        "for j,kpt_each in enumerate(kpts_all):\n",
        "  keypoints_each = []\n",
        "  descrip_each = []\n",
        "  for k,kpt_img in enumerate(kpt_each):\n",
        "    temp_feature = cv2.KeyPoint(x=kpt_img[0][0],y=kpt_img[0][1],_size=kpt_img[1], _angle=kpt_img[2], \n",
        "                            _response=kpt_img[3], _octave=kpt_img[4], _class_id=kpt_img[5]) \n",
        "    temp_descriptor = kpt_img[6]\n",
        "    keypoints_each.append(temp_feature)\n",
        "    descrip_each.append(temp_descriptor)\n",
        "  points_all_left_agast.append(np.asarray([[p.pt[0], p.pt[1]] for p in keypoints_each]))\n",
        "  keypoints_all_left_agast.append(keypoints_each)\n",
        "  descriptors_all_left_agast.append(descrip_each)"
      ],
      "execution_count": null,
      "outputs": []
    },
    {
      "cell_type": "code",
      "metadata": {
        "id": "d8vgi650L_dN"
      },
      "source": [
        "'''\n",
        "import pickle\n",
        "Fdb = open('all_feat_agast_right.dat', 'rb')\n",
        "kpts_all = pickle.load(Fdb)\n",
        "Fdb.close()\n",
        "\n",
        "keypoints_all_right_agast = []\n",
        "descriptors_all_right_agast = []\n",
        "\n",
        "for j,kpt_each in enumerate(kpts_all):\n",
        "  keypoints_each = []\n",
        "  descrip_each = []\n",
        "  for k,kpt_img in enumerate(kpt_each):\n",
        "    temp_feature = cv2.KeyPoint(x=kpt_img[0][0],y=kpt_img[0][1],_size=kpt_img[1], _angle=kpt_img[2], \n",
        "                            _response=kpt_img[3], _octave=kpt_img[4], _class_id=kpt_img[5]) \n",
        "    temp_descriptor = kpt_img[6]\n",
        "    keypoints_each.append(temp_feature)\n",
        "    descrip_each.append(temp_descriptor)\n",
        "  points_all_right_agast.append(np.asarray([[p.pt[0], p.pt[1]] for p in keypoints_each]))\n",
        "  keypoints_all_right_agast.append(keypoints_each)\n",
        "  descriptors_all_right_agast.append(descrip_each)"
      ],
      "execution_count": null,
      "outputs": []
    },
    {
      "cell_type": "code",
      "metadata": {
        "id": "06H-GZvbL_X7",
        "colab": {
          "base_uri": "https://localhost:8080/"
        },
        "outputId": "90a22e5f-fab5-40f8-93f7-4889440a4414"
      },
      "source": [
        "\n",
        "H_left_agast = []\n",
        "H_right_agast = []\n",
        "\n",
        "num_matches_agast = []\n",
        "num_good_matches_agast = []\n",
        "\n",
        "for j in tqdm(range(len(left_files_path))):\n",
        "  if j==len(left_files_path)-1:\n",
        "    break\n",
        "\n",
        "  H_a,matches,gd_matches = get_Hmatrix(images_left_bgr[j:j+2][::-1],keypoints_all_left_agast[j:j+2][::-1],points_all_left_agast[j:j+2][::-1],descriptors_all_left_agast[j:j+2][::-1],0.85,6)\n",
        "  H_left_agast.append(H_a)\n",
        "  num_matches_agast.append(matches)\n",
        "  num_good_matches_agast.append(gd_matches)\n",
        "\n",
        "for j in tqdm(range(len(right_files_path))):\n",
        "  if j==len(right_files_path)-1:\n",
        "    break\n",
        "\n",
        "  H_a,matches,gd_matches = get_Hmatrix(images_right_bgr[j:j+2][::-1],keypoints_all_right_agast[j:j+2][::-1],points_all_right_agast[j:j+2][::-1],descriptors_all_right_agast[j:j+2][::-1],0.85,6)\n",
        "  H_right_agast.append(H_a)\n",
        "  num_matches_agast.append(matches)\n",
        "  num_good_matches_agast.append(gd_matches)"
      ],
      "execution_count": 26,
      "outputs": [
        {
          "output_type": "stream",
          "text": [
            "\r  0%|          | 0/31 [00:00<?, ?it/s]"
          ],
          "name": "stderr"
        },
        {
          "output_type": "stream",
          "text": [
            "\n",
            "Number of matches 88556\n",
            "Number of matches After Lowe's Ratio 36821\n"
          ],
          "name": "stdout"
        },
        {
          "output_type": "stream",
          "text": [
            "\r  3%|▎         | 1/31 [00:22<11:18, 22.62s/it]"
          ],
          "name": "stderr"
        },
        {
          "output_type": "stream",
          "text": [
            "Number of Robust matches 33855\n",
            "\n",
            "\n",
            "\n",
            "Number of matches 103885\n",
            "Number of matches After Lowe's Ratio 40510\n"
          ],
          "name": "stdout"
        },
        {
          "output_type": "stream",
          "text": [
            "\r  6%|▋         | 2/31 [00:47<11:16, 23.31s/it]"
          ],
          "name": "stderr"
        },
        {
          "output_type": "stream",
          "text": [
            "Number of Robust matches 32563\n",
            "\n",
            "\n",
            "\n",
            "Number of matches 104930\n",
            "Number of matches After Lowe's Ratio 45449\n"
          ],
          "name": "stdout"
        },
        {
          "output_type": "stream",
          "text": [
            "\r 10%|▉         | 3/31 [01:14<11:22, 24.38s/it]"
          ],
          "name": "stderr"
        },
        {
          "output_type": "stream",
          "text": [
            "Number of Robust matches 39782\n",
            "\n",
            "\n",
            "\n",
            "Number of matches 115722\n",
            "Number of matches After Lowe's Ratio 50486\n"
          ],
          "name": "stdout"
        },
        {
          "output_type": "stream",
          "text": [
            "\r 13%|█▎        | 4/31 [01:42<11:25, 25.39s/it]"
          ],
          "name": "stderr"
        },
        {
          "output_type": "stream",
          "text": [
            "Number of Robust matches 46393\n",
            "\n",
            "\n",
            "\n",
            "Number of matches 128802\n",
            "Number of matches After Lowe's Ratio 56974\n"
          ],
          "name": "stdout"
        },
        {
          "output_type": "stream",
          "text": [
            "\r 16%|█▌        | 5/31 [02:13<11:43, 27.04s/it]"
          ],
          "name": "stderr"
        },
        {
          "output_type": "stream",
          "text": [
            "Number of Robust matches 44852\n",
            "\n",
            "\n",
            "\n",
            "Number of matches 130967\n",
            "Number of matches After Lowe's Ratio 59025\n"
          ],
          "name": "stdout"
        },
        {
          "output_type": "stream",
          "text": [
            "\r 19%|█▉        | 6/31 [02:44<11:49, 28.37s/it]"
          ],
          "name": "stderr"
        },
        {
          "output_type": "stream",
          "text": [
            "Number of Robust matches 54697\n",
            "\n",
            "\n",
            "\n",
            "Number of matches 134748\n",
            "Number of matches After Lowe's Ratio 61712\n"
          ],
          "name": "stdout"
        },
        {
          "output_type": "stream",
          "text": [
            "\r 23%|██▎       | 7/31 [03:16<11:48, 29.51s/it]"
          ],
          "name": "stderr"
        },
        {
          "output_type": "stream",
          "text": [
            "Number of Robust matches 49224\n",
            "\n",
            "\n",
            "\n",
            "Number of matches 151986\n",
            "Number of matches After Lowe's Ratio 67215\n"
          ],
          "name": "stdout"
        },
        {
          "output_type": "stream",
          "text": [
            "\r 26%|██▌       | 8/31 [03:55<12:25, 32.42s/it]"
          ],
          "name": "stderr"
        },
        {
          "output_type": "stream",
          "text": [
            "Number of Robust matches 52366\n",
            "\n",
            "\n",
            "\n",
            "Number of matches 141935\n",
            "Number of matches After Lowe's Ratio 64677\n"
          ],
          "name": "stdout"
        },
        {
          "output_type": "stream",
          "text": [
            "\r 29%|██▉       | 9/31 [04:35<12:41, 34.61s/it]"
          ],
          "name": "stderr"
        },
        {
          "output_type": "stream",
          "text": [
            "Number of Robust matches 62133\n",
            "\n",
            "\n",
            "\n",
            "Number of matches 187860\n",
            "Number of matches After Lowe's Ratio 38187\n"
          ],
          "name": "stdout"
        },
        {
          "output_type": "stream",
          "text": [
            "\r 32%|███▏      | 10/31 [05:20<13:08, 37.56s/it]"
          ],
          "name": "stderr"
        },
        {
          "output_type": "stream",
          "text": [
            "Number of Robust matches 32926\n",
            "\n",
            "\n",
            "\n",
            "Number of matches 182007\n",
            "Number of matches After Lowe's Ratio 348\n",
            "Number of Robust matches 8\n",
            "\n",
            "\n",
            "Number of matches After Lowe's Ratio New 348\n"
          ],
          "name": "stdout"
        },
        {
          "output_type": "stream",
          "text": [
            "\r 35%|███▌      | 11/31 [06:11<13:56, 41.83s/it]"
          ],
          "name": "stderr"
        },
        {
          "output_type": "stream",
          "text": [
            "Number of Robust matches New 7\n",
            "\n",
            "\n",
            "\n",
            "Number of matches 157832\n",
            "Number of matches After Lowe's Ratio 106405\n"
          ],
          "name": "stdout"
        },
        {
          "output_type": "stream",
          "text": [
            "\r 39%|███▊      | 12/31 [06:54<13:22, 42.21s/it]"
          ],
          "name": "stderr"
        },
        {
          "output_type": "stream",
          "text": [
            "Number of Robust matches 100923\n",
            "\n",
            "\n",
            "\n",
            "Number of matches 147239\n",
            "Number of matches After Lowe's Ratio 72838\n"
          ],
          "name": "stdout"
        },
        {
          "output_type": "stream",
          "text": [
            "\r 42%|████▏     | 13/31 [07:32<12:14, 40.81s/it]"
          ],
          "name": "stderr"
        },
        {
          "output_type": "stream",
          "text": [
            "Number of Robust matches 64279\n",
            "\n",
            "\n",
            "\n",
            "Number of matches 138495\n",
            "Number of matches After Lowe's Ratio 66647\n"
          ],
          "name": "stdout"
        },
        {
          "output_type": "stream",
          "text": [
            "\r 45%|████▌     | 14/31 [08:07<11:05, 39.14s/it]"
          ],
          "name": "stderr"
        },
        {
          "output_type": "stream",
          "text": [
            "Number of Robust matches 62902\n",
            "\n",
            "\n",
            "\n",
            "Number of matches 125244\n",
            "Number of matches After Lowe's Ratio 59839\n"
          ],
          "name": "stdout"
        },
        {
          "output_type": "stream",
          "text": [
            "\r 48%|████▊     | 15/31 [08:40<09:55, 37.24s/it]"
          ],
          "name": "stderr"
        },
        {
          "output_type": "stream",
          "text": [
            "Number of Robust matches 56674\n",
            "\n",
            "\n",
            "\n",
            "Number of matches 124582\n",
            "Number of matches After Lowe's Ratio 56711\n"
          ],
          "name": "stdout"
        },
        {
          "output_type": "stream",
          "text": [
            "\r 52%|█████▏    | 16/31 [09:12<08:52, 35.50s/it]"
          ],
          "name": "stderr"
        },
        {
          "output_type": "stream",
          "text": [
            "Number of Robust matches 45464\n",
            "\n",
            "\n",
            "\n",
            "Number of matches 123380\n",
            "Number of matches After Lowe's Ratio 56724\n"
          ],
          "name": "stdout"
        },
        {
          "output_type": "stream",
          "text": [
            "\r 55%|█████▍    | 17/31 [09:43<07:58, 34.15s/it]"
          ],
          "name": "stderr"
        },
        {
          "output_type": "stream",
          "text": [
            "Number of Robust matches 46759\n",
            "\n",
            "\n",
            "\n",
            "Number of matches 128367\n",
            "Number of matches After Lowe's Ratio 57878\n"
          ],
          "name": "stdout"
        },
        {
          "output_type": "stream",
          "text": [
            "\r 58%|█████▊    | 18/31 [10:14<07:13, 33.32s/it]"
          ],
          "name": "stderr"
        },
        {
          "output_type": "stream",
          "text": [
            "Number of Robust matches 49255\n",
            "\n",
            "\n",
            "\n",
            "Number of matches 121423\n",
            "Number of matches After Lowe's Ratio 49424\n"
          ],
          "name": "stdout"
        },
        {
          "output_type": "stream",
          "text": [
            "\r 61%|██████▏   | 19/31 [10:44<06:29, 32.46s/it]"
          ],
          "name": "stderr"
        },
        {
          "output_type": "stream",
          "text": [
            "Number of Robust matches 46017\n",
            "\n",
            "\n",
            "\n",
            "Number of matches 122111\n",
            "Number of matches After Lowe's Ratio 49328\n"
          ],
          "name": "stdout"
        },
        {
          "output_type": "stream",
          "text": [
            "\r 65%|██████▍   | 20/31 [11:14<05:48, 31.71s/it]"
          ],
          "name": "stderr"
        },
        {
          "output_type": "stream",
          "text": [
            "Number of Robust matches 44326\n",
            "\n",
            "\n",
            "\n",
            "Number of matches 152561\n",
            "Number of matches After Lowe's Ratio 24319\n"
          ],
          "name": "stdout"
        },
        {
          "output_type": "stream",
          "text": [
            "\r 68%|██████▊   | 21/31 [11:48<05:21, 32.16s/it]"
          ],
          "name": "stderr"
        },
        {
          "output_type": "stream",
          "text": [
            "Number of Robust matches 19987\n",
            "\n",
            "\n",
            "\n",
            "Number of matches 140801\n",
            "Number of matches After Lowe's Ratio 238\n",
            "Number of Robust matches 8\n",
            "\n",
            "\n",
            "Number of matches After Lowe's Ratio New 238\n"
          ],
          "name": "stdout"
        },
        {
          "output_type": "stream",
          "text": [
            "\r 71%|███████   | 22/31 [12:24<05:00, 33.42s/it]"
          ],
          "name": "stderr"
        },
        {
          "output_type": "stream",
          "text": [
            "Number of Robust matches New 7\n",
            "\n",
            "\n",
            "\n",
            "Number of matches 140192\n",
            "Number of matches After Lowe's Ratio 100179\n"
          ],
          "name": "stdout"
        },
        {
          "output_type": "stream",
          "text": [
            "\r 74%|███████▍  | 23/31 [12:59<04:31, 33.97s/it]"
          ],
          "name": "stderr"
        },
        {
          "output_type": "stream",
          "text": [
            "Number of Robust matches 94107\n",
            "\n",
            "\n",
            "\n",
            "Number of matches 100360\n",
            "Number of matches After Lowe's Ratio 49501\n"
          ],
          "name": "stdout"
        },
        {
          "output_type": "stream",
          "text": [
            "\r 77%|███████▋  | 24/31 [13:30<03:51, 33.10s/it]"
          ],
          "name": "stderr"
        },
        {
          "output_type": "stream",
          "text": [
            "Number of Robust matches 46447\n",
            "\n",
            "\n",
            "\n",
            "Number of matches 113055\n",
            "Number of matches After Lowe's Ratio 50091\n"
          ],
          "name": "stdout"
        },
        {
          "output_type": "stream",
          "text": [
            "\r 81%|████████  | 25/31 [13:57<03:07, 31.19s/it]"
          ],
          "name": "stderr"
        },
        {
          "output_type": "stream",
          "text": [
            "Number of Robust matches 45507\n",
            "\n",
            "\n",
            "\n",
            "Number of matches 110647\n",
            "Number of matches After Lowe's Ratio 49636\n"
          ],
          "name": "stdout"
        },
        {
          "output_type": "stream",
          "text": [
            "\r 84%|████████▍ | 26/31 [14:25<02:31, 30.31s/it]"
          ],
          "name": "stderr"
        },
        {
          "output_type": "stream",
          "text": [
            "Number of Robust matches 44620\n",
            "\n",
            "\n",
            "\n",
            "Number of matches 117633\n",
            "Number of matches After Lowe's Ratio 50513\n"
          ],
          "name": "stdout"
        },
        {
          "output_type": "stream",
          "text": [
            "\r 87%|████████▋ | 27/31 [14:54<01:58, 29.72s/it]"
          ],
          "name": "stderr"
        },
        {
          "output_type": "stream",
          "text": [
            "Number of Robust matches 48193\n",
            "\n",
            "\n",
            "\n",
            "Number of matches 147825\n",
            "Number of matches After Lowe's Ratio 30846\n"
          ],
          "name": "stdout"
        },
        {
          "output_type": "stream",
          "text": [
            "\r 90%|█████████ | 28/31 [15:26<01:31, 30.48s/it]"
          ],
          "name": "stderr"
        },
        {
          "output_type": "stream",
          "text": [
            "Number of Robust matches 29256\n",
            "\n",
            "\n",
            "\n",
            "Number of matches 132037\n",
            "Number of matches After Lowe's Ratio 326\n",
            "Number of Robust matches 8\n",
            "\n",
            "\n",
            "Number of matches After Lowe's Ratio New 326\n"
          ],
          "name": "stdout"
        },
        {
          "output_type": "stream",
          "text": [
            "\r 94%|█████████▎| 29/31 [16:01<01:03, 31.78s/it]"
          ],
          "name": "stderr"
        },
        {
          "output_type": "stream",
          "text": [
            "Number of Robust matches New 7\n",
            "\n",
            "\n",
            "\n",
            "Number of matches 127341\n",
            "Number of matches After Lowe's Ratio 69840\n"
          ],
          "name": "stdout"
        },
        {
          "output_type": "stream",
          "text": [
            "  0%|          | 0/30 [00:00<?, ?it/s]"
          ],
          "name": "stderr"
        },
        {
          "output_type": "stream",
          "text": [
            "Number of Robust matches 63373\n",
            "\n",
            "\n",
            "\n",
            "Number of matches 97955\n",
            "Number of matches After Lowe's Ratio 40175\n"
          ],
          "name": "stdout"
        },
        {
          "output_type": "stream",
          "text": [
            "\r  3%|▎         | 1/30 [00:22<10:51, 22.47s/it]"
          ],
          "name": "stderr"
        },
        {
          "output_type": "stream",
          "text": [
            "Number of Robust matches 32775\n",
            "\n",
            "\n",
            "\n",
            "Number of matches 87238\n",
            "Number of matches After Lowe's Ratio 35699\n"
          ],
          "name": "stdout"
        },
        {
          "output_type": "stream",
          "text": [
            "\r  7%|▋         | 2/30 [00:45<10:32, 22.58s/it]"
          ],
          "name": "stderr"
        },
        {
          "output_type": "stream",
          "text": [
            "Number of Robust matches 32708\n",
            "\n",
            "\n",
            "\n",
            "Number of matches 87443\n",
            "Number of matches After Lowe's Ratio 32710\n",
            "Number of Robust matches 26901\n",
            "\n",
            "\n"
          ],
          "name": "stdout"
        },
        {
          "output_type": "stream",
          "text": [
            "\r 10%|█         | 3/30 [01:07<10:09, 22.58s/it]"
          ],
          "name": "stderr"
        },
        {
          "output_type": "stream",
          "text": [
            "\n",
            "Number of matches 111798\n",
            "Number of matches After Lowe's Ratio 46429\n"
          ],
          "name": "stdout"
        },
        {
          "output_type": "stream",
          "text": [
            "\r 13%|█▎        | 4/30 [01:32<10:04, 23.25s/it]"
          ],
          "name": "stderr"
        },
        {
          "output_type": "stream",
          "text": [
            "Number of Robust matches 34222\n",
            "\n",
            "\n",
            "\n",
            "Number of matches 111727\n",
            "Number of matches After Lowe's Ratio 80068\n"
          ],
          "name": "stdout"
        },
        {
          "output_type": "stream",
          "text": [
            "\r 17%|█▋        | 5/30 [02:00<10:17, 24.68s/it]"
          ],
          "name": "stderr"
        },
        {
          "output_type": "stream",
          "text": [
            "Number of Robust matches 70186\n",
            "\n",
            "\n"
          ],
          "name": "stdout"
        },
        {
          "output_type": "stream",
          "text": [
            "\r 20%|██        | 6/30 [02:27<10:09, 25.41s/it]"
          ],
          "name": "stderr"
        },
        {
          "output_type": "stream",
          "text": [
            "\n",
            "Number of matches 106065\n",
            "Number of matches After Lowe's Ratio 231\n",
            "Number of Robust matches 8\n",
            "\n",
            "\n",
            "Number of matches After Lowe's Ratio New 231\n",
            "Number of Robust matches New 8\n",
            "\n",
            "\n",
            "\n",
            "Number of matches 87177\n",
            "Number of matches After Lowe's Ratio 16862\n"
          ],
          "name": "stdout"
        },
        {
          "output_type": "stream",
          "text": [
            "\r 23%|██▎       | 7/30 [02:52<09:38, 25.13s/it]"
          ],
          "name": "stderr"
        },
        {
          "output_type": "stream",
          "text": [
            "Number of Robust matches 13080\n",
            "\n",
            "\n",
            "\n",
            "Number of matches 94287\n",
            "Number of matches After Lowe's Ratio 35739\n"
          ],
          "name": "stdout"
        },
        {
          "output_type": "stream",
          "text": [
            "\r 27%|██▋       | 8/30 [03:15<08:57, 24.41s/it]"
          ],
          "name": "stderr"
        },
        {
          "output_type": "stream",
          "text": [
            "Number of Robust matches 29429\n",
            "\n",
            "\n",
            "\n",
            "Number of matches 90359\n",
            "Number of matches After Lowe's Ratio 36779\n"
          ],
          "name": "stdout"
        },
        {
          "output_type": "stream",
          "text": [
            "\r 30%|███       | 9/30 [03:37<08:22, 23.91s/it]"
          ],
          "name": "stderr"
        },
        {
          "output_type": "stream",
          "text": [
            "Number of Robust matches 30730\n",
            "\n",
            "\n",
            "\n",
            "Number of matches 91030\n",
            "Number of matches After Lowe's Ratio 36758\n"
          ],
          "name": "stdout"
        },
        {
          "output_type": "stream",
          "text": [
            "\r 33%|███▎      | 10/30 [03:59<07:47, 23.39s/it]"
          ],
          "name": "stderr"
        },
        {
          "output_type": "stream",
          "text": [
            "Number of Robust matches 32676\n",
            "\n",
            "\n",
            "\n",
            "Number of matches 89147\n",
            "Number of matches After Lowe's Ratio 35043\n"
          ],
          "name": "stdout"
        },
        {
          "output_type": "stream",
          "text": [
            "\r 37%|███▋      | 11/30 [04:22<07:19, 23.15s/it]"
          ],
          "name": "stderr"
        },
        {
          "output_type": "stream",
          "text": [
            "Number of Robust matches 29378\n",
            "\n",
            "\n",
            "\n",
            "Number of matches 100155\n",
            "Number of matches After Lowe's Ratio 39431\n"
          ],
          "name": "stdout"
        },
        {
          "output_type": "stream",
          "text": [
            "\r 40%|████      | 12/30 [04:45<06:54, 23.00s/it]"
          ],
          "name": "stderr"
        },
        {
          "output_type": "stream",
          "text": [
            "Number of Robust matches 35981\n",
            "\n",
            "\n",
            "\n",
            "Number of matches 97273\n",
            "Number of matches After Lowe's Ratio 40484\n"
          ],
          "name": "stdout"
        },
        {
          "output_type": "stream",
          "text": [
            "\r 43%|████▎     | 13/30 [05:09<06:37, 23.38s/it]"
          ],
          "name": "stderr"
        },
        {
          "output_type": "stream",
          "text": [
            "Number of Robust matches 32895\n",
            "\n",
            "\n",
            "\n",
            "Number of matches 109290\n",
            "Number of matches After Lowe's Ratio 42219\n"
          ],
          "name": "stdout"
        },
        {
          "output_type": "stream",
          "text": [
            "\r 47%|████▋     | 14/30 [05:34<06:22, 23.93s/it]"
          ],
          "name": "stderr"
        },
        {
          "output_type": "stream",
          "text": [
            "Number of Robust matches 34231\n",
            "\n",
            "\n",
            "\n",
            "Number of matches 115109\n",
            "Number of matches After Lowe's Ratio 47669\n"
          ],
          "name": "stdout"
        },
        {
          "output_type": "stream",
          "text": [
            "\r 50%|█████     | 15/30 [06:02<06:17, 25.19s/it]"
          ],
          "name": "stderr"
        },
        {
          "output_type": "stream",
          "text": [
            "Number of Robust matches 43318\n",
            "\n",
            "\n",
            "\n",
            "Number of matches 121329\n",
            "Number of matches After Lowe's Ratio 52282\n"
          ],
          "name": "stdout"
        },
        {
          "output_type": "stream",
          "text": [
            "\r 53%|█████▎    | 16/30 [06:32<06:11, 26.54s/it]"
          ],
          "name": "stderr"
        },
        {
          "output_type": "stream",
          "text": [
            "Number of Robust matches 44840\n",
            "\n",
            "\n",
            "\n",
            "Number of matches 126094\n",
            "Number of matches After Lowe's Ratio 53501\n"
          ],
          "name": "stdout"
        },
        {
          "output_type": "stream",
          "text": [
            "\r 57%|█████▋    | 17/30 [07:07<06:19, 29.21s/it]"
          ],
          "name": "stderr"
        },
        {
          "output_type": "stream",
          "text": [
            "Number of Robust matches 51139\n",
            "\n",
            "\n",
            "\n",
            "Number of matches 140696\n",
            "Number of matches After Lowe's Ratio 57693\n"
          ],
          "name": "stdout"
        },
        {
          "output_type": "stream",
          "text": [
            "\r 60%|██████    | 18/30 [07:44<06:17, 31.48s/it]"
          ],
          "name": "stderr"
        },
        {
          "output_type": "stream",
          "text": [
            "Number of Robust matches 43712\n",
            "\n",
            "\n",
            "\n",
            "Number of matches 132921\n",
            "Number of matches After Lowe's Ratio 57616\n"
          ],
          "name": "stdout"
        },
        {
          "output_type": "stream",
          "text": [
            "\r 63%|██████▎   | 19/30 [08:23<06:11, 33.81s/it]"
          ],
          "name": "stderr"
        },
        {
          "output_type": "stream",
          "text": [
            "Number of Robust matches 53856\n",
            "\n",
            "\n",
            "\n",
            "Number of matches 148058\n",
            "Number of matches After Lowe's Ratio 64195\n"
          ],
          "name": "stdout"
        },
        {
          "output_type": "stream",
          "text": [
            "\r 67%|██████▋   | 20/30 [09:01<05:49, 34.93s/it]"
          ],
          "name": "stderr"
        },
        {
          "output_type": "stream",
          "text": [
            "Number of Robust matches 49737\n",
            "\n",
            "\n",
            "\n",
            "Number of matches 144201\n",
            "Number of matches After Lowe's Ratio 61240\n"
          ],
          "name": "stdout"
        },
        {
          "output_type": "stream",
          "text": [
            "\r 70%|███████   | 21/30 [09:40<05:26, 36.28s/it]"
          ],
          "name": "stderr"
        },
        {
          "output_type": "stream",
          "text": [
            "Number of Robust matches 56154\n",
            "\n",
            "\n",
            "\n",
            "Number of matches 156100\n",
            "Number of matches After Lowe's Ratio 64964\n"
          ],
          "name": "stdout"
        },
        {
          "output_type": "stream",
          "text": [
            "\r 73%|███████▎  | 22/30 [10:21<05:01, 37.65s/it]"
          ],
          "name": "stderr"
        },
        {
          "output_type": "stream",
          "text": [
            "Number of Robust matches 59780\n",
            "\n",
            "\n",
            "\n",
            "Number of matches 177075\n",
            "Number of matches After Lowe's Ratio 71391\n"
          ],
          "name": "stdout"
        },
        {
          "output_type": "stream",
          "text": [
            "\r 77%|███████▋  | 23/30 [11:06<04:37, 39.71s/it]"
          ],
          "name": "stderr"
        },
        {
          "output_type": "stream",
          "text": [
            "Number of Robust matches 60966\n",
            "\n",
            "\n",
            "\n",
            "Number of matches 171526\n",
            "Number of matches After Lowe's Ratio 65200\n"
          ],
          "name": "stdout"
        },
        {
          "output_type": "stream",
          "text": [
            "\r 80%|████████  | 24/30 [11:54<04:12, 42.13s/it]"
          ],
          "name": "stderr"
        },
        {
          "output_type": "stream",
          "text": [
            "Number of Robust matches 50565\n",
            "\n",
            "\n",
            "\n",
            "Number of matches 215715\n",
            "Number of matches After Lowe's Ratio 110144\n"
          ],
          "name": "stdout"
        },
        {
          "output_type": "stream",
          "text": [
            "\r 83%|████████▎ | 25/30 [12:44<03:43, 44.63s/it]"
          ],
          "name": "stderr"
        },
        {
          "output_type": "stream",
          "text": [
            "Number of Robust matches 77876\n",
            "\n",
            "\n",
            "\n",
            "Number of matches 192047\n",
            "Number of matches After Lowe's Ratio 389\n",
            "Number of Robust matches 9\n",
            "\n",
            "\n",
            "Number of matches After Lowe's Ratio New 389\n"
          ],
          "name": "stdout"
        },
        {
          "output_type": "stream",
          "text": [
            "\r 87%|████████▋ | 26/30 [13:42<03:14, 48.70s/it]"
          ],
          "name": "stderr"
        },
        {
          "output_type": "stream",
          "text": [
            "Number of Robust matches New 9\n",
            "\n",
            "\n",
            "\n",
            "Number of matches 183946\n",
            "Number of matches After Lowe's Ratio 20522\n",
            "Number of Robust matches 12916\n",
            "\n",
            "\n"
          ],
          "name": "stdout"
        },
        {
          "output_type": "stream",
          "text": [
            "\r 90%|█████████ | 27/30 [14:36<02:30, 50.13s/it]"
          ],
          "name": "stderr"
        },
        {
          "output_type": "stream",
          "text": [
            "\n",
            "Number of matches 179030\n",
            "Number of matches After Lowe's Ratio 52905\n"
          ],
          "name": "stdout"
        },
        {
          "output_type": "stream",
          "text": [
            "\r 93%|█████████▎| 28/30 [15:27<01:41, 50.58s/it]"
          ],
          "name": "stderr"
        },
        {
          "output_type": "stream",
          "text": [
            "Number of Robust matches 39224\n",
            "\n",
            "\n",
            "\n",
            "Number of matches 176658\n",
            "Number of matches After Lowe's Ratio 56956\n"
          ],
          "name": "stdout"
        },
        {
          "output_type": "stream",
          "text": [
            "\r 97%|█████████▋| 29/30 [16:18<00:50, 50.46s/it]"
          ],
          "name": "stderr"
        },
        {
          "output_type": "stream",
          "text": [
            "Number of Robust matches 38398\n",
            "\n",
            "\n"
          ],
          "name": "stdout"
        }
      ]
    },
    {
      "cell_type": "code",
      "metadata": {
        "id": "yuB1EagSL_Ta",
        "colab": {
          "base_uri": "https://localhost:8080/"
        },
        "outputId": "1c51a539-e61a-44d1-f8d3-2598add137d8"
      },
      "source": [
        "\n",
        "import h5py as h5\n",
        "f=h5.File('drive/MyDrive/H_left_agast_40.h5','w')\n",
        "t0=time.time()\n",
        "f.create_dataset('data',data=H_left_agast)\n",
        "f.close()\n",
        "print('HDF5  w/o comp.:',time.time()-t0,'[s] ... size',os.path.getsize('drive/MyDrive/H_left_agast_40.h5')/1.e6,'MB')"
      ],
      "execution_count": 27,
      "outputs": [
        {
          "output_type": "stream",
          "text": [
            "HDF5  w/o comp.: 0.039756059646606445 [s] ... size 0.004208 MB\n"
          ],
          "name": "stdout"
        }
      ]
    },
    {
      "cell_type": "code",
      "metadata": {
        "id": "a1LMoHOzL_NW",
        "colab": {
          "base_uri": "https://localhost:8080/"
        },
        "outputId": "771b7e16-3301-474f-f290-1714158a57a4"
      },
      "source": [
        "\n",
        "import h5py as h5\n",
        "f=h5.File('drive/MyDrive/H_right_agast_40.h5','w')\n",
        "t0=time.time()\n",
        "f.create_dataset('data',data=H_right_agast)\n",
        "f.close()\n",
        "print('HDF5  w/o comp.:',time.time()-t0,'[s] ... size',os.path.getsize('drive/MyDrive/H_right_agast_40.h5')/1.e6,'MB')"
      ],
      "execution_count": 28,
      "outputs": [
        {
          "output_type": "stream",
          "text": [
            "HDF5  w/o comp.: 0.007998943328857422 [s] ... size 0.004136 MB\n"
          ],
          "name": "stdout"
        }
      ]
    },
    {
      "cell_type": "code",
      "metadata": {
        "id": "_kYn3bzmMPyl"
      },
      "source": [
        "del H_left_agast, H_right_agast,keypoints_all_left_agast, keypoints_all_right_agast, descriptors_all_left_agast, descriptors_all_right_agast, points_all_left_agast, points_all_right_agast"
      ],
      "execution_count": 29,
      "outputs": []
    },
    {
      "cell_type": "code",
      "metadata": {
        "id": "JZbR8ZLbMPuK"
      },
      "source": [
        ""
      ],
      "execution_count": null,
      "outputs": []
    },
    {
      "cell_type": "code",
      "metadata": {
        "id": "G1wEtkqiMPo4"
      },
      "source": [
        "'''\n",
        "import pickle\n",
        "Fdb = open('all_feat_daisy_left.dat', 'rb')\n",
        "kpts_all = pickle.load(Fdb)\n",
        "Fdb.close()\n",
        "\n",
        "keypoints_all_left_daisy = []\n",
        "descriptors_all_left_daisy = []\n",
        "\n",
        "for j,kpt_each in enumerate(kpts_all):\n",
        "  keypoints_each = []\n",
        "  descrip_each = []\n",
        "  for k,kpt_img in enumerate(kpt_each):\n",
        "    temp_feature = cv2.KeyPoint(x=kpt_img[0][0],y=kpt_img[0][1],_size=kpt_img[1], _angle=kpt_img[2], \n",
        "                            _response=kpt_img[3], _octave=kpt_img[4], _class_id=kpt_img[5]) \n",
        "    temp_descriptor = kpt_img[6]\n",
        "    keypoints_each.append(temp_feature)\n",
        "    descrip_each.append(temp_descriptor)\n",
        "  points_all_left_daisy.append(np.asarray([[p.pt[0], p.pt[1]] for p in keypoints_each]))\n",
        "  keypoints_all_left_daisy.append(keypoints_each)\n",
        "  descriptors_all_left_daisy.append(descrip_each)"
      ],
      "execution_count": null,
      "outputs": []
    },
    {
      "cell_type": "code",
      "metadata": {
        "id": "weAFvO6GMPjf"
      },
      "source": [
        "'''\n",
        "import pickle\n",
        "Fdb = open('all_feat_daisy_right.dat', 'rb')\n",
        "kpts_all = pickle.load(Fdb)\n",
        "Fdb.close()\n",
        "\n",
        "keypoints_all_right_daisy = []\n",
        "descriptors_all_right_daisy = []\n",
        "\n",
        "for j,kpt_each in enumerate(kpts_all):\n",
        "  keypoints_each = []\n",
        "  descrip_each = []\n",
        "  for k,kpt_img in enumerate(kpt_each):\n",
        "    temp_feature = cv2.KeyPoint(x=kpt_img[0][0],y=kpt_img[0][1],_size=kpt_img[1], _angle=kpt_img[2], \n",
        "                            _response=kpt_img[3], _octave=kpt_img[4], _class_id=kpt_img[5]) \n",
        "    temp_descriptor = kpt_img[6]\n",
        "    keypoints_each.append(temp_feature)\n",
        "    descrip_each.append(temp_descriptor)\n",
        "  points_all_right_daisy.append(np.asarray([[p.pt[0], p.pt[1]] for p in keypoints_each]))\n",
        "  keypoints_all_right_daisy.append(keypoints_each)\n",
        "  descriptors_all_right_daisy.append(descrip_each)"
      ],
      "execution_count": null,
      "outputs": []
    },
    {
      "cell_type": "code",
      "metadata": {
        "id": "_2rNYL0GMPd4"
      },
      "source": [
        "'''\n",
        "H_left_daisy = []\n",
        "H_right_daisy = []\n",
        "\n",
        "num_matches_daisy = []\n",
        "num_good_matches_daisy = []\n",
        "\n",
        "for j in tqdm(range(len(left_files_path))):\n",
        "  if j==len(left_files_path)-1:\n",
        "    break\n",
        "\n",
        "  H_a,matches,gd_matches = get_Hmatrix(images_left_bgr[j:j+2][::-1],keypoints_all_left_daisy[j:j+2][::-1],points_all_left_daisy[j:j+2][::-1],descriptors_all_left_daisy[j:j+2][::-1],0.7,6)\n",
        "  H_left_daisy.append(H_a)\n",
        "  num_matches_daisy.append(matches)\n",
        "  num_good_matches_daisy.append(gd_matches)\n",
        "\n",
        "for j in tqdm(range(len(right_files_path))):\n",
        "  if j==len(right_files_path)-1:\n",
        "    break\n",
        "\n",
        "  H_a,matches,gd_matches = get_Hmatrix(images_right_bgr[j:j+2][::-1],keypoints_all_right_daisy[j:j+2][::-1],points_all_right_daisy[j:j+2][::-1],descriptors_all_right_daisy[j:j+2][::-1],0.7,6)\n",
        "  H_right_daisy.append(H_a)\n",
        "  num_matches_daisy.append(matches)\n",
        "  num_good_matches_daisy.append(gd_matches)"
      ],
      "execution_count": null,
      "outputs": []
    },
    {
      "cell_type": "code",
      "metadata": {
        "colab": {
          "base_uri": "https://localhost:8080/"
        },
        "id": "rbmBqPPoMPXn",
        "outputId": "d9b7be57-b14b-4f5d-9312-f97e9a875da4"
      },
      "source": [
        "'''\n",
        "import h5py as h5\n",
        "f=h5.File('drive/MyDrive/H_left_daisy_40.h5','w')\n",
        "t0=time.time()\n",
        "f.create_dataset('data',data=H_left_daisy)\n",
        "f.close()\n",
        "print('HDF5  w/o comp.:',time.time()-t0,'[s] ... size',os.path.getsize('drive/MyDrive/H_left_daisy_40.h5')/1.e6,'MB')"
      ],
      "execution_count": null,
      "outputs": [
        {
          "output_type": "stream",
          "text": [
            "HDF5  w/o comp.: 0.006845712661743164 [s] ... size 0.005576 MB\n"
          ],
          "name": "stdout"
        }
      ]
    },
    {
      "cell_type": "code",
      "metadata": {
        "colab": {
          "base_uri": "https://localhost:8080/"
        },
        "id": "k7kN0xeSMcJD",
        "outputId": "55f3d201-4b3e-4966-bae5-e246817749e1"
      },
      "source": [
        "'''\n",
        "import h5py as h5\n",
        "f=h5.File('drive/MyDrive/H_right_daisy_40.h5','w')\n",
        "t0=time.time()\n",
        "f.create_dataset('data',data=H_right_daisy)\n",
        "f.close()\n",
        "print('HDF5  w/o comp.:',time.time()-t0,'[s] ... size',os.path.getsize('drive/MyDrive/H_right_daisy_40.h5')/1.e6,'MB')"
      ],
      "execution_count": null,
      "outputs": [
        {
          "output_type": "stream",
          "text": [
            "HDF5  w/o comp.: 0.004180192947387695 [s] ... size 0.005576 MB\n"
          ],
          "name": "stdout"
        }
      ]
    },
    {
      "cell_type": "code",
      "metadata": {
        "id": "iJz1GnPlMcFv"
      },
      "source": [
        "'''\n",
        "del H_left_daisy, H_right_daisy,keypoints_all_left_daisy, keypoints_all_right_daisy, descriptors_all_left_daisy, descriptors_all_right_daisy, points_all_left_daisy, points_all_right_daisy"
      ],
      "execution_count": null,
      "outputs": []
    },
    {
      "cell_type": "code",
      "metadata": {
        "id": "lBhvFt7CMcAe"
      },
      "source": [
        ""
      ],
      "execution_count": null,
      "outputs": []
    },
    {
      "cell_type": "code",
      "metadata": {
        "id": "u1uKem3vMb7M"
      },
      "source": [
        "'''import pickle\n",
        "Fdb = open('all_feat_freak_left.dat', 'rb')\n",
        "kpts_all = pickle.load(Fdb)\n",
        "Fdb.close()\n",
        "\n",
        "keypoints_all_left_freak = []\n",
        "descriptors_all_left_freak = []\n",
        "\n",
        "for j,kpt_each in enumerate(kpts_all):\n",
        "  keypoints_each = []\n",
        "  descrip_each = []\n",
        "  for k,kpt_img in enumerate(kpt_each):\n",
        "    temp_feature = cv2.KeyPoint(x=kpt_img[0][0],y=kpt_img[0][1],_size=kpt_img[1], _angle=kpt_img[2], \n",
        "                            _response=kpt_img[3], _octave=kpt_img[4], _class_id=kpt_img[5]) \n",
        "    temp_descriptor = kpt_img[6]\n",
        "    keypoints_each.append(temp_feature)\n",
        "    descrip_each.append(temp_descriptor)\n",
        "  points_all_left_freak.append(np.asarray([[p.pt[0], p.pt[1]] for p in keypoints_each]))\n",
        "  keypoints_all_left_freak.append(keypoints_each)\n",
        "  descriptors_all_left_freak.append(descrip_each)"
      ],
      "execution_count": null,
      "outputs": []
    },
    {
      "cell_type": "code",
      "metadata": {
        "id": "vCTwXuf6Mb0W"
      },
      "source": [
        "'''import pickle\n",
        "Fdb = open('all_feat_freak_right.dat', 'rb')\n",
        "kpts_all = pickle.load(Fdb)\n",
        "Fdb.close()\n",
        "\n",
        "keypoints_all_right_freak = []\n",
        "descriptors_all_right_freak = []\n",
        "\n",
        "for j,kpt_each in enumerate(kpts_all):\n",
        "  keypoints_each = []\n",
        "  descrip_each = []\n",
        "  for k,kpt_img in enumerate(kpt_each):\n",
        "    temp_feature = cv2.KeyPoint(x=kpt_img[0][0],y=kpt_img[0][1],_size=kpt_img[1], _angle=kpt_img[2], \n",
        "                            _response=kpt_img[3], _octave=kpt_img[4], _class_id=kpt_img[5]) \n",
        "    temp_descriptor = kpt_img[6]\n",
        "    keypoints_each.append(temp_feature)\n",
        "    descrip_each.append(temp_descriptor)\n",
        "  points_all_right_freak.append(np.asarray([[p.pt[0], p.pt[1]] for p in keypoints_each]))\n",
        "  keypoints_all_right_freak.append(keypoints_each)\n",
        "  descriptors_all_right_freak.append(descrip_each)"
      ],
      "execution_count": null,
      "outputs": []
    },
    {
      "cell_type": "code",
      "metadata": {
        "id": "nojIEqNvMm0b",
        "colab": {
          "base_uri": "https://localhost:8080/"
        },
        "outputId": "517338b6-b5c6-45e3-e8e6-e8dd2054b94f"
      },
      "source": [
        "H_left_freak = []\n",
        "H_right_freak = []\n",
        "\n",
        "num_matches_freak = []\n",
        "num_good_matches_freak = []\n",
        "\n",
        "for j in tqdm(range(len(left_files_path))):\n",
        "  if j==len(left_files_path)-1:\n",
        "    break\n",
        "\n",
        "  H_a,matches,gd_matches = get_Hmatrix(images_left_bgr[j:j+2][::-1],keypoints_all_left_freak[j:j+2][::-1],points_all_left_freak[j:j+2][::-1],descriptors_all_left_freak[j:j+2][::-1],0.7,6)\n",
        "  H_left_freak.append(H_a)\n",
        "  num_matches_freak.append(matches)\n",
        "  num_good_matches_freak.append(gd_matches)\n",
        "\n",
        "for j in tqdm(range(len(right_files_path))):\n",
        "  if j==len(right_files_path)-1:\n",
        "    break\n",
        "\n",
        "  H_a,matches,gd_matches = get_Hmatrix(images_right_bgr[j:j+2][::-1],keypoints_all_right_freak[j:j+2][::-1],points_all_right_freak[j:j+2][::-1],descriptors_all_right_freak[j:j+2][::-1],0.7,6)\n",
        "  H_right_freak.append(H_a)\n",
        "  num_matches_freak.append(matches)\n",
        "  num_good_matches_freak.append(gd_matches)"
      ],
      "execution_count": 36,
      "outputs": [
        {
          "output_type": "stream",
          "text": [
            "  3%|▎         | 1/31 [00:15<07:46, 15.55s/it]"
          ],
          "name": "stderr"
        },
        {
          "output_type": "stream",
          "text": [
            "\n",
            "Number of matches 104317\n",
            "Number of matches After Lowe's Ratio 2749\n",
            "Number of Robust matches 2672\n",
            "\n",
            "\n"
          ],
          "name": "stdout"
        },
        {
          "output_type": "stream",
          "text": [
            "\r  6%|▋         | 2/31 [00:32<07:40, 15.87s/it]"
          ],
          "name": "stderr"
        },
        {
          "output_type": "stream",
          "text": [
            "\n",
            "Number of matches 120555\n",
            "Number of matches After Lowe's Ratio 2776\n",
            "Number of Robust matches 2689\n",
            "\n",
            "\n"
          ],
          "name": "stdout"
        },
        {
          "output_type": "stream",
          "text": [
            "\r 10%|▉         | 3/31 [00:50<07:42, 16.52s/it]"
          ],
          "name": "stderr"
        },
        {
          "output_type": "stream",
          "text": [
            "\n",
            "Number of matches 122153\n",
            "Number of matches After Lowe's Ratio 3374\n",
            "Number of Robust matches 3267\n",
            "\n",
            "\n"
          ],
          "name": "stdout"
        },
        {
          "output_type": "stream",
          "text": [
            "\r 13%|█▎        | 4/31 [01:09<07:45, 17.25s/it]"
          ],
          "name": "stderr"
        },
        {
          "output_type": "stream",
          "text": [
            "\n",
            "Number of matches 133691\n",
            "Number of matches After Lowe's Ratio 3754\n",
            "Number of Robust matches 3608\n",
            "\n",
            "\n"
          ],
          "name": "stdout"
        },
        {
          "output_type": "stream",
          "text": [
            "\r 16%|█▌        | 5/31 [01:29<07:48, 18.04s/it]"
          ],
          "name": "stderr"
        },
        {
          "output_type": "stream",
          "text": [
            "\n",
            "Number of matches 148744\n",
            "Number of matches After Lowe's Ratio 4243\n",
            "Number of Robust matches 4119\n",
            "\n",
            "\n"
          ],
          "name": "stdout"
        },
        {
          "output_type": "stream",
          "text": [
            "\r 19%|█▉        | 6/31 [01:52<08:08, 19.52s/it]"
          ],
          "name": "stderr"
        },
        {
          "output_type": "stream",
          "text": [
            "\n",
            "Number of matches 151964\n",
            "Number of matches After Lowe's Ratio 4272\n",
            "Number of Robust matches 4132\n",
            "\n",
            "\n"
          ],
          "name": "stdout"
        },
        {
          "output_type": "stream",
          "text": [
            "\r 23%|██▎       | 7/31 [02:15<08:16, 20.68s/it]"
          ],
          "name": "stderr"
        },
        {
          "output_type": "stream",
          "text": [
            "\n",
            "Number of matches 156021\n",
            "Number of matches After Lowe's Ratio 4694\n",
            "Number of Robust matches 4365\n",
            "\n",
            "\n"
          ],
          "name": "stdout"
        },
        {
          "output_type": "stream",
          "text": [
            "\r 26%|██▌       | 8/31 [02:39<08:22, 21.84s/it]"
          ],
          "name": "stderr"
        },
        {
          "output_type": "stream",
          "text": [
            "\n",
            "Number of matches 174482\n",
            "Number of matches After Lowe's Ratio 4426\n",
            "Number of Robust matches 4234\n",
            "\n",
            "\n"
          ],
          "name": "stdout"
        },
        {
          "output_type": "stream",
          "text": [
            "\r 29%|██▉       | 9/31 [03:05<08:27, 23.08s/it]"
          ],
          "name": "stderr"
        },
        {
          "output_type": "stream",
          "text": [
            "\n",
            "Number of matches 163179\n",
            "Number of matches After Lowe's Ratio 4097\n",
            "Number of Robust matches 3767\n",
            "\n",
            "\n"
          ],
          "name": "stdout"
        },
        {
          "output_type": "stream",
          "text": [
            "\r 32%|███▏      | 10/31 [03:34<08:36, 24.61s/it]"
          ],
          "name": "stderr"
        },
        {
          "output_type": "stream",
          "text": [
            "\n",
            "Number of matches 209692\n",
            "Number of matches After Lowe's Ratio 3815\n",
            "Number of Robust matches 3622\n",
            "\n",
            "\n"
          ],
          "name": "stdout"
        },
        {
          "output_type": "stream",
          "text": [
            "\r 35%|███▌      | 11/31 [04:07<09:04, 27.20s/it]"
          ],
          "name": "stderr"
        },
        {
          "output_type": "stream",
          "text": [
            "\n",
            "Number of matches 208152\n",
            "Number of matches After Lowe's Ratio 246\n",
            "Number of Robust matches 79\n",
            "\n",
            "\n"
          ],
          "name": "stdout"
        },
        {
          "output_type": "stream",
          "text": [
            "\r 39%|███▊      | 12/31 [04:38<09:00, 28.45s/it]"
          ],
          "name": "stderr"
        },
        {
          "output_type": "stream",
          "text": [
            "\n",
            "Number of matches 182790\n",
            "Number of matches After Lowe's Ratio 10171\n",
            "Number of Robust matches 10059\n",
            "\n",
            "\n"
          ],
          "name": "stdout"
        },
        {
          "output_type": "stream",
          "text": [
            "\r 42%|████▏     | 13/31 [05:06<08:28, 28.26s/it]"
          ],
          "name": "stderr"
        },
        {
          "output_type": "stream",
          "text": [
            "\n",
            "Number of matches 170768\n",
            "Number of matches After Lowe's Ratio 4090\n",
            "Number of Robust matches 3773\n",
            "\n",
            "\n"
          ],
          "name": "stdout"
        },
        {
          "output_type": "stream",
          "text": [
            "\r 45%|████▌     | 14/31 [05:32<07:48, 27.56s/it]"
          ],
          "name": "stderr"
        },
        {
          "output_type": "stream",
          "text": [
            "\n",
            "Number of matches 160471\n",
            "Number of matches After Lowe's Ratio 4150\n",
            "Number of Robust matches 3995\n",
            "\n",
            "\n"
          ],
          "name": "stdout"
        },
        {
          "output_type": "stream",
          "text": [
            "\r 48%|████▊     | 15/31 [05:56<07:02, 26.40s/it]"
          ],
          "name": "stderr"
        },
        {
          "output_type": "stream",
          "text": [
            "\n",
            "Number of matches 146835\n",
            "Number of matches After Lowe's Ratio 3722\n",
            "Number of Robust matches 2995\n",
            "\n",
            "\n"
          ],
          "name": "stdout"
        },
        {
          "output_type": "stream",
          "text": [
            "\r 52%|█████▏    | 16/31 [06:18<06:18, 25.26s/it]"
          ],
          "name": "stderr"
        },
        {
          "output_type": "stream",
          "text": [
            "\n",
            "Number of matches 144877\n",
            "Number of matches After Lowe's Ratio 3454\n",
            "Number of Robust matches 3153\n",
            "\n",
            "\n"
          ],
          "name": "stdout"
        },
        {
          "output_type": "stream",
          "text": [
            "\r 55%|█████▍    | 17/31 [06:40<05:38, 24.21s/it]"
          ],
          "name": "stderr"
        },
        {
          "output_type": "stream",
          "text": [
            "\n",
            "Number of matches 142926\n",
            "Number of matches After Lowe's Ratio 3358\n",
            "Number of Robust matches 3252\n",
            "\n",
            "\n"
          ],
          "name": "stdout"
        },
        {
          "output_type": "stream",
          "text": [
            "\r 58%|█████▊    | 18/31 [07:02<05:07, 23.67s/it]"
          ],
          "name": "stderr"
        },
        {
          "output_type": "stream",
          "text": [
            "\n",
            "Number of matches 148574\n",
            "Number of matches After Lowe's Ratio 3025\n",
            "Number of Robust matches 2875\n",
            "\n",
            "\n"
          ],
          "name": "stdout"
        },
        {
          "output_type": "stream",
          "text": [
            "\r 61%|██████▏   | 19/31 [07:24<04:35, 22.96s/it]"
          ],
          "name": "stderr"
        },
        {
          "output_type": "stream",
          "text": [
            "\n",
            "Number of matches 140167\n",
            "Number of matches After Lowe's Ratio 2425\n",
            "Number of Robust matches 2246\n",
            "\n",
            "\n"
          ],
          "name": "stdout"
        },
        {
          "output_type": "stream",
          "text": [
            "\r 65%|██████▍   | 20/31 [07:45<04:05, 22.33s/it]"
          ],
          "name": "stderr"
        },
        {
          "output_type": "stream",
          "text": [
            "\n",
            "Number of matches 138418\n",
            "Number of matches After Lowe's Ratio 2518\n",
            "Number of Robust matches 2404\n",
            "\n",
            "\n"
          ],
          "name": "stdout"
        },
        {
          "output_type": "stream",
          "text": [
            "\r 68%|██████▊   | 21/31 [08:07<03:43, 22.40s/it]"
          ],
          "name": "stderr"
        },
        {
          "output_type": "stream",
          "text": [
            "\n",
            "Number of matches 169162\n",
            "Number of matches After Lowe's Ratio 2056\n",
            "Number of Robust matches 1738\n",
            "\n",
            "\n"
          ],
          "name": "stdout"
        },
        {
          "output_type": "stream",
          "text": [
            "\r 71%|███████   | 22/31 [08:31<03:26, 22.95s/it]"
          ],
          "name": "stderr"
        },
        {
          "output_type": "stream",
          "text": [
            "\n",
            "Number of matches 154738\n",
            "Number of matches After Lowe's Ratio 298\n",
            "Number of Robust matches 104\n",
            "\n",
            "\n"
          ],
          "name": "stdout"
        },
        {
          "output_type": "stream",
          "text": [
            "\r 74%|███████▍  | 23/31 [08:54<03:03, 22.98s/it]"
          ],
          "name": "stderr"
        },
        {
          "output_type": "stream",
          "text": [
            "\n",
            "Number of matches 153755\n",
            "Number of matches After Lowe's Ratio 10647\n",
            "Number of Robust matches 10553\n",
            "\n",
            "\n"
          ],
          "name": "stdout"
        },
        {
          "output_type": "stream",
          "text": [
            "\r 77%|███████▋  | 24/31 [09:15<02:35, 22.21s/it]"
          ],
          "name": "stderr"
        },
        {
          "output_type": "stream",
          "text": [
            "\n",
            "Number of matches 115346\n",
            "Number of matches After Lowe's Ratio 2902\n",
            "Number of Robust matches 2793\n",
            "\n",
            "\n"
          ],
          "name": "stdout"
        },
        {
          "output_type": "stream",
          "text": [
            "\r 81%|████████  | 25/31 [09:34<02:08, 21.42s/it]"
          ],
          "name": "stderr"
        },
        {
          "output_type": "stream",
          "text": [
            "\n",
            "Number of matches 129097\n",
            "Number of matches After Lowe's Ratio 2594\n",
            "Number of Robust matches 2519\n",
            "\n",
            "\n"
          ],
          "name": "stdout"
        },
        {
          "output_type": "stream",
          "text": [
            "\r 84%|████████▍ | 26/31 [09:57<01:48, 21.62s/it]"
          ],
          "name": "stderr"
        },
        {
          "output_type": "stream",
          "text": [
            "\n",
            "Number of matches 128412\n",
            "Number of matches After Lowe's Ratio 2750\n",
            "Number of Robust matches 2664\n",
            "\n",
            "\n"
          ],
          "name": "stdout"
        },
        {
          "output_type": "stream",
          "text": [
            "\r 87%|████████▋ | 27/31 [10:18<01:26, 21.71s/it]"
          ],
          "name": "stderr"
        },
        {
          "output_type": "stream",
          "text": [
            "\n",
            "Number of matches 138205\n",
            "Number of matches After Lowe's Ratio 2986\n",
            "Number of Robust matches 2869\n",
            "\n",
            "\n"
          ],
          "name": "stdout"
        },
        {
          "output_type": "stream",
          "text": [
            "\r 90%|█████████ | 28/31 [10:41<01:05, 21.90s/it]"
          ],
          "name": "stderr"
        },
        {
          "output_type": "stream",
          "text": [
            "\n",
            "Number of matches 168198\n",
            "Number of matches After Lowe's Ratio 2896\n",
            "Number of Robust matches 2612\n",
            "\n",
            "\n"
          ],
          "name": "stdout"
        },
        {
          "output_type": "stream",
          "text": [
            "\r 94%|█████████▎| 29/31 [11:05<00:44, 22.48s/it]"
          ],
          "name": "stderr"
        },
        {
          "output_type": "stream",
          "text": [
            "\n",
            "Number of matches 149929\n",
            "Number of matches After Lowe's Ratio 461\n",
            "Number of Robust matches 325\n",
            "\n",
            "\n"
          ],
          "name": "stdout"
        },
        {
          "output_type": "stream",
          "text": [
            "  0%|          | 0/30 [00:00<?, ?it/s]"
          ],
          "name": "stderr"
        },
        {
          "output_type": "stream",
          "text": [
            "\n",
            "Number of matches 143061\n",
            "Number of matches After Lowe's Ratio 6050\n",
            "Number of Robust matches 5941\n",
            "\n",
            "\n"
          ],
          "name": "stdout"
        },
        {
          "output_type": "stream",
          "text": [
            "\r  3%|▎         | 1/30 [00:16<08:12, 16.98s/it]"
          ],
          "name": "stderr"
        },
        {
          "output_type": "stream",
          "text": [
            "\n",
            "Number of matches 113696\n",
            "Number of matches After Lowe's Ratio 2903\n",
            "Number of Robust matches 2821\n",
            "\n",
            "\n"
          ],
          "name": "stdout"
        },
        {
          "output_type": "stream",
          "text": [
            "\r  7%|▋         | 2/30 [00:34<08:01, 17.20s/it]"
          ],
          "name": "stderr"
        },
        {
          "output_type": "stream",
          "text": [
            "\n",
            "Number of matches 102954\n",
            "Number of matches After Lowe's Ratio 2570\n",
            "Number of Robust matches 2326\n",
            "\n",
            "\n"
          ],
          "name": "stdout"
        },
        {
          "output_type": "stream",
          "text": [
            "\r 10%|█         | 3/30 [00:50<07:34, 16.84s/it]"
          ],
          "name": "stderr"
        },
        {
          "output_type": "stream",
          "text": [
            "\n",
            "Number of matches 102049\n",
            "Number of matches After Lowe's Ratio 2298\n",
            "Number of Robust matches 2215\n",
            "\n",
            "\n"
          ],
          "name": "stdout"
        },
        {
          "output_type": "stream",
          "text": [
            "\r 13%|█▎        | 4/30 [01:08<07:28, 17.24s/it]"
          ],
          "name": "stderr"
        },
        {
          "output_type": "stream",
          "text": [
            "\n",
            "Number of matches 127739\n",
            "Number of matches After Lowe's Ratio 3151\n",
            "Number of Robust matches 3053\n",
            "\n",
            "\n"
          ],
          "name": "stdout"
        },
        {
          "output_type": "stream",
          "text": [
            "\r 17%|█▋        | 5/30 [01:30<07:40, 18.42s/it]"
          ],
          "name": "stderr"
        },
        {
          "output_type": "stream",
          "text": [
            "\n",
            "Number of matches 127821\n",
            "Number of matches After Lowe's Ratio 10847\n",
            "Number of Robust matches 10763\n",
            "\n",
            "\n"
          ],
          "name": "stdout"
        },
        {
          "output_type": "stream",
          "text": [
            "\r 20%|██        | 6/30 [01:50<07:37, 19.07s/it]"
          ],
          "name": "stderr"
        },
        {
          "output_type": "stream",
          "text": [
            "\n",
            "Number of matches 120901\n",
            "Number of matches After Lowe's Ratio 185\n",
            "Number of Robust matches 72\n",
            "\n",
            "\n"
          ],
          "name": "stdout"
        },
        {
          "output_type": "stream",
          "text": [
            "\r 23%|██▎       | 7/30 [02:08<07:12, 18.81s/it]"
          ],
          "name": "stderr"
        },
        {
          "output_type": "stream",
          "text": [
            "\n",
            "Number of matches 103576\n",
            "Number of matches After Lowe's Ratio 1859\n",
            "Number of Robust matches 1734\n",
            "\n",
            "\n"
          ],
          "name": "stdout"
        },
        {
          "output_type": "stream",
          "text": [
            "\r 27%|██▋       | 8/30 [02:25<06:39, 18.15s/it]"
          ],
          "name": "stderr"
        },
        {
          "output_type": "stream",
          "text": [
            "\n",
            "Number of matches 111969\n",
            "Number of matches After Lowe's Ratio 2319\n",
            "Number of Robust matches 2223\n",
            "\n",
            "\n"
          ],
          "name": "stdout"
        },
        {
          "output_type": "stream",
          "text": [
            "\r 30%|███       | 9/30 [02:43<06:19, 18.08s/it]"
          ],
          "name": "stderr"
        },
        {
          "output_type": "stream",
          "text": [
            "\n",
            "Number of matches 106952\n",
            "Number of matches After Lowe's Ratio 2413\n",
            "Number of Robust matches 2283\n",
            "\n",
            "\n"
          ],
          "name": "stdout"
        },
        {
          "output_type": "stream",
          "text": [
            "\r 33%|███▎      | 10/30 [03:01<05:59, 18.00s/it]"
          ],
          "name": "stderr"
        },
        {
          "output_type": "stream",
          "text": [
            "\n",
            "Number of matches 107999\n",
            "Number of matches After Lowe's Ratio 2526\n",
            "Number of Robust matches 2405\n",
            "\n",
            "\n"
          ],
          "name": "stdout"
        },
        {
          "output_type": "stream",
          "text": [
            "\r 37%|███▋      | 11/30 [03:19<05:43, 18.06s/it]"
          ],
          "name": "stderr"
        },
        {
          "output_type": "stream",
          "text": [
            "\n",
            "Number of matches 106037\n",
            "Number of matches After Lowe's Ratio 2309\n",
            "Number of Robust matches 2224\n",
            "\n",
            "\n"
          ],
          "name": "stdout"
        },
        {
          "output_type": "stream",
          "text": [
            "\r 40%|████      | 12/30 [03:37<05:27, 18.18s/it]"
          ],
          "name": "stderr"
        },
        {
          "output_type": "stream",
          "text": [
            "\n",
            "Number of matches 116992\n",
            "Number of matches After Lowe's Ratio 2455\n",
            "Number of Robust matches 2325\n",
            "\n",
            "\n"
          ],
          "name": "stdout"
        },
        {
          "output_type": "stream",
          "text": [
            "\r 43%|████▎     | 13/30 [03:56<05:12, 18.40s/it]"
          ],
          "name": "stderr"
        },
        {
          "output_type": "stream",
          "text": [
            "\n",
            "Number of matches 114988\n",
            "Number of matches After Lowe's Ratio 2666\n",
            "Number of Robust matches 2559\n",
            "\n",
            "\n"
          ],
          "name": "stdout"
        },
        {
          "output_type": "stream",
          "text": [
            "\r 47%|████▋     | 14/30 [04:16<05:03, 18.94s/it]"
          ],
          "name": "stderr"
        },
        {
          "output_type": "stream",
          "text": [
            "\n",
            "Number of matches 128238\n",
            "Number of matches After Lowe's Ratio 2802\n",
            "Number of Robust matches 2688\n",
            "\n",
            "\n"
          ],
          "name": "stdout"
        },
        {
          "output_type": "stream",
          "text": [
            "\r 50%|█████     | 15/30 [04:38<04:57, 19.85s/it]"
          ],
          "name": "stderr"
        },
        {
          "output_type": "stream",
          "text": [
            "\n",
            "Number of matches 136609\n",
            "Number of matches After Lowe's Ratio 3341\n",
            "Number of Robust matches 3219\n",
            "\n",
            "\n"
          ],
          "name": "stdout"
        },
        {
          "output_type": "stream",
          "text": [
            "\r 53%|█████▎    | 16/30 [05:00<04:43, 20.28s/it]"
          ],
          "name": "stderr"
        },
        {
          "output_type": "stream",
          "text": [
            "\n",
            "Number of matches 143361\n",
            "Number of matches After Lowe's Ratio 3937\n",
            "Number of Robust matches 3822\n",
            "\n",
            "\n"
          ],
          "name": "stdout"
        },
        {
          "output_type": "stream",
          "text": [
            "\r 57%|█████▋    | 17/30 [05:21<04:27, 20.59s/it]"
          ],
          "name": "stderr"
        },
        {
          "output_type": "stream",
          "text": [
            "\n",
            "Number of matches 148969\n",
            "Number of matches After Lowe's Ratio 4217\n",
            "Number of Robust matches 3905\n",
            "\n",
            "\n"
          ],
          "name": "stdout"
        },
        {
          "output_type": "stream",
          "text": [
            "\r 60%|██████    | 18/30 [05:45<04:18, 21.52s/it]"
          ],
          "name": "stderr"
        },
        {
          "output_type": "stream",
          "text": [
            "\n",
            "Number of matches 163635\n",
            "Number of matches After Lowe's Ratio 4432\n",
            "Number of Robust matches 4177\n",
            "\n",
            "\n"
          ],
          "name": "stdout"
        },
        {
          "output_type": "stream",
          "text": [
            "\r 63%|██████▎   | 19/30 [06:09<04:05, 22.28s/it]"
          ],
          "name": "stderr"
        },
        {
          "output_type": "stream",
          "text": [
            "\n",
            "Number of matches 156446\n",
            "Number of matches After Lowe's Ratio 4624\n",
            "Number of Robust matches 4463\n",
            "\n",
            "\n"
          ],
          "name": "stdout"
        },
        {
          "output_type": "stream",
          "text": [
            "\r 67%|██████▋   | 20/30 [06:34<03:50, 23.08s/it]"
          ],
          "name": "stderr"
        },
        {
          "output_type": "stream",
          "text": [
            "\n",
            "Number of matches 172738\n",
            "Number of matches After Lowe's Ratio 4833\n",
            "Number of Robust matches 4678\n",
            "\n",
            "\n"
          ],
          "name": "stdout"
        },
        {
          "output_type": "stream",
          "text": [
            "\r 70%|███████   | 21/30 [07:00<03:36, 24.02s/it]"
          ],
          "name": "stderr"
        },
        {
          "output_type": "stream",
          "text": [
            "\n",
            "Number of matches 170577\n",
            "Number of matches After Lowe's Ratio 4712\n",
            "Number of Robust matches 4438\n",
            "\n",
            "\n"
          ],
          "name": "stdout"
        },
        {
          "output_type": "stream",
          "text": [
            "\r 73%|███████▎  | 22/30 [07:27<03:19, 24.98s/it]"
          ],
          "name": "stderr"
        },
        {
          "output_type": "stream",
          "text": [
            "\n",
            "Number of matches 184432\n",
            "Number of matches After Lowe's Ratio 4962\n",
            "Number of Robust matches 4466\n",
            "\n",
            "\n"
          ],
          "name": "stdout"
        },
        {
          "output_type": "stream",
          "text": [
            "\r 77%|███████▋  | 23/30 [07:58<03:06, 26.63s/it]"
          ],
          "name": "stderr"
        },
        {
          "output_type": "stream",
          "text": [
            "\n",
            "Number of matches 206406\n",
            "Number of matches After Lowe's Ratio 5104\n",
            "Number of Robust matches 4812\n",
            "\n",
            "\n"
          ],
          "name": "stdout"
        },
        {
          "output_type": "stream",
          "text": [
            "\r 80%|████████  | 24/30 [08:31<02:51, 28.65s/it]"
          ],
          "name": "stderr"
        },
        {
          "output_type": "stream",
          "text": [
            "\n",
            "Number of matches 204481\n",
            "Number of matches After Lowe's Ratio 4805\n",
            "Number of Robust matches 4102\n",
            "\n",
            "\n"
          ],
          "name": "stdout"
        },
        {
          "output_type": "stream",
          "text": [
            "\r 83%|████████▎ | 25/30 [09:07<02:34, 30.99s/it]"
          ],
          "name": "stderr"
        },
        {
          "output_type": "stream",
          "text": [
            "\n",
            "Number of matches 251768\n",
            "Number of matches After Lowe's Ratio 9883\n",
            "Number of Robust matches 9068\n",
            "\n",
            "\n"
          ],
          "name": "stdout"
        },
        {
          "output_type": "stream",
          "text": [
            "\r 87%|████████▋ | 26/30 [09:50<02:18, 34.58s/it]"
          ],
          "name": "stderr"
        },
        {
          "output_type": "stream",
          "text": [
            "\n",
            "Number of matches 234731\n",
            "Number of matches After Lowe's Ratio 362\n",
            "Number of Robust matches 144\n",
            "\n",
            "\n"
          ],
          "name": "stdout"
        },
        {
          "output_type": "stream",
          "text": [
            "\r 90%|█████████ | 27/30 [10:29<01:47, 35.68s/it]"
          ],
          "name": "stderr"
        },
        {
          "output_type": "stream",
          "text": [
            "\n",
            "Number of matches 228576\n",
            "Number of matches After Lowe's Ratio 2505\n",
            "Number of Robust matches 2061\n",
            "\n",
            "\n"
          ],
          "name": "stdout"
        },
        {
          "output_type": "stream",
          "text": [
            "\r 93%|█████████▎| 28/30 [11:06<01:12, 36.09s/it]"
          ],
          "name": "stderr"
        },
        {
          "output_type": "stream",
          "text": [
            "\n",
            "Number of matches 220285\n",
            "Number of matches After Lowe's Ratio 3071\n",
            "Number of Robust matches 2531\n",
            "\n",
            "\n"
          ],
          "name": "stdout"
        },
        {
          "output_type": "stream",
          "text": [
            "\r 97%|█████████▋| 29/30 [11:41<00:35, 35.74s/it]"
          ],
          "name": "stderr"
        },
        {
          "output_type": "stream",
          "text": [
            "\n",
            "Number of matches 215222\n",
            "Number of matches After Lowe's Ratio 3216\n",
            "Number of Robust matches 2881\n",
            "\n",
            "\n"
          ],
          "name": "stdout"
        }
      ]
    },
    {
      "cell_type": "code",
      "metadata": {
        "colab": {
          "base_uri": "https://localhost:8080/"
        },
        "id": "QWtrnneyMmwE",
        "outputId": "7a100178-dfaa-48ce-f678-34fbe28d02cf"
      },
      "source": [
        "import h5py as h5\n",
        "f=h5.File('drive/MyDrive/H_left_freak_40.h5','w')\n",
        "t0=time.time()\n",
        "f.create_dataset('data',data=H_left_freak)\n",
        "f.close()\n",
        "print('HDF5  w/o comp.:',time.time()-t0,'[s] ... size',os.path.getsize('drive/MyDrive/H_left_freak_40.h5')/1.e6,'MB')"
      ],
      "execution_count": 37,
      "outputs": [
        {
          "output_type": "stream",
          "text": [
            "HDF5  w/o comp.: 0.011875629425048828 [s] ... size 0.004208 MB\n"
          ],
          "name": "stdout"
        }
      ]
    },
    {
      "cell_type": "code",
      "metadata": {
        "colab": {
          "base_uri": "https://localhost:8080/"
        },
        "id": "cGRvI_mjMmqY",
        "outputId": "39bf1615-a06c-4577-eb71-21ceccd9b7f6"
      },
      "source": [
        "import h5py as h5\n",
        "f=h5.File('drive/MyDrive/H_right_freak_40.h5','w')\n",
        "t0=time.time()\n",
        "f.create_dataset('data',data=H_right_freak)\n",
        "f.close()\n",
        "print('HDF5  w/o comp.:',time.time()-t0,'[s] ... size',os.path.getsize('drive/MyDrive/H_right_freak_40.h5')/1.e6,'MB')"
      ],
      "execution_count": 38,
      "outputs": [
        {
          "output_type": "stream",
          "text": [
            "HDF5  w/o comp.: 0.011207818984985352 [s] ... size 0.004136 MB\n"
          ],
          "name": "stdout"
        }
      ]
    },
    {
      "cell_type": "code",
      "metadata": {
        "id": "iM9RneyGMml4"
      },
      "source": [
        "del H_left_freak, H_right_freak,keypoints_all_left_freak, keypoints_all_right_freak, descriptors_all_left_freak, descriptors_all_right_freak, points_all_left_freak, points_all_right_freak"
      ],
      "execution_count": 39,
      "outputs": []
    },
    {
      "cell_type": "code",
      "metadata": {
        "id": "9XtCEAI_MmhW"
      },
      "source": [
        ""
      ],
      "execution_count": null,
      "outputs": []
    },
    {
      "cell_type": "code",
      "metadata": {
        "id": "JSA_55TFMmaa"
      },
      "source": [
        "'''\n",
        "import pickle\n",
        "Fdb = open('all_feat_surf_left.dat', 'rb')\n",
        "kpts_all = pickle.load(Fdb)\n",
        "Fdb.close()\n",
        "\n",
        "keypoints_all_left_surf = []\n",
        "descriptors_all_left_surf = []\n",
        "\n",
        "for j,kpt_each in enumerate(kpts_all):\n",
        "  keypoints_each = []\n",
        "  descrip_each = []\n",
        "  for k,kpt_img in enumerate(kpt_each):\n",
        "    temp_feature = cv2.KeyPoint(x=kpt_img[0][0],y=kpt_img[0][1],_size=kpt_img[1], _angle=kpt_img[2], \n",
        "                            _response=kpt_img[3], _octave=kpt_img[4], _class_id=kpt_img[5]) \n",
        "    temp_descriptor = kpt_img[6]\n",
        "    keypoints_each.append(temp_feature)\n",
        "    descrip_each.append(temp_descriptor)\n",
        "  points_all_left_surf.append(np.asarray([[p.pt[0], p.pt[1]] for p in keypoints_each]))\n",
        "  keypoints_all_left_surf.append(keypoints_each)\n",
        "  descriptors_all_left_surf.append(descrip_each)"
      ],
      "execution_count": null,
      "outputs": []
    },
    {
      "cell_type": "code",
      "metadata": {
        "id": "FPc9Ec71M1bH"
      },
      "source": [
        "'''\n",
        "import pickle\n",
        "Fdb = open('all_feat_surf_right.dat', 'rb')\n",
        "kpts_all = pickle.load(Fdb)\n",
        "Fdb.close()\n",
        "\n",
        "keypoints_all_right_surf = []\n",
        "descriptors_all_right_surf = []\n",
        "\n",
        "for j,kpt_each in enumerate(kpts_all):\n",
        "  keypoints_each = []\n",
        "  descrip_each = []\n",
        "  for k,kpt_img in enumerate(kpt_each):\n",
        "    temp_feature = cv2.KeyPoint(x=kpt_img[0][0],y=kpt_img[0][1],_size=kpt_img[1], _angle=kpt_img[2], \n",
        "                            _response=kpt_img[3], _octave=kpt_img[4], _class_id=kpt_img[5]) \n",
        "    temp_descriptor = kpt_img[6]\n",
        "    keypoints_each.append(temp_feature)\n",
        "    descrip_each.append(temp_descriptor)\n",
        "  points_all_right_surf.append(np.asarray([[p.pt[0], p.pt[1]] for p in keypoints_each]))\n",
        "  keypoints_all_right_surf.append(keypoints_each)\n",
        "  descriptors_all_right_surf.append(descrip_each)"
      ],
      "execution_count": null,
      "outputs": []
    },
    {
      "cell_type": "code",
      "metadata": {
        "id": "fL8Xcg9kM1V6",
        "colab": {
          "base_uri": "https://localhost:8080/"
        },
        "outputId": "4ad1a60f-ee7f-46de-f2f7-e4719c4a62c0"
      },
      "source": [
        "\n",
        "H_left_surf = []\n",
        "H_right_surf = []\n",
        "\n",
        "num_matches_surf = []\n",
        "num_good_matches_surf = []\n",
        "\n",
        "for j in tqdm(range(len(left_files_path))):\n",
        "  if j==len(left_files_path)-1:\n",
        "    break\n",
        "\n",
        "  H_a,matches,gd_matches = get_Hmatrix(images_left_bgr[j:j+2][::-1],keypoints_all_left_surf[j:j+2][::-1],points_all_left_surf[j:j+2][::-1],descriptors_all_left_surf[j:j+2][::-1],0.65)\n",
        "  H_left_surf.append(H_a)\n",
        "  num_matches_surf.append(matches)\n",
        "  num_good_matches_surf.append(gd_matches)\n",
        "\n",
        "for j in tqdm(range(len(right_files_path))):\n",
        "  if j==len(right_files_path)-1:\n",
        "    break\n",
        "\n",
        "  H_a,matches,gd_matches = get_Hmatrix(images_right_bgr[j:j+2][::-1],keypoints_all_right_surf[j:j+2][::-1],points_all_right_surf[j:j+2][::-1],descriptors_all_right_surf[j:j+2][::-1],0.65)\n",
        "  H_right_surf.append(H_a)\n",
        "  num_matches_surf.append(matches)\n",
        "  num_good_matches_surf.append(gd_matches)"
      ],
      "execution_count": 50,
      "outputs": [
        {
          "output_type": "stream",
          "text": [
            "\r  0%|          | 0/31 [00:00<?, ?it/s]"
          ],
          "name": "stderr"
        },
        {
          "output_type": "stream",
          "text": [
            "\n",
            "Number of matches 162696\n",
            "Number of matches After Lowe's Ratio 19519\n"
          ],
          "name": "stdout"
        },
        {
          "output_type": "stream",
          "text": [
            "\r  3%|▎         | 1/31 [00:25<12:43, 25.45s/it]"
          ],
          "name": "stderr"
        },
        {
          "output_type": "stream",
          "text": [
            "Number of Robust matches 18821\n",
            "\n",
            "\n",
            "\n",
            "Number of matches 167672\n",
            "Number of matches After Lowe's Ratio 20045\n"
          ],
          "name": "stdout"
        },
        {
          "output_type": "stream",
          "text": [
            "\r  6%|▋         | 2/31 [00:51<12:19, 25.50s/it]"
          ],
          "name": "stderr"
        },
        {
          "output_type": "stream",
          "text": [
            "Number of Robust matches 19495\n",
            "\n",
            "\n",
            "\n",
            "Number of matches 166499\n",
            "Number of matches After Lowe's Ratio 21137\n"
          ],
          "name": "stdout"
        },
        {
          "output_type": "stream",
          "text": [
            "\r 10%|▉         | 3/31 [01:16<11:57, 25.62s/it]"
          ],
          "name": "stderr"
        },
        {
          "output_type": "stream",
          "text": [
            "Number of Robust matches 20665\n",
            "\n",
            "\n",
            "\n",
            "Number of matches 168623\n",
            "Number of matches After Lowe's Ratio 20683\n"
          ],
          "name": "stdout"
        },
        {
          "output_type": "stream",
          "text": [
            "\r 13%|█▎        | 4/31 [01:42<11:34, 25.71s/it]"
          ],
          "name": "stderr"
        },
        {
          "output_type": "stream",
          "text": [
            "Number of Robust matches 20369\n",
            "\n",
            "\n",
            "\n",
            "Number of matches 172586\n",
            "Number of matches After Lowe's Ratio 20786\n"
          ],
          "name": "stdout"
        },
        {
          "output_type": "stream",
          "text": [
            "\r 16%|█▌        | 5/31 [02:09<11:14, 25.94s/it]"
          ],
          "name": "stderr"
        },
        {
          "output_type": "stream",
          "text": [
            "Number of Robust matches 19744\n",
            "\n",
            "\n",
            "\n",
            "Number of matches 172222\n",
            "Number of matches After Lowe's Ratio 19393\n"
          ],
          "name": "stdout"
        },
        {
          "output_type": "stream",
          "text": [
            "\r 19%|█▉        | 6/31 [02:35<10:51, 26.05s/it]"
          ],
          "name": "stderr"
        },
        {
          "output_type": "stream",
          "text": [
            "Number of Robust matches 19147\n",
            "\n",
            "\n",
            "\n",
            "Number of matches 173025\n",
            "Number of matches After Lowe's Ratio 20704\n"
          ],
          "name": "stdout"
        },
        {
          "output_type": "stream",
          "text": [
            "\r 23%|██▎       | 7/31 [03:02<10:27, 26.15s/it]"
          ],
          "name": "stderr"
        },
        {
          "output_type": "stream",
          "text": [
            "Number of Robust matches 18783\n",
            "\n",
            "\n",
            "\n",
            "Number of matches 178082\n",
            "Number of matches After Lowe's Ratio 19002\n"
          ],
          "name": "stdout"
        },
        {
          "output_type": "stream",
          "text": [
            "\r 26%|██▌       | 8/31 [03:31<10:26, 27.23s/it]"
          ],
          "name": "stderr"
        },
        {
          "output_type": "stream",
          "text": [
            "Number of Robust matches 17942\n",
            "\n",
            "\n",
            "\n",
            "Number of matches 176147\n",
            "Number of matches After Lowe's Ratio 16528\n"
          ],
          "name": "stdout"
        },
        {
          "output_type": "stream",
          "text": [
            "\r 29%|██▉       | 9/31 [03:58<09:57, 27.16s/it]"
          ],
          "name": "stderr"
        },
        {
          "output_type": "stream",
          "text": [
            "Number of Robust matches 15329\n",
            "\n",
            "\n",
            "\n",
            "Number of matches 191846\n",
            "Number of matches After Lowe's Ratio 238\n"
          ],
          "name": "stdout"
        },
        {
          "output_type": "stream",
          "text": [
            "\r 32%|███▏      | 10/31 [04:26<09:34, 27.36s/it]"
          ],
          "name": "stderr"
        },
        {
          "output_type": "stream",
          "text": [
            "Number of Robust matches 155\n",
            "\n",
            "\n",
            "\n",
            "Number of matches 185473\n",
            "Number of matches After Lowe's Ratio 32\n",
            "Number of Robust matches 4\n",
            "\n",
            "\n",
            "Number of matches After Lowe's Ratio New 11294\n"
          ],
          "name": "stdout"
        },
        {
          "output_type": "stream",
          "text": [
            "\r 35%|███▌      | 11/31 [04:56<09:22, 28.12s/it]"
          ],
          "name": "stderr"
        },
        {
          "output_type": "stream",
          "text": [
            "Number of Robust matches New 7\n",
            "\n",
            "\n",
            "\n",
            "Number of matches 176922\n",
            "Number of matches After Lowe's Ratio 38853\n"
          ],
          "name": "stdout"
        },
        {
          "output_type": "stream",
          "text": [
            "\r 39%|███▊      | 12/31 [05:24<08:55, 28.18s/it]"
          ],
          "name": "stderr"
        },
        {
          "output_type": "stream",
          "text": [
            "Number of Robust matches 38664\n",
            "\n",
            "\n",
            "\n",
            "Number of matches 173192\n",
            "Number of matches After Lowe's Ratio 18782\n"
          ],
          "name": "stdout"
        },
        {
          "output_type": "stream",
          "text": [
            "\r 42%|████▏     | 13/31 [05:51<08:19, 27.76s/it]"
          ],
          "name": "stderr"
        },
        {
          "output_type": "stream",
          "text": [
            "Number of Robust matches 16657\n",
            "\n",
            "\n",
            "\n",
            "Number of matches 170642\n",
            "Number of matches After Lowe's Ratio 20408\n"
          ],
          "name": "stdout"
        },
        {
          "output_type": "stream",
          "text": [
            "\r 45%|████▌     | 14/31 [06:17<07:44, 27.33s/it]"
          ],
          "name": "stderr"
        },
        {
          "output_type": "stream",
          "text": [
            "Number of Robust matches 19724\n",
            "\n",
            "\n",
            "\n",
            "Number of matches 167449\n",
            "Number of matches After Lowe's Ratio 20404\n"
          ],
          "name": "stdout"
        },
        {
          "output_type": "stream",
          "text": [
            "\r 48%|████▊     | 15/31 [06:44<07:13, 27.09s/it]"
          ],
          "name": "stderr"
        },
        {
          "output_type": "stream",
          "text": [
            "Number of Robust matches 19567\n",
            "\n",
            "\n",
            "\n",
            "Number of matches 168433\n",
            "Number of matches After Lowe's Ratio 19448\n",
            "Number of Robust matches 18803\n",
            "\n",
            "\n"
          ],
          "name": "stdout"
        },
        {
          "output_type": "stream",
          "text": [
            "\r 52%|█████▏    | 16/31 [07:10<06:40, 26.72s/it]"
          ],
          "name": "stderr"
        },
        {
          "output_type": "stream",
          "text": [
            "\n",
            "Number of matches 168263\n",
            "Number of matches After Lowe's Ratio 19696\n"
          ],
          "name": "stdout"
        },
        {
          "output_type": "stream",
          "text": [
            "\r 55%|█████▍    | 17/31 [07:36<06:13, 26.67s/it]"
          ],
          "name": "stderr"
        },
        {
          "output_type": "stream",
          "text": [
            "Number of Robust matches 18096\n",
            "\n",
            "\n",
            "\n",
            "Number of matches 169155\n",
            "Number of matches After Lowe's Ratio 17840\n"
          ],
          "name": "stdout"
        },
        {
          "output_type": "stream",
          "text": [
            "\r 58%|█████▊    | 18/31 [08:03<05:44, 26.51s/it]"
          ],
          "name": "stderr"
        },
        {
          "output_type": "stream",
          "text": [
            "Number of Robust matches 16738\n",
            "\n",
            "\n",
            "\n",
            "Number of matches 168020\n",
            "Number of matches After Lowe's Ratio 16405\n"
          ],
          "name": "stdout"
        },
        {
          "output_type": "stream",
          "text": [
            "\r 61%|██████▏   | 19/31 [08:28<05:16, 26.34s/it]"
          ],
          "name": "stderr"
        },
        {
          "output_type": "stream",
          "text": [
            "Number of Robust matches 15089\n",
            "\n",
            "\n",
            "\n",
            "Number of matches 170974\n",
            "Number of matches After Lowe's Ratio 16544\n"
          ],
          "name": "stdout"
        },
        {
          "output_type": "stream",
          "text": [
            "\r 65%|██████▍   | 20/31 [08:54<04:48, 26.22s/it]"
          ],
          "name": "stderr"
        },
        {
          "output_type": "stream",
          "text": [
            "Number of Robust matches 13713\n",
            "\n",
            "\n"
          ],
          "name": "stdout"
        },
        {
          "output_type": "stream",
          "text": [
            "\r 68%|██████▊   | 21/31 [09:21<04:23, 26.33s/it]"
          ],
          "name": "stderr"
        },
        {
          "output_type": "stream",
          "text": [
            "\n",
            "Number of matches 184370\n",
            "Number of matches After Lowe's Ratio 373\n",
            "Number of Robust matches 301\n",
            "\n",
            "\n",
            "\n",
            "Number of matches 182231\n",
            "Number of matches After Lowe's Ratio 37\n",
            "Number of Robust matches 5\n",
            "\n",
            "\n",
            "Number of matches After Lowe's Ratio New 11379\n"
          ],
          "name": "stdout"
        },
        {
          "output_type": "stream",
          "text": [
            "\r 71%|███████   | 22/31 [09:49<04:02, 26.90s/it]"
          ],
          "name": "stderr"
        },
        {
          "output_type": "stream",
          "text": [
            "Number of Robust matches New 7\n",
            "\n",
            "\n",
            "\n",
            "Number of matches 181754\n",
            "Number of matches After Lowe's Ratio 48770\n"
          ],
          "name": "stdout"
        },
        {
          "output_type": "stream",
          "text": [
            "\r 74%|███████▍  | 23/31 [10:17<03:37, 27.23s/it]"
          ],
          "name": "stderr"
        },
        {
          "output_type": "stream",
          "text": [
            "Number of Robust matches 48527\n",
            "\n",
            "\n"
          ],
          "name": "stdout"
        },
        {
          "output_type": "stream",
          "text": [
            "\r 77%|███████▋  | 24/31 [10:43<03:07, 26.82s/it]"
          ],
          "name": "stderr"
        },
        {
          "output_type": "stream",
          "text": [
            "\n",
            "Number of matches 166369\n",
            "Number of matches After Lowe's Ratio 19408\n",
            "Number of Robust matches 15047\n",
            "\n",
            "\n"
          ],
          "name": "stdout"
        },
        {
          "output_type": "stream",
          "text": [
            "\r 81%|████████  | 25/31 [11:09<02:38, 26.43s/it]"
          ],
          "name": "stderr"
        },
        {
          "output_type": "stream",
          "text": [
            "\n",
            "Number of matches 168103\n",
            "Number of matches After Lowe's Ratio 18747\n",
            "Number of Robust matches 18555\n",
            "\n",
            "\n"
          ],
          "name": "stdout"
        },
        {
          "output_type": "stream",
          "text": [
            "\r 84%|████████▍ | 26/31 [11:33<02:08, 25.74s/it]"
          ],
          "name": "stderr"
        },
        {
          "output_type": "stream",
          "text": [
            "\n",
            "Number of matches 164668\n",
            "Number of matches After Lowe's Ratio 18863\n",
            "Number of Robust matches 18412\n",
            "\n",
            "\n"
          ],
          "name": "stdout"
        },
        {
          "output_type": "stream",
          "text": [
            "\r 87%|████████▋ | 27/31 [11:56<01:39, 24.96s/it]"
          ],
          "name": "stderr"
        },
        {
          "output_type": "stream",
          "text": [
            "\n",
            "Number of matches 164608\n",
            "Number of matches After Lowe's Ratio 18183\n",
            "Number of Robust matches 16520\n",
            "\n",
            "\n"
          ],
          "name": "stdout"
        },
        {
          "output_type": "stream",
          "text": [
            "\r 90%|█████████ | 28/31 [12:20<01:13, 24.63s/it]"
          ],
          "name": "stderr"
        },
        {
          "output_type": "stream",
          "text": [
            "\n",
            "Number of matches 175050\n",
            "Number of matches After Lowe's Ratio 427\n",
            "Number of Robust matches 319\n",
            "\n",
            "\n",
            "\n",
            "Number of matches 171494\n",
            "Number of matches After Lowe's Ratio 33\n",
            "Number of Robust matches 5\n",
            "\n",
            "\n",
            "Number of matches After Lowe's Ratio New 10580\n"
          ],
          "name": "stdout"
        },
        {
          "output_type": "stream",
          "text": [
            "\r 94%|█████████▎| 29/31 [12:44<00:49, 24.62s/it]"
          ],
          "name": "stderr"
        },
        {
          "output_type": "stream",
          "text": [
            "Number of Robust matches New 6\n",
            "\n",
            "\n"
          ],
          "name": "stdout"
        },
        {
          "output_type": "stream",
          "text": [
            "  0%|          | 0/30 [00:00<?, ?it/s]"
          ],
          "name": "stderr"
        },
        {
          "output_type": "stream",
          "text": [
            "\n",
            "Number of matches 171337\n",
            "Number of matches After Lowe's Ratio 15368\n",
            "Number of Robust matches 14842\n",
            "\n",
            "\n"
          ],
          "name": "stdout"
        },
        {
          "output_type": "stream",
          "text": [
            "\r  3%|▎         | 1/30 [00:23<11:21, 23.51s/it]"
          ],
          "name": "stderr"
        },
        {
          "output_type": "stream",
          "text": [
            "\n",
            "Number of matches 167596\n",
            "Number of matches After Lowe's Ratio 19354\n",
            "Number of Robust matches 18356\n",
            "\n",
            "\n"
          ],
          "name": "stdout"
        },
        {
          "output_type": "stream",
          "text": [
            "\r  7%|▋         | 2/30 [00:47<10:59, 23.56s/it]"
          ],
          "name": "stderr"
        },
        {
          "output_type": "stream",
          "text": [
            "\n",
            "Number of matches 163701\n",
            "Number of matches After Lowe's Ratio 17879\n",
            "Number of Robust matches 15189\n",
            "\n",
            "\n"
          ],
          "name": "stdout"
        },
        {
          "output_type": "stream",
          "text": [
            "\r 10%|█         | 3/30 [01:10<10:34, 23.49s/it]"
          ],
          "name": "stderr"
        },
        {
          "output_type": "stream",
          "text": [
            "\n",
            "Number of matches 161585\n",
            "Number of matches After Lowe's Ratio 17630\n",
            "Number of Robust matches 16253\n",
            "\n",
            "\n",
            "\n",
            "Number of matches 170854\n",
            "Number of matches After Lowe's Ratio 19480\n"
          ],
          "name": "stdout"
        },
        {
          "output_type": "stream",
          "text": [
            "\r 13%|█▎        | 4/30 [01:34<10:13, 23.58s/it]"
          ],
          "name": "stderr"
        },
        {
          "output_type": "stream",
          "text": [
            "Number of Robust matches 17113\n",
            "\n",
            "\n",
            "\n",
            "Number of matches 170454\n",
            "Number of matches After Lowe's Ratio 50051\n"
          ],
          "name": "stdout"
        },
        {
          "output_type": "stream",
          "text": [
            "\r 17%|█▋        | 5/30 [01:59<09:58, 23.93s/it]"
          ],
          "name": "stderr"
        },
        {
          "output_type": "stream",
          "text": [
            "Number of Robust matches 49905\n",
            "\n",
            "\n",
            "\n",
            "Number of matches 165922\n",
            "Number of matches After Lowe's Ratio 40\n",
            "Number of Robust matches 5\n",
            "\n",
            "\n",
            "Number of matches After Lowe's Ratio New 10139\n"
          ],
          "name": "stdout"
        },
        {
          "output_type": "stream",
          "text": [
            "\r 20%|██        | 6/30 [02:23<09:34, 23.95s/it]"
          ],
          "name": "stderr"
        },
        {
          "output_type": "stream",
          "text": [
            "Number of Robust matches New 7\n",
            "\n",
            "\n"
          ],
          "name": "stdout"
        },
        {
          "output_type": "stream",
          "text": [
            "\r 23%|██▎       | 7/30 [02:46<09:06, 23.77s/it]"
          ],
          "name": "stderr"
        },
        {
          "output_type": "stream",
          "text": [
            "\n",
            "Number of matches 156150\n",
            "Number of matches After Lowe's Ratio 363\n",
            "Number of Robust matches 294\n",
            "\n",
            "\n"
          ],
          "name": "stdout"
        },
        {
          "output_type": "stream",
          "text": [
            "\r 27%|██▋       | 8/30 [03:09<08:35, 23.45s/it]"
          ],
          "name": "stderr"
        },
        {
          "output_type": "stream",
          "text": [
            "\n",
            "Number of matches 158138\n",
            "Number of matches After Lowe's Ratio 15572\n",
            "Number of Robust matches 14170\n",
            "\n",
            "\n"
          ],
          "name": "stdout"
        },
        {
          "output_type": "stream",
          "text": [
            "\r 30%|███       | 9/30 [03:31<08:07, 23.22s/it]"
          ],
          "name": "stderr"
        },
        {
          "output_type": "stream",
          "text": [
            "\n",
            "Number of matches 158840\n",
            "Number of matches After Lowe's Ratio 16998\n",
            "Number of Robust matches 16652\n",
            "\n",
            "\n",
            "\n",
            "Number of matches 160886\n",
            "Number of matches After Lowe's Ratio 18080\n"
          ],
          "name": "stdout"
        },
        {
          "output_type": "stream",
          "text": [
            "\r 33%|███▎      | 10/30 [03:54<07:42, 23.14s/it]"
          ],
          "name": "stderr"
        },
        {
          "output_type": "stream",
          "text": [
            "Number of Robust matches 16289\n",
            "\n",
            "\n"
          ],
          "name": "stdout"
        },
        {
          "output_type": "stream",
          "text": [
            "\r 37%|███▋      | 11/30 [04:17<07:17, 23.02s/it]"
          ],
          "name": "stderr"
        },
        {
          "output_type": "stream",
          "text": [
            "\n",
            "Number of matches 160555\n",
            "Number of matches After Lowe's Ratio 17509\n",
            "Number of Robust matches 16686\n",
            "\n",
            "\n"
          ],
          "name": "stdout"
        },
        {
          "output_type": "stream",
          "text": [
            "\r 40%|████      | 12/30 [04:40<06:56, 23.13s/it]"
          ],
          "name": "stderr"
        },
        {
          "output_type": "stream",
          "text": [
            "\n",
            "Number of matches 164315\n",
            "Number of matches After Lowe's Ratio 17789\n",
            "Number of Robust matches 15440\n",
            "\n",
            "\n"
          ],
          "name": "stdout"
        },
        {
          "output_type": "stream",
          "text": [
            "\r 43%|████▎     | 13/30 [05:04<06:36, 23.30s/it]"
          ],
          "name": "stderr"
        },
        {
          "output_type": "stream",
          "text": [
            "\n",
            "Number of matches 162241\n",
            "Number of matches After Lowe's Ratio 17360\n",
            "Number of Robust matches 16902\n",
            "\n",
            "\n"
          ],
          "name": "stdout"
        },
        {
          "output_type": "stream",
          "text": [
            "\r 47%|████▋     | 14/30 [05:28<06:15, 23.46s/it]"
          ],
          "name": "stderr"
        },
        {
          "output_type": "stream",
          "text": [
            "\n",
            "Number of matches 165990\n",
            "Number of matches After Lowe's Ratio 17928\n",
            "Number of Robust matches 16613\n",
            "\n",
            "\n"
          ],
          "name": "stdout"
        },
        {
          "output_type": "stream",
          "text": [
            "\r 50%|█████     | 15/30 [05:52<05:54, 23.67s/it]"
          ],
          "name": "stderr"
        },
        {
          "output_type": "stream",
          "text": [
            "\n",
            "Number of matches 164282\n",
            "Number of matches After Lowe's Ratio 17901\n",
            "Number of Robust matches 17420\n",
            "\n",
            "\n"
          ],
          "name": "stdout"
        },
        {
          "output_type": "stream",
          "text": [
            "\r 53%|█████▎    | 16/30 [06:16<05:33, 23.84s/it]"
          ],
          "name": "stderr"
        },
        {
          "output_type": "stream",
          "text": [
            "\n",
            "Number of matches 167414\n",
            "Number of matches After Lowe's Ratio 18646\n",
            "Number of Robust matches 17781\n",
            "\n",
            "\n"
          ],
          "name": "stdout"
        },
        {
          "output_type": "stream",
          "text": [
            "\r 57%|█████▋    | 17/30 [06:41<05:12, 24.07s/it]"
          ],
          "name": "stderr"
        },
        {
          "output_type": "stream",
          "text": [
            "\n",
            "Number of matches 169316\n",
            "Number of matches After Lowe's Ratio 19185\n",
            "Number of Robust matches 16582\n",
            "\n",
            "\n",
            "\n",
            "Number of matches 173074\n",
            "Number of matches After Lowe's Ratio 18917\n"
          ],
          "name": "stdout"
        },
        {
          "output_type": "stream",
          "text": [
            "\r 60%|██████    | 18/30 [07:08<05:00, 25.07s/it]"
          ],
          "name": "stderr"
        },
        {
          "output_type": "stream",
          "text": [
            "Number of Robust matches 17155\n",
            "\n",
            "\n",
            "\n",
            "Number of matches 171074\n",
            "Number of matches After Lowe's Ratio 19263\n"
          ],
          "name": "stdout"
        },
        {
          "output_type": "stream",
          "text": [
            "\r 63%|██████▎   | 19/30 [07:33<04:34, 24.96s/it]"
          ],
          "name": "stderr"
        },
        {
          "output_type": "stream",
          "text": [
            "Number of Robust matches 15971\n",
            "\n",
            "\n",
            "\n",
            "Number of matches 175630\n",
            "Number of matches After Lowe's Ratio 19527\n"
          ],
          "name": "stdout"
        },
        {
          "output_type": "stream",
          "text": [
            "\r 67%|██████▋   | 20/30 [07:58<04:10, 25.03s/it]"
          ],
          "name": "stderr"
        },
        {
          "output_type": "stream",
          "text": [
            "Number of Robust matches 17796\n",
            "\n",
            "\n",
            "\n",
            "Number of matches 172384\n",
            "Number of matches After Lowe's Ratio 18947\n"
          ],
          "name": "stdout"
        },
        {
          "output_type": "stream",
          "text": [
            "\r 70%|███████   | 21/30 [08:23<03:45, 25.06s/it]"
          ],
          "name": "stderr"
        },
        {
          "output_type": "stream",
          "text": [
            "Number of Robust matches 18329\n",
            "\n",
            "\n",
            "\n",
            "Number of matches 173924\n",
            "Number of matches After Lowe's Ratio 19185\n"
          ],
          "name": "stdout"
        },
        {
          "output_type": "stream",
          "text": [
            "\r 73%|███████▎  | 22/30 [08:48<03:19, 24.96s/it]"
          ],
          "name": "stderr"
        },
        {
          "output_type": "stream",
          "text": [
            "Number of Robust matches 16946\n",
            "\n",
            "\n",
            "\n",
            "Number of matches 178109\n",
            "Number of matches After Lowe's Ratio 19555\n"
          ],
          "name": "stdout"
        },
        {
          "output_type": "stream",
          "text": [
            "\r 77%|███████▋  | 23/30 [09:14<02:56, 25.17s/it]"
          ],
          "name": "stderr"
        },
        {
          "output_type": "stream",
          "text": [
            "Number of Robust matches 18455\n",
            "\n",
            "\n",
            "\n",
            "Number of matches 173499\n",
            "Number of matches After Lowe's Ratio 18198\n"
          ],
          "name": "stdout"
        },
        {
          "output_type": "stream",
          "text": [
            "\r 80%|████████  | 24/30 [09:39<02:31, 25.18s/it]"
          ],
          "name": "stderr"
        },
        {
          "output_type": "stream",
          "text": [
            "Number of Robust matches 17736\n",
            "\n",
            "\n",
            "\n",
            "Number of matches 185484\n",
            "Number of matches After Lowe's Ratio 34260\n"
          ],
          "name": "stdout"
        },
        {
          "output_type": "stream",
          "text": [
            "\r 83%|████████▎ | 25/30 [10:05<02:06, 25.38s/it]"
          ],
          "name": "stderr"
        },
        {
          "output_type": "stream",
          "text": [
            "Number of Robust matches 31675\n",
            "\n",
            "\n",
            "\n",
            "Number of matches 178021\n",
            "Number of matches After Lowe's Ratio 52\n",
            "Number of Robust matches 10\n",
            "\n",
            "\n",
            "Number of matches After Lowe's Ratio New 10891\n"
          ],
          "name": "stdout"
        },
        {
          "output_type": "stream",
          "text": [
            "\r 87%|████████▋ | 26/30 [10:34<01:45, 26.45s/it]"
          ],
          "name": "stderr"
        },
        {
          "output_type": "stream",
          "text": [
            "Number of Robust matches New 10\n",
            "\n",
            "\n"
          ],
          "name": "stdout"
        },
        {
          "output_type": "stream",
          "text": [
            "\r 90%|█████████ | 27/30 [10:58<01:17, 25.93s/it]"
          ],
          "name": "stderr"
        },
        {
          "output_type": "stream",
          "text": [
            "\n",
            "Number of matches 169152\n",
            "Number of matches After Lowe's Ratio 396\n",
            "Number of Robust matches 242\n",
            "\n",
            "\n"
          ],
          "name": "stdout"
        },
        {
          "output_type": "stream",
          "text": [
            "\r 93%|█████████▎| 28/30 [11:23<00:51, 25.60s/it]"
          ],
          "name": "stderr"
        },
        {
          "output_type": "stream",
          "text": [
            "\n",
            "Number of matches 169394\n",
            "Number of matches After Lowe's Ratio 13257\n",
            "Number of Robust matches 11176\n",
            "\n",
            "\n"
          ],
          "name": "stdout"
        },
        {
          "output_type": "stream",
          "text": [
            "\r 97%|█████████▋| 29/30 [11:47<00:25, 25.20s/it]"
          ],
          "name": "stderr"
        },
        {
          "output_type": "stream",
          "text": [
            "\n",
            "Number of matches 169436\n",
            "Number of matches After Lowe's Ratio 14385\n",
            "Number of Robust matches 12254\n",
            "\n",
            "\n"
          ],
          "name": "stdout"
        }
      ]
    },
    {
      "cell_type": "code",
      "metadata": {
        "id": "gmxdDHHtM1RP",
        "colab": {
          "base_uri": "https://localhost:8080/"
        },
        "outputId": "7f475654-3674-4034-ad80-2f6248cb2228"
      },
      "source": [
        "\n",
        "import h5py as h5\n",
        "f=h5.File('drive/MyDrive/H_left_surf_40.h5','w')\n",
        "t0=time.time()\n",
        "f.create_dataset('data',data=H_left_surf)\n",
        "f.close()\n",
        "print('HDF5  w/o comp.:',time.time()-t0,'[s] ... size',os.path.getsize('drive/MyDrive/H_left_surf_40.h5')/1.e6,'MB')"
      ],
      "execution_count": 51,
      "outputs": [
        {
          "output_type": "stream",
          "text": [
            "HDF5  w/o comp.: 0.014415979385375977 [s] ... size 0.004208 MB\n"
          ],
          "name": "stdout"
        }
      ]
    },
    {
      "cell_type": "code",
      "metadata": {
        "id": "kHnkqEQaM1GG",
        "colab": {
          "base_uri": "https://localhost:8080/"
        },
        "outputId": "149f81f5-c78f-4e6e-c891-5d13d1c3fd95"
      },
      "source": [
        "\n",
        "import h5py as h5\n",
        "f=h5.File('drive/MyDrive/H_right_surf_40.h5','w')\n",
        "t0=time.time()\n",
        "f.create_dataset('data',data=H_right_surf)\n",
        "f.close()\n",
        "print('HDF5  w/o comp.:',time.time()-t0,'[s] ... size',os.path.getsize('drive/MyDrive/H_right_surf_40.h5')/1.e6,'MB')"
      ],
      "execution_count": 52,
      "outputs": [
        {
          "output_type": "stream",
          "text": [
            "HDF5  w/o comp.: 0.0162506103515625 [s] ... size 0.004136 MB\n"
          ],
          "name": "stdout"
        }
      ]
    },
    {
      "cell_type": "code",
      "metadata": {
        "id": "IWnqIKCGM1CZ"
      },
      "source": [
        "\n",
        "del H_left_surf, H_right_surf,keypoints_all_left_surf, keypoints_all_right_surf, descriptors_all_left_surf, descriptors_all_right_surf, points_all_left_surf, points_all_right_surf"
      ],
      "execution_count": 53,
      "outputs": []
    },
    {
      "cell_type": "code",
      "metadata": {
        "id": "qRiNLo19M0-z"
      },
      "source": [
        ""
      ],
      "execution_count": null,
      "outputs": []
    },
    {
      "cell_type": "code",
      "metadata": {
        "id": "rnE1eMQFM07J"
      },
      "source": [
        "'''\n",
        "import pickle\n",
        "Fdb = open('all_feat_rootsift_left.dat', 'rb')\n",
        "kpts_all = pickle.load(Fdb)\n",
        "Fdb.close()\n",
        "\n",
        "keypoints_all_left_rootsift = []\n",
        "descriptors_all_left_rootsift = []\n",
        "\n",
        "for j,kpt_each in enumerate(kpts_all):\n",
        "  keypoints_each = []\n",
        "  descrip_each = []\n",
        "  for k,kpt_img in enumerate(kpt_each):\n",
        "    temp_feature = cv2.KeyPoint(x=kpt_img[0][0],y=kpt_img[0][1],_size=kpt_img[1], _angle=kpt_img[2], \n",
        "                            _response=kpt_img[3], _octave=kpt_img[4], _class_id=kpt_img[5]) \n",
        "    temp_descriptor = kpt_img[6]\n",
        "    keypoints_each.append(temp_feature)\n",
        "    descrip_each.append(temp_descriptor)\n",
        "  points_all_left_rootsift.append(np.asarray([[p.pt[0], p.pt[1]] for p in keypoints_each]))\n",
        "  keypoints_all_left_rootsift.append(keypoints_each)\n",
        "  descriptors_all_left_rootsift.append(descrip_each)"
      ],
      "execution_count": null,
      "outputs": []
    },
    {
      "cell_type": "code",
      "metadata": {
        "id": "ho55GFaxM02H"
      },
      "source": [
        "'''\n",
        "import pickle\n",
        "Fdb = open('all_feat_rootsift_right.dat', 'rb')\n",
        "kpts_all = pickle.load(Fdb)\n",
        "Fdb.close()\n",
        "\n",
        "keypoints_all_right_rootsift = []\n",
        "descriptors_all_right_rootsift = []\n",
        "\n",
        "for j,kpt_each in enumerate(kpts_all):\n",
        "  keypoints_each = []\n",
        "  descrip_each = []\n",
        "  for k,kpt_img in enumerate(kpt_each):\n",
        "    temp_feature = cv2.KeyPoint(x=kpt_img[0][0],y=kpt_img[0][1],_size=kpt_img[1], _angle=kpt_img[2], \n",
        "                            _response=kpt_img[3], _octave=kpt_img[4], _class_id=kpt_img[5]) \n",
        "    temp_descriptor = kpt_img[6]\n",
        "    keypoints_each.append(temp_feature)\n",
        "    descrip_each.append(temp_descriptor)\n",
        "  points_all_right_rootsift.append(np.asarray([[p.pt[0], p.pt[1]] for p in keypoints_each]))\n",
        "  keypoints_all_right_rootsift.append(keypoints_each)\n",
        "  descriptors_all_right_rootsift.append(descrip_each)"
      ],
      "execution_count": null,
      "outputs": []
    },
    {
      "cell_type": "code",
      "metadata": {
        "id": "LFOkZhTNNBra"
      },
      "source": [
        "'''\n",
        "H_left_rootsift = []\n",
        "H_right_rootsift = []\n",
        "\n",
        "num_matches_rootsift = []\n",
        "num_good_matches_rootsift = []\n",
        "\n",
        "for j in tqdm(range(len(left_files_path))):\n",
        "  if j==len(left_files_path)-1:\n",
        "    break\n",
        "\n",
        "  H_a,matches,gd_matches = get_Hmatrix(images_left_bgr[j:j+2][::-1],keypoints_all_left_rootsift[j:j+2][::-1],points_all_left_rootsift[j:j+2][::-1],descriptors_all_left_rootsift[j:j+2][::-1],0.9)\n",
        "  H_left_rootsift.append(H_a)\n",
        "  num_matches_rootsift.append(matches)\n",
        "  num_good_matches_rootsift.append(gd_matches)\n",
        "\n",
        "for j in tqdm(range(len(right_files_path))):\n",
        "  if j==len(right_files_path)-1:\n",
        "    break\n",
        "\n",
        "  H_a,matches,gd_matches = get_Hmatrix(images_right_bgr[j:j+2][::-1],keypoints_all_right_rootsift[j:j+2][::-1],points_all_right_rootsift[j:j+2][::-1],descriptors_all_right_rootsift[j:j+2][::-1],0.9)\n",
        "  H_right_rootsift.append(H_a)\n",
        "  num_matches_rootsift.append(matches)\n",
        "  num_good_matches_rootsift.append(gd_matches)"
      ],
      "execution_count": null,
      "outputs": []
    },
    {
      "cell_type": "code",
      "metadata": {
        "colab": {
          "base_uri": "https://localhost:8080/"
        },
        "id": "o1Rs4WF_NBn3",
        "outputId": "3d185e0c-5b0d-429a-e362-6929063873cf"
      },
      "source": [
        "'''\n",
        "import h5py as h5\n",
        "f=h5.File('drive/MyDrive/H_left_rootsift_40.h5','w')\n",
        "t0=time.time()\n",
        "f.create_dataset('data',data=H_left_rootsift)\n",
        "f.close()\n",
        "print('HDF5  w/o comp.:',time.time()-t0,'[s] ... size',os.path.getsize('drive/MyDrive/H_left_rootsift_40.h5')/1.e6,'MB')"
      ],
      "execution_count": null,
      "outputs": [
        {
          "output_type": "stream",
          "text": [
            "HDF5  w/o comp.: 0.017641782760620117 [s] ... size 0.006368 MB\n"
          ],
          "name": "stdout"
        }
      ]
    },
    {
      "cell_type": "code",
      "metadata": {
        "colab": {
          "base_uri": "https://localhost:8080/"
        },
        "id": "BNe5ZQs0NBj6",
        "outputId": "43124b53-e874-408b-f2df-c7d724520ada"
      },
      "source": [
        "'''\n",
        "import h5py as h5\n",
        "f=h5.File('drive/MyDrive/H_right_rootsift_40.h5','w')\n",
        "t0=time.time()\n",
        "f.create_dataset('data',data=H_right_rootsift)\n",
        "f.close()\n",
        "print('HDF5  w/o comp.:',time.time()-t0,'[s] ... size',os.path.getsize('drive/MyDrive/H_right_rootsift_40.h5')/1.e6,'MB')"
      ],
      "execution_count": null,
      "outputs": [
        {
          "output_type": "stream",
          "text": [
            "HDF5  w/o comp.: 0.004599332809448242 [s] ... size 0.006296 MB\n"
          ],
          "name": "stdout"
        }
      ]
    },
    {
      "cell_type": "code",
      "metadata": {
        "id": "3-HuMiSpNBez"
      },
      "source": [
        "'''\n",
        "del H_left_rootsift, H_right_rootsift,keypoints_all_left_rootsift, keypoints_all_right_rootsift, descriptors_all_left_rootsift, descriptors_all_right_rootsift, points_all_left_rootsift, points_all_right_rootsift"
      ],
      "execution_count": null,
      "outputs": []
    },
    {
      "cell_type": "code",
      "metadata": {
        "id": "xvOdNUKWNBa2"
      },
      "source": [
        ""
      ],
      "execution_count": null,
      "outputs": []
    },
    {
      "cell_type": "code",
      "metadata": {
        "id": "ox8i17_-Tslv"
      },
      "source": [
        "'''\n",
        "import pickle\n",
        "Fdb = open('all_feat_surfsift_left.dat', 'rb')\n",
        "kpts_all = pickle.load(Fdb)\n",
        "Fdb.close()\n",
        "\n",
        "keypoints_all_left_surfsift = []\n",
        "descriptors_all_left_surfsift = []\n",
        "\n",
        "for j,kpt_each in enumerate(kpts_all):\n",
        "  keypoints_each = []\n",
        "  descrip_each = []\n",
        "  for k,kpt_img in enumerate(kpt_each):\n",
        "    temp_feature = cv2.KeyPoint(x=kpt_img[0][0],y=kpt_img[0][1],_size=kpt_img[1], _angle=kpt_img[2], \n",
        "                            _response=kpt_img[3], _octave=kpt_img[4], _class_id=kpt_img[5]) \n",
        "    temp_descriptor = kpt_img[6]\n",
        "    keypoints_each.append(temp_feature)\n",
        "    descrip_each.append(temp_descriptor)\n",
        "  points_all_left_surfsift.append(np.asarray([[p.pt[0], p.pt[1]] for p in keypoints_each]))\n",
        "  keypoints_all_left_surfsift.append(keypoints_each)\n",
        "  descriptors_all_left_surfsift.append(descrip_each)"
      ],
      "execution_count": null,
      "outputs": []
    },
    {
      "cell_type": "code",
      "metadata": {
        "id": "y_rHNxPCVcj9"
      },
      "source": [
        "'''\n",
        "import pickle\n",
        "Fdb = open('all_feat_surfsift_right.dat', 'rb')\n",
        "kpts_all = pickle.load(Fdb)\n",
        "Fdb.close()\n",
        "\n",
        "keypoints_all_right_surfsift = []\n",
        "descriptors_all_right_surfsift = []\n",
        "\n",
        "for j,kpt_each in enumerate(kpts_all):\n",
        "  keypoints_each = []\n",
        "  descrip_each = []\n",
        "  for k,kpt_img in enumerate(kpt_each):\n",
        "    temp_feature = cv2.KeyPoint(x=kpt_img[0][0],y=kpt_img[0][1],_size=kpt_img[1], _angle=kpt_img[2], \n",
        "                            _response=kpt_img[3], _octave=kpt_img[4], _class_id=kpt_img[5]) \n",
        "    temp_descriptor = kpt_img[6]\n",
        "    keypoints_each.append(temp_feature)\n",
        "    descrip_each.append(temp_descriptor)\n",
        "  points_all_right_surfsift.append(np.asarray([[p.pt[0], p.pt[1]] for p in keypoints_each]))\n",
        "  keypoints_all_right_surfsift.append(keypoints_each)\n",
        "  descriptors_all_right_surfsift.append(descrip_each)"
      ],
      "execution_count": null,
      "outputs": []
    },
    {
      "cell_type": "code",
      "metadata": {
        "id": "FImXVRt7Vcfp"
      },
      "source": [
        "'''\n",
        "H_left_surfsift = []\n",
        "H_right_surfsift = []\n",
        "\n",
        "num_matches_surfsift = []\n",
        "num_good_matches_surfsift = []\n",
        "\n",
        "for j in tqdm(range(len(left_files_path))):\n",
        "  if j==len(left_files_path)-1:\n",
        "    break\n",
        "\n",
        "  H_a,matches,gd_matches = get_Hmatrix(images_left_bgr[j:j+2][::-1],keypoints_all_left_surfsift[j:j+2][::-1],points_all_left_surfsift[j:j+2][::-1],descriptors_all_left_surfsift[j:j+2][::-1],0.7,6)\n",
        "  H_left_surfsift.append(H_a)\n",
        "  num_matches_surfsift.append(matches)\n",
        "  num_good_matches_surfsift.append(gd_matches)\n",
        "\n",
        "for j in tqdm(range(len(right_files_path))):\n",
        "  if j==len(right_files_path)-1:\n",
        "    break\n",
        "\n",
        "  H_a,matches,gd_matches = get_Hmatrix(images_right_bgr[j:j+2][::-1],keypoints_all_right_surfsift[j:j+2][::-1],points_all_right_surfsift[j:j+2][::-1],descriptors_all_right_surfsift[j:j+2][::-1],0.7,6)\n",
        "  H_right_surfsift.append(H_a)\n",
        "  num_matches_surfsift.append(matches)\n",
        "  num_good_matches_surfsift.append(gd_matches)"
      ],
      "execution_count": null,
      "outputs": []
    },
    {
      "cell_type": "code",
      "metadata": {
        "id": "8xMUiQctVcac"
      },
      "source": [
        "'''\n",
        "import h5py as h5\n",
        "f=h5.File('drive/MyDrive/H_left_surfsift_40.h5','w')\n",
        "t0=time.time()\n",
        "f.create_dataset('data',data=H_left_surfsift)\n",
        "f.close()\n",
        "print('HDF5  w/o comp.:',time.time()-t0,'[s] ... size',os.path.getsize('drive/MyDrive/H_left_surfsift_40.h5')/1.e6,'MB')"
      ],
      "execution_count": null,
      "outputs": []
    },
    {
      "cell_type": "code",
      "metadata": {
        "id": "oCs2pUGAVcTq"
      },
      "source": [
        "'''\n",
        "import h5py as h5\n",
        "f=h5.File('drive/MyDrive/H_right_surfsift_40.h5','w')\n",
        "t0=time.time()\n",
        "f.create_dataset('data',data=H_right_surfsift)\n",
        "f.close()\n",
        "print('HDF5  w/o comp.:',time.time()-t0,'[s] ... size',os.path.getsize('drive/MyDrive/H_right_surfsift_40.h5')/1.e6,'MB')"
      ],
      "execution_count": null,
      "outputs": []
    },
    {
      "cell_type": "code",
      "metadata": {
        "id": "bQyjlNKdVkm3"
      },
      "source": [
        "'''\n",
        "del H_left_surfsift, H_right_surfsift,keypoints_all_left_surfsift, keypoints_all_right_surfsift, descriptors_all_left_surfsift, descriptors_all_right_surfsift, points_all_left_surfsift, points_all_right_surfsift"
      ],
      "execution_count": null,
      "outputs": []
    },
    {
      "cell_type": "code",
      "metadata": {
        "id": "SDZPXKE7Vkjm"
      },
      "source": [
        ""
      ],
      "execution_count": null,
      "outputs": []
    },
    {
      "cell_type": "code",
      "metadata": {
        "id": "iyC-HQL6NSGE"
      },
      "source": [
        "'''\n",
        "import pickle\n",
        "Fdb = open('all_feat_gftt_left.dat', 'rb')\n",
        "kpts_all = pickle.load(Fdb)\n",
        "Fdb.close()\n",
        "\n",
        "keypoints_all_left_gftt = []\n",
        "descriptors_all_left_gftt = []\n",
        "\n",
        "for j,kpt_each in enumerate(kpts_all):\n",
        "  keypoints_each = []\n",
        "  descrip_each = []\n",
        "  for k,kpt_img in enumerate(kpt_each):\n",
        "    temp_feature = cv2.KeyPoint(x=kpt_img[0][0],y=kpt_img[0][1],_size=kpt_img[1], _angle=kpt_img[2], \n",
        "                            _response=kpt_img[3], _octave=kpt_img[4], _class_id=kpt_img[5]) \n",
        "    temp_descriptor = kpt_img[6]\n",
        "    keypoints_each.append(temp_feature)\n",
        "    descrip_each.append(temp_descriptor)\n",
        "  points_all_left_gftt.append(np.asarray([[p.pt[0], p.pt[1]] for p in keypoints_each]))\n",
        "  keypoints_all_left_gftt.append(keypoints_each)\n",
        "  descriptors_all_left_gftt.append(descrip_each)"
      ],
      "execution_count": null,
      "outputs": []
    },
    {
      "cell_type": "code",
      "metadata": {
        "id": "QQSn8pA5NSBw"
      },
      "source": [
        "'''\n",
        "import pickle\n",
        "Fdb = open('all_feat_gftt_right.dat', 'rb')\n",
        "kpts_all = pickle.load(Fdb)\n",
        "Fdb.close()\n",
        "\n",
        "keypoints_all_right_gftt = []\n",
        "descriptors_all_right_gftt = []\n",
        "\n",
        "for j,kpt_each in enumerate(kpts_all):\n",
        "  keypoints_each = []\n",
        "  descrip_each = []\n",
        "  for k,kpt_img in enumerate(kpt_each):\n",
        "    temp_feature = cv2.KeyPoint(x=kpt_img[0][0],y=kpt_img[0][1],_size=kpt_img[1], _angle=kpt_img[2], \n",
        "                            _response=kpt_img[3], _octave=kpt_img[4], _class_id=kpt_img[5]) \n",
        "    temp_descriptor = kpt_img[6]\n",
        "    keypoints_each.append(temp_feature)\n",
        "    descrip_each.append(temp_descriptor)\n",
        "  points_all_right_gftt.append(np.asarray([[p.pt[0], p.pt[1]] for p in keypoints_each]))\n",
        "  keypoints_all_right_gftt.append(keypoints_each)\n",
        "  descriptors_all_right_gftt.append(descrip_each)"
      ],
      "execution_count": null,
      "outputs": []
    },
    {
      "cell_type": "code",
      "metadata": {
        "id": "tDiMSQY4NR-l"
      },
      "source": [
        "'''\n",
        "H_left_gftt = []\n",
        "H_right_gftt = []\n",
        "\n",
        "num_matches_gftt = []\n",
        "num_good_matches_gftt = []\n",
        "\n",
        "for j in tqdm(range(len(left_files_path))):\n",
        "  if j==len(left_files_path)-1:\n",
        "    break\n",
        "\n",
        "  H_a,matches,gd_matches = get_Hmatrix(images_left_bgr[j:j+2][::-1],keypoints_all_left_gftt[j:j+2][::-1],points_all_left_gftt[j:j+2][::-1],descriptors_all_left_gftt[j:j+2][::-1],0.85,6)\n",
        "  H_left_gftt.append(H_a)\n",
        "  num_matches_gftt.append(matches)\n",
        "  num_good_matches_gftt.append(gd_matches)\n",
        "\n",
        "for j in tqdm(range(len(right_files_path))):\n",
        "  if j==len(right_files_path)-1:\n",
        "    break\n",
        "\n",
        "  H_a,matches,gd_matches = get_Hmatrix(images_right_bgr[j:j+2][::-1],keypoints_all_right_gftt[j:j+2][::-1],points_all_right_gftt[j:j+2][::-1],descriptors_all_right_gftt[j:j+2][::-1],0.85,6)\n",
        "  H_right_gftt.append(H_a)\n",
        "  num_matches_gftt.append(matches)\n",
        "  num_good_matches_gftt.append(gd_matches)"
      ],
      "execution_count": null,
      "outputs": []
    },
    {
      "cell_type": "code",
      "metadata": {
        "id": "ZNfb9ajaNR51"
      },
      "source": [
        "'''\n",
        "import h5py as h5\n",
        "f=h5.File('drive/MyDrive/H_left_gftt_40.h5','w')\n",
        "t0=time.time()\n",
        "f.create_dataset('data',data=H_left_gftt)\n",
        "f.close()\n",
        "print('HDF5  w/o comp.:',time.time()-t0,'[s] ... size',os.path.getsize('drive/MyDrive/H_left_gftt_40.h5')/1.e6,'MB')"
      ],
      "execution_count": null,
      "outputs": []
    },
    {
      "cell_type": "code",
      "metadata": {
        "id": "DmDMHiUVNR0n"
      },
      "source": [
        "'''\n",
        "import h5py as h5\n",
        "f=h5.File('drive/MyDrive/H_right_gftt_40.h5','w')\n",
        "t0=time.time()\n",
        "f.create_dataset('data',data=H_right_gftt)\n",
        "f.close()\n",
        "print('HDF5  w/o comp.:',time.time()-t0,'[s] ... size',os.path.getsize('drive/MyDrive/H_right_gftt_40.h5')/1.e6,'MB')"
      ],
      "execution_count": null,
      "outputs": []
    },
    {
      "cell_type": "code",
      "metadata": {
        "id": "Kjou3NzdNRvb"
      },
      "source": [
        "'''\n",
        "del H_left_gftt, H_right_gftt,keypoints_all_left_gftt, keypoints_all_right_gftt, descriptors_all_left_gftt, descriptors_all_right_gftt, points_all_left_gftt, points_all_right_gftt"
      ],
      "execution_count": null,
      "outputs": []
    },
    {
      "cell_type": "code",
      "metadata": {
        "id": "4WPAx1bPNRpb"
      },
      "source": [
        ""
      ],
      "execution_count": null,
      "outputs": []
    },
    {
      "cell_type": "code",
      "metadata": {
        "id": "RkzmrEaNNRld"
      },
      "source": [
        "'''\n",
        "import pickle\n",
        "Fdb = open('all_feat_mser_left.dat', 'rb')\n",
        "kpts_all = pickle.load(Fdb)\n",
        "Fdb.close()\n",
        "\n",
        "keypoints_all_left_mser = []\n",
        "descriptors_all_left_mser = []\n",
        "\n",
        "for j,kpt_each in enumerate(kpts_all):\n",
        "  keypoints_each = []\n",
        "  descrip_each = []\n",
        "  for k,kpt_img in enumerate(kpt_each):\n",
        "    temp_feature = cv2.KeyPoint(x=kpt_img[0][0],y=kpt_img[0][1],_size=kpt_img[1], _angle=kpt_img[2], \n",
        "                            _response=kpt_img[3], _octave=kpt_img[4], _class_id=kpt_img[5]) \n",
        "    temp_descriptor = kpt_img[6]\n",
        "    keypoints_each.append(temp_feature)\n",
        "    descrip_each.append(temp_descriptor)\n",
        "  points_all_left_mser.append(np.asarray([[p.pt[0], p.pt[1]] for p in keypoints_each]))\n",
        "  keypoints_all_left_mser.append(keypoints_each)\n",
        "  descriptors_all_left_mser.append(descrip_each)"
      ],
      "execution_count": null,
      "outputs": []
    },
    {
      "cell_type": "code",
      "metadata": {
        "id": "GJrHMRuwNRgV"
      },
      "source": [
        "'''\n",
        "import pickle\n",
        "Fdb = open('all_feat_mser_right.dat', 'rb')\n",
        "kpts_all = pickle.load(Fdb)\n",
        "Fdb.close()\n",
        "\n",
        "keypoints_all_right_mser = []\n",
        "descriptors_all_right_mser = []\n",
        "\n",
        "for j,kpt_each in enumerate(kpts_all):\n",
        "  keypoints_each = []\n",
        "  descrip_each = []\n",
        "  for k,kpt_img in enumerate(kpt_each):\n",
        "    temp_feature = cv2.KeyPoint(x=kpt_img[0][0],y=kpt_img[0][1],_size=kpt_img[1], _angle=kpt_img[2], \n",
        "                            _response=kpt_img[3], _octave=kpt_img[4], _class_id=kpt_img[5]) \n",
        "    temp_descriptor = kpt_img[6]\n",
        "    keypoints_each.append(temp_feature)\n",
        "    descrip_each.append(temp_descriptor)\n",
        "  points_all_right_mser.append(np.asarray([[p.pt[0], p.pt[1]] for p in keypoints_each]))\n",
        "  keypoints_all_right_mser.append(keypoints_each)\n",
        "  descriptors_all_right_mser.append(descrip_each)"
      ],
      "execution_count": null,
      "outputs": []
    },
    {
      "cell_type": "code",
      "metadata": {
        "id": "RTNrAvibNRWJ"
      },
      "source": [
        "'''\n",
        "H_left_mser = []\n",
        "H_right_mser = []\n",
        "\n",
        "num_matches_mser = []\n",
        "num_good_matches_mser = []\n",
        "\n",
        "for j in tqdm(range(len(left_files_path))):\n",
        "  if j==len(left_files_path)-1:\n",
        "    break\n",
        "\n",
        "  H_a,matches,gd_matches = get_Hmatrix(images_left_bgr[j:j+2][::-1],keypoints_all_left_mser[j:j+2][::-1],points_all_left_mser[j:j+2][::-1],descriptors_all_left_mser[j:j+2][::-1],0.95,8)\n",
        "  H_left_mser.append(H_a)\n",
        "  num_matches_mser.append(matches)\n",
        "  num_good_matches_mser.append(gd_matches)\n",
        "\n",
        "for j in tqdm(range(len(right_files_path))):\n",
        "  if j==len(right_files_path)-1:\n",
        "    break\n",
        "\n",
        "  H_a,matches,gd_matches = get_Hmatrix(images_right_bgr[j:j+2][::-1],keypoints_all_right_mser[j:j+2][::-1],points_all_right_mser[j:j+2][::-1],descriptors_all_right_mser[j:j+2][::-1],0.95,8)\n",
        "  H_right_mser.append(H_a)\n",
        "  num_matches_mser.append(matches)\n",
        "  num_good_matches_mser.append(gd_matches)"
      ],
      "execution_count": null,
      "outputs": []
    },
    {
      "cell_type": "code",
      "metadata": {
        "id": "15_8796hNjIP"
      },
      "source": [
        "'''\n",
        "import h5py as h5\n",
        "f=h5.File('drive/MyDrive/H_left_mser_40.h5','w')\n",
        "t0=time.time()\n",
        "f.create_dataset('data',data=H_left_mser)\n",
        "f.close()\n",
        "print('HDF5  w/o comp.:',time.time()-t0,'[s] ... size',os.path.getsize('drive/MyDrive/H_left_mser_40.h5')/1.e6,'MB')"
      ],
      "execution_count": null,
      "outputs": []
    },
    {
      "cell_type": "code",
      "metadata": {
        "id": "f8Er9whfNjE0"
      },
      "source": [
        "'''\n",
        "import h5py as h5\n",
        "f=h5.File('drive/MyDrive/H_right_mser_40.h5','w')\n",
        "t0=time.time()\n",
        "f.create_dataset('data',data=H_right_mser)\n",
        "f.close()\n",
        "print('HDF5  w/o comp.:',time.time()-t0,'[s] ... size',os.path.getsize('drive/MyDrive/H_right_mser_40.h5')/1.e6,'MB')"
      ],
      "execution_count": null,
      "outputs": []
    },
    {
      "cell_type": "code",
      "metadata": {
        "id": "hGinOcpTNjA9"
      },
      "source": [
        "'''\n",
        "del H_left_mser, H_right_mser,keypoints_all_left_mser, keypoints_all_right_mser, descriptors_all_left_mser, descriptors_all_right_mser, points_all_left_mser, points_all_right_mser"
      ],
      "execution_count": null,
      "outputs": []
    },
    {
      "cell_type": "code",
      "metadata": {
        "id": "60PMVL7-Ni9a"
      },
      "source": [
        ""
      ],
      "execution_count": null,
      "outputs": []
    },
    {
      "cell_type": "code",
      "metadata": {
        "id": "v9h1dfs3Ni5A"
      },
      "source": [
        "'''\n",
        "import pickle\n",
        "Fdb = open('all_feat_superpoint_left.dat', 'rb')\n",
        "kpts_all = pickle.load(Fdb)\n",
        "Fdb.close()\n",
        "\n",
        "keypoints_all_left_superpoint = []\n",
        "descriptors_all_left_superpoint = []\n",
        "\n",
        "for j,kpt_each in enumerate(kpts_all):\n",
        "  keypoints_each = []\n",
        "  descrip_each = []\n",
        "  for k,kpt_img in enumerate(kpt_each):\n",
        "    temp_feature = cv2.KeyPoint(x=kpt_img[0][0],y=kpt_img[0][1],_size=kpt_img[1], _angle=kpt_img[2], \n",
        "                            _response=kpt_img[3], _octave=kpt_img[4], _class_id=kpt_img[5]) \n",
        "    temp_descriptor = kpt_img[6]\n",
        "    keypoints_each.append(temp_feature)\n",
        "    descrip_each.append(temp_descriptor)\n",
        "  points_all_left_superpoint.append(np.asarray([[p.pt[0], p.pt[1]] for p in keypoints_each]))\n",
        "  keypoints_all_left_superpoint.append(keypoints_each)\n",
        "  descriptors_all_left_superpoint.append(descrip_each)"
      ],
      "execution_count": null,
      "outputs": []
    },
    {
      "cell_type": "code",
      "metadata": {
        "id": "88AByrvBNi0y"
      },
      "source": [
        "'''\n",
        "import pickle\n",
        "Fdb = open('all_feat_superpoint_right.dat', 'rb')\n",
        "kpts_all = pickle.load(Fdb)\n",
        "Fdb.close()\n",
        "\n",
        "keypoints_all_right_superpoint = []\n",
        "descriptors_all_right_superpoint = []\n",
        "\n",
        "for j,kpt_each in enumerate(kpts_all):\n",
        "  keypoints_each = []\n",
        "  descrip_each = []\n",
        "  for k,kpt_img in enumerate(kpt_each):\n",
        "    temp_feature = cv2.KeyPoint(x=kpt_img[0][0],y=kpt_img[0][1],_size=kpt_img[1], _angle=kpt_img[2], \n",
        "                            _response=kpt_img[3], _octave=kpt_img[4], _class_id=kpt_img[5]) \n",
        "    temp_descriptor = kpt_img[6]\n",
        "    keypoints_each.append(temp_feature)\n",
        "    descrip_each.append(temp_descriptor)\n",
        "  points_all_right_superpoint.append(np.asarray([[p.pt[0], p.pt[1]] for p in keypoints_each]))\n",
        "  keypoints_all_right_superpoint.append(keypoints_each)\n",
        "  descriptors_all_right_superpoint.append(descrip_each)"
      ],
      "execution_count": null,
      "outputs": []
    },
    {
      "cell_type": "code",
      "metadata": {
        "id": "f2kldmCnNiwl"
      },
      "source": [
        "'''\n",
        "H_left_superpoint = []\n",
        "H_right_superpoint = []\n",
        "\n",
        "num_matches_superpoint = []\n",
        "num_good_matches_superpoint = []\n",
        "\n",
        "for j in tqdm(range(len(left_files_path))):\n",
        "  if j==len(left_files_path)-1:\n",
        "    break\n",
        "\n",
        "  H_a,matches,gd_matches = get_Hmatrix(images_left_bgr[j:j+2][::-1],keypoints_all_left_superpoint[j:j+2][::-1],points_all_left_superpoint[j:j+2][::-1],descriptors_all_left_superpoint[j:j+2][::-1],ratio=0.8,thresh=3,no_ransac=False,use_lowe=True)\n",
        "  H_left_superpoint.append(H_a)\n",
        "  num_matches_superpoint.append(matches)\n",
        "  num_good_matches_superpoint.append(gd_matches)\n",
        "\n",
        "for j in tqdm(range(len(right_files_path))):\n",
        "  if j==len(right_files_path)-1:\n",
        "    break\n",
        "\n",
        "  H_a,matches,gd_matches = get_Hmatrix(images_right_bgr[j:j+2][::-1],keypoints_all_right_superpoint[j:j+2][::-1],points_all_right_superpoint[j:j+2][::-1],descriptors_all_right_superpoint[j:j+2][::-1],ratio=0.8,thresh = 3,no_ransac=False,use_lowe=True)\n",
        "  H_right_superpoint.append(H_a)\n",
        "  num_matches_superpoint.append(matches)\n",
        "  num_good_matches_superpoint.append(gd_matches)"
      ],
      "execution_count": null,
      "outputs": []
    },
    {
      "cell_type": "code",
      "metadata": {
        "id": "q706DNjLN6Vh"
      },
      "source": [
        "'''\n",
        "import h5py as h5\n",
        "f=h5.File('drive/MyDrive/H_left_superpoint_40.h5','w')\n",
        "t0=time.time()\n",
        "f.create_dataset('data',data=H_left_superpoint)\n",
        "f.close()\n",
        "print('HDF5  w/o comp.:',time.time()-t0,'[s] ... size',os.path.getsize('drive/MyDrive/H_left_superpoint_40.h5')/1.e6,'MB')"
      ],
      "execution_count": null,
      "outputs": []
    },
    {
      "cell_type": "code",
      "metadata": {
        "id": "BkzXTRmkN6RW"
      },
      "source": [
        "'''\n",
        "import h5py as h5\n",
        "f=h5.File('drive/MyDrive/H_right_superpoint_40.h5','w')\n",
        "t0=time.time()\n",
        "f.create_dataset('data',data=H_right_superpoint)\n",
        "f.close()\n",
        "print('HDF5  w/o comp.:',time.time()-t0,'[s] ... size',os.path.getsize('drive/MyDrive/H_right_superpoint_40.h5')/1.e6,'MB')"
      ],
      "execution_count": null,
      "outputs": []
    },
    {
      "cell_type": "code",
      "metadata": {
        "id": "HFL3LP99N6MH"
      },
      "source": [
        "'''\n",
        "del H_left_superpoint, H_right_superpoint,keypoints_all_left_superpoint, keypoints_all_right_superpoint, descriptors_all_left_superpoint, descriptors_all_right_superpoint, points_all_left_superpoint, points_all_right_superpoint"
      ],
      "execution_count": null,
      "outputs": []
    },
    {
      "cell_type": "code",
      "metadata": {
        "id": "_q_yrn5XOFoP"
      },
      "source": [
        "'''\n",
        "print(len(num_matches_superpoint))"
      ],
      "execution_count": null,
      "outputs": []
    },
    {
      "cell_type": "code",
      "metadata": {
        "id": "Iel-_BchOFjx"
      },
      "source": [
        ""
      ],
      "execution_count": null,
      "outputs": []
    },
    {
      "cell_type": "markdown",
      "metadata": {
        "id": "trzf2eTGOOjd"
      },
      "source": [
        "Collect All Number Of KeyPoints"
      ]
    },
    {
      "cell_type": "code",
      "metadata": {
        "id": "9HS4lRFrVkfT"
      },
      "source": [
        "len_files = len(left_files_path) + len(right_files_path[1:])\n",
        "num_detectors = 5"
      ],
      "execution_count": 54,
      "outputs": []
    },
    {
      "cell_type": "code",
      "metadata": {
        "id": "yCck1fMMVkZ1"
      },
      "source": [
        "d = {'Dataset': [f'{Dataset}']*(num_detectors*len_files), 'Number of Keypoints': num_kps_freak + num_kps_sift + num_kps_surf + num_kps_fast + num_kps_agast, 'Detector/Descriptor': ['AGAST+SIFT']*len_files + ['FAST+SIFT']*len_files + ['BRISK+FREAK']*len_files + ['SIFT']*len_files + ['SURF']*len_files  }\n"
      ],
      "execution_count": 55,
      "outputs": []
    },
    {
      "cell_type": "code",
      "metadata": {
        "id": "_q_CFi7YJavI"
      },
      "source": [
        "df = pd.DataFrame.from_dict(d, orient='index')\n",
        "df = df.transpose()"
      ],
      "execution_count": 56,
      "outputs": []
    },
    {
      "cell_type": "code",
      "metadata": {
        "id": "rWMncpxlJZOZ"
      },
      "source": [
        "df_numkey_5 = df\n",
        "df_numkey_5['Number of Keypoints'] = df_numkey_5['Number of Keypoints']/(len_files)"
      ],
      "execution_count": 57,
      "outputs": []
    },
    {
      "cell_type": "code",
      "metadata": {
        "id": "pAg-a2j-OVqA"
      },
      "source": [
        "#d = {'Dataset': ['University Campus']*(3*len_files), 'Number of Keypoints': num_kps_rootsift + num_kps_superpoint + num_kps_surf, 'Detector/Descriptor':['ROOTSIFT']*101 + ['SuperPoint']*101 + ['SURF']*101  }\n",
        "#df = pd.DataFrame(data=d)"
      ],
      "execution_count": null,
      "outputs": []
    },
    {
      "cell_type": "code",
      "metadata": {
        "id": "X2PQojiuOVk0"
      },
      "source": [
        "#df_13 = pd.read_csv('drive/MyDrive/Num_Key_13.csv')\n",
        "#frames = [df_13, df]\n",
        "#df_16 = pd.concat(frames)"
      ],
      "execution_count": null,
      "outputs": []
    },
    {
      "cell_type": "code",
      "metadata": {
        "id": "x3OVBuQNOVgo"
      },
      "source": [
        "#df_16.to_csv('drive/MyDrive/Num_Key_16.csv')"
      ],
      "execution_count": null,
      "outputs": []
    },
    {
      "cell_type": "code",
      "metadata": {
        "id": "nRowM7PgOVZN",
        "colab": {
          "base_uri": "https://localhost:8080/",
          "height": 475
        },
        "outputId": "05e434d0-9962-4dce-fff1-c37dc8148c77"
      },
      "source": [
        "import seaborn as sns\n",
        "sns.set_theme(style='whitegrid')\n",
        "\n",
        "\n",
        "# Draw a nested barplot by species and sex\n",
        "g = sns.catplot(\n",
        "    data=df_numkey_5, kind=\"bar\",\n",
        "    x=\"Dataset\", y=\"Number of Keypoints\", hue=\"Detector/Descriptor\",\n",
        "    ci=\"sd\", palette=\"Spectral\", alpha=.9, height=6, aspect=2\n",
        ")\n",
        "g.despine(left=True)\n",
        "g.set_axis_labels(\"Dataset\", \"Number of Keypoints/Descriptors\")\n",
        "g.legend.set_title(\"Detector/Descriptor\")\n",
        "g.fig.suptitle(\"Number of Keypoints Detected for each Detector/Descriptor in Different Aerial Datasets\")"
      ],
      "execution_count": 58,
      "outputs": [
        {
          "output_type": "execute_result",
          "data": {
            "text/plain": [
              "Text(0.5, 0.98, 'Number of Keypoints Detected for each Detector/Descriptor in Different Aerial Datasets')"
            ]
          },
          "metadata": {
            "tags": []
          },
          "execution_count": 58
        },
        {
          "output_type": "display_data",
          "data": {
            "image/png": "[encoded data removed]",
            "text/plain": [
              "<Figure size 991.55x432 with 1 Axes>"
            ]
          },
          "metadata": {
            "tags": []
          }
        }
      ]
    },
    {
      "cell_type": "code",
      "metadata": {
        "id": "dr91y79XOVR8"
      },
      "source": [
        "g.savefig(f'drive/MyDrive/Num_Kypoints_7_{Dataset}.png')"
      ],
      "execution_count": null,
      "outputs": []
    },
    {
      "cell_type": "code",
      "metadata": {
        "id": "ZDRlBi3XOd8f"
      },
      "source": [
        "df_numkey_5.to_csv(f'drive/MyDrive/Num_Kypoints_5_{Dataset}.csv')"
      ],
      "execution_count": 59,
      "outputs": []
    },
    {
      "cell_type": "code",
      "metadata": {
        "id": "NJa1lqz8oLgi"
      },
      "source": [
        "#print(len(num_matches_agast))"
      ],
      "execution_count": null,
      "outputs": []
    },
    {
      "cell_type": "markdown",
      "metadata": {
        "id": "SX8IMi-qOhTI"
      },
      "source": [
        "Total Number of Matches Detected for each Detector+Descriptor"
      ]
    },
    {
      "cell_type": "code",
      "metadata": {
        "id": "RmA0wyBIOd3l"
      },
      "source": [
        "#df_match_15['Number of Total Matches'] =  num_matches_agast + num_matches_akaze + num_matches_brisk + num_matches_daisy + num_matches_fast + num_matches_freak + num_matches_gftt + num_matches_kaze + num_matches_mser + num_matches_orb + num_matches_rootsift + num_matches_sift + num_matches_briefstar + num_matches_superpoint+ num_matches_surf+ num_matches_surfsift\n",
        "d = {'Dataset': [f'{Dataset}']*(num_detectors*(len_files-1)), 'Number of Total Matches': num_matches_sift + num_matches_surf + num_matches_freak + num_matches_agast + num_matches_fast, 'Detector/Descriptor': ['AGAST+SIFT']*(len_files-1) + ['SIFT']*(len_files-1) + ['BRISK+FREAK']*(len_files-1) + ['FAST+SIFT']*(len_files-1) + ['SURF']*(len_files-1)}\n",
        "df_match_5 = pd.DataFrame(data=d)\n",
        "df_match_5['Number of Total Matches'] = df_match_5['Number of Total Matches']/(len_files-1)"
      ],
      "execution_count": 60,
      "outputs": []
    },
    {
      "cell_type": "code",
      "metadata": {
        "id": "SUZ8fqlHOdzR",
        "colab": {
          "base_uri": "https://localhost:8080/",
          "height": 759
        },
        "outputId": "84057176-655f-4e87-f574-72addcde4b64"
      },
      "source": [
        "import seaborn as sns\n",
        "sns.set_theme(style='whitegrid')\n",
        "\n",
        "\n",
        "# Draw a nested barplot by species and sex\n",
        "g = sns.catplot(\n",
        "    data=df_match_5, kind=\"bar\",\n",
        "    x=\"Dataset\", y=\"Number of Total Matches\", hue=\"Detector/Descriptor\",\n",
        "    ci=\"sd\", palette=\"Spectral\", alpha=.9, height=10, aspect=0.5\n",
        ")\n",
        "g.despine(left=True)\n",
        "g.set_axis_labels(\"Dataset \", \"Total Number of Matches b/w Consecutive/Overlapping Images\")\n",
        "g.legend.set_title(\"Detector/Descriptor\")\n",
        "g.fig.suptitle(\"Total Number of Matches Detected for each Detector/Descriptor in Different Aerial Datasets\")"
      ],
      "execution_count": 61,
      "outputs": [
        {
          "output_type": "execute_result",
          "data": {
            "text/plain": [
              "Text(0.5, 0.98, 'Total Number of Matches Detected for each Detector/Descriptor in Different Aerial Datasets')"
            ]
          },
          "metadata": {
            "tags": []
          },
          "execution_count": 61
        },
        {
          "output_type": "display_data",
          "data": {
            "image/png": "[encoded data removed]",
            "text/plain": [
              "<Figure size 487.55x720 with 1 Axes>"
            ]
          },
          "metadata": {
            "tags": []
          }
        }
      ]
    },
    {
      "cell_type": "code",
      "metadata": {
        "id": "c_WMsBjmOdu1"
      },
      "source": [
        "g.savefig(f'drive/MyDrive/Num_Matches_7_{Dataset}.png')"
      ],
      "execution_count": null,
      "outputs": []
    },
    {
      "cell_type": "code",
      "metadata": {
        "id": "hv58xIv0Odqj"
      },
      "source": [
        "#df_match_16.to_csv('drive/MyDrive/Num_Matches_16.csv')"
      ],
      "execution_count": null,
      "outputs": []
    },
    {
      "cell_type": "markdown",
      "metadata": {
        "id": "KPEmrVP9OrDR"
      },
      "source": [
        "Total Number of Good/Robust Matches (NN+Lowe+RANSAC) Detected for each Detector+Descriptor"
      ]
    },
    {
      "cell_type": "code",
      "metadata": {
        "id": "Tx1DHmzTOt3P"
      },
      "source": [
        "df_match_5['Number of Good Matches'] =  num_good_matches_sift + num_good_matches_surf + num_good_matches_freak + num_good_matches_agast + num_good_matches_fast\n",
        "df_match_5['Number of Good Matches'] = df_match_5['Number of Good Matches']/(len_files-1)"
      ],
      "execution_count": 62,
      "outputs": []
    },
    {
      "cell_type": "code",
      "metadata": {
        "id": "dmL182-COtzw",
        "colab": {
          "base_uri": "https://localhost:8080/",
          "height": 759
        },
        "outputId": "91787927-d7ad-4ea5-ed44-a2fb4f04ef0b"
      },
      "source": [
        "import seaborn as sns\n",
        "sns.set_theme(style='whitegrid')\n",
        "\n",
        "\n",
        "# Draw a nested barplot by species and sex\n",
        "g = sns.catplot(\n",
        "    data=df_match_5, kind=\"bar\",\n",
        "    x=\"Dataset\", y=\"Number of Good Matches\", hue=\"Detector/Descriptor\",\n",
        "    ci=\"sd\", palette=\"Spectral\", alpha=.9, height=10, aspect=0.5\n",
        ")\n",
        "g.despine(left=True)\n",
        "g.set_axis_labels(\"Dataset\", \"Number of Good Matches b/w Consecutive/Overlapping Images\")\n",
        "g.legend.set_title(\"Detector/Descriptor\")\n",
        "g.fig.suptitle(\"Number of Good Matches (Lowe + RANSAC) Detected for each Detector/Descriptor in Different Aerial Datasets\")"
      ],
      "execution_count": 63,
      "outputs": [
        {
          "output_type": "execute_result",
          "data": {
            "text/plain": [
              "Text(0.5, 0.98, 'Number of Good Matches (Lowe + RANSAC) Detected for each Detector/Descriptor in Different Aerial Datasets')"
            ]
          },
          "metadata": {
            "tags": []
          },
          "execution_count": 63
        },
        {
          "output_type": "display_data",
          "data": {
            "image/png": "[encoded data removed]",
            "text/plain": [
              "<Figure size 487.55x720 with 1 Axes>"
            ]
          },
          "metadata": {
            "tags": []
          }
        }
      ]
    },
    {
      "cell_type": "code",
      "metadata": {
        "id": "Ow42UY49OtvS"
      },
      "source": [
        "g.savefig('drive/MyDrive/Num_Good_Matches_7.png')"
      ],
      "execution_count": null,
      "outputs": []
    },
    {
      "cell_type": "code",
      "metadata": {
        "id": "LqbpFnFqOtro"
      },
      "source": [
        "#df_match_16.to_csv('drive/MyDrive/Num_Good_Matches_16.csv')"
      ],
      "execution_count": null,
      "outputs": []
    },
    {
      "cell_type": "markdown",
      "metadata": {
        "id": "hgN-5TGVO1_A"
      },
      "source": [
        "Recall Rate for each Detector+Descriptor"
      ]
    },
    {
      "cell_type": "code",
      "metadata": {
        "id": "Dq_VaaFpO2oh"
      },
      "source": [
        "df_match_5['Recall Rate of Matches'] = df_match_5['Number of Good Matches']/df_match_5['Number of Total Matches']"
      ],
      "execution_count": 64,
      "outputs": []
    },
    {
      "cell_type": "code",
      "metadata": {
        "id": "tRdc-FrzO5Na",
        "colab": {
          "base_uri": "https://localhost:8080/",
          "height": 759
        },
        "outputId": "9644d556-77b5-4253-bc5e-0572f8144a32"
      },
      "source": [
        "import seaborn as sns\n",
        "sns.set_theme(style='whitegrid')\n",
        "\n",
        "\n",
        "g = sns.catplot(\n",
        "    data=df_match_5, kind=\"bar\",\n",
        "    x=\"Dataset\", y=\"Recall Rate of Matches\", hue=\"Detector/Descriptor\",\n",
        "    ci=\"sd\", palette=\"Spectral\", alpha=.9, height=10, aspect=0.5\n",
        ")\n",
        "g.despine(left=True)\n",
        "g.set_axis_labels(\"Dataset\", \"Precision of Matches\")\n",
        "g.legend.set_title(\"Detector/Descriptor\")\n",
        "g.fig.suptitle(\"Recall Rate of Matches Detected (Good/Total) for each Detector/Descriptor in Different Aerial Datasets (Higher the Better)\")"
      ],
      "execution_count": 65,
      "outputs": [
        {
          "output_type": "execute_result",
          "data": {
            "text/plain": [
              "Text(0.5, 0.98, 'Recall Rate of Matches Detected (Good/Total) for each Detector/Descriptor in Different Aerial Datasets (Higher the Better)')"
            ]
          },
          "metadata": {
            "tags": []
          },
          "execution_count": 65
        },
        {
          "output_type": "display_data",
          "data": {
            "image/png": "[encoded data removed]",
            "text/plain": [
              "<Figure size 487.55x720 with 1 Axes>"
            ]
          },
          "metadata": {
            "tags": []
          }
        }
      ]
    },
    {
      "cell_type": "code",
      "metadata": {
        "id": "tkDLeij5O5IP"
      },
      "source": [
        "g.savefig('drive/MyDrive/Recall_Rate_Matches_7.png')"
      ],
      "execution_count": null,
      "outputs": []
    },
    {
      "cell_type": "markdown",
      "metadata": {
        "id": "7QK0j7jsO-gP"
      },
      "source": [
        "1-Precision Rate for each Detector+Descriptor"
      ]
    },
    {
      "cell_type": "code",
      "metadata": {
        "id": "XbU_yfEfO5Cw"
      },
      "source": [
        "df_match_5['1 - Precision Rate of Matches'] = (df_match_5['Number of Total Matches'] - df_match_5['Number of Good Matches'])/df_match_5['Number of Total Matches']"
      ],
      "execution_count": 66,
      "outputs": []
    },
    {
      "cell_type": "code",
      "metadata": {
        "id": "yQakh0q8O49P",
        "colab": {
          "base_uri": "https://localhost:8080/",
          "height": 759
        },
        "outputId": "8d8e64f2-bad7-4584-98b5-f068e5e44722"
      },
      "source": [
        "import seaborn as sns\n",
        "sns.set_theme(style='whitegrid')\n",
        "\n",
        "\n",
        "# Draw a nested barplot by species and sex\n",
        "g = sns.catplot(\n",
        "    data=df_match_5, kind=\"bar\",\n",
        "    x=\"Dataset\", y=\"1 - Precision Rate of Matches\", hue=\"Detector/Descriptor\",\n",
        "    ci=\"sd\", palette=\"Spectral\", alpha=.9, height=10, aspect=0.5\n",
        ")\n",
        "g.despine(left=True)\n",
        "g.set_axis_labels(\"Dataset (120 Images)\", \"1 - Precision Rate of Matches\")\n",
        "g.legend.set_title(\"Detector/Descriptor\")\n",
        "g.fig.suptitle(\"1 - Precision rate of Matches Detected (False/Total Matches) for each Detector/Descriptor in Different Aerial Datasets (Lower the Better)\")"
      ],
      "execution_count": 67,
      "outputs": [
        {
          "output_type": "execute_result",
          "data": {
            "text/plain": [
              "Text(0.5, 0.98, '1 - Precision rate of Matches Detected (False/Total Matches) for each Detector/Descriptor in Different Aerial Datasets (Lower the Better)')"
            ]
          },
          "metadata": {
            "tags": []
          },
          "execution_count": 67
        },
        {
          "output_type": "display_data",
          "data": {
            "image/png": "[encoded data removed]",
            "text/plain": [
              "<Figure size 487.55x720 with 1 Axes>"
            ]
          },
          "metadata": {
            "tags": []
          }
        }
      ]
    },
    {
      "cell_type": "code",
      "metadata": {
        "id": "SmcYnpiUO45J"
      },
      "source": [
        "g.savefig('drive/MyDrive/One_minus_Precision_Rate_Matches_7.png')"
      ],
      "execution_count": null,
      "outputs": []
    },
    {
      "cell_type": "markdown",
      "metadata": {
        "id": "RsiNPE0QPHQx"
      },
      "source": [
        "F-Score for each Detector+Descriptor"
      ]
    },
    {
      "cell_type": "code",
      "metadata": {
        "id": "EQdlNOnVPE77"
      },
      "source": [
        "df_match_5['F-Score'] = (2* (1 - df_match_5['1 - Precision Rate of Matches']) * df_match_5['Recall Rate of Matches'])/((1 - df_match_5['1 - Precision Rate of Matches']) + df_match_5['Recall Rate of Matches'])"
      ],
      "execution_count": 68,
      "outputs": []
    },
    {
      "cell_type": "code",
      "metadata": {
        "id": "CCtYcjcSPE4F",
        "colab": {
          "base_uri": "https://localhost:8080/",
          "height": 759
        },
        "outputId": "6c5813fa-3453-4549-a0cc-9040b7097531"
      },
      "source": [
        "import seaborn as sns\n",
        "sns.set_theme(style='whitegrid')\n",
        "\n",
        "\n",
        "# Draw a nested barplot by species and sex\n",
        "g = sns.catplot(\n",
        "    data=df_match_5, kind=\"bar\",\n",
        "    x=\"Dataset\", y=\"F-Score\", hue=\"Detector/Descriptor\",\n",
        "    ci=\"sd\", palette=\"Spectral\", alpha=.9, height=10, aspect=0.5\n",
        ")\n",
        "g.despine(left=True)\n",
        "g.set_axis_labels(\"Dataset\", \"F-Score\")\n",
        "g.legend.set_title(\"Detector/Descriptor\")\n",
        "g.fig.suptitle(\"F-Score of Matches Detected (2*P*R/P+R) for each Detector/Descriptor in Different Aerial Datasets (Higher the Better)\")"
      ],
      "execution_count": 69,
      "outputs": [
        {
          "output_type": "execute_result",
          "data": {
            "text/plain": [
              "Text(0.5, 0.98, 'F-Score of Matches Detected (2*P*R/P+R) for each Detector/Descriptor in Different Aerial Datasets (Higher the Better)')"
            ]
          },
          "metadata": {
            "tags": []
          },
          "execution_count": 69
        },
        {
          "output_type": "display_data",
          "data": {
            "image/png": "[encoded data removed]",
            "text/plain": [
              "<Figure size 487.55x720 with 1 Axes>"
            ]
          },
          "metadata": {
            "tags": []
          }
        }
      ]
    },
    {
      "cell_type": "code",
      "metadata": {
        "id": "ibvFlM-QPE0j"
      },
      "source": [
        "g.savefig('drive/MyDrive/F_Score_Rate_Matches_7.png')"
      ],
      "execution_count": null,
      "outputs": []
    },
    {
      "cell_type": "code",
      "metadata": {
        "id": "i8uLq4m2PEvl"
      },
      "source": [
        "df_match_5.to_csv('drive/MyDrive/All_metrics_5.csv')"
      ],
      "execution_count": 70,
      "outputs": []
    },
    {
      "cell_type": "markdown",
      "metadata": {
        "id": "OAURAn7oPQrG"
      },
      "source": [
        "Time for each Detector+Descriptor"
      ]
    },
    {
      "cell_type": "code",
      "metadata": {
        "id": "VE704mWRPEqI"
      },
      "source": [
        "d = {'Dataset': [f'{Dataset}']*(num_detectors), 'Time': [time_all[3]] + [time_all[0]] + [time_all[2]] + [time_all[1]] + [time_all[4]], 'Detector/Descriptor': ['AGAST+SIFT'] + ['FAST+SIFT']*(1) + ['BRISK+FREAK']*(1) + ['SURF']*(1) +  ['SIFT']*(1) }\n",
        "df_time_5 = pd.DataFrame(data=d)"
      ],
      "execution_count": 71,
      "outputs": []
    },
    {
      "cell_type": "code",
      "metadata": {
        "id": "SnBKna22PTV3",
        "colab": {
          "base_uri": "https://localhost:8080/"
        },
        "outputId": "421a4e1c-aea4-4716-e204-6411baa004ad"
      },
      "source": [
        "print(df_time_5)"
      ],
      "execution_count": 72,
      "outputs": [
        {
          "output_type": "stream",
          "text": [
            "       Dataset        Time Detector/Descriptor\n",
            "0  MAP Dataset  519.214088          AGAST+SIFT\n",
            "1  MAP Dataset  376.625012           FAST+SIFT\n",
            "2  MAP Dataset  656.115705         BRISK+FREAK\n",
            "3  MAP Dataset  683.066273                SURF\n",
            "4  MAP Dataset  735.686094                SIFT\n"
          ],
          "name": "stdout"
        }
      ]
    },
    {
      "cell_type": "code",
      "metadata": {
        "id": "TDc45piJPTQi",
        "colab": {
          "base_uri": "https://localhost:8080/",
          "height": 759
        },
        "outputId": "f2c35762-01b0-4005-b720-6de04c32dcdc"
      },
      "source": [
        "import seaborn as sns\n",
        "sns.set_theme(style='whitegrid')\n",
        "\n",
        "\n",
        "# Draw a nested barplot by species and sex\n",
        "g = sns.catplot(\n",
        "    data=df_time_5, kind=\"bar\",\n",
        "    x=\"Dataset\", y=\"Time\", hue=\"Detector/Descriptor\",\n",
        "    ci=\"sd\", palette=\"Spectral\", alpha=.9, height=10, aspect=0.5\n",
        ")\n",
        "g.despine(left=True)\n",
        "g.set_axis_labels(\"Dataset\", \"Time (in sec)\")\n",
        "g.legend.set_title(\"Detector/Descriptor\")\n",
        "g.fig.suptitle(\"Time taken during Feature Extraction by each Detector/Descriptor in Different Aerial Datasets (Lower the Better)\")"
      ],
      "execution_count": 73,
      "outputs": [
        {
          "output_type": "execute_result",
          "data": {
            "text/plain": [
              "Text(0.5, 0.98, 'Time taken during Feature Extraction by each Detector/Descriptor in Different Aerial Datasets (Lower the Better)')"
            ]
          },
          "metadata": {
            "tags": []
          },
          "execution_count": 73
        },
        {
          "output_type": "display_data",
          "data": {
            "image/png": "[encoded data removed]",
            "text/plain": [
              "<Figure size 487.55x720 with 1 Axes>"
            ]
          },
          "metadata": {
            "tags": []
          }
        }
      ]
    },
    {
      "cell_type": "code",
      "metadata": {
        "id": "TdWb9SaEPTM5"
      },
      "source": [
        "g.savefig('drive/MyDrive/Time_7.png')"
      ],
      "execution_count": null,
      "outputs": []
    },
    {
      "cell_type": "code",
      "metadata": {
        "id": "VpAp8atPPTJN"
      },
      "source": [
        "df_time_5.to_csv('drive/MyDrive/Time_5.csv')"
      ],
      "execution_count": 74,
      "outputs": []
    },
    {
      "cell_type": "markdown",
      "metadata": {
        "id": "eYEIN3_QPca0"
      },
      "source": [
        "Stitching with CPU"
      ]
    },
    {
      "cell_type": "code",
      "metadata": {
        "id": "a5yhDnhjPTDI"
      },
      "source": [
        ""
      ],
      "execution_count": null,
      "outputs": []
    }
  ]
}
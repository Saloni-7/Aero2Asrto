{
  "nbformat": 4,
  "nbformat_minor": 0,
  "metadata": {
    "colab": {
      "name": "Benchmarking_(Small_Village)_with_6_detectors_using_120_images(0.5x).ipynb",
      "provenance": [],
      "collapsed_sections": []
    },
    "kernelspec": {
      "name": "python3",
      "display_name": "Python 3"
    },
    "language_info": {
      "name": "python"
    }
  },
  "cells": [
    {
      "cell_type": "code",
      "metadata": {
        "id": "_BDc1ppRlqx4"
      },
      "source": [
        "import numpy as np\n",
        "import cv2\n",
        "import scipy.io\n",
        "import os\n",
        "from numpy.linalg import norm\n",
        "from matplotlib import pyplot as plt\n",
        "from numpy.linalg import det\n",
        "from numpy.linalg import inv\n",
        "from scipy.linalg import rq\n",
        "from numpy.linalg import svd\n",
        "import matplotlib.pyplot as plt\n",
        "import numpy as np\n",
        "import math\n",
        "import random\n",
        "import sys\n",
        "from scipy import ndimage, spatial\n",
        "from tqdm.notebook import tqdm, trange\n",
        "\n",
        "import torch\n",
        "import torch.nn as nn\n",
        "import torch.optim as optim\n",
        "from torch.optim import lr_scheduler\n",
        "from torch.autograd import Variable\n",
        "import torchvision\n",
        "from torchvision import datasets, models, transforms\n",
        "from torch.utils.data import Dataset, DataLoader, ConcatDataset\n",
        "from skimage import io, transform,data\n",
        "from torchvision import transforms, utils\n",
        "import numpy as np\n",
        "import math\n",
        "import glob\n",
        "import matplotlib.pyplot as plt\n",
        "import time\n",
        "import os\n",
        "import copy\n",
        "import sklearn.svm\n",
        "import cv2\n",
        "from matplotlib import pyplot as plt\n",
        "import numpy as np\n",
        "from os.path import exists\n",
        "import pandas as pd\n",
        "import PIL\n",
        "import random\n",
        "from google.colab import drive\n",
        "from sklearn.metrics.cluster import completeness_score\n",
        "from sklearn.cluster import KMeans\n",
        "from tqdm import tqdm, tqdm_notebook\n",
        "from functools import partial\n",
        "from torchsummary import summary\n",
        "from torchvision.datasets import ImageFolder\n",
        "from torch.utils.data.sampler import SubsetRandomSampler\n",
        "import h5py as h5\n",
        "\n",
        "#cuda_output = !ldconfig -p|grep cudart.so|sed -e 's/.*\\.\\([0-9]*\\)\\.\\([0-9]*\\)$/cu\\1\\2/'\n",
        "#accelerator = cuda_output[0] if exists('/dev/nvidia0') else 'cpu'\n",
        "\n",
        "#print(\"Accelerator type = \",accelerator)\n",
        "#print(\"Pytorch verision: \", torch.__version__)"
      ],
      "execution_count": 1,
      "outputs": []
    },
    {
      "cell_type": "code",
      "metadata": {
        "colab": {
          "base_uri": "https://localhost:8080/"
        },
        "id": "RihLOLVflzHN",
        "outputId": "1fe085c7-9ffe-4a35-9a88-a6a89a783ea0"
      },
      "source": [
        "from google.colab import drive\n",
        "\n",
        "# This will prompt for authorization.\n",
        "drive.mount('/content/drive')"
      ],
      "execution_count": 2,
      "outputs": [
        {
          "output_type": "stream",
          "text": [
            "Drive already mounted at /content/drive; to attempt to forcibly remount, call drive.mount(\"/content/drive\", force_remount=True).\n"
          ],
          "name": "stdout"
        }
      ]
    },
    {
      "cell_type": "code",
      "metadata": {
        "id": "xcnlgYK6lzEM"
      },
      "source": [
        "#!pip install ipython-autotime\n",
        "\n",
        "#%load_ext autotime"
      ],
      "execution_count": null,
      "outputs": []
    },
    {
      "cell_type": "code",
      "metadata": {
        "colab": {
          "base_uri": "https://localhost:8080/"
        },
        "id": "M15bmn0BlzAy",
        "outputId": "ebc021da-d1c3-49b4-ead2-09ab5e7efd8d"
      },
      "source": [
        "!pip install opencv-python==3.4.2.17\n",
        "!pip install opencv-contrib-python==3.4.2.17"
      ],
      "execution_count": 3,
      "outputs": [
        {
          "output_type": "stream",
          "text": [
            "Requirement already satisfied: opencv-python==3.4.2.17 in /usr/local/lib/python3.7/dist-packages (3.4.2.17)\n",
            "Requirement already satisfied: numpy>=1.14.5 in /usr/local/lib/python3.7/dist-packages (from opencv-python==3.4.2.17) (1.19.5)\n",
            "Requirement already satisfied: opencv-contrib-python==3.4.2.17 in /usr/local/lib/python3.7/dist-packages (3.4.2.17)\n",
            "Requirement already satisfied: numpy>=1.14.5 in /usr/local/lib/python3.7/dist-packages (from opencv-contrib-python==3.4.2.17) (1.19.5)\n"
          ],
          "name": "stdout"
        }
      ]
    },
    {
      "cell_type": "code",
      "metadata": {
        "id": "uo4Cxvu9ly9E"
      },
      "source": [
        "class Image:\n",
        "    def __init__(self, img, position):\n",
        "        \n",
        "        self.img = img\n",
        "        self.position = position\n",
        "\n",
        "inlier_matchset = []\n",
        "def features_matching(a,keypointlength,threshold):\n",
        "  #threshold=0.2\n",
        "  bestmatch=np.empty((keypointlength),dtype= np.int16)\n",
        "  img1index=np.empty((keypointlength),dtype=np.int16)\n",
        "  distance=np.empty((keypointlength))\n",
        "  index=0\n",
        "  for j in range(0,keypointlength):\n",
        "    #For a descriptor fa in Ia, take the two closest descriptors fb1 and fb2 in Ib\n",
        "    x=a[j]\n",
        "    listx=x.tolist()\n",
        "    x.sort()\n",
        "    minval1=x[0]                                # min \n",
        "    minval2=x[1]                                # 2nd min\n",
        "    itemindex1 = listx.index(minval1)           #index of min val    \n",
        "    itemindex2 = listx.index(minval2)           #index of second min value \n",
        "    ratio=minval1/minval2                       #Ratio Test\n",
        "    \n",
        "    if ratio<threshold: \n",
        "      #Low distance ratio: fb1 can be a good match\n",
        "      bestmatch[index]=itemindex1\n",
        "      distance[index]=minval1\n",
        "      img1index[index]=j\n",
        "      index=index+1\n",
        "  return  [cv2.DMatch(img1index[i],bestmatch[i].astype(int),distance[i]) for i in range(0,index)]\n",
        "          \n",
        "   \n",
        "  \n",
        "def compute_Homography(im1_pts,im2_pts):\n",
        "  \"\"\"\n",
        "  im1_pts and im2_pts are 2×n matrices with\n",
        "  4 point correspondences from the two images\n",
        "  \"\"\"\n",
        "  num_matches=len(im1_pts)\n",
        "  num_rows = 2 * num_matches\n",
        "  num_cols = 9\n",
        "  A_matrix_shape = (num_rows,num_cols)\n",
        "  A = np.zeros(A_matrix_shape)\n",
        "  a_index = 0\n",
        "  for i in range(0,num_matches):\n",
        "    (a_x, a_y) = im1_pts[i]\n",
        "    (b_x, b_y) = im2_pts[i]\n",
        "    row1 = [a_x, a_y, 1, 0, 0, 0, -b_x*a_x, -b_x*a_y, -b_x] # First row \n",
        "    row2 = [0, 0, 0, a_x, a_y, 1, -b_y*a_x, -b_y*a_y, -b_y] # Second row \n",
        "\n",
        "    # place the rows in the matrix\n",
        "    A[a_index] = row1\n",
        "    A[a_index+1] = row2\n",
        "\n",
        "    a_index += 2\n",
        "    \n",
        "  U, s, Vt = np.linalg.svd(A)\n",
        "\n",
        "  #s is a 1-D array of singular values sorted in descending order\n",
        "  #U, Vt are unitary matrices\n",
        "  #Rows of Vt are the eigenvectors of A^TA.\n",
        "  #Columns of U are the eigenvectors of AA^T.\n",
        "  H = np.eye(3)\n",
        "  H = Vt[-1].reshape(3,3) # take the last row of the Vt matrix\n",
        "  return H\n",
        "  \n",
        "  \n",
        "def displayplot(img,title):\n",
        "  \n",
        "  plt.figure(figsize=(15,15))\n",
        "  plt.title(title)\n",
        "  plt.imshow(cv2.cvtColor(img, cv2.COLOR_BGR2RGB))\n",
        "  plt.show()"
      ],
      "execution_count": 4,
      "outputs": []
    },
    {
      "cell_type": "code",
      "metadata": {
        "id": "J6downWkly42"
      },
      "source": [
        "def get_inliers(f1, f2, matches, H, RANSACthresh):\n",
        "\n",
        "  inlier_indices = []\n",
        "  for i in range(len(matches)):\n",
        "    queryInd = matches[i].queryIdx\n",
        "    trainInd = matches[i].trainIdx\n",
        "\n",
        "    #queryInd = matches[i][0]\n",
        "    #trainInd = matches[i][1]\n",
        "\n",
        "    queryPoint = np.array([f1[queryInd].pt[0],  f1[queryInd].pt[1], 1]).T \n",
        "    trans_query = H.dot(queryPoint) \n",
        "\n",
        "   \n",
        "    comp1 = [trans_query[0]/trans_query[2], trans_query[1]/trans_query[2]] # normalize with respect to z\n",
        "    comp2 = np.array(f2[trainInd].pt)[:2]\n",
        "    \n",
        "\n",
        "    if(np.linalg.norm(comp1-comp2) <= RANSACthresh): # check against threshold\n",
        "      inlier_indices.append(i)\n",
        "  return inlier_indices\n",
        "\n",
        "\n",
        "def RANSAC_alg(f1, f2, matches, nRANSAC, RANSACthresh):\n",
        "\n",
        "      \n",
        "    minMatches = 4\n",
        "    nBest = 0\n",
        "    best_inliers = []\n",
        "    H_estimate = np.eye(3,3)\n",
        "    global inlier_matchset\n",
        "    inlier_matchset=[]\n",
        "    for iteration in range(nRANSAC):\n",
        "      \n",
        "        #Choose a minimal set of feature matches.\n",
        "        matchSample = random.sample(matches, minMatches)\n",
        "        \n",
        "        #Estimate the Homography implied by these matches\n",
        "        im1_pts=np.empty((minMatches,2))\n",
        "        im2_pts=np.empty((minMatches,2))\n",
        "        for i in range(0,minMatches):\n",
        "          m = matchSample[i]\n",
        "          im1_pts[i] = f1[m.queryIdx].pt\n",
        "          im2_pts[i] = f2[m.trainIdx].pt\n",
        "          #im1_pts[i] = f1[m[0]].pt\n",
        "          #im2_pts[i] = f2[m[1]].pt             \n",
        "          \n",
        "        H_estimate=compute_Homography(im1_pts,im2_pts)\n",
        "        \n",
        "               \n",
        "        # Calculate the inliers for the H\n",
        "        inliers = get_inliers(f1, f2, matches, H_estimate, RANSACthresh)\n",
        "\n",
        "        # if the number of inliers is higher than previous iterations, update the best estimates\n",
        "        if len(inliers) > nBest:\n",
        "            nBest= len(inliers)\n",
        "            best_inliers = inliers\n",
        "\n",
        "    print(\"Number of best inliers\",len(best_inliers))\n",
        "    for i in range(len(best_inliers)):\n",
        "      inlier_matchset.append(matches[best_inliers[i]])\n",
        "    \n",
        "    # compute a homography given this set of matches\n",
        "    im1_pts=np.empty((len(best_inliers),2))\n",
        "    im2_pts=np.empty((len(best_inliers),2))\n",
        "    for i in range(0,len(best_inliers)):\n",
        "      m = inlier_matchset[i]\n",
        "      im1_pts[i] = f1[m.queryIdx].pt\n",
        "      im2_pts[i] = f2[m.trainIdx].pt\n",
        "      #im1_pts[i] = f1[m[0]].pt\n",
        "      #im2_pts[i] = f2[m[1]].pt\n",
        "\n",
        "    M=compute_Homography(im1_pts,im2_pts)\n",
        "    return M, best_inliers"
      ],
      "execution_count": 5,
      "outputs": []
    },
    {
      "cell_type": "code",
      "metadata": {
        "id": "6Xom3lhnly0Z"
      },
      "source": [
        "tqdm = partial(tqdm, position=0, leave=True)"
      ],
      "execution_count": 6,
      "outputs": []
    },
    {
      "cell_type": "code",
      "metadata": {
        "id": "SfFYeE9rlyus"
      },
      "source": [
        "files_all=[]\n",
        "for file in os.listdir(\"/content/drive/MyDrive/geotagged-images\"):\n",
        "    if file.endswith(\".JPG\"):\n",
        "      files_all.append(file)\n",
        "\n",
        "\n",
        "files_all.sort()\n",
        "folder_path = '/content/drive/MyDrive/geotagged-images/'\n",
        "\n",
        "#centre_file = folder_path + files_all[50]\n",
        "left_files_path_rev = []\n",
        "right_files_path = []\n",
        "\n",
        "\n",
        "#Change this according to your dataset split\n",
        "\n",
        "for file in files_all[:61]:\n",
        "  left_files_path_rev.append(folder_path + file)\n",
        "\n",
        "left_files_path = left_files_path_rev[::-1]\n",
        "\n",
        "for file in files_all[60:120]:\n",
        "  right_files_path.append(folder_path + file)"
      ],
      "execution_count": 7,
      "outputs": []
    },
    {
      "cell_type": "code",
      "metadata": {
        "colab": {
          "base_uri": "https://localhost:8080/"
        },
        "id": "2yufH5Yclypp",
        "outputId": "c000495a-179a-4f63-c9bd-7dc2217cdfd1"
      },
      "source": [
        "print(len(files_all))"
      ],
      "execution_count": 8,
      "outputs": [
        {
          "output_type": "stream",
          "text": [
            "297\n"
          ],
          "name": "stdout"
        }
      ]
    },
    {
      "cell_type": "code",
      "metadata": {
        "id": "ffs2y7QpmnDR"
      },
      "source": [
        "from multiprocessing import Pool"
      ],
      "execution_count": 9,
      "outputs": []
    },
    {
      "cell_type": "code",
      "metadata": {
        "colab": {
          "base_uri": "https://localhost:8080/"
        },
        "id": "8hqJIYETmnAQ",
        "outputId": "1838ffc7-0fda-4f66-b165-5f0b81037cb5"
      },
      "source": [
        "import multiprocessing\n",
        "print(multiprocessing.cpu_count())\n"
      ],
      "execution_count": 10,
      "outputs": [
        {
          "output_type": "stream",
          "text": [
            "2\n"
          ],
          "name": "stdout"
        }
      ]
    },
    {
      "cell_type": "code",
      "metadata": {
        "colab": {
          "base_uri": "https://localhost:8080/"
        },
        "id": "H1g7t_btmm9q",
        "outputId": "95936eaa-ee5d-4fc8-84ee-ea66ac8dab84"
      },
      "source": [
        "gridsize = 8\n",
        "clahe = cv2.createCLAHE(clipLimit=2.0,tileGridSize=(gridsize,gridsize))\n",
        "\n",
        "images_left_bgr = []\n",
        "images_right_bgr = []\n",
        "\n",
        "images_left = []\n",
        "images_right = []\n",
        "\n",
        "for file in tqdm(left_files_path):\n",
        "  left_image_sat= cv2.imread(file)\n",
        "  lab = cv2.cvtColor(left_image_sat, cv2.COLOR_BGR2LAB)\n",
        "  lab[...,0] = clahe.apply(lab[...,0])\n",
        "  left_image_sat = cv2.cvtColor(lab, cv2.COLOR_LAB2BGR)\n",
        "  left_img = cv2.resize(left_image_sat,None,fx=0.5, fy=0.5, interpolation = cv2.INTER_CUBIC )\n",
        "  images_left.append(cv2.cvtColor(left_img, cv2.COLOR_BGR2GRAY).astype('float32')/255.)\n",
        "  images_left_bgr.append(left_img)\n",
        "\n",
        "\n",
        "for file in tqdm(right_files_path):\n",
        "  right_image_sat= cv2.imread(file)\n",
        "  lab = cv2.cvtColor(right_image_sat, cv2.COLOR_BGR2LAB)\n",
        "  lab[...,0] = clahe.apply(lab[...,0])\n",
        "  right_image_sat = cv2.cvtColor(lab, cv2.COLOR_LAB2BGR)\n",
        "  right_img = cv2.resize(right_image_sat,None,fx=0.5,fy=0.5, interpolation = cv2.INTER_CUBIC )\n",
        "  images_right.append(cv2.cvtColor(right_img, cv2.COLOR_BGR2GRAY).astype('float32')/255.)\n",
        "  images_right_bgr.append(right_img)"
      ],
      "execution_count": 11,
      "outputs": [
        {
          "output_type": "stream",
          "text": [
            "100%|██████████| 61/61 [00:49<00:00,  1.23it/s]\n",
            "100%|██████████| 60/60 [00:47<00:00,  1.26it/s]\n"
          ],
          "name": "stderr"
        }
      ]
    },
    {
      "cell_type": "code",
      "metadata": {
        "id": "O6B4H9temm7K"
      },
      "source": [
        "Dataset = 'Small Village Dataset'"
      ],
      "execution_count": 12,
      "outputs": []
    },
    {
      "cell_type": "code",
      "metadata": {
        "colab": {
          "base_uri": "https://localhost:8080/"
        },
        "id": "CIn1Fempmm4i",
        "outputId": "ef87caaf-0476-4e75-d702-733a4eacd1ad"
      },
      "source": [
        "f=h5.File(f'drive/MyDrive/all_images_bgr_{Dataset}.h5','w')\n",
        "t0=time.time()\n",
        "f.create_dataset('data',data=images_left_bgr + images_right_bgr)\n",
        "f.close()\n",
        "print('HDF5  w/o comp.:',time.time()-t0,'[s] ... size',os.path.getsize(f'drive/MyDrive/all_images_bgr_{Dataset}.h5')/1.e6,'MB')"
      ],
      "execution_count": 13,
      "outputs": [
        {
          "output_type": "stream",
          "text": [
            "HDF5  w/o comp.: 6.60880708694458 [s] ... size 1445.218304 MB\n"
          ],
          "name": "stdout"
        }
      ]
    },
    {
      "cell_type": "code",
      "metadata": {
        "colab": {
          "base_uri": "https://localhost:8080/"
        },
        "id": "-H-w37EZmm2l",
        "outputId": "560129e5-7035-4d54-cf86-9a278157ee26"
      },
      "source": [
        "f=h5.File(f'drive/MyDrive/all_images_gray_{Dataset}.h5','w')\n",
        "t0=time.time()\n",
        "f.create_dataset('data',data=images_left + images_right)\n",
        "f.close()\n",
        "print('HDF5  w/o comp.:',time.time()-t0,'[s] ... size',os.path.getsize(f'drive/MyDrive/all_images_gray_{Dataset}.h5')/1.e6,'MB')"
      ],
      "execution_count": 14,
      "outputs": [
        {
          "output_type": "stream",
          "text": [
            "HDF5  w/o comp.: 43.92833399772644 [s] ... size 1926.957056 MB\n"
          ],
          "name": "stdout"
        }
      ]
    },
    {
      "cell_type": "code",
      "metadata": {
        "id": "9sqnTLtqmmy5"
      },
      "source": [
        "del images_left_bgr,images_right_bgr"
      ],
      "execution_count": 15,
      "outputs": []
    },
    {
      "cell_type": "code",
      "metadata": {
        "id": "S-YM8h6SmmwO"
      },
      "source": [
        "from timeit import default_timer as timer"
      ],
      "execution_count": 16,
      "outputs": []
    },
    {
      "cell_type": "code",
      "metadata": {
        "id": "qeii2k5Pmmsi"
      },
      "source": [
        "time_all = []"
      ],
      "execution_count": 17,
      "outputs": []
    },
    {
      "cell_type": "code",
      "metadata": {
        "id": "L_tASWMGmmmW"
      },
      "source": [
        "num_kps_sift = []\n",
        "num_kps_brisk = []\n",
        "num_kps_agast = []\n",
        "num_kps_kaze = []\n",
        "num_kps_akaze = []\n",
        "num_kps_orb = []\n",
        "num_kps_mser = []\n",
        "num_kps_daisy = []\n",
        "num_kps_surfsift = []\n",
        "num_kps_fast = []\n",
        "num_kps_freak = []\n",
        "num_kps_gftt = []\n",
        "num_kps_star = []\n",
        "num_kps_surf = []\n",
        "num_kps_rootsift = []\n",
        "num_kps_superpoint = []\n"
      ],
      "execution_count": 18,
      "outputs": []
    },
    {
      "cell_type": "markdown",
      "metadata": {
        "id": "Oj4k4KFV-G3l"
      },
      "source": [
        "BRISK"
      ]
    },
    {
      "cell_type": "code",
      "metadata": {
        "colab": {
          "base_uri": "https://localhost:8080/"
        },
        "id": "arOJoxoY-GCe",
        "outputId": "bcd7dccd-53df-4f48-94d3-96beab24c612"
      },
      "source": [
        "Threshl=60;\n",
        "Octaves=6; \n",
        "#PatternScales=1.0f;\n",
        "\n",
        "start = timer()\n",
        "\n",
        "brisk = cv2.BRISK_create(Threshl,Octaves)\n",
        "\n",
        "\n",
        "keypoints_all_left_brisk = []\n",
        "descriptors_all_left_brisk = []\n",
        "points_all_left_brisk=[]\n",
        "\n",
        "keypoints_all_right_brisk = []\n",
        "descriptors_all_right_brisk = []\n",
        "points_all_right_brisk=[]\n",
        "\n",
        "for cnt in tqdm(range(len(left_files_path))):\n",
        "  f=h5.File(f'drive/MyDrive/all_images_bgr_{Dataset}.h5','r')\n",
        "  imgs = f['data'][cnt]\n",
        "  f.close()  \n",
        "  kpt = brisk.detect(imgs,None)\n",
        "  kpt,descrip =  brisk.compute(imgs, kpt)\n",
        "  keypoints_all_left_brisk.append(kpt)\n",
        "  descriptors_all_left_brisk.append(descrip)\n",
        "  #points_all_left_brisk.append(np.asarray([[p.pt[0], p.pt[1]] for p in kpt]))\n",
        "\n",
        "for cnt in tqdm(range(len(right_files_path))):\n",
        "  f=h5.File(f'drive/MyDrive/all_images_bgr_{Dataset}.h5','r')\n",
        "  imgs = f['data'][cnt+len(left_files_path)]\n",
        "  f.close()  \n",
        "  kpt = brisk.detect(imgs,None)\n",
        "  kpt,descrip =  brisk.compute(imgs, kpt)\n",
        "  keypoints_all_right_brisk.append(kpt)\n",
        "  descriptors_all_right_brisk.append(descrip)\n",
        "  #points_all_right_brisk.append(np.asarray([[p.pt[0], p.pt[1]] for p in kpt]))\n",
        "\n",
        "end = timer()\n",
        "\n",
        "time_all.append(end-start)"
      ],
      "execution_count": 19,
      "outputs": [
        {
          "output_type": "stream",
          "text": [
            "100%|██████████| 61/61 [01:23<00:00,  1.37s/it]\n",
            "100%|██████████| 60/60 [01:00<00:00,  1.01s/it]\n"
          ],
          "name": "stderr"
        }
      ]
    },
    {
      "cell_type": "code",
      "metadata": {
        "colab": {
          "base_uri": "https://localhost:8080/"
        },
        "id": "_q-R4ctf-Fsu",
        "outputId": "f7ca6471-0c59-407f-8227-ccd28e195f97"
      },
      "source": [
        "for j in tqdm(keypoints_all_left_brisk + keypoints_all_right_brisk[1:]):\n",
        "  num_kps_brisk.append(len(j))"
      ],
      "execution_count": 20,
      "outputs": [
        {
          "output_type": "stream",
          "text": [
            "100%|██████████| 120/120 [00:00<00:00, 94377.74it/s]\n"
          ],
          "name": "stderr"
        }
      ]
    },
    {
      "cell_type": "code",
      "metadata": {
        "id": "kj12cO7S-FlJ"
      },
      "source": [
        "all_feat_brisk_left = []\n",
        "for cnt,kpt_all in enumerate(keypoints_all_left_brisk):\n",
        "  all_feat_brisk_left_each = []\n",
        "  for cnt_each, kpt in enumerate(kpt_all):\n",
        "    desc = descriptors_all_left_brisk[cnt][cnt_each]\n",
        "    temp = (kpt.pt, kpt.size, kpt.angle, kpt.response, kpt.octave, \n",
        "        kpt.class_id, desc)\n",
        "    all_feat_brisk_left_each.append(temp)\n",
        "  all_feat_brisk_left.append(all_feat_brisk_left_each)"
      ],
      "execution_count": 21,
      "outputs": []
    },
    {
      "cell_type": "code",
      "metadata": {
        "id": "AyZWT2BF-FeJ"
      },
      "source": [
        "all_feat_brisk_right = []\n",
        "for cnt,kpt_all in enumerate(keypoints_all_right_brisk):\n",
        "  all_feat_brisk_right_each = []\n",
        "  for cnt_each, kpt in enumerate(kpt_all):\n",
        "    desc = descriptors_all_right_brisk[cnt][cnt_each]\n",
        "    temp = (kpt.pt, kpt.size, kpt.angle, kpt.response, kpt.octave, \n",
        "        kpt.class_id, desc)\n",
        "    all_feat_brisk_right_each.append(temp)\n",
        "  all_feat_brisk_right.append(all_feat_brisk_right_each)"
      ],
      "execution_count": 22,
      "outputs": []
    },
    {
      "cell_type": "code",
      "metadata": {
        "id": "taziIaIh-FWv"
      },
      "source": [
        "del keypoints_all_left_brisk, keypoints_all_right_brisk, descriptors_all_left_brisk, descriptors_all_right_brisk"
      ],
      "execution_count": 23,
      "outputs": []
    },
    {
      "cell_type": "code",
      "metadata": {
        "id": "mLsya_vq-FN-"
      },
      "source": [
        "import pickle\n",
        "Fdb = open('all_feat_brisk_left.dat', 'wb')\n",
        "pickle.dump(all_feat_brisk_left,Fdb,-1)\n",
        "Fdb.close()"
      ],
      "execution_count": 24,
      "outputs": []
    },
    {
      "cell_type": "code",
      "metadata": {
        "id": "BL8HurkY-FBu"
      },
      "source": [
        "import pickle\n",
        "Fdb = open('all_feat_brisk_right.dat', 'wb')\n",
        "pickle.dump(all_feat_brisk_right,Fdb,-1)\n",
        "Fdb.close()"
      ],
      "execution_count": 25,
      "outputs": []
    },
    {
      "cell_type": "code",
      "metadata": {
        "id": "FFUCstlI-b3R"
      },
      "source": [
        "del Fdb, all_feat_brisk_left, all_feat_brisk_right"
      ],
      "execution_count": 26,
      "outputs": []
    },
    {
      "cell_type": "markdown",
      "metadata": {
        "id": "K_H3JLeYnbfM"
      },
      "source": [
        "MSER + SIFT"
      ]
    },
    {
      "cell_type": "code",
      "metadata": {
        "colab": {
          "base_uri": "https://localhost:8080/"
        },
        "id": "oJsmtm5xnXhP",
        "outputId": "58201951-da7e-4712-e508-3fd0a2d915af"
      },
      "source": [
        "start = timer()\n",
        "\n",
        "mser = cv2.MSER_create()\n",
        "sift = cv2.xfeatures2d.SIFT_create()\n",
        "\n",
        "keypoints_all_left_mser = []\n",
        "descriptors_all_left_mser = []\n",
        "points_all_left_mser=[]\n",
        "\n",
        "keypoints_all_right_mser = []\n",
        "descriptors_all_right_mser = []\n",
        "points_all_right_mser=[]\n",
        "\n",
        "for cnt in tqdm(range(len(left_files_path))):\n",
        "  f=h5.File(f'drive/MyDrive/all_images_bgr_{Dataset}.h5','r')\n",
        "  imgs = f['data'][cnt]\n",
        "  f.close()     \n",
        "  kpt = mser.detect(imgs,None)\n",
        "  kpt,descrip =  sift.compute(imgs, kpt)\n",
        "  keypoints_all_left_mser.append(kpt)\n",
        "  descriptors_all_left_mser.append(descrip)\n",
        "  #points_all_left_mser.append(np.asarray([[p.pt[0], p.pt[1]] for p in kpt]))\n",
        "\n",
        "for cnt in tqdm(range(len(right_files_path))):\n",
        "  f=h5.File(f'drive/MyDrive/all_images_bgr_{Dataset}.h5','r')\n",
        "  imgs = f['data'][cnt+len(left_files_path)]\n",
        "  f.close()  \n",
        "  kpt = mser.detect(imgs,None)\n",
        "  kpt,descrip =  sift.compute(imgs, kpt)\n",
        "  keypoints_all_right_mser.append(kpt)\n",
        "  descriptors_all_right_mser.append(descrip)\n",
        "  #points_all_right_mser.append(np.asarray([[p.pt[0], p.pt[1]] for p in kpt]))\n",
        "\n",
        "end = timer()\n",
        "\n",
        "time_all.append(end-start)"
      ],
      "execution_count": 27,
      "outputs": [
        {
          "output_type": "stream",
          "text": [
            "100%|██████████| 61/61 [12:09<00:00, 11.96s/it]\n",
            "100%|██████████| 60/60 [11:48<00:00, 11.81s/it]\n"
          ],
          "name": "stderr"
        }
      ]
    },
    {
      "cell_type": "code",
      "metadata": {
        "colab": {
          "base_uri": "https://localhost:8080/"
        },
        "id": "k4kRAVwHnXfY",
        "outputId": "fbee8a0d-9eef-4adf-8577-a01c3ea35dd4"
      },
      "source": [
        "for j in tqdm(keypoints_all_left_mser + keypoints_all_right_mser[1:]):\n",
        "  num_kps_mser.append(len(j))"
      ],
      "execution_count": 28,
      "outputs": [
        {
          "output_type": "stream",
          "text": [
            "100%|██████████| 120/120 [00:00<00:00, 357977.58it/s]\n"
          ],
          "name": "stderr"
        }
      ]
    },
    {
      "cell_type": "code",
      "metadata": {
        "id": "wWKOVWfLnXcV"
      },
      "source": [
        "all_feat_mser_left = []\n",
        "for cnt,kpt_all in enumerate(keypoints_all_left_mser):\n",
        "  all_feat_mser_left_each = []\n",
        "  for cnt_each, kpt in enumerate(kpt_all):\n",
        "    desc = descriptors_all_left_mser[cnt][cnt_each]\n",
        "    temp = (kpt.pt, kpt.size, kpt.angle, kpt.response, kpt.octave, \n",
        "        kpt.class_id, desc)\n",
        "    all_feat_mser_left_each.append(temp)\n",
        "  all_feat_mser_left.append(all_feat_mser_left_each)"
      ],
      "execution_count": 29,
      "outputs": []
    },
    {
      "cell_type": "code",
      "metadata": {
        "id": "lkr6FTnWnXYk"
      },
      "source": [
        "all_feat_mser_right = []\n",
        "for cnt,kpt_all in enumerate(keypoints_all_right_mser):\n",
        "  all_feat_mser_right_each = []\n",
        "  for cnt_each, kpt in enumerate(kpt_all):\n",
        "    desc = descriptors_all_right_mser[cnt][cnt_each]\n",
        "    temp = (kpt.pt, kpt.size, kpt.angle, kpt.response, kpt.octave, \n",
        "        kpt.class_id, desc)\n",
        "    all_feat_mser_right_each.append(temp)\n",
        "  all_feat_mser_right.append(all_feat_mser_right_each)"
      ],
      "execution_count": 30,
      "outputs": []
    },
    {
      "cell_type": "code",
      "metadata": {
        "id": "raE7Vnc4nXL-"
      },
      "source": [
        "del keypoints_all_left_mser, keypoints_all_right_mser, descriptors_all_left_mser, descriptors_all_right_mser"
      ],
      "execution_count": 31,
      "outputs": []
    },
    {
      "cell_type": "code",
      "metadata": {
        "id": "bpTS1yyRn5IB"
      },
      "source": [
        "import pickle\n",
        "Fdb = open('all_feat_mser_left.dat', 'wb')\n",
        "pickle.dump(all_feat_mser_left,Fdb,-1)\n",
        "Fdb.close()"
      ],
      "execution_count": 32,
      "outputs": []
    },
    {
      "cell_type": "code",
      "metadata": {
        "id": "p1IdGfWRn5Fv"
      },
      "source": [
        "import pickle\n",
        "Fdb = open('all_feat_mser_right.dat', 'wb')\n",
        "pickle.dump(all_feat_mser_right,Fdb,-1)\n",
        "Fdb.close()"
      ],
      "execution_count": 33,
      "outputs": []
    },
    {
      "cell_type": "code",
      "metadata": {
        "id": "ZxClekR4n5CV"
      },
      "source": [
        "del Fdb, all_feat_mser_left, all_feat_mser_right"
      ],
      "execution_count": 34,
      "outputs": []
    },
    {
      "cell_type": "markdown",
      "metadata": {
        "id": "p_S51AN7pRAY"
      },
      "source": [
        "FAST + SIFT"
      ]
    },
    {
      "cell_type": "code",
      "metadata": {
        "id": "vHlH83ZDn49d"
      },
      "source": [
        "'''\n",
        "start = timer()\n",
        "\n",
        "\n",
        "fast = cv2.FastFeatureDetector_create(threshold=40)\n",
        "sift = cv2.xfeatures2d.SIFT_create()\n",
        "\n",
        "keypoints_all_left_fast = []\n",
        "descriptors_all_left_fast = []\n",
        "points_all_left_fast=[]\n",
        "\n",
        "keypoints_all_right_fast = []\n",
        "descriptors_all_right_fast = []\n",
        "points_all_right_fast=[]\n",
        "\n",
        "for cnt in tqdm(range(len(left_files_path))):\n",
        "  f=h5.File(f'drive/MyDrive/all_images_bgr_{Dataset}.h5','r')\n",
        "  imgs = f['data'][cnt]\n",
        "  f.close()     \n",
        "  kpt = fast.detect(imgs,None)\n",
        "  kpt,descrip =  sift.compute(imgs, kpt)\n",
        "  keypoints_all_left_fast.append(kpt)\n",
        "  descriptors_all_left_fast.append(descrip)\n",
        "  #points_all_left_fast.append(np.asarray([[p.pt[0], p.pt[1]] for p in kpt]))\n",
        "\n",
        "for cnt in tqdm(range(len(right_files_path))):\n",
        "  f=h5.File(f'drive/MyDrive/all_images_bgr_{Dataset}.h5','r')\n",
        "  imgs = f['data'][cnt+len(left_files_path)]\n",
        "  f.close()  \n",
        "  kpt = fast.detect(imgs,None)\n",
        "  kpt,descrip =  sift.compute(imgs, kpt)\n",
        "  keypoints_all_right_fast.append(kpt)\n",
        "  descriptors_all_right_fast.append(descrip)\n",
        "  #points_all_right_fast.append(np.asarray([[p.pt[0], p.pt[1]] for p in kpt]))\n",
        "\n",
        "end = timer()\n",
        "\n",
        "time_all.append(end-start)"
      ],
      "execution_count": null,
      "outputs": []
    },
    {
      "cell_type": "code",
      "metadata": {
        "id": "6aKJc1m3n45T"
      },
      "source": [
        "'''\n",
        "for j in tqdm(keypoints_all_left_fast + keypoints_all_right_fast[1:]):\n",
        "  num_kps_fast.append(len(j))"
      ],
      "execution_count": null,
      "outputs": []
    },
    {
      "cell_type": "code",
      "metadata": {
        "id": "-p7-PGWwn41f"
      },
      "source": [
        "'''\n",
        "all_feat_fast_left = []\n",
        "for cnt,kpt_all in enumerate(keypoints_all_left_fast):\n",
        "  all_feat_fast_left_each = []\n",
        "  for cnt_each, kpt in enumerate(kpt_all):\n",
        "    desc = descriptors_all_left_fast[cnt][cnt_each]\n",
        "    temp = (kpt.pt, kpt.size, kpt.angle, kpt.response, kpt.octave, \n",
        "        kpt.class_id, desc)\n",
        "    all_feat_fast_left_each.append(temp)\n",
        "  all_feat_fast_left.append(all_feat_fast_left_each)"
      ],
      "execution_count": 37,
      "outputs": []
    },
    {
      "cell_type": "code",
      "metadata": {
        "id": "K7DGL2ifn4xg"
      },
      "source": [
        "'''\n",
        "all_feat_fast_right = []\n",
        "for cnt,kpt_all in enumerate(keypoints_all_right_fast):\n",
        "  all_feat_fast_right_each = []\n",
        "  for cnt_each, kpt in enumerate(kpt_all):\n",
        "    desc = descriptors_all_right_fast[cnt][cnt_each]\n",
        "    temp = (kpt.pt, kpt.size, kpt.angle, kpt.response, kpt.octave, \n",
        "        kpt.class_id, desc)\n",
        "    all_feat_fast_right_each.append(temp)\n",
        "  all_feat_fast_right.append(all_feat_fast_right_each)"
      ],
      "execution_count": 38,
      "outputs": []
    },
    {
      "cell_type": "code",
      "metadata": {
        "id": "cr3othMvn4tf"
      },
      "source": [
        "'''\n",
        "del keypoints_all_left_fast, keypoints_all_right_fast, descriptors_all_left_fast, descriptors_all_right_fast"
      ],
      "execution_count": 39,
      "outputs": []
    },
    {
      "cell_type": "code",
      "metadata": {
        "id": "IvVX4XhTpaUn"
      },
      "source": [
        "'''\n",
        "import pickle\n",
        "Fdb = open('all_feat_fast_left.dat', 'wb')\n",
        "pickle.dump(all_feat_fast_left,Fdb,-1)\n",
        "Fdb.close()"
      ],
      "execution_count": null,
      "outputs": []
    },
    {
      "cell_type": "code",
      "metadata": {
        "id": "RkfIVuj3paOQ"
      },
      "source": [
        "'''\n",
        "import pickle\n",
        "Fdb = open('all_feat_fast_right.dat', 'wb')\n",
        "pickle.dump(all_feat_fast_right,Fdb,-1)\n",
        "Fdb.close()"
      ],
      "execution_count": null,
      "outputs": []
    },
    {
      "cell_type": "code",
      "metadata": {
        "id": "ElAAdxDEpaGj"
      },
      "source": [
        "'''\n",
        "del Fdb, all_feat_fast_left, all_feat_fast_right"
      ],
      "execution_count": null,
      "outputs": []
    },
    {
      "cell_type": "markdown",
      "metadata": {
        "id": "5S5Xg1SPp4gH"
      },
      "source": [
        "GFTT + SIFT"
      ]
    },
    {
      "cell_type": "code",
      "metadata": {
        "colab": {
          "base_uri": "https://localhost:8080/"
        },
        "id": "8zPqFJnBpZ9y",
        "outputId": "700e6a39-e740-4a6b-e123-2719e4aad5d9"
      },
      "source": [
        "start = timer()\n",
        "\n",
        "gftt = cv2.GFTTDetector_create()\n",
        "sift = cv2.xfeatures2d.SIFT_create()\n",
        "\n",
        "keypoints_all_left_gftt = []\n",
        "descriptors_all_left_gftt = []\n",
        "points_all_left_gftt=[]\n",
        "\n",
        "keypoints_all_right_gftt = []\n",
        "descriptors_all_right_gftt = []\n",
        "points_all_right_gftt=[]\n",
        "\n",
        "for cnt in tqdm(range(len(left_files_path))):\n",
        "  f=h5.File(f'drive/MyDrive/all_images_bgr_{Dataset}.h5','r')\n",
        "  imgs = f['data'][cnt]\n",
        "  f.close()     \n",
        "  kpt = gftt.detect(imgs,None)\n",
        "  kpt,descrip =  sift.compute(imgs, kpt)\n",
        "  keypoints_all_left_gftt.append(kpt)\n",
        "  descriptors_all_left_gftt.append(descrip)\n",
        "  #points_all_left_gftt.append(np.asarray([[p.pt[0], p.pt[1]] for p in kpt]))\n",
        "\n",
        "for cnt in tqdm(range(len(right_files_path))):\n",
        "  f=h5.File(f'drive/MyDrive/all_images_bgr_{Dataset}.h5','r')\n",
        "  imgs = f['data'][cnt+len(left_files_path)]\n",
        "  f.close()  \n",
        "  kpt = gftt.detect(imgs,None)\n",
        "  kpt,descrip =  sift.compute(imgs, kpt)\n",
        "  keypoints_all_right_gftt.append(kpt)\n",
        "  descriptors_all_right_gftt.append(descrip)\n",
        "  #points_all_right_gftt.append(np.asarray([[p.pt[0], p.pt[1]] for p in kpt]))\n",
        "\n",
        "end = timer()\n",
        "\n",
        "time_all.append(end-start)"
      ],
      "execution_count": 35,
      "outputs": [
        {
          "output_type": "stream",
          "text": [
            "100%|██████████| 61/61 [00:25<00:00,  2.37it/s]\n",
            "100%|██████████| 60/60 [00:24<00:00,  2.46it/s]\n"
          ],
          "name": "stderr"
        }
      ]
    },
    {
      "cell_type": "code",
      "metadata": {
        "colab": {
          "base_uri": "https://localhost:8080/"
        },
        "id": "_3hDu7sDqAKD",
        "outputId": "52947f54-4438-4849-9087-14965e6164ac"
      },
      "source": [
        "for j in tqdm(keypoints_all_left_gftt + keypoints_all_right_gftt[1:]):\n",
        "  num_kps_gftt.append(len(j))"
      ],
      "execution_count": 36,
      "outputs": [
        {
          "output_type": "stream",
          "text": [
            "100%|██████████| 120/120 [00:00<00:00, 13273.11it/s]\n"
          ],
          "name": "stderr"
        }
      ]
    },
    {
      "cell_type": "code",
      "metadata": {
        "id": "EJkLeJ3CqAHg"
      },
      "source": [
        "all_feat_gftt_left = []\n",
        "for cnt,kpt_all in enumerate(keypoints_all_left_gftt):\n",
        "  all_feat_gftt_left_each = []\n",
        "  for cnt_each, kpt in enumerate(kpt_all):\n",
        "    desc = descriptors_all_left_gftt[cnt][cnt_each]\n",
        "    temp = (kpt.pt, kpt.size, kpt.angle, kpt.response, kpt.octave, \n",
        "        kpt.class_id, desc)\n",
        "    all_feat_gftt_left_each.append(temp)\n",
        "  all_feat_gftt_left.append(all_feat_gftt_left_each)"
      ],
      "execution_count": 37,
      "outputs": []
    },
    {
      "cell_type": "code",
      "metadata": {
        "id": "JsAoA7-xqADt"
      },
      "source": [
        "all_feat_gftt_right = []\n",
        "for cnt,kpt_all in enumerate(keypoints_all_right_gftt):\n",
        "  all_feat_gftt_right_each = []\n",
        "  for cnt_each, kpt in enumerate(kpt_all):\n",
        "    desc = descriptors_all_right_gftt[cnt][cnt_each]\n",
        "    temp = (kpt.pt, kpt.size, kpt.angle, kpt.response, kpt.octave, \n",
        "        kpt.class_id, desc)\n",
        "    all_feat_gftt_right_each.append(temp)\n",
        "  all_feat_gftt_right.append(all_feat_gftt_right_each)"
      ],
      "execution_count": 38,
      "outputs": []
    },
    {
      "cell_type": "code",
      "metadata": {
        "id": "2TXAvWdRp_8f"
      },
      "source": [
        "del keypoints_all_left_gftt, keypoints_all_right_gftt, descriptors_all_left_gftt, descriptors_all_right_gftt"
      ],
      "execution_count": 39,
      "outputs": []
    },
    {
      "cell_type": "code",
      "metadata": {
        "id": "_zBgOQ2Ip_7F"
      },
      "source": [
        "import pickle\n",
        "Fdb = open('all_feat_gftt_left.dat', 'wb')\n",
        "pickle.dump(all_feat_gftt_left,Fdb,-1)\n",
        "Fdb.close()"
      ],
      "execution_count": 40,
      "outputs": []
    },
    {
      "cell_type": "code",
      "metadata": {
        "id": "UmOXeL7Gp_0I"
      },
      "source": [
        "import pickle\n",
        "Fdb = open('all_feat_gftt_right.dat', 'wb')\n",
        "pickle.dump(all_feat_gftt_right,Fdb,-1)\n",
        "Fdb.close()"
      ],
      "execution_count": 41,
      "outputs": []
    },
    {
      "cell_type": "code",
      "metadata": {
        "id": "YH4WlfVcqKbS"
      },
      "source": [
        "del Fdb, all_feat_gftt_left, all_feat_gftt_right"
      ],
      "execution_count": 42,
      "outputs": []
    },
    {
      "cell_type": "markdown",
      "metadata": {
        "id": "FCfqroa2qaDG"
      },
      "source": [
        "DAISY+SIFT"
      ]
    },
    {
      "cell_type": "code",
      "metadata": {
        "colab": {
          "base_uri": "https://localhost:8080/"
        },
        "id": "eAvHEgzQqagl",
        "outputId": "225549b1-1722-4b96-eabc-1e0ddc76af5c"
      },
      "source": [
        "start = timer()\n",
        "\n",
        "daisy = cv2.xfeatures2d.DAISY_create()\n",
        "sift = cv2.xfeatures2d.SIFT_create()\n",
        "\n",
        "keypoints_all_left_daisy = []\n",
        "descriptors_all_left_daisy = []\n",
        "points_all_left_daisy=[]\n",
        "\n",
        "keypoints_all_right_daisy = []\n",
        "descriptors_all_right_daisy = []\n",
        "points_all_right_daisy=[]\n",
        "\n",
        "for cnt in tqdm(range(len(left_files_path))):\n",
        "  f=h5.File(f'drive/MyDrive/all_images_bgr_{Dataset}.h5','r')\n",
        "  imgs = f['data'][cnt]\n",
        "  f.close()     \n",
        "  kpt = sift.detect(imgs,None)\n",
        "  kpt,descrip =  daisy.compute(imgs, kpt)\n",
        "  keypoints_all_left_daisy.append(kpt)\n",
        "  descriptors_all_left_daisy.append(descrip)\n",
        "  #points_all_left_daisy.append(np.asarray([[p.pt[0], p.pt[1]] for p in kpt]))\n",
        "\n",
        "for cnt in tqdm(range(len(right_files_path))):\n",
        "  f=h5.File(f'drive/MyDrive/all_images_bgr_{Dataset}.h5','r')\n",
        "  imgs = f['data'][cnt+len(left_files_path)]\n",
        "  f.close()  \n",
        "  kpt = sift.detect(imgs,None)\n",
        "  kpt,descrip =  daisy.compute(imgs, kpt)\n",
        "  keypoints_all_right_daisy.append(kpt)\n",
        "  descriptors_all_right_daisy.append(descrip)\n",
        "  #points_all_right_daisy.append(np.asarray([[p.pt[0], p.pt[1]] for p in kpt]))\n",
        "\n",
        "end = timer()\n",
        "\n",
        "time_all.append(end-start)"
      ],
      "execution_count": 43,
      "outputs": [
        {
          "output_type": "stream",
          "text": [
            "100%|██████████| 61/61 [02:27<00:00,  2.42s/it]\n",
            "100%|██████████| 60/60 [02:16<00:00,  2.27s/it]\n"
          ],
          "name": "stderr"
        }
      ]
    },
    {
      "cell_type": "code",
      "metadata": {
        "colab": {
          "base_uri": "https://localhost:8080/"
        },
        "id": "H1_uMPfFqjyZ",
        "outputId": "563cc308-6167-448c-aae2-b2238b230d63"
      },
      "source": [
        "for j in tqdm(keypoints_all_left_daisy + keypoints_all_right_daisy[1:]):\n",
        "  num_kps_daisy.append(len(j))"
      ],
      "execution_count": 44,
      "outputs": [
        {
          "output_type": "stream",
          "text": [
            "100%|██████████| 120/120 [00:00<00:00, 74653.88it/s]\n"
          ],
          "name": "stderr"
        }
      ]
    },
    {
      "cell_type": "code",
      "metadata": {
        "id": "ree3dcmpqjvR"
      },
      "source": [
        "all_feat_daisy_left = []\n",
        "for cnt,kpt_all in enumerate(keypoints_all_left_daisy):\n",
        "  all_feat_daisy_left_each = []\n",
        "  for cnt_each, kpt in enumerate(kpt_all):\n",
        "    desc = descriptors_all_left_daisy[cnt][cnt_each]\n",
        "    temp = (kpt.pt, kpt.size, kpt.angle, kpt.response, kpt.octave, \n",
        "        kpt.class_id, desc)\n",
        "    all_feat_daisy_left_each.append(temp)\n",
        "  all_feat_daisy_left.append(all_feat_daisy_left_each)"
      ],
      "execution_count": 45,
      "outputs": []
    },
    {
      "cell_type": "code",
      "metadata": {
        "id": "9aZ0O5aYqjrT"
      },
      "source": [
        "all_feat_daisy_right = []\n",
        "for cnt,kpt_all in enumerate(keypoints_all_right_daisy):\n",
        "  all_feat_daisy_right_each = []\n",
        "  for cnt_each, kpt in enumerate(kpt_all):\n",
        "    desc = descriptors_all_right_daisy[cnt][cnt_each]\n",
        "    temp = (kpt.pt, kpt.size, kpt.angle, kpt.response, kpt.octave, \n",
        "        kpt.class_id, desc)\n",
        "    all_feat_daisy_right_each.append(temp)\n",
        "  all_feat_daisy_right.append(all_feat_daisy_right_each)"
      ],
      "execution_count": 46,
      "outputs": []
    },
    {
      "cell_type": "code",
      "metadata": {
        "id": "PUb8AIqDqjl0"
      },
      "source": [
        "del keypoints_all_left_daisy, keypoints_all_right_daisy, descriptors_all_left_daisy, descriptors_all_right_daisy"
      ],
      "execution_count": 47,
      "outputs": []
    },
    {
      "cell_type": "code",
      "metadata": {
        "id": "WHVoFeyDqjiL"
      },
      "source": [
        "import pickle\n",
        "Fdb = open('all_feat_daisy_left.dat', 'wb')\n",
        "pickle.dump(all_feat_daisy_left,Fdb,-1)\n",
        "Fdb.close()"
      ],
      "execution_count": 48,
      "outputs": []
    },
    {
      "cell_type": "code",
      "metadata": {
        "id": "SFbYyFluqjaz"
      },
      "source": [
        "import pickle\n",
        "Fdb = open('all_feat_daisy_right.dat', 'wb')\n",
        "pickle.dump(all_feat_daisy_right,Fdb,-1)\n",
        "Fdb.close()"
      ],
      "execution_count": 49,
      "outputs": []
    },
    {
      "cell_type": "code",
      "metadata": {
        "id": "KuBrxk5VqjXj"
      },
      "source": [
        "del Fdb, all_feat_daisy_left, all_feat_daisy_right"
      ],
      "execution_count": 50,
      "outputs": []
    },
    {
      "cell_type": "markdown",
      "metadata": {
        "id": "2LKpi5NUrXQ5"
      },
      "source": [
        "SIFT"
      ]
    },
    {
      "cell_type": "code",
      "metadata": {
        "colab": {
          "base_uri": "https://localhost:8080/"
        },
        "id": "IGtrkDHoqjU6",
        "outputId": "51a1dc3e-bb9d-49d2-e453-91705954ec17"
      },
      "source": [
        "print(len(left_files_path))"
      ],
      "execution_count": 51,
      "outputs": [
        {
          "output_type": "stream",
          "text": [
            "61\n"
          ],
          "name": "stdout"
        }
      ]
    },
    {
      "cell_type": "code",
      "metadata": {
        "colab": {
          "base_uri": "https://localhost:8080/"
        },
        "id": "H2IXyFZXqjM4",
        "outputId": "b0d78ba4-faa5-4001-81c5-d093adfc38ac"
      },
      "source": [
        "print(len(right_files_path))"
      ],
      "execution_count": 52,
      "outputs": [
        {
          "output_type": "stream",
          "text": [
            "60\n"
          ],
          "name": "stdout"
        }
      ]
    },
    {
      "cell_type": "code",
      "metadata": {
        "id": "CI-CU7S_rcrN"
      },
      "source": [
        "# H5 file w/o compression\n",
        "#t0=time.time()\n",
        "#f=h5.File('drive/MyDrive/all_images_bgr_sift.h5','r')\n",
        "#print('HDF5  w/o comp.: data shape =',len(f['data'][0]),time.time()-t0,'[s]')\n",
        "#f.close()"
      ],
      "execution_count": null,
      "outputs": []
    },
    {
      "cell_type": "code",
      "metadata": {
        "id": "sS5gelrcrcmu"
      },
      "source": [
        "# del f"
      ],
      "execution_count": null,
      "outputs": []
    },
    {
      "cell_type": "code",
      "metadata": {
        "colab": {
          "base_uri": "https://localhost:8080/"
        },
        "id": "Ywy0w7BZrcjB",
        "outputId": "b66895eb-8ae7-4282-c8c3-cd0f949ec4af"
      },
      "source": [
        "start = timer()\n",
        "\n",
        "sift = cv2.xfeatures2d.SIFT_create()\n",
        "keypoints_all_left_sift = []\n",
        "descriptors_all_left_sift = []\n",
        "points_all_left_sift=[]\n",
        "\n",
        "keypoints_all_right_sift = []\n",
        "descriptors_all_right_sift = []\n",
        "points_all_right_sift=[]\n",
        "\n",
        "\n",
        "for cnt in tqdm(range(len(left_files_path))):\n",
        "  f=h5.File(f'drive/MyDrive/all_images_bgr_{Dataset}.h5','r')\n",
        "  imgs = f['data'][cnt]\n",
        "  f.close()\n",
        "  kpt = sift.detect(imgs,None)\n",
        "  kpt,descrip =  sift.compute(imgs, kpt)\n",
        "  keypoints_all_left_sift.append(kpt)\n",
        "  descriptors_all_left_sift.append(descrip)\n",
        "  #points_all_left_sift.append(np.asarray([[p.pt[0], p.pt[1]] for p in kpt]))\n",
        "\n",
        "for cnt in tqdm(range(len(right_files_path))):\n",
        "  f=h5.File(f'drive/MyDrive/all_images_bgr_{Dataset}.h5','r')\n",
        "  imgs = f['data'][cnt+len(left_files_path)]\n",
        "  f.close()\n",
        "  kpt = sift.detect(imgs,None)\n",
        "  kpt,descrip =  sift.compute(imgs, kpt)\n",
        "  keypoints_all_right_sift.append(kpt)\n",
        "  descriptors_all_right_sift.append(descrip)\n",
        "  #points_all_right_sift.append(np.asarray([[p.pt[0], p.pt[1]] for p in kpt]))\n",
        "\n",
        "end = timer()\n",
        "\n",
        "time_all.append(end-start)"
      ],
      "execution_count": 53,
      "outputs": [
        {
          "output_type": "stream",
          "text": [
            "100%|██████████| 61/61 [04:15<00:00,  4.19s/it]\n",
            "100%|██████████| 60/60 [03:50<00:00,  3.84s/it]\n"
          ],
          "name": "stderr"
        }
      ]
    },
    {
      "cell_type": "code",
      "metadata": {
        "colab": {
          "base_uri": "https://localhost:8080/"
        },
        "id": "t18jUwoGrcaE",
        "outputId": "0d193546-ffba-4ea4-e048-6e60e5f7417b"
      },
      "source": [
        "for j in tqdm(keypoints_all_left_sift + keypoints_all_right_sift[1:]):\n",
        "  num_kps_sift.append(len(j))"
      ],
      "execution_count": 54,
      "outputs": [
        {
          "output_type": "stream",
          "text": [
            "100%|██████████| 120/120 [00:00<00:00, 77768.31it/s]\n"
          ],
          "name": "stderr"
        }
      ]
    },
    {
      "cell_type": "code",
      "metadata": {
        "id": "6rnbCUkbtJtd"
      },
      "source": [
        "all_feat_sift_left = []\n",
        "for cnt,kpt_all in enumerate(keypoints_all_left_sift):\n",
        "  all_feat_sift_left_each = []\n",
        "  for cnt_each, kpt in enumerate(kpt_all):\n",
        "    desc = descriptors_all_left_sift[cnt][cnt_each]\n",
        "    temp = (kpt.pt, kpt.size, kpt.angle, kpt.response, kpt.octave, \n",
        "        kpt.class_id, desc)\n",
        "    all_feat_sift_left_each.append(temp)\n",
        "  all_feat_sift_left.append(all_feat_sift_left_each)"
      ],
      "execution_count": 55,
      "outputs": []
    },
    {
      "cell_type": "code",
      "metadata": {
        "id": "ZzwyTRVttJph"
      },
      "source": [
        "all_feat_sift_right = []\n",
        "for cnt,kpt_all in enumerate(keypoints_all_right_sift):\n",
        "  all_feat_sift_right_each = []\n",
        "  for cnt_each, kpt in enumerate(kpt_all):\n",
        "    desc = descriptors_all_right_sift[cnt][cnt_each]\n",
        "    temp = (kpt.pt, kpt.size, kpt.angle, kpt.response, kpt.octave, \n",
        "        kpt.class_id, desc)\n",
        "    all_feat_sift_right_each.append(temp)\n",
        "  all_feat_sift_right.append(all_feat_sift_right_each)"
      ],
      "execution_count": 56,
      "outputs": []
    },
    {
      "cell_type": "code",
      "metadata": {
        "id": "_5z6mhh7tJlr"
      },
      "source": [
        "del keypoints_all_left_sift, keypoints_all_right_sift, descriptors_all_left_sift, descriptors_all_right_sift"
      ],
      "execution_count": 57,
      "outputs": []
    },
    {
      "cell_type": "code",
      "metadata": {
        "id": "9sIxnyjbtJhT"
      },
      "source": [
        "import pickle\n",
        "Fdb = open('all_feat_sift_left.dat', 'wb')\n",
        "pickle.dump(all_feat_sift_left,Fdb,-1)\n",
        "Fdb.close()"
      ],
      "execution_count": 58,
      "outputs": []
    },
    {
      "cell_type": "code",
      "metadata": {
        "id": "Q2H3odyPtSWw"
      },
      "source": [
        "import pickle\n",
        "Fdb = open('all_feat_sift_right.dat', 'wb')\n",
        "pickle.dump(all_feat_sift_right,Fdb,-1)\n",
        "Fdb.close()"
      ],
      "execution_count": 59,
      "outputs": []
    },
    {
      "cell_type": "code",
      "metadata": {
        "id": "10nbYx3atSUr"
      },
      "source": [
        "del Fdb, all_feat_sift_left, all_feat_sift_right"
      ],
      "execution_count": 60,
      "outputs": []
    },
    {
      "cell_type": "code",
      "metadata": {
        "id": "m5uTKBOXtSSL"
      },
      "source": [
        "#del keypoints_all_right_sift, keypoints_all_left_sift, descriptors_all_right_sift, descriptors_all_left_sift, points_all_right_sift, points_all_left_sift"
      ],
      "execution_count": null,
      "outputs": []
    },
    {
      "cell_type": "markdown",
      "metadata": {
        "id": "xV1UhH-quMZn"
      },
      "source": [
        "SURF"
      ]
    },
    {
      "cell_type": "code",
      "metadata": {
        "colab": {
          "base_uri": "https://localhost:8080/"
        },
        "id": "1GFypRPHtSPJ",
        "outputId": "f4d61161-243d-4ee6-ab2c-46cf5b182385"
      },
      "source": [
        "start = timer()\n",
        "\n",
        "surf  = cv2.xfeatures2d.SURF_create(upright=1)\n",
        "keypoints_all_left_surf = []\n",
        "descriptors_all_left_surf = []\n",
        "points_all_left_surf=[]\n",
        "\n",
        "keypoints_all_right_surf = []\n",
        "descriptors_all_right_surf = []\n",
        "points_all_right_surf=[]\n",
        "\n",
        "for cnt in tqdm(range(len(left_files_path))):\n",
        "  f=h5.File(f'drive/MyDrive/all_images_bgr_{Dataset}.h5','r')\n",
        "  imgs = f['data'][cnt]\n",
        "  f.close()  \n",
        "  kpt = surf.detect(imgs,None)\n",
        "  kpt,descrip =  surf.compute(imgs, kpt)\n",
        "  keypoints_all_left_surf.append(kpt)\n",
        "  descriptors_all_left_surf.append(descrip)\n",
        "  #points_all_left_surf.append(np.asarray([[p.pt[0], p.pt[1]] for p in kpt]))\n",
        "\n",
        "for cnt in tqdm(range(len(right_files_path))):\n",
        "  f=h5.File(f'drive/MyDrive/all_images_bgr_{Dataset}.h5','r')\n",
        "  imgs = f['data'][cnt+len(left_files_path)]\n",
        "  f.close()  \n",
        "  kpt = surf.detect(imgs,None)\n",
        "  kpt,descrip =  surf.compute(imgs, kpt)\n",
        "  keypoints_all_right_surf.append(kpt)\n",
        "  descriptors_all_right_surf.append(descrip)\n",
        "  #points_all_right_surf.append(np.asarray([[p.pt[0], p.pt[1]] for p in kpt]))\n",
        "\n",
        "end = timer()\n",
        "\n",
        "time_all.append(end-start)"
      ],
      "execution_count": 61,
      "outputs": [
        {
          "output_type": "stream",
          "text": [
            "100%|██████████| 61/61 [04:13<00:00,  4.15s/it]\n",
            "100%|██████████| 60/60 [03:44<00:00,  3.74s/it]\n"
          ],
          "name": "stderr"
        }
      ]
    },
    {
      "cell_type": "code",
      "metadata": {
        "colab": {
          "base_uri": "https://localhost:8080/"
        },
        "id": "ff9wIZS5tSNA",
        "outputId": "db64b5c4-2477-4711-a58b-adfdb40d89b3"
      },
      "source": [
        "for j in tqdm(keypoints_all_left_surf + keypoints_all_right_surf[1:]):\n",
        "  num_kps_surf.append(len(j))"
      ],
      "execution_count": 62,
      "outputs": [
        {
          "output_type": "stream",
          "text": [
            "100%|██████████| 120/120 [00:00<00:00, 36927.11it/s]\n"
          ],
          "name": "stderr"
        }
      ]
    },
    {
      "cell_type": "code",
      "metadata": {
        "id": "dlk-TjcEtSFN"
      },
      "source": [
        "all_feat_surf_left = []\n",
        "for cnt,kpt_all in enumerate(keypoints_all_left_surf):\n",
        "  all_feat_surf_left_each = []\n",
        "  for cnt_each, kpt in enumerate(kpt_all):\n",
        "    desc = descriptors_all_left_surf[cnt][cnt_each]\n",
        "    temp = (kpt.pt, kpt.size, kpt.angle, kpt.response, kpt.octave, \n",
        "        kpt.class_id, desc)\n",
        "    all_feat_surf_left_each.append(temp)\n",
        "  all_feat_surf_left.append(all_feat_surf_left_each)"
      ],
      "execution_count": 63,
      "outputs": []
    },
    {
      "cell_type": "code",
      "metadata": {
        "id": "S2lvwbVouTSs"
      },
      "source": [
        "all_feat_surf_right = []\n",
        "for cnt,kpt_all in enumerate(keypoints_all_right_surf):\n",
        "  all_feat_surf_right_each = []\n",
        "  for cnt_each, kpt in enumerate(kpt_all):\n",
        "    desc = descriptors_all_right_surf[cnt][cnt_each]\n",
        "    temp = (kpt.pt, kpt.size, kpt.angle, kpt.response, kpt.octave, \n",
        "        kpt.class_id, desc)\n",
        "    all_feat_surf_right_each.append(temp)\n",
        "  all_feat_surf_right.append(all_feat_surf_right_each)"
      ],
      "execution_count": 64,
      "outputs": []
    },
    {
      "cell_type": "code",
      "metadata": {
        "id": "12gmgUfUuTQn"
      },
      "source": [
        "del keypoints_all_left_surf, keypoints_all_right_surf, descriptors_all_left_surf, descriptors_all_right_surf"
      ],
      "execution_count": 65,
      "outputs": []
    },
    {
      "cell_type": "code",
      "metadata": {
        "id": "4qMXMiWcuTMZ"
      },
      "source": [
        "import pickle\n",
        "Fdb = open('all_feat_surf_left.dat', 'wb')\n",
        "pickle.dump(all_feat_surf_left,Fdb,-1)\n",
        "Fdb.close()"
      ],
      "execution_count": 66,
      "outputs": []
    },
    {
      "cell_type": "code",
      "metadata": {
        "id": "co468jhquTKP"
      },
      "source": [
        "import pickle\n",
        "Fdb = open('all_feat_surf_right.dat', 'wb')\n",
        "pickle.dump(all_feat_surf_right,Fdb,-1)\n",
        "Fdb.close()"
      ],
      "execution_count": 67,
      "outputs": []
    },
    {
      "cell_type": "code",
      "metadata": {
        "id": "cg2PEgA3uTCP"
      },
      "source": [
        "del Fdb, all_feat_surf_left, all_feat_surf_right"
      ],
      "execution_count": 68,
      "outputs": []
    },
    {
      "cell_type": "markdown",
      "metadata": {
        "id": "S2tETwh53ygJ"
      },
      "source": [
        "Total Matches,Robust Matches and Homography Computation"
      ]
    },
    {
      "cell_type": "code",
      "metadata": {
        "id": "7o3oHlS83w_s"
      },
      "source": [
        "def compute_homography_fast(matched_pts1, matched_pts2,thresh=4):\n",
        "    #matched_pts1 = cv2.KeyPoint_convert(matched_kp1)\n",
        "    #matched_pts2 = cv2.KeyPoint_convert(matched_kp2)\n",
        "\n",
        "    # Estimate the homography between the matches using RANSAC\n",
        "    H, inliers = cv2.findHomography(matched_pts1,\n",
        "                                    matched_pts2,\n",
        "                                    cv2.RANSAC, ransacReprojThreshold =thresh, maxIters=3000)\n",
        "    inliers = inliers.flatten()\n",
        "    return H, inliers"
      ],
      "execution_count": 69,
      "outputs": []
    },
    {
      "cell_type": "code",
      "metadata": {
        "id": "EuoranL13w65"
      },
      "source": [
        "def compute_homography_fast_other(matched_pts1, matched_pts2):\n",
        "    #matched_pts1 = cv2.KeyPoint_convert(matched_kp1)\n",
        "    #matched_pts2 = cv2.KeyPoint_convert(matched_kp2)\n",
        "\n",
        "    # Estimate the homography between the matches using RANSAC\n",
        "    H, inliers = cv2.findHomography(matched_pts1,\n",
        "                                    matched_pts2,\n",
        "                                    0)\n",
        "    inliers = inliers.flatten()\n",
        "    return H, inliers"
      ],
      "execution_count": 70,
      "outputs": []
    },
    {
      "cell_type": "code",
      "metadata": {
        "id": "E0vb9XDs3w05"
      },
      "source": [
        "def get_Hmatrix(imgs,keypts,pts,descripts,ratio=0.75,thresh=4,use_lowe=True,disp=False,no_ransac=False,binary=False):\n",
        "  lff1 = descripts[0]\n",
        "  lff = descripts[1]\n",
        "\n",
        "  if use_lowe==False:\n",
        "    #FLANN_INDEX_KDTREE = 2\n",
        "    #index_params = dict(algorithm=FLANN_INDEX_KDTREE, trees=5)\n",
        "    #search_params = dict(checks=50)\n",
        "    #flann = cv2.FlannBasedMatcher(index_params, search_params)\n",
        "    #flann = cv2.BFMatcher()\n",
        "    if binary==True:\n",
        "      bf = cv2.BFMatcher(cv2.NORM_HAMMING, crossCheck=True)\n",
        "\n",
        "    else:\n",
        "      bf = cv2.BFMatcher(cv2.NORM_L2, crossCheck=True)\n",
        "      lff1 = np.float32(descripts[0])\n",
        "      lff = np.float32(descripts[1])\n",
        "\n",
        "\n",
        "    #matches_lf1_lf = flann.knnMatch(lff1, lff, k=2)\n",
        "    matches_4 = bf.knnMatch(lff1, lff,k=2)\n",
        "    matches_lf1_lf = []\n",
        "\n",
        "\n",
        "    print(\"\\nNumber of matches\",len(matches_4))\n",
        "    '''\n",
        "    matches_4 = []\n",
        "    ratio = ratio\n",
        "    # loop over the raw matches\n",
        "    for m in matches_lf1_lf:\n",
        "      # ensure the distance is within a certain ratio of each\n",
        "      # other (i.e. Lowe’s ratio test)\n",
        "      #if len(m) == 2 and m[0].distance < m[1].distance * ratio:\n",
        "          #matches_1.append((m[0].trainIdx, m[0].queryIdx))\n",
        "      matches_4.append(m[0])\n",
        "    '''\n",
        "    print(\"Number of matches After Lowe's Ratio\",len(matches_4))\n",
        "  else:\n",
        "    FLANN_INDEX_KDTREE = 2\n",
        "    index_params = dict(algorithm=FLANN_INDEX_KDTREE, trees=5)\n",
        "    search_params = dict(checks=50)\n",
        "    flann = cv2.FlannBasedMatcher(index_params, search_params)\n",
        "    if binary==True:\n",
        "      bf = cv2.BFMatcher(cv2.NORM_HAMMING, crossCheck=True)\n",
        "      lff1 = np.float32(descripts[0])\n",
        "      lff = np.float32(descripts[1])\n",
        "    else:\n",
        "      bf = cv2.BFMatcher(cv2.NORM_L2, crossCheck=True)\n",
        "      lff1 = np.float32(descripts[0])\n",
        "      lff = np.float32(descripts[1])\n",
        "\n",
        "\n",
        "    matches_lf1_lf = flann.knnMatch(lff1, lff, k=2)\n",
        "    #matches_lf1_lf = bf.knnMatch(lff1, lff,k=2)\n",
        "\n",
        "\n",
        "    print(\"\\nNumber of matches\",len(matches_lf1_lf))\n",
        "    matches_4 = []\n",
        "    ratio = ratio\n",
        "    # loop over the raw matches\n",
        "    for m in matches_lf1_lf:\n",
        "      # ensure the distance is within a certain ratio of each\n",
        "      # other (i.e. Lowe’s ratio test)\n",
        "      if len(m) == 2 and m[0].distance < m[1].distance * ratio:\n",
        "          #matches_1.append((m[0].trainIdx, m[0].queryIdx))\n",
        "        matches_4.append(m[0])\n",
        "  \n",
        "    print(\"Number of matches After Lowe's Ratio\",len(matches_4))\n",
        "\n",
        "\n",
        "  \n",
        "  matches_idx = np.array([m.queryIdx for m in matches_4])\n",
        "  imm1_pts = np.array([keypts[0][idx].pt for idx in matches_idx])\n",
        "  matches_idx = np.array([m.trainIdx for m in matches_4])\n",
        "  imm2_pts = np.array([keypts[1][idx].pt for idx in matches_idx])\n",
        "  '''\n",
        "  # Estimate homography 1\n",
        "  #Compute H1\n",
        "  # Estimate homography 1\n",
        "  #Compute H1\n",
        "  imm1_pts=np.empty((len(matches_4),2))\n",
        "  imm2_pts=np.empty((len(matches_4),2))\n",
        "  for i in range(0,len(matches_4)):\n",
        "    m = matches_4[i]\n",
        "    (a_x, a_y) = keypts[0][m.queryIdx].pt\n",
        "    (b_x, b_y) = keypts[1][m.trainIdx].pt\n",
        "    imm1_pts[i]=(a_x, a_y)\n",
        "    imm2_pts[i]=(b_x, b_y)    \n",
        "  H=compute_Homography(imm1_pts,imm2_pts) \n",
        "  #Robustly estimate Homography 1 using RANSAC\n",
        "  Hn, best_inliers=RANSAC_alg(keypts[0] ,keypts[1], matches_4,  nRANSAC=1000, RANSACthresh=6)\n",
        "  '''\n",
        "  \n",
        "  if no_ransac==True:\n",
        "    Hn,inliers = compute_homography_fast_other(imm1_pts,imm2_pts)\n",
        "  else:\n",
        "    Hn,inliers = compute_homography_fast(imm1_pts,imm2_pts,thresh)  \n",
        "\n",
        "  inlier_matchset = np.array(matches_4)[inliers.astype(bool)].tolist()\n",
        "  print(\"Number of Robust matches\",len(inlier_matchset))\n",
        "  print(\"\\n\")\n",
        "  \n",
        "  if len(inlier_matchset)<25:\n",
        "    matches_4 = []\n",
        "    ratio = 0.85\n",
        "    # loop over the raw matches\n",
        "    for m in matches_lf1_lf:\n",
        "      # ensure the distance is within a certain ratio of each\n",
        "      # other (i.e. Lowe’s ratio test)\n",
        "      if len(m) == 2 and m[0].distance < m[1].distance * ratio:\n",
        "          #matches_1.append((m[0].trainIdx, m[0].queryIdx))\n",
        "          matches_4.append(m[0])\n",
        "    print(\"Number of matches After Lowe's Ratio New\",len(matches_4))\n",
        "  \n",
        "    matches_idx = np.array([m.queryIdx for m in matches_4])\n",
        "    imm1_pts = np.array([keypts[0][idx].pt for idx in matches_idx])\n",
        "    matches_idx = np.array([m.trainIdx for m in matches_4])\n",
        "    imm2_pts = np.array([keypts[1][idx].pt for idx in matches_idx])\n",
        "    Hn,inliers = compute_homography_fast(imm1_pts,imm2_pts)  \n",
        "    inlier_matchset = np.array(matches_4)[inliers.astype(bool)].tolist()\n",
        "    print(\"Number of Robust matches New\",len(inlier_matchset))\n",
        "    print(\"\\n\")    \n",
        "  \n",
        "  #H=compute_Homography(imm1_pts,imm2_pts) \n",
        "  #Robustly estimate Homography 1 using RANSAC\n",
        "  #Hn=RANSAC_alg(keypts[0] ,keypts[1], matches_4,  nRANSAC=1500, RANSACthresh=6)\n",
        "\n",
        "  #global inlier_matchset   \n",
        "  \n",
        "  if disp==True:\n",
        "    dispimg1=cv2.drawMatches(imgs[0], keypts[0], imgs[1], keypts[1], inlier_matchset, None,flags=2)\n",
        "    displayplot(dispimg1,'Robust Matching between Reference Image and Right Image ')\n",
        "  \n",
        "  \n",
        "  return Hn/Hn[2,2], len(matches_lf1_lf), len(inlier_matchset)"
      ],
      "execution_count": 71,
      "outputs": []
    },
    {
      "cell_type": "code",
      "metadata": {
        "id": "l_9M9sEQ3wxO"
      },
      "source": [
        "def get_Hmatrix_rfnet(imgs,pts,descripts,disp=True):\n",
        "\n",
        "  des1 = descripts[0]\n",
        "  des2 = descripts[1]\n",
        "\n",
        "  kp1 = pts[0]\n",
        "  kp2 = pts[1]\n",
        "\n",
        "\n",
        "  predict_label, nn_kp2 = nearest_neighbor_distance_ratio_match(des1, des2, kp2, 0.7)\n",
        "  idx = predict_label.nonzero().view(-1)\n",
        "  mkp1 = kp1.index_select(dim=0, index=idx.long())  # predict match keypoints in I1\n",
        "  mkp2 = nn_kp2.index_select(dim=0, index=idx.long())  # predict match keypoints in I2\n",
        "\n",
        "  #img1, img2 = reverse_img(img1), reverse_img(img2)\n",
        "  keypoints1 = list(map(to_cv2_kp, mkp1))\n",
        "  keypoints2 = list(map(to_cv2_kp, mkp2))\n",
        "  DMatch = list(map(to_cv2_dmatch, np.arange(0, len(keypoints1))))\n",
        "\n",
        "  imm1_pts=np.empty((len(DMatch),2))\n",
        "  imm2_pts=np.empty((len(DMatch),2))\n",
        "  for i in range(0,len(DMatch)):\n",
        "    m = DMatch[i]\n",
        "    (a_x, a_y) = keypoints1[m.queryIdx].pt\n",
        "    (b_x, b_y) = keypoints2[m.trainIdx].pt\n",
        "    imm1_pts[i]=(a_x, a_y)\n",
        "    imm2_pts[i]=(b_x, b_y)    \n",
        "  H=compute_Homography_fast(imm1_pts,imm2_pts) \n",
        "\n",
        "\n",
        "  if disp==True:\n",
        "    dispimg1 = cv2.drawMatches(imgs[0], keypoints1, imgs[1], keypoints2, DMatch, None)\n",
        "    displayplot(dispimg1,'Robust Matching between Reference Image and Right Image ')\n",
        "\n",
        "\n",
        "  return H/H[2,2]"
      ],
      "execution_count": 72,
      "outputs": []
    },
    {
      "cell_type": "code",
      "metadata": {
        "id": "G0AWR--b-huo"
      },
      "source": [
        "import pickle\n",
        "Fdb = open('all_feat_brisk_left.dat', 'rb')\n",
        "kpts_all = pickle.load(Fdb)\n",
        "Fdb.close()\n",
        "\n",
        "keypoints_all_left_brisk = []\n",
        "descriptors_all_left_brisk = []\n",
        "points_all_left_brisk = []\n",
        "\n",
        "for j,kpt_each in enumerate(kpts_all):\n",
        "  keypoints_each = []\n",
        "  descrip_each = []\n",
        "  for k,kpt_img in enumerate(kpt_each):\n",
        "    temp_feature = cv2.KeyPoint(x=kpt_img[0][0],y=kpt_img[0][1],_size=kpt_img[1], _angle=kpt_img[2], \n",
        "                            _response=kpt_img[3], _octave=kpt_img[4], _class_id=kpt_img[5]) \n",
        "    temp_descriptor = kpt_img[6]\n",
        "    keypoints_each.append(temp_feature)\n",
        "    descrip_each.append(temp_descriptor)\n",
        "  points_all_left_brisk.append(np.asarray([[p.pt[0], p.pt[1]] for p in keypoints_each]))\n",
        "  keypoints_all_left_brisk.append(keypoints_each)\n",
        "  descriptors_all_left_brisk.append(descrip_each)"
      ],
      "execution_count": 73,
      "outputs": []
    },
    {
      "cell_type": "code",
      "metadata": {
        "id": "cM4gKWYe-hpB"
      },
      "source": [
        "import pickle\n",
        "Fdb = open('all_feat_brisk_right.dat', 'rb')\n",
        "kpts_all = pickle.load(Fdb)\n",
        "Fdb.close()\n",
        "\n",
        "keypoints_all_right_brisk = []\n",
        "descriptors_all_right_brisk = []\n",
        "points_all_right_brisk = []\n",
        "\n",
        "for j,kpt_each in enumerate(kpts_all):\n",
        "  keypoints_each = []\n",
        "  descrip_each = []\n",
        "  for k,kpt_img in enumerate(kpt_each):\n",
        "    temp_feature = cv2.KeyPoint(x=kpt_img[0][0],y=kpt_img[0][1],_size=kpt_img[1], _angle=kpt_img[2], \n",
        "                            _response=kpt_img[3], _octave=kpt_img[4], _class_id=kpt_img[5]) \n",
        "    temp_descriptor = kpt_img[6]\n",
        "    keypoints_each.append(temp_feature)\n",
        "    descrip_each.append(temp_descriptor)\n",
        "  points_all_right_brisk.append(np.asarray([[p.pt[0], p.pt[1]] for p in keypoints_each]))\n",
        "  keypoints_all_right_brisk.append(keypoints_each)\n",
        "  descriptors_all_right_brisk.append(descrip_each)"
      ],
      "execution_count": 74,
      "outputs": []
    },
    {
      "cell_type": "code",
      "metadata": {
        "colab": {
          "base_uri": "https://localhost:8080/"
        },
        "id": "rUJyWAzK-hi6",
        "outputId": "43370b4f-e6c8-4b98-8439-18a059743731"
      },
      "source": [
        "H_left_brisk = []\n",
        "H_right_brisk = []\n",
        "\n",
        "num_matches_brisk = []\n",
        "num_good_matches_brisk = []\n",
        "\n",
        "images_left_bgr = []\n",
        "images_right_bgr = []\n",
        "for j in tqdm(range(len(left_files_path))):\n",
        "  if j==len(left_files_path)-1:\n",
        "    break\n",
        "\n",
        "  H_a,matches,gd_matches = get_Hmatrix(images_left_bgr[j:j+2][::-1],keypoints_all_left_brisk[j:j+2][::-1],points_all_left_brisk[j:j+2][::-1],descriptors_all_left_brisk[j:j+2][::-1],0.7,3,use_lowe=True,binary=True)\n",
        "  H_left_brisk.append(H_a)\n",
        "  num_matches_brisk.append(matches)\n",
        "  num_good_matches_brisk.append(gd_matches)\n",
        "\n",
        "for j in tqdm(range(len(right_files_path))):\n",
        "  if j==len(right_files_path)-1:\n",
        "    break\n",
        "\n",
        "  H_a,matches,gd_matches = get_Hmatrix(images_right_bgr[j:j+2][::-1],keypoints_all_right_brisk[j:j+2][::-1],points_all_right_brisk[j:j+2][::-1],descriptors_all_right_brisk[j:j+2][::-1],0.7,3,use_lowe=True,binary=True)\n",
        "  H_right_brisk.append(H_a)\n",
        "  num_matches_brisk.append(matches)\n",
        "  num_good_matches_brisk.append(gd_matches)"
      ],
      "execution_count": 75,
      "outputs": [
        {
          "output_type": "stream",
          "text": [
            "  2%|▏         | 1/61 [00:03<03:44,  3.75s/it]"
          ],
          "name": "stderr"
        },
        {
          "output_type": "stream",
          "text": [
            "\n",
            "Number of matches 34199\n",
            "Number of matches After Lowe's Ratio 507\n",
            "Number of Robust matches 177\n",
            "\n",
            "\n"
          ],
          "name": "stdout"
        },
        {
          "output_type": "stream",
          "text": [
            "\r  3%|▎         | 2/61 [00:08<03:59,  4.06s/it]"
          ],
          "name": "stderr"
        },
        {
          "output_type": "stream",
          "text": [
            "\n",
            "Number of matches 35002\n",
            "Number of matches After Lowe's Ratio 716\n",
            "Number of Robust matches 251\n",
            "\n",
            "\n"
          ],
          "name": "stdout"
        },
        {
          "output_type": "stream",
          "text": [
            "\r  5%|▍         | 3/61 [00:12<03:51,  3.99s/it]"
          ],
          "name": "stderr"
        },
        {
          "output_type": "stream",
          "text": [
            "\n",
            "Number of matches 30176\n",
            "Number of matches After Lowe's Ratio 550\n",
            "Number of Robust matches 179\n",
            "\n",
            "\n"
          ],
          "name": "stdout"
        },
        {
          "output_type": "stream",
          "text": [
            "\r  7%|▋         | 4/61 [00:15<03:35,  3.79s/it]"
          ],
          "name": "stderr"
        },
        {
          "output_type": "stream",
          "text": [
            "\n",
            "Number of matches 30093\n",
            "Number of matches After Lowe's Ratio 678\n",
            "Number of Robust matches 390\n",
            "\n",
            "\n"
          ],
          "name": "stdout"
        },
        {
          "output_type": "stream",
          "text": [
            "\r  8%|▊         | 5/61 [00:19<03:32,  3.79s/it]"
          ],
          "name": "stderr"
        },
        {
          "output_type": "stream",
          "text": [
            "\n",
            "Number of matches 32458\n",
            "Number of matches After Lowe's Ratio 440\n",
            "Number of Robust matches 227\n",
            "\n",
            "\n"
          ],
          "name": "stdout"
        },
        {
          "output_type": "stream",
          "text": [
            "\r 10%|▉         | 6/61 [00:23<03:33,  3.88s/it]"
          ],
          "name": "stderr"
        },
        {
          "output_type": "stream",
          "text": [
            "\n",
            "Number of matches 40164\n",
            "Number of matches After Lowe's Ratio 1540\n",
            "Number of Robust matches 1154\n",
            "\n",
            "\n"
          ],
          "name": "stdout"
        },
        {
          "output_type": "stream",
          "text": [
            "\r 11%|█▏        | 7/61 [00:28<03:51,  4.29s/it]"
          ],
          "name": "stderr"
        },
        {
          "output_type": "stream",
          "text": [
            "\n",
            "Number of matches 37252\n",
            "Number of matches After Lowe's Ratio 1589\n",
            "Number of Robust matches 1135\n",
            "\n",
            "\n"
          ],
          "name": "stdout"
        },
        {
          "output_type": "stream",
          "text": [
            "\r 13%|█▎        | 8/61 [00:33<04:00,  4.53s/it]"
          ],
          "name": "stderr"
        },
        {
          "output_type": "stream",
          "text": [
            "\n",
            "Number of matches 29747\n",
            "Number of matches After Lowe's Ratio 964\n",
            "Number of Robust matches 627\n",
            "\n",
            "\n"
          ],
          "name": "stdout"
        },
        {
          "output_type": "stream",
          "text": [
            "\r 15%|█▍        | 9/61 [00:37<03:42,  4.28s/it]"
          ],
          "name": "stderr"
        },
        {
          "output_type": "stream",
          "text": [
            "\n",
            "Number of matches 30558\n",
            "Number of matches After Lowe's Ratio 764\n",
            "Number of Robust matches 469\n",
            "\n",
            "\n"
          ],
          "name": "stdout"
        },
        {
          "output_type": "stream",
          "text": [
            "\r 16%|█▋        | 10/61 [00:41<03:31,  4.15s/it]"
          ],
          "name": "stderr"
        },
        {
          "output_type": "stream",
          "text": [
            "\n",
            "Number of matches 32053\n",
            "Number of matches After Lowe's Ratio 677\n",
            "Number of Robust matches 311\n",
            "\n",
            "\n"
          ],
          "name": "stdout"
        },
        {
          "output_type": "stream",
          "text": [
            "\r 18%|█▊        | 11/61 [00:46<03:33,  4.28s/it]"
          ],
          "name": "stderr"
        },
        {
          "output_type": "stream",
          "text": [
            "\n",
            "Number of matches 32381\n",
            "Number of matches After Lowe's Ratio 579\n",
            "Number of Robust matches 163\n",
            "\n",
            "\n"
          ],
          "name": "stdout"
        },
        {
          "output_type": "stream",
          "text": [
            "\r 20%|█▉        | 12/61 [00:50<03:25,  4.20s/it]"
          ],
          "name": "stderr"
        },
        {
          "output_type": "stream",
          "text": [
            "\n",
            "Number of matches 32496\n",
            "Number of matches After Lowe's Ratio 596\n",
            "Number of Robust matches 143\n",
            "\n",
            "\n"
          ],
          "name": "stdout"
        },
        {
          "output_type": "stream",
          "text": [
            "\r 21%|██▏       | 13/61 [00:58<04:27,  5.57s/it]"
          ],
          "name": "stderr"
        },
        {
          "output_type": "stream",
          "text": [
            "\n",
            "Number of matches 54658\n",
            "Number of matches After Lowe's Ratio 257\n",
            "Number of Robust matches 72\n",
            "\n",
            "\n"
          ],
          "name": "stdout"
        },
        {
          "output_type": "stream",
          "text": [
            "\r 23%|██▎       | 14/61 [01:11<06:08,  7.84s/it]"
          ],
          "name": "stderr"
        },
        {
          "output_type": "stream",
          "text": [
            "\n",
            "Number of matches 86841\n",
            "Number of matches After Lowe's Ratio 216\n",
            "Number of Robust matches 124\n",
            "\n",
            "\n"
          ],
          "name": "stdout"
        },
        {
          "output_type": "stream",
          "text": [
            "\r 25%|██▍       | 15/61 [01:21<06:25,  8.39s/it]"
          ],
          "name": "stderr"
        },
        {
          "output_type": "stream",
          "text": [
            "\n",
            "Number of matches 45969\n",
            "Number of matches After Lowe's Ratio 411\n",
            "Number of Robust matches 235\n",
            "\n",
            "\n"
          ],
          "name": "stdout"
        },
        {
          "output_type": "stream",
          "text": [
            "\r 26%|██▌       | 16/61 [01:27<05:48,  7.74s/it]"
          ],
          "name": "stderr"
        },
        {
          "output_type": "stream",
          "text": [
            "\n",
            "Number of matches 33352\n",
            "Number of matches After Lowe's Ratio 753\n",
            "Number of Robust matches 247\n",
            "\n",
            "\n"
          ],
          "name": "stdout"
        },
        {
          "output_type": "stream",
          "text": [
            "\r 28%|██▊       | 17/61 [01:32<04:56,  6.74s/it]"
          ],
          "name": "stderr"
        },
        {
          "output_type": "stream",
          "text": [
            "\n",
            "Number of matches 32253\n",
            "Number of matches After Lowe's Ratio 643\n",
            "Number of Robust matches 198\n",
            "\n",
            "\n"
          ],
          "name": "stdout"
        },
        {
          "output_type": "stream",
          "text": [
            "\r 30%|██▉       | 18/61 [01:36<04:17,  5.98s/it]"
          ],
          "name": "stderr"
        },
        {
          "output_type": "stream",
          "text": [
            "\n",
            "Number of matches 36758\n",
            "Number of matches After Lowe's Ratio 544\n",
            "Number of Robust matches 148\n",
            "\n",
            "\n"
          ],
          "name": "stdout"
        },
        {
          "output_type": "stream",
          "text": [
            "\r 31%|███       | 19/61 [01:41<03:56,  5.63s/it]"
          ],
          "name": "stderr"
        },
        {
          "output_type": "stream",
          "text": [
            "\n",
            "Number of matches 32492\n",
            "Number of matches After Lowe's Ratio 411\n",
            "Number of Robust matches 147\n",
            "\n",
            "\n"
          ],
          "name": "stdout"
        },
        {
          "output_type": "stream",
          "text": [
            "\r 33%|███▎      | 20/61 [01:45<03:33,  5.22s/it]"
          ],
          "name": "stderr"
        },
        {
          "output_type": "stream",
          "text": [
            "\n",
            "Number of matches 36392\n",
            "Number of matches After Lowe's Ratio 315\n",
            "Number of Robust matches 134\n",
            "\n",
            "\n"
          ],
          "name": "stdout"
        },
        {
          "output_type": "stream",
          "text": [
            "\r 34%|███▍      | 21/61 [01:50<03:22,  5.06s/it]"
          ],
          "name": "stderr"
        },
        {
          "output_type": "stream",
          "text": [
            "\n",
            "Number of matches 42773\n",
            "Number of matches After Lowe's Ratio 956\n",
            "Number of Robust matches 700\n",
            "\n",
            "\n"
          ],
          "name": "stdout"
        },
        {
          "output_type": "stream",
          "text": [
            "\r 36%|███▌      | 22/61 [01:57<03:48,  5.87s/it]"
          ],
          "name": "stderr"
        },
        {
          "output_type": "stream",
          "text": [
            "\n",
            "Number of matches 53307\n",
            "Number of matches After Lowe's Ratio 1761\n",
            "Number of Robust matches 1202\n",
            "\n",
            "\n"
          ],
          "name": "stdout"
        },
        {
          "output_type": "stream",
          "text": [
            "\r 38%|███▊      | 23/61 [02:05<04:00,  6.34s/it]"
          ],
          "name": "stderr"
        },
        {
          "output_type": "stream",
          "text": [
            "\n",
            "Number of matches 38624\n",
            "Number of matches After Lowe's Ratio 1096\n",
            "Number of Robust matches 776\n",
            "\n",
            "\n"
          ],
          "name": "stdout"
        },
        {
          "output_type": "stream",
          "text": [
            "\r 39%|███▉      | 24/61 [02:11<03:48,  6.19s/it]"
          ],
          "name": "stderr"
        },
        {
          "output_type": "stream",
          "text": [
            "\n",
            "Number of matches 27994\n",
            "Number of matches After Lowe's Ratio 286\n",
            "Number of Robust matches 131\n",
            "\n",
            "\n"
          ],
          "name": "stdout"
        },
        {
          "output_type": "stream",
          "text": [
            "\r 41%|████      | 25/61 [02:14<03:08,  5.25s/it]"
          ],
          "name": "stderr"
        },
        {
          "output_type": "stream",
          "text": [
            "\n",
            "Number of matches 27814\n",
            "Number of matches After Lowe's Ratio 326\n",
            "Number of Robust matches 121\n",
            "\n",
            "\n"
          ],
          "name": "stdout"
        },
        {
          "output_type": "stream",
          "text": [
            "\r 43%|████▎     | 26/61 [02:17<02:43,  4.68s/it]"
          ],
          "name": "stderr"
        },
        {
          "output_type": "stream",
          "text": [
            "\n",
            "Number of matches 34801\n",
            "Number of matches After Lowe's Ratio 211\n",
            "Number of Robust matches 55\n",
            "\n",
            "\n"
          ],
          "name": "stdout"
        },
        {
          "output_type": "stream",
          "text": [
            "\r 44%|████▍     | 27/61 [02:22<02:38,  4.67s/it]"
          ],
          "name": "stderr"
        },
        {
          "output_type": "stream",
          "text": [
            "\n",
            "Number of matches 34671\n",
            "Number of matches After Lowe's Ratio 498\n",
            "Number of Robust matches 136\n",
            "\n",
            "\n"
          ],
          "name": "stdout"
        },
        {
          "output_type": "stream",
          "text": [
            "\r 46%|████▌     | 28/61 [02:27<02:37,  4.76s/it]"
          ],
          "name": "stderr"
        },
        {
          "output_type": "stream",
          "text": [
            "\n",
            "Number of matches 44043\n",
            "Number of matches After Lowe's Ratio 289\n",
            "Number of Robust matches 102\n",
            "\n",
            "\n"
          ],
          "name": "stdout"
        },
        {
          "output_type": "stream",
          "text": [
            "\r 48%|████▊     | 29/61 [02:35<03:07,  5.84s/it]"
          ],
          "name": "stderr"
        },
        {
          "output_type": "stream",
          "text": [
            "\n",
            "Number of matches 65763\n",
            "Number of matches After Lowe's Ratio 189\n",
            "Number of Robust matches 77\n",
            "\n",
            "\n"
          ],
          "name": "stdout"
        },
        {
          "output_type": "stream",
          "text": [
            "\r 49%|████▉     | 30/61 [02:45<03:35,  6.95s/it]"
          ],
          "name": "stderr"
        },
        {
          "output_type": "stream",
          "text": [
            "\n",
            "Number of matches 51581\n",
            "Number of matches After Lowe's Ratio 280\n",
            "Number of Robust matches 126\n",
            "\n",
            "\n"
          ],
          "name": "stdout"
        },
        {
          "output_type": "stream",
          "text": [
            "\r 51%|█████     | 31/61 [02:52<03:32,  7.07s/it]"
          ],
          "name": "stderr"
        },
        {
          "output_type": "stream",
          "text": [
            "\n",
            "Number of matches 34879\n",
            "Number of matches After Lowe's Ratio 343\n",
            "Number of Robust matches 94\n",
            "\n",
            "\n"
          ],
          "name": "stdout"
        },
        {
          "output_type": "stream",
          "text": [
            "\r 52%|█████▏    | 32/61 [02:56<02:56,  6.08s/it]"
          ],
          "name": "stderr"
        },
        {
          "output_type": "stream",
          "text": [
            "\n",
            "Number of matches 24551\n",
            "Number of matches After Lowe's Ratio 494\n",
            "Number of Robust matches 135\n",
            "\n",
            "\n"
          ],
          "name": "stdout"
        },
        {
          "output_type": "stream",
          "text": [
            "\r 54%|█████▍    | 33/61 [02:58<02:21,  5.04s/it]"
          ],
          "name": "stderr"
        },
        {
          "output_type": "stream",
          "text": [
            "\n",
            "Number of matches 26311\n",
            "Number of matches After Lowe's Ratio 482\n",
            "Number of Robust matches 141\n",
            "\n",
            "\n"
          ],
          "name": "stdout"
        },
        {
          "output_type": "stream",
          "text": [
            "\r 56%|█████▌    | 34/61 [03:02<02:02,  4.54s/it]"
          ],
          "name": "stderr"
        },
        {
          "output_type": "stream",
          "text": [
            "\n",
            "Number of matches 27904\n",
            "Number of matches After Lowe's Ratio 377\n",
            "Number of Robust matches 131\n",
            "\n",
            "\n"
          ],
          "name": "stdout"
        },
        {
          "output_type": "stream",
          "text": [
            "\r 57%|█████▋    | 35/61 [03:05<01:47,  4.15s/it]"
          ],
          "name": "stderr"
        },
        {
          "output_type": "stream",
          "text": [
            "\n",
            "Number of matches 32478\n",
            "Number of matches After Lowe's Ratio 415\n",
            "Number of Robust matches 173\n",
            "\n",
            "\n"
          ],
          "name": "stdout"
        },
        {
          "output_type": "stream",
          "text": [
            "\r 59%|█████▉    | 36/61 [03:10<01:52,  4.49s/it]"
          ],
          "name": "stderr"
        },
        {
          "output_type": "stream",
          "text": [
            "\n",
            "Number of matches 43545\n",
            "Number of matches After Lowe's Ratio 729\n",
            "Number of Robust matches 482\n",
            "\n",
            "\n"
          ],
          "name": "stdout"
        },
        {
          "output_type": "stream",
          "text": [
            "\r 61%|██████    | 37/61 [03:18<02:08,  5.36s/it]"
          ],
          "name": "stderr"
        },
        {
          "output_type": "stream",
          "text": [
            "\n",
            "Number of matches 54459\n",
            "Number of matches After Lowe's Ratio 1166\n",
            "Number of Robust matches 820\n",
            "\n",
            "\n"
          ],
          "name": "stdout"
        },
        {
          "output_type": "stream",
          "text": [
            "\r 62%|██████▏   | 38/61 [03:26<02:20,  6.11s/it]"
          ],
          "name": "stderr"
        },
        {
          "output_type": "stream",
          "text": [
            "\n",
            "Number of matches 37887\n",
            "Number of matches After Lowe's Ratio 1115\n",
            "Number of Robust matches 795\n",
            "\n",
            "\n"
          ],
          "name": "stdout"
        },
        {
          "output_type": "stream",
          "text": [
            "\r 64%|██████▍   | 39/61 [03:30<02:02,  5.55s/it]"
          ],
          "name": "stderr"
        },
        {
          "output_type": "stream",
          "text": [
            "\n",
            "Number of matches 27016\n",
            "Number of matches After Lowe's Ratio 621\n",
            "Number of Robust matches 446\n",
            "\n",
            "\n"
          ],
          "name": "stdout"
        },
        {
          "output_type": "stream",
          "text": [
            "\r 66%|██████▌   | 40/61 [03:32<01:36,  4.61s/it]"
          ],
          "name": "stderr"
        },
        {
          "output_type": "stream",
          "text": [
            "\n",
            "Number of matches 15395\n",
            "Number of matches After Lowe's Ratio 251\n",
            "Number of Robust matches 136\n",
            "\n",
            "\n"
          ],
          "name": "stdout"
        },
        {
          "output_type": "stream",
          "text": [
            "\r 67%|██████▋   | 41/61 [03:33<01:12,  3.61s/it]"
          ],
          "name": "stderr"
        },
        {
          "output_type": "stream",
          "text": [
            "\n",
            "Number of matches 18483\n",
            "Number of matches After Lowe's Ratio 294\n",
            "Number of Robust matches 110\n",
            "\n",
            "\n"
          ],
          "name": "stdout"
        },
        {
          "output_type": "stream",
          "text": [
            "\r 69%|██████▉   | 42/61 [03:35<00:59,  3.11s/it]"
          ],
          "name": "stderr"
        },
        {
          "output_type": "stream",
          "text": [
            "\n",
            "Number of matches 25066\n",
            "Number of matches After Lowe's Ratio 447\n",
            "Number of Robust matches 133\n",
            "\n",
            "\n"
          ],
          "name": "stdout"
        },
        {
          "output_type": "stream",
          "text": [
            "\r 70%|███████   | 43/61 [03:39<00:58,  3.25s/it]"
          ],
          "name": "stderr"
        },
        {
          "output_type": "stream",
          "text": [
            "\n",
            "Number of matches 39986\n",
            "Number of matches After Lowe's Ratio 363\n",
            "Number of Robust matches 95\n",
            "\n",
            "\n"
          ],
          "name": "stdout"
        },
        {
          "output_type": "stream",
          "text": [
            "\r 72%|███████▏  | 44/61 [03:46<01:16,  4.51s/it]"
          ],
          "name": "stderr"
        },
        {
          "output_type": "stream",
          "text": [
            "\n",
            "Number of matches 61834\n",
            "Number of matches After Lowe's Ratio 169\n",
            "Number of Robust matches 79\n",
            "\n",
            "\n"
          ],
          "name": "stdout"
        },
        {
          "output_type": "stream",
          "text": [
            "\r 74%|███████▍  | 45/61 [04:01<01:58,  7.42s/it]"
          ],
          "name": "stderr"
        },
        {
          "output_type": "stream",
          "text": [
            "\n",
            "Number of matches 95237\n",
            "Number of matches After Lowe's Ratio 219\n",
            "Number of Robust matches 144\n",
            "\n",
            "\n"
          ],
          "name": "stdout"
        },
        {
          "output_type": "stream",
          "text": [
            "\r 75%|███████▌  | 46/61 [04:13<02:12,  8.81s/it]"
          ],
          "name": "stderr"
        },
        {
          "output_type": "stream",
          "text": [
            "\n",
            "Number of matches 60829\n",
            "Number of matches After Lowe's Ratio 185\n",
            "Number of Robust matches 110\n",
            "\n",
            "\n"
          ],
          "name": "stdout"
        },
        {
          "output_type": "stream",
          "text": [
            "\r 77%|███████▋  | 47/61 [04:21<02:01,  8.70s/it]"
          ],
          "name": "stderr"
        },
        {
          "output_type": "stream",
          "text": [
            "\n",
            "Number of matches 37081\n",
            "Number of matches After Lowe's Ratio 203\n",
            "Number of Robust matches 112\n",
            "\n",
            "\n"
          ],
          "name": "stdout"
        },
        {
          "output_type": "stream",
          "text": [
            "\r 79%|███████▊  | 48/61 [04:25<01:35,  7.33s/it]"
          ],
          "name": "stderr"
        },
        {
          "output_type": "stream",
          "text": [
            "\n",
            "Number of matches 27312\n",
            "Number of matches After Lowe's Ratio 318\n",
            "Number of Robust matches 108\n",
            "\n",
            "\n"
          ],
          "name": "stdout"
        },
        {
          "output_type": "stream",
          "text": [
            "\r 80%|████████  | 49/61 [04:28<01:10,  5.90s/it]"
          ],
          "name": "stderr"
        },
        {
          "output_type": "stream",
          "text": [
            "\n",
            "Number of matches 15737\n",
            "Number of matches After Lowe's Ratio 341\n",
            "Number of Robust matches 85\n",
            "\n",
            "\n"
          ],
          "name": "stdout"
        },
        {
          "output_type": "stream",
          "text": [
            "\r 82%|████████▏ | 50/61 [04:29<00:50,  4.55s/it]"
          ],
          "name": "stderr"
        },
        {
          "output_type": "stream",
          "text": [
            "\n",
            "Number of matches 24741\n",
            "Number of matches After Lowe's Ratio 313\n",
            "Number of Robust matches 118\n",
            "\n",
            "\n"
          ],
          "name": "stdout"
        },
        {
          "output_type": "stream",
          "text": [
            "\r 84%|████████▎ | 51/61 [04:33<00:41,  4.20s/it]"
          ],
          "name": "stderr"
        },
        {
          "output_type": "stream",
          "text": [
            "\n",
            "Number of matches 32474\n",
            "Number of matches After Lowe's Ratio 477\n",
            "Number of Robust matches 323\n",
            "\n",
            "\n"
          ],
          "name": "stdout"
        },
        {
          "output_type": "stream",
          "text": [
            "\r 85%|████████▌ | 52/61 [04:38<00:39,  4.41s/it]"
          ],
          "name": "stderr"
        },
        {
          "output_type": "stream",
          "text": [
            "\n",
            "Number of matches 46462\n",
            "Number of matches After Lowe's Ratio 856\n",
            "Number of Robust matches 671\n",
            "\n",
            "\n"
          ],
          "name": "stdout"
        },
        {
          "output_type": "stream",
          "text": [
            "\r 87%|████████▋ | 53/61 [04:46<00:44,  5.56s/it]"
          ],
          "name": "stderr"
        },
        {
          "output_type": "stream",
          "text": [
            "\n",
            "Number of matches 57608\n",
            "Number of matches After Lowe's Ratio 1250\n",
            "Number of Robust matches 859\n",
            "\n",
            "\n"
          ],
          "name": "stdout"
        },
        {
          "output_type": "stream",
          "text": [
            "\r 89%|████████▊ | 54/61 [04:55<00:46,  6.61s/it]"
          ],
          "name": "stderr"
        },
        {
          "output_type": "stream",
          "text": [
            "\n",
            "Number of matches 56279\n",
            "Number of matches After Lowe's Ratio 1222\n",
            "Number of Robust matches 885\n",
            "\n",
            "\n"
          ],
          "name": "stdout"
        },
        {
          "output_type": "stream",
          "text": [
            "\r 90%|█████████ | 55/61 [05:03<00:42,  7.07s/it]"
          ],
          "name": "stderr"
        },
        {
          "output_type": "stream",
          "text": [
            "\n",
            "Number of matches 39926\n",
            "Number of matches After Lowe's Ratio 685\n",
            "Number of Robust matches 461\n",
            "\n",
            "\n"
          ],
          "name": "stdout"
        },
        {
          "output_type": "stream",
          "text": [
            "\r 92%|█████████▏| 56/61 [05:08<00:31,  6.33s/it]"
          ],
          "name": "stderr"
        },
        {
          "output_type": "stream",
          "text": [
            "\n",
            "Number of matches 30586\n",
            "Number of matches After Lowe's Ratio 319\n",
            "Number of Robust matches 226\n",
            "\n",
            "\n"
          ],
          "name": "stdout"
        },
        {
          "output_type": "stream",
          "text": [
            "\r 93%|█████████▎| 57/61 [05:11<00:21,  5.36s/it]"
          ],
          "name": "stderr"
        },
        {
          "output_type": "stream",
          "text": [
            "\n",
            "Number of matches 25532\n",
            "Number of matches After Lowe's Ratio 242\n",
            "Number of Robust matches 107\n",
            "\n",
            "\n"
          ],
          "name": "stdout"
        },
        {
          "output_type": "stream",
          "text": [
            "\r 95%|█████████▌| 58/61 [05:14<00:13,  4.64s/it]"
          ],
          "name": "stderr"
        },
        {
          "output_type": "stream",
          "text": [
            "\n",
            "Number of matches 21565\n",
            "Number of matches After Lowe's Ratio 231\n",
            "Number of Robust matches 83\n",
            "\n",
            "\n"
          ],
          "name": "stdout"
        },
        {
          "output_type": "stream",
          "text": [
            "\r 97%|█████████▋| 59/61 [05:17<00:08,  4.12s/it]"
          ],
          "name": "stderr"
        },
        {
          "output_type": "stream",
          "text": [
            "\n",
            "Number of matches 47461\n",
            "Number of matches After Lowe's Ratio 249\n",
            "Number of Robust matches 98\n",
            "\n",
            "\n"
          ],
          "name": "stdout"
        },
        {
          "output_type": "stream",
          "text": [
            "  0%|          | 0/60 [00:00<?, ?it/s]"
          ],
          "name": "stderr"
        },
        {
          "output_type": "stream",
          "text": [
            "\n",
            "Number of matches 69453\n",
            "Number of matches After Lowe's Ratio 212\n",
            "Number of Robust matches 124\n",
            "\n",
            "\n"
          ],
          "name": "stdout"
        },
        {
          "output_type": "stream",
          "text": [
            "\r  2%|▏         | 1/60 [00:04<04:15,  4.33s/it]"
          ],
          "name": "stderr"
        },
        {
          "output_type": "stream",
          "text": [
            "\n",
            "Number of matches 43080\n",
            "Number of matches After Lowe's Ratio 466\n",
            "Number of Robust matches 140\n",
            "\n",
            "\n"
          ],
          "name": "stdout"
        },
        {
          "output_type": "stream",
          "text": [
            "\r  3%|▎         | 2/60 [00:12<05:20,  5.52s/it]"
          ],
          "name": "stderr"
        },
        {
          "output_type": "stream",
          "text": [
            "\n",
            "Number of matches 60518\n",
            "Number of matches After Lowe's Ratio 452\n",
            "Number of Robust matches 179\n",
            "\n",
            "\n"
          ],
          "name": "stdout"
        },
        {
          "output_type": "stream",
          "text": [
            "\r  5%|▌         | 3/60 [00:21<06:04,  6.40s/it]"
          ],
          "name": "stderr"
        },
        {
          "output_type": "stream",
          "text": [
            "\n",
            "Number of matches 40645\n",
            "Number of matches After Lowe's Ratio 161\n",
            "Number of Robust matches 60\n",
            "\n",
            "\n"
          ],
          "name": "stdout"
        },
        {
          "output_type": "stream",
          "text": [
            "\r  7%|▋         | 4/60 [00:26<05:44,  6.15s/it]"
          ],
          "name": "stderr"
        },
        {
          "output_type": "stream",
          "text": [
            "\n",
            "Number of matches 34816\n",
            "Number of matches After Lowe's Ratio 298\n",
            "Number of Robust matches 122\n",
            "\n",
            "\n"
          ],
          "name": "stdout"
        },
        {
          "output_type": "stream",
          "text": [
            "\r  8%|▊         | 5/60 [00:31<05:12,  5.68s/it]"
          ],
          "name": "stderr"
        },
        {
          "output_type": "stream",
          "text": [
            "\n",
            "Number of matches 33906\n",
            "Number of matches After Lowe's Ratio 609\n",
            "Number of Robust matches 237\n",
            "\n",
            "\n"
          ],
          "name": "stdout"
        },
        {
          "output_type": "stream",
          "text": [
            "\r 10%|█         | 6/60 [00:35<04:48,  5.34s/it]"
          ],
          "name": "stderr"
        },
        {
          "output_type": "stream",
          "text": [
            "\n",
            "Number of matches 34306\n",
            "Number of matches After Lowe's Ratio 553\n",
            "Number of Robust matches 227\n",
            "\n",
            "\n"
          ],
          "name": "stdout"
        },
        {
          "output_type": "stream",
          "text": [
            "\r 12%|█▏        | 7/60 [00:39<04:21,  4.93s/it]"
          ],
          "name": "stderr"
        },
        {
          "output_type": "stream",
          "text": [
            "\n",
            "Number of matches 30653\n",
            "Number of matches After Lowe's Ratio 769\n",
            "Number of Robust matches 311\n",
            "\n",
            "\n"
          ],
          "name": "stdout"
        },
        {
          "output_type": "stream",
          "text": [
            "\r 13%|█▎        | 8/60 [00:42<03:49,  4.42s/it]"
          ],
          "name": "stderr"
        },
        {
          "output_type": "stream",
          "text": [
            "\n",
            "Number of matches 26414\n",
            "Number of matches After Lowe's Ratio 788\n",
            "Number of Robust matches 437\n",
            "\n",
            "\n"
          ],
          "name": "stdout"
        },
        {
          "output_type": "stream",
          "text": [
            "\r 15%|█▌        | 9/60 [00:45<03:20,  3.94s/it]"
          ],
          "name": "stderr"
        },
        {
          "output_type": "stream",
          "text": [
            "\n",
            "Number of matches 22910\n",
            "Number of matches After Lowe's Ratio 818\n",
            "Number of Robust matches 394\n",
            "\n",
            "\n"
          ],
          "name": "stdout"
        },
        {
          "output_type": "stream",
          "text": [
            "\r 17%|█▋        | 10/60 [00:48<02:59,  3.59s/it]"
          ],
          "name": "stderr"
        },
        {
          "output_type": "stream",
          "text": [
            "\n",
            "Number of matches 22843\n",
            "Number of matches After Lowe's Ratio 1091\n",
            "Number of Robust matches 823\n",
            "\n",
            "\n"
          ],
          "name": "stdout"
        },
        {
          "output_type": "stream",
          "text": [
            "\r 18%|█▊        | 11/60 [00:50<02:38,  3.22s/it]"
          ],
          "name": "stderr"
        },
        {
          "output_type": "stream",
          "text": [
            "\n",
            "Number of matches 23216\n",
            "Number of matches After Lowe's Ratio 1035\n",
            "Number of Robust matches 707\n",
            "\n",
            "\n"
          ],
          "name": "stdout"
        },
        {
          "output_type": "stream",
          "text": [
            "\r 20%|██        | 12/60 [00:53<02:25,  3.04s/it]"
          ],
          "name": "stderr"
        },
        {
          "output_type": "stream",
          "text": [
            "\n",
            "Number of matches 30508\n",
            "Number of matches After Lowe's Ratio 803\n",
            "Number of Robust matches 564\n",
            "\n",
            "\n"
          ],
          "name": "stdout"
        },
        {
          "output_type": "stream",
          "text": [
            "\r 22%|██▏       | 13/60 [00:57<02:36,  3.33s/it]"
          ],
          "name": "stderr"
        },
        {
          "output_type": "stream",
          "text": [
            "\n",
            "Number of matches 33067\n",
            "Number of matches After Lowe's Ratio 890\n",
            "Number of Robust matches 480\n",
            "\n",
            "\n"
          ],
          "name": "stdout"
        },
        {
          "output_type": "stream",
          "text": [
            "\r 23%|██▎       | 14/60 [01:01<02:43,  3.55s/it]"
          ],
          "name": "stderr"
        },
        {
          "output_type": "stream",
          "text": [
            "\n",
            "Number of matches 34821\n",
            "Number of matches After Lowe's Ratio 852\n",
            "Number of Robust matches 354\n",
            "\n",
            "\n"
          ],
          "name": "stdout"
        },
        {
          "output_type": "stream",
          "text": [
            "\r 25%|██▌       | 15/60 [01:06<02:53,  3.85s/it]"
          ],
          "name": "stderr"
        },
        {
          "output_type": "stream",
          "text": [
            "\n",
            "Number of matches 33892\n",
            "Number of matches After Lowe's Ratio 542\n",
            "Number of Robust matches 215\n",
            "\n",
            "\n"
          ],
          "name": "stdout"
        },
        {
          "output_type": "stream",
          "text": [
            "\r 27%|██▋       | 16/60 [01:10<02:56,  4.00s/it]"
          ],
          "name": "stderr"
        },
        {
          "output_type": "stream",
          "text": [
            "\n",
            "Number of matches 27929\n",
            "Number of matches After Lowe's Ratio 553\n",
            "Number of Robust matches 234\n",
            "\n",
            "\n"
          ],
          "name": "stdout"
        },
        {
          "output_type": "stream",
          "text": [
            "\r 28%|██▊       | 17/60 [01:13<02:42,  3.79s/it]"
          ],
          "name": "stderr"
        },
        {
          "output_type": "stream",
          "text": [
            "\n",
            "Number of matches 33854\n",
            "Number of matches After Lowe's Ratio 442\n",
            "Number of Robust matches 191\n",
            "\n",
            "\n"
          ],
          "name": "stdout"
        },
        {
          "output_type": "stream",
          "text": [
            "\r 30%|███       | 18/60 [01:18<02:47,  4.00s/it]"
          ],
          "name": "stderr"
        },
        {
          "output_type": "stream",
          "text": [
            "\n",
            "Number of matches 41142\n",
            "Number of matches After Lowe's Ratio 520\n",
            "Number of Robust matches 182\n",
            "\n",
            "\n"
          ],
          "name": "stdout"
        },
        {
          "output_type": "stream",
          "text": [
            "\r 32%|███▏      | 19/60 [01:24<03:05,  4.53s/it]"
          ],
          "name": "stderr"
        },
        {
          "output_type": "stream",
          "text": [
            "\n",
            "Number of matches 33056\n",
            "Number of matches After Lowe's Ratio 232\n",
            "Number of Robust matches 97\n",
            "\n",
            "\n"
          ],
          "name": "stdout"
        },
        {
          "output_type": "stream",
          "text": [
            "\r 33%|███▎      | 20/60 [01:27<02:51,  4.28s/it]"
          ],
          "name": "stderr"
        },
        {
          "output_type": "stream",
          "text": [
            "\n",
            "Number of matches 27945\n",
            "Number of matches After Lowe's Ratio 346\n",
            "Number of Robust matches 141\n",
            "\n",
            "\n"
          ],
          "name": "stdout"
        },
        {
          "output_type": "stream",
          "text": [
            "\r 35%|███▌      | 21/60 [01:31<02:38,  4.06s/it]"
          ],
          "name": "stderr"
        },
        {
          "output_type": "stream",
          "text": [
            "\n",
            "Number of matches 39280\n",
            "Number of matches After Lowe's Ratio 611\n",
            "Number of Robust matches 278\n",
            "\n",
            "\n"
          ],
          "name": "stdout"
        },
        {
          "output_type": "stream",
          "text": [
            "\r 37%|███▋      | 22/60 [01:36<02:50,  4.48s/it]"
          ],
          "name": "stderr"
        },
        {
          "output_type": "stream",
          "text": [
            "\n",
            "Number of matches 35020\n",
            "Number of matches After Lowe's Ratio 675\n",
            "Number of Robust matches 320\n",
            "\n",
            "\n"
          ],
          "name": "stdout"
        },
        {
          "output_type": "stream",
          "text": [
            "\r 38%|███▊      | 23/60 [01:40<02:40,  4.35s/it]"
          ],
          "name": "stderr"
        },
        {
          "output_type": "stream",
          "text": [
            "\n",
            "Number of matches 30181\n",
            "Number of matches After Lowe's Ratio 676\n",
            "Number of Robust matches 260\n",
            "\n",
            "\n"
          ],
          "name": "stdout"
        },
        {
          "output_type": "stream",
          "text": [
            "\r 40%|████      | 24/60 [01:44<02:25,  4.04s/it]"
          ],
          "name": "stderr"
        },
        {
          "output_type": "stream",
          "text": [
            "\n",
            "Number of matches 27761\n",
            "Number of matches After Lowe's Ratio 973\n",
            "Number of Robust matches 485\n",
            "\n",
            "\n"
          ],
          "name": "stdout"
        },
        {
          "output_type": "stream",
          "text": [
            "\r 42%|████▏     | 25/60 [01:47<02:13,  3.80s/it]"
          ],
          "name": "stderr"
        },
        {
          "output_type": "stream",
          "text": [
            "\n",
            "Number of matches 20441\n",
            "Number of matches After Lowe's Ratio 1258\n",
            "Number of Robust matches 967\n",
            "\n",
            "\n"
          ],
          "name": "stdout"
        },
        {
          "output_type": "stream",
          "text": [
            "\r 43%|████▎     | 26/60 [01:49<01:47,  3.17s/it]"
          ],
          "name": "stderr"
        },
        {
          "output_type": "stream",
          "text": [
            "\n",
            "Number of matches 9484\n",
            "Number of matches After Lowe's Ratio 736\n",
            "Number of Robust matches 600\n",
            "\n",
            "\n"
          ],
          "name": "stdout"
        },
        {
          "output_type": "stream",
          "text": [
            "\r 45%|████▌     | 27/60 [01:49<01:21,  2.46s/it]"
          ],
          "name": "stderr"
        },
        {
          "output_type": "stream",
          "text": [
            "\n",
            "Number of matches 15669\n",
            "Number of matches After Lowe's Ratio 531\n",
            "Number of Robust matches 414\n",
            "\n",
            "\n"
          ],
          "name": "stdout"
        },
        {
          "output_type": "stream",
          "text": [
            "\r 47%|████▋     | 28/60 [01:51<01:11,  2.24s/it]"
          ],
          "name": "stderr"
        },
        {
          "output_type": "stream",
          "text": [
            "\n",
            "Number of matches 34109\n",
            "Number of matches After Lowe's Ratio 888\n",
            "Number of Robust matches 508\n",
            "\n",
            "\n"
          ],
          "name": "stdout"
        },
        {
          "output_type": "stream",
          "text": [
            "\r 48%|████▊     | 29/60 [01:57<01:40,  3.24s/it]"
          ],
          "name": "stderr"
        },
        {
          "output_type": "stream",
          "text": [
            "\n",
            "Number of matches 40934\n",
            "Number of matches After Lowe's Ratio 1176\n",
            "Number of Robust matches 640\n",
            "\n",
            "\n"
          ],
          "name": "stdout"
        },
        {
          "output_type": "stream",
          "text": [
            "\r 50%|█████     | 30/60 [02:02<01:56,  3.89s/it]"
          ],
          "name": "stderr"
        },
        {
          "output_type": "stream",
          "text": [
            "\n",
            "Number of matches 39357\n",
            "Number of matches After Lowe's Ratio 868\n",
            "Number of Robust matches 292\n",
            "\n",
            "\n"
          ],
          "name": "stdout"
        },
        {
          "output_type": "stream",
          "text": [
            "\r 52%|█████▏    | 31/60 [02:08<02:11,  4.53s/it]"
          ],
          "name": "stderr"
        },
        {
          "output_type": "stream",
          "text": [
            "\n",
            "Number of matches 38655\n",
            "Number of matches After Lowe's Ratio 745\n",
            "Number of Robust matches 271\n",
            "\n",
            "\n"
          ],
          "name": "stdout"
        },
        {
          "output_type": "stream",
          "text": [
            "\r 53%|█████▎    | 32/60 [02:13<02:07,  4.56s/it]"
          ],
          "name": "stderr"
        },
        {
          "output_type": "stream",
          "text": [
            "\n",
            "Number of matches 29950\n",
            "Number of matches After Lowe's Ratio 575\n",
            "Number of Robust matches 302\n",
            "\n",
            "\n"
          ],
          "name": "stdout"
        },
        {
          "output_type": "stream",
          "text": [
            "\r 55%|█████▌    | 33/60 [02:16<01:51,  4.14s/it]"
          ],
          "name": "stderr"
        },
        {
          "output_type": "stream",
          "text": [
            "\n",
            "Number of matches 25428\n",
            "Number of matches After Lowe's Ratio 464\n",
            "Number of Robust matches 291\n",
            "\n",
            "\n"
          ],
          "name": "stdout"
        },
        {
          "output_type": "stream",
          "text": [
            "\r 57%|█████▋    | 34/60 [02:20<01:45,  4.06s/it]"
          ],
          "name": "stderr"
        },
        {
          "output_type": "stream",
          "text": [
            "\n",
            "Number of matches 47461\n",
            "Number of matches After Lowe's Ratio 405\n",
            "Number of Robust matches 229\n",
            "\n",
            "\n"
          ],
          "name": "stdout"
        },
        {
          "output_type": "stream",
          "text": [
            "\r 58%|█████▊    | 35/60 [02:27<02:03,  4.94s/it]"
          ],
          "name": "stderr"
        },
        {
          "output_type": "stream",
          "text": [
            "\n",
            "Number of matches 38123\n",
            "Number of matches After Lowe's Ratio 332\n",
            "Number of Robust matches 167\n",
            "\n",
            "\n"
          ],
          "name": "stdout"
        },
        {
          "output_type": "stream",
          "text": [
            "\r 60%|██████    | 36/60 [02:32<01:57,  4.88s/it]"
          ],
          "name": "stderr"
        },
        {
          "output_type": "stream",
          "text": [
            "\n",
            "Number of matches 31812\n",
            "Number of matches After Lowe's Ratio 298\n",
            "Number of Robust matches 136\n",
            "\n",
            "\n"
          ],
          "name": "stdout"
        },
        {
          "output_type": "stream",
          "text": [
            "\r 62%|██████▏   | 37/60 [02:36<01:49,  4.76s/it]"
          ],
          "name": "stderr"
        },
        {
          "output_type": "stream",
          "text": [
            "\n",
            "Number of matches 37496\n",
            "Number of matches After Lowe's Ratio 623\n",
            "Number of Robust matches 272\n",
            "\n",
            "\n"
          ],
          "name": "stdout"
        },
        {
          "output_type": "stream",
          "text": [
            "\r 63%|██████▎   | 38/60 [02:41<01:48,  4.94s/it]"
          ],
          "name": "stderr"
        },
        {
          "output_type": "stream",
          "text": [
            "\n",
            "Number of matches 40383\n",
            "Number of matches After Lowe's Ratio 625\n",
            "Number of Robust matches 228\n",
            "\n",
            "\n"
          ],
          "name": "stdout"
        },
        {
          "output_type": "stream",
          "text": [
            "\r 65%|██████▌   | 39/60 [02:47<01:49,  5.22s/it]"
          ],
          "name": "stderr"
        },
        {
          "output_type": "stream",
          "text": [
            "\n",
            "Number of matches 36317\n",
            "Number of matches After Lowe's Ratio 847\n",
            "Number of Robust matches 296\n",
            "\n",
            "\n"
          ],
          "name": "stdout"
        },
        {
          "output_type": "stream",
          "text": [
            "\r 67%|██████▋   | 40/60 [02:52<01:40,  5.05s/it]"
          ],
          "name": "stderr"
        },
        {
          "output_type": "stream",
          "text": [
            "\n",
            "Number of matches 35360\n",
            "Number of matches After Lowe's Ratio 1400\n",
            "Number of Robust matches 922\n",
            "\n",
            "\n"
          ],
          "name": "stdout"
        },
        {
          "output_type": "stream",
          "text": [
            "\r 68%|██████▊   | 41/60 [02:56<01:28,  4.68s/it]"
          ],
          "name": "stderr"
        },
        {
          "output_type": "stream",
          "text": [
            "\n",
            "Number of matches 24648\n",
            "Number of matches After Lowe's Ratio 1220\n",
            "Number of Robust matches 915\n",
            "\n",
            "\n"
          ],
          "name": "stdout"
        },
        {
          "output_type": "stream",
          "text": [
            "\r 70%|███████   | 42/60 [02:57<01:08,  3.79s/it]"
          ],
          "name": "stderr"
        },
        {
          "output_type": "stream",
          "text": [
            "\n",
            "Number of matches 959\n",
            "Number of matches After Lowe's Ratio 48\n",
            "Number of Robust matches 33\n",
            "\n",
            "\n"
          ],
          "name": "stdout"
        },
        {
          "output_type": "stream",
          "text": [
            "\r 72%|███████▏  | 43/60 [02:58<00:49,  2.89s/it]"
          ],
          "name": "stderr"
        },
        {
          "output_type": "stream",
          "text": [
            "\n",
            "Number of matches 20233\n",
            "Number of matches After Lowe's Ratio 106\n",
            "Number of Robust matches 70\n",
            "\n",
            "\n"
          ],
          "name": "stdout"
        },
        {
          "output_type": "stream",
          "text": [
            "\r 73%|███████▎  | 44/60 [03:01<00:44,  2.77s/it]"
          ],
          "name": "stderr"
        },
        {
          "output_type": "stream",
          "text": [
            "\n",
            "Number of matches 36008\n",
            "Number of matches After Lowe's Ratio 860\n",
            "Number of Robust matches 774\n",
            "\n",
            "\n"
          ],
          "name": "stdout"
        },
        {
          "output_type": "stream",
          "text": [
            "\r 75%|███████▌  | 45/60 [03:05<00:50,  3.38s/it]"
          ],
          "name": "stderr"
        },
        {
          "output_type": "stream",
          "text": [
            "\n",
            "Number of matches 42174\n",
            "Number of matches After Lowe's Ratio 1230\n",
            "Number of Robust matches 861\n",
            "\n",
            "\n"
          ],
          "name": "stdout"
        },
        {
          "output_type": "stream",
          "text": [
            "\r 77%|███████▋  | 46/60 [03:12<00:59,  4.28s/it]"
          ],
          "name": "stderr"
        },
        {
          "output_type": "stream",
          "text": [
            "\n",
            "Number of matches 37208\n",
            "Number of matches After Lowe's Ratio 673\n",
            "Number of Robust matches 303\n",
            "\n",
            "\n"
          ],
          "name": "stdout"
        },
        {
          "output_type": "stream",
          "text": [
            "\r 78%|███████▊  | 47/60 [03:16<00:56,  4.36s/it]"
          ],
          "name": "stderr"
        },
        {
          "output_type": "stream",
          "text": [
            "\n",
            "Number of matches 33717\n",
            "Number of matches After Lowe's Ratio 626\n",
            "Number of Robust matches 192\n",
            "\n",
            "\n"
          ],
          "name": "stdout"
        },
        {
          "output_type": "stream",
          "text": [
            "\r 80%|████████  | 48/60 [03:20<00:50,  4.23s/it]"
          ],
          "name": "stderr"
        },
        {
          "output_type": "stream",
          "text": [
            "\n",
            "Number of matches 31670\n",
            "Number of matches After Lowe's Ratio 452\n",
            "Number of Robust matches 193\n",
            "\n",
            "\n"
          ],
          "name": "stdout"
        },
        {
          "output_type": "stream",
          "text": [
            "\r 82%|████████▏ | 49/60 [03:24<00:44,  4.07s/it]"
          ],
          "name": "stderr"
        },
        {
          "output_type": "stream",
          "text": [
            "\n",
            "Number of matches 22741\n",
            "Number of matches After Lowe's Ratio 389\n",
            "Number of Robust matches 224\n",
            "\n",
            "\n"
          ],
          "name": "stdout"
        },
        {
          "output_type": "stream",
          "text": [
            "\r 83%|████████▎ | 50/60 [03:27<00:36,  3.69s/it]"
          ],
          "name": "stderr"
        },
        {
          "output_type": "stream",
          "text": [
            "\n",
            "Number of matches 39097\n",
            "Number of matches After Lowe's Ratio 486\n",
            "Number of Robust matches 240\n",
            "\n",
            "\n"
          ],
          "name": "stdout"
        },
        {
          "output_type": "stream",
          "text": [
            "\r 85%|████████▌ | 51/60 [03:31<00:34,  3.84s/it]"
          ],
          "name": "stderr"
        },
        {
          "output_type": "stream",
          "text": [
            "\n",
            "Number of matches 21927\n",
            "Number of matches After Lowe's Ratio 278\n",
            "Number of Robust matches 137\n",
            "\n",
            "\n"
          ],
          "name": "stdout"
        },
        {
          "output_type": "stream",
          "text": [
            "\r 87%|████████▋ | 52/60 [03:34<00:28,  3.61s/it]"
          ],
          "name": "stderr"
        },
        {
          "output_type": "stream",
          "text": [
            "\n",
            "Number of matches 34268\n",
            "Number of matches After Lowe's Ratio 191\n",
            "Number of Robust matches 75\n",
            "\n",
            "\n"
          ],
          "name": "stdout"
        },
        {
          "output_type": "stream",
          "text": [
            "\r 88%|████████▊ | 53/60 [03:39<00:27,  3.88s/it]"
          ],
          "name": "stderr"
        },
        {
          "output_type": "stream",
          "text": [
            "\n",
            "Number of matches 35120\n",
            "Number of matches After Lowe's Ratio 466\n",
            "Number of Robust matches 170\n",
            "\n",
            "\n"
          ],
          "name": "stdout"
        },
        {
          "output_type": "stream",
          "text": [
            "\r 90%|█████████ | 54/60 [03:44<00:25,  4.19s/it]"
          ],
          "name": "stderr"
        },
        {
          "output_type": "stream",
          "text": [
            "\n",
            "Number of matches 36437\n",
            "Number of matches After Lowe's Ratio 595\n",
            "Number of Robust matches 199\n",
            "\n",
            "\n"
          ],
          "name": "stdout"
        },
        {
          "output_type": "stream",
          "text": [
            "\r 92%|█████████▏| 55/60 [03:48<00:21,  4.24s/it]"
          ],
          "name": "stderr"
        },
        {
          "output_type": "stream",
          "text": [
            "\n",
            "Number of matches 34276\n",
            "Number of matches After Lowe's Ratio 629\n",
            "Number of Robust matches 235\n",
            "\n",
            "\n"
          ],
          "name": "stdout"
        },
        {
          "output_type": "stream",
          "text": [
            "\r 93%|█████████▎| 56/60 [03:52<00:16,  4.19s/it]"
          ],
          "name": "stderr"
        },
        {
          "output_type": "stream",
          "text": [
            "\n",
            "Number of matches 31206\n",
            "Number of matches After Lowe's Ratio 1194\n",
            "Number of Robust matches 806\n",
            "\n",
            "\n"
          ],
          "name": "stdout"
        },
        {
          "output_type": "stream",
          "text": [
            "\r 95%|█████████▌| 57/60 [03:55<00:11,  3.90s/it]"
          ],
          "name": "stderr"
        },
        {
          "output_type": "stream",
          "text": [
            "\n",
            "Number of matches 23731\n",
            "Number of matches After Lowe's Ratio 1312\n",
            "Number of Robust matches 1209\n",
            "\n",
            "\n"
          ],
          "name": "stdout"
        },
        {
          "output_type": "stream",
          "text": [
            "\r 97%|█████████▋| 58/60 [03:58<00:06,  3.47s/it]"
          ],
          "name": "stderr"
        },
        {
          "output_type": "stream",
          "text": [
            "\n",
            "Number of matches 9809\n",
            "Number of matches After Lowe's Ratio 975\n",
            "Number of Robust matches 911\n",
            "\n",
            "\n"
          ],
          "name": "stdout"
        },
        {
          "output_type": "stream",
          "text": [
            "\r 98%|█████████▊| 59/60 [03:58<00:02,  2.67s/it]"
          ],
          "name": "stderr"
        },
        {
          "output_type": "stream",
          "text": [
            "\n",
            "Number of matches 17434\n",
            "Number of matches After Lowe's Ratio 864\n",
            "Number of Robust matches 725\n",
            "\n",
            "\n"
          ],
          "name": "stdout"
        }
      ]
    },
    {
      "cell_type": "code",
      "metadata": {
        "colab": {
          "base_uri": "https://localhost:8080/"
        },
        "id": "V3TL3gJK-hdB",
        "outputId": "c337dcd4-c0db-48c5-9b5f-70fd3bf40855"
      },
      "source": [
        "import h5py as h5\n",
        "f=h5.File('drive/MyDrive/H_left_brisk_40.h5','w')\n",
        "t0=time.time()\n",
        "f.create_dataset('data',data=H_left_brisk)\n",
        "f.close()\n",
        "print('HDF5  w/o comp.:',time.time()-t0,'[s] ... size',os.path.getsize('drive/MyDrive/H_left_brisk_40.h5')/1.e6,'MB')"
      ],
      "execution_count": 76,
      "outputs": [
        {
          "output_type": "stream",
          "text": [
            "HDF5  w/o comp.: 0.04502677917480469 [s] ... size 0.006368 MB\n"
          ],
          "name": "stdout"
        }
      ]
    },
    {
      "cell_type": "code",
      "metadata": {
        "colab": {
          "base_uri": "https://localhost:8080/"
        },
        "id": "Jle8IEe8-hW1",
        "outputId": "9ceb3f53-b566-40e9-c5e8-264e93d04825"
      },
      "source": [
        "import h5py as h5\n",
        "f=h5.File('drive/MyDrive/H_right_brisk_40.h5','w')\n",
        "t0=time.time()\n",
        "f.create_dataset('data',data=H_right_brisk)\n",
        "f.close()\n",
        "print('HDF5  w/o comp.:',time.time()-t0,'[s] ... size',os.path.getsize('drive/MyDrive/H_right_brisk_40.h5')/1.e6,'MB')"
      ],
      "execution_count": 77,
      "outputs": [
        {
          "output_type": "stream",
          "text": [
            "HDF5  w/o comp.: 0.0031905174255371094 [s] ... size 0.006296 MB\n"
          ],
          "name": "stdout"
        }
      ]
    },
    {
      "cell_type": "code",
      "metadata": {
        "id": "ih0RiUmt-hPW"
      },
      "source": [
        "del H_left_brisk, H_right_brisk,keypoints_all_left_brisk, keypoints_all_right_brisk, descriptors_all_left_brisk, descriptors_all_right_brisk, points_all_left_brisk, points_all_right_brisk"
      ],
      "execution_count": 78,
      "outputs": []
    },
    {
      "cell_type": "code",
      "metadata": {
        "id": "-NEa-2vG--_1"
      },
      "source": [
        ""
      ],
      "execution_count": null,
      "outputs": []
    },
    {
      "cell_type": "code",
      "metadata": {
        "id": "AwZkYP2X4MZY"
      },
      "source": [
        "import pickle\n",
        "Fdb = open('all_feat_sift_left.dat', 'rb')\n",
        "kpts_all = pickle.load(Fdb)\n",
        "Fdb.close()\n",
        "\n",
        "keypoints_all_left_sift = []\n",
        "descriptors_all_left_sift = []\n",
        "\n",
        "\n",
        "\n",
        "for j,kpt_each in enumerate(kpts_all):\n",
        "  keypoints_each = []\n",
        "  descrip_each = []\n",
        "  for k,kpt_img in enumerate(kpt_each):\n",
        "    temp_feature = cv2.KeyPoint(x=kpt_img[0][0],y=kpt_img[0][1],_size=kpt_img[1], _angle=kpt_img[2], \n",
        "                            _response=kpt_img[3], _octave=kpt_img[4], _class_id=kpt_img[5]) \n",
        "    temp_descriptor = kpt_img[6]\n",
        "    keypoints_each.append(temp_feature)\n",
        "    descrip_each.append(temp_descriptor)\n",
        "  points_all_left_sift.append(np.asarray([[p.pt[0], p.pt[1]] for p in keypoints_each]))\n",
        "  keypoints_all_left_sift.append(keypoints_each)\n",
        "  descriptors_all_left_sift.append(descrip_each)"
      ],
      "execution_count": 79,
      "outputs": []
    },
    {
      "cell_type": "code",
      "metadata": {
        "id": "j5WLk00I4MXQ"
      },
      "source": [
        "import pickle\n",
        "Fdb = open('all_feat_sift_right.dat', 'rb')\n",
        "kpts_all = pickle.load(Fdb)\n",
        "Fdb.close()\n",
        "\n",
        "keypoints_all_right_sift = []\n",
        "descriptors_all_right_sift = []\n",
        "\n",
        "for j,kpt_each in enumerate(kpts_all):\n",
        "  keypoints_each = []\n",
        "  descrip_each = []\n",
        "  for k,kpt_img in enumerate(kpt_each):\n",
        "    temp_feature = cv2.KeyPoint(x=kpt_img[0][0],y=kpt_img[0][1],_size=kpt_img[1], _angle=kpt_img[2], \n",
        "                            _response=kpt_img[3], _octave=kpt_img[4], _class_id=kpt_img[5]) \n",
        "    temp_descriptor = kpt_img[6]\n",
        "    keypoints_each.append(temp_feature)\n",
        "    descrip_each.append(temp_descriptor)\n",
        "  points_all_right_sift.append(np.asarray([[p.pt[0], p.pt[1]] for p in keypoints_each]))\n",
        "  keypoints_all_right_sift.append(keypoints_each)\n",
        "  descriptors_all_right_sift.append(descrip_each)"
      ],
      "execution_count": 80,
      "outputs": []
    },
    {
      "cell_type": "code",
      "metadata": {
        "colab": {
          "base_uri": "https://localhost:8080/"
        },
        "id": "yrk9Lilv4MUV",
        "outputId": "4bdf9c09-c3c0-48bd-b3bd-90d9ace3e8a6"
      },
      "source": [
        "H_left_sift = []\n",
        "H_right_sift = []\n",
        "\n",
        "num_matches_sift = []\n",
        "num_good_matches_sift = []\n",
        "\n",
        "for j in tqdm(range(len(left_files_path))):\n",
        "  if j==len(left_files_path)-1:\n",
        "    break\n",
        "\n",
        "  H_a,matches,gd_matches = get_Hmatrix(images_left_bgr[j:j+2][::-1],keypoints_all_left_sift[j:j+2][::-1],points_all_left_sift[j:j+2][::-1],descriptors_all_left_sift[j:j+2][::-1],0.75)\n",
        "  H_left_sift.append(H_a)\n",
        "  num_matches_sift.append(matches)\n",
        "  num_good_matches_sift.append(gd_matches)\n",
        "\n",
        "for j in tqdm(range(len(right_files_path))):\n",
        "  if j==len(right_files_path)-1:\n",
        "    break\n",
        "\n",
        "  H_a,matches,gd_matches = get_Hmatrix(images_right_bgr[j:j+2][::-1],keypoints_all_right_sift[j:j+2][::-1],points_all_right_sift[j:j+2][::-1],descriptors_all_right_sift[j:j+2][::-1],0.75)\n",
        "  H_right_sift.append(H_a)\n",
        "  num_matches_sift.append(matches)\n",
        "  num_good_matches_sift.append(gd_matches)"
      ],
      "execution_count": 81,
      "outputs": [
        {
          "output_type": "stream",
          "text": [
            "  2%|▏         | 1/61 [00:14<14:04, 14.07s/it]"
          ],
          "name": "stderr"
        },
        {
          "output_type": "stream",
          "text": [
            "\n",
            "Number of matches 29526\n",
            "Number of matches After Lowe's Ratio 2594\n",
            "Number of Robust matches 1038\n",
            "\n",
            "\n"
          ],
          "name": "stdout"
        },
        {
          "output_type": "stream",
          "text": [
            "\r  3%|▎         | 2/61 [00:27<13:39, 13.88s/it]"
          ],
          "name": "stderr"
        },
        {
          "output_type": "stream",
          "text": [
            "\n",
            "Number of matches 26628\n",
            "Number of matches After Lowe's Ratio 2609\n",
            "Number of Robust matches 946\n",
            "\n",
            "\n"
          ],
          "name": "stdout"
        },
        {
          "output_type": "stream",
          "text": [
            "\r  5%|▍         | 3/61 [00:32<10:55, 11.30s/it]"
          ],
          "name": "stderr"
        },
        {
          "output_type": "stream",
          "text": [
            "\n",
            "Number of matches 26356\n",
            "Number of matches After Lowe's Ratio 2211\n",
            "Number of Robust matches 775\n",
            "\n",
            "\n"
          ],
          "name": "stdout"
        },
        {
          "output_type": "stream",
          "text": [
            "\r  7%|▋         | 4/61 [00:38<09:01,  9.51s/it]"
          ],
          "name": "stderr"
        },
        {
          "output_type": "stream",
          "text": [
            "\n",
            "Number of matches 29884\n",
            "Number of matches After Lowe's Ratio 2537\n",
            "Number of Robust matches 1502\n",
            "\n",
            "\n"
          ],
          "name": "stdout"
        },
        {
          "output_type": "stream",
          "text": [
            "\r  8%|▊         | 5/61 [00:45<08:15,  8.84s/it]"
          ],
          "name": "stderr"
        },
        {
          "output_type": "stream",
          "text": [
            "\n",
            "Number of matches 44094\n",
            "Number of matches After Lowe's Ratio 2345\n",
            "Number of Robust matches 1345\n",
            "\n",
            "\n"
          ],
          "name": "stdout"
        },
        {
          "output_type": "stream",
          "text": [
            "\r 10%|▉         | 6/61 [00:56<08:44,  9.53s/it]"
          ],
          "name": "stderr"
        },
        {
          "output_type": "stream",
          "text": [
            "\n",
            "Number of matches 44100\n",
            "Number of matches After Lowe's Ratio 8773\n",
            "Number of Robust matches 7608\n",
            "\n",
            "\n"
          ],
          "name": "stdout"
        },
        {
          "output_type": "stream",
          "text": [
            "\r 11%|█▏        | 7/61 [01:07<08:53,  9.89s/it]"
          ],
          "name": "stderr"
        },
        {
          "output_type": "stream",
          "text": [
            "\n",
            "Number of matches 38884\n",
            "Number of matches After Lowe's Ratio 8394\n",
            "Number of Robust matches 6770\n",
            "\n",
            "\n"
          ],
          "name": "stdout"
        },
        {
          "output_type": "stream",
          "text": [
            "\r 13%|█▎        | 8/61 [01:15<08:18,  9.41s/it]"
          ],
          "name": "stderr"
        },
        {
          "output_type": "stream",
          "text": [
            "\n",
            "Number of matches 29764\n",
            "Number of matches After Lowe's Ratio 4418\n",
            "Number of Robust matches 3305\n",
            "\n",
            "\n"
          ],
          "name": "stdout"
        },
        {
          "output_type": "stream",
          "text": [
            "\r 15%|█▍        | 9/61 [01:21<07:21,  8.49s/it]"
          ],
          "name": "stderr"
        },
        {
          "output_type": "stream",
          "text": [
            "\n",
            "Number of matches 26720\n",
            "Number of matches After Lowe's Ratio 2683\n",
            "Number of Robust matches 1666\n",
            "\n",
            "\n"
          ],
          "name": "stdout"
        },
        {
          "output_type": "stream",
          "text": [
            "\r 16%|█▋        | 10/61 [01:27<06:25,  7.56s/it]"
          ],
          "name": "stderr"
        },
        {
          "output_type": "stream",
          "text": [
            "\n",
            "Number of matches 29551\n",
            "Number of matches After Lowe's Ratio 2456\n",
            "Number of Robust matches 1008\n",
            "\n",
            "\n"
          ],
          "name": "stdout"
        },
        {
          "output_type": "stream",
          "text": [
            "\r 18%|█▊        | 11/61 [01:33<05:55,  7.10s/it]"
          ],
          "name": "stderr"
        },
        {
          "output_type": "stream",
          "text": [
            "\n",
            "Number of matches 31699\n",
            "Number of matches After Lowe's Ratio 2639\n",
            "Number of Robust matches 928\n",
            "\n",
            "\n"
          ],
          "name": "stdout"
        },
        {
          "output_type": "stream",
          "text": [
            "\r 20%|█▉        | 12/61 [01:40<05:50,  7.15s/it]"
          ],
          "name": "stderr"
        },
        {
          "output_type": "stream",
          "text": [
            "\n",
            "Number of matches 35577\n",
            "Number of matches After Lowe's Ratio 3299\n",
            "Number of Robust matches 985\n",
            "\n",
            "\n"
          ],
          "name": "stdout"
        },
        {
          "output_type": "stream",
          "text": [
            "\r 21%|██▏       | 13/61 [01:49<06:03,  7.57s/it]"
          ],
          "name": "stderr"
        },
        {
          "output_type": "stream",
          "text": [
            "\n",
            "Number of matches 44381\n",
            "Number of matches After Lowe's Ratio 1704\n",
            "Number of Robust matches 522\n",
            "\n",
            "\n"
          ],
          "name": "stdout"
        },
        {
          "output_type": "stream",
          "text": [
            "\r 23%|██▎       | 14/61 [02:02<07:18,  9.33s/it]"
          ],
          "name": "stderr"
        },
        {
          "output_type": "stream",
          "text": [
            "\n",
            "Number of matches 55562\n",
            "Number of matches After Lowe's Ratio 1872\n",
            "Number of Robust matches 1171\n",
            "\n",
            "\n"
          ],
          "name": "stdout"
        },
        {
          "output_type": "stream",
          "text": [
            "\r 25%|██▍       | 15/61 [02:16<08:17, 10.83s/it]"
          ],
          "name": "stderr"
        },
        {
          "output_type": "stream",
          "text": [
            "\n",
            "Number of matches 46637\n",
            "Number of matches After Lowe's Ratio 2700\n",
            "Number of Robust matches 1620\n",
            "\n",
            "\n"
          ],
          "name": "stdout"
        },
        {
          "output_type": "stream",
          "text": [
            "\r 26%|██▌       | 16/61 [02:28<08:12, 10.95s/it]"
          ],
          "name": "stderr"
        },
        {
          "output_type": "stream",
          "text": [
            "\n",
            "Number of matches 37278\n",
            "Number of matches After Lowe's Ratio 4433\n",
            "Number of Robust matches 1804\n",
            "\n",
            "\n"
          ],
          "name": "stdout"
        },
        {
          "output_type": "stream",
          "text": [
            "\r 28%|██▊       | 17/61 [02:36<07:22, 10.06s/it]"
          ],
          "name": "stderr"
        },
        {
          "output_type": "stream",
          "text": [
            "\n",
            "Number of matches 31944\n",
            "Number of matches After Lowe's Ratio 3461\n",
            "Number of Robust matches 1353\n",
            "\n",
            "\n"
          ],
          "name": "stdout"
        },
        {
          "output_type": "stream",
          "text": [
            "\r 30%|██▉       | 18/61 [02:42<06:27,  9.01s/it]"
          ],
          "name": "stderr"
        },
        {
          "output_type": "stream",
          "text": [
            "\n",
            "Number of matches 29639\n",
            "Number of matches After Lowe's Ratio 2301\n",
            "Number of Robust matches 739\n",
            "\n",
            "\n"
          ],
          "name": "stdout"
        },
        {
          "output_type": "stream",
          "text": [
            "\r 31%|███       | 19/61 [02:48<05:43,  8.19s/it]"
          ],
          "name": "stderr"
        },
        {
          "output_type": "stream",
          "text": [
            "\n",
            "Number of matches 27400\n",
            "Number of matches After Lowe's Ratio 1883\n",
            "Number of Robust matches 688\n",
            "\n",
            "\n"
          ],
          "name": "stdout"
        },
        {
          "output_type": "stream",
          "text": [
            "\r 33%|███▎      | 20/61 [02:54<05:03,  7.41s/it]"
          ],
          "name": "stderr"
        },
        {
          "output_type": "stream",
          "text": [
            "\n",
            "Number of matches 34720\n",
            "Number of matches After Lowe's Ratio 1556\n",
            "Number of Robust matches 723\n",
            "\n",
            "\n"
          ],
          "name": "stdout"
        },
        {
          "output_type": "stream",
          "text": [
            "\r 34%|███▍      | 21/61 [03:03<05:15,  7.90s/it]"
          ],
          "name": "stderr"
        },
        {
          "output_type": "stream",
          "text": [
            "\n",
            "Number of matches 40195\n",
            "Number of matches After Lowe's Ratio 4281\n",
            "Number of Robust matches 3317\n",
            "\n",
            "\n"
          ],
          "name": "stdout"
        },
        {
          "output_type": "stream",
          "text": [
            "\r 36%|███▌      | 22/61 [03:17<06:16,  9.65s/it]"
          ],
          "name": "stderr"
        },
        {
          "output_type": "stream",
          "text": [
            "\n",
            "Number of matches 40871\n",
            "Number of matches After Lowe's Ratio 6655\n",
            "Number of Robust matches 5654\n",
            "\n",
            "\n"
          ],
          "name": "stdout"
        },
        {
          "output_type": "stream",
          "text": [
            "\r 38%|███▊      | 23/61 [03:27<06:07,  9.68s/it]"
          ],
          "name": "stderr"
        },
        {
          "output_type": "stream",
          "text": [
            "\n",
            "Number of matches 34001\n",
            "Number of matches After Lowe's Ratio 4885\n",
            "Number of Robust matches 4466\n",
            "\n",
            "\n"
          ],
          "name": "stdout"
        },
        {
          "output_type": "stream",
          "text": [
            "\r 39%|███▉      | 24/61 [03:33<05:25,  8.80s/it]"
          ],
          "name": "stderr"
        },
        {
          "output_type": "stream",
          "text": [
            "\n",
            "Number of matches 26288\n",
            "Number of matches After Lowe's Ratio 2065\n",
            "Number of Robust matches 949\n",
            "\n",
            "\n"
          ],
          "name": "stdout"
        },
        {
          "output_type": "stream",
          "text": [
            "\r 41%|████      | 25/61 [03:38<04:37,  7.70s/it]"
          ],
          "name": "stderr"
        },
        {
          "output_type": "stream",
          "text": [
            "\n",
            "Number of matches 27440\n",
            "Number of matches After Lowe's Ratio 1726\n",
            "Number of Robust matches 754\n",
            "\n",
            "\n"
          ],
          "name": "stdout"
        },
        {
          "output_type": "stream",
          "text": [
            "\r 43%|████▎     | 26/61 [03:44<04:10,  7.16s/it]"
          ],
          "name": "stderr"
        },
        {
          "output_type": "stream",
          "text": [
            "\n",
            "Number of matches 29435\n",
            "Number of matches After Lowe's Ratio 1228\n",
            "Number of Robust matches 399\n",
            "\n",
            "\n"
          ],
          "name": "stdout"
        },
        {
          "output_type": "stream",
          "text": [
            "\r 44%|████▍     | 27/61 [03:52<04:05,  7.21s/it]"
          ],
          "name": "stderr"
        },
        {
          "output_type": "stream",
          "text": [
            "\n",
            "Number of matches 35401\n",
            "Number of matches After Lowe's Ratio 2724\n",
            "Number of Robust matches 884\n",
            "\n",
            "\n"
          ],
          "name": "stdout"
        },
        {
          "output_type": "stream",
          "text": [
            "\r 46%|████▌     | 28/61 [04:05<04:53,  8.90s/it]"
          ],
          "name": "stderr"
        },
        {
          "output_type": "stream",
          "text": [
            "\n",
            "Number of matches 47665\n",
            "Number of matches After Lowe's Ratio 2257\n",
            "Number of Robust matches 767\n",
            "\n",
            "\n"
          ],
          "name": "stdout"
        },
        {
          "output_type": "stream",
          "text": [
            "\r 48%|████▊     | 29/61 [04:22<06:07, 11.47s/it]"
          ],
          "name": "stderr"
        },
        {
          "output_type": "stream",
          "text": [
            "\n",
            "Number of matches 61201\n",
            "Number of matches After Lowe's Ratio 1706\n",
            "Number of Robust matches 693\n",
            "\n",
            "\n"
          ],
          "name": "stdout"
        },
        {
          "output_type": "stream",
          "text": [
            "\r 49%|████▉     | 30/61 [04:41<07:09, 13.85s/it]"
          ],
          "name": "stderr"
        },
        {
          "output_type": "stream",
          "text": [
            "\n",
            "Number of matches 40780\n",
            "Number of matches After Lowe's Ratio 2110\n",
            "Number of Robust matches 1133\n",
            "\n",
            "\n"
          ],
          "name": "stdout"
        },
        {
          "output_type": "stream",
          "text": [
            "\r 51%|█████     | 31/61 [04:51<06:14, 12.50s/it]"
          ],
          "name": "stderr"
        },
        {
          "output_type": "stream",
          "text": [
            "\n",
            "Number of matches 35221\n",
            "Number of matches After Lowe's Ratio 2422\n",
            "Number of Robust matches 851\n",
            "\n",
            "\n"
          ],
          "name": "stdout"
        },
        {
          "output_type": "stream",
          "text": [
            "\r 52%|█████▏    | 32/61 [04:58<05:19, 11.00s/it]"
          ],
          "name": "stderr"
        },
        {
          "output_type": "stream",
          "text": [
            "\n",
            "Number of matches 31090\n",
            "Number of matches After Lowe's Ratio 3090\n",
            "Number of Robust matches 958\n",
            "\n",
            "\n"
          ],
          "name": "stdout"
        },
        {
          "output_type": "stream",
          "text": [
            "\r 54%|█████▍    | 33/61 [05:05<04:30,  9.66s/it]"
          ],
          "name": "stderr"
        },
        {
          "output_type": "stream",
          "text": [
            "\n",
            "Number of matches 27466\n",
            "Number of matches After Lowe's Ratio 2355\n",
            "Number of Robust matches 762\n",
            "\n",
            "\n"
          ],
          "name": "stdout"
        },
        {
          "output_type": "stream",
          "text": [
            "\r 56%|█████▌    | 34/61 [05:10<03:46,  8.40s/it]"
          ],
          "name": "stderr"
        },
        {
          "output_type": "stream",
          "text": [
            "\n",
            "Number of matches 27694\n",
            "Number of matches After Lowe's Ratio 2168\n",
            "Number of Robust matches 884\n",
            "\n",
            "\n"
          ],
          "name": "stdout"
        },
        {
          "output_type": "stream",
          "text": [
            "\r 57%|█████▋    | 35/61 [05:17<03:28,  8.01s/it]"
          ],
          "name": "stderr"
        },
        {
          "output_type": "stream",
          "text": [
            "\n",
            "Number of matches 30835\n",
            "Number of matches After Lowe's Ratio 2175\n",
            "Number of Robust matches 1002\n",
            "\n",
            "\n"
          ],
          "name": "stdout"
        },
        {
          "output_type": "stream",
          "text": [
            "\r 59%|█████▉    | 36/61 [05:26<03:24,  8.19s/it]"
          ],
          "name": "stderr"
        },
        {
          "output_type": "stream",
          "text": [
            "\n",
            "Number of matches 43447\n",
            "Number of matches After Lowe's Ratio 3373\n",
            "Number of Robust matches 2569\n",
            "\n",
            "\n"
          ],
          "name": "stdout"
        },
        {
          "output_type": "stream",
          "text": [
            "\r 61%|██████    | 37/61 [05:39<03:52,  9.69s/it]"
          ],
          "name": "stderr"
        },
        {
          "output_type": "stream",
          "text": [
            "\n",
            "Number of matches 44085\n",
            "Number of matches After Lowe's Ratio 5906\n",
            "Number of Robust matches 3863\n",
            "\n",
            "\n"
          ],
          "name": "stdout"
        },
        {
          "output_type": "stream",
          "text": [
            "\r 62%|██████▏   | 38/61 [05:53<04:11, 10.93s/it]"
          ],
          "name": "stderr"
        },
        {
          "output_type": "stream",
          "text": [
            "\n",
            "Number of matches 44435\n",
            "Number of matches After Lowe's Ratio 6295\n",
            "Number of Robust matches 4891\n",
            "\n",
            "\n"
          ],
          "name": "stdout"
        },
        {
          "output_type": "stream",
          "text": [
            "\r 64%|██████▍   | 39/61 [06:05<04:07, 11.27s/it]"
          ],
          "name": "stderr"
        },
        {
          "output_type": "stream",
          "text": [
            "\n",
            "Number of matches 36542\n",
            "Number of matches After Lowe's Ratio 4393\n",
            "Number of Robust matches 3190\n",
            "\n",
            "\n"
          ],
          "name": "stdout"
        },
        {
          "output_type": "stream",
          "text": [
            "\r 66%|██████▌   | 40/61 [06:13<03:35, 10.28s/it]"
          ],
          "name": "stderr"
        },
        {
          "output_type": "stream",
          "text": [
            "\n",
            "Number of matches 28727\n",
            "Number of matches After Lowe's Ratio 2468\n",
            "Number of Robust matches 1647\n",
            "\n",
            "\n"
          ],
          "name": "stdout"
        },
        {
          "output_type": "stream",
          "text": [
            "\r 67%|██████▋   | 41/61 [06:19<02:59,  8.97s/it]"
          ],
          "name": "stderr"
        },
        {
          "output_type": "stream",
          "text": [
            "\n",
            "Number of matches 27476\n",
            "Number of matches After Lowe's Ratio 2220\n",
            "Number of Robust matches 954\n",
            "\n",
            "\n"
          ],
          "name": "stdout"
        },
        {
          "output_type": "stream",
          "text": [
            "\r 69%|██████▉   | 42/61 [06:25<02:31,  7.98s/it]"
          ],
          "name": "stderr"
        },
        {
          "output_type": "stream",
          "text": [
            "\n",
            "Number of matches 28505\n",
            "Number of matches After Lowe's Ratio 2477\n",
            "Number of Robust matches 604\n",
            "\n",
            "\n"
          ],
          "name": "stdout"
        },
        {
          "output_type": "stream",
          "text": [
            "\r 70%|███████   | 43/61 [06:33<02:23,  8.00s/it]"
          ],
          "name": "stderr"
        },
        {
          "output_type": "stream",
          "text": [
            "\n",
            "Number of matches 37372\n",
            "Number of matches After Lowe's Ratio 2143\n",
            "Number of Robust matches 555\n",
            "\n",
            "\n"
          ],
          "name": "stdout"
        },
        {
          "output_type": "stream",
          "text": [
            "\r 72%|███████▏  | 44/61 [06:46<02:45,  9.73s/it]"
          ],
          "name": "stderr"
        },
        {
          "output_type": "stream",
          "text": [
            "\n",
            "Number of matches 59323\n",
            "Number of matches After Lowe's Ratio 1209\n",
            "Number of Robust matches 587\n",
            "\n",
            "\n"
          ],
          "name": "stdout"
        },
        {
          "output_type": "stream",
          "text": [
            "\r 74%|███████▍  | 45/61 [07:03<03:10, 11.89s/it]"
          ],
          "name": "stderr"
        },
        {
          "output_type": "stream",
          "text": [
            "\n",
            "Number of matches 61823\n",
            "Number of matches After Lowe's Ratio 1531\n",
            "Number of Robust matches 871\n",
            "\n",
            "\n"
          ],
          "name": "stdout"
        },
        {
          "output_type": "stream",
          "text": [
            "\r 75%|███████▌  | 46/61 [07:23<03:34, 14.31s/it]"
          ],
          "name": "stderr"
        },
        {
          "output_type": "stream",
          "text": [
            "\n",
            "Number of matches 52786\n",
            "Number of matches After Lowe's Ratio 1221\n",
            "Number of Robust matches 636\n",
            "\n",
            "\n"
          ],
          "name": "stdout"
        },
        {
          "output_type": "stream",
          "text": [
            "\r 77%|███████▋  | 47/61 [07:36<03:15, 13.95s/it]"
          ],
          "name": "stderr"
        },
        {
          "output_type": "stream",
          "text": [
            "\n",
            "Number of matches 37747\n",
            "Number of matches After Lowe's Ratio 1497\n",
            "Number of Robust matches 878\n",
            "\n",
            "\n"
          ],
          "name": "stdout"
        },
        {
          "output_type": "stream",
          "text": [
            "\r 79%|███████▊  | 48/61 [07:45<02:39, 12.28s/it]"
          ],
          "name": "stderr"
        },
        {
          "output_type": "stream",
          "text": [
            "\n",
            "Number of matches 32260\n",
            "Number of matches After Lowe's Ratio 2608\n",
            "Number of Robust matches 1060\n",
            "\n",
            "\n"
          ],
          "name": "stdout"
        },
        {
          "output_type": "stream",
          "text": [
            "\r 80%|████████  | 49/61 [07:52<02:09, 10.79s/it]"
          ],
          "name": "stderr"
        },
        {
          "output_type": "stream",
          "text": [
            "\n",
            "Number of matches 31260\n",
            "Number of matches After Lowe's Ratio 2547\n",
            "Number of Robust matches 855\n",
            "\n",
            "\n"
          ],
          "name": "stdout"
        },
        {
          "output_type": "stream",
          "text": [
            "\r 82%|████████▏ | 50/61 [07:59<01:45,  9.55s/it]"
          ],
          "name": "stderr"
        },
        {
          "output_type": "stream",
          "text": [
            "\n",
            "Number of matches 28785\n",
            "Number of matches After Lowe's Ratio 2168\n",
            "Number of Robust matches 1287\n",
            "\n",
            "\n"
          ],
          "name": "stdout"
        },
        {
          "output_type": "stream",
          "text": [
            "\r 84%|████████▎ | 51/61 [08:06<01:29,  8.99s/it]"
          ],
          "name": "stderr"
        },
        {
          "output_type": "stream",
          "text": [
            "\n",
            "Number of matches 38218\n",
            "Number of matches After Lowe's Ratio 2978\n",
            "Number of Robust matches 2366\n",
            "\n",
            "\n"
          ],
          "name": "stdout"
        },
        {
          "output_type": "stream",
          "text": [
            "\r 85%|████████▌ | 52/61 [08:20<01:33, 10.40s/it]"
          ],
          "name": "stderr"
        },
        {
          "output_type": "stream",
          "text": [
            "\n",
            "Number of matches 44569\n",
            "Number of matches After Lowe's Ratio 4489\n",
            "Number of Robust matches 3662\n",
            "\n",
            "\n"
          ],
          "name": "stdout"
        },
        {
          "output_type": "stream",
          "text": [
            "\r 87%|████████▋ | 53/61 [08:33<01:29, 11.17s/it]"
          ],
          "name": "stderr"
        },
        {
          "output_type": "stream",
          "text": [
            "\n",
            "Number of matches 43754\n",
            "Number of matches After Lowe's Ratio 6531\n",
            "Number of Robust matches 5442\n",
            "\n",
            "\n"
          ],
          "name": "stdout"
        },
        {
          "output_type": "stream",
          "text": [
            "\r 89%|████████▊ | 54/61 [08:46<01:21, 11.62s/it]"
          ],
          "name": "stderr"
        },
        {
          "output_type": "stream",
          "text": [
            "\n",
            "Number of matches 37223\n",
            "Number of matches After Lowe's Ratio 6432\n",
            "Number of Robust matches 4969\n",
            "\n",
            "\n"
          ],
          "name": "stdout"
        },
        {
          "output_type": "stream",
          "text": [
            "\r 90%|█████████ | 55/61 [08:54<01:03, 10.60s/it]"
          ],
          "name": "stderr"
        },
        {
          "output_type": "stream",
          "text": [
            "\n",
            "Number of matches 33040\n",
            "Number of matches After Lowe's Ratio 5045\n",
            "Number of Robust matches 3916\n",
            "\n",
            "\n"
          ],
          "name": "stdout"
        },
        {
          "output_type": "stream",
          "text": [
            "\r 92%|█████████▏| 56/61 [09:02<00:48,  9.71s/it]"
          ],
          "name": "stderr"
        },
        {
          "output_type": "stream",
          "text": [
            "\n",
            "Number of matches 30137\n",
            "Number of matches After Lowe's Ratio 2905\n",
            "Number of Robust matches 2393\n",
            "\n",
            "\n"
          ],
          "name": "stdout"
        },
        {
          "output_type": "stream",
          "text": [
            "\r 93%|█████████▎| 57/61 [09:09<00:35,  8.93s/it]"
          ],
          "name": "stderr"
        },
        {
          "output_type": "stream",
          "text": [
            "\n",
            "Number of matches 35839\n",
            "Number of matches After Lowe's Ratio 2285\n",
            "Number of Robust matches 1252\n",
            "\n",
            "\n"
          ],
          "name": "stdout"
        },
        {
          "output_type": "stream",
          "text": [
            "\r 95%|█████████▌| 58/61 [09:18<00:27,  9.06s/it]"
          ],
          "name": "stderr"
        },
        {
          "output_type": "stream",
          "text": [
            "\n",
            "Number of matches 42161\n",
            "Number of matches After Lowe's Ratio 2376\n",
            "Number of Robust matches 997\n",
            "\n",
            "\n"
          ],
          "name": "stdout"
        },
        {
          "output_type": "stream",
          "text": [
            "\r 97%|█████████▋| 59/61 [09:32<00:21, 10.51s/it]"
          ],
          "name": "stderr"
        },
        {
          "output_type": "stream",
          "text": [
            "\n",
            "Number of matches 41341\n",
            "Number of matches After Lowe's Ratio 2240\n",
            "Number of Robust matches 1034\n",
            "\n",
            "\n"
          ],
          "name": "stdout"
        },
        {
          "output_type": "stream",
          "text": [
            "  0%|          | 0/60 [00:00<?, ?it/s]"
          ],
          "name": "stderr"
        },
        {
          "output_type": "stream",
          "text": [
            "\n",
            "Number of matches 56174\n",
            "Number of matches After Lowe's Ratio 1863\n",
            "Number of Robust matches 1122\n",
            "\n",
            "\n"
          ],
          "name": "stdout"
        },
        {
          "output_type": "stream",
          "text": [
            "\r  2%|▏         | 1/60 [00:09<09:05,  9.25s/it]"
          ],
          "name": "stderr"
        },
        {
          "output_type": "stream",
          "text": [
            "\n",
            "Number of matches 38696\n",
            "Number of matches After Lowe's Ratio 3217\n",
            "Number of Robust matches 1217\n",
            "\n",
            "\n"
          ],
          "name": "stdout"
        },
        {
          "output_type": "stream",
          "text": [
            "\r  3%|▎         | 2/60 [00:21<09:42, 10.04s/it]"
          ],
          "name": "stderr"
        },
        {
          "output_type": "stream",
          "text": [
            "\n",
            "Number of matches 49567\n",
            "Number of matches After Lowe's Ratio 2819\n",
            "Number of Robust matches 1093\n",
            "\n",
            "\n"
          ],
          "name": "stdout"
        },
        {
          "output_type": "stream",
          "text": [
            "\r  5%|▌         | 3/60 [00:34<10:35, 11.14s/it]"
          ],
          "name": "stderr"
        },
        {
          "output_type": "stream",
          "text": [
            "\n",
            "Number of matches 46179\n",
            "Number of matches After Lowe's Ratio 2080\n",
            "Number of Robust matches 711\n",
            "\n",
            "\n"
          ],
          "name": "stdout"
        },
        {
          "output_type": "stream",
          "text": [
            "\r  7%|▋         | 4/60 [00:46<10:35, 11.35s/it]"
          ],
          "name": "stderr"
        },
        {
          "output_type": "stream",
          "text": [
            "\n",
            "Number of matches 33471\n",
            "Number of matches After Lowe's Ratio 2311\n",
            "Number of Robust matches 946\n",
            "\n",
            "\n"
          ],
          "name": "stdout"
        },
        {
          "output_type": "stream",
          "text": [
            "\r  8%|▊         | 5/60 [00:54<09:28, 10.34s/it]"
          ],
          "name": "stderr"
        },
        {
          "output_type": "stream",
          "text": [
            "\n",
            "Number of matches 28528\n",
            "Number of matches After Lowe's Ratio 2696\n",
            "Number of Robust matches 979\n",
            "\n",
            "\n"
          ],
          "name": "stdout"
        },
        {
          "output_type": "stream",
          "text": [
            "\r 10%|█         | 6/60 [01:00<08:00,  8.89s/it]"
          ],
          "name": "stderr"
        },
        {
          "output_type": "stream",
          "text": [
            "\n",
            "Number of matches 27347\n",
            "Number of matches After Lowe's Ratio 2337\n",
            "Number of Robust matches 1071\n",
            "\n",
            "\n"
          ],
          "name": "stdout"
        },
        {
          "output_type": "stream",
          "text": [
            "\r 12%|█▏        | 7/60 [01:05<06:56,  7.85s/it]"
          ],
          "name": "stderr"
        },
        {
          "output_type": "stream",
          "text": [
            "\n",
            "Number of matches 27790\n",
            "Number of matches After Lowe's Ratio 2547\n",
            "Number of Robust matches 1124\n",
            "\n",
            "\n"
          ],
          "name": "stdout"
        },
        {
          "output_type": "stream",
          "text": [
            "\r 13%|█▎        | 8/60 [01:13<06:41,  7.72s/it]"
          ],
          "name": "stderr"
        },
        {
          "output_type": "stream",
          "text": [
            "\n",
            "Number of matches 30046\n",
            "Number of matches After Lowe's Ratio 2892\n",
            "Number of Robust matches 1776\n",
            "\n",
            "\n"
          ],
          "name": "stdout"
        },
        {
          "output_type": "stream",
          "text": [
            "\r 15%|█▌        | 9/60 [01:20<06:36,  7.77s/it]"
          ],
          "name": "stderr"
        },
        {
          "output_type": "stream",
          "text": [
            "\n",
            "Number of matches 37125\n",
            "Number of matches After Lowe's Ratio 4234\n",
            "Number of Robust matches 2765\n",
            "\n",
            "\n"
          ],
          "name": "stdout"
        },
        {
          "output_type": "stream",
          "text": [
            "\r 17%|█▋        | 10/60 [01:31<07:14,  8.70s/it]"
          ],
          "name": "stderr"
        },
        {
          "output_type": "stream",
          "text": [
            "\n",
            "Number of matches 37568\n",
            "Number of matches After Lowe's Ratio 6722\n",
            "Number of Robust matches 5765\n",
            "\n",
            "\n"
          ],
          "name": "stdout"
        },
        {
          "output_type": "stream",
          "text": [
            "\r 18%|█▊        | 11/60 [01:41<07:23,  9.05s/it]"
          ],
          "name": "stderr"
        },
        {
          "output_type": "stream",
          "text": [
            "\n",
            "Number of matches 33217\n",
            "Number of matches After Lowe's Ratio 6899\n",
            "Number of Robust matches 5535\n",
            "\n",
            "\n"
          ],
          "name": "stdout"
        },
        {
          "output_type": "stream",
          "text": [
            "\r 20%|██        | 12/60 [01:50<07:10,  8.97s/it]"
          ],
          "name": "stderr"
        },
        {
          "output_type": "stream",
          "text": [
            "\n",
            "Number of matches 30538\n",
            "Number of matches After Lowe's Ratio 4049\n",
            "Number of Robust matches 2842\n",
            "\n",
            "\n"
          ],
          "name": "stdout"
        },
        {
          "output_type": "stream",
          "text": [
            "\r 22%|██▏       | 13/60 [01:57<06:40,  8.51s/it]"
          ],
          "name": "stderr"
        },
        {
          "output_type": "stream",
          "text": [
            "\n",
            "Number of matches 30165\n",
            "Number of matches After Lowe's Ratio 3283\n",
            "Number of Robust matches 2015\n",
            "\n",
            "\n"
          ],
          "name": "stdout"
        },
        {
          "output_type": "stream",
          "text": [
            "\r 23%|██▎       | 14/60 [02:05<06:15,  8.17s/it]"
          ],
          "name": "stderr"
        },
        {
          "output_type": "stream",
          "text": [
            "\n",
            "Number of matches 29501\n",
            "Number of matches After Lowe's Ratio 2878\n",
            "Number of Robust matches 1169\n",
            "\n",
            "\n"
          ],
          "name": "stdout"
        },
        {
          "output_type": "stream",
          "text": [
            "\r 25%|██▌       | 15/60 [02:13<06:04,  8.10s/it]"
          ],
          "name": "stderr"
        },
        {
          "output_type": "stream",
          "text": [
            "\n",
            "Number of matches 31863\n",
            "Number of matches After Lowe's Ratio 2214\n",
            "Number of Robust matches 960\n",
            "\n",
            "\n"
          ],
          "name": "stdout"
        },
        {
          "output_type": "stream",
          "text": [
            "\r 27%|██▋       | 16/60 [02:20<05:51,  7.99s/it]"
          ],
          "name": "stderr"
        },
        {
          "output_type": "stream",
          "text": [
            "\n",
            "Number of matches 29863\n",
            "Number of matches After Lowe's Ratio 2649\n",
            "Number of Robust matches 1462\n",
            "\n",
            "\n"
          ],
          "name": "stdout"
        },
        {
          "output_type": "stream",
          "text": [
            "\r 28%|██▊       | 17/60 [02:29<05:50,  8.15s/it]"
          ],
          "name": "stderr"
        },
        {
          "output_type": "stream",
          "text": [
            "\n",
            "Number of matches 41412\n",
            "Number of matches After Lowe's Ratio 2407\n",
            "Number of Robust matches 1280\n",
            "\n",
            "\n"
          ],
          "name": "stdout"
        },
        {
          "output_type": "stream",
          "text": [
            "\r 30%|███       | 18/60 [02:41<06:32,  9.35s/it]"
          ],
          "name": "stderr"
        },
        {
          "output_type": "stream",
          "text": [
            "\n",
            "Number of matches 48917\n",
            "Number of matches After Lowe's Ratio 3703\n",
            "Number of Robust matches 1358\n",
            "\n",
            "\n"
          ],
          "name": "stdout"
        },
        {
          "output_type": "stream",
          "text": [
            "\r 32%|███▏      | 19/60 [02:54<07:02, 10.31s/it]"
          ],
          "name": "stderr"
        },
        {
          "output_type": "stream",
          "text": [
            "\n",
            "Number of matches 40929\n",
            "Number of matches After Lowe's Ratio 2266\n",
            "Number of Robust matches 989\n",
            "\n",
            "\n"
          ],
          "name": "stdout"
        },
        {
          "output_type": "stream",
          "text": [
            "\r 33%|███▎      | 20/60 [03:04<06:57, 10.45s/it]"
          ],
          "name": "stderr"
        },
        {
          "output_type": "stream",
          "text": [
            "\n",
            "Number of matches 33572\n",
            "Number of matches After Lowe's Ratio 2388\n",
            "Number of Robust matches 1219\n",
            "\n",
            "\n"
          ],
          "name": "stdout"
        },
        {
          "output_type": "stream",
          "text": [
            "\r 35%|███▌      | 21/60 [03:13<06:25,  9.88s/it]"
          ],
          "name": "stderr"
        },
        {
          "output_type": "stream",
          "text": [
            "\n",
            "Number of matches 31547\n",
            "Number of matches After Lowe's Ratio 2794\n",
            "Number of Robust matches 1309\n",
            "\n",
            "\n",
            "\n",
            "Number of matches "
          ],
          "name": "stdout"
        },
        {
          "output_type": "stream",
          "text": [
            "\r 37%|███▋      | 22/60 [03:21<05:55,  9.34s/it]"
          ],
          "name": "stderr"
        },
        {
          "output_type": "stream",
          "text": [
            "29508\n",
            "Number of matches After Lowe's Ratio 2602\n",
            "Number of Robust matches 1221\n",
            "\n",
            "\n"
          ],
          "name": "stdout"
        },
        {
          "output_type": "stream",
          "text": [
            "\r 38%|███▊      | 23/60 [03:28<05:21,  8.68s/it]"
          ],
          "name": "stderr"
        },
        {
          "output_type": "stream",
          "text": [
            "\n",
            "Number of matches 28680\n",
            "Number of matches After Lowe's Ratio 2928\n",
            "Number of Robust matches 1322\n",
            "\n",
            "\n"
          ],
          "name": "stdout"
        },
        {
          "output_type": "stream",
          "text": [
            "\r 40%|████      | 24/60 [03:34<04:40,  7.80s/it]"
          ],
          "name": "stderr"
        },
        {
          "output_type": "stream",
          "text": [
            "\n",
            "Number of matches 26285\n",
            "Number of matches After Lowe's Ratio 3500\n",
            "Number of Robust matches 2543\n",
            "\n",
            "\n"
          ],
          "name": "stdout"
        },
        {
          "output_type": "stream",
          "text": [
            "\r 42%|████▏     | 25/60 [03:39<04:06,  7.05s/it]"
          ],
          "name": "stderr"
        },
        {
          "output_type": "stream",
          "text": [
            "\n",
            "Number of matches 25430\n",
            "Number of matches After Lowe's Ratio 4334\n",
            "Number of Robust matches 3419\n",
            "\n",
            "\n"
          ],
          "name": "stdout"
        },
        {
          "output_type": "stream",
          "text": [
            "\r 43%|████▎     | 26/60 [03:44<03:37,  6.41s/it]"
          ],
          "name": "stderr"
        },
        {
          "output_type": "stream",
          "text": [
            "\n",
            "Number of matches 19226\n",
            "Number of matches After Lowe's Ratio 3320\n",
            "Number of Robust matches 2652\n",
            "\n",
            "\n"
          ],
          "name": "stdout"
        },
        {
          "output_type": "stream",
          "text": [
            "\r 45%|████▌     | 27/60 [03:48<03:01,  5.51s/it]"
          ],
          "name": "stderr"
        },
        {
          "output_type": "stream",
          "text": [
            "\n",
            "Number of matches 22260\n",
            "Number of matches After Lowe's Ratio 2174\n",
            "Number of Robust matches 1776\n",
            "\n",
            "\n"
          ],
          "name": "stdout"
        },
        {
          "output_type": "stream",
          "text": [
            "\r 47%|████▋     | 28/60 [03:52<02:49,  5.31s/it]"
          ],
          "name": "stderr"
        },
        {
          "output_type": "stream",
          "text": [
            "\n",
            "Number of matches 32090\n",
            "Number of matches After Lowe's Ratio 3843\n",
            "Number of Robust matches 3059\n",
            "\n",
            "\n"
          ],
          "name": "stdout"
        },
        {
          "output_type": "stream",
          "text": [
            "\r 48%|████▊     | 29/60 [04:01<03:18,  6.40s/it]"
          ],
          "name": "stderr"
        },
        {
          "output_type": "stream",
          "text": [
            "\n",
            "Number of matches 33719\n",
            "Number of matches After Lowe's Ratio 4798\n",
            "Number of Robust matches 3415\n",
            "\n",
            "\n"
          ],
          "name": "stdout"
        },
        {
          "output_type": "stream",
          "text": [
            "\r 50%|█████     | 30/60 [04:10<03:31,  7.04s/it]"
          ],
          "name": "stderr"
        },
        {
          "output_type": "stream",
          "text": [
            "\n",
            "Number of matches 32877\n",
            "Number of matches After Lowe's Ratio 3233\n",
            "Number of Robust matches 1130\n",
            "\n",
            "\n"
          ],
          "name": "stdout"
        },
        {
          "output_type": "stream",
          "text": [
            "\r 52%|█████▏    | 31/60 [04:18<03:34,  7.41s/it]"
          ],
          "name": "stderr"
        },
        {
          "output_type": "stream",
          "text": [
            "\n",
            "Number of matches 32205\n",
            "Number of matches After Lowe's Ratio 3138\n",
            "Number of Robust matches 1369\n",
            "\n",
            "\n"
          ],
          "name": "stdout"
        },
        {
          "output_type": "stream",
          "text": [
            "\r 53%|█████▎    | 32/60 [04:27<03:36,  7.72s/it]"
          ],
          "name": "stderr"
        },
        {
          "output_type": "stream",
          "text": [
            "\n",
            "Number of matches 29287\n",
            "Number of matches After Lowe's Ratio 2883\n",
            "Number of Robust matches 1800\n",
            "\n",
            "\n"
          ],
          "name": "stdout"
        },
        {
          "output_type": "stream",
          "text": [
            "\r 55%|█████▌    | 33/60 [04:35<03:33,  7.90s/it]"
          ],
          "name": "stderr"
        },
        {
          "output_type": "stream",
          "text": [
            "\n",
            "Number of matches 39540\n",
            "Number of matches After Lowe's Ratio 3096\n",
            "Number of Robust matches 2002\n",
            "\n",
            "\n"
          ],
          "name": "stdout"
        },
        {
          "output_type": "stream",
          "text": [
            "\r 57%|█████▋    | 34/60 [04:47<03:57,  9.15s/it]"
          ],
          "name": "stderr"
        },
        {
          "output_type": "stream",
          "text": [
            "\n",
            "Number of matches 40546\n",
            "Number of matches After Lowe's Ratio 2713\n",
            "Number of Robust matches 1953\n",
            "\n",
            "\n"
          ],
          "name": "stdout"
        },
        {
          "output_type": "stream",
          "text": [
            "\r 58%|█████▊    | 35/60 [04:58<04:04,  9.77s/it]"
          ],
          "name": "stderr"
        },
        {
          "output_type": "stream",
          "text": [
            "\n",
            "Number of matches 41468\n",
            "Number of matches After Lowe's Ratio 2570\n",
            "Number of Robust matches 1230\n",
            "\n",
            "\n"
          ],
          "name": "stdout"
        },
        {
          "output_type": "stream",
          "text": [
            "\r 60%|██████    | 36/60 [05:10<04:05, 10.24s/it]"
          ],
          "name": "stderr"
        },
        {
          "output_type": "stream",
          "text": [
            "\n",
            "Number of matches 34773\n",
            "Number of matches After Lowe's Ratio 2679\n",
            "Number of Robust matches 1461\n",
            "\n",
            "\n"
          ],
          "name": "stdout"
        },
        {
          "output_type": "stream",
          "text": [
            "\r 62%|██████▏   | 37/60 [05:18<03:45,  9.82s/it]"
          ],
          "name": "stderr"
        },
        {
          "output_type": "stream",
          "text": [
            "\n",
            "Number of matches 33183\n",
            "Number of matches After Lowe's Ratio 3209\n",
            "Number of Robust matches 1853\n",
            "\n",
            "\n"
          ],
          "name": "stdout"
        },
        {
          "output_type": "stream",
          "text": [
            "\r 63%|██████▎   | 38/60 [05:27<03:26,  9.40s/it]"
          ],
          "name": "stderr"
        },
        {
          "output_type": "stream",
          "text": [
            "\n",
            "Number of matches 32777\n",
            "Number of matches After Lowe's Ratio 2552\n",
            "Number of Robust matches 1107\n",
            "\n",
            "\n"
          ],
          "name": "stdout"
        },
        {
          "output_type": "stream",
          "text": [
            "\r 65%|██████▌   | 39/60 [05:36<03:16,  9.36s/it]"
          ],
          "name": "stderr"
        },
        {
          "output_type": "stream",
          "text": [
            "\n",
            "Number of matches 37038\n",
            "Number of matches After Lowe's Ratio 3680\n",
            "Number of Robust matches 1803\n",
            "\n",
            "\n"
          ],
          "name": "stdout"
        },
        {
          "output_type": "stream",
          "text": [
            "\r 67%|██████▋   | 40/60 [05:45<03:07,  9.35s/it]"
          ],
          "name": "stderr"
        },
        {
          "output_type": "stream",
          "text": [
            "\n",
            "Number of matches 31457\n",
            "Number of matches After Lowe's Ratio 5903\n",
            "Number of Robust matches 4368\n",
            "\n",
            "\n",
            "\n",
            "Number of matches 24254\n",
            "Number of matches After Lowe's Ratio 5349\n"
          ],
          "name": "stdout"
        },
        {
          "output_type": "stream",
          "text": [
            "\r 68%|██████▊   | 41/60 [05:52<02:43,  8.59s/it]"
          ],
          "name": "stderr"
        },
        {
          "output_type": "stream",
          "text": [
            "Number of Robust matches 3468\n",
            "\n",
            "\n"
          ],
          "name": "stdout"
        },
        {
          "output_type": "stream",
          "text": [
            "\r 70%|███████   | 42/60 [05:56<02:08,  7.14s/it]"
          ],
          "name": "stderr"
        },
        {
          "output_type": "stream",
          "text": [
            "\n",
            "Number of matches 5641\n",
            "Number of matches After Lowe's Ratio 875\n",
            "Number of Robust matches 690\n",
            "\n",
            "\n"
          ],
          "name": "stdout"
        },
        {
          "output_type": "stream",
          "text": [
            "\r 72%|███████▏  | 43/60 [05:57<01:30,  5.34s/it]"
          ],
          "name": "stderr"
        },
        {
          "output_type": "stream",
          "text": [
            "\n",
            "Number of matches 21550\n",
            "Number of matches After Lowe's Ratio 1152\n",
            "Number of Robust matches 750\n",
            "\n",
            "\n"
          ],
          "name": "stdout"
        },
        {
          "output_type": "stream",
          "text": [
            "\r 73%|███████▎  | 44/60 [06:02<01:21,  5.08s/it]"
          ],
          "name": "stderr"
        },
        {
          "output_type": "stream",
          "text": [
            "\n",
            "Number of matches 34714\n",
            "Number of matches After Lowe's Ratio 4216\n",
            "Number of Robust matches 3391\n",
            "\n",
            "\n"
          ],
          "name": "stdout"
        },
        {
          "output_type": "stream",
          "text": [
            "\r 75%|███████▌  | 45/60 [06:11<01:37,  6.52s/it]"
          ],
          "name": "stderr"
        },
        {
          "output_type": "stream",
          "text": [
            "\n",
            "Number of matches 36862\n",
            "Number of matches After Lowe's Ratio 5832\n",
            "Number of Robust matches 4008\n",
            "\n",
            "\n"
          ],
          "name": "stdout"
        },
        {
          "output_type": "stream",
          "text": [
            "\r 77%|███████▋  | 46/60 [06:21<01:43,  7.39s/it]"
          ],
          "name": "stderr"
        },
        {
          "output_type": "stream",
          "text": [
            "\n",
            "Number of matches 33689\n",
            "Number of matches After Lowe's Ratio 3021\n",
            "Number of Robust matches 1245\n",
            "\n",
            "\n"
          ],
          "name": "stdout"
        },
        {
          "output_type": "stream",
          "text": [
            "\r 78%|███████▊  | 47/60 [06:29<01:40,  7.70s/it]"
          ],
          "name": "stderr"
        },
        {
          "output_type": "stream",
          "text": [
            "\n",
            "Number of matches 32962\n",
            "Number of matches After Lowe's Ratio 2865\n",
            "Number of Robust matches 1059\n",
            "\n",
            "\n"
          ],
          "name": "stdout"
        },
        {
          "output_type": "stream",
          "text": [
            "\r 80%|████████  | 48/60 [06:38<01:36,  8.05s/it]"
          ],
          "name": "stderr"
        },
        {
          "output_type": "stream",
          "text": [
            "\n",
            "Number of matches 28943\n",
            "Number of matches After Lowe's Ratio 2525\n",
            "Number of Robust matches 1202\n",
            "\n",
            "\n"
          ],
          "name": "stdout"
        },
        {
          "output_type": "stream",
          "text": [
            "\r 82%|████████▏ | 49/60 [06:46<01:29,  8.11s/it]"
          ],
          "name": "stderr"
        },
        {
          "output_type": "stream",
          "text": [
            "\n",
            "Number of matches 42907\n",
            "Number of matches After Lowe's Ratio 2580\n",
            "Number of Robust matches 1639\n",
            "\n",
            "\n"
          ],
          "name": "stdout"
        },
        {
          "output_type": "stream",
          "text": [
            "\r 83%|████████▎ | 50/60 [06:59<01:33,  9.36s/it]"
          ],
          "name": "stderr"
        },
        {
          "output_type": "stream",
          "text": [
            "\n",
            "Number of matches 42303\n",
            "Number of matches After Lowe's Ratio 3434\n",
            "Number of Robust matches 1499\n",
            "\n",
            "\n"
          ],
          "name": "stdout"
        },
        {
          "output_type": "stream",
          "text": [
            "\r 85%|████████▌ | 51/60 [07:10<01:30, 10.08s/it]"
          ],
          "name": "stderr"
        },
        {
          "output_type": "stream",
          "text": [
            "\n",
            "Number of matches 36698\n",
            "Number of matches After Lowe's Ratio 2155\n",
            "Number of Robust matches 901\n",
            "\n",
            "\n"
          ],
          "name": "stdout"
        },
        {
          "output_type": "stream",
          "text": [
            "\r 87%|████████▋ | 52/60 [07:20<01:19,  9.93s/it]"
          ],
          "name": "stderr"
        },
        {
          "output_type": "stream",
          "text": [
            "\n",
            "Number of matches 32205\n",
            "Number of matches After Lowe's Ratio 1893\n",
            "Number of Robust matches 994\n",
            "\n",
            "\n"
          ],
          "name": "stdout"
        },
        {
          "output_type": "stream",
          "text": [
            "\r 88%|████████▊ | 53/60 [07:29<01:08,  9.72s/it]"
          ],
          "name": "stderr"
        },
        {
          "output_type": "stream",
          "text": [
            "\n",
            "Number of matches 37215\n",
            "Number of matches After Lowe's Ratio 2559\n",
            "Number of Robust matches 881\n",
            "\n",
            "\n"
          ],
          "name": "stdout"
        },
        {
          "output_type": "stream",
          "text": [
            "\r 90%|█████████ | 54/60 [07:39<00:57,  9.59s/it]"
          ],
          "name": "stderr"
        },
        {
          "output_type": "stream",
          "text": [
            "\n",
            "Number of matches 31693\n",
            "Number of matches After Lowe's Ratio 2980\n",
            "Number of Robust matches 1022\n",
            "\n",
            "\n"
          ],
          "name": "stdout"
        },
        {
          "output_type": "stream",
          "text": [
            "\r 92%|█████████▏| 55/60 [07:47<00:46,  9.34s/it]"
          ],
          "name": "stderr"
        },
        {
          "output_type": "stream",
          "text": [
            "\n",
            "Number of matches 36782\n",
            "Number of matches After Lowe's Ratio 3016\n",
            "Number of Robust matches 1201\n",
            "\n",
            "\n"
          ],
          "name": "stdout"
        },
        {
          "output_type": "stream",
          "text": [
            "\r 93%|█████████▎| 56/60 [07:57<00:37,  9.32s/it]"
          ],
          "name": "stderr"
        },
        {
          "output_type": "stream",
          "text": [
            "\n",
            "Number of matches 32790\n",
            "Number of matches After Lowe's Ratio 6130\n",
            "Number of Robust matches 4649\n",
            "\n",
            "\n"
          ],
          "name": "stdout"
        },
        {
          "output_type": "stream",
          "text": [
            "\r 95%|█████████▌| 57/60 [08:04<00:26,  8.90s/it]"
          ],
          "name": "stderr"
        },
        {
          "output_type": "stream",
          "text": [
            "\n",
            "Number of matches 27658\n",
            "Number of matches After Lowe's Ratio 5921\n",
            "Number of Robust matches 5243\n",
            "\n",
            "\n"
          ],
          "name": "stdout"
        },
        {
          "output_type": "stream",
          "text": [
            "\r 97%|█████████▋| 58/60 [08:10<00:15,  7.77s/it]"
          ],
          "name": "stderr"
        },
        {
          "output_type": "stream",
          "text": [
            "\n",
            "Number of matches 14755\n",
            "Number of matches After Lowe's Ratio 4115\n",
            "Number of Robust matches 3758\n",
            "\n",
            "\n"
          ],
          "name": "stdout"
        },
        {
          "output_type": "stream",
          "text": [
            "\r 98%|█████████▊| 59/60 [08:12<00:06,  6.16s/it]"
          ],
          "name": "stderr"
        },
        {
          "output_type": "stream",
          "text": [
            "\n",
            "Number of matches 22397\n",
            "Number of matches After Lowe's Ratio 3756\n",
            "Number of Robust matches 3182\n",
            "\n",
            "\n"
          ],
          "name": "stdout"
        }
      ]
    },
    {
      "cell_type": "code",
      "metadata": {
        "colab": {
          "base_uri": "https://localhost:8080/"
        },
        "id": "Kov7CpVf4MRi",
        "outputId": "eb640702-b154-4f1c-a78d-6c5c7ae82483"
      },
      "source": [
        "import h5py as h5\n",
        "f=h5.File('drive/MyDrive/H_left_sift_40.h5','w')\n",
        "t0=time.time()\n",
        "f.create_dataset('data',data=H_left_sift)\n",
        "f.close()\n",
        "print('HDF5  w/o comp.:',time.time()-t0,'[s] ... size',os.path.getsize('drive/MyDrive/H_left_sift_40.h5')/1.e6,'MB')"
      ],
      "execution_count": 82,
      "outputs": [
        {
          "output_type": "stream",
          "text": [
            "HDF5  w/o comp.: 0.006363391876220703 [s] ... size 0.006368 MB\n"
          ],
          "name": "stdout"
        }
      ]
    },
    {
      "cell_type": "code",
      "metadata": {
        "colab": {
          "base_uri": "https://localhost:8080/"
        },
        "id": "bFwiDjJK4MPB",
        "outputId": "f6dd3a3b-ff5f-4910-d939-ebbedf27e6a1"
      },
      "source": [
        "import h5py as h5\n",
        "f=h5.File('drive/MyDrive/H_right_sift_40.h5','w')\n",
        "t0=time.time()\n",
        "f.create_dataset('data',data=H_right_sift)\n",
        "f.close()\n",
        "print('HDF5  w/o comp.:',time.time()-t0,'[s] ... size',os.path.getsize('drive/MyDrive/H_right_sift_40.h5')/1.e6,'MB')"
      ],
      "execution_count": 83,
      "outputs": [
        {
          "output_type": "stream",
          "text": [
            "HDF5  w/o comp.: 0.011556386947631836 [s] ... size 0.006296 MB\n"
          ],
          "name": "stdout"
        }
      ]
    },
    {
      "cell_type": "code",
      "metadata": {
        "id": "lBB73hQ94ML3"
      },
      "source": [
        "del H_left_sift, H_right_sift,keypoints_all_left_sift, keypoints_all_right_sift, descriptors_all_left_sift, descriptors_all_right_sift, points_all_left_sift, points_all_right_sift"
      ],
      "execution_count": 84,
      "outputs": []
    },
    {
      "cell_type": "code",
      "metadata": {
        "id": "rBOW2ghW5hos"
      },
      "source": [
        ""
      ],
      "execution_count": null,
      "outputs": []
    },
    {
      "cell_type": "code",
      "metadata": {
        "id": "Wij_40V75hk1"
      },
      "source": [
        "'''\n",
        "import pickle\n",
        "Fdb = open('all_feat_fast_left.dat', 'rb')\n",
        "kpts_all = pickle.load(Fdb)\n",
        "Fdb.close()\n",
        "\n",
        "keypoints_all_left_fast = []\n",
        "descriptors_all_left_fast = []\n",
        "\n",
        "for j,kpt_each in enumerate(kpts_all):\n",
        "  keypoints_each = []\n",
        "  descrip_each = []\n",
        "  for k,kpt_img in enumerate(kpt_each):\n",
        "    temp_feature = cv2.KeyPoint(x=kpt_img[0][0],y=kpt_img[0][1],_size=kpt_img[1], _angle=kpt_img[2], \n",
        "                            _response=kpt_img[3], _octave=kpt_img[4], _class_id=kpt_img[5]) \n",
        "    temp_descriptor = kpt_img[6]\n",
        "    keypoints_each.append(temp_feature)\n",
        "    descrip_each.append(temp_descriptor)\n",
        "  points_all_left_fast.append(np.asarray([[p.pt[0], p.pt[1]] for p in keypoints_each]))\n",
        "  keypoints_all_left_fast.append(keypoints_each)\n",
        "  descriptors_all_left_fast.append(descrip_each)"
      ],
      "execution_count": null,
      "outputs": []
    },
    {
      "cell_type": "code",
      "metadata": {
        "id": "jXynNW3R5hg_"
      },
      "source": [
        "'''\n",
        "import pickle\n",
        "Fdb = open('all_feat_fast_right.dat', 'rb')\n",
        "kpts_all = pickle.load(Fdb)\n",
        "Fdb.close()\n",
        "\n",
        "keypoints_all_right_fast = []\n",
        "descriptors_all_right_fast = []\n",
        "\n",
        "for j,kpt_each in enumerate(kpts_all):\n",
        "  keypoints_each = []\n",
        "  descrip_each = []\n",
        "  for k,kpt_img in enumerate(kpt_each):\n",
        "    temp_feature = cv2.KeyPoint(x=kpt_img[0][0],y=kpt_img[0][1],_size=kpt_img[1], _angle=kpt_img[2], \n",
        "                            _response=kpt_img[3], _octave=kpt_img[4], _class_id=kpt_img[5]) \n",
        "    temp_descriptor = kpt_img[6]\n",
        "    keypoints_each.append(temp_feature)\n",
        "    descrip_each.append(temp_descriptor)\n",
        "  points_all_right_fast.append(np.asarray([[p.pt[0], p.pt[1]] for p in keypoints_each]))\n",
        "  keypoints_all_right_fast.append(keypoints_each)\n",
        "  descriptors_all_right_fast.append(descrip_each)"
      ],
      "execution_count": null,
      "outputs": []
    },
    {
      "cell_type": "code",
      "metadata": {
        "id": "PB7gta_Z5hdm"
      },
      "source": [
        "'''\n",
        "H_left_fast = []\n",
        "H_right_fast = []\n",
        "\n",
        "num_matches_fast = []\n",
        "num_good_matches_fast = []\n",
        "\n",
        "for j in tqdm(range(len(left_files_path))):\n",
        "  if j==len(left_files_path)-1:\n",
        "    break\n",
        "\n",
        "  H_a,matches,gd_matches = get_Hmatrix(images_left_bgr[j:j+2][::-1],keypoints_all_left_fast[j:j+2][::-1],points_all_left_fast[j:j+2][::-1],descriptors_all_left_fast[j:j+2][::-1],0.9,6)\n",
        "  H_left_fast.append(H_a)\n",
        "  num_matches_fast.append(matches)\n",
        "  num_good_matches_fast.append(gd_matches)\n",
        "\n",
        "for j in tqdm(range(len(right_files_path))):\n",
        "  if j==len(right_files_path)-1:\n",
        "    break\n",
        "\n",
        "  H_a,matches,gd_matches = get_Hmatrix(images_right_bgr[j:j+2][::-1],keypoints_all_right_fast[j:j+2][::-1],points_all_right_fast[j:j+2][::-1],descriptors_all_right_fast[j:j+2][::-1],0.9,6)\n",
        "  H_right_fast.append(H_a)\n",
        "  num_matches_fast.append(matches)\n",
        "  num_good_matches_fast.append(gd_matches)"
      ],
      "execution_count": null,
      "outputs": []
    },
    {
      "cell_type": "code",
      "metadata": {
        "id": "BAHG6vcX5zo4"
      },
      "source": [
        "'''\n",
        "import h5py as h5\n",
        "f=h5.File('drive/MyDrive/H_left_fast_40.h5','w')\n",
        "t0=time.time()\n",
        "f.create_dataset('data',data=H_left_fast)\n",
        "f.close()\n",
        "print('HDF5  w/o comp.:',time.time()-t0,'[s] ... size',os.path.getsize('drive/MyDrive/H_left_fast_40.h5')/1.e6,'MB')"
      ],
      "execution_count": null,
      "outputs": []
    },
    {
      "cell_type": "code",
      "metadata": {
        "id": "-K96I2I15zkI"
      },
      "source": [
        "'''\n",
        "import h5py as h5\n",
        "f=h5.File('drive/MyDrive/H_right_fast_40.h5','w')\n",
        "t0=time.time()\n",
        "f.create_dataset('data',data=H_right_fast)\n",
        "f.close()\n",
        "print('HDF5  w/o comp.:',time.time()-t0,'[s] ... size',os.path.getsize('drive/MyDrive/H_right_fast_40.h5')/1.e6,'MB')"
      ],
      "execution_count": null,
      "outputs": []
    },
    {
      "cell_type": "code",
      "metadata": {
        "id": "4O0d4TT_5zgM"
      },
      "source": [
        "'''\n",
        "del H_left_fast, H_right_fast,keypoints_all_left_fast, keypoints_all_right_fast, descriptors_all_left_fast, descriptors_all_right_fast, points_all_left_fast, points_all_right_fast"
      ],
      "execution_count": null,
      "outputs": []
    },
    {
      "cell_type": "code",
      "metadata": {
        "id": "BmQmG2iN5zdh"
      },
      "source": [
        ""
      ],
      "execution_count": null,
      "outputs": []
    },
    {
      "cell_type": "code",
      "metadata": {
        "id": "C5PBfrOS59cd"
      },
      "source": [
        "import pickle\n",
        "Fdb = open('all_feat_daisy_left.dat', 'rb')\n",
        "kpts_all = pickle.load(Fdb)\n",
        "Fdb.close()\n",
        "\n",
        "keypoints_all_left_daisy = []\n",
        "descriptors_all_left_daisy = []\n",
        "\n",
        "for j,kpt_each in enumerate(kpts_all):\n",
        "  keypoints_each = []\n",
        "  descrip_each = []\n",
        "  for k,kpt_img in enumerate(kpt_each):\n",
        "    temp_feature = cv2.KeyPoint(x=kpt_img[0][0],y=kpt_img[0][1],_size=kpt_img[1], _angle=kpt_img[2], \n",
        "                            _response=kpt_img[3], _octave=kpt_img[4], _class_id=kpt_img[5]) \n",
        "    temp_descriptor = kpt_img[6]\n",
        "    keypoints_each.append(temp_feature)\n",
        "    descrip_each.append(temp_descriptor)\n",
        "  points_all_left_daisy.append(np.asarray([[p.pt[0], p.pt[1]] for p in keypoints_each]))\n",
        "  keypoints_all_left_daisy.append(keypoints_each)\n",
        "  descriptors_all_left_daisy.append(descrip_each)"
      ],
      "execution_count": 85,
      "outputs": []
    },
    {
      "cell_type": "code",
      "metadata": {
        "id": "qZ7vIkFi59Ta"
      },
      "source": [
        "import pickle\n",
        "Fdb = open('all_feat_daisy_right.dat', 'rb')\n",
        "kpts_all = pickle.load(Fdb)\n",
        "Fdb.close()\n",
        "\n",
        "keypoints_all_right_daisy = []\n",
        "descriptors_all_right_daisy = []\n",
        "\n",
        "for j,kpt_each in enumerate(kpts_all):\n",
        "  keypoints_each = []\n",
        "  descrip_each = []\n",
        "  for k,kpt_img in enumerate(kpt_each):\n",
        "    temp_feature = cv2.KeyPoint(x=kpt_img[0][0],y=kpt_img[0][1],_size=kpt_img[1], _angle=kpt_img[2], \n",
        "                            _response=kpt_img[3], _octave=kpt_img[4], _class_id=kpt_img[5]) \n",
        "    temp_descriptor = kpt_img[6]\n",
        "    keypoints_each.append(temp_feature)\n",
        "    descrip_each.append(temp_descriptor)\n",
        "  points_all_right_daisy.append(np.asarray([[p.pt[0], p.pt[1]] for p in keypoints_each]))\n",
        "  keypoints_all_right_daisy.append(keypoints_each)\n",
        "  descriptors_all_right_daisy.append(descrip_each)"
      ],
      "execution_count": 86,
      "outputs": []
    },
    {
      "cell_type": "code",
      "metadata": {
        "colab": {
          "base_uri": "https://localhost:8080/"
        },
        "id": "gzt6CrQh5-R3",
        "outputId": "31e5ccdc-3fb8-4497-b766-19140452b63b"
      },
      "source": [
        "H_left_daisy = []\n",
        "H_right_daisy = []\n",
        "\n",
        "num_matches_daisy = []\n",
        "num_good_matches_daisy = []\n",
        "\n",
        "for j in tqdm(range(len(left_files_path))):\n",
        "  if j==len(left_files_path)-1:\n",
        "    break\n",
        "\n",
        "  H_a,matches,gd_matches = get_Hmatrix(images_left_bgr[j:j+2][::-1],keypoints_all_left_daisy[j:j+2][::-1],points_all_left_daisy[j:j+2][::-1],descriptors_all_left_daisy[j:j+2][::-1],0.7,6)\n",
        "  H_left_daisy.append(H_a)\n",
        "  num_matches_daisy.append(matches)\n",
        "  num_good_matches_daisy.append(gd_matches)\n",
        "\n",
        "for j in tqdm(range(len(right_files_path))):\n",
        "  if j==len(right_files_path)-1:\n",
        "    break\n",
        "\n",
        "  H_a,matches,gd_matches = get_Hmatrix(images_right_bgr[j:j+2][::-1],keypoints_all_right_daisy[j:j+2][::-1],points_all_right_daisy[j:j+2][::-1],descriptors_all_right_daisy[j:j+2][::-1],0.7,6)\n",
        "  H_right_daisy.append(H_a)\n",
        "  num_matches_daisy.append(matches)\n",
        "  num_good_matches_daisy.append(gd_matches)"
      ],
      "execution_count": 87,
      "outputs": [
        {
          "output_type": "stream",
          "text": [
            "  2%|▏         | 1/61 [00:10<10:57, 10.96s/it]"
          ],
          "name": "stderr"
        },
        {
          "output_type": "stream",
          "text": [
            "\n",
            "Number of matches 29526\n",
            "Number of matches After Lowe's Ratio 1713\n",
            "Number of Robust matches 853\n",
            "\n",
            "\n"
          ],
          "name": "stdout"
        },
        {
          "output_type": "stream",
          "text": [
            "\r  3%|▎         | 2/61 [00:21<10:36, 10.78s/it]"
          ],
          "name": "stderr"
        },
        {
          "output_type": "stream",
          "text": [
            "\n",
            "Number of matches 26628\n",
            "Number of matches After Lowe's Ratio 2507\n",
            "Number of Robust matches 1327\n",
            "\n",
            "\n"
          ],
          "name": "stdout"
        },
        {
          "output_type": "stream",
          "text": [
            "\r  5%|▍         | 3/61 [00:31<10:16, 10.63s/it]"
          ],
          "name": "stderr"
        },
        {
          "output_type": "stream",
          "text": [
            "\n",
            "Number of matches 26356\n",
            "Number of matches After Lowe's Ratio 1884\n",
            "Number of Robust matches 969\n",
            "\n",
            "\n"
          ],
          "name": "stdout"
        },
        {
          "output_type": "stream",
          "text": [
            "\r  7%|▋         | 4/61 [00:40<09:31, 10.02s/it]"
          ],
          "name": "stderr"
        },
        {
          "output_type": "stream",
          "text": [
            "\n",
            "Number of matches 29884\n",
            "Number of matches After Lowe's Ratio 1969\n",
            "Number of Robust matches 1230\n",
            "\n",
            "\n"
          ],
          "name": "stdout"
        },
        {
          "output_type": "stream",
          "text": [
            "\r  8%|▊         | 5/61 [00:51<09:39, 10.35s/it]"
          ],
          "name": "stderr"
        },
        {
          "output_type": "stream",
          "text": [
            "\n",
            "Number of matches 44094\n",
            "Number of matches After Lowe's Ratio 657\n",
            "Number of Robust matches 387\n",
            "\n",
            "\n"
          ],
          "name": "stdout"
        },
        {
          "output_type": "stream",
          "text": [
            "\r 10%|▉         | 6/61 [01:10<11:55, 13.00s/it]"
          ],
          "name": "stderr"
        },
        {
          "output_type": "stream",
          "text": [
            "\n",
            "Number of matches 44100\n",
            "Number of matches After Lowe's Ratio 24\n",
            "Number of Robust matches 7\n",
            "\n",
            "\n",
            "Number of matches After Lowe's Ratio New 1176\n",
            "Number of Robust matches New 17\n",
            "\n",
            "\n"
          ],
          "name": "stdout"
        },
        {
          "output_type": "stream",
          "text": [
            "\r 11%|█▏        | 7/61 [01:27<12:44, 14.16s/it]"
          ],
          "name": "stderr"
        },
        {
          "output_type": "stream",
          "text": [
            "\n",
            "Number of matches 38884\n",
            "Number of matches After Lowe's Ratio 2609\n",
            "Number of Robust matches 2119\n",
            "\n",
            "\n"
          ],
          "name": "stdout"
        },
        {
          "output_type": "stream",
          "text": [
            "\r 13%|█▎        | 8/61 [01:39<12:00, 13.60s/it]"
          ],
          "name": "stderr"
        },
        {
          "output_type": "stream",
          "text": [
            "\n",
            "Number of matches 29764\n",
            "Number of matches After Lowe's Ratio 1779\n",
            "Number of Robust matches 1200\n",
            "\n",
            "\n"
          ],
          "name": "stdout"
        },
        {
          "output_type": "stream",
          "text": [
            "\r 15%|█▍        | 9/61 [01:48<10:37, 12.26s/it]"
          ],
          "name": "stderr"
        },
        {
          "output_type": "stream",
          "text": [
            "\n",
            "Number of matches 26720\n",
            "Number of matches After Lowe's Ratio 2569\n",
            "Number of Robust matches 1750\n",
            "\n",
            "\n"
          ],
          "name": "stdout"
        },
        {
          "output_type": "stream",
          "text": [
            "\r 16%|█▋        | 10/61 [01:56<09:19, 10.97s/it]"
          ],
          "name": "stderr"
        },
        {
          "output_type": "stream",
          "text": [
            "\n",
            "Number of matches 29551\n",
            "Number of matches After Lowe's Ratio 2453\n",
            "Number of Robust matches 1491\n",
            "\n",
            "\n"
          ],
          "name": "stdout"
        },
        {
          "output_type": "stream",
          "text": [
            "\r 18%|█▊        | 11/61 [02:06<08:46, 10.52s/it]"
          ],
          "name": "stderr"
        },
        {
          "output_type": "stream",
          "text": [
            "\n",
            "Number of matches 31699\n",
            "Number of matches After Lowe's Ratio 1665\n",
            "Number of Robust matches 780\n",
            "\n",
            "\n"
          ],
          "name": "stdout"
        },
        {
          "output_type": "stream",
          "text": [
            "\r 20%|█▉        | 12/61 [02:18<08:58, 10.99s/it]"
          ],
          "name": "stderr"
        },
        {
          "output_type": "stream",
          "text": [
            "\n",
            "Number of matches 35577\n",
            "Number of matches After Lowe's Ratio 1812\n",
            "Number of Robust matches 775\n",
            "\n",
            "\n"
          ],
          "name": "stdout"
        },
        {
          "output_type": "stream",
          "text": [
            "\r 21%|██▏       | 13/61 [02:34<10:02, 12.54s/it]"
          ],
          "name": "stderr"
        },
        {
          "output_type": "stream",
          "text": [
            "\n",
            "Number of matches 44381\n",
            "Number of matches After Lowe's Ratio 257\n",
            "Number of Robust matches 81\n",
            "\n",
            "\n"
          ],
          "name": "stdout"
        },
        {
          "output_type": "stream",
          "text": [
            "\r 23%|██▎       | 14/61 [02:55<11:48, 15.08s/it]"
          ],
          "name": "stderr"
        },
        {
          "output_type": "stream",
          "text": [
            "\n",
            "Number of matches 55562\n",
            "Number of matches After Lowe's Ratio 13\n",
            "Number of Robust matches 8\n",
            "\n",
            "\n",
            "Number of matches After Lowe's Ratio New 1037\n",
            "Number of Robust matches New 13\n",
            "\n",
            "\n"
          ],
          "name": "stdout"
        },
        {
          "output_type": "stream",
          "text": [
            "\r 25%|██▍       | 15/61 [03:16<12:59, 16.94s/it]"
          ],
          "name": "stderr"
        },
        {
          "output_type": "stream",
          "text": [
            "\n",
            "Number of matches 46637\n",
            "Number of matches After Lowe's Ratio 679\n",
            "Number of Robust matches 428\n",
            "\n",
            "\n"
          ],
          "name": "stdout"
        },
        {
          "output_type": "stream",
          "text": [
            "\r 26%|██▌       | 16/61 [03:34<12:51, 17.15s/it]"
          ],
          "name": "stderr"
        },
        {
          "output_type": "stream",
          "text": [
            "\n",
            "Number of matches 37278\n",
            "Number of matches After Lowe's Ratio 831\n",
            "Number of Robust matches 399\n",
            "\n",
            "\n"
          ],
          "name": "stdout"
        },
        {
          "output_type": "stream",
          "text": [
            "\r 28%|██▊       | 17/61 [03:46<11:26, 15.60s/it]"
          ],
          "name": "stderr"
        },
        {
          "output_type": "stream",
          "text": [
            "\n",
            "Number of matches 31944\n",
            "Number of matches After Lowe's Ratio 182\n",
            "Number of Robust matches 87\n",
            "\n",
            "\n"
          ],
          "name": "stdout"
        },
        {
          "output_type": "stream",
          "text": [
            "\r 30%|██▉       | 18/61 [03:58<10:20, 14.42s/it]"
          ],
          "name": "stderr"
        },
        {
          "output_type": "stream",
          "text": [
            "\n",
            "Number of matches 29639\n",
            "Number of matches After Lowe's Ratio 46\n",
            "Number of Robust matches 10\n",
            "\n",
            "\n",
            "Number of matches After Lowe's Ratio New 1236\n",
            "Number of Robust matches New 12\n",
            "\n",
            "\n"
          ],
          "name": "stdout"
        },
        {
          "output_type": "stream",
          "text": [
            "\r 31%|███       | 19/61 [04:09<09:27, 13.52s/it]"
          ],
          "name": "stderr"
        },
        {
          "output_type": "stream",
          "text": [
            "\n",
            "Number of matches 27400\n",
            "Number of matches After Lowe's Ratio 59\n",
            "Number of Robust matches 17\n",
            "\n",
            "\n",
            "Number of matches After Lowe's Ratio New 1376\n",
            "Number of Robust matches New 41\n",
            "\n",
            "\n"
          ],
          "name": "stdout"
        },
        {
          "output_type": "stream",
          "text": [
            "\r 33%|███▎      | 20/61 [04:20<08:44, 12.79s/it]"
          ],
          "name": "stderr"
        },
        {
          "output_type": "stream",
          "text": [
            "\n",
            "Number of matches 34720\n",
            "Number of matches After Lowe's Ratio 40\n",
            "Number of Robust matches 8\n",
            "\n",
            "\n",
            "Number of matches After Lowe's Ratio New 1481\n",
            "Number of Robust matches New 27\n",
            "\n",
            "\n"
          ],
          "name": "stdout"
        },
        {
          "output_type": "stream",
          "text": [
            "\r 34%|███▍      | 21/61 [04:32<08:26, 12.67s/it]"
          ],
          "name": "stderr"
        },
        {
          "output_type": "stream",
          "text": [
            "\n",
            "Number of matches 40195\n",
            "Number of matches After Lowe's Ratio 44\n",
            "Number of Robust matches 9\n",
            "\n",
            "\n",
            "Number of matches After Lowe's Ratio New 1298\n",
            "Number of Robust matches New 14\n",
            "\n",
            "\n"
          ],
          "name": "stdout"
        },
        {
          "output_type": "stream",
          "text": [
            "\r 36%|███▌      | 22/61 [04:49<09:02, 13.90s/it]"
          ],
          "name": "stderr"
        },
        {
          "output_type": "stream",
          "text": [
            "\n",
            "Number of matches 40871\n",
            "Number of matches After Lowe's Ratio 39\n",
            "Number of Robust matches 10\n",
            "\n",
            "\n",
            "Number of matches After Lowe's Ratio New 1159\n",
            "Number of Robust matches New 34\n",
            "\n",
            "\n"
          ],
          "name": "stdout"
        },
        {
          "output_type": "stream",
          "text": [
            "\r 38%|███▊      | 23/61 [05:02<08:33, 13.50s/it]"
          ],
          "name": "stderr"
        },
        {
          "output_type": "stream",
          "text": [
            "\n",
            "Number of matches 34001\n",
            "Number of matches After Lowe's Ratio 213\n",
            "Number of Robust matches 162\n",
            "\n",
            "\n"
          ],
          "name": "stdout"
        },
        {
          "output_type": "stream",
          "text": [
            "\r 39%|███▉      | 24/61 [05:13<07:53, 12.79s/it]"
          ],
          "name": "stderr"
        },
        {
          "output_type": "stream",
          "text": [
            "\n",
            "Number of matches 26288\n",
            "Number of matches After Lowe's Ratio 58\n",
            "Number of Robust matches 16\n",
            "\n",
            "\n",
            "Number of matches After Lowe's Ratio New 1159\n",
            "Number of Robust matches New 54\n",
            "\n",
            "\n"
          ],
          "name": "stdout"
        },
        {
          "output_type": "stream",
          "text": [
            "\r 41%|████      | 25/61 [05:23<07:14, 12.08s/it]"
          ],
          "name": "stderr"
        },
        {
          "output_type": "stream",
          "text": [
            "\n",
            "Number of matches 27440\n",
            "Number of matches After Lowe's Ratio 100\n",
            "Number of Robust matches 26\n",
            "\n",
            "\n"
          ],
          "name": "stdout"
        },
        {
          "output_type": "stream",
          "text": [
            "\r 43%|████▎     | 26/61 [05:35<06:53, 11.81s/it]"
          ],
          "name": "stderr"
        },
        {
          "output_type": "stream",
          "text": [
            "\n",
            "Number of matches 29435\n",
            "Number of matches After Lowe's Ratio 32\n",
            "Number of Robust matches 8\n",
            "\n",
            "\n",
            "Number of matches After Lowe's Ratio New 1270\n",
            "Number of Robust matches New 11\n",
            "\n",
            "\n"
          ],
          "name": "stdout"
        },
        {
          "output_type": "stream",
          "text": [
            "\r 44%|████▍     | 27/61 [05:46<06:40, 11.79s/it]"
          ],
          "name": "stderr"
        },
        {
          "output_type": "stream",
          "text": [
            "\n",
            "Number of matches 35401\n",
            "Number of matches After Lowe's Ratio 64\n",
            "Number of Robust matches 10\n",
            "\n",
            "\n",
            "Number of matches After Lowe's Ratio New 1363\n",
            "Number of Robust matches New 16\n",
            "\n",
            "\n"
          ],
          "name": "stdout"
        },
        {
          "output_type": "stream",
          "text": [
            "\r 46%|████▌     | 28/61 [06:05<07:35, 13.81s/it]"
          ],
          "name": "stderr"
        },
        {
          "output_type": "stream",
          "text": [
            "\n",
            "Number of matches 47665\n",
            "Number of matches After Lowe's Ratio 22\n",
            "Number of Robust matches 7\n",
            "\n",
            "\n",
            "Number of matches After Lowe's Ratio New 1351\n",
            "Number of Robust matches New 28\n",
            "\n",
            "\n"
          ],
          "name": "stdout"
        },
        {
          "output_type": "stream",
          "text": [
            "\r 48%|████▊     | 29/61 [06:25<08:22, 15.69s/it]"
          ],
          "name": "stderr"
        },
        {
          "output_type": "stream",
          "text": [
            "\n",
            "Number of matches 61201\n",
            "Number of matches After Lowe's Ratio 21\n",
            "Number of Robust matches 7\n",
            "\n",
            "\n",
            "Number of matches After Lowe's Ratio New 1154\n",
            "Number of Robust matches New 12\n",
            "\n",
            "\n"
          ],
          "name": "stdout"
        },
        {
          "output_type": "stream",
          "text": [
            "\r 49%|████▉     | 30/61 [06:47<09:08, 17.71s/it]"
          ],
          "name": "stderr"
        },
        {
          "output_type": "stream",
          "text": [
            "\n",
            "Number of matches 40780\n",
            "Number of matches After Lowe's Ratio 344\n",
            "Number of Robust matches 255\n",
            "\n",
            "\n"
          ],
          "name": "stdout"
        },
        {
          "output_type": "stream",
          "text": [
            "\r 51%|█████     | 31/61 [07:00<08:07, 16.25s/it]"
          ],
          "name": "stderr"
        },
        {
          "output_type": "stream",
          "text": [
            "\n",
            "Number of matches 35221\n",
            "Number of matches After Lowe's Ratio 507\n",
            "Number of Robust matches 205\n",
            "\n",
            "\n"
          ],
          "name": "stdout"
        },
        {
          "output_type": "stream",
          "text": [
            "\r 52%|█████▏    | 32/61 [07:12<07:12, 14.93s/it]"
          ],
          "name": "stderr"
        },
        {
          "output_type": "stream",
          "text": [
            "\n",
            "Number of matches 31090\n",
            "Number of matches After Lowe's Ratio 519\n",
            "Number of Robust matches 195\n",
            "\n",
            "\n"
          ],
          "name": "stdout"
        },
        {
          "output_type": "stream",
          "text": [
            "\r 54%|█████▍    | 33/61 [07:23<06:26, 13.79s/it]"
          ],
          "name": "stderr"
        },
        {
          "output_type": "stream",
          "text": [
            "\n",
            "Number of matches 27466\n",
            "Number of matches After Lowe's Ratio 717\n",
            "Number of Robust matches 358\n",
            "\n",
            "\n"
          ],
          "name": "stdout"
        },
        {
          "output_type": "stream",
          "text": [
            "\r 56%|█████▌    | 34/61 [07:34<05:52, 13.04s/it]"
          ],
          "name": "stderr"
        },
        {
          "output_type": "stream",
          "text": [
            "\n",
            "Number of matches 27694\n",
            "Number of matches After Lowe's Ratio 1132\n",
            "Number of Robust matches 611\n",
            "\n",
            "\n"
          ],
          "name": "stdout"
        },
        {
          "output_type": "stream",
          "text": [
            "\r 57%|█████▋    | 35/61 [07:45<05:22, 12.42s/it]"
          ],
          "name": "stderr"
        },
        {
          "output_type": "stream",
          "text": [
            "\n",
            "Number of matches 30835\n",
            "Number of matches After Lowe's Ratio 1001\n",
            "Number of Robust matches 526\n",
            "\n",
            "\n"
          ],
          "name": "stdout"
        },
        {
          "output_type": "stream",
          "text": [
            "\r 59%|█████▉    | 36/61 [07:57<05:02, 12.10s/it]"
          ],
          "name": "stderr"
        },
        {
          "output_type": "stream",
          "text": [
            "\n",
            "Number of matches 43447\n",
            "Number of matches After Lowe's Ratio 1554\n",
            "Number of Robust matches 1207\n",
            "\n",
            "\n"
          ],
          "name": "stdout"
        },
        {
          "output_type": "stream",
          "text": [
            "\r 61%|██████    | 37/61 [08:15<05:36, 14.04s/it]"
          ],
          "name": "stderr"
        },
        {
          "output_type": "stream",
          "text": [
            "\n",
            "Number of matches 44085\n",
            "Number of matches After Lowe's Ratio 34\n",
            "Number of Robust matches 8\n",
            "\n",
            "\n",
            "Number of matches After Lowe's Ratio New 1338\n",
            "Number of Robust matches New 32\n",
            "\n",
            "\n"
          ],
          "name": "stdout"
        },
        {
          "output_type": "stream",
          "text": [
            "\r 62%|██████▏   | 38/61 [08:33<05:50, 15.24s/it]"
          ],
          "name": "stderr"
        },
        {
          "output_type": "stream",
          "text": [
            "\n",
            "Number of matches 44435\n",
            "Number of matches After Lowe's Ratio 983\n",
            "Number of Robust matches 753\n",
            "\n",
            "\n"
          ],
          "name": "stdout"
        },
        {
          "output_type": "stream",
          "text": [
            "\r 64%|██████▍   | 39/61 [08:51<05:49, 15.87s/it]"
          ],
          "name": "stderr"
        },
        {
          "output_type": "stream",
          "text": [
            "\n",
            "Number of matches 36542\n",
            "Number of matches After Lowe's Ratio 274\n",
            "Number of Robust matches 184\n",
            "\n",
            "\n"
          ],
          "name": "stdout"
        },
        {
          "output_type": "stream",
          "text": [
            "\r 66%|██████▌   | 40/61 [09:03<05:08, 14.68s/it]"
          ],
          "name": "stderr"
        },
        {
          "output_type": "stream",
          "text": [
            "\n",
            "Number of matches 28727\n",
            "Number of matches After Lowe's Ratio 930\n",
            "Number of Robust matches 672\n",
            "\n",
            "\n"
          ],
          "name": "stdout"
        },
        {
          "output_type": "stream",
          "text": [
            "\r 67%|██████▋   | 41/61 [09:13<04:29, 13.47s/it]"
          ],
          "name": "stderr"
        },
        {
          "output_type": "stream",
          "text": [
            "\n",
            "Number of matches 27476\n",
            "Number of matches After Lowe's Ratio 421\n",
            "Number of Robust matches 254\n",
            "\n",
            "\n"
          ],
          "name": "stdout"
        },
        {
          "output_type": "stream",
          "text": [
            "\r 69%|██████▉   | 42/61 [09:25<04:03, 12.81s/it]"
          ],
          "name": "stderr"
        },
        {
          "output_type": "stream",
          "text": [
            "\n",
            "Number of matches 28505\n",
            "Number of matches After Lowe's Ratio 200\n",
            "Number of Robust matches 73\n",
            "\n",
            "\n"
          ],
          "name": "stdout"
        },
        {
          "output_type": "stream",
          "text": [
            "\r 70%|███████   | 43/61 [09:35<03:39, 12.18s/it]"
          ],
          "name": "stderr"
        },
        {
          "output_type": "stream",
          "text": [
            "\n",
            "Number of matches 37372\n",
            "Number of matches After Lowe's Ratio 631\n",
            "Number of Robust matches 281\n",
            "\n",
            "\n"
          ],
          "name": "stdout"
        },
        {
          "output_type": "stream",
          "text": [
            "\r 72%|███████▏  | 44/61 [09:53<03:55, 13.88s/it]"
          ],
          "name": "stderr"
        },
        {
          "output_type": "stream",
          "text": [
            "\n",
            "Number of matches 59323\n",
            "Number of matches After Lowe's Ratio 117\n",
            "Number of Robust matches 46\n",
            "\n",
            "\n"
          ],
          "name": "stdout"
        },
        {
          "output_type": "stream",
          "text": [
            "\r 74%|███████▍  | 45/61 [10:16<04:26, 16.67s/it]"
          ],
          "name": "stderr"
        },
        {
          "output_type": "stream",
          "text": [
            "\n",
            "Number of matches 61823\n",
            "Number of matches After Lowe's Ratio 20\n",
            "Number of Robust matches 9\n",
            "\n",
            "\n",
            "Number of matches After Lowe's Ratio New 1085\n",
            "Number of Robust matches New 13\n",
            "\n",
            "\n"
          ],
          "name": "stdout"
        },
        {
          "output_type": "stream",
          "text": [
            "\r 75%|███████▌  | 46/61 [10:41<04:44, 18.99s/it]"
          ],
          "name": "stderr"
        },
        {
          "output_type": "stream",
          "text": [
            "\n",
            "Number of matches 52786\n",
            "Number of matches After Lowe's Ratio 24\n",
            "Number of Robust matches 8\n",
            "\n",
            "\n",
            "Number of matches After Lowe's Ratio New 1099\n",
            "Number of Robust matches New 26\n",
            "\n",
            "\n"
          ],
          "name": "stdout"
        },
        {
          "output_type": "stream",
          "text": [
            "\r 77%|███████▋  | 47/61 [11:00<04:26, 19.02s/it]"
          ],
          "name": "stderr"
        },
        {
          "output_type": "stream",
          "text": [
            "\n",
            "Number of matches 37747\n",
            "Number of matches After Lowe's Ratio 478\n",
            "Number of Robust matches 219\n",
            "\n",
            "\n"
          ],
          "name": "stdout"
        },
        {
          "output_type": "stream",
          "text": [
            "\r 79%|███████▊  | 48/61 [11:12<03:42, 17.10s/it]"
          ],
          "name": "stderr"
        },
        {
          "output_type": "stream",
          "text": [
            "\n",
            "Number of matches 32260\n",
            "Number of matches After Lowe's Ratio 1134\n",
            "Number of Robust matches 439\n",
            "\n",
            "\n"
          ],
          "name": "stdout"
        },
        {
          "output_type": "stream",
          "text": [
            "\r 80%|████████  | 49/61 [11:24<03:04, 15.36s/it]"
          ],
          "name": "stderr"
        },
        {
          "output_type": "stream",
          "text": [
            "\n",
            "Number of matches 31260\n",
            "Number of matches After Lowe's Ratio 990\n",
            "Number of Robust matches 362\n",
            "\n",
            "\n"
          ],
          "name": "stdout"
        },
        {
          "output_type": "stream",
          "text": [
            "\r 82%|████████▏ | 50/61 [11:35<02:36, 14.21s/it]"
          ],
          "name": "stderr"
        },
        {
          "output_type": "stream",
          "text": [
            "\n",
            "Number of matches 28785\n",
            "Number of matches After Lowe's Ratio 864\n",
            "Number of Robust matches 465\n",
            "\n",
            "\n"
          ],
          "name": "stdout"
        },
        {
          "output_type": "stream",
          "text": [
            "\r 84%|████████▎ | 51/61 [11:47<02:15, 13.56s/it]"
          ],
          "name": "stderr"
        },
        {
          "output_type": "stream",
          "text": [
            "\n",
            "Number of matches 38218\n",
            "Number of matches After Lowe's Ratio 866\n",
            "Number of Robust matches 613\n",
            "\n",
            "\n"
          ],
          "name": "stdout"
        },
        {
          "output_type": "stream",
          "text": [
            "\r 85%|████████▌ | 52/61 [12:04<02:10, 14.45s/it]"
          ],
          "name": "stderr"
        },
        {
          "output_type": "stream",
          "text": [
            "\n",
            "Number of matches 44569\n",
            "Number of matches After Lowe's Ratio 977\n",
            "Number of Robust matches 681\n",
            "\n",
            "\n"
          ],
          "name": "stdout"
        },
        {
          "output_type": "stream",
          "text": [
            "\r 87%|████████▋ | 53/61 [12:23<02:06, 15.81s/it]"
          ],
          "name": "stderr"
        },
        {
          "output_type": "stream",
          "text": [
            "\n",
            "Number of matches 43754\n",
            "Number of matches After Lowe's Ratio 16\n",
            "Number of Robust matches 7\n",
            "\n",
            "\n",
            "Number of matches After Lowe's Ratio New 827\n",
            "Number of Robust matches New 17\n",
            "\n",
            "\n"
          ],
          "name": "stdout"
        },
        {
          "output_type": "stream",
          "text": [
            "\r 89%|████████▊ | 54/61 [12:40<01:52, 16.10s/it]"
          ],
          "name": "stderr"
        },
        {
          "output_type": "stream",
          "text": [
            "\n",
            "Number of matches 37223\n",
            "Number of matches After Lowe's Ratio 1942\n",
            "Number of Robust matches 1515\n",
            "\n",
            "\n"
          ],
          "name": "stdout"
        },
        {
          "output_type": "stream",
          "text": [
            "\r 90%|█████████ | 55/61 [12:52<01:29, 14.90s/it]"
          ],
          "name": "stderr"
        },
        {
          "output_type": "stream",
          "text": [
            "\n",
            "Number of matches 33040\n",
            "Number of matches After Lowe's Ratio 445\n",
            "Number of Robust matches 364\n",
            "\n",
            "\n"
          ],
          "name": "stdout"
        },
        {
          "output_type": "stream",
          "text": [
            "\r 92%|█████████▏| 56/61 [13:04<01:10, 14.09s/it]"
          ],
          "name": "stderr"
        },
        {
          "output_type": "stream",
          "text": [
            "\n",
            "Number of matches 30137\n",
            "Number of matches After Lowe's Ratio 150\n",
            "Number of Robust matches 120\n",
            "\n",
            "\n"
          ],
          "name": "stdout"
        },
        {
          "output_type": "stream",
          "text": [
            "\r 93%|█████████▎| 57/61 [13:15<00:52, 13.21s/it]"
          ],
          "name": "stderr"
        },
        {
          "output_type": "stream",
          "text": [
            "\n",
            "Number of matches 35839\n",
            "Number of matches After Lowe's Ratio 523\n",
            "Number of Robust matches 287\n",
            "\n",
            "\n"
          ],
          "name": "stdout"
        },
        {
          "output_type": "stream",
          "text": [
            "\r 95%|█████████▌| 58/61 [13:26<00:38, 12.68s/it]"
          ],
          "name": "stderr"
        },
        {
          "output_type": "stream",
          "text": [
            "\n",
            "Number of matches 42161\n",
            "Number of matches After Lowe's Ratio 422\n",
            "Number of Robust matches 140\n",
            "\n",
            "\n"
          ],
          "name": "stdout"
        },
        {
          "output_type": "stream",
          "text": [
            "\r 97%|█████████▋| 59/61 [13:43<00:27, 13.82s/it]"
          ],
          "name": "stderr"
        },
        {
          "output_type": "stream",
          "text": [
            "\n",
            "Number of matches 41341\n",
            "Number of matches After Lowe's Ratio 244\n",
            "Number of Robust matches 103\n",
            "\n",
            "\n"
          ],
          "name": "stdout"
        },
        {
          "output_type": "stream",
          "text": [
            "  0%|          | 0/60 [00:00<?, ?it/s]"
          ],
          "name": "stderr"
        },
        {
          "output_type": "stream",
          "text": [
            "\n",
            "Number of matches 56174\n",
            "Number of matches After Lowe's Ratio 272\n",
            "Number of Robust matches 227\n",
            "\n",
            "\n"
          ],
          "name": "stdout"
        },
        {
          "output_type": "stream",
          "text": [
            "\r  2%|▏         | 1/60 [00:11<11:35, 11.79s/it]"
          ],
          "name": "stderr"
        },
        {
          "output_type": "stream",
          "text": [
            "\n",
            "Number of matches 38696\n",
            "Number of matches After Lowe's Ratio 1392\n",
            "Number of Robust matches 754\n",
            "\n",
            "\n"
          ],
          "name": "stdout"
        },
        {
          "output_type": "stream",
          "text": [
            "\r  3%|▎         | 2/60 [00:30<13:26, 13.91s/it]"
          ],
          "name": "stderr"
        },
        {
          "output_type": "stream",
          "text": [
            "\n",
            "Number of matches 49567\n",
            "Number of matches After Lowe's Ratio 886\n",
            "Number of Robust matches 501\n",
            "\n",
            "\n"
          ],
          "name": "stdout"
        },
        {
          "output_type": "stream",
          "text": [
            "\r  5%|▌         | 3/60 [00:50<14:50, 15.62s/it]"
          ],
          "name": "stderr"
        },
        {
          "output_type": "stream",
          "text": [
            "\n",
            "Number of matches 46179\n",
            "Number of matches After Lowe's Ratio 36\n",
            "Number of Robust matches 12\n",
            "\n",
            "\n",
            "Number of matches After Lowe's Ratio New 976\n",
            "Number of Robust matches New 20\n",
            "\n",
            "\n"
          ],
          "name": "stdout"
        },
        {
          "output_type": "stream",
          "text": [
            "\r  7%|▋         | 4/60 [01:06<14:43, 15.78s/it]"
          ],
          "name": "stderr"
        },
        {
          "output_type": "stream",
          "text": [
            "\n",
            "Number of matches 33471\n",
            "Number of matches After Lowe's Ratio 151\n",
            "Number of Robust matches 63\n",
            "\n",
            "\n"
          ],
          "name": "stdout"
        },
        {
          "output_type": "stream",
          "text": [
            "\r  8%|▊         | 5/60 [01:18<13:24, 14.62s/it]"
          ],
          "name": "stderr"
        },
        {
          "output_type": "stream",
          "text": [
            "\n",
            "Number of matches 28528\n",
            "Number of matches After Lowe's Ratio 1778\n",
            "Number of Robust matches 868\n",
            "\n",
            "\n"
          ],
          "name": "stdout"
        },
        {
          "output_type": "stream",
          "text": [
            "\r 10%|█         | 6/60 [01:29<12:05, 13.44s/it]"
          ],
          "name": "stderr"
        },
        {
          "output_type": "stream",
          "text": [
            "\n",
            "Number of matches 27347\n",
            "Number of matches After Lowe's Ratio 2054\n",
            "Number of Robust matches 1089\n",
            "\n",
            "\n"
          ],
          "name": "stdout"
        },
        {
          "output_type": "stream",
          "text": [
            "\r 12%|█▏        | 7/60 [01:39<11:08, 12.62s/it]"
          ],
          "name": "stderr"
        },
        {
          "output_type": "stream",
          "text": [
            "\n",
            "Number of matches 27790\n",
            "Number of matches After Lowe's Ratio 2263\n",
            "Number of Robust matches 1212\n",
            "\n",
            "\n"
          ],
          "name": "stdout"
        },
        {
          "output_type": "stream",
          "text": [
            "\r 13%|█▎        | 8/60 [01:51<10:43, 12.37s/it]"
          ],
          "name": "stderr"
        },
        {
          "output_type": "stream",
          "text": [
            "\n",
            "Number of matches 30046\n",
            "Number of matches After Lowe's Ratio 2682\n",
            "Number of Robust matches 1902\n",
            "\n",
            "\n"
          ],
          "name": "stdout"
        },
        {
          "output_type": "stream",
          "text": [
            "\r 15%|█▌        | 9/60 [02:03<10:18, 12.14s/it]"
          ],
          "name": "stderr"
        },
        {
          "output_type": "stream",
          "text": [
            "\n",
            "Number of matches 37125\n",
            "Number of matches After Lowe's Ratio 2548\n",
            "Number of Robust matches 1682\n",
            "\n",
            "\n"
          ],
          "name": "stdout"
        },
        {
          "output_type": "stream",
          "text": [
            "\r 17%|█▋        | 10/60 [02:15<10:17, 12.35s/it]"
          ],
          "name": "stderr"
        },
        {
          "output_type": "stream",
          "text": [
            "\n",
            "Number of matches 37568\n",
            "Number of matches After Lowe's Ratio 2180\n",
            "Number of Robust matches 1979\n",
            "\n",
            "\n"
          ],
          "name": "stdout"
        },
        {
          "output_type": "stream",
          "text": [
            "\r 18%|█▊        | 11/60 [02:28<10:11, 12.48s/it]"
          ],
          "name": "stderr"
        },
        {
          "output_type": "stream",
          "text": [
            "\n",
            "Number of matches 33217\n",
            "Number of matches After Lowe's Ratio 24\n",
            "Number of Robust matches 9\n",
            "\n",
            "\n",
            "Number of matches After Lowe's Ratio New 880\n",
            "Number of Robust matches New 13\n",
            "\n",
            "\n"
          ],
          "name": "stdout"
        },
        {
          "output_type": "stream",
          "text": [
            "\r 20%|██        | 12/60 [02:40<09:43, 12.16s/it]"
          ],
          "name": "stderr"
        },
        {
          "output_type": "stream",
          "text": [
            "\n",
            "Number of matches 30538\n",
            "Number of matches After Lowe's Ratio 1360\n",
            "Number of Robust matches 1118\n",
            "\n",
            "\n"
          ],
          "name": "stdout"
        },
        {
          "output_type": "stream",
          "text": [
            "\r 22%|██▏       | 13/60 [02:51<09:19, 11.91s/it]"
          ],
          "name": "stderr"
        },
        {
          "output_type": "stream",
          "text": [
            "\n",
            "Number of matches 30165\n",
            "Number of matches After Lowe's Ratio 2631\n",
            "Number of Robust matches 1698\n",
            "\n",
            "\n"
          ],
          "name": "stdout"
        },
        {
          "output_type": "stream",
          "text": [
            "\r 23%|██▎       | 14/60 [03:03<09:06, 11.88s/it]"
          ],
          "name": "stderr"
        },
        {
          "output_type": "stream",
          "text": [
            "\n",
            "Number of matches 29501\n",
            "Number of matches After Lowe's Ratio 2662\n",
            "Number of Robust matches 1386\n",
            "\n",
            "\n"
          ],
          "name": "stdout"
        },
        {
          "output_type": "stream",
          "text": [
            "\r 25%|██▌       | 15/60 [03:14<08:48, 11.75s/it]"
          ],
          "name": "stderr"
        },
        {
          "output_type": "stream",
          "text": [
            "\n",
            "Number of matches 31863\n",
            "Number of matches After Lowe's Ratio 2160\n",
            "Number of Robust matches 1327\n",
            "\n",
            "\n"
          ],
          "name": "stdout"
        },
        {
          "output_type": "stream",
          "text": [
            "\r 27%|██▋       | 16/60 [03:26<08:38, 11.78s/it]"
          ],
          "name": "stderr"
        },
        {
          "output_type": "stream",
          "text": [
            "\n",
            "Number of matches 29863\n",
            "Number of matches After Lowe's Ratio 2156\n",
            "Number of Robust matches 1425\n",
            "\n",
            "\n"
          ],
          "name": "stdout"
        },
        {
          "output_type": "stream",
          "text": [
            "\r 28%|██▊       | 17/60 [03:38<08:28, 11.82s/it]"
          ],
          "name": "stderr"
        },
        {
          "output_type": "stream",
          "text": [
            "\n",
            "Number of matches 41412\n",
            "Number of matches After Lowe's Ratio 1456\n",
            "Number of Robust matches 926\n",
            "\n",
            "\n"
          ],
          "name": "stdout"
        },
        {
          "output_type": "stream",
          "text": [
            "\r 30%|███       | 18/60 [03:57<09:43, 13.89s/it]"
          ],
          "name": "stderr"
        },
        {
          "output_type": "stream",
          "text": [
            "\n",
            "Number of matches 48917\n",
            "Number of matches After Lowe's Ratio 1005\n",
            "Number of Robust matches 558\n",
            "\n",
            "\n"
          ],
          "name": "stdout"
        },
        {
          "output_type": "stream",
          "text": [
            "\r 32%|███▏      | 19/60 [04:16<10:36, 15.52s/it]"
          ],
          "name": "stderr"
        },
        {
          "output_type": "stream",
          "text": [
            "\n",
            "Number of matches 40929\n",
            "Number of matches After Lowe's Ratio 42\n",
            "Number of Robust matches 17\n",
            "\n",
            "\n",
            "Number of matches After Lowe's Ratio New 927\n",
            "Number of Robust matches New 35\n",
            "\n",
            "\n"
          ],
          "name": "stdout"
        },
        {
          "output_type": "stream",
          "text": [
            "\r 33%|███▎      | 20/60 [04:28<09:42, 14.55s/it]"
          ],
          "name": "stderr"
        },
        {
          "output_type": "stream",
          "text": [
            "\n",
            "Number of matches 33572\n",
            "Number of matches After Lowe's Ratio 439\n",
            "Number of Robust matches 228\n",
            "\n",
            "\n"
          ],
          "name": "stdout"
        },
        {
          "output_type": "stream",
          "text": [
            "\r 35%|███▌      | 21/60 [04:40<08:58, 13.81s/it]"
          ],
          "name": "stderr"
        },
        {
          "output_type": "stream",
          "text": [
            "\n",
            "Number of matches 31547\n",
            "Number of matches After Lowe's Ratio 1909\n",
            "Number of Robust matches 1182\n",
            "\n",
            "\n"
          ],
          "name": "stdout"
        },
        {
          "output_type": "stream",
          "text": [
            "\r 37%|███▋      | 22/60 [04:52<08:17, 13.09s/it]"
          ],
          "name": "stderr"
        },
        {
          "output_type": "stream",
          "text": [
            "\n",
            "Number of matches 29508\n",
            "Number of matches After Lowe's Ratio 2173\n",
            "Number of Robust matches 1135\n",
            "\n",
            "\n"
          ],
          "name": "stdout"
        },
        {
          "output_type": "stream",
          "text": [
            "\r 38%|███▊      | 23/60 [05:03<07:43, 12.53s/it]"
          ],
          "name": "stderr"
        },
        {
          "output_type": "stream",
          "text": [
            "\n",
            "Number of matches 28680\n",
            "Number of matches After Lowe's Ratio 2585\n",
            "Number of Robust matches 1583\n",
            "\n",
            "\n"
          ],
          "name": "stdout"
        },
        {
          "output_type": "stream",
          "text": [
            "\r 40%|████      | 24/60 [05:14<07:14, 12.06s/it]"
          ],
          "name": "stderr"
        },
        {
          "output_type": "stream",
          "text": [
            "\n",
            "Number of matches 26285\n",
            "Number of matches After Lowe's Ratio 2580\n",
            "Number of Robust matches 1928\n",
            "\n",
            "\n"
          ],
          "name": "stdout"
        },
        {
          "output_type": "stream",
          "text": [
            "\r 42%|████▏     | 25/60 [05:22<06:22, 10.92s/it]"
          ],
          "name": "stderr"
        },
        {
          "output_type": "stream",
          "text": [
            "\n",
            "Number of matches 25430\n",
            "Number of matches After Lowe's Ratio 3183\n",
            "Number of Robust matches 2706\n",
            "\n",
            "\n"
          ],
          "name": "stdout"
        },
        {
          "output_type": "stream",
          "text": [
            "\r 43%|████▎     | 26/60 [05:30<05:37,  9.92s/it]"
          ],
          "name": "stderr"
        },
        {
          "output_type": "stream",
          "text": [
            "\n",
            "Number of matches 19226\n",
            "Number of matches After Lowe's Ratio 1821\n",
            "Number of Robust matches 1484\n",
            "\n",
            "\n"
          ],
          "name": "stdout"
        },
        {
          "output_type": "stream",
          "text": [
            "\r 45%|████▌     | 27/60 [05:36<04:46,  8.68s/it]"
          ],
          "name": "stderr"
        },
        {
          "output_type": "stream",
          "text": [
            "\n",
            "Number of matches 22260\n",
            "Number of matches After Lowe's Ratio 14\n",
            "Number of Robust matches 5\n",
            "\n",
            "\n",
            "Number of matches After Lowe's Ratio New 719\n",
            "Number of Robust matches New 14\n",
            "\n",
            "\n"
          ],
          "name": "stdout"
        },
        {
          "output_type": "stream",
          "text": [
            "\r 47%|████▋     | 28/60 [05:43<04:29,  8.41s/it]"
          ],
          "name": "stderr"
        },
        {
          "output_type": "stream",
          "text": [
            "\n",
            "Number of matches 32090\n",
            "Number of matches After Lowe's Ratio 2047\n",
            "Number of Robust matches 1874\n",
            "\n",
            "\n"
          ],
          "name": "stdout"
        },
        {
          "output_type": "stream",
          "text": [
            "\r 48%|████▊     | 29/60 [05:55<04:49,  9.35s/it]"
          ],
          "name": "stderr"
        },
        {
          "output_type": "stream",
          "text": [
            "\n",
            "Number of matches 33719\n",
            "Number of matches After Lowe's Ratio 2863\n",
            "Number of Robust matches 1870\n",
            "\n",
            "\n"
          ],
          "name": "stdout"
        },
        {
          "output_type": "stream",
          "text": [
            "\r 50%|█████     | 30/60 [06:06<04:59,  9.98s/it]"
          ],
          "name": "stderr"
        },
        {
          "output_type": "stream",
          "text": [
            "\n",
            "Number of matches 32877\n",
            "Number of matches After Lowe's Ratio 3236\n",
            "Number of Robust matches 1642\n",
            "\n",
            "\n"
          ],
          "name": "stdout"
        },
        {
          "output_type": "stream",
          "text": [
            "\r 52%|█████▏    | 31/60 [06:19<05:08, 10.63s/it]"
          ],
          "name": "stderr"
        },
        {
          "output_type": "stream",
          "text": [
            "\n",
            "Number of matches 32205\n",
            "Number of matches After Lowe's Ratio 2385\n",
            "Number of Robust matches 1381\n",
            "\n",
            "\n"
          ],
          "name": "stdout"
        },
        {
          "output_type": "stream",
          "text": [
            "\r 53%|█████▎    | 32/60 [06:30<05:06, 10.93s/it]"
          ],
          "name": "stderr"
        },
        {
          "output_type": "stream",
          "text": [
            "\n",
            "Number of matches 29287\n",
            "Number of matches After Lowe's Ratio 1522\n",
            "Number of Robust matches 974\n",
            "\n",
            "\n"
          ],
          "name": "stdout"
        },
        {
          "output_type": "stream",
          "text": [
            "\r 55%|█████▌    | 33/60 [06:41<04:57, 11.01s/it]"
          ],
          "name": "stderr"
        },
        {
          "output_type": "stream",
          "text": [
            "\n",
            "Number of matches 39540\n",
            "Number of matches After Lowe's Ratio 1498\n",
            "Number of Robust matches 1163\n",
            "\n",
            "\n"
          ],
          "name": "stdout"
        },
        {
          "output_type": "stream",
          "text": [
            "\r 57%|█████▋    | 34/60 [06:58<05:31, 12.75s/it]"
          ],
          "name": "stderr"
        },
        {
          "output_type": "stream",
          "text": [
            "\n",
            "Number of matches 40546\n",
            "Number of matches After Lowe's Ratio 653\n",
            "Number of Robust matches 553\n",
            "\n",
            "\n"
          ],
          "name": "stdout"
        },
        {
          "output_type": "stream",
          "text": [
            "\r 58%|█████▊    | 35/60 [07:15<05:46, 13.85s/it]"
          ],
          "name": "stderr"
        },
        {
          "output_type": "stream",
          "text": [
            "\n",
            "Number of matches 41468\n",
            "Number of matches After Lowe's Ratio 11\n",
            "Number of Robust matches 5\n",
            "\n",
            "\n",
            "Number of matches After Lowe's Ratio New 906\n",
            "Number of Robust matches New 17\n",
            "\n",
            "\n"
          ],
          "name": "stdout"
        },
        {
          "output_type": "stream",
          "text": [
            "\r 60%|██████    | 36/60 [07:28<05:26, 13.59s/it]"
          ],
          "name": "stderr"
        },
        {
          "output_type": "stream",
          "text": [
            "\n",
            "Number of matches 34773\n",
            "Number of matches After Lowe's Ratio 96\n",
            "Number of Robust matches 55\n",
            "\n",
            "\n"
          ],
          "name": "stdout"
        },
        {
          "output_type": "stream",
          "text": [
            "\r 62%|██████▏   | 37/60 [07:39<04:58, 12.97s/it]"
          ],
          "name": "stderr"
        },
        {
          "output_type": "stream",
          "text": [
            "\n",
            "Number of matches 33183\n",
            "Number of matches After Lowe's Ratio 1878\n",
            "Number of Robust matches 1195\n",
            "\n",
            "\n"
          ],
          "name": "stdout"
        },
        {
          "output_type": "stream",
          "text": [
            "\r 63%|██████▎   | 38/60 [07:51<04:36, 12.56s/it]"
          ],
          "name": "stderr"
        },
        {
          "output_type": "stream",
          "text": [
            "\n",
            "Number of matches 32777\n",
            "Number of matches After Lowe's Ratio 2271\n",
            "Number of Robust matches 1291\n",
            "\n",
            "\n"
          ],
          "name": "stdout"
        },
        {
          "output_type": "stream",
          "text": [
            "\r 65%|██████▌   | 39/60 [08:03<04:21, 12.43s/it]"
          ],
          "name": "stderr"
        },
        {
          "output_type": "stream",
          "text": [
            "\n",
            "Number of matches 37038\n",
            "Number of matches After Lowe's Ratio 3280\n",
            "Number of Robust matches 1656\n",
            "\n",
            "\n"
          ],
          "name": "stdout"
        },
        {
          "output_type": "stream",
          "text": [
            "\r 67%|██████▋   | 40/60 [08:15<04:09, 12.45s/it]"
          ],
          "name": "stderr"
        },
        {
          "output_type": "stream",
          "text": [
            "\n",
            "Number of matches 31457\n",
            "Number of matches After Lowe's Ratio 2488\n",
            "Number of Robust matches 2035\n",
            "\n",
            "\n"
          ],
          "name": "stdout"
        },
        {
          "output_type": "stream",
          "text": [
            "\r 68%|██████▊   | 41/60 [08:25<03:38, 11.48s/it]"
          ],
          "name": "stderr"
        },
        {
          "output_type": "stream",
          "text": [
            "\n",
            "Number of matches 24254\n",
            "Number of matches After Lowe's Ratio 2915\n",
            "Number of Robust matches 2639\n",
            "\n",
            "\n"
          ],
          "name": "stdout"
        },
        {
          "output_type": "stream",
          "text": [
            "\r 70%|███████   | 42/60 [08:30<02:55,  9.75s/it]"
          ],
          "name": "stderr"
        },
        {
          "output_type": "stream",
          "text": [
            "\n",
            "Number of matches 5641\n",
            "Number of matches After Lowe's Ratio 133\n",
            "Number of Robust matches 99\n",
            "\n",
            "\n"
          ],
          "name": "stdout"
        },
        {
          "output_type": "stream",
          "text": [
            "\r 72%|███████▏  | 43/60 [08:32<02:06,  7.43s/it]"
          ],
          "name": "stderr"
        },
        {
          "output_type": "stream",
          "text": [
            "\n",
            "Number of matches 21550\n",
            "Number of matches After Lowe's Ratio 11\n",
            "Number of Robust matches 5\n",
            "\n",
            "\n",
            "Number of matches After Lowe's Ratio New 481\n",
            "Number of Robust matches New 42\n",
            "\n",
            "\n"
          ],
          "name": "stdout"
        },
        {
          "output_type": "stream",
          "text": [
            "\r 73%|███████▎  | 44/60 [08:40<01:58,  7.40s/it]"
          ],
          "name": "stderr"
        },
        {
          "output_type": "stream",
          "text": [
            "\n",
            "Number of matches 34714\n",
            "Number of matches After Lowe's Ratio 2128\n",
            "Number of Robust matches 2033\n",
            "\n",
            "\n"
          ],
          "name": "stdout"
        },
        {
          "output_type": "stream",
          "text": [
            "\r 75%|███████▌  | 45/60 [08:52<02:11,  8.76s/it]"
          ],
          "name": "stderr"
        },
        {
          "output_type": "stream",
          "text": [
            "\n",
            "Number of matches 36862\n",
            "Number of matches After Lowe's Ratio 2028\n",
            "Number of Robust matches 1419\n",
            "\n",
            "\n"
          ],
          "name": "stdout"
        },
        {
          "output_type": "stream",
          "text": [
            "\r 77%|███████▋  | 46/60 [09:04<02:18,  9.92s/it]"
          ],
          "name": "stderr"
        },
        {
          "output_type": "stream",
          "text": [
            "\n",
            "Number of matches 33689\n",
            "Number of matches After Lowe's Ratio 2243\n",
            "Number of Robust matches 1292\n",
            "\n",
            "\n"
          ],
          "name": "stdout"
        },
        {
          "output_type": "stream",
          "text": [
            "\r 78%|███████▊  | 47/60 [09:16<02:15, 10.45s/it]"
          ],
          "name": "stderr"
        },
        {
          "output_type": "stream",
          "text": [
            "\n",
            "Number of matches 32962\n",
            "Number of matches After Lowe's Ratio 1611\n",
            "Number of Robust matches 725\n",
            "\n",
            "\n"
          ],
          "name": "stdout"
        },
        {
          "output_type": "stream",
          "text": [
            "\r 80%|████████  | 48/60 [09:28<02:12, 11.02s/it]"
          ],
          "name": "stderr"
        },
        {
          "output_type": "stream",
          "text": [
            "\n",
            "Number of matches 28943\n",
            "Number of matches After Lowe's Ratio 962\n",
            "Number of Robust matches 386\n",
            "\n",
            "\n"
          ],
          "name": "stdout"
        },
        {
          "output_type": "stream",
          "text": [
            "\r 82%|████████▏ | 49/60 [09:39<02:01, 11.05s/it]"
          ],
          "name": "stderr"
        },
        {
          "output_type": "stream",
          "text": [
            "\n",
            "Number of matches 42907\n",
            "Number of matches After Lowe's Ratio 462\n",
            "Number of Robust matches 311\n",
            "\n",
            "\n"
          ],
          "name": "stdout"
        },
        {
          "output_type": "stream",
          "text": [
            "\r 83%|████████▎ | 50/60 [09:58<02:12, 13.21s/it]"
          ],
          "name": "stderr"
        },
        {
          "output_type": "stream",
          "text": [
            "\n",
            "Number of matches 42303\n",
            "Number of matches After Lowe's Ratio 621\n",
            "Number of Robust matches 406\n",
            "\n",
            "\n"
          ],
          "name": "stdout"
        },
        {
          "output_type": "stream",
          "text": [
            "\r 85%|████████▌ | 51/60 [10:15<02:09, 14.38s/it]"
          ],
          "name": "stderr"
        },
        {
          "output_type": "stream",
          "text": [
            "\n",
            "Number of matches 36698\n",
            "Number of matches After Lowe's Ratio 17\n",
            "Number of Robust matches 6\n",
            "\n",
            "\n",
            "Number of matches After Lowe's Ratio New 701\n",
            "Number of Robust matches New 23\n",
            "\n",
            "\n"
          ],
          "name": "stdout"
        },
        {
          "output_type": "stream",
          "text": [
            "\r 87%|████████▋ | 52/60 [10:27<01:49, 13.67s/it]"
          ],
          "name": "stderr"
        },
        {
          "output_type": "stream",
          "text": [
            "\n",
            "Number of matches 32205\n",
            "Number of matches After Lowe's Ratio 286\n",
            "Number of Robust matches 144\n",
            "\n",
            "\n"
          ],
          "name": "stdout"
        },
        {
          "output_type": "stream",
          "text": [
            "\r 88%|████████▊ | 53/60 [10:39<01:32, 13.20s/it]"
          ],
          "name": "stderr"
        },
        {
          "output_type": "stream",
          "text": [
            "\n",
            "Number of matches 37215\n",
            "Number of matches After Lowe's Ratio 1175\n",
            "Number of Robust matches 494\n",
            "\n",
            "\n"
          ],
          "name": "stdout"
        },
        {
          "output_type": "stream",
          "text": [
            "\r 90%|█████████ | 54/60 [10:51<01:17, 12.95s/it]"
          ],
          "name": "stderr"
        },
        {
          "output_type": "stream",
          "text": [
            "\n",
            "Number of matches 31693\n",
            "Number of matches After Lowe's Ratio 2068\n",
            "Number of Robust matches 1097\n",
            "\n",
            "\n"
          ],
          "name": "stdout"
        },
        {
          "output_type": "stream",
          "text": [
            "\r 92%|█████████▏| 55/60 [11:03<01:02, 12.59s/it]"
          ],
          "name": "stderr"
        },
        {
          "output_type": "stream",
          "text": [
            "\n",
            "Number of matches 36782\n",
            "Number of matches After Lowe's Ratio 2197\n",
            "Number of Robust matches 1212\n",
            "\n",
            "\n"
          ],
          "name": "stdout"
        },
        {
          "output_type": "stream",
          "text": [
            "\r 93%|█████████▎| 56/60 [11:16<00:50, 12.59s/it]"
          ],
          "name": "stderr"
        },
        {
          "output_type": "stream",
          "text": [
            "\n",
            "Number of matches 32790\n",
            "Number of matches After Lowe's Ratio 2564\n",
            "Number of Robust matches 1738\n",
            "\n",
            "\n"
          ],
          "name": "stdout"
        },
        {
          "output_type": "stream",
          "text": [
            "\r 95%|█████████▌| 57/60 [11:27<00:36, 12.26s/it]"
          ],
          "name": "stderr"
        },
        {
          "output_type": "stream",
          "text": [
            "\n",
            "Number of matches 27658\n",
            "Number of matches After Lowe's Ratio 3561\n",
            "Number of Robust matches 3374\n",
            "\n",
            "\n"
          ],
          "name": "stdout"
        },
        {
          "output_type": "stream",
          "text": [
            "\r 97%|█████████▋| 58/60 [11:35<00:21, 10.87s/it]"
          ],
          "name": "stderr"
        },
        {
          "output_type": "stream",
          "text": [
            "\n",
            "Number of matches 14755\n",
            "Number of matches After Lowe's Ratio 1416\n",
            "Number of Robust matches 1358\n",
            "\n",
            "\n"
          ],
          "name": "stdout"
        },
        {
          "output_type": "stream",
          "text": [
            "\r 98%|█████████▊| 59/60 [11:39<00:08,  8.78s/it]"
          ],
          "name": "stderr"
        },
        {
          "output_type": "stream",
          "text": [
            "\n",
            "Number of matches 22397\n",
            "Number of matches After Lowe's Ratio 19\n",
            "Number of Robust matches 7\n",
            "\n",
            "\n",
            "Number of matches After Lowe's Ratio New 638\n",
            "Number of Robust matches New 23\n",
            "\n",
            "\n"
          ],
          "name": "stdout"
        }
      ]
    },
    {
      "cell_type": "code",
      "metadata": {
        "colab": {
          "base_uri": "https://localhost:8080/"
        },
        "id": "WFVOlawN5-KU",
        "outputId": "7f5bf947-7ecc-4cb0-a2db-1cbae68bca0d"
      },
      "source": [
        "import h5py as h5\n",
        "f=h5.File('drive/MyDrive/H_left_daisy_40.h5','w')\n",
        "t0=time.time()\n",
        "f.create_dataset('data',data=H_left_daisy)\n",
        "f.close()\n",
        "print('HDF5  w/o comp.:',time.time()-t0,'[s] ... size',os.path.getsize('drive/MyDrive/H_left_daisy_40.h5')/1.e6,'MB')"
      ],
      "execution_count": 88,
      "outputs": [
        {
          "output_type": "stream",
          "text": [
            "HDF5  w/o comp.: 0.006738901138305664 [s] ... size 0.006368 MB\n"
          ],
          "name": "stdout"
        }
      ]
    },
    {
      "cell_type": "code",
      "metadata": {
        "colab": {
          "base_uri": "https://localhost:8080/"
        },
        "id": "YrLWcJTn5-H3",
        "outputId": "084c9ff8-8a1f-49d2-8e12-288dfcbd1270"
      },
      "source": [
        "import h5py as h5\n",
        "f=h5.File('drive/MyDrive/H_right_daisy_40.h5','w')\n",
        "t0=time.time()\n",
        "f.create_dataset('data',data=H_right_daisy)\n",
        "f.close()\n",
        "print('HDF5  w/o comp.:',time.time()-t0,'[s] ... size',os.path.getsize('drive/MyDrive/H_right_daisy_40.h5')/1.e6,'MB')"
      ],
      "execution_count": 89,
      "outputs": [
        {
          "output_type": "stream",
          "text": [
            "HDF5  w/o comp.: 0.004650115966796875 [s] ... size 0.006296 MB\n"
          ],
          "name": "stdout"
        }
      ]
    },
    {
      "cell_type": "code",
      "metadata": {
        "id": "ws6DlcJA7IaV"
      },
      "source": [
        "del H_left_daisy, H_right_daisy,keypoints_all_left_daisy, keypoints_all_right_daisy, descriptors_all_left_daisy, descriptors_all_right_daisy, points_all_left_daisy, points_all_right_daisy"
      ],
      "execution_count": 90,
      "outputs": []
    },
    {
      "cell_type": "code",
      "metadata": {
        "id": "HBz2b57Q7IXe"
      },
      "source": [
        ""
      ],
      "execution_count": null,
      "outputs": []
    },
    {
      "cell_type": "code",
      "metadata": {
        "id": "57ecuTIu7yRp"
      },
      "source": [
        "import pickle\n",
        "Fdb = open('all_feat_surf_left.dat', 'rb')\n",
        "kpts_all = pickle.load(Fdb)\n",
        "Fdb.close()\n",
        "\n",
        "keypoints_all_left_surf = []\n",
        "descriptors_all_left_surf = []\n",
        "\n",
        "for j,kpt_each in enumerate(kpts_all):\n",
        "  keypoints_each = []\n",
        "  descrip_each = []\n",
        "  for k,kpt_img in enumerate(kpt_each):\n",
        "    temp_feature = cv2.KeyPoint(x=kpt_img[0][0],y=kpt_img[0][1],_size=kpt_img[1], _angle=kpt_img[2], \n",
        "                            _response=kpt_img[3], _octave=kpt_img[4], _class_id=kpt_img[5]) \n",
        "    temp_descriptor = kpt_img[6]\n",
        "    keypoints_each.append(temp_feature)\n",
        "    descrip_each.append(temp_descriptor)\n",
        "  points_all_left_surf.append(np.asarray([[p.pt[0], p.pt[1]] for p in keypoints_each]))\n",
        "  keypoints_all_left_surf.append(keypoints_each)\n",
        "  descriptors_all_left_surf.append(descrip_each)"
      ],
      "execution_count": 91,
      "outputs": []
    },
    {
      "cell_type": "code",
      "metadata": {
        "id": "UdQBBqgf7zno"
      },
      "source": [
        "import pickle\n",
        "Fdb = open('all_feat_surf_right.dat', 'rb')\n",
        "kpts_all = pickle.load(Fdb)\n",
        "Fdb.close()\n",
        "\n",
        "keypoints_all_right_surf = []\n",
        "descriptors_all_right_surf = []\n",
        "\n",
        "for j,kpt_each in enumerate(kpts_all):\n",
        "  keypoints_each = []\n",
        "  descrip_each = []\n",
        "  for k,kpt_img in enumerate(kpt_each):\n",
        "    temp_feature = cv2.KeyPoint(x=kpt_img[0][0],y=kpt_img[0][1],_size=kpt_img[1], _angle=kpt_img[2], \n",
        "                            _response=kpt_img[3], _octave=kpt_img[4], _class_id=kpt_img[5]) \n",
        "    temp_descriptor = kpt_img[6]\n",
        "    keypoints_each.append(temp_feature)\n",
        "    descrip_each.append(temp_descriptor)\n",
        "  points_all_right_surf.append(np.asarray([[p.pt[0], p.pt[1]] for p in keypoints_each]))\n",
        "  keypoints_all_right_surf.append(keypoints_each)\n",
        "  descriptors_all_right_surf.append(descrip_each)"
      ],
      "execution_count": 92,
      "outputs": []
    },
    {
      "cell_type": "code",
      "metadata": {
        "colab": {
          "base_uri": "https://localhost:8080/"
        },
        "id": "dakGcK227zjs",
        "outputId": "f5d1ac7e-9b65-4750-85e2-36b84cf3d2c2"
      },
      "source": [
        "H_left_surf = []\n",
        "H_right_surf = []\n",
        "\n",
        "num_matches_surf = []\n",
        "num_good_matches_surf = []\n",
        "\n",
        "for j in tqdm(range(len(left_files_path))):\n",
        "  if j==len(left_files_path)-1:\n",
        "    break\n",
        "\n",
        "  H_a,matches,gd_matches = get_Hmatrix(images_left_bgr[j:j+2][::-1],keypoints_all_left_surf[j:j+2][::-1],points_all_left_surf[j:j+2][::-1],descriptors_all_left_surf[j:j+2][::-1],0.65)\n",
        "  H_left_surf.append(H_a)\n",
        "  num_matches_surf.append(matches)\n",
        "  num_good_matches_surf.append(gd_matches)\n",
        "\n",
        "for j in tqdm(range(len(right_files_path))):\n",
        "  if j==len(right_files_path)-1:\n",
        "    break\n",
        "\n",
        "  H_a,matches,gd_matches = get_Hmatrix(images_right_bgr[j:j+2][::-1],keypoints_all_right_surf[j:j+2][::-1],points_all_right_surf[j:j+2][::-1],descriptors_all_right_surf[j:j+2][::-1],0.65)\n",
        "  H_right_surf.append(H_a)\n",
        "  num_matches_surf.append(matches)\n",
        "  num_good_matches_surf.append(gd_matches)"
      ],
      "execution_count": 93,
      "outputs": [
        {
          "output_type": "stream",
          "text": [
            "  2%|▏         | 1/61 [00:07<07:03,  7.06s/it]"
          ],
          "name": "stderr"
        },
        {
          "output_type": "stream",
          "text": [
            "\n",
            "Number of matches 52697\n",
            "Number of matches After Lowe's Ratio 3086\n",
            "Number of Robust matches 1337\n",
            "\n",
            "\n"
          ],
          "name": "stdout"
        },
        {
          "output_type": "stream",
          "text": [
            "\r  3%|▎         | 2/61 [00:14<07:04,  7.19s/it]"
          ],
          "name": "stderr"
        },
        {
          "output_type": "stream",
          "text": [
            "\n",
            "Number of matches 52182\n",
            "Number of matches After Lowe's Ratio 3577\n",
            "Number of Robust matches 1478\n",
            "\n",
            "\n"
          ],
          "name": "stdout"
        },
        {
          "output_type": "stream",
          "text": [
            "\r  5%|▍         | 3/61 [00:21<06:46,  7.01s/it]"
          ],
          "name": "stderr"
        },
        {
          "output_type": "stream",
          "text": [
            "\n",
            "Number of matches 48654\n",
            "Number of matches After Lowe's Ratio 2402\n",
            "Number of Robust matches 998\n",
            "\n",
            "\n"
          ],
          "name": "stdout"
        },
        {
          "output_type": "stream",
          "text": [
            "\r  7%|▋         | 4/61 [00:28<06:42,  7.06s/it]"
          ],
          "name": "stderr"
        },
        {
          "output_type": "stream",
          "text": [
            "\n",
            "Number of matches 50729\n",
            "Number of matches After Lowe's Ratio 1653\n",
            "Number of Robust matches 801\n",
            "\n",
            "\n"
          ],
          "name": "stdout"
        },
        {
          "output_type": "stream",
          "text": [
            "\r  8%|▊         | 5/61 [00:35<06:29,  6.96s/it]"
          ],
          "name": "stderr"
        },
        {
          "output_type": "stream",
          "text": [
            "\n",
            "Number of matches 51877\n",
            "Number of matches After Lowe's Ratio 138\n",
            "Number of Robust matches 60\n",
            "\n",
            "\n",
            "\n",
            "Number of matches 58410\n",
            "Number of matches After Lowe's Ratio 56\n",
            "Number of Robust matches 12\n",
            "\n",
            "\n",
            "Number of matches After Lowe's Ratio New 3951\n"
          ],
          "name": "stdout"
        },
        {
          "output_type": "stream",
          "text": [
            "\r 10%|▉         | 6/61 [00:43<06:40,  7.29s/it]"
          ],
          "name": "stderr"
        },
        {
          "output_type": "stream",
          "text": [
            "Number of Robust matches New 42\n",
            "\n",
            "\n"
          ],
          "name": "stdout"
        },
        {
          "output_type": "stream",
          "text": [
            "\r 11%|█▏        | 7/61 [00:51<06:46,  7.53s/it]"
          ],
          "name": "stderr"
        },
        {
          "output_type": "stream",
          "text": [
            "\n",
            "Number of matches 54613\n",
            "Number of matches After Lowe's Ratio 3929\n",
            "Number of Robust matches 3145\n",
            "\n",
            "\n"
          ],
          "name": "stdout"
        },
        {
          "output_type": "stream",
          "text": [
            "\r 13%|█▎        | 8/61 [00:57<06:25,  7.28s/it]"
          ],
          "name": "stderr"
        },
        {
          "output_type": "stream",
          "text": [
            "\n",
            "Number of matches 50173\n",
            "Number of matches After Lowe's Ratio 3546\n",
            "Number of Robust matches 2416\n",
            "\n",
            "\n"
          ],
          "name": "stdout"
        },
        {
          "output_type": "stream",
          "text": [
            "\r 15%|█▍        | 9/61 [01:04<06:15,  7.23s/it]"
          ],
          "name": "stderr"
        },
        {
          "output_type": "stream",
          "text": [
            "\n",
            "Number of matches 53291\n",
            "Number of matches After Lowe's Ratio 4220\n",
            "Number of Robust matches 2077\n",
            "\n",
            "\n"
          ],
          "name": "stdout"
        },
        {
          "output_type": "stream",
          "text": [
            "\r 16%|█▋        | 10/61 [01:12<06:05,  7.17s/it]"
          ],
          "name": "stderr"
        },
        {
          "output_type": "stream",
          "text": [
            "\n",
            "Number of matches 52062\n",
            "Number of matches After Lowe's Ratio 3483\n",
            "Number of Robust matches 1612\n",
            "\n",
            "\n"
          ],
          "name": "stdout"
        },
        {
          "output_type": "stream",
          "text": [
            "\r 18%|█▊        | 11/61 [01:19<06:03,  7.26s/it]"
          ],
          "name": "stderr"
        },
        {
          "output_type": "stream",
          "text": [
            "\n",
            "Number of matches 54574\n",
            "Number of matches After Lowe's Ratio 565\n",
            "Number of Robust matches 147\n",
            "\n",
            "\n"
          ],
          "name": "stdout"
        },
        {
          "output_type": "stream",
          "text": [
            "\r 20%|█▉        | 12/61 [01:27<06:09,  7.54s/it]"
          ],
          "name": "stderr"
        },
        {
          "output_type": "stream",
          "text": [
            "\n",
            "Number of matches 61836\n",
            "Number of matches After Lowe's Ratio 511\n",
            "Number of Robust matches 127\n",
            "\n",
            "\n",
            "\n",
            "Number of matches 70006\n",
            "Number of matches After Lowe's Ratio 112\n",
            "Number of Robust matches 17\n",
            "\n",
            "\n",
            "Number of matches After Lowe's Ratio New 5469\n"
          ],
          "name": "stdout"
        },
        {
          "output_type": "stream",
          "text": [
            "\r 21%|██▏       | 13/61 [01:36<06:25,  8.03s/it]"
          ],
          "name": "stderr"
        },
        {
          "output_type": "stream",
          "text": [
            "Number of Robust matches New 73\n",
            "\n",
            "\n",
            "\n",
            "Number of matches 73464\n",
            "Number of matches After Lowe's Ratio 28\n",
            "Number of Robust matches 5\n",
            "\n",
            "\n",
            "Number of matches After Lowe's Ratio New 4715\n"
          ],
          "name": "stdout"
        },
        {
          "output_type": "stream",
          "text": [
            "\r 23%|██▎       | 14/61 [01:47<06:51,  8.75s/it]"
          ],
          "name": "stderr"
        },
        {
          "output_type": "stream",
          "text": [
            "Number of Robust matches New 8\n",
            "\n",
            "\n"
          ],
          "name": "stdout"
        },
        {
          "output_type": "stream",
          "text": [
            "\r 25%|██▍       | 15/61 [01:58<07:11,  9.39s/it]"
          ],
          "name": "stderr"
        },
        {
          "output_type": "stream",
          "text": [
            "\n",
            "Number of matches 65596\n",
            "Number of matches After Lowe's Ratio 1129\n",
            "Number of Robust matches 717\n",
            "\n",
            "\n"
          ],
          "name": "stdout"
        },
        {
          "output_type": "stream",
          "text": [
            "\r 26%|██▌       | 16/61 [02:07<07:04,  9.43s/it]"
          ],
          "name": "stderr"
        },
        {
          "output_type": "stream",
          "text": [
            "\n",
            "Number of matches 60921\n",
            "Number of matches After Lowe's Ratio 272\n",
            "Number of Robust matches 79\n",
            "\n",
            "\n",
            "\n",
            "Number of matches 56355\n",
            "Number of matches After Lowe's Ratio 95\n",
            "Number of Robust matches 15\n",
            "\n",
            "\n",
            "Number of matches After Lowe's Ratio New 4035\n"
          ],
          "name": "stdout"
        },
        {
          "output_type": "stream",
          "text": [
            "\r 28%|██▊       | 17/61 [02:15<06:31,  8.90s/it]"
          ],
          "name": "stderr"
        },
        {
          "output_type": "stream",
          "text": [
            "Number of Robust matches New 25\n",
            "\n",
            "\n",
            "\n",
            "Number of matches 48729\n",
            "Number of matches After Lowe's Ratio 70\n",
            "Number of Robust matches 12\n",
            "\n",
            "\n",
            "Number of matches After Lowe's Ratio New 3828\n"
          ],
          "name": "stdout"
        },
        {
          "output_type": "stream",
          "text": [
            "\r 30%|██▉       | 18/61 [02:23<06:08,  8.57s/it]"
          ],
          "name": "stderr"
        },
        {
          "output_type": "stream",
          "text": [
            "Number of Robust matches New 27\n",
            "\n",
            "\n",
            "\n",
            "Number of matches 52766\n",
            "Number of matches After Lowe's Ratio 69\n",
            "Number of Robust matches 7\n",
            "\n",
            "\n",
            "Number of matches After Lowe's Ratio New 4012\n"
          ],
          "name": "stdout"
        },
        {
          "output_type": "stream",
          "text": [
            "\r 31%|███       | 19/61 [02:30<05:45,  8.22s/it]"
          ],
          "name": "stderr"
        },
        {
          "output_type": "stream",
          "text": [
            "Number of Robust matches New 35\n",
            "\n",
            "\n",
            "\n",
            "Number of matches 52509\n",
            "Number of matches After Lowe's Ratio 81\n",
            "Number of Robust matches 9\n",
            "\n",
            "\n",
            "Number of matches After Lowe's Ratio New 4156\n"
          ],
          "name": "stdout"
        },
        {
          "output_type": "stream",
          "text": [
            "\r 33%|███▎      | 20/61 [02:37<05:20,  7.83s/it]"
          ],
          "name": "stderr"
        },
        {
          "output_type": "stream",
          "text": [
            "Number of Robust matches New 14\n",
            "\n",
            "\n",
            "\n",
            "Number of matches 58733\n",
            "Number of matches After Lowe's Ratio 53\n",
            "Number of Robust matches 9\n",
            "\n",
            "\n",
            "Number of matches After Lowe's Ratio New 4025\n"
          ],
          "name": "stdout"
        },
        {
          "output_type": "stream",
          "text": [
            "\r 34%|███▍      | 21/61 [02:45<05:13,  7.83s/it]"
          ],
          "name": "stderr"
        },
        {
          "output_type": "stream",
          "text": [
            "Number of Robust matches New 15\n",
            "\n",
            "\n",
            "\n",
            "Number of matches 68121\n",
            "Number of matches After Lowe's Ratio 48\n",
            "Number of Robust matches 6\n",
            "\n",
            "\n",
            "Number of matches After Lowe's Ratio New 4788\n"
          ],
          "name": "stdout"
        },
        {
          "output_type": "stream",
          "text": [
            "\r 36%|███▌      | 22/61 [02:54<05:17,  8.15s/it]"
          ],
          "name": "stderr"
        },
        {
          "output_type": "stream",
          "text": [
            "Number of Robust matches New 13\n",
            "\n",
            "\n",
            "\n",
            "Number of matches 61374\n",
            "Number of matches After Lowe's Ratio 38\n",
            "Number of Robust matches 7\n",
            "\n",
            "\n",
            "Number of matches After Lowe's Ratio New 4170\n"
          ],
          "name": "stdout"
        },
        {
          "output_type": "stream",
          "text": [
            "\r 38%|███▊      | 23/61 [03:03<05:24,  8.54s/it]"
          ],
          "name": "stderr"
        },
        {
          "output_type": "stream",
          "text": [
            "Number of Robust matches New 10\n",
            "\n",
            "\n",
            "\n",
            "Number of matches 54842\n",
            "Number of matches After Lowe's Ratio 85\n",
            "Number of Robust matches 7\n",
            "\n",
            "\n",
            "Number of matches After Lowe's Ratio New 4220\n"
          ],
          "name": "stdout"
        },
        {
          "output_type": "stream",
          "text": [
            "\r 39%|███▉      | 24/61 [03:12<05:14,  8.49s/it]"
          ],
          "name": "stderr"
        },
        {
          "output_type": "stream",
          "text": [
            "Number of Robust matches New 18\n",
            "\n",
            "\n",
            "\n",
            "Number of matches 50313\n",
            "Number of matches After Lowe's Ratio 101\n",
            "Number of Robust matches 12\n",
            "\n",
            "\n",
            "Number of matches After Lowe's Ratio New 4213\n"
          ],
          "name": "stdout"
        },
        {
          "output_type": "stream",
          "text": [
            "\r 41%|████      | 25/61 [03:19<04:55,  8.20s/it]"
          ],
          "name": "stderr"
        },
        {
          "output_type": "stream",
          "text": [
            "Number of Robust matches New 23\n",
            "\n",
            "\n",
            "\n",
            "Number of matches 57905\n",
            "Number of matches After Lowe's Ratio 100\n",
            "Number of Robust matches 16\n",
            "\n",
            "\n",
            "Number of matches After Lowe's Ratio New 4414\n"
          ],
          "name": "stdout"
        },
        {
          "output_type": "stream",
          "text": [
            "\r 43%|████▎     | 26/61 [03:26<04:31,  7.75s/it]"
          ],
          "name": "stderr"
        },
        {
          "output_type": "stream",
          "text": [
            "Number of Robust matches New 39\n",
            "\n",
            "\n",
            "\n",
            "Number of matches 52798\n",
            "Number of matches After Lowe's Ratio 71\n",
            "Number of Robust matches 8\n",
            "\n",
            "\n",
            "Number of matches After Lowe's Ratio New 4320\n"
          ],
          "name": "stdout"
        },
        {
          "output_type": "stream",
          "text": [
            "\r 44%|████▍     | 27/61 [03:34<04:25,  7.80s/it]"
          ],
          "name": "stderr"
        },
        {
          "output_type": "stream",
          "text": [
            "Number of Robust matches New 15\n",
            "\n",
            "\n",
            "\n",
            "Number of matches 62507\n",
            "Number of matches After Lowe's Ratio 80\n",
            "Number of Robust matches 8\n",
            "\n",
            "\n",
            "Number of matches After Lowe's Ratio New 4675\n"
          ],
          "name": "stdout"
        },
        {
          "output_type": "stream",
          "text": [
            "\r 46%|████▌     | 28/61 [03:42<04:19,  7.85s/it]"
          ],
          "name": "stderr"
        },
        {
          "output_type": "stream",
          "text": [
            "Number of Robust matches New 30\n",
            "\n",
            "\n",
            "\n",
            "Number of matches 61925\n",
            "Number of matches After Lowe's Ratio 17\n",
            "Number of Robust matches 4\n",
            "\n",
            "\n",
            "Number of matches After Lowe's Ratio New 3904\n",
            "Number of Robust matches New 8\n",
            "\n",
            "\n"
          ],
          "name": "stdout"
        },
        {
          "output_type": "stream",
          "text": [
            " 49%|████▉     | 30/61 [03:59<04:16,  8.27s/it]"
          ],
          "name": "stderr"
        },
        {
          "output_type": "stream",
          "text": [
            "\n",
            "Number of matches 68397\n",
            "Number of matches After Lowe's Ratio 117\n",
            "Number of Robust matches 31\n",
            "\n",
            "\n"
          ],
          "name": "stdout"
        },
        {
          "output_type": "stream",
          "text": [
            "\r 51%|█████     | 31/61 [04:09<04:22,  8.75s/it]"
          ],
          "name": "stderr"
        },
        {
          "output_type": "stream",
          "text": [
            "\n",
            "Number of matches 60044\n",
            "Number of matches After Lowe's Ratio 230\n",
            "Number of Robust matches 57\n",
            "\n",
            "\n",
            "\n",
            "Number of matches 51136\n",
            "Number of matches After Lowe's Ratio 114\n",
            "Number of Robust matches 15\n",
            "\n",
            "\n",
            "Number of matches After Lowe's Ratio New 4124\n"
          ],
          "name": "stdout"
        },
        {
          "output_type": "stream",
          "text": [
            "\r 52%|█████▏    | 32/61 [04:16<04:01,  8.31s/it]"
          ],
          "name": "stderr"
        },
        {
          "output_type": "stream",
          "text": [
            "Number of Robust matches New 42\n",
            "\n",
            "\n"
          ],
          "name": "stdout"
        },
        {
          "output_type": "stream",
          "text": [
            "\r 54%|█████▍    | 33/61 [04:23<03:43,  7.99s/it]"
          ],
          "name": "stderr"
        },
        {
          "output_type": "stream",
          "text": [
            "\n",
            "Number of matches 54712\n",
            "Number of matches After Lowe's Ratio 224\n",
            "Number of Robust matches 51\n",
            "\n",
            "\n"
          ],
          "name": "stdout"
        },
        {
          "output_type": "stream",
          "text": [
            "\r 56%|█████▌    | 34/61 [04:31<03:32,  7.88s/it]"
          ],
          "name": "stderr"
        },
        {
          "output_type": "stream",
          "text": [
            "\n",
            "Number of matches 57396\n",
            "Number of matches After Lowe's Ratio 367\n",
            "Number of Robust matches 103\n",
            "\n",
            "\n"
          ],
          "name": "stdout"
        },
        {
          "output_type": "stream",
          "text": [
            "\r 57%|█████▋    | 35/61 [04:38<03:20,  7.69s/it]"
          ],
          "name": "stderr"
        },
        {
          "output_type": "stream",
          "text": [
            "\n",
            "Number of matches 60496\n",
            "Number of matches After Lowe's Ratio 565\n",
            "Number of Robust matches 203\n",
            "\n",
            "\n"
          ],
          "name": "stdout"
        },
        {
          "output_type": "stream",
          "text": [
            "\r 59%|█████▉    | 36/61 [04:47<03:19,  7.96s/it]"
          ],
          "name": "stderr"
        },
        {
          "output_type": "stream",
          "text": [
            "\n",
            "Number of matches 66192\n",
            "Number of matches After Lowe's Ratio 1770\n",
            "Number of Robust matches 1096\n",
            "\n",
            "\n",
            "\n",
            "Number of matches 79749\n",
            "Number of matches After Lowe's Ratio 55\n",
            "Number of Robust matches 9\n",
            "\n",
            "\n",
            "Number of matches After Lowe's Ratio New 5165\n"
          ],
          "name": "stdout"
        },
        {
          "output_type": "stream",
          "text": [
            "\r 61%|██████    | 37/61 [04:58<03:33,  8.89s/it]"
          ],
          "name": "stderr"
        },
        {
          "output_type": "stream",
          "text": [
            "Number of Robust matches New 16\n",
            "\n",
            "\n"
          ],
          "name": "stdout"
        },
        {
          "output_type": "stream",
          "text": [
            "\r 62%|██████▏   | 38/61 [05:10<03:46,  9.84s/it]"
          ],
          "name": "stderr"
        },
        {
          "output_type": "stream",
          "text": [
            "\n",
            "Number of matches 74159\n",
            "Number of matches After Lowe's Ratio 299\n",
            "Number of Robust matches 153\n",
            "\n",
            "\n",
            "\n",
            "Number of matches 66292\n",
            "Number of matches After Lowe's Ratio 59\n",
            "Number of Robust matches 14\n",
            "\n",
            "\n",
            "Number of matches After Lowe's Ratio New 4500\n"
          ],
          "name": "stdout"
        },
        {
          "output_type": "stream",
          "text": [
            "\r 64%|██████▍   | 39/61 [05:20<03:38,  9.93s/it]"
          ],
          "name": "stderr"
        },
        {
          "output_type": "stream",
          "text": [
            "Number of Robust matches New 35\n",
            "\n",
            "\n"
          ],
          "name": "stdout"
        },
        {
          "output_type": "stream",
          "text": [
            "\r 66%|██████▌   | 40/61 [05:29<03:25,  9.78s/it]"
          ],
          "name": "stderr"
        },
        {
          "output_type": "stream",
          "text": [
            "\n",
            "Number of matches 56322\n",
            "Number of matches After Lowe's Ratio 1646\n",
            "Number of Robust matches 986\n",
            "\n",
            "\n"
          ],
          "name": "stdout"
        },
        {
          "output_type": "stream",
          "text": [
            "\r 67%|██████▋   | 41/61 [05:37<03:01,  9.06s/it]"
          ],
          "name": "stderr"
        },
        {
          "output_type": "stream",
          "text": [
            "\n",
            "Number of matches 51956\n",
            "Number of matches After Lowe's Ratio 182\n",
            "Number of Robust matches 31\n",
            "\n",
            "\n",
            "\n",
            "Number of matches 61845\n",
            "Number of matches After Lowe's Ratio 79\n",
            "Number of Robust matches 13\n",
            "\n",
            "\n",
            "Number of matches After Lowe's Ratio New 4655\n"
          ],
          "name": "stdout"
        },
        {
          "output_type": "stream",
          "text": [
            "\r 69%|██████▉   | 42/61 [05:44<02:39,  8.41s/it]"
          ],
          "name": "stderr"
        },
        {
          "output_type": "stream",
          "text": [
            "Number of Robust matches New 82\n",
            "\n",
            "\n"
          ],
          "name": "stdout"
        },
        {
          "output_type": "stream",
          "text": [
            "\r 70%|███████   | 43/61 [05:52<02:30,  8.34s/it]"
          ],
          "name": "stderr"
        },
        {
          "output_type": "stream",
          "text": [
            "\n",
            "Number of matches 60666\n",
            "Number of matches After Lowe's Ratio 450\n",
            "Number of Robust matches 140\n",
            "\n",
            "\n",
            "\n",
            "Number of matches 65794\n",
            "Number of matches After Lowe's Ratio 60\n",
            "Number of Robust matches 12\n",
            "\n",
            "\n",
            "Number of matches After Lowe's Ratio New 4551\n"
          ],
          "name": "stdout"
        },
        {
          "output_type": "stream",
          "text": [
            "\r 72%|███████▏  | 44/61 [06:01<02:24,  8.50s/it]"
          ],
          "name": "stderr"
        },
        {
          "output_type": "stream",
          "text": [
            "Number of Robust matches New 41\n",
            "\n",
            "\n",
            "\n",
            "Number of matches 72646\n",
            "Number of matches After Lowe's Ratio 23\n",
            "Number of Robust matches 4\n",
            "\n",
            "\n",
            "Number of matches After Lowe's Ratio New 4458\n"
          ],
          "name": "stdout"
        },
        {
          "output_type": "stream",
          "text": [
            "\r 74%|███████▍  | 45/61 [06:12<02:27,  9.25s/it]"
          ],
          "name": "stderr"
        },
        {
          "output_type": "stream",
          "text": [
            "Number of Robust matches New 8\n",
            "\n",
            "\n"
          ],
          "name": "stdout"
        },
        {
          "output_type": "stream",
          "text": [
            "\r 75%|███████▌  | 46/61 [06:24<02:30, 10.05s/it]"
          ],
          "name": "stderr"
        },
        {
          "output_type": "stream",
          "text": [
            "\n",
            "Number of matches 70225\n",
            "Number of matches After Lowe's Ratio 18\n",
            "Number of Robust matches 5\n",
            "\n",
            "\n",
            "Number of matches After Lowe's Ratio New 4151\n",
            "Number of Robust matches New 17\n",
            "\n",
            "\n"
          ],
          "name": "stdout"
        },
        {
          "output_type": "stream",
          "text": [
            "\r 77%|███████▋  | 47/61 [06:34<02:23, 10.24s/it]"
          ],
          "name": "stderr"
        },
        {
          "output_type": "stream",
          "text": [
            "\n",
            "Number of matches 72065\n",
            "Number of matches After Lowe's Ratio 388\n",
            "Number of Robust matches 145\n",
            "\n",
            "\n"
          ],
          "name": "stdout"
        },
        {
          "output_type": "stream",
          "text": [
            "\r 79%|███████▊  | 48/61 [06:45<02:15, 10.39s/it]"
          ],
          "name": "stderr"
        },
        {
          "output_type": "stream",
          "text": [
            "\n",
            "Number of matches 65893\n",
            "Number of matches After Lowe's Ratio 1811\n",
            "Number of Robust matches 637\n",
            "\n",
            "\n"
          ],
          "name": "stdout"
        },
        {
          "output_type": "stream",
          "text": [
            "\r 80%|████████  | 49/61 [06:55<02:01, 10.16s/it]"
          ],
          "name": "stderr"
        },
        {
          "output_type": "stream",
          "text": [
            "\n",
            "Number of matches 59960\n",
            "Number of matches After Lowe's Ratio 1456\n",
            "Number of Robust matches 439\n",
            "\n",
            "\n"
          ],
          "name": "stdout"
        },
        {
          "output_type": "stream",
          "text": [
            "\r 82%|████████▏ | 50/61 [07:03<01:44,  9.49s/it]"
          ],
          "name": "stderr"
        },
        {
          "output_type": "stream",
          "text": [
            "\n",
            "Number of matches 69454\n",
            "Number of matches After Lowe's Ratio 2451\n",
            "Number of Robust matches 1144\n",
            "\n",
            "\n"
          ],
          "name": "stdout"
        },
        {
          "output_type": "stream",
          "text": [
            "\r 84%|████████▎ | 51/61 [07:13<01:37,  9.77s/it]"
          ],
          "name": "stderr"
        },
        {
          "output_type": "stream",
          "text": [
            "\n",
            "Number of matches 69795\n",
            "Number of matches After Lowe's Ratio 2888\n",
            "Number of Robust matches 2083\n",
            "\n",
            "\n"
          ],
          "name": "stdout"
        },
        {
          "output_type": "stream",
          "text": [
            "\r 85%|████████▌ | 52/61 [07:24<01:30, 10.09s/it]"
          ],
          "name": "stderr"
        },
        {
          "output_type": "stream",
          "text": [
            "\n",
            "Number of matches 76329\n",
            "Number of matches After Lowe's Ratio 2503\n",
            "Number of Robust matches 2032\n",
            "\n",
            "\n",
            "\n",
            "Number of matches 80579\n",
            "Number of matches After Lowe's Ratio 22\n",
            "Number of Robust matches 4\n",
            "\n",
            "\n",
            "Number of matches After Lowe's Ratio New 4890\n"
          ],
          "name": "stdout"
        },
        {
          "output_type": "stream",
          "text": [
            "\r 87%|████████▋ | 53/61 [07:36<01:26, 10.77s/it]"
          ],
          "name": "stderr"
        },
        {
          "output_type": "stream",
          "text": [
            "Number of Robust matches New 49\n",
            "\n",
            "\n"
          ],
          "name": "stdout"
        },
        {
          "output_type": "stream",
          "text": [
            "\r 89%|████████▊ | 54/61 [07:49<01:19, 11.33s/it]"
          ],
          "name": "stderr"
        },
        {
          "output_type": "stream",
          "text": [
            "\n",
            "Number of matches 81471\n",
            "Number of matches After Lowe's Ratio 2731\n",
            "Number of Robust matches 2036\n",
            "\n",
            "\n"
          ],
          "name": "stdout"
        },
        {
          "output_type": "stream",
          "text": [
            "\r 90%|█████████ | 55/61 [08:01<01:10, 11.68s/it]"
          ],
          "name": "stderr"
        },
        {
          "output_type": "stream",
          "text": [
            "\n",
            "Number of matches 77990\n",
            "Number of matches After Lowe's Ratio 164\n",
            "Number of Robust matches 50\n",
            "\n",
            "\n",
            "\n",
            "Number of matches 70892\n",
            "Number of matches After Lowe's Ratio 74\n",
            "Number of Robust matches 11\n",
            "\n",
            "\n",
            "Number of matches After Lowe's Ratio New 4440\n"
          ],
          "name": "stdout"
        },
        {
          "output_type": "stream",
          "text": [
            "\r 92%|█████████▏| 56/61 [08:13<00:57, 11.56s/it]"
          ],
          "name": "stderr"
        },
        {
          "output_type": "stream",
          "text": [
            "Number of Robust matches New 28\n",
            "\n",
            "\n"
          ],
          "name": "stdout"
        },
        {
          "output_type": "stream",
          "text": [
            "\r 93%|█████████▎| 57/61 [08:23<00:44, 11.13s/it]"
          ],
          "name": "stderr"
        },
        {
          "output_type": "stream",
          "text": [
            "\n",
            "Number of matches 63676\n",
            "Number of matches After Lowe's Ratio 687\n",
            "Number of Robust matches 359\n",
            "\n",
            "\n"
          ],
          "name": "stdout"
        },
        {
          "output_type": "stream",
          "text": [
            "\r 95%|█████████▌| 58/61 [08:31<00:31, 10.38s/it]"
          ],
          "name": "stderr"
        },
        {
          "output_type": "stream",
          "text": [
            "\n",
            "Number of matches 63078\n",
            "Number of matches After Lowe's Ratio 249\n",
            "Number of Robust matches 77\n",
            "\n",
            "\n",
            "\n",
            "Number of matches 75629\n",
            "Number of matches After Lowe's Ratio 98\n",
            "Number of Robust matches 21\n",
            "\n",
            "\n",
            "Number of matches After Lowe's Ratio New 5257\n"
          ],
          "name": "stdout"
        },
        {
          "output_type": "stream",
          "text": [
            "\r 97%|█████████▋| 59/61 [08:41<00:20, 10.08s/it]"
          ],
          "name": "stderr"
        },
        {
          "output_type": "stream",
          "text": [
            "Number of Robust matches New 138\n",
            "\n",
            "\n",
            "\n",
            "Number of matches 76046\n",
            "Number of matches After Lowe's Ratio 54\n",
            "Number of Robust matches 17\n",
            "\n",
            "\n",
            "Number of matches After Lowe's Ratio New 4899\n"
          ],
          "name": "stdout"
        },
        {
          "output_type": "stream",
          "text": [
            "  0%|          | 0/60 [00:00<?, ?it/s]"
          ],
          "name": "stderr"
        },
        {
          "output_type": "stream",
          "text": [
            "Number of Robust matches New 29\n",
            "\n",
            "\n"
          ],
          "name": "stdout"
        },
        {
          "output_type": "stream",
          "text": [
            "\r  2%|▏         | 1/60 [00:07<07:50,  7.98s/it]"
          ],
          "name": "stderr"
        },
        {
          "output_type": "stream",
          "text": [
            "\n",
            "Number of matches 68645\n",
            "Number of matches After Lowe's Ratio 3021\n",
            "Number of Robust matches 1225\n",
            "\n",
            "\n"
          ],
          "name": "stdout"
        },
        {
          "output_type": "stream",
          "text": [
            "\r  3%|▎         | 2/60 [00:18<08:30,  8.81s/it]"
          ],
          "name": "stderr"
        },
        {
          "output_type": "stream",
          "text": [
            "\n",
            "Number of matches 71726\n",
            "Number of matches After Lowe's Ratio 740\n",
            "Number of Robust matches 248\n",
            "\n",
            "\n",
            "\n",
            "Number of matches 67318\n",
            "Number of matches After Lowe's Ratio 60\n",
            "Number of Robust matches 12\n",
            "\n",
            "\n",
            "Number of matches After Lowe's Ratio New 4163\n"
          ],
          "name": "stdout"
        },
        {
          "output_type": "stream",
          "text": [
            "\r  5%|▌         | 3/60 [00:29<09:00,  9.49s/it]"
          ],
          "name": "stderr"
        },
        {
          "output_type": "stream",
          "text": [
            "Number of Robust matches New 38\n",
            "\n",
            "\n",
            "\n",
            "Number of matches 64804\n",
            "Number of matches After Lowe's Ratio 87\n",
            "Number of Robust matches 11\n",
            "\n",
            "\n",
            "Number of matches After Lowe's Ratio New 4599\n"
          ],
          "name": "stdout"
        },
        {
          "output_type": "stream",
          "text": [
            "\r  7%|▋         | 4/60 [00:39<09:02,  9.69s/it]"
          ],
          "name": "stderr"
        },
        {
          "output_type": "stream",
          "text": [
            "Number of Robust matches New 15\n",
            "\n",
            "\n"
          ],
          "name": "stdout"
        },
        {
          "output_type": "stream",
          "text": [
            "\r  8%|▊         | 5/60 [00:48<08:39,  9.44s/it]"
          ],
          "name": "stderr"
        },
        {
          "output_type": "stream",
          "text": [
            "\n",
            "Number of matches 58564\n",
            "Number of matches After Lowe's Ratio 1696\n",
            "Number of Robust matches 570\n",
            "\n",
            "\n"
          ],
          "name": "stdout"
        },
        {
          "output_type": "stream",
          "text": [
            "\r 10%|█         | 6/60 [00:56<08:08,  9.05s/it]"
          ],
          "name": "stderr"
        },
        {
          "output_type": "stream",
          "text": [
            "\n",
            "Number of matches 54849\n",
            "Number of matches After Lowe's Ratio 2909\n",
            "Number of Robust matches 1146\n",
            "\n",
            "\n"
          ],
          "name": "stdout"
        },
        {
          "output_type": "stream",
          "text": [
            "\r 12%|█▏        | 7/60 [01:04<07:37,  8.63s/it]"
          ],
          "name": "stderr"
        },
        {
          "output_type": "stream",
          "text": [
            "\n",
            "Number of matches 52680\n",
            "Number of matches After Lowe's Ratio 3740\n",
            "Number of Robust matches 1665\n",
            "\n",
            "\n"
          ],
          "name": "stdout"
        },
        {
          "output_type": "stream",
          "text": [
            "\r 13%|█▎        | 8/60 [01:11<06:56,  8.02s/it]"
          ],
          "name": "stderr"
        },
        {
          "output_type": "stream",
          "text": [
            "\n",
            "Number of matches 49108\n",
            "Number of matches After Lowe's Ratio 2225\n",
            "Number of Robust matches 1157\n",
            "\n",
            "\n"
          ],
          "name": "stdout"
        },
        {
          "output_type": "stream",
          "text": [
            "\r 15%|█▌        | 9/60 [01:18<06:33,  7.72s/it]"
          ],
          "name": "stderr"
        },
        {
          "output_type": "stream",
          "text": [
            "\n",
            "Number of matches 43519\n",
            "Number of matches After Lowe's Ratio 2339\n",
            "Number of Robust matches 1349\n",
            "\n",
            "\n"
          ],
          "name": "stdout"
        },
        {
          "output_type": "stream",
          "text": [
            "\r 17%|█▋        | 10/60 [01:23<05:49,  6.98s/it]"
          ],
          "name": "stderr"
        },
        {
          "output_type": "stream",
          "text": [
            "\n",
            "Number of matches 38924\n",
            "Number of matches After Lowe's Ratio 2536\n",
            "Number of Robust matches 1906\n",
            "\n",
            "\n",
            "\n",
            "Number of matches 41109\n",
            "Number of matches After Lowe's Ratio 38\n",
            "Number of Robust matches 6\n",
            "\n",
            "\n",
            "Number of matches After Lowe's Ratio New 3067\n"
          ],
          "name": "stdout"
        },
        {
          "output_type": "stream",
          "text": [
            "\r 18%|█▊        | 11/60 [01:28<05:15,  6.44s/it]"
          ],
          "name": "stderr"
        },
        {
          "output_type": "stream",
          "text": [
            "Number of Robust matches New 16\n",
            "\n",
            "\n"
          ],
          "name": "stdout"
        },
        {
          "output_type": "stream",
          "text": [
            "\r 20%|██        | 12/60 [01:34<05:05,  6.36s/it]"
          ],
          "name": "stderr"
        },
        {
          "output_type": "stream",
          "text": [
            "\n",
            "Number of matches 47295\n",
            "Number of matches After Lowe's Ratio 2237\n",
            "Number of Robust matches 1398\n",
            "\n",
            "\n"
          ],
          "name": "stdout"
        },
        {
          "output_type": "stream",
          "text": [
            "\r 22%|██▏       | 13/60 [01:41<05:07,  6.55s/it]"
          ],
          "name": "stderr"
        },
        {
          "output_type": "stream",
          "text": [
            "\n",
            "Number of matches 49742\n",
            "Number of matches After Lowe's Ratio 3969\n",
            "Number of Robust matches 2283\n",
            "\n",
            "\n"
          ],
          "name": "stdout"
        },
        {
          "output_type": "stream",
          "text": [
            "\r 23%|██▎       | 14/60 [01:48<05:02,  6.58s/it]"
          ],
          "name": "stderr"
        },
        {
          "output_type": "stream",
          "text": [
            "\n",
            "Number of matches 49178\n",
            "Number of matches After Lowe's Ratio 4652\n",
            "Number of Robust matches 2074\n",
            "\n",
            "\n"
          ],
          "name": "stdout"
        },
        {
          "output_type": "stream",
          "text": [
            "\r 25%|██▌       | 15/60 [01:55<05:02,  6.73s/it]"
          ],
          "name": "stderr"
        },
        {
          "output_type": "stream",
          "text": [
            "\n",
            "Number of matches 49206\n",
            "Number of matches After Lowe's Ratio 2936\n",
            "Number of Robust matches 1449\n",
            "\n",
            "\n"
          ],
          "name": "stdout"
        },
        {
          "output_type": "stream",
          "text": [
            "\r 27%|██▋       | 16/60 [02:02<04:57,  6.76s/it]"
          ],
          "name": "stderr"
        },
        {
          "output_type": "stream",
          "text": [
            "\n",
            "Number of matches 58243\n",
            "Number of matches After Lowe's Ratio 2461\n",
            "Number of Robust matches 1025\n",
            "\n",
            "\n"
          ],
          "name": "stdout"
        },
        {
          "output_type": "stream",
          "text": [
            "\r 28%|██▊       | 17/60 [02:10<05:11,  7.24s/it]"
          ],
          "name": "stderr"
        },
        {
          "output_type": "stream",
          "text": [
            "\n",
            "Number of matches 66905\n",
            "Number of matches After Lowe's Ratio 2682\n",
            "Number of Robust matches 1410\n",
            "\n",
            "\n"
          ],
          "name": "stdout"
        },
        {
          "output_type": "stream",
          "text": [
            "\r 30%|███       | 18/60 [02:20<05:39,  8.09s/it]"
          ],
          "name": "stderr"
        },
        {
          "output_type": "stream",
          "text": [
            "\n",
            "Number of matches 64014\n",
            "Number of matches After Lowe's Ratio 1981\n",
            "Number of Robust matches 1201\n",
            "\n",
            "\n",
            "\n",
            "Number of matches 66458\n",
            "Number of matches After Lowe's Ratio 65\n",
            "Number of Robust matches 9\n",
            "\n",
            "\n",
            "Number of matches After Lowe's Ratio New 4549\n"
          ],
          "name": "stdout"
        },
        {
          "output_type": "stream",
          "text": [
            "\r 32%|███▏      | 19/60 [02:29<05:44,  8.41s/it]"
          ],
          "name": "stderr"
        },
        {
          "output_type": "stream",
          "text": [
            "Number of Robust matches New 36\n",
            "\n",
            "\n",
            "\n",
            "Number of matches 61018\n",
            "Number of matches After Lowe's Ratio 141\n",
            "Number of Robust matches 22\n",
            "\n",
            "\n",
            "Number of matches After Lowe's Ratio New 4583\n"
          ],
          "name": "stdout"
        },
        {
          "output_type": "stream",
          "text": [
            "\r 33%|███▎      | 20/60 [02:38<05:43,  8.58s/it]"
          ],
          "name": "stderr"
        },
        {
          "output_type": "stream",
          "text": [
            "Number of Robust matches New 35\n",
            "\n",
            "\n"
          ],
          "name": "stdout"
        },
        {
          "output_type": "stream",
          "text": [
            "\r 35%|███▌      | 21/60 [02:47<05:33,  8.54s/it]"
          ],
          "name": "stderr"
        },
        {
          "output_type": "stream",
          "text": [
            "\n",
            "Number of matches 63386\n",
            "Number of matches After Lowe's Ratio 2147\n",
            "Number of Robust matches 1007\n",
            "\n",
            "\n"
          ],
          "name": "stdout"
        },
        {
          "output_type": "stream",
          "text": [
            "\r 37%|███▋      | 22/60 [02:55<05:23,  8.52s/it]"
          ],
          "name": "stderr"
        },
        {
          "output_type": "stream",
          "text": [
            "\n",
            "Number of matches 53363\n",
            "Number of matches After Lowe's Ratio 1571\n",
            "Number of Robust matches 738\n",
            "\n",
            "\n"
          ],
          "name": "stdout"
        },
        {
          "output_type": "stream",
          "text": [
            "\r 38%|███▊      | 23/60 [03:02<04:57,  8.04s/it]"
          ],
          "name": "stderr"
        },
        {
          "output_type": "stream",
          "text": [
            "\n",
            "Number of matches 48731\n",
            "Number of matches After Lowe's Ratio 2531\n",
            "Number of Robust matches 1010\n",
            "\n",
            "\n"
          ],
          "name": "stdout"
        },
        {
          "output_type": "stream",
          "text": [
            "\r 40%|████      | 24/60 [03:09<04:37,  7.71s/it]"
          ],
          "name": "stderr"
        },
        {
          "output_type": "stream",
          "text": [
            "\n",
            "Number of matches 44912\n",
            "Number of matches After Lowe's Ratio 4762\n",
            "Number of Robust matches 3274\n",
            "\n",
            "\n"
          ],
          "name": "stdout"
        },
        {
          "output_type": "stream",
          "text": [
            "\r 42%|████▏     | 25/60 [03:15<04:04,  6.99s/it]"
          ],
          "name": "stderr"
        },
        {
          "output_type": "stream",
          "text": [
            "\n",
            "Number of matches 35924\n",
            "Number of matches After Lowe's Ratio 5343\n",
            "Number of Robust matches 3443\n",
            "\n",
            "\n"
          ],
          "name": "stdout"
        },
        {
          "output_type": "stream",
          "text": [
            "\r 43%|████▎     | 26/60 [03:18<03:26,  6.06s/it]"
          ],
          "name": "stderr"
        },
        {
          "output_type": "stream",
          "text": [
            "\n",
            "Number of matches 24312\n",
            "Number of matches After Lowe's Ratio 1254\n",
            "Number of Robust matches 911\n",
            "\n",
            "\n"
          ],
          "name": "stdout"
        },
        {
          "output_type": "stream",
          "text": [
            "\r 45%|████▌     | 27/60 [03:22<02:54,  5.30s/it]"
          ],
          "name": "stderr"
        },
        {
          "output_type": "stream",
          "text": [
            "\n",
            "Number of matches 29342\n",
            "Number of matches After Lowe's Ratio 38\n",
            "Number of Robust matches 6\n",
            "\n",
            "\n",
            "Number of matches After Lowe's Ratio New 2595\n",
            "Number of Robust matches New 14\n",
            "\n",
            "\n"
          ],
          "name": "stdout"
        },
        {
          "output_type": "stream",
          "text": [
            "\r 47%|████▋     | 28/60 [03:26<02:38,  4.96s/it]"
          ],
          "name": "stderr"
        },
        {
          "output_type": "stream",
          "text": [
            "\n",
            "Number of matches 46366\n",
            "Number of matches After Lowe's Ratio 4708\n",
            "Number of Robust matches 3935\n",
            "\n",
            "\n"
          ],
          "name": "stdout"
        },
        {
          "output_type": "stream",
          "text": [
            "\r 48%|████▊     | 29/60 [03:33<02:52,  5.57s/it]"
          ],
          "name": "stderr"
        },
        {
          "output_type": "stream",
          "text": [
            "\n",
            "Number of matches 54488\n",
            "Number of matches After Lowe's Ratio 3307\n",
            "Number of Robust matches 1922\n",
            "\n",
            "\n"
          ],
          "name": "stdout"
        },
        {
          "output_type": "stream",
          "text": [
            "\r 50%|█████     | 30/60 [03:40<03:00,  6.01s/it]"
          ],
          "name": "stderr"
        },
        {
          "output_type": "stream",
          "text": [
            "\n",
            "Number of matches 51500\n",
            "Number of matches After Lowe's Ratio 3900\n",
            "Number of Robust matches 1369\n",
            "\n",
            "\n"
          ],
          "name": "stdout"
        },
        {
          "output_type": "stream",
          "text": [
            "\r 52%|█████▏    | 31/60 [03:48<03:06,  6.44s/it]"
          ],
          "name": "stderr"
        },
        {
          "output_type": "stream",
          "text": [
            "\n",
            "Number of matches 51395\n",
            "Number of matches After Lowe's Ratio 2773\n",
            "Number of Robust matches 1075\n",
            "\n",
            "\n"
          ],
          "name": "stdout"
        },
        {
          "output_type": "stream",
          "text": [
            "\r 53%|█████▎    | 32/60 [03:55<03:12,  6.87s/it]"
          ],
          "name": "stderr"
        },
        {
          "output_type": "stream",
          "text": [
            "\n",
            "Number of matches 61541\n",
            "Number of matches After Lowe's Ratio 996\n",
            "Number of Robust matches 555\n",
            "\n",
            "\n"
          ],
          "name": "stdout"
        },
        {
          "output_type": "stream",
          "text": [
            "\r 55%|█████▌    | 33/60 [04:04<03:15,  7.25s/it]"
          ],
          "name": "stderr"
        },
        {
          "output_type": "stream",
          "text": [
            "\n",
            "Number of matches 64626\n",
            "Number of matches After Lowe's Ratio 1387\n",
            "Number of Robust matches 813\n",
            "\n",
            "\n"
          ],
          "name": "stdout"
        },
        {
          "output_type": "stream",
          "text": [
            "\r 57%|█████▋    | 34/60 [04:14<03:35,  8.29s/it]"
          ],
          "name": "stderr"
        },
        {
          "output_type": "stream",
          "text": [
            "\n",
            "Number of matches 73725\n",
            "Number of matches After Lowe's Ratio 2039\n",
            "Number of Robust matches 1255\n",
            "\n",
            "\n"
          ],
          "name": "stdout"
        },
        {
          "output_type": "stream",
          "text": [
            "\r 58%|█████▊    | 35/60 [04:26<03:50,  9.21s/it]"
          ],
          "name": "stderr"
        },
        {
          "output_type": "stream",
          "text": [
            "\n",
            "Number of matches 68047\n",
            "Number of matches After Lowe's Ratio 67\n",
            "Number of Robust matches 20\n",
            "\n",
            "\n",
            "Number of matches After Lowe's Ratio New 4387\n",
            "Number of Robust matches New 41\n",
            "\n",
            "\n",
            "\n",
            "Number of matches 64071\n",
            "Number of matches After Lowe's Ratio 72\n",
            "Number of Robust matches 9\n",
            "\n",
            "\n",
            "Number of matches After Lowe's Ratio New 4163\n"
          ],
          "name": "stdout"
        },
        {
          "output_type": "stream",
          "text": [
            "\r 60%|██████    | 36/60 [04:36<03:46,  9.45s/it]"
          ],
          "name": "stderr"
        },
        {
          "output_type": "stream",
          "text": [
            "Number of Robust matches New 15\n",
            "\n",
            "\n"
          ],
          "name": "stdout"
        },
        {
          "output_type": "stream",
          "text": [
            "\r 62%|██████▏   | 37/60 [04:43<03:25,  8.95s/it]"
          ],
          "name": "stderr"
        },
        {
          "output_type": "stream",
          "text": [
            "\n",
            "Number of matches 60396\n",
            "Number of matches After Lowe's Ratio 1322\n",
            "Number of Robust matches 630\n",
            "\n",
            "\n"
          ],
          "name": "stdout"
        },
        {
          "output_type": "stream",
          "text": [
            "\r 63%|██████▎   | 38/60 [04:52<03:11,  8.70s/it]"
          ],
          "name": "stderr"
        },
        {
          "output_type": "stream",
          "text": [
            "\n",
            "Number of matches 55953\n",
            "Number of matches After Lowe's Ratio 2659\n",
            "Number of Robust matches 1222\n",
            "\n",
            "\n"
          ],
          "name": "stdout"
        },
        {
          "output_type": "stream",
          "text": [
            "\r 65%|██████▌   | 39/60 [04:59<02:56,  8.40s/it]"
          ],
          "name": "stderr"
        },
        {
          "output_type": "stream",
          "text": [
            "\n",
            "Number of matches 51225\n",
            "Number of matches After Lowe's Ratio 4283\n",
            "Number of Robust matches 1863\n",
            "\n",
            "\n"
          ],
          "name": "stdout"
        },
        {
          "output_type": "stream",
          "text": [
            "\r 67%|██████▋   | 40/60 [05:06<02:36,  7.81s/it]"
          ],
          "name": "stderr"
        },
        {
          "output_type": "stream",
          "text": [
            "\n",
            "Number of matches 45864\n",
            "Number of matches After Lowe's Ratio 4976\n",
            "Number of Robust matches 3348\n",
            "\n",
            "\n"
          ],
          "name": "stdout"
        },
        {
          "output_type": "stream",
          "text": [
            "\r 68%|██████▊   | 41/60 [05:11<02:12,  7.00s/it]"
          ],
          "name": "stderr"
        },
        {
          "output_type": "stream",
          "text": [
            "\n",
            "Number of matches 32111\n",
            "Number of matches After Lowe's Ratio 1908\n",
            "Number of Robust matches 1482\n",
            "\n",
            "\n"
          ],
          "name": "stdout"
        },
        {
          "output_type": "stream",
          "text": [
            "\r 70%|███████   | 42/60 [05:14<01:46,  5.93s/it]"
          ],
          "name": "stderr"
        },
        {
          "output_type": "stream",
          "text": [
            "\n",
            "Number of matches 9822\n",
            "Number of matches After Lowe's Ratio 1036\n",
            "Number of Robust matches 850\n",
            "\n",
            "\n"
          ],
          "name": "stdout"
        },
        {
          "output_type": "stream",
          "text": [
            "\r 72%|███████▏  | 43/60 [05:15<01:16,  4.50s/it]"
          ],
          "name": "stderr"
        },
        {
          "output_type": "stream",
          "text": [
            "\n",
            "Number of matches 25863\n",
            "Number of matches After Lowe's Ratio 48\n",
            "Number of Robust matches 7\n",
            "\n",
            "\n",
            "Number of matches After Lowe's Ratio New 2441\n",
            "Number of Robust matches New 26\n",
            "\n",
            "\n"
          ],
          "name": "stdout"
        },
        {
          "output_type": "stream",
          "text": [
            "\r 73%|███████▎  | 44/60 [05:19<01:07,  4.23s/it]"
          ],
          "name": "stderr"
        },
        {
          "output_type": "stream",
          "text": [
            "\n",
            "Number of matches 44580\n",
            "Number of matches After Lowe's Ratio 2788\n",
            "Number of Robust matches 2270\n",
            "\n",
            "\n"
          ],
          "name": "stdout"
        },
        {
          "output_type": "stream",
          "text": [
            "\r 75%|███████▌  | 45/60 [05:26<01:15,  5.06s/it]"
          ],
          "name": "stderr"
        },
        {
          "output_type": "stream",
          "text": [
            "\n",
            "Number of matches 58649\n",
            "Number of matches After Lowe's Ratio 2833\n",
            "Number of Robust matches 1709\n",
            "\n",
            "\n"
          ],
          "name": "stdout"
        },
        {
          "output_type": "stream",
          "text": [
            "\r 77%|███████▋  | 46/60 [05:34<01:24,  6.05s/it]"
          ],
          "name": "stderr"
        },
        {
          "output_type": "stream",
          "text": [
            "\n",
            "Number of matches 51853\n",
            "Number of matches After Lowe's Ratio 1094\n",
            "Number of Robust matches 412\n",
            "\n",
            "\n"
          ],
          "name": "stdout"
        },
        {
          "output_type": "stream",
          "text": [
            "\r 78%|███████▊  | 47/60 [05:42<01:22,  6.38s/it]"
          ],
          "name": "stderr"
        },
        {
          "output_type": "stream",
          "text": [
            "\n",
            "Number of matches 62033\n",
            "Number of matches After Lowe's Ratio 756\n",
            "Number of Robust matches 225\n",
            "\n",
            "\n"
          ],
          "name": "stdout"
        },
        {
          "output_type": "stream",
          "text": [
            "\r 80%|████████  | 48/60 [05:50<01:25,  7.15s/it]"
          ],
          "name": "stderr"
        },
        {
          "output_type": "stream",
          "text": [
            "\n",
            "Number of matches 65183\n",
            "Number of matches After Lowe's Ratio 1125\n",
            "Number of Robust matches 509\n",
            "\n",
            "\n"
          ],
          "name": "stdout"
        },
        {
          "output_type": "stream",
          "text": [
            "\r 82%|████████▏ | 49/60 [06:00<01:28,  8.01s/it]"
          ],
          "name": "stderr"
        },
        {
          "output_type": "stream",
          "text": [
            "\n",
            "Number of matches 62890\n",
            "Number of matches After Lowe's Ratio 2302\n",
            "Number of Robust matches 1477\n",
            "\n",
            "\n"
          ],
          "name": "stdout"
        },
        {
          "output_type": "stream",
          "text": [
            "\r 83%|████████▎ | 50/60 [06:09<01:21,  8.12s/it]"
          ],
          "name": "stderr"
        },
        {
          "output_type": "stream",
          "text": [
            "\n",
            "Number of matches 67477\n",
            "Number of matches After Lowe's Ratio 2507\n",
            "Number of Robust matches 1329\n",
            "\n",
            "\n",
            "\n",
            "Number of matches 65825\n",
            "Number of matches After Lowe's Ratio 44\n",
            "Number of Robust matches 7\n",
            "\n",
            "\n",
            "Number of matches After Lowe's Ratio New 4221\n"
          ],
          "name": "stdout"
        },
        {
          "output_type": "stream",
          "text": [
            "\r 85%|████████▌ | 51/60 [06:20<01:20,  8.92s/it]"
          ],
          "name": "stderr"
        },
        {
          "output_type": "stream",
          "text": [
            "Number of Robust matches New 46\n",
            "\n",
            "\n"
          ],
          "name": "stdout"
        },
        {
          "output_type": "stream",
          "text": [
            "\r 87%|████████▋ | 52/60 [06:30<01:14,  9.29s/it]"
          ],
          "name": "stderr"
        },
        {
          "output_type": "stream",
          "text": [
            "\n",
            "Number of matches 67905\n",
            "Number of matches After Lowe's Ratio 927\n",
            "Number of Robust matches 395\n",
            "\n",
            "\n"
          ],
          "name": "stdout"
        },
        {
          "output_type": "stream",
          "text": [
            "\r 88%|████████▊ | 53/60 [06:40<01:06,  9.46s/it]"
          ],
          "name": "stderr"
        },
        {
          "output_type": "stream",
          "text": [
            "\n",
            "Number of matches 64048\n",
            "Number of matches After Lowe's Ratio 1795\n",
            "Number of Robust matches 611\n",
            "\n",
            "\n"
          ],
          "name": "stdout"
        },
        {
          "output_type": "stream",
          "text": [
            "\r 90%|█████████ | 54/60 [06:48<00:53,  8.99s/it]"
          ],
          "name": "stderr"
        },
        {
          "output_type": "stream",
          "text": [
            "\n",
            "Number of matches 59914\n",
            "Number of matches After Lowe's Ratio 1072\n",
            "Number of Robust matches 318\n",
            "\n",
            "\n"
          ],
          "name": "stdout"
        },
        {
          "output_type": "stream",
          "text": [
            "\r 92%|█████████▏| 55/60 [06:56<00:43,  8.70s/it]"
          ],
          "name": "stderr"
        },
        {
          "output_type": "stream",
          "text": [
            "\n",
            "Number of matches 52829\n",
            "Number of matches After Lowe's Ratio 1262\n",
            "Number of Robust matches 575\n",
            "\n",
            "\n"
          ],
          "name": "stdout"
        },
        {
          "output_type": "stream",
          "text": [
            "\r 93%|█████████▎| 56/60 [07:02<00:32,  8.02s/it]"
          ],
          "name": "stderr"
        },
        {
          "output_type": "stream",
          "text": [
            "\n",
            "Number of matches 45612\n",
            "Number of matches After Lowe's Ratio 2333\n",
            "Number of Robust matches 1591\n",
            "\n",
            "\n"
          ],
          "name": "stdout"
        },
        {
          "output_type": "stream",
          "text": [
            "\r 95%|█████████▌| 57/60 [07:08<00:22,  7.36s/it]"
          ],
          "name": "stderr"
        },
        {
          "output_type": "stream",
          "text": [
            "\n",
            "Number of matches 30511\n",
            "Number of matches After Lowe's Ratio 4028\n",
            "Number of Robust matches 3116\n",
            "\n",
            "\n"
          ],
          "name": "stdout"
        },
        {
          "output_type": "stream",
          "text": [
            "\r 97%|█████████▋| 58/60 [07:11<00:12,  6.06s/it]"
          ],
          "name": "stderr"
        },
        {
          "output_type": "stream",
          "text": [
            "\n",
            "Number of matches 17624\n",
            "Number of matches After Lowe's Ratio 3580\n",
            "Number of Robust matches 2998\n",
            "\n",
            "\n"
          ],
          "name": "stdout"
        },
        {
          "output_type": "stream",
          "text": [
            "\r 98%|█████████▊| 59/60 [07:13<00:04,  4.88s/it]"
          ],
          "name": "stderr"
        },
        {
          "output_type": "stream",
          "text": [
            "\n",
            "Number of matches 28592\n",
            "Number of matches After Lowe's Ratio 51\n",
            "Number of Robust matches 7\n",
            "\n",
            "\n",
            "Number of matches After Lowe's Ratio New 2676\n",
            "Number of Robust matches New 16\n",
            "\n",
            "\n"
          ],
          "name": "stdout"
        }
      ]
    },
    {
      "cell_type": "code",
      "metadata": {
        "colab": {
          "base_uri": "https://localhost:8080/"
        },
        "id": "m6sImSYF7zf7",
        "outputId": "f6124492-c650-48ec-93a2-8fc75c4a7ad1"
      },
      "source": [
        "import h5py as h5\n",
        "f=h5.File('drive/MyDrive/H_left_surf_40.h5','w')\n",
        "t0=time.time()\n",
        "f.create_dataset('data',data=H_left_surf)\n",
        "f.close()\n",
        "print('HDF5  w/o comp.:',time.time()-t0,'[s] ... size',os.path.getsize('drive/MyDrive/H_left_surf_40.h5')/1.e6,'MB')"
      ],
      "execution_count": 94,
      "outputs": [
        {
          "output_type": "stream",
          "text": [
            "HDF5  w/o comp.: 0.01058816909790039 [s] ... size 0.006368 MB\n"
          ],
          "name": "stdout"
        }
      ]
    },
    {
      "cell_type": "code",
      "metadata": {
        "colab": {
          "base_uri": "https://localhost:8080/"
        },
        "id": "_bk8zOmV7zcN",
        "outputId": "11a1a09a-4893-4b3e-a667-0900d34a3624"
      },
      "source": [
        "import h5py as h5\n",
        "f=h5.File('drive/MyDrive/H_right_surf_40.h5','w')\n",
        "t0=time.time()\n",
        "f.create_dataset('data',data=H_right_surf)\n",
        "f.close()\n",
        "print('HDF5  w/o comp.:',time.time()-t0,'[s] ... size',os.path.getsize('drive/MyDrive/H_right_surf_40.h5')/1.e6,'MB')"
      ],
      "execution_count": 95,
      "outputs": [
        {
          "output_type": "stream",
          "text": [
            "HDF5  w/o comp.: 0.008538246154785156 [s] ... size 0.006296 MB\n"
          ],
          "name": "stdout"
        }
      ]
    },
    {
      "cell_type": "code",
      "metadata": {
        "id": "hombJWoa7yLS"
      },
      "source": [
        "del H_left_surf, H_right_surf,keypoints_all_left_surf, keypoints_all_right_surf, descriptors_all_left_surf, descriptors_all_right_surf, points_all_left_surf, points_all_right_surf"
      ],
      "execution_count": 96,
      "outputs": []
    },
    {
      "cell_type": "code",
      "metadata": {
        "id": "PawbONm679lM"
      },
      "source": [
        ""
      ],
      "execution_count": null,
      "outputs": []
    },
    {
      "cell_type": "code",
      "metadata": {
        "id": "p5pns0SQ79hJ"
      },
      "source": [
        "import pickle\n",
        "Fdb = open('all_feat_gftt_left.dat', 'rb')\n",
        "kpts_all = pickle.load(Fdb)\n",
        "Fdb.close()\n",
        "\n",
        "keypoints_all_left_gftt = []\n",
        "descriptors_all_left_gftt = []\n",
        "\n",
        "for j,kpt_each in enumerate(kpts_all):\n",
        "  keypoints_each = []\n",
        "  descrip_each = []\n",
        "  for k,kpt_img in enumerate(kpt_each):\n",
        "    temp_feature = cv2.KeyPoint(x=kpt_img[0][0],y=kpt_img[0][1],_size=kpt_img[1], _angle=kpt_img[2], \n",
        "                            _response=kpt_img[3], _octave=kpt_img[4], _class_id=kpt_img[5]) \n",
        "    temp_descriptor = kpt_img[6]\n",
        "    keypoints_each.append(temp_feature)\n",
        "    descrip_each.append(temp_descriptor)\n",
        "  points_all_left_gftt.append(np.asarray([[p.pt[0], p.pt[1]] for p in keypoints_each]))\n",
        "  keypoints_all_left_gftt.append(keypoints_each)\n",
        "  descriptors_all_left_gftt.append(descrip_each)"
      ],
      "execution_count": 97,
      "outputs": []
    },
    {
      "cell_type": "code",
      "metadata": {
        "id": "zEGzzmER79c1"
      },
      "source": [
        "import pickle\n",
        "Fdb = open('all_feat_gftt_right.dat', 'rb')\n",
        "kpts_all = pickle.load(Fdb)\n",
        "Fdb.close()\n",
        "\n",
        "keypoints_all_right_gftt = []\n",
        "descriptors_all_right_gftt = []\n",
        "\n",
        "for j,kpt_each in enumerate(kpts_all):\n",
        "  keypoints_each = []\n",
        "  descrip_each = []\n",
        "  for k,kpt_img in enumerate(kpt_each):\n",
        "    temp_feature = cv2.KeyPoint(x=kpt_img[0][0],y=kpt_img[0][1],_size=kpt_img[1], _angle=kpt_img[2], \n",
        "                            _response=kpt_img[3], _octave=kpt_img[4], _class_id=kpt_img[5]) \n",
        "    temp_descriptor = kpt_img[6]\n",
        "    keypoints_each.append(temp_feature)\n",
        "    descrip_each.append(temp_descriptor)\n",
        "  points_all_right_gftt.append(np.asarray([[p.pt[0], p.pt[1]] for p in keypoints_each]))\n",
        "  keypoints_all_right_gftt.append(keypoints_each)\n",
        "  descriptors_all_right_gftt.append(descrip_each)"
      ],
      "execution_count": 98,
      "outputs": []
    },
    {
      "cell_type": "code",
      "metadata": {
        "colab": {
          "base_uri": "https://localhost:8080/"
        },
        "id": "O_7ZCMWs8ntq",
        "outputId": "847a4de9-ef71-4234-e923-db11bbe3b296"
      },
      "source": [
        "H_left_gftt = []\n",
        "H_right_gftt = []\n",
        "\n",
        "num_matches_gftt = []\n",
        "num_good_matches_gftt = []\n",
        "\n",
        "for j in tqdm(range(len(left_files_path))):\n",
        "  if j==len(left_files_path)-1:\n",
        "    break\n",
        "\n",
        "  H_a,matches,gd_matches = get_Hmatrix(images_left_bgr[j:j+2][::-1],keypoints_all_left_gftt[j:j+2][::-1],points_all_left_gftt[j:j+2][::-1],descriptors_all_left_gftt[j:j+2][::-1],0.85,6)\n",
        "  H_left_gftt.append(H_a)\n",
        "  num_matches_gftt.append(matches)\n",
        "  num_good_matches_gftt.append(gd_matches)\n",
        "\n",
        "for j in tqdm(range(len(right_files_path))):\n",
        "  if j==len(right_files_path)-1:\n",
        "    break\n",
        "\n",
        "  H_a,matches,gd_matches = get_Hmatrix(images_right_bgr[j:j+2][::-1],keypoints_all_right_gftt[j:j+2][::-1],points_all_right_gftt[j:j+2][::-1],descriptors_all_right_gftt[j:j+2][::-1],0.85,6)\n",
        "  H_right_gftt.append(H_a)\n",
        "  num_matches_gftt.append(matches)\n",
        "  num_good_matches_gftt.append(gd_matches)"
      ],
      "execution_count": 99,
      "outputs": [
        {
          "output_type": "stream",
          "text": [
            "  3%|▎         | 2/61 [00:00<00:06,  9.37it/s]"
          ],
          "name": "stderr"
        },
        {
          "output_type": "stream",
          "text": [
            "\n",
            "Number of matches 1000\n",
            "Number of matches After Lowe's Ratio 293\n",
            "Number of Robust matches 131\n",
            "\n",
            "\n",
            "\n",
            "Number of matches 1000\n",
            "Number of matches After Lowe's Ratio 284\n",
            "Number of Robust matches 94\n",
            "\n",
            "\n"
          ],
          "name": "stdout"
        },
        {
          "output_type": "stream",
          "text": [
            "  7%|▋         | 4/61 [00:00<00:06,  9.32it/s]"
          ],
          "name": "stderr"
        },
        {
          "output_type": "stream",
          "text": [
            "\n",
            "Number of matches 1000\n",
            "Number of matches After Lowe's Ratio 238\n",
            "Number of Robust matches 98\n",
            "\n",
            "\n",
            "\n",
            "Number of matches 1000\n",
            "Number of matches After Lowe's Ratio 269\n",
            "Number of Robust matches 147\n",
            "\n",
            "\n"
          ],
          "name": "stdout"
        },
        {
          "output_type": "stream",
          "text": [
            "\r  8%|▊         | 5/61 [00:00<00:06,  9.08it/s]"
          ],
          "name": "stderr"
        },
        {
          "output_type": "stream",
          "text": [
            "\n",
            "Number of matches 1000\n",
            "Number of matches After Lowe's Ratio 153\n",
            "Number of Robust matches 68\n",
            "\n",
            "\n",
            "\n",
            "Number of matches 1000\n",
            "Number of matches After Lowe's Ratio 52\n",
            "Number of Robust matches 5\n",
            "\n",
            "\n",
            "Number of matches After Lowe's Ratio New 52\n"
          ],
          "name": "stdout"
        },
        {
          "output_type": "stream",
          "text": [
            " 11%|█▏        | 7/61 [00:00<00:07,  7.40it/s]"
          ],
          "name": "stderr"
        },
        {
          "output_type": "stream",
          "text": [
            "Number of Robust matches New 5\n",
            "\n",
            "\n",
            "\n",
            "Number of matches 1000\n",
            "Number of matches After Lowe's Ratio 316\n",
            "Number of Robust matches 218\n",
            "\n",
            "\n"
          ],
          "name": "stdout"
        },
        {
          "output_type": "stream",
          "text": [
            " 15%|█▍        | 9/61 [00:01<00:06,  8.11it/s]"
          ],
          "name": "stderr"
        },
        {
          "output_type": "stream",
          "text": [
            "\n",
            "Number of matches 1000\n",
            "Number of matches After Lowe's Ratio 295\n",
            "Number of Robust matches 152\n",
            "\n",
            "\n",
            "\n",
            "Number of matches 1000\n",
            "Number of matches After Lowe's Ratio 330\n",
            "Number of Robust matches 185\n",
            "\n",
            "\n"
          ],
          "name": "stdout"
        },
        {
          "output_type": "stream",
          "text": [
            " 18%|█▊        | 11/61 [00:01<00:06,  8.20it/s]"
          ],
          "name": "stderr"
        },
        {
          "output_type": "stream",
          "text": [
            "\n",
            "Number of matches 1000\n",
            "Number of matches After Lowe's Ratio 310\n",
            "Number of Robust matches 149\n",
            "\n",
            "\n",
            "\n",
            "Number of matches 1000\n",
            "Number of matches After Lowe's Ratio 232\n",
            "Number of Robust matches 68\n",
            "\n",
            "\n"
          ],
          "name": "stdout"
        },
        {
          "output_type": "stream",
          "text": [
            "\r 20%|█▉        | 12/61 [00:01<00:05,  8.26it/s]"
          ],
          "name": "stderr"
        },
        {
          "output_type": "stream",
          "text": [
            "\n",
            "Number of matches 1000\n",
            "Number of matches After Lowe's Ratio 272\n",
            "Number of Robust matches 86\n",
            "\n",
            "\n",
            "\n",
            "Number of matches 1000\n",
            "Number of matches After Lowe's Ratio 86\n",
            "Number of Robust matches 18\n",
            "\n",
            "\n",
            "Number of matches After Lowe's Ratio New 86\n"
          ],
          "name": "stdout"
        },
        {
          "output_type": "stream",
          "text": [
            "\r 21%|██▏       | 13/61 [00:01<00:07,  6.23it/s]"
          ],
          "name": "stderr"
        },
        {
          "output_type": "stream",
          "text": [
            "Number of Robust matches New 16\n",
            "\n",
            "\n",
            "\n",
            "Number of matches 1000\n",
            "Number of matches After Lowe's Ratio 40\n",
            "Number of Robust matches 6\n",
            "\n",
            "\n",
            "Number of matches After Lowe's Ratio New 40\n"
          ],
          "name": "stdout"
        },
        {
          "output_type": "stream",
          "text": [
            " 25%|██▍       | 15/61 [00:02<00:07,  6.24it/s]"
          ],
          "name": "stderr"
        },
        {
          "output_type": "stream",
          "text": [
            "Number of Robust matches New 6\n",
            "\n",
            "\n",
            "\n",
            "Number of matches 1000\n",
            "Number of matches After Lowe's Ratio 76\n",
            "Number of Robust matches 34\n",
            "\n",
            "\n"
          ],
          "name": "stdout"
        },
        {
          "output_type": "stream",
          "text": [
            "\r 26%|██▌       | 16/61 [00:02<00:06,  6.70it/s]"
          ],
          "name": "stderr"
        },
        {
          "output_type": "stream",
          "text": [
            "\n",
            "Number of matches 1000\n",
            "Number of matches After Lowe's Ratio 154\n",
            "Number of Robust matches 64\n",
            "\n",
            "\n",
            "\n",
            "Number of matches 1000\n",
            "Number of matches After Lowe's Ratio 101\n",
            "Number of Robust matches 8\n",
            "\n",
            "\n",
            "Number of matches After Lowe's Ratio New 101\n"
          ],
          "name": "stdout"
        },
        {
          "output_type": "stream",
          "text": [
            "\r 28%|██▊       | 17/61 [00:02<00:07,  5.71it/s]"
          ],
          "name": "stderr"
        },
        {
          "output_type": "stream",
          "text": [
            "Number of Robust matches New 8\n",
            "\n",
            "\n",
            "\n",
            "Number of matches 1000\n",
            "Number of matches After Lowe's Ratio 85\n",
            "Number of Robust matches 7\n",
            "\n",
            "\n",
            "Number of matches After Lowe's Ratio New 85\n"
          ],
          "name": "stdout"
        },
        {
          "output_type": "stream",
          "text": [
            "\r 30%|██▉       | 18/61 [00:02<00:08,  5.09it/s]"
          ],
          "name": "stderr"
        },
        {
          "output_type": "stream",
          "text": [
            "Number of Robust matches New 6\n",
            "\n",
            "\n",
            "\n",
            "Number of matches 1000\n",
            "Number of matches After Lowe's Ratio 89\n",
            "Number of Robust matches 9\n",
            "\n",
            "\n",
            "Number of matches After Lowe's Ratio New 89\n"
          ],
          "name": "stdout"
        },
        {
          "output_type": "stream",
          "text": [
            "\r 31%|███       | 19/61 [00:02<00:08,  4.79it/s]"
          ],
          "name": "stderr"
        },
        {
          "output_type": "stream",
          "text": [
            "Number of Robust matches New 8\n",
            "\n",
            "\n",
            "\n",
            "Number of matches 1000\n",
            "Number of matches After Lowe's Ratio 89\n",
            "Number of Robust matches 6\n",
            "\n",
            "\n",
            "Number of matches After Lowe's Ratio New 89\n"
          ],
          "name": "stdout"
        },
        {
          "output_type": "stream",
          "text": [
            "\r 33%|███▎      | 20/61 [00:03<00:09,  4.55it/s]"
          ],
          "name": "stderr"
        },
        {
          "output_type": "stream",
          "text": [
            "Number of Robust matches New 6\n",
            "\n",
            "\n",
            "\n",
            "Number of matches 1000\n",
            "Number of matches After Lowe's Ratio 54\n",
            "Number of Robust matches 6\n",
            "\n",
            "\n",
            "Number of matches After Lowe's Ratio New 54\n"
          ],
          "name": "stdout"
        },
        {
          "output_type": "stream",
          "text": [
            "\r 34%|███▍      | 21/61 [00:03<00:08,  4.49it/s]"
          ],
          "name": "stderr"
        },
        {
          "output_type": "stream",
          "text": [
            "Number of Robust matches New 6\n",
            "\n",
            "\n",
            "\n",
            "Number of matches 1000\n",
            "Number of matches After Lowe's Ratio 51\n",
            "Number of Robust matches 6\n",
            "\n",
            "\n",
            "Number of matches After Lowe's Ratio New 51\n"
          ],
          "name": "stdout"
        },
        {
          "output_type": "stream",
          "text": [
            " 38%|███▊      | 23/61 [00:03<00:08,  4.57it/s]"
          ],
          "name": "stderr"
        },
        {
          "output_type": "stream",
          "text": [
            "Number of Robust matches New 6\n",
            "\n",
            "\n",
            "\n",
            "Number of matches 1000\n",
            "Number of matches After Lowe's Ratio 86\n",
            "Number of Robust matches 20\n",
            "\n",
            "\n",
            "Number of matches After Lowe's Ratio New 86\n",
            "Number of Robust matches New 19\n",
            "\n",
            "\n"
          ],
          "name": "stdout"
        },
        {
          "output_type": "stream",
          "text": [
            "\r 39%|███▉      | 24/61 [00:04<00:08,  4.43it/s]"
          ],
          "name": "stderr"
        },
        {
          "output_type": "stream",
          "text": [
            "\n",
            "Number of matches 1000\n",
            "Number of matches After Lowe's Ratio 93\n",
            "Number of Robust matches 6\n",
            "\n",
            "\n",
            "Number of matches After Lowe's Ratio New 93\n",
            "Number of Robust matches New 6\n",
            "\n",
            "\n"
          ],
          "name": "stdout"
        },
        {
          "output_type": "stream",
          "text": [
            "\r 41%|████      | 25/61 [00:04<00:08,  4.34it/s]"
          ],
          "name": "stderr"
        },
        {
          "output_type": "stream",
          "text": [
            "\n",
            "Number of matches 1000\n",
            "Number of matches After Lowe's Ratio 84\n",
            "Number of Robust matches 7\n",
            "\n",
            "\n",
            "Number of matches After Lowe's Ratio New 84\n",
            "Number of Robust matches New 6\n",
            "\n",
            "\n"
          ],
          "name": "stdout"
        },
        {
          "output_type": "stream",
          "text": [
            "\r 43%|████▎     | 26/61 [00:04<00:08,  4.25it/s]"
          ],
          "name": "stderr"
        },
        {
          "output_type": "stream",
          "text": [
            "\n",
            "Number of matches 1000\n",
            "Number of matches After Lowe's Ratio 85\n",
            "Number of Robust matches 6\n",
            "\n",
            "\n",
            "Number of matches After Lowe's Ratio New 85\n",
            "Number of Robust matches New 6\n",
            "\n",
            "\n"
          ],
          "name": "stdout"
        },
        {
          "output_type": "stream",
          "text": [
            "\r 44%|████▍     | 27/61 [00:04<00:08,  4.20it/s]"
          ],
          "name": "stderr"
        },
        {
          "output_type": "stream",
          "text": [
            "\n",
            "Number of matches 1000\n",
            "Number of matches After Lowe's Ratio 85\n",
            "Number of Robust matches 7\n",
            "\n",
            "\n",
            "Number of matches After Lowe's Ratio New 85\n",
            "Number of Robust matches New 7\n",
            "\n",
            "\n"
          ],
          "name": "stdout"
        },
        {
          "output_type": "stream",
          "text": [
            "\r 46%|████▌     | 28/61 [00:05<00:07,  4.21it/s]"
          ],
          "name": "stderr"
        },
        {
          "output_type": "stream",
          "text": [
            "\n",
            "Number of matches 1000\n",
            "Number of matches After Lowe's Ratio 51\n",
            "Number of Robust matches 7\n",
            "\n",
            "\n",
            "Number of matches After Lowe's Ratio New 51\n",
            "Number of Robust matches New 7\n",
            "\n",
            "\n"
          ],
          "name": "stdout"
        },
        {
          "output_type": "stream",
          "text": [
            "\r 48%|████▊     | 29/61 [00:05<00:07,  4.20it/s]"
          ],
          "name": "stderr"
        },
        {
          "output_type": "stream",
          "text": [
            "\n",
            "Number of matches 1000\n",
            "Number of matches After Lowe's Ratio 51\n",
            "Number of Robust matches 5\n",
            "\n",
            "\n",
            "Number of matches After Lowe's Ratio New 51\n",
            "Number of Robust matches New 5\n",
            "\n",
            "\n"
          ],
          "name": "stdout"
        },
        {
          "output_type": "stream",
          "text": [
            "\r 49%|████▉     | 30/61 [00:05<00:07,  4.25it/s]"
          ],
          "name": "stderr"
        },
        {
          "output_type": "stream",
          "text": [
            "\n",
            "Number of matches 1000\n",
            "Number of matches After Lowe's Ratio 66\n",
            "Number of Robust matches 14\n",
            "\n",
            "\n",
            "Number of matches After Lowe's Ratio New 66\n",
            "Number of Robust matches New 11\n",
            "\n",
            "\n"
          ],
          "name": "stdout"
        },
        {
          "output_type": "stream",
          "text": [
            " 52%|█████▏    | 32/61 [00:05<00:05,  5.42it/s]"
          ],
          "name": "stderr"
        },
        {
          "output_type": "stream",
          "text": [
            "\n",
            "Number of matches 1000\n",
            "Number of matches After Lowe's Ratio 136\n",
            "Number of Robust matches 37\n",
            "\n",
            "\n",
            "\n",
            "Number of matches 1000\n",
            "Number of matches After Lowe's Ratio 151\n",
            "Number of Robust matches 38\n",
            "\n",
            "\n"
          ],
          "name": "stdout"
        },
        {
          "output_type": "stream",
          "text": [
            " 56%|█████▌    | 34/61 [00:06<00:04,  6.72it/s]"
          ],
          "name": "stderr"
        },
        {
          "output_type": "stream",
          "text": [
            "\n",
            "Number of matches 1000\n",
            "Number of matches After Lowe's Ratio 188\n",
            "Number of Robust matches 58\n",
            "\n",
            "\n",
            "\n",
            "Number of matches 1000\n",
            "Number of matches After Lowe's Ratio 222\n",
            "Number of Robust matches 93\n",
            "\n",
            "\n"
          ],
          "name": "stdout"
        },
        {
          "output_type": "stream",
          "text": [
            " 59%|█████▉    | 36/61 [00:06<00:03,  7.82it/s]"
          ],
          "name": "stderr"
        },
        {
          "output_type": "stream",
          "text": [
            "\n",
            "Number of matches 1000\n",
            "Number of matches After Lowe's Ratio 220\n",
            "Number of Robust matches 102\n",
            "\n",
            "\n",
            "\n",
            "Number of matches 1000\n",
            "Number of matches After Lowe's Ratio 251\n",
            "Number of Robust matches 113\n",
            "\n",
            "\n"
          ],
          "name": "stdout"
        },
        {
          "output_type": "stream",
          "text": [
            "\r 61%|██████    | 37/61 [00:06<00:03,  6.15it/s]"
          ],
          "name": "stderr"
        },
        {
          "output_type": "stream",
          "text": [
            "\n",
            "Number of matches 1000\n",
            "Number of matches After Lowe's Ratio 67\n",
            "Number of Robust matches 6\n",
            "\n",
            "\n",
            "Number of matches After Lowe's Ratio New 67\n",
            "Number of Robust matches New 6\n",
            "\n",
            "\n"
          ],
          "name": "stdout"
        },
        {
          "output_type": "stream",
          "text": [
            " 64%|██████▍   | 39/61 [00:06<00:03,  7.21it/s]"
          ],
          "name": "stderr"
        },
        {
          "output_type": "stream",
          "text": [
            "\n",
            "Number of matches 1000\n",
            "Number of matches After Lowe's Ratio 252\n",
            "Number of Robust matches 159\n",
            "\n",
            "\n",
            "\n",
            "Number of matches 1000\n",
            "Number of matches After Lowe's Ratio 199\n",
            "Number of Robust matches 115\n",
            "\n",
            "\n"
          ],
          "name": "stdout"
        },
        {
          "output_type": "stream",
          "text": [
            " 67%|██████▋   | 41/61 [00:06<00:02,  7.88it/s]"
          ],
          "name": "stderr"
        },
        {
          "output_type": "stream",
          "text": [
            "\n",
            "Number of matches 1000\n",
            "Number of matches After Lowe's Ratio 159\n",
            "Number of Robust matches 68\n",
            "\n",
            "\n",
            "\n",
            "Number of matches 1000\n",
            "Number of matches After Lowe's Ratio 152\n",
            "Number of Robust matches 49\n",
            "\n",
            "\n"
          ],
          "name": "stdout"
        },
        {
          "output_type": "stream",
          "text": [
            "\r 69%|██████▉   | 42/61 [00:07<00:03,  6.17it/s]"
          ],
          "name": "stderr"
        },
        {
          "output_type": "stream",
          "text": [
            "\n",
            "Number of matches 1000\n",
            "Number of matches After Lowe's Ratio 124\n",
            "Number of Robust matches 17\n",
            "\n",
            "\n",
            "Number of matches After Lowe's Ratio New 124\n",
            "Number of Robust matches New 13\n",
            "\n",
            "\n"
          ],
          "name": "stdout"
        },
        {
          "output_type": "stream",
          "text": [
            " 72%|███████▏  | 44/61 [00:07<00:02,  6.70it/s]"
          ],
          "name": "stderr"
        },
        {
          "output_type": "stream",
          "text": [
            "\n",
            "Number of matches 1000\n",
            "Number of matches After Lowe's Ratio 187\n",
            "Number of Robust matches 75\n",
            "\n",
            "\n",
            "\n",
            "Number of matches 1000\n",
            "Number of matches After Lowe's Ratio 71\n",
            "Number of Robust matches 20\n",
            "\n",
            "\n",
            "Number of matches After Lowe's Ratio New 71\n",
            "Number of Robust matches New 19\n",
            "\n",
            "\n"
          ],
          "name": "stdout"
        },
        {
          "output_type": "stream",
          "text": [
            "\r 74%|███████▍  | 45/61 [00:07<00:02,  6.53it/s]"
          ],
          "name": "stderr"
        },
        {
          "output_type": "stream",
          "text": [
            "\n",
            "Number of matches 1000\n",
            "Number of matches After Lowe's Ratio 18\n",
            "Number of Robust matches 5\n",
            "\n",
            "\n",
            "Number of matches After Lowe's Ratio New 18\n",
            "Number of Robust matches New 5\n",
            "\n",
            "\n",
            "\n",
            "Number of matches 1000\n",
            "Number of matches After Lowe's Ratio 44\n"
          ],
          "name": "stdout"
        },
        {
          "output_type": "stream",
          "text": [
            " 77%|███████▋  | 47/61 [00:07<00:02,  6.11it/s]"
          ],
          "name": "stderr"
        },
        {
          "output_type": "stream",
          "text": [
            "Number of Robust matches 5\n",
            "\n",
            "\n",
            "Number of matches After Lowe's Ratio New 44\n",
            "Number of Robust matches New 5\n",
            "\n",
            "\n",
            "\n",
            "Number of matches 1000\n",
            "Number of matches After Lowe's Ratio 138\n",
            "Number of Robust matches 85\n",
            "\n",
            "\n"
          ],
          "name": "stdout"
        },
        {
          "output_type": "stream",
          "text": [
            " 80%|████████  | 49/61 [00:08<00:01,  7.16it/s]"
          ],
          "name": "stderr"
        },
        {
          "output_type": "stream",
          "text": [
            "\n",
            "Number of matches 1000\n",
            "Number of matches After Lowe's Ratio 275\n",
            "Number of Robust matches 151\n",
            "\n",
            "\n",
            "\n",
            "Number of matches 1000\n",
            "Number of matches After Lowe's Ratio 233\n",
            "Number of Robust matches 70\n",
            "\n",
            "\n"
          ],
          "name": "stdout"
        },
        {
          "output_type": "stream",
          "text": [
            " 84%|████████▎ | 51/61 [00:08<00:01,  8.10it/s]"
          ],
          "name": "stderr"
        },
        {
          "output_type": "stream",
          "text": [
            "\n",
            "Number of matches 1000\n",
            "Number of matches After Lowe's Ratio 271\n",
            "Number of Robust matches 115\n",
            "\n",
            "\n",
            "\n",
            "Number of matches 1000\n",
            "Number of matches After Lowe's Ratio 228\n",
            "Number of Robust matches 172\n",
            "\n",
            "\n"
          ],
          "name": "stdout"
        },
        {
          "output_type": "stream",
          "text": [
            " 87%|████████▋ | 53/61 [00:08<00:01,  7.69it/s]"
          ],
          "name": "stderr"
        },
        {
          "output_type": "stream",
          "text": [
            "\n",
            "Number of matches 1000\n",
            "Number of matches After Lowe's Ratio 250\n",
            "Number of Robust matches 158\n",
            "\n",
            "\n",
            "\n",
            "Number of matches 1000\n",
            "Number of matches After Lowe's Ratio 38\n",
            "Number of Robust matches 11\n",
            "\n",
            "\n",
            "Number of matches After Lowe's Ratio New 38\n",
            "Number of Robust matches New 10\n",
            "\n",
            "\n"
          ],
          "name": "stdout"
        },
        {
          "output_type": "stream",
          "text": [
            " 90%|█████████ | 55/61 [00:08<00:00,  8.66it/s]"
          ],
          "name": "stderr"
        },
        {
          "output_type": "stream",
          "text": [
            "\n",
            "Number of matches 1000\n",
            "Number of matches After Lowe's Ratio 292\n",
            "Number of Robust matches 253\n",
            "\n",
            "\n",
            "\n",
            "Number of matches 1000\n",
            "Number of matches After Lowe's Ratio 212\n",
            "Number of Robust matches 183\n",
            "\n",
            "\n",
            "\n",
            "Number of matches 1000\n",
            "Number of matches After Lowe's Ratio 160\n",
            "Number of Robust matches 116\n",
            "\n",
            "\n"
          ],
          "name": "stdout"
        },
        {
          "output_type": "stream",
          "text": [
            " 95%|█████████▌| 58/61 [00:09<00:00,  9.22it/s]"
          ],
          "name": "stderr"
        },
        {
          "output_type": "stream",
          "text": [
            "\n",
            "Number of matches 1000\n",
            "Number of matches After Lowe's Ratio 229\n",
            "Number of Robust matches 137\n",
            "\n",
            "\n",
            "\n",
            "Number of matches 1000\n",
            "Number of matches After Lowe's Ratio 233\n",
            "Number of Robust matches 115\n",
            "\n",
            "\n"
          ],
          "name": "stdout"
        },
        {
          "output_type": "stream",
          "text": [
            "  0%|          | 0/60 [00:00<?, ?it/s]"
          ],
          "name": "stderr"
        },
        {
          "output_type": "stream",
          "text": [
            "\n",
            "Number of matches 1000\n",
            "Number of matches After Lowe's Ratio 123\n",
            "Number of Robust matches 84\n",
            "\n",
            "\n",
            "\n",
            "Number of matches 1000\n",
            "Number of matches After Lowe's Ratio 73\n",
            "Number of Robust matches 37\n",
            "\n",
            "\n"
          ],
          "name": "stdout"
        },
        {
          "output_type": "stream",
          "text": [
            "  3%|▎         | 2/60 [00:00<00:06,  8.80it/s]"
          ],
          "name": "stderr"
        },
        {
          "output_type": "stream",
          "text": [
            "\n",
            "Number of matches 1000\n",
            "Number of matches After Lowe's Ratio 211\n",
            "Number of Robust matches 97\n",
            "\n",
            "\n",
            "\n",
            "Number of matches 1000\n",
            "Number of matches After Lowe's Ratio 161\n",
            "Number of Robust matches 84\n",
            "\n",
            "\n"
          ],
          "name": "stdout"
        },
        {
          "output_type": "stream",
          "text": [
            "\r  5%|▌         | 3/60 [00:00<00:09,  6.33it/s]"
          ],
          "name": "stderr"
        },
        {
          "output_type": "stream",
          "text": [
            "\n",
            "Number of matches 1000\n",
            "Number of matches After Lowe's Ratio 54\n",
            "Number of Robust matches 10\n",
            "\n",
            "\n",
            "Number of matches After Lowe's Ratio New 54\n",
            "Number of Robust matches New 10\n",
            "\n",
            "\n"
          ],
          "name": "stdout"
        },
        {
          "output_type": "stream",
          "text": [
            "  8%|▊         | 5/60 [00:00<00:07,  7.26it/s]"
          ],
          "name": "stderr"
        },
        {
          "output_type": "stream",
          "text": [
            "\n",
            "Number of matches 1000\n",
            "Number of matches After Lowe's Ratio 132\n",
            "Number of Robust matches 37\n",
            "\n",
            "\n",
            "\n",
            "Number of matches 1000\n",
            "Number of matches After Lowe's Ratio 315\n",
            "Number of Robust matches 156\n",
            "\n",
            "\n"
          ],
          "name": "stdout"
        },
        {
          "output_type": "stream",
          "text": [
            " 12%|█▏        | 7/60 [00:00<00:06,  8.07it/s]"
          ],
          "name": "stderr"
        },
        {
          "output_type": "stream",
          "text": [
            "\n",
            "Number of matches 1000\n",
            "Number of matches After Lowe's Ratio 295\n",
            "Number of Robust matches 101\n",
            "\n",
            "\n",
            "\n",
            "Number of matches 1000\n",
            "Number of matches After Lowe's Ratio 297\n",
            "Number of Robust matches 122\n",
            "\n",
            "\n"
          ],
          "name": "stdout"
        },
        {
          "output_type": "stream",
          "text": [
            "\r 15%|█▌        | 9/60 [00:01<00:05,  8.57it/s]"
          ],
          "name": "stderr"
        },
        {
          "output_type": "stream",
          "text": [
            "\n",
            "Number of matches 1000\n",
            "Number of matches After Lowe's Ratio 301\n",
            "Number of Robust matches 155\n",
            "\n",
            "\n",
            "\n",
            "Number of matches 1000\n",
            "Number of matches After Lowe's Ratio 332\n",
            "Number of Robust matches 192\n",
            "\n",
            "\n"
          ],
          "name": "stdout"
        },
        {
          "output_type": "stream",
          "text": [
            "\r 17%|█▋        | 10/60 [00:01<00:05,  8.70it/s]"
          ],
          "name": "stderr"
        },
        {
          "output_type": "stream",
          "text": [
            "\n",
            "Number of matches 1000\n",
            "Number of matches After Lowe's Ratio 269\n",
            "Number of Robust matches 164\n",
            "\n",
            "\n",
            "\n",
            "Number of matches 1000\n",
            "Number of matches After Lowe's Ratio 74\n",
            "Number of Robust matches 7\n",
            "\n",
            "\n",
            "Number of matches After Lowe's Ratio New 74\n"
          ],
          "name": "stdout"
        },
        {
          "output_type": "stream",
          "text": [
            " 22%|██▏       | 13/60 [00:01<00:06,  7.28it/s]"
          ],
          "name": "stderr"
        },
        {
          "output_type": "stream",
          "text": [
            "Number of Robust matches New 6\n",
            "\n",
            "\n",
            "\n",
            "Number of matches 1000\n",
            "Number of matches After Lowe's Ratio 243\n",
            "Number of Robust matches 123\n",
            "\n",
            "\n",
            "\n",
            "Number of matches 1000\n",
            "Number of matches After Lowe's Ratio 333\n",
            "Number of Robust matches 196\n",
            "\n",
            "\n"
          ],
          "name": "stdout"
        },
        {
          "output_type": "stream",
          "text": [
            " 25%|██▌       | 15/60 [00:01<00:05,  8.25it/s]"
          ],
          "name": "stderr"
        },
        {
          "output_type": "stream",
          "text": [
            "\n",
            "Number of matches 1000\n",
            "Number of matches After Lowe's Ratio 318\n",
            "Number of Robust matches 142\n",
            "\n",
            "\n",
            "\n",
            "Number of matches 1000\n",
            "Number of matches After Lowe's Ratio 247\n",
            "Number of Robust matches 100\n",
            "\n",
            "\n"
          ],
          "name": "stdout"
        },
        {
          "output_type": "stream",
          "text": [
            " 28%|██▊       | 17/60 [00:02<00:05,  8.60it/s]"
          ],
          "name": "stderr"
        },
        {
          "output_type": "stream",
          "text": [
            "\n",
            "Number of matches 1000\n",
            "Number of matches After Lowe's Ratio 244\n",
            "Number of Robust matches 109\n",
            "\n",
            "\n",
            "\n",
            "Number of matches 1000\n",
            "Number of matches After Lowe's Ratio 193\n",
            "Number of Robust matches 86\n",
            "\n",
            "\n"
          ],
          "name": "stdout"
        },
        {
          "output_type": "stream",
          "text": [
            "\r 30%|███       | 18/60 [00:02<00:04,  8.74it/s]"
          ],
          "name": "stderr"
        },
        {
          "output_type": "stream",
          "text": [
            "\n",
            "Number of matches 1000\n",
            "Number of matches After Lowe's Ratio 182\n",
            "Number of Robust matches 114\n",
            "\n",
            "\n",
            "\n",
            "Number of matches 1000\n",
            "Number of matches After Lowe's Ratio 78\n",
            "Number of Robust matches 11\n",
            "\n",
            "\n",
            "Number of matches After Lowe's Ratio New 78\n"
          ],
          "name": "stdout"
        },
        {
          "output_type": "stream",
          "text": [
            " 33%|███▎      | 20/60 [00:02<00:05,  6.95it/s]"
          ],
          "name": "stderr"
        },
        {
          "output_type": "stream",
          "text": [
            "Number of Robust matches New 11\n",
            "\n",
            "\n",
            "\n",
            "Number of matches 1000\n",
            "Number of matches After Lowe's Ratio 138\n",
            "Number of Robust matches 46\n",
            "\n",
            "\n"
          ],
          "name": "stdout"
        },
        {
          "output_type": "stream",
          "text": [
            " 37%|███▋      | 22/60 [00:02<00:04,  7.78it/s]"
          ],
          "name": "stderr"
        },
        {
          "output_type": "stream",
          "text": [
            "\n",
            "Number of matches 1000\n",
            "Number of matches After Lowe's Ratio 292\n",
            "Number of Robust matches 136\n",
            "\n",
            "\n",
            "\n",
            "Number of matches 1000\n",
            "Number of matches After Lowe's Ratio 283\n",
            "Number of Robust matches 131\n",
            "\n",
            "\n"
          ],
          "name": "stdout"
        },
        {
          "output_type": "stream",
          "text": [
            " 40%|████      | 24/60 [00:03<00:04,  8.48it/s]"
          ],
          "name": "stderr"
        },
        {
          "output_type": "stream",
          "text": [
            "\n",
            "Number of matches 1000\n",
            "Number of matches After Lowe's Ratio 359\n",
            "Number of Robust matches 170\n",
            "\n",
            "\n",
            "\n",
            "Number of matches 1000\n",
            "Number of matches After Lowe's Ratio 375\n",
            "Number of Robust matches 258\n",
            "\n",
            "\n"
          ],
          "name": "stdout"
        },
        {
          "output_type": "stream",
          "text": [
            " 43%|████▎     | 26/60 [00:03<00:03,  8.93it/s]"
          ],
          "name": "stderr"
        },
        {
          "output_type": "stream",
          "text": [
            "\n",
            "Number of matches 1000\n",
            "Number of matches After Lowe's Ratio 319\n",
            "Number of Robust matches 196\n",
            "\n",
            "\n",
            "\n",
            "Number of matches 1000\n",
            "Number of matches After Lowe's Ratio 245\n",
            "Number of Robust matches 174\n",
            "\n",
            "\n"
          ],
          "name": "stdout"
        },
        {
          "output_type": "stream",
          "text": [
            "\r 45%|████▌     | 27/60 [00:03<00:04,  6.60it/s]"
          ],
          "name": "stderr"
        },
        {
          "output_type": "stream",
          "text": [
            "\n",
            "Number of matches 1000\n",
            "Number of matches After Lowe's Ratio 65\n",
            "Number of Robust matches 6\n",
            "\n",
            "\n",
            "Number of matches After Lowe's Ratio New 65\n",
            "Number of Robust matches New 6\n",
            "\n",
            "\n"
          ],
          "name": "stdout"
        },
        {
          "output_type": "stream",
          "text": [
            " 48%|████▊     | 29/60 [00:03<00:04,  7.71it/s]"
          ],
          "name": "stderr"
        },
        {
          "output_type": "stream",
          "text": [
            "\n",
            "Number of matches 1000\n",
            "Number of matches After Lowe's Ratio 217\n",
            "Number of Robust matches 140\n",
            "\n",
            "\n",
            "\n",
            "Number of matches 1000\n",
            "Number of matches After Lowe's Ratio 331\n",
            "Number of Robust matches 173\n",
            "\n",
            "\n"
          ],
          "name": "stdout"
        },
        {
          "output_type": "stream",
          "text": [
            " 52%|█████▏    | 31/60 [00:03<00:03,  8.16it/s]"
          ],
          "name": "stderr"
        },
        {
          "output_type": "stream",
          "text": [
            "\n",
            "Number of matches 1000\n",
            "Number of matches After Lowe's Ratio 375\n",
            "Number of Robust matches 166\n",
            "\n",
            "\n",
            "\n",
            "Number of matches 1000\n",
            "Number of matches After Lowe's Ratio 306\n",
            "Number of Robust matches 169\n",
            "\n",
            "\n"
          ],
          "name": "stdout"
        },
        {
          "output_type": "stream",
          "text": [
            " 55%|█████▌    | 33/60 [00:04<00:03,  8.62it/s]"
          ],
          "name": "stderr"
        },
        {
          "output_type": "stream",
          "text": [
            "\n",
            "Number of matches 1000\n",
            "Number of matches After Lowe's Ratio 253\n",
            "Number of Robust matches 111\n",
            "\n",
            "\n",
            "\n",
            "Number of matches 1000\n",
            "Number of matches After Lowe's Ratio 334\n",
            "Number of Robust matches 167\n",
            "\n",
            "\n"
          ],
          "name": "stdout"
        },
        {
          "output_type": "stream",
          "text": [
            "\r 57%|█████▋    | 34/60 [00:04<00:03,  8.62it/s]"
          ],
          "name": "stderr"
        },
        {
          "output_type": "stream",
          "text": [
            "\n",
            "Number of matches 1000\n",
            "Number of matches After Lowe's Ratio 168\n",
            "Number of Robust matches 77\n",
            "\n",
            "\n",
            "\n",
            "Number of matches 1000\n",
            "Number of matches After Lowe's Ratio 72\n",
            "Number of Robust matches 12\n",
            "\n",
            "\n",
            "Number of matches After Lowe's Ratio New 72\n"
          ],
          "name": "stdout"
        },
        {
          "output_type": "stream",
          "text": [
            " 60%|██████    | 36/60 [00:04<00:03,  6.74it/s]"
          ],
          "name": "stderr"
        },
        {
          "output_type": "stream",
          "text": [
            "Number of Robust matches New 12\n",
            "\n",
            "\n",
            "\n",
            "Number of matches 1000\n",
            "Number of matches After Lowe's Ratio 103\n",
            "Number of Robust matches 30\n",
            "\n",
            "\n"
          ],
          "name": "stdout"
        },
        {
          "output_type": "stream",
          "text": [
            " 63%|██████▎   | 38/60 [00:04<00:02,  7.71it/s]"
          ],
          "name": "stderr"
        },
        {
          "output_type": "stream",
          "text": [
            "\n",
            "Number of matches 1000\n",
            "Number of matches After Lowe's Ratio 290\n",
            "Number of Robust matches 123\n",
            "\n",
            "\n",
            "\n",
            "Number of matches 1000\n",
            "Number of matches After Lowe's Ratio 318\n",
            "Number of Robust matches 138\n",
            "\n",
            "\n"
          ],
          "name": "stdout"
        },
        {
          "output_type": "stream",
          "text": [
            " 67%|██████▋   | 40/60 [00:05<00:02,  8.42it/s]"
          ],
          "name": "stderr"
        },
        {
          "output_type": "stream",
          "text": [
            "\n",
            "Number of matches 1000\n",
            "Number of matches After Lowe's Ratio 391\n",
            "Number of Robust matches 194\n",
            "\n",
            "\n",
            "\n",
            "Number of matches 1000\n",
            "Number of matches After Lowe's Ratio 376\n",
            "Number of Robust matches 258\n",
            "\n",
            "\n"
          ],
          "name": "stdout"
        },
        {
          "output_type": "stream",
          "text": [
            " 70%|███████   | 42/60 [00:05<00:02,  8.47it/s]"
          ],
          "name": "stderr"
        },
        {
          "output_type": "stream",
          "text": [
            "\n",
            "Number of matches 1000\n",
            "Number of matches After Lowe's Ratio 196\n",
            "Number of Robust matches 131\n",
            "\n",
            "\n",
            "\n",
            "Number of matches 1000\n",
            "Number of matches After Lowe's Ratio 134\n",
            "Number of Robust matches 34\n",
            "\n",
            "\n"
          ],
          "name": "stdout"
        },
        {
          "output_type": "stream",
          "text": [
            "\r 72%|███████▏  | 43/60 [00:05<00:02,  6.41it/s]"
          ],
          "name": "stderr"
        },
        {
          "output_type": "stream",
          "text": [
            "\n",
            "Number of matches 1000\n",
            "Number of matches After Lowe's Ratio 66\n",
            "Number of Robust matches 6\n",
            "\n",
            "\n",
            "Number of matches After Lowe's Ratio New 66\n",
            "Number of Robust matches New 5\n",
            "\n",
            "\n"
          ],
          "name": "stdout"
        },
        {
          "output_type": "stream",
          "text": [
            " 75%|███████▌  | 45/60 [00:05<00:02,  7.40it/s]"
          ],
          "name": "stderr"
        },
        {
          "output_type": "stream",
          "text": [
            "\n",
            "Number of matches 1000\n",
            "Number of matches After Lowe's Ratio 163\n",
            "Number of Robust matches 81\n",
            "\n",
            "\n",
            "\n",
            "Number of matches 1000\n",
            "Number of matches After Lowe's Ratio 299\n",
            "Number of Robust matches 172\n",
            "\n",
            "\n"
          ],
          "name": "stdout"
        },
        {
          "output_type": "stream",
          "text": [
            " 78%|███████▊  | 47/60 [00:06<00:01,  7.94it/s]"
          ],
          "name": "stderr"
        },
        {
          "output_type": "stream",
          "text": [
            "\n",
            "Number of matches 1000\n",
            "Number of matches After Lowe's Ratio 316\n",
            "Number of Robust matches 168\n",
            "\n",
            "\n",
            "\n",
            "Number of matches 1000\n",
            "Number of matches After Lowe's Ratio 233\n",
            "Number of Robust matches 83\n",
            "\n",
            "\n"
          ],
          "name": "stdout"
        },
        {
          "output_type": "stream",
          "text": [
            " 82%|████████▏ | 49/60 [00:06<00:01,  8.54it/s]"
          ],
          "name": "stderr"
        },
        {
          "output_type": "stream",
          "text": [
            "\n",
            "Number of matches 1000\n",
            "Number of matches After Lowe's Ratio 259\n",
            "Number of Robust matches 109\n",
            "\n",
            "\n",
            "\n",
            "Number of matches 1000\n",
            "Number of matches After Lowe's Ratio 186\n",
            "Number of Robust matches 112\n",
            "\n",
            "\n"
          ],
          "name": "stdout"
        },
        {
          "output_type": "stream",
          "text": [
            "\r 83%|████████▎ | 50/60 [00:06<00:01,  8.51it/s]"
          ],
          "name": "stderr"
        },
        {
          "output_type": "stream",
          "text": [
            "\n",
            "Number of matches 1000\n",
            "Number of matches After Lowe's Ratio 196\n",
            "Number of Robust matches 102\n",
            "\n",
            "\n",
            "\n",
            "Number of matches 1000\n",
            "Number of matches After Lowe's Ratio 62\n",
            "Number of Robust matches 5\n",
            "\n",
            "\n",
            "Number of matches After Lowe's Ratio New 62\n"
          ],
          "name": "stdout"
        },
        {
          "output_type": "stream",
          "text": [
            " 87%|████████▋ | 52/60 [00:06<00:01,  7.09it/s]"
          ],
          "name": "stderr"
        },
        {
          "output_type": "stream",
          "text": [
            "Number of Robust matches New 5\n",
            "\n",
            "\n",
            "\n",
            "Number of matches 1000\n",
            "Number of matches After Lowe's Ratio 109\n",
            "Number of Robust matches 49\n",
            "\n",
            "\n"
          ],
          "name": "stdout"
        },
        {
          "output_type": "stream",
          "text": [
            " 90%|█████████ | 54/60 [00:06<00:00,  7.91it/s]"
          ],
          "name": "stderr"
        },
        {
          "output_type": "stream",
          "text": [
            "\n",
            "Number of matches 1000\n",
            "Number of matches After Lowe's Ratio 305\n",
            "Number of Robust matches 88\n",
            "\n",
            "\n",
            "\n",
            "Number of matches 1000\n",
            "Number of matches After Lowe's Ratio 288\n",
            "Number of Robust matches 145\n",
            "\n",
            "\n"
          ],
          "name": "stdout"
        },
        {
          "output_type": "stream",
          "text": [
            " 93%|█████████▎| 56/60 [00:07<00:00,  8.60it/s]"
          ],
          "name": "stderr"
        },
        {
          "output_type": "stream",
          "text": [
            "\n",
            "Number of matches 1000\n",
            "Number of matches After Lowe's Ratio 280\n",
            "Number of Robust matches 147\n",
            "\n",
            "\n",
            "\n",
            "Number of matches 1000\n",
            "Number of matches After Lowe's Ratio 330\n",
            "Number of Robust matches 189\n",
            "\n",
            "\n"
          ],
          "name": "stdout"
        },
        {
          "output_type": "stream",
          "text": [
            " 97%|█████████▋| 58/60 [00:07<00:00,  8.66it/s]"
          ],
          "name": "stderr"
        },
        {
          "output_type": "stream",
          "text": [
            "\n",
            "Number of matches 1000\n",
            "Number of matches After Lowe's Ratio 291\n",
            "Number of Robust matches 205\n",
            "\n",
            "\n",
            "\n",
            "Number of matches 1000\n",
            "Number of matches After Lowe's Ratio 256\n",
            "Number of Robust matches 174\n",
            "\n",
            "\n"
          ],
          "name": "stdout"
        },
        {
          "output_type": "stream",
          "text": [
            "\r 98%|█████████▊| 59/60 [00:07<00:00,  6.38it/s]"
          ],
          "name": "stderr"
        },
        {
          "output_type": "stream",
          "text": [
            "\n",
            "Number of matches 1000\n",
            "Number of matches After Lowe's Ratio 59\n",
            "Number of Robust matches 7\n",
            "\n",
            "\n",
            "Number of matches After Lowe's Ratio New 59\n",
            "Number of Robust matches New 7\n",
            "\n",
            "\n"
          ],
          "name": "stdout"
        }
      ]
    },
    {
      "cell_type": "code",
      "metadata": {
        "colab": {
          "base_uri": "https://localhost:8080/"
        },
        "id": "waJV2mS_8npq",
        "outputId": "b594e0de-85f9-4ee9-bba5-20c5d463885e"
      },
      "source": [
        "import h5py as h5\n",
        "f=h5.File('drive/MyDrive/H_left_gftt_40.h5','w')\n",
        "t0=time.time()\n",
        "f.create_dataset('data',data=H_left_gftt)\n",
        "f.close()\n",
        "print('HDF5  w/o comp.:',time.time()-t0,'[s] ... size',os.path.getsize('drive/MyDrive/H_left_gftt_40.h5')/1.e6,'MB')"
      ],
      "execution_count": 100,
      "outputs": [
        {
          "output_type": "stream",
          "text": [
            "HDF5  w/o comp.: 0.005094766616821289 [s] ... size 0.006368 MB\n"
          ],
          "name": "stdout"
        }
      ]
    },
    {
      "cell_type": "code",
      "metadata": {
        "colab": {
          "base_uri": "https://localhost:8080/"
        },
        "id": "yw5Fuauv8nk5",
        "outputId": "3d166816-e176-4960-dde7-d0e1cbd88180"
      },
      "source": [
        "import h5py as h5\n",
        "f=h5.File('drive/MyDrive/H_right_gftt_40.h5','w')\n",
        "t0=time.time()\n",
        "f.create_dataset('data',data=H_right_gftt)\n",
        "f.close()\n",
        "print('HDF5  w/o comp.:',time.time()-t0,'[s] ... size',os.path.getsize('drive/MyDrive/H_right_gftt_40.h5')/1.e6,'MB')"
      ],
      "execution_count": 101,
      "outputs": [
        {
          "output_type": "stream",
          "text": [
            "HDF5  w/o comp.: 0.006392002105712891 [s] ... size 0.006296 MB\n"
          ],
          "name": "stdout"
        }
      ]
    },
    {
      "cell_type": "code",
      "metadata": {
        "id": "PM86QBha8u29"
      },
      "source": [
        "del H_left_gftt, H_right_gftt,keypoints_all_left_gftt, keypoints_all_right_gftt, descriptors_all_left_gftt, descriptors_all_right_gftt, points_all_left_gftt, points_all_right_gftt"
      ],
      "execution_count": 102,
      "outputs": []
    },
    {
      "cell_type": "code",
      "metadata": {
        "id": "X2B_VYcz82ex"
      },
      "source": [
        ""
      ],
      "execution_count": null,
      "outputs": []
    },
    {
      "cell_type": "code",
      "metadata": {
        "id": "tEDhQwXy82bF"
      },
      "source": [
        "import pickle\n",
        "Fdb = open('all_feat_mser_left.dat', 'rb')\n",
        "kpts_all = pickle.load(Fdb)\n",
        "Fdb.close()\n",
        "\n",
        "keypoints_all_left_mser = []\n",
        "descriptors_all_left_mser = []\n",
        "\n",
        "for j,kpt_each in enumerate(kpts_all):\n",
        "  keypoints_each = []\n",
        "  descrip_each = []\n",
        "  for k,kpt_img in enumerate(kpt_each):\n",
        "    temp_feature = cv2.KeyPoint(x=kpt_img[0][0],y=kpt_img[0][1],_size=kpt_img[1], _angle=kpt_img[2], \n",
        "                            _response=kpt_img[3], _octave=kpt_img[4], _class_id=kpt_img[5]) \n",
        "    temp_descriptor = kpt_img[6]\n",
        "    keypoints_each.append(temp_feature)\n",
        "    descrip_each.append(temp_descriptor)\n",
        "  points_all_left_mser.append(np.asarray([[p.pt[0], p.pt[1]] for p in keypoints_each]))\n",
        "  keypoints_all_left_mser.append(keypoints_each)\n",
        "  descriptors_all_left_mser.append(descrip_each)"
      ],
      "execution_count": 103,
      "outputs": []
    },
    {
      "cell_type": "code",
      "metadata": {
        "id": "MxXWjt4_82XY"
      },
      "source": [
        "import pickle\n",
        "Fdb = open('all_feat_mser_right.dat', 'rb')\n",
        "kpts_all = pickle.load(Fdb)\n",
        "Fdb.close()\n",
        "\n",
        "keypoints_all_right_mser = []\n",
        "descriptors_all_right_mser = []\n",
        "\n",
        "for j,kpt_each in enumerate(kpts_all):\n",
        "  keypoints_each = []\n",
        "  descrip_each = []\n",
        "  for k,kpt_img in enumerate(kpt_each):\n",
        "    temp_feature = cv2.KeyPoint(x=kpt_img[0][0],y=kpt_img[0][1],_size=kpt_img[1], _angle=kpt_img[2], \n",
        "                            _response=kpt_img[3], _octave=kpt_img[4], _class_id=kpt_img[5]) \n",
        "    temp_descriptor = kpt_img[6]\n",
        "    keypoints_each.append(temp_feature)\n",
        "    descrip_each.append(temp_descriptor)\n",
        "  points_all_right_mser.append(np.asarray([[p.pt[0], p.pt[1]] for p in keypoints_each]))\n",
        "  keypoints_all_right_mser.append(keypoints_each)\n",
        "  descriptors_all_right_mser.append(descrip_each)"
      ],
      "execution_count": 104,
      "outputs": []
    },
    {
      "cell_type": "code",
      "metadata": {
        "colab": {
          "base_uri": "https://localhost:8080/"
        },
        "id": "VyWVSWRf82Tr",
        "outputId": "10f14dfd-744a-4ef0-89dd-6e9a591e4f66"
      },
      "source": [
        "H_left_mser = []\n",
        "H_right_mser = []\n",
        "\n",
        "num_matches_mser = []\n",
        "num_good_matches_mser = []\n",
        "\n",
        "for j in tqdm(range(len(left_files_path))):\n",
        "  if j==len(left_files_path)-1:\n",
        "    break\n",
        "\n",
        "  H_a,matches,gd_matches = get_Hmatrix(images_left_bgr[j:j+2][::-1],keypoints_all_left_mser[j:j+2][::-1],points_all_left_mser[j:j+2][::-1],descriptors_all_left_mser[j:j+2][::-1],0.95,8)\n",
        "  H_left_mser.append(H_a)\n",
        "  num_matches_mser.append(matches)\n",
        "  num_good_matches_mser.append(gd_matches)\n",
        "\n",
        "for j in tqdm(range(len(right_files_path))):\n",
        "  if j==len(right_files_path)-1:\n",
        "    break\n",
        "\n",
        "  H_a,matches,gd_matches = get_Hmatrix(images_right_bgr[j:j+2][::-1],keypoints_all_right_mser[j:j+2][::-1],points_all_right_mser[j:j+2][::-1],descriptors_all_right_mser[j:j+2][::-1],0.95,8)\n",
        "  H_right_mser.append(H_a)\n",
        "  num_matches_mser.append(matches)\n",
        "  num_good_matches_mser.append(gd_matches)"
      ],
      "execution_count": 105,
      "outputs": [
        {
          "output_type": "stream",
          "text": [
            "  2%|▏         | 1/61 [00:00<00:55,  1.09it/s]"
          ],
          "name": "stderr"
        },
        {
          "output_type": "stream",
          "text": [
            "\n",
            "Number of matches 5366\n",
            "Number of matches After Lowe's Ratio 2289\n",
            "Number of Robust matches 619\n",
            "\n",
            "\n"
          ],
          "name": "stdout"
        },
        {
          "output_type": "stream",
          "text": [
            "\r  3%|▎         | 2/61 [00:01<00:51,  1.15it/s]"
          ],
          "name": "stderr"
        },
        {
          "output_type": "stream",
          "text": [
            "\n",
            "Number of matches 5114\n",
            "Number of matches After Lowe's Ratio 2399\n",
            "Number of Robust matches 693\n",
            "\n",
            "\n"
          ],
          "name": "stdout"
        },
        {
          "output_type": "stream",
          "text": [
            "\r  5%|▍         | 3/61 [00:02<00:48,  1.20it/s]"
          ],
          "name": "stderr"
        },
        {
          "output_type": "stream",
          "text": [
            "\n",
            "Number of matches 5055\n",
            "Number of matches After Lowe's Ratio 2174\n",
            "Number of Robust matches 608\n",
            "\n",
            "\n"
          ],
          "name": "stdout"
        },
        {
          "output_type": "stream",
          "text": [
            "\r  7%|▋         | 4/61 [00:03<00:46,  1.24it/s]"
          ],
          "name": "stderr"
        },
        {
          "output_type": "stream",
          "text": [
            "\n",
            "Number of matches 5221\n",
            "Number of matches After Lowe's Ratio 2149\n",
            "Number of Robust matches 672\n",
            "\n",
            "\n"
          ],
          "name": "stdout"
        },
        {
          "output_type": "stream",
          "text": [
            "\r  8%|▊         | 5/61 [00:04<00:46,  1.21it/s]"
          ],
          "name": "stderr"
        },
        {
          "output_type": "stream",
          "text": [
            "\n",
            "Number of matches 5984\n",
            "Number of matches After Lowe's Ratio 2096\n",
            "Number of Robust matches 364\n",
            "\n",
            "\n"
          ],
          "name": "stdout"
        },
        {
          "output_type": "stream",
          "text": [
            "\r 10%|▉         | 6/61 [00:05<00:47,  1.15it/s]"
          ],
          "name": "stderr"
        },
        {
          "output_type": "stream",
          "text": [
            "\n",
            "Number of matches 5665\n",
            "Number of matches After Lowe's Ratio 1460\n",
            "Number of Robust matches 109\n",
            "\n",
            "\n"
          ],
          "name": "stdout"
        },
        {
          "output_type": "stream",
          "text": [
            "\r 11%|█▏        | 7/61 [00:05<00:46,  1.16it/s]"
          ],
          "name": "stderr"
        },
        {
          "output_type": "stream",
          "text": [
            "\n",
            "Number of matches 5720\n",
            "Number of matches After Lowe's Ratio 2650\n",
            "Number of Robust matches 996\n",
            "\n",
            "\n"
          ],
          "name": "stdout"
        },
        {
          "output_type": "stream",
          "text": [
            "\r 13%|█▎        | 8/61 [00:06<00:45,  1.17it/s]"
          ],
          "name": "stderr"
        },
        {
          "output_type": "stream",
          "text": [
            "\n",
            "Number of matches 5705\n",
            "Number of matches After Lowe's Ratio 2630\n",
            "Number of Robust matches 852\n",
            "\n",
            "\n"
          ],
          "name": "stdout"
        },
        {
          "output_type": "stream",
          "text": [
            "\r 15%|█▍        | 9/61 [00:07<00:46,  1.13it/s]"
          ],
          "name": "stderr"
        },
        {
          "output_type": "stream",
          "text": [
            "\n",
            "Number of matches 5385\n",
            "Number of matches After Lowe's Ratio 2570\n",
            "Number of Robust matches 830\n",
            "\n",
            "\n"
          ],
          "name": "stdout"
        },
        {
          "output_type": "stream",
          "text": [
            "\r 16%|█▋        | 10/61 [00:08<00:43,  1.18it/s]"
          ],
          "name": "stderr"
        },
        {
          "output_type": "stream",
          "text": [
            "\n",
            "Number of matches 5852\n",
            "Number of matches After Lowe's Ratio 2526\n",
            "Number of Robust matches 828\n",
            "\n",
            "\n"
          ],
          "name": "stdout"
        },
        {
          "output_type": "stream",
          "text": [
            "\r 18%|█▊        | 11/61 [00:09<00:43,  1.16it/s]"
          ],
          "name": "stderr"
        },
        {
          "output_type": "stream",
          "text": [
            "\n",
            "Number of matches 5864\n",
            "Number of matches After Lowe's Ratio 2246\n",
            "Number of Robust matches 423\n",
            "\n",
            "\n"
          ],
          "name": "stdout"
        },
        {
          "output_type": "stream",
          "text": [
            "\r 20%|█▉        | 12/61 [00:10<00:42,  1.14it/s]"
          ],
          "name": "stderr"
        },
        {
          "output_type": "stream",
          "text": [
            "\n",
            "Number of matches 6084\n",
            "Number of matches After Lowe's Ratio 2421\n",
            "Number of Robust matches 483\n",
            "\n",
            "\n"
          ],
          "name": "stdout"
        },
        {
          "output_type": "stream",
          "text": [
            "\r 21%|██▏       | 13/61 [00:11<00:43,  1.11it/s]"
          ],
          "name": "stderr"
        },
        {
          "output_type": "stream",
          "text": [
            "\n",
            "Number of matches 6547\n",
            "Number of matches After Lowe's Ratio 1803\n",
            "Number of Robust matches 90\n",
            "\n",
            "\n"
          ],
          "name": "stdout"
        },
        {
          "output_type": "stream",
          "text": [
            "\r 23%|██▎       | 14/61 [00:12<00:45,  1.02it/s]"
          ],
          "name": "stderr"
        },
        {
          "output_type": "stream",
          "text": [
            "\n",
            "Number of matches 7843\n",
            "Number of matches After Lowe's Ratio 1913\n",
            "Number of Robust matches 54\n",
            "\n",
            "\n"
          ],
          "name": "stdout"
        },
        {
          "output_type": "stream",
          "text": [
            "\r 25%|██▍       | 15/61 [00:13<00:48,  1.06s/it]"
          ],
          "name": "stderr"
        },
        {
          "output_type": "stream",
          "text": [
            "\n",
            "Number of matches 6545\n",
            "Number of matches After Lowe's Ratio 1869\n",
            "Number of Robust matches 337\n",
            "\n",
            "\n"
          ],
          "name": "stdout"
        },
        {
          "output_type": "stream",
          "text": [
            "\r 26%|██▌       | 16/61 [00:14<00:48,  1.09s/it]"
          ],
          "name": "stderr"
        },
        {
          "output_type": "stream",
          "text": [
            "\n",
            "Number of matches 6439\n",
            "Number of matches After Lowe's Ratio 1888\n",
            "Number of Robust matches 341\n",
            "\n",
            "\n"
          ],
          "name": "stdout"
        },
        {
          "output_type": "stream",
          "text": [
            "\r 28%|██▊       | 17/61 [00:15<00:46,  1.06s/it]"
          ],
          "name": "stderr"
        },
        {
          "output_type": "stream",
          "text": [
            "\n",
            "Number of matches 5912\n",
            "Number of matches After Lowe's Ratio 1214\n",
            "Number of Robust matches 25\n",
            "\n",
            "\n"
          ],
          "name": "stdout"
        },
        {
          "output_type": "stream",
          "text": [
            "\r 30%|██▉       | 18/61 [00:16<00:44,  1.03s/it]"
          ],
          "name": "stderr"
        },
        {
          "output_type": "stream",
          "text": [
            "\n",
            "Number of matches 5412\n",
            "Number of matches After Lowe's Ratio 1069\n",
            "Number of Robust matches 24\n",
            "\n",
            "\n",
            "Number of matches After Lowe's Ratio New 51\n",
            "Number of Robust matches New 8\n",
            "\n",
            "\n"
          ],
          "name": "stdout"
        },
        {
          "output_type": "stream",
          "text": [
            "\r 31%|███       | 19/61 [00:17<00:40,  1.03it/s]"
          ],
          "name": "stderr"
        },
        {
          "output_type": "stream",
          "text": [
            "\n",
            "Number of matches 5411\n",
            "Number of matches After Lowe's Ratio 1207\n",
            "Number of Robust matches 43\n",
            "\n",
            "\n"
          ],
          "name": "stdout"
        },
        {
          "output_type": "stream",
          "text": [
            "\r 33%|███▎      | 20/61 [00:18<00:38,  1.07it/s]"
          ],
          "name": "stderr"
        },
        {
          "output_type": "stream",
          "text": [
            "\n",
            "Number of matches 6272\n",
            "Number of matches After Lowe's Ratio 1462\n",
            "Number of Robust matches 75\n",
            "\n",
            "\n"
          ],
          "name": "stdout"
        },
        {
          "output_type": "stream",
          "text": [
            "\r 34%|███▍      | 21/61 [00:19<00:37,  1.05it/s]"
          ],
          "name": "stderr"
        },
        {
          "output_type": "stream",
          "text": [
            "\n",
            "Number of matches 5620\n",
            "Number of matches After Lowe's Ratio 1396\n",
            "Number of Robust matches 31\n",
            "\n",
            "\n"
          ],
          "name": "stdout"
        },
        {
          "output_type": "stream",
          "text": [
            "\r 36%|███▌      | 22/61 [00:20<00:36,  1.08it/s]"
          ],
          "name": "stderr"
        },
        {
          "output_type": "stream",
          "text": [
            "\n",
            "Number of matches 5382\n",
            "Number of matches After Lowe's Ratio 1333\n",
            "Number of Robust matches 41\n",
            "\n",
            "\n"
          ],
          "name": "stdout"
        },
        {
          "output_type": "stream",
          "text": [
            "\r 38%|███▊      | 23/61 [00:21<00:34,  1.10it/s]"
          ],
          "name": "stderr"
        },
        {
          "output_type": "stream",
          "text": [
            "\n",
            "Number of matches 6005\n",
            "Number of matches After Lowe's Ratio 1824\n",
            "Number of Robust matches 124\n",
            "\n",
            "\n"
          ],
          "name": "stdout"
        },
        {
          "output_type": "stream",
          "text": [
            "\r 39%|███▉      | 24/61 [00:22<00:34,  1.08it/s]"
          ],
          "name": "stderr"
        },
        {
          "output_type": "stream",
          "text": [
            "\n",
            "Number of matches 5821\n",
            "Number of matches After Lowe's Ratio 1155\n",
            "Number of Robust matches 26\n",
            "\n",
            "\n"
          ],
          "name": "stdout"
        },
        {
          "output_type": "stream",
          "text": [
            "\r 41%|████      | 25/61 [00:23<00:34,  1.06it/s]"
          ],
          "name": "stderr"
        },
        {
          "output_type": "stream",
          "text": [
            "\n",
            "Number of matches 5609\n",
            "Number of matches After Lowe's Ratio 1270\n",
            "Number of Robust matches 16\n",
            "\n",
            "\n",
            "Number of matches After Lowe's Ratio New 85\n",
            "Number of Robust matches New 12\n",
            "\n",
            "\n"
          ],
          "name": "stdout"
        },
        {
          "output_type": "stream",
          "text": [
            "\r 43%|████▎     | 26/61 [00:23<00:32,  1.07it/s]"
          ],
          "name": "stderr"
        },
        {
          "output_type": "stream",
          "text": [
            "\n",
            "Number of matches 5775\n",
            "Number of matches After Lowe's Ratio 1348\n",
            "Number of Robust matches 29\n",
            "\n",
            "\n"
          ],
          "name": "stdout"
        },
        {
          "output_type": "stream",
          "text": [
            "\r 44%|████▍     | 27/61 [00:24<00:31,  1.07it/s]"
          ],
          "name": "stderr"
        },
        {
          "output_type": "stream",
          "text": [
            "\n",
            "Number of matches 5665\n",
            "Number of matches After Lowe's Ratio 1284\n",
            "Number of Robust matches 56\n",
            "\n",
            "\n"
          ],
          "name": "stdout"
        },
        {
          "output_type": "stream",
          "text": [
            "\r 46%|████▌     | 28/61 [00:25<00:30,  1.08it/s]"
          ],
          "name": "stderr"
        },
        {
          "output_type": "stream",
          "text": [
            "\n",
            "Number of matches 6242\n",
            "Number of matches After Lowe's Ratio 1864\n",
            "Number of Robust matches 126\n",
            "\n",
            "\n"
          ],
          "name": "stdout"
        },
        {
          "output_type": "stream",
          "text": [
            "\r 48%|████▊     | 29/61 [00:26<00:31,  1.02it/s]"
          ],
          "name": "stderr"
        },
        {
          "output_type": "stream",
          "text": [
            "\n",
            "Number of matches 7239\n",
            "Number of matches After Lowe's Ratio 1320\n",
            "Number of Robust matches 49\n",
            "\n",
            "\n"
          ],
          "name": "stdout"
        },
        {
          "output_type": "stream",
          "text": [
            "\r 49%|████▉     | 30/61 [00:28<00:32,  1.06s/it]"
          ],
          "name": "stderr"
        },
        {
          "output_type": "stream",
          "text": [
            "\n",
            "Number of matches 6176\n",
            "Number of matches After Lowe's Ratio 1854\n",
            "Number of Robust matches 308\n",
            "\n",
            "\n"
          ],
          "name": "stdout"
        },
        {
          "output_type": "stream",
          "text": [
            "\r 51%|█████     | 31/61 [00:29<00:32,  1.09s/it]"
          ],
          "name": "stderr"
        },
        {
          "output_type": "stream",
          "text": [
            "\n",
            "Number of matches 5890\n",
            "Number of matches After Lowe's Ratio 1686\n",
            "Number of Robust matches 165\n",
            "\n",
            "\n"
          ],
          "name": "stdout"
        },
        {
          "output_type": "stream",
          "text": [
            "\r 52%|█████▏    | 32/61 [00:30<00:30,  1.05s/it]"
          ],
          "name": "stderr"
        },
        {
          "output_type": "stream",
          "text": [
            "\n",
            "Number of matches 6008\n",
            "Number of matches After Lowe's Ratio 1511\n",
            "Number of Robust matches 174\n",
            "\n",
            "\n"
          ],
          "name": "stdout"
        },
        {
          "output_type": "stream",
          "text": [
            "\r 54%|█████▍    | 33/61 [00:31<00:28,  1.02s/it]"
          ],
          "name": "stderr"
        },
        {
          "output_type": "stream",
          "text": [
            "\n",
            "Number of matches 5980\n",
            "Number of matches After Lowe's Ratio 1878\n",
            "Number of Robust matches 310\n",
            "\n",
            "\n"
          ],
          "name": "stdout"
        },
        {
          "output_type": "stream",
          "text": [
            "\r 56%|█████▌    | 34/61 [00:32<00:27,  1.02s/it]"
          ],
          "name": "stderr"
        },
        {
          "output_type": "stream",
          "text": [
            "\n",
            "Number of matches 5726\n",
            "Number of matches After Lowe's Ratio 1989\n",
            "Number of Robust matches 394\n",
            "\n",
            "\n"
          ],
          "name": "stdout"
        },
        {
          "output_type": "stream",
          "text": [
            "\r 57%|█████▋    | 35/61 [00:33<00:26,  1.01s/it]"
          ],
          "name": "stderr"
        },
        {
          "output_type": "stream",
          "text": [
            "\n",
            "Number of matches 6492\n",
            "Number of matches After Lowe's Ratio 2537\n",
            "Number of Robust matches 455\n",
            "\n",
            "\n"
          ],
          "name": "stdout"
        },
        {
          "output_type": "stream",
          "text": [
            "\r 59%|█████▉    | 36/61 [00:34<00:25,  1.02s/it]"
          ],
          "name": "stderr"
        },
        {
          "output_type": "stream",
          "text": [
            "\n",
            "Number of matches 6276\n",
            "Number of matches After Lowe's Ratio 2445\n",
            "Number of Robust matches 615\n",
            "\n",
            "\n"
          ],
          "name": "stdout"
        },
        {
          "output_type": "stream",
          "text": [
            "\r 61%|██████    | 37/61 [00:35<00:24,  1.04s/it]"
          ],
          "name": "stderr"
        },
        {
          "output_type": "stream",
          "text": [
            "\n",
            "Number of matches 6607\n",
            "Number of matches After Lowe's Ratio 1848\n",
            "Number of Robust matches 164\n",
            "\n",
            "\n"
          ],
          "name": "stdout"
        },
        {
          "output_type": "stream",
          "text": [
            "\r 62%|██████▏   | 38/61 [00:36<00:23,  1.04s/it]"
          ],
          "name": "stderr"
        },
        {
          "output_type": "stream",
          "text": [
            "\n",
            "Number of matches 6931\n",
            "Number of matches After Lowe's Ratio 2577\n",
            "Number of Robust matches 411\n",
            "\n",
            "\n"
          ],
          "name": "stdout"
        },
        {
          "output_type": "stream",
          "text": [
            "\r 64%|██████▍   | 39/61 [00:37<00:23,  1.08s/it]"
          ],
          "name": "stderr"
        },
        {
          "output_type": "stream",
          "text": [
            "\n",
            "Number of matches 7133\n",
            "Number of matches After Lowe's Ratio 1983\n",
            "Number of Robust matches 208\n",
            "\n",
            "\n"
          ],
          "name": "stdout"
        },
        {
          "output_type": "stream",
          "text": [
            "\r 66%|██████▌   | 40/61 [00:38<00:23,  1.11s/it]"
          ],
          "name": "stderr"
        },
        {
          "output_type": "stream",
          "text": [
            "\n",
            "Number of matches 6596\n",
            "Number of matches After Lowe's Ratio 2731\n",
            "Number of Robust matches 626\n",
            "\n",
            "\n"
          ],
          "name": "stdout"
        },
        {
          "output_type": "stream",
          "text": [
            "\r 67%|██████▋   | 41/61 [00:39<00:22,  1.13s/it]"
          ],
          "name": "stderr"
        },
        {
          "output_type": "stream",
          "text": [
            "\n",
            "Number of matches 6787\n",
            "Number of matches After Lowe's Ratio 1871\n",
            "Number of Robust matches 187\n",
            "\n",
            "\n"
          ],
          "name": "stdout"
        },
        {
          "output_type": "stream",
          "text": [
            "\r 69%|██████▉   | 42/61 [00:41<00:21,  1.13s/it]"
          ],
          "name": "stderr"
        },
        {
          "output_type": "stream",
          "text": [
            "\n",
            "Number of matches 5976\n",
            "Number of matches After Lowe's Ratio 1291\n",
            "Number of Robust matches 47\n",
            "\n",
            "\n"
          ],
          "name": "stdout"
        },
        {
          "output_type": "stream",
          "text": [
            "\r 70%|███████   | 43/61 [00:42<00:19,  1.08s/it]"
          ],
          "name": "stderr"
        },
        {
          "output_type": "stream",
          "text": [
            "\n",
            "Number of matches 5496\n",
            "Number of matches After Lowe's Ratio 1593\n",
            "Number of Robust matches 147\n",
            "\n",
            "\n"
          ],
          "name": "stdout"
        },
        {
          "output_type": "stream",
          "text": [
            "\r 72%|███████▏  | 44/61 [00:42<00:17,  1.05s/it]"
          ],
          "name": "stderr"
        },
        {
          "output_type": "stream",
          "text": [
            "\n",
            "Number of matches 6654\n",
            "Number of matches After Lowe's Ratio 1786\n",
            "Number of Robust matches 48\n",
            "\n",
            "\n"
          ],
          "name": "stdout"
        },
        {
          "output_type": "stream",
          "text": [
            "\r 74%|███████▍  | 45/61 [00:44<00:17,  1.11s/it]"
          ],
          "name": "stderr"
        },
        {
          "output_type": "stream",
          "text": [
            "\n",
            "Number of matches 7523\n",
            "Number of matches After Lowe's Ratio 1858\n",
            "Number of Robust matches 57\n",
            "\n",
            "\n"
          ],
          "name": "stdout"
        },
        {
          "output_type": "stream",
          "text": [
            "\r 75%|███████▌  | 46/61 [00:45<00:17,  1.16s/it]"
          ],
          "name": "stderr"
        },
        {
          "output_type": "stream",
          "text": [
            "\n",
            "Number of matches 7005\n",
            "Number of matches After Lowe's Ratio 1413\n",
            "Number of Robust matches 49\n",
            "\n",
            "\n"
          ],
          "name": "stdout"
        },
        {
          "output_type": "stream",
          "text": [
            "\r 77%|███████▋  | 47/61 [00:46<00:16,  1.17s/it]"
          ],
          "name": "stderr"
        },
        {
          "output_type": "stream",
          "text": [
            "\n",
            "Number of matches 6056\n",
            "Number of matches After Lowe's Ratio 1894\n",
            "Number of Robust matches 242\n",
            "\n",
            "\n"
          ],
          "name": "stdout"
        },
        {
          "output_type": "stream",
          "text": [
            "\r 79%|███████▊  | 48/61 [00:47<00:14,  1.12s/it]"
          ],
          "name": "stderr"
        },
        {
          "output_type": "stream",
          "text": [
            "\n",
            "Number of matches 5900\n",
            "Number of matches After Lowe's Ratio 2495\n",
            "Number of Robust matches 510\n",
            "\n",
            "\n"
          ],
          "name": "stdout"
        },
        {
          "output_type": "stream",
          "text": [
            "\r 80%|████████  | 49/61 [00:48<00:13,  1.14s/it]"
          ],
          "name": "stderr"
        },
        {
          "output_type": "stream",
          "text": [
            "\n",
            "Number of matches 6945\n",
            "Number of matches After Lowe's Ratio 2300\n",
            "Number of Robust matches 299\n",
            "\n",
            "\n"
          ],
          "name": "stdout"
        },
        {
          "output_type": "stream",
          "text": [
            "\r 82%|████████▏ | 50/61 [00:50<00:12,  1.16s/it]"
          ],
          "name": "stderr"
        },
        {
          "output_type": "stream",
          "text": [
            "\n",
            "Number of matches 6935\n",
            "Number of matches After Lowe's Ratio 2549\n",
            "Number of Robust matches 576\n",
            "\n",
            "\n"
          ],
          "name": "stdout"
        },
        {
          "output_type": "stream",
          "text": [
            "\r 84%|████████▎ | 51/61 [00:51<00:11,  1.18s/it]"
          ],
          "name": "stderr"
        },
        {
          "output_type": "stream",
          "text": [
            "\n",
            "Number of matches 7213\n",
            "Number of matches After Lowe's Ratio 3182\n",
            "Number of Robust matches 981\n",
            "\n",
            "\n"
          ],
          "name": "stdout"
        },
        {
          "output_type": "stream",
          "text": [
            "\r 85%|████████▌ | 52/61 [00:52<00:10,  1.19s/it]"
          ],
          "name": "stderr"
        },
        {
          "output_type": "stream",
          "text": [
            "\n",
            "Number of matches 6531\n",
            "Number of matches After Lowe's Ratio 2368\n",
            "Number of Robust matches 613\n",
            "\n",
            "\n"
          ],
          "name": "stdout"
        },
        {
          "output_type": "stream",
          "text": [
            "\r 87%|████████▋ | 53/61 [00:53<00:09,  1.17s/it]"
          ],
          "name": "stderr"
        },
        {
          "output_type": "stream",
          "text": [
            "\n",
            "Number of matches 7050\n",
            "Number of matches After Lowe's Ratio 1652\n",
            "Number of Robust matches 124\n",
            "\n",
            "\n"
          ],
          "name": "stdout"
        },
        {
          "output_type": "stream",
          "text": [
            "\r 89%|████████▊ | 54/61 [00:54<00:07,  1.14s/it]"
          ],
          "name": "stderr"
        },
        {
          "output_type": "stream",
          "text": [
            "\n",
            "Number of matches 7109\n",
            "Number of matches After Lowe's Ratio 3120\n",
            "Number of Robust matches 857\n",
            "\n",
            "\n"
          ],
          "name": "stdout"
        },
        {
          "output_type": "stream",
          "text": [
            "\r 90%|█████████ | 55/61 [00:55<00:06,  1.16s/it]"
          ],
          "name": "stderr"
        },
        {
          "output_type": "stream",
          "text": [
            "\n",
            "Number of matches 7514\n",
            "Number of matches After Lowe's Ratio 2125\n",
            "Number of Robust matches 377\n",
            "\n",
            "\n"
          ],
          "name": "stdout"
        },
        {
          "output_type": "stream",
          "text": [
            "\r 92%|█████████▏| 56/61 [00:57<00:05,  1.18s/it]"
          ],
          "name": "stderr"
        },
        {
          "output_type": "stream",
          "text": [
            "\n",
            "Number of matches 6786\n",
            "Number of matches After Lowe's Ratio 1413\n",
            "Number of Robust matches 102\n",
            "\n",
            "\n"
          ],
          "name": "stdout"
        },
        {
          "output_type": "stream",
          "text": [
            "\r 93%|█████████▎| 57/61 [00:58<00:04,  1.20s/it]"
          ],
          "name": "stderr"
        },
        {
          "output_type": "stream",
          "text": [
            "\n",
            "Number of matches 7212\n",
            "Number of matches After Lowe's Ratio 2467\n",
            "Number of Robust matches 511\n",
            "\n",
            "\n"
          ],
          "name": "stdout"
        },
        {
          "output_type": "stream",
          "text": [
            "\r 95%|█████████▌| 58/61 [00:59<00:03,  1.23s/it]"
          ],
          "name": "stderr"
        },
        {
          "output_type": "stream",
          "text": [
            "\n",
            "Number of matches 7453\n",
            "Number of matches After Lowe's Ratio 1898\n",
            "Number of Robust matches 177\n",
            "\n",
            "\n"
          ],
          "name": "stdout"
        },
        {
          "output_type": "stream",
          "text": [
            "\r 97%|█████████▋| 59/61 [01:01<00:02,  1.27s/it]"
          ],
          "name": "stderr"
        },
        {
          "output_type": "stream",
          "text": [
            "\n",
            "Number of matches 7593\n",
            "Number of matches After Lowe's Ratio 2222\n",
            "Number of Robust matches 167\n",
            "\n",
            "\n"
          ],
          "name": "stdout"
        },
        {
          "output_type": "stream",
          "text": [
            "  0%|          | 0/60 [00:00<?, ?it/s]"
          ],
          "name": "stderr"
        },
        {
          "output_type": "stream",
          "text": [
            "\n",
            "Number of matches 7707\n",
            "Number of matches After Lowe's Ratio 1934\n",
            "Number of Robust matches 138\n",
            "\n",
            "\n"
          ],
          "name": "stdout"
        },
        {
          "output_type": "stream",
          "text": [
            "\r  2%|▏         | 1/60 [00:00<00:58,  1.01it/s]"
          ],
          "name": "stderr"
        },
        {
          "output_type": "stream",
          "text": [
            "\n",
            "Number of matches 6810\n",
            "Number of matches After Lowe's Ratio 2953\n",
            "Number of Robust matches 435\n",
            "\n",
            "\n"
          ],
          "name": "stdout"
        },
        {
          "output_type": "stream",
          "text": [
            "\r  3%|▎         | 2/60 [00:02<01:02,  1.08s/it]"
          ],
          "name": "stderr"
        },
        {
          "output_type": "stream",
          "text": [
            "\n",
            "Number of matches 7527\n",
            "Number of matches After Lowe's Ratio 2517\n",
            "Number of Robust matches 350\n",
            "\n",
            "\n"
          ],
          "name": "stdout"
        },
        {
          "output_type": "stream",
          "text": [
            "\r  5%|▌         | 3/60 [00:03<01:04,  1.14s/it]"
          ],
          "name": "stderr"
        },
        {
          "output_type": "stream",
          "text": [
            "\n",
            "Number of matches 6958\n",
            "Number of matches After Lowe's Ratio 1335\n",
            "Number of Robust matches 27\n",
            "\n",
            "\n"
          ],
          "name": "stdout"
        },
        {
          "output_type": "stream",
          "text": [
            "\r  7%|▋         | 4/60 [00:04<01:03,  1.14s/it]"
          ],
          "name": "stderr"
        },
        {
          "output_type": "stream",
          "text": [
            "\n",
            "Number of matches 6426\n",
            "Number of matches After Lowe's Ratio 1274\n",
            "Number of Robust matches 128\n",
            "\n",
            "\n"
          ],
          "name": "stdout"
        },
        {
          "output_type": "stream",
          "text": [
            "\r  8%|▊         | 5/60 [00:05<00:59,  1.09s/it]"
          ],
          "name": "stderr"
        },
        {
          "output_type": "stream",
          "text": [
            "\n",
            "Number of matches 5657\n",
            "Number of matches After Lowe's Ratio 2460\n",
            "Number of Robust matches 697\n",
            "\n",
            "\n"
          ],
          "name": "stdout"
        },
        {
          "output_type": "stream",
          "text": [
            "\r 10%|█         | 6/60 [00:06<00:57,  1.07s/it]"
          ],
          "name": "stderr"
        },
        {
          "output_type": "stream",
          "text": [
            "\n",
            "Number of matches 5806\n",
            "Number of matches After Lowe's Ratio 2696\n",
            "Number of Robust matches 705\n",
            "\n",
            "\n"
          ],
          "name": "stdout"
        },
        {
          "output_type": "stream",
          "text": [
            "\r 12%|█▏        | 7/60 [00:07<00:53,  1.01s/it]"
          ],
          "name": "stderr"
        },
        {
          "output_type": "stream",
          "text": [
            "\n",
            "Number of matches 5752\n",
            "Number of matches After Lowe's Ratio 2750\n",
            "Number of Robust matches 999\n",
            "\n",
            "\n"
          ],
          "name": "stdout"
        },
        {
          "output_type": "stream",
          "text": [
            "\r 13%|█▎        | 8/60 [00:08<00:49,  1.05it/s]"
          ],
          "name": "stderr"
        },
        {
          "output_type": "stream",
          "text": [
            "\n",
            "Number of matches 5504\n",
            "Number of matches After Lowe's Ratio 2593\n",
            "Number of Robust matches 924\n",
            "\n",
            "\n"
          ],
          "name": "stdout"
        },
        {
          "output_type": "stream",
          "text": [
            "\r 15%|█▌        | 9/60 [00:09<00:46,  1.09it/s]"
          ],
          "name": "stderr"
        },
        {
          "output_type": "stream",
          "text": [
            "\n",
            "Number of matches 5429\n",
            "Number of matches After Lowe's Ratio 2475\n",
            "Number of Robust matches 830\n",
            "\n",
            "\n"
          ],
          "name": "stdout"
        },
        {
          "output_type": "stream",
          "text": [
            "\r 17%|█▋        | 10/60 [00:10<00:44,  1.13it/s]"
          ],
          "name": "stderr"
        },
        {
          "output_type": "stream",
          "text": [
            "\n",
            "Number of matches 4842\n",
            "Number of matches After Lowe's Ratio 2508\n",
            "Number of Robust matches 1190\n",
            "\n",
            "\n"
          ],
          "name": "stdout"
        },
        {
          "output_type": "stream",
          "text": [
            "\r 18%|█▊        | 11/60 [00:10<00:41,  1.18it/s]"
          ],
          "name": "stderr"
        },
        {
          "output_type": "stream",
          "text": [
            "\n",
            "Number of matches 4733\n",
            "Number of matches After Lowe's Ratio 845\n",
            "Number of Robust matches 26\n",
            "\n",
            "\n"
          ],
          "name": "stdout"
        },
        {
          "output_type": "stream",
          "text": [
            "\r 20%|██        | 12/60 [00:11<00:39,  1.22it/s]"
          ],
          "name": "stderr"
        },
        {
          "output_type": "stream",
          "text": [
            "\n",
            "Number of matches 5074\n",
            "Number of matches After Lowe's Ratio 1927\n",
            "Number of Robust matches 640\n",
            "\n",
            "\n"
          ],
          "name": "stdout"
        },
        {
          "output_type": "stream",
          "text": [
            "\r 22%|██▏       | 13/60 [00:12<00:37,  1.25it/s]"
          ],
          "name": "stderr"
        },
        {
          "output_type": "stream",
          "text": [
            "\n",
            "Number of matches 5278\n",
            "Number of matches After Lowe's Ratio 2397\n",
            "Number of Robust matches 860\n",
            "\n",
            "\n"
          ],
          "name": "stdout"
        },
        {
          "output_type": "stream",
          "text": [
            "\r 23%|██▎       | 14/60 [00:12<00:35,  1.29it/s]"
          ],
          "name": "stderr"
        },
        {
          "output_type": "stream",
          "text": [
            "\n",
            "Number of matches 5295\n",
            "Number of matches After Lowe's Ratio 2483\n",
            "Number of Robust matches 815\n",
            "\n",
            "\n"
          ],
          "name": "stdout"
        },
        {
          "output_type": "stream",
          "text": [
            "\r 25%|██▌       | 15/60 [00:13<00:35,  1.27it/s]"
          ],
          "name": "stderr"
        },
        {
          "output_type": "stream",
          "text": [
            "\n",
            "Number of matches 5927\n",
            "Number of matches After Lowe's Ratio 2567\n",
            "Number of Robust matches 700\n",
            "\n",
            "\n"
          ],
          "name": "stdout"
        },
        {
          "output_type": "stream",
          "text": [
            "\r 27%|██▋       | 16/60 [00:14<00:36,  1.21it/s]"
          ],
          "name": "stderr"
        },
        {
          "output_type": "stream",
          "text": [
            "\n",
            "Number of matches 6333\n",
            "Number of matches After Lowe's Ratio 2883\n",
            "Number of Robust matches 715\n",
            "\n",
            "\n"
          ],
          "name": "stdout"
        },
        {
          "output_type": "stream",
          "text": [
            "\r 28%|██▊       | 17/60 [00:15<00:38,  1.11it/s]"
          ],
          "name": "stderr"
        },
        {
          "output_type": "stream",
          "text": [
            "\n",
            "Number of matches 6779\n",
            "Number of matches After Lowe's Ratio 2847\n",
            "Number of Robust matches 470\n",
            "\n",
            "\n"
          ],
          "name": "stdout"
        },
        {
          "output_type": "stream",
          "text": [
            "\r 30%|███       | 18/60 [00:17<00:41,  1.00it/s]"
          ],
          "name": "stderr"
        },
        {
          "output_type": "stream",
          "text": [
            "\n",
            "Number of matches 7695\n",
            "Number of matches After Lowe's Ratio 2677\n",
            "Number of Robust matches 509\n",
            "\n",
            "\n"
          ],
          "name": "stdout"
        },
        {
          "output_type": "stream",
          "text": [
            "\r 32%|███▏      | 19/60 [00:18<00:44,  1.10s/it]"
          ],
          "name": "stderr"
        },
        {
          "output_type": "stream",
          "text": [
            "\n",
            "Number of matches 6638\n",
            "Number of matches After Lowe's Ratio 1625\n",
            "Number of Robust matches 62\n",
            "\n",
            "\n"
          ],
          "name": "stdout"
        },
        {
          "output_type": "stream",
          "text": [
            "\r 33%|███▎      | 20/60 [00:19<00:44,  1.11s/it]"
          ],
          "name": "stderr"
        },
        {
          "output_type": "stream",
          "text": [
            "\n",
            "Number of matches 6392\n",
            "Number of matches After Lowe's Ratio 1405\n",
            "Number of Robust matches 223\n",
            "\n",
            "\n"
          ],
          "name": "stdout"
        },
        {
          "output_type": "stream",
          "text": [
            "\r 35%|███▌      | 21/60 [00:20<00:41,  1.07s/it]"
          ],
          "name": "stderr"
        },
        {
          "output_type": "stream",
          "text": [
            "\n",
            "Number of matches 6134\n",
            "Number of matches After Lowe's Ratio 2580\n",
            "Number of Robust matches 783\n",
            "\n",
            "\n"
          ],
          "name": "stdout"
        },
        {
          "output_type": "stream",
          "text": [
            "\r 37%|███▋      | 22/60 [00:21<00:38,  1.02s/it]"
          ],
          "name": "stderr"
        },
        {
          "output_type": "stream",
          "text": [
            "\n",
            "Number of matches 5654\n",
            "Number of matches After Lowe's Ratio 2518\n",
            "Number of Robust matches 802\n",
            "\n",
            "\n"
          ],
          "name": "stdout"
        },
        {
          "output_type": "stream",
          "text": [
            "\r 38%|███▊      | 23/60 [00:22<00:35,  1.04it/s]"
          ],
          "name": "stderr"
        },
        {
          "output_type": "stream",
          "text": [
            "\n",
            "Number of matches 5511\n",
            "Number of matches After Lowe's Ratio 2531\n",
            "Number of Robust matches 681\n",
            "\n",
            "\n"
          ],
          "name": "stdout"
        },
        {
          "output_type": "stream",
          "text": [
            "\r 40%|████      | 24/60 [00:22<00:32,  1.11it/s]"
          ],
          "name": "stderr"
        },
        {
          "output_type": "stream",
          "text": [
            "\n",
            "Number of matches 4708\n",
            "Number of matches After Lowe's Ratio 2418\n",
            "Number of Robust matches 902\n",
            "\n",
            "\n"
          ],
          "name": "stdout"
        },
        {
          "output_type": "stream",
          "text": [
            "\r 42%|████▏     | 25/60 [00:23<00:28,  1.21it/s]"
          ],
          "name": "stderr"
        },
        {
          "output_type": "stream",
          "text": [
            "\n",
            "Number of matches 4493\n",
            "Number of matches After Lowe's Ratio 2405\n",
            "Number of Robust matches 965\n",
            "\n",
            "\n"
          ],
          "name": "stdout"
        },
        {
          "output_type": "stream",
          "text": [
            "\r 43%|████▎     | 26/60 [00:24<00:26,  1.28it/s]"
          ],
          "name": "stderr"
        },
        {
          "output_type": "stream",
          "text": [
            "\n",
            "Number of matches 4853\n",
            "Number of matches After Lowe's Ratio 2127\n",
            "Number of Robust matches 624\n",
            "\n",
            "\n"
          ],
          "name": "stdout"
        },
        {
          "output_type": "stream",
          "text": [
            "\r 45%|████▌     | 27/60 [00:25<00:26,  1.27it/s]"
          ],
          "name": "stderr"
        },
        {
          "output_type": "stream",
          "text": [
            "\n",
            "Number of matches 4766\n",
            "Number of matches After Lowe's Ratio 869\n",
            "Number of Robust matches 30\n",
            "\n",
            "\n"
          ],
          "name": "stdout"
        },
        {
          "output_type": "stream",
          "text": [
            "\r 47%|████▋     | 28/60 [00:25<00:24,  1.30it/s]"
          ],
          "name": "stderr"
        },
        {
          "output_type": "stream",
          "text": [
            "\n",
            "Number of matches 4773\n",
            "Number of matches After Lowe's Ratio 1756\n",
            "Number of Robust matches 597\n",
            "\n",
            "\n"
          ],
          "name": "stdout"
        },
        {
          "output_type": "stream",
          "text": [
            "\r 48%|████▊     | 29/60 [00:26<00:24,  1.24it/s]"
          ],
          "name": "stderr"
        },
        {
          "output_type": "stream",
          "text": [
            "\n",
            "Number of matches 5076\n",
            "Number of matches After Lowe's Ratio 2309\n",
            "Number of Robust matches 868\n",
            "\n",
            "\n"
          ],
          "name": "stdout"
        },
        {
          "output_type": "stream",
          "text": [
            "\r 50%|█████     | 30/60 [00:27<00:23,  1.25it/s]"
          ],
          "name": "stderr"
        },
        {
          "output_type": "stream",
          "text": [
            "\n",
            "Number of matches 5634\n",
            "Number of matches After Lowe's Ratio 2606\n",
            "Number of Robust matches 796\n",
            "\n",
            "\n"
          ],
          "name": "stdout"
        },
        {
          "output_type": "stream",
          "text": [
            "\r 52%|█████▏    | 31/60 [00:28<00:23,  1.22it/s]"
          ],
          "name": "stderr"
        },
        {
          "output_type": "stream",
          "text": [
            "\n",
            "Number of matches 5988\n",
            "Number of matches After Lowe's Ratio 2630\n",
            "Number of Robust matches 752\n",
            "\n",
            "\n"
          ],
          "name": "stdout"
        },
        {
          "output_type": "stream",
          "text": [
            "\r 53%|█████▎    | 32/60 [00:29<00:24,  1.15it/s]"
          ],
          "name": "stderr"
        },
        {
          "output_type": "stream",
          "text": [
            "\n",
            "Number of matches 6541\n",
            "Number of matches After Lowe's Ratio 2602\n",
            "Number of Robust matches 732\n",
            "\n",
            "\n"
          ],
          "name": "stdout"
        },
        {
          "output_type": "stream",
          "text": [
            "\r 55%|█████▌    | 33/60 [00:30<00:25,  1.05it/s]"
          ],
          "name": "stderr"
        },
        {
          "output_type": "stream",
          "text": [
            "\n",
            "Number of matches 7443\n",
            "Number of matches After Lowe's Ratio 2953\n",
            "Number of Robust matches 639\n",
            "\n",
            "\n"
          ],
          "name": "stdout"
        },
        {
          "output_type": "stream",
          "text": [
            "\r 57%|█████▋    | 34/60 [00:31<00:28,  1.10s/it]"
          ],
          "name": "stderr"
        },
        {
          "output_type": "stream",
          "text": [
            "\n",
            "Number of matches 7679\n",
            "Number of matches After Lowe's Ratio 2232\n",
            "Number of Robust matches 482\n",
            "\n",
            "\n"
          ],
          "name": "stdout"
        },
        {
          "output_type": "stream",
          "text": [
            "\r 58%|█████▊    | 35/60 [00:33<00:29,  1.18s/it]"
          ],
          "name": "stderr"
        },
        {
          "output_type": "stream",
          "text": [
            "\n",
            "Number of matches 6659\n",
            "Number of matches After Lowe's Ratio 1452\n",
            "Number of Robust matches 59\n",
            "\n",
            "\n"
          ],
          "name": "stdout"
        },
        {
          "output_type": "stream",
          "text": [
            "\r 60%|██████    | 36/60 [00:34<00:28,  1.18s/it]"
          ],
          "name": "stderr"
        },
        {
          "output_type": "stream",
          "text": [
            "\n",
            "Number of matches 6253\n",
            "Number of matches After Lowe's Ratio 1261\n",
            "Number of Robust matches 42\n",
            "\n",
            "\n"
          ],
          "name": "stdout"
        },
        {
          "output_type": "stream",
          "text": [
            "\r 62%|██████▏   | 37/60 [00:35<00:25,  1.13s/it]"
          ],
          "name": "stderr"
        },
        {
          "output_type": "stream",
          "text": [
            "\n",
            "Number of matches 6280\n",
            "Number of matches After Lowe's Ratio 2428\n",
            "Number of Robust matches 606\n",
            "\n",
            "\n"
          ],
          "name": "stdout"
        },
        {
          "output_type": "stream",
          "text": [
            "\r 63%|██████▎   | 38/60 [00:36<00:23,  1.07s/it]"
          ],
          "name": "stderr"
        },
        {
          "output_type": "stream",
          "text": [
            "\n",
            "Number of matches 5552\n",
            "Number of matches After Lowe's Ratio 2520\n",
            "Number of Robust matches 764\n",
            "\n",
            "\n"
          ],
          "name": "stdout"
        },
        {
          "output_type": "stream",
          "text": [
            "\r 65%|██████▌   | 39/60 [00:37<00:20,  1.01it/s]"
          ],
          "name": "stderr"
        },
        {
          "output_type": "stream",
          "text": [
            "\n",
            "Number of matches 5211\n",
            "Number of matches After Lowe's Ratio 2843\n",
            "Number of Robust matches 1064\n",
            "\n",
            "\n"
          ],
          "name": "stdout"
        },
        {
          "output_type": "stream",
          "text": [
            "\r 67%|██████▋   | 40/60 [00:37<00:18,  1.10it/s]"
          ],
          "name": "stderr"
        },
        {
          "output_type": "stream",
          "text": [
            "\n",
            "Number of matches 4651\n",
            "Number of matches After Lowe's Ratio 2498\n",
            "Number of Robust matches 1066\n",
            "\n",
            "\n"
          ],
          "name": "stdout"
        },
        {
          "output_type": "stream",
          "text": [
            "\r 68%|██████▊   | 41/60 [00:38<00:16,  1.19it/s]"
          ],
          "name": "stderr"
        },
        {
          "output_type": "stream",
          "text": [
            "\n",
            "Number of matches 3741\n",
            "Number of matches After Lowe's Ratio 1808\n",
            "Number of Robust matches 688\n",
            "\n",
            "\n"
          ],
          "name": "stdout"
        },
        {
          "output_type": "stream",
          "text": [
            "\r 70%|███████   | 42/60 [00:39<00:14,  1.28it/s]"
          ],
          "name": "stderr"
        },
        {
          "output_type": "stream",
          "text": [
            "\n",
            "Number of matches 4921\n",
            "Number of matches After Lowe's Ratio 1943\n",
            "Number of Robust matches 223\n",
            "\n",
            "\n"
          ],
          "name": "stdout"
        },
        {
          "output_type": "stream",
          "text": [
            "\r 72%|███████▏  | 43/60 [00:40<00:13,  1.25it/s]"
          ],
          "name": "stderr"
        },
        {
          "output_type": "stream",
          "text": [
            "\n",
            "Number of matches 3773\n",
            "Number of matches After Lowe's Ratio 825\n",
            "Number of Robust matches 22\n",
            "\n",
            "\n",
            "Number of matches After Lowe's Ratio New 49\n",
            "Number of Robust matches New 8\n",
            "\n",
            "\n"
          ],
          "name": "stdout"
        },
        {
          "output_type": "stream",
          "text": [
            "\r 73%|███████▎  | 44/60 [00:40<00:11,  1.35it/s]"
          ],
          "name": "stderr"
        },
        {
          "output_type": "stream",
          "text": [
            "\n",
            "Number of matches 4066\n",
            "Number of matches After Lowe's Ratio 1178\n",
            "Number of Robust matches 410\n",
            "\n",
            "\n"
          ],
          "name": "stdout"
        },
        {
          "output_type": "stream",
          "text": [
            "\r 75%|███████▌  | 45/60 [00:41<00:10,  1.42it/s]"
          ],
          "name": "stderr"
        },
        {
          "output_type": "stream",
          "text": [
            "\n",
            "Number of matches 5038\n",
            "Number of matches After Lowe's Ratio 2125\n",
            "Number of Robust matches 825\n",
            "\n",
            "\n"
          ],
          "name": "stdout"
        },
        {
          "output_type": "stream",
          "text": [
            "\r 77%|███████▋  | 46/60 [00:42<00:10,  1.40it/s]"
          ],
          "name": "stderr"
        },
        {
          "output_type": "stream",
          "text": [
            "\n",
            "Number of matches 5409\n",
            "Number of matches After Lowe's Ratio 2248\n",
            "Number of Robust matches 850\n",
            "\n",
            "\n"
          ],
          "name": "stdout"
        },
        {
          "output_type": "stream",
          "text": [
            "\r 78%|███████▊  | 47/60 [00:42<00:10,  1.29it/s]"
          ],
          "name": "stderr"
        },
        {
          "output_type": "stream",
          "text": [
            "\n",
            "Number of matches 6133\n",
            "Number of matches After Lowe's Ratio 2521\n",
            "Number of Robust matches 488\n",
            "\n",
            "\n"
          ],
          "name": "stdout"
        },
        {
          "output_type": "stream",
          "text": [
            "\r 80%|████████  | 48/60 [00:43<00:10,  1.19it/s]"
          ],
          "name": "stderr"
        },
        {
          "output_type": "stream",
          "text": [
            "\n",
            "Number of matches 5489\n",
            "Number of matches After Lowe's Ratio 1837\n",
            "Number of Robust matches 318\n",
            "\n",
            "\n"
          ],
          "name": "stdout"
        },
        {
          "output_type": "stream",
          "text": [
            "\r 82%|████████▏ | 49/60 [00:44<00:09,  1.13it/s]"
          ],
          "name": "stderr"
        },
        {
          "output_type": "stream",
          "text": [
            "\n",
            "Number of matches 7000\n",
            "Number of matches After Lowe's Ratio 2642\n",
            "Number of Robust matches 553\n",
            "\n",
            "\n"
          ],
          "name": "stdout"
        },
        {
          "output_type": "stream",
          "text": [
            "\r 83%|████████▎ | 50/60 [00:46<00:09,  1.04it/s]"
          ],
          "name": "stderr"
        },
        {
          "output_type": "stream",
          "text": [
            "\n",
            "Number of matches 7589\n",
            "Number of matches After Lowe's Ratio 2483\n",
            "Number of Robust matches 716\n",
            "\n",
            "\n"
          ],
          "name": "stdout"
        },
        {
          "output_type": "stream",
          "text": [
            "\r 85%|████████▌ | 51/60 [00:47<00:09,  1.08s/it]"
          ],
          "name": "stderr"
        },
        {
          "output_type": "stream",
          "text": [
            "\n",
            "Number of matches 7181\n",
            "Number of matches After Lowe's Ratio 1615\n",
            "Number of Robust matches 35\n",
            "\n",
            "\n"
          ],
          "name": "stdout"
        },
        {
          "output_type": "stream",
          "text": [
            "\r 87%|████████▋ | 52/60 [00:48<00:09,  1.18s/it]"
          ],
          "name": "stderr"
        },
        {
          "output_type": "stream",
          "text": [
            "\n",
            "Number of matches 5983\n",
            "Number of matches After Lowe's Ratio 1970\n",
            "Number of Robust matches 355\n",
            "\n",
            "\n"
          ],
          "name": "stdout"
        },
        {
          "output_type": "stream",
          "text": [
            "\r 88%|████████▊ | 53/60 [00:49<00:08,  1.15s/it]"
          ],
          "name": "stderr"
        },
        {
          "output_type": "stream",
          "text": [
            "\n",
            "Number of matches 6515\n",
            "Number of matches After Lowe's Ratio 2332\n",
            "Number of Robust matches 402\n",
            "\n",
            "\n"
          ],
          "name": "stdout"
        },
        {
          "output_type": "stream",
          "text": [
            "\r 90%|█████████ | 54/60 [00:50<00:06,  1.11s/it]"
          ],
          "name": "stderr"
        },
        {
          "output_type": "stream",
          "text": [
            "\n",
            "Number of matches 5726\n",
            "Number of matches After Lowe's Ratio 2338\n",
            "Number of Robust matches 642\n",
            "\n",
            "\n"
          ],
          "name": "stdout"
        },
        {
          "output_type": "stream",
          "text": [
            "\r 92%|█████████▏| 55/60 [00:51<00:05,  1.02s/it]"
          ],
          "name": "stderr"
        },
        {
          "output_type": "stream",
          "text": [
            "\n",
            "Number of matches 5564\n",
            "Number of matches After Lowe's Ratio 2539\n",
            "Number of Robust matches 955\n",
            "\n",
            "\n"
          ],
          "name": "stdout"
        },
        {
          "output_type": "stream",
          "text": [
            "\r 93%|█████████▎| 56/60 [00:52<00:03,  1.06it/s]"
          ],
          "name": "stderr"
        },
        {
          "output_type": "stream",
          "text": [
            "\n",
            "Number of matches 4592\n",
            "Number of matches After Lowe's Ratio 2483\n",
            "Number of Robust matches 1010\n",
            "\n",
            "\n"
          ],
          "name": "stdout"
        },
        {
          "output_type": "stream",
          "text": [
            "\r 95%|█████████▌| 57/60 [00:53<00:02,  1.15it/s]"
          ],
          "name": "stderr"
        },
        {
          "output_type": "stream",
          "text": [
            "\n",
            "Number of matches 4177\n",
            "Number of matches After Lowe's Ratio 2255\n",
            "Number of Robust matches 1015\n",
            "\n",
            "\n"
          ],
          "name": "stdout"
        },
        {
          "output_type": "stream",
          "text": [
            "\r 97%|█████████▋| 58/60 [00:54<00:01,  1.21it/s]"
          ],
          "name": "stderr"
        },
        {
          "output_type": "stream",
          "text": [
            "\n",
            "Number of matches 5480\n",
            "Number of matches After Lowe's Ratio 2309\n",
            "Number of Robust matches 635\n",
            "\n",
            "\n"
          ],
          "name": "stdout"
        },
        {
          "output_type": "stream",
          "text": [
            "\r 98%|█████████▊| 59/60 [00:54<00:00,  1.18it/s]"
          ],
          "name": "stderr"
        },
        {
          "output_type": "stream",
          "text": [
            "\n",
            "Number of matches 5225\n",
            "Number of matches After Lowe's Ratio 1078\n",
            "Number of Robust matches 48\n",
            "\n",
            "\n"
          ],
          "name": "stdout"
        }
      ]
    },
    {
      "cell_type": "code",
      "metadata": {
        "colab": {
          "base_uri": "https://localhost:8080/"
        },
        "id": "TTeZX-nB82QM",
        "outputId": "942aa599-c212-4008-830e-dff4a0e0fb13"
      },
      "source": [
        "import h5py as h5\n",
        "f=h5.File('drive/MyDrive/H_left_mser_40.h5','w')\n",
        "t0=time.time()\n",
        "f.create_dataset('data',data=H_left_mser)\n",
        "f.close()\n",
        "print('HDF5  w/o comp.:',time.time()-t0,'[s] ... size',os.path.getsize('drive/MyDrive/H_left_mser_40.h5')/1.e6,'MB')"
      ],
      "execution_count": 106,
      "outputs": [
        {
          "output_type": "stream",
          "text": [
            "HDF5  w/o comp.: 0.010811090469360352 [s] ... size 0.006368 MB\n"
          ],
          "name": "stdout"
        }
      ]
    },
    {
      "cell_type": "code",
      "metadata": {
        "colab": {
          "base_uri": "https://localhost:8080/"
        },
        "id": "XUxnCvuV82MP",
        "outputId": "ac7df6f3-caa0-43ec-8061-9e850efd2a67"
      },
      "source": [
        "import h5py as h5\n",
        "f=h5.File('drive/MyDrive/H_right_mser_40.h5','w')\n",
        "t0=time.time()\n",
        "f.create_dataset('data',data=H_right_mser)\n",
        "f.close()\n",
        "print('HDF5  w/o comp.:',time.time()-t0,'[s] ... size',os.path.getsize('drive/MyDrive/H_right_mser_40.h5')/1.e6,'MB')"
      ],
      "execution_count": 107,
      "outputs": [
        {
          "output_type": "stream",
          "text": [
            "HDF5  w/o comp.: 0.00508570671081543 [s] ... size 0.006296 MB\n"
          ],
          "name": "stdout"
        }
      ]
    },
    {
      "cell_type": "code",
      "metadata": {
        "id": "lU4zamG682IW"
      },
      "source": [
        "del H_left_mser, H_right_mser,keypoints_all_left_mser, keypoints_all_right_mser, descriptors_all_left_mser, descriptors_all_right_mser, points_all_left_mser, points_all_right_mser"
      ],
      "execution_count": 108,
      "outputs": []
    },
    {
      "cell_type": "markdown",
      "metadata": {
        "id": "gpgSCw-zUP96"
      },
      "source": [
        "Collect All Number Of KeyPoints"
      ]
    },
    {
      "cell_type": "code",
      "metadata": {
        "id": "_DF_86h382DY"
      },
      "source": [
        "len_files = len(left_files_path) + len(right_files_path[1:])\n",
        "num_detectors = 6"
      ],
      "execution_count": 109,
      "outputs": []
    },
    {
      "cell_type": "code",
      "metadata": {
        "id": "LQo5XhcHUyOj"
      },
      "source": [
        "d = {'Dataset': [f'{Dataset}']*(num_detectors*len_files), 'Number of Keypoints': num_kps_brisk + num_kps_daisy + num_kps_gftt + num_kps_mser + num_kps_sift + num_kps_surf, 'Detector/Descriptor': ['BRISK']*len_files + ['DAISY+SIFT']*len_files + ['GFTT+SIFT']*len_files + ['MSER+SIFT']*len_files + ['SIFT']*len_files + ['SURF']*len_files  }\n",
        "df_numkey_6 = pd.DataFrame(data=d)\n",
        "df_numkey_6['Number of Keypoints'] = df_numkey_6['Number of Keypoints']/(len_files)"
      ],
      "execution_count": 110,
      "outputs": []
    },
    {
      "cell_type": "code",
      "metadata": {
        "colab": {
          "base_uri": "https://localhost:8080/",
          "height": 475
        },
        "id": "Xv_jFa7UUx60",
        "outputId": "394b46b0-9d0d-4418-e560-41e429f32a57"
      },
      "source": [
        "import seaborn as sns\n",
        "sns.set_theme(style='whitegrid')\n",
        "\n",
        "\n",
        "# Draw a nested barplot by species and sex\n",
        "g = sns.catplot(\n",
        "    data=df_numkey_6, kind=\"bar\",\n",
        "    x=\"Dataset\", y=\"Number of Keypoints\", hue=\"Detector/Descriptor\",\n",
        "    ci=\"sd\", palette=\"Spectral\", alpha=.9, height=6, aspect=2\n",
        ")\n",
        "g.despine(left=True)\n",
        "g.set_axis_labels(\"Dataset\", \"Number of Keypoints/Descriptors\")\n",
        "g.legend.set_title(\"Detector/Descriptor\")\n",
        "g.fig.suptitle(\"Number of Keypoints Detected for each Detector/Descriptor in Different Aerial Datasets\")"
      ],
      "execution_count": 111,
      "outputs": [
        {
          "output_type": "execute_result",
          "data": {
            "text/plain": [
              "Text(0.5, 0.98, 'Number of Keypoints Detected for each Detector/Descriptor in Different Aerial Datasets')"
            ]
          },
          "metadata": {
            "tags": []
          },
          "execution_count": 111
        },
        {
          "output_type": "display_data",
          "data": {
            "image/png": "[encoded data removed]",
            "text/plain": [
              "<Figure size 991.55x432 with 1 Axes>"
            ]
          },
          "metadata": {
            "tags": []
          }
        }
      ]
    },
    {
      "cell_type": "code",
      "metadata": {
        "id": "KJOf_nMqUXG8"
      },
      "source": [
        "g.savefig(f'drive/MyDrive/Num_Kypoints_6_{Dataset}.png')"
      ],
      "execution_count": 112,
      "outputs": []
    },
    {
      "cell_type": "code",
      "metadata": {
        "id": "5fraVC4QUXBj"
      },
      "source": [
        "df_numkey_6.to_csv(f'drive/MyDrive/Num_Kypoints_6_{Dataset}.csv')"
      ],
      "execution_count": 113,
      "outputs": []
    },
    {
      "cell_type": "markdown",
      "metadata": {
        "id": "bEPf67r7Ugzx"
      },
      "source": [
        "Total Number of Matches Detected for each Detector+Descriptor"
      ]
    },
    {
      "cell_type": "code",
      "metadata": {
        "id": "XAqMRDJQUWyq"
      },
      "source": [
        "#df_match_15['Number of Total Matches'] =  num_matches_agast + num_matches_akaze + num_matches_brisk + num_matches_daisy + num_matches_fast + num_matches_freak + num_matches_gftt + num_matches_kaze + num_matches_mser + num_matches_orb + num_matches_rootsift + num_matches_sift + num_matches_briefstar + num_matches_superpoint+ num_matches_surf+ num_matches_surfsift\n",
        "d = {'Dataset': [f'{Dataset}']*(num_detectors*(len_files-1)), 'Number of Total Matches': num_matches_brisk + num_matches_daisy + num_matches_gftt + num_matches_mser + num_matches_sift + num_matches_surf, 'Detector/Descriptor': ['BRISK']*(len_files-1) + ['DAISY+SIFT']*(len_files-1) + ['GFTT+SIFT']*(len_files-1) + ['MSER+SIFT']*(len_files-1) + ['SIFT']*(len_files-1) +  ['SURF']*(len_files-1) }\n",
        "df_match_6 = pd.DataFrame(data=d)\n",
        "df_match_6['Number of Total Matches'] = df_match_6['Number of Total Matches']/(len_files-1)"
      ],
      "execution_count": 115,
      "outputs": []
    },
    {
      "cell_type": "code",
      "metadata": {
        "colab": {
          "base_uri": "https://localhost:8080/",
          "height": 759
        },
        "id": "_k5r6QcTUWtG",
        "outputId": "67683700-245a-44d5-ae2b-1d406bd61e79"
      },
      "source": [
        "import seaborn as sns\n",
        "sns.set_theme(style='whitegrid')\n",
        "\n",
        "\n",
        "# Draw a nested barplot by species and sex\n",
        "g = sns.catplot(\n",
        "    data=df_match_6, kind=\"bar\",\n",
        "    x=\"Dataset\", y=\"Number of Total Matches\", hue=\"Detector/Descriptor\",\n",
        "    ci=\"sd\", palette=\"Spectral\", alpha=.9, height=10, aspect=0.5\n",
        ")\n",
        "g.despine(left=True)\n",
        "g.set_axis_labels(\"Dataset \", \"Total Number of Matches b/w Consecutive/Overlapping Images\")\n",
        "g.legend.set_title(\"Detector/Descriptor\")\n",
        "g.fig.suptitle(\"Total Number of Matches Detected for each Detector/Descriptor in Different Aerial Datasets\")"
      ],
      "execution_count": 116,
      "outputs": [
        {
          "output_type": "execute_result",
          "data": {
            "text/plain": [
              "Text(0.5, 0.98, 'Total Number of Matches Detected for each Detector/Descriptor in Different Aerial Datasets')"
            ]
          },
          "metadata": {
            "tags": []
          },
          "execution_count": 116
        },
        {
          "output_type": "display_data",
          "data": {
            "image/png": "[encoded data removed]",
            "text/plain": [
              "<Figure size 487.55x720 with 1 Axes>"
            ]
          },
          "metadata": {
            "tags": []
          }
        }
      ]
    },
    {
      "cell_type": "code",
      "metadata": {
        "id": "t8gaiZ7ZUWnf"
      },
      "source": [
        "g.savefig(f'drive/MyDrive/Num_Matches_6_{Dataset}.png')"
      ],
      "execution_count": 117,
      "outputs": []
    },
    {
      "cell_type": "markdown",
      "metadata": {
        "id": "GfKIGYKYWKVo"
      },
      "source": [
        "Total Number of Good/Robust Matches (NN+Lowe+RANSAC) Detected for each Detector+Descriptor"
      ]
    },
    {
      "cell_type": "code",
      "metadata": {
        "id": "7bsCfmgNV9kA"
      },
      "source": [
        "df_match_6['Number of Good Matches'] = num_good_matches_brisk + num_good_matches_daisy + num_good_matches_gftt + num_good_matches_mser + num_good_matches_sift + num_good_matches_surf\n",
        "df_match_6['Number of Good Matches'] = df_match_6['Number of Good Matches']/(len_files-1)"
      ],
      "execution_count": 118,
      "outputs": []
    },
    {
      "cell_type": "code",
      "metadata": {
        "colab": {
          "base_uri": "https://localhost:8080/",
          "height": 759
        },
        "id": "5OT5KMEWWLOp",
        "outputId": "8e097b07-cb92-43bf-99af-d47e57b0a9fe"
      },
      "source": [
        "import seaborn as sns\n",
        "sns.set_theme(style='whitegrid')\n",
        "\n",
        "\n",
        "# Draw a nested barplot by species and sex\n",
        "g = sns.catplot(\n",
        "    data=df_match_6, kind=\"bar\",\n",
        "    x=\"Dataset\", y=\"Number of Good Matches\", hue=\"Detector/Descriptor\",\n",
        "    ci=\"sd\", palette=\"Spectral\", alpha=.9, height=10, aspect=0.5\n",
        ")\n",
        "g.despine(left=True)\n",
        "g.set_axis_labels(\"Dataset\", \"Number of Good Matches b/w Consecutive/Overlapping Images\")\n",
        "g.legend.set_title(\"Detector/Descriptor\")\n",
        "g.fig.suptitle(\"Number of Good Matches (Lowe + RANSAC) Detected for each Detector/Descriptor in Different Aerial Datasets\")"
      ],
      "execution_count": 119,
      "outputs": [
        {
          "output_type": "execute_result",
          "data": {
            "text/plain": [
              "Text(0.5, 0.98, 'Number of Good Matches (Lowe + RANSAC) Detected for each Detector/Descriptor in Different Aerial Datasets')"
            ]
          },
          "metadata": {
            "tags": []
          },
          "execution_count": 119
        },
        {
          "output_type": "display_data",
          "data": {
            "image/png": "[encoded data removed]",
            "text/plain": [
              "<Figure size 487.55x720 with 1 Axes>"
            ]
          },
          "metadata": {
            "tags": []
          }
        }
      ]
    },
    {
      "cell_type": "code",
      "metadata": {
        "id": "2Tgb8_n6WTAI"
      },
      "source": [
        "g.savefig(f'drive/MyDrive/Num_Good_Matches_6_{Dataset}.png')"
      ],
      "execution_count": 120,
      "outputs": []
    },
    {
      "cell_type": "markdown",
      "metadata": {
        "id": "jHv1aMS1UzgC"
      },
      "source": [
        "Recall Rate for each Detector+Descriptor"
      ]
    },
    {
      "cell_type": "code",
      "metadata": {
        "id": "8IyP740eWVpn"
      },
      "source": [
        "df_match_6['Recall Rate of Matches'] = df_match_6['Number of Good Matches']/df_match_6['Number of Total Matches']"
      ],
      "execution_count": 121,
      "outputs": []
    },
    {
      "cell_type": "code",
      "metadata": {
        "colab": {
          "base_uri": "https://localhost:8080/",
          "height": 759
        },
        "id": "DXbkHAS6WWNG",
        "outputId": "6200a256-32e3-42b9-a774-18018c8ac8fb"
      },
      "source": [
        "import seaborn as sns\n",
        "sns.set_theme(style='whitegrid')\n",
        "\n",
        "\n",
        "g = sns.catplot(\n",
        "    data=df_match_6, kind=\"bar\",\n",
        "    x=\"Dataset\", y=\"Recall Rate of Matches\", hue=\"Detector/Descriptor\",\n",
        "    ci=\"sd\", palette=\"Spectral\", alpha=.9, height=10, aspect=0.5\n",
        ")\n",
        "g.despine(left=True)\n",
        "g.set_axis_labels(\"Dataset\", \"Precision of Matches\")\n",
        "g.legend.set_title(\"Detector/Descriptor\")\n",
        "g.fig.suptitle(\"Recall Rate of Matches Detected (Good/Total) for each Detector/Descriptor in Different Aerial Datasets (Higher the Better)\")"
      ],
      "execution_count": 123,
      "outputs": [
        {
          "output_type": "execute_result",
          "data": {
            "text/plain": [
              "Text(0.5, 0.98, 'Recall Rate of Matches Detected (Good/Total) for each Detector/Descriptor in Different Aerial Datasets (Higher the Better)')"
            ]
          },
          "metadata": {
            "tags": []
          },
          "execution_count": 123
        },
        {
          "output_type": "display_data",
          "data": {
            "image/png": "[encoded data removed]",
            "text/plain": [
              "<Figure size 487.55x720 with 1 Axes>"
            ]
          },
          "metadata": {
            "tags": []
          }
        }
      ]
    },
    {
      "cell_type": "code",
      "metadata": {
        "id": "7AgmjQ8fWWKb"
      },
      "source": [
        "g.savefig(f'drive/MyDrive/Recall_Rate_Matches_6_{Dataset}.png')"
      ],
      "execution_count": 124,
      "outputs": []
    },
    {
      "cell_type": "markdown",
      "metadata": {
        "id": "S6v1YdUCWegP"
      },
      "source": [
        "1-Precision Rate for each Detector+Descriptor"
      ]
    },
    {
      "cell_type": "code",
      "metadata": {
        "id": "ekjgnPYxWWGd"
      },
      "source": [
        "df_match_6['1 - Precision Rate of Matches'] = (df_match_6['Number of Total Matches'] - df_match_6['Number of Good Matches'])/df_match_6['Number of Total Matches']"
      ],
      "execution_count": 125,
      "outputs": []
    },
    {
      "cell_type": "code",
      "metadata": {
        "colab": {
          "base_uri": "https://localhost:8080/",
          "height": 759
        },
        "id": "huWou_iYWWAy",
        "outputId": "cbece1ac-5228-4cb7-b33b-e3d77ccc91cf"
      },
      "source": [
        "import seaborn as sns\n",
        "sns.set_theme(style='whitegrid')\n",
        "\n",
        "\n",
        "# Draw a nested barplot by species and sex\n",
        "g = sns.catplot(\n",
        "    data=df_match_6, kind=\"bar\",\n",
        "    x=\"Dataset\", y=\"1 - Precision Rate of Matches\", hue=\"Detector/Descriptor\",\n",
        "    ci=\"sd\", palette=\"Spectral\", alpha=.9, height=10, aspect=0.5\n",
        ")\n",
        "g.despine(left=True)\n",
        "g.set_axis_labels(\"Dataset (120 Images)\", \"1 - Precision Rate of Matches\")\n",
        "g.legend.set_title(\"Detector/Descriptor\")\n",
        "g.fig.suptitle(\"1 - Precision rate of Matches Detected (False/Total Matches) for each Detector/Descriptor in Different Aerial Datasets (Lower the Better)\")"
      ],
      "execution_count": 126,
      "outputs": [
        {
          "output_type": "execute_result",
          "data": {
            "text/plain": [
              "Text(0.5, 0.98, '1 - Precision rate of Matches Detected (False/Total Matches) for each Detector/Descriptor in Different Aerial Datasets (Lower the Better)')"
            ]
          },
          "metadata": {
            "tags": []
          },
          "execution_count": 126
        },
        {
          "output_type": "display_data",
          "data": {
            "image/png": "[encoded data removed]",
            "text/plain": [
              "<Figure size 487.55x720 with 1 Axes>"
            ]
          },
          "metadata": {
            "tags": []
          }
        }
      ]
    },
    {
      "cell_type": "code",
      "metadata": {
        "id": "kyg8t5nzWlPF"
      },
      "source": [
        "g.savefig(f'drive/MyDrive/One_minus_Precision_Rate_Matches_6_{Dataset}.png')"
      ],
      "execution_count": 127,
      "outputs": []
    },
    {
      "cell_type": "markdown",
      "metadata": {
        "id": "x6RS5oeiWnKQ"
      },
      "source": [
        "F-Score for each Detector+Descriptor"
      ]
    },
    {
      "cell_type": "code",
      "metadata": {
        "id": "XUhc3k3MWnl9"
      },
      "source": [
        "df_match_6['F-Score'] = (2* (1 - df_match_6['1 - Precision Rate of Matches']) * df_match_6['Recall Rate of Matches'])/((1 - df_match_6['1 - Precision Rate of Matches']) + df_match_6['Recall Rate of Matches'])"
      ],
      "execution_count": 128,
      "outputs": []
    },
    {
      "cell_type": "code",
      "metadata": {
        "colab": {
          "base_uri": "https://localhost:8080/",
          "height": 759
        },
        "id": "itZ_nq2oWsLE",
        "outputId": "af0039a2-4341-44fc-b402-42ae9dcc5881"
      },
      "source": [
        "import seaborn as sns\n",
        "sns.set_theme(style='whitegrid')\n",
        "\n",
        "\n",
        "# Draw a nested barplot by species and sex\n",
        "g = sns.catplot(\n",
        "    data=df_match_6, kind=\"bar\",\n",
        "    x=\"Dataset\", y=\"F-Score\", hue=\"Detector/Descriptor\",\n",
        "    ci=\"sd\", palette=\"Spectral\", alpha=.9, height=10, aspect=0.5\n",
        ")\n",
        "g.despine(left=True)\n",
        "g.set_axis_labels(\"Dataset\", \"F-Score\")\n",
        "g.legend.set_title(\"Detector/Descriptor\")\n",
        "g.fig.suptitle(\"F-Score of Matches Detected (2*P*R/P+R) for each Detector/Descriptor in Different Aerial Datasets (Higher the Better)\")"
      ],
      "execution_count": 129,
      "outputs": [
        {
          "output_type": "execute_result",
          "data": {
            "text/plain": [
              "Text(0.5, 0.98, 'F-Score of Matches Detected (2*P*R/P+R) for each Detector/Descriptor in Different Aerial Datasets (Higher the Better)')"
            ]
          },
          "metadata": {
            "tags": []
          },
          "execution_count": 129
        },
        {
          "output_type": "display_data",
          "data": {
            "image/png": "[encoded data removed]",
            "text/plain": [
              "<Figure size 487.55x720 with 1 Axes>"
            ]
          },
          "metadata": {
            "tags": []
          }
        }
      ]
    },
    {
      "cell_type": "code",
      "metadata": {
        "id": "ovgmM5nxWup1"
      },
      "source": [
        "g.savefig(f'drive/MyDrive/F_Score_Rate_Matches_6_{Dataset}.png')"
      ],
      "execution_count": 130,
      "outputs": []
    },
    {
      "cell_type": "code",
      "metadata": {
        "id": "yWtJJg7WWwhr"
      },
      "source": [
        "df_match_6.to_csv(f'drive/MyDrive/All_metrics_6_{Dataset}.csv')"
      ],
      "execution_count": 131,
      "outputs": []
    },
    {
      "cell_type": "markdown",
      "metadata": {
        "id": "MTsBTS0CWyf4"
      },
      "source": [
        "Time for each Detector+Descriptor"
      ]
    },
    {
      "cell_type": "code",
      "metadata": {
        "id": "FflGHNqkW0cU"
      },
      "source": [
        "d = {'Dataset': [f'{Dataset}']*(num_detectors), 'Time':  [time_all[3]] + [time_all[0]] + [time_all[5]] + [time_all[2]] + [time_all[1]]+ [time_all[4]] , 'Detector/Descriptor': ['BRISK']*(1) + ['DAISY+SIFT']*(1) +  ['GFTT+SIFT']*(1) + ['MSER+SIFT']*(1) +['SIFT']*(1) + ['SURF']*(1)} \n",
        "df_time_6 = pd.DataFrame(data=d)"
      ],
      "execution_count": 132,
      "outputs": []
    },
    {
      "cell_type": "code",
      "metadata": {
        "colab": {
          "base_uri": "https://localhost:8080/",
          "height": 759
        },
        "id": "tnNGmdR5W2Th",
        "outputId": "942791b5-c93e-4f32-e93d-9a55cc68aac1"
      },
      "source": [
        "import seaborn as sns\n",
        "sns.set_theme(style='whitegrid')\n",
        "\n",
        "\n",
        "# Draw a nested barplot by species and sex\n",
        "g = sns.catplot(\n",
        "    data=df_time_6, kind=\"bar\",\n",
        "    x=\"Dataset\", y=\"Time\", hue=\"Detector/Descriptor\",\n",
        "    ci=\"sd\", palette=\"Spectral\", alpha=.9, height=10, aspect=0.5\n",
        ")\n",
        "g.despine(left=True)\n",
        "g.set_axis_labels(\"Dataset\", \"Time (in sec)\")\n",
        "g.legend.set_title(\"Detector/Descriptor\")\n",
        "g.fig.suptitle(\"Time taken during Feature Extraction by each Detector/Descriptor in Different Aerial Datasets (Lower the Better)\")"
      ],
      "execution_count": 133,
      "outputs": [
        {
          "output_type": "execute_result",
          "data": {
            "text/plain": [
              "Text(0.5, 0.98, 'Time taken during Feature Extraction by each Detector/Descriptor in Different Aerial Datasets (Lower the Better)')"
            ]
          },
          "metadata": {
            "tags": []
          },
          "execution_count": 133
        },
        {
          "output_type": "display_data",
          "data": {
            "image/png": "[encoded data removed]",
            "text/plain": [
              "<Figure size 487.55x720 with 1 Axes>"
            ]
          },
          "metadata": {
            "tags": []
          }
        }
      ]
    },
    {
      "cell_type": "code",
      "metadata": {
        "id": "nrOTpvBoW4fd"
      },
      "source": [
        "g.savefig(f'drive/MyDrive/Time_6_{Dataset}.png')"
      ],
      "execution_count": 134,
      "outputs": []
    },
    {
      "cell_type": "code",
      "metadata": {
        "id": "xdpQofBlW4Zp"
      },
      "source": [
        "df_time_6.to_csv(f'drive/MyDrive/Time_6_{Dataset}.csv')"
      ],
      "execution_count": 135,
      "outputs": []
    }
  ]
}
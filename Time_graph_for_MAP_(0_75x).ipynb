{
  "nbformat": 4,
  "nbformat_minor": 0,
  "metadata": {
    "colab": {
      "name": "Time_graph_for_MAP_(0.75x).ipynb",
      "provenance": [],
      "collapsed_sections": []
    },
    "kernelspec": {
      "name": "python3",
      "display_name": "Python 3"
    },
    "language_info": {
      "name": "python"
    }
  },
  "cells": [
    {
      "cell_type": "code",
      "metadata": {
        "id": "TawUfS8U5M_k"
      },
      "source": [
        "import pandas as pd\n",
        "import matplotlib.pyplot as plt\n",
        "import numpy as np\n"
      ],
      "execution_count": 1,
      "outputs": []
    },
    {
      "cell_type": "code",
      "metadata": {
        "id": "qNzK9BoETjTS"
      },
      "source": [
        "#d = {'Detector': ['Agast','agast','agast'], 'Number of Total Matches':[100,200,300],'Parameter':['Parameter1','Parameter2','Parameter3'],'ParameterName':['A','B','C'] }"
      ],
      "execution_count": null,
      "outputs": []
    },
    {
      "cell_type": "code",
      "metadata": {
        "id": "1Dwj0uzp5Jnx"
      },
      "source": [
        "df1=pd.read_csv('/content/Time_5_MAP_changed parameter_(0.75x).csv')"
      ],
      "execution_count": 2,
      "outputs": []
    },
    {
      "cell_type": "code",
      "metadata": {
        "id": "dEO_68muTK3S"
      },
      "source": [
        "df1['ParameterName'] = \"A\""
      ],
      "execution_count": 3,
      "outputs": []
    },
    {
      "cell_type": "code",
      "metadata": {
        "id": "ypvx7rKkJ_zd"
      },
      "source": [
        "df2=pd.read_csv('/content/Time_5_MAP_changed parameter_1.csv')"
      ],
      "execution_count": 4,
      "outputs": []
    },
    {
      "cell_type": "code",
      "metadata": {
        "id": "QVyAQGV5VdZ4"
      },
      "source": [
        "df2['ParameterName'] = \"B\""
      ],
      "execution_count": 5,
      "outputs": []
    },
    {
      "cell_type": "code",
      "metadata": {
        "colab": {
          "base_uri": "https://localhost:8080/",
          "height": 204
        },
        "id": "WBD7tvHk5hUn",
        "outputId": "a8318039-20ab-495a-e263-f694f4391054"
      },
      "source": [
        "df1"
      ],
      "execution_count": 6,
      "outputs": [
        {
          "output_type": "execute_result",
          "data": {
            "text/html": [
              "<div>\n",
              "<style scoped>\n",
              "    .dataframe tbody tr th:only-of-type {\n",
              "        vertical-align: middle;\n",
              "    }\n",
              "\n",
              "    .dataframe tbody tr th {\n",
              "        vertical-align: top;\n",
              "    }\n",
              "\n",
              "    .dataframe thead th {\n",
              "        text-align: right;\n",
              "    }\n",
              "</style>\n",
              "<table border=\"1\" class=\"dataframe\">\n",
              "  <thead>\n",
              "    <tr style=\"text-align: right;\">\n",
              "      <th></th>\n",
              "      <th>Unnamed: 0</th>\n",
              "      <th>Dataset</th>\n",
              "      <th>Time</th>\n",
              "      <th>Detector/Descriptor</th>\n",
              "      <th>ParameterName</th>\n",
              "    </tr>\n",
              "  </thead>\n",
              "  <tbody>\n",
              "    <tr>\n",
              "      <th>0</th>\n",
              "      <td>0</td>\n",
              "      <td>MAP Dataset</td>\n",
              "      <td>519.214088</td>\n",
              "      <td>AGAST+SIFT</td>\n",
              "      <td>A</td>\n",
              "    </tr>\n",
              "    <tr>\n",
              "      <th>1</th>\n",
              "      <td>1</td>\n",
              "      <td>MAP Dataset</td>\n",
              "      <td>376.625012</td>\n",
              "      <td>FAST+SIFT</td>\n",
              "      <td>A</td>\n",
              "    </tr>\n",
              "    <tr>\n",
              "      <th>2</th>\n",
              "      <td>2</td>\n",
              "      <td>MAP Dataset</td>\n",
              "      <td>656.115705</td>\n",
              "      <td>BRISK+FREAK</td>\n",
              "      <td>A</td>\n",
              "    </tr>\n",
              "    <tr>\n",
              "      <th>3</th>\n",
              "      <td>3</td>\n",
              "      <td>MAP Dataset</td>\n",
              "      <td>683.066273</td>\n",
              "      <td>SURF</td>\n",
              "      <td>A</td>\n",
              "    </tr>\n",
              "    <tr>\n",
              "      <th>4</th>\n",
              "      <td>4</td>\n",
              "      <td>MAP Dataset</td>\n",
              "      <td>735.686094</td>\n",
              "      <td>SIFT</td>\n",
              "      <td>A</td>\n",
              "    </tr>\n",
              "  </tbody>\n",
              "</table>\n",
              "</div>"
            ],
            "text/plain": [
              "   Unnamed: 0      Dataset        Time Detector/Descriptor ParameterName\n",
              "0           0  MAP Dataset  519.214088          AGAST+SIFT             A\n",
              "1           1  MAP Dataset  376.625012           FAST+SIFT             A\n",
              "2           2  MAP Dataset  656.115705         BRISK+FREAK             A\n",
              "3           3  MAP Dataset  683.066273                SURF             A\n",
              "4           4  MAP Dataset  735.686094                SIFT             A"
            ]
          },
          "metadata": {},
          "execution_count": 6
        }
      ]
    },
    {
      "cell_type": "code",
      "metadata": {
        "id": "7Riu6rdx5pCH"
      },
      "source": [
        "AGAST_SIFT=df1.loc[(df1['Detector/Descriptor'] == \"AGAST+SIFT\")]"
      ],
      "execution_count": 7,
      "outputs": []
    },
    {
      "cell_type": "code",
      "metadata": {
        "id": "Sck9YTp-14Nb"
      },
      "source": [
        "AGAST_SIFT['Parameter'] = \"AGAST: Threshold = 60; SIFT: nfeatures = 1000, contrastThreshold=0.02, edgeThreshold=4\""
      ],
      "execution_count": null,
      "outputs": []
    },
    {
      "cell_type": "code",
      "metadata": {
        "colab": {
          "base_uri": "https://localhost:8080/",
          "height": 80
        },
        "id": "_E7PsFOg53Ht",
        "outputId": "a7368d4b-55fb-484a-e83d-9dddc8baf82f"
      },
      "source": [
        "AGAST_SIFT"
      ],
      "execution_count": 9,
      "outputs": [
        {
          "output_type": "execute_result",
          "data": {
            "text/html": [
              "<div>\n",
              "<style scoped>\n",
              "    .dataframe tbody tr th:only-of-type {\n",
              "        vertical-align: middle;\n",
              "    }\n",
              "\n",
              "    .dataframe tbody tr th {\n",
              "        vertical-align: top;\n",
              "    }\n",
              "\n",
              "    .dataframe thead th {\n",
              "        text-align: right;\n",
              "    }\n",
              "</style>\n",
              "<table border=\"1\" class=\"dataframe\">\n",
              "  <thead>\n",
              "    <tr style=\"text-align: right;\">\n",
              "      <th></th>\n",
              "      <th>Unnamed: 0</th>\n",
              "      <th>Dataset</th>\n",
              "      <th>Time</th>\n",
              "      <th>Detector/Descriptor</th>\n",
              "      <th>ParameterName</th>\n",
              "      <th>Parameter</th>\n",
              "    </tr>\n",
              "  </thead>\n",
              "  <tbody>\n",
              "    <tr>\n",
              "      <th>0</th>\n",
              "      <td>0</td>\n",
              "      <td>MAP Dataset</td>\n",
              "      <td>519.214088</td>\n",
              "      <td>AGAST+SIFT</td>\n",
              "      <td>A</td>\n",
              "      <td>AGAST: Threshold = 60; SIFT: nfeatures = 1000,...</td>\n",
              "    </tr>\n",
              "  </tbody>\n",
              "</table>\n",
              "</div>"
            ],
            "text/plain": [
              "   Unnamed: 0  ...                                          Parameter\n",
              "0           0  ...  AGAST: Threshold = 60; SIFT: nfeatures = 1000,...\n",
              "\n",
              "[1 rows x 6 columns]"
            ]
          },
          "metadata": {},
          "execution_count": 9
        }
      ]
    },
    {
      "cell_type": "code",
      "metadata": {
        "colab": {
          "base_uri": "https://localhost:8080/",
          "height": 204
        },
        "id": "1hLjHt1zKhs9",
        "outputId": "163e88e6-3771-460f-d72a-3f9e520f5ace"
      },
      "source": [
        "df2"
      ],
      "execution_count": 10,
      "outputs": [
        {
          "output_type": "execute_result",
          "data": {
            "text/html": [
              "<div>\n",
              "<style scoped>\n",
              "    .dataframe tbody tr th:only-of-type {\n",
              "        vertical-align: middle;\n",
              "    }\n",
              "\n",
              "    .dataframe tbody tr th {\n",
              "        vertical-align: top;\n",
              "    }\n",
              "\n",
              "    .dataframe thead th {\n",
              "        text-align: right;\n",
              "    }\n",
              "</style>\n",
              "<table border=\"1\" class=\"dataframe\">\n",
              "  <thead>\n",
              "    <tr style=\"text-align: right;\">\n",
              "      <th></th>\n",
              "      <th>Unnamed: 0</th>\n",
              "      <th>Dataset</th>\n",
              "      <th>Time</th>\n",
              "      <th>Detector/Descriptor</th>\n",
              "      <th>ParameterName</th>\n",
              "    </tr>\n",
              "  </thead>\n",
              "  <tbody>\n",
              "    <tr>\n",
              "      <th>0</th>\n",
              "      <td>0</td>\n",
              "      <td>MAP Dataset</td>\n",
              "      <td>453.388348</td>\n",
              "      <td>AGAST+SIFT</td>\n",
              "      <td>B</td>\n",
              "    </tr>\n",
              "    <tr>\n",
              "      <th>1</th>\n",
              "      <td>1</td>\n",
              "      <td>MAP Dataset</td>\n",
              "      <td>125.481921</td>\n",
              "      <td>FAST+SIFT</td>\n",
              "      <td>B</td>\n",
              "    </tr>\n",
              "    <tr>\n",
              "      <th>2</th>\n",
              "      <td>2</td>\n",
              "      <td>MAP Dataset</td>\n",
              "      <td>225.678461</td>\n",
              "      <td>BRISK+FREAK</td>\n",
              "      <td>B</td>\n",
              "    </tr>\n",
              "    <tr>\n",
              "      <th>3</th>\n",
              "      <td>3</td>\n",
              "      <td>MAP Dataset</td>\n",
              "      <td>238.090608</td>\n",
              "      <td>SURF</td>\n",
              "      <td>B</td>\n",
              "    </tr>\n",
              "    <tr>\n",
              "      <th>4</th>\n",
              "      <td>4</td>\n",
              "      <td>MAP Dataset</td>\n",
              "      <td>736.546316</td>\n",
              "      <td>SIFT</td>\n",
              "      <td>B</td>\n",
              "    </tr>\n",
              "  </tbody>\n",
              "</table>\n",
              "</div>"
            ],
            "text/plain": [
              "   Unnamed: 0      Dataset        Time Detector/Descriptor ParameterName\n",
              "0           0  MAP Dataset  453.388348          AGAST+SIFT             B\n",
              "1           1  MAP Dataset  125.481921           FAST+SIFT             B\n",
              "2           2  MAP Dataset  225.678461         BRISK+FREAK             B\n",
              "3           3  MAP Dataset  238.090608                SURF             B\n",
              "4           4  MAP Dataset  736.546316                SIFT             B"
            ]
          },
          "metadata": {},
          "execution_count": 10
        }
      ]
    },
    {
      "cell_type": "code",
      "metadata": {
        "id": "OeY3kMRoKhj8"
      },
      "source": [
        "AGAST_SIFT1=df2.loc[(df2['Detector/Descriptor'] == \"AGAST+SIFT\")]"
      ],
      "execution_count": 11,
      "outputs": []
    },
    {
      "cell_type": "code",
      "metadata": {
        "id": "4OipKSbK2alg"
      },
      "source": [
        "AGAST_SIFT1['Parameter'] = \"Agast: Threshold= 80; SIFT: nfeatures = 1000, contrastThreshold=0.02, edgeThreshold=4\""
      ],
      "execution_count": null,
      "outputs": []
    },
    {
      "cell_type": "code",
      "metadata": {
        "colab": {
          "base_uri": "https://localhost:8080/",
          "height": 80
        },
        "id": "YJ9tYPPKKhU8",
        "outputId": "934bcc52-cedd-4633-e68a-86f81c8179f4"
      },
      "source": [
        "AGAST_SIFT1"
      ],
      "execution_count": 13,
      "outputs": [
        {
          "output_type": "execute_result",
          "data": {
            "text/html": [
              "<div>\n",
              "<style scoped>\n",
              "    .dataframe tbody tr th:only-of-type {\n",
              "        vertical-align: middle;\n",
              "    }\n",
              "\n",
              "    .dataframe tbody tr th {\n",
              "        vertical-align: top;\n",
              "    }\n",
              "\n",
              "    .dataframe thead th {\n",
              "        text-align: right;\n",
              "    }\n",
              "</style>\n",
              "<table border=\"1\" class=\"dataframe\">\n",
              "  <thead>\n",
              "    <tr style=\"text-align: right;\">\n",
              "      <th></th>\n",
              "      <th>Unnamed: 0</th>\n",
              "      <th>Dataset</th>\n",
              "      <th>Time</th>\n",
              "      <th>Detector/Descriptor</th>\n",
              "      <th>ParameterName</th>\n",
              "      <th>Parameter</th>\n",
              "    </tr>\n",
              "  </thead>\n",
              "  <tbody>\n",
              "    <tr>\n",
              "      <th>0</th>\n",
              "      <td>0</td>\n",
              "      <td>MAP Dataset</td>\n",
              "      <td>453.388348</td>\n",
              "      <td>AGAST+SIFT</td>\n",
              "      <td>B</td>\n",
              "      <td>Agast: Threshold= 80; SIFT: nfeatures = 1000, ...</td>\n",
              "    </tr>\n",
              "  </tbody>\n",
              "</table>\n",
              "</div>"
            ],
            "text/plain": [
              "   Unnamed: 0  ...                                          Parameter\n",
              "0           0  ...  Agast: Threshold= 80; SIFT: nfeatures = 1000, ...\n",
              "\n",
              "[1 rows x 6 columns]"
            ]
          },
          "metadata": {},
          "execution_count": 13
        }
      ]
    },
    {
      "cell_type": "code",
      "metadata": {
        "id": "E12FC_MXLD2Q"
      },
      "source": [
        "df=pd.concat([AGAST_SIFT, AGAST_SIFT1])"
      ],
      "execution_count": 14,
      "outputs": []
    },
    {
      "cell_type": "code",
      "metadata": {
        "colab": {
          "base_uri": "https://localhost:8080/",
          "height": 111
        },
        "id": "QEfaGfQXMYDt",
        "outputId": "5d3a3c59-b753-4bbf-9973-03c1f290b9ef"
      },
      "source": [
        "df"
      ],
      "execution_count": 15,
      "outputs": [
        {
          "output_type": "execute_result",
          "data": {
            "text/html": [
              "<div>\n",
              "<style scoped>\n",
              "    .dataframe tbody tr th:only-of-type {\n",
              "        vertical-align: middle;\n",
              "    }\n",
              "\n",
              "    .dataframe tbody tr th {\n",
              "        vertical-align: top;\n",
              "    }\n",
              "\n",
              "    .dataframe thead th {\n",
              "        text-align: right;\n",
              "    }\n",
              "</style>\n",
              "<table border=\"1\" class=\"dataframe\">\n",
              "  <thead>\n",
              "    <tr style=\"text-align: right;\">\n",
              "      <th></th>\n",
              "      <th>Unnamed: 0</th>\n",
              "      <th>Dataset</th>\n",
              "      <th>Time</th>\n",
              "      <th>Detector/Descriptor</th>\n",
              "      <th>ParameterName</th>\n",
              "      <th>Parameter</th>\n",
              "    </tr>\n",
              "  </thead>\n",
              "  <tbody>\n",
              "    <tr>\n",
              "      <th>0</th>\n",
              "      <td>0</td>\n",
              "      <td>MAP Dataset</td>\n",
              "      <td>519.214088</td>\n",
              "      <td>AGAST+SIFT</td>\n",
              "      <td>A</td>\n",
              "      <td>AGAST: Threshold = 60; SIFT: nfeatures = 1000,...</td>\n",
              "    </tr>\n",
              "    <tr>\n",
              "      <th>0</th>\n",
              "      <td>0</td>\n",
              "      <td>MAP Dataset</td>\n",
              "      <td>453.388348</td>\n",
              "      <td>AGAST+SIFT</td>\n",
              "      <td>B</td>\n",
              "      <td>Agast: Threshold= 80; SIFT: nfeatures = 1000, ...</td>\n",
              "    </tr>\n",
              "  </tbody>\n",
              "</table>\n",
              "</div>"
            ],
            "text/plain": [
              "   Unnamed: 0  ...                                          Parameter\n",
              "0           0  ...  AGAST: Threshold = 60; SIFT: nfeatures = 1000,...\n",
              "0           0  ...  Agast: Threshold= 80; SIFT: nfeatures = 1000, ...\n",
              "\n",
              "[2 rows x 6 columns]"
            ]
          },
          "metadata": {},
          "execution_count": 15
        }
      ]
    },
    {
      "cell_type": "code",
      "metadata": {
        "id": "4yyb9x0EcQ64",
        "colab": {
          "base_uri": "https://localhost:8080/",
          "height": 616
        },
        "outputId": "2ab4129d-36da-4b63-e1c0-c4d8f74e80a3"
      },
      "source": [
        " import seaborn as sns\n",
        "sns.set_theme(style='whitegrid')\n",
        "\n",
        "\n",
        "g = sns.catplot(\n",
        "    data=df, kind=\"bar\",\n",
        "    x=\"ParameterName\", y=\"Time\", hue=\"Parameter\" ,\n",
        "    ci=\"sd\", palette=\"Spectral\", alpha=.9, height=8, aspect=0.9\n",
        ")\n",
        "g.despine(left=True)\n",
        "g.set_axis_labels(\"Parameter Combinations \", \"Time Taken for Consecutive/Overlapping Images\")\n",
        "g.legend.set_title(\"Parameter Combinations\")\n",
        "g.fig.suptitle(\"Time Taken for AGAST+SIFT for different parameter combinations\")"
      ],
      "execution_count": 16,
      "outputs": [
        {
          "output_type": "execute_result",
          "data": {
            "text/plain": [
              "Text(0.5, 0.98, 'Time Taken for AGAST+SIFT for different parameter combinations')"
            ]
          },
          "metadata": {},
          "execution_count": 16
        },
        {
          "output_type": "display_data",
          "data": {
            "image/png": "[encoded data removed]",
            "text/plain": [
              "<Figure size 1065.38x576 with 1 Axes>"
            ]
          },
          "metadata": {}
        }
      ]
    },
    {
      "cell_type": "code",
      "metadata": {
        "id": "w8oosWzjbFpS"
      },
      "source": [
        ""
      ],
      "execution_count": null,
      "outputs": []
    },
    {
      "cell_type": "code",
      "metadata": {
        "id": "ZUxOZDuT6xEi"
      },
      "source": [
        "SURF=df1.loc[(df1['Detector/Descriptor'] == \"SURF\")]"
      ],
      "execution_count": 17,
      "outputs": []
    },
    {
      "cell_type": "code",
      "metadata": {
        "id": "DpX83OaM2-Vs"
      },
      "source": [
        "SURF['Parameter'] = \"SURF: nOctaves = 3, hessianThreshold = 60 ,upright=1\" "
      ],
      "execution_count": null,
      "outputs": []
    },
    {
      "cell_type": "code",
      "metadata": {
        "colab": {
          "base_uri": "https://localhost:8080/",
          "height": 80
        },
        "id": "OEZm8qkO67V6",
        "outputId": "0f747051-75f4-44f5-f5a2-d6e22edcc05e"
      },
      "source": [
        "SURF"
      ],
      "execution_count": 19,
      "outputs": [
        {
          "output_type": "execute_result",
          "data": {
            "text/html": [
              "<div>\n",
              "<style scoped>\n",
              "    .dataframe tbody tr th:only-of-type {\n",
              "        vertical-align: middle;\n",
              "    }\n",
              "\n",
              "    .dataframe tbody tr th {\n",
              "        vertical-align: top;\n",
              "    }\n",
              "\n",
              "    .dataframe thead th {\n",
              "        text-align: right;\n",
              "    }\n",
              "</style>\n",
              "<table border=\"1\" class=\"dataframe\">\n",
              "  <thead>\n",
              "    <tr style=\"text-align: right;\">\n",
              "      <th></th>\n",
              "      <th>Unnamed: 0</th>\n",
              "      <th>Dataset</th>\n",
              "      <th>Time</th>\n",
              "      <th>Detector/Descriptor</th>\n",
              "      <th>ParameterName</th>\n",
              "      <th>Parameter</th>\n",
              "    </tr>\n",
              "  </thead>\n",
              "  <tbody>\n",
              "    <tr>\n",
              "      <th>3</th>\n",
              "      <td>3</td>\n",
              "      <td>MAP Dataset</td>\n",
              "      <td>683.066273</td>\n",
              "      <td>SURF</td>\n",
              "      <td>A</td>\n",
              "      <td>SURF: nOctaves = 3, hessianThreshold = 60 ,upr...</td>\n",
              "    </tr>\n",
              "  </tbody>\n",
              "</table>\n",
              "</div>"
            ],
            "text/plain": [
              "   Unnamed: 0  ...                                          Parameter\n",
              "3           3  ...  SURF: nOctaves = 3, hessianThreshold = 60 ,upr...\n",
              "\n",
              "[1 rows x 6 columns]"
            ]
          },
          "metadata": {},
          "execution_count": 19
        }
      ]
    },
    {
      "cell_type": "code",
      "metadata": {
        "id": "p-xXzZlqbOaD"
      },
      "source": [
        "SURF1=df2.loc[(df2['Detector/Descriptor'] == \"SURF\")]"
      ],
      "execution_count": 20,
      "outputs": []
    },
    {
      "cell_type": "code",
      "metadata": {
        "id": "MhzpuPvv3hx9"
      },
      "source": [
        "SURF1['Parameter'] = \"SURF: nOctaves = 3, hessianThreshold = 60 ,upright=1\" "
      ],
      "execution_count": null,
      "outputs": []
    },
    {
      "cell_type": "code",
      "metadata": {
        "colab": {
          "base_uri": "https://localhost:8080/",
          "height": 80
        },
        "id": "5iQJdApcbOWk",
        "outputId": "639c412c-d240-420f-afbe-ebe0ddb46dfa"
      },
      "source": [
        "SURF1"
      ],
      "execution_count": 22,
      "outputs": [
        {
          "output_type": "execute_result",
          "data": {
            "text/html": [
              "<div>\n",
              "<style scoped>\n",
              "    .dataframe tbody tr th:only-of-type {\n",
              "        vertical-align: middle;\n",
              "    }\n",
              "\n",
              "    .dataframe tbody tr th {\n",
              "        vertical-align: top;\n",
              "    }\n",
              "\n",
              "    .dataframe thead th {\n",
              "        text-align: right;\n",
              "    }\n",
              "</style>\n",
              "<table border=\"1\" class=\"dataframe\">\n",
              "  <thead>\n",
              "    <tr style=\"text-align: right;\">\n",
              "      <th></th>\n",
              "      <th>Unnamed: 0</th>\n",
              "      <th>Dataset</th>\n",
              "      <th>Time</th>\n",
              "      <th>Detector/Descriptor</th>\n",
              "      <th>ParameterName</th>\n",
              "      <th>Parameter</th>\n",
              "    </tr>\n",
              "  </thead>\n",
              "  <tbody>\n",
              "    <tr>\n",
              "      <th>3</th>\n",
              "      <td>3</td>\n",
              "      <td>MAP Dataset</td>\n",
              "      <td>238.090608</td>\n",
              "      <td>SURF</td>\n",
              "      <td>B</td>\n",
              "      <td>SURF: nOctaves = 3, hessianThreshold = 60 ,upr...</td>\n",
              "    </tr>\n",
              "  </tbody>\n",
              "</table>\n",
              "</div>"
            ],
            "text/plain": [
              "   Unnamed: 0  ...                                          Parameter\n",
              "3           3  ...  SURF: nOctaves = 3, hessianThreshold = 60 ,upr...\n",
              "\n",
              "[1 rows x 6 columns]"
            ]
          },
          "metadata": {},
          "execution_count": 22
        }
      ]
    },
    {
      "cell_type": "code",
      "metadata": {
        "id": "kW6BCIgJbq0T"
      },
      "source": [
        "ALL_SURF=pd.concat([SURF, SURF1])"
      ],
      "execution_count": 23,
      "outputs": []
    },
    {
      "cell_type": "code",
      "metadata": {
        "colab": {
          "base_uri": "https://localhost:8080/",
          "height": 111
        },
        "id": "YJa5Y0Vhb-YK",
        "outputId": "894e6b08-9b51-425c-d212-b007b629d71c"
      },
      "source": [
        "ALL_SURF"
      ],
      "execution_count": 24,
      "outputs": [
        {
          "output_type": "execute_result",
          "data": {
            "text/html": [
              "<div>\n",
              "<style scoped>\n",
              "    .dataframe tbody tr th:only-of-type {\n",
              "        vertical-align: middle;\n",
              "    }\n",
              "\n",
              "    .dataframe tbody tr th {\n",
              "        vertical-align: top;\n",
              "    }\n",
              "\n",
              "    .dataframe thead th {\n",
              "        text-align: right;\n",
              "    }\n",
              "</style>\n",
              "<table border=\"1\" class=\"dataframe\">\n",
              "  <thead>\n",
              "    <tr style=\"text-align: right;\">\n",
              "      <th></th>\n",
              "      <th>Unnamed: 0</th>\n",
              "      <th>Dataset</th>\n",
              "      <th>Time</th>\n",
              "      <th>Detector/Descriptor</th>\n",
              "      <th>ParameterName</th>\n",
              "      <th>Parameter</th>\n",
              "    </tr>\n",
              "  </thead>\n",
              "  <tbody>\n",
              "    <tr>\n",
              "      <th>3</th>\n",
              "      <td>3</td>\n",
              "      <td>MAP Dataset</td>\n",
              "      <td>683.066273</td>\n",
              "      <td>SURF</td>\n",
              "      <td>A</td>\n",
              "      <td>SURF: nOctaves = 3, hessianThreshold = 60 ,upr...</td>\n",
              "    </tr>\n",
              "    <tr>\n",
              "      <th>3</th>\n",
              "      <td>3</td>\n",
              "      <td>MAP Dataset</td>\n",
              "      <td>238.090608</td>\n",
              "      <td>SURF</td>\n",
              "      <td>B</td>\n",
              "      <td>SURF: nOctaves = 3, hessianThreshold = 60 ,upr...</td>\n",
              "    </tr>\n",
              "  </tbody>\n",
              "</table>\n",
              "</div>"
            ],
            "text/plain": [
              "   Unnamed: 0  ...                                          Parameter\n",
              "3           3  ...  SURF: nOctaves = 3, hessianThreshold = 60 ,upr...\n",
              "3           3  ...  SURF: nOctaves = 3, hessianThreshold = 60 ,upr...\n",
              "\n",
              "[2 rows x 6 columns]"
            ]
          },
          "metadata": {},
          "execution_count": 24
        }
      ]
    },
    {
      "cell_type": "code",
      "metadata": {
        "colab": {
          "base_uri": "https://localhost:8080/",
          "height": 616
        },
        "id": "MMP4LU3hcUoV",
        "outputId": "211e3a93-0f3e-4275-8c71-75939dd06d2b"
      },
      "source": [
        " import seaborn as sns\n",
        "sns.set_theme(style='whitegrid')\n",
        "\n",
        "\n",
        "g = sns.catplot(\n",
        "    data=ALL_SURF, kind=\"bar\",\n",
        "    x=\"ParameterName\", y=\"Time\", hue=\"Parameter\" ,\n",
        "    ci=\"sd\", palette=\"Spectral\", alpha=.9, height=8, aspect=0.9\n",
        ")\n",
        "g.despine(left=True)\n",
        "g.set_axis_labels(\"Parameter Combinations \", \"Time Taken for Consecutive/Overlapping Images\")\n",
        "g.legend.set_title(\"Parameter Combinations\")\n",
        "g.fig.suptitle(\"Time Taken for SURF for different parameter combinations\")"
      ],
      "execution_count": 25,
      "outputs": [
        {
          "output_type": "execute_result",
          "data": {
            "text/plain": [
              "Text(0.5, 0.98, 'Time Taken for SURF for different parameter combinations')"
            ]
          },
          "metadata": {},
          "execution_count": 25
        },
        {
          "output_type": "display_data",
          "data": {
            "image/png": "[encoded data removed]",
            "text/plain": [
              "<Figure size 866x576 with 1 Axes>"
            ]
          },
          "metadata": {}
        }
      ]
    },
    {
      "cell_type": "code",
      "metadata": {
        "id": "Bg6qd7-WAiOp"
      },
      "source": [
        "FREAK=df1.loc[(df1['Detector/Descriptor'] == \"BRISK+FREAK\")]"
      ],
      "execution_count": 26,
      "outputs": []
    },
    {
      "cell_type": "code",
      "metadata": {
        "id": "h9eOQJ9HAiKo"
      },
      "source": [
        "FREAK['Parameter'] = \"BRISK: Threshold=60, Octaves=6\" "
      ],
      "execution_count": null,
      "outputs": []
    },
    {
      "cell_type": "code",
      "metadata": {
        "colab": {
          "base_uri": "https://localhost:8080/",
          "height": 80
        },
        "id": "fNCXC0pnAiIL",
        "outputId": "11878262-6f7f-4b94-ce27-6bb0159da0f7"
      },
      "source": [
        "FREAK"
      ],
      "execution_count": 28,
      "outputs": [
        {
          "output_type": "execute_result",
          "data": {
            "text/html": [
              "<div>\n",
              "<style scoped>\n",
              "    .dataframe tbody tr th:only-of-type {\n",
              "        vertical-align: middle;\n",
              "    }\n",
              "\n",
              "    .dataframe tbody tr th {\n",
              "        vertical-align: top;\n",
              "    }\n",
              "\n",
              "    .dataframe thead th {\n",
              "        text-align: right;\n",
              "    }\n",
              "</style>\n",
              "<table border=\"1\" class=\"dataframe\">\n",
              "  <thead>\n",
              "    <tr style=\"text-align: right;\">\n",
              "      <th></th>\n",
              "      <th>Unnamed: 0</th>\n",
              "      <th>Dataset</th>\n",
              "      <th>Time</th>\n",
              "      <th>Detector/Descriptor</th>\n",
              "      <th>ParameterName</th>\n",
              "      <th>Parameter</th>\n",
              "    </tr>\n",
              "  </thead>\n",
              "  <tbody>\n",
              "    <tr>\n",
              "      <th>2</th>\n",
              "      <td>2</td>\n",
              "      <td>MAP Dataset</td>\n",
              "      <td>656.115705</td>\n",
              "      <td>BRISK+FREAK</td>\n",
              "      <td>A</td>\n",
              "      <td>BRISK: Threshold=60, Octaves=6</td>\n",
              "    </tr>\n",
              "  </tbody>\n",
              "</table>\n",
              "</div>"
            ],
            "text/plain": [
              "   Unnamed: 0      Dataset  ...  ParameterName                       Parameter\n",
              "2           2  MAP Dataset  ...              A  BRISK: Threshold=60, Octaves=6\n",
              "\n",
              "[1 rows x 6 columns]"
            ]
          },
          "metadata": {},
          "execution_count": 28
        }
      ]
    },
    {
      "cell_type": "code",
      "metadata": {
        "id": "2LBmgf-vAiGR"
      },
      "source": [
        "FREAK1=df2.loc[(df2['Detector/Descriptor'] == \"BRISK+FREAK\")]"
      ],
      "execution_count": 29,
      "outputs": []
    },
    {
      "cell_type": "code",
      "metadata": {
        "id": "SzeE7FqsAiEp"
      },
      "source": [
        "FREAK1['Parameter'] = \"BRISK: Threshl=80, Octaves=6\" "
      ],
      "execution_count": null,
      "outputs": []
    },
    {
      "cell_type": "code",
      "metadata": {
        "colab": {
          "base_uri": "https://localhost:8080/",
          "height": 80
        },
        "id": "JmHGLXgVAiAL",
        "outputId": "a092010c-8e77-48db-9781-73e54941f138"
      },
      "source": [
        "FREAK1"
      ],
      "execution_count": 31,
      "outputs": [
        {
          "output_type": "execute_result",
          "data": {
            "text/html": [
              "<div>\n",
              "<style scoped>\n",
              "    .dataframe tbody tr th:only-of-type {\n",
              "        vertical-align: middle;\n",
              "    }\n",
              "\n",
              "    .dataframe tbody tr th {\n",
              "        vertical-align: top;\n",
              "    }\n",
              "\n",
              "    .dataframe thead th {\n",
              "        text-align: right;\n",
              "    }\n",
              "</style>\n",
              "<table border=\"1\" class=\"dataframe\">\n",
              "  <thead>\n",
              "    <tr style=\"text-align: right;\">\n",
              "      <th></th>\n",
              "      <th>Unnamed: 0</th>\n",
              "      <th>Dataset</th>\n",
              "      <th>Time</th>\n",
              "      <th>Detector/Descriptor</th>\n",
              "      <th>ParameterName</th>\n",
              "      <th>Parameter</th>\n",
              "    </tr>\n",
              "  </thead>\n",
              "  <tbody>\n",
              "    <tr>\n",
              "      <th>2</th>\n",
              "      <td>2</td>\n",
              "      <td>MAP Dataset</td>\n",
              "      <td>225.678461</td>\n",
              "      <td>BRISK+FREAK</td>\n",
              "      <td>B</td>\n",
              "      <td>BRISK: Threshl=80, Octaves=6</td>\n",
              "    </tr>\n",
              "  </tbody>\n",
              "</table>\n",
              "</div>"
            ],
            "text/plain": [
              "   Unnamed: 0      Dataset  ...  ParameterName                     Parameter\n",
              "2           2  MAP Dataset  ...              B  BRISK: Threshl=80, Octaves=6\n",
              "\n",
              "[1 rows x 6 columns]"
            ]
          },
          "metadata": {},
          "execution_count": 31
        }
      ]
    },
    {
      "cell_type": "code",
      "metadata": {
        "id": "8pruAnf4Ah3H"
      },
      "source": [
        "ALL_FREAK=pd.concat([FREAK, FREAK1])"
      ],
      "execution_count": 33,
      "outputs": []
    },
    {
      "cell_type": "code",
      "metadata": {
        "colab": {
          "base_uri": "https://localhost:8080/",
          "height": 111
        },
        "id": "efHmpzBwAh0b",
        "outputId": "7122b15b-7e22-4623-f34b-82d981a794b4"
      },
      "source": [
        "ALL_FREAK"
      ],
      "execution_count": 34,
      "outputs": [
        {
          "output_type": "execute_result",
          "data": {
            "text/html": [
              "<div>\n",
              "<style scoped>\n",
              "    .dataframe tbody tr th:only-of-type {\n",
              "        vertical-align: middle;\n",
              "    }\n",
              "\n",
              "    .dataframe tbody tr th {\n",
              "        vertical-align: top;\n",
              "    }\n",
              "\n",
              "    .dataframe thead th {\n",
              "        text-align: right;\n",
              "    }\n",
              "</style>\n",
              "<table border=\"1\" class=\"dataframe\">\n",
              "  <thead>\n",
              "    <tr style=\"text-align: right;\">\n",
              "      <th></th>\n",
              "      <th>Unnamed: 0</th>\n",
              "      <th>Dataset</th>\n",
              "      <th>Time</th>\n",
              "      <th>Detector/Descriptor</th>\n",
              "      <th>ParameterName</th>\n",
              "      <th>Parameter</th>\n",
              "    </tr>\n",
              "  </thead>\n",
              "  <tbody>\n",
              "    <tr>\n",
              "      <th>2</th>\n",
              "      <td>2</td>\n",
              "      <td>MAP Dataset</td>\n",
              "      <td>656.115705</td>\n",
              "      <td>BRISK+FREAK</td>\n",
              "      <td>A</td>\n",
              "      <td>BRISK: Threshold=60, Octaves=6</td>\n",
              "    </tr>\n",
              "    <tr>\n",
              "      <th>2</th>\n",
              "      <td>2</td>\n",
              "      <td>MAP Dataset</td>\n",
              "      <td>225.678461</td>\n",
              "      <td>BRISK+FREAK</td>\n",
              "      <td>B</td>\n",
              "      <td>BRISK: Threshl=80, Octaves=6</td>\n",
              "    </tr>\n",
              "  </tbody>\n",
              "</table>\n",
              "</div>"
            ],
            "text/plain": [
              "   Unnamed: 0      Dataset  ...  ParameterName                       Parameter\n",
              "2           2  MAP Dataset  ...              A  BRISK: Threshold=60, Octaves=6\n",
              "2           2  MAP Dataset  ...              B    BRISK: Threshl=80, Octaves=6\n",
              "\n",
              "[2 rows x 6 columns]"
            ]
          },
          "metadata": {},
          "execution_count": 34
        }
      ]
    },
    {
      "cell_type": "code",
      "metadata": {
        "colab": {
          "base_uri": "https://localhost:8080/",
          "height": 616
        },
        "id": "bfrrNoqpAhwg",
        "outputId": "297c31d9-2abe-4df7-8f25-66c788cf4270"
      },
      "source": [
        " import seaborn as sns\n",
        "sns.set_theme(style='whitegrid')\n",
        "\n",
        "\n",
        "g = sns.catplot(\n",
        "    data=ALL_FREAK, kind=\"bar\",\n",
        "    x=\"ParameterName\", y=\"Time\", hue=\"Parameter\" ,\n",
        "    ci=\"sd\", palette=\"Spectral\", alpha=.9, height=8, aspect=0.9\n",
        ")\n",
        "g.despine(left=True)\n",
        "g.set_axis_labels(\"Parameter Combinations \", \"Time Taken for Consecutive/Overlapping Images\")\n",
        "g.legend.set_title(\"Parameter Combinations\")\n",
        "g.fig.suptitle(\"Time Taken for BRISK+FREAK for different parameter combinations\")"
      ],
      "execution_count": 35,
      "outputs": [
        {
          "output_type": "execute_result",
          "data": {
            "text/plain": [
              "Text(0.5, 0.98, 'Time Taken for BRISK+FREAK for different parameter combinations')"
            ]
          },
          "metadata": {},
          "execution_count": 35
        },
        {
          "output_type": "display_data",
          "data": {
            "image/png": "[encoded data removed]",
            "text/plain": [
              "<Figure size 743.875x576 with 1 Axes>"
            ]
          },
          "metadata": {}
        }
      ]
    },
    {
      "cell_type": "code",
      "metadata": {
        "id": "2SmA3eMzAhtK"
      },
      "source": [
        "SIFT=df1.loc[(df1['Detector/Descriptor'] == \"SIFT\")]"
      ],
      "execution_count": 36,
      "outputs": []
    },
    {
      "cell_type": "code",
      "metadata": {
        "id": "lY5UYb_UAhoh"
      },
      "source": [
        "SIFT['Parameter'] = \"nfeatures = 2000, contrastThreshold=0.02, edgeThreshold=6\" "
      ],
      "execution_count": null,
      "outputs": []
    },
    {
      "cell_type": "code",
      "metadata": {
        "colab": {
          "base_uri": "https://localhost:8080/",
          "height": 80
        },
        "id": "eHphJj-tAhkF",
        "outputId": "9e50106a-041f-40de-a303-686bdf21d009"
      },
      "source": [
        "SIFT"
      ],
      "execution_count": 38,
      "outputs": [
        {
          "output_type": "execute_result",
          "data": {
            "text/html": [
              "<div>\n",
              "<style scoped>\n",
              "    .dataframe tbody tr th:only-of-type {\n",
              "        vertical-align: middle;\n",
              "    }\n",
              "\n",
              "    .dataframe tbody tr th {\n",
              "        vertical-align: top;\n",
              "    }\n",
              "\n",
              "    .dataframe thead th {\n",
              "        text-align: right;\n",
              "    }\n",
              "</style>\n",
              "<table border=\"1\" class=\"dataframe\">\n",
              "  <thead>\n",
              "    <tr style=\"text-align: right;\">\n",
              "      <th></th>\n",
              "      <th>Unnamed: 0</th>\n",
              "      <th>Dataset</th>\n",
              "      <th>Time</th>\n",
              "      <th>Detector/Descriptor</th>\n",
              "      <th>ParameterName</th>\n",
              "      <th>Parameter</th>\n",
              "    </tr>\n",
              "  </thead>\n",
              "  <tbody>\n",
              "    <tr>\n",
              "      <th>4</th>\n",
              "      <td>4</td>\n",
              "      <td>MAP Dataset</td>\n",
              "      <td>735.686094</td>\n",
              "      <td>SIFT</td>\n",
              "      <td>A</td>\n",
              "      <td>nfeatures = 2000, contrastThreshold=0.02, edge...</td>\n",
              "    </tr>\n",
              "  </tbody>\n",
              "</table>\n",
              "</div>"
            ],
            "text/plain": [
              "   Unnamed: 0  ...                                          Parameter\n",
              "4           4  ...  nfeatures = 2000, contrastThreshold=0.02, edge...\n",
              "\n",
              "[1 rows x 6 columns]"
            ]
          },
          "metadata": {},
          "execution_count": 38
        }
      ]
    },
    {
      "cell_type": "code",
      "metadata": {
        "id": "uZIAboMmMUvV"
      },
      "source": [
        "SIFT1=df2.loc[(df2['Detector/Descriptor'] == \"SIFT\")]"
      ],
      "execution_count": 39,
      "outputs": []
    },
    {
      "cell_type": "code",
      "metadata": {
        "id": "50d5PkPTMzsV"
      },
      "source": [
        "SIFT1['Parameter'] = \"nfeatures = 2000, contrastThreshold=0.02, edgeThreshold=6\" "
      ],
      "execution_count": null,
      "outputs": []
    },
    {
      "cell_type": "code",
      "metadata": {
        "colab": {
          "base_uri": "https://localhost:8080/",
          "height": 80
        },
        "id": "AQm1TiHvMYR0",
        "outputId": "8ac75049-ffc9-4dbf-c6ac-67f9e73ee72a"
      },
      "source": [
        "SIFT1"
      ],
      "execution_count": 41,
      "outputs": [
        {
          "output_type": "execute_result",
          "data": {
            "text/html": [
              "<div>\n",
              "<style scoped>\n",
              "    .dataframe tbody tr th:only-of-type {\n",
              "        vertical-align: middle;\n",
              "    }\n",
              "\n",
              "    .dataframe tbody tr th {\n",
              "        vertical-align: top;\n",
              "    }\n",
              "\n",
              "    .dataframe thead th {\n",
              "        text-align: right;\n",
              "    }\n",
              "</style>\n",
              "<table border=\"1\" class=\"dataframe\">\n",
              "  <thead>\n",
              "    <tr style=\"text-align: right;\">\n",
              "      <th></th>\n",
              "      <th>Unnamed: 0</th>\n",
              "      <th>Dataset</th>\n",
              "      <th>Time</th>\n",
              "      <th>Detector/Descriptor</th>\n",
              "      <th>ParameterName</th>\n",
              "      <th>Parameter</th>\n",
              "    </tr>\n",
              "  </thead>\n",
              "  <tbody>\n",
              "    <tr>\n",
              "      <th>4</th>\n",
              "      <td>4</td>\n",
              "      <td>MAP Dataset</td>\n",
              "      <td>736.546316</td>\n",
              "      <td>SIFT</td>\n",
              "      <td>B</td>\n",
              "      <td>nfeatures = 2000, contrastThreshold=0.02, edge...</td>\n",
              "    </tr>\n",
              "  </tbody>\n",
              "</table>\n",
              "</div>"
            ],
            "text/plain": [
              "   Unnamed: 0  ...                                          Parameter\n",
              "4           4  ...  nfeatures = 2000, contrastThreshold=0.02, edge...\n",
              "\n",
              "[1 rows x 6 columns]"
            ]
          },
          "metadata": {},
          "execution_count": 41
        }
      ]
    },
    {
      "cell_type": "code",
      "metadata": {
        "id": "1qOQlO_nNiG6"
      },
      "source": [
        "ALL_SIFT=pd.concat([SIFT, SIFT1])"
      ],
      "execution_count": 42,
      "outputs": []
    },
    {
      "cell_type": "code",
      "metadata": {
        "colab": {
          "base_uri": "https://localhost:8080/",
          "height": 111
        },
        "id": "JyLuB-YHNiga",
        "outputId": "2c1ebbd3-96dc-44e1-e67d-e47ae9aa81bf"
      },
      "source": [
        "ALL_SIFT"
      ],
      "execution_count": 43,
      "outputs": [
        {
          "output_type": "execute_result",
          "data": {
            "text/html": [
              "<div>\n",
              "<style scoped>\n",
              "    .dataframe tbody tr th:only-of-type {\n",
              "        vertical-align: middle;\n",
              "    }\n",
              "\n",
              "    .dataframe tbody tr th {\n",
              "        vertical-align: top;\n",
              "    }\n",
              "\n",
              "    .dataframe thead th {\n",
              "        text-align: right;\n",
              "    }\n",
              "</style>\n",
              "<table border=\"1\" class=\"dataframe\">\n",
              "  <thead>\n",
              "    <tr style=\"text-align: right;\">\n",
              "      <th></th>\n",
              "      <th>Unnamed: 0</th>\n",
              "      <th>Dataset</th>\n",
              "      <th>Time</th>\n",
              "      <th>Detector/Descriptor</th>\n",
              "      <th>ParameterName</th>\n",
              "      <th>Parameter</th>\n",
              "    </tr>\n",
              "  </thead>\n",
              "  <tbody>\n",
              "    <tr>\n",
              "      <th>4</th>\n",
              "      <td>4</td>\n",
              "      <td>MAP Dataset</td>\n",
              "      <td>735.686094</td>\n",
              "      <td>SIFT</td>\n",
              "      <td>A</td>\n",
              "      <td>nfeatures = 2000, contrastThreshold=0.02, edge...</td>\n",
              "    </tr>\n",
              "    <tr>\n",
              "      <th>4</th>\n",
              "      <td>4</td>\n",
              "      <td>MAP Dataset</td>\n",
              "      <td>736.546316</td>\n",
              "      <td>SIFT</td>\n",
              "      <td>B</td>\n",
              "      <td>nfeatures = 2000, contrastThreshold=0.02, edge...</td>\n",
              "    </tr>\n",
              "  </tbody>\n",
              "</table>\n",
              "</div>"
            ],
            "text/plain": [
              "   Unnamed: 0  ...                                          Parameter\n",
              "4           4  ...  nfeatures = 2000, contrastThreshold=0.02, edge...\n",
              "4           4  ...  nfeatures = 2000, contrastThreshold=0.02, edge...\n",
              "\n",
              "[2 rows x 6 columns]"
            ]
          },
          "metadata": {},
          "execution_count": 43
        }
      ]
    },
    {
      "cell_type": "code",
      "metadata": {
        "colab": {
          "base_uri": "https://localhost:8080/",
          "height": 616
        },
        "id": "7_hFMMwjNmmi",
        "outputId": "dd3163cc-dbec-4976-e021-12361912d38c"
      },
      "source": [
        " import seaborn as sns\n",
        "sns.set_theme(style='whitegrid')\n",
        "\n",
        "\n",
        "g = sns.catplot(\n",
        "    data=ALL_SIFT, kind=\"bar\",\n",
        "    x=\"ParameterName\", y=\"Time\", hue=\"Parameter\" ,\n",
        "    ci=\"sd\", palette=\"Spectral\", alpha=.9, height=8, aspect=0.9\n",
        ")\n",
        "g.despine(left=True)\n",
        "g.set_axis_labels(\"Parameter Combinations \", \"Time Taken for Consecutive/Overlapping Images\")\n",
        "g.legend.set_title(\"Parameter Combinations\")\n",
        "g.fig.suptitle(\"Time Taken for SIFT for different parameter combinations\")"
      ],
      "execution_count": 44,
      "outputs": [
        {
          "output_type": "execute_result",
          "data": {
            "text/plain": [
              "Text(0.5, 0.98, 'Time Taken for SIFT for different parameter combinations')"
            ]
          },
          "metadata": {},
          "execution_count": 44
        },
        {
          "output_type": "display_data",
          "data": {
            "image/png": "[encoded data removed]",
            "text/plain": [
              "<Figure size 901.5x576 with 1 Axes>"
            ]
          },
          "metadata": {}
        }
      ]
    },
    {
      "cell_type": "code",
      "metadata": {
        "id": "qyfQwkVFOruU"
      },
      "source": [
        "FAST=df1.loc[(df1['Detector/Descriptor'] == \"FAST+SIFT\")]"
      ],
      "execution_count": 45,
      "outputs": []
    },
    {
      "cell_type": "code",
      "metadata": {
        "id": "gqTOZ-y_OrrK"
      },
      "source": [
        "FAST['Parameter'] = \"FAST: Threshold=60; SIFT: nfeatures = 1000, contrastThreshold=0.02, edgeThreshold=4\" "
      ],
      "execution_count": null,
      "outputs": []
    },
    {
      "cell_type": "code",
      "metadata": {
        "colab": {
          "base_uri": "https://localhost:8080/",
          "height": 80
        },
        "id": "qsKSBTirOrmH",
        "outputId": "7384baef-e935-43a3-bf12-96af60330545"
      },
      "source": [
        "FAST"
      ],
      "execution_count": 47,
      "outputs": [
        {
          "output_type": "execute_result",
          "data": {
            "text/html": [
              "<div>\n",
              "<style scoped>\n",
              "    .dataframe tbody tr th:only-of-type {\n",
              "        vertical-align: middle;\n",
              "    }\n",
              "\n",
              "    .dataframe tbody tr th {\n",
              "        vertical-align: top;\n",
              "    }\n",
              "\n",
              "    .dataframe thead th {\n",
              "        text-align: right;\n",
              "    }\n",
              "</style>\n",
              "<table border=\"1\" class=\"dataframe\">\n",
              "  <thead>\n",
              "    <tr style=\"text-align: right;\">\n",
              "      <th></th>\n",
              "      <th>Unnamed: 0</th>\n",
              "      <th>Dataset</th>\n",
              "      <th>Time</th>\n",
              "      <th>Detector/Descriptor</th>\n",
              "      <th>ParameterName</th>\n",
              "      <th>Parameter</th>\n",
              "    </tr>\n",
              "  </thead>\n",
              "  <tbody>\n",
              "    <tr>\n",
              "      <th>1</th>\n",
              "      <td>1</td>\n",
              "      <td>MAP Dataset</td>\n",
              "      <td>376.625012</td>\n",
              "      <td>FAST+SIFT</td>\n",
              "      <td>A</td>\n",
              "      <td>FAST: Threshold=60; SIFT: nfeatures = 1000, co...</td>\n",
              "    </tr>\n",
              "  </tbody>\n",
              "</table>\n",
              "</div>"
            ],
            "text/plain": [
              "   Unnamed: 0  ...                                          Parameter\n",
              "1           1  ...  FAST: Threshold=60; SIFT: nfeatures = 1000, co...\n",
              "\n",
              "[1 rows x 6 columns]"
            ]
          },
          "metadata": {},
          "execution_count": 47
        }
      ]
    },
    {
      "cell_type": "code",
      "metadata": {
        "id": "xxuPjHrdOrh_"
      },
      "source": [
        "FAST1=df2.loc[(df2['Detector/Descriptor'] == \"FAST+SIFT\")]"
      ],
      "execution_count": 48,
      "outputs": []
    },
    {
      "cell_type": "code",
      "metadata": {
        "id": "sdQot5G0Oq_T"
      },
      "source": [
        "FAST1['Parameter'] = \"FAST: Threshold=80; SIFT: nfeatures = 1000, contrastThreshold=0.02, edgeThreshold=4\" "
      ],
      "execution_count": null,
      "outputs": []
    },
    {
      "cell_type": "code",
      "metadata": {
        "colab": {
          "base_uri": "https://localhost:8080/",
          "height": 80
        },
        "id": "bvpCPPizOq1F",
        "outputId": "5d4bee1b-1a8e-4d2d-9b1f-ed778c9a5998"
      },
      "source": [
        "FAST1"
      ],
      "execution_count": 50,
      "outputs": [
        {
          "output_type": "execute_result",
          "data": {
            "text/html": [
              "<div>\n",
              "<style scoped>\n",
              "    .dataframe tbody tr th:only-of-type {\n",
              "        vertical-align: middle;\n",
              "    }\n",
              "\n",
              "    .dataframe tbody tr th {\n",
              "        vertical-align: top;\n",
              "    }\n",
              "\n",
              "    .dataframe thead th {\n",
              "        text-align: right;\n",
              "    }\n",
              "</style>\n",
              "<table border=\"1\" class=\"dataframe\">\n",
              "  <thead>\n",
              "    <tr style=\"text-align: right;\">\n",
              "      <th></th>\n",
              "      <th>Unnamed: 0</th>\n",
              "      <th>Dataset</th>\n",
              "      <th>Time</th>\n",
              "      <th>Detector/Descriptor</th>\n",
              "      <th>ParameterName</th>\n",
              "      <th>Parameter</th>\n",
              "    </tr>\n",
              "  </thead>\n",
              "  <tbody>\n",
              "    <tr>\n",
              "      <th>1</th>\n",
              "      <td>1</td>\n",
              "      <td>MAP Dataset</td>\n",
              "      <td>125.481921</td>\n",
              "      <td>FAST+SIFT</td>\n",
              "      <td>B</td>\n",
              "      <td>FAST: Threshold=80; SIFT: nfeatures = 1000, co...</td>\n",
              "    </tr>\n",
              "  </tbody>\n",
              "</table>\n",
              "</div>"
            ],
            "text/plain": [
              "   Unnamed: 0  ...                                          Parameter\n",
              "1           1  ...  FAST: Threshold=80; SIFT: nfeatures = 1000, co...\n",
              "\n",
              "[1 rows x 6 columns]"
            ]
          },
          "metadata": {},
          "execution_count": 50
        }
      ]
    },
    {
      "cell_type": "code",
      "metadata": {
        "id": "SmMDq0JPOS9j"
      },
      "source": [
        "ALL_FAST=pd.concat([FAST, FAST1])"
      ],
      "execution_count": 51,
      "outputs": []
    },
    {
      "cell_type": "code",
      "metadata": {
        "colab": {
          "base_uri": "https://localhost:8080/",
          "height": 111
        },
        "id": "lhwnCS-POS13",
        "outputId": "e112b9a7-8afe-4f52-f911-eab11c063c05"
      },
      "source": [
        "ALL_FAST"
      ],
      "execution_count": 52,
      "outputs": [
        {
          "output_type": "execute_result",
          "data": {
            "text/html": [
              "<div>\n",
              "<style scoped>\n",
              "    .dataframe tbody tr th:only-of-type {\n",
              "        vertical-align: middle;\n",
              "    }\n",
              "\n",
              "    .dataframe tbody tr th {\n",
              "        vertical-align: top;\n",
              "    }\n",
              "\n",
              "    .dataframe thead th {\n",
              "        text-align: right;\n",
              "    }\n",
              "</style>\n",
              "<table border=\"1\" class=\"dataframe\">\n",
              "  <thead>\n",
              "    <tr style=\"text-align: right;\">\n",
              "      <th></th>\n",
              "      <th>Unnamed: 0</th>\n",
              "      <th>Dataset</th>\n",
              "      <th>Time</th>\n",
              "      <th>Detector/Descriptor</th>\n",
              "      <th>ParameterName</th>\n",
              "      <th>Parameter</th>\n",
              "    </tr>\n",
              "  </thead>\n",
              "  <tbody>\n",
              "    <tr>\n",
              "      <th>1</th>\n",
              "      <td>1</td>\n",
              "      <td>MAP Dataset</td>\n",
              "      <td>376.625012</td>\n",
              "      <td>FAST+SIFT</td>\n",
              "      <td>A</td>\n",
              "      <td>FAST: Threshold=60; SIFT: nfeatures = 1000, co...</td>\n",
              "    </tr>\n",
              "    <tr>\n",
              "      <th>1</th>\n",
              "      <td>1</td>\n",
              "      <td>MAP Dataset</td>\n",
              "      <td>125.481921</td>\n",
              "      <td>FAST+SIFT</td>\n",
              "      <td>B</td>\n",
              "      <td>FAST: Threshold=80; SIFT: nfeatures = 1000, co...</td>\n",
              "    </tr>\n",
              "  </tbody>\n",
              "</table>\n",
              "</div>"
            ],
            "text/plain": [
              "   Unnamed: 0  ...                                          Parameter\n",
              "1           1  ...  FAST: Threshold=60; SIFT: nfeatures = 1000, co...\n",
              "1           1  ...  FAST: Threshold=80; SIFT: nfeatures = 1000, co...\n",
              "\n",
              "[2 rows x 6 columns]"
            ]
          },
          "metadata": {},
          "execution_count": 52
        }
      ]
    },
    {
      "cell_type": "code",
      "metadata": {
        "colab": {
          "base_uri": "https://localhost:8080/",
          "height": 616
        },
        "id": "IZD57JbYOSkA",
        "outputId": "8f6413b3-c75c-4183-f91d-aff44555e049"
      },
      "source": [
        " import seaborn as sns\n",
        "sns.set_theme(style='whitegrid')\n",
        "\n",
        "\n",
        "g = sns.catplot(\n",
        "    data=ALL_FAST, kind=\"bar\",\n",
        "    x=\"ParameterName\", y=\"Time\", hue=\"Parameter\" ,\n",
        "    ci=\"sd\", palette=\"Spectral\", alpha=.9, height=8, aspect=0.9\n",
        ")\n",
        "g.despine(left=True)\n",
        "g.set_axis_labels(\"Parameter Combinations \", \"Time Taken for Consecutive/Overlapping Images\")\n",
        "g.legend.set_title(\"Parameter Combinations\")\n",
        "g.fig.suptitle(\"Time Taken for FAST+SIFT for different parameter combinations\")"
      ],
      "execution_count": 53,
      "outputs": [
        {
          "output_type": "execute_result",
          "data": {
            "text/plain": [
              "Text(0.5, 0.98, 'Time Taken for FAST+SIFT for different parameter combinations')"
            ]
          },
          "metadata": {},
          "execution_count": 53
        },
        {
          "output_type": "display_data",
          "data": {
            "image/png": "[encoded data removed]",
            "text/plain": [
              "<Figure size 1048x576 with 1 Axes>"
            ]
          },
          "metadata": {}
        }
      ]
    },
    {
      "cell_type": "code",
      "metadata": {
        "id": "a3Vod4FlQAX8"
      },
      "source": [
        ""
      ],
      "execution_count": null,
      "outputs": []
    }
  ]
}
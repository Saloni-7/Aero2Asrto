{
  "nbformat": 4,
  "nbformat_minor": 0,
  "metadata": {
    "colab": {
      "name": "Time_graph_for_Small_Village_(0.75x).ipynb",
      "provenance": [],
      "collapsed_sections": []
    },
    "kernelspec": {
      "name": "python3",
      "display_name": "Python 3"
    },
    "language_info": {
      "name": "python"
    }
  },
  "cells": [
    {
      "cell_type": "code",
      "metadata": {
        "id": "TawUfS8U5M_k"
      },
      "source": [
        "import pandas as pd\n",
        "import matplotlib.pyplot as plt\n",
        "import numpy as np\n"
      ],
      "execution_count": 1,
      "outputs": []
    },
    {
      "cell_type": "code",
      "metadata": {
        "id": "qNzK9BoETjTS"
      },
      "source": [
        "#d = {'Detector': ['Agast','agast','agast'], 'Number of Total Matches':[100,200,300],'Parameter':['Parameter1','Parameter2','Parameter3'],'ParameterName':['A','B','C'] }"
      ],
      "execution_count": null,
      "outputs": []
    },
    {
      "cell_type": "code",
      "metadata": {
        "id": "1Dwj0uzp5Jnx"
      },
      "source": [
        "df1=pd.read_csv('/content/Time_5_small village_changed threshold_(0.75x)_5.csv')"
      ],
      "execution_count": 2,
      "outputs": []
    },
    {
      "cell_type": "code",
      "metadata": {
        "id": "dEO_68muTK3S"
      },
      "source": [
        "df1['ParameterName'] = \"A\""
      ],
      "execution_count": 3,
      "outputs": []
    },
    {
      "cell_type": "code",
      "metadata": {
        "id": "ypvx7rKkJ_zd"
      },
      "source": [
        "X=pd.read_csv('/content/Time_3_small village_changed parameter_(0.75x).csv')"
      ],
      "execution_count": 4,
      "outputs": []
    },
    {
      "cell_type": "code",
      "metadata": {
        "id": "ZDv-3B-U1qOT"
      },
      "source": [
        "Y=pd.read_csv('/content/Time_2_small village_fast, agast_changed parameters_(0.75x).csv')"
      ],
      "execution_count": 5,
      "outputs": []
    },
    {
      "cell_type": "code",
      "metadata": {
        "id": "zKy6OsWY10Z9"
      },
      "source": [
        "df2=pd.concat([X,Y])"
      ],
      "execution_count": 6,
      "outputs": []
    },
    {
      "cell_type": "code",
      "metadata": {
        "id": "QVyAQGV5VdZ4"
      },
      "source": [
        "df2['ParameterName'] = \"B\""
      ],
      "execution_count": 7,
      "outputs": []
    },
    {
      "cell_type": "code",
      "metadata": {
        "colab": {
          "base_uri": "https://localhost:8080/",
          "height": 204
        },
        "id": "WBD7tvHk5hUn",
        "outputId": "45dd150a-ede1-431f-dd84-3ce95d256303"
      },
      "source": [
        "df1"
      ],
      "execution_count": 8,
      "outputs": [
        {
          "output_type": "execute_result",
          "data": {
            "text/html": [
              "<div>\n",
              "<style scoped>\n",
              "    .dataframe tbody tr th:only-of-type {\n",
              "        vertical-align: middle;\n",
              "    }\n",
              "\n",
              "    .dataframe tbody tr th {\n",
              "        vertical-align: top;\n",
              "    }\n",
              "\n",
              "    .dataframe thead th {\n",
              "        text-align: right;\n",
              "    }\n",
              "</style>\n",
              "<table border=\"1\" class=\"dataframe\">\n",
              "  <thead>\n",
              "    <tr style=\"text-align: right;\">\n",
              "      <th></th>\n",
              "      <th>Unnamed: 0</th>\n",
              "      <th>Dataset</th>\n",
              "      <th>Time</th>\n",
              "      <th>Detector/Descriptor</th>\n",
              "      <th>ParameterName</th>\n",
              "    </tr>\n",
              "  </thead>\n",
              "  <tbody>\n",
              "    <tr>\n",
              "      <th>0</th>\n",
              "      <td>0</td>\n",
              "      <td>Small Village Dataset</td>\n",
              "      <td>142.883806</td>\n",
              "      <td>FAST+SIFT</td>\n",
              "      <td>A</td>\n",
              "    </tr>\n",
              "    <tr>\n",
              "      <th>1</th>\n",
              "      <td>1</td>\n",
              "      <td>Small Village Dataset</td>\n",
              "      <td>235.124581</td>\n",
              "      <td>AGAST+SIFT</td>\n",
              "      <td>A</td>\n",
              "    </tr>\n",
              "    <tr>\n",
              "      <th>2</th>\n",
              "      <td>2</td>\n",
              "      <td>Small Village Dataset</td>\n",
              "      <td>330.170364</td>\n",
              "      <td>SURF+SIFT</td>\n",
              "      <td>A</td>\n",
              "    </tr>\n",
              "    <tr>\n",
              "      <th>3</th>\n",
              "      <td>3</td>\n",
              "      <td>Small Village Dataset</td>\n",
              "      <td>749.506500</td>\n",
              "      <td>SIFT</td>\n",
              "      <td>A</td>\n",
              "    </tr>\n",
              "    <tr>\n",
              "      <th>4</th>\n",
              "      <td>4</td>\n",
              "      <td>Small Village Dataset</td>\n",
              "      <td>1007.410338</td>\n",
              "      <td>BRISK+FREAK</td>\n",
              "      <td>A</td>\n",
              "    </tr>\n",
              "  </tbody>\n",
              "</table>\n",
              "</div>"
            ],
            "text/plain": [
              "   Unnamed: 0                Dataset  ...  Detector/Descriptor ParameterName\n",
              "0           0  Small Village Dataset  ...            FAST+SIFT             A\n",
              "1           1  Small Village Dataset  ...           AGAST+SIFT             A\n",
              "2           2  Small Village Dataset  ...            SURF+SIFT             A\n",
              "3           3  Small Village Dataset  ...                 SIFT             A\n",
              "4           4  Small Village Dataset  ...          BRISK+FREAK             A\n",
              "\n",
              "[5 rows x 5 columns]"
            ]
          },
          "metadata": {},
          "execution_count": 8
        }
      ]
    },
    {
      "cell_type": "code",
      "metadata": {
        "id": "7Riu6rdx5pCH"
      },
      "source": [
        "AGAST_SIFT=df1.loc[(df1['Detector/Descriptor'] == \"AGAST+SIFT\")]"
      ],
      "execution_count": 9,
      "outputs": []
    },
    {
      "cell_type": "code",
      "metadata": {
        "id": "Sck9YTp-14Nb"
      },
      "source": [
        "AGAST_SIFT['Parameter'] = \"AGAST: Threshold = 80; SIFT: nfeatures = 1000, contrastThreshold=0.02, edgeThreshold=4\""
      ],
      "execution_count": null,
      "outputs": []
    },
    {
      "cell_type": "code",
      "metadata": {
        "colab": {
          "base_uri": "https://localhost:8080/",
          "height": 80
        },
        "id": "_E7PsFOg53Ht",
        "outputId": "a39147cf-d8fe-4e61-9ae3-08952db14c6c"
      },
      "source": [
        "AGAST_SIFT"
      ],
      "execution_count": 11,
      "outputs": [
        {
          "output_type": "execute_result",
          "data": {
            "text/html": [
              "<div>\n",
              "<style scoped>\n",
              "    .dataframe tbody tr th:only-of-type {\n",
              "        vertical-align: middle;\n",
              "    }\n",
              "\n",
              "    .dataframe tbody tr th {\n",
              "        vertical-align: top;\n",
              "    }\n",
              "\n",
              "    .dataframe thead th {\n",
              "        text-align: right;\n",
              "    }\n",
              "</style>\n",
              "<table border=\"1\" class=\"dataframe\">\n",
              "  <thead>\n",
              "    <tr style=\"text-align: right;\">\n",
              "      <th></th>\n",
              "      <th>Unnamed: 0</th>\n",
              "      <th>Dataset</th>\n",
              "      <th>Time</th>\n",
              "      <th>Detector/Descriptor</th>\n",
              "      <th>ParameterName</th>\n",
              "      <th>Parameter</th>\n",
              "    </tr>\n",
              "  </thead>\n",
              "  <tbody>\n",
              "    <tr>\n",
              "      <th>1</th>\n",
              "      <td>1</td>\n",
              "      <td>Small Village Dataset</td>\n",
              "      <td>235.124581</td>\n",
              "      <td>AGAST+SIFT</td>\n",
              "      <td>A</td>\n",
              "      <td>AGAST: Threshold = 80; SIFT: nfeatures = 1000,...</td>\n",
              "    </tr>\n",
              "  </tbody>\n",
              "</table>\n",
              "</div>"
            ],
            "text/plain": [
              "   Unnamed: 0  ...                                          Parameter\n",
              "1           1  ...  AGAST: Threshold = 80; SIFT: nfeatures = 1000,...\n",
              "\n",
              "[1 rows x 6 columns]"
            ]
          },
          "metadata": {},
          "execution_count": 11
        }
      ]
    },
    {
      "cell_type": "code",
      "metadata": {
        "colab": {
          "base_uri": "https://localhost:8080/",
          "height": 204
        },
        "id": "1hLjHt1zKhs9",
        "outputId": "093214c9-fb93-4262-8bb4-318e0475095a"
      },
      "source": [
        "df2"
      ],
      "execution_count": 12,
      "outputs": [
        {
          "output_type": "execute_result",
          "data": {
            "text/html": [
              "<div>\n",
              "<style scoped>\n",
              "    .dataframe tbody tr th:only-of-type {\n",
              "        vertical-align: middle;\n",
              "    }\n",
              "\n",
              "    .dataframe tbody tr th {\n",
              "        vertical-align: top;\n",
              "    }\n",
              "\n",
              "    .dataframe thead th {\n",
              "        text-align: right;\n",
              "    }\n",
              "</style>\n",
              "<table border=\"1\" class=\"dataframe\">\n",
              "  <thead>\n",
              "    <tr style=\"text-align: right;\">\n",
              "      <th></th>\n",
              "      <th>Unnamed: 0</th>\n",
              "      <th>Dataset</th>\n",
              "      <th>Time</th>\n",
              "      <th>Detector/Descriptor</th>\n",
              "      <th>ParameterName</th>\n",
              "    </tr>\n",
              "  </thead>\n",
              "  <tbody>\n",
              "    <tr>\n",
              "      <th>0</th>\n",
              "      <td>0</td>\n",
              "      <td>Small Village Dataset</td>\n",
              "      <td>351.669158</td>\n",
              "      <td>BRISK+FREAK</td>\n",
              "      <td>B</td>\n",
              "    </tr>\n",
              "    <tr>\n",
              "      <th>1</th>\n",
              "      <td>1</td>\n",
              "      <td>Small Village Dataset</td>\n",
              "      <td>948.841670</td>\n",
              "      <td>SURF</td>\n",
              "      <td>B</td>\n",
              "    </tr>\n",
              "    <tr>\n",
              "      <th>2</th>\n",
              "      <td>2</td>\n",
              "      <td>Small Village Dataset</td>\n",
              "      <td>692.030526</td>\n",
              "      <td>SIFT</td>\n",
              "      <td>B</td>\n",
              "    </tr>\n",
              "    <tr>\n",
              "      <th>0</th>\n",
              "      <td>0</td>\n",
              "      <td>Small Village Dataset</td>\n",
              "      <td>596.490623</td>\n",
              "      <td>FAST+SIFT</td>\n",
              "      <td>B</td>\n",
              "    </tr>\n",
              "    <tr>\n",
              "      <th>1</th>\n",
              "      <td>1</td>\n",
              "      <td>Small Village Dataset</td>\n",
              "      <td>384.764852</td>\n",
              "      <td>AGAST+SIFT</td>\n",
              "      <td>B</td>\n",
              "    </tr>\n",
              "  </tbody>\n",
              "</table>\n",
              "</div>"
            ],
            "text/plain": [
              "   Unnamed: 0                Dataset  ...  Detector/Descriptor ParameterName\n",
              "0           0  Small Village Dataset  ...          BRISK+FREAK             B\n",
              "1           1  Small Village Dataset  ...                 SURF             B\n",
              "2           2  Small Village Dataset  ...                 SIFT             B\n",
              "0           0  Small Village Dataset  ...            FAST+SIFT             B\n",
              "1           1  Small Village Dataset  ...           AGAST+SIFT             B\n",
              "\n",
              "[5 rows x 5 columns]"
            ]
          },
          "metadata": {},
          "execution_count": 12
        }
      ]
    },
    {
      "cell_type": "code",
      "metadata": {
        "id": "OeY3kMRoKhj8"
      },
      "source": [
        "AGAST_SIFT1=df2.loc[(df2['Detector/Descriptor'] == \"AGAST+SIFT\")]"
      ],
      "execution_count": 13,
      "outputs": []
    },
    {
      "cell_type": "code",
      "metadata": {
        "id": "4OipKSbK2alg"
      },
      "source": [
        "AGAST_SIFT1['Parameter'] = \"Agast: Threshold= 60; SIFT: nfeatures = 1000, contrastThreshold=0.02, edgeThreshold=4\""
      ],
      "execution_count": null,
      "outputs": []
    },
    {
      "cell_type": "code",
      "metadata": {
        "colab": {
          "base_uri": "https://localhost:8080/",
          "height": 80
        },
        "id": "YJ9tYPPKKhU8",
        "outputId": "f950c245-63a8-4b72-db64-1e9f50aad365"
      },
      "source": [
        "AGAST_SIFT1"
      ],
      "execution_count": 15,
      "outputs": [
        {
          "output_type": "execute_result",
          "data": {
            "text/html": [
              "<div>\n",
              "<style scoped>\n",
              "    .dataframe tbody tr th:only-of-type {\n",
              "        vertical-align: middle;\n",
              "    }\n",
              "\n",
              "    .dataframe tbody tr th {\n",
              "        vertical-align: top;\n",
              "    }\n",
              "\n",
              "    .dataframe thead th {\n",
              "        text-align: right;\n",
              "    }\n",
              "</style>\n",
              "<table border=\"1\" class=\"dataframe\">\n",
              "  <thead>\n",
              "    <tr style=\"text-align: right;\">\n",
              "      <th></th>\n",
              "      <th>Unnamed: 0</th>\n",
              "      <th>Dataset</th>\n",
              "      <th>Time</th>\n",
              "      <th>Detector/Descriptor</th>\n",
              "      <th>ParameterName</th>\n",
              "      <th>Parameter</th>\n",
              "    </tr>\n",
              "  </thead>\n",
              "  <tbody>\n",
              "    <tr>\n",
              "      <th>1</th>\n",
              "      <td>1</td>\n",
              "      <td>Small Village Dataset</td>\n",
              "      <td>384.764852</td>\n",
              "      <td>AGAST+SIFT</td>\n",
              "      <td>B</td>\n",
              "      <td>Agast: Threshold= 60; SIFT: nfeatures = 1000, ...</td>\n",
              "    </tr>\n",
              "  </tbody>\n",
              "</table>\n",
              "</div>"
            ],
            "text/plain": [
              "   Unnamed: 0  ...                                          Parameter\n",
              "1           1  ...  Agast: Threshold= 60; SIFT: nfeatures = 1000, ...\n",
              "\n",
              "[1 rows x 6 columns]"
            ]
          },
          "metadata": {},
          "execution_count": 15
        }
      ]
    },
    {
      "cell_type": "code",
      "metadata": {
        "id": "E12FC_MXLD2Q"
      },
      "source": [
        "df=pd.concat([AGAST_SIFT, AGAST_SIFT1])"
      ],
      "execution_count": 16,
      "outputs": []
    },
    {
      "cell_type": "code",
      "metadata": {
        "colab": {
          "base_uri": "https://localhost:8080/",
          "height": 111
        },
        "id": "QEfaGfQXMYDt",
        "outputId": "ea0c239f-abc2-4cc5-a744-e4bb0c9b5ce4"
      },
      "source": [
        "df"
      ],
      "execution_count": 17,
      "outputs": [
        {
          "output_type": "execute_result",
          "data": {
            "text/html": [
              "<div>\n",
              "<style scoped>\n",
              "    .dataframe tbody tr th:only-of-type {\n",
              "        vertical-align: middle;\n",
              "    }\n",
              "\n",
              "    .dataframe tbody tr th {\n",
              "        vertical-align: top;\n",
              "    }\n",
              "\n",
              "    .dataframe thead th {\n",
              "        text-align: right;\n",
              "    }\n",
              "</style>\n",
              "<table border=\"1\" class=\"dataframe\">\n",
              "  <thead>\n",
              "    <tr style=\"text-align: right;\">\n",
              "      <th></th>\n",
              "      <th>Unnamed: 0</th>\n",
              "      <th>Dataset</th>\n",
              "      <th>Time</th>\n",
              "      <th>Detector/Descriptor</th>\n",
              "      <th>ParameterName</th>\n",
              "      <th>Parameter</th>\n",
              "    </tr>\n",
              "  </thead>\n",
              "  <tbody>\n",
              "    <tr>\n",
              "      <th>1</th>\n",
              "      <td>1</td>\n",
              "      <td>Small Village Dataset</td>\n",
              "      <td>235.124581</td>\n",
              "      <td>AGAST+SIFT</td>\n",
              "      <td>A</td>\n",
              "      <td>AGAST: Threshold = 80; SIFT: nfeatures = 1000,...</td>\n",
              "    </tr>\n",
              "    <tr>\n",
              "      <th>1</th>\n",
              "      <td>1</td>\n",
              "      <td>Small Village Dataset</td>\n",
              "      <td>384.764852</td>\n",
              "      <td>AGAST+SIFT</td>\n",
              "      <td>B</td>\n",
              "      <td>Agast: Threshold= 60; SIFT: nfeatures = 1000, ...</td>\n",
              "    </tr>\n",
              "  </tbody>\n",
              "</table>\n",
              "</div>"
            ],
            "text/plain": [
              "   Unnamed: 0  ...                                          Parameter\n",
              "1           1  ...  AGAST: Threshold = 80; SIFT: nfeatures = 1000,...\n",
              "1           1  ...  Agast: Threshold= 60; SIFT: nfeatures = 1000, ...\n",
              "\n",
              "[2 rows x 6 columns]"
            ]
          },
          "metadata": {},
          "execution_count": 17
        }
      ]
    },
    {
      "cell_type": "code",
      "metadata": {
        "id": "4yyb9x0EcQ64",
        "colab": {
          "base_uri": "https://localhost:8080/",
          "height": 616
        },
        "outputId": "e757bd3d-bacf-4865-9093-788649635ef2"
      },
      "source": [
        " import seaborn as sns\n",
        "sns.set_theme(style='whitegrid')\n",
        "\n",
        "\n",
        "g = sns.catplot(\n",
        "    data=df, kind=\"bar\",\n",
        "    x=\"ParameterName\", y=\"Time\", hue=\"Parameter\" ,\n",
        "    ci=\"sd\", palette=\"Spectral\", alpha=.9, height=8, aspect=0.9\n",
        ")\n",
        "g.despine(left=True)\n",
        "g.set_axis_labels(\"Parameter Combinations \", \"Time Taken for Consecutive/Overlapping Images\")\n",
        "g.legend.set_title(\"Parameter Combinations\")\n",
        "g.fig.suptitle(\"Time Taken for AGAST+SIFT for different parameter combinations\")"
      ],
      "execution_count": 18,
      "outputs": [
        {
          "output_type": "execute_result",
          "data": {
            "text/plain": [
              "Text(0.5, 0.98, 'Time Taken for AGAST+SIFT for different parameter combinations')"
            ]
          },
          "metadata": {},
          "execution_count": 18
        },
        {
          "output_type": "display_data",
          "data": {
            "image/png": "[encoded data removed]",
            "text/plain": [
              "<Figure size 1065.38x576 with 1 Axes>"
            ]
          },
          "metadata": {}
        }
      ]
    },
    {
      "cell_type": "code",
      "metadata": {
        "id": "w8oosWzjbFpS"
      },
      "source": [
        ""
      ],
      "execution_count": null,
      "outputs": []
    },
    {
      "cell_type": "code",
      "metadata": {
        "id": "ZUxOZDuT6xEi"
      },
      "source": [
        "SURF=df1.loc[(df1['Detector/Descriptor'] == \"SURF+SIFT\")]"
      ],
      "execution_count": 19,
      "outputs": []
    },
    {
      "cell_type": "code",
      "metadata": {
        "id": "DpX83OaM2-Vs"
      },
      "source": [
        "SURF['Parameter'] = \"SURF: nOctaves = 3, hessianThreshold = 60 ,upright=1\" "
      ],
      "execution_count": null,
      "outputs": []
    },
    {
      "cell_type": "code",
      "metadata": {
        "colab": {
          "base_uri": "https://localhost:8080/",
          "height": 80
        },
        "id": "OEZm8qkO67V6",
        "outputId": "d4c10ecd-58b8-4946-9b79-d47e2b27a936"
      },
      "source": [
        "SURF"
      ],
      "execution_count": 21,
      "outputs": [
        {
          "output_type": "execute_result",
          "data": {
            "text/html": [
              "<div>\n",
              "<style scoped>\n",
              "    .dataframe tbody tr th:only-of-type {\n",
              "        vertical-align: middle;\n",
              "    }\n",
              "\n",
              "    .dataframe tbody tr th {\n",
              "        vertical-align: top;\n",
              "    }\n",
              "\n",
              "    .dataframe thead th {\n",
              "        text-align: right;\n",
              "    }\n",
              "</style>\n",
              "<table border=\"1\" class=\"dataframe\">\n",
              "  <thead>\n",
              "    <tr style=\"text-align: right;\">\n",
              "      <th></th>\n",
              "      <th>Unnamed: 0</th>\n",
              "      <th>Dataset</th>\n",
              "      <th>Time</th>\n",
              "      <th>Detector/Descriptor</th>\n",
              "      <th>ParameterName</th>\n",
              "      <th>Parameter</th>\n",
              "    </tr>\n",
              "  </thead>\n",
              "  <tbody>\n",
              "    <tr>\n",
              "      <th>2</th>\n",
              "      <td>2</td>\n",
              "      <td>Small Village Dataset</td>\n",
              "      <td>330.170364</td>\n",
              "      <td>SURF+SIFT</td>\n",
              "      <td>A</td>\n",
              "      <td>SURF: nOctaves = 3, hessianThreshold = 60 ,upr...</td>\n",
              "    </tr>\n",
              "  </tbody>\n",
              "</table>\n",
              "</div>"
            ],
            "text/plain": [
              "   Unnamed: 0  ...                                          Parameter\n",
              "2           2  ...  SURF: nOctaves = 3, hessianThreshold = 60 ,upr...\n",
              "\n",
              "[1 rows x 6 columns]"
            ]
          },
          "metadata": {},
          "execution_count": 21
        }
      ]
    },
    {
      "cell_type": "code",
      "metadata": {
        "id": "p-xXzZlqbOaD"
      },
      "source": [
        "SURF1=df2.loc[(df2['Detector/Descriptor'] == \"SURF\")]"
      ],
      "execution_count": 22,
      "outputs": []
    },
    {
      "cell_type": "code",
      "metadata": {
        "id": "MhzpuPvv3hx9"
      },
      "source": [
        "SURF1['Parameter'] = \"SURF: nOctaves = 3, hessianThreshold = 60 ,upright=1\" "
      ],
      "execution_count": null,
      "outputs": []
    },
    {
      "cell_type": "code",
      "metadata": {
        "colab": {
          "base_uri": "https://localhost:8080/",
          "height": 80
        },
        "id": "5iQJdApcbOWk",
        "outputId": "9b11945d-b067-4fac-b1b8-084d98445942"
      },
      "source": [
        "SURF1"
      ],
      "execution_count": 24,
      "outputs": [
        {
          "output_type": "execute_result",
          "data": {
            "text/html": [
              "<div>\n",
              "<style scoped>\n",
              "    .dataframe tbody tr th:only-of-type {\n",
              "        vertical-align: middle;\n",
              "    }\n",
              "\n",
              "    .dataframe tbody tr th {\n",
              "        vertical-align: top;\n",
              "    }\n",
              "\n",
              "    .dataframe thead th {\n",
              "        text-align: right;\n",
              "    }\n",
              "</style>\n",
              "<table border=\"1\" class=\"dataframe\">\n",
              "  <thead>\n",
              "    <tr style=\"text-align: right;\">\n",
              "      <th></th>\n",
              "      <th>Unnamed: 0</th>\n",
              "      <th>Dataset</th>\n",
              "      <th>Time</th>\n",
              "      <th>Detector/Descriptor</th>\n",
              "      <th>ParameterName</th>\n",
              "      <th>Parameter</th>\n",
              "    </tr>\n",
              "  </thead>\n",
              "  <tbody>\n",
              "    <tr>\n",
              "      <th>1</th>\n",
              "      <td>1</td>\n",
              "      <td>Small Village Dataset</td>\n",
              "      <td>948.84167</td>\n",
              "      <td>SURF</td>\n",
              "      <td>B</td>\n",
              "      <td>SURF: nOctaves = 3, hessianThreshold = 60 ,upr...</td>\n",
              "    </tr>\n",
              "  </tbody>\n",
              "</table>\n",
              "</div>"
            ],
            "text/plain": [
              "   Unnamed: 0  ...                                          Parameter\n",
              "1           1  ...  SURF: nOctaves = 3, hessianThreshold = 60 ,upr...\n",
              "\n",
              "[1 rows x 6 columns]"
            ]
          },
          "metadata": {},
          "execution_count": 24
        }
      ]
    },
    {
      "cell_type": "code",
      "metadata": {
        "id": "kW6BCIgJbq0T"
      },
      "source": [
        "ALL_SURF=pd.concat([SURF, SURF1])"
      ],
      "execution_count": 25,
      "outputs": []
    },
    {
      "cell_type": "code",
      "metadata": {
        "colab": {
          "base_uri": "https://localhost:8080/",
          "height": 111
        },
        "id": "YJa5Y0Vhb-YK",
        "outputId": "4a42bb03-aea3-4855-d038-b2839cd1aac4"
      },
      "source": [
        "ALL_SURF"
      ],
      "execution_count": 26,
      "outputs": [
        {
          "output_type": "execute_result",
          "data": {
            "text/html": [
              "<div>\n",
              "<style scoped>\n",
              "    .dataframe tbody tr th:only-of-type {\n",
              "        vertical-align: middle;\n",
              "    }\n",
              "\n",
              "    .dataframe tbody tr th {\n",
              "        vertical-align: top;\n",
              "    }\n",
              "\n",
              "    .dataframe thead th {\n",
              "        text-align: right;\n",
              "    }\n",
              "</style>\n",
              "<table border=\"1\" class=\"dataframe\">\n",
              "  <thead>\n",
              "    <tr style=\"text-align: right;\">\n",
              "      <th></th>\n",
              "      <th>Unnamed: 0</th>\n",
              "      <th>Dataset</th>\n",
              "      <th>Time</th>\n",
              "      <th>Detector/Descriptor</th>\n",
              "      <th>ParameterName</th>\n",
              "      <th>Parameter</th>\n",
              "    </tr>\n",
              "  </thead>\n",
              "  <tbody>\n",
              "    <tr>\n",
              "      <th>2</th>\n",
              "      <td>2</td>\n",
              "      <td>Small Village Dataset</td>\n",
              "      <td>330.170364</td>\n",
              "      <td>SURF+SIFT</td>\n",
              "      <td>A</td>\n",
              "      <td>SURF: nOctaves = 3, hessianThreshold = 60 ,upr...</td>\n",
              "    </tr>\n",
              "    <tr>\n",
              "      <th>1</th>\n",
              "      <td>1</td>\n",
              "      <td>Small Village Dataset</td>\n",
              "      <td>948.841670</td>\n",
              "      <td>SURF</td>\n",
              "      <td>B</td>\n",
              "      <td>SURF: nOctaves = 3, hessianThreshold = 60 ,upr...</td>\n",
              "    </tr>\n",
              "  </tbody>\n",
              "</table>\n",
              "</div>"
            ],
            "text/plain": [
              "   Unnamed: 0  ...                                          Parameter\n",
              "2           2  ...  SURF: nOctaves = 3, hessianThreshold = 60 ,upr...\n",
              "1           1  ...  SURF: nOctaves = 3, hessianThreshold = 60 ,upr...\n",
              "\n",
              "[2 rows x 6 columns]"
            ]
          },
          "metadata": {},
          "execution_count": 26
        }
      ]
    },
    {
      "cell_type": "code",
      "metadata": {
        "colab": {
          "base_uri": "https://localhost:8080/",
          "height": 616
        },
        "id": "MMP4LU3hcUoV",
        "outputId": "9c2cf7e3-7d5c-4a84-80e7-0859b8e228ee"
      },
      "source": [
        " import seaborn as sns\n",
        "sns.set_theme(style='whitegrid')\n",
        "\n",
        "\n",
        "g = sns.catplot(\n",
        "    data=ALL_SURF, kind=\"bar\",\n",
        "    x=\"ParameterName\", y=\"Time\", hue=\"Parameter\" ,\n",
        "    ci=\"sd\", palette=\"Spectral\", alpha=.9, height=8, aspect=0.9\n",
        ")\n",
        "g.despine(left=True)\n",
        "g.set_axis_labels(\"Parameter Combinations \", \"Time Taken for Consecutive/Overlapping Images\")\n",
        "g.legend.set_title(\"Parameter Combinations\")\n",
        "g.fig.suptitle(\"Time Taken for SURF for different parameter combinations\")"
      ],
      "execution_count": 27,
      "outputs": [
        {
          "output_type": "execute_result",
          "data": {
            "text/plain": [
              "Text(0.5, 0.98, 'Time Taken for SURF for different parameter combinations')"
            ]
          },
          "metadata": {},
          "execution_count": 27
        },
        {
          "output_type": "display_data",
          "data": {
            "image/png": "[encoded data removed]",
            "text/plain": [
              "<Figure size 866x576 with 1 Axes>"
            ]
          },
          "metadata": {}
        }
      ]
    },
    {
      "cell_type": "code",
      "metadata": {
        "id": "Bg6qd7-WAiOp"
      },
      "source": [
        "FREAK=df1.loc[(df1['Detector/Descriptor'] == \"BRISK+FREAK\")]"
      ],
      "execution_count": 28,
      "outputs": []
    },
    {
      "cell_type": "code",
      "metadata": {
        "id": "h9eOQJ9HAiKo"
      },
      "source": [
        "FREAK['Parameter'] = \"BRISK: Threshold=80, Octaves=6\" "
      ],
      "execution_count": null,
      "outputs": []
    },
    {
      "cell_type": "code",
      "metadata": {
        "colab": {
          "base_uri": "https://localhost:8080/",
          "height": 80
        },
        "id": "fNCXC0pnAiIL",
        "outputId": "24f49e2b-70b9-463c-b272-bfe04380db9d"
      },
      "source": [
        "FREAK"
      ],
      "execution_count": 30,
      "outputs": [
        {
          "output_type": "execute_result",
          "data": {
            "text/html": [
              "<div>\n",
              "<style scoped>\n",
              "    .dataframe tbody tr th:only-of-type {\n",
              "        vertical-align: middle;\n",
              "    }\n",
              "\n",
              "    .dataframe tbody tr th {\n",
              "        vertical-align: top;\n",
              "    }\n",
              "\n",
              "    .dataframe thead th {\n",
              "        text-align: right;\n",
              "    }\n",
              "</style>\n",
              "<table border=\"1\" class=\"dataframe\">\n",
              "  <thead>\n",
              "    <tr style=\"text-align: right;\">\n",
              "      <th></th>\n",
              "      <th>Unnamed: 0</th>\n",
              "      <th>Dataset</th>\n",
              "      <th>Time</th>\n",
              "      <th>Detector/Descriptor</th>\n",
              "      <th>ParameterName</th>\n",
              "      <th>Parameter</th>\n",
              "    </tr>\n",
              "  </thead>\n",
              "  <tbody>\n",
              "    <tr>\n",
              "      <th>4</th>\n",
              "      <td>4</td>\n",
              "      <td>Small Village Dataset</td>\n",
              "      <td>1007.410338</td>\n",
              "      <td>BRISK+FREAK</td>\n",
              "      <td>A</td>\n",
              "      <td>BRISK: Threshold=80, Octaves=6</td>\n",
              "    </tr>\n",
              "  </tbody>\n",
              "</table>\n",
              "</div>"
            ],
            "text/plain": [
              "   Unnamed: 0  ...                       Parameter\n",
              "4           4  ...  BRISK: Threshold=80, Octaves=6\n",
              "\n",
              "[1 rows x 6 columns]"
            ]
          },
          "metadata": {},
          "execution_count": 30
        }
      ]
    },
    {
      "cell_type": "code",
      "metadata": {
        "id": "2LBmgf-vAiGR"
      },
      "source": [
        "FREAK1=df2.loc[(df2['Detector/Descriptor'] == \"BRISK+FREAK\")]"
      ],
      "execution_count": 31,
      "outputs": []
    },
    {
      "cell_type": "code",
      "metadata": {
        "id": "SzeE7FqsAiEp"
      },
      "source": [
        "FREAK1['Parameter'] = \"BRISK: Threshl=60, Octaves=6\" "
      ],
      "execution_count": null,
      "outputs": []
    },
    {
      "cell_type": "code",
      "metadata": {
        "colab": {
          "base_uri": "https://localhost:8080/",
          "height": 80
        },
        "id": "JmHGLXgVAiAL",
        "outputId": "28db28b5-55b7-4388-e106-8fb90bcb6b30"
      },
      "source": [
        "FREAK1"
      ],
      "execution_count": 33,
      "outputs": [
        {
          "output_type": "execute_result",
          "data": {
            "text/html": [
              "<div>\n",
              "<style scoped>\n",
              "    .dataframe tbody tr th:only-of-type {\n",
              "        vertical-align: middle;\n",
              "    }\n",
              "\n",
              "    .dataframe tbody tr th {\n",
              "        vertical-align: top;\n",
              "    }\n",
              "\n",
              "    .dataframe thead th {\n",
              "        text-align: right;\n",
              "    }\n",
              "</style>\n",
              "<table border=\"1\" class=\"dataframe\">\n",
              "  <thead>\n",
              "    <tr style=\"text-align: right;\">\n",
              "      <th></th>\n",
              "      <th>Unnamed: 0</th>\n",
              "      <th>Dataset</th>\n",
              "      <th>Time</th>\n",
              "      <th>Detector/Descriptor</th>\n",
              "      <th>ParameterName</th>\n",
              "      <th>Parameter</th>\n",
              "    </tr>\n",
              "  </thead>\n",
              "  <tbody>\n",
              "    <tr>\n",
              "      <th>0</th>\n",
              "      <td>0</td>\n",
              "      <td>Small Village Dataset</td>\n",
              "      <td>351.669158</td>\n",
              "      <td>BRISK+FREAK</td>\n",
              "      <td>B</td>\n",
              "      <td>BRISK: Threshl=60, Octaves=6</td>\n",
              "    </tr>\n",
              "  </tbody>\n",
              "</table>\n",
              "</div>"
            ],
            "text/plain": [
              "   Unnamed: 0  ...                     Parameter\n",
              "0           0  ...  BRISK: Threshl=60, Octaves=6\n",
              "\n",
              "[1 rows x 6 columns]"
            ]
          },
          "metadata": {},
          "execution_count": 33
        }
      ]
    },
    {
      "cell_type": "code",
      "metadata": {
        "id": "8pruAnf4Ah3H"
      },
      "source": [
        "ALL_FREAK=pd.concat([FREAK, FREAK1])"
      ],
      "execution_count": 34,
      "outputs": []
    },
    {
      "cell_type": "code",
      "metadata": {
        "colab": {
          "base_uri": "https://localhost:8080/",
          "height": 111
        },
        "id": "efHmpzBwAh0b",
        "outputId": "0d0b8ccc-5992-4b5d-898c-ac6a84999ec4"
      },
      "source": [
        "ALL_FREAK"
      ],
      "execution_count": 35,
      "outputs": [
        {
          "output_type": "execute_result",
          "data": {
            "text/html": [
              "<div>\n",
              "<style scoped>\n",
              "    .dataframe tbody tr th:only-of-type {\n",
              "        vertical-align: middle;\n",
              "    }\n",
              "\n",
              "    .dataframe tbody tr th {\n",
              "        vertical-align: top;\n",
              "    }\n",
              "\n",
              "    .dataframe thead th {\n",
              "        text-align: right;\n",
              "    }\n",
              "</style>\n",
              "<table border=\"1\" class=\"dataframe\">\n",
              "  <thead>\n",
              "    <tr style=\"text-align: right;\">\n",
              "      <th></th>\n",
              "      <th>Unnamed: 0</th>\n",
              "      <th>Dataset</th>\n",
              "      <th>Time</th>\n",
              "      <th>Detector/Descriptor</th>\n",
              "      <th>ParameterName</th>\n",
              "      <th>Parameter</th>\n",
              "    </tr>\n",
              "  </thead>\n",
              "  <tbody>\n",
              "    <tr>\n",
              "      <th>4</th>\n",
              "      <td>4</td>\n",
              "      <td>Small Village Dataset</td>\n",
              "      <td>1007.410338</td>\n",
              "      <td>BRISK+FREAK</td>\n",
              "      <td>A</td>\n",
              "      <td>BRISK: Threshold=80, Octaves=6</td>\n",
              "    </tr>\n",
              "    <tr>\n",
              "      <th>0</th>\n",
              "      <td>0</td>\n",
              "      <td>Small Village Dataset</td>\n",
              "      <td>351.669158</td>\n",
              "      <td>BRISK+FREAK</td>\n",
              "      <td>B</td>\n",
              "      <td>BRISK: Threshl=60, Octaves=6</td>\n",
              "    </tr>\n",
              "  </tbody>\n",
              "</table>\n",
              "</div>"
            ],
            "text/plain": [
              "   Unnamed: 0  ...                       Parameter\n",
              "4           4  ...  BRISK: Threshold=80, Octaves=6\n",
              "0           0  ...    BRISK: Threshl=60, Octaves=6\n",
              "\n",
              "[2 rows x 6 columns]"
            ]
          },
          "metadata": {},
          "execution_count": 35
        }
      ]
    },
    {
      "cell_type": "code",
      "metadata": {
        "colab": {
          "base_uri": "https://localhost:8080/",
          "height": 616
        },
        "id": "bfrrNoqpAhwg",
        "outputId": "92930066-20d8-4fd2-ba27-e5f27545bfe1"
      },
      "source": [
        " import seaborn as sns\n",
        "sns.set_theme(style='whitegrid')\n",
        "\n",
        "\n",
        "g = sns.catplot(\n",
        "    data=ALL_FREAK, kind=\"bar\",\n",
        "    x=\"ParameterName\", y=\"Time\", hue=\"Parameter\" ,\n",
        "    ci=\"sd\", palette=\"Spectral\", alpha=.9, height=8, aspect=0.9\n",
        ")\n",
        "g.despine(left=True)\n",
        "g.set_axis_labels(\"Parameter Combinations \", \"Time Taken for Consecutive/Overlapping Images\")\n",
        "g.legend.set_title(\"Parameter Combinations\")\n",
        "g.fig.suptitle(\"Time Taken for BRISK+FREAK for different parameter combinations\")"
      ],
      "execution_count": 36,
      "outputs": [
        {
          "output_type": "execute_result",
          "data": {
            "text/plain": [
              "Text(0.5, 0.98, 'Time Taken for BRISK+FREAK for different parameter combinations')"
            ]
          },
          "metadata": {},
          "execution_count": 36
        },
        {
          "output_type": "display_data",
          "data": {
            "image/png": "[encoded data removed]",
            "text/plain": [
              "<Figure size 743.875x576 with 1 Axes>"
            ]
          },
          "metadata": {}
        }
      ]
    },
    {
      "cell_type": "code",
      "metadata": {
        "id": "2SmA3eMzAhtK"
      },
      "source": [
        "SIFT=df1.loc[(df1['Detector/Descriptor'] == \"SIFT\")]"
      ],
      "execution_count": 38,
      "outputs": []
    },
    {
      "cell_type": "code",
      "metadata": {
        "id": "lY5UYb_UAhoh"
      },
      "source": [
        "SIFT['Parameter'] = \"nfeatures = 1000, contrastThreshold=0.02, edgeThreshold=4\" "
      ],
      "execution_count": null,
      "outputs": []
    },
    {
      "cell_type": "code",
      "metadata": {
        "colab": {
          "base_uri": "https://localhost:8080/",
          "height": 80
        },
        "id": "eHphJj-tAhkF",
        "outputId": "fbb99a86-d1d8-4d37-c70e-53ea4ee86531"
      },
      "source": [
        "SIFT"
      ],
      "execution_count": 40,
      "outputs": [
        {
          "output_type": "execute_result",
          "data": {
            "text/html": [
              "<div>\n",
              "<style scoped>\n",
              "    .dataframe tbody tr th:only-of-type {\n",
              "        vertical-align: middle;\n",
              "    }\n",
              "\n",
              "    .dataframe tbody tr th {\n",
              "        vertical-align: top;\n",
              "    }\n",
              "\n",
              "    .dataframe thead th {\n",
              "        text-align: right;\n",
              "    }\n",
              "</style>\n",
              "<table border=\"1\" class=\"dataframe\">\n",
              "  <thead>\n",
              "    <tr style=\"text-align: right;\">\n",
              "      <th></th>\n",
              "      <th>Unnamed: 0</th>\n",
              "      <th>Dataset</th>\n",
              "      <th>Time</th>\n",
              "      <th>Detector/Descriptor</th>\n",
              "      <th>ParameterName</th>\n",
              "      <th>Parameter</th>\n",
              "    </tr>\n",
              "  </thead>\n",
              "  <tbody>\n",
              "    <tr>\n",
              "      <th>3</th>\n",
              "      <td>3</td>\n",
              "      <td>Small Village Dataset</td>\n",
              "      <td>749.5065</td>\n",
              "      <td>SIFT</td>\n",
              "      <td>A</td>\n",
              "      <td>nfeatures = 1000, contrastThreshold=0.02, edge...</td>\n",
              "    </tr>\n",
              "  </tbody>\n",
              "</table>\n",
              "</div>"
            ],
            "text/plain": [
              "   Unnamed: 0  ...                                          Parameter\n",
              "3           3  ...  nfeatures = 1000, contrastThreshold=0.02, edge...\n",
              "\n",
              "[1 rows x 6 columns]"
            ]
          },
          "metadata": {},
          "execution_count": 40
        }
      ]
    },
    {
      "cell_type": "code",
      "metadata": {
        "id": "uZIAboMmMUvV"
      },
      "source": [
        "SIFT1=df2.loc[(df2['Detector/Descriptor'] == \"SIFT\")]"
      ],
      "execution_count": 41,
      "outputs": []
    },
    {
      "cell_type": "code",
      "metadata": {
        "id": "50d5PkPTMzsV"
      },
      "source": [
        "SIFT1['Parameter'] = \"nfeatures = 1000, contrastThreshold=0.02, edgeThreshold=4\" "
      ],
      "execution_count": null,
      "outputs": []
    },
    {
      "cell_type": "code",
      "metadata": {
        "colab": {
          "base_uri": "https://localhost:8080/",
          "height": 80
        },
        "id": "AQm1TiHvMYR0",
        "outputId": "ea65a2fa-6e51-4fed-df3b-7c1cb4a89dd3"
      },
      "source": [
        "SIFT1"
      ],
      "execution_count": 44,
      "outputs": [
        {
          "output_type": "execute_result",
          "data": {
            "text/html": [
              "<div>\n",
              "<style scoped>\n",
              "    .dataframe tbody tr th:only-of-type {\n",
              "        vertical-align: middle;\n",
              "    }\n",
              "\n",
              "    .dataframe tbody tr th {\n",
              "        vertical-align: top;\n",
              "    }\n",
              "\n",
              "    .dataframe thead th {\n",
              "        text-align: right;\n",
              "    }\n",
              "</style>\n",
              "<table border=\"1\" class=\"dataframe\">\n",
              "  <thead>\n",
              "    <tr style=\"text-align: right;\">\n",
              "      <th></th>\n",
              "      <th>Unnamed: 0</th>\n",
              "      <th>Dataset</th>\n",
              "      <th>Time</th>\n",
              "      <th>Detector/Descriptor</th>\n",
              "      <th>ParameterName</th>\n",
              "      <th>Parameter</th>\n",
              "    </tr>\n",
              "  </thead>\n",
              "  <tbody>\n",
              "    <tr>\n",
              "      <th>2</th>\n",
              "      <td>2</td>\n",
              "      <td>Small Village Dataset</td>\n",
              "      <td>692.030526</td>\n",
              "      <td>SIFT</td>\n",
              "      <td>B</td>\n",
              "      <td>nfeatures = 1000, contrastThreshold=0.02, edge...</td>\n",
              "    </tr>\n",
              "  </tbody>\n",
              "</table>\n",
              "</div>"
            ],
            "text/plain": [
              "   Unnamed: 0  ...                                          Parameter\n",
              "2           2  ...  nfeatures = 1000, contrastThreshold=0.02, edge...\n",
              "\n",
              "[1 rows x 6 columns]"
            ]
          },
          "metadata": {},
          "execution_count": 44
        }
      ]
    },
    {
      "cell_type": "code",
      "metadata": {
        "id": "1qOQlO_nNiG6"
      },
      "source": [
        "ALL_SIFT=pd.concat([SIFT, SIFT1])"
      ],
      "execution_count": 45,
      "outputs": []
    },
    {
      "cell_type": "code",
      "metadata": {
        "colab": {
          "base_uri": "https://localhost:8080/",
          "height": 111
        },
        "id": "JyLuB-YHNiga",
        "outputId": "f0eefab0-4685-44ea-e5f7-b4ec8e06aecb"
      },
      "source": [
        "ALL_SIFT"
      ],
      "execution_count": 46,
      "outputs": [
        {
          "output_type": "execute_result",
          "data": {
            "text/html": [
              "<div>\n",
              "<style scoped>\n",
              "    .dataframe tbody tr th:only-of-type {\n",
              "        vertical-align: middle;\n",
              "    }\n",
              "\n",
              "    .dataframe tbody tr th {\n",
              "        vertical-align: top;\n",
              "    }\n",
              "\n",
              "    .dataframe thead th {\n",
              "        text-align: right;\n",
              "    }\n",
              "</style>\n",
              "<table border=\"1\" class=\"dataframe\">\n",
              "  <thead>\n",
              "    <tr style=\"text-align: right;\">\n",
              "      <th></th>\n",
              "      <th>Unnamed: 0</th>\n",
              "      <th>Dataset</th>\n",
              "      <th>Time</th>\n",
              "      <th>Detector/Descriptor</th>\n",
              "      <th>ParameterName</th>\n",
              "      <th>Parameter</th>\n",
              "    </tr>\n",
              "  </thead>\n",
              "  <tbody>\n",
              "    <tr>\n",
              "      <th>3</th>\n",
              "      <td>3</td>\n",
              "      <td>Small Village Dataset</td>\n",
              "      <td>749.506500</td>\n",
              "      <td>SIFT</td>\n",
              "      <td>A</td>\n",
              "      <td>nfeatures = 1000, contrastThreshold=0.02, edge...</td>\n",
              "    </tr>\n",
              "    <tr>\n",
              "      <th>2</th>\n",
              "      <td>2</td>\n",
              "      <td>Small Village Dataset</td>\n",
              "      <td>692.030526</td>\n",
              "      <td>SIFT</td>\n",
              "      <td>B</td>\n",
              "      <td>nfeatures = 1000, contrastThreshold=0.02, edge...</td>\n",
              "    </tr>\n",
              "  </tbody>\n",
              "</table>\n",
              "</div>"
            ],
            "text/plain": [
              "   Unnamed: 0  ...                                          Parameter\n",
              "3           3  ...  nfeatures = 1000, contrastThreshold=0.02, edge...\n",
              "2           2  ...  nfeatures = 1000, contrastThreshold=0.02, edge...\n",
              "\n",
              "[2 rows x 6 columns]"
            ]
          },
          "metadata": {},
          "execution_count": 46
        }
      ]
    },
    {
      "cell_type": "code",
      "metadata": {
        "colab": {
          "base_uri": "https://localhost:8080/",
          "height": 616
        },
        "id": "7_hFMMwjNmmi",
        "outputId": "77570080-baac-454e-cf6d-d567be385a46"
      },
      "source": [
        " import seaborn as sns\n",
        "sns.set_theme(style='whitegrid')\n",
        "\n",
        "\n",
        "g = sns.catplot(\n",
        "    data=ALL_SIFT, kind=\"bar\",\n",
        "    x=\"ParameterName\", y=\"Time\", hue=\"Parameter\" ,\n",
        "    ci=\"sd\", palette=\"Spectral\", alpha=.9, height=8, aspect=0.9\n",
        ")\n",
        "g.despine(left=True)\n",
        "g.set_axis_labels(\"Parameter Combinations \", \"Time Taken for Consecutive/Overlapping Images\")\n",
        "g.legend.set_title(\"Parameter Combinations\")\n",
        "g.fig.suptitle(\"Time Taken for SIFT for different parameter combinations\")"
      ],
      "execution_count": 47,
      "outputs": [
        {
          "output_type": "execute_result",
          "data": {
            "text/plain": [
              "Text(0.5, 0.98, 'Time Taken for SIFT for different parameter combinations')"
            ]
          },
          "metadata": {},
          "execution_count": 47
        },
        {
          "output_type": "display_data",
          "data": {
            "image/png": "[encoded data removed]",
            "text/plain": [
              "<Figure size 901.5x576 with 1 Axes>"
            ]
          },
          "metadata": {}
        }
      ]
    },
    {
      "cell_type": "code",
      "metadata": {
        "id": "qyfQwkVFOruU"
      },
      "source": [
        "FAST=df1.loc[(df1['Detector/Descriptor'] == \"FAST+SIFT\")]"
      ],
      "execution_count": 48,
      "outputs": []
    },
    {
      "cell_type": "code",
      "metadata": {
        "id": "gqTOZ-y_OrrK"
      },
      "source": [
        "FAST['Parameter'] = \"FAST: Threshold=70; SIFT: nfeatures = 1000, contrastThreshold=0.02, edgeThreshold=4\" "
      ],
      "execution_count": null,
      "outputs": []
    },
    {
      "cell_type": "code",
      "metadata": {
        "colab": {
          "base_uri": "https://localhost:8080/",
          "height": 80
        },
        "id": "qsKSBTirOrmH",
        "outputId": "1817b972-8ed5-4ae5-bfd4-0661eb4e5dd3"
      },
      "source": [
        "FAST"
      ],
      "execution_count": 50,
      "outputs": [
        {
          "output_type": "execute_result",
          "data": {
            "text/html": [
              "<div>\n",
              "<style scoped>\n",
              "    .dataframe tbody tr th:only-of-type {\n",
              "        vertical-align: middle;\n",
              "    }\n",
              "\n",
              "    .dataframe tbody tr th {\n",
              "        vertical-align: top;\n",
              "    }\n",
              "\n",
              "    .dataframe thead th {\n",
              "        text-align: right;\n",
              "    }\n",
              "</style>\n",
              "<table border=\"1\" class=\"dataframe\">\n",
              "  <thead>\n",
              "    <tr style=\"text-align: right;\">\n",
              "      <th></th>\n",
              "      <th>Unnamed: 0</th>\n",
              "      <th>Dataset</th>\n",
              "      <th>Time</th>\n",
              "      <th>Detector/Descriptor</th>\n",
              "      <th>ParameterName</th>\n",
              "      <th>Parameter</th>\n",
              "    </tr>\n",
              "  </thead>\n",
              "  <tbody>\n",
              "    <tr>\n",
              "      <th>0</th>\n",
              "      <td>0</td>\n",
              "      <td>Small Village Dataset</td>\n",
              "      <td>142.883806</td>\n",
              "      <td>FAST+SIFT</td>\n",
              "      <td>A</td>\n",
              "      <td>FAST: Threshold=70; SIFT: nfeatures = 1000, co...</td>\n",
              "    </tr>\n",
              "  </tbody>\n",
              "</table>\n",
              "</div>"
            ],
            "text/plain": [
              "   Unnamed: 0  ...                                          Parameter\n",
              "0           0  ...  FAST: Threshold=70; SIFT: nfeatures = 1000, co...\n",
              "\n",
              "[1 rows x 6 columns]"
            ]
          },
          "metadata": {},
          "execution_count": 50
        }
      ]
    },
    {
      "cell_type": "code",
      "metadata": {
        "id": "xxuPjHrdOrh_"
      },
      "source": [
        "FAST1=df2.loc[(df2['Detector/Descriptor'] == \"FAST+SIFT\")]"
      ],
      "execution_count": 51,
      "outputs": []
    },
    {
      "cell_type": "code",
      "metadata": {
        "id": "sdQot5G0Oq_T"
      },
      "source": [
        "FAST1['Parameter'] = \"FAST: Threshold=70; SIFT: nfeatures = 500, contrastThreshold=0.02, edgeThreshold=4\" "
      ],
      "execution_count": null,
      "outputs": []
    },
    {
      "cell_type": "code",
      "metadata": {
        "colab": {
          "base_uri": "https://localhost:8080/",
          "height": 80
        },
        "id": "bvpCPPizOq1F",
        "outputId": "b0f4d8f5-0fa3-40f5-854b-fc116ab41c91"
      },
      "source": [
        "FAST1"
      ],
      "execution_count": 53,
      "outputs": [
        {
          "output_type": "execute_result",
          "data": {
            "text/html": [
              "<div>\n",
              "<style scoped>\n",
              "    .dataframe tbody tr th:only-of-type {\n",
              "        vertical-align: middle;\n",
              "    }\n",
              "\n",
              "    .dataframe tbody tr th {\n",
              "        vertical-align: top;\n",
              "    }\n",
              "\n",
              "    .dataframe thead th {\n",
              "        text-align: right;\n",
              "    }\n",
              "</style>\n",
              "<table border=\"1\" class=\"dataframe\">\n",
              "  <thead>\n",
              "    <tr style=\"text-align: right;\">\n",
              "      <th></th>\n",
              "      <th>Unnamed: 0</th>\n",
              "      <th>Dataset</th>\n",
              "      <th>Time</th>\n",
              "      <th>Detector/Descriptor</th>\n",
              "      <th>ParameterName</th>\n",
              "      <th>Parameter</th>\n",
              "    </tr>\n",
              "  </thead>\n",
              "  <tbody>\n",
              "    <tr>\n",
              "      <th>0</th>\n",
              "      <td>0</td>\n",
              "      <td>Small Village Dataset</td>\n",
              "      <td>596.490623</td>\n",
              "      <td>FAST+SIFT</td>\n",
              "      <td>B</td>\n",
              "      <td>FAST: Threshold=70; SIFT: nfeatures = 500, con...</td>\n",
              "    </tr>\n",
              "  </tbody>\n",
              "</table>\n",
              "</div>"
            ],
            "text/plain": [
              "   Unnamed: 0  ...                                          Parameter\n",
              "0           0  ...  FAST: Threshold=70; SIFT: nfeatures = 500, con...\n",
              "\n",
              "[1 rows x 6 columns]"
            ]
          },
          "metadata": {},
          "execution_count": 53
        }
      ]
    },
    {
      "cell_type": "code",
      "metadata": {
        "id": "SmMDq0JPOS9j"
      },
      "source": [
        "ALL_FAST=pd.concat([FAST, FAST1])"
      ],
      "execution_count": 54,
      "outputs": []
    },
    {
      "cell_type": "code",
      "metadata": {
        "colab": {
          "base_uri": "https://localhost:8080/",
          "height": 111
        },
        "id": "lhwnCS-POS13",
        "outputId": "67179f17-36f5-4a57-b38a-131e5e93db62"
      },
      "source": [
        "ALL_FAST"
      ],
      "execution_count": 55,
      "outputs": [
        {
          "output_type": "execute_result",
          "data": {
            "text/html": [
              "<div>\n",
              "<style scoped>\n",
              "    .dataframe tbody tr th:only-of-type {\n",
              "        vertical-align: middle;\n",
              "    }\n",
              "\n",
              "    .dataframe tbody tr th {\n",
              "        vertical-align: top;\n",
              "    }\n",
              "\n",
              "    .dataframe thead th {\n",
              "        text-align: right;\n",
              "    }\n",
              "</style>\n",
              "<table border=\"1\" class=\"dataframe\">\n",
              "  <thead>\n",
              "    <tr style=\"text-align: right;\">\n",
              "      <th></th>\n",
              "      <th>Unnamed: 0</th>\n",
              "      <th>Dataset</th>\n",
              "      <th>Time</th>\n",
              "      <th>Detector/Descriptor</th>\n",
              "      <th>ParameterName</th>\n",
              "      <th>Parameter</th>\n",
              "    </tr>\n",
              "  </thead>\n",
              "  <tbody>\n",
              "    <tr>\n",
              "      <th>0</th>\n",
              "      <td>0</td>\n",
              "      <td>Small Village Dataset</td>\n",
              "      <td>142.883806</td>\n",
              "      <td>FAST+SIFT</td>\n",
              "      <td>A</td>\n",
              "      <td>FAST: Threshold=70; SIFT: nfeatures = 1000, co...</td>\n",
              "    </tr>\n",
              "    <tr>\n",
              "      <th>0</th>\n",
              "      <td>0</td>\n",
              "      <td>Small Village Dataset</td>\n",
              "      <td>596.490623</td>\n",
              "      <td>FAST+SIFT</td>\n",
              "      <td>B</td>\n",
              "      <td>FAST: Threshold=70; SIFT: nfeatures = 500, con...</td>\n",
              "    </tr>\n",
              "  </tbody>\n",
              "</table>\n",
              "</div>"
            ],
            "text/plain": [
              "   Unnamed: 0  ...                                          Parameter\n",
              "0           0  ...  FAST: Threshold=70; SIFT: nfeatures = 1000, co...\n",
              "0           0  ...  FAST: Threshold=70; SIFT: nfeatures = 500, con...\n",
              "\n",
              "[2 rows x 6 columns]"
            ]
          },
          "metadata": {},
          "execution_count": 55
        }
      ]
    },
    {
      "cell_type": "code",
      "metadata": {
        "colab": {
          "base_uri": "https://localhost:8080/",
          "height": 616
        },
        "id": "IZD57JbYOSkA",
        "outputId": "e4a3c0ae-2cfa-4c84-a7d9-e7508680dba4"
      },
      "source": [
        " import seaborn as sns\n",
        "sns.set_theme(style='whitegrid')\n",
        "\n",
        "\n",
        "g = sns.catplot(\n",
        "    data=ALL_FAST, kind=\"bar\",\n",
        "    x=\"ParameterName\", y=\"Time\", hue=\"Parameter\" ,\n",
        "    ci=\"sd\", palette=\"Spectral\", alpha=.9, height=8, aspect=0.9\n",
        ")\n",
        "g.despine(left=True)\n",
        "g.set_axis_labels(\"Parameter Combinations \", \"Time Taken for Consecutive/Overlapping Images\")\n",
        "g.legend.set_title(\"Parameter Combinations\")\n",
        "g.fig.suptitle(\"Time Taken for FAST+SIFT for different parameter combinations\")"
      ],
      "execution_count": 56,
      "outputs": [
        {
          "output_type": "execute_result",
          "data": {
            "text/plain": [
              "Text(0.5, 0.98, 'Time Taken for FAST+SIFT for different parameter combinations')"
            ]
          },
          "metadata": {},
          "execution_count": 56
        },
        {
          "output_type": "display_data",
          "data": {
            "image/png": "[encoded data removed]",
            "text/plain": [
              "<Figure size 1048x576 with 1 Axes>"
            ]
          },
          "metadata": {}
        }
      ]
    },
    {
      "cell_type": "code",
      "metadata": {
        "id": "a3Vod4FlQAX8"
      },
      "source": [
        ""
      ],
      "execution_count": null,
      "outputs": []
    }
  ]
}
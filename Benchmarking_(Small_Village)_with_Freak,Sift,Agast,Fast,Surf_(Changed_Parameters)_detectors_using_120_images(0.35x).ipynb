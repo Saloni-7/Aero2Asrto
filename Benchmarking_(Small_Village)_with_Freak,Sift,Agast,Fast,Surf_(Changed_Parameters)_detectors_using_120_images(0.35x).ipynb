{
  "nbformat": 4,
  "nbformat_minor": 0,
  "metadata": {
    "colab": {
      "name": "Benchmarking_(Small_Village)_with_Freak,Sift,Agast,Fast,Surf_(Changed Parameters)_detectors_using_120_images(0.35x).ipynb",
      "provenance": [],
      "collapsed_sections": []
    },
    "kernelspec": {
      "name": "python3",
      "display_name": "Python 3"
    },
    "language_info": {
      "name": "python"
    }
  },
  "cells": [
    {
      "cell_type": "code",
      "metadata": {
        "id": "aa8bfJcWCWFb"
      },
      "source": [
        "import numpy as np\n",
        "import cv2\n",
        "import scipy.io\n",
        "import os\n",
        "from numpy.linalg import norm\n",
        "from matplotlib import pyplot as plt\n",
        "from numpy.linalg import det\n",
        "from numpy.linalg import inv\n",
        "from scipy.linalg import rq\n",
        "from numpy.linalg import svd\n",
        "import matplotlib.pyplot as plt\n",
        "import numpy as np\n",
        "import math\n",
        "import random\n",
        "import sys\n",
        "from scipy import ndimage, spatial\n",
        "from tqdm.notebook import tqdm, trange\n",
        "\n",
        "import torch\n",
        "import torch.nn as nn\n",
        "import torch.optim as optim\n",
        "from torch.optim import lr_scheduler\n",
        "from torch.autograd import Variable\n",
        "import torchvision\n",
        "from torchvision import datasets, models, transforms\n",
        "from torch.utils.data import Dataset, DataLoader, ConcatDataset\n",
        "from skimage import io, transform,data\n",
        "from torchvision import transforms, utils\n",
        "import numpy as np\n",
        "import math\n",
        "import glob\n",
        "import matplotlib.pyplot as plt\n",
        "import time\n",
        "import os\n",
        "import copy\n",
        "import sklearn.svm\n",
        "import cv2\n",
        "from matplotlib import pyplot as plt\n",
        "import numpy as np\n",
        "from os.path import exists\n",
        "import pandas as pd\n",
        "import PIL\n",
        "import random\n",
        "from google.colab import drive\n",
        "from sklearn.metrics.cluster import completeness_score\n",
        "from sklearn.cluster import KMeans\n",
        "from tqdm import tqdm, tqdm_notebook\n",
        "from functools import partial\n",
        "from torchsummary import summary\n",
        "from torchvision.datasets import ImageFolder\n",
        "from torch.utils.data.sampler import SubsetRandomSampler\n",
        "import h5py as h5\n",
        "\n",
        "#cuda_output = !ldconfig -p|grep cudart.so|sed -e 's/.*\\.\\([0-9]*\\)\\.\\([0-9]*\\)$/cu\\1\\2/'\n",
        "#accelerator = cuda_output[0] if exists('/dev/nvidia0') else 'cpu'\n",
        "\n",
        "#print(\"Accelerator type = \",accelerator)\n",
        "#print(\"Pytorch verision: \", torch.__version__)"
      ],
      "execution_count": 1,
      "outputs": []
    },
    {
      "cell_type": "code",
      "metadata": {
        "colab": {
          "base_uri": "https://localhost:8080/"
        },
        "id": "rL9rcKHAChcb",
        "outputId": "5c0912ca-4e2d-4595-d8c2-59f390896567"
      },
      "source": [
        "from google.colab import drive\n",
        "\n",
        "# This will prompt for authorization.\n",
        "drive.mount('/content/drive')"
      ],
      "execution_count": 2,
      "outputs": [
        {
          "output_type": "stream",
          "text": [
            "Drive already mounted at /content/drive; to attempt to forcibly remount, call drive.mount(\"/content/drive\", force_remount=True).\n"
          ],
          "name": "stdout"
        }
      ]
    },
    {
      "cell_type": "code",
      "metadata": {
        "id": "KdSkrM1pGGNf"
      },
      "source": [
        "#!pip install ipython-autotime\n",
        "\n",
        "#%load_ext autotime"
      ],
      "execution_count": null,
      "outputs": []
    },
    {
      "cell_type": "code",
      "metadata": {
        "colab": {
          "base_uri": "https://localhost:8080/"
        },
        "id": "-VFwhM5HChUt",
        "outputId": "7c8b2ea4-2ecf-47e2-8747-287affc9d9b9"
      },
      "source": [
        "!pip install opencv-python==3.4.2.17\n",
        "!pip install opencv-contrib-python==3.4.2.17"
      ],
      "execution_count": 3,
      "outputs": [
        {
          "output_type": "stream",
          "text": [
            "Requirement already satisfied: opencv-python==3.4.2.17 in /usr/local/lib/python3.7/dist-packages (3.4.2.17)\n",
            "Requirement already satisfied: numpy>=1.14.5 in /usr/local/lib/python3.7/dist-packages (from opencv-python==3.4.2.17) (1.19.5)\n",
            "Requirement already satisfied: opencv-contrib-python==3.4.2.17 in /usr/local/lib/python3.7/dist-packages (3.4.2.17)\n",
            "Requirement already satisfied: numpy>=1.14.5 in /usr/local/lib/python3.7/dist-packages (from opencv-contrib-python==3.4.2.17) (1.19.5)\n"
          ],
          "name": "stdout"
        }
      ]
    },
    {
      "cell_type": "code",
      "metadata": {
        "id": "hl3jpVdOChL1"
      },
      "source": [
        "class Image:\n",
        "    def __init__(self, img, position):\n",
        "        \n",
        "        self.img = img\n",
        "        self.position = position\n",
        "\n",
        "inlier_matchset = []\n",
        "def features_matching(a,keypointlength,threshold):\n",
        "  #threshold=0.2\n",
        "  bestmatch=np.empty((keypointlength),dtype= np.int16)\n",
        "  img1index=np.empty((keypointlength),dtype=np.int16)\n",
        "  distance=np.empty((keypointlength))\n",
        "  index=0\n",
        "  for j in range(0,keypointlength):\n",
        "    #For a descriptor fa in Ia, take the two closest descriptors fb1 and fb2 in Ib\n",
        "    x=a[j]\n",
        "    listx=x.tolist()\n",
        "    x.sort()\n",
        "    minval1=x[0]                                # min \n",
        "    minval2=x[1]                                # 2nd min\n",
        "    itemindex1 = listx.index(minval1)           #index of min val    \n",
        "    itemindex2 = listx.index(minval2)           #index of second min value \n",
        "    ratio=minval1/minval2                       #Ratio Test\n",
        "    \n",
        "    if ratio<threshold: \n",
        "      #Low distance ratio: fb1 can be a good match\n",
        "      bestmatch[index]=itemindex1\n",
        "      distance[index]=minval1\n",
        "      img1index[index]=j\n",
        "      index=index+1\n",
        "  return  [cv2.DMatch(img1index[i],bestmatch[i].astype(int),distance[i]) for i in range(0,index)]\n",
        "          \n",
        "   \n",
        "  \n",
        "def compute_Homography(im1_pts,im2_pts):\n",
        "  \"\"\"\n",
        "  im1_pts and im2_pts are 2×n matrices with\n",
        "  4 point correspondences from the two images\n",
        "  \"\"\"\n",
        "  num_matches=len(im1_pts)\n",
        "  num_rows = 2 * num_matches\n",
        "  num_cols = 9\n",
        "  A_matrix_shape = (num_rows,num_cols)\n",
        "  A = np.zeros(A_matrix_shape)\n",
        "  a_index = 0\n",
        "  for i in range(0,num_matches):\n",
        "    (a_x, a_y) = im1_pts[i]\n",
        "    (b_x, b_y) = im2_pts[i]\n",
        "    row1 = [a_x, a_y, 1, 0, 0, 0, -b_x*a_x, -b_x*a_y, -b_x] # First row \n",
        "    row2 = [0, 0, 0, a_x, a_y, 1, -b_y*a_x, -b_y*a_y, -b_y] # Second row \n",
        "\n",
        "    # place the rows in the matrix\n",
        "    A[a_index] = row1\n",
        "    A[a_index+1] = row2\n",
        "\n",
        "    a_index += 2\n",
        "    \n",
        "  U, s, Vt = np.linalg.svd(A)\n",
        "\n",
        "  #s is a 1-D array of singular values sorted in descending order\n",
        "  #U, Vt are unitary matrices\n",
        "  #Rows of Vt are the eigenvectors of A^TA.\n",
        "  #Columns of U are the eigenvectors of AA^T.\n",
        "  H = np.eye(3)\n",
        "  H = Vt[-1].reshape(3,3) # take the last row of the Vt matrix\n",
        "  return H\n",
        "  \n",
        "  \n",
        "def displayplot(img,title):\n",
        "  \n",
        "  plt.figure(figsize=(15,15))\n",
        "  plt.title(title)\n",
        "  plt.imshow(cv2.cvtColor(img, cv2.COLOR_BGR2RGB))\n",
        "  plt.show()"
      ],
      "execution_count": 4,
      "outputs": []
    },
    {
      "cell_type": "code",
      "metadata": {
        "id": "rJz6bnF_CgaL"
      },
      "source": [
        "def get_inliers(f1, f2, matches, H, RANSACthresh):\n",
        "\n",
        "  inlier_indices = []\n",
        "  for i in range(len(matches)):\n",
        "    queryInd = matches[i].queryIdx\n",
        "    trainInd = matches[i].trainIdx\n",
        "\n",
        "    #queryInd = matches[i][0]\n",
        "    #trainInd = matches[i][1]\n",
        "\n",
        "    queryPoint = np.array([f1[queryInd].pt[0],  f1[queryInd].pt[1], 1]).T \n",
        "    trans_query = H.dot(queryPoint) \n",
        "\n",
        "   \n",
        "    comp1 = [trans_query[0]/trans_query[2], trans_query[1]/trans_query[2]] # normalize with respect to z\n",
        "    comp2 = np.array(f2[trainInd].pt)[:2]\n",
        "    \n",
        "\n",
        "    if(np.linalg.norm(comp1-comp2) <= RANSACthresh): # check against threshold\n",
        "      inlier_indices.append(i)\n",
        "  return inlier_indices\n",
        "\n",
        "\n",
        "def RANSAC_alg(f1, f2, matches, nRANSAC, RANSACthresh):\n",
        "\n",
        "      \n",
        "    minMatches = 4\n",
        "    nBest = 0\n",
        "    best_inliers = []\n",
        "    H_estimate = np.eye(3,3)\n",
        "    global inlier_matchset\n",
        "    inlier_matchset=[]\n",
        "    for iteration in range(nRANSAC):\n",
        "      \n",
        "        #Choose a minimal set of feature matches.\n",
        "        matchSample = random.sample(matches, minMatches)\n",
        "        \n",
        "        #Estimate the Homography implied by these matches\n",
        "        im1_pts=np.empty((minMatches,2))\n",
        "        im2_pts=np.empty((minMatches,2))\n",
        "        for i in range(0,minMatches):\n",
        "          m = matchSample[i]\n",
        "          im1_pts[i] = f1[m.queryIdx].pt\n",
        "          im2_pts[i] = f2[m.trainIdx].pt\n",
        "          #im1_pts[i] = f1[m[0]].pt\n",
        "          #im2_pts[i] = f2[m[1]].pt             \n",
        "          \n",
        "        H_estimate=compute_Homography(im1_pts,im2_pts)\n",
        "        \n",
        "               \n",
        "        # Calculate the inliers for the H\n",
        "        inliers = get_inliers(f1, f2, matches, H_estimate, RANSACthresh)\n",
        "\n",
        "        # if the number of inliers is higher than previous iterations, update the best estimates\n",
        "        if len(inliers) > nBest:\n",
        "            nBest= len(inliers)\n",
        "            best_inliers = inliers\n",
        "\n",
        "    print(\"Number of best inliers\",len(best_inliers))\n",
        "    for i in range(len(best_inliers)):\n",
        "      inlier_matchset.append(matches[best_inliers[i]])\n",
        "    \n",
        "    # compute a homography given this set of matches\n",
        "    im1_pts=np.empty((len(best_inliers),2))\n",
        "    im2_pts=np.empty((len(best_inliers),2))\n",
        "    for i in range(0,len(best_inliers)):\n",
        "      m = inlier_matchset[i]\n",
        "      im1_pts[i] = f1[m.queryIdx].pt\n",
        "      im2_pts[i] = f2[m.trainIdx].pt\n",
        "      #im1_pts[i] = f1[m[0]].pt\n",
        "      #im2_pts[i] = f2[m[1]].pt\n",
        "\n",
        "    M=compute_Homography(im1_pts,im2_pts)\n",
        "    return M, best_inliers"
      ],
      "execution_count": 5,
      "outputs": []
    },
    {
      "cell_type": "code",
      "metadata": {
        "id": "RV-a3Gc2CgHC"
      },
      "source": [
        "tqdm = partial(tqdm, position=0, leave=True)"
      ],
      "execution_count": 6,
      "outputs": []
    },
    {
      "cell_type": "code",
      "metadata": {
        "id": "43ZzIO2rDcxW"
      },
      "source": [
        "files_all=[]\n",
        "for file in os.listdir(\"/content/drive/MyDrive/geotagged-images\"):\n",
        "    if file.endswith(\".JPG\"):\n",
        "      files_all.append(file)\n",
        "\n",
        "\n",
        "files_all.sort()\n",
        "folder_path = '/content/drive/MyDrive/geotagged-images/'\n",
        "\n",
        "#centre_file = folder_path + files_all[50]\n",
        "left_files_path_rev = []\n",
        "right_files_path = []\n",
        "\n",
        "\n",
        "#Change this according to your dataset split\n",
        "\n",
        "for file in files_all[:61]:\n",
        "  left_files_path_rev.append(folder_path + file)\n",
        "\n",
        "left_files_path = left_files_path_rev[::-1]\n",
        "\n",
        "for file in files_all[60:120]:\n",
        "  right_files_path.append(folder_path + file)"
      ],
      "execution_count": 7,
      "outputs": []
    },
    {
      "cell_type": "code",
      "metadata": {
        "colab": {
          "base_uri": "https://localhost:8080/"
        },
        "id": "lqngRpI6UabS",
        "outputId": "21c525d5-62c7-4fb3-fb35-c0f089390831"
      },
      "source": [
        "print(len(files_all))"
      ],
      "execution_count": 8,
      "outputs": [
        {
          "output_type": "stream",
          "text": [
            "297\n"
          ],
          "name": "stdout"
        }
      ]
    },
    {
      "cell_type": "code",
      "metadata": {
        "id": "ERrE4NuoDcqr"
      },
      "source": [
        "from multiprocessing import Pool"
      ],
      "execution_count": 9,
      "outputs": []
    },
    {
      "cell_type": "code",
      "metadata": {
        "colab": {
          "base_uri": "https://localhost:8080/"
        },
        "id": "cJYWbq9HDcaS",
        "outputId": "e80435c6-6e75-487f-c55f-033b78ca3341"
      },
      "source": [
        "import multiprocessing\n",
        "print(multiprocessing.cpu_count())\n"
      ],
      "execution_count": 10,
      "outputs": [
        {
          "output_type": "stream",
          "text": [
            "2\n"
          ],
          "name": "stdout"
        }
      ]
    },
    {
      "cell_type": "code",
      "metadata": {
        "colab": {
          "base_uri": "https://localhost:8080/"
        },
        "id": "SiG8CVOtHaP-",
        "outputId": "915a0425-699b-4c58-9c8e-09e892a03ac9"
      },
      "source": [
        "gridsize = 8\n",
        "clahe = cv2.createCLAHE(clipLimit=2.0,tileGridSize=(gridsize,gridsize))\n",
        "\n",
        "images_left_bgr = []\n",
        "images_right_bgr = []\n",
        "\n",
        "images_left = []\n",
        "images_right = []\n",
        "\n",
        "for file in tqdm(left_files_path):\n",
        "  left_image_sat= cv2.imread(file)\n",
        "  lab = cv2.cvtColor(left_image_sat, cv2.COLOR_BGR2LAB)\n",
        "  lab[...,0] = clahe.apply(lab[...,0])\n",
        "  left_image_sat = cv2.cvtColor(lab, cv2.COLOR_LAB2BGR)\n",
        "  left_img = cv2.resize(left_image_sat,None,fx=0.35, fy=0.35, interpolation = cv2.INTER_CUBIC )\n",
        "  images_left.append(cv2.cvtColor(left_img, cv2.COLOR_BGR2GRAY).astype('float32')/255.)\n",
        "  images_left_bgr.append(left_img)\n",
        "\n",
        "\n",
        "for file in tqdm(right_files_path):\n",
        "  right_image_sat= cv2.imread(file)\n",
        "  lab = cv2.cvtColor(right_image_sat, cv2.COLOR_BGR2LAB)\n",
        "  lab[...,0] = clahe.apply(lab[...,0])\n",
        "  right_image_sat = cv2.cvtColor(lab, cv2.COLOR_LAB2BGR)\n",
        "  right_img = cv2.resize(right_image_sat,None,fx=0.35,fy=0.35, interpolation = cv2.INTER_CUBIC )\n",
        "  images_right.append(cv2.cvtColor(right_img, cv2.COLOR_BGR2GRAY).astype('float32')/255.)\n",
        "  images_right_bgr.append(right_img)"
      ],
      "execution_count": 11,
      "outputs": [
        {
          "output_type": "stream",
          "text": [
            "100%|██████████| 61/61 [02:34<00:00,  2.54s/it]\n",
            "100%|██████████| 60/60 [02:18<00:00,  2.31s/it]\n"
          ],
          "name": "stderr"
        }
      ]
    },
    {
      "cell_type": "code",
      "metadata": {
        "id": "QZZ5LCMiUjBR"
      },
      "source": [
        "Dataset = 'Small Village Dataset'"
      ],
      "execution_count": 12,
      "outputs": []
    },
    {
      "cell_type": "code",
      "metadata": {
        "colab": {
          "base_uri": "https://localhost:8080/"
        },
        "id": "DcRM1Hn0HaKt",
        "outputId": "14b81dff-1c96-4444-9728-c49bf3ba558c"
      },
      "source": [
        "f=h5.File(f'drive/MyDrive/all_images_bgr_{Dataset}.h5','w')\n",
        "t0=time.time()\n",
        "f.create_dataset('data',data=images_left_bgr + images_right_bgr)\n",
        "f.close()\n",
        "print('HDF5  w/o comp.:',time.time()-t0,'[s] ... size',os.path.getsize(f'drive/MyDrive/all_images_bgr_{Dataset}.h5')/1.e6,'MB')"
      ],
      "execution_count": 13,
      "outputs": [
        {
          "output_type": "stream",
          "text": [
            "HDF5  w/o comp.: 3.3968958854675293 [s] ... size 708.480038 MB\n"
          ],
          "name": "stdout"
        }
      ]
    },
    {
      "cell_type": "code",
      "metadata": {
        "id": "k7daORhhPUlY"
      },
      "source": [
        "'''f=h5.File(f'drive/MyDrive/all_images_gray_{Dataset}.h5','w')\n",
        "t0=time.time()\n",
        "f.create_dataset('data',data=images_left + images_right)\n",
        "f.close()\n",
        "print('HDF5  w/o comp.:',time.time()-t0,'[s] ... size',os.path.getsize(f'drive/MyDrive/all_images_gray_{Dataset}.h5')/1.e6,'MB')"
      ],
      "execution_count": null,
      "outputs": []
    },
    {
      "cell_type": "code",
      "metadata": {
        "id": "WuMrRmX4PUe1"
      },
      "source": [
        "del images_left_bgr,images_right_bgr"
      ],
      "execution_count": 14,
      "outputs": []
    },
    {
      "cell_type": "code",
      "metadata": {
        "id": "Vu0CPw_HPUXk"
      },
      "source": [
        "#images_left_bgr_no_enhance = []\n",
        "#images_right_bgr_no_enhance = []\n",
        "\n",
        "#for file in tqdm(left_files_path):\n",
        "#  left_image_sat= cv2.imread(file)\n",
        "#  left_img = cv2.resize(left_image_sat,None,fx=0.35, fy=0.35, interpolation = cv2.INTER_CUBIC)\n",
        "#  images_left_bgr_no_enhance.append(left_img)\n",
        "\n",
        "#for file in tqdm(right_files_path):\n",
        "# right_image_sat= cv2.imread(file)\n",
        "#  right_img = cv2.resize(right_image_sat,None,fx=0.35,fy=0.35, interpolation = cv2.INTER_CUBIC)\n",
        "#  images_right_bgr_no_enhance.append(right_img)"
      ],
      "execution_count": null,
      "outputs": []
    },
    {
      "cell_type": "code",
      "metadata": {
        "id": "Pw1048ZtPUPW"
      },
      "source": [
        "from timeit import default_timer as timer"
      ],
      "execution_count": 15,
      "outputs": []
    },
    {
      "cell_type": "code",
      "metadata": {
        "id": "nEz_15CQRVZ4"
      },
      "source": [
        "time_all = []"
      ],
      "execution_count": 16,
      "outputs": []
    },
    {
      "cell_type": "code",
      "metadata": {
        "id": "Q6qDnTfWRnoy"
      },
      "source": [
        "num_kps_sift = []\n",
        "num_kps_brisk = []\n",
        "num_kps_agast = []\n",
        "num_kps_kaze = []\n",
        "num_kps_akaze = []\n",
        "num_kps_orb = []\n",
        "num_kps_mser = []\n",
        "num_kps_daisy = []\n",
        "num_kps_surfsift = []\n",
        "num_kps_fast = []\n",
        "num_kps_freak = []\n",
        "num_kps_gftt = []\n",
        "num_kps_star = []\n",
        "num_kps_surf = []\n",
        "num_kps_rootsift = []\n",
        "num_kps_superpoint = []\n"
      ],
      "execution_count": 17,
      "outputs": []
    },
    {
      "cell_type": "code",
      "metadata": {
        "id": "Dwjsqlwr71YH"
      },
      "source": [
        "images_left_bgr=[]\n",
        "images_right_bgr=[]"
      ],
      "execution_count": 18,
      "outputs": []
    },
    {
      "cell_type": "markdown",
      "metadata": {
        "id": "0XzUMd-6AvOu"
      },
      "source": [
        "BRISK"
      ]
    },
    {
      "cell_type": "code",
      "metadata": {
        "colab": {
          "base_uri": "https://localhost:8080/"
        },
        "id": "vEgZRVa2AtnF",
        "outputId": "8b9392c5-afe9-471d-ba76-26c041ed316b"
      },
      "source": [
        "'''\n",
        "Threshl=60;\n",
        "Octaves=6; \n",
        "#PatternScales=1.0f;\n",
        "\n",
        "start = timer()\n",
        "\n",
        "brisk = cv2.BRISK_create(Threshl,Octaves)\n",
        "\n",
        "\n",
        "keypoints_all_left_brisk = []\n",
        "descriptors_all_left_brisk = []\n",
        "points_all_left_brisk=[]\n",
        "\n",
        "keypoints_all_right_brisk = []\n",
        "descriptors_all_right_brisk = []\n",
        "points_all_right_brisk=[]\n",
        "\n",
        "for cnt in tqdm(range(len(left_files_path))):\n",
        "  f=h5.File(f'drive/MyDrive/all_images_bgr_{Dataset}.h5','r')\n",
        "  imgs = f['data'][cnt]\n",
        "  f.close()  \n",
        "  kpt = brisk.detect(imgs,None)\n",
        "  kpt,descrip =  brisk.compute(imgs, kpt)\n",
        "  keypoints_all_left_brisk.append(kpt)\n",
        "  descriptors_all_left_brisk.append(descrip)\n",
        "  #points_all_left_brisk.append(np.asarray([[p.pt[0], p.pt[1]] for p in kpt]))\n",
        "\n",
        "for cnt in tqdm(range(len(right_files_path))):\n",
        "  f=h5.File(f'drive/MyDrive/all_images_bgr_{Dataset}.h5','r')\n",
        "  imgs = f['data'][cnt+len(left_files_path)]\n",
        "  f.close()  \n",
        "  kpt = brisk.detect(imgs,None)\n",
        "  kpt,descrip =  brisk.compute(imgs, kpt)\n",
        "  keypoints_all_right_brisk.append(kpt)\n",
        "  descriptors_all_right_brisk.append(descrip)\n",
        "  #points_all_right_brisk.append(np.asarray([[p.pt[0], p.pt[1]] for p in kpt]))\n",
        "\n",
        "end = timer()\n",
        "\n",
        "time_all.append(end-start)"
      ],
      "execution_count": null,
      "outputs": [
        {
          "output_type": "stream",
          "text": [
            "100%|██████████| 61/61 [00:37<00:00,  1.61it/s]\n",
            "100%|██████████| 60/60 [00:33<00:00,  1.80it/s]\n"
          ],
          "name": "stderr"
        }
      ]
    },
    {
      "cell_type": "code",
      "metadata": {
        "colab": {
          "base_uri": "https://localhost:8080/"
        },
        "id": "t-kBwl3FAtc2",
        "outputId": "515b9c86-8eaf-4a00-b179-e9050278b993"
      },
      "source": [
        "'''for j in tqdm(keypoints_all_left_brisk + keypoints_all_right_brisk[1:]):\n",
        "  num_kps_brisk.append(len(j))"
      ],
      "execution_count": null,
      "outputs": [
        {
          "output_type": "stream",
          "text": [
            "100%|██████████| 120/120 [00:00<00:00, 378149.12it/s]\n"
          ],
          "name": "stderr"
        }
      ]
    },
    {
      "cell_type": "code",
      "metadata": {
        "id": "toJp9ANJA1B7"
      },
      "source": [
        "'''all_feat_brisk_left = []\n",
        "for cnt,kpt_all in enumerate(keypoints_all_left_brisk):\n",
        "  all_feat_brisk_left_each = []\n",
        "  for cnt_each, kpt in enumerate(kpt_all):\n",
        "    desc = descriptors_all_left_brisk[cnt][cnt_each]\n",
        "    temp = (kpt.pt, kpt.size, kpt.angle, kpt.response, kpt.octave, \n",
        "        kpt.class_id, desc)\n",
        "    all_feat_brisk_left_each.append(temp)\n",
        "  all_feat_brisk_left.append(all_feat_brisk_left_each)"
      ],
      "execution_count": null,
      "outputs": []
    },
    {
      "cell_type": "code",
      "metadata": {
        "id": "wCJoIhp3A0-_"
      },
      "source": [
        "'''all_feat_brisk_right = []\n",
        "for cnt,kpt_all in enumerate(keypoints_all_right_brisk):\n",
        "  all_feat_brisk_right_each = []\n",
        "  for cnt_each, kpt in enumerate(kpt_all):\n",
        "    desc = descriptors_all_right_brisk[cnt][cnt_each]\n",
        "    temp = (kpt.pt, kpt.size, kpt.angle, kpt.response, kpt.octave, \n",
        "        kpt.class_id, desc)\n",
        "    all_feat_brisk_right_each.append(temp)\n",
        "  all_feat_brisk_right.append(all_feat_brisk_right_each)"
      ],
      "execution_count": null,
      "outputs": []
    },
    {
      "cell_type": "code",
      "metadata": {
        "id": "W50kDEIyA07K"
      },
      "source": [
        "'''del keypoints_all_left_brisk, keypoints_all_right_brisk, descriptors_all_left_brisk, descriptors_all_right_brisk"
      ],
      "execution_count": null,
      "outputs": []
    },
    {
      "cell_type": "code",
      "metadata": {
        "id": "K9phujFrA04X"
      },
      "source": [
        "'''import pickle\n",
        "Fdb = open('all_feat_brisk_left.dat', 'wb')\n",
        "pickle.dump(all_feat_brisk_left,Fdb,-1)\n",
        "Fdb.close()"
      ],
      "execution_count": null,
      "outputs": []
    },
    {
      "cell_type": "code",
      "metadata": {
        "id": "VzyVXsHwA00p"
      },
      "source": [
        "'''import pickle\n",
        "Fdb = open('all_feat_brisk_right.dat', 'wb')\n",
        "pickle.dump(all_feat_brisk_right,Fdb,-1)\n",
        "Fdb.close()"
      ],
      "execution_count": null,
      "outputs": []
    },
    {
      "cell_type": "code",
      "metadata": {
        "id": "xULi5lVwA0vZ"
      },
      "source": [
        "'''del Fdb, all_feat_brisk_left, all_feat_brisk_right"
      ],
      "execution_count": null,
      "outputs": []
    },
    {
      "cell_type": "markdown",
      "metadata": {
        "id": "JYC1agZ6BBZo"
      },
      "source": [
        "ORB"
      ]
    },
    {
      "cell_type": "code",
      "metadata": {
        "id": "TQ4R8QrDA_Zr",
        "colab": {
          "base_uri": "https://localhost:8080/"
        },
        "outputId": "12fc2df0-8845-4d8f-9abe-01c451aa0d27"
      },
      "source": [
        "'''orb = cv2.ORB_create(20000)\n",
        "\n",
        "start = timer()\n",
        "\n",
        "\n",
        "keypoints_all_left_orb = []\n",
        "descriptors_all_left_orb = []\n",
        "points_all_left_orb=[]\n",
        "\n",
        "keypoints_all_right_orb = []\n",
        "descriptors_all_right_orb = []\n",
        "points_all_right_orb=[]\n",
        "\n",
        "for cnt in tqdm(range(len(left_files_path))):\n",
        "  f=h5.File(f'drive/MyDrive/all_images_bgr_{Dataset}.h5','r')\n",
        "  imgs = f['data'][cnt]\n",
        "  f.close()    \n",
        "  kpt = orb.detect(imgs,None)\n",
        "  kpt,descrip =  orb.compute(imgs, kpt)\n",
        "  keypoints_all_left_orb.append(kpt)\n",
        "  descriptors_all_left_orb.append(descrip)\n",
        "  #points_all_left_orb.append(np.asarray([[p.pt[0], p.pt[1]] for p in kpt]))\n",
        "\n",
        "for cnt in tqdm(range(len(right_files_path))):\n",
        "  f=h5.File(f'drive/MyDrive/all_images_bgr_{Dataset}.h5','r')\n",
        "  imgs = f['data'][cnt+len(left_files_path)]\n",
        "  f.close()  \n",
        "  kpt = orb.detect(imgs,None)\n",
        "  kpt,descrip =  orb.compute(imgs, kpt)\n",
        "  keypoints_all_right_orb.append(kpt)\n",
        "  descriptors_all_right_orb.append(descrip)\n",
        "  #points_all_right_orb.append(np.asarray([[p.pt[0], p.pt[1]] for p in kpt]))\n",
        "\n",
        "end = timer()\n",
        "\n",
        "time_all.append(end-start)"
      ],
      "execution_count": null,
      "outputs": [
        {
          "output_type": "stream",
          "text": [
            "100%|██████████| 61/61 [00:14<00:00,  4.25it/s]\n",
            "100%|██████████| 60/60 [00:13<00:00,  4.48it/s]\n"
          ],
          "name": "stderr"
        }
      ]
    },
    {
      "cell_type": "code",
      "metadata": {
        "id": "6a6mfgoZA_To",
        "colab": {
          "base_uri": "https://localhost:8080/"
        },
        "outputId": "51b88459-9121-4829-fce0-9a7f2638ab4d"
      },
      "source": [
        "'''for j in tqdm(keypoints_all_left_orb + keypoints_all_right_orb[1:]):\n",
        "  num_kps_orb.append(len(j))"
      ],
      "execution_count": null,
      "outputs": [
        {
          "output_type": "stream",
          "text": [
            "100%|██████████| 120/120 [00:00<00:00, 160342.94it/s]\n"
          ],
          "name": "stderr"
        }
      ]
    },
    {
      "cell_type": "code",
      "metadata": {
        "id": "-djChAE5A_Q8"
      },
      "source": [
        "'''all_feat_orb_left = []\n",
        "for cnt,kpt_all in enumerate(keypoints_all_left_orb):\n",
        "  all_feat_orb_left_each = []\n",
        "  for cnt_each, kpt in enumerate(kpt_all):\n",
        "    desc = descriptors_all_left_orb[cnt][cnt_each]\n",
        "    temp = (kpt.pt, kpt.size, kpt.angle, kpt.response, kpt.octave, \n",
        "        kpt.class_id, desc)\n",
        "    all_feat_orb_left_each.append(temp)\n",
        "  all_feat_orb_left.append(all_feat_orb_left_each)"
      ],
      "execution_count": null,
      "outputs": []
    },
    {
      "cell_type": "code",
      "metadata": {
        "id": "SameNN1xA_NJ"
      },
      "source": [
        "'''all_feat_orb_right = []\n",
        "for cnt,kpt_all in enumerate(keypoints_all_right_orb):\n",
        "  all_feat_orb_right_each = []\n",
        "  for cnt_each, kpt in enumerate(kpt_all):\n",
        "    desc = descriptors_all_right_orb[cnt][cnt_each]\n",
        "    temp = (kpt.pt, kpt.size, kpt.angle, kpt.response, kpt.octave, \n",
        "        kpt.class_id, desc)\n",
        "    all_feat_orb_right_each.append(temp)\n",
        "  all_feat_orb_right.append(all_feat_orb_right_each)"
      ],
      "execution_count": null,
      "outputs": []
    },
    {
      "cell_type": "code",
      "metadata": {
        "id": "ZewtuV_dA_JC"
      },
      "source": [
        "'''del keypoints_all_left_orb, keypoints_all_right_orb, descriptors_all_left_orb, descriptors_all_right_orb"
      ],
      "execution_count": null,
      "outputs": []
    },
    {
      "cell_type": "code",
      "metadata": {
        "id": "GkiRp1evBLeA"
      },
      "source": [
        "'''import pickle\n",
        "Fdb = open('all_feat_orb_left.dat', 'wb')\n",
        "pickle.dump(all_feat_orb_left,Fdb,-1)\n",
        "Fdb.close()"
      ],
      "execution_count": null,
      "outputs": []
    },
    {
      "cell_type": "code",
      "metadata": {
        "id": "vaGMXXk3BLa3"
      },
      "source": [
        "'''import pickle\n",
        "Fdb = open('all_feat_orb_right.dat', 'wb')\n",
        "pickle.dump(all_feat_orb_right,Fdb,-1)\n",
        "Fdb.close()"
      ],
      "execution_count": null,
      "outputs": []
    },
    {
      "cell_type": "code",
      "metadata": {
        "id": "Q6U0t9SKBLYX"
      },
      "source": [
        "'''del Fdb, all_feat_orb_left, all_feat_orb_right"
      ],
      "execution_count": null,
      "outputs": []
    },
    {
      "cell_type": "markdown",
      "metadata": {
        "id": "mpoh-2DHWFSW"
      },
      "source": [
        "KAZE\n"
      ]
    },
    {
      "cell_type": "code",
      "metadata": {
        "colab": {
          "base_uri": "https://localhost:8080/"
        },
        "id": "kvn4HVDOvquh",
        "outputId": "cd8efd40-ada5-40ff-a654-2255decc2c32"
      },
      "source": [
        "'''start = timer()\n",
        "\n",
        "kaze = cv2.KAZE_create()\n",
        "\n",
        "\n",
        "keypoints_all_left_kaze = []\n",
        "descriptors_all_left_kaze = []\n",
        "points_all_left_kaze=[]\n",
        "\n",
        "keypoints_all_right_kaze = []\n",
        "descriptors_all_right_kaze = []\n",
        "points_all_right_kaze=[]\n",
        "\n",
        "for cnt in tqdm(range(len(left_files_path))):\n",
        "  f=h5.File(f'drive/MyDrive/all_images_bgr_{Dataset}.h5','r')\n",
        "  imgs = f['data'][cnt]\n",
        "  f.close()     \n",
        "  kpt = kaze.detect(imgs,None)\n",
        "  kpt,descrip =  kaze.compute(imgs, kpt)\n",
        "  keypoints_all_left_kaze.append(kpt)\n",
        "  descriptors_all_left_kaze.append(descrip)\n",
        "  #points_all_left_kaze.append(np.asarray([[p.pt[0], p.pt[1]] for p in kpt]))\n",
        "\n",
        "for cnt in tqdm(range(len(right_files_path))):\n",
        "  f=h5.File(f'drive/MyDrive/all_images_bgr_{Dataset}.h5','r')\n",
        "  imgs = f['data'][cnt+len(left_files_path)]\n",
        "  f.close()  \n",
        "  kpt = kaze.detect(imgs,None)\n",
        "  kpt,descrip =  kaze.compute(imgs, kpt)\n",
        "  keypoints_all_right_kaze.append(kpt)\n",
        "  descriptors_all_right_kaze.append(descrip)\n",
        "  #points_all_right_kaze.append(np.asarray([[p.pt[0], p.pt[1]] for p in kpt]))\n",
        "\n",
        "end = timer()\n",
        "\n",
        "time_all.append(end-start)"
      ],
      "execution_count": null,
      "outputs": [
        {
          "output_type": "stream",
          "text": [
            "100%|██████████| 61/61 [06:15<00:00,  6.15s/it]\n",
            "100%|██████████| 60/60 [06:16<00:00,  6.27s/it]\n"
          ],
          "name": "stderr"
        }
      ]
    },
    {
      "cell_type": "code",
      "metadata": {
        "colab": {
          "base_uri": "https://localhost:8080/"
        },
        "id": "a7j0fqIeRVPF",
        "outputId": "7f61f80b-a184-4567-d5df-20094c096e7c"
      },
      "source": [
        "'''for j in tqdm(keypoints_all_left_kaze + keypoints_all_right_kaze[1:]):\n",
        "  num_kps_kaze.append(len(j))"
      ],
      "execution_count": null,
      "outputs": [
        {
          "output_type": "stream",
          "text": [
            "100%|██████████| 120/120 [00:00<00:00, 315756.89it/s]\n"
          ],
          "name": "stderr"
        }
      ]
    },
    {
      "cell_type": "code",
      "metadata": {
        "id": "GnxCPMDvRVKW"
      },
      "source": [
        "'''all_feat_kaze_left = []\n",
        "for cnt,kpt_all in enumerate(keypoints_all_left_kaze):\n",
        "  all_feat_kaze_left_each = []\n",
        "  for cnt_each, kpt in enumerate(kpt_all):\n",
        "    desc = descriptors_all_left_kaze[cnt][cnt_each]\n",
        "    temp = (kpt.pt, kpt.size, kpt.angle, kpt.response, kpt.octave, \n",
        "        kpt.class_id, desc)\n",
        "    all_feat_kaze_left_each.append(temp)\n",
        "  all_feat_kaze_left.append(all_feat_kaze_left_each)"
      ],
      "execution_count": null,
      "outputs": []
    },
    {
      "cell_type": "code",
      "metadata": {
        "id": "n_rsRaTnRVEq"
      },
      "source": [
        "'''all_feat_kaze_right = []\n",
        "for cnt,kpt_all in enumerate(keypoints_all_right_kaze):\n",
        "  all_feat_kaze_right_each = []\n",
        "  for cnt_each, kpt in enumerate(kpt_all):\n",
        "    desc = descriptors_all_right_kaze[cnt][cnt_each]\n",
        "    temp = (kpt.pt, kpt.size, kpt.angle, kpt.response, kpt.octave, \n",
        "        kpt.class_id, desc)\n",
        "    all_feat_kaze_right_each.append(temp)\n",
        "  all_feat_kaze_right.append(all_feat_kaze_right_each)"
      ],
      "execution_count": null,
      "outputs": []
    },
    {
      "cell_type": "code",
      "metadata": {
        "id": "CmnJdV8KRU-6"
      },
      "source": [
        "'''del keypoints_all_left_kaze, keypoints_all_right_kaze, descriptors_all_left_kaze, descriptors_all_right_kaze"
      ],
      "execution_count": null,
      "outputs": []
    },
    {
      "cell_type": "code",
      "metadata": {
        "id": "oE-eS6B1RU4M"
      },
      "source": [
        "'''import pickle\n",
        "Fdb = open('all_feat_kaze_left.dat', 'wb')\n",
        "pickle.dump(all_feat_kaze_left,Fdb,-1)\n",
        "Fdb.close()"
      ],
      "execution_count": null,
      "outputs": []
    },
    {
      "cell_type": "code",
      "metadata": {
        "id": "jLSfTjxNRUyE"
      },
      "source": [
        "'''import pickle\n",
        "Fdb = open('all_feat_kaze_right.dat', 'wb')\n",
        "pickle.dump(all_feat_kaze_right,Fdb,-1)\n",
        "Fdb.close()"
      ],
      "execution_count": null,
      "outputs": []
    },
    {
      "cell_type": "code",
      "metadata": {
        "id": "ixbUx2XYRUpu"
      },
      "source": [
        "'''del Fdb, all_feat_kaze_left, all_feat_kaze_right"
      ],
      "execution_count": null,
      "outputs": []
    },
    {
      "cell_type": "markdown",
      "metadata": {
        "id": "_A6LaNo9BZih"
      },
      "source": [
        "AKAZE"
      ]
    },
    {
      "cell_type": "code",
      "metadata": {
        "id": "1jxJlohmVPtb"
      },
      "source": [
        "'''from functools import partial\n",
        "from tqdm import tqdm\n",
        "tqdm = partial(tqdm, position=0, leave=True)"
      ],
      "execution_count": null,
      "outputs": []
    },
    {
      "cell_type": "code",
      "metadata": {
        "id": "-u2IUSGdVPli",
        "colab": {
          "base_uri": "https://localhost:8080/"
        },
        "outputId": "da400958-4671-4736-df2f-d335faa5b2b2"
      },
      "source": [
        "'''start = timer()\n",
        "\n",
        "akaze = cv2.AKAZE_create()\n",
        "\n",
        "\n",
        "keypoints_all_left_akaze = []\n",
        "descriptors_all_left_akaze = []\n",
        "points_all_left_akaze=[]\n",
        "\n",
        "keypoints_all_right_akaze = []\n",
        "descriptors_all_right_akaze = []\n",
        "points_all_right_akaze=[]\n",
        "\n",
        "for cnt in tqdm(range(len(left_files_path))):\n",
        "  f=h5.File(f'drive/MyDrive/all_images_bgr_{Dataset}.h5','r')\n",
        "  imgs = f['data'][cnt]\n",
        "  f.close()     \n",
        "  kpt = akaze.detect(imgs,None)\n",
        "  kpt,descrip =  akaze.compute(imgs, kpt)\n",
        "  keypoints_all_left_akaze.append(kpt)\n",
        "  descriptors_all_left_akaze.append(descrip)\n",
        "  #points_all_left_akaze.append(np.asarray([[p.pt[0], p.pt[1]] for p in kpt]))\n",
        "\n",
        "for cnt in tqdm(range(len(right_files_path))):\n",
        "  f=h5.File(f'drive/MyDrive/all_images_bgr_{Dataset}.h5','r')\n",
        "  imgs = f['data'][cnt+len(left_files_path)]\n",
        "  f.close()  \n",
        "  kpt = akaze.detect(imgs,None)\n",
        "  kpt,descrip = akaze.compute(imgs, kpt)\n",
        "  keypoints_all_right_akaze.append(kpt)\n",
        "  descriptors_all_right_akaze.append(descrip)\n",
        "  #points_all_right_akaze.append(np.asarray([[p.pt[0], p.pt[1]] for p in kpt]))\n",
        "\n",
        "end = timer()\n",
        "\n",
        "time_all.append(end-start)"
      ],
      "execution_count": null,
      "outputs": [
        {
          "output_type": "stream",
          "text": [
            "100%|██████████| 61/61 [01:03<00:00,  1.05s/it]\n",
            "100%|██████████| 60/60 [01:02<00:00,  1.04s/it]\n"
          ],
          "name": "stderr"
        }
      ]
    },
    {
      "cell_type": "code",
      "metadata": {
        "id": "Efye6tC2Bfg_",
        "colab": {
          "base_uri": "https://localhost:8080/"
        },
        "outputId": "89bfae35-a8c2-455f-e856-fa931c40426e"
      },
      "source": [
        "'''for j in tqdm(keypoints_all_left_akaze + keypoints_all_right_akaze[1:]):\n",
        "  num_kps_akaze.append(len(j))"
      ],
      "execution_count": null,
      "outputs": [
        {
          "output_type": "stream",
          "text": [
            "100%|██████████| 120/120 [00:00<00:00, 145341.17it/s]\n"
          ],
          "name": "stderr"
        }
      ]
    },
    {
      "cell_type": "code",
      "metadata": {
        "id": "u6YLQN2lBfbV"
      },
      "source": [
        "'''all_feat_akaze_left = []\n",
        "for cnt,kpt_all in enumerate(keypoints_all_left_akaze):\n",
        "  all_feat_akaze_left_each = []\n",
        "  for cnt_each, kpt in enumerate(kpt_all):\n",
        "    desc = descriptors_all_left_akaze[cnt][cnt_each]\n",
        "    temp = (kpt.pt, kpt.size, kpt.angle, kpt.response, kpt.octave, \n",
        "        kpt.class_id, desc)\n",
        "    all_feat_akaze_left_each.append(temp)\n",
        "  all_feat_akaze_left.append(all_feat_akaze_left_each)"
      ],
      "execution_count": null,
      "outputs": []
    },
    {
      "cell_type": "code",
      "metadata": {
        "id": "uOiE4zUkBfXj"
      },
      "source": [
        "'''all_feat_akaze_right = []\n",
        "for cnt,kpt_all in enumerate(keypoints_all_right_akaze):\n",
        "  all_feat_akaze_right_each = []\n",
        "  for cnt_each, kpt in enumerate(kpt_all):\n",
        "    desc = descriptors_all_right_akaze[cnt][cnt_each]\n",
        "    temp = (kpt.pt, kpt.size, kpt.angle, kpt.response, kpt.octave, \n",
        "        kpt.class_id, desc)\n",
        "    all_feat_akaze_right_each.append(temp)\n",
        "  all_feat_akaze_right.append(all_feat_akaze_right_each)"
      ],
      "execution_count": null,
      "outputs": []
    },
    {
      "cell_type": "code",
      "metadata": {
        "id": "Bp-XefAKBfUV"
      },
      "source": [
        "'''del keypoints_all_left_akaze, keypoints_all_right_akaze, descriptors_all_left_akaze, descriptors_all_right_akaze"
      ],
      "execution_count": null,
      "outputs": []
    },
    {
      "cell_type": "code",
      "metadata": {
        "id": "kbHSQehqBfQN"
      },
      "source": [
        "'''import pickle\n",
        "Fdb = open('all_feat_akaze_left.dat', 'wb')\n",
        "pickle.dump(all_feat_akaze_left,Fdb,-1)\n",
        "Fdb.close()"
      ],
      "execution_count": null,
      "outputs": []
    },
    {
      "cell_type": "code",
      "metadata": {
        "id": "qsZSDbuQBfM9"
      },
      "source": [
        "'''import pickle\n",
        "Fdb = open('all_feat_akaze_right.dat', 'wb')\n",
        "pickle.dump(all_feat_akaze_right,Fdb,-1)\n",
        "Fdb.close()"
      ],
      "execution_count": null,
      "outputs": []
    },
    {
      "cell_type": "code",
      "metadata": {
        "id": "RnV2d_GRBrcH"
      },
      "source": [
        "'''del Fdb, all_feat_akaze_left, all_feat_akaze_right"
      ],
      "execution_count": null,
      "outputs": []
    },
    {
      "cell_type": "markdown",
      "metadata": {
        "id": "KRpih8uqCSc9"
      },
      "source": [
        "\n",
        "STAR + BRIEF"
      ]
    },
    {
      "cell_type": "code",
      "metadata": {
        "id": "fttzUuuNCVhp",
        "colab": {
          "base_uri": "https://localhost:8080/"
        },
        "outputId": "78715229-92ca-4f3d-b95f-509806549e0f"
      },
      "source": [
        "''''start = timer()\n",
        "\n",
        "star = cv2.xfeatures2d.StarDetector_create()\n",
        "brief = cv2.xfeatures2d.BriefDescriptorExtractor_create()\n",
        "\n",
        "keypoints_all_left_star = []\n",
        "descriptors_all_left_brief = []\n",
        "points_all_left_star=[]\n",
        "\n",
        "keypoints_all_right_star = []\n",
        "descriptors_all_right_brief = []\n",
        "points_all_right_star=[]\n",
        "\n",
        "for cnt in tqdm(range(len(left_files_path))):\n",
        "  f=h5.File(f'drive/MyDrive/all_images_bgr_{Dataset}.h5','r')\n",
        "  imgs = f['data'][cnt]\n",
        "  f.close()     \n",
        "  kpt = star.detect(imgs,None)\n",
        "  kpt,descrip =  brief.compute(imgs, kpt)\n",
        "  keypoints_all_left_star.append(kpt)\n",
        "  descriptors_all_left_brief.append(descrip)\n",
        "  #points_all_left_star.append(np.asarray([[p.pt[0], p.pt[1]] for p in kpt]))\n",
        "\n",
        "for cnt in tqdm(range(len(right_files_path))):\n",
        "  f=h5.File(f'drive/MyDrive/all_images_bgr_{Dataset}.h5','r')\n",
        "  imgs = f['data'][cnt+len(left_files_path)]\n",
        "  f.close()  \n",
        "  kpt = star.detect(imgs,None)\n",
        "  kpt,descrip =  brief.compute(imgs, kpt)\n",
        "  keypoints_all_right_star.append(kpt)\n",
        "  descriptors_all_right_brief.append(descrip)\n",
        "  #points_all_right_star.append(np.asarray([[p.pt[0], p.pt[1]] for p in kpt]))\n",
        "\n",
        "end = timer()\n",
        "\n",
        "time_all.append(end-start)"
      ],
      "execution_count": null,
      "outputs": [
        {
          "output_type": "stream",
          "text": [
            "100%|██████████| 61/61 [00:09<00:00,  6.14it/s]\n",
            "100%|██████████| 60/60 [00:09<00:00,  6.28it/s]\n"
          ],
          "name": "stderr"
        }
      ]
    },
    {
      "cell_type": "code",
      "metadata": {
        "id": "uppvh4UwCVWp",
        "colab": {
          "base_uri": "https://localhost:8080/"
        },
        "outputId": "86c5ea28-728c-4ffd-b745-c00569f87c05"
      },
      "source": [
        "'''for j in tqdm(keypoints_all_left_star + keypoints_all_right_star[1:]):\n",
        "  num_kps_star.append(len(j))"
      ],
      "execution_count": null,
      "outputs": [
        {
          "output_type": "stream",
          "text": [
            "100%|██████████| 120/120 [00:00<00:00, 95596.67it/s]\n"
          ],
          "name": "stderr"
        }
      ]
    },
    {
      "cell_type": "code",
      "metadata": {
        "id": "jWif45XBCVT_"
      },
      "source": [
        "'''all_feat_star_left = []\n",
        "for cnt,kpt_all in enumerate(keypoints_all_left_star):\n",
        "  all_feat_star_left_each = []\n",
        "  for cnt_each, kpt in enumerate(kpt_all):\n",
        "    desc = descriptors_all_left_brief[cnt][cnt_each]\n",
        "    temp = (kpt.pt, kpt.size, kpt.angle, kpt.response, kpt.octave, \n",
        "        kpt.class_id, desc)\n",
        "    all_feat_star_left_each.append(temp)\n",
        "  all_feat_star_left.append(all_feat_star_left_each)"
      ],
      "execution_count": null,
      "outputs": []
    },
    {
      "cell_type": "code",
      "metadata": {
        "id": "C68lTIg8CVQy"
      },
      "source": [
        "'''all_feat_star_right = []\n",
        "for cnt,kpt_all in enumerate(keypoints_all_right_star):\n",
        "  all_feat_star_right_each = []\n",
        "  for cnt_each, kpt in enumerate(kpt_all):\n",
        "    desc = descriptors_all_right_brief[cnt][cnt_each]\n",
        "    temp = (kpt.pt, kpt.size, kpt.angle, kpt.response, kpt.octave, \n",
        "        kpt.class_id, desc)\n",
        "    all_feat_star_right_each.append(temp)\n",
        "  all_feat_star_right.append(all_feat_star_right_each)"
      ],
      "execution_count": null,
      "outputs": []
    },
    {
      "cell_type": "code",
      "metadata": {
        "id": "vtlJNPa5CVMx"
      },
      "source": [
        "'''del keypoints_all_left_star, keypoints_all_right_star, descriptors_all_left_brief, descriptors_all_right_brief"
      ],
      "execution_count": null,
      "outputs": []
    },
    {
      "cell_type": "code",
      "metadata": {
        "id": "i_SedP3HCVJp"
      },
      "source": [
        "'''import pickle\n",
        "Fdb = open('all_feat_star_left.dat', 'wb')\n",
        "pickle.dump(all_feat_star_left,Fdb,-1)\n",
        "Fdb.close()"
      ],
      "execution_count": null,
      "outputs": []
    },
    {
      "cell_type": "code",
      "metadata": {
        "id": "aK3skKAMCVF2"
      },
      "source": [
        "'''import pickle\n",
        "Fdb = open('all_feat_star_right.dat', 'wb')\n",
        "pickle.dump(all_feat_star_right,Fdb,-1)\n",
        "Fdb.close()"
      ],
      "execution_count": null,
      "outputs": []
    },
    {
      "cell_type": "code",
      "metadata": {
        "id": "Xnf8kB3MCU91"
      },
      "source": [
        "'''del Fdb, all_feat_star_left, all_feat_star_right"
      ],
      "execution_count": null,
      "outputs": []
    },
    {
      "cell_type": "markdown",
      "metadata": {
        "id": "VpFFN3FUCoQi"
      },
      "source": [
        "\n",
        "BRISK + FREAK"
      ]
    },
    {
      "cell_type": "code",
      "metadata": {
        "id": "xFjSnoZdCpMa",
        "colab": {
          "base_uri": "https://localhost:8080/"
        },
        "outputId": "ab28e378-13ea-4de1-a7ee-995af8745f30"
      },
      "source": [
        "start = timer()\n",
        "\n",
        "Threshl=60;\n",
        "Octaves=6; \n",
        "#PatternScales=1.0f;\n",
        "brisk = cv2.BRISK_create(Threshl,Octaves)\n",
        "\n",
        "freak = cv2.xfeatures2d.FREAK_create()\n",
        "keypoints_all_left_freak = []\n",
        "descriptors_all_left_freak = []\n",
        "points_all_left_freak=[]\n",
        "\n",
        "keypoints_all_right_freak = []\n",
        "descriptors_all_right_freak = []\n",
        "points_all_right_freak=[]\n",
        "\n",
        "\n",
        "for cnt in tqdm(range(len(left_files_path))):\n",
        "  f=h5.File(f'drive/MyDrive/all_images_bgr_{Dataset}.h5','r')\n",
        "  imgs = f['data'][cnt]\n",
        "  f.close()     \n",
        "  kpt = brisk.detect(imgs)\n",
        "  kpt,descrip =  freak.compute(imgs, kpt)\n",
        "  keypoints_all_left_freak.append(kpt)\n",
        "  descriptors_all_left_freak.append(descrip)\n",
        "  #points_all_left_freak.append(np.asarray([[p.pt[0], p.pt[1]] for p in kpt]))\n",
        "\n",
        "for cnt in tqdm(range(len(right_files_path))):\n",
        "  f=h5.File(f'drive/MyDrive/all_images_bgr_{Dataset}.h5','r')\n",
        "  imgs = f['data'][cnt+len(left_files_path)]\n",
        "  f.close()  \n",
        "  kpt = brisk.detect(imgs,None)\n",
        "  kpt,descrip =  freak.compute(imgs, kpt)\n",
        "  keypoints_all_right_freak.append(kpt)\n",
        "  descriptors_all_right_freak.append(descrip)\n",
        "  #points_all_right_freak.append(np.asarray([[p.pt[0], p.pt[1]] for p in kpt]))\n",
        "\n",
        "end = timer()\n",
        "\n",
        "time_all.append(end-start)"
      ],
      "execution_count": 19,
      "outputs": [
        {
          "output_type": "stream",
          "text": [
            "100%|██████████| 61/61 [00:36<00:00,  1.65it/s]\n",
            "100%|██████████| 60/60 [00:32<00:00,  1.87it/s]\n"
          ],
          "name": "stderr"
        }
      ]
    },
    {
      "cell_type": "code",
      "metadata": {
        "id": "eRR-JZgPCqb4",
        "colab": {
          "base_uri": "https://localhost:8080/"
        },
        "outputId": "f89158bb-68c7-4de2-8688-01627eae26b8"
      },
      "source": [
        "for j in tqdm(keypoints_all_left_freak + keypoints_all_right_freak[1:]):\n",
        "  num_kps_freak.append(len(j))"
      ],
      "execution_count": 20,
      "outputs": [
        {
          "output_type": "stream",
          "text": [
            "100%|██████████| 120/120 [00:00<00:00, 83524.14it/s]\n"
          ],
          "name": "stderr"
        }
      ]
    },
    {
      "cell_type": "code",
      "metadata": {
        "id": "0suZngLtCqXc"
      },
      "source": [
        "'''all_feat_freak_left = []\n",
        "for cnt,kpt_all in enumerate(keypoints_all_left_freak):\n",
        "  all_feat_freak_left_each = []\n",
        "  for cnt_each, kpt in enumerate(kpt_all):\n",
        "    desc = descriptors_all_left_freak[cnt][cnt_each]\n",
        "    temp = (kpt.pt, kpt.size, kpt.angle, kpt.response, kpt.octave, \n",
        "        kpt.class_id, desc)\n",
        "    all_feat_freak_left_each.append(temp)\n",
        "  all_feat_freak_left.append(all_feat_freak_left_each)"
      ],
      "execution_count": null,
      "outputs": []
    },
    {
      "cell_type": "code",
      "metadata": {
        "id": "T6UEvj4-CqSJ"
      },
      "source": [
        "'''all_feat_freak_right = []\n",
        "for cnt,kpt_all in enumerate(keypoints_all_right_freak):\n",
        "  all_feat_freak_right_each = []\n",
        "  for cnt_each, kpt in enumerate(kpt_all):\n",
        "    desc = descriptors_all_right_freak[cnt][cnt_each]\n",
        "    temp = (kpt.pt, kpt.size, kpt.angle, kpt.response, kpt.octave, \n",
        "        kpt.class_id, desc)\n",
        "    all_feat_freak_right_each.append(temp)\n",
        "  all_feat_freak_right.append(all_feat_freak_right_each)"
      ],
      "execution_count": null,
      "outputs": []
    },
    {
      "cell_type": "code",
      "metadata": {
        "id": "53M9yWIsCqIW"
      },
      "source": [
        "'''del keypoints_all_left_freak, keypoints_all_right_freak, descriptors_all_left_freak, descriptors_all_right_freak"
      ],
      "execution_count": null,
      "outputs": []
    },
    {
      "cell_type": "code",
      "metadata": {
        "id": "uJxhMG_nDKqP"
      },
      "source": [
        "'''import pickle\n",
        "Fdb = open('all_feat_freak_left.dat', 'wb')\n",
        "pickle.dump(all_feat_freak_left,Fdb,-1)\n",
        "Fdb.close()"
      ],
      "execution_count": null,
      "outputs": []
    },
    {
      "cell_type": "code",
      "metadata": {
        "id": "cZxjEc1tDKg5"
      },
      "source": [
        "'''import pickle\n",
        "Fdb = open('all_feat_freak_right.dat', 'wb')\n",
        "pickle.dump(all_feat_freak_right,Fdb,-1)\n",
        "Fdb.close()"
      ],
      "execution_count": null,
      "outputs": []
    },
    {
      "cell_type": "code",
      "metadata": {
        "id": "fNluy3ftDKdI"
      },
      "source": [
        "'''del Fdb, all_feat_freak_left, all_feat_freak_right"
      ],
      "execution_count": null,
      "outputs": []
    },
    {
      "cell_type": "markdown",
      "metadata": {
        "id": "lk6PEqByDSH0"
      },
      "source": [
        "MSER + SIFT"
      ]
    },
    {
      "cell_type": "code",
      "metadata": {
        "id": "YH-9JMRADKW6"
      },
      "source": [
        "'''\n",
        "start = timer()\n",
        "\n",
        "mser = cv2.MSER_create()\n",
        "sift = cv2.xfeatures2d.SIFT_create()\n",
        "\n",
        "keypoints_all_left_mser = []\n",
        "descriptors_all_left_mser = []\n",
        "points_all_left_mser=[]\n",
        "\n",
        "keypoints_all_right_mser = []\n",
        "descriptors_all_right_mser = []\n",
        "points_all_right_mser=[]\n",
        "\n",
        "for cnt in tqdm(range(len(left_files_path))):\n",
        "  f=h5.File(f'drive/MyDrive/all_images_bgr_{Dataset}.h5','r')\n",
        "  imgs = f['data'][cnt]\n",
        "  f.close()     \n",
        "  kpt = mser.detect(imgs,None)\n",
        "  kpt,descrip =  sift.compute(imgs, kpt)\n",
        "  keypoints_all_left_mser.append(kpt)\n",
        "  descriptors_all_left_mser.append(descrip)\n",
        "  #points_all_left_mser.append(np.asarray([[p.pt[0], p.pt[1]] for p in kpt]))\n",
        "\n",
        "for cnt in tqdm(range(len(right_files_path))):\n",
        "  f=h5.File(f'drive/MyDrive/all_images_bgr_{Dataset}.h5','r')\n",
        "  imgs = f['data'][cnt+len(left_files_path)]\n",
        "  f.close()  \n",
        "  kpt = mser.detect(imgs,None)\n",
        "  kpt,descrip =  sift.compute(imgs, kpt)\n",
        "  keypoints_all_right_mser.append(kpt)\n",
        "  descriptors_all_right_mser.append(descrip)\n",
        "  #points_all_right_mser.append(np.asarray([[p.pt[0], p.pt[1]] for p in kpt]))\n",
        "\n",
        "end = timer()\n",
        "\n",
        "time_all.append(end-start)"
      ],
      "execution_count": null,
      "outputs": []
    },
    {
      "cell_type": "code",
      "metadata": {
        "id": "0BstgiHKDKQV"
      },
      "source": [
        "'''\n",
        "for j in tqdm(keypoints_all_left_mser + keypoints_all_right_mser[1:]):\n",
        "  num_kps_mser.append(len(j))"
      ],
      "execution_count": null,
      "outputs": []
    },
    {
      "cell_type": "code",
      "metadata": {
        "id": "ptgNXIMFDWyl"
      },
      "source": [
        "'''\n",
        "all_feat_mser_left = []\n",
        "for cnt,kpt_all in enumerate(keypoints_all_left_mser):\n",
        "  all_feat_mser_left_each = []\n",
        "  for cnt_each, kpt in enumerate(kpt_all):\n",
        "    desc = descriptors_all_left_mser[cnt][cnt_each]\n",
        "    temp = (kpt.pt, kpt.size, kpt.angle, kpt.response, kpt.octave, \n",
        "        kpt.class_id, desc)\n",
        "    all_feat_mser_left_each.append(temp)\n",
        "  all_feat_mser_left.append(all_feat_mser_left_each)"
      ],
      "execution_count": null,
      "outputs": []
    },
    {
      "cell_type": "code",
      "metadata": {
        "id": "y3CvnEpODWu2"
      },
      "source": [
        "'''\n",
        "all_feat_mser_right = []\n",
        "for cnt,kpt_all in enumerate(keypoints_all_right_mser):\n",
        "  all_feat_mser_right_each = []\n",
        "  for cnt_each, kpt in enumerate(kpt_all):\n",
        "    desc = descriptors_all_right_mser[cnt][cnt_each]\n",
        "    temp = (kpt.pt, kpt.size, kpt.angle, kpt.response, kpt.octave, \n",
        "        kpt.class_id, desc)\n",
        "    all_feat_mser_right_each.append(temp)\n",
        "  all_feat_mser_right.append(all_feat_mser_right_each)"
      ],
      "execution_count": null,
      "outputs": []
    },
    {
      "cell_type": "code",
      "metadata": {
        "id": "hQfOmhHHDWrL"
      },
      "source": [
        "'''\n",
        "del keypoints_all_left_mser, keypoints_all_right_mser, descriptors_all_left_mser, descriptors_all_right_mser"
      ],
      "execution_count": null,
      "outputs": []
    },
    {
      "cell_type": "code",
      "metadata": {
        "id": "-2okVS6MDWno"
      },
      "source": [
        "'''\n",
        "import pickle\n",
        "Fdb = open('all_feat_mser_left.dat', 'wb')\n",
        "pickle.dump(all_feat_mser_left,Fdb,-1)\n",
        "Fdb.close()"
      ],
      "execution_count": null,
      "outputs": []
    },
    {
      "cell_type": "code",
      "metadata": {
        "id": "zj6quw8eDWkD"
      },
      "source": [
        "'''\n",
        "import pickle\n",
        "Fdb = open('all_feat_mser_right.dat', 'wb')\n",
        "pickle.dump(all_feat_mser_right,Fdb,-1)\n",
        "Fdb.close()"
      ],
      "execution_count": null,
      "outputs": []
    },
    {
      "cell_type": "code",
      "metadata": {
        "id": "QyDwaVtyDWgX"
      },
      "source": [
        "'''\n",
        "del Fdb, all_feat_mser_left, all_feat_mser_right"
      ],
      "execution_count": null,
      "outputs": []
    },
    {
      "cell_type": "markdown",
      "metadata": {
        "id": "igrL8pcKJIe-"
      },
      "source": [
        "AGAST + SIFT"
      ]
    },
    {
      "cell_type": "code",
      "metadata": {
        "id": "qptKPAxHJJnN",
        "colab": {
          "base_uri": "https://localhost:8080/"
        },
        "outputId": "28f4b444-32ab-4dad-c851-0e329bcc7460"
      },
      "source": [
        "start = timer()\n",
        "\n",
        "agast = cv2.AgastFeatureDetector_create(threshold = 60)\n",
        "sift = cv2.xfeatures2d.SIFT_create(nfeatures = 1000, contrastThreshold=0.02, edgeThreshold=4)\n",
        "\n",
        "keypoints_all_left_agast = []\n",
        "descriptors_all_left_agast = []\n",
        "points_all_left_agast=[]\n",
        "\n",
        "keypoints_all_right_agast = []\n",
        "descriptors_all_right_agast = []\n",
        "points_all_right_agast=[]\n",
        "\n",
        "for cnt in tqdm(range(len(left_files_path))):\n",
        "  f=h5.File(f'drive/MyDrive/all_images_bgr_{Dataset}.h5','r')\n",
        "  imgs = f['data'][cnt]\n",
        "  f.close()     \n",
        "  kpt = agast.detect(imgs,None)\n",
        "  kpt,descrip =  sift.compute(imgs, kpt)\n",
        "  keypoints_all_left_agast.append(kpt)\n",
        "  descriptors_all_left_agast.append(descrip)\n",
        "  #points_all_left_agast.append(np.asarray([[p.pt[0], p.pt[1]] for p in kpt]))\n",
        "\n",
        "for cnt in tqdm(range(len(right_files_path))):\n",
        "  f=h5.File(f'drive/MyDrive/all_images_bgr_{Dataset}.h5','r')\n",
        "  imgs = f['data'][cnt+len(left_files_path)]\n",
        "  f.close()  \n",
        "  kpt = agast.detect(imgs,None)\n",
        "  kpt,descrip =  sift.compute(imgs, kpt)\n",
        "  keypoints_all_right_agast.append(kpt)\n",
        "  descriptors_all_right_agast.append(descrip)\n",
        "  #points_all_right_agast.append(np.asarray([[p.pt[0], p.pt[1]] for p in kpt]))\n",
        "\n",
        "end = timer()\n",
        "\n",
        "time_all.append(end-start)"
      ],
      "execution_count": 21,
      "outputs": [
        {
          "output_type": "stream",
          "text": [
            "100%|██████████| 61/61 [01:43<00:00,  1.70s/it]\n",
            "100%|██████████| 60/60 [01:23<00:00,  1.39s/it]\n"
          ],
          "name": "stderr"
        }
      ]
    },
    {
      "cell_type": "code",
      "metadata": {
        "id": "KXEiT-i3JKXc",
        "colab": {
          "base_uri": "https://localhost:8080/"
        },
        "outputId": "4bc1c22a-440f-4d14-b0e8-79096635e23a"
      },
      "source": [
        "for j in tqdm(keypoints_all_left_agast + keypoints_all_right_agast[1:]):\n",
        "  num_kps_agast.append(len(j))"
      ],
      "execution_count": 22,
      "outputs": [
        {
          "output_type": "stream",
          "text": [
            "100%|██████████| 120/120 [00:00<00:00, 55133.80it/s]\n"
          ],
          "name": "stderr"
        }
      ]
    },
    {
      "cell_type": "code",
      "metadata": {
        "id": "Q-tOYuY3JKUX"
      },
      "source": [
        "'''all_feat_agast_left = []\n",
        "for cnt,kpt_all in enumerate(keypoints_all_left_agast):\n",
        "  all_feat_agast_left_each = []\n",
        "  for cnt_each, kpt in enumerate(kpt_all):\n",
        "    desc = descriptors_all_left_agast[cnt][cnt_each]\n",
        "    temp = (kpt.pt, kpt.size, kpt.angle, kpt.response, kpt.octave, \n",
        "        kpt.class_id, desc)\n",
        "    all_feat_agast_left_each.append(temp)\n",
        "  all_feat_agast_left.append(all_feat_agast_left_each)"
      ],
      "execution_count": null,
      "outputs": []
    },
    {
      "cell_type": "code",
      "metadata": {
        "id": "ITuhTLbgJKQf"
      },
      "source": [
        "'''all_feat_agast_right = []\n",
        "for cnt,kpt_all in enumerate(keypoints_all_right_agast):\n",
        "  all_feat_agast_right_each = []\n",
        "  for cnt_each, kpt in enumerate(kpt_all):\n",
        "    desc = descriptors_all_right_agast[cnt][cnt_each]\n",
        "    temp = (kpt.pt, kpt.size, kpt.angle, kpt.response, kpt.octave, \n",
        "        kpt.class_id, desc)\n",
        "    all_feat_agast_right_each.append(temp)\n",
        "  all_feat_agast_right.append(all_feat_agast_right_each)"
      ],
      "execution_count": null,
      "outputs": []
    },
    {
      "cell_type": "code",
      "metadata": {
        "id": "I7CTjFFfJKNZ"
      },
      "source": [
        "'''del keypoints_all_left_agast, keypoints_all_right_agast, descriptors_all_left_agast, descriptors_all_right_agast"
      ],
      "execution_count": null,
      "outputs": []
    },
    {
      "cell_type": "code",
      "metadata": {
        "id": "9ZMjm3RAJKIG"
      },
      "source": [
        "'''import pickle\n",
        "Fdb = open('all_feat_agast_left.dat', 'wb')\n",
        "pickle.dump(all_feat_agast_left,Fdb,-1)\n",
        "Fdb.close()"
      ],
      "execution_count": null,
      "outputs": []
    },
    {
      "cell_type": "code",
      "metadata": {
        "id": "AzYI6EvPJKDP"
      },
      "source": [
        "'''del Fdb, all_feat_agast_left"
      ],
      "execution_count": null,
      "outputs": []
    },
    {
      "cell_type": "code",
      "metadata": {
        "id": "9McFDaRnJXQi"
      },
      "source": [
        "''''import pickle\n",
        "Fdb = open('all_feat_agast_right.dat', 'wb')\n",
        "pickle.dump(all_feat_agast_right,Fdb,-1)\n",
        "Fdb.close()"
      ],
      "execution_count": null,
      "outputs": []
    },
    {
      "cell_type": "code",
      "metadata": {
        "id": "nslPuEslJXJT"
      },
      "source": [
        "'''del Fdb, all_feat_agast_right"
      ],
      "execution_count": null,
      "outputs": []
    },
    {
      "cell_type": "markdown",
      "metadata": {
        "id": "MmHJo2qUJcZT"
      },
      "source": [
        "FAST + SIFT"
      ]
    },
    {
      "cell_type": "code",
      "metadata": {
        "id": "ig4yKEIGJbsr",
        "colab": {
          "base_uri": "https://localhost:8080/"
        },
        "outputId": "b8139a43-b904-491d-a17a-927a8c0f7b0a"
      },
      "source": [
        "\n",
        "start = timer()\n",
        "\n",
        "\n",
        "fast = cv2.FastFeatureDetector_create(threshold=60)\n",
        "sift = cv2.xfeatures2d.SIFT_create(nfeatures = 1000, contrastThreshold=0.02, edgeThreshold=4)\n",
        "\n",
        "keypoints_all_left_fast = []\n",
        "descriptors_all_left_fast = []\n",
        "points_all_left_fast=[]\n",
        "\n",
        "keypoints_all_right_fast = []\n",
        "descriptors_all_right_fast = []\n",
        "points_all_right_fast=[]\n",
        "\n",
        "for cnt in tqdm(range(len(left_files_path))):\n",
        "  f=h5.File(f'drive/MyDrive/all_images_bgr_{Dataset}.h5','r')\n",
        "  imgs = f['data'][cnt]\n",
        "  f.close()     \n",
        "  kpt = fast.detect(imgs,None)\n",
        "  kpt,descrip =  sift.compute(imgs, kpt)\n",
        "  keypoints_all_left_fast.append(kpt)\n",
        "  descriptors_all_left_fast.append(descrip)\n",
        "  #points_all_left_fast.append(np.asarray([[p.pt[0], p.pt[1]] for p in kpt]))\n",
        "\n",
        "for cnt in tqdm(range(len(right_files_path))):\n",
        "  f=h5.File(f'drive/MyDrive/all_images_bgr_{Dataset}.h5','r')\n",
        "  imgs = f['data'][cnt+len(left_files_path)]\n",
        "  f.close()  \n",
        "  kpt = fast.detect(imgs,None)\n",
        "  kpt,descrip =  sift.compute(imgs, kpt)\n",
        "  keypoints_all_right_fast.append(kpt)\n",
        "  descriptors_all_right_fast.append(descrip)\n",
        "  #points_all_right_fast.append(np.asarray([[p.pt[0], p.pt[1]] for p in kpt]))\n",
        "\n",
        "end = timer()\n",
        "\n",
        "time_all.append(end-start)"
      ],
      "execution_count": 23,
      "outputs": [
        {
          "output_type": "stream",
          "text": [
            "100%|██████████| 61/61 [01:34<00:00,  1.54s/it]\n",
            "100%|██████████| 60/60 [01:16<00:00,  1.28s/it]\n"
          ],
          "name": "stderr"
        }
      ]
    },
    {
      "cell_type": "code",
      "metadata": {
        "id": "Ie_WnWkWJgQ_",
        "colab": {
          "base_uri": "https://localhost:8080/"
        },
        "outputId": "b92542b5-3d84-4d67-c089-50b9a3463690"
      },
      "source": [
        "\n",
        "for j in tqdm(keypoints_all_left_fast + keypoints_all_right_fast[1:]):\n",
        "  num_kps_fast.append(len(j))"
      ],
      "execution_count": 24,
      "outputs": [
        {
          "output_type": "stream",
          "text": [
            "100%|██████████| 120/120 [00:00<00:00, 73348.36it/s]\n"
          ],
          "name": "stderr"
        }
      ]
    },
    {
      "cell_type": "code",
      "metadata": {
        "id": "l3pl_8CWJgLr"
      },
      "source": [
        "'''\n",
        "all_feat_fast_left = []\n",
        "for cnt,kpt_all in enumerate(keypoints_all_left_fast):\n",
        "  all_feat_fast_left_each = []\n",
        "  for cnt_each, kpt in enumerate(kpt_all):\n",
        "    desc = descriptors_all_left_fast[cnt][cnt_each]\n",
        "    temp = (kpt.pt, kpt.size, kpt.angle, kpt.response, kpt.octave, \n",
        "        kpt.class_id, desc)\n",
        "    all_feat_fast_left_each.append(temp)\n",
        "  all_feat_fast_left.append(all_feat_fast_left_each)"
      ],
      "execution_count": null,
      "outputs": []
    },
    {
      "cell_type": "code",
      "metadata": {
        "id": "e10-tkbiJgGM"
      },
      "source": [
        "'''\n",
        "all_feat_fast_right = []\n",
        "for cnt,kpt_all in enumerate(keypoints_all_right_fast):\n",
        "  all_feat_fast_right_each = []\n",
        "  for cnt_each, kpt in enumerate(kpt_all):\n",
        "    desc = descriptors_all_right_fast[cnt][cnt_each]\n",
        "    temp = (kpt.pt, kpt.size, kpt.angle, kpt.response, kpt.octave, \n",
        "        kpt.class_id, desc)\n",
        "    all_feat_fast_right_each.append(temp)\n",
        "  all_feat_fast_right.append(all_feat_fast_right_each)"
      ],
      "execution_count": null,
      "outputs": []
    },
    {
      "cell_type": "code",
      "metadata": {
        "id": "wTGgthlOJf_N"
      },
      "source": [
        "'''\n",
        "del keypoints_all_left_fast, keypoints_all_right_fast, descriptors_all_left_fast, descriptors_all_right_fast"
      ],
      "execution_count": null,
      "outputs": []
    },
    {
      "cell_type": "code",
      "metadata": {
        "id": "Yv5YzAjFJpRQ"
      },
      "source": [
        "'''\n",
        "import pickle\n",
        "Fdb = open('all_feat_fast_left.dat', 'wb')\n",
        "pickle.dump(all_feat_fast_left,Fdb,-1)\n",
        "Fdb.close()"
      ],
      "execution_count": null,
      "outputs": []
    },
    {
      "cell_type": "code",
      "metadata": {
        "id": "R5d__0yXJpKO"
      },
      "source": [
        "'''\n",
        "import pickle\n",
        "Fdb = open('all_feat_fast_right.dat', 'wb')\n",
        "pickle.dump(all_feat_fast_right,Fdb,-1)\n",
        "Fdb.close()"
      ],
      "execution_count": null,
      "outputs": []
    },
    {
      "cell_type": "code",
      "metadata": {
        "id": "WOu4VdRgJpDW"
      },
      "source": [
        "'''\n",
        "del Fdb, all_feat_fast_left, all_feat_fast_right"
      ],
      "execution_count": null,
      "outputs": []
    },
    {
      "cell_type": "markdown",
      "metadata": {
        "id": "yfyxf0FoJvlp"
      },
      "source": [
        "GFTT + SIFT"
      ]
    },
    {
      "cell_type": "code",
      "metadata": {
        "id": "-VnVeTvxJwKg"
      },
      "source": [
        "'''\n",
        "start = timer()\n",
        "\n",
        "gftt = cv2.GFTTDetector_create()\n",
        "sift = cv2.xfeatures2d.SIFT_create()\n",
        "\n",
        "keypoints_all_left_gftt = []\n",
        "descriptors_all_left_gftt = []\n",
        "points_all_left_gftt=[]\n",
        "\n",
        "keypoints_all_right_gftt = []\n",
        "descriptors_all_right_gftt = []\n",
        "points_all_right_gftt=[]\n",
        "\n",
        "for cnt in tqdm(range(len(left_files_path))):\n",
        "  f=h5.File(f'drive/MyDrive/all_images_bgr_{Dataset}.h5','r')\n",
        "  imgs = f['data'][cnt]\n",
        "  f.close()     \n",
        "  kpt = gftt.detect(imgs,None)\n",
        "  kpt,descrip =  sift.compute(imgs, kpt)\n",
        "  keypoints_all_left_gftt.append(kpt)\n",
        "  descriptors_all_left_gftt.append(descrip)\n",
        "  #points_all_left_gftt.append(np.asarray([[p.pt[0], p.pt[1]] for p in kpt]))\n",
        "\n",
        "for cnt in tqdm(range(len(right_files_path))):\n",
        "  f=h5.File(f'drive/MyDrive/all_images_bgr_{Dataset}.h5','r')\n",
        "  imgs = f['data'][cnt+len(left_files_path)]\n",
        "  f.close()  \n",
        "  kpt = gftt.detect(imgs,None)\n",
        "  kpt,descrip =  sift.compute(imgs, kpt)\n",
        "  keypoints_all_right_gftt.append(kpt)\n",
        "  descriptors_all_right_gftt.append(descrip)\n",
        "  #points_all_right_gftt.append(np.asarray([[p.pt[0], p.pt[1]] for p in kpt]))\n",
        "\n",
        "end = timer()\n",
        "\n",
        "time_all.append(end-start)"
      ],
      "execution_count": null,
      "outputs": []
    },
    {
      "cell_type": "code",
      "metadata": {
        "id": "o_kOTgxDJ0s6"
      },
      "source": [
        "'''\n",
        "for j in tqdm(keypoints_all_left_gftt + keypoints_all_right_gftt[1:]):\n",
        "  num_kps_gftt.append(len(j))"
      ],
      "execution_count": null,
      "outputs": []
    },
    {
      "cell_type": "code",
      "metadata": {
        "id": "4qUPAYraJ0mu"
      },
      "source": [
        "'''\n",
        "all_feat_gftt_left = []\n",
        "for cnt,kpt_all in enumerate(keypoints_all_left_gftt):\n",
        "  all_feat_gftt_left_each = []\n",
        "  for cnt_each, kpt in enumerate(kpt_all):\n",
        "    desc = descriptors_all_left_gftt[cnt][cnt_each]\n",
        "    temp = (kpt.pt, kpt.size, kpt.angle, kpt.response, kpt.octave, \n",
        "        kpt.class_id, desc)\n",
        "    all_feat_gftt_left_each.append(temp)\n",
        "  all_feat_gftt_left.append(all_feat_gftt_left_each)"
      ],
      "execution_count": null,
      "outputs": []
    },
    {
      "cell_type": "code",
      "metadata": {
        "id": "1wXmL7naJ0f9"
      },
      "source": [
        "'''\n",
        "all_feat_gftt_right = []\n",
        "for cnt,kpt_all in enumerate(keypoints_all_right_gftt):\n",
        "  all_feat_gftt_right_each = []\n",
        "  for cnt_each, kpt in enumerate(kpt_all):\n",
        "    desc = descriptors_all_right_gftt[cnt][cnt_each]\n",
        "    temp = (kpt.pt, kpt.size, kpt.angle, kpt.response, kpt.octave, \n",
        "        kpt.class_id, desc)\n",
        "    all_feat_gftt_right_each.append(temp)\n",
        "  all_feat_gftt_right.append(all_feat_gftt_right_each)"
      ],
      "execution_count": null,
      "outputs": []
    },
    {
      "cell_type": "code",
      "metadata": {
        "id": "MQ8_cQ6KJ0Wl"
      },
      "source": [
        "'''\n",
        "del keypoints_all_left_gftt, keypoints_all_right_gftt, descriptors_all_left_gftt, descriptors_all_right_gftt"
      ],
      "execution_count": null,
      "outputs": []
    },
    {
      "cell_type": "code",
      "metadata": {
        "id": "gXPIU4DeJ8AN"
      },
      "source": [
        "'''\n",
        "import pickle\n",
        "Fdb = open('all_feat_gftt_left.dat', 'wb')\n",
        "pickle.dump(all_feat_gftt_left,Fdb,-1)\n",
        "Fdb.close()"
      ],
      "execution_count": null,
      "outputs": []
    },
    {
      "cell_type": "code",
      "metadata": {
        "id": "nLAVNzy-J751"
      },
      "source": [
        "'''\n",
        "import pickle\n",
        "Fdb = open('all_feat_gftt_right.dat', 'wb')\n",
        "pickle.dump(all_feat_gftt_right,Fdb,-1)\n",
        "Fdb.close()"
      ],
      "execution_count": null,
      "outputs": []
    },
    {
      "cell_type": "code",
      "metadata": {
        "id": "Gz_JbQe3J7z7"
      },
      "source": [
        "'''\n",
        "del Fdb, all_feat_gftt_left, all_feat_gftt_right"
      ],
      "execution_count": null,
      "outputs": []
    },
    {
      "cell_type": "markdown",
      "metadata": {
        "id": "eg21YN-4LWMd"
      },
      "source": [
        "DAISY+SIFT"
      ]
    },
    {
      "cell_type": "code",
      "metadata": {
        "id": "roXAjN8jYgeP"
      },
      "source": [
        "'''\n",
        "start = timer()\n",
        "\n",
        "daisy = cv2.xfeatures2d.DAISY_create()\n",
        "sift = cv2.xfeatures2d.SIFT_create()\n",
        "\n",
        "keypoints_all_left_daisy = []\n",
        "descriptors_all_left_daisy = []\n",
        "points_all_left_daisy=[]\n",
        "\n",
        "keypoints_all_right_daisy = []\n",
        "descriptors_all_right_daisy = []\n",
        "points_all_right_daisy=[]\n",
        "\n",
        "for cnt in tqdm(range(len(left_files_path))):\n",
        "  f=h5.File(f'drive/MyDrive/all_images_bgr_{Dataset}.h5','r')\n",
        "  imgs = f['data'][cnt]\n",
        "  f.close()     \n",
        "  kpt = sift.detect(imgs,None)\n",
        "  kpt,descrip =  daisy.compute(imgs, kpt)\n",
        "  keypoints_all_left_daisy.append(kpt)\n",
        "  descriptors_all_left_daisy.append(descrip)\n",
        "  #points_all_left_daisy.append(np.asarray([[p.pt[0], p.pt[1]] for p in kpt]))\n",
        "\n",
        "for cnt in tqdm(range(len(right_files_path))):\n",
        "  f=h5.File(f'drive/MyDrive/all_images_bgr_{Dataset}.h5','r')\n",
        "  imgs = f['data'][cnt+len(left_files_path)]\n",
        "  f.close()  \n",
        "  kpt = sift.detect(imgs,None)\n",
        "  kpt,descrip =  daisy.compute(imgs, kpt)\n",
        "  keypoints_all_right_daisy.append(kpt)\n",
        "  descriptors_all_right_daisy.append(descrip)\n",
        "  #points_all_right_daisy.append(np.asarray([[p.pt[0], p.pt[1]] for p in kpt]))\n",
        "\n",
        "end = timer()\n",
        "\n",
        "time_all.append(end-start)"
      ],
      "execution_count": null,
      "outputs": []
    },
    {
      "cell_type": "code",
      "metadata": {
        "id": "IDJTpGnJYgXy"
      },
      "source": [
        "'''\n",
        "for j in tqdm(keypoints_all_left_daisy + keypoints_all_right_daisy[1:]):\n",
        "  num_kps_daisy.append(len(j))"
      ],
      "execution_count": null,
      "outputs": []
    },
    {
      "cell_type": "code",
      "metadata": {
        "id": "sTp2Q-HdYgTH"
      },
      "source": [
        "'''\n",
        "all_feat_daisy_left = []\n",
        "for cnt,kpt_all in enumerate(keypoints_all_left_daisy):\n",
        "  all_feat_daisy_left_each = []\n",
        "  for cnt_each, kpt in enumerate(kpt_all):\n",
        "    desc = descriptors_all_left_daisy[cnt][cnt_each]\n",
        "    temp = (kpt.pt, kpt.size, kpt.angle, kpt.response, kpt.octave, \n",
        "        kpt.class_id, desc)\n",
        "    all_feat_daisy_left_each.append(temp)\n",
        "  all_feat_daisy_left.append(all_feat_daisy_left_each)"
      ],
      "execution_count": null,
      "outputs": []
    },
    {
      "cell_type": "code",
      "metadata": {
        "id": "XqgObNhQYuhS"
      },
      "source": [
        "'''\n",
        "all_feat_daisy_right = []\n",
        "for cnt,kpt_all in enumerate(keypoints_all_right_daisy):\n",
        "  all_feat_daisy_right_each = []\n",
        "  for cnt_each, kpt in enumerate(kpt_all):\n",
        "    desc = descriptors_all_right_daisy[cnt][cnt_each]\n",
        "    temp = (kpt.pt, kpt.size, kpt.angle, kpt.response, kpt.octave, \n",
        "        kpt.class_id, desc)\n",
        "    all_feat_daisy_right_each.append(temp)\n",
        "  all_feat_daisy_right.append(all_feat_daisy_right_each)"
      ],
      "execution_count": null,
      "outputs": []
    },
    {
      "cell_type": "code",
      "metadata": {
        "id": "vidqbr5UYufD"
      },
      "source": [
        "'''\n",
        "del keypoints_all_left_daisy, keypoints_all_right_daisy, descriptors_all_left_daisy, descriptors_all_right_daisy"
      ],
      "execution_count": null,
      "outputs": []
    },
    {
      "cell_type": "code",
      "metadata": {
        "id": "4RbfnN6XYuYQ"
      },
      "source": [
        "'''\n",
        "import pickle\n",
        "Fdb = open('all_feat_daisy_left.dat', 'wb')\n",
        "pickle.dump(all_feat_daisy_left,Fdb,-1)\n",
        "Fdb.close()"
      ],
      "execution_count": null,
      "outputs": []
    },
    {
      "cell_type": "code",
      "metadata": {
        "id": "ia8arOghYuQP"
      },
      "source": [
        "'''\n",
        "import pickle\n",
        "Fdb = open('all_feat_daisy_right.dat', 'wb')\n",
        "pickle.dump(all_feat_daisy_right,Fdb,-1)\n",
        "Fdb.close()"
      ],
      "execution_count": null,
      "outputs": []
    },
    {
      "cell_type": "code",
      "metadata": {
        "id": "44W95xPWYuMD"
      },
      "source": [
        "'''\n",
        "del Fdb, all_feat_daisy_left, all_feat_daisy_right"
      ],
      "execution_count": null,
      "outputs": []
    },
    {
      "cell_type": "markdown",
      "metadata": {
        "id": "XnpjEZcGA1j_"
      },
      "source": [
        "SURF + SIFT"
      ]
    },
    {
      "cell_type": "code",
      "metadata": {
        "id": "zIZpQjn5A2CE"
      },
      "source": [
        "'''\n",
        "start = timer()\n",
        "\n",
        "surf = cv2.xfeatures2d.SURF_create(upright=1)\n",
        "sift = cv2.xfeatures2d.SIFT_create()\n",
        "\n",
        "keypoints_all_left_surfsift = []\n",
        "descriptors_all_left_surfsift = []\n",
        "points_all_left_surfsift=[]\n",
        "\n",
        "keypoints_all_right_surfsift = []\n",
        "descriptors_all_right_surfsift = []\n",
        "points_all_right_surfsift=[]\n",
        "\n",
        "for cnt in tqdm(range(len(left_files_path))):\n",
        "  f=h5.File('drive/MyDrive/all_images_bgr_sift_40.h5','r')\n",
        "  imgs = f['data'][cnt]\n",
        "  f.close()     \n",
        "  kpt = surf.detect(imgs,None)\n",
        "  kpt,descrip =  sift.compute(imgs, kpt)\n",
        "  keypoints_all_left_surfsift.append(kpt)\n",
        "  descriptors_all_left_surfsift.append(descrip)\n",
        "  #points_all_left_surfsift.append(np.asarray([[p.pt[0], p.pt[1]] for p in kpt]))\n",
        "\n",
        "for cnt in tqdm(range(len(right_files_path))):\n",
        "  f=h5.File('drive/MyDrive/all_images_bgr_sift_40.h5','r')\n",
        "  imgs = f['data'][cnt+len(left_files_path)]\n",
        "  f.close()  \n",
        "  kpt = surf.detect(imgs,None)\n",
        "  kpt,descrip =  sift.compute(imgs, kpt)\n",
        "  keypoints_all_right_surfsift.append(kpt)\n",
        "  descriptors_all_right_surfsift.append(descrip)\n",
        "  #points_all_right_surfsift.append(np.asarray([[p.pt[0], p.pt[1]] for p in kpt]))\n",
        "\n",
        "end = timer()\n",
        "\n",
        "time_all.append(end-start)"
      ],
      "execution_count": null,
      "outputs": []
    },
    {
      "cell_type": "code",
      "metadata": {
        "id": "b-si9W07A2q9"
      },
      "source": [
        "'''\n",
        "for j in tqdm(keypoints_all_left_surfsift + keypoints_all_right_surfsift[1:]):\n",
        "  num_kps_surfsift.append(len(j))"
      ],
      "execution_count": null,
      "outputs": []
    },
    {
      "cell_type": "code",
      "metadata": {
        "id": "yKXUSzbfA2Zx"
      },
      "source": [
        "'''\n",
        "all_feat_surfsift_left = []\n",
        "for cnt,kpt_all in enumerate(keypoints_all_left_surfsift):\n",
        "  all_feat_surfsift_left_each = []\n",
        "  for cnt_each, kpt in enumerate(kpt_all):\n",
        "    desc = descriptors_all_left_surfsift[cnt][cnt_each]\n",
        "    temp = (kpt.pt, kpt.size, kpt.angle, kpt.response, kpt.octave, \n",
        "        kpt.class_id, desc)\n",
        "    all_feat_surfsift_left_each.append(temp)\n",
        "  all_feat_surfsift_left.append(all_feat_surfsift_left_each)"
      ],
      "execution_count": null,
      "outputs": []
    },
    {
      "cell_type": "code",
      "metadata": {
        "id": "EA3GBpZABBjl"
      },
      "source": [
        "'''\n",
        "all_feat_surfsift_right = []\n",
        "for cnt,kpt_all in enumerate(keypoints_all_right_surfsift):\n",
        "  all_feat_surfsift_right_each = []\n",
        "  for cnt_each, kpt in enumerate(kpt_all):\n",
        "    desc = descriptors_all_right_surfsift[cnt][cnt_each]\n",
        "    temp = (kpt.pt, kpt.size, kpt.angle, kpt.response, kpt.octave, \n",
        "        kpt.class_id, desc)\n",
        "    all_feat_surfsift_right_each.append(temp)\n",
        "  all_feat_surfsift_right.append(all_feat_surfsift_right_each)"
      ],
      "execution_count": null,
      "outputs": []
    },
    {
      "cell_type": "code",
      "metadata": {
        "id": "95Xlu1ORBBeW"
      },
      "source": [
        "'''\n",
        "del keypoints_all_left_surfsift, keypoints_all_right_surfsift, descriptors_all_left_surfsift, descriptors_all_right_surfsift"
      ],
      "execution_count": null,
      "outputs": []
    },
    {
      "cell_type": "code",
      "metadata": {
        "id": "9SaqEJ1nBBYu"
      },
      "source": [
        "'''\n",
        "import pickle\n",
        "Fdb = open('all_feat_surfsift_left.dat', 'wb')\n",
        "pickle.dump(all_feat_surfsift_left,Fdb,-1)\n",
        "Fdb.close()"
      ],
      "execution_count": null,
      "outputs": []
    },
    {
      "cell_type": "code",
      "metadata": {
        "id": "dbUvyVuZBBS-"
      },
      "source": [
        "'''\n",
        "import pickle\n",
        "Fdb = open('all_feat_surfsift_right.dat', 'wb')\n",
        "pickle.dump(all_feat_surfsift_right,Fdb,-1)\n",
        "Fdb.close()"
      ],
      "execution_count": null,
      "outputs": []
    },
    {
      "cell_type": "code",
      "metadata": {
        "id": "0tNYxgZBBBNF"
      },
      "source": [
        "'''\n",
        "del Fdb, all_feat_surfsift_left, all_feat_surfsift_right"
      ],
      "execution_count": null,
      "outputs": []
    },
    {
      "cell_type": "markdown",
      "metadata": {
        "id": "2G9byE4MBLnF"
      },
      "source": [
        "SIFT"
      ]
    },
    {
      "cell_type": "code",
      "metadata": {
        "id": "I-CBqB4JBBHG",
        "colab": {
          "base_uri": "https://localhost:8080/"
        },
        "outputId": "e3f57675-786b-4b6d-d0e3-b450984876be"
      },
      "source": [
        "\n",
        "print(len(left_files_path))"
      ],
      "execution_count": 25,
      "outputs": [
        {
          "output_type": "stream",
          "text": [
            "61\n"
          ],
          "name": "stdout"
        }
      ]
    },
    {
      "cell_type": "code",
      "metadata": {
        "id": "0tcYtoM5BOhe",
        "colab": {
          "base_uri": "https://localhost:8080/"
        },
        "outputId": "2da57e0f-a556-406a-9ddd-cc95075396dd"
      },
      "source": [
        "\n",
        "print(len(right_files_path))"
      ],
      "execution_count": 26,
      "outputs": [
        {
          "output_type": "stream",
          "text": [
            "60\n"
          ],
          "name": "stdout"
        }
      ]
    },
    {
      "cell_type": "code",
      "metadata": {
        "id": "F3JjADHCBOeI"
      },
      "source": [
        "# H5 file w/o compression\n",
        "#t0=time.time()\n",
        "#f=h5.File('drive/MyDrive/all_images_bgr_sift.h5','r')\n",
        "#print('HDF5  w/o comp.: data shape =',len(f['data'][0]),time.time()-t0,'[s]')\n",
        "#f.close()"
      ],
      "execution_count": null,
      "outputs": []
    },
    {
      "cell_type": "code",
      "metadata": {
        "id": "Zq3pEMS_BOa9"
      },
      "source": [
        "#del f"
      ],
      "execution_count": null,
      "outputs": []
    },
    {
      "cell_type": "code",
      "metadata": {
        "id": "h8m3R7gIBOXf",
        "colab": {
          "base_uri": "https://localhost:8080/"
        },
        "outputId": "870475aa-443d-4e74-aac8-939c01f9814f"
      },
      "source": [
        "\n",
        "start = timer()\n",
        "\n",
        "sift = cv2.xfeatures2d.SIFT_create(nfeatures = 1000, contrastThreshold=0.02, edgeThreshold=4)\n",
        "keypoints_all_left_sift = []\n",
        "descriptors_all_left_sift = []\n",
        "points_all_left_sift=[]\n",
        "\n",
        "keypoints_all_right_sift = []\n",
        "descriptors_all_right_sift = []\n",
        "points_all_right_sift=[]\n",
        "\n",
        "\n",
        "for cnt in tqdm(range(len(left_files_path))):\n",
        "  f=h5.File(f'drive/MyDrive/all_images_bgr_{Dataset}.h5','r')\n",
        "  imgs = f['data'][cnt]\n",
        "  f.close()\n",
        "  kpt = sift.detect(imgs,None)\n",
        "  kpt,descrip =  sift.compute(imgs, kpt)\n",
        "  keypoints_all_left_sift.append(kpt)\n",
        "  descriptors_all_left_sift.append(descrip)\n",
        "  #points_all_left_sift.append(np.asarray([[p.pt[0], p.pt[1]] for p in kpt]))\n",
        "\n",
        "for cnt in tqdm(range(len(right_files_path))):\n",
        "  f=h5.File(f'drive/MyDrive/all_images_bgr_{Dataset}.h5','r')\n",
        "  imgs = f['data'][cnt+len(left_files_path)]\n",
        "  f.close()\n",
        "  kpt = sift.detect(imgs,None)\n",
        "  kpt,descrip =  sift.compute(imgs, kpt)\n",
        "  keypoints_all_right_sift.append(kpt)\n",
        "  descriptors_all_right_sift.append(descrip)\n",
        "  #points_all_right_sift.append(np.asarray([[p.pt[0], p.pt[1]] for p in kpt]))\n",
        "\n",
        "end = timer()\n",
        "\n",
        "time_all.append(end-start)"
      ],
      "execution_count": 28,
      "outputs": [
        {
          "output_type": "stream",
          "text": [
            "100%|██████████| 61/61 [01:08<00:00,  1.12s/it]\n",
            "100%|██████████| 60/60 [01:09<00:00,  1.16s/it]\n"
          ],
          "name": "stderr"
        }
      ]
    },
    {
      "cell_type": "code",
      "metadata": {
        "id": "SB_q6BV-BOTE",
        "colab": {
          "base_uri": "https://localhost:8080/"
        },
        "outputId": "2e1d5a63-1fbe-40c8-d487-a38a5d67653e"
      },
      "source": [
        "\n",
        "for j in tqdm(keypoints_all_left_sift + keypoints_all_right_sift[1:]):\n",
        "  num_kps_sift.append(len(j))"
      ],
      "execution_count": 29,
      "outputs": [
        {
          "output_type": "stream",
          "text": [
            "100%|██████████| 120/120 [00:00<00:00, 34947.68it/s]\n"
          ],
          "name": "stderr"
        }
      ]
    },
    {
      "cell_type": "code",
      "metadata": {
        "id": "uaOGm1MTBOPJ"
      },
      "source": [
        "'''\n",
        "all_feat_sift_left = []\n",
        "for cnt,kpt_all in enumerate(keypoints_all_left_sift):\n",
        "  all_feat_sift_left_each = []\n",
        "  for cnt_each, kpt in enumerate(kpt_all):\n",
        "    desc = descriptors_all_left_sift[cnt][cnt_each]\n",
        "    temp = (kpt.pt, kpt.size, kpt.angle, kpt.response, kpt.octave, \n",
        "        kpt.class_id, desc)\n",
        "    all_feat_sift_left_each.append(temp)\n",
        "  all_feat_sift_left.append(all_feat_sift_left_each)"
      ],
      "execution_count": null,
      "outputs": []
    },
    {
      "cell_type": "code",
      "metadata": {
        "id": "jTLEBcppBOJm"
      },
      "source": [
        "'''\n",
        "all_feat_sift_right = []\n",
        "for cnt,kpt_all in enumerate(keypoints_all_right_sift):\n",
        "  all_feat_sift_right_each = []\n",
        "  for cnt_each, kpt in enumerate(kpt_all):\n",
        "    desc = descriptors_all_right_sift[cnt][cnt_each]\n",
        "    temp = (kpt.pt, kpt.size, kpt.angle, kpt.response, kpt.octave, \n",
        "        kpt.class_id, desc)\n",
        "    all_feat_sift_right_each.append(temp)\n",
        "  all_feat_sift_right.append(all_feat_sift_right_each)"
      ],
      "execution_count": null,
      "outputs": []
    },
    {
      "cell_type": "code",
      "metadata": {
        "id": "vuzpJ4aWBcFv"
      },
      "source": [
        "'''\n",
        "del keypoints_all_left_sift, keypoints_all_right_sift, descriptors_all_left_sift, descriptors_all_right_sift"
      ],
      "execution_count": null,
      "outputs": []
    },
    {
      "cell_type": "code",
      "metadata": {
        "id": "keX-zbR5BcAC"
      },
      "source": [
        "'''\n",
        "import pickle\n",
        "Fdb = open('all_feat_sift_left.dat', 'wb')\n",
        "pickle.dump(all_feat_sift_left,Fdb,-1)\n",
        "Fdb.close()"
      ],
      "execution_count": null,
      "outputs": []
    },
    {
      "cell_type": "code",
      "metadata": {
        "id": "LzV0lBZnBb3_"
      },
      "source": [
        "'''\n",
        "import pickle\n",
        "Fdb = open('all_feat_sift_right.dat', 'wb')\n",
        "pickle.dump(all_feat_sift_right,Fdb,-1)\n",
        "Fdb.close()"
      ],
      "execution_count": null,
      "outputs": []
    },
    {
      "cell_type": "code",
      "metadata": {
        "id": "FsrOHWZcBbwW"
      },
      "source": [
        "'''\n",
        "del Fdb, all_feat_sift_left, all_feat_sift_right"
      ],
      "execution_count": null,
      "outputs": []
    },
    {
      "cell_type": "code",
      "metadata": {
        "id": "J3rAfnOBBi0_"
      },
      "source": [
        "#del keypoints_all_right_sift, keypoints_all_left_sift, descriptors_all_right_sift, descriptors_all_left_sift, points_all_right_sift, points_all_left_sift"
      ],
      "execution_count": null,
      "outputs": []
    },
    {
      "cell_type": "markdown",
      "metadata": {
        "id": "6-hRX8jrBkrp"
      },
      "source": [
        "SURF"
      ]
    },
    {
      "cell_type": "code",
      "metadata": {
        "id": "Ql4NScZ1Biut",
        "colab": {
          "base_uri": "https://localhost:8080/"
        },
        "outputId": "7eea16a9-537f-40db-b14b-9a420c3f6983"
      },
      "source": [
        "\n",
        "start = timer()\n",
        "\n",
        "surf  = cv2.xfeatures2d.SURF_create(nOctaves = 3, hessianThreshold = 60 ,upright=1)\n",
        "keypoints_all_left_surf = []\n",
        "descriptors_all_left_surf = []\n",
        "points_all_left_surf=[]\n",
        "\n",
        "keypoints_all_right_surf = []\n",
        "descriptors_all_right_surf = []\n",
        "points_all_right_surf=[]\n",
        "\n",
        "for cnt in tqdm(range(len(left_files_path))):\n",
        "  f=h5.File(f'drive/MyDrive/all_images_bgr_{Dataset}.h5','r')\n",
        "  imgs = f['data'][cnt]\n",
        "  f.close()  \n",
        "  kpt = surf.detect(imgs,None)\n",
        "  kpt,descrip =  surf.compute(imgs, kpt)\n",
        "  keypoints_all_left_surf.append(kpt)\n",
        "  descriptors_all_left_surf.append(descrip)\n",
        "  #points_all_left_surf.append(np.asarray([[p.pt[0], p.pt[1]] for p in kpt]))\n",
        "\n",
        "for cnt in tqdm(range(len(right_files_path))):\n",
        "  f=h5.File(f'drive/MyDrive/all_images_bgr_{Dataset}.h5','r')\n",
        "  imgs = f['data'][cnt+len(left_files_path)]\n",
        "  f.close()  \n",
        "  kpt = surf.detect(imgs,None)\n",
        "  kpt,descrip =  surf.compute(imgs, kpt)\n",
        "  keypoints_all_right_surf.append(kpt)\n",
        "  descriptors_all_right_surf.append(descrip)\n",
        "  #points_all_right_surf.append(np.asarray([[p.pt[0], p.pt[1]] for p in kpt]))\n",
        "\n",
        "end = timer()\n",
        "\n",
        "time_all.append(end-start)"
      ],
      "execution_count": 30,
      "outputs": [
        {
          "output_type": "stream",
          "text": [
            "100%|██████████| 61/61 [01:48<00:00,  1.78s/it]\n",
            "100%|██████████| 60/60 [01:35<00:00,  1.60s/it]\n"
          ],
          "name": "stderr"
        }
      ]
    },
    {
      "cell_type": "code",
      "metadata": {
        "id": "ebC3Q3MBBm4O",
        "colab": {
          "base_uri": "https://localhost:8080/"
        },
        "outputId": "5e7d6757-eb29-4601-8aa9-11d9bd7e1a3b"
      },
      "source": [
        "\n",
        "for j in tqdm(keypoints_all_left_surf + keypoints_all_right_surf[1:]):\n",
        "  num_kps_surf.append(len(j))"
      ],
      "execution_count": 31,
      "outputs": [
        {
          "output_type": "stream",
          "text": [
            "100%|██████████| 120/120 [00:00<00:00, 41056.90it/s]\n"
          ],
          "name": "stderr"
        }
      ]
    },
    {
      "cell_type": "code",
      "metadata": {
        "id": "E3tsk0eJBm0o"
      },
      "source": [
        "'''\n",
        "all_feat_surf_left = []\n",
        "for cnt,kpt_all in enumerate(keypoints_all_left_surf):\n",
        "  all_feat_surf_left_each = []\n",
        "  for cnt_each, kpt in enumerate(kpt_all):\n",
        "    desc = descriptors_all_left_surf[cnt][cnt_each]\n",
        "    temp = (kpt.pt, kpt.size, kpt.angle, kpt.response, kpt.octave, \n",
        "        kpt.class_id, desc)\n",
        "    all_feat_surf_left_each.append(temp)\n",
        "  all_feat_surf_left.append(all_feat_surf_left_each)"
      ],
      "execution_count": null,
      "outputs": []
    },
    {
      "cell_type": "code",
      "metadata": {
        "id": "U-RykyRjBmx1"
      },
      "source": [
        "'''\n",
        "all_feat_surf_right = []\n",
        "for cnt,kpt_all in enumerate(keypoints_all_right_surf):\n",
        "  all_feat_surf_right_each = []\n",
        "  for cnt_each, kpt in enumerate(kpt_all):\n",
        "    desc = descriptors_all_right_surf[cnt][cnt_each]\n",
        "    temp = (kpt.pt, kpt.size, kpt.angle, kpt.response, kpt.octave, \n",
        "        kpt.class_id, desc)\n",
        "    all_feat_surf_right_each.append(temp)\n",
        "  all_feat_surf_right.append(all_feat_surf_right_each)"
      ],
      "execution_count": null,
      "outputs": []
    },
    {
      "cell_type": "code",
      "metadata": {
        "id": "fBXM6S9VBmuh"
      },
      "source": [
        "'''\n",
        "del keypoints_all_left_surf, keypoints_all_right_surf, descriptors_all_left_surf, descriptors_all_right_surf"
      ],
      "execution_count": null,
      "outputs": []
    },
    {
      "cell_type": "code",
      "metadata": {
        "id": "OnYtZPMHBmqx"
      },
      "source": [
        "'''\n",
        "import pickle\n",
        "Fdb = open('all_feat_surf_left.dat', 'wb')\n",
        "pickle.dump(all_feat_surf_left,Fdb,-1)\n",
        "Fdb.close()"
      ],
      "execution_count": null,
      "outputs": []
    },
    {
      "cell_type": "code",
      "metadata": {
        "id": "eYl890XMByIG"
      },
      "source": [
        "'''\n",
        "import pickle\n",
        "Fdb = open('all_feat_surf_right.dat', 'wb')\n",
        "pickle.dump(all_feat_surf_right,Fdb,-1)\n",
        "Fdb.close()"
      ],
      "execution_count": null,
      "outputs": []
    },
    {
      "cell_type": "code",
      "metadata": {
        "id": "SIu9u7gPB0Mo"
      },
      "source": [
        "'''\n",
        "del Fdb, all_feat_surf_left, all_feat_surf_right"
      ],
      "execution_count": null,
      "outputs": []
    },
    {
      "cell_type": "markdown",
      "metadata": {
        "id": "4X-Xmis2Y9k8"
      },
      "source": [
        "ROOTSIFT"
      ]
    },
    {
      "cell_type": "code",
      "metadata": {
        "id": "uq-AUPpAY5CN"
      },
      "source": [
        "'''class RootSIFT:\n",
        "  def __init__(self):\n",
        "    # initialize the SIFT feature extractor\n",
        "    #self.extractor = cv2.DescriptorExtractor_create(\"SIFT\")\n",
        "    self.sift = cv2.xfeatures2d.SIFT_create()\n",
        "\n",
        "  def compute(self, image, kps, eps=1e-7):\n",
        "    # compute SIFT descriptors\n",
        "    (kps, descs) = self.sift.compute(image, kps)\n",
        "\n",
        "    # if there are no keypoints or descriptors, return an empty tuple\n",
        "    if len(kps) == 0:\n",
        "      return ([], None)\n",
        "\n",
        "    # apply the Hellinger kernel by first L1-normalizing, taking the\n",
        "    # square-root, and then L2-normalizing\n",
        "    descs /= (np.linalg.norm(descs, axis=0, ord=2) + eps)\n",
        "    descs /= (descs.sum(axis=0) + eps)\n",
        "    descs = np.sqrt(descs)\n",
        "    #descs /= (np.linalg.norm(descs, axis=0, ord=2) + eps)\n",
        "\n",
        "    # return a tuple of the keypoints and descriptors\n",
        "    return (kps, descs)"
      ],
      "execution_count": null,
      "outputs": []
    },
    {
      "cell_type": "code",
      "metadata": {
        "id": "vKVJojBAY49D",
        "colab": {
          "base_uri": "https://localhost:8080/"
        },
        "outputId": "2134d2df-f662-4c18-b584-ef9d095f1735"
      },
      "source": [
        "'''start = timer()\n",
        "\n",
        "sift = cv2.xfeatures2d.SIFT_create()\n",
        "rootsift = RootSIFT()\n",
        "keypoints_all_left_rootsift = []\n",
        "descriptors_all_left_rootsift = []\n",
        "points_all_left_rootsift=[]\n",
        "\n",
        "keypoints_all_right_rootsift = []\n",
        "descriptors_all_right_rootsift = []\n",
        "points_all_right_rootsift=[]\n",
        "\n",
        "for cnt in tqdm(range(len(left_files_path))):\n",
        "  f=h5.File(f'drive/MyDrive/all_images_bgr_{Dataset}.h5','r')\n",
        "  imgs = f['data'][cnt]\n",
        "  f.close()  \n",
        "  kpt = sift.detect(imgs,None)\n",
        "  kpt,descrip =  rootsift.compute(imgs, kpt)\n",
        "  keypoints_all_left_rootsift.append(kpt)\n",
        "  descriptors_all_left_rootsift.append(descrip)\n",
        "  #points_all_left_rootsift.append(np.asarray([[p.pt[0], p.pt[1]] for p in kpt]))\n",
        "\n",
        "for cnt in tqdm(range(len(right_files_path))):\n",
        "  f=h5.File(f'drive/MyDrive/all_images_bgr_{Dataset}.h5','r')\n",
        "  imgs = f['data'][cnt+len(left_files_path)]\n",
        "  f.close()  \n",
        "  kpt = sift.detect(imgs,None)\n",
        "  kpt,descrip =  rootsift.compute(imgs, kpt)\n",
        "  keypoints_all_right_rootsift.append(kpt)\n",
        "  descriptors_all_right_rootsift.append(descrip)\n",
        "  #points_all_right_rootsift.append(np.asarray([[p.pt[0], p.pt[1]] for p in kpt]))\n",
        "\n",
        "end = timer()\n",
        "\n",
        "time_all.append(end-start)"
      ],
      "execution_count": null,
      "outputs": [
        {
          "output_type": "stream",
          "text": [
            "100%|██████████| 61/61 [02:10<00:00,  2.14s/it]\n",
            "100%|██████████| 60/60 [02:08<00:00,  2.14s/it]\n"
          ],
          "name": "stderr"
        }
      ]
    },
    {
      "cell_type": "code",
      "metadata": {
        "id": "P-pIYbFDY44T",
        "colab": {
          "base_uri": "https://localhost:8080/"
        },
        "outputId": "b10b75a4-986f-485c-98bc-71952a78ba22"
      },
      "source": [
        "'''for j in tqdm(keypoints_all_left_rootsift + keypoints_all_right_rootsift[1:]):\n",
        "  num_kps_rootsift.append(len(j))"
      ],
      "execution_count": null,
      "outputs": [
        {
          "output_type": "stream",
          "text": [
            "100%|██████████| 120/120 [00:00<00:00, 49388.33it/s]\n"
          ],
          "name": "stderr"
        }
      ]
    },
    {
      "cell_type": "code",
      "metadata": {
        "id": "TzaUmPtGY4y3"
      },
      "source": [
        "'''all_feat_rootsift_left = []\n",
        "for cnt,kpt_all in enumerate(keypoints_all_left_rootsift):\n",
        "  all_feat_rootsift_left_each = []\n",
        "  for cnt_each, kpt in enumerate(kpt_all):\n",
        "    desc = descriptors_all_left_rootsift[cnt][cnt_each]\n",
        "    temp = (kpt.pt, kpt.size, kpt.angle, kpt.response, kpt.octave, \n",
        "        kpt.class_id, desc)\n",
        "    all_feat_rootsift_left_each.append(temp)\n",
        "  all_feat_rootsift_left.append(all_feat_rootsift_left_each)"
      ],
      "execution_count": null,
      "outputs": []
    },
    {
      "cell_type": "code",
      "metadata": {
        "id": "WOz51FvlY4uE"
      },
      "source": [
        "'''all_feat_rootsift_right = []\n",
        "for cnt,kpt_all in enumerate(keypoints_all_right_rootsift):\n",
        "  all_feat_rootsift_right_each = []\n",
        "  for cnt_each, kpt in enumerate(kpt_all):\n",
        "    desc = descriptors_all_right_rootsift[cnt][cnt_each]\n",
        "    temp = (kpt.pt, kpt.size, kpt.angle, kpt.response, kpt.octave, \n",
        "        kpt.class_id, desc)\n",
        "    all_feat_rootsift_right_each.append(temp)\n",
        "  all_feat_rootsift_right.append(all_feat_rootsift_right_each)"
      ],
      "execution_count": null,
      "outputs": []
    },
    {
      "cell_type": "code",
      "metadata": {
        "id": "_j2VRWDAY4of"
      },
      "source": [
        "'''del keypoints_all_left_rootsift, keypoints_all_right_rootsift, descriptors_all_left_rootsift, descriptors_all_right_rootsift"
      ],
      "execution_count": null,
      "outputs": []
    },
    {
      "cell_type": "code",
      "metadata": {
        "id": "2ZbKnM1ZY4jI"
      },
      "source": [
        "'''import pickle\n",
        "Fdb = open('all_feat_rootsift_left.dat', 'wb')\n",
        "pickle.dump(all_feat_rootsift_left,Fdb,-1)\n",
        "Fdb.close()"
      ],
      "execution_count": null,
      "outputs": []
    },
    {
      "cell_type": "code",
      "metadata": {
        "id": "ImEPlaTtY4dc"
      },
      "source": [
        "'''import pickle\n",
        "Fdb = open('all_feat_rootsift_right.dat', 'wb')\n",
        "pickle.dump(all_feat_rootsift_right,Fdb,-1)\n",
        "Fdb.close()"
      ],
      "execution_count": null,
      "outputs": []
    },
    {
      "cell_type": "code",
      "metadata": {
        "id": "kxznTKgpZM01"
      },
      "source": [
        "'''del Fdb, all_feat_rootsift_left, all_feat_rootsift_right"
      ],
      "execution_count": null,
      "outputs": []
    },
    {
      "cell_type": "markdown",
      "metadata": {
        "id": "DMidlSPsB6XZ"
      },
      "source": [
        "SuperPoint"
      ]
    },
    {
      "cell_type": "code",
      "metadata": {
        "id": "bWZhoEjuZfIv"
      },
      "source": [
        "'''\n",
        "!git clone https://github.com/magicleap/SuperPointPretrainedNetwork.git"
      ],
      "execution_count": null,
      "outputs": []
    },
    {
      "cell_type": "code",
      "metadata": {
        "id": "Z6bD80zQZfCR"
      },
      "source": [
        "'''\n",
        "weights_path = 'SuperPointPretrainedNetwork/superpoint_v1.pth'\n",
        "\n",
        "cuda = 'True'"
      ],
      "execution_count": null,
      "outputs": []
    },
    {
      "cell_type": "code",
      "metadata": {
        "id": "TIiSaHNCCG_i"
      },
      "source": [
        "'''\n",
        "def to_kpts(pts, size=1):\n",
        "  return [cv2.KeyPoint(pt[0], pt[1], size) for pt in pts]"
      ],
      "execution_count": null,
      "outputs": []
    },
    {
      "cell_type": "code",
      "metadata": {
        "id": "kHzRz_l5CG6B"
      },
      "source": [
        "'''\n",
        "import numpy as np\n",
        "import torch\n",
        "import torch.nn as nn\n",
        "import torch.nn.functional as F\n",
        "\n",
        "torch.cuda.empty_cache()\n",
        "\n",
        "class SuperPointNet(nn.Module):\n",
        "    def __init__(self):\n",
        "        super(SuperPointNet, self).__init__()\n",
        "        self.relu = nn.ReLU(inplace=True)\n",
        "        self.pool = nn.MaxPool2d(kernel_size=2, stride=2)\n",
        "        c1, c2, c3, c4, c5, d1 = 64, 64, 128, 128, 256, 256\n",
        "        # Shared Encoder.\n",
        "        self.conv1a = nn.Conv2d(1, c1, kernel_size=3, stride=1, padding=1)\n",
        "        self.conv1b = nn.Conv2d(c1, c1, kernel_size=3, stride=1, padding=1)\n",
        "        self.conv2a = nn.Conv2d(c1, c2, kernel_size=3, stride=1, padding=1)\n",
        "        self.conv2b = nn.Conv2d(c2, c2, kernel_size=3, stride=1, padding=1)\n",
        "        self.conv3a = nn.Conv2d(c2, c3, kernel_size=3, stride=1, padding=1)\n",
        "        self.conv3b = nn.Conv2d(c3, c3, kernel_size=3, stride=1, padding=1)\n",
        "        self.conv4a = nn.Conv2d(c3, c4, kernel_size=3, stride=1, padding=1)\n",
        "        self.conv4b = nn.Conv2d(c4, c4, kernel_size=3, stride=1, padding=1)\n",
        "        # Detector Head.\n",
        "        self.convPa = nn.Conv2d(c4, c5, kernel_size=3, stride=1, padding=1)\n",
        "        self.convPb = nn.Conv2d(c5, 65, kernel_size=1, stride=1, padding=0)\n",
        "        # Descriptor Head.\n",
        "        self.convDa = nn.Conv2d(c4, c5, kernel_size=3, stride=1, padding=1)\n",
        "        self.convDb = nn.Conv2d(c5, d1, kernel_size=1, stride=1, padding=0)\n",
        "\n",
        "    def forward(self, x):\n",
        "\n",
        "        # Shared Encoder.\n",
        "        x = self.relu(self.conv1a(x))\n",
        "        x = self.relu(self.conv1b(x))\n",
        "        x = self.pool(x)\n",
        "        x = self.relu(self.conv2a(x))\n",
        "        x = self.relu(self.conv2b(x))\n",
        "        x = self.pool(x)\n",
        "        x = self.relu(self.conv3a(x))\n",
        "        x = self.relu(self.conv3b(x))\n",
        "        x = self.pool(x)\n",
        "        x = self.relu(self.conv4a(x))\n",
        "        x = self.relu(self.conv4b(x))\n",
        "        # Detector Head.\n",
        "        cPa = self.relu(self.convPa(x))\n",
        "        semi = self.convPb(cPa)\n",
        "        # Descriptor Head.\n",
        "        cDa = self.relu(self.convDa(x))\n",
        "        desc = self.convDb(cDa)\n",
        "        dn = torch.norm(desc, p=2, dim=1) # Compute the norm.\n",
        "        desc = desc.div(torch.unsqueeze(dn, 1)) # Divide by norm to normalize.\n",
        "        return semi, desc\n",
        "\n",
        "\n",
        "class SuperPointFrontend(object):\n",
        "    def __init__(self, weights_path, nms_dist, conf_thresh, nn_thresh,cuda=True):\n",
        "        self.name = 'SuperPoint'\n",
        "        self.cuda = cuda\n",
        "        self.nms_dist = nms_dist\n",
        "        self.conf_thresh = conf_thresh\n",
        "        self.nn_thresh = nn_thresh # L2 descriptor distance for good match.\n",
        "        self.cell = 8 # Size of each output cell. Keep this fixed.\n",
        "        self.border_remove = 4 # Remove points this close to the border.\n",
        "\n",
        "        # Load the network in inference mode.\n",
        "        self.net = SuperPointNet()\n",
        "        if cuda:\n",
        "          # Train on GPU, deploy on GPU.\n",
        "            self.net.load_state_dict(torch.load(weights_path))\n",
        "            self.net = self.net.cuda()\n",
        "        else:\n",
        "          # Train on GPU, deploy on CPU.\n",
        "            self.net.load_state_dict(torch.load(weights_path, map_location=lambda storage, loc: storage))\n",
        "        self.net.eval()\n",
        "\n",
        "    def nms_fast(self, in_corners, H, W, dist_thresh):\n",
        "\n",
        "        grid = np.zeros((H, W)).astype(int) # Track NMS data.\n",
        "        inds = np.zeros((H, W)).astype(int) # Store indices of points.\n",
        "        # Sort by confidence and round to nearest int.\n",
        "        inds1 = np.argsort(-in_corners[2,:])\n",
        "        corners = in_corners[:,inds1]\n",
        "        rcorners = corners[:2,:].round().astype(int) # Rounded corners.\n",
        "        # Check for edge case of 0 or 1 corners.\n",
        "        if rcorners.shape[1] == 0:\n",
        "            return np.zeros((3,0)).astype(int), np.zeros(0).astype(int)\n",
        "        if rcorners.shape[1] == 1:\n",
        "            out = np.vstack((rcorners, in_corners[2])).reshape(3,1)\n",
        "            return out, np.zeros((1)).astype(int)\n",
        "        # Initialize the grid.\n",
        "        for i, rc in enumerate(rcorners.T):\n",
        "            grid[rcorners[1,i], rcorners[0,i]] = 1\n",
        "            inds[rcorners[1,i], rcorners[0,i]] = i\n",
        "        # Pad the border of the grid, so that we can NMS points near the border.\n",
        "        pad = dist_thresh\n",
        "        grid = np.pad(grid, ((pad,pad), (pad,pad)), mode='constant')\n",
        "        # Iterate through points, highest to lowest conf, suppress neighborhood.\n",
        "        count = 0\n",
        "        for i, rc in enumerate(rcorners.T):\n",
        "          # Account for top and left padding.\n",
        "            pt = (rc[0]+pad, rc[1]+pad)\n",
        "            if grid[pt[1], pt[0]] == 1: # If not yet suppressed.\n",
        "                grid[pt[1]-pad:pt[1]+pad+1, pt[0]-pad:pt[0]+pad+1] = 0\n",
        "                grid[pt[1], pt[0]] = -1\n",
        "                count += 1\n",
        "        # Get all surviving -1's and return sorted array of remaining corners.\n",
        "        keepy, keepx = np.where(grid==-1)\n",
        "        keepy, keepx = keepy - pad, keepx - pad\n",
        "        inds_keep = inds[keepy, keepx]\n",
        "        out = corners[:, inds_keep]\n",
        "        values = out[-1, :]\n",
        "        inds2 = np.argsort(-values)\n",
        "        out = out[:, inds2]\n",
        "        out_inds = inds1[inds_keep[inds2]]\n",
        "        return out, out_inds\n",
        "\n",
        "    def run(self, img):\n",
        "        assert img.ndim == 2 #Image must be grayscale.\n",
        "        assert img.dtype == np.float32 #Image must be float32.\n",
        "        H, W = img.shape[0], img.shape[1]\n",
        "        inp = img.copy()\n",
        "        inp = (inp.reshape(1, H, W))\n",
        "        inp = torch.from_numpy(inp)\n",
        "        inp = torch.autograd.Variable(inp).view(1, 1, H, W)\n",
        "        if self.cuda:\n",
        "            inp = inp.cuda()\n",
        "        # Forward pass of network.\n",
        "        outs = self.net.forward(inp)\n",
        "        semi, coarse_desc = outs[0], outs[1]\n",
        "        # Convert pytorch -> numpy.\n",
        "        semi = semi.data.cpu().numpy().squeeze()\n",
        "        \n",
        "        # --- Process points.\n",
        "        dense = np.exp(semi) # Softmax.\n",
        "        dense = dense / (np.sum(dense, axis=0)+.00001) # Should sum to 1.\n",
        "        nodust = dense[:-1, :, :]\n",
        "        # Reshape to get full resolution heatmap.\n",
        "        Hc = int(H / self.cell)\n",
        "        Wc = int(W / self.cell)\n",
        "        nodust = np.transpose(nodust, [1, 2, 0])\n",
        "        heatmap = np.reshape(nodust, [Hc, Wc, self.cell, self.cell])\n",
        "        heatmap = np.transpose(heatmap, [0, 2, 1, 3])\n",
        "        heatmap = np.reshape(heatmap, [Hc*self.cell, Wc*self.cell]) \n",
        "        prob_map = heatmap/np.sum(np.sum(heatmap))\n",
        "        \n",
        "        return heatmap, coarse_desc\n",
        "\n",
        "\n",
        "    def key_pt_sampling(self, img, heat_map, coarse_desc, sampled):\n",
        "        \n",
        "        H, W = img.shape[0], img.shape[1]\n",
        "\n",
        "        xs, ys = np.where(heat_map >= self.conf_thresh) # Confidence threshold.\n",
        "        if len(xs) == 0:\n",
        "            return np.zeros((3, 0)), None, None\n",
        "        print(\"number of pts selected :\", len(xs))\n",
        "        \n",
        "        \n",
        "        pts = np.zeros((3, len(xs))) # Populate point data sized 3xN.\n",
        "        pts[0, :] = ys\n",
        "        pts[1, :] = xs\n",
        "        pts[2, :] = heat_map[xs, ys]\n",
        "        pts, _ = self.nms_fast(pts, H, W, dist_thresh=self.nms_dist) # Apply NMS.\n",
        "        inds = np.argsort(pts[2,:])\n",
        "        pts = pts[:,inds[::-1]] # Sort by confidence.\n",
        "        bord = self.border_remove\n",
        "        toremoveW = np.logical_or(pts[0, :] < bord, pts[0, :] >= (W-bord))\n",
        "        toremoveH = np.logical_or(pts[1, :] < bord, pts[1, :] >= (H-bord))\n",
        "        toremove = np.logical_or(toremoveW, toremoveH)\n",
        "        pts = pts[:, ~toremove]\n",
        "        pts = pts[:,0:sampled] #we take 2000 keypoints with highest probability from heatmap for our benchmark\n",
        "        \n",
        "        # --- Process descriptor.\n",
        "        D = coarse_desc.shape[1]\n",
        "        if pts.shape[1] == 0:\n",
        "            desc = np.zeros((D, 0))\n",
        "        else:\n",
        "          # Interpolate into descriptor map using 2D point locations.\n",
        "            samp_pts = torch.from_numpy(pts[:2, :].copy())\n",
        "            samp_pts[0, :] = (samp_pts[0, :] / (float(W)/2.)) - 1.\n",
        "            samp_pts[1, :] = (samp_pts[1, :] / (float(H)/2.)) - 1.\n",
        "            samp_pts = samp_pts.transpose(0, 1).contiguous()\n",
        "            samp_pts = samp_pts.view(1, 1, -1, 2)\n",
        "            samp_pts = samp_pts.float()\n",
        "            if self.cuda:\n",
        "                samp_pts = samp_pts.cuda()            \n",
        "            desc = nn.functional.grid_sample(coarse_desc, samp_pts)\n",
        "            desc = desc.data.cpu().numpy().reshape(D, -1)\n",
        "            desc /= np.linalg.norm(desc, axis=0)[np.newaxis, :]\n",
        "\n",
        "            \n",
        "        return pts, desc"
      ],
      "execution_count": null,
      "outputs": []
    },
    {
      "cell_type": "code",
      "metadata": {
        "id": "v_NTKvX5CG0h"
      },
      "source": [
        "'''\n",
        "print('Loading pre-trained network.')\n",
        "# This class runs the SuperPoint network and processes its outputs.\n",
        "fe = SuperPointFrontend(weights_path=weights_path,nms_dist = 3,conf_thresh = 0.01,nn_thresh=0.5)\n",
        "print('Successfully loaded pre-trained network.')"
      ],
      "execution_count": null,
      "outputs": []
    },
    {
      "cell_type": "code",
      "metadata": {
        "id": "zARa2vimCGu2"
      },
      "source": [
        "'''\n",
        "start = timer()\n",
        "\n",
        "keypoints_all_left_superpoint = []\n",
        "descriptors_all_left_superpoint = []\n",
        "points_all_left_superpoint=[]\n",
        "\n",
        "keypoints_all_right_superpoint = []\n",
        "descriptors_all_right_superpoint = []\n",
        "points_all_right_superpoint=[]\n",
        "\n",
        "tqdm = partial(tqdm, position=0, leave=True)\n",
        "\n",
        "for cnt in tqdm(range(len(left_files_path))):\n",
        "  f=h5.File(f'drive/MyDrive/all_images_gray_{Dataset}.h5','r')\n",
        "  lfpth = f['data'][cnt]\n",
        "  f.close()  \n",
        "  heatmap1, coarse_desc1 = fe.run(lfpth)\n",
        "  pts_1, desc_1 = fe.key_pt_sampling(lfpth, heatmap1, coarse_desc1, 80000) #Getting keypoints and descriptors for 1st image\n",
        "\n",
        "  keypoints_all_left_superpoint.append(to_kpts(pts_1.T))\n",
        "  descriptors_all_left_superpoint.append(desc_1.T)\n",
        "  #points_all_left_superpoint.append(pts_1.T)\n",
        "\n",
        "\n",
        "for cnt in tqdm(range(len(right_files_path))):\n",
        "  f=h5.File(f'drive/MyDrive/all_images_gray_{Dataset}.h5','r')\n",
        "  rfpth = f['data'][cnt]\n",
        "  f.close()  \n",
        "  heatmap1, coarse_desc1 = fe.run(rfpth)\n",
        "  pts_1, desc_1 = fe.key_pt_sampling(rfpth, heatmap1, coarse_desc1, 80000) #Getting keypoints and descriptors for 1st image\n",
        "\n",
        "  keypoints_all_right_superpoint.append(to_kpts(pts_1.T))\n",
        "  descriptors_all_right_superpoint.append(desc_1.T)\n",
        "  #points_all_right_superpoint.append(pts_1.T)\n",
        "\n",
        "end = timer()\n",
        "time_all.append(end-start)"
      ],
      "execution_count": null,
      "outputs": []
    },
    {
      "cell_type": "code",
      "metadata": {
        "id": "GShtFy1qCGpV"
      },
      "source": [
        "'''\n",
        "for j in tqdm(keypoints_all_left_superpoint + keypoints_all_right_superpoint[1:]):\n",
        "  num_kps_superpoint.append(len(j))"
      ],
      "execution_count": null,
      "outputs": []
    },
    {
      "cell_type": "code",
      "metadata": {
        "id": "_V3c3iWJCGjT"
      },
      "source": [
        "'''\n",
        "all_feat_superpoint_left = []\n",
        "for cnt,kpt_all in enumerate(keypoints_all_left_superpoint):\n",
        "  all_feat_superpoint_left_each = []\n",
        "  for cnt_each, kpt in enumerate(kpt_all):\n",
        "    desc = descriptors_all_left_superpoint[cnt][cnt_each]\n",
        "    temp = (kpt.pt, kpt.size, kpt.angle, kpt.response, kpt.octave, \n",
        "        kpt.class_id, desc)\n",
        "    all_feat_superpoint_left_each.append(temp)\n",
        "  all_feat_superpoint_left.append(all_feat_superpoint_left_each)"
      ],
      "execution_count": null,
      "outputs": []
    },
    {
      "cell_type": "code",
      "metadata": {
        "id": "ygLEJB5eCTXV"
      },
      "source": [
        "'''\n",
        "all_feat_superpoint_right = []\n",
        "for cnt,kpt_all in enumerate(keypoints_all_right_superpoint):\n",
        "  all_feat_superpoint_right_each = []\n",
        "  for cnt_each, kpt in enumerate(kpt_all):\n",
        "    desc = descriptors_all_right_superpoint[cnt][cnt_each]\n",
        "    temp = (kpt.pt, kpt.size, kpt.angle, kpt.response, kpt.octave, \n",
        "        kpt.class_id, desc)\n",
        "    all_feat_superpoint_right_each.append(temp)\n",
        "  all_feat_superpoint_right.append(all_feat_superpoint_right_each)"
      ],
      "execution_count": null,
      "outputs": []
    },
    {
      "cell_type": "code",
      "metadata": {
        "id": "9DHtCaFKCTSQ"
      },
      "source": [
        "'''\n",
        "del keypoints_all_left_superpoint, keypoints_all_right_superpoint, descriptors_all_left_superpoint, descriptors_all_right_superpoint"
      ],
      "execution_count": null,
      "outputs": []
    },
    {
      "cell_type": "code",
      "metadata": {
        "id": "mwLhhM_tCTKq"
      },
      "source": [
        "'''\n",
        "import pickle\n",
        "Fdb = open('all_feat_superpoint_left.dat', 'wb')\n",
        "pickle.dump(all_feat_superpoint_left,Fdb,-1)\n",
        "Fdb.close()"
      ],
      "execution_count": null,
      "outputs": []
    },
    {
      "cell_type": "code",
      "metadata": {
        "id": "_2XRYMrfCYhy"
      },
      "source": [
        "'''\n",
        "import pickle\n",
        "Fdb = open('all_feat_superpoint_right.dat', 'wb')\n",
        "pickle.dump(all_feat_superpoint_right,Fdb,-1)\n",
        "Fdb.close()"
      ],
      "execution_count": null,
      "outputs": []
    },
    {
      "cell_type": "code",
      "metadata": {
        "id": "QCWo--YTCYaM"
      },
      "source": [
        "'''\n",
        "del Fdb, all_feat_superpoint_left, all_feat_superpoint_right"
      ],
      "execution_count": null,
      "outputs": []
    },
    {
      "cell_type": "markdown",
      "metadata": {
        "id": "LFAdEmiACcst"
      },
      "source": [
        "Total Matches,Robust Matches and Homography Computation"
      ]
    },
    {
      "cell_type": "code",
      "metadata": {
        "id": "H1HvLX8HSWoQ"
      },
      "source": [
        "def compute_homography_fast(matched_pts1, matched_pts2,thresh=4):\n",
        "    #matched_pts1 = cv2.KeyPoint_convert(matched_kp1)\n",
        "    #matched_pts2 = cv2.KeyPoint_convert(matched_kp2)\n",
        "\n",
        "    # Estimate the homography between the matches using RANSAC\n",
        "    H, inliers = cv2.findHomography(matched_pts1,\n",
        "                                    matched_pts2,\n",
        "                                    cv2.RANSAC, ransacReprojThreshold =thresh, maxIters=3000)\n",
        "    inliers = inliers.flatten()\n",
        "    return H, inliers"
      ],
      "execution_count": 32,
      "outputs": []
    },
    {
      "cell_type": "code",
      "metadata": {
        "id": "1rQ1tDx0SWf9"
      },
      "source": [
        "def compute_homography_fast_other(matched_pts1, matched_pts2):\n",
        "    #matched_pts1 = cv2.KeyPoint_convert(matched_kp1)\n",
        "    #matched_pts2 = cv2.KeyPoint_convert(matched_kp2)\n",
        "\n",
        "    # Estimate the homography between the matches using RANSAC\n",
        "    H, inliers = cv2.findHomography(matched_pts1,\n",
        "                                    matched_pts2,\n",
        "                                    0)\n",
        "    inliers = inliers.flatten()\n",
        "    return H, inliers"
      ],
      "execution_count": 33,
      "outputs": []
    },
    {
      "cell_type": "code",
      "metadata": {
        "id": "_Q8lSaVqTQIE"
      },
      "source": [
        "def get_Hmatrix(imgs,keypts,pts,descripts,ratio=0.75,thresh=4,use_lowe=True,disp=False,no_ransac=False,binary=False):\n",
        "  lff1 = descripts[0]\n",
        "  lff = descripts[1]\n",
        "\n",
        "  if use_lowe==False:\n",
        "    #FLANN_INDEX_KDTREE = 2\n",
        "    #index_params = dict(algorithm=FLANN_INDEX_KDTREE, trees=5)\n",
        "    #search_params = dict(checks=50)\n",
        "    #flann = cv2.FlannBasedMatcher(index_params, search_params)\n",
        "    #flann = cv2.BFMatcher()\n",
        "    if binary==True:\n",
        "      bf = cv2.BFMatcher(cv2.NORM_HAMMING, crossCheck=True)\n",
        "\n",
        "    else:\n",
        "      bf = cv2.BFMatcher(cv2.NORM_L2, crossCheck=True)\n",
        "      lff1 = np.float32(descripts[0])\n",
        "      lff = np.float32(descripts[1])\n",
        "\n",
        "\n",
        "    #matches_lf1_lf = flann.knnMatch(lff1, lff, k=2)\n",
        "    matches_4 = bf.knnMatch(lff1, lff,k=2)\n",
        "    matches_lf1_lf = []\n",
        "\n",
        "\n",
        "    print(\"\\nNumber of matches\",len(matches_4))\n",
        "    '''\n",
        "    matches_4 = []\n",
        "    ratio = ratio\n",
        "    # loop over the raw matches\n",
        "    for m in matches_lf1_lf:\n",
        "      # ensure the distance is within a certain ratio of each\n",
        "      # other (i.e. Lowe’s ratio test)\n",
        "      #if len(m) == 2 and m[0].distance < m[1].distance * ratio:\n",
        "          #matches_1.append((m[0].trainIdx, m[0].queryIdx))\n",
        "      matches_4.append(m[0])\n",
        "    '''\n",
        "    print(\"Number of matches After Lowe's Ratio\",len(matches_4))\n",
        "  else:\n",
        "    FLANN_INDEX_KDTREE = 2\n",
        "    index_params = dict(algorithm=FLANN_INDEX_KDTREE, trees=5)\n",
        "    search_params = dict(checks=50)\n",
        "    flann = cv2.FlannBasedMatcher(index_params, search_params)\n",
        "    if binary==True:\n",
        "      bf = cv2.BFMatcher(cv2.NORM_HAMMING, crossCheck=True)\n",
        "      lff1 = np.float32(descripts[0])\n",
        "      lff = np.float32(descripts[1])\n",
        "    else:\n",
        "      bf = cv2.BFMatcher(cv2.NORM_L2, crossCheck=True)\n",
        "      lff1 = np.float32(descripts[0])\n",
        "      lff = np.float32(descripts[1])\n",
        "\n",
        "\n",
        "    matches_lf1_lf = flann.knnMatch(lff1, lff, k=2)\n",
        "    #matches_lf1_lf = bf.knnMatch(lff1, lff,k=2)\n",
        "\n",
        "\n",
        "    print(\"\\nNumber of matches\",len(matches_lf1_lf))\n",
        "    matches_4 = []\n",
        "    ratio = ratio\n",
        "    # loop over the raw matches\n",
        "    for m in matches_lf1_lf:\n",
        "      # ensure the distance is within a certain ratio of each\n",
        "      # other (i.e. Lowe’s ratio test)\n",
        "      if len(m) == 2 and m[0].distance < m[1].distance * ratio:\n",
        "          #matches_1.append((m[0].trainIdx, m[0].queryIdx))\n",
        "        matches_4.append(m[0])\n",
        "  \n",
        "    print(\"Number of matches After Lowe's Ratio\",len(matches_4))\n",
        "\n",
        "\n",
        "  \n",
        "  matches_idx = np.array([m.queryIdx for m in matches_4])\n",
        "  imm1_pts = np.array([keypts[0][idx].pt for idx in matches_idx])\n",
        "  matches_idx = np.array([m.trainIdx for m in matches_4])\n",
        "  imm2_pts = np.array([keypts[1][idx].pt for idx in matches_idx])\n",
        "  '''\n",
        "  # Estimate homography 1\n",
        "  #Compute H1\n",
        "  # Estimate homography 1\n",
        "  #Compute H1\n",
        "  imm1_pts=np.empty((len(matches_4),2))\n",
        "  imm2_pts=np.empty((len(matches_4),2))\n",
        "  for i in range(0,len(matches_4)):\n",
        "    m = matches_4[i]\n",
        "    (a_x, a_y) = keypts[0][m.queryIdx].pt\n",
        "    (b_x, b_y) = keypts[1][m.trainIdx].pt\n",
        "    imm1_pts[i]=(a_x, a_y)\n",
        "    imm2_pts[i]=(b_x, b_y)    \n",
        "  H=compute_Homography(imm1_pts,imm2_pts) \n",
        "  #Robustly estimate Homography 1 using RANSAC\n",
        "  Hn, best_inliers=RANSAC_alg(keypts[0] ,keypts[1], matches_4,  nRANSAC=1000, RANSACthresh=6)\n",
        "  '''\n",
        "  \n",
        "  if no_ransac==True:\n",
        "    Hn,inliers = compute_homography_fast_other(imm1_pts,imm2_pts)\n",
        "  else:\n",
        "    Hn,inliers = compute_homography_fast(imm1_pts,imm2_pts,thresh)  \n",
        "\n",
        "  inlier_matchset = np.array(matches_4)[inliers.astype(bool)].tolist()\n",
        "  print(\"Number of Robust matches\",len(inlier_matchset))\n",
        "  print(\"\\n\")\n",
        "  \n",
        "  if len(inlier_matchset)<25:\n",
        "    matches_4 = []\n",
        "    ratio = 0.85\n",
        "    # loop over the raw matches\n",
        "    for m in matches_lf1_lf:\n",
        "      # ensure the distance is within a certain ratio of each\n",
        "      # other (i.e. Lowe’s ratio test)\n",
        "      if len(m) == 2 and m[0].distance < m[1].distance * ratio:\n",
        "          #matches_1.append((m[0].trainIdx, m[0].queryIdx))\n",
        "          matches_4.append(m[0])\n",
        "    print(\"Number of matches After Lowe's Ratio New\",len(matches_4))\n",
        "  \n",
        "    matches_idx = np.array([m.queryIdx for m in matches_4])\n",
        "    imm1_pts = np.array([keypts[0][idx].pt for idx in matches_idx])\n",
        "    matches_idx = np.array([m.trainIdx for m in matches_4])\n",
        "    imm2_pts = np.array([keypts[1][idx].pt for idx in matches_idx])\n",
        "    Hn,inliers = compute_homography_fast(imm1_pts,imm2_pts)  \n",
        "    inlier_matchset = np.array(matches_4)[inliers.astype(bool)].tolist()\n",
        "    print(\"Number of Robust matches New\",len(inlier_matchset))\n",
        "    print(\"\\n\")    \n",
        "  \n",
        "  #H=compute_Homography(imm1_pts,imm2_pts) \n",
        "  #Robustly estimate Homography 1 using RANSAC\n",
        "  #Hn=RANSAC_alg(keypts[0] ,keypts[1], matches_4,  nRANSAC=1500, RANSACthresh=6)\n",
        "\n",
        "  #global inlier_matchset   \n",
        "  \n",
        "  if disp==True:\n",
        "    dispimg1=cv2.drawMatches(imgs[0], keypts[0], imgs[1], keypts[1], inlier_matchset, None,flags=2)\n",
        "    displayplot(dispimg1,'Robust Matching between Reference Image and Right Image ')\n",
        "  \n",
        "  \n",
        "  return Hn/Hn[2,2], len(matches_lf1_lf), len(inlier_matchset)"
      ],
      "execution_count": 34,
      "outputs": []
    },
    {
      "cell_type": "code",
      "metadata": {
        "id": "sbSaUB-hTQDG"
      },
      "source": [
        "def get_Hmatrix_rfnet(imgs,pts,descripts,disp=True):\n",
        "\n",
        "  des1 = descripts[0]\n",
        "  des2 = descripts[1]\n",
        "\n",
        "  kp1 = pts[0]\n",
        "  kp2 = pts[1]\n",
        "\n",
        "\n",
        "  predict_label, nn_kp2 = nearest_neighbor_distance_ratio_match(des1, des2, kp2, 0.7)\n",
        "  idx = predict_label.nonzero().view(-1)\n",
        "  mkp1 = kp1.index_select(dim=0, index=idx.long())  # predict match keypoints in I1\n",
        "  mkp2 = nn_kp2.index_select(dim=0, index=idx.long())  # predict match keypoints in I2\n",
        "\n",
        "  #img1, img2 = reverse_img(img1), reverse_img(img2)\n",
        "  keypoints1 = list(map(to_cv2_kp, mkp1))\n",
        "  keypoints2 = list(map(to_cv2_kp, mkp2))\n",
        "  DMatch = list(map(to_cv2_dmatch, np.arange(0, len(keypoints1))))\n",
        "\n",
        "  imm1_pts=np.empty((len(DMatch),2))\n",
        "  imm2_pts=np.empty((len(DMatch),2))\n",
        "  for i in range(0,len(DMatch)):\n",
        "    m = DMatch[i]\n",
        "    (a_x, a_y) = keypoints1[m.queryIdx].pt\n",
        "    (b_x, b_y) = keypoints2[m.trainIdx].pt\n",
        "    imm1_pts[i]=(a_x, a_y)\n",
        "    imm2_pts[i]=(b_x, b_y)    \n",
        "  H=compute_Homography_fast(imm1_pts,imm2_pts) \n",
        "\n",
        "\n",
        "  if disp==True:\n",
        "    dispimg1 = cv2.drawMatches(imgs[0], keypoints1, imgs[1], keypoints2, DMatch, None)\n",
        "    displayplot(dispimg1,'Robust Matching between Reference Image and Right Image ')\n",
        "\n",
        "\n",
        "  return H/H[2,2]"
      ],
      "execution_count": 35,
      "outputs": []
    },
    {
      "cell_type": "code",
      "metadata": {
        "id": "BxmB14K1IGji"
      },
      "source": [
        "'''\n",
        "import pickle\n",
        "Fdb = open('all_feat_brisk_left.dat', 'rb')\n",
        "kpts_all = pickle.load(Fdb)\n",
        "Fdb.close()\n",
        "\n",
        "keypoints_all_left_brisk = []\n",
        "descriptors_all_left_brisk = []\n",
        "points_all_left_brisk = []\n",
        "\n",
        "for j,kpt_each in enumerate(kpts_all):\n",
        "  keypoints_each = []\n",
        "  descrip_each = []\n",
        "  for k,kpt_img in enumerate(kpt_each):\n",
        "    temp_feature = cv2.KeyPoint(x=kpt_img[0][0],y=kpt_img[0][1],_size=kpt_img[1], _angle=kpt_img[2], \n",
        "                            _response=kpt_img[3], _octave=kpt_img[4], _class_id=kpt_img[5]) \n",
        "    temp_descriptor = kpt_img[6]\n",
        "    keypoints_each.append(temp_feature)\n",
        "    descrip_each.append(temp_descriptor)\n",
        "  points_all_left_brisk.append(np.asarray([[p.pt[0], p.pt[1]] for p in keypoints_each]))\n",
        "  keypoints_all_left_brisk.append(keypoints_each)\n",
        "  descriptors_all_left_brisk.append(descrip_each)"
      ],
      "execution_count": null,
      "outputs": []
    },
    {
      "cell_type": "code",
      "metadata": {
        "id": "GbsNJSsCIGfP"
      },
      "source": [
        "'''\n",
        "import pickle\n",
        "Fdb = open('all_feat_brisk_right.dat', 'rb')\n",
        "kpts_all = pickle.load(Fdb)\n",
        "Fdb.close()\n",
        "\n",
        "keypoints_all_right_brisk = []\n",
        "descriptors_all_right_brisk = []\n",
        "points_all_right_brisk = []\n",
        "\n",
        "for j,kpt_each in enumerate(kpts_all):\n",
        "  keypoints_each = []\n",
        "  descrip_each = []\n",
        "  for k,kpt_img in enumerate(kpt_each):\n",
        "    temp_feature = cv2.KeyPoint(x=kpt_img[0][0],y=kpt_img[0][1],_size=kpt_img[1], _angle=kpt_img[2], \n",
        "                            _response=kpt_img[3], _octave=kpt_img[4], _class_id=kpt_img[5]) \n",
        "    temp_descriptor = kpt_img[6]\n",
        "    keypoints_each.append(temp_feature)\n",
        "    descrip_each.append(temp_descriptor)\n",
        "  points_all_right_brisk.append(np.asarray([[p.pt[0], p.pt[1]] for p in keypoints_each]))\n",
        "  keypoints_all_right_brisk.append(keypoints_each)\n",
        "  descriptors_all_right_brisk.append(descrip_each)"
      ],
      "execution_count": null,
      "outputs": []
    },
    {
      "cell_type": "code",
      "metadata": {
        "id": "yvc4MelmIGaK"
      },
      "source": [
        "'''H_left_brisk = []\n",
        "H_right_brisk = []\n",
        "\n",
        "num_matches_brisk = []\n",
        "num_good_matches_brisk = []\n",
        "\n",
        "images_left_bgr = []\n",
        "images_right_bgr = []\n",
        "for j in tqdm(range(len(left_files_path))):\n",
        "  if j==len(left_files_path)-1:\n",
        "    break\n",
        "\n",
        "  H_a,matches,gd_matches = get_Hmatrix(images_left_bgr[j:j+2][::-1],keypoints_all_left_brisk[j:j+2][::-1],points_all_left_brisk[j:j+2][::-1],descriptors_all_left_brisk[j:j+2][::-1],0.7,3,use_lowe=True,binary=True)\n",
        "  H_left_brisk.append(H_a)\n",
        "  num_matches_brisk.append(matches)\n",
        "  num_good_matches_brisk.append(gd_matches)\n",
        "\n",
        "for j in tqdm(range(len(right_files_path))):\n",
        "  if j==len(right_files_path)-1:\n",
        "    break\n",
        "\n",
        "  H_a,matches,gd_matches = get_Hmatrix(images_right_bgr[j:j+2][::-1],keypoints_all_right_brisk[j:j+2][::-1],points_all_right_brisk[j:j+2][::-1],descriptors_all_right_brisk[j:j+2][::-1],0.7,3,use_lowe=True,binary=True)\n",
        "  H_right_brisk.append(H_a)\n",
        "  num_matches_brisk.append(matches)\n",
        "  num_good_matches_brisk.append(gd_matches)"
      ],
      "execution_count": null,
      "outputs": []
    },
    {
      "cell_type": "code",
      "metadata": {
        "colab": {
          "base_uri": "https://localhost:8080/"
        },
        "id": "c8T74TJ4IGU9",
        "outputId": "ec1865d5-86a6-47e7-8cef-d5c07fb04646"
      },
      "source": [
        "'''import h5py as h5\n",
        "f=h5.File('drive/MyDrive/H_left_brisk_40.h5','w')\n",
        "t0=time.time()\n",
        "f.create_dataset('data',data=H_left_brisk)\n",
        "f.close()\n",
        "print('HDF5  w/o comp.:',time.time()-t0,'[s] ... size',os.path.getsize('drive/MyDrive/H_left_brisk_40.h5')/1.e6,'MB')"
      ],
      "execution_count": null,
      "outputs": [
        {
          "output_type": "stream",
          "text": [
            "HDF5  w/o comp.: 0.005538225173950195 [s] ... size 0.006368 MB\n"
          ],
          "name": "stdout"
        }
      ]
    },
    {
      "cell_type": "code",
      "metadata": {
        "colab": {
          "base_uri": "https://localhost:8080/"
        },
        "id": "t_nFQdxmIGOU",
        "outputId": "963bcd82-649e-4645-f250-4e2966487eb0"
      },
      "source": [
        "'''import h5py as h5\n",
        "f=h5.File('drive/MyDrive/H_right_brisk_40.h5','w')\n",
        "t0=time.time()\n",
        "f.create_dataset('data',data=H_right_brisk)\n",
        "f.close()\n",
        "print('HDF5  w/o comp.:',time.time()-t0,'[s] ... size',os.path.getsize('drive/MyDrive/H_right_brisk_40.h5')/1.e6,'MB')"
      ],
      "execution_count": null,
      "outputs": [
        {
          "output_type": "stream",
          "text": [
            "HDF5  w/o comp.: 0.005404472351074219 [s] ... size 0.006296 MB\n"
          ],
          "name": "stdout"
        }
      ]
    },
    {
      "cell_type": "code",
      "metadata": {
        "id": "1mkl11ZfIGGP"
      },
      "source": [
        "'''del H_left_brisk, H_right_brisk,keypoints_all_left_brisk, keypoints_all_right_brisk, descriptors_all_left_brisk, descriptors_all_right_brisk, points_all_left_brisk, points_all_right_brisk"
      ],
      "execution_count": null,
      "outputs": []
    },
    {
      "cell_type": "code",
      "metadata": {
        "id": "3Bbuf1pWIF7k"
      },
      "source": [
        ""
      ],
      "execution_count": null,
      "outputs": []
    },
    {
      "cell_type": "code",
      "metadata": {
        "id": "0hAvJVtyCpgk"
      },
      "source": [
        "'''\n",
        "import pickle\n",
        "Fdb = open('all_feat_sift_left.dat', 'rb')\n",
        "kpts_all = pickle.load(Fdb)\n",
        "Fdb.close()\n",
        "\n",
        "keypoints_all_left_sift = []\n",
        "descriptors_all_left_sift = []\n",
        "\n",
        "\n",
        "\n",
        "for j,kpt_each in enumerate(kpts_all):\n",
        "  keypoints_each = []\n",
        "  descrip_each = []\n",
        "  for k,kpt_img in enumerate(kpt_each):\n",
        "    temp_feature = cv2.KeyPoint(x=kpt_img[0][0],y=kpt_img[0][1],_size=kpt_img[1], _angle=kpt_img[2], \n",
        "                            _response=kpt_img[3], _octave=kpt_img[4], _class_id=kpt_img[5]) \n",
        "    temp_descriptor = kpt_img[6]\n",
        "    keypoints_each.append(temp_feature)\n",
        "    descrip_each.append(temp_descriptor)\n",
        "  points_all_left_sift.append(np.asarray([[p.pt[0], p.pt[1]] for p in keypoints_each]))\n",
        "  keypoints_all_left_sift.append(keypoints_each)\n",
        "  descriptors_all_left_sift.append(descrip_each)"
      ],
      "execution_count": null,
      "outputs": []
    },
    {
      "cell_type": "code",
      "metadata": {
        "id": "sYZ8M-JGCpdG"
      },
      "source": [
        "'''\n",
        "import pickle\n",
        "Fdb = open('all_feat_sift_right.dat', 'rb')\n",
        "kpts_all = pickle.load(Fdb)\n",
        "Fdb.close()\n",
        "\n",
        "keypoints_all_right_sift = []\n",
        "descriptors_all_right_sift = []\n",
        "\n",
        "for j,kpt_each in enumerate(kpts_all):\n",
        "  keypoints_each = []\n",
        "  descrip_each = []\n",
        "  for k,kpt_img in enumerate(kpt_each):\n",
        "    temp_feature = cv2.KeyPoint(x=kpt_img[0][0],y=kpt_img[0][1],_size=kpt_img[1], _angle=kpt_img[2], \n",
        "                            _response=kpt_img[3], _octave=kpt_img[4], _class_id=kpt_img[5]) \n",
        "    temp_descriptor = kpt_img[6]\n",
        "    keypoints_each.append(temp_feature)\n",
        "    descrip_each.append(temp_descriptor)\n",
        "  points_all_right_sift.append(np.asarray([[p.pt[0], p.pt[1]] for p in keypoints_each]))\n",
        "  keypoints_all_right_sift.append(keypoints_each)\n",
        "  descriptors_all_right_sift.append(descrip_each)"
      ],
      "execution_count": null,
      "outputs": []
    },
    {
      "cell_type": "code",
      "metadata": {
        "id": "BzLUr-JVCpaE",
        "colab": {
          "base_uri": "https://localhost:8080/"
        },
        "outputId": "dca627db-2134-4196-c484-d70892cc34d1"
      },
      "source": [
        "\n",
        "H_left_sift = []\n",
        "H_right_sift = []\n",
        "\n",
        "num_matches_sift = []\n",
        "num_good_matches_sift = []\n",
        "\n",
        "for j in tqdm(range(len(left_files_path))):\n",
        "  if j==len(left_files_path)-1:\n",
        "    break\n",
        "\n",
        "  H_a,matches,gd_matches = get_Hmatrix(images_left_bgr[j:j+2][::-1],keypoints_all_left_sift[j:j+2][::-1],points_all_left_sift[j:j+2][::-1],descriptors_all_left_sift[j:j+2][::-1],0.75)\n",
        "  H_left_sift.append(H_a)\n",
        "  num_matches_sift.append(matches)\n",
        "  num_good_matches_sift.append(gd_matches)\n",
        "\n",
        "for j in tqdm(range(len(right_files_path))):\n",
        "  if j==len(right_files_path)-1:\n",
        "    break\n",
        "\n",
        "  H_a,matches,gd_matches = get_Hmatrix(images_right_bgr[j:j+2][::-1],keypoints_all_right_sift[j:j+2][::-1],points_all_right_sift[j:j+2][::-1],descriptors_all_right_sift[j:j+2][::-1],0.75)\n",
        "  H_right_sift.append(H_a)\n",
        "  num_matches_sift.append(matches)\n",
        "  num_good_matches_sift.append(gd_matches)"
      ],
      "execution_count": 36,
      "outputs": [
        {
          "output_type": "stream",
          "text": [
            "  3%|▎         | 2/61 [00:00<00:08,  7.07it/s]"
          ],
          "name": "stderr"
        },
        {
          "output_type": "stream",
          "text": [
            "\n",
            "Number of matches 1000\n",
            "Number of matches After Lowe's Ratio 90\n",
            "Number of Robust matches 48\n",
            "\n",
            "\n",
            "\n",
            "Number of matches 1000\n",
            "Number of matches After Lowe's Ratio 140\n",
            "Number of Robust matches 60\n",
            "\n",
            "\n"
          ],
          "name": "stdout"
        },
        {
          "output_type": "stream",
          "text": [
            "  8%|▊         | 5/61 [00:00<00:06,  8.29it/s]"
          ],
          "name": "stderr"
        },
        {
          "output_type": "stream",
          "text": [
            "\n",
            "Number of matches 1000\n",
            "Number of matches After Lowe's Ratio 133\n",
            "Number of Robust matches 77\n",
            "\n",
            "\n",
            "\n",
            "Number of matches 1000\n",
            "Number of matches After Lowe's Ratio 188\n",
            "Number of Robust matches 120\n",
            "\n",
            "\n",
            "\n",
            "Number of matches 1000\n",
            "Number of matches After Lowe's Ratio 118\n",
            "Number of Robust matches 75\n",
            "\n",
            "\n"
          ],
          "name": "stdout"
        },
        {
          "output_type": "stream",
          "text": [
            "\r 10%|▉         | 6/61 [00:00<00:07,  7.44it/s]"
          ],
          "name": "stderr"
        },
        {
          "output_type": "stream",
          "text": [
            "\n",
            "Number of matches 1000\n",
            "Number of matches After Lowe's Ratio 151\n",
            "Number of Robust matches 132\n",
            "\n",
            "\n",
            "\n",
            "Number of matches 1000\n",
            "Number of matches After Lowe's Ratio 114\n",
            "Number of Robust matches 75\n",
            "\n",
            "\n",
            "\n",
            "Number of matches 1000\n",
            "Number of matches After Lowe's Ratio 179\n"
          ],
          "name": "stdout"
        },
        {
          "output_type": "stream",
          "text": [
            " 15%|█▍        | 9/61 [00:01<00:06,  8.26it/s]"
          ],
          "name": "stderr"
        },
        {
          "output_type": "stream",
          "text": [
            "Number of Robust matches 126\n",
            "\n",
            "\n",
            "\n",
            "Number of matches 1000\n",
            "Number of matches After Lowe's Ratio 197\n",
            "Number of Robust matches 143\n",
            "\n",
            "\n"
          ],
          "name": "stdout"
        },
        {
          "output_type": "stream",
          "text": [
            " 18%|█▊        | 11/61 [00:01<00:06,  8.27it/s]"
          ],
          "name": "stderr"
        },
        {
          "output_type": "stream",
          "text": [
            "\n",
            "Number of matches 1001\n",
            "Number of matches After Lowe's Ratio 161\n",
            "Number of Robust matches 85\n",
            "\n",
            "\n",
            "\n",
            "Number of matches 1000\n",
            "Number of matches After Lowe's Ratio 129\n",
            "Number of Robust matches 49\n",
            "\n",
            "\n"
          ],
          "name": "stdout"
        },
        {
          "output_type": "stream",
          "text": [
            " 21%|██▏       | 13/61 [00:01<00:06,  7.76it/s]"
          ],
          "name": "stderr"
        },
        {
          "output_type": "stream",
          "text": [
            "\n",
            "Number of matches 1000\n",
            "Number of matches After Lowe's Ratio 158\n",
            "Number of Robust matches 66\n",
            "\n",
            "\n",
            "\n",
            "Number of matches 1000\n",
            "Number of matches After Lowe's Ratio 54\n",
            "Number of Robust matches 21\n",
            "\n",
            "\n",
            "Number of matches After Lowe's Ratio New 123\n",
            "Number of Robust matches New 29\n",
            "\n",
            "\n"
          ],
          "name": "stdout"
        },
        {
          "output_type": "stream",
          "text": [
            " 25%|██▍       | 15/61 [00:01<00:05,  8.45it/s]"
          ],
          "name": "stderr"
        },
        {
          "output_type": "stream",
          "text": [
            "\n",
            "Number of matches 1000\n",
            "Number of matches After Lowe's Ratio 35\n",
            "Number of Robust matches 24\n",
            "\n",
            "\n",
            "Number of matches After Lowe's Ratio New 80\n",
            "Number of Robust matches New 28\n",
            "\n",
            "\n",
            "\n",
            "Number of matches 1000\n",
            "Number of matches After Lowe's Ratio 41\n",
            "Number of Robust matches 32\n",
            "\n",
            "\n"
          ],
          "name": "stdout"
        },
        {
          "output_type": "stream",
          "text": [
            " 28%|██▊       | 17/61 [00:01<00:05,  8.69it/s]"
          ],
          "name": "stderr"
        },
        {
          "output_type": "stream",
          "text": [
            "\n",
            "Number of matches 1000\n",
            "Number of matches After Lowe's Ratio 119\n",
            "Number of Robust matches 63\n",
            "\n",
            "\n",
            "\n",
            "Number of matches 1000\n",
            "Number of matches After Lowe's Ratio 156\n",
            "Number of Robust matches 73\n",
            "\n",
            "\n"
          ],
          "name": "stdout"
        },
        {
          "output_type": "stream",
          "text": [
            " 31%|███       | 19/61 [00:02<00:04,  8.97it/s]"
          ],
          "name": "stderr"
        },
        {
          "output_type": "stream",
          "text": [
            "\n",
            "Number of matches 1000\n",
            "Number of matches After Lowe's Ratio 117\n",
            "Number of Robust matches 44\n",
            "\n",
            "\n",
            "\n",
            "Number of matches 1000\n",
            "Number of matches After Lowe's Ratio 113\n",
            "Number of Robust matches 52\n",
            "\n",
            "\n"
          ],
          "name": "stdout"
        },
        {
          "output_type": "stream",
          "text": [
            " 34%|███▍      | 21/61 [00:02<00:04,  9.12it/s]"
          ],
          "name": "stderr"
        },
        {
          "output_type": "stream",
          "text": [
            "\n",
            "Number of matches 1000\n",
            "Number of matches After Lowe's Ratio 110\n",
            "Number of Robust matches 67\n",
            "\n",
            "\n",
            "\n",
            "Number of matches 1001\n",
            "Number of matches After Lowe's Ratio 112\n",
            "Number of Robust matches 72\n",
            "\n",
            "\n"
          ],
          "name": "stdout"
        },
        {
          "output_type": "stream",
          "text": [
            " 38%|███▊      | 23/61 [00:02<00:04,  9.26it/s]"
          ],
          "name": "stderr"
        },
        {
          "output_type": "stream",
          "text": [
            "\n",
            "Number of matches 1000\n",
            "Number of matches After Lowe's Ratio 147\n",
            "Number of Robust matches 113\n",
            "\n",
            "\n",
            "\n",
            "Number of matches 1000\n",
            "Number of matches After Lowe's Ratio 151\n",
            "Number of Robust matches 112\n",
            "\n",
            "\n"
          ],
          "name": "stdout"
        },
        {
          "output_type": "stream",
          "text": [
            " 41%|████      | 25/61 [00:02<00:03,  9.28it/s]"
          ],
          "name": "stderr"
        },
        {
          "output_type": "stream",
          "text": [
            "\n",
            "Number of matches 1000\n",
            "Number of matches After Lowe's Ratio 106\n",
            "Number of Robust matches 51\n",
            "\n",
            "\n",
            "\n",
            "Number of matches 1000\n",
            "Number of matches After Lowe's Ratio 115\n",
            "Number of Robust matches 69\n",
            "\n",
            "\n"
          ],
          "name": "stdout"
        },
        {
          "output_type": "stream",
          "text": [
            " 44%|████▍     | 27/61 [00:03<00:03,  9.05it/s]"
          ],
          "name": "stderr"
        },
        {
          "output_type": "stream",
          "text": [
            "\n",
            "Number of matches 1000\n",
            "Number of matches After Lowe's Ratio 66\n",
            "Number of Robust matches 27\n",
            "\n",
            "\n",
            "\n",
            "Number of matches 1000\n",
            "Number of matches After Lowe's Ratio 153\n",
            "Number of Robust matches 61\n",
            "\n",
            "\n"
          ],
          "name": "stdout"
        },
        {
          "output_type": "stream",
          "text": [
            " 48%|████▊     | 29/61 [00:03<00:04,  7.71it/s]"
          ],
          "name": "stderr"
        },
        {
          "output_type": "stream",
          "text": [
            "\n",
            "Number of matches 1000\n",
            "Number of matches After Lowe's Ratio 70\n",
            "Number of Robust matches 29\n",
            "\n",
            "\n",
            "\n",
            "Number of matches 1000\n",
            "Number of matches After Lowe's Ratio 19\n",
            "Number of Robust matches 11\n",
            "\n",
            "\n",
            "Number of matches After Lowe's Ratio New 65\n",
            "Number of Robust matches New 11\n",
            "\n",
            "\n"
          ],
          "name": "stdout"
        },
        {
          "output_type": "stream",
          "text": [
            " 51%|█████     | 31/61 [00:03<00:03,  7.71it/s]"
          ],
          "name": "stderr"
        },
        {
          "output_type": "stream",
          "text": [
            "\n",
            "Number of matches 1000\n",
            "Number of matches After Lowe's Ratio 27\n",
            "Number of Robust matches 15\n",
            "\n",
            "\n",
            "Number of matches After Lowe's Ratio New 93\n",
            "Number of Robust matches New 20\n",
            "\n",
            "\n",
            "\n",
            "Number of matches 1000\n",
            "Number of matches After Lowe's Ratio 62\n",
            "Number of Robust matches 30\n",
            "\n",
            "\n"
          ],
          "name": "stdout"
        },
        {
          "output_type": "stream",
          "text": [
            "\r 52%|█████▏    | 32/61 [00:03<00:03,  8.12it/s]"
          ],
          "name": "stderr"
        },
        {
          "output_type": "stream",
          "text": [
            "\n",
            "Number of matches 1000\n",
            "Number of matches After Lowe's Ratio 140\n",
            "Number of Robust matches 52\n",
            "\n",
            "\n",
            "\n",
            "Number of matches 1000\n",
            "Number of matches After Lowe's Ratio 140\n",
            "Number of Robust matches 53\n",
            "\n",
            "\n"
          ],
          "name": "stdout"
        },
        {
          "output_type": "stream",
          "text": [
            " 57%|█████▋    | 35/61 [00:04<00:03,  8.37it/s]"
          ],
          "name": "stderr"
        },
        {
          "output_type": "stream",
          "text": [
            "\n",
            "Number of matches 1000\n",
            "Number of matches After Lowe's Ratio 122\n",
            "Number of Robust matches 59\n",
            "\n",
            "\n",
            "\n",
            "Number of matches 1000\n",
            "Number of matches After Lowe's Ratio 111\n",
            "Number of Robust matches 79\n",
            "\n",
            "\n"
          ],
          "name": "stdout"
        },
        {
          "output_type": "stream",
          "text": [
            " 62%|██████▏   | 38/61 [00:04<00:02,  9.14it/s]"
          ],
          "name": "stderr"
        },
        {
          "output_type": "stream",
          "text": [
            "\n",
            "Number of matches 1000\n",
            "Number of matches After Lowe's Ratio 131\n",
            "Number of Robust matches 85\n",
            "\n",
            "\n",
            "\n",
            "Number of matches 1000\n",
            "Number of matches After Lowe's Ratio 119\n",
            "Number of Robust matches 70\n",
            "\n",
            "\n",
            "\n",
            "Number of matches 1000\n",
            "Number of matches After Lowe's Ratio 135\n",
            "Number of Robust matches 96\n",
            "\n",
            "\n"
          ],
          "name": "stdout"
        },
        {
          "output_type": "stream",
          "text": [
            " 66%|██████▌   | 40/61 [00:04<00:02,  9.34it/s]"
          ],
          "name": "stderr"
        },
        {
          "output_type": "stream",
          "text": [
            "\n",
            "Number of matches 1000\n",
            "Number of matches After Lowe's Ratio 159\n",
            "Number of Robust matches 114\n",
            "\n",
            "\n",
            "\n",
            "Number of matches 1000\n",
            "Number of matches After Lowe's Ratio 88\n",
            "Number of Robust matches 39\n",
            "\n",
            "\n"
          ],
          "name": "stdout"
        },
        {
          "output_type": "stream",
          "text": [
            " 69%|██████▉   | 42/61 [00:04<00:02,  8.95it/s]"
          ],
          "name": "stderr"
        },
        {
          "output_type": "stream",
          "text": [
            "\n",
            "Number of matches 1000\n",
            "Number of matches After Lowe's Ratio 135\n",
            "Number of Robust matches 73\n",
            "\n",
            "\n",
            "\n",
            "Number of matches 1000\n",
            "Number of matches After Lowe's Ratio 175\n",
            "Number of Robust matches 69\n",
            "\n",
            "\n"
          ],
          "name": "stdout"
        },
        {
          "output_type": "stream",
          "text": [
            " 72%|███████▏  | 44/61 [00:05<00:02,  7.58it/s]"
          ],
          "name": "stderr"
        },
        {
          "output_type": "stream",
          "text": [
            "\n",
            "Number of matches 1000\n",
            "Number of matches After Lowe's Ratio 125\n",
            "Number of Robust matches 54\n",
            "\n",
            "\n",
            "\n",
            "Number of matches 1000\n",
            "Number of matches After Lowe's Ratio 18\n",
            "Number of Robust matches 6\n",
            "\n",
            "\n",
            "Number of matches After Lowe's Ratio New 69\n",
            "Number of Robust matches New 6\n",
            "\n",
            "\n"
          ],
          "name": "stdout"
        },
        {
          "output_type": "stream",
          "text": [
            "\r 74%|███████▍  | 45/61 [00:05<00:02,  6.99it/s]"
          ],
          "name": "stderr"
        },
        {
          "output_type": "stream",
          "text": [
            "\n",
            "Number of matches 1000\n",
            "Number of matches After Lowe's Ratio 5\n",
            "Number of Robust matches 0\n",
            "\n",
            "\n",
            "Number of matches After Lowe's Ratio New 45\n",
            "Number of Robust matches New 5\n",
            "\n",
            "\n",
            "\n",
            "Number of matches 1000\n",
            "Number of matches After Lowe's Ratio 12\n",
            "Number of Robust matches 7\n",
            "\n",
            "\n",
            "Number of matches After Lowe's Ratio New 46\n"
          ],
          "name": "stdout"
        },
        {
          "output_type": "stream",
          "text": [
            " 77%|███████▋  | 47/61 [00:05<00:02,  6.20it/s]"
          ],
          "name": "stderr"
        },
        {
          "output_type": "stream",
          "text": [
            "Number of Robust matches New 9\n",
            "\n",
            "\n",
            "\n",
            "Number of matches 1002\n",
            "Number of matches After Lowe's Ratio 22\n",
            "Number of Robust matches 11\n",
            "\n",
            "\n",
            "Number of matches After Lowe's Ratio New 88\n",
            "Number of Robust matches New 14\n",
            "\n",
            "\n"
          ],
          "name": "stdout"
        },
        {
          "output_type": "stream",
          "text": [
            " 80%|████████  | 49/61 [00:05<00:01,  7.35it/s]"
          ],
          "name": "stderr"
        },
        {
          "output_type": "stream",
          "text": [
            "\n",
            "Number of matches 1000\n",
            "Number of matches After Lowe's Ratio 98\n",
            "Number of Robust matches 32\n",
            "\n",
            "\n",
            "\n",
            "Number of matches 1000\n",
            "Number of matches After Lowe's Ratio 158\n",
            "Number of Robust matches 78\n",
            "\n",
            "\n"
          ],
          "name": "stdout"
        },
        {
          "output_type": "stream",
          "text": [
            " 84%|████████▎ | 51/61 [00:06<00:01,  8.14it/s]"
          ],
          "name": "stderr"
        },
        {
          "output_type": "stream",
          "text": [
            "\n",
            "Number of matches 1000\n",
            "Number of matches After Lowe's Ratio 126\n",
            "Number of Robust matches 78\n",
            "\n",
            "\n",
            "\n",
            "Number of matches 1000\n",
            "Number of matches After Lowe's Ratio 71\n",
            "Number of Robust matches 56\n",
            "\n",
            "\n"
          ],
          "name": "stdout"
        },
        {
          "output_type": "stream",
          "text": [
            " 87%|████████▋ | 53/61 [00:06<00:00,  8.61it/s]"
          ],
          "name": "stderr"
        },
        {
          "output_type": "stream",
          "text": [
            "\n",
            "Number of matches 1000\n",
            "Number of matches After Lowe's Ratio 132\n",
            "Number of Robust matches 87\n",
            "\n",
            "\n",
            "\n",
            "Number of matches 1000\n",
            "Number of matches After Lowe's Ratio 147\n",
            "Number of Robust matches 121\n",
            "\n",
            "\n"
          ],
          "name": "stdout"
        },
        {
          "output_type": "stream",
          "text": [
            " 90%|█████████ | 55/61 [00:06<00:00,  8.96it/s]"
          ],
          "name": "stderr"
        },
        {
          "output_type": "stream",
          "text": [
            "\n",
            "Number of matches 1001\n",
            "Number of matches After Lowe's Ratio 147\n",
            "Number of Robust matches 136\n",
            "\n",
            "\n",
            "\n",
            "Number of matches 1000\n",
            "Number of matches After Lowe's Ratio 133\n",
            "Number of Robust matches 122\n",
            "\n",
            "\n"
          ],
          "name": "stdout"
        },
        {
          "output_type": "stream",
          "text": [
            " 93%|█████████▎| 57/61 [00:06<00:00,  9.25it/s]"
          ],
          "name": "stderr"
        },
        {
          "output_type": "stream",
          "text": [
            "\n",
            "Number of matches 1000\n",
            "Number of matches After Lowe's Ratio 74\n",
            "Number of Robust matches 62\n",
            "\n",
            "\n",
            "\n",
            "Number of matches 1000\n",
            "Number of matches After Lowe's Ratio 86\n",
            "Number of Robust matches 41\n",
            "\n",
            "\n"
          ],
          "name": "stdout"
        },
        {
          "output_type": "stream",
          "text": [
            " 97%|█████████▋| 59/61 [00:06<00:00,  9.31it/s]"
          ],
          "name": "stderr"
        },
        {
          "output_type": "stream",
          "text": [
            "\n",
            "Number of matches 1000\n",
            "Number of matches After Lowe's Ratio 157\n",
            "Number of Robust matches 76\n",
            "\n",
            "\n",
            "\n",
            "Number of matches 1000\n",
            "Number of matches After Lowe's Ratio 97\n",
            "Number of Robust matches 44\n",
            "\n",
            "\n"
          ],
          "name": "stdout"
        },
        {
          "output_type": "stream",
          "text": [
            " 98%|█████████▊| 60/61 [00:07<00:00,  8.51it/s]\n",
            "  2%|▏         | 1/60 [00:00<00:06,  9.21it/s]"
          ],
          "name": "stderr"
        },
        {
          "output_type": "stream",
          "text": [
            "\n",
            "Number of matches 1000\n",
            "Number of matches After Lowe's Ratio 30\n",
            "Number of Robust matches 24\n",
            "\n",
            "\n",
            "Number of matches After Lowe's Ratio New 63\n",
            "Number of Robust matches New 33\n",
            "\n",
            "\n",
            "\n",
            "Number of matches 1000\n",
            "Number of matches After Lowe's Ratio 98\n",
            "Number of Robust matches 45\n",
            "\n",
            "\n"
          ],
          "name": "stdout"
        },
        {
          "output_type": "stream",
          "text": [
            "  5%|▌         | 3/60 [00:00<00:07,  8.14it/s]"
          ],
          "name": "stderr"
        },
        {
          "output_type": "stream",
          "text": [
            "\n",
            "Number of matches 1000\n",
            "Number of matches After Lowe's Ratio 56\n",
            "Number of Robust matches 26\n",
            "\n",
            "\n",
            "\n",
            "Number of matches 1000\n",
            "Number of matches After Lowe's Ratio 44\n",
            "Number of Robust matches 18\n",
            "\n",
            "\n",
            "Number of matches After Lowe's Ratio New 100\n",
            "Number of Robust matches New 23\n",
            "\n",
            "\n"
          ],
          "name": "stdout"
        },
        {
          "output_type": "stream",
          "text": [
            "  8%|▊         | 5/60 [00:00<00:06,  8.53it/s]"
          ],
          "name": "stderr"
        },
        {
          "output_type": "stream",
          "text": [
            "\n",
            "Number of matches 1000\n",
            "Number of matches After Lowe's Ratio 88\n",
            "Number of Robust matches 38\n",
            "\n",
            "\n",
            "\n",
            "Number of matches 1000\n",
            "Number of matches After Lowe's Ratio 151\n",
            "Number of Robust matches 82\n",
            "\n",
            "\n"
          ],
          "name": "stdout"
        },
        {
          "output_type": "stream",
          "text": [
            " 13%|█▎        | 8/60 [00:00<00:05,  9.14it/s]"
          ],
          "name": "stderr"
        },
        {
          "output_type": "stream",
          "text": [
            "\n",
            "Number of matches 1001\n",
            "Number of matches After Lowe's Ratio 132\n",
            "Number of Robust matches 69\n",
            "\n",
            "\n",
            "\n",
            "Number of matches 1000\n",
            "Number of matches After Lowe's Ratio 154\n",
            "Number of Robust matches 90\n",
            "\n",
            "\n",
            "\n",
            "Number of matches 1000\n",
            "Number of matches After Lowe's Ratio 179\n",
            "Number of Robust matches 112\n",
            "\n",
            "\n"
          ],
          "name": "stdout"
        },
        {
          "output_type": "stream",
          "text": [
            " 17%|█▋        | 10/60 [00:01<00:05,  9.30it/s]"
          ],
          "name": "stderr"
        },
        {
          "output_type": "stream",
          "text": [
            "\n",
            "Number of matches 1001\n",
            "Number of matches After Lowe's Ratio 185\n",
            "Number of Robust matches 101\n",
            "\n",
            "\n",
            "\n",
            "Number of matches 1000\n",
            "Number of matches After Lowe's Ratio 166\n",
            "Number of Robust matches 132\n",
            "\n",
            "\n"
          ],
          "name": "stdout"
        },
        {
          "output_type": "stream",
          "text": [
            "\r 18%|█▊        | 11/60 [00:01<00:05,  9.25it/s]"
          ],
          "name": "stderr"
        },
        {
          "output_type": "stream",
          "text": [
            "\n",
            "Number of matches 1000\n",
            "Number of matches After Lowe's Ratio 173\n",
            "Number of Robust matches 131\n",
            "\n",
            "\n",
            "\n",
            "Number of matches 1000\n",
            "Number of matches After Lowe's Ratio 103\n",
            "Number of Robust matches 61\n",
            "\n",
            "\n",
            "\n",
            "Number of matches"
          ],
          "name": "stdout"
        },
        {
          "output_type": "stream",
          "text": [
            " 23%|██▎       | 14/60 [00:01<00:04,  9.48it/s]"
          ],
          "name": "stderr"
        },
        {
          "output_type": "stream",
          "text": [
            " 1000\n",
            "Number of matches After Lowe's Ratio 180\n",
            "Number of Robust matches 108\n",
            "\n",
            "\n",
            "\n",
            "Number of matches 1000\n",
            "Number of matches After Lowe's Ratio 158\n",
            "Number of Robust matches 101\n",
            "\n",
            "\n"
          ],
          "name": "stdout"
        },
        {
          "output_type": "stream",
          "text": [
            " 27%|██▋       | 16/60 [00:01<00:04,  8.83it/s]"
          ],
          "name": "stderr"
        },
        {
          "output_type": "stream",
          "text": [
            "\n",
            "Number of matches 1000\n",
            "Number of matches After Lowe's Ratio 101\n",
            "Number of Robust matches 57\n",
            "\n",
            "\n",
            "\n",
            "Number of matches 1000\n",
            "Number of matches After Lowe's Ratio 115\n",
            "Number of Robust matches 67\n",
            "\n",
            "\n"
          ],
          "name": "stdout"
        },
        {
          "output_type": "stream",
          "text": [
            "\r 30%|███       | 18/60 [00:01<00:04,  9.39it/s]"
          ],
          "name": "stderr"
        },
        {
          "output_type": "stream",
          "text": [
            "\n",
            "Number of matches 1000\n",
            "Number of matches After Lowe's Ratio 73\n",
            "Number of Robust matches 34\n",
            "\n",
            "\n",
            "\n",
            "Number of matches 1002\n",
            "Number of matches After Lowe's Ratio 73\n",
            "Number of Robust matches 42\n",
            "\n",
            "\n",
            "\n",
            "Number of matches 1000\n",
            "Number of matches After Lowe's Ratio 46\n",
            "Number of Robust matches 21\n",
            "\n",
            "\n",
            "Number of matches After Lowe's Ratio New 101\n"
          ],
          "name": "stdout"
        },
        {
          "output_type": "stream",
          "text": [
            " 33%|███▎      | 20/60 [00:02<00:04,  8.77it/s]"
          ],
          "name": "stderr"
        },
        {
          "output_type": "stream",
          "text": [
            "Number of Robust matches New 28\n",
            "\n",
            "\n",
            "\n",
            "Number of matches 1000\n",
            "Number of matches After Lowe's Ratio 102\n",
            "Number of Robust matches 46\n",
            "\n",
            "\n"
          ],
          "name": "stdout"
        },
        {
          "output_type": "stream",
          "text": [
            "\r 35%|███▌      | 21/60 [00:02<00:04,  8.76it/s]"
          ],
          "name": "stderr"
        },
        {
          "output_type": "stream",
          "text": [
            "\n",
            "Number of matches 1000\n",
            "Number of matches After Lowe's Ratio 139\n",
            "Number of Robust matches 83\n",
            "\n",
            "\n",
            "\n",
            "Number of matches 1000\n",
            "Number of matches After Lowe's Ratio 134\n",
            "Number of Robust matches 82\n",
            "\n",
            "\n",
            "\n",
            "Number of matches"
          ],
          "name": "stdout"
        },
        {
          "output_type": "stream",
          "text": [
            " 40%|████      | 24/60 [00:02<00:03,  9.04it/s]"
          ],
          "name": "stderr"
        },
        {
          "output_type": "stream",
          "text": [
            " 1000\n",
            "Number of matches After Lowe's Ratio 153\n",
            "Number of Robust matches 85\n",
            "\n",
            "\n",
            "\n",
            "Number of matches 1000\n",
            "Number of matches After Lowe's Ratio 174\n",
            "Number of Robust matches 106\n",
            "\n",
            "\n"
          ],
          "name": "stdout"
        },
        {
          "output_type": "stream",
          "text": [
            " 43%|████▎     | 26/60 [00:02<00:03,  9.36it/s]"
          ],
          "name": "stderr"
        },
        {
          "output_type": "stream",
          "text": [
            "\n",
            "Number of matches 1000\n",
            "Number of matches After Lowe's Ratio 170\n",
            "Number of Robust matches 118\n",
            "\n",
            "\n",
            "\n",
            "Number of matches 1001\n",
            "Number of matches After Lowe's Ratio 122\n",
            "Number of Robust matches 107\n",
            "\n",
            "\n"
          ],
          "name": "stdout"
        },
        {
          "output_type": "stream",
          "text": [
            " 47%|████▋     | 28/60 [00:03<00:03,  9.18it/s]"
          ],
          "name": "stderr"
        },
        {
          "output_type": "stream",
          "text": [
            "\n",
            "Number of matches 1001\n",
            "Number of matches After Lowe's Ratio 132\n",
            "Number of Robust matches 115\n",
            "\n",
            "\n",
            "\n",
            "Number of matches 1000\n",
            "Number of matches After Lowe's Ratio 100\n",
            "Number of Robust matches 82\n",
            "\n",
            "\n"
          ],
          "name": "stdout"
        },
        {
          "output_type": "stream",
          "text": [
            " 50%|█████     | 30/60 [00:03<00:03,  9.27it/s]"
          ],
          "name": "stderr"
        },
        {
          "output_type": "stream",
          "text": [
            "\n",
            "Number of matches 1000\n",
            "Number of matches After Lowe's Ratio 159\n",
            "Number of Robust matches 91\n",
            "\n",
            "\n",
            "\n",
            "Number of matches 1000\n",
            "Number of matches After Lowe's Ratio 165\n",
            "Number of Robust matches 84\n",
            "\n",
            "\n"
          ],
          "name": "stdout"
        },
        {
          "output_type": "stream",
          "text": [
            " 53%|█████▎    | 32/60 [00:03<00:02,  9.36it/s]"
          ],
          "name": "stderr"
        },
        {
          "output_type": "stream",
          "text": [
            "\n",
            "Number of matches 1000\n",
            "Number of matches After Lowe's Ratio 133\n",
            "Number of Robust matches 59\n",
            "\n",
            "\n",
            "\n",
            "Number of matches 1000\n",
            "Number of matches After Lowe's Ratio 128\n",
            "Number of Robust matches 65\n",
            "\n",
            "\n"
          ],
          "name": "stdout"
        },
        {
          "output_type": "stream",
          "text": [
            " 57%|█████▋    | 34/60 [00:03<00:02,  9.29it/s]"
          ],
          "name": "stderr"
        },
        {
          "output_type": "stream",
          "text": [
            "\n",
            "Number of matches 1000\n",
            "Number of matches After Lowe's Ratio 131\n",
            "Number of Robust matches 68\n",
            "\n",
            "\n",
            "\n",
            "Number of matches 1000\n",
            "Number of matches After Lowe's Ratio 57\n",
            "Number of Robust matches 38\n",
            "\n",
            "\n"
          ],
          "name": "stdout"
        },
        {
          "output_type": "stream",
          "text": [
            " 60%|██████    | 36/60 [00:03<00:02,  9.15it/s]"
          ],
          "name": "stderr"
        },
        {
          "output_type": "stream",
          "text": [
            "\n",
            "Number of matches 1001\n",
            "Number of matches After Lowe's Ratio 57\n",
            "Number of Robust matches 43\n",
            "\n",
            "\n",
            "\n",
            "Number of matches 1000\n",
            "Number of matches After Lowe's Ratio 109\n",
            "Number of Robust matches 60\n",
            "\n",
            "\n"
          ],
          "name": "stdout"
        },
        {
          "output_type": "stream",
          "text": [
            " 63%|██████▎   | 38/60 [00:04<00:02,  9.02it/s]"
          ],
          "name": "stderr"
        },
        {
          "output_type": "stream",
          "text": [
            "\n",
            "Number of matches 1001\n",
            "Number of matches After Lowe's Ratio 132\n",
            "Number of Robust matches 67\n",
            "\n",
            "\n",
            "\n",
            "Number of matches 1000\n",
            "Number of matches After Lowe's Ratio 160\n",
            "Number of Robust matches 67\n",
            "\n",
            "\n"
          ],
          "name": "stdout"
        },
        {
          "output_type": "stream",
          "text": [
            " 67%|██████▋   | 40/60 [00:04<00:02,  8.88it/s]"
          ],
          "name": "stderr"
        },
        {
          "output_type": "stream",
          "text": [
            "\n",
            "Number of matches 1001\n",
            "Number of matches After Lowe's Ratio 191\n",
            "Number of Robust matches 100\n",
            "\n",
            "\n",
            "\n",
            "Number of matches 1000\n",
            "Number of matches After Lowe's Ratio 178\n",
            "Number of Robust matches 109\n",
            "\n",
            "\n"
          ],
          "name": "stdout"
        },
        {
          "output_type": "stream",
          "text": [
            " 70%|███████   | 42/60 [00:04<00:01,  9.13it/s]"
          ],
          "name": "stderr"
        },
        {
          "output_type": "stream",
          "text": [
            "\n",
            "Number of matches 1000\n",
            "Number of matches After Lowe's Ratio 118\n",
            "Number of Robust matches 98\n",
            "\n",
            "\n",
            "\n",
            "Number of matches 1000\n",
            "Number of matches After Lowe's Ratio 100\n",
            "Number of Robust matches 92\n",
            "\n",
            "\n"
          ],
          "name": "stdout"
        },
        {
          "output_type": "stream",
          "text": [
            " 73%|███████▎  | 44/60 [00:04<00:01,  9.30it/s]"
          ],
          "name": "stderr"
        },
        {
          "output_type": "stream",
          "text": [
            "\n",
            "Number of matches 1001\n",
            "Number of matches After Lowe's Ratio 97\n",
            "Number of Robust matches 90\n",
            "\n",
            "\n",
            "\n",
            "Number of matches 1000\n",
            "Number of matches After Lowe's Ratio 89\n",
            "Number of Robust matches 76\n",
            "\n",
            "\n"
          ],
          "name": "stdout"
        },
        {
          "output_type": "stream",
          "text": [
            " 77%|███████▋  | 46/60 [00:05<00:01,  9.06it/s]"
          ],
          "name": "stderr"
        },
        {
          "output_type": "stream",
          "text": [
            "\n",
            "Number of matches 1001\n",
            "Number of matches After Lowe's Ratio 181\n",
            "Number of Robust matches 111\n",
            "\n",
            "\n",
            "\n",
            "Number of matches 1000\n",
            "Number of matches After Lowe's Ratio 132\n",
            "Number of Robust matches 72\n",
            "\n",
            "\n"
          ],
          "name": "stdout"
        },
        {
          "output_type": "stream",
          "text": [
            " 80%|████████  | 48/60 [00:05<00:01,  8.90it/s]"
          ],
          "name": "stderr"
        },
        {
          "output_type": "stream",
          "text": [
            "\n",
            "Number of matches 1000\n",
            "Number of matches After Lowe's Ratio 127\n",
            "Number of Robust matches 60\n",
            "\n",
            "\n",
            "\n",
            "Number of matches 1000\n",
            "Number of matches After Lowe's Ratio 90\n",
            "Number of Robust matches 34\n",
            "\n",
            "\n"
          ],
          "name": "stdout"
        },
        {
          "output_type": "stream",
          "text": [
            " 83%|████████▎ | 50/60 [00:05<00:01,  8.73it/s]"
          ],
          "name": "stderr"
        },
        {
          "output_type": "stream",
          "text": [
            "\n",
            "Number of matches 1000\n",
            "Number of matches After Lowe's Ratio 70\n",
            "Number of Robust matches 42\n",
            "\n",
            "\n",
            "\n",
            "Number of matches 1000\n",
            "Number of matches After Lowe's Ratio 104\n",
            "Number of Robust matches 58\n",
            "\n",
            "\n"
          ],
          "name": "stdout"
        },
        {
          "output_type": "stream",
          "text": [
            " 87%|████████▋ | 52/60 [00:05<00:01,  7.53it/s]"
          ],
          "name": "stderr"
        },
        {
          "output_type": "stream",
          "text": [
            "\n",
            "Number of matches 1000\n",
            "Number of matches After Lowe's Ratio 101\n",
            "Number of Robust matches 54\n",
            "\n",
            "\n",
            "\n",
            "Number of matches 1000\n",
            "Number of matches After Lowe's Ratio 43\n",
            "Number of Robust matches 16\n",
            "\n",
            "\n",
            "Number of matches After Lowe's Ratio New 126\n",
            "Number of Robust matches New 24\n",
            "\n",
            "\n"
          ],
          "name": "stdout"
        },
        {
          "output_type": "stream",
          "text": [
            " 90%|█████████ | 54/60 [00:06<00:00,  8.13it/s]"
          ],
          "name": "stderr"
        },
        {
          "output_type": "stream",
          "text": [
            "\n",
            "Number of matches 1000\n",
            "Number of matches After Lowe's Ratio 121\n",
            "Number of Robust matches 36\n",
            "\n",
            "\n",
            "\n",
            "Number of matches 1000\n",
            "Number of matches After Lowe's Ratio 155\n",
            "Number of Robust matches 76\n",
            "\n",
            "\n"
          ],
          "name": "stdout"
        },
        {
          "output_type": "stream",
          "text": [
            "\r 92%|█████████▏| 55/60 [00:06<00:01,  3.83it/s]"
          ],
          "name": "stderr"
        },
        {
          "output_type": "stream",
          "text": [
            "\n",
            "Number of matches 1001\n",
            "Number of matches After Lowe's Ratio 187\n",
            "Number of Robust matches 92\n",
            "\n",
            "\n",
            "\n",
            "Number of matches 1001\n",
            "Number of matches After Lowe's Ratio 173\n",
            "Number of Robust matches 90\n",
            "\n",
            "\n"
          ],
          "name": "stdout"
        },
        {
          "output_type": "stream",
          "text": [
            " 97%|█████████▋| 58/60 [00:06<00:00,  5.49it/s]"
          ],
          "name": "stderr"
        },
        {
          "output_type": "stream",
          "text": [
            "\n",
            "Number of matches 1000\n",
            "Number of matches After Lowe's Ratio 199\n",
            "Number of Robust matches 182\n",
            "\n",
            "\n",
            "\n",
            "Number of matches 1000\n",
            "Number of matches After Lowe's Ratio 221\n",
            "Number of Robust matches 204\n",
            "\n",
            "\n"
          ],
          "name": "stdout"
        },
        {
          "output_type": "stream",
          "text": [
            " 98%|█████████▊| 59/60 [00:07<00:00,  8.40it/s]"
          ],
          "name": "stderr"
        },
        {
          "output_type": "stream",
          "text": [
            "\n",
            "Number of matches 1000\n",
            "Number of matches After Lowe's Ratio 271\n",
            "Number of Robust matches 240\n",
            "\n",
            "\n"
          ],
          "name": "stdout"
        },
        {
          "output_type": "stream",
          "text": [
            "\n"
          ],
          "name": "stderr"
        }
      ]
    },
    {
      "cell_type": "code",
      "metadata": {
        "id": "S0ZfgXvFCpXA",
        "colab": {
          "base_uri": "https://localhost:8080/"
        },
        "outputId": "ed91562f-751b-4d91-b4f3-840f169cd535"
      },
      "source": [
        "\n",
        "import h5py as h5\n",
        "f=h5.File('drive/MyDrive/H_left_sift_40.h5','w')\n",
        "t0=time.time()\n",
        "f.create_dataset('data',data=H_left_sift)\n",
        "f.close()\n",
        "print('HDF5  w/o comp.:',time.time()-t0,'[s] ... size',os.path.getsize('drive/MyDrive/H_left_sift_40.h5')/1.e6,'MB')"
      ],
      "execution_count": 37,
      "outputs": [
        {
          "output_type": "stream",
          "text": [
            "HDF5  w/o comp.: 0.005812883377075195 [s] ... size 0.006368 MB\n"
          ],
          "name": "stdout"
        }
      ]
    },
    {
      "cell_type": "code",
      "metadata": {
        "id": "X5aeoRmrCpUD",
        "colab": {
          "base_uri": "https://localhost:8080/"
        },
        "outputId": "6cbc52e0-5f28-4e1b-b26c-863dea4f8f1d"
      },
      "source": [
        "\n",
        "import h5py as h5\n",
        "f=h5.File('drive/MyDrive/H_right_sift_40.h5','w')\n",
        "t0=time.time()\n",
        "f.create_dataset('data',data=H_right_sift)\n",
        "f.close()\n",
        "print('HDF5  w/o comp.:',time.time()-t0,'[s] ... size',os.path.getsize('drive/MyDrive/H_right_sift_40.h5')/1.e6,'MB')"
      ],
      "execution_count": 38,
      "outputs": [
        {
          "output_type": "stream",
          "text": [
            "HDF5  w/o comp.: 0.002898693084716797 [s] ... size 0.006296 MB\n"
          ],
          "name": "stdout"
        }
      ]
    },
    {
      "cell_type": "code",
      "metadata": {
        "id": "Sm6OxmVOCpOq"
      },
      "source": [
        "\n",
        "del H_left_sift, H_right_sift,keypoints_all_left_sift, keypoints_all_right_sift, descriptors_all_left_sift, descriptors_all_right_sift, points_all_left_sift, points_all_right_sift"
      ],
      "execution_count": 39,
      "outputs": []
    },
    {
      "cell_type": "code",
      "metadata": {
        "id": "vq9_ipIrCpL0"
      },
      "source": [
        ""
      ],
      "execution_count": null,
      "outputs": []
    },
    {
      "cell_type": "code",
      "metadata": {
        "id": "FrD8MHF3CpJT"
      },
      "source": [
        "'''\n",
        "import pickle\n",
        "Fdb = open('all_feat_fast_left.dat', 'rb')\n",
        "kpts_all = pickle.load(Fdb)\n",
        "Fdb.close()\n",
        "\n",
        "keypoints_all_left_fast = []\n",
        "descriptors_all_left_fast = []\n",
        "\n",
        "for j,kpt_each in enumerate(kpts_all):\n",
        "  keypoints_each = []\n",
        "  descrip_each = []\n",
        "  for k,kpt_img in enumerate(kpt_each):\n",
        "    temp_feature = cv2.KeyPoint(x=kpt_img[0][0],y=kpt_img[0][1],_size=kpt_img[1], _angle=kpt_img[2], \n",
        "                            _response=kpt_img[3], _octave=kpt_img[4], _class_id=kpt_img[5]) \n",
        "    temp_descriptor = kpt_img[6]\n",
        "    keypoints_each.append(temp_feature)\n",
        "    descrip_each.append(temp_descriptor)\n",
        "  points_all_left_fast.append(np.asarray([[p.pt[0], p.pt[1]] for p in keypoints_each]))\n",
        "  keypoints_all_left_fast.append(keypoints_each)\n",
        "  descriptors_all_left_fast.append(descrip_each)"
      ],
      "execution_count": null,
      "outputs": []
    },
    {
      "cell_type": "code",
      "metadata": {
        "id": "OgCxWEUpCpGg"
      },
      "source": [
        "'''\n",
        "import pickle\n",
        "Fdb = open('all_feat_fast_right.dat', 'rb')\n",
        "kpts_all = pickle.load(Fdb)\n",
        "Fdb.close()\n",
        "\n",
        "keypoints_all_right_fast = []\n",
        "descriptors_all_right_fast = []\n",
        "\n",
        "for j,kpt_each in enumerate(kpts_all):\n",
        "  keypoints_each = []\n",
        "  descrip_each = []\n",
        "  for k,kpt_img in enumerate(kpt_each):\n",
        "    temp_feature = cv2.KeyPoint(x=kpt_img[0][0],y=kpt_img[0][1],_size=kpt_img[1], _angle=kpt_img[2], \n",
        "                            _response=kpt_img[3], _octave=kpt_img[4], _class_id=kpt_img[5]) \n",
        "    temp_descriptor = kpt_img[6]\n",
        "    keypoints_each.append(temp_feature)\n",
        "    descrip_each.append(temp_descriptor)\n",
        "  points_all_right_fast.append(np.asarray([[p.pt[0], p.pt[1]] for p in keypoints_each]))\n",
        "  keypoints_all_right_fast.append(keypoints_each)\n",
        "  descriptors_all_right_fast.append(descrip_each)"
      ],
      "execution_count": null,
      "outputs": []
    },
    {
      "cell_type": "code",
      "metadata": {
        "id": "pBGTBep2CpD7",
        "colab": {
          "base_uri": "https://localhost:8080/"
        },
        "outputId": "57f0f579-160f-4b00-d08f-d8a49d2eee2c"
      },
      "source": [
        "\n",
        "H_left_fast = []\n",
        "H_right_fast = []\n",
        "\n",
        "num_matches_fast = []\n",
        "num_good_matches_fast = []\n",
        "\n",
        "for j in tqdm(range(len(left_files_path))):\n",
        "  if j==len(left_files_path)-1:\n",
        "    break\n",
        "\n",
        "  H_a,matches,gd_matches = get_Hmatrix(images_left_bgr[j:j+2][::-1],keypoints_all_left_fast[j:j+2][::-1],points_all_left_fast[j:j+2][::-1],descriptors_all_left_fast[j:j+2][::-1],0.9,6)\n",
        "  H_left_fast.append(H_a)\n",
        "  num_matches_fast.append(matches)\n",
        "  num_good_matches_fast.append(gd_matches)\n",
        "\n",
        "for j in tqdm(range(len(right_files_path))):\n",
        "  if j==len(right_files_path)-1:\n",
        "    break\n",
        "\n",
        "  H_a,matches,gd_matches = get_Hmatrix(images_right_bgr[j:j+2][::-1],keypoints_all_right_fast[j:j+2][::-1],points_all_right_fast[j:j+2][::-1],descriptors_all_right_fast[j:j+2][::-1],0.9,6)\n",
        "  H_right_fast.append(H_a)\n",
        "  num_matches_fast.append(matches)\n",
        "  num_good_matches_fast.append(gd_matches)"
      ],
      "execution_count": 40,
      "outputs": [
        {
          "output_type": "stream",
          "text": [
            "  2%|▏         | 1/61 [00:02<02:21,  2.35s/it]"
          ],
          "name": "stderr"
        },
        {
          "output_type": "stream",
          "text": [
            "\n",
            "Number of matches 16320\n",
            "Number of matches After Lowe's Ratio 4818\n",
            "Number of Robust matches 2429\n",
            "\n",
            "\n"
          ],
          "name": "stdout"
        },
        {
          "output_type": "stream",
          "text": [
            "\r  3%|▎         | 2/61 [00:04<02:21,  2.41s/it]"
          ],
          "name": "stderr"
        },
        {
          "output_type": "stream",
          "text": [
            "\n",
            "Number of matches 16730\n",
            "Number of matches After Lowe's Ratio 6412\n",
            "Number of Robust matches 3397\n",
            "\n",
            "\n"
          ],
          "name": "stdout"
        },
        {
          "output_type": "stream",
          "text": [
            "\r  5%|▍         | 3/61 [00:07<02:23,  2.47s/it]"
          ],
          "name": "stderr"
        },
        {
          "output_type": "stream",
          "text": [
            "\n",
            "Number of matches 14180\n",
            "Number of matches After Lowe's Ratio 4862\n",
            "Number of Robust matches 2723\n",
            "\n",
            "\n"
          ],
          "name": "stdout"
        },
        {
          "output_type": "stream",
          "text": [
            "\r  7%|▋         | 4/61 [00:09<02:14,  2.36s/it]"
          ],
          "name": "stderr"
        },
        {
          "output_type": "stream",
          "text": [
            "\n",
            "Number of matches 14405\n",
            "Number of matches After Lowe's Ratio 4634\n",
            "Number of Robust matches 2502\n",
            "\n",
            "\n"
          ],
          "name": "stdout"
        },
        {
          "output_type": "stream",
          "text": [
            "\r  8%|▊         | 5/61 [00:12<02:13,  2.38s/it]"
          ],
          "name": "stderr"
        },
        {
          "output_type": "stream",
          "text": [
            "\n",
            "Number of matches 15663\n",
            "Number of matches After Lowe's Ratio 2403\n",
            "Number of Robust matches 1278\n",
            "\n",
            "\n"
          ],
          "name": "stdout"
        },
        {
          "output_type": "stream",
          "text": [
            "\r 10%|▉         | 6/61 [00:14<02:17,  2.50s/it]"
          ],
          "name": "stderr"
        },
        {
          "output_type": "stream",
          "text": [
            "\n",
            "Number of matches 19275\n",
            "Number of matches After Lowe's Ratio 921\n",
            "Number of Robust matches 61\n",
            "\n",
            "\n"
          ],
          "name": "stdout"
        },
        {
          "output_type": "stream",
          "text": [
            "\r 11%|█▏        | 7/61 [00:18<02:28,  2.75s/it]"
          ],
          "name": "stderr"
        },
        {
          "output_type": "stream",
          "text": [
            "\n",
            "Number of matches 17455\n",
            "Number of matches After Lowe's Ratio 7832\n",
            "Number of Robust matches 6476\n",
            "\n",
            "\n"
          ],
          "name": "stdout"
        },
        {
          "output_type": "stream",
          "text": [
            "\r 13%|█▎        | 8/61 [00:20<02:26,  2.77s/it]"
          ],
          "name": "stderr"
        },
        {
          "output_type": "stream",
          "text": [
            "\n",
            "Number of matches 13778\n",
            "Number of matches After Lowe's Ratio 5369\n",
            "Number of Robust matches 3461\n",
            "\n",
            "\n"
          ],
          "name": "stdout"
        },
        {
          "output_type": "stream",
          "text": [
            "\r 15%|█▍        | 9/61 [00:23<02:17,  2.65s/it]"
          ],
          "name": "stderr"
        },
        {
          "output_type": "stream",
          "text": [
            "\n",
            "Number of matches 14588\n",
            "Number of matches After Lowe's Ratio 5162\n",
            "Number of Robust matches 2987\n",
            "\n",
            "\n"
          ],
          "name": "stdout"
        },
        {
          "output_type": "stream",
          "text": [
            "\r 16%|█▋        | 10/61 [00:25<02:08,  2.52s/it]"
          ],
          "name": "stderr"
        },
        {
          "output_type": "stream",
          "text": [
            "\n",
            "Number of matches 15176\n",
            "Number of matches After Lowe's Ratio 5295\n",
            "Number of Robust matches 2673\n",
            "\n",
            "\n"
          ],
          "name": "stdout"
        },
        {
          "output_type": "stream",
          "text": [
            "\r 18%|█▊        | 11/61 [00:27<02:02,  2.44s/it]"
          ],
          "name": "stderr"
        },
        {
          "output_type": "stream",
          "text": [
            "\n",
            "Number of matches 14840\n",
            "Number of matches After Lowe's Ratio 3589\n",
            "Number of Robust matches 1510\n",
            "\n",
            "\n"
          ],
          "name": "stdout"
        },
        {
          "output_type": "stream",
          "text": [
            "\r 20%|█▉        | 12/61 [00:30<01:56,  2.39s/it]"
          ],
          "name": "stderr"
        },
        {
          "output_type": "stream",
          "text": [
            "\n",
            "Number of matches 15711\n",
            "Number of matches After Lowe's Ratio 3504\n",
            "Number of Robust matches 1242\n",
            "\n",
            "\n"
          ],
          "name": "stdout"
        },
        {
          "output_type": "stream",
          "text": [
            "\r 21%|██▏       | 13/61 [00:33<02:05,  2.62s/it]"
          ],
          "name": "stderr"
        },
        {
          "output_type": "stream",
          "text": [
            "\n",
            "Number of matches 25550\n",
            "Number of matches After Lowe's Ratio 2301\n",
            "Number of Robust matches 474\n",
            "\n",
            "\n"
          ],
          "name": "stdout"
        },
        {
          "output_type": "stream",
          "text": [
            "\r 23%|██▎       | 14/61 [00:39<02:58,  3.80s/it]"
          ],
          "name": "stderr"
        },
        {
          "output_type": "stream",
          "text": [
            "\n",
            "Number of matches 38610\n",
            "Number of matches After Lowe's Ratio 1157\n",
            "Number of Robust matches 11\n",
            "\n",
            "\n",
            "Number of matches After Lowe's Ratio New 142\n",
            "Number of Robust matches New 8\n",
            "\n",
            "\n"
          ],
          "name": "stdout"
        },
        {
          "output_type": "stream",
          "text": [
            "\r 25%|██▍       | 15/61 [00:47<03:44,  4.88s/it]"
          ],
          "name": "stderr"
        },
        {
          "output_type": "stream",
          "text": [
            "\n",
            "Number of matches 21281\n",
            "Number of matches After Lowe's Ratio 5135\n",
            "Number of Robust matches 3882\n",
            "\n",
            "\n"
          ],
          "name": "stdout"
        },
        {
          "output_type": "stream",
          "text": [
            "\r 26%|██▌       | 16/61 [00:50<03:23,  4.51s/it]"
          ],
          "name": "stderr"
        },
        {
          "output_type": "stream",
          "text": [
            "\n",
            "Number of matches 15818\n",
            "Number of matches After Lowe's Ratio 2646\n",
            "Number of Robust matches 1222\n",
            "\n",
            "\n"
          ],
          "name": "stdout"
        },
        {
          "output_type": "stream",
          "text": [
            "\r 28%|██▊       | 17/61 [00:53<02:55,  3.99s/it]"
          ],
          "name": "stderr"
        },
        {
          "output_type": "stream",
          "text": [
            "\n",
            "Number of matches 15356\n",
            "Number of matches After Lowe's Ratio 933\n",
            "Number of Robust matches 68\n",
            "\n",
            "\n"
          ],
          "name": "stdout"
        },
        {
          "output_type": "stream",
          "text": [
            "\r 30%|██▉       | 18/61 [00:56<02:33,  3.58s/it]"
          ],
          "name": "stderr"
        },
        {
          "output_type": "stream",
          "text": [
            "\n",
            "Number of matches 17578\n",
            "Number of matches After Lowe's Ratio 906\n",
            "Number of Robust matches 18\n",
            "\n",
            "\n",
            "Number of matches After Lowe's Ratio New 184\n",
            "Number of Robust matches New 10\n",
            "\n",
            "\n"
          ],
          "name": "stdout"
        },
        {
          "output_type": "stream",
          "text": [
            "\r 31%|███       | 19/61 [00:59<02:21,  3.38s/it]"
          ],
          "name": "stderr"
        },
        {
          "output_type": "stream",
          "text": [
            "\n",
            "Number of matches 15223\n",
            "Number of matches After Lowe's Ratio 809\n",
            "Number of Robust matches 19\n",
            "\n",
            "\n",
            "Number of matches After Lowe's Ratio New 188\n",
            "Number of Robust matches New 12\n",
            "\n",
            "\n"
          ],
          "name": "stdout"
        },
        {
          "output_type": "stream",
          "text": [
            "\r 33%|███▎      | 20/61 [01:01<02:07,  3.11s/it]"
          ],
          "name": "stderr"
        },
        {
          "output_type": "stream",
          "text": [
            "\n",
            "Number of matches 17374\n",
            "Number of matches After Lowe's Ratio 928\n",
            "Number of Robust matches 39\n",
            "\n",
            "\n"
          ],
          "name": "stdout"
        },
        {
          "output_type": "stream",
          "text": [
            "\r 34%|███▍      | 21/61 [01:04<02:05,  3.13s/it]"
          ],
          "name": "stderr"
        },
        {
          "output_type": "stream",
          "text": [
            "\n",
            "Number of matches 19534\n",
            "Number of matches After Lowe's Ratio 1025\n",
            "Number of Robust matches 16\n",
            "\n",
            "\n",
            "Number of matches After Lowe's Ratio New 217\n",
            "Number of Robust matches New 12\n",
            "\n",
            "\n"
          ],
          "name": "stdout"
        },
        {
          "output_type": "stream",
          "text": [
            "\r 36%|███▌      | 22/61 [01:09<02:14,  3.45s/it]"
          ],
          "name": "stderr"
        },
        {
          "output_type": "stream",
          "text": [
            "\n",
            "Number of matches 24241\n",
            "Number of matches After Lowe's Ratio 1565\n",
            "Number of Robust matches 126\n",
            "\n",
            "\n"
          ],
          "name": "stdout"
        },
        {
          "output_type": "stream",
          "text": [
            "\r 38%|███▊      | 23/61 [01:13<02:20,  3.71s/it]"
          ],
          "name": "stderr"
        },
        {
          "output_type": "stream",
          "text": [
            "\n",
            "Number of matches 17580\n",
            "Number of matches After Lowe's Ratio 1098\n",
            "Number of Robust matches 276\n",
            "\n",
            "\n"
          ],
          "name": "stdout"
        },
        {
          "output_type": "stream",
          "text": [
            "\r 39%|███▉      | 24/61 [01:16<02:08,  3.47s/it]"
          ],
          "name": "stderr"
        },
        {
          "output_type": "stream",
          "text": [
            "\n",
            "Number of matches 13467\n",
            "Number of matches After Lowe's Ratio 637\n",
            "Number of Robust matches 32\n",
            "\n",
            "\n"
          ],
          "name": "stdout"
        },
        {
          "output_type": "stream",
          "text": [
            "\r 41%|████      | 25/61 [01:18<01:49,  3.05s/it]"
          ],
          "name": "stderr"
        },
        {
          "output_type": "stream",
          "text": [
            "\n",
            "Number of matches 13032\n",
            "Number of matches After Lowe's Ratio 845\n",
            "Number of Robust matches 44\n",
            "\n",
            "\n"
          ],
          "name": "stdout"
        },
        {
          "output_type": "stream",
          "text": [
            "\r 43%|████▎     | 26/61 [01:20<01:37,  2.80s/it]"
          ],
          "name": "stderr"
        },
        {
          "output_type": "stream",
          "text": [
            "\n",
            "Number of matches 16354\n",
            "Number of matches After Lowe's Ratio 1051\n",
            "Number of Robust matches 21\n",
            "\n",
            "\n",
            "Number of matches After Lowe's Ratio New 241\n",
            "Number of Robust matches New 9\n",
            "\n",
            "\n"
          ],
          "name": "stdout"
        },
        {
          "output_type": "stream",
          "text": [
            "\r 44%|████▍     | 27/61 [01:23<01:33,  2.75s/it]"
          ],
          "name": "stderr"
        },
        {
          "output_type": "stream",
          "text": [
            "\n",
            "Number of matches 16450\n",
            "Number of matches After Lowe's Ratio 848\n",
            "Number of Robust matches 33\n",
            "\n",
            "\n"
          ],
          "name": "stdout"
        },
        {
          "output_type": "stream",
          "text": [
            "\r 46%|████▌     | 28/61 [01:26<01:38,  3.00s/it]"
          ],
          "name": "stderr"
        },
        {
          "output_type": "stream",
          "text": [
            "\n",
            "Number of matches 20715\n",
            "Number of matches After Lowe's Ratio 1136\n",
            "Number of Robust matches 52\n",
            "\n",
            "\n"
          ],
          "name": "stdout"
        },
        {
          "output_type": "stream",
          "text": [
            "\r 48%|████▊     | 29/61 [01:31<01:55,  3.60s/it]"
          ],
          "name": "stderr"
        },
        {
          "output_type": "stream",
          "text": [
            "\n",
            "Number of matches 29434\n",
            "Number of matches After Lowe's Ratio 993\n",
            "Number of Robust matches 12\n",
            "\n",
            "\n",
            "Number of matches After Lowe's Ratio New 144\n",
            "Number of Robust matches New 7\n",
            "\n",
            "\n"
          ],
          "name": "stdout"
        },
        {
          "output_type": "stream",
          "text": [
            "\r 49%|████▉     | 30/61 [01:37<02:12,  4.28s/it]"
          ],
          "name": "stderr"
        },
        {
          "output_type": "stream",
          "text": [
            "\n",
            "Number of matches 24096\n",
            "Number of matches After Lowe's Ratio 2651\n",
            "Number of Robust matches 1172\n",
            "\n",
            "\n"
          ],
          "name": "stdout"
        },
        {
          "output_type": "stream",
          "text": [
            "\r 51%|█████     | 31/61 [01:41<02:08,  4.29s/it]"
          ],
          "name": "stderr"
        },
        {
          "output_type": "stream",
          "text": [
            "\n",
            "Number of matches 16901\n",
            "Number of matches After Lowe's Ratio 2349\n",
            "Number of Robust matches 796\n",
            "\n",
            "\n"
          ],
          "name": "stdout"
        },
        {
          "output_type": "stream",
          "text": [
            "\r 52%|█████▏    | 32/61 [01:44<01:50,  3.82s/it]"
          ],
          "name": "stderr"
        },
        {
          "output_type": "stream",
          "text": [
            "\n",
            "Number of matches 11502\n",
            "Number of matches After Lowe's Ratio 1344\n",
            "Number of Robust matches 400\n",
            "\n",
            "\n"
          ],
          "name": "stdout"
        },
        {
          "output_type": "stream",
          "text": [
            "\r 54%|█████▍    | 33/61 [01:46<01:31,  3.26s/it]"
          ],
          "name": "stderr"
        },
        {
          "output_type": "stream",
          "text": [
            "\n",
            "Number of matches 12748\n",
            "Number of matches After Lowe's Ratio 2119\n",
            "Number of Robust matches 944\n",
            "\n",
            "\n"
          ],
          "name": "stdout"
        },
        {
          "output_type": "stream",
          "text": [
            "\r 56%|█████▌    | 34/61 [01:48<01:17,  2.86s/it]"
          ],
          "name": "stderr"
        },
        {
          "output_type": "stream",
          "text": [
            "\n",
            "Number of matches 13071\n",
            "Number of matches After Lowe's Ratio 2962\n",
            "Number of Robust matches 1337\n",
            "\n",
            "\n"
          ],
          "name": "stdout"
        },
        {
          "output_type": "stream",
          "text": [
            "\r 57%|█████▋    | 35/61 [01:50<01:08,  2.65s/it]"
          ],
          "name": "stderr"
        },
        {
          "output_type": "stream",
          "text": [
            "\n",
            "Number of matches 15054\n",
            "Number of matches After Lowe's Ratio 3238\n",
            "Number of Robust matches 1260\n",
            "\n",
            "\n"
          ],
          "name": "stdout"
        },
        {
          "output_type": "stream",
          "text": [
            "\r 59%|█████▉    | 36/61 [01:53<01:05,  2.63s/it]"
          ],
          "name": "stderr"
        },
        {
          "output_type": "stream",
          "text": [
            "\n",
            "Number of matches 19614\n",
            "Number of matches After Lowe's Ratio 5220\n",
            "Number of Robust matches 3030\n",
            "\n",
            "\n"
          ],
          "name": "stdout"
        },
        {
          "output_type": "stream",
          "text": [
            "\r 61%|██████    | 37/61 [01:57<01:14,  3.11s/it]"
          ],
          "name": "stderr"
        },
        {
          "output_type": "stream",
          "text": [
            "\n",
            "Number of matches 24169\n",
            "Number of matches After Lowe's Ratio 1441\n",
            "Number of Robust matches 67\n",
            "\n",
            "\n"
          ],
          "name": "stdout"
        },
        {
          "output_type": "stream",
          "text": [
            "\r 62%|██████▏   | 38/61 [02:01<01:19,  3.45s/it]"
          ],
          "name": "stderr"
        },
        {
          "output_type": "stream",
          "text": [
            "\n",
            "Number of matches 16243\n",
            "Number of matches After Lowe's Ratio 3408\n",
            "Number of Robust matches 1977\n",
            "\n",
            "\n"
          ],
          "name": "stdout"
        },
        {
          "output_type": "stream",
          "text": [
            "\r 64%|██████▍   | 39/61 [02:04<01:10,  3.19s/it]"
          ],
          "name": "stderr"
        },
        {
          "output_type": "stream",
          "text": [
            "\n",
            "Number of matches 12383\n",
            "Number of matches After Lowe's Ratio 1470\n",
            "Number of Robust matches 761\n",
            "\n",
            "\n"
          ],
          "name": "stdout"
        },
        {
          "output_type": "stream",
          "text": [
            "\r 66%|██████▌   | 40/61 [02:06<00:58,  2.77s/it]"
          ],
          "name": "stderr"
        },
        {
          "output_type": "stream",
          "text": [
            "\n",
            "Number of matches 7134\n",
            "Number of matches After Lowe's Ratio 2027\n",
            "Number of Robust matches 1350\n",
            "\n",
            "\n"
          ],
          "name": "stdout"
        },
        {
          "output_type": "stream",
          "text": [
            "\r 67%|██████▋   | 41/61 [02:07<00:44,  2.25s/it]"
          ],
          "name": "stderr"
        },
        {
          "output_type": "stream",
          "text": [
            "\n",
            "Number of matches 8898\n",
            "Number of matches After Lowe's Ratio 1378\n",
            "Number of Robust matches 429\n",
            "\n",
            "\n"
          ],
          "name": "stdout"
        },
        {
          "output_type": "stream",
          "text": [
            "\r 69%|██████▉   | 42/61 [02:08<00:37,  1.98s/it]"
          ],
          "name": "stderr"
        },
        {
          "output_type": "stream",
          "text": [
            "\n",
            "Number of matches 12455\n",
            "Number of matches After Lowe's Ratio 1108\n",
            "Number of Robust matches 180\n",
            "\n",
            "\n"
          ],
          "name": "stdout"
        },
        {
          "output_type": "stream",
          "text": [
            "\r 70%|███████   | 43/61 [02:10<00:37,  2.09s/it]"
          ],
          "name": "stderr"
        },
        {
          "output_type": "stream",
          "text": [
            "\n",
            "Number of matches 19298\n",
            "Number of matches After Lowe's Ratio 3292\n",
            "Number of Robust matches 1327\n",
            "\n",
            "\n"
          ],
          "name": "stdout"
        },
        {
          "output_type": "stream",
          "text": [
            "\r 72%|███████▏  | 44/61 [02:15<00:48,  2.83s/it]"
          ],
          "name": "stderr"
        },
        {
          "output_type": "stream",
          "text": [
            "\n",
            "Number of matches 28132\n",
            "Number of matches After Lowe's Ratio 2263\n",
            "Number of Robust matches 975\n",
            "\n",
            "\n"
          ],
          "name": "stdout"
        },
        {
          "output_type": "stream",
          "text": [
            "\r 74%|███████▍  | 45/61 [02:23<01:08,  4.30s/it]"
          ],
          "name": "stderr"
        },
        {
          "output_type": "stream",
          "text": [
            "\n",
            "Number of matches 42872\n",
            "Number of matches After Lowe's Ratio 1167\n",
            "Number of Robust matches 12\n",
            "\n",
            "\n",
            "Number of matches After Lowe's Ratio New 154\n",
            "Number of Robust matches New 9\n",
            "\n",
            "\n"
          ],
          "name": "stdout"
        },
        {
          "output_type": "stream",
          "text": [
            "\r 75%|███████▌  | 46/61 [02:32<01:25,  5.69s/it]"
          ],
          "name": "stderr"
        },
        {
          "output_type": "stream",
          "text": [
            "\n",
            "Number of matches 28024\n",
            "Number of matches After Lowe's Ratio 730\n",
            "Number of Robust matches 21\n",
            "\n",
            "\n",
            "Number of matches After Lowe's Ratio New 120\n",
            "Number of Robust matches New 13\n",
            "\n",
            "\n"
          ],
          "name": "stdout"
        },
        {
          "output_type": "stream",
          "text": [
            "\r 77%|███████▋  | 47/61 [02:37<01:18,  5.63s/it]"
          ],
          "name": "stderr"
        },
        {
          "output_type": "stream",
          "text": [
            "\n",
            "Number of matches 17690\n",
            "Number of matches After Lowe's Ratio 3426\n",
            "Number of Robust matches 2037\n",
            "\n",
            "\n"
          ],
          "name": "stdout"
        },
        {
          "output_type": "stream",
          "text": [
            "\r 79%|███████▊  | 48/61 [02:40<01:03,  4.86s/it]"
          ],
          "name": "stderr"
        },
        {
          "output_type": "stream",
          "text": [
            "\n",
            "Number of matches 13281\n",
            "Number of matches After Lowe's Ratio 4296\n",
            "Number of Robust matches 2358\n",
            "\n",
            "\n"
          ],
          "name": "stdout"
        },
        {
          "output_type": "stream",
          "text": [
            "\r 80%|████████  | 49/61 [02:42<00:47,  3.99s/it]"
          ],
          "name": "stderr"
        },
        {
          "output_type": "stream",
          "text": [
            "\n",
            "Number of matches 7533\n",
            "Number of matches After Lowe's Ratio 2416\n",
            "Number of Robust matches 912\n",
            "\n",
            "\n"
          ],
          "name": "stdout"
        },
        {
          "output_type": "stream",
          "text": [
            "\r 82%|████████▏ | 50/61 [02:43<00:34,  3.16s/it]"
          ],
          "name": "stderr"
        },
        {
          "output_type": "stream",
          "text": [
            "\n",
            "Number of matches 11379\n",
            "Number of matches After Lowe's Ratio 3311\n",
            "Number of Robust matches 1699\n",
            "\n",
            "\n"
          ],
          "name": "stdout"
        },
        {
          "output_type": "stream",
          "text": [
            "\r 84%|████████▎ | 51/61 [02:45<00:28,  2.83s/it]"
          ],
          "name": "stderr"
        },
        {
          "output_type": "stream",
          "text": [
            "\n",
            "Number of matches 14865\n",
            "Number of matches After Lowe's Ratio 4550\n",
            "Number of Robust matches 3159\n",
            "\n",
            "\n"
          ],
          "name": "stdout"
        },
        {
          "output_type": "stream",
          "text": [
            "\r 85%|████████▌ | 52/61 [02:48<00:25,  2.86s/it]"
          ],
          "name": "stderr"
        },
        {
          "output_type": "stream",
          "text": [
            "\n",
            "Number of matches 20335\n",
            "Number of matches After Lowe's Ratio 6564\n",
            "Number of Robust matches 4945\n",
            "\n",
            "\n"
          ],
          "name": "stdout"
        },
        {
          "output_type": "stream",
          "text": [
            "\r 87%|████████▋ | 53/61 [02:52<00:25,  3.17s/it]"
          ],
          "name": "stderr"
        },
        {
          "output_type": "stream",
          "text": [
            "\n",
            "Number of matches 25501\n",
            "Number of matches After Lowe's Ratio 1794\n",
            "Number of Robust matches 356\n",
            "\n",
            "\n"
          ],
          "name": "stdout"
        },
        {
          "output_type": "stream",
          "text": [
            "\r 89%|████████▊ | 54/61 [02:57<00:26,  3.75s/it]"
          ],
          "name": "stderr"
        },
        {
          "output_type": "stream",
          "text": [
            "\n",
            "Number of matches 25074\n",
            "Number of matches After Lowe's Ratio 11084\n",
            "Number of Robust matches 7529\n",
            "\n",
            "\n"
          ],
          "name": "stdout"
        },
        {
          "output_type": "stream",
          "text": [
            "\r 90%|█████████ | 55/61 [03:02<00:24,  4.13s/it]"
          ],
          "name": "stderr"
        },
        {
          "output_type": "stream",
          "text": [
            "\n",
            "Number of matches 18292\n",
            "Number of matches After Lowe's Ratio 3187\n",
            "Number of Robust matches 2278\n",
            "\n",
            "\n"
          ],
          "name": "stdout"
        },
        {
          "output_type": "stream",
          "text": [
            "\r 92%|█████████▏| 56/61 [03:05<00:19,  3.83s/it]"
          ],
          "name": "stderr"
        },
        {
          "output_type": "stream",
          "text": [
            "\n",
            "Number of matches 14363\n",
            "Number of matches After Lowe's Ratio 1240\n",
            "Number of Robust matches 543\n",
            "\n",
            "\n"
          ],
          "name": "stdout"
        },
        {
          "output_type": "stream",
          "text": [
            "\r 93%|█████████▎| 57/61 [03:08<00:13,  3.37s/it]"
          ],
          "name": "stderr"
        },
        {
          "output_type": "stream",
          "text": [
            "\n",
            "Number of matches 12492\n",
            "Number of matches After Lowe's Ratio 2757\n",
            "Number of Robust matches 1690\n",
            "\n",
            "\n"
          ],
          "name": "stdout"
        },
        {
          "output_type": "stream",
          "text": [
            "\r 95%|█████████▌| 58/61 [03:10<00:08,  2.97s/it]"
          ],
          "name": "stderr"
        },
        {
          "output_type": "stream",
          "text": [
            "\n",
            "Number of matches 10607\n",
            "Number of matches After Lowe's Ratio 1592\n",
            "Number of Robust matches 788\n",
            "\n",
            "\n"
          ],
          "name": "stdout"
        },
        {
          "output_type": "stream",
          "text": [
            "\r 97%|█████████▋| 59/61 [03:12<00:05,  2.74s/it]"
          ],
          "name": "stderr"
        },
        {
          "output_type": "stream",
          "text": [
            "\n",
            "Number of matches 22035\n",
            "Number of matches After Lowe's Ratio 2913\n",
            "Number of Robust matches 1476\n",
            "\n",
            "\n"
          ],
          "name": "stdout"
        },
        {
          "output_type": "stream",
          "text": [
            "  0%|          | 0/60 [00:00<?, ?it/s]"
          ],
          "name": "stderr"
        },
        {
          "output_type": "stream",
          "text": [
            "\n",
            "Number of matches 31764\n",
            "Number of matches After Lowe's Ratio 3362\n",
            "Number of Robust matches 2071\n",
            "\n",
            "\n"
          ],
          "name": "stdout"
        },
        {
          "output_type": "stream",
          "text": [
            "\r  2%|▏         | 1/60 [00:02<02:29,  2.53s/it]"
          ],
          "name": "stderr"
        },
        {
          "output_type": "stream",
          "text": [
            "\n",
            "Number of matches 20654\n",
            "Number of matches After Lowe's Ratio 5935\n",
            "Number of Robust matches 2754\n",
            "\n",
            "\n"
          ],
          "name": "stdout"
        },
        {
          "output_type": "stream",
          "text": [
            "\r  3%|▎         | 2/60 [00:07<03:02,  3.15s/it]"
          ],
          "name": "stderr"
        },
        {
          "output_type": "stream",
          "text": [
            "\n",
            "Number of matches 27547\n",
            "Number of matches After Lowe's Ratio 6810\n",
            "Number of Robust matches 3726\n",
            "\n",
            "\n"
          ],
          "name": "stdout"
        },
        {
          "output_type": "stream",
          "text": [
            "\r  5%|▌         | 3/60 [00:12<03:43,  3.91s/it]"
          ],
          "name": "stderr"
        },
        {
          "output_type": "stream",
          "text": [
            "\n",
            "Number of matches 19088\n",
            "Number of matches After Lowe's Ratio 608\n",
            "Number of Robust matches 18\n",
            "\n",
            "\n",
            "Number of matches After Lowe's Ratio New 103\n",
            "Number of Robust matches New 10\n",
            "\n",
            "\n"
          ],
          "name": "stdout"
        },
        {
          "output_type": "stream",
          "text": [
            "\r  7%|▋         | 4/60 [00:16<03:28,  3.73s/it]"
          ],
          "name": "stderr"
        },
        {
          "output_type": "stream",
          "text": [
            "\n",
            "Number of matches 16073\n",
            "Number of matches After Lowe's Ratio 1409\n",
            "Number of Robust matches 471\n",
            "\n",
            "\n"
          ],
          "name": "stdout"
        },
        {
          "output_type": "stream",
          "text": [
            "\r  8%|▊         | 5/60 [00:18<03:04,  3.36s/it]"
          ],
          "name": "stderr"
        },
        {
          "output_type": "stream",
          "text": [
            "\n",
            "Number of matches 15534\n",
            "Number of matches After Lowe's Ratio 4623\n",
            "Number of Robust matches 2221\n",
            "\n",
            "\n"
          ],
          "name": "stdout"
        },
        {
          "output_type": "stream",
          "text": [
            "\r 10%|█         | 6/60 [00:21<02:46,  3.08s/it]"
          ],
          "name": "stderr"
        },
        {
          "output_type": "stream",
          "text": [
            "\n",
            "Number of matches 16139\n",
            "Number of matches After Lowe's Ratio 5557\n",
            "Number of Robust matches 3049\n",
            "\n",
            "\n"
          ],
          "name": "stdout"
        },
        {
          "output_type": "stream",
          "text": [
            "\r 12%|█▏        | 7/60 [00:23<02:33,  2.90s/it]"
          ],
          "name": "stderr"
        },
        {
          "output_type": "stream",
          "text": [
            "\n",
            "Number of matches 14495\n",
            "Number of matches After Lowe's Ratio 5624\n",
            "Number of Robust matches 2721\n",
            "\n",
            "\n"
          ],
          "name": "stdout"
        },
        {
          "output_type": "stream",
          "text": [
            "\r 13%|█▎        | 8/60 [00:25<02:21,  2.73s/it]"
          ],
          "name": "stderr"
        },
        {
          "output_type": "stream",
          "text": [
            "\n",
            "Number of matches 12581\n",
            "Number of matches After Lowe's Ratio 4768\n",
            "Number of Robust matches 3092\n",
            "\n",
            "\n"
          ],
          "name": "stdout"
        },
        {
          "output_type": "stream",
          "text": [
            "\r 15%|█▌        | 9/60 [00:27<02:05,  2.46s/it]"
          ],
          "name": "stderr"
        },
        {
          "output_type": "stream",
          "text": [
            "\n",
            "Number of matches 10995\n",
            "Number of matches After Lowe's Ratio 4438\n",
            "Number of Robust matches 3002\n",
            "\n",
            "\n"
          ],
          "name": "stdout"
        },
        {
          "output_type": "stream",
          "text": [
            "\r 17%|█▋        | 10/60 [00:29<01:51,  2.24s/it]"
          ],
          "name": "stderr"
        },
        {
          "output_type": "stream",
          "text": [
            "\n",
            "Number of matches 11315\n",
            "Number of matches After Lowe's Ratio 4767\n",
            "Number of Robust matches 3379\n",
            "\n",
            "\n"
          ],
          "name": "stdout"
        },
        {
          "output_type": "stream",
          "text": [
            "\r 18%|█▊        | 11/60 [00:31<01:43,  2.12s/it]"
          ],
          "name": "stderr"
        },
        {
          "output_type": "stream",
          "text": [
            "\n",
            "Number of matches 11161\n",
            "Number of matches After Lowe's Ratio 425\n",
            "Number of Robust matches 13\n",
            "\n",
            "\n",
            "Number of matches After Lowe's Ratio New 74\n",
            "Number of Robust matches New 8\n",
            "\n",
            "\n"
          ],
          "name": "stdout"
        },
        {
          "output_type": "stream",
          "text": [
            "\r 20%|██        | 12/60 [00:33<01:37,  2.03s/it]"
          ],
          "name": "stderr"
        },
        {
          "output_type": "stream",
          "text": [
            "\n",
            "Number of matches 14542\n",
            "Number of matches After Lowe's Ratio 4121\n",
            "Number of Robust matches 2524\n",
            "\n",
            "\n"
          ],
          "name": "stdout"
        },
        {
          "output_type": "stream",
          "text": [
            "\r 22%|██▏       | 13/60 [00:35<01:39,  2.11s/it]"
          ],
          "name": "stderr"
        },
        {
          "output_type": "stream",
          "text": [
            "\n",
            "Number of matches 15487\n",
            "Number of matches After Lowe's Ratio 5932\n",
            "Number of Robust matches 3888\n",
            "\n",
            "\n"
          ],
          "name": "stdout"
        },
        {
          "output_type": "stream",
          "text": [
            "\r 23%|██▎       | 14/60 [00:38<01:45,  2.30s/it]"
          ],
          "name": "stderr"
        },
        {
          "output_type": "stream",
          "text": [
            "\n",
            "Number of matches 16418\n",
            "Number of matches After Lowe's Ratio 6665\n",
            "Number of Robust matches 3480\n",
            "\n",
            "\n"
          ],
          "name": "stdout"
        },
        {
          "output_type": "stream",
          "text": [
            "\r 25%|██▌       | 15/60 [00:40<01:49,  2.44s/it]"
          ],
          "name": "stderr"
        },
        {
          "output_type": "stream",
          "text": [
            "\n",
            "Number of matches 15871\n",
            "Number of matches After Lowe's Ratio 5353\n",
            "Number of Robust matches 3145\n",
            "\n",
            "\n"
          ],
          "name": "stdout"
        },
        {
          "output_type": "stream",
          "text": [
            "\r 27%|██▋       | 16/60 [00:43<01:46,  2.43s/it]"
          ],
          "name": "stderr"
        },
        {
          "output_type": "stream",
          "text": [
            "\n",
            "Number of matches 13149\n",
            "Number of matches After Lowe's Ratio 4829\n",
            "Number of Robust matches 2944\n",
            "\n",
            "\n"
          ],
          "name": "stdout"
        },
        {
          "output_type": "stream",
          "text": [
            "\r 28%|██▊       | 17/60 [00:45<01:41,  2.36s/it]"
          ],
          "name": "stderr"
        },
        {
          "output_type": "stream",
          "text": [
            "\n",
            "Number of matches 15750\n",
            "Number of matches After Lowe's Ratio 4108\n",
            "Number of Robust matches 2234\n",
            "\n",
            "\n"
          ],
          "name": "stdout"
        },
        {
          "output_type": "stream",
          "text": [
            "\r 30%|███       | 18/60 [00:48<01:49,  2.62s/it]"
          ],
          "name": "stderr"
        },
        {
          "output_type": "stream",
          "text": [
            "\n",
            "Number of matches 18930\n",
            "Number of matches After Lowe's Ratio 5377\n",
            "Number of Robust matches 3040\n",
            "\n",
            "\n"
          ],
          "name": "stdout"
        },
        {
          "output_type": "stream",
          "text": [
            "\r 32%|███▏      | 19/60 [00:52<01:57,  2.86s/it]"
          ],
          "name": "stderr"
        },
        {
          "output_type": "stream",
          "text": [
            "\n",
            "Number of matches 15021\n",
            "Number of matches After Lowe's Ratio 689\n",
            "Number of Robust matches 28\n",
            "\n",
            "\n"
          ],
          "name": "stdout"
        },
        {
          "output_type": "stream",
          "text": [
            "\r 33%|███▎      | 20/60 [00:54<01:47,  2.70s/it]"
          ],
          "name": "stderr"
        },
        {
          "output_type": "stream",
          "text": [
            "\n",
            "Number of matches 12643\n",
            "Number of matches After Lowe's Ratio 1328\n",
            "Number of Robust matches 529\n",
            "\n",
            "\n"
          ],
          "name": "stdout"
        },
        {
          "output_type": "stream",
          "text": [
            "\r 35%|███▌      | 21/60 [00:56<01:36,  2.49s/it]"
          ],
          "name": "stderr"
        },
        {
          "output_type": "stream",
          "text": [
            "\n",
            "Number of matches 17960\n",
            "Number of matches After Lowe's Ratio 5335\n",
            "Number of Robust matches 2895\n",
            "\n",
            "\n"
          ],
          "name": "stdout"
        },
        {
          "output_type": "stream",
          "text": [
            "\r 37%|███▋      | 22/60 [00:59<01:40,  2.65s/it]"
          ],
          "name": "stderr"
        },
        {
          "output_type": "stream",
          "text": [
            "\n",
            "Number of matches 16319\n",
            "Number of matches After Lowe's Ratio 5290\n",
            "Number of Robust matches 3185\n",
            "\n",
            "\n"
          ],
          "name": "stdout"
        },
        {
          "output_type": "stream",
          "text": [
            "\r 38%|███▊      | 23/60 [01:02<01:39,  2.70s/it]"
          ],
          "name": "stderr"
        },
        {
          "output_type": "stream",
          "text": [
            "\n",
            "Number of matches 14032\n",
            "Number of matches After Lowe's Ratio 5497\n",
            "Number of Robust matches 3395\n",
            "\n",
            "\n"
          ],
          "name": "stdout"
        },
        {
          "output_type": "stream",
          "text": [
            "\r 40%|████      | 24/60 [01:04<01:31,  2.54s/it]"
          ],
          "name": "stderr"
        },
        {
          "output_type": "stream",
          "text": [
            "\n",
            "Number of matches 13246\n",
            "Number of matches After Lowe's Ratio 6352\n",
            "Number of Robust matches 3944\n",
            "\n",
            "\n"
          ],
          "name": "stdout"
        },
        {
          "output_type": "stream",
          "text": [
            "\r 42%|████▏     | 25/60 [01:06<01:22,  2.36s/it]"
          ],
          "name": "stderr"
        },
        {
          "output_type": "stream",
          "text": [
            "\n",
            "Number of matches 9765\n",
            "Number of matches After Lowe's Ratio 5665\n",
            "Number of Robust matches 4534\n",
            "\n",
            "\n"
          ],
          "name": "stdout"
        },
        {
          "output_type": "stream",
          "text": [
            "\r 43%|████▎     | 26/60 [01:07<01:09,  2.04s/it]"
          ],
          "name": "stderr"
        },
        {
          "output_type": "stream",
          "text": [
            "\n",
            "Number of matches 4661\n",
            "Number of matches After Lowe's Ratio 2545\n",
            "Number of Robust matches 2246\n",
            "\n",
            "\n"
          ],
          "name": "stdout"
        },
        {
          "output_type": "stream",
          "text": [
            "\r 45%|████▌     | 27/60 [01:08<00:55,  1.68s/it]"
          ],
          "name": "stderr"
        },
        {
          "output_type": "stream",
          "text": [
            "\n",
            "Number of matches 7819\n",
            "Number of matches After Lowe's Ratio 258\n",
            "Number of Robust matches 13\n",
            "\n",
            "\n",
            "Number of matches After Lowe's Ratio New 53\n",
            "Number of Robust matches New 9\n",
            "\n",
            "\n"
          ],
          "name": "stdout"
        },
        {
          "output_type": "stream",
          "text": [
            "\r 47%|████▋     | 28/60 [01:09<00:51,  1.60s/it]"
          ],
          "name": "stderr"
        },
        {
          "output_type": "stream",
          "text": [
            "\n",
            "Number of matches 16380\n",
            "Number of matches After Lowe's Ratio 5150\n",
            "Number of Robust matches 4140\n",
            "\n",
            "\n"
          ],
          "name": "stdout"
        },
        {
          "output_type": "stream",
          "text": [
            "\r 48%|████▊     | 29/60 [01:12<01:03,  2.03s/it]"
          ],
          "name": "stderr"
        },
        {
          "output_type": "stream",
          "text": [
            "\n",
            "Number of matches 19509\n",
            "Number of matches After Lowe's Ratio 8273\n",
            "Number of Robust matches 5406\n",
            "\n",
            "\n"
          ],
          "name": "stdout"
        },
        {
          "output_type": "stream",
          "text": [
            "\r 50%|█████     | 30/60 [01:16<01:14,  2.47s/it]"
          ],
          "name": "stderr"
        },
        {
          "output_type": "stream",
          "text": [
            "\n",
            "Number of matches 18452\n",
            "Number of matches After Lowe's Ratio 7617\n",
            "Number of Robust matches 3921\n",
            "\n",
            "\n"
          ],
          "name": "stdout"
        },
        {
          "output_type": "stream",
          "text": [
            "\r 52%|█████▏    | 31/60 [01:19<01:18,  2.70s/it]"
          ],
          "name": "stderr"
        },
        {
          "output_type": "stream",
          "text": [
            "\n",
            "Number of matches 18602\n",
            "Number of matches After Lowe's Ratio 6693\n",
            "Number of Robust matches 3803\n",
            "\n",
            "\n"
          ],
          "name": "stdout"
        },
        {
          "output_type": "stream",
          "text": [
            "\r 53%|█████▎    | 32/60 [01:23<01:20,  2.89s/it]"
          ],
          "name": "stderr"
        },
        {
          "output_type": "stream",
          "text": [
            "\n",
            "Number of matches 13763\n",
            "Number of matches After Lowe's Ratio 4255\n",
            "Number of Robust matches 2694\n",
            "\n",
            "\n"
          ],
          "name": "stdout"
        },
        {
          "output_type": "stream",
          "text": [
            "\r 55%|█████▌    | 33/60 [01:25<01:10,  2.63s/it]"
          ],
          "name": "stderr"
        },
        {
          "output_type": "stream",
          "text": [
            "\n",
            "Number of matches 11195\n",
            "Number of matches After Lowe's Ratio 3565\n",
            "Number of Robust matches 2334\n",
            "\n",
            "\n"
          ],
          "name": "stdout"
        },
        {
          "output_type": "stream",
          "text": [
            "\r 57%|█████▋    | 34/60 [01:27<01:04,  2.49s/it]"
          ],
          "name": "stderr"
        },
        {
          "output_type": "stream",
          "text": [
            "\n",
            "Number of matches 21660\n",
            "Number of matches After Lowe's Ratio 4977\n",
            "Number of Robust matches 2824\n",
            "\n",
            "\n"
          ],
          "name": "stdout"
        },
        {
          "output_type": "stream",
          "text": [
            "\r 58%|█████▊    | 35/60 [01:31<01:15,  3.02s/it]"
          ],
          "name": "stderr"
        },
        {
          "output_type": "stream",
          "text": [
            "\n",
            "Number of matches 16840\n",
            "Number of matches After Lowe's Ratio 563\n",
            "Number of Robust matches 15\n",
            "\n",
            "\n",
            "Number of matches After Lowe's Ratio New 99\n",
            "Number of Robust matches New 14\n",
            "\n",
            "\n"
          ],
          "name": "stdout"
        },
        {
          "output_type": "stream",
          "text": [
            "\r 60%|██████    | 36/60 [01:34<01:12,  3.01s/it]"
          ],
          "name": "stderr"
        },
        {
          "output_type": "stream",
          "text": [
            "\n",
            "Number of matches 14678\n",
            "Number of matches After Lowe's Ratio 833\n",
            "Number of Robust matches 210\n",
            "\n",
            "\n"
          ],
          "name": "stdout"
        },
        {
          "output_type": "stream",
          "text": [
            "\r 62%|██████▏   | 37/60 [01:37<01:06,  2.89s/it]"
          ],
          "name": "stderr"
        },
        {
          "output_type": "stream",
          "text": [
            "\n",
            "Number of matches 17578\n",
            "Number of matches After Lowe's Ratio 4890\n",
            "Number of Robust matches 2978\n",
            "\n",
            "\n"
          ],
          "name": "stdout"
        },
        {
          "output_type": "stream",
          "text": [
            "\r 63%|██████▎   | 38/60 [01:40<01:05,  2.97s/it]"
          ],
          "name": "stderr"
        },
        {
          "output_type": "stream",
          "text": [
            "\n",
            "Number of matches 18778\n",
            "Number of matches After Lowe's Ratio 6626\n",
            "Number of Robust matches 3739\n",
            "\n",
            "\n"
          ],
          "name": "stdout"
        },
        {
          "output_type": "stream",
          "text": [
            "\r 65%|██████▌   | 39/60 [01:43<01:04,  3.05s/it]"
          ],
          "name": "stderr"
        },
        {
          "output_type": "stream",
          "text": [
            "\n",
            "Number of matches 16908\n",
            "Number of matches After Lowe's Ratio 7896\n",
            "Number of Robust matches 4857\n",
            "\n",
            "\n",
            "\n",
            "Number of matches 16680\n",
            "Number of matches After Lowe's Ratio 9304\n"
          ],
          "name": "stdout"
        },
        {
          "output_type": "stream",
          "text": [
            "\r 67%|██████▋   | 40/60 [01:46<01:02,  3.15s/it]"
          ],
          "name": "stderr"
        },
        {
          "output_type": "stream",
          "text": [
            "Number of Robust matches 7760\n",
            "\n",
            "\n"
          ],
          "name": "stdout"
        },
        {
          "output_type": "stream",
          "text": [
            "\r 68%|██████▊   | 41/60 [01:49<00:58,  3.09s/it]"
          ],
          "name": "stderr"
        },
        {
          "output_type": "stream",
          "text": [
            "\n",
            "Number of matches 12056\n",
            "Number of matches After Lowe's Ratio 6673\n",
            "Number of Robust matches 5340\n",
            "\n",
            "\n"
          ],
          "name": "stdout"
        },
        {
          "output_type": "stream",
          "text": [
            "\r 70%|███████   | 42/60 [01:51<00:46,  2.60s/it]"
          ],
          "name": "stderr"
        },
        {
          "output_type": "stream",
          "text": [
            "\n",
            "Number of matches 551\n",
            "Number of matches After Lowe's Ratio 319\n",
            "Number of Robust matches 226\n",
            "\n",
            "\n"
          ],
          "name": "stdout"
        },
        {
          "output_type": "stream",
          "text": [
            "\r 72%|███████▏  | 43/60 [01:51<00:32,  1.91s/it]"
          ],
          "name": "stderr"
        },
        {
          "output_type": "stream",
          "text": [
            "\n",
            "Number of matches 9553\n",
            "Number of matches After Lowe's Ratio 738\n",
            "Number of Robust matches 50\n",
            "\n",
            "\n"
          ],
          "name": "stdout"
        },
        {
          "output_type": "stream",
          "text": [
            "\r 73%|███████▎  | 44/60 [01:53<00:29,  1.83s/it]"
          ],
          "name": "stderr"
        },
        {
          "output_type": "stream",
          "text": [
            "\n",
            "Number of matches 16847\n",
            "Number of matches After Lowe's Ratio 5127\n",
            "Number of Robust matches 4046\n",
            "\n",
            "\n"
          ],
          "name": "stdout"
        },
        {
          "output_type": "stream",
          "text": [
            "\r 75%|███████▌  | 45/60 [01:56<00:33,  2.23s/it]"
          ],
          "name": "stderr"
        },
        {
          "output_type": "stream",
          "text": [
            "\n",
            "Number of matches 20055\n",
            "Number of matches After Lowe's Ratio 7977\n",
            "Number of Robust matches 5342\n",
            "\n",
            "\n"
          ],
          "name": "stdout"
        },
        {
          "output_type": "stream",
          "text": [
            "\r 77%|███████▋  | 46/60 [02:00<00:37,  2.67s/it]"
          ],
          "name": "stderr"
        },
        {
          "output_type": "stream",
          "text": [
            "\n",
            "Number of matches 17436\n",
            "Number of matches After Lowe's Ratio 5839\n",
            "Number of Robust matches 3508\n",
            "\n",
            "\n"
          ],
          "name": "stdout"
        },
        {
          "output_type": "stream",
          "text": [
            "\r 78%|███████▊  | 47/60 [02:03<00:36,  2.77s/it]"
          ],
          "name": "stderr"
        },
        {
          "output_type": "stream",
          "text": [
            "\n",
            "Number of matches 16139\n",
            "Number of matches After Lowe's Ratio 4553\n",
            "Number of Robust matches 2423\n",
            "\n",
            "\n"
          ],
          "name": "stdout"
        },
        {
          "output_type": "stream",
          "text": [
            "\r 80%|████████  | 48/60 [02:05<00:32,  2.75s/it]"
          ],
          "name": "stderr"
        },
        {
          "output_type": "stream",
          "text": [
            "\n",
            "Number of matches 14818\n",
            "Number of matches After Lowe's Ratio 4381\n",
            "Number of Robust matches 2498\n",
            "\n",
            "\n"
          ],
          "name": "stdout"
        },
        {
          "output_type": "stream",
          "text": [
            "\r 82%|████████▏ | 49/60 [02:08<00:29,  2.67s/it]"
          ],
          "name": "stderr"
        },
        {
          "output_type": "stream",
          "text": [
            "\n",
            "Number of matches 10471\n",
            "Number of matches After Lowe's Ratio 3850\n",
            "Number of Robust matches 3012\n",
            "\n",
            "\n",
            "\n",
            "Number of matches 17596\n",
            "Number of matches After Lowe's Ratio 4682\n"
          ],
          "name": "stdout"
        },
        {
          "output_type": "stream",
          "text": [
            "\r 83%|████████▎ | 50/60 [02:10<00:25,  2.52s/it]"
          ],
          "name": "stderr"
        },
        {
          "output_type": "stream",
          "text": [
            "Number of Robust matches 2654\n",
            "\n",
            "\n"
          ],
          "name": "stdout"
        },
        {
          "output_type": "stream",
          "text": [
            "\r 85%|████████▌ | 51/60 [02:13<00:24,  2.67s/it]"
          ],
          "name": "stderr"
        },
        {
          "output_type": "stream",
          "text": [
            "\n",
            "Number of matches 10351\n",
            "Number of matches After Lowe's Ratio 423\n",
            "Number of Robust matches 31\n",
            "\n",
            "\n"
          ],
          "name": "stdout"
        },
        {
          "output_type": "stream",
          "text": [
            "\r 87%|████████▋ | 52/60 [02:15<00:19,  2.40s/it]"
          ],
          "name": "stderr"
        },
        {
          "output_type": "stream",
          "text": [
            "\n",
            "Number of matches 15780\n",
            "Number of matches After Lowe's Ratio 3056\n",
            "Number of Robust matches 1718\n",
            "\n",
            "\n"
          ],
          "name": "stdout"
        },
        {
          "output_type": "stream",
          "text": [
            "\r 88%|████████▊ | 53/60 [02:17<00:17,  2.47s/it]"
          ],
          "name": "stderr"
        },
        {
          "output_type": "stream",
          "text": [
            "\n",
            "Number of matches 16400\n",
            "Number of matches After Lowe's Ratio 4527\n",
            "Number of Robust matches 2034\n",
            "\n",
            "\n"
          ],
          "name": "stdout"
        },
        {
          "output_type": "stream",
          "text": [
            "\r 90%|█████████ | 54/60 [02:20<00:15,  2.58s/it]"
          ],
          "name": "stderr"
        },
        {
          "output_type": "stream",
          "text": [
            "\n",
            "Number of matches 17544\n",
            "Number of matches After Lowe's Ratio 5249\n",
            "Number of Robust matches 2702\n",
            "\n",
            "\n",
            "\n",
            "Number of matches 16066\n",
            "Number of matches After Lowe's Ratio 5309\n"
          ],
          "name": "stdout"
        },
        {
          "output_type": "stream",
          "text": [
            "\r 92%|█████████▏| 55/60 [02:23<00:13,  2.79s/it]"
          ],
          "name": "stderr"
        },
        {
          "output_type": "stream",
          "text": [
            "Number of Robust matches 3210\n",
            "\n",
            "\n"
          ],
          "name": "stdout"
        },
        {
          "output_type": "stream",
          "text": [
            "\r 93%|█████████▎| 56/60 [02:26<00:10,  2.74s/it]"
          ],
          "name": "stderr"
        },
        {
          "output_type": "stream",
          "text": [
            "\n",
            "Number of matches 14585\n",
            "Number of matches After Lowe's Ratio 7484\n",
            "Number of Robust matches 5254\n",
            "\n",
            "\n"
          ],
          "name": "stdout"
        },
        {
          "output_type": "stream",
          "text": [
            "\r 95%|█████████▌| 57/60 [02:28<00:07,  2.64s/it]"
          ],
          "name": "stderr"
        },
        {
          "output_type": "stream",
          "text": [
            "\n",
            "Number of matches 11032\n",
            "Number of matches After Lowe's Ratio 6662\n",
            "Number of Robust matches 5652\n",
            "\n",
            "\n"
          ],
          "name": "stdout"
        },
        {
          "output_type": "stream",
          "text": [
            "\r 97%|█████████▋| 58/60 [02:30<00:04,  2.30s/it]"
          ],
          "name": "stderr"
        },
        {
          "output_type": "stream",
          "text": [
            "\n",
            "Number of matches 4898\n",
            "Number of matches After Lowe's Ratio 3557\n",
            "Number of Robust matches 3082\n",
            "\n",
            "\n"
          ],
          "name": "stdout"
        },
        {
          "output_type": "stream",
          "text": [
            "\r 98%|█████████▊| 59/60 [02:31<00:01,  1.87s/it]"
          ],
          "name": "stderr"
        },
        {
          "output_type": "stream",
          "text": [
            "\n",
            "Number of matches 8231\n",
            "Number of matches After Lowe's Ratio 193\n",
            "Number of Robust matches 21\n",
            "\n",
            "\n",
            "Number of matches After Lowe's Ratio New 31\n",
            "Number of Robust matches New 7\n",
            "\n",
            "\n"
          ],
          "name": "stdout"
        }
      ]
    },
    {
      "cell_type": "code",
      "metadata": {
        "id": "6KYrPTE6CpAT",
        "colab": {
          "base_uri": "https://localhost:8080/"
        },
        "outputId": "59384ec9-4f2c-4c00-f4d6-5cb14b133f96"
      },
      "source": [
        "\n",
        "import h5py as h5\n",
        "f=h5.File('drive/MyDrive/H_left_fast_40.h5','w')\n",
        "t0=time.time()\n",
        "f.create_dataset('data',data=H_left_fast)\n",
        "f.close()\n",
        "print('HDF5  w/o comp.:',time.time()-t0,'[s] ... size',os.path.getsize('drive/MyDrive/H_left_fast_40.h5')/1.e6,'MB')"
      ],
      "execution_count": 42,
      "outputs": [
        {
          "output_type": "stream",
          "text": [
            "HDF5  w/o comp.: 0.0057218074798583984 [s] ... size 0.006368 MB\n"
          ],
          "name": "stdout"
        }
      ]
    },
    {
      "cell_type": "code",
      "metadata": {
        "id": "pHY7cpdhCo9g",
        "colab": {
          "base_uri": "https://localhost:8080/"
        },
        "outputId": "f46b3f4f-5152-46ca-a6f4-56ea4e9094ae"
      },
      "source": [
        "\n",
        "import h5py as h5\n",
        "f=h5.File('drive/MyDrive/H_right_fast_40.h5','w')\n",
        "t0=time.time()\n",
        "f.create_dataset('data',data=H_right_fast)\n",
        "f.close()\n",
        "print('HDF5  w/o comp.:',time.time()-t0,'[s] ... size',os.path.getsize('drive/MyDrive/H_right_fast_40.h5')/1.e6,'MB')"
      ],
      "execution_count": 43,
      "outputs": [
        {
          "output_type": "stream",
          "text": [
            "HDF5  w/o comp.: 0.011954545974731445 [s] ... size 0.006296 MB\n"
          ],
          "name": "stdout"
        }
      ]
    },
    {
      "cell_type": "code",
      "metadata": {
        "id": "HSskRoPqCo6N"
      },
      "source": [
        "\n",
        "del H_left_fast, H_right_fast,keypoints_all_left_fast, keypoints_all_right_fast, descriptors_all_left_fast, descriptors_all_right_fast, points_all_left_fast, points_all_right_fast"
      ],
      "execution_count": 44,
      "outputs": []
    },
    {
      "cell_type": "code",
      "metadata": {
        "id": "aFQQsAnmCo2h"
      },
      "source": [
        ""
      ],
      "execution_count": null,
      "outputs": []
    },
    {
      "cell_type": "code",
      "metadata": {
        "id": "iPqE-tN3Coy1"
      },
      "source": [
        "'''import pickle\n",
        "Fdb = open('all_feat_orb_left.dat', 'rb')\n",
        "kpts_all = pickle.load(Fdb)\n",
        "Fdb.close()\n",
        "\n",
        "keypoints_all_left_orb = []\n",
        "descriptors_all_left_orb = []\n",
        "\n",
        "for j,kpt_each in enumerate(kpts_all):\n",
        "  keypoints_each = []\n",
        "  descrip_each = []\n",
        "  for k,kpt_img in enumerate(kpt_each):\n",
        "    temp_feature = cv2.KeyPoint(x=kpt_img[0][0],y=kpt_img[0][1],_size=kpt_img[1], _angle=kpt_img[2], \n",
        "                            _response=kpt_img[3], _octave=kpt_img[4], _class_id=kpt_img[5]) \n",
        "    temp_descriptor = kpt_img[6]\n",
        "    keypoints_each.append(temp_feature)\n",
        "    descrip_each.append(temp_descriptor)\n",
        "  points_all_left_orb.append(np.asarray([[p.pt[0], p.pt[1]] for p in keypoints_each]))\n",
        "  keypoints_all_left_orb.append(keypoints_each)\n",
        "  descriptors_all_left_orb.append(descrip_each)"
      ],
      "execution_count": null,
      "outputs": []
    },
    {
      "cell_type": "code",
      "metadata": {
        "id": "LDINZCa2Coth"
      },
      "source": [
        "'''import pickle\n",
        "Fdb = open('all_feat_orb_right.dat', 'rb')\n",
        "kpts_all = pickle.load(Fdb)\n",
        "Fdb.close()\n",
        "\n",
        "keypoints_all_right_orb = []\n",
        "descriptors_all_right_orb = []\n",
        "\n",
        "for j,kpt_each in enumerate(kpts_all):\n",
        "  keypoints_each = []\n",
        "  descrip_each = []\n",
        "  for k,kpt_img in enumerate(kpt_each):\n",
        "    temp_feature = cv2.KeyPoint(x=kpt_img[0][0],y=kpt_img[0][1],_size=kpt_img[1], _angle=kpt_img[2], \n",
        "                            _response=kpt_img[3], _octave=kpt_img[4], _class_id=kpt_img[5]) \n",
        "    temp_descriptor = kpt_img[6]\n",
        "    keypoints_each.append(temp_feature)\n",
        "    descrip_each.append(temp_descriptor)\n",
        "  points_all_right_orb.append(np.asarray([[p.pt[0], p.pt[1]] for p in keypoints_each]))\n",
        "  keypoints_all_right_orb.append(keypoints_each)\n",
        "  descriptors_all_right_orb.append(descrip_each)"
      ],
      "execution_count": null,
      "outputs": []
    },
    {
      "cell_type": "code",
      "metadata": {
        "id": "1WHgugSBCony"
      },
      "source": [
        "'''H_left_orb = []\n",
        "H_right_orb = []\n",
        "\n",
        "num_matches_orb = []\n",
        "num_good_matches_orb = []\n",
        "\n",
        "for j in tqdm(range(len(left_files_path))):\n",
        "  if j==len(left_files_path)-1:\n",
        "    break\n",
        "\n",
        "  H_a,matches,gd_matches = get_Hmatrix(images_left_bgr[j:j+2][::-1],keypoints_all_left_orb[j:j+2][::-1],points_all_left_orb[j:j+2][::-1],descriptors_all_left_orb[j:j+2][::-1],0.7)\n",
        "  H_left_orb.append(H_a)\n",
        "  num_matches_orb.append(matches)\n",
        "  num_good_matches_orb.append(gd_matches)\n",
        "\n",
        "for j in tqdm(range(len(right_files_path))):\n",
        "  if j==len(right_files_path)-1:\n",
        "    break\n",
        "\n",
        "  H_a,matches,gd_matches = get_Hmatrix(images_right_bgr[j:j+2][::-1],keypoints_all_right_orb[j:j+2][::-1],points_all_right_orb[j:j+2][::-1],descriptors_all_right_orb[j:j+2][::-1],0.7)\n",
        "  H_right_orb.append(H_a)\n",
        "  num_matches_orb.append(matches)\n",
        "  num_good_matches_orb.append(gd_matches)"
      ],
      "execution_count": null,
      "outputs": []
    },
    {
      "cell_type": "code",
      "metadata": {
        "colab": {
          "base_uri": "https://localhost:8080/"
        },
        "id": "5KOqm_thCoiE",
        "outputId": "24a6fa52-07c0-453d-8940-f1666f8848e2"
      },
      "source": [
        "'''import h5py as h5\n",
        "f=h5.File('drive/MyDrive/H_left_orb_40.h5','w')\n",
        "t0=time.time()\n",
        "f.create_dataset('data',data=H_left_orb)\n",
        "f.close()\n",
        "print('HDF5  w/o comp.:',time.time()-t0,'[s] ... size',os.path.getsize('drive/MyDrive/H_left_orb_40.h5')/1.e6,'MB')"
      ],
      "execution_count": null,
      "outputs": [
        {
          "output_type": "stream",
          "text": [
            "HDF5  w/o comp.: 0.004562854766845703 [s] ... size 0.006368 MB\n"
          ],
          "name": "stdout"
        }
      ]
    },
    {
      "cell_type": "code",
      "metadata": {
        "colab": {
          "base_uri": "https://localhost:8080/"
        },
        "id": "1Thqr2JOCoRY",
        "outputId": "c95583ba-e1e4-49ec-fbed-ed1434bafdaf"
      },
      "source": [
        "'''import h5py as h5\n",
        "f=h5.File('drive/MyDrive/H_right_orb_40.h5','w')\n",
        "t0=time.time()\n",
        "f.create_dataset('data',data=H_right_orb)\n",
        "f.close()\n",
        "print('HDF5  w/o comp.:',time.time()-t0,'[s] ... size',os.path.getsize('drive/MyDrive/H_right_orb_40.h5')/1.e6,'MB')"
      ],
      "execution_count": null,
      "outputs": [
        {
          "output_type": "stream",
          "text": [
            "HDF5  w/o comp.: 0.004209756851196289 [s] ... size 0.006296 MB\n"
          ],
          "name": "stdout"
        }
      ]
    },
    {
      "cell_type": "code",
      "metadata": {
        "id": "Od2bhrUTCoMK"
      },
      "source": [
        "'''del H_left_orb, H_right_orb,keypoints_all_left_orb, keypoints_all_right_orb, descriptors_all_left_orb, descriptors_all_right_orb, points_all_left_orb, points_all_right_orb"
      ],
      "execution_count": null,
      "outputs": []
    },
    {
      "cell_type": "code",
      "metadata": {
        "id": "r9jqLTS8CoF6"
      },
      "source": [
        ""
      ],
      "execution_count": null,
      "outputs": []
    },
    {
      "cell_type": "code",
      "metadata": {
        "id": "C8JpQMQ8Cn_a"
      },
      "source": [
        "'''import pickle\n",
        "Fdb = open('all_feat_kaze_left.dat', 'rb')\n",
        "kpts_all = pickle.load(Fdb)\n",
        "Fdb.close()\n",
        "\n",
        "keypoints_all_left_kaze = []\n",
        "descriptors_all_left_kaze = []\n",
        "\n",
        "for j,kpt_each in enumerate(kpts_all):\n",
        "  keypoints_each = []\n",
        "  descrip_each = []\n",
        "  for k,kpt_img in enumerate(kpt_each):\n",
        "    temp_feature = cv2.KeyPoint(x=kpt_img[0][0],y=kpt_img[0][1],_size=kpt_img[1], _angle=kpt_img[2], \n",
        "                            _response=kpt_img[3], _octave=kpt_img[4], _class_id=kpt_img[5]) \n",
        "    temp_descriptor = kpt_img[6]\n",
        "    keypoints_each.append(temp_feature)\n",
        "    descrip_each.append(temp_descriptor)\n",
        "  points_all_left_kaze.append(np.asarray([[p.pt[0], p.pt[1]] for p in keypoints_each]))\n",
        "  keypoints_all_left_kaze.append(keypoints_each)\n",
        "  descriptors_all_left_kaze.append(descrip_each)"
      ],
      "execution_count": null,
      "outputs": []
    },
    {
      "cell_type": "code",
      "metadata": {
        "id": "zIxJL3eVLU4-"
      },
      "source": [
        "'''import pickle\n",
        "Fdb = open('all_feat_kaze_right.dat', 'rb')\n",
        "kpts_all = pickle.load(Fdb)\n",
        "Fdb.close()\n",
        "\n",
        "keypoints_all_right_kaze = []\n",
        "descriptors_all_right_kaze = []\n",
        "\n",
        "for j,kpt_each in enumerate(kpts_all):\n",
        "  keypoints_each = []\n",
        "  descrip_each = []\n",
        "  for k,kpt_img in enumerate(kpt_each):\n",
        "    temp_feature = cv2.KeyPoint(x=kpt_img[0][0],y=kpt_img[0][1],_size=kpt_img[1], _angle=kpt_img[2], \n",
        "                            _response=kpt_img[3], _octave=kpt_img[4], _class_id=kpt_img[5]) \n",
        "    temp_descriptor = kpt_img[6]\n",
        "    keypoints_each.append(temp_feature)\n",
        "    descrip_each.append(temp_descriptor)\n",
        "  points_all_right_kaze.append(np.asarray([[p.pt[0], p.pt[1]] for p in keypoints_each]))\n",
        "  keypoints_all_right_kaze.append(keypoints_each)\n",
        "  descriptors_all_right_kaze.append(descrip_each)"
      ],
      "execution_count": null,
      "outputs": []
    },
    {
      "cell_type": "code",
      "metadata": {
        "id": "MVmEjVvtLU1c"
      },
      "source": [
        "'''H_left_kaze = []\n",
        "H_right_kaze = []\n",
        "\n",
        "num_matches_kaze = []\n",
        "num_good_matches_kaze = []\n",
        "\n",
        "for j in tqdm(range(len(left_files_path))):\n",
        "  if j==len(left_files_path)-1:\n",
        "    break\n",
        "\n",
        "  H_a,matches,gd_matches = get_Hmatrix(images_left_bgr[j:j+2][::-1],keypoints_all_left_kaze[j:j+2][::-1],points_all_left_kaze[j:j+2][::-1],descriptors_all_left_kaze[j:j+2][::-1])\n",
        "  H_left_kaze.append(H_a)\n",
        "  num_matches_kaze.append(matches)\n",
        "  num_good_matches_kaze.append(gd_matches)\n",
        "\n",
        "for j in tqdm(range(len(right_files_path))):\n",
        "  if j==len(right_files_path)-1:\n",
        "    break\n",
        "\n",
        "  H_a,matches,gd_matches = get_Hmatrix(images_right_bgr[j:j+2][::-1],keypoints_all_right_kaze[j:j+2][::-1],points_all_right_kaze[j:j+2][::-1],descriptors_all_right_kaze[j:j+2][::-1])\n",
        "  H_right_kaze.append(H_a)\n",
        "  num_matches_kaze.append(matches)\n",
        "  num_good_matches_kaze.append(gd_matches)"
      ],
      "execution_count": null,
      "outputs": []
    },
    {
      "cell_type": "code",
      "metadata": {
        "colab": {
          "base_uri": "https://localhost:8080/"
        },
        "id": "guD4TGu6LUx3",
        "outputId": "fdef4381-33be-4bda-bb26-fdd6e5d03b1c"
      },
      "source": [
        "'''import h5py as h5\n",
        "f=h5.File('drive/MyDrive/H_left_kaze_40.h5','w')\n",
        "t0=time.time()\n",
        "f.create_dataset('data',data=H_left_kaze)\n",
        "f.close()\n",
        "print('HDF5  w/o comp.:',time.time()-t0,'[s] ... size',os.path.getsize('drive/MyDrive/H_left_kaze_40.h5')/1.e6,'MB')"
      ],
      "execution_count": null,
      "outputs": [
        {
          "output_type": "stream",
          "text": [
            "HDF5  w/o comp.: 0.0051157474517822266 [s] ... size 0.006368 MB\n"
          ],
          "name": "stdout"
        }
      ]
    },
    {
      "cell_type": "code",
      "metadata": {
        "colab": {
          "base_uri": "https://localhost:8080/"
        },
        "id": "MtlBrHx-LUsA",
        "outputId": "3327aa72-0abe-4707-f893-3f72f3cfc9a5"
      },
      "source": [
        "'''import h5py as h5\n",
        "f=h5.File('drive/MyDrive/H_right_kaze_40.h5','w')\n",
        "t0=time.time()\n",
        "f.create_dataset('data',data=H_right_kaze)\n",
        "f.close()\n",
        "print('HDF5  w/o comp.:',time.time()-t0,'[s] ... size',os.path.getsize('drive/MyDrive/H_right_kaze_40.h5')/1.e6,'MB')\n"
      ],
      "execution_count": null,
      "outputs": [
        {
          "output_type": "stream",
          "text": [
            "HDF5  w/o comp.: 0.007517576217651367 [s] ... size 0.006296 MB\n"
          ],
          "name": "stdout"
        }
      ]
    },
    {
      "cell_type": "code",
      "metadata": {
        "id": "bi9MYWV1LUog"
      },
      "source": [
        "'''del H_left_kaze, H_right_kaze,keypoints_all_left_kaze, keypoints_all_right_kaze, descriptors_all_left_kaze, descriptors_all_right_kaze, points_all_left_kaze, points_all_right_kaze"
      ],
      "execution_count": null,
      "outputs": []
    },
    {
      "cell_type": "code",
      "metadata": {
        "id": "Na358EdCLUlI"
      },
      "source": [
        ""
      ],
      "execution_count": null,
      "outputs": []
    },
    {
      "cell_type": "code",
      "metadata": {
        "id": "yygpK4ReLUgv"
      },
      "source": [
        "'''import pickle\n",
        "Fdb = open('all_feat_akaze_left.dat', 'rb')\n",
        "kpts_all = pickle.load(Fdb)\n",
        "Fdb.close()\n",
        "\n",
        "keypoints_all_left_akaze = []\n",
        "descriptors_all_left_akaze = []\n",
        "\n",
        "for j,kpt_each in enumerate(kpts_all):\n",
        "  keypoints_each = []\n",
        "  descrip_each = []\n",
        "  for k,kpt_img in enumerate(kpt_each):\n",
        "    temp_feature = cv2.KeyPoint(x=kpt_img[0][0],y=kpt_img[0][1],_size=kpt_img[1], _angle=kpt_img[2], \n",
        "                            _response=kpt_img[3], _octave=kpt_img[4], _class_id=kpt_img[5]) \n",
        "    temp_descriptor = kpt_img[6]\n",
        "    keypoints_each.append(temp_feature)\n",
        "    descrip_each.append(temp_descriptor)\n",
        "  points_all_left_akaze.append(np.asarray([[p.pt[0], p.pt[1]] for p in keypoints_each]))\n",
        "  keypoints_all_left_akaze.append(keypoints_each)\n",
        "  descriptors_all_left_akaze.append(descrip_each)"
      ],
      "execution_count": null,
      "outputs": []
    },
    {
      "cell_type": "code",
      "metadata": {
        "id": "iMVyOCZkLUa8"
      },
      "source": [
        "'''import pickle\n",
        "Fdb = open('all_feat_akaze_right.dat', 'rb')\n",
        "kpts_all = pickle.load(Fdb)\n",
        "Fdb.close()\n",
        "\n",
        "keypoints_all_right_akaze = []\n",
        "descriptors_all_right_akaze = []\n",
        "\n",
        "for j,kpt_each in enumerate(kpts_all):\n",
        "  keypoints_each = []\n",
        "  descrip_each = []\n",
        "  for k,kpt_img in enumerate(kpt_each):\n",
        "    temp_feature = cv2.KeyPoint(x=kpt_img[0][0],y=kpt_img[0][1],_size=kpt_img[1], _angle=kpt_img[2], \n",
        "                            _response=kpt_img[3], _octave=kpt_img[4], _class_id=kpt_img[5]) \n",
        "    temp_descriptor = kpt_img[6]\n",
        "    keypoints_each.append(temp_feature)\n",
        "    descrip_each.append(temp_descriptor)\n",
        "  points_all_right_akaze.append(np.asarray([[p.pt[0], p.pt[1]] for p in keypoints_each]))\n",
        "  keypoints_all_right_akaze.append(keypoints_each)\n",
        "  descriptors_all_right_akaze.append(descrip_each)"
      ],
      "execution_count": null,
      "outputs": []
    },
    {
      "cell_type": "code",
      "metadata": {
        "id": "JXXoYuWrLUVi"
      },
      "source": [
        "'''H_left_akaze = []\n",
        "H_right_akaze = []\n",
        "\n",
        "num_matches_akaze = []\n",
        "num_good_matches_akaze = []\n",
        "\n",
        "for j in tqdm(range(len(left_files_path))):\n",
        "  if j==len(left_files_path)-1:\n",
        "    break\n",
        "\n",
        "  H_a,matches,gd_matches = get_Hmatrix(images_left_bgr[j:j+2][::-1],keypoints_all_left_akaze[j:j+2][::-1],points_all_left_akaze[j:j+2][::-1],descriptors_all_left_akaze[j:j+2][::-1])\n",
        "  H_left_akaze.append(H_a)\n",
        "  num_matches_akaze.append(matches)\n",
        "  num_good_matches_akaze.append(gd_matches)\n",
        "\n",
        "for j in tqdm(range(len(right_files_path))):\n",
        "  if j==len(right_files_path)-1:\n",
        "    break\n",
        "\n",
        "  H_a,matches,gd_matches = get_Hmatrix(images_right_bgr[j:j+2][::-1],keypoints_all_right_akaze[j:j+2][::-1],points_all_right_akaze[j:j+2][::-1],descriptors_all_right_akaze[j:j+2][::-1])\n",
        "  H_right_akaze.append(H_a)\n",
        "  num_matches_akaze.append(matches)\n",
        "  num_good_matches_akaze.append(gd_matches)"
      ],
      "execution_count": null,
      "outputs": []
    },
    {
      "cell_type": "code",
      "metadata": {
        "colab": {
          "base_uri": "https://localhost:8080/"
        },
        "id": "VCUbYsdqLUPW",
        "outputId": "5cd4b304-e725-4f45-c5f4-a2a29fd87b18"
      },
      "source": [
        "'''import h5py as h5\n",
        "f=h5.File('drive/MyDrive/H_left_akaze_40.h5','w')\n",
        "t0=time.time()\n",
        "f.create_dataset('data',data=H_left_akaze)\n",
        "f.close()\n",
        "print('HDF5  w/o comp.:',time.time()-t0,'[s] ... size',os.path.getsize('drive/MyDrive/H_left_akaze_40.h5')/1.e6,'MB')"
      ],
      "execution_count": null,
      "outputs": [
        {
          "output_type": "stream",
          "text": [
            "HDF5  w/o comp.: 0.0060634613037109375 [s] ... size 0.006368 MB\n"
          ],
          "name": "stdout"
        }
      ]
    },
    {
      "cell_type": "code",
      "metadata": {
        "colab": {
          "base_uri": "https://localhost:8080/"
        },
        "id": "uKB4xG_yLrCm",
        "outputId": "3b0a7493-a070-4a50-b6e1-c3c22615a5c1"
      },
      "source": [
        "'''import h5py as h5\n",
        "f=h5.File('drive/MyDrive/H_right_akaze_40.h5','w')\n",
        "t0=time.time()\n",
        "f.create_dataset('data',data=H_right_akaze)\n",
        "f.close()\n",
        "print('HDF5  w/o comp.:',time.time()-t0,'[s] ... size',os.path.getsize('drive/MyDrive/H_right_akaze_40.h5')/1.e6,'MB')"
      ],
      "execution_count": null,
      "outputs": [
        {
          "output_type": "stream",
          "text": [
            "HDF5  w/o comp.: 0.008934974670410156 [s] ... size 0.006296 MB\n"
          ],
          "name": "stdout"
        }
      ]
    },
    {
      "cell_type": "code",
      "metadata": {
        "id": "nTsWFn9ULq-9"
      },
      "source": [
        "'''del H_left_akaze, H_right_akaze,keypoints_all_left_akaze, keypoints_all_right_akaze, descriptors_all_left_akaze, descriptors_all_right_akaze, points_all_left_akaze, points_all_right_akaze"
      ],
      "execution_count": null,
      "outputs": []
    },
    {
      "cell_type": "code",
      "metadata": {
        "id": "cEmrP5gQLq7D"
      },
      "source": [
        "'''import pickle\n",
        "Fdb = open('all_feat_star_left.dat', 'rb')\n",
        "kpts_all = pickle.load(Fdb)\n",
        "Fdb.close()\n",
        "\n",
        "keypoints_all_left_star = []\n",
        "descriptors_all_left_brief = []\n",
        "\n",
        "for j,kpt_each in enumerate(kpts_all):\n",
        "  keypoints_each = []\n",
        "  descrip_each = []\n",
        "  for k,kpt_img in enumerate(kpt_each):\n",
        "    temp_feature = cv2.KeyPoint(x=kpt_img[0][0],y=kpt_img[0][1],_size=kpt_img[1], _angle=kpt_img[2], \n",
        "                            _response=kpt_img[3], _octave=kpt_img[4], _class_id=kpt_img[5]) \n",
        "    temp_descriptor = kpt_img[6]\n",
        "    keypoints_each.append(temp_feature)\n",
        "    descrip_each.append(temp_descriptor)\n",
        "  points_all_left_star.append(np.asarray([[p.pt[0], p.pt[1]] for p in keypoints_each]))\n",
        "  keypoints_all_left_star.append(keypoints_each)\n",
        "  descriptors_all_left_brief.append(descrip_each)"
      ],
      "execution_count": null,
      "outputs": []
    },
    {
      "cell_type": "code",
      "metadata": {
        "id": "a37U2l41Lq3d"
      },
      "source": [
        "'''import pickle\n",
        "Fdb = open('all_feat_star_right.dat', 'rb')\n",
        "kpts_all = pickle.load(Fdb)\n",
        "Fdb.close()\n",
        "\n",
        "keypoints_all_right_star = []\n",
        "descriptors_all_right_brief = []\n",
        "\n",
        "for j,kpt_each in enumerate(kpts_all):\n",
        "  keypoints_each = []\n",
        "  descrip_each = []\n",
        "  for k,kpt_img in enumerate(kpt_each):\n",
        "    temp_feature = cv2.KeyPoint(x=kpt_img[0][0],y=kpt_img[0][1],_size=kpt_img[1], _angle=kpt_img[2], \n",
        "                            _response=kpt_img[3], _octave=kpt_img[4], _class_id=kpt_img[5]) \n",
        "    temp_descriptor = kpt_img[6]\n",
        "    keypoints_each.append(temp_feature)\n",
        "    descrip_each.append(temp_descriptor)\n",
        "  points_all_right_star.append(np.asarray([[p.pt[0], p.pt[1]] for p in keypoints_each]))\n",
        "  keypoints_all_right_star.append(keypoints_each)\n",
        "  descriptors_all_right_brief.append(descrip_each)"
      ],
      "execution_count": null,
      "outputs": []
    },
    {
      "cell_type": "code",
      "metadata": {
        "id": "9AqNG-R1Lqzm"
      },
      "source": [
        "'''H_left_brief = []\n",
        "H_right_brief = []\n",
        "\n",
        "num_matches_briefstar = []\n",
        "num_good_matches_briefstar = []\n",
        "\n",
        "for j in tqdm(range(len(left_files_path))):\n",
        "  if j==len(left_files_path)-1:\n",
        "    break\n",
        "\n",
        "  H_a,matches,gd_matches = get_Hmatrix(images_left_bgr[j:j+2][::-1],keypoints_all_left_star[j:j+2][::-1],points_all_left_star[j:j+2][::-1],descriptors_all_left_brief[j:j+2][::-1])\n",
        "  H_left_brief.append(H_a)\n",
        "  num_matches_briefstar.append(matches)\n",
        "  num_good_matches_briefstar.append(gd_matches)\n",
        "\n",
        "for j in tqdm(range(len(right_files_path))):\n",
        "  if j==len(right_files_path)-1:\n",
        "    break\n",
        "\n",
        "  H_a,matches,gd_matches = get_Hmatrix(images_right_bgr[j:j+2][::-1],keypoints_all_right_star[j:j+2][::-1],points_all_right_star[j:j+2][::-1],descriptors_all_right_brief[j:j+2][::-1])\n",
        "  H_right_brief.append(H_a)\n",
        "  num_matches_briefstar.append(matches)\n",
        "  num_good_matches_briefstar.append(gd_matches)"
      ],
      "execution_count": null,
      "outputs": []
    },
    {
      "cell_type": "code",
      "metadata": {
        "colab": {
          "base_uri": "https://localhost:8080/"
        },
        "id": "u0rUJtNXL_3A",
        "outputId": "2a5c9ebc-f80d-4c8c-8537-f623e1895bc4"
      },
      "source": [
        "'''import h5py as h5\n",
        "f=h5.File('drive/MyDrive/H_left_brief_40.h5','w')\n",
        "t0=time.time()\n",
        "f.create_dataset('data',data=H_left_brief)\n",
        "f.close()\n",
        "print('HDF5  w/o comp.:',time.time()-t0,'[s] ... size',os.path.getsize('drive/MyDrive/H_left_brief_40.h5')/1.e6,'MB')"
      ],
      "execution_count": null,
      "outputs": [
        {
          "output_type": "stream",
          "text": [
            "HDF5  w/o comp.: 0.006726503372192383 [s] ... size 0.006368 MB\n"
          ],
          "name": "stdout"
        }
      ]
    },
    {
      "cell_type": "code",
      "metadata": {
        "colab": {
          "base_uri": "https://localhost:8080/"
        },
        "id": "1UcMra4TL_ya",
        "outputId": "811ba71c-e968-441b-d149-bd862082b56b"
      },
      "source": [
        "'''import h5py as h5\n",
        "f=h5.File('drive/MyDrive/H_right_brief_40.h5','w')\n",
        "t0=time.time()\n",
        "f.create_dataset('data',data=H_right_brief)\n",
        "f.close()\n",
        "print('HDF5  w/o comp.:',time.time()-t0,'[s] ... size',os.path.getsize('drive/MyDrive/H_right_brief_40.h5')/1.e6,'MB')"
      ],
      "execution_count": null,
      "outputs": [
        {
          "output_type": "stream",
          "text": [
            "HDF5  w/o comp.: 0.004112958908081055 [s] ... size 0.006296 MB\n"
          ],
          "name": "stdout"
        }
      ]
    },
    {
      "cell_type": "code",
      "metadata": {
        "id": "J2byBTnoL_t_"
      },
      "source": [
        "'''del H_left_brief, H_right_brief,keypoints_all_left_star, keypoints_all_right_star, descriptors_all_left_brief, descriptors_all_right_brief, points_all_left_star, points_all_right_star"
      ],
      "execution_count": null,
      "outputs": []
    },
    {
      "cell_type": "code",
      "metadata": {
        "id": "GbdGzY8tL_m0"
      },
      "source": [
        ""
      ],
      "execution_count": null,
      "outputs": []
    },
    {
      "cell_type": "code",
      "metadata": {
        "id": "VMQUSHH2L_hd"
      },
      "source": [
        "'''import pickle\n",
        "Fdb = open('all_feat_agast_left.dat', 'rb')\n",
        "kpts_all = pickle.load(Fdb)\n",
        "Fdb.close()\n",
        "\n",
        "keypoints_all_left_agast = []\n",
        "descriptors_all_left_agast = []\n",
        "\n",
        "for j,kpt_each in enumerate(kpts_all):\n",
        "  keypoints_each = []\n",
        "  descrip_each = []\n",
        "  for k,kpt_img in enumerate(kpt_each):\n",
        "    temp_feature = cv2.KeyPoint(x=kpt_img[0][0],y=kpt_img[0][1],_size=kpt_img[1], _angle=kpt_img[2], \n",
        "                            _response=kpt_img[3], _octave=kpt_img[4], _class_id=kpt_img[5]) \n",
        "    temp_descriptor = kpt_img[6]\n",
        "    keypoints_each.append(temp_feature)\n",
        "    descrip_each.append(temp_descriptor)\n",
        "  points_all_left_agast.append(np.asarray([[p.pt[0], p.pt[1]] for p in keypoints_each]))\n",
        "  keypoints_all_left_agast.append(keypoints_each)\n",
        "  descriptors_all_left_agast.append(descrip_each)"
      ],
      "execution_count": null,
      "outputs": []
    },
    {
      "cell_type": "code",
      "metadata": {
        "id": "d8vgi650L_dN"
      },
      "source": [
        "'''import pickle\n",
        "Fdb = open('all_feat_agast_right.dat', 'rb')\n",
        "kpts_all = pickle.load(Fdb)\n",
        "Fdb.close()\n",
        "\n",
        "keypoints_all_right_agast = []\n",
        "descriptors_all_right_agast = []\n",
        "\n",
        "for j,kpt_each in enumerate(kpts_all):\n",
        "  keypoints_each = []\n",
        "  descrip_each = []\n",
        "  for k,kpt_img in enumerate(kpt_each):\n",
        "    temp_feature = cv2.KeyPoint(x=kpt_img[0][0],y=kpt_img[0][1],_size=kpt_img[1], _angle=kpt_img[2], \n",
        "                            _response=kpt_img[3], _octave=kpt_img[4], _class_id=kpt_img[5]) \n",
        "    temp_descriptor = kpt_img[6]\n",
        "    keypoints_each.append(temp_feature)\n",
        "    descrip_each.append(temp_descriptor)\n",
        "  points_all_right_agast.append(np.asarray([[p.pt[0], p.pt[1]] for p in keypoints_each]))\n",
        "  keypoints_all_right_agast.append(keypoints_each)\n",
        "  descriptors_all_right_agast.append(descrip_each)"
      ],
      "execution_count": null,
      "outputs": []
    },
    {
      "cell_type": "code",
      "metadata": {
        "id": "06H-GZvbL_X7",
        "colab": {
          "base_uri": "https://localhost:8080/"
        },
        "outputId": "1dd552cb-b39a-437e-9787-212b4c0fd5cc"
      },
      "source": [
        "H_left_agast = []\n",
        "H_right_agast = []\n",
        "\n",
        "num_matches_agast = []\n",
        "num_good_matches_agast = []\n",
        "\n",
        "for j in tqdm(range(len(left_files_path))):\n",
        "  if j==len(left_files_path)-1:\n",
        "    break\n",
        "\n",
        "  H_a,matches,gd_matches = get_Hmatrix(images_left_bgr[j:j+2][::-1],keypoints_all_left_agast[j:j+2][::-1],points_all_left_agast[j:j+2][::-1],descriptors_all_left_agast[j:j+2][::-1],0.85,6)\n",
        "  H_left_agast.append(H_a)\n",
        "  num_matches_agast.append(matches)\n",
        "  num_good_matches_agast.append(gd_matches)\n",
        "\n",
        "for j in tqdm(range(len(right_files_path))):\n",
        "  if j==len(right_files_path)-1:\n",
        "    break\n",
        "\n",
        "  H_a,matches,gd_matches = get_Hmatrix(images_right_bgr[j:j+2][::-1],keypoints_all_right_agast[j:j+2][::-1],points_all_right_agast[j:j+2][::-1],descriptors_all_right_agast[j:j+2][::-1],0.85,6)\n",
        "  H_right_agast.append(H_a)\n",
        "  num_matches_agast.append(matches)\n",
        "  num_good_matches_agast.append(gd_matches)"
      ],
      "execution_count": 45,
      "outputs": [
        {
          "output_type": "stream",
          "text": [
            "  2%|▏         | 1/61 [00:02<02:34,  2.58s/it]"
          ],
          "name": "stderr"
        },
        {
          "output_type": "stream",
          "text": [
            "\n",
            "Number of matches 17682\n",
            "Number of matches After Lowe's Ratio 3517\n",
            "Number of Robust matches 2114\n",
            "\n",
            "\n"
          ],
          "name": "stdout"
        },
        {
          "output_type": "stream",
          "text": [
            "\r  3%|▎         | 2/61 [00:05<02:42,  2.76s/it]"
          ],
          "name": "stderr"
        },
        {
          "output_type": "stream",
          "text": [
            "\n",
            "Number of matches 18102\n",
            "Number of matches After Lowe's Ratio 4964\n",
            "Number of Robust matches 3025\n",
            "\n",
            "\n"
          ],
          "name": "stdout"
        },
        {
          "output_type": "stream",
          "text": [
            "\r  5%|▍         | 3/61 [00:08<02:43,  2.83s/it]"
          ],
          "name": "stderr"
        },
        {
          "output_type": "stream",
          "text": [
            "\n",
            "Number of matches 15452\n",
            "Number of matches After Lowe's Ratio 3576\n",
            "Number of Robust matches 1876\n",
            "\n",
            "\n"
          ],
          "name": "stdout"
        },
        {
          "output_type": "stream",
          "text": [
            "\r  7%|▋         | 4/61 [00:11<02:33,  2.68s/it]"
          ],
          "name": "stderr"
        },
        {
          "output_type": "stream",
          "text": [
            "\n",
            "Number of matches 15597\n",
            "Number of matches After Lowe's Ratio 3297\n",
            "Number of Robust matches 2148\n",
            "\n",
            "\n"
          ],
          "name": "stdout"
        },
        {
          "output_type": "stream",
          "text": [
            "\r  8%|▊         | 5/61 [00:13<02:28,  2.66s/it]"
          ],
          "name": "stderr"
        },
        {
          "output_type": "stream",
          "text": [
            "\n",
            "Number of matches 17078\n",
            "Number of matches After Lowe's Ratio 1293\n",
            "Number of Robust matches 707\n",
            "\n",
            "\n"
          ],
          "name": "stdout"
        },
        {
          "output_type": "stream",
          "text": [
            "\r 10%|▉         | 6/61 [00:17<02:39,  2.90s/it]"
          ],
          "name": "stderr"
        },
        {
          "output_type": "stream",
          "text": [
            "\n",
            "Number of matches 20956\n",
            "Number of matches After Lowe's Ratio 185\n",
            "Number of Robust matches 24\n",
            "\n",
            "\n",
            "Number of matches After Lowe's Ratio New 185\n",
            "Number of Robust matches New 24\n",
            "\n",
            "\n"
          ],
          "name": "stdout"
        },
        {
          "output_type": "stream",
          "text": [
            "\r 11%|█▏        | 7/61 [00:21<02:54,  3.23s/it]"
          ],
          "name": "stderr"
        },
        {
          "output_type": "stream",
          "text": [
            "\n",
            "Number of matches 19031\n",
            "Number of matches After Lowe's Ratio 6195\n",
            "Number of Robust matches 4738\n",
            "\n",
            "\n"
          ],
          "name": "stdout"
        },
        {
          "output_type": "stream",
          "text": [
            "\r 13%|█▎        | 8/61 [00:24<02:50,  3.22s/it]"
          ],
          "name": "stderr"
        },
        {
          "output_type": "stream",
          "text": [
            "\n",
            "Number of matches 14940\n",
            "Number of matches After Lowe's Ratio 4137\n",
            "Number of Robust matches 2560\n",
            "\n",
            "\n"
          ],
          "name": "stdout"
        },
        {
          "output_type": "stream",
          "text": [
            "\r 15%|█▍        | 9/61 [00:26<02:34,  2.96s/it]"
          ],
          "name": "stderr"
        },
        {
          "output_type": "stream",
          "text": [
            "\n",
            "Number of matches 15583\n",
            "Number of matches After Lowe's Ratio 3958\n",
            "Number of Robust matches 2448\n",
            "\n",
            "\n"
          ],
          "name": "stdout"
        },
        {
          "output_type": "stream",
          "text": [
            "\r 16%|█▋        | 10/61 [00:29<02:22,  2.80s/it]"
          ],
          "name": "stderr"
        },
        {
          "output_type": "stream",
          "text": [
            "\n",
            "Number of matches 16118\n",
            "Number of matches After Lowe's Ratio 4045\n",
            "Number of Robust matches 2489\n",
            "\n",
            "\n"
          ],
          "name": "stdout"
        },
        {
          "output_type": "stream",
          "text": [
            "\r 18%|█▊        | 11/61 [00:31<02:18,  2.76s/it]"
          ],
          "name": "stderr"
        },
        {
          "output_type": "stream",
          "text": [
            "\n",
            "Number of matches 15908\n",
            "Number of matches After Lowe's Ratio 2267\n",
            "Number of Robust matches 1041\n",
            "\n",
            "\n"
          ],
          "name": "stdout"
        },
        {
          "output_type": "stream",
          "text": [
            "\r 20%|█▉        | 12/61 [00:34<02:11,  2.69s/it]"
          ],
          "name": "stderr"
        },
        {
          "output_type": "stream",
          "text": [
            "\n",
            "Number of matches 16673\n",
            "Number of matches After Lowe's Ratio 2038\n",
            "Number of Robust matches 948\n",
            "\n",
            "\n"
          ],
          "name": "stdout"
        },
        {
          "output_type": "stream",
          "text": [
            "\r 21%|██▏       | 13/61 [00:37<02:21,  2.94s/it]"
          ],
          "name": "stderr"
        },
        {
          "output_type": "stream",
          "text": [
            "\n",
            "Number of matches 27621\n",
            "Number of matches After Lowe's Ratio 902\n",
            "Number of Robust matches 338\n",
            "\n",
            "\n"
          ],
          "name": "stdout"
        },
        {
          "output_type": "stream",
          "text": [
            "\r 23%|██▎       | 14/61 [00:45<03:21,  4.28s/it]"
          ],
          "name": "stderr"
        },
        {
          "output_type": "stream",
          "text": [
            "\n",
            "Number of matches 42274\n",
            "Number of matches After Lowe's Ratio 176\n",
            "Number of Robust matches 10\n",
            "\n",
            "\n",
            "Number of matches After Lowe's Ratio New 176\n",
            "Number of Robust matches New 10\n",
            "\n",
            "\n"
          ],
          "name": "stdout"
        },
        {
          "output_type": "stream",
          "text": [
            "\r 25%|██▍       | 15/61 [00:53<04:14,  5.54s/it]"
          ],
          "name": "stderr"
        },
        {
          "output_type": "stream",
          "text": [
            "\n",
            "Number of matches 22858\n",
            "Number of matches After Lowe's Ratio 4114\n",
            "Number of Robust matches 2747\n",
            "\n",
            "\n"
          ],
          "name": "stdout"
        },
        {
          "output_type": "stream",
          "text": [
            "\r 26%|██▌       | 16/61 [00:57<03:48,  5.07s/it]"
          ],
          "name": "stderr"
        },
        {
          "output_type": "stream",
          "text": [
            "\n",
            "Number of matches 16995\n",
            "Number of matches After Lowe's Ratio 1546\n",
            "Number of Robust matches 927\n",
            "\n",
            "\n"
          ],
          "name": "stdout"
        },
        {
          "output_type": "stream",
          "text": [
            "\r 28%|██▊       | 17/61 [01:00<03:14,  4.41s/it]"
          ],
          "name": "stderr"
        },
        {
          "output_type": "stream",
          "text": [
            "\n",
            "Number of matches 16461\n",
            "Number of matches After Lowe's Ratio 299\n",
            "Number of Robust matches 50\n",
            "\n",
            "\n"
          ],
          "name": "stdout"
        },
        {
          "output_type": "stream",
          "text": [
            "\r 30%|██▉       | 18/61 [01:03<02:52,  4.00s/it]"
          ],
          "name": "stderr"
        },
        {
          "output_type": "stream",
          "text": [
            "\n",
            "Number of matches 19611\n",
            "Number of matches After Lowe's Ratio 197\n",
            "Number of Robust matches 15\n",
            "\n",
            "\n",
            "Number of matches After Lowe's Ratio New 197\n",
            "Number of Robust matches New 12\n",
            "\n",
            "\n"
          ],
          "name": "stdout"
        },
        {
          "output_type": "stream",
          "text": [
            "\r 31%|███       | 19/61 [01:07<02:40,  3.82s/it]"
          ],
          "name": "stderr"
        },
        {
          "output_type": "stream",
          "text": [
            "\n",
            "Number of matches 16509\n",
            "Number of matches After Lowe's Ratio 228\n",
            "Number of Robust matches 12\n",
            "\n",
            "\n",
            "Number of matches After Lowe's Ratio New 228\n",
            "Number of Robust matches New 11\n",
            "\n",
            "\n"
          ],
          "name": "stdout"
        },
        {
          "output_type": "stream",
          "text": [
            "\r 33%|███▎      | 20/61 [01:10<02:29,  3.65s/it]"
          ],
          "name": "stderr"
        },
        {
          "output_type": "stream",
          "text": [
            "\n",
            "Number of matches 19390\n",
            "Number of matches After Lowe's Ratio 233\n",
            "Number of Robust matches 40\n",
            "\n",
            "\n"
          ],
          "name": "stdout"
        },
        {
          "output_type": "stream",
          "text": [
            "\r 34%|███▍      | 21/61 [01:14<02:26,  3.67s/it]"
          ],
          "name": "stderr"
        },
        {
          "output_type": "stream",
          "text": [
            "\n",
            "Number of matches 21229\n",
            "Number of matches After Lowe's Ratio 249\n",
            "Number of Robust matches 18\n",
            "\n",
            "\n",
            "Number of matches After Lowe's Ratio New 249\n",
            "Number of Robust matches New 16\n",
            "\n",
            "\n"
          ],
          "name": "stdout"
        },
        {
          "output_type": "stream",
          "text": [
            "\r 36%|███▌      | 22/61 [01:18<02:34,  3.96s/it]"
          ],
          "name": "stderr"
        },
        {
          "output_type": "stream",
          "text": [
            "\n",
            "Number of matches 26348\n",
            "Number of matches After Lowe's Ratio 393\n",
            "Number of Robust matches 101\n",
            "\n",
            "\n"
          ],
          "name": "stdout"
        },
        {
          "output_type": "stream",
          "text": [
            "\r 38%|███▊      | 23/61 [01:23<02:39,  4.19s/it]"
          ],
          "name": "stderr"
        },
        {
          "output_type": "stream",
          "text": [
            "\n",
            "Number of matches 19013\n",
            "Number of matches After Lowe's Ratio 247\n",
            "Number of Robust matches 79\n",
            "\n",
            "\n"
          ],
          "name": "stdout"
        },
        {
          "output_type": "stream",
          "text": [
            "\r 39%|███▉      | 24/61 [01:26<02:27,  3.98s/it]"
          ],
          "name": "stderr"
        },
        {
          "output_type": "stream",
          "text": [
            "\n",
            "Number of matches 14689\n",
            "Number of matches After Lowe's Ratio 178\n",
            "Number of Robust matches 17\n",
            "\n",
            "\n",
            "Number of matches After Lowe's Ratio New 178\n",
            "Number of Robust matches New 15\n",
            "\n",
            "\n"
          ],
          "name": "stdout"
        },
        {
          "output_type": "stream",
          "text": [
            "\r 41%|████      | 25/61 [01:29<02:06,  3.50s/it]"
          ],
          "name": "stderr"
        },
        {
          "output_type": "stream",
          "text": [
            "\n",
            "Number of matches 14354\n",
            "Number of matches After Lowe's Ratio 241\n",
            "Number of Robust matches 14\n",
            "\n",
            "\n",
            "Number of matches After Lowe's Ratio New 241\n",
            "Number of Robust matches New 11\n",
            "\n",
            "\n"
          ],
          "name": "stdout"
        },
        {
          "output_type": "stream",
          "text": [
            "\r 43%|████▎     | 26/61 [01:31<01:51,  3.19s/it]"
          ],
          "name": "stderr"
        },
        {
          "output_type": "stream",
          "text": [
            "\n",
            "Number of matches 17783\n",
            "Number of matches After Lowe's Ratio 276\n",
            "Number of Robust matches 13\n",
            "\n",
            "\n",
            "Number of matches After Lowe's Ratio New 276\n",
            "Number of Robust matches New 10\n",
            "\n",
            "\n"
          ],
          "name": "stdout"
        },
        {
          "output_type": "stream",
          "text": [
            "\r 44%|████▍     | 27/61 [01:35<01:49,  3.23s/it]"
          ],
          "name": "stderr"
        },
        {
          "output_type": "stream",
          "text": [
            "\n",
            "Number of matches 17990\n",
            "Number of matches After Lowe's Ratio 204\n",
            "Number of Robust matches 10\n",
            "\n",
            "\n",
            "Number of matches After Lowe's Ratio New 204\n",
            "Number of Robust matches New 10\n",
            "\n",
            "\n"
          ],
          "name": "stdout"
        },
        {
          "output_type": "stream",
          "text": [
            "\r 46%|████▌     | 28/61 [01:38<01:52,  3.40s/it]"
          ],
          "name": "stderr"
        },
        {
          "output_type": "stream",
          "text": [
            "\n",
            "Number of matches 22190\n",
            "Number of matches After Lowe's Ratio 220\n",
            "Number of Robust matches 46\n",
            "\n",
            "\n"
          ],
          "name": "stdout"
        },
        {
          "output_type": "stream",
          "text": [
            "\r 48%|████▊     | 29/61 [01:44<02:11,  4.10s/it]"
          ],
          "name": "stderr"
        },
        {
          "output_type": "stream",
          "text": [
            "\n",
            "Number of matches 32182\n",
            "Number of matches After Lowe's Ratio 125\n",
            "Number of Robust matches 9\n",
            "\n",
            "\n",
            "Number of matches After Lowe's Ratio New 125\n",
            "Number of Robust matches New 8\n",
            "\n",
            "\n"
          ],
          "name": "stdout"
        },
        {
          "output_type": "stream",
          "text": [
            "\r 49%|████▉     | 30/61 [01:51<02:31,  4.87s/it]"
          ],
          "name": "stderr"
        },
        {
          "output_type": "stream",
          "text": [
            "\n",
            "Number of matches 26109\n",
            "Number of matches After Lowe's Ratio 1534\n",
            "Number of Robust matches 1084\n",
            "\n",
            "\n"
          ],
          "name": "stdout"
        },
        {
          "output_type": "stream",
          "text": [
            "\r 51%|█████     | 31/61 [01:56<02:25,  4.86s/it]"
          ],
          "name": "stderr"
        },
        {
          "output_type": "stream",
          "text": [
            "\n",
            "Number of matches 18179\n",
            "Number of matches After Lowe's Ratio 1339\n",
            "Number of Robust matches 627\n",
            "\n",
            "\n"
          ],
          "name": "stdout"
        },
        {
          "output_type": "stream",
          "text": [
            "\r 52%|█████▏    | 32/61 [01:59<02:04,  4.29s/it]"
          ],
          "name": "stderr"
        },
        {
          "output_type": "stream",
          "text": [
            "\n",
            "Number of matches 12438\n",
            "Number of matches After Lowe's Ratio 594\n",
            "Number of Robust matches 227\n",
            "\n",
            "\n"
          ],
          "name": "stdout"
        },
        {
          "output_type": "stream",
          "text": [
            "\r 54%|█████▍    | 33/61 [02:00<01:39,  3.56s/it]"
          ],
          "name": "stderr"
        },
        {
          "output_type": "stream",
          "text": [
            "\n",
            "Number of matches 13710\n",
            "Number of matches After Lowe's Ratio 1102\n",
            "Number of Robust matches 535\n",
            "\n",
            "\n"
          ],
          "name": "stdout"
        },
        {
          "output_type": "stream",
          "text": [
            "\r 56%|█████▌    | 34/61 [02:03<01:25,  3.17s/it]"
          ],
          "name": "stderr"
        },
        {
          "output_type": "stream",
          "text": [
            "\n",
            "Number of matches 14184\n",
            "Number of matches After Lowe's Ratio 1684\n",
            "Number of Robust matches 784\n",
            "\n",
            "\n"
          ],
          "name": "stdout"
        },
        {
          "output_type": "stream",
          "text": [
            "\r 57%|█████▋    | 35/61 [02:05<01:16,  2.93s/it]"
          ],
          "name": "stderr"
        },
        {
          "output_type": "stream",
          "text": [
            "\n",
            "Number of matches 16490\n",
            "Number of matches After Lowe's Ratio 1845\n",
            "Number of Robust matches 961\n",
            "\n",
            "\n"
          ],
          "name": "stdout"
        },
        {
          "output_type": "stream",
          "text": [
            "\r 59%|█████▉    | 36/61 [02:08<01:16,  3.06s/it]"
          ],
          "name": "stderr"
        },
        {
          "output_type": "stream",
          "text": [
            "\n",
            "Number of matches 21089\n",
            "Number of matches After Lowe's Ratio 3673\n",
            "Number of Robust matches 2558\n",
            "\n",
            "\n"
          ],
          "name": "stdout"
        },
        {
          "output_type": "stream",
          "text": [
            "\r 61%|██████    | 37/61 [02:13<01:21,  3.40s/it]"
          ],
          "name": "stderr"
        },
        {
          "output_type": "stream",
          "text": [
            "\n",
            "Number of matches 25725\n",
            "Number of matches After Lowe's Ratio 334\n",
            "Number of Robust matches 49\n",
            "\n",
            "\n"
          ],
          "name": "stdout"
        },
        {
          "output_type": "stream",
          "text": [
            "\r 62%|██████▏   | 38/61 [02:17<01:26,  3.76s/it]"
          ],
          "name": "stderr"
        },
        {
          "output_type": "stream",
          "text": [
            "\n",
            "Number of matches 17135\n",
            "Number of matches After Lowe's Ratio 1938\n",
            "Number of Robust matches 1248\n",
            "\n",
            "\n"
          ],
          "name": "stdout"
        },
        {
          "output_type": "stream",
          "text": [
            "\r 64%|██████▍   | 39/61 [02:20<01:18,  3.58s/it]"
          ],
          "name": "stderr"
        },
        {
          "output_type": "stream",
          "text": [
            "\n",
            "Number of matches 12971\n",
            "Number of matches After Lowe's Ratio 702\n",
            "Number of Robust matches 453\n",
            "\n",
            "\n"
          ],
          "name": "stdout"
        },
        {
          "output_type": "stream",
          "text": [
            "\r 66%|██████▌   | 40/61 [02:22<01:04,  3.06s/it]"
          ],
          "name": "stderr"
        },
        {
          "output_type": "stream",
          "text": [
            "\n",
            "Number of matches 7455\n",
            "Number of matches After Lowe's Ratio 1585\n",
            "Number of Robust matches 1122\n",
            "\n",
            "\n"
          ],
          "name": "stdout"
        },
        {
          "output_type": "stream",
          "text": [
            "\r 67%|██████▋   | 41/61 [02:23<00:49,  2.47s/it]"
          ],
          "name": "stderr"
        },
        {
          "output_type": "stream",
          "text": [
            "\n",
            "Number of matches 9770\n",
            "Number of matches After Lowe's Ratio 695\n",
            "Number of Robust matches 316\n",
            "\n",
            "\n"
          ],
          "name": "stdout"
        },
        {
          "output_type": "stream",
          "text": [
            "\r 69%|██████▉   | 42/61 [02:25<00:41,  2.18s/it]"
          ],
          "name": "stderr"
        },
        {
          "output_type": "stream",
          "text": [
            "\n",
            "Number of matches 13371\n",
            "Number of matches After Lowe's Ratio 369\n",
            "Number of Robust matches 110\n",
            "\n",
            "\n"
          ],
          "name": "stdout"
        },
        {
          "output_type": "stream",
          "text": [
            "\r 70%|███████   | 43/61 [02:27<00:41,  2.29s/it]"
          ],
          "name": "stderr"
        },
        {
          "output_type": "stream",
          "text": [
            "\n",
            "Number of matches 21171\n",
            "Number of matches After Lowe's Ratio 1969\n",
            "Number of Robust matches 913\n",
            "\n",
            "\n"
          ],
          "name": "stdout"
        },
        {
          "output_type": "stream",
          "text": [
            "\r 72%|███████▏  | 44/61 [02:32<00:52,  3.09s/it]"
          ],
          "name": "stderr"
        },
        {
          "output_type": "stream",
          "text": [
            "\n",
            "Number of matches 30668\n",
            "Number of matches After Lowe's Ratio 912\n",
            "Number of Robust matches 632\n",
            "\n",
            "\n"
          ],
          "name": "stdout"
        },
        {
          "output_type": "stream",
          "text": [
            "\r 74%|███████▍  | 45/61 [02:41<01:17,  4.84s/it]"
          ],
          "name": "stderr"
        },
        {
          "output_type": "stream",
          "text": [
            "\n",
            "Number of matches 47022\n",
            "Number of matches After Lowe's Ratio 135\n",
            "Number of Robust matches 8\n",
            "\n",
            "\n",
            "Number of matches After Lowe's Ratio New 135\n",
            "Number of Robust matches New 7\n",
            "\n",
            "\n"
          ],
          "name": "stdout"
        },
        {
          "output_type": "stream",
          "text": [
            "\r 75%|███████▌  | 46/61 [02:51<01:34,  6.33s/it]"
          ],
          "name": "stderr"
        },
        {
          "output_type": "stream",
          "text": [
            "\n",
            "Number of matches 30317\n",
            "Number of matches After Lowe's Ratio 97\n",
            "Number of Robust matches 12\n",
            "\n",
            "\n",
            "Number of matches After Lowe's Ratio New 97\n",
            "Number of Robust matches New 12\n",
            "\n",
            "\n"
          ],
          "name": "stdout"
        },
        {
          "output_type": "stream",
          "text": [
            "\r 77%|███████▋  | 47/61 [02:57<01:26,  6.20s/it]"
          ],
          "name": "stderr"
        },
        {
          "output_type": "stream",
          "text": [
            "\n",
            "Number of matches 18761\n",
            "Number of matches After Lowe's Ratio 2274\n",
            "Number of Robust matches 1589\n",
            "\n",
            "\n"
          ],
          "name": "stdout"
        },
        {
          "output_type": "stream",
          "text": [
            "\r 79%|███████▊  | 48/61 [03:00<01:08,  5.30s/it]"
          ],
          "name": "stderr"
        },
        {
          "output_type": "stream",
          "text": [
            "\n",
            "Number of matches 14025\n",
            "Number of matches After Lowe's Ratio 3130\n",
            "Number of Robust matches 2021\n",
            "\n",
            "\n"
          ],
          "name": "stdout"
        },
        {
          "output_type": "stream",
          "text": [
            "\r 80%|████████  | 49/61 [03:02<00:51,  4.33s/it]"
          ],
          "name": "stderr"
        },
        {
          "output_type": "stream",
          "text": [
            "\n",
            "Number of matches 7815\n",
            "Number of matches After Lowe's Ratio 1779\n",
            "Number of Robust matches 910\n",
            "\n",
            "\n"
          ],
          "name": "stdout"
        },
        {
          "output_type": "stream",
          "text": [
            "\r 82%|████████▏ | 50/61 [03:03<00:37,  3.39s/it]"
          ],
          "name": "stderr"
        },
        {
          "output_type": "stream",
          "text": [
            "\n",
            "Number of matches 11798\n",
            "Number of matches After Lowe's Ratio 2532\n",
            "Number of Robust matches 1547\n",
            "\n",
            "\n"
          ],
          "name": "stdout"
        },
        {
          "output_type": "stream",
          "text": [
            "\r 84%|████████▎ | 51/61 [03:05<00:29,  3.00s/it]"
          ],
          "name": "stderr"
        },
        {
          "output_type": "stream",
          "text": [
            "\n",
            "Number of matches 15602\n",
            "Number of matches After Lowe's Ratio 3679\n",
            "Number of Robust matches 2540\n",
            "\n",
            "\n"
          ],
          "name": "stdout"
        },
        {
          "output_type": "stream",
          "text": [
            "\r 85%|████████▌ | 52/61 [03:08<00:26,  2.96s/it]"
          ],
          "name": "stderr"
        },
        {
          "output_type": "stream",
          "text": [
            "\n",
            "Number of matches 21570\n",
            "Number of matches After Lowe's Ratio 5275\n",
            "Number of Robust matches 4259\n",
            "\n",
            "\n"
          ],
          "name": "stdout"
        },
        {
          "output_type": "stream",
          "text": [
            "\r 87%|████████▋ | 53/61 [03:13<00:27,  3.43s/it]"
          ],
          "name": "stderr"
        },
        {
          "output_type": "stream",
          "text": [
            "\n",
            "Number of matches 27067\n",
            "Number of matches After Lowe's Ratio 337\n",
            "Number of Robust matches 71\n",
            "\n",
            "\n"
          ],
          "name": "stdout"
        },
        {
          "output_type": "stream",
          "text": [
            "\r 89%|████████▊ | 54/61 [03:18<00:28,  4.05s/it]"
          ],
          "name": "stderr"
        },
        {
          "output_type": "stream",
          "text": [
            "\n",
            "Number of matches 26479\n",
            "Number of matches After Lowe's Ratio 8719\n",
            "Number of Robust matches 6282\n",
            "\n",
            "\n"
          ],
          "name": "stdout"
        },
        {
          "output_type": "stream",
          "text": [
            "\r 90%|█████████ | 55/61 [03:23<00:25,  4.27s/it]"
          ],
          "name": "stderr"
        },
        {
          "output_type": "stream",
          "text": [
            "\n",
            "Number of matches 19132\n",
            "Number of matches After Lowe's Ratio 1515\n",
            "Number of Robust matches 1236\n",
            "\n",
            "\n"
          ],
          "name": "stdout"
        },
        {
          "output_type": "stream",
          "text": [
            "\r 92%|█████████▏| 56/61 [03:26<00:19,  3.99s/it]"
          ],
          "name": "stderr"
        },
        {
          "output_type": "stream",
          "text": [
            "\n",
            "Number of matches 14947\n",
            "Number of matches After Lowe's Ratio 499\n",
            "Number of Robust matches 365\n",
            "\n",
            "\n"
          ],
          "name": "stdout"
        },
        {
          "output_type": "stream",
          "text": [
            "\r 93%|█████████▎| 57/61 [03:29<00:14,  3.58s/it]"
          ],
          "name": "stderr"
        },
        {
          "output_type": "stream",
          "text": [
            "\n",
            "Number of matches 13273\n",
            "Number of matches After Lowe's Ratio 1840\n",
            "Number of Robust matches 1360\n",
            "\n",
            "\n"
          ],
          "name": "stdout"
        },
        {
          "output_type": "stream",
          "text": [
            "\r 95%|█████████▌| 58/61 [03:31<00:09,  3.16s/it]"
          ],
          "name": "stderr"
        },
        {
          "output_type": "stream",
          "text": [
            "\n",
            "Number of matches 11005\n",
            "Number of matches After Lowe's Ratio 942\n",
            "Number of Robust matches 523\n",
            "\n",
            "\n"
          ],
          "name": "stdout"
        },
        {
          "output_type": "stream",
          "text": [
            "\r 97%|█████████▋| 59/61 [03:34<00:05,  2.94s/it]"
          ],
          "name": "stderr"
        },
        {
          "output_type": "stream",
          "text": [
            "\n",
            "Number of matches 23544\n",
            "Number of matches After Lowe's Ratio 1467\n",
            "Number of Robust matches 955\n",
            "\n",
            "\n"
          ],
          "name": "stdout"
        },
        {
          "output_type": "stream",
          "text": [
            "  0%|          | 0/60 [00:00<?, ?it/s]"
          ],
          "name": "stderr"
        },
        {
          "output_type": "stream",
          "text": [
            "\n",
            "Number of matches 34274\n",
            "Number of matches After Lowe's Ratio 1667\n",
            "Number of Robust matches 1137\n",
            "\n",
            "\n"
          ],
          "name": "stdout"
        },
        {
          "output_type": "stream",
          "text": [
            "\r  2%|▏         | 1/60 [00:03<03:00,  3.05s/it]"
          ],
          "name": "stderr"
        },
        {
          "output_type": "stream",
          "text": [
            "\n",
            "Number of matches 22106\n",
            "Number of matches After Lowe's Ratio 4419\n",
            "Number of Robust matches 2506\n",
            "\n",
            "\n"
          ],
          "name": "stdout"
        },
        {
          "output_type": "stream",
          "text": [
            "\r  3%|▎         | 2/60 [00:08<03:38,  3.78s/it]"
          ],
          "name": "stderr"
        },
        {
          "output_type": "stream",
          "text": [
            "\n",
            "Number of matches 29749\n",
            "Number of matches After Lowe's Ratio 5021\n",
            "Number of Robust matches 3061\n",
            "\n",
            "\n"
          ],
          "name": "stdout"
        },
        {
          "output_type": "stream",
          "text": [
            "\r  5%|▌         | 3/60 [00:14<04:10,  4.39s/it]"
          ],
          "name": "stderr"
        },
        {
          "output_type": "stream",
          "text": [
            "\n",
            "Number of matches 20378\n",
            "Number of matches After Lowe's Ratio 99\n",
            "Number of Robust matches 14\n",
            "\n",
            "\n",
            "Number of matches After Lowe's Ratio New 99\n",
            "Number of Robust matches New 13\n",
            "\n",
            "\n"
          ],
          "name": "stdout"
        },
        {
          "output_type": "stream",
          "text": [
            "\r  7%|▋         | 4/60 [00:17<03:51,  4.14s/it]"
          ],
          "name": "stderr"
        },
        {
          "output_type": "stream",
          "text": [
            "\n",
            "Number of matches 17155\n",
            "Number of matches After Lowe's Ratio 567\n",
            "Number of Robust matches 266\n",
            "\n",
            "\n"
          ],
          "name": "stdout"
        },
        {
          "output_type": "stream",
          "text": [
            "\r  8%|▊         | 5/60 [00:20<03:29,  3.82s/it]"
          ],
          "name": "stderr"
        },
        {
          "output_type": "stream",
          "text": [
            "\n",
            "Number of matches 16432\n",
            "Number of matches After Lowe's Ratio 3286\n",
            "Number of Robust matches 1754\n",
            "\n",
            "\n"
          ],
          "name": "stdout"
        },
        {
          "output_type": "stream",
          "text": [
            "\r 10%|█         | 6/60 [00:23<03:09,  3.50s/it]"
          ],
          "name": "stderr"
        },
        {
          "output_type": "stream",
          "text": [
            "\n",
            "Number of matches 17097\n",
            "Number of matches After Lowe's Ratio 4195\n",
            "Number of Robust matches 2421\n",
            "\n",
            "\n"
          ],
          "name": "stdout"
        },
        {
          "output_type": "stream",
          "text": [
            "\r 12%|█▏        | 7/60 [00:26<02:54,  3.29s/it]"
          ],
          "name": "stderr"
        },
        {
          "output_type": "stream",
          "text": [
            "\n",
            "Number of matches 15354\n",
            "Number of matches After Lowe's Ratio 4437\n",
            "Number of Robust matches 2948\n",
            "\n",
            "\n"
          ],
          "name": "stdout"
        },
        {
          "output_type": "stream",
          "text": [
            "\r 13%|█▎        | 8/60 [00:28<02:36,  3.01s/it]"
          ],
          "name": "stderr"
        },
        {
          "output_type": "stream",
          "text": [
            "\n",
            "Number of matches 13520\n",
            "Number of matches After Lowe's Ratio 3546\n",
            "Number of Robust matches 2460\n",
            "\n",
            "\n"
          ],
          "name": "stdout"
        },
        {
          "output_type": "stream",
          "text": [
            "\r 15%|█▌        | 9/60 [00:30<02:16,  2.68s/it]"
          ],
          "name": "stderr"
        },
        {
          "output_type": "stream",
          "text": [
            "\n",
            "Number of matches 11871\n",
            "Number of matches After Lowe's Ratio 3289\n",
            "Number of Robust matches 2406\n",
            "\n",
            "\n"
          ],
          "name": "stdout"
        },
        {
          "output_type": "stream",
          "text": [
            "\r 17%|█▋        | 10/60 [00:32<02:03,  2.48s/it]"
          ],
          "name": "stderr"
        },
        {
          "output_type": "stream",
          "text": [
            "\n",
            "Number of matches 12315\n",
            "Number of matches After Lowe's Ratio 4027\n",
            "Number of Robust matches 3331\n",
            "\n",
            "\n"
          ],
          "name": "stdout"
        },
        {
          "output_type": "stream",
          "text": [
            "\r 18%|█▊        | 11/60 [00:34<01:54,  2.33s/it]"
          ],
          "name": "stderr"
        },
        {
          "output_type": "stream",
          "text": [
            "\n",
            "Number of matches 12054\n",
            "Number of matches After Lowe's Ratio 88\n",
            "Number of Robust matches 9\n",
            "\n",
            "\n",
            "Number of matches After Lowe's Ratio New 88\n",
            "Number of Robust matches New 8\n",
            "\n",
            "\n"
          ],
          "name": "stdout"
        },
        {
          "output_type": "stream",
          "text": [
            "\r 20%|██        | 12/60 [00:36<01:46,  2.22s/it]"
          ],
          "name": "stderr"
        },
        {
          "output_type": "stream",
          "text": [
            "\n",
            "Number of matches 15753\n",
            "Number of matches After Lowe's Ratio 3153\n",
            "Number of Robust matches 2200\n",
            "\n",
            "\n"
          ],
          "name": "stdout"
        },
        {
          "output_type": "stream",
          "text": [
            "\r 22%|██▏       | 13/60 [00:39<01:48,  2.32s/it]"
          ],
          "name": "stderr"
        },
        {
          "output_type": "stream",
          "text": [
            "\n",
            "Number of matches 16730\n",
            "Number of matches After Lowe's Ratio 4701\n",
            "Number of Robust matches 3147\n",
            "\n",
            "\n"
          ],
          "name": "stdout"
        },
        {
          "output_type": "stream",
          "text": [
            "\r 23%|██▎       | 14/60 [00:42<01:53,  2.47s/it]"
          ],
          "name": "stderr"
        },
        {
          "output_type": "stream",
          "text": [
            "\n",
            "Number of matches 17891\n",
            "Number of matches After Lowe's Ratio 5191\n",
            "Number of Robust matches 3174\n",
            "\n",
            "\n"
          ],
          "name": "stdout"
        },
        {
          "output_type": "stream",
          "text": [
            "\r 25%|██▌       | 15/60 [00:45<02:01,  2.70s/it]"
          ],
          "name": "stderr"
        },
        {
          "output_type": "stream",
          "text": [
            "\n",
            "Number of matches 17202\n",
            "Number of matches After Lowe's Ratio 3953\n",
            "Number of Robust matches 2576\n",
            "\n",
            "\n"
          ],
          "name": "stdout"
        },
        {
          "output_type": "stream",
          "text": [
            "\r 27%|██▋       | 16/60 [00:48<01:59,  2.72s/it]"
          ],
          "name": "stderr"
        },
        {
          "output_type": "stream",
          "text": [
            "\n",
            "Number of matches 14026\n",
            "Number of matches After Lowe's Ratio 3487\n",
            "Number of Robust matches 2207\n",
            "\n",
            "\n"
          ],
          "name": "stdout"
        },
        {
          "output_type": "stream",
          "text": [
            "\r 28%|██▊       | 17/60 [00:50<01:53,  2.63s/it]"
          ],
          "name": "stderr"
        },
        {
          "output_type": "stream",
          "text": [
            "\n",
            "Number of matches 16582\n",
            "Number of matches After Lowe's Ratio 2964\n",
            "Number of Robust matches 1923\n",
            "\n",
            "\n"
          ],
          "name": "stdout"
        },
        {
          "output_type": "stream",
          "text": [
            "\r 30%|███       | 18/60 [00:53<01:59,  2.85s/it]"
          ],
          "name": "stderr"
        },
        {
          "output_type": "stream",
          "text": [
            "\n",
            "Number of matches 20273\n",
            "Number of matches After Lowe's Ratio 4240\n",
            "Number of Robust matches 2656\n",
            "\n",
            "\n"
          ],
          "name": "stdout"
        },
        {
          "output_type": "stream",
          "text": [
            "\r 32%|███▏      | 19/60 [00:57<02:08,  3.14s/it]"
          ],
          "name": "stderr"
        },
        {
          "output_type": "stream",
          "text": [
            "\n",
            "Number of matches 15829\n",
            "Number of matches After Lowe's Ratio 153\n",
            "Number of Robust matches 21\n",
            "\n",
            "\n",
            "Number of matches After Lowe's Ratio New 153\n",
            "Number of Robust matches New 21\n",
            "\n",
            "\n"
          ],
          "name": "stdout"
        },
        {
          "output_type": "stream",
          "text": [
            "\r 33%|███▎      | 20/60 [01:00<01:59,  3.00s/it]"
          ],
          "name": "stderr"
        },
        {
          "output_type": "stream",
          "text": [
            "\n",
            "Number of matches 13303\n",
            "Number of matches After Lowe's Ratio 567\n",
            "Number of Robust matches 281\n",
            "\n",
            "\n"
          ],
          "name": "stdout"
        },
        {
          "output_type": "stream",
          "text": [
            "\r 35%|███▌      | 21/60 [01:02<01:46,  2.74s/it]"
          ],
          "name": "stderr"
        },
        {
          "output_type": "stream",
          "text": [
            "\n",
            "Number of matches 19036\n",
            "Number of matches After Lowe's Ratio 3887\n",
            "Number of Robust matches 2500\n",
            "\n",
            "\n"
          ],
          "name": "stdout"
        },
        {
          "output_type": "stream",
          "text": [
            "\r 37%|███▋      | 22/60 [01:05<01:50,  2.90s/it]"
          ],
          "name": "stderr"
        },
        {
          "output_type": "stream",
          "text": [
            "\n",
            "Number of matches 17266\n",
            "Number of matches After Lowe's Ratio 3806\n",
            "Number of Robust matches 2337\n",
            "\n",
            "\n"
          ],
          "name": "stdout"
        },
        {
          "output_type": "stream",
          "text": [
            "\r 38%|███▊      | 23/60 [01:08<01:46,  2.88s/it]"
          ],
          "name": "stderr"
        },
        {
          "output_type": "stream",
          "text": [
            "\n",
            "Number of matches 14933\n",
            "Number of matches After Lowe's Ratio 4188\n",
            "Number of Robust matches 2451\n",
            "\n",
            "\n"
          ],
          "name": "stdout"
        },
        {
          "output_type": "stream",
          "text": [
            "\r 40%|████      | 24/60 [01:10<01:37,  2.71s/it]"
          ],
          "name": "stderr"
        },
        {
          "output_type": "stream",
          "text": [
            "\n",
            "Number of matches 14305\n",
            "Number of matches After Lowe's Ratio 5260\n",
            "Number of Robust matches 3927\n",
            "\n",
            "\n"
          ],
          "name": "stdout"
        },
        {
          "output_type": "stream",
          "text": [
            "\r 42%|████▏     | 25/60 [01:13<01:31,  2.61s/it]"
          ],
          "name": "stderr"
        },
        {
          "output_type": "stream",
          "text": [
            "\n",
            "Number of matches 10566\n",
            "Number of matches After Lowe's Ratio 5008\n",
            "Number of Robust matches 3619\n",
            "\n",
            "\n"
          ],
          "name": "stdout"
        },
        {
          "output_type": "stream",
          "text": [
            "\r 43%|████▎     | 26/60 [01:14<01:16,  2.24s/it]"
          ],
          "name": "stderr"
        },
        {
          "output_type": "stream",
          "text": [
            "\n",
            "Number of matches 5018\n",
            "Number of matches After Lowe's Ratio 2162\n",
            "Number of Robust matches 1707\n",
            "\n",
            "\n"
          ],
          "name": "stdout"
        },
        {
          "output_type": "stream",
          "text": [
            "\r 45%|████▌     | 27/60 [01:15<00:59,  1.82s/it]"
          ],
          "name": "stderr"
        },
        {
          "output_type": "stream",
          "text": [
            "\n",
            "Number of matches 8334\n",
            "Number of matches After Lowe's Ratio 42\n",
            "Number of Robust matches 10\n",
            "\n",
            "\n",
            "Number of matches After Lowe's Ratio New 42\n",
            "Number of Robust matches New 10\n",
            "\n",
            "\n"
          ],
          "name": "stdout"
        },
        {
          "output_type": "stream",
          "text": [
            "\r 47%|████▋     | 28/60 [01:17<00:55,  1.72s/it]"
          ],
          "name": "stderr"
        },
        {
          "output_type": "stream",
          "text": [
            "\n",
            "Number of matches 17683\n",
            "Number of matches After Lowe's Ratio 4509\n",
            "Number of Robust matches 3371\n",
            "\n",
            "\n"
          ],
          "name": "stdout"
        },
        {
          "output_type": "stream",
          "text": [
            "\r 48%|████▊     | 29/60 [01:20<01:08,  2.21s/it]"
          ],
          "name": "stderr"
        },
        {
          "output_type": "stream",
          "text": [
            "\n",
            "Number of matches 21083\n",
            "Number of matches After Lowe's Ratio 6478\n",
            "Number of Robust matches 5168\n",
            "\n",
            "\n"
          ],
          "name": "stdout"
        },
        {
          "output_type": "stream",
          "text": [
            "\r 50%|█████     | 30/60 [01:24<01:22,  2.76s/it]"
          ],
          "name": "stderr"
        },
        {
          "output_type": "stream",
          "text": [
            "\n",
            "Number of matches 19958\n",
            "Number of matches After Lowe's Ratio 5860\n",
            "Number of Robust matches 3364\n",
            "\n",
            "\n"
          ],
          "name": "stdout"
        },
        {
          "output_type": "stream",
          "text": [
            "\r 52%|█████▏    | 31/60 [01:28<01:28,  3.04s/it]"
          ],
          "name": "stderr"
        },
        {
          "output_type": "stream",
          "text": [
            "\n",
            "Number of matches 20333\n",
            "Number of matches After Lowe's Ratio 5075\n",
            "Number of Robust matches 2918\n",
            "\n",
            "\n"
          ],
          "name": "stdout"
        },
        {
          "output_type": "stream",
          "text": [
            "\r 53%|█████▎    | 32/60 [01:31<01:28,  3.18s/it]"
          ],
          "name": "stderr"
        },
        {
          "output_type": "stream",
          "text": [
            "\n",
            "Number of matches 14721\n",
            "Number of matches After Lowe's Ratio 2900\n",
            "Number of Robust matches 2101\n",
            "\n",
            "\n"
          ],
          "name": "stdout"
        },
        {
          "output_type": "stream",
          "text": [
            "\r 55%|█████▌    | 33/60 [01:33<01:18,  2.92s/it]"
          ],
          "name": "stderr"
        },
        {
          "output_type": "stream",
          "text": [
            "\n",
            "Number of matches 11841\n",
            "Number of matches After Lowe's Ratio 2502\n",
            "Number of Robust matches 1467\n",
            "\n",
            "\n",
            "\n",
            "Number of matches 23033\n",
            "Number of matches After Lowe's Ratio 4006\n"
          ],
          "name": "stdout"
        },
        {
          "output_type": "stream",
          "text": [
            "\r 57%|█████▋    | 34/60 [01:36<01:13,  2.83s/it]"
          ],
          "name": "stderr"
        },
        {
          "output_type": "stream",
          "text": [
            "Number of Robust matches 3370\n",
            "\n",
            "\n"
          ],
          "name": "stdout"
        },
        {
          "output_type": "stream",
          "text": [
            "\r 58%|█████▊    | 35/60 [01:41<01:26,  3.45s/it]"
          ],
          "name": "stderr"
        },
        {
          "output_type": "stream",
          "text": [
            "\n",
            "Number of matches 17806\n",
            "Number of matches After Lowe's Ratio 110\n",
            "Number of Robust matches 15\n",
            "\n",
            "\n",
            "Number of matches After Lowe's Ratio New 110\n",
            "Number of Robust matches New 14\n",
            "\n",
            "\n"
          ],
          "name": "stdout"
        },
        {
          "output_type": "stream",
          "text": [
            "\r 60%|██████    | 36/60 [01:44<01:20,  3.36s/it]"
          ],
          "name": "stderr"
        },
        {
          "output_type": "stream",
          "text": [
            "\n",
            "Number of matches 15466\n",
            "Number of matches After Lowe's Ratio 261\n",
            "Number of Robust matches 79\n",
            "\n",
            "\n"
          ],
          "name": "stdout"
        },
        {
          "output_type": "stream",
          "text": [
            "\r 62%|██████▏   | 37/60 [01:47<01:12,  3.14s/it]"
          ],
          "name": "stderr"
        },
        {
          "output_type": "stream",
          "text": [
            "\n",
            "Number of matches 18762\n",
            "Number of matches After Lowe's Ratio 3359\n",
            "Number of Robust matches 1917\n",
            "\n",
            "\n"
          ],
          "name": "stdout"
        },
        {
          "output_type": "stream",
          "text": [
            "\r 63%|██████▎   | 38/60 [01:50<01:11,  3.23s/it]"
          ],
          "name": "stderr"
        },
        {
          "output_type": "stream",
          "text": [
            "\n",
            "Number of matches 20016\n",
            "Number of matches After Lowe's Ratio 5021\n",
            "Number of Robust matches 2880\n",
            "\n",
            "\n"
          ],
          "name": "stdout"
        },
        {
          "output_type": "stream",
          "text": [
            "\r 65%|██████▌   | 39/60 [01:54<01:11,  3.42s/it]"
          ],
          "name": "stderr"
        },
        {
          "output_type": "stream",
          "text": [
            "\n",
            "Number of matches 18081\n",
            "Number of matches After Lowe's Ratio 6175\n",
            "Number of Robust matches 4219\n",
            "\n",
            "\n"
          ],
          "name": "stdout"
        },
        {
          "output_type": "stream",
          "text": [
            "\r 67%|██████▋   | 40/60 [01:58<01:08,  3.44s/it]"
          ],
          "name": "stderr"
        },
        {
          "output_type": "stream",
          "text": [
            "\n",
            "Number of matches 17918\n",
            "Number of matches After Lowe's Ratio 8131\n",
            "Number of Robust matches 6245\n",
            "\n",
            "\n"
          ],
          "name": "stdout"
        },
        {
          "output_type": "stream",
          "text": [
            "\r 68%|██████▊   | 41/60 [02:01<01:04,  3.38s/it]"
          ],
          "name": "stderr"
        },
        {
          "output_type": "stream",
          "text": [
            "\n",
            "Number of matches 13228\n",
            "Number of matches After Lowe's Ratio 5648\n",
            "Number of Robust matches 5310\n",
            "\n",
            "\n"
          ],
          "name": "stdout"
        },
        {
          "output_type": "stream",
          "text": [
            "\r 70%|███████   | 42/60 [02:02<00:51,  2.87s/it]"
          ],
          "name": "stderr"
        },
        {
          "output_type": "stream",
          "text": [
            "\n",
            "Number of matches 595\n",
            "Number of matches After Lowe's Ratio 282\n",
            "Number of Robust matches 223\n",
            "\n",
            "\n"
          ],
          "name": "stdout"
        },
        {
          "output_type": "stream",
          "text": [
            "\r 72%|███████▏  | 43/60 [02:03<00:36,  2.12s/it]"
          ],
          "name": "stderr"
        },
        {
          "output_type": "stream",
          "text": [
            "\n",
            "Number of matches 10462\n",
            "Number of matches After Lowe's Ratio 115\n",
            "Number of Robust matches 12\n",
            "\n",
            "\n",
            "Number of matches After Lowe's Ratio New 115\n",
            "Number of Robust matches New 11\n",
            "\n",
            "\n",
            "\n",
            "Number of matches 18194\n",
            "Number of matches After Lowe's Ratio 4475\n"
          ],
          "name": "stdout"
        },
        {
          "output_type": "stream",
          "text": [
            "\r 73%|███████▎  | 44/60 [02:05<00:34,  2.13s/it]"
          ],
          "name": "stderr"
        },
        {
          "output_type": "stream",
          "text": [
            "Number of Robust matches 3991\n",
            "\n",
            "\n"
          ],
          "name": "stdout"
        },
        {
          "output_type": "stream",
          "text": [
            "\r 75%|███████▌  | 45/60 [02:08<00:38,  2.53s/it]"
          ],
          "name": "stderr"
        },
        {
          "output_type": "stream",
          "text": [
            "\n",
            "Number of matches 21629\n",
            "Number of matches After Lowe's Ratio 6201\n",
            "Number of Robust matches 4300\n",
            "\n",
            "\n"
          ],
          "name": "stdout"
        },
        {
          "output_type": "stream",
          "text": [
            "\r 77%|███████▋  | 46/60 [02:12<00:41,  2.96s/it]"
          ],
          "name": "stderr"
        },
        {
          "output_type": "stream",
          "text": [
            "\n",
            "Number of matches 19061\n",
            "Number of matches After Lowe's Ratio 3878\n",
            "Number of Robust matches 2673\n",
            "\n",
            "\n"
          ],
          "name": "stdout"
        },
        {
          "output_type": "stream",
          "text": [
            "\r 78%|███████▊  | 47/60 [02:16<00:40,  3.13s/it]"
          ],
          "name": "stderr"
        },
        {
          "output_type": "stream",
          "text": [
            "\n",
            "Number of matches 17338\n",
            "Number of matches After Lowe's Ratio 2889\n",
            "Number of Robust matches 1732\n",
            "\n",
            "\n"
          ],
          "name": "stdout"
        },
        {
          "output_type": "stream",
          "text": [
            "\r 80%|████████  | 48/60 [02:19<00:37,  3.11s/it]"
          ],
          "name": "stderr"
        },
        {
          "output_type": "stream",
          "text": [
            "\n",
            "Number of matches 15765\n",
            "Number of matches After Lowe's Ratio 3140\n",
            "Number of Robust matches 2176\n",
            "\n",
            "\n"
          ],
          "name": "stdout"
        },
        {
          "output_type": "stream",
          "text": [
            "\r 82%|████████▏ | 49/60 [02:22<00:33,  3.04s/it]"
          ],
          "name": "stderr"
        },
        {
          "output_type": "stream",
          "text": [
            "\n",
            "Number of matches 10932\n",
            "Number of matches After Lowe's Ratio 3129\n",
            "Number of Robust matches 2259\n",
            "\n",
            "\n"
          ],
          "name": "stdout"
        },
        {
          "output_type": "stream",
          "text": [
            "\r 83%|████████▎ | 50/60 [02:24<00:27,  2.72s/it]"
          ],
          "name": "stderr"
        },
        {
          "output_type": "stream",
          "text": [
            "\n",
            "Number of matches 18676\n",
            "Number of matches After Lowe's Ratio 3850\n",
            "Number of Robust matches 2858\n",
            "\n",
            "\n"
          ],
          "name": "stdout"
        },
        {
          "output_type": "stream",
          "text": [
            "\r 85%|████████▌ | 51/60 [02:27<00:25,  2.88s/it]"
          ],
          "name": "stderr"
        },
        {
          "output_type": "stream",
          "text": [
            "\n",
            "Number of matches 10825\n",
            "Number of matches After Lowe's Ratio 83\n",
            "Number of Robust matches 26\n",
            "\n",
            "\n"
          ],
          "name": "stdout"
        },
        {
          "output_type": "stream",
          "text": [
            "\r 87%|████████▋ | 52/60 [02:29<00:20,  2.60s/it]"
          ],
          "name": "stderr"
        },
        {
          "output_type": "stream",
          "text": [
            "\n",
            "Number of matches 16569\n",
            "Number of matches After Lowe's Ratio 2235\n",
            "Number of Robust matches 1385\n",
            "\n",
            "\n"
          ],
          "name": "stdout"
        },
        {
          "output_type": "stream",
          "text": [
            "\r 88%|████████▊ | 53/60 [02:32<00:18,  2.71s/it]"
          ],
          "name": "stderr"
        },
        {
          "output_type": "stream",
          "text": [
            "\n",
            "Number of matches 17309\n",
            "Number of matches After Lowe's Ratio 3189\n",
            "Number of Robust matches 1947\n",
            "\n",
            "\n"
          ],
          "name": "stdout"
        },
        {
          "output_type": "stream",
          "text": [
            "\r 90%|█████████ | 54/60 [02:35<00:17,  2.88s/it]"
          ],
          "name": "stderr"
        },
        {
          "output_type": "stream",
          "text": [
            "\n",
            "Number of matches 18553\n",
            "Number of matches After Lowe's Ratio 3617\n",
            "Number of Robust matches 2093\n",
            "\n",
            "\n"
          ],
          "name": "stdout"
        },
        {
          "output_type": "stream",
          "text": [
            "\r 92%|█████████▏| 55/60 [02:39<00:14,  2.99s/it]"
          ],
          "name": "stderr"
        },
        {
          "output_type": "stream",
          "text": [
            "\n",
            "Number of matches 17110\n",
            "Number of matches After Lowe's Ratio 3784\n",
            "Number of Robust matches 2534\n",
            "\n",
            "\n"
          ],
          "name": "stdout"
        },
        {
          "output_type": "stream",
          "text": [
            "\r 93%|█████████▎| 56/60 [02:42<00:12,  3.04s/it]"
          ],
          "name": "stderr"
        },
        {
          "output_type": "stream",
          "text": [
            "\n",
            "Number of matches 15631\n",
            "Number of matches After Lowe's Ratio 6047\n",
            "Number of Robust matches 4892\n",
            "\n",
            "\n"
          ],
          "name": "stdout"
        },
        {
          "output_type": "stream",
          "text": [
            "\r 95%|█████████▌| 57/60 [02:44<00:08,  2.92s/it]"
          ],
          "name": "stderr"
        },
        {
          "output_type": "stream",
          "text": [
            "\n",
            "Number of matches 11934\n",
            "Number of matches After Lowe's Ratio 6002\n",
            "Number of Robust matches 5743\n",
            "\n",
            "\n"
          ],
          "name": "stdout"
        },
        {
          "output_type": "stream",
          "text": [
            "\r 97%|█████████▋| 58/60 [02:46<00:05,  2.56s/it]"
          ],
          "name": "stderr"
        },
        {
          "output_type": "stream",
          "text": [
            "\n",
            "Number of matches 5258\n",
            "Number of matches After Lowe's Ratio 3400\n",
            "Number of Robust matches 2852\n",
            "\n",
            "\n"
          ],
          "name": "stdout"
        },
        {
          "output_type": "stream",
          "text": [
            "\r 98%|█████████▊| 59/60 [02:47<00:02,  2.05s/it]"
          ],
          "name": "stderr"
        },
        {
          "output_type": "stream",
          "text": [
            "\n",
            "Number of matches 8921\n",
            "Number of matches After Lowe's Ratio 37\n",
            "Number of Robust matches 14\n",
            "\n",
            "\n",
            "Number of matches After Lowe's Ratio New 37\n",
            "Number of Robust matches New 12\n",
            "\n",
            "\n"
          ],
          "name": "stdout"
        }
      ]
    },
    {
      "cell_type": "code",
      "metadata": {
        "colab": {
          "base_uri": "https://localhost:8080/"
        },
        "id": "yuB1EagSL_Ta",
        "outputId": "31ac8252-ddac-4f1c-e45e-4886b36ce05f"
      },
      "source": [
        "import h5py as h5\n",
        "f=h5.File('drive/MyDrive/H_left_agast_40.h5','w')\n",
        "t0=time.time()\n",
        "f.create_dataset('data',data=H_left_agast)\n",
        "f.close()\n",
        "print('HDF5  w/o comp.:',time.time()-t0,'[s] ... size',os.path.getsize('drive/MyDrive/H_left_agast_40.h5')/1.e6,'MB')"
      ],
      "execution_count": 46,
      "outputs": [
        {
          "output_type": "stream",
          "text": [
            "HDF5  w/o comp.: 0.0063152313232421875 [s] ... size 0.006368 MB\n"
          ],
          "name": "stdout"
        }
      ]
    },
    {
      "cell_type": "code",
      "metadata": {
        "colab": {
          "base_uri": "https://localhost:8080/"
        },
        "id": "a1LMoHOzL_NW",
        "outputId": "f5873cf0-aa38-4c51-ca57-26658fe3d20d"
      },
      "source": [
        "import h5py as h5\n",
        "f=h5.File('drive/MyDrive/H_right_agast_40.h5','w')\n",
        "t0=time.time()\n",
        "f.create_dataset('data',data=H_right_agast)\n",
        "f.close()\n",
        "print('HDF5  w/o comp.:',time.time()-t0,'[s] ... size',os.path.getsize('drive/MyDrive/H_right_agast_40.h5')/1.e6,'MB')"
      ],
      "execution_count": 47,
      "outputs": [
        {
          "output_type": "stream",
          "text": [
            "HDF5  w/o comp.: 0.005442619323730469 [s] ... size 0.006296 MB\n"
          ],
          "name": "stdout"
        }
      ]
    },
    {
      "cell_type": "code",
      "metadata": {
        "id": "_kYn3bzmMPyl"
      },
      "source": [
        "del H_left_agast, H_right_agast,keypoints_all_left_agast, keypoints_all_right_agast, descriptors_all_left_agast, descriptors_all_right_agast, points_all_left_agast, points_all_right_agast"
      ],
      "execution_count": 48,
      "outputs": []
    },
    {
      "cell_type": "code",
      "metadata": {
        "id": "JZbR8ZLbMPuK"
      },
      "source": [
        ""
      ],
      "execution_count": null,
      "outputs": []
    },
    {
      "cell_type": "code",
      "metadata": {
        "id": "G1wEtkqiMPo4"
      },
      "source": [
        "'''\n",
        "import pickle\n",
        "Fdb = open('all_feat_daisy_left.dat', 'rb')\n",
        "kpts_all = pickle.load(Fdb)\n",
        "Fdb.close()\n",
        "\n",
        "keypoints_all_left_daisy = []\n",
        "descriptors_all_left_daisy = []\n",
        "\n",
        "for j,kpt_each in enumerate(kpts_all):\n",
        "  keypoints_each = []\n",
        "  descrip_each = []\n",
        "  for k,kpt_img in enumerate(kpt_each):\n",
        "    temp_feature = cv2.KeyPoint(x=kpt_img[0][0],y=kpt_img[0][1],_size=kpt_img[1], _angle=kpt_img[2], \n",
        "                            _response=kpt_img[3], _octave=kpt_img[4], _class_id=kpt_img[5]) \n",
        "    temp_descriptor = kpt_img[6]\n",
        "    keypoints_each.append(temp_feature)\n",
        "    descrip_each.append(temp_descriptor)\n",
        "  points_all_left_daisy.append(np.asarray([[p.pt[0], p.pt[1]] for p in keypoints_each]))\n",
        "  keypoints_all_left_daisy.append(keypoints_each)\n",
        "  descriptors_all_left_daisy.append(descrip_each)"
      ],
      "execution_count": null,
      "outputs": []
    },
    {
      "cell_type": "code",
      "metadata": {
        "id": "weAFvO6GMPjf"
      },
      "source": [
        "'''\n",
        "import pickle\n",
        "Fdb = open('all_feat_daisy_right.dat', 'rb')\n",
        "kpts_all = pickle.load(Fdb)\n",
        "Fdb.close()\n",
        "\n",
        "keypoints_all_right_daisy = []\n",
        "descriptors_all_right_daisy = []\n",
        "\n",
        "for j,kpt_each in enumerate(kpts_all):\n",
        "  keypoints_each = []\n",
        "  descrip_each = []\n",
        "  for k,kpt_img in enumerate(kpt_each):\n",
        "    temp_feature = cv2.KeyPoint(x=kpt_img[0][0],y=kpt_img[0][1],_size=kpt_img[1], _angle=kpt_img[2], \n",
        "                            _response=kpt_img[3], _octave=kpt_img[4], _class_id=kpt_img[5]) \n",
        "    temp_descriptor = kpt_img[6]\n",
        "    keypoints_each.append(temp_feature)\n",
        "    descrip_each.append(temp_descriptor)\n",
        "  points_all_right_daisy.append(np.asarray([[p.pt[0], p.pt[1]] for p in keypoints_each]))\n",
        "  keypoints_all_right_daisy.append(keypoints_each)\n",
        "  descriptors_all_right_daisy.append(descrip_each)"
      ],
      "execution_count": null,
      "outputs": []
    },
    {
      "cell_type": "code",
      "metadata": {
        "id": "_2rNYL0GMPd4"
      },
      "source": [
        "'''\n",
        "H_left_daisy = []\n",
        "H_right_daisy = []\n",
        "\n",
        "num_matches_daisy = []\n",
        "num_good_matches_daisy = []\n",
        "\n",
        "for j in tqdm(range(len(left_files_path))):\n",
        "  if j==len(left_files_path)-1:\n",
        "    break\n",
        "\n",
        "  H_a,matches,gd_matches = get_Hmatrix(images_left_bgr[j:j+2][::-1],keypoints_all_left_daisy[j:j+2][::-1],points_all_left_daisy[j:j+2][::-1],descriptors_all_left_daisy[j:j+2][::-1],0.7,6)\n",
        "  H_left_daisy.append(H_a)\n",
        "  num_matches_daisy.append(matches)\n",
        "  num_good_matches_daisy.append(gd_matches)\n",
        "\n",
        "for j in tqdm(range(len(right_files_path))):\n",
        "  if j==len(right_files_path)-1:\n",
        "    break\n",
        "\n",
        "  H_a,matches,gd_matches = get_Hmatrix(images_right_bgr[j:j+2][::-1],keypoints_all_right_daisy[j:j+2][::-1],points_all_right_daisy[j:j+2][::-1],descriptors_all_right_daisy[j:j+2][::-1],0.7,6)\n",
        "  H_right_daisy.append(H_a)\n",
        "  num_matches_daisy.append(matches)\n",
        "  num_good_matches_daisy.append(gd_matches)"
      ],
      "execution_count": null,
      "outputs": []
    },
    {
      "cell_type": "code",
      "metadata": {
        "colab": {
          "base_uri": "https://localhost:8080/"
        },
        "id": "rbmBqPPoMPXn",
        "outputId": "d9b7be57-b14b-4f5d-9312-f97e9a875da4"
      },
      "source": [
        "'''\n",
        "import h5py as h5\n",
        "f=h5.File('drive/MyDrive/H_left_daisy_40.h5','w')\n",
        "t0=time.time()\n",
        "f.create_dataset('data',data=H_left_daisy)\n",
        "f.close()\n",
        "print('HDF5  w/o comp.:',time.time()-t0,'[s] ... size',os.path.getsize('drive/MyDrive/H_left_daisy_40.h5')/1.e6,'MB')"
      ],
      "execution_count": null,
      "outputs": [
        {
          "output_type": "stream",
          "text": [
            "HDF5  w/o comp.: 0.006845712661743164 [s] ... size 0.005576 MB\n"
          ],
          "name": "stdout"
        }
      ]
    },
    {
      "cell_type": "code",
      "metadata": {
        "colab": {
          "base_uri": "https://localhost:8080/"
        },
        "id": "k7kN0xeSMcJD",
        "outputId": "55f3d201-4b3e-4966-bae5-e246817749e1"
      },
      "source": [
        "'''\n",
        "import h5py as h5\n",
        "f=h5.File('drive/MyDrive/H_right_daisy_40.h5','w')\n",
        "t0=time.time()\n",
        "f.create_dataset('data',data=H_right_daisy)\n",
        "f.close()\n",
        "print('HDF5  w/o comp.:',time.time()-t0,'[s] ... size',os.path.getsize('drive/MyDrive/H_right_daisy_40.h5')/1.e6,'MB')"
      ],
      "execution_count": null,
      "outputs": [
        {
          "output_type": "stream",
          "text": [
            "HDF5  w/o comp.: 0.004180192947387695 [s] ... size 0.005576 MB\n"
          ],
          "name": "stdout"
        }
      ]
    },
    {
      "cell_type": "code",
      "metadata": {
        "id": "iJz1GnPlMcFv"
      },
      "source": [
        "'''\n",
        "del H_left_daisy, H_right_daisy,keypoints_all_left_daisy, keypoints_all_right_daisy, descriptors_all_left_daisy, descriptors_all_right_daisy, points_all_left_daisy, points_all_right_daisy"
      ],
      "execution_count": null,
      "outputs": []
    },
    {
      "cell_type": "code",
      "metadata": {
        "id": "lBhvFt7CMcAe"
      },
      "source": [
        ""
      ],
      "execution_count": null,
      "outputs": []
    },
    {
      "cell_type": "code",
      "metadata": {
        "id": "u1uKem3vMb7M"
      },
      "source": [
        "'''import pickle\n",
        "Fdb = open('all_feat_freak_left.dat', 'rb')\n",
        "kpts_all = pickle.load(Fdb)\n",
        "Fdb.close()\n",
        "\n",
        "keypoints_all_left_freak = []\n",
        "descriptors_all_left_freak = []\n",
        "\n",
        "for j,kpt_each in enumerate(kpts_all):\n",
        "  keypoints_each = []\n",
        "  descrip_each = []\n",
        "  for k,kpt_img in enumerate(kpt_each):\n",
        "    temp_feature = cv2.KeyPoint(x=kpt_img[0][0],y=kpt_img[0][1],_size=kpt_img[1], _angle=kpt_img[2], \n",
        "                            _response=kpt_img[3], _octave=kpt_img[4], _class_id=kpt_img[5]) \n",
        "    temp_descriptor = kpt_img[6]\n",
        "    keypoints_each.append(temp_feature)\n",
        "    descrip_each.append(temp_descriptor)\n",
        "  points_all_left_freak.append(np.asarray([[p.pt[0], p.pt[1]] for p in keypoints_each]))\n",
        "  keypoints_all_left_freak.append(keypoints_each)\n",
        "  descriptors_all_left_freak.append(descrip_each)"
      ],
      "execution_count": null,
      "outputs": []
    },
    {
      "cell_type": "code",
      "metadata": {
        "id": "vCTwXuf6Mb0W"
      },
      "source": [
        "'''import pickle\n",
        "Fdb = open('all_feat_freak_right.dat', 'rb')\n",
        "kpts_all = pickle.load(Fdb)\n",
        "Fdb.close()\n",
        "\n",
        "keypoints_all_right_freak = []\n",
        "descriptors_all_right_freak = []\n",
        "\n",
        "for j,kpt_each in enumerate(kpts_all):\n",
        "  keypoints_each = []\n",
        "  descrip_each = []\n",
        "  for k,kpt_img in enumerate(kpt_each):\n",
        "    temp_feature = cv2.KeyPoint(x=kpt_img[0][0],y=kpt_img[0][1],_size=kpt_img[1], _angle=kpt_img[2], \n",
        "                            _response=kpt_img[3], _octave=kpt_img[4], _class_id=kpt_img[5]) \n",
        "    temp_descriptor = kpt_img[6]\n",
        "    keypoints_each.append(temp_feature)\n",
        "    descrip_each.append(temp_descriptor)\n",
        "  points_all_right_freak.append(np.asarray([[p.pt[0], p.pt[1]] for p in keypoints_each]))\n",
        "  keypoints_all_right_freak.append(keypoints_each)\n",
        "  descriptors_all_right_freak.append(descrip_each)"
      ],
      "execution_count": null,
      "outputs": []
    },
    {
      "cell_type": "code",
      "metadata": {
        "id": "nojIEqNvMm0b",
        "colab": {
          "base_uri": "https://localhost:8080/"
        },
        "outputId": "77e02d74-b48a-419c-d973-fc4d29046af4"
      },
      "source": [
        "H_left_freak = []\n",
        "H_right_freak = []\n",
        "\n",
        "num_matches_freak = []\n",
        "num_good_matches_freak = []\n",
        "\n",
        "for j in tqdm(range(len(left_files_path))):\n",
        "  if j==len(left_files_path)-1:\n",
        "    break\n",
        "\n",
        "  H_a,matches,gd_matches = get_Hmatrix(images_left_bgr[j:j+2][::-1],keypoints_all_left_freak[j:j+2][::-1],points_all_left_freak[j:j+2][::-1],descriptors_all_left_freak[j:j+2][::-1],0.7,6)\n",
        "  H_left_freak.append(H_a)\n",
        "  num_matches_freak.append(matches)\n",
        "  num_good_matches_freak.append(gd_matches)\n",
        "\n",
        "for j in tqdm(range(len(right_files_path))):\n",
        "  if j==len(right_files_path)-1:\n",
        "    break\n",
        "\n",
        "  H_a,matches,gd_matches = get_Hmatrix(images_right_bgr[j:j+2][::-1],keypoints_all_right_freak[j:j+2][::-1],points_all_right_freak[j:j+2][::-1],descriptors_all_right_freak[j:j+2][::-1],0.7,6)\n",
        "  H_right_freak.append(H_a)\n",
        "  num_matches_freak.append(matches)\n",
        "  num_good_matches_freak.append(gd_matches)"
      ],
      "execution_count": 49,
      "outputs": [
        {
          "output_type": "stream",
          "text": [
            "  2%|▏         | 1/61 [00:01<01:56,  1.95s/it]"
          ],
          "name": "stderr"
        },
        {
          "output_type": "stream",
          "text": [
            "\n",
            "Number of matches 21664\n",
            "Number of matches After Lowe's Ratio 240\n",
            "Number of Robust matches 139\n",
            "\n",
            "\n"
          ],
          "name": "stdout"
        },
        {
          "output_type": "stream",
          "text": [
            "\r  3%|▎         | 2/61 [00:04<01:57,  1.99s/it]"
          ],
          "name": "stderr"
        },
        {
          "output_type": "stream",
          "text": [
            "\n",
            "Number of matches 21904\n",
            "Number of matches After Lowe's Ratio 310\n",
            "Number of Robust matches 201\n",
            "\n",
            "\n"
          ],
          "name": "stdout"
        },
        {
          "output_type": "stream",
          "text": [
            "\r  5%|▍         | 3/61 [00:06<01:56,  2.01s/it]"
          ],
          "name": "stderr"
        },
        {
          "output_type": "stream",
          "text": [
            "\n",
            "Number of matches 18817\n",
            "Number of matches After Lowe's Ratio 226\n",
            "Number of Robust matches 130\n",
            "\n",
            "\n"
          ],
          "name": "stdout"
        },
        {
          "output_type": "stream",
          "text": [
            "\r  7%|▋         | 4/61 [00:07<01:50,  1.94s/it]"
          ],
          "name": "stderr"
        },
        {
          "output_type": "stream",
          "text": [
            "\n",
            "Number of matches 18600\n",
            "Number of matches After Lowe's Ratio 303\n",
            "Number of Robust matches 199\n",
            "\n",
            "\n"
          ],
          "name": "stdout"
        },
        {
          "output_type": "stream",
          "text": [
            "\r  8%|▊         | 5/61 [00:09<01:45,  1.88s/it]"
          ],
          "name": "stderr"
        },
        {
          "output_type": "stream",
          "text": [
            "\n",
            "Number of matches 19179\n",
            "Number of matches After Lowe's Ratio 162\n",
            "Number of Robust matches 100\n",
            "\n",
            "\n"
          ],
          "name": "stdout"
        },
        {
          "output_type": "stream",
          "text": [
            "\r 10%|▉         | 6/61 [00:11<01:45,  1.92s/it]"
          ],
          "name": "stderr"
        },
        {
          "output_type": "stream",
          "text": [
            "\n",
            "Number of matches 21535\n",
            "Number of matches After Lowe's Ratio 366\n",
            "Number of Robust matches 288\n",
            "\n",
            "\n"
          ],
          "name": "stdout"
        },
        {
          "output_type": "stream",
          "text": [
            "\r 11%|█▏        | 7/61 [00:13<01:45,  1.96s/it]"
          ],
          "name": "stderr"
        },
        {
          "output_type": "stream",
          "text": [
            "\n",
            "Number of matches 20275\n",
            "Number of matches After Lowe's Ratio 398\n",
            "Number of Robust matches 348\n",
            "\n",
            "\n"
          ],
          "name": "stdout"
        },
        {
          "output_type": "stream",
          "text": [
            "\r 13%|█▎        | 8/61 [00:15<01:42,  1.94s/it]"
          ],
          "name": "stderr"
        },
        {
          "output_type": "stream",
          "text": [
            "\n",
            "Number of matches 18115\n",
            "Number of matches After Lowe's Ratio 290\n",
            "Number of Robust matches 219\n",
            "\n",
            "\n"
          ],
          "name": "stdout"
        },
        {
          "output_type": "stream",
          "text": [
            "\r 15%|█▍        | 9/61 [00:17<01:37,  1.87s/it]"
          ],
          "name": "stderr"
        },
        {
          "output_type": "stream",
          "text": [
            "\n",
            "Number of matches 19580\n",
            "Number of matches After Lowe's Ratio 376\n",
            "Number of Robust matches 267\n",
            "\n",
            "\n"
          ],
          "name": "stdout"
        },
        {
          "output_type": "stream",
          "text": [
            "\r 16%|█▋        | 10/61 [00:19<01:37,  1.92s/it]"
          ],
          "name": "stderr"
        },
        {
          "output_type": "stream",
          "text": [
            "\n",
            "Number of matches 20621\n",
            "Number of matches After Lowe's Ratio 353\n",
            "Number of Robust matches 235\n",
            "\n",
            "\n"
          ],
          "name": "stdout"
        },
        {
          "output_type": "stream",
          "text": [
            "\r 18%|█▊        | 11/61 [00:21<01:36,  1.92s/it]"
          ],
          "name": "stderr"
        },
        {
          "output_type": "stream",
          "text": [
            "\n",
            "Number of matches 19884\n",
            "Number of matches After Lowe's Ratio 259\n",
            "Number of Robust matches 114\n",
            "\n",
            "\n"
          ],
          "name": "stdout"
        },
        {
          "output_type": "stream",
          "text": [
            "\r 20%|█▉        | 12/61 [00:23<01:33,  1.91s/it]"
          ],
          "name": "stderr"
        },
        {
          "output_type": "stream",
          "text": [
            "\n",
            "Number of matches 19529\n",
            "Number of matches After Lowe's Ratio 263\n",
            "Number of Robust matches 118\n",
            "\n",
            "\n"
          ],
          "name": "stdout"
        },
        {
          "output_type": "stream",
          "text": [
            "\r 21%|██▏       | 13/61 [00:25<01:34,  1.96s/it]"
          ],
          "name": "stderr"
        },
        {
          "output_type": "stream",
          "text": [
            "\n",
            "Number of matches 27592\n",
            "Number of matches After Lowe's Ratio 100\n",
            "Number of Robust matches 29\n",
            "\n",
            "\n"
          ],
          "name": "stdout"
        },
        {
          "output_type": "stream",
          "text": [
            "\r 23%|██▎       | 14/61 [00:28<01:54,  2.43s/it]"
          ],
          "name": "stderr"
        },
        {
          "output_type": "stream",
          "text": [
            "\n",
            "Number of matches 40858\n",
            "Number of matches After Lowe's Ratio 83\n",
            "Number of Robust matches 29\n",
            "\n",
            "\n"
          ],
          "name": "stdout"
        },
        {
          "output_type": "stream",
          "text": [
            "\r 25%|██▍       | 15/61 [00:32<02:16,  2.97s/it]"
          ],
          "name": "stderr"
        },
        {
          "output_type": "stream",
          "text": [
            "\n",
            "Number of matches 23249\n",
            "Number of matches After Lowe's Ratio 108\n",
            "Number of Robust matches 66\n",
            "\n",
            "\n"
          ],
          "name": "stdout"
        },
        {
          "output_type": "stream",
          "text": [
            "\r 26%|██▌       | 16/61 [00:35<02:01,  2.71s/it]"
          ],
          "name": "stderr"
        },
        {
          "output_type": "stream",
          "text": [
            "\n",
            "Number of matches 18628\n",
            "Number of matches After Lowe's Ratio 206\n",
            "Number of Robust matches 111\n",
            "\n",
            "\n"
          ],
          "name": "stdout"
        },
        {
          "output_type": "stream",
          "text": [
            "\r 28%|██▊       | 17/61 [00:36<01:46,  2.42s/it]"
          ],
          "name": "stderr"
        },
        {
          "output_type": "stream",
          "text": [
            "\n",
            "Number of matches 19630\n",
            "Number of matches After Lowe's Ratio 212\n",
            "Number of Robust matches 100\n",
            "\n",
            "\n"
          ],
          "name": "stdout"
        },
        {
          "output_type": "stream",
          "text": [
            "\r 30%|██▉       | 18/61 [00:38<01:39,  2.32s/it]"
          ],
          "name": "stderr"
        },
        {
          "output_type": "stream",
          "text": [
            "\n",
            "Number of matches 22819\n",
            "Number of matches After Lowe's Ratio 202\n",
            "Number of Robust matches 86\n",
            "\n",
            "\n"
          ],
          "name": "stdout"
        },
        {
          "output_type": "stream",
          "text": [
            "\r 31%|███       | 19/61 [00:41<01:35,  2.26s/it]"
          ],
          "name": "stderr"
        },
        {
          "output_type": "stream",
          "text": [
            "\n",
            "Number of matches 20267\n",
            "Number of matches After Lowe's Ratio 161\n",
            "Number of Robust matches 76\n",
            "\n",
            "\n"
          ],
          "name": "stdout"
        },
        {
          "output_type": "stream",
          "text": [
            "\r 33%|███▎      | 20/61 [00:42<01:28,  2.16s/it]"
          ],
          "name": "stderr"
        },
        {
          "output_type": "stream",
          "text": [
            "\n",
            "Number of matches 21344\n",
            "Number of matches After Lowe's Ratio 107\n",
            "Number of Robust matches 55\n",
            "\n",
            "\n"
          ],
          "name": "stdout"
        },
        {
          "output_type": "stream",
          "text": [
            "\r 34%|███▍      | 21/61 [00:45<01:28,  2.20s/it]"
          ],
          "name": "stderr"
        },
        {
          "output_type": "stream",
          "text": [
            "\n",
            "Number of matches 22367\n",
            "Number of matches After Lowe's Ratio 197\n",
            "Number of Robust matches 145\n",
            "\n",
            "\n"
          ],
          "name": "stdout"
        },
        {
          "output_type": "stream",
          "text": [
            "\r 36%|███▌      | 22/61 [00:47<01:29,  2.31s/it]"
          ],
          "name": "stderr"
        },
        {
          "output_type": "stream",
          "text": [
            "\n",
            "Number of matches 27177\n",
            "Number of matches After Lowe's Ratio 327\n",
            "Number of Robust matches 265\n",
            "\n",
            "\n"
          ],
          "name": "stdout"
        },
        {
          "output_type": "stream",
          "text": [
            "\r 38%|███▊      | 23/61 [00:50<01:31,  2.41s/it]"
          ],
          "name": "stderr"
        },
        {
          "output_type": "stream",
          "text": [
            "\n",
            "Number of matches 20278\n",
            "Number of matches After Lowe's Ratio 219\n",
            "Number of Robust matches 178\n",
            "\n",
            "\n"
          ],
          "name": "stdout"
        },
        {
          "output_type": "stream",
          "text": [
            "\r 39%|███▉      | 24/61 [00:52<01:22,  2.24s/it]"
          ],
          "name": "stderr"
        },
        {
          "output_type": "stream",
          "text": [
            "\n",
            "Number of matches 16930\n",
            "Number of matches After Lowe's Ratio 141\n",
            "Number of Robust matches 78\n",
            "\n",
            "\n"
          ],
          "name": "stdout"
        },
        {
          "output_type": "stream",
          "text": [
            "\r 41%|████      | 25/61 [00:53<01:12,  2.02s/it]"
          ],
          "name": "stderr"
        },
        {
          "output_type": "stream",
          "text": [
            "\n",
            "Number of matches 17441\n",
            "Number of matches After Lowe's Ratio 144\n",
            "Number of Robust matches 66\n",
            "\n",
            "\n"
          ],
          "name": "stdout"
        },
        {
          "output_type": "stream",
          "text": [
            "\r 43%|████▎     | 26/61 [00:55<01:06,  1.90s/it]"
          ],
          "name": "stderr"
        },
        {
          "output_type": "stream",
          "text": [
            "\n",
            "Number of matches 21205\n",
            "Number of matches After Lowe's Ratio 115\n",
            "Number of Robust matches 37\n",
            "\n",
            "\n"
          ],
          "name": "stdout"
        },
        {
          "output_type": "stream",
          "text": [
            "\r 44%|████▍     | 27/61 [00:57<01:07,  2.00s/it]"
          ],
          "name": "stderr"
        },
        {
          "output_type": "stream",
          "text": [
            "\n",
            "Number of matches 20298\n",
            "Number of matches After Lowe's Ratio 181\n",
            "Number of Robust matches 79\n",
            "\n",
            "\n"
          ],
          "name": "stdout"
        },
        {
          "output_type": "stream",
          "text": [
            "\r 46%|████▌     | 28/61 [00:59<01:05,  2.00s/it]"
          ],
          "name": "stderr"
        },
        {
          "output_type": "stream",
          "text": [
            "\n",
            "Number of matches 22200\n",
            "Number of matches After Lowe's Ratio 100\n",
            "Number of Robust matches 42\n",
            "\n",
            "\n"
          ],
          "name": "stdout"
        },
        {
          "output_type": "stream",
          "text": [
            "\r 48%|████▊     | 29/61 [01:02<01:09,  2.17s/it]"
          ],
          "name": "stderr"
        },
        {
          "output_type": "stream",
          "text": [
            "\n",
            "Number of matches 34249\n",
            "Number of matches After Lowe's Ratio 78\n",
            "Number of Robust matches 31\n",
            "\n",
            "\n"
          ],
          "name": "stdout"
        },
        {
          "output_type": "stream",
          "text": [
            "\r 49%|████▉     | 30/61 [01:05<01:21,  2.62s/it]"
          ],
          "name": "stderr"
        },
        {
          "output_type": "stream",
          "text": [
            "\n",
            "Number of matches 26297\n",
            "Number of matches After Lowe's Ratio 88\n",
            "Number of Robust matches 35\n",
            "\n",
            "\n"
          ],
          "name": "stdout"
        },
        {
          "output_type": "stream",
          "text": [
            "\r 51%|█████     | 31/61 [01:08<01:19,  2.64s/it]"
          ],
          "name": "stderr"
        },
        {
          "output_type": "stream",
          "text": [
            "\n",
            "Number of matches 19852\n",
            "Number of matches After Lowe's Ratio 136\n",
            "Number of Robust matches 53\n",
            "\n",
            "\n"
          ],
          "name": "stdout"
        },
        {
          "output_type": "stream",
          "text": [
            "\r 52%|█████▏    | 32/61 [01:10<01:09,  2.38s/it]"
          ],
          "name": "stderr"
        },
        {
          "output_type": "stream",
          "text": [
            "\n",
            "Number of matches 15286\n",
            "Number of matches After Lowe's Ratio 172\n",
            "Number of Robust matches 93\n",
            "\n",
            "\n"
          ],
          "name": "stdout"
        },
        {
          "output_type": "stream",
          "text": [
            "\r 54%|█████▍    | 33/61 [01:11<00:56,  2.02s/it]"
          ],
          "name": "stderr"
        },
        {
          "output_type": "stream",
          "text": [
            "\n",
            "Number of matches 16243\n",
            "Number of matches After Lowe's Ratio 174\n",
            "Number of Robust matches 112\n",
            "\n",
            "\n"
          ],
          "name": "stdout"
        },
        {
          "output_type": "stream",
          "text": [
            "\r 56%|█████▌    | 34/61 [01:12<00:48,  1.81s/it]"
          ],
          "name": "stderr"
        },
        {
          "output_type": "stream",
          "text": [
            "\n",
            "Number of matches 15785\n",
            "Number of matches After Lowe's Ratio 142\n",
            "Number of Robust matches 91\n",
            "\n",
            "\n"
          ],
          "name": "stdout"
        },
        {
          "output_type": "stream",
          "text": [
            "\r 57%|█████▋    | 35/61 [01:14<00:42,  1.65s/it]"
          ],
          "name": "stderr"
        },
        {
          "output_type": "stream",
          "text": [
            "\n",
            "Number of matches 17283\n",
            "Number of matches After Lowe's Ratio 145\n",
            "Number of Robust matches 86\n",
            "\n",
            "\n"
          ],
          "name": "stdout"
        },
        {
          "output_type": "stream",
          "text": [
            "\r 59%|█████▉    | 36/61 [01:16<00:43,  1.73s/it]"
          ],
          "name": "stderr"
        },
        {
          "output_type": "stream",
          "text": [
            "\n",
            "Number of matches 21951\n",
            "Number of matches After Lowe's Ratio 186\n",
            "Number of Robust matches 136\n",
            "\n",
            "\n"
          ],
          "name": "stdout"
        },
        {
          "output_type": "stream",
          "text": [
            "\r 61%|██████    | 37/61 [01:18<00:45,  1.90s/it]"
          ],
          "name": "stderr"
        },
        {
          "output_type": "stream",
          "text": [
            "\n",
            "Number of matches 26117\n",
            "Number of matches After Lowe's Ratio 198\n",
            "Number of Robust matches 140\n",
            "\n",
            "\n"
          ],
          "name": "stdout"
        },
        {
          "output_type": "stream",
          "text": [
            "\r 62%|██████▏   | 38/61 [01:20<00:47,  2.07s/it]"
          ],
          "name": "stderr"
        },
        {
          "output_type": "stream",
          "text": [
            "\n",
            "Number of matches 17700\n",
            "Number of matches After Lowe's Ratio 210\n",
            "Number of Robust matches 169\n",
            "\n",
            "\n"
          ],
          "name": "stdout"
        },
        {
          "output_type": "stream",
          "text": [
            "\r 64%|██████▍   | 39/61 [01:22<00:41,  1.89s/it]"
          ],
          "name": "stderr"
        },
        {
          "output_type": "stream",
          "text": [
            "\n",
            "Number of matches 13514\n",
            "Number of matches After Lowe's Ratio 154\n",
            "Number of Robust matches 109\n",
            "\n",
            "\n"
          ],
          "name": "stdout"
        },
        {
          "output_type": "stream",
          "text": [
            "\r 66%|██████▌   | 40/61 [01:23<00:33,  1.60s/it]"
          ],
          "name": "stderr"
        },
        {
          "output_type": "stream",
          "text": [
            "\n",
            "Number of matches 8246\n",
            "Number of matches After Lowe's Ratio 82\n",
            "Number of Robust matches 53\n",
            "\n",
            "\n"
          ],
          "name": "stdout"
        },
        {
          "output_type": "stream",
          "text": [
            "\r 67%|██████▋   | 41/61 [01:23<00:26,  1.30s/it]"
          ],
          "name": "stderr"
        },
        {
          "output_type": "stream",
          "text": [
            "\n",
            "Number of matches 11528\n",
            "Number of matches After Lowe's Ratio 127\n",
            "Number of Robust matches 69\n",
            "\n",
            "\n"
          ],
          "name": "stdout"
        },
        {
          "output_type": "stream",
          "text": [
            "\r 69%|██████▉   | 42/61 [01:24<00:22,  1.19s/it]"
          ],
          "name": "stderr"
        },
        {
          "output_type": "stream",
          "text": [
            "\n",
            "Number of matches 15128\n",
            "Number of matches After Lowe's Ratio 201\n",
            "Number of Robust matches 81\n",
            "\n",
            "\n"
          ],
          "name": "stdout"
        },
        {
          "output_type": "stream",
          "text": [
            "\r 70%|███████   | 43/61 [01:26<00:23,  1.29s/it]"
          ],
          "name": "stderr"
        },
        {
          "output_type": "stream",
          "text": [
            "\n",
            "Number of matches 21487\n",
            "Number of matches After Lowe's Ratio 176\n",
            "Number of Robust matches 56\n",
            "\n",
            "\n"
          ],
          "name": "stdout"
        },
        {
          "output_type": "stream",
          "text": [
            "\r 72%|███████▏  | 44/61 [01:28<00:27,  1.64s/it]"
          ],
          "name": "stderr"
        },
        {
          "output_type": "stream",
          "text": [
            "\n",
            "Number of matches 31746\n",
            "Number of matches After Lowe's Ratio 82\n",
            "Number of Robust matches 24\n",
            "\n",
            "\n",
            "Number of matches After Lowe's Ratio New 1666\n",
            "Number of Robust matches New 11\n",
            "\n",
            "\n"
          ],
          "name": "stdout"
        },
        {
          "output_type": "stream",
          "text": [
            "\r 74%|███████▍  | 45/61 [01:33<00:40,  2.52s/it]"
          ],
          "name": "stderr"
        },
        {
          "output_type": "stream",
          "text": [
            "\n",
            "Number of matches 46272\n",
            "Number of matches After Lowe's Ratio 80\n",
            "Number of Robust matches 21\n",
            "\n",
            "\n",
            "Number of matches After Lowe's Ratio New 2180\n",
            "Number of Robust matches New 12\n",
            "\n",
            "\n"
          ],
          "name": "stdout"
        },
        {
          "output_type": "stream",
          "text": [
            "\r 75%|███████▌  | 46/61 [01:38<00:50,  3.37s/it]"
          ],
          "name": "stderr"
        },
        {
          "output_type": "stream",
          "text": [
            "\n",
            "Number of matches 29664\n",
            "Number of matches After Lowe's Ratio 54\n",
            "Number of Robust matches 20\n",
            "\n",
            "\n",
            "Number of matches After Lowe's Ratio New 1354\n",
            "Number of Robust matches New 16\n",
            "\n",
            "\n"
          ],
          "name": "stdout"
        },
        {
          "output_type": "stream",
          "text": [
            "\r 77%|███████▋  | 47/61 [01:41<00:44,  3.21s/it]"
          ],
          "name": "stderr"
        },
        {
          "output_type": "stream",
          "text": [
            "\n",
            "Number of matches 18738\n",
            "Number of matches After Lowe's Ratio 74\n",
            "Number of Robust matches 31\n",
            "\n",
            "\n"
          ],
          "name": "stdout"
        },
        {
          "output_type": "stream",
          "text": [
            "\r 79%|███████▊  | 48/61 [01:43<00:35,  2.75s/it]"
          ],
          "name": "stderr"
        },
        {
          "output_type": "stream",
          "text": [
            "\n",
            "Number of matches 15164\n",
            "Number of matches After Lowe's Ratio 96\n",
            "Number of Robust matches 32\n",
            "\n",
            "\n"
          ],
          "name": "stdout"
        },
        {
          "output_type": "stream",
          "text": [
            "\r 80%|████████  | 49/61 [01:44<00:27,  2.25s/it]"
          ],
          "name": "stderr"
        },
        {
          "output_type": "stream",
          "text": [
            "\n",
            "Number of matches 9459\n",
            "Number of matches After Lowe's Ratio 115\n",
            "Number of Robust matches 55\n",
            "\n",
            "\n"
          ],
          "name": "stdout"
        },
        {
          "output_type": "stream",
          "text": [
            "\r 82%|████████▏ | 50/61 [01:44<00:19,  1.79s/it]"
          ],
          "name": "stderr"
        },
        {
          "output_type": "stream",
          "text": [
            "\n",
            "Number of matches 11765\n",
            "Number of matches After Lowe's Ratio 78\n",
            "Number of Robust matches 45\n",
            "\n",
            "\n"
          ],
          "name": "stdout"
        },
        {
          "output_type": "stream",
          "text": [
            "\r 84%|████████▎ | 51/61 [01:46<00:15,  1.58s/it]"
          ],
          "name": "stderr"
        },
        {
          "output_type": "stream",
          "text": [
            "\n",
            "Number of matches 15011\n",
            "Number of matches After Lowe's Ratio 82\n",
            "Number of Robust matches 58\n",
            "\n",
            "\n"
          ],
          "name": "stdout"
        },
        {
          "output_type": "stream",
          "text": [
            "\r 85%|████████▌ | 52/61 [01:47<00:13,  1.50s/it]"
          ],
          "name": "stderr"
        },
        {
          "output_type": "stream",
          "text": [
            "\n",
            "Number of matches 21693\n",
            "Number of matches After Lowe's Ratio 133\n",
            "Number of Robust matches 108\n",
            "\n",
            "\n"
          ],
          "name": "stdout"
        },
        {
          "output_type": "stream",
          "text": [
            "\r 87%|████████▋ | 53/61 [01:49<00:13,  1.73s/it]"
          ],
          "name": "stderr"
        },
        {
          "output_type": "stream",
          "text": [
            "\n",
            "Number of matches 26897\n",
            "Number of matches After Lowe's Ratio 137\n",
            "Number of Robust matches 87\n",
            "\n",
            "\n"
          ],
          "name": "stdout"
        },
        {
          "output_type": "stream",
          "text": [
            "\r 89%|████████▊ | 54/61 [01:52<00:14,  2.04s/it]"
          ],
          "name": "stderr"
        },
        {
          "output_type": "stream",
          "text": [
            "\n",
            "Number of matches 25138\n",
            "Number of matches After Lowe's Ratio 188\n",
            "Number of Robust matches 158\n",
            "\n",
            "\n"
          ],
          "name": "stdout"
        },
        {
          "output_type": "stream",
          "text": [
            "\r 90%|█████████ | 55/61 [01:54<00:13,  2.17s/it]"
          ],
          "name": "stderr"
        },
        {
          "output_type": "stream",
          "text": [
            "\n",
            "Number of matches 17924\n",
            "Number of matches After Lowe's Ratio 74\n",
            "Number of Robust matches 59\n",
            "\n",
            "\n"
          ],
          "name": "stdout"
        },
        {
          "output_type": "stream",
          "text": [
            "\r 92%|█████████▏| 56/61 [01:56<00:09,  2.00s/it]"
          ],
          "name": "stderr"
        },
        {
          "output_type": "stream",
          "text": [
            "\n",
            "Number of matches 14196\n",
            "Number of matches After Lowe's Ratio 40\n",
            "Number of Robust matches 19\n",
            "\n",
            "\n",
            "Number of matches After Lowe's Ratio New 754\n",
            "Number of Robust matches New 112\n",
            "\n",
            "\n"
          ],
          "name": "stdout"
        },
        {
          "output_type": "stream",
          "text": [
            "\r 93%|█████████▎| 57/61 [01:57<00:06,  1.73s/it]"
          ],
          "name": "stderr"
        },
        {
          "output_type": "stream",
          "text": [
            "\n",
            "Number of matches 13390\n",
            "Number of matches After Lowe's Ratio 96\n",
            "Number of Robust matches 43\n",
            "\n",
            "\n"
          ],
          "name": "stdout"
        },
        {
          "output_type": "stream",
          "text": [
            "\r 95%|█████████▌| 58/61 [01:58<00:04,  1.50s/it]"
          ],
          "name": "stderr"
        },
        {
          "output_type": "stream",
          "text": [
            "\n",
            "Number of matches 11666\n",
            "Number of matches After Lowe's Ratio 75\n",
            "Number of Robust matches 36\n",
            "\n",
            "\n"
          ],
          "name": "stdout"
        },
        {
          "output_type": "stream",
          "text": [
            "\r 97%|█████████▋| 59/61 [01:59<00:02,  1.36s/it]"
          ],
          "name": "stderr"
        },
        {
          "output_type": "stream",
          "text": [
            "\n",
            "Number of matches 21704\n",
            "Number of matches After Lowe's Ratio 65\n",
            "Number of Robust matches 25\n",
            "\n",
            "\n"
          ],
          "name": "stdout"
        },
        {
          "output_type": "stream",
          "text": [
            "  0%|          | 0/60 [00:00<?, ?it/s]"
          ],
          "name": "stderr"
        },
        {
          "output_type": "stream",
          "text": [
            "\n",
            "Number of matches 31971\n",
            "Number of matches After Lowe's Ratio 49\n",
            "Number of Robust matches 21\n",
            "\n",
            "\n",
            "Number of matches After Lowe's Ratio New 1453\n",
            "Number of Robust matches New 10\n",
            "\n",
            "\n"
          ],
          "name": "stdout"
        },
        {
          "output_type": "stream",
          "text": [
            "\r  2%|▏         | 1/60 [00:01<01:45,  1.79s/it]"
          ],
          "name": "stderr"
        },
        {
          "output_type": "stream",
          "text": [
            "\n",
            "Number of matches 22399\n",
            "Number of matches After Lowe's Ratio 175\n",
            "Number of Robust matches 75\n",
            "\n",
            "\n"
          ],
          "name": "stdout"
        },
        {
          "output_type": "stream",
          "text": [
            "\r  3%|▎         | 2/60 [00:04<01:55,  1.99s/it]"
          ],
          "name": "stderr"
        },
        {
          "output_type": "stream",
          "text": [
            "\n",
            "Number of matches 29857\n",
            "Number of matches After Lowe's Ratio 98\n",
            "Number of Robust matches 46\n",
            "\n",
            "\n"
          ],
          "name": "stdout"
        },
        {
          "output_type": "stream",
          "text": [
            "\r  5%|▌         | 3/60 [00:07<02:09,  2.27s/it]"
          ],
          "name": "stderr"
        },
        {
          "output_type": "stream",
          "text": [
            "\n",
            "Number of matches 21217\n",
            "Number of matches After Lowe's Ratio 77\n",
            "Number of Robust matches 28\n",
            "\n",
            "\n"
          ],
          "name": "stdout"
        },
        {
          "output_type": "stream",
          "text": [
            "\r  7%|▋         | 4/60 [00:09<02:06,  2.26s/it]"
          ],
          "name": "stderr"
        },
        {
          "output_type": "stream",
          "text": [
            "\n",
            "Number of matches 20312\n",
            "Number of matches After Lowe's Ratio 131\n",
            "Number of Robust matches 60\n",
            "\n",
            "\n"
          ],
          "name": "stdout"
        },
        {
          "output_type": "stream",
          "text": [
            "\r  8%|▊         | 5/60 [00:11<02:00,  2.19s/it]"
          ],
          "name": "stderr"
        },
        {
          "output_type": "stream",
          "text": [
            "\n",
            "Number of matches 21241\n",
            "Number of matches After Lowe's Ratio 275\n",
            "Number of Robust matches 179\n",
            "\n",
            "\n"
          ],
          "name": "stdout"
        },
        {
          "output_type": "stream",
          "text": [
            "\r 10%|█         | 6/60 [00:13<01:57,  2.18s/it]"
          ],
          "name": "stderr"
        },
        {
          "output_type": "stream",
          "text": [
            "\n",
            "Number of matches 21766\n",
            "Number of matches After Lowe's Ratio 226\n",
            "Number of Robust matches 144\n",
            "\n",
            "\n"
          ],
          "name": "stdout"
        },
        {
          "output_type": "stream",
          "text": [
            "\r 12%|█▏        | 7/60 [00:15<01:54,  2.16s/it]"
          ],
          "name": "stderr"
        },
        {
          "output_type": "stream",
          "text": [
            "\n",
            "Number of matches 19541\n",
            "Number of matches After Lowe's Ratio 316\n",
            "Number of Robust matches 187\n",
            "\n",
            "\n"
          ],
          "name": "stdout"
        },
        {
          "output_type": "stream",
          "text": [
            "\r 13%|█▎        | 8/60 [00:17<01:46,  2.05s/it]"
          ],
          "name": "stderr"
        },
        {
          "output_type": "stream",
          "text": [
            "\n",
            "Number of matches 17089\n",
            "Number of matches After Lowe's Ratio 369\n",
            "Number of Robust matches 246\n",
            "\n",
            "\n"
          ],
          "name": "stdout"
        },
        {
          "output_type": "stream",
          "text": [
            "\r 15%|█▌        | 9/60 [00:19<01:38,  1.93s/it]"
          ],
          "name": "stderr"
        },
        {
          "output_type": "stream",
          "text": [
            "\n",
            "Number of matches 14324\n",
            "Number of matches After Lowe's Ratio 377\n",
            "Number of Robust matches 262\n",
            "\n",
            "\n"
          ],
          "name": "stdout"
        },
        {
          "output_type": "stream",
          "text": [
            "\r 17%|█▋        | 10/60 [00:20<01:24,  1.68s/it]"
          ],
          "name": "stderr"
        },
        {
          "output_type": "stream",
          "text": [
            "\n",
            "Number of matches 13186\n",
            "Number of matches After Lowe's Ratio 399\n",
            "Number of Robust matches 351\n",
            "\n",
            "\n"
          ],
          "name": "stdout"
        },
        {
          "output_type": "stream",
          "text": [
            "\r 18%|█▊        | 11/60 [00:21<01:13,  1.49s/it]"
          ],
          "name": "stderr"
        },
        {
          "output_type": "stream",
          "text": [
            "\n",
            "Number of matches 13812\n",
            "Number of matches After Lowe's Ratio 300\n",
            "Number of Robust matches 259\n",
            "\n",
            "\n"
          ],
          "name": "stdout"
        },
        {
          "output_type": "stream",
          "text": [
            "\r 20%|██        | 12/60 [00:22<01:06,  1.40s/it]"
          ],
          "name": "stderr"
        },
        {
          "output_type": "stream",
          "text": [
            "\n",
            "Number of matches 19075\n",
            "Number of matches After Lowe's Ratio 322\n",
            "Number of Robust matches 250\n",
            "\n",
            "\n"
          ],
          "name": "stdout"
        },
        {
          "output_type": "stream",
          "text": [
            "\r 22%|██▏       | 13/60 [00:24<01:11,  1.52s/it]"
          ],
          "name": "stderr"
        },
        {
          "output_type": "stream",
          "text": [
            "\n",
            "Number of matches 20693\n",
            "Number of matches After Lowe's Ratio 416\n",
            "Number of Robust matches 279\n",
            "\n",
            "\n"
          ],
          "name": "stdout"
        },
        {
          "output_type": "stream",
          "text": [
            "\r 23%|██▎       | 14/60 [00:26<01:19,  1.74s/it]"
          ],
          "name": "stderr"
        },
        {
          "output_type": "stream",
          "text": [
            "\n",
            "Number of matches 22154\n",
            "Number of matches After Lowe's Ratio 339\n",
            "Number of Robust matches 264\n",
            "\n",
            "\n"
          ],
          "name": "stdout"
        },
        {
          "output_type": "stream",
          "text": [
            "\r 25%|██▌       | 15/60 [00:28<01:24,  1.87s/it]"
          ],
          "name": "stderr"
        },
        {
          "output_type": "stream",
          "text": [
            "\n",
            "Number of matches 21697\n",
            "Number of matches After Lowe's Ratio 255\n",
            "Number of Robust matches 164\n",
            "\n",
            "\n"
          ],
          "name": "stdout"
        },
        {
          "output_type": "stream",
          "text": [
            "\r 27%|██▋       | 16/60 [00:30<01:24,  1.92s/it]"
          ],
          "name": "stderr"
        },
        {
          "output_type": "stream",
          "text": [
            "\n",
            "Number of matches 16998\n",
            "Number of matches After Lowe's Ratio 269\n",
            "Number of Robust matches 184\n",
            "\n",
            "\n"
          ],
          "name": "stdout"
        },
        {
          "output_type": "stream",
          "text": [
            "\r 28%|██▊       | 17/60 [00:32<01:17,  1.80s/it]"
          ],
          "name": "stderr"
        },
        {
          "output_type": "stream",
          "text": [
            "\n",
            "Number of matches 16850\n",
            "Number of matches After Lowe's Ratio 145\n",
            "Number of Robust matches 114\n",
            "\n",
            "\n"
          ],
          "name": "stdout"
        },
        {
          "output_type": "stream",
          "text": [
            "\r 30%|███       | 18/60 [00:33<01:13,  1.75s/it]"
          ],
          "name": "stderr"
        },
        {
          "output_type": "stream",
          "text": [
            "\n",
            "Number of matches 20815\n",
            "Number of matches After Lowe's Ratio 110\n",
            "Number of Robust matches 65\n",
            "\n",
            "\n"
          ],
          "name": "stdout"
        },
        {
          "output_type": "stream",
          "text": [
            "\r 32%|███▏      | 19/60 [00:35<01:13,  1.80s/it]"
          ],
          "name": "stderr"
        },
        {
          "output_type": "stream",
          "text": [
            "\n",
            "Number of matches 16022\n",
            "Number of matches After Lowe's Ratio 51\n",
            "Number of Robust matches 25\n",
            "\n",
            "\n"
          ],
          "name": "stdout"
        },
        {
          "output_type": "stream",
          "text": [
            "\r 33%|███▎      | 20/60 [00:37<01:07,  1.70s/it]"
          ],
          "name": "stderr"
        },
        {
          "output_type": "stream",
          "text": [
            "\n",
            "Number of matches 16171\n",
            "Number of matches After Lowe's Ratio 147\n",
            "Number of Robust matches 81\n",
            "\n",
            "\n"
          ],
          "name": "stdout"
        },
        {
          "output_type": "stream",
          "text": [
            "\r 35%|███▌      | 21/60 [00:38<01:02,  1.61s/it]"
          ],
          "name": "stderr"
        },
        {
          "output_type": "stream",
          "text": [
            "\n",
            "Number of matches 23990\n",
            "Number of matches After Lowe's Ratio 277\n",
            "Number of Robust matches 184\n",
            "\n",
            "\n"
          ],
          "name": "stdout"
        },
        {
          "output_type": "stream",
          "text": [
            "\r 37%|███▋      | 22/60 [00:41<01:09,  1.84s/it]"
          ],
          "name": "stderr"
        },
        {
          "output_type": "stream",
          "text": [
            "\n",
            "Number of matches 22221\n",
            "Number of matches After Lowe's Ratio 276\n",
            "Number of Robust matches 170\n",
            "\n",
            "\n"
          ],
          "name": "stdout"
        },
        {
          "output_type": "stream",
          "text": [
            "\r 38%|███▊      | 23/60 [00:43<01:11,  1.92s/it]"
          ],
          "name": "stderr"
        },
        {
          "output_type": "stream",
          "text": [
            "\n",
            "Number of matches 19111\n",
            "Number of matches After Lowe's Ratio 275\n",
            "Number of Robust matches 173\n",
            "\n",
            "\n"
          ],
          "name": "stdout"
        },
        {
          "output_type": "stream",
          "text": [
            "\r 40%|████      | 24/60 [00:45<01:09,  1.93s/it]"
          ],
          "name": "stderr"
        },
        {
          "output_type": "stream",
          "text": [
            "\n",
            "Number of matches 17279\n",
            "Number of matches After Lowe's Ratio 428\n",
            "Number of Robust matches 346\n",
            "\n",
            "\n"
          ],
          "name": "stdout"
        },
        {
          "output_type": "stream",
          "text": [
            "\r 42%|████▏     | 25/60 [00:46<01:02,  1.79s/it]"
          ],
          "name": "stderr"
        },
        {
          "output_type": "stream",
          "text": [
            "\n",
            "Number of matches 12346\n",
            "Number of matches After Lowe's Ratio 538\n",
            "Number of Robust matches 431\n",
            "\n",
            "\n"
          ],
          "name": "stdout"
        },
        {
          "output_type": "stream",
          "text": [
            "\r 43%|████▎     | 26/60 [00:47<00:51,  1.50s/it]"
          ],
          "name": "stderr"
        },
        {
          "output_type": "stream",
          "text": [
            "\n",
            "Number of matches 5516\n",
            "Number of matches After Lowe's Ratio 265\n",
            "Number of Robust matches 221\n",
            "\n",
            "\n"
          ],
          "name": "stdout"
        },
        {
          "output_type": "stream",
          "text": [
            "\r 45%|████▌     | 27/60 [00:47<00:38,  1.18s/it]"
          ],
          "name": "stderr"
        },
        {
          "output_type": "stream",
          "text": [
            "\n",
            "Number of matches 9488\n",
            "Number of matches After Lowe's Ratio 166\n",
            "Number of Robust matches 153\n",
            "\n",
            "\n"
          ],
          "name": "stdout"
        },
        {
          "output_type": "stream",
          "text": [
            "\r 47%|████▋     | 28/60 [00:48<00:34,  1.07s/it]"
          ],
          "name": "stderr"
        },
        {
          "output_type": "stream",
          "text": [
            "\n",
            "Number of matches 20285\n",
            "Number of matches After Lowe's Ratio 427\n",
            "Number of Robust matches 373\n",
            "\n",
            "\n"
          ],
          "name": "stdout"
        },
        {
          "output_type": "stream",
          "text": [
            "\r 48%|████▊     | 29/60 [00:50<00:42,  1.37s/it]"
          ],
          "name": "stderr"
        },
        {
          "output_type": "stream",
          "text": [
            "\n",
            "Number of matches 24849\n",
            "Number of matches After Lowe's Ratio 429\n",
            "Number of Robust matches 350\n",
            "\n",
            "\n"
          ],
          "name": "stdout"
        },
        {
          "output_type": "stream",
          "text": [
            "\r 50%|█████     | 30/60 [00:53<00:53,  1.77s/it]"
          ],
          "name": "stderr"
        },
        {
          "output_type": "stream",
          "text": [
            "\n",
            "Number of matches 23797\n",
            "Number of matches After Lowe's Ratio 341\n",
            "Number of Robust matches 189\n",
            "\n",
            "\n"
          ],
          "name": "stdout"
        },
        {
          "output_type": "stream",
          "text": [
            "\r 52%|█████▏    | 31/60 [00:55<00:57,  1.98s/it]"
          ],
          "name": "stderr"
        },
        {
          "output_type": "stream",
          "text": [
            "\n",
            "Number of matches 23889\n",
            "Number of matches After Lowe's Ratio 310\n",
            "Number of Robust matches 189\n",
            "\n",
            "\n"
          ],
          "name": "stdout"
        },
        {
          "output_type": "stream",
          "text": [
            "\r 53%|█████▎    | 32/60 [00:58<00:57,  2.05s/it]"
          ],
          "name": "stderr"
        },
        {
          "output_type": "stream",
          "text": [
            "\n",
            "Number of matches 17306\n",
            "Number of matches After Lowe's Ratio 242\n",
            "Number of Robust matches 159\n",
            "\n",
            "\n"
          ],
          "name": "stdout"
        },
        {
          "output_type": "stream",
          "text": [
            "\r 55%|█████▌    | 33/60 [00:59<00:50,  1.86s/it]"
          ],
          "name": "stderr"
        },
        {
          "output_type": "stream",
          "text": [
            "\n",
            "Number of matches 12730\n",
            "Number of matches After Lowe's Ratio 157\n",
            "Number of Robust matches 120\n",
            "\n",
            "\n"
          ],
          "name": "stdout"
        },
        {
          "output_type": "stream",
          "text": [
            "\r 57%|█████▋    | 34/60 [01:00<00:43,  1.65s/it]"
          ],
          "name": "stderr"
        },
        {
          "output_type": "stream",
          "text": [
            "\n",
            "Number of matches 22641\n",
            "Number of matches After Lowe's Ratio 83\n",
            "Number of Robust matches 48\n",
            "\n",
            "\n"
          ],
          "name": "stdout"
        },
        {
          "output_type": "stream",
          "text": [
            "\r 58%|█████▊    | 35/60 [01:03<00:46,  1.86s/it]"
          ],
          "name": "stderr"
        },
        {
          "output_type": "stream",
          "text": [
            "\n",
            "Number of matches 17934\n",
            "Number of matches After Lowe's Ratio 55\n",
            "Number of Robust matches 32\n",
            "\n",
            "\n"
          ],
          "name": "stdout"
        },
        {
          "output_type": "stream",
          "text": [
            "\r 60%|██████    | 36/60 [01:04<00:43,  1.80s/it]"
          ],
          "name": "stderr"
        },
        {
          "output_type": "stream",
          "text": [
            "\n",
            "Number of matches 17502\n",
            "Number of matches After Lowe's Ratio 128\n",
            "Number of Robust matches 79\n",
            "\n",
            "\n"
          ],
          "name": "stdout"
        },
        {
          "output_type": "stream",
          "text": [
            "\r 62%|██████▏   | 37/60 [01:06<00:40,  1.78s/it]"
          ],
          "name": "stderr"
        },
        {
          "output_type": "stream",
          "text": [
            "\n",
            "Number of matches 22261\n",
            "Number of matches After Lowe's Ratio 229\n",
            "Number of Robust matches 150\n",
            "\n",
            "\n"
          ],
          "name": "stdout"
        },
        {
          "output_type": "stream",
          "text": [
            "\r 63%|██████▎   | 38/60 [01:08<00:42,  1.93s/it]"
          ],
          "name": "stderr"
        },
        {
          "output_type": "stream",
          "text": [
            "\n",
            "Number of matches 24499\n",
            "Number of matches After Lowe's Ratio 250\n",
            "Number of Robust matches 136\n",
            "\n",
            "\n"
          ],
          "name": "stdout"
        },
        {
          "output_type": "stream",
          "text": [
            "\r 65%|██████▌   | 39/60 [01:11<00:43,  2.08s/it]"
          ],
          "name": "stderr"
        },
        {
          "output_type": "stream",
          "text": [
            "\n",
            "Number of matches 22229\n",
            "Number of matches After Lowe's Ratio 352\n",
            "Number of Robust matches 221\n",
            "\n",
            "\n"
          ],
          "name": "stdout"
        },
        {
          "output_type": "stream",
          "text": [
            "\r 67%|██████▋   | 40/60 [01:13<00:43,  2.16s/it]"
          ],
          "name": "stderr"
        },
        {
          "output_type": "stream",
          "text": [
            "\n",
            "Number of matches 20821\n",
            "Number of matches After Lowe's Ratio 512\n",
            "Number of Robust matches 470\n",
            "\n",
            "\n"
          ],
          "name": "stdout"
        },
        {
          "output_type": "stream",
          "text": [
            "\r 68%|██████▊   | 41/60 [01:15<00:39,  2.07s/it]"
          ],
          "name": "stderr"
        },
        {
          "output_type": "stream",
          "text": [
            "\n",
            "Number of matches 14348\n",
            "Number of matches After Lowe's Ratio 382\n",
            "Number of Robust matches 328\n",
            "\n",
            "\n"
          ],
          "name": "stdout"
        },
        {
          "output_type": "stream",
          "text": [
            " 72%|███████▏  | 43/60 [01:16<00:21,  1.24s/it]"
          ],
          "name": "stderr"
        },
        {
          "output_type": "stream",
          "text": [
            "\n",
            "Number of matches 674\n",
            "Number of matches After Lowe's Ratio 37\n",
            "Number of Robust matches 36\n",
            "\n",
            "\n",
            "\n",
            "Number of matches 11017\n",
            "Number of matches After Lowe's Ratio 57\n",
            "Number of Robust matches 40\n",
            "\n",
            "\n"
          ],
          "name": "stdout"
        },
        {
          "output_type": "stream",
          "text": [
            "\r 73%|███████▎  | 44/60 [01:17<00:18,  1.16s/it]"
          ],
          "name": "stderr"
        },
        {
          "output_type": "stream",
          "text": [
            "\n",
            "Number of matches 21569\n",
            "Number of matches After Lowe's Ratio 308\n",
            "Number of Robust matches 234\n",
            "\n",
            "\n"
          ],
          "name": "stdout"
        },
        {
          "output_type": "stream",
          "text": [
            "\r 75%|███████▌  | 45/60 [01:19<00:22,  1.48s/it]"
          ],
          "name": "stderr"
        },
        {
          "output_type": "stream",
          "text": [
            "\n",
            "Number of matches 25829\n",
            "Number of matches After Lowe's Ratio 425\n",
            "Number of Robust matches 334\n",
            "\n",
            "\n"
          ],
          "name": "stdout"
        },
        {
          "output_type": "stream",
          "text": [
            "\r 77%|███████▋  | 46/60 [01:22<00:26,  1.87s/it]"
          ],
          "name": "stderr"
        },
        {
          "output_type": "stream",
          "text": [
            "\n",
            "Number of matches 23020\n",
            "Number of matches After Lowe's Ratio 261\n",
            "Number of Robust matches 189\n",
            "\n",
            "\n"
          ],
          "name": "stdout"
        },
        {
          "output_type": "stream",
          "text": [
            "\r 78%|███████▊  | 47/60 [01:24<00:25,  1.98s/it]"
          ],
          "name": "stderr"
        },
        {
          "output_type": "stream",
          "text": [
            "\n",
            "Number of matches 20141\n",
            "Number of matches After Lowe's Ratio 225\n",
            "Number of Robust matches 116\n",
            "\n",
            "\n"
          ],
          "name": "stdout"
        },
        {
          "output_type": "stream",
          "text": [
            "\r 80%|████████  | 48/60 [01:26<00:23,  1.95s/it]"
          ],
          "name": "stderr"
        },
        {
          "output_type": "stream",
          "text": [
            "\n",
            "Number of matches 16230\n",
            "Number of matches After Lowe's Ratio 167\n",
            "Number of Robust matches 100\n",
            "\n",
            "\n"
          ],
          "name": "stdout"
        },
        {
          "output_type": "stream",
          "text": [
            "\r 82%|████████▏ | 49/60 [01:27<00:19,  1.75s/it]"
          ],
          "name": "stderr"
        },
        {
          "output_type": "stream",
          "text": [
            "\n",
            "Number of matches 10930\n",
            "Number of matches After Lowe's Ratio 77\n",
            "Number of Robust matches 56\n",
            "\n",
            "\n"
          ],
          "name": "stdout"
        },
        {
          "output_type": "stream",
          "text": [
            "\r 83%|████████▎ | 50/60 [01:28<00:15,  1.51s/it]"
          ],
          "name": "stderr"
        },
        {
          "output_type": "stream",
          "text": [
            "\n",
            "Number of matches 18819\n",
            "Number of matches After Lowe's Ratio 110\n",
            "Number of Robust matches 63\n",
            "\n",
            "\n"
          ],
          "name": "stdout"
        },
        {
          "output_type": "stream",
          "text": [
            "\r 85%|████████▌ | 51/60 [01:30<00:13,  1.52s/it]"
          ],
          "name": "stderr"
        },
        {
          "output_type": "stream",
          "text": [
            "\n",
            "Number of matches 10606\n",
            "Number of matches After Lowe's Ratio 75\n",
            "Number of Robust matches 35\n",
            "\n",
            "\n"
          ],
          "name": "stdout"
        },
        {
          "output_type": "stream",
          "text": [
            "\r 87%|████████▋ | 52/60 [01:31<00:11,  1.40s/it]"
          ],
          "name": "stderr"
        },
        {
          "output_type": "stream",
          "text": [
            "\n",
            "Number of matches 16877\n",
            "Number of matches After Lowe's Ratio 57\n",
            "Number of Robust matches 22\n",
            "\n",
            "\n",
            "Number of matches After Lowe's Ratio New 960\n",
            "Number of Robust matches New 15\n",
            "\n",
            "\n"
          ],
          "name": "stdout"
        },
        {
          "output_type": "stream",
          "text": [
            "\r 88%|████████▊ | 53/60 [01:32<00:10,  1.46s/it]"
          ],
          "name": "stderr"
        },
        {
          "output_type": "stream",
          "text": [
            "\n",
            "Number of matches 20121\n",
            "Number of matches After Lowe's Ratio 163\n",
            "Number of Robust matches 64\n",
            "\n",
            "\n"
          ],
          "name": "stdout"
        },
        {
          "output_type": "stream",
          "text": [
            "\r 90%|█████████ | 54/60 [01:34<00:09,  1.63s/it]"
          ],
          "name": "stderr"
        },
        {
          "output_type": "stream",
          "text": [
            "\n",
            "Number of matches 22387\n",
            "Number of matches After Lowe's Ratio 275\n",
            "Number of Robust matches 152\n",
            "\n",
            "\n"
          ],
          "name": "stdout"
        },
        {
          "output_type": "stream",
          "text": [
            "\r 92%|█████████▏| 55/60 [01:37<00:09,  1.80s/it]"
          ],
          "name": "stderr"
        },
        {
          "output_type": "stream",
          "text": [
            "\n",
            "Number of matches 21129\n",
            "Number of matches After Lowe's Ratio 251\n",
            "Number of Robust matches 161\n",
            "\n",
            "\n"
          ],
          "name": "stdout"
        },
        {
          "output_type": "stream",
          "text": [
            "\r 93%|█████████▎| 56/60 [01:39<00:07,  1.92s/it]"
          ],
          "name": "stderr"
        },
        {
          "output_type": "stream",
          "text": [
            "\n",
            "Number of matches 18904\n",
            "Number of matches After Lowe's Ratio 399\n",
            "Number of Robust matches 333\n",
            "\n",
            "\n"
          ],
          "name": "stdout"
        },
        {
          "output_type": "stream",
          "text": [
            "\r 95%|█████████▌| 57/60 [01:40<00:05,  1.82s/it]"
          ],
          "name": "stderr"
        },
        {
          "output_type": "stream",
          "text": [
            "\n",
            "Number of matches 13534\n",
            "Number of matches After Lowe's Ratio 406\n",
            "Number of Robust matches 389\n",
            "\n",
            "\n"
          ],
          "name": "stdout"
        },
        {
          "output_type": "stream",
          "text": [
            "\r 97%|█████████▋| 58/60 [01:41<00:03,  1.54s/it]"
          ],
          "name": "stderr"
        },
        {
          "output_type": "stream",
          "text": [
            "\n",
            "Number of matches 5417\n",
            "Number of matches After Lowe's Ratio 304\n",
            "Number of Robust matches 301\n",
            "\n",
            "\n"
          ],
          "name": "stdout"
        },
        {
          "output_type": "stream",
          "text": [
            "\r 98%|█████████▊| 59/60 [01:42<00:01,  1.20s/it]"
          ],
          "name": "stderr"
        },
        {
          "output_type": "stream",
          "text": [
            "\n",
            "Number of matches 9617\n",
            "Number of matches After Lowe's Ratio 151\n",
            "Number of Robust matches 122\n",
            "\n",
            "\n"
          ],
          "name": "stdout"
        }
      ]
    },
    {
      "cell_type": "code",
      "metadata": {
        "colab": {
          "base_uri": "https://localhost:8080/"
        },
        "id": "QWtrnneyMmwE",
        "outputId": "eb969632-2631-4705-e0df-2cabaa7e25cf"
      },
      "source": [
        "import h5py as h5\n",
        "f=h5.File('drive/MyDrive/H_left_freak_40.h5','w')\n",
        "t0=time.time()\n",
        "f.create_dataset('data',data=H_left_freak)\n",
        "f.close()\n",
        "print('HDF5  w/o comp.:',time.time()-t0,'[s] ... size',os.path.getsize('drive/MyDrive/H_left_freak_40.h5')/1.e6,'MB')"
      ],
      "execution_count": 50,
      "outputs": [
        {
          "output_type": "stream",
          "text": [
            "HDF5  w/o comp.: 0.0067174434661865234 [s] ... size 0.006368 MB\n"
          ],
          "name": "stdout"
        }
      ]
    },
    {
      "cell_type": "code",
      "metadata": {
        "colab": {
          "base_uri": "https://localhost:8080/"
        },
        "id": "cGRvI_mjMmqY",
        "outputId": "a504c06e-2458-4403-cee0-f1cb47d220a9"
      },
      "source": [
        "import h5py as h5\n",
        "f=h5.File('drive/MyDrive/H_right_freak_40.h5','w')\n",
        "t0=time.time()\n",
        "f.create_dataset('data',data=H_right_freak)\n",
        "f.close()\n",
        "print('HDF5  w/o comp.:',time.time()-t0,'[s] ... size',os.path.getsize('drive/MyDrive/H_right_freak_40.h5')/1.e6,'MB')"
      ],
      "execution_count": 51,
      "outputs": [
        {
          "output_type": "stream",
          "text": [
            "HDF5  w/o comp.: 0.005597591400146484 [s] ... size 0.006296 MB\n"
          ],
          "name": "stdout"
        }
      ]
    },
    {
      "cell_type": "code",
      "metadata": {
        "id": "iM9RneyGMml4"
      },
      "source": [
        "del H_left_freak, H_right_freak,keypoints_all_left_freak, keypoints_all_right_freak, descriptors_all_left_freak, descriptors_all_right_freak, points_all_left_freak, points_all_right_freak"
      ],
      "execution_count": 52,
      "outputs": []
    },
    {
      "cell_type": "code",
      "metadata": {
        "id": "9XtCEAI_MmhW"
      },
      "source": [
        ""
      ],
      "execution_count": null,
      "outputs": []
    },
    {
      "cell_type": "code",
      "metadata": {
        "id": "JSA_55TFMmaa"
      },
      "source": [
        "'''\n",
        "import pickle\n",
        "Fdb = open('all_feat_surf_left.dat', 'rb')\n",
        "kpts_all = pickle.load(Fdb)\n",
        "Fdb.close()\n",
        "\n",
        "keypoints_all_left_surf = []\n",
        "descriptors_all_left_surf = []\n",
        "\n",
        "for j,kpt_each in enumerate(kpts_all):\n",
        "  keypoints_each = []\n",
        "  descrip_each = []\n",
        "  for k,kpt_img in enumerate(kpt_each):\n",
        "    temp_feature = cv2.KeyPoint(x=kpt_img[0][0],y=kpt_img[0][1],_size=kpt_img[1], _angle=kpt_img[2], \n",
        "                            _response=kpt_img[3], _octave=kpt_img[4], _class_id=kpt_img[5]) \n",
        "    temp_descriptor = kpt_img[6]\n",
        "    keypoints_each.append(temp_feature)\n",
        "    descrip_each.append(temp_descriptor)\n",
        "  points_all_left_surf.append(np.asarray([[p.pt[0], p.pt[1]] for p in keypoints_each]))\n",
        "  keypoints_all_left_surf.append(keypoints_each)\n",
        "  descriptors_all_left_surf.append(descrip_each)"
      ],
      "execution_count": null,
      "outputs": []
    },
    {
      "cell_type": "code",
      "metadata": {
        "id": "FPc9Ec71M1bH"
      },
      "source": [
        "'''\n",
        "import pickle\n",
        "Fdb = open('all_feat_surf_right.dat', 'rb')\n",
        "kpts_all = pickle.load(Fdb)\n",
        "Fdb.close()\n",
        "\n",
        "keypoints_all_right_surf = []\n",
        "descriptors_all_right_surf = []\n",
        "\n",
        "for j,kpt_each in enumerate(kpts_all):\n",
        "  keypoints_each = []\n",
        "  descrip_each = []\n",
        "  for k,kpt_img in enumerate(kpt_each):\n",
        "    temp_feature = cv2.KeyPoint(x=kpt_img[0][0],y=kpt_img[0][1],_size=kpt_img[1], _angle=kpt_img[2], \n",
        "                            _response=kpt_img[3], _octave=kpt_img[4], _class_id=kpt_img[5]) \n",
        "    temp_descriptor = kpt_img[6]\n",
        "    keypoints_each.append(temp_feature)\n",
        "    descrip_each.append(temp_descriptor)\n",
        "  points_all_right_surf.append(np.asarray([[p.pt[0], p.pt[1]] for p in keypoints_each]))\n",
        "  keypoints_all_right_surf.append(keypoints_each)\n",
        "  descriptors_all_right_surf.append(descrip_each)"
      ],
      "execution_count": null,
      "outputs": []
    },
    {
      "cell_type": "code",
      "metadata": {
        "id": "fL8Xcg9kM1V6",
        "colab": {
          "base_uri": "https://localhost:8080/"
        },
        "outputId": "db5eec50-3ebf-4fce-ea48-669be4f1ec47"
      },
      "source": [
        "\n",
        "H_left_surf = []\n",
        "H_right_surf = []\n",
        "\n",
        "num_matches_surf = []\n",
        "num_good_matches_surf = []\n",
        "\n",
        "for j in tqdm(range(len(left_files_path))):\n",
        "  if j==len(left_files_path)-1:\n",
        "    break\n",
        "\n",
        "  H_a,matches,gd_matches = get_Hmatrix(images_left_bgr[j:j+2][::-1],keypoints_all_left_surf[j:j+2][::-1],points_all_left_surf[j:j+2][::-1],descriptors_all_left_surf[j:j+2][::-1],0.65)\n",
        "  H_left_surf.append(H_a)\n",
        "  num_matches_surf.append(matches)\n",
        "  num_good_matches_surf.append(gd_matches)\n",
        "\n",
        "for j in tqdm(range(len(right_files_path))):\n",
        "  if j==len(right_files_path)-1:\n",
        "    break\n",
        "\n",
        "  H_a,matches,gd_matches = get_Hmatrix(images_right_bgr[j:j+2][::-1],keypoints_all_right_surf[j:j+2][::-1],points_all_right_surf[j:j+2][::-1],descriptors_all_right_surf[j:j+2][::-1],0.65)\n",
        "  H_right_surf.append(H_a)\n",
        "  num_matches_surf.append(matches)\n",
        "  num_good_matches_surf.append(gd_matches)"
      ],
      "execution_count": 53,
      "outputs": [
        {
          "output_type": "stream",
          "text": [
            "  2%|▏         | 1/61 [00:03<03:26,  3.45s/it]"
          ],
          "name": "stderr"
        },
        {
          "output_type": "stream",
          "text": [
            "\n",
            "Number of matches 28654\n",
            "Number of matches After Lowe's Ratio 1712\n",
            "Number of Robust matches 864\n",
            "\n",
            "\n"
          ],
          "name": "stdout"
        },
        {
          "output_type": "stream",
          "text": [
            "\r  3%|▎         | 2/61 [00:06<03:17,  3.34s/it]"
          ],
          "name": "stderr"
        },
        {
          "output_type": "stream",
          "text": [
            "\n",
            "Number of matches 29062\n",
            "Number of matches After Lowe's Ratio 2169\n",
            "Number of Robust matches 1053\n",
            "\n",
            "\n"
          ],
          "name": "stdout"
        },
        {
          "output_type": "stream",
          "text": [
            "\r  5%|▍         | 3/61 [00:09<03:11,  3.30s/it]"
          ],
          "name": "stderr"
        },
        {
          "output_type": "stream",
          "text": [
            "\n",
            "Number of matches 27060\n",
            "Number of matches After Lowe's Ratio 1573\n",
            "Number of Robust matches 796\n",
            "\n",
            "\n"
          ],
          "name": "stdout"
        },
        {
          "output_type": "stream",
          "text": [
            "\r  7%|▋         | 4/61 [00:12<03:01,  3.18s/it]"
          ],
          "name": "stderr"
        },
        {
          "output_type": "stream",
          "text": [
            "\n",
            "Number of matches 28671\n",
            "Number of matches After Lowe's Ratio 1158\n",
            "Number of Robust matches 666\n",
            "\n",
            "\n"
          ],
          "name": "stdout"
        },
        {
          "output_type": "stream",
          "text": [
            "\r  8%|▊         | 5/61 [00:15<02:57,  3.17s/it]"
          ],
          "name": "stderr"
        },
        {
          "output_type": "stream",
          "text": [
            "\n",
            "Number of matches 28151\n",
            "Number of matches After Lowe's Ratio 114\n",
            "Number of Robust matches 65\n",
            "\n",
            "\n"
          ],
          "name": "stdout"
        },
        {
          "output_type": "stream",
          "text": [
            "\r 10%|▉         | 6/61 [00:19<03:01,  3.29s/it]"
          ],
          "name": "stderr"
        },
        {
          "output_type": "stream",
          "text": [
            "\n",
            "Number of matches 32145\n",
            "Number of matches After Lowe's Ratio 34\n",
            "Number of Robust matches 6\n",
            "\n",
            "\n",
            "Number of matches After Lowe's Ratio New 2582\n",
            "Number of Robust matches New 15\n",
            "\n",
            "\n"
          ],
          "name": "stdout"
        },
        {
          "output_type": "stream",
          "text": [
            "\r 11%|█▏        | 7/61 [00:22<03:01,  3.37s/it]"
          ],
          "name": "stderr"
        },
        {
          "output_type": "stream",
          "text": [
            "\n",
            "Number of matches 30143\n",
            "Number of matches After Lowe's Ratio 2020\n",
            "Number of Robust matches 1411\n",
            "\n",
            "\n"
          ],
          "name": "stdout"
        },
        {
          "output_type": "stream",
          "text": [
            "\r 13%|█▎        | 8/61 [00:26<02:55,  3.31s/it]"
          ],
          "name": "stderr"
        },
        {
          "output_type": "stream",
          "text": [
            "\n",
            "Number of matches 28669\n",
            "Number of matches After Lowe's Ratio 2095\n",
            "Number of Robust matches 1475\n",
            "\n",
            "\n"
          ],
          "name": "stdout"
        },
        {
          "output_type": "stream",
          "text": [
            "\r 15%|█▍        | 9/61 [00:29<02:51,  3.30s/it]"
          ],
          "name": "stderr"
        },
        {
          "output_type": "stream",
          "text": [
            "\n",
            "Number of matches 29764\n",
            "Number of matches After Lowe's Ratio 2473\n",
            "Number of Robust matches 1696\n",
            "\n",
            "\n"
          ],
          "name": "stdout"
        },
        {
          "output_type": "stream",
          "text": [
            "\r 16%|█▋        | 10/61 [00:32<02:47,  3.28s/it]"
          ],
          "name": "stderr"
        },
        {
          "output_type": "stream",
          "text": [
            "\n",
            "Number of matches 28556\n",
            "Number of matches After Lowe's Ratio 2135\n",
            "Number of Robust matches 1217\n",
            "\n",
            "\n"
          ],
          "name": "stdout"
        },
        {
          "output_type": "stream",
          "text": [
            "\r 18%|█▊        | 11/61 [00:35<02:40,  3.21s/it]"
          ],
          "name": "stderr"
        },
        {
          "output_type": "stream",
          "text": [
            "\n",
            "Number of matches 28750\n",
            "Number of matches After Lowe's Ratio 417\n",
            "Number of Robust matches 155\n",
            "\n",
            "\n"
          ],
          "name": "stdout"
        },
        {
          "output_type": "stream",
          "text": [
            "\r 20%|█▉        | 12/61 [00:39<02:41,  3.30s/it]"
          ],
          "name": "stderr"
        },
        {
          "output_type": "stream",
          "text": [
            "\n",
            "Number of matches 34113\n",
            "Number of matches After Lowe's Ratio 406\n",
            "Number of Robust matches 129\n",
            "\n",
            "\n"
          ],
          "name": "stdout"
        },
        {
          "output_type": "stream",
          "text": [
            "\r 21%|██▏       | 13/61 [00:43<02:55,  3.65s/it]"
          ],
          "name": "stderr"
        },
        {
          "output_type": "stream",
          "text": [
            "\n",
            "Number of matches 37850\n",
            "Number of matches After Lowe's Ratio 76\n",
            "Number of Robust matches 16\n",
            "\n",
            "\n",
            "Number of matches After Lowe's Ratio New 3336\n",
            "Number of Robust matches New 57\n",
            "\n",
            "\n"
          ],
          "name": "stdout"
        },
        {
          "output_type": "stream",
          "text": [
            "\r 23%|██▎       | 14/61 [00:48<03:11,  4.07s/it]"
          ],
          "name": "stderr"
        },
        {
          "output_type": "stream",
          "text": [
            "\n",
            "Number of matches 38492\n",
            "Number of matches After Lowe's Ratio 15\n",
            "Number of Robust matches 5\n",
            "\n",
            "\n",
            "Number of matches After Lowe's Ratio New 2421\n",
            "Number of Robust matches New 11\n",
            "\n",
            "\n"
          ],
          "name": "stdout"
        },
        {
          "output_type": "stream",
          "text": [
            "\r 25%|██▍       | 15/61 [00:53<03:11,  4.16s/it]"
          ],
          "name": "stderr"
        },
        {
          "output_type": "stream",
          "text": [
            "\n",
            "Number of matches 34793\n",
            "Number of matches After Lowe's Ratio 697\n",
            "Number of Robust matches 506\n",
            "\n",
            "\n"
          ],
          "name": "stdout"
        },
        {
          "output_type": "stream",
          "text": [
            "\r 26%|██▌       | 16/61 [00:56<03:04,  4.09s/it]"
          ],
          "name": "stderr"
        },
        {
          "output_type": "stream",
          "text": [
            "\n",
            "Number of matches 32947\n",
            "Number of matches After Lowe's Ratio 213\n",
            "Number of Robust matches 66\n",
            "\n",
            "\n"
          ],
          "name": "stdout"
        },
        {
          "output_type": "stream",
          "text": [
            "\r 28%|██▊       | 17/61 [01:00<02:56,  4.01s/it]"
          ],
          "name": "stderr"
        },
        {
          "output_type": "stream",
          "text": [
            "\n",
            "Number of matches 31182\n",
            "Number of matches After Lowe's Ratio 77\n",
            "Number of Robust matches 22\n",
            "\n",
            "\n",
            "Number of matches After Lowe's Ratio New 2512\n",
            "Number of Robust matches New 44\n",
            "\n",
            "\n"
          ],
          "name": "stdout"
        },
        {
          "output_type": "stream",
          "text": [
            "\r 30%|██▉       | 18/61 [01:04<02:43,  3.81s/it]"
          ],
          "name": "stderr"
        },
        {
          "output_type": "stream",
          "text": [
            "\n",
            "Number of matches 27202\n",
            "Number of matches After Lowe's Ratio 79\n",
            "Number of Robust matches 18\n",
            "\n",
            "\n",
            "Number of matches After Lowe's Ratio New 2503\n",
            "Number of Robust matches New 23\n",
            "\n",
            "\n"
          ],
          "name": "stdout"
        },
        {
          "output_type": "stream",
          "text": [
            "\r 31%|███       | 19/61 [01:07<02:30,  3.59s/it]"
          ],
          "name": "stderr"
        },
        {
          "output_type": "stream",
          "text": [
            "\n",
            "Number of matches 30230\n",
            "Number of matches After Lowe's Ratio 76\n",
            "Number of Robust matches 13\n",
            "\n",
            "\n",
            "Number of matches After Lowe's Ratio New 2828\n",
            "Number of Robust matches New 51\n",
            "\n",
            "\n"
          ],
          "name": "stdout"
        },
        {
          "output_type": "stream",
          "text": [
            "\r 33%|███▎      | 20/61 [01:10<02:26,  3.57s/it]"
          ],
          "name": "stderr"
        },
        {
          "output_type": "stream",
          "text": [
            "\n",
            "Number of matches 28742\n",
            "Number of matches After Lowe's Ratio 41\n",
            "Number of Robust matches 6\n",
            "\n",
            "\n",
            "Number of matches After Lowe's Ratio New 2532\n",
            "Number of Robust matches New 12\n",
            "\n",
            "\n"
          ],
          "name": "stdout"
        },
        {
          "output_type": "stream",
          "text": [
            "\r 34%|███▍      | 21/61 [01:14<02:21,  3.53s/it]"
          ],
          "name": "stderr"
        },
        {
          "output_type": "stream",
          "text": [
            "\n",
            "Number of matches 32113\n",
            "Number of matches After Lowe's Ratio 48\n",
            "Number of Robust matches 10\n",
            "\n",
            "\n",
            "Number of matches After Lowe's Ratio New 2605\n",
            "Number of Robust matches New 17\n",
            "\n",
            "\n"
          ],
          "name": "stdout"
        },
        {
          "output_type": "stream",
          "text": [
            "\r 36%|███▌      | 22/61 [01:18<02:23,  3.69s/it]"
          ],
          "name": "stderr"
        },
        {
          "output_type": "stream",
          "text": [
            "\n",
            "Number of matches 36806\n",
            "Number of matches After Lowe's Ratio 41\n",
            "Number of Robust matches 13\n",
            "\n",
            "\n",
            "Number of matches After Lowe's Ratio New 2901\n",
            "Number of Robust matches New 21\n",
            "\n",
            "\n"
          ],
          "name": "stdout"
        },
        {
          "output_type": "stream",
          "text": [
            "\r 38%|███▊      | 23/61 [01:22<02:28,  3.92s/it]"
          ],
          "name": "stderr"
        },
        {
          "output_type": "stream",
          "text": [
            "\n",
            "Number of matches 33792\n",
            "Number of matches After Lowe's Ratio 33\n",
            "Number of Robust matches 8\n",
            "\n",
            "\n",
            "Number of matches After Lowe's Ratio New 2429\n",
            "Number of Robust matches New 20\n",
            "\n",
            "\n"
          ],
          "name": "stdout"
        },
        {
          "output_type": "stream",
          "text": [
            "\r 39%|███▉      | 24/61 [01:26<02:24,  3.92s/it]"
          ],
          "name": "stderr"
        },
        {
          "output_type": "stream",
          "text": [
            "\n",
            "Number of matches 30506\n",
            "Number of matches After Lowe's Ratio 50\n",
            "Number of Robust matches 8\n",
            "\n",
            "\n",
            "Number of matches After Lowe's Ratio New 2450\n",
            "Number of Robust matches New 52\n",
            "\n",
            "\n"
          ],
          "name": "stdout"
        },
        {
          "output_type": "stream",
          "text": [
            "\r 41%|████      | 25/61 [01:29<02:14,  3.75s/it]"
          ],
          "name": "stderr"
        },
        {
          "output_type": "stream",
          "text": [
            "\n",
            "Number of matches 28546\n",
            "Number of matches After Lowe's Ratio 56\n",
            "Number of Robust matches 6\n",
            "\n",
            "\n",
            "Number of matches After Lowe's Ratio New 2584\n",
            "Number of Robust matches New 12\n",
            "\n",
            "\n"
          ],
          "name": "stdout"
        },
        {
          "output_type": "stream",
          "text": [
            "\r 43%|████▎     | 26/61 [01:33<02:07,  3.65s/it]"
          ],
          "name": "stderr"
        },
        {
          "output_type": "stream",
          "text": [
            "\n",
            "Number of matches 31657\n",
            "Number of matches After Lowe's Ratio 57\n",
            "Number of Robust matches 9\n",
            "\n",
            "\n",
            "Number of matches After Lowe's Ratio New 2669\n",
            "Number of Robust matches New 23\n",
            "\n",
            "\n"
          ],
          "name": "stdout"
        },
        {
          "output_type": "stream",
          "text": [
            "\r 44%|████▍     | 27/61 [01:36<02:02,  3.62s/it]"
          ],
          "name": "stderr"
        },
        {
          "output_type": "stream",
          "text": [
            "\n",
            "Number of matches 29205\n",
            "Number of matches After Lowe's Ratio 60\n",
            "Number of Robust matches 11\n",
            "\n",
            "\n",
            "Number of matches After Lowe's Ratio New 2832\n",
            "Number of Robust matches New 17\n",
            "\n",
            "\n"
          ],
          "name": "stdout"
        },
        {
          "output_type": "stream",
          "text": [
            "\r 46%|████▌     | 28/61 [01:40<01:59,  3.63s/it]"
          ],
          "name": "stderr"
        },
        {
          "output_type": "stream",
          "text": [
            "\n",
            "Number of matches 34093\n",
            "Number of matches After Lowe's Ratio 34\n",
            "Number of Robust matches 5\n",
            "\n",
            "\n",
            "Number of matches After Lowe's Ratio New 2737\n",
            "Number of Robust matches New 19\n",
            "\n",
            "\n"
          ],
          "name": "stdout"
        },
        {
          "output_type": "stream",
          "text": [
            "\r 48%|████▊     | 29/61 [01:45<02:04,  3.91s/it]"
          ],
          "name": "stderr"
        },
        {
          "output_type": "stream",
          "text": [
            "\n",
            "Number of matches 32531\n",
            "Number of matches After Lowe's Ratio 19\n",
            "Number of Robust matches 6\n",
            "\n",
            "\n",
            "Number of matches After Lowe's Ratio New 2176\n",
            "Number of Robust matches New 9\n",
            "\n",
            "\n"
          ],
          "name": "stdout"
        },
        {
          "output_type": "stream",
          "text": [
            "\r 49%|████▉     | 30/61 [01:49<02:01,  3.92s/it]"
          ],
          "name": "stderr"
        },
        {
          "output_type": "stream",
          "text": [
            "\n",
            "Number of matches 36299\n",
            "Number of matches After Lowe's Ratio 79\n",
            "Number of Robust matches 25\n",
            "\n",
            "\n"
          ],
          "name": "stdout"
        },
        {
          "output_type": "stream",
          "text": [
            "\r 51%|█████     | 31/61 [01:53<02:00,  4.03s/it]"
          ],
          "name": "stderr"
        },
        {
          "output_type": "stream",
          "text": [
            "\n",
            "Number of matches 32926\n",
            "Number of matches After Lowe's Ratio 175\n",
            "Number of Robust matches 57\n",
            "\n",
            "\n"
          ],
          "name": "stdout"
        },
        {
          "output_type": "stream",
          "text": [
            "\r 52%|█████▏    | 32/61 [01:57<01:54,  3.95s/it]"
          ],
          "name": "stderr"
        },
        {
          "output_type": "stream",
          "text": [
            "\n",
            "Number of matches 29222\n",
            "Number of matches After Lowe's Ratio 76\n",
            "Number of Robust matches 13\n",
            "\n",
            "\n",
            "Number of matches After Lowe's Ratio New 2614\n",
            "Number of Robust matches New 44\n",
            "\n",
            "\n"
          ],
          "name": "stdout"
        },
        {
          "output_type": "stream",
          "text": [
            "\r 54%|█████▍    | 33/61 [02:00<01:44,  3.72s/it]"
          ],
          "name": "stderr"
        },
        {
          "output_type": "stream",
          "text": [
            "\n",
            "Number of matches 31320\n",
            "Number of matches After Lowe's Ratio 159\n",
            "Number of Robust matches 44\n",
            "\n",
            "\n"
          ],
          "name": "stdout"
        },
        {
          "output_type": "stream",
          "text": [
            "\r 56%|█████▌    | 34/61 [02:03<01:39,  3.69s/it]"
          ],
          "name": "stderr"
        },
        {
          "output_type": "stream",
          "text": [
            "\n",
            "Number of matches 32070\n",
            "Number of matches After Lowe's Ratio 261\n",
            "Number of Robust matches 92\n",
            "\n",
            "\n"
          ],
          "name": "stdout"
        },
        {
          "output_type": "stream",
          "text": [
            "\r 57%|█████▋    | 35/61 [02:07<01:36,  3.70s/it]"
          ],
          "name": "stderr"
        },
        {
          "output_type": "stream",
          "text": [
            "\n",
            "Number of matches 33923\n",
            "Number of matches After Lowe's Ratio 379\n",
            "Number of Robust matches 181\n",
            "\n",
            "\n"
          ],
          "name": "stdout"
        },
        {
          "output_type": "stream",
          "text": [
            "\r 59%|█████▉    | 36/61 [02:11<01:36,  3.85s/it]"
          ],
          "name": "stderr"
        },
        {
          "output_type": "stream",
          "text": [
            "\n",
            "Number of matches 36693\n",
            "Number of matches After Lowe's Ratio 1074\n",
            "Number of Robust matches 661\n",
            "\n",
            "\n"
          ],
          "name": "stdout"
        },
        {
          "output_type": "stream",
          "text": [
            "\r 61%|██████    | 37/61 [02:16<01:40,  4.17s/it]"
          ],
          "name": "stderr"
        },
        {
          "output_type": "stream",
          "text": [
            "\n",
            "Number of matches 44209\n",
            "Number of matches After Lowe's Ratio 48\n",
            "Number of Robust matches 11\n",
            "\n",
            "\n",
            "Number of matches After Lowe's Ratio New 3154\n",
            "Number of Robust matches New 20\n",
            "\n",
            "\n"
          ],
          "name": "stdout"
        },
        {
          "output_type": "stream",
          "text": [
            "\r 62%|██████▏   | 38/61 [02:22<01:44,  4.55s/it]"
          ],
          "name": "stderr"
        },
        {
          "output_type": "stream",
          "text": [
            "\n",
            "Number of matches 41499\n",
            "Number of matches After Lowe's Ratio 165\n",
            "Number of Robust matches 93\n",
            "\n",
            "\n"
          ],
          "name": "stdout"
        },
        {
          "output_type": "stream",
          "text": [
            "\r 64%|██████▍   | 39/61 [02:27<01:45,  4.81s/it]"
          ],
          "name": "stderr"
        },
        {
          "output_type": "stream",
          "text": [
            "\n",
            "Number of matches 37920\n",
            "Number of matches After Lowe's Ratio 40\n",
            "Number of Robust matches 13\n",
            "\n",
            "\n",
            "Number of matches After Lowe's Ratio New 2657\n",
            "Number of Robust matches New 102\n",
            "\n",
            "\n"
          ],
          "name": "stdout"
        },
        {
          "output_type": "stream",
          "text": [
            "\r 66%|██████▌   | 40/61 [02:31<01:37,  4.64s/it]"
          ],
          "name": "stderr"
        },
        {
          "output_type": "stream",
          "text": [
            "\n",
            "Number of matches 33141\n",
            "Number of matches After Lowe's Ratio 946\n",
            "Number of Robust matches 619\n",
            "\n",
            "\n"
          ],
          "name": "stdout"
        },
        {
          "output_type": "stream",
          "text": [
            "\r 67%|██████▋   | 41/61 [02:35<01:26,  4.34s/it]"
          ],
          "name": "stderr"
        },
        {
          "output_type": "stream",
          "text": [
            "\n",
            "Number of matches 30012\n",
            "Number of matches After Lowe's Ratio 124\n",
            "Number of Robust matches 30\n",
            "\n",
            "\n"
          ],
          "name": "stdout"
        },
        {
          "output_type": "stream",
          "text": [
            "\r 69%|██████▉   | 42/61 [02:39<01:19,  4.17s/it]"
          ],
          "name": "stderr"
        },
        {
          "output_type": "stream",
          "text": [
            "\n",
            "Number of matches 35447\n",
            "Number of matches After Lowe's Ratio 66\n",
            "Number of Robust matches 9\n",
            "\n",
            "\n",
            "Number of matches After Lowe's Ratio New 2712\n",
            "Number of Robust matches New 34\n",
            "\n",
            "\n"
          ],
          "name": "stdout"
        },
        {
          "output_type": "stream",
          "text": [
            "\r 70%|███████   | 43/61 [02:43<01:13,  4.11s/it]"
          ],
          "name": "stderr"
        },
        {
          "output_type": "stream",
          "text": [
            "\n",
            "Number of matches 33457\n",
            "Number of matches After Lowe's Ratio 283\n",
            "Number of Robust matches 80\n",
            "\n",
            "\n"
          ],
          "name": "stdout"
        },
        {
          "output_type": "stream",
          "text": [
            "\r 72%|███████▏  | 44/61 [02:47<01:10,  4.16s/it]"
          ],
          "name": "stderr"
        },
        {
          "output_type": "stream",
          "text": [
            "\n",
            "Number of matches 35580\n",
            "Number of matches After Lowe's Ratio 62\n",
            "Number of Robust matches 18\n",
            "\n",
            "\n",
            "Number of matches After Lowe's Ratio New 2738\n",
            "Number of Robust matches New 25\n",
            "\n",
            "\n"
          ],
          "name": "stdout"
        },
        {
          "output_type": "stream",
          "text": [
            "\r 74%|███████▍  | 45/61 [02:52<01:10,  4.38s/it]"
          ],
          "name": "stderr"
        },
        {
          "output_type": "stream",
          "text": [
            "\n",
            "Number of matches 39033\n",
            "Number of matches After Lowe's Ratio 5\n",
            "Number of Robust matches 4\n",
            "\n",
            "\n",
            "Number of matches After Lowe's Ratio New 2419\n",
            "Number of Robust matches New 7\n",
            "\n",
            "\n"
          ],
          "name": "stdout"
        },
        {
          "output_type": "stream",
          "text": [
            "\r 75%|███████▌  | 46/61 [02:57<01:07,  4.52s/it]"
          ],
          "name": "stderr"
        },
        {
          "output_type": "stream",
          "text": [
            "\n",
            "Number of matches 38422\n",
            "Number of matches After Lowe's Ratio 29\n",
            "Number of Robust matches 10\n",
            "\n",
            "\n",
            "Number of matches After Lowe's Ratio New 2446\n",
            "Number of Robust matches New 23\n",
            "\n",
            "\n"
          ],
          "name": "stdout"
        },
        {
          "output_type": "stream",
          "text": [
            "\r 77%|███████▋  | 47/61 [03:02<01:04,  4.64s/it]"
          ],
          "name": "stderr"
        },
        {
          "output_type": "stream",
          "text": [
            "\n",
            "Number of matches 40617\n",
            "Number of matches After Lowe's Ratio 297\n",
            "Number of Robust matches 98\n",
            "\n",
            "\n"
          ],
          "name": "stdout"
        },
        {
          "output_type": "stream",
          "text": [
            "\r 79%|███████▊  | 48/61 [03:06<01:00,  4.63s/it]"
          ],
          "name": "stderr"
        },
        {
          "output_type": "stream",
          "text": [
            "\n",
            "Number of matches 37263\n",
            "Number of matches After Lowe's Ratio 947\n",
            "Number of Robust matches 369\n",
            "\n",
            "\n"
          ],
          "name": "stdout"
        },
        {
          "output_type": "stream",
          "text": [
            "\r 80%|████████  | 49/61 [03:11<00:54,  4.57s/it]"
          ],
          "name": "stderr"
        },
        {
          "output_type": "stream",
          "text": [
            "\n",
            "Number of matches 35376\n",
            "Number of matches After Lowe's Ratio 996\n",
            "Number of Robust matches 376\n",
            "\n",
            "\n"
          ],
          "name": "stdout"
        },
        {
          "output_type": "stream",
          "text": [
            "\r 82%|████████▏ | 50/61 [03:15<00:49,  4.53s/it]"
          ],
          "name": "stderr"
        },
        {
          "output_type": "stream",
          "text": [
            "\n",
            "Number of matches 39668\n",
            "Number of matches After Lowe's Ratio 1238\n",
            "Number of Robust matches 651\n",
            "\n",
            "\n"
          ],
          "name": "stdout"
        },
        {
          "output_type": "stream",
          "text": [
            "\r 84%|████████▎ | 51/61 [03:20<00:46,  4.64s/it]"
          ],
          "name": "stderr"
        },
        {
          "output_type": "stream",
          "text": [
            "\n",
            "Number of matches 40175\n",
            "Number of matches After Lowe's Ratio 1296\n",
            "Number of Robust matches 970\n",
            "\n",
            "\n"
          ],
          "name": "stdout"
        },
        {
          "output_type": "stream",
          "text": [
            "\r 85%|████████▌ | 52/61 [03:25<00:43,  4.87s/it]"
          ],
          "name": "stderr"
        },
        {
          "output_type": "stream",
          "text": [
            "\n",
            "Number of matches 43720\n",
            "Number of matches After Lowe's Ratio 1088\n",
            "Number of Robust matches 912\n",
            "\n",
            "\n"
          ],
          "name": "stdout"
        },
        {
          "output_type": "stream",
          "text": [
            "\r 87%|████████▋ | 53/61 [03:31<00:40,  5.11s/it]"
          ],
          "name": "stderr"
        },
        {
          "output_type": "stream",
          "text": [
            "\n",
            "Number of matches 45552\n",
            "Number of matches After Lowe's Ratio 19\n",
            "Number of Robust matches 6\n",
            "\n",
            "\n",
            "Number of matches After Lowe's Ratio New 2699\n",
            "Number of Robust matches New 42\n",
            "\n",
            "\n"
          ],
          "name": "stdout"
        },
        {
          "output_type": "stream",
          "text": [
            "\r 89%|████████▊ | 54/61 [03:37<00:37,  5.41s/it]"
          ],
          "name": "stderr"
        },
        {
          "output_type": "stream",
          "text": [
            "\n",
            "Number of matches 46587\n",
            "Number of matches After Lowe's Ratio 1212\n",
            "Number of Robust matches 900\n",
            "\n",
            "\n"
          ],
          "name": "stdout"
        },
        {
          "output_type": "stream",
          "text": [
            "\r 90%|█████████ | 55/61 [03:43<00:33,  5.59s/it]"
          ],
          "name": "stderr"
        },
        {
          "output_type": "stream",
          "text": [
            "\n",
            "Number of matches 44137\n",
            "Number of matches After Lowe's Ratio 125\n",
            "Number of Robust matches 43\n",
            "\n",
            "\n"
          ],
          "name": "stdout"
        },
        {
          "output_type": "stream",
          "text": [
            "\r 92%|█████████▏| 56/61 [03:49<00:28,  5.63s/it]"
          ],
          "name": "stderr"
        },
        {
          "output_type": "stream",
          "text": [
            "\n",
            "Number of matches 41136\n",
            "Number of matches After Lowe's Ratio 44\n",
            "Number of Robust matches 12\n",
            "\n",
            "\n",
            "Number of matches After Lowe's Ratio New 2628\n",
            "Number of Robust matches New 32\n",
            "\n",
            "\n"
          ],
          "name": "stdout"
        },
        {
          "output_type": "stream",
          "text": [
            "\r 93%|█████████▎| 57/61 [03:54<00:21,  5.41s/it]"
          ],
          "name": "stderr"
        },
        {
          "output_type": "stream",
          "text": [
            "\n",
            "Number of matches 36258\n",
            "Number of matches After Lowe's Ratio 480\n",
            "Number of Robust matches 262\n",
            "\n",
            "\n"
          ],
          "name": "stdout"
        },
        {
          "output_type": "stream",
          "text": [
            "\r 95%|█████████▌| 58/61 [03:58<00:15,  5.16s/it]"
          ],
          "name": "stderr"
        },
        {
          "output_type": "stream",
          "text": [
            "\n",
            "Number of matches 36259\n",
            "Number of matches After Lowe's Ratio 166\n",
            "Number of Robust matches 59\n",
            "\n",
            "\n"
          ],
          "name": "stdout"
        },
        {
          "output_type": "stream",
          "text": [
            "\r 97%|█████████▋| 59/61 [04:03<00:10,  5.11s/it]"
          ],
          "name": "stderr"
        },
        {
          "output_type": "stream",
          "text": [
            "\n",
            "Number of matches 42188\n",
            "Number of matches After Lowe's Ratio 54\n",
            "Number of Robust matches 16\n",
            "\n",
            "\n",
            "Number of matches After Lowe's Ratio New 3093\n",
            "Number of Robust matches New 56\n",
            "\n",
            "\n"
          ],
          "name": "stdout"
        },
        {
          "output_type": "stream",
          "text": [
            "  0%|          | 0/60 [00:00<?, ?it/s]"
          ],
          "name": "stderr"
        },
        {
          "output_type": "stream",
          "text": [
            "\n",
            "Number of matches 42901\n",
            "Number of matches After Lowe's Ratio 31\n",
            "Number of Robust matches 9\n",
            "\n",
            "\n",
            "Number of matches After Lowe's Ratio New 2753\n",
            "Number of Robust matches New 25\n",
            "\n",
            "\n"
          ],
          "name": "stdout"
        },
        {
          "output_type": "stream",
          "text": [
            "\r  2%|▏         | 1/60 [00:04<03:58,  4.05s/it]"
          ],
          "name": "stderr"
        },
        {
          "output_type": "stream",
          "text": [
            "\n",
            "Number of matches 38244\n",
            "Number of matches After Lowe's Ratio 1706\n",
            "Number of Robust matches 840\n",
            "\n",
            "\n"
          ],
          "name": "stdout"
        },
        {
          "output_type": "stream",
          "text": [
            "\r  3%|▎         | 2/60 [00:08<04:06,  4.26s/it]"
          ],
          "name": "stderr"
        },
        {
          "output_type": "stream",
          "text": [
            "\n",
            "Number of matches 39451\n",
            "Number of matches After Lowe's Ratio 406\n",
            "Number of Robust matches 194\n",
            "\n",
            "\n"
          ],
          "name": "stdout"
        },
        {
          "output_type": "stream",
          "text": [
            "\r  5%|▌         | 3/60 [00:13<04:14,  4.47s/it]"
          ],
          "name": "stderr"
        },
        {
          "output_type": "stream",
          "text": [
            "\n",
            "Number of matches 37332\n",
            "Number of matches After Lowe's Ratio 52\n",
            "Number of Robust matches 20\n",
            "\n",
            "\n",
            "Number of matches After Lowe's Ratio New 2323\n",
            "Number of Robust matches New 29\n",
            "\n",
            "\n"
          ],
          "name": "stdout"
        },
        {
          "output_type": "stream",
          "text": [
            "\r  7%|▋         | 4/60 [00:18<04:07,  4.42s/it]"
          ],
          "name": "stderr"
        },
        {
          "output_type": "stream",
          "text": [
            "\n",
            "Number of matches 35484\n",
            "Number of matches After Lowe's Ratio 52\n",
            "Number of Robust matches 11\n",
            "\n",
            "\n",
            "Number of matches After Lowe's Ratio New 2675\n",
            "Number of Robust matches New 89\n",
            "\n",
            "\n"
          ],
          "name": "stdout"
        },
        {
          "output_type": "stream",
          "text": [
            "\r  8%|▊         | 5/60 [00:21<03:54,  4.27s/it]"
          ],
          "name": "stderr"
        },
        {
          "output_type": "stream",
          "text": [
            "\n",
            "Number of matches 31122\n",
            "Number of matches After Lowe's Ratio 1047\n",
            "Number of Robust matches 504\n",
            "\n",
            "\n"
          ],
          "name": "stdout"
        },
        {
          "output_type": "stream",
          "text": [
            "\r 10%|█         | 6/60 [00:25<03:35,  4.00s/it]"
          ],
          "name": "stderr"
        },
        {
          "output_type": "stream",
          "text": [
            "\n",
            "Number of matches 30044\n",
            "Number of matches After Lowe's Ratio 1745\n",
            "Number of Robust matches 926\n",
            "\n",
            "\n"
          ],
          "name": "stdout"
        },
        {
          "output_type": "stream",
          "text": [
            "\r 12%|█▏        | 7/60 [00:28<03:19,  3.76s/it]"
          ],
          "name": "stderr"
        },
        {
          "output_type": "stream",
          "text": [
            "\n",
            "Number of matches 29400\n",
            "Number of matches After Lowe's Ratio 2293\n",
            "Number of Robust matches 1172\n",
            "\n",
            "\n"
          ],
          "name": "stdout"
        },
        {
          "output_type": "stream",
          "text": [
            "\r 13%|█▎        | 8/60 [00:31<03:07,  3.61s/it]"
          ],
          "name": "stderr"
        },
        {
          "output_type": "stream",
          "text": [
            "\n",
            "Number of matches 27371\n",
            "Number of matches After Lowe's Ratio 1407\n",
            "Number of Robust matches 839\n",
            "\n",
            "\n"
          ],
          "name": "stdout"
        },
        {
          "output_type": "stream",
          "text": [
            "\r 15%|█▌        | 9/60 [00:34<02:52,  3.38s/it]"
          ],
          "name": "stderr"
        },
        {
          "output_type": "stream",
          "text": [
            "\n",
            "Number of matches 25272\n",
            "Number of matches After Lowe's Ratio 1556\n",
            "Number of Robust matches 1004\n",
            "\n",
            "\n"
          ],
          "name": "stdout"
        },
        {
          "output_type": "stream",
          "text": [
            "\r 17%|█▋        | 10/60 [00:37<02:37,  3.15s/it]"
          ],
          "name": "stderr"
        },
        {
          "output_type": "stream",
          "text": [
            "\n",
            "Number of matches 23123\n",
            "Number of matches After Lowe's Ratio 1602\n",
            "Number of Robust matches 1318\n",
            "\n",
            "\n"
          ],
          "name": "stdout"
        },
        {
          "output_type": "stream",
          "text": [
            "\r 18%|█▊        | 11/60 [00:39<02:24,  2.96s/it]"
          ],
          "name": "stderr"
        },
        {
          "output_type": "stream",
          "text": [
            "\n",
            "Number of matches 24197\n",
            "Number of matches After Lowe's Ratio 24\n",
            "Number of Robust matches 6\n",
            "\n",
            "\n",
            "Number of matches After Lowe's Ratio New 2053\n",
            "Number of Robust matches New 29\n",
            "\n",
            "\n"
          ],
          "name": "stdout"
        },
        {
          "output_type": "stream",
          "text": [
            "\r 20%|██        | 12/60 [00:42<02:16,  2.85s/it]"
          ],
          "name": "stderr"
        },
        {
          "output_type": "stream",
          "text": [
            "\n",
            "Number of matches 26576\n",
            "Number of matches After Lowe's Ratio 1378\n",
            "Number of Robust matches 1123\n",
            "\n",
            "\n"
          ],
          "name": "stdout"
        },
        {
          "output_type": "stream",
          "text": [
            "\r 22%|██▏       | 13/60 [00:45<02:12,  2.82s/it]"
          ],
          "name": "stderr"
        },
        {
          "output_type": "stream",
          "text": [
            "\n",
            "Number of matches 27421\n",
            "Number of matches After Lowe's Ratio 2523\n",
            "Number of Robust matches 1679\n",
            "\n",
            "\n"
          ],
          "name": "stdout"
        },
        {
          "output_type": "stream",
          "text": [
            "\r 23%|██▎       | 14/60 [00:47<02:10,  2.83s/it]"
          ],
          "name": "stderr"
        },
        {
          "output_type": "stream",
          "text": [
            "\n",
            "Number of matches 26755\n",
            "Number of matches After Lowe's Ratio 2653\n",
            "Number of Robust matches 1430\n",
            "\n",
            "\n"
          ],
          "name": "stdout"
        },
        {
          "output_type": "stream",
          "text": [
            "\r 25%|██▌       | 15/60 [00:50<02:08,  2.86s/it]"
          ],
          "name": "stderr"
        },
        {
          "output_type": "stream",
          "text": [
            "\n",
            "Number of matches 27315\n",
            "Number of matches After Lowe's Ratio 1753\n",
            "Number of Robust matches 970\n",
            "\n",
            "\n"
          ],
          "name": "stdout"
        },
        {
          "output_type": "stream",
          "text": [
            "\r 27%|██▋       | 16/60 [00:55<02:22,  3.24s/it]"
          ],
          "name": "stderr"
        },
        {
          "output_type": "stream",
          "text": [
            "\n",
            "Number of matches 32792\n",
            "Number of matches After Lowe's Ratio 1521\n",
            "Number of Robust matches 992\n",
            "\n",
            "\n"
          ],
          "name": "stdout"
        },
        {
          "output_type": "stream",
          "text": [
            "\r 28%|██▊       | 17/60 [01:00<02:48,  3.91s/it]"
          ],
          "name": "stderr"
        },
        {
          "output_type": "stream",
          "text": [
            "\n",
            "Number of matches 36780\n",
            "Number of matches After Lowe's Ratio 1451\n",
            "Number of Robust matches 834\n",
            "\n",
            "\n"
          ],
          "name": "stdout"
        },
        {
          "output_type": "stream",
          "text": [
            "\r 30%|███       | 18/60 [01:05<02:54,  4.15s/it]"
          ],
          "name": "stderr"
        },
        {
          "output_type": "stream",
          "text": [
            "\n",
            "Number of matches 35737\n",
            "Number of matches After Lowe's Ratio 1099\n",
            "Number of Robust matches 632\n",
            "\n",
            "\n"
          ],
          "name": "stdout"
        },
        {
          "output_type": "stream",
          "text": [
            "\r 32%|███▏      | 19/60 [01:09<02:56,  4.29s/it]"
          ],
          "name": "stderr"
        },
        {
          "output_type": "stream",
          "text": [
            "\n",
            "Number of matches 37080\n",
            "Number of matches After Lowe's Ratio 38\n",
            "Number of Robust matches 8\n",
            "\n",
            "\n",
            "Number of matches After Lowe's Ratio New 2573\n",
            "Number of Robust matches New 22\n",
            "\n",
            "\n"
          ],
          "name": "stdout"
        },
        {
          "output_type": "stream",
          "text": [
            "\r 33%|███▎      | 20/60 [01:13<02:49,  4.24s/it]"
          ],
          "name": "stderr"
        },
        {
          "output_type": "stream",
          "text": [
            "\n",
            "Number of matches 33210\n",
            "Number of matches After Lowe's Ratio 96\n",
            "Number of Robust matches 26\n",
            "\n",
            "\n"
          ],
          "name": "stdout"
        },
        {
          "output_type": "stream",
          "text": [
            "\r 35%|███▌      | 21/60 [01:17<02:39,  4.09s/it]"
          ],
          "name": "stderr"
        },
        {
          "output_type": "stream",
          "text": [
            "\n",
            "Number of matches 33322\n",
            "Number of matches After Lowe's Ratio 1275\n",
            "Number of Robust matches 829\n",
            "\n",
            "\n"
          ],
          "name": "stdout"
        },
        {
          "output_type": "stream",
          "text": [
            "\r 37%|███▋      | 22/60 [01:21<02:30,  3.95s/it]"
          ],
          "name": "stderr"
        },
        {
          "output_type": "stream",
          "text": [
            "\n",
            "Number of matches 29764\n",
            "Number of matches After Lowe's Ratio 1021\n",
            "Number of Robust matches 570\n",
            "\n",
            "\n"
          ],
          "name": "stdout"
        },
        {
          "output_type": "stream",
          "text": [
            "\r 38%|███▊      | 23/60 [01:24<02:16,  3.69s/it]"
          ],
          "name": "stderr"
        },
        {
          "output_type": "stream",
          "text": [
            "\n",
            "Number of matches 27808\n",
            "Number of matches After Lowe's Ratio 1599\n",
            "Number of Robust matches 789\n",
            "\n",
            "\n"
          ],
          "name": "stdout"
        },
        {
          "output_type": "stream",
          "text": [
            "\r 40%|████      | 24/60 [01:27<02:06,  3.51s/it]"
          ],
          "name": "stderr"
        },
        {
          "output_type": "stream",
          "text": [
            "\n",
            "Number of matches 26020\n",
            "Number of matches After Lowe's Ratio 2876\n",
            "Number of Robust matches 2268\n",
            "\n",
            "\n"
          ],
          "name": "stdout"
        },
        {
          "output_type": "stream",
          "text": [
            "\r 42%|████▏     | 25/60 [01:30<01:52,  3.22s/it]"
          ],
          "name": "stderr"
        },
        {
          "output_type": "stream",
          "text": [
            "\n",
            "Number of matches 21164\n",
            "Number of matches After Lowe's Ratio 3372\n",
            "Number of Robust matches 2955\n",
            "\n",
            "\n"
          ],
          "name": "stdout"
        },
        {
          "output_type": "stream",
          "text": [
            "\r 43%|████▎     | 26/60 [01:31<01:36,  2.83s/it]"
          ],
          "name": "stderr"
        },
        {
          "output_type": "stream",
          "text": [
            "\n",
            "Number of matches 15445\n",
            "Number of matches After Lowe's Ratio 822\n",
            "Number of Robust matches 721\n",
            "\n",
            "\n"
          ],
          "name": "stdout"
        },
        {
          "output_type": "stream",
          "text": [
            "\r 45%|████▌     | 27/60 [01:33<01:19,  2.40s/it]"
          ],
          "name": "stderr"
        },
        {
          "output_type": "stream",
          "text": [
            "\n",
            "Number of matches 18756\n",
            "Number of matches After Lowe's Ratio 20\n",
            "Number of Robust matches 5\n",
            "\n",
            "\n",
            "Number of matches After Lowe's Ratio New 1702\n",
            "Number of Robust matches New 16\n",
            "\n",
            "\n"
          ],
          "name": "stdout"
        },
        {
          "output_type": "stream",
          "text": [
            "\r 47%|████▋     | 28/60 [01:35<01:14,  2.34s/it]"
          ],
          "name": "stderr"
        },
        {
          "output_type": "stream",
          "text": [
            "\n",
            "Number of matches 26812\n",
            "Number of matches After Lowe's Ratio 2849\n",
            "Number of Robust matches 2667\n",
            "\n",
            "\n"
          ],
          "name": "stdout"
        },
        {
          "output_type": "stream",
          "text": [
            "\r 48%|████▊     | 29/60 [01:38<01:18,  2.52s/it]"
          ],
          "name": "stderr"
        },
        {
          "output_type": "stream",
          "text": [
            "\n",
            "Number of matches 30135\n",
            "Number of matches After Lowe's Ratio 2027\n",
            "Number of Robust matches 1305\n",
            "\n",
            "\n"
          ],
          "name": "stdout"
        },
        {
          "output_type": "stream",
          "text": [
            "\r 50%|█████     | 30/60 [01:41<01:21,  2.72s/it]"
          ],
          "name": "stderr"
        },
        {
          "output_type": "stream",
          "text": [
            "\n",
            "Number of matches 27956\n",
            "Number of matches After Lowe's Ratio 2478\n",
            "Number of Robust matches 1103\n",
            "\n",
            "\n"
          ],
          "name": "stdout"
        },
        {
          "output_type": "stream",
          "text": [
            "\r 52%|█████▏    | 31/60 [01:44<01:22,  2.84s/it]"
          ],
          "name": "stderr"
        },
        {
          "output_type": "stream",
          "text": [
            "\n",
            "Number of matches 28210\n",
            "Number of matches After Lowe's Ratio 1683\n",
            "Number of Robust matches 877\n",
            "\n",
            "\n"
          ],
          "name": "stdout"
        },
        {
          "output_type": "stream",
          "text": [
            "\r 53%|█████▎    | 32/60 [01:48<01:23,  2.99s/it]"
          ],
          "name": "stderr"
        },
        {
          "output_type": "stream",
          "text": [
            "\n",
            "Number of matches 34404\n",
            "Number of matches After Lowe's Ratio 659\n",
            "Number of Robust matches 334\n",
            "\n",
            "\n"
          ],
          "name": "stdout"
        },
        {
          "output_type": "stream",
          "text": [
            "\r 55%|█████▌    | 33/60 [01:52<01:30,  3.36s/it]"
          ],
          "name": "stderr"
        },
        {
          "output_type": "stream",
          "text": [
            "\n",
            "Number of matches 35738\n",
            "Number of matches After Lowe's Ratio 917\n",
            "Number of Robust matches 595\n",
            "\n",
            "\n"
          ],
          "name": "stdout"
        },
        {
          "output_type": "stream",
          "text": [
            "\r 57%|█████▋    | 34/60 [01:57<01:39,  3.83s/it]"
          ],
          "name": "stderr"
        },
        {
          "output_type": "stream",
          "text": [
            "\n",
            "Number of matches 39942\n",
            "Number of matches After Lowe's Ratio 1037\n",
            "Number of Robust matches 763\n",
            "\n",
            "\n"
          ],
          "name": "stdout"
        },
        {
          "output_type": "stream",
          "text": [
            "\r 58%|█████▊    | 35/60 [02:02<01:44,  4.19s/it]"
          ],
          "name": "stderr"
        },
        {
          "output_type": "stream",
          "text": [
            "\n",
            "Number of matches 37521\n",
            "Number of matches After Lowe's Ratio 41\n",
            "Number of Robust matches 15\n",
            "\n",
            "\n",
            "Number of matches After Lowe's Ratio New 2437\n",
            "Number of Robust matches New 27\n",
            "\n",
            "\n"
          ],
          "name": "stdout"
        },
        {
          "output_type": "stream",
          "text": [
            "\r 60%|██████    | 36/60 [02:06<01:43,  4.30s/it]"
          ],
          "name": "stderr"
        },
        {
          "output_type": "stream",
          "text": [
            "\n",
            "Number of matches 35212\n",
            "Number of matches After Lowe's Ratio 44\n",
            "Number of Robust matches 7\n",
            "\n",
            "\n",
            "Number of matches After Lowe's Ratio New 2301\n",
            "Number of Robust matches New 16\n",
            "\n",
            "\n"
          ],
          "name": "stdout"
        },
        {
          "output_type": "stream",
          "text": [
            "\r 62%|██████▏   | 37/60 [02:10<01:35,  4.14s/it]"
          ],
          "name": "stderr"
        },
        {
          "output_type": "stream",
          "text": [
            "\n",
            "Number of matches 32474\n",
            "Number of matches After Lowe's Ratio 865\n",
            "Number of Robust matches 526\n",
            "\n",
            "\n"
          ],
          "name": "stdout"
        },
        {
          "output_type": "stream",
          "text": [
            "\r 63%|██████▎   | 38/60 [02:14<01:27,  3.97s/it]"
          ],
          "name": "stderr"
        },
        {
          "output_type": "stream",
          "text": [
            "\n",
            "Number of matches 30097\n",
            "Number of matches After Lowe's Ratio 1611\n",
            "Number of Robust matches 859\n",
            "\n",
            "\n"
          ],
          "name": "stdout"
        },
        {
          "output_type": "stream",
          "text": [
            "\r 65%|██████▌   | 39/60 [02:17<01:20,  3.84s/it]"
          ],
          "name": "stderr"
        },
        {
          "output_type": "stream",
          "text": [
            "\n",
            "Number of matches 29475\n",
            "Number of matches After Lowe's Ratio 2472\n",
            "Number of Robust matches 1288\n",
            "\n",
            "\n"
          ],
          "name": "stdout"
        },
        {
          "output_type": "stream",
          "text": [
            "\r 67%|██████▋   | 40/60 [02:20<01:12,  3.63s/it]"
          ],
          "name": "stderr"
        },
        {
          "output_type": "stream",
          "text": [
            "\n",
            "Number of matches 26656\n",
            "Number of matches After Lowe's Ratio 2953\n",
            "Number of Robust matches 2525\n",
            "\n",
            "\n"
          ],
          "name": "stdout"
        },
        {
          "output_type": "stream",
          "text": [
            "\r 68%|██████▊   | 41/60 [02:23<01:03,  3.33s/it]"
          ],
          "name": "stderr"
        },
        {
          "output_type": "stream",
          "text": [
            "\n",
            "Number of matches 19887\n",
            "Number of matches After Lowe's Ratio 1169\n",
            "Number of Robust matches 913\n",
            "\n",
            "\n"
          ],
          "name": "stdout"
        },
        {
          "output_type": "stream",
          "text": [
            "\r 70%|███████   | 42/60 [02:25<00:50,  2.79s/it]"
          ],
          "name": "stderr"
        },
        {
          "output_type": "stream",
          "text": [
            "\n",
            "Number of matches 7457\n",
            "Number of matches After Lowe's Ratio 878\n",
            "Number of Robust matches 810\n",
            "\n",
            "\n"
          ],
          "name": "stdout"
        },
        {
          "output_type": "stream",
          "text": [
            "\r 72%|███████▏  | 43/60 [02:25<00:37,  2.19s/it]"
          ],
          "name": "stderr"
        },
        {
          "output_type": "stream",
          "text": [
            "\n",
            "Number of matches 16337\n",
            "Number of matches After Lowe's Ratio 27\n",
            "Number of Robust matches 5\n",
            "\n",
            "\n",
            "Number of matches After Lowe's Ratio New 1506\n",
            "Number of Robust matches New 12\n",
            "\n",
            "\n"
          ],
          "name": "stdout"
        },
        {
          "output_type": "stream",
          "text": [
            "\r 73%|███████▎  | 44/60 [02:27<00:32,  2.04s/it]"
          ],
          "name": "stderr"
        },
        {
          "output_type": "stream",
          "text": [
            "\n",
            "Number of matches 25933\n",
            "Number of matches After Lowe's Ratio 1434\n",
            "Number of Robust matches 1141\n",
            "\n",
            "\n"
          ],
          "name": "stdout"
        },
        {
          "output_type": "stream",
          "text": [
            "\r 75%|███████▌  | 45/60 [02:30<00:34,  2.32s/it]"
          ],
          "name": "stderr"
        },
        {
          "output_type": "stream",
          "text": [
            "\n",
            "Number of matches 32352\n",
            "Number of matches After Lowe's Ratio 1724\n",
            "Number of Robust matches 1004\n",
            "\n",
            "\n"
          ],
          "name": "stdout"
        },
        {
          "output_type": "stream",
          "text": [
            "\r 77%|███████▋  | 46/60 [02:33<00:37,  2.66s/it]"
          ],
          "name": "stderr"
        },
        {
          "output_type": "stream",
          "text": [
            "\n",
            "Number of matches 28823\n",
            "Number of matches After Lowe's Ratio 712\n",
            "Number of Robust matches 357\n",
            "\n",
            "\n"
          ],
          "name": "stdout"
        },
        {
          "output_type": "stream",
          "text": [
            "\r 78%|███████▊  | 47/60 [02:37<00:37,  2.90s/it]"
          ],
          "name": "stderr"
        },
        {
          "output_type": "stream",
          "text": [
            "\n",
            "Number of matches 34566\n",
            "Number of matches After Lowe's Ratio 537\n",
            "Number of Robust matches 225\n",
            "\n",
            "\n"
          ],
          "name": "stdout"
        },
        {
          "output_type": "stream",
          "text": [
            "\r 80%|████████  | 48/60 [02:41<00:39,  3.31s/it]"
          ],
          "name": "stderr"
        },
        {
          "output_type": "stream",
          "text": [
            "\n",
            "Number of matches 36683\n",
            "Number of matches After Lowe's Ratio 698\n",
            "Number of Robust matches 364\n",
            "\n",
            "\n"
          ],
          "name": "stdout"
        },
        {
          "output_type": "stream",
          "text": [
            "\r 82%|████████▏ | 49/60 [02:46<00:40,  3.64s/it]"
          ],
          "name": "stderr"
        },
        {
          "output_type": "stream",
          "text": [
            "\n",
            "Number of matches 35252\n",
            "Number of matches After Lowe's Ratio 1238\n",
            "Number of Robust matches 949\n",
            "\n",
            "\n"
          ],
          "name": "stdout"
        },
        {
          "output_type": "stream",
          "text": [
            "\r 83%|████████▎ | 50/60 [02:50<00:39,  3.97s/it]"
          ],
          "name": "stderr"
        },
        {
          "output_type": "stream",
          "text": [
            "\n",
            "Number of matches 37245\n",
            "Number of matches After Lowe's Ratio 1307\n",
            "Number of Robust matches 626\n",
            "\n",
            "\n"
          ],
          "name": "stdout"
        },
        {
          "output_type": "stream",
          "text": [
            "\r 85%|████████▌ | 51/60 [02:55<00:37,  4.20s/it]"
          ],
          "name": "stderr"
        },
        {
          "output_type": "stream",
          "text": [
            "\n",
            "Number of matches 37607\n",
            "Number of matches After Lowe's Ratio 53\n",
            "Number of Robust matches 14\n",
            "\n",
            "\n",
            "Number of matches After Lowe's Ratio New 2330\n",
            "Number of Robust matches New 31\n",
            "\n",
            "\n"
          ],
          "name": "stdout"
        },
        {
          "output_type": "stream",
          "text": [
            "\r 87%|████████▋ | 52/60 [03:00<00:34,  4.34s/it]"
          ],
          "name": "stderr"
        },
        {
          "output_type": "stream",
          "text": [
            "\n",
            "Number of matches 37339\n",
            "Number of matches After Lowe's Ratio 610\n",
            "Number of Robust matches 344\n",
            "\n",
            "\n"
          ],
          "name": "stdout"
        },
        {
          "output_type": "stream",
          "text": [
            "\r 88%|████████▊ | 53/60 [03:04<00:29,  4.26s/it]"
          ],
          "name": "stderr"
        },
        {
          "output_type": "stream",
          "text": [
            "\n",
            "Number of matches 35000\n",
            "Number of matches After Lowe's Ratio 1086\n",
            "Number of Robust matches 484\n",
            "\n",
            "\n"
          ],
          "name": "stdout"
        },
        {
          "output_type": "stream",
          "text": [
            "\r 90%|█████████ | 54/60 [03:08<00:24,  4.10s/it]"
          ],
          "name": "stderr"
        },
        {
          "output_type": "stream",
          "text": [
            "\n",
            "Number of matches 32276\n",
            "Number of matches After Lowe's Ratio 758\n",
            "Number of Robust matches 300\n",
            "\n",
            "\n"
          ],
          "name": "stdout"
        },
        {
          "output_type": "stream",
          "text": [
            "\r 92%|█████████▏| 55/60 [03:11<00:19,  3.96s/it]"
          ],
          "name": "stderr"
        },
        {
          "output_type": "stream",
          "text": [
            "\n",
            "Number of matches 29593\n",
            "Number of matches After Lowe's Ratio 860\n",
            "Number of Robust matches 471\n",
            "\n",
            "\n"
          ],
          "name": "stdout"
        },
        {
          "output_type": "stream",
          "text": [
            "\r 93%|█████████▎| 56/60 [03:14<00:14,  3.71s/it]"
          ],
          "name": "stderr"
        },
        {
          "output_type": "stream",
          "text": [
            "\n",
            "Number of matches 26639\n",
            "Number of matches After Lowe's Ratio 1425\n",
            "Number of Robust matches 844\n",
            "\n",
            "\n"
          ],
          "name": "stdout"
        },
        {
          "output_type": "stream",
          "text": [
            "\r 95%|█████████▌| 57/60 [03:17<00:10,  3.38s/it]"
          ],
          "name": "stderr"
        },
        {
          "output_type": "stream",
          "text": [
            "\n",
            "Number of matches 18598\n",
            "Number of matches After Lowe's Ratio 2359\n",
            "Number of Robust matches 2130\n",
            "\n",
            "\n"
          ],
          "name": "stdout"
        },
        {
          "output_type": "stream",
          "text": [
            "\r 97%|█████████▋| 58/60 [03:19<00:05,  2.85s/it]"
          ],
          "name": "stderr"
        },
        {
          "output_type": "stream",
          "text": [
            "\n",
            "Number of matches 11387\n",
            "Number of matches After Lowe's Ratio 2045\n",
            "Number of Robust matches 1774\n",
            "\n",
            "\n"
          ],
          "name": "stdout"
        },
        {
          "output_type": "stream",
          "text": [
            "\r 98%|█████████▊| 59/60 [03:20<00:02,  2.32s/it]"
          ],
          "name": "stderr"
        },
        {
          "output_type": "stream",
          "text": [
            "\n",
            "Number of matches 17521\n",
            "Number of matches After Lowe's Ratio 28\n",
            "Number of Robust matches 8\n",
            "\n",
            "\n",
            "Number of matches After Lowe's Ratio New 1577\n",
            "Number of Robust matches New 19\n",
            "\n",
            "\n"
          ],
          "name": "stdout"
        }
      ]
    },
    {
      "cell_type": "code",
      "metadata": {
        "id": "gmxdDHHtM1RP",
        "colab": {
          "base_uri": "https://localhost:8080/"
        },
        "outputId": "d0540d72-e196-44fb-8fd0-233a81906023"
      },
      "source": [
        "\n",
        "import h5py as h5\n",
        "f=h5.File('drive/MyDrive/H_left_surf_40.h5','w')\n",
        "t0=time.time()\n",
        "f.create_dataset('data',data=H_left_surf)\n",
        "f.close()\n",
        "print('HDF5  w/o comp.:',time.time()-t0,'[s] ... size',os.path.getsize('drive/MyDrive/H_left_surf_40.h5')/1.e6,'MB')"
      ],
      "execution_count": 54,
      "outputs": [
        {
          "output_type": "stream",
          "text": [
            "HDF5  w/o comp.: 0.00481104850769043 [s] ... size 0.006368 MB\n"
          ],
          "name": "stdout"
        }
      ]
    },
    {
      "cell_type": "code",
      "metadata": {
        "id": "kHnkqEQaM1GG",
        "colab": {
          "base_uri": "https://localhost:8080/"
        },
        "outputId": "1251306c-549a-471c-d418-edb6e2e2a54a"
      },
      "source": [
        "\n",
        "import h5py as h5\n",
        "f=h5.File('drive/MyDrive/H_right_surf_40.h5','w')\n",
        "t0=time.time()\n",
        "f.create_dataset('data',data=H_right_surf)\n",
        "f.close()\n",
        "print('HDF5  w/o comp.:',time.time()-t0,'[s] ... size',os.path.getsize('drive/MyDrive/H_right_surf_40.h5')/1.e6,'MB')"
      ],
      "execution_count": 55,
      "outputs": [
        {
          "output_type": "stream",
          "text": [
            "HDF5  w/o comp.: 0.0055925846099853516 [s] ... size 0.006296 MB\n"
          ],
          "name": "stdout"
        }
      ]
    },
    {
      "cell_type": "code",
      "metadata": {
        "id": "IWnqIKCGM1CZ"
      },
      "source": [
        "\n",
        "del H_left_surf, H_right_surf,keypoints_all_left_surf, keypoints_all_right_surf, descriptors_all_left_surf, descriptors_all_right_surf, points_all_left_surf, points_all_right_surf"
      ],
      "execution_count": 56,
      "outputs": []
    },
    {
      "cell_type": "code",
      "metadata": {
        "id": "qRiNLo19M0-z"
      },
      "source": [
        ""
      ],
      "execution_count": null,
      "outputs": []
    },
    {
      "cell_type": "code",
      "metadata": {
        "id": "rnE1eMQFM07J"
      },
      "source": [
        "'''import pickle\n",
        "Fdb = open('all_feat_rootsift_left.dat', 'rb')\n",
        "kpts_all = pickle.load(Fdb)\n",
        "Fdb.close()\n",
        "\n",
        "keypoints_all_left_rootsift = []\n",
        "descriptors_all_left_rootsift = []\n",
        "\n",
        "for j,kpt_each in enumerate(kpts_all):\n",
        "  keypoints_each = []\n",
        "  descrip_each = []\n",
        "  for k,kpt_img in enumerate(kpt_each):\n",
        "    temp_feature = cv2.KeyPoint(x=kpt_img[0][0],y=kpt_img[0][1],_size=kpt_img[1], _angle=kpt_img[2], \n",
        "                            _response=kpt_img[3], _octave=kpt_img[4], _class_id=kpt_img[5]) \n",
        "    temp_descriptor = kpt_img[6]\n",
        "    keypoints_each.append(temp_feature)\n",
        "    descrip_each.append(temp_descriptor)\n",
        "  points_all_left_rootsift.append(np.asarray([[p.pt[0], p.pt[1]] for p in keypoints_each]))\n",
        "  keypoints_all_left_rootsift.append(keypoints_each)\n",
        "  descriptors_all_left_rootsift.append(descrip_each)"
      ],
      "execution_count": null,
      "outputs": []
    },
    {
      "cell_type": "code",
      "metadata": {
        "id": "ho55GFaxM02H"
      },
      "source": [
        "'''import pickle\n",
        "Fdb = open('all_feat_rootsift_right.dat', 'rb')\n",
        "kpts_all = pickle.load(Fdb)\n",
        "Fdb.close()\n",
        "\n",
        "keypoints_all_right_rootsift = []\n",
        "descriptors_all_right_rootsift = []\n",
        "\n",
        "for j,kpt_each in enumerate(kpts_all):\n",
        "  keypoints_each = []\n",
        "  descrip_each = []\n",
        "  for k,kpt_img in enumerate(kpt_each):\n",
        "    temp_feature = cv2.KeyPoint(x=kpt_img[0][0],y=kpt_img[0][1],_size=kpt_img[1], _angle=kpt_img[2], \n",
        "                            _response=kpt_img[3], _octave=kpt_img[4], _class_id=kpt_img[5]) \n",
        "    temp_descriptor = kpt_img[6]\n",
        "    keypoints_each.append(temp_feature)\n",
        "    descrip_each.append(temp_descriptor)\n",
        "  points_all_right_rootsift.append(np.asarray([[p.pt[0], p.pt[1]] for p in keypoints_each]))\n",
        "  keypoints_all_right_rootsift.append(keypoints_each)\n",
        "  descriptors_all_right_rootsift.append(descrip_each)"
      ],
      "execution_count": null,
      "outputs": []
    },
    {
      "cell_type": "code",
      "metadata": {
        "id": "LFOkZhTNNBra"
      },
      "source": [
        "'''H_left_rootsift = []\n",
        "H_right_rootsift = []\n",
        "\n",
        "num_matches_rootsift = []\n",
        "num_good_matches_rootsift = []\n",
        "\n",
        "for j in tqdm(range(len(left_files_path))):\n",
        "  if j==len(left_files_path)-1:\n",
        "    break\n",
        "\n",
        "  H_a,matches,gd_matches = get_Hmatrix(images_left_bgr[j:j+2][::-1],keypoints_all_left_rootsift[j:j+2][::-1],points_all_left_rootsift[j:j+2][::-1],descriptors_all_left_rootsift[j:j+2][::-1],0.9)\n",
        "  H_left_rootsift.append(H_a)\n",
        "  num_matches_rootsift.append(matches)\n",
        "  num_good_matches_rootsift.append(gd_matches)\n",
        "\n",
        "for j in tqdm(range(len(right_files_path))):\n",
        "  if j==len(right_files_path)-1:\n",
        "    break\n",
        "\n",
        "  H_a,matches,gd_matches = get_Hmatrix(images_right_bgr[j:j+2][::-1],keypoints_all_right_rootsift[j:j+2][::-1],points_all_right_rootsift[j:j+2][::-1],descriptors_all_right_rootsift[j:j+2][::-1],0.9)\n",
        "  H_right_rootsift.append(H_a)\n",
        "  num_matches_rootsift.append(matches)\n",
        "  num_good_matches_rootsift.append(gd_matches)"
      ],
      "execution_count": null,
      "outputs": []
    },
    {
      "cell_type": "code",
      "metadata": {
        "colab": {
          "base_uri": "https://localhost:8080/"
        },
        "id": "o1Rs4WF_NBn3",
        "outputId": "058cf525-67c8-46d6-8e16-2378c9a07670"
      },
      "source": [
        "'''import h5py as h5\n",
        "f=h5.File('drive/MyDrive/H_left_rootsift_40.h5','w')\n",
        "t0=time.time()\n",
        "f.create_dataset('data',data=H_left_rootsift)\n",
        "f.close()\n",
        "print('HDF5  w/o comp.:',time.time()-t0,'[s] ... size',os.path.getsize('drive/MyDrive/H_left_rootsift_40.h5')/1.e6,'MB')"
      ],
      "execution_count": null,
      "outputs": [
        {
          "output_type": "stream",
          "text": [
            "HDF5  w/o comp.: 0.004731178283691406 [s] ... size 0.006368 MB\n"
          ],
          "name": "stdout"
        }
      ]
    },
    {
      "cell_type": "code",
      "metadata": {
        "colab": {
          "base_uri": "https://localhost:8080/"
        },
        "id": "BNe5ZQs0NBj6",
        "outputId": "e462e30d-4451-474e-cc90-5127ca4b2282"
      },
      "source": [
        "'''import h5py as h5\n",
        "f=h5.File('drive/MyDrive/H_right_rootsift_40.h5','w')\n",
        "t0=time.time()\n",
        "f.create_dataset('data',data=H_right_rootsift)\n",
        "f.close()\n",
        "print('HDF5  w/o comp.:',time.time()-t0,'[s] ... size',os.path.getsize('drive/MyDrive/H_right_rootsift_40.h5')/1.e6,'MB')"
      ],
      "execution_count": null,
      "outputs": [
        {
          "output_type": "stream",
          "text": [
            "HDF5  w/o comp.: 0.0061299800872802734 [s] ... size 0.006296 MB\n"
          ],
          "name": "stdout"
        }
      ]
    },
    {
      "cell_type": "code",
      "metadata": {
        "id": "3-HuMiSpNBez"
      },
      "source": [
        "'''del H_left_rootsift, H_right_rootsift,keypoints_all_left_rootsift, keypoints_all_right_rootsift, descriptors_all_left_rootsift, descriptors_all_right_rootsift, points_all_left_rootsift, points_all_right_rootsift"
      ],
      "execution_count": null,
      "outputs": []
    },
    {
      "cell_type": "code",
      "metadata": {
        "id": "xvOdNUKWNBa2"
      },
      "source": [
        ""
      ],
      "execution_count": null,
      "outputs": []
    },
    {
      "cell_type": "code",
      "metadata": {
        "id": "ox8i17_-Tslv"
      },
      "source": [
        "'''\n",
        "import pickle\n",
        "Fdb = open('all_feat_surfsift_left.dat', 'rb')\n",
        "kpts_all = pickle.load(Fdb)\n",
        "Fdb.close()\n",
        "\n",
        "keypoints_all_left_surfsift = []\n",
        "descriptors_all_left_surfsift = []\n",
        "\n",
        "for j,kpt_each in enumerate(kpts_all):\n",
        "  keypoints_each = []\n",
        "  descrip_each = []\n",
        "  for k,kpt_img in enumerate(kpt_each):\n",
        "    temp_feature = cv2.KeyPoint(x=kpt_img[0][0],y=kpt_img[0][1],_size=kpt_img[1], _angle=kpt_img[2], \n",
        "                            _response=kpt_img[3], _octave=kpt_img[4], _class_id=kpt_img[5]) \n",
        "    temp_descriptor = kpt_img[6]\n",
        "    keypoints_each.append(temp_feature)\n",
        "    descrip_each.append(temp_descriptor)\n",
        "  points_all_left_surfsift.append(np.asarray([[p.pt[0], p.pt[1]] for p in keypoints_each]))\n",
        "  keypoints_all_left_surfsift.append(keypoints_each)\n",
        "  descriptors_all_left_surfsift.append(descrip_each)"
      ],
      "execution_count": null,
      "outputs": []
    },
    {
      "cell_type": "code",
      "metadata": {
        "id": "y_rHNxPCVcj9"
      },
      "source": [
        "'''\n",
        "import pickle\n",
        "Fdb = open('all_feat_surfsift_right.dat', 'rb')\n",
        "kpts_all = pickle.load(Fdb)\n",
        "Fdb.close()\n",
        "\n",
        "keypoints_all_right_surfsift = []\n",
        "descriptors_all_right_surfsift = []\n",
        "\n",
        "for j,kpt_each in enumerate(kpts_all):\n",
        "  keypoints_each = []\n",
        "  descrip_each = []\n",
        "  for k,kpt_img in enumerate(kpt_each):\n",
        "    temp_feature = cv2.KeyPoint(x=kpt_img[0][0],y=kpt_img[0][1],_size=kpt_img[1], _angle=kpt_img[2], \n",
        "                            _response=kpt_img[3], _octave=kpt_img[4], _class_id=kpt_img[5]) \n",
        "    temp_descriptor = kpt_img[6]\n",
        "    keypoints_each.append(temp_feature)\n",
        "    descrip_each.append(temp_descriptor)\n",
        "  points_all_right_surfsift.append(np.asarray([[p.pt[0], p.pt[1]] for p in keypoints_each]))\n",
        "  keypoints_all_right_surfsift.append(keypoints_each)\n",
        "  descriptors_all_right_surfsift.append(descrip_each)"
      ],
      "execution_count": null,
      "outputs": []
    },
    {
      "cell_type": "code",
      "metadata": {
        "id": "FImXVRt7Vcfp"
      },
      "source": [
        "'''\n",
        "H_left_surfsift = []\n",
        "H_right_surfsift = []\n",
        "\n",
        "num_matches_surfsift = []\n",
        "num_good_matches_surfsift = []\n",
        "\n",
        "for j in tqdm(range(len(left_files_path))):\n",
        "  if j==len(left_files_path)-1:\n",
        "    break\n",
        "\n",
        "  H_a,matches,gd_matches = get_Hmatrix(images_left_bgr[j:j+2][::-1],keypoints_all_left_surfsift[j:j+2][::-1],points_all_left_surfsift[j:j+2][::-1],descriptors_all_left_surfsift[j:j+2][::-1],0.7,6)\n",
        "  H_left_surfsift.append(H_a)\n",
        "  num_matches_surfsift.append(matches)\n",
        "  num_good_matches_surfsift.append(gd_matches)\n",
        "\n",
        "for j in tqdm(range(len(right_files_path))):\n",
        "  if j==len(right_files_path)-1:\n",
        "    break\n",
        "\n",
        "  H_a,matches,gd_matches = get_Hmatrix(images_right_bgr[j:j+2][::-1],keypoints_all_right_surfsift[j:j+2][::-1],points_all_right_surfsift[j:j+2][::-1],descriptors_all_right_surfsift[j:j+2][::-1],0.7,6)\n",
        "  H_right_surfsift.append(H_a)\n",
        "  num_matches_surfsift.append(matches)\n",
        "  num_good_matches_surfsift.append(gd_matches)"
      ],
      "execution_count": null,
      "outputs": []
    },
    {
      "cell_type": "code",
      "metadata": {
        "id": "8xMUiQctVcac"
      },
      "source": [
        "'''\n",
        "import h5py as h5\n",
        "f=h5.File('drive/MyDrive/H_left_surfsift_40.h5','w')\n",
        "t0=time.time()\n",
        "f.create_dataset('data',data=H_left_surfsift)\n",
        "f.close()\n",
        "print('HDF5  w/o comp.:',time.time()-t0,'[s] ... size',os.path.getsize('drive/MyDrive/H_left_surfsift_40.h5')/1.e6,'MB')"
      ],
      "execution_count": null,
      "outputs": []
    },
    {
      "cell_type": "code",
      "metadata": {
        "id": "oCs2pUGAVcTq"
      },
      "source": [
        "'''\n",
        "import h5py as h5\n",
        "f=h5.File('drive/MyDrive/H_right_surfsift_40.h5','w')\n",
        "t0=time.time()\n",
        "f.create_dataset('data',data=H_right_surfsift)\n",
        "f.close()\n",
        "print('HDF5  w/o comp.:',time.time()-t0,'[s] ... size',os.path.getsize('drive/MyDrive/H_right_surfsift_40.h5')/1.e6,'MB')"
      ],
      "execution_count": null,
      "outputs": []
    },
    {
      "cell_type": "code",
      "metadata": {
        "id": "bQyjlNKdVkm3"
      },
      "source": [
        "'''\n",
        "del H_left_surfsift, H_right_surfsift,keypoints_all_left_surfsift, keypoints_all_right_surfsift, descriptors_all_left_surfsift, descriptors_all_right_surfsift, points_all_left_surfsift, points_all_right_surfsift"
      ],
      "execution_count": null,
      "outputs": []
    },
    {
      "cell_type": "code",
      "metadata": {
        "id": "SDZPXKE7Vkjm"
      },
      "source": [
        ""
      ],
      "execution_count": null,
      "outputs": []
    },
    {
      "cell_type": "code",
      "metadata": {
        "id": "iyC-HQL6NSGE"
      },
      "source": [
        "'''\n",
        "import pickle\n",
        "Fdb = open('all_feat_gftt_left.dat', 'rb')\n",
        "kpts_all = pickle.load(Fdb)\n",
        "Fdb.close()\n",
        "\n",
        "keypoints_all_left_gftt = []\n",
        "descriptors_all_left_gftt = []\n",
        "\n",
        "for j,kpt_each in enumerate(kpts_all):\n",
        "  keypoints_each = []\n",
        "  descrip_each = []\n",
        "  for k,kpt_img in enumerate(kpt_each):\n",
        "    temp_feature = cv2.KeyPoint(x=kpt_img[0][0],y=kpt_img[0][1],_size=kpt_img[1], _angle=kpt_img[2], \n",
        "                            _response=kpt_img[3], _octave=kpt_img[4], _class_id=kpt_img[5]) \n",
        "    temp_descriptor = kpt_img[6]\n",
        "    keypoints_each.append(temp_feature)\n",
        "    descrip_each.append(temp_descriptor)\n",
        "  points_all_left_gftt.append(np.asarray([[p.pt[0], p.pt[1]] for p in keypoints_each]))\n",
        "  keypoints_all_left_gftt.append(keypoints_each)\n",
        "  descriptors_all_left_gftt.append(descrip_each)"
      ],
      "execution_count": null,
      "outputs": []
    },
    {
      "cell_type": "code",
      "metadata": {
        "id": "QQSn8pA5NSBw"
      },
      "source": [
        "'''\n",
        "import pickle\n",
        "Fdb = open('all_feat_gftt_right.dat', 'rb')\n",
        "kpts_all = pickle.load(Fdb)\n",
        "Fdb.close()\n",
        "\n",
        "keypoints_all_right_gftt = []\n",
        "descriptors_all_right_gftt = []\n",
        "\n",
        "for j,kpt_each in enumerate(kpts_all):\n",
        "  keypoints_each = []\n",
        "  descrip_each = []\n",
        "  for k,kpt_img in enumerate(kpt_each):\n",
        "    temp_feature = cv2.KeyPoint(x=kpt_img[0][0],y=kpt_img[0][1],_size=kpt_img[1], _angle=kpt_img[2], \n",
        "                            _response=kpt_img[3], _octave=kpt_img[4], _class_id=kpt_img[5]) \n",
        "    temp_descriptor = kpt_img[6]\n",
        "    keypoints_each.append(temp_feature)\n",
        "    descrip_each.append(temp_descriptor)\n",
        "  points_all_right_gftt.append(np.asarray([[p.pt[0], p.pt[1]] for p in keypoints_each]))\n",
        "  keypoints_all_right_gftt.append(keypoints_each)\n",
        "  descriptors_all_right_gftt.append(descrip_each)"
      ],
      "execution_count": null,
      "outputs": []
    },
    {
      "cell_type": "code",
      "metadata": {
        "id": "tDiMSQY4NR-l"
      },
      "source": [
        "'''\n",
        "H_left_gftt = []\n",
        "H_right_gftt = []\n",
        "\n",
        "num_matches_gftt = []\n",
        "num_good_matches_gftt = []\n",
        "\n",
        "for j in tqdm(range(len(left_files_path))):\n",
        "  if j==len(left_files_path)-1:\n",
        "    break\n",
        "\n",
        "  H_a,matches,gd_matches = get_Hmatrix(images_left_bgr[j:j+2][::-1],keypoints_all_left_gftt[j:j+2][::-1],points_all_left_gftt[j:j+2][::-1],descriptors_all_left_gftt[j:j+2][::-1],0.85,6)\n",
        "  H_left_gftt.append(H_a)\n",
        "  num_matches_gftt.append(matches)\n",
        "  num_good_matches_gftt.append(gd_matches)\n",
        "\n",
        "for j in tqdm(range(len(right_files_path))):\n",
        "  if j==len(right_files_path)-1:\n",
        "    break\n",
        "\n",
        "  H_a,matches,gd_matches = get_Hmatrix(images_right_bgr[j:j+2][::-1],keypoints_all_right_gftt[j:j+2][::-1],points_all_right_gftt[j:j+2][::-1],descriptors_all_right_gftt[j:j+2][::-1],0.85,6)\n",
        "  H_right_gftt.append(H_a)\n",
        "  num_matches_gftt.append(matches)\n",
        "  num_good_matches_gftt.append(gd_matches)"
      ],
      "execution_count": null,
      "outputs": []
    },
    {
      "cell_type": "code",
      "metadata": {
        "id": "ZNfb9ajaNR51"
      },
      "source": [
        "'''\n",
        "import h5py as h5\n",
        "f=h5.File('drive/MyDrive/H_left_gftt_40.h5','w')\n",
        "t0=time.time()\n",
        "f.create_dataset('data',data=H_left_gftt)\n",
        "f.close()\n",
        "print('HDF5  w/o comp.:',time.time()-t0,'[s] ... size',os.path.getsize('drive/MyDrive/H_left_gftt_40.h5')/1.e6,'MB')"
      ],
      "execution_count": null,
      "outputs": []
    },
    {
      "cell_type": "code",
      "metadata": {
        "id": "DmDMHiUVNR0n"
      },
      "source": [
        "'''\n",
        "import h5py as h5\n",
        "f=h5.File('drive/MyDrive/H_right_gftt_40.h5','w')\n",
        "t0=time.time()\n",
        "f.create_dataset('data',data=H_right_gftt)\n",
        "f.close()\n",
        "print('HDF5  w/o comp.:',time.time()-t0,'[s] ... size',os.path.getsize('drive/MyDrive/H_right_gftt_40.h5')/1.e6,'MB')"
      ],
      "execution_count": null,
      "outputs": []
    },
    {
      "cell_type": "code",
      "metadata": {
        "id": "Kjou3NzdNRvb"
      },
      "source": [
        "'''\n",
        "del H_left_gftt, H_right_gftt,keypoints_all_left_gftt, keypoints_all_right_gftt, descriptors_all_left_gftt, descriptors_all_right_gftt, points_all_left_gftt, points_all_right_gftt"
      ],
      "execution_count": null,
      "outputs": []
    },
    {
      "cell_type": "code",
      "metadata": {
        "id": "4WPAx1bPNRpb"
      },
      "source": [
        ""
      ],
      "execution_count": null,
      "outputs": []
    },
    {
      "cell_type": "code",
      "metadata": {
        "id": "RkzmrEaNNRld"
      },
      "source": [
        "'''\n",
        "import pickle\n",
        "Fdb = open('all_feat_mser_left.dat', 'rb')\n",
        "kpts_all = pickle.load(Fdb)\n",
        "Fdb.close()\n",
        "\n",
        "keypoints_all_left_mser = []\n",
        "descriptors_all_left_mser = []\n",
        "\n",
        "for j,kpt_each in enumerate(kpts_all):\n",
        "  keypoints_each = []\n",
        "  descrip_each = []\n",
        "  for k,kpt_img in enumerate(kpt_each):\n",
        "    temp_feature = cv2.KeyPoint(x=kpt_img[0][0],y=kpt_img[0][1],_size=kpt_img[1], _angle=kpt_img[2], \n",
        "                            _response=kpt_img[3], _octave=kpt_img[4], _class_id=kpt_img[5]) \n",
        "    temp_descriptor = kpt_img[6]\n",
        "    keypoints_each.append(temp_feature)\n",
        "    descrip_each.append(temp_descriptor)\n",
        "  points_all_left_mser.append(np.asarray([[p.pt[0], p.pt[1]] for p in keypoints_each]))\n",
        "  keypoints_all_left_mser.append(keypoints_each)\n",
        "  descriptors_all_left_mser.append(descrip_each)"
      ],
      "execution_count": null,
      "outputs": []
    },
    {
      "cell_type": "code",
      "metadata": {
        "id": "GJrHMRuwNRgV"
      },
      "source": [
        "'''\n",
        "import pickle\n",
        "Fdb = open('all_feat_mser_right.dat', 'rb')\n",
        "kpts_all = pickle.load(Fdb)\n",
        "Fdb.close()\n",
        "\n",
        "keypoints_all_right_mser = []\n",
        "descriptors_all_right_mser = []\n",
        "\n",
        "for j,kpt_each in enumerate(kpts_all):\n",
        "  keypoints_each = []\n",
        "  descrip_each = []\n",
        "  for k,kpt_img in enumerate(kpt_each):\n",
        "    temp_feature = cv2.KeyPoint(x=kpt_img[0][0],y=kpt_img[0][1],_size=kpt_img[1], _angle=kpt_img[2], \n",
        "                            _response=kpt_img[3], _octave=kpt_img[4], _class_id=kpt_img[5]) \n",
        "    temp_descriptor = kpt_img[6]\n",
        "    keypoints_each.append(temp_feature)\n",
        "    descrip_each.append(temp_descriptor)\n",
        "  points_all_right_mser.append(np.asarray([[p.pt[0], p.pt[1]] for p in keypoints_each]))\n",
        "  keypoints_all_right_mser.append(keypoints_each)\n",
        "  descriptors_all_right_mser.append(descrip_each)"
      ],
      "execution_count": null,
      "outputs": []
    },
    {
      "cell_type": "code",
      "metadata": {
        "id": "RTNrAvibNRWJ"
      },
      "source": [
        "'''\n",
        "H_left_mser = []\n",
        "H_right_mser = []\n",
        "\n",
        "num_matches_mser = []\n",
        "num_good_matches_mser = []\n",
        "\n",
        "for j in tqdm(range(len(left_files_path))):\n",
        "  if j==len(left_files_path)-1:\n",
        "    break\n",
        "\n",
        "  H_a,matches,gd_matches = get_Hmatrix(images_left_bgr[j:j+2][::-1],keypoints_all_left_mser[j:j+2][::-1],points_all_left_mser[j:j+2][::-1],descriptors_all_left_mser[j:j+2][::-1],0.95,8)\n",
        "  H_left_mser.append(H_a)\n",
        "  num_matches_mser.append(matches)\n",
        "  num_good_matches_mser.append(gd_matches)\n",
        "\n",
        "for j in tqdm(range(len(right_files_path))):\n",
        "  if j==len(right_files_path)-1:\n",
        "    break\n",
        "\n",
        "  H_a,matches,gd_matches = get_Hmatrix(images_right_bgr[j:j+2][::-1],keypoints_all_right_mser[j:j+2][::-1],points_all_right_mser[j:j+2][::-1],descriptors_all_right_mser[j:j+2][::-1],0.95,8)\n",
        "  H_right_mser.append(H_a)\n",
        "  num_matches_mser.append(matches)\n",
        "  num_good_matches_mser.append(gd_matches)"
      ],
      "execution_count": null,
      "outputs": []
    },
    {
      "cell_type": "code",
      "metadata": {
        "id": "15_8796hNjIP"
      },
      "source": [
        "'''\n",
        "import h5py as h5\n",
        "f=h5.File('drive/MyDrive/H_left_mser_40.h5','w')\n",
        "t0=time.time()\n",
        "f.create_dataset('data',data=H_left_mser)\n",
        "f.close()\n",
        "print('HDF5  w/o comp.:',time.time()-t0,'[s] ... size',os.path.getsize('drive/MyDrive/H_left_mser_40.h5')/1.e6,'MB')"
      ],
      "execution_count": null,
      "outputs": []
    },
    {
      "cell_type": "code",
      "metadata": {
        "id": "f8Er9whfNjE0"
      },
      "source": [
        "'''\n",
        "import h5py as h5\n",
        "f=h5.File('drive/MyDrive/H_right_mser_40.h5','w')\n",
        "t0=time.time()\n",
        "f.create_dataset('data',data=H_right_mser)\n",
        "f.close()\n",
        "print('HDF5  w/o comp.:',time.time()-t0,'[s] ... size',os.path.getsize('drive/MyDrive/H_right_mser_40.h5')/1.e6,'MB')"
      ],
      "execution_count": null,
      "outputs": []
    },
    {
      "cell_type": "code",
      "metadata": {
        "id": "hGinOcpTNjA9"
      },
      "source": [
        "'''\n",
        "del H_left_mser, H_right_mser,keypoints_all_left_mser, keypoints_all_right_mser, descriptors_all_left_mser, descriptors_all_right_mser, points_all_left_mser, points_all_right_mser"
      ],
      "execution_count": null,
      "outputs": []
    },
    {
      "cell_type": "code",
      "metadata": {
        "id": "60PMVL7-Ni9a"
      },
      "source": [
        ""
      ],
      "execution_count": null,
      "outputs": []
    },
    {
      "cell_type": "code",
      "metadata": {
        "id": "v9h1dfs3Ni5A"
      },
      "source": [
        "'''\n",
        "import pickle\n",
        "Fdb = open('all_feat_superpoint_left.dat', 'rb')\n",
        "kpts_all = pickle.load(Fdb)\n",
        "Fdb.close()\n",
        "\n",
        "keypoints_all_left_superpoint = []\n",
        "descriptors_all_left_superpoint = []\n",
        "\n",
        "for j,kpt_each in enumerate(kpts_all):\n",
        "  keypoints_each = []\n",
        "  descrip_each = []\n",
        "  for k,kpt_img in enumerate(kpt_each):\n",
        "    temp_feature = cv2.KeyPoint(x=kpt_img[0][0],y=kpt_img[0][1],_size=kpt_img[1], _angle=kpt_img[2], \n",
        "                            _response=kpt_img[3], _octave=kpt_img[4], _class_id=kpt_img[5]) \n",
        "    temp_descriptor = kpt_img[6]\n",
        "    keypoints_each.append(temp_feature)\n",
        "    descrip_each.append(temp_descriptor)\n",
        "  points_all_left_superpoint.append(np.asarray([[p.pt[0], p.pt[1]] for p in keypoints_each]))\n",
        "  keypoints_all_left_superpoint.append(keypoints_each)\n",
        "  descriptors_all_left_superpoint.append(descrip_each)"
      ],
      "execution_count": null,
      "outputs": []
    },
    {
      "cell_type": "code",
      "metadata": {
        "id": "88AByrvBNi0y"
      },
      "source": [
        "'''\n",
        "import pickle\n",
        "Fdb = open('all_feat_superpoint_right.dat', 'rb')\n",
        "kpts_all = pickle.load(Fdb)\n",
        "Fdb.close()\n",
        "\n",
        "keypoints_all_right_superpoint = []\n",
        "descriptors_all_right_superpoint = []\n",
        "\n",
        "for j,kpt_each in enumerate(kpts_all):\n",
        "  keypoints_each = []\n",
        "  descrip_each = []\n",
        "  for k,kpt_img in enumerate(kpt_each):\n",
        "    temp_feature = cv2.KeyPoint(x=kpt_img[0][0],y=kpt_img[0][1],_size=kpt_img[1], _angle=kpt_img[2], \n",
        "                            _response=kpt_img[3], _octave=kpt_img[4], _class_id=kpt_img[5]) \n",
        "    temp_descriptor = kpt_img[6]\n",
        "    keypoints_each.append(temp_feature)\n",
        "    descrip_each.append(temp_descriptor)\n",
        "  points_all_right_superpoint.append(np.asarray([[p.pt[0], p.pt[1]] for p in keypoints_each]))\n",
        "  keypoints_all_right_superpoint.append(keypoints_each)\n",
        "  descriptors_all_right_superpoint.append(descrip_each)"
      ],
      "execution_count": null,
      "outputs": []
    },
    {
      "cell_type": "code",
      "metadata": {
        "id": "f2kldmCnNiwl"
      },
      "source": [
        "'''\n",
        "H_left_superpoint = []\n",
        "H_right_superpoint = []\n",
        "\n",
        "num_matches_superpoint = []\n",
        "num_good_matches_superpoint = []\n",
        "\n",
        "for j in tqdm(range(len(left_files_path))):\n",
        "  if j==len(left_files_path)-1:\n",
        "    break\n",
        "\n",
        "  H_a,matches,gd_matches = get_Hmatrix(images_left_bgr[j:j+2][::-1],keypoints_all_left_superpoint[j:j+2][::-1],points_all_left_superpoint[j:j+2][::-1],descriptors_all_left_superpoint[j:j+2][::-1],ratio=0.8,thresh=3,no_ransac=False,use_lowe=True)\n",
        "  H_left_superpoint.append(H_a)\n",
        "  num_matches_superpoint.append(matches)\n",
        "  num_good_matches_superpoint.append(gd_matches)\n",
        "\n",
        "for j in tqdm(range(len(right_files_path))):\n",
        "  if j==len(right_files_path)-1:\n",
        "    break\n",
        "\n",
        "  H_a,matches,gd_matches = get_Hmatrix(images_right_bgr[j:j+2][::-1],keypoints_all_right_superpoint[j:j+2][::-1],points_all_right_superpoint[j:j+2][::-1],descriptors_all_right_superpoint[j:j+2][::-1],ratio=0.8,thresh = 3,no_ransac=False,use_lowe=True)\n",
        "  H_right_superpoint.append(H_a)\n",
        "  num_matches_superpoint.append(matches)\n",
        "  num_good_matches_superpoint.append(gd_matches)"
      ],
      "execution_count": null,
      "outputs": []
    },
    {
      "cell_type": "code",
      "metadata": {
        "id": "q706DNjLN6Vh"
      },
      "source": [
        "'''\n",
        "import h5py as h5\n",
        "f=h5.File('drive/MyDrive/H_left_superpoint_40.h5','w')\n",
        "t0=time.time()\n",
        "f.create_dataset('data',data=H_left_superpoint)\n",
        "f.close()\n",
        "print('HDF5  w/o comp.:',time.time()-t0,'[s] ... size',os.path.getsize('drive/MyDrive/H_left_superpoint_40.h5')/1.e6,'MB')"
      ],
      "execution_count": null,
      "outputs": []
    },
    {
      "cell_type": "code",
      "metadata": {
        "id": "BkzXTRmkN6RW"
      },
      "source": [
        "'''\n",
        "import h5py as h5\n",
        "f=h5.File('drive/MyDrive/H_right_superpoint_40.h5','w')\n",
        "t0=time.time()\n",
        "f.create_dataset('data',data=H_right_superpoint)\n",
        "f.close()\n",
        "print('HDF5  w/o comp.:',time.time()-t0,'[s] ... size',os.path.getsize('drive/MyDrive/H_right_superpoint_40.h5')/1.e6,'MB')"
      ],
      "execution_count": null,
      "outputs": []
    },
    {
      "cell_type": "code",
      "metadata": {
        "id": "HFL3LP99N6MH"
      },
      "source": [
        "'''\n",
        "del H_left_superpoint, H_right_superpoint,keypoints_all_left_superpoint, keypoints_all_right_superpoint, descriptors_all_left_superpoint, descriptors_all_right_superpoint, points_all_left_superpoint, points_all_right_superpoint"
      ],
      "execution_count": null,
      "outputs": []
    },
    {
      "cell_type": "code",
      "metadata": {
        "id": "_q_yrn5XOFoP"
      },
      "source": [
        "'''\n",
        "print(len(num_matches_superpoint))"
      ],
      "execution_count": null,
      "outputs": []
    },
    {
      "cell_type": "code",
      "metadata": {
        "id": "Iel-_BchOFjx"
      },
      "source": [
        ""
      ],
      "execution_count": null,
      "outputs": []
    },
    {
      "cell_type": "markdown",
      "metadata": {
        "id": "trzf2eTGOOjd"
      },
      "source": [
        "Collect All Number Of KeyPoints"
      ]
    },
    {
      "cell_type": "code",
      "metadata": {
        "id": "9HS4lRFrVkfT"
      },
      "source": [
        "len_files = len(left_files_path) + len(right_files_path[1:])\n",
        "num_detectors = 5"
      ],
      "execution_count": 57,
      "outputs": []
    },
    {
      "cell_type": "code",
      "metadata": {
        "id": "yCck1fMMVkZ1"
      },
      "source": [
        "d = {'Dataset': [f'{Dataset}']*(num_detectors*len_files), 'Number of Keypoints': num_kps_freak + num_kps_sift + num_kps_surf + num_kps_fast + num_kps_agast, 'Detector/Descriptor': ['AGAST+SIFT']*len_files + ['FAST+SIFT']*len_files + ['BRISK+FREAK']*len_files + ['SIFT']*len_files + ['SURF']*len_files  }\n"
      ],
      "execution_count": 58,
      "outputs": []
    },
    {
      "cell_type": "code",
      "metadata": {
        "id": "M62qQbTbClKm"
      },
      "source": [
        "df = pd.DataFrame.from_dict(d, orient='index')\n",
        "df = df.transpose()"
      ],
      "execution_count": 59,
      "outputs": []
    },
    {
      "cell_type": "code",
      "metadata": {
        "id": "kqYlgO3rClDR"
      },
      "source": [
        "df_numkey_5 = df\n",
        "df_numkey_5['Number of Keypoints'] = df_numkey_5['Number of Keypoints']/(len_files)"
      ],
      "execution_count": 60,
      "outputs": []
    },
    {
      "cell_type": "code",
      "metadata": {
        "id": "pAg-a2j-OVqA"
      },
      "source": [
        "#d = {'Dataset': ['University Campus']*(3*len_files), 'Number of Keypoints': num_kps_rootsift + num_kps_superpoint + num_kps_surf, 'Detector/Descriptor':['ROOTSIFT']*101 + ['SuperPoint']*101 + ['SURF']*101  }\n",
        "#df = pd.DataFrame(data=d)"
      ],
      "execution_count": null,
      "outputs": []
    },
    {
      "cell_type": "code",
      "metadata": {
        "id": "X2PQojiuOVk0"
      },
      "source": [
        "#df_13 = pd.read_csv('drive/MyDrive/Num_Key_13.csv')\n",
        "#frames = [df_13, df]\n",
        "#df_16 = pd.concat(frames)"
      ],
      "execution_count": null,
      "outputs": []
    },
    {
      "cell_type": "code",
      "metadata": {
        "id": "x3OVBuQNOVgo"
      },
      "source": [
        "#df_16.to_csv('drive/MyDrive/Num_Key_16.csv')"
      ],
      "execution_count": null,
      "outputs": []
    },
    {
      "cell_type": "code",
      "metadata": {
        "id": "nRowM7PgOVZN",
        "colab": {
          "base_uri": "https://localhost:8080/",
          "height": 475
        },
        "outputId": "dd645e7e-27e6-4cf2-851e-ebb43ddd52dd"
      },
      "source": [
        "import seaborn as sns\n",
        "sns.set_theme(style='whitegrid')\n",
        "\n",
        "\n",
        "# Draw a nested barplot by species and sex\n",
        "g = sns.catplot(\n",
        "    data=df_numkey_5, kind=\"bar\",\n",
        "    x=\"Dataset\", y=\"Number of Keypoints\", hue=\"Detector/Descriptor\",\n",
        "    ci=\"sd\", palette=\"Spectral\", alpha=.9, height=6, aspect=2\n",
        ")\n",
        "g.despine(left=True)\n",
        "g.set_axis_labels(\"Dataset\", \"Number of Keypoints/Descriptors\")\n",
        "g.legend.set_title(\"Detector/Descriptor\")\n",
        "g.fig.suptitle(\"Number of Keypoints Detected for each Detector/Descriptor in Different Aerial Datasets\")"
      ],
      "execution_count": 61,
      "outputs": [
        {
          "output_type": "execute_result",
          "data": {
            "text/plain": [
              "Text(0.5, 0.98, 'Number of Keypoints Detected for each Detector/Descriptor in Different Aerial Datasets')"
            ]
          },
          "metadata": {
            "tags": []
          },
          "execution_count": 61
        },
        {
          "output_type": "display_data",
          "data": {
            "image/png": "[encoded data removed]",
            "text/plain": [
              "<Figure size 991.55x432 with 1 Axes>"
            ]
          },
          "metadata": {
            "tags": []
          }
        }
      ]
    },
    {
      "cell_type": "code",
      "metadata": {
        "id": "dr91y79XOVR8"
      },
      "source": [
        "g.savefig(f'drive/MyDrive/Num_Kypoints_8_{Dataset}.png')"
      ],
      "execution_count": null,
      "outputs": []
    },
    {
      "cell_type": "code",
      "metadata": {
        "id": "ZDRlBi3XOd8f"
      },
      "source": [
        "df_numkey_5.to_csv(f'drive/MyDrive/Num_Kypoints_5_{Dataset}.csv')"
      ],
      "execution_count": 62,
      "outputs": []
    },
    {
      "cell_type": "code",
      "metadata": {
        "id": "NJa1lqz8oLgi",
        "colab": {
          "base_uri": "https://localhost:8080/"
        },
        "outputId": "ef07a2a6-c971-44f0-cd22-82d8b81d6859"
      },
      "source": [
        "print(len(num_matches_agast))"
      ],
      "execution_count": 63,
      "outputs": [
        {
          "output_type": "stream",
          "text": [
            "119\n"
          ],
          "name": "stdout"
        }
      ]
    },
    {
      "cell_type": "markdown",
      "metadata": {
        "id": "SX8IMi-qOhTI"
      },
      "source": [
        "Total Number of Matches Detected for each Detector+Descriptor"
      ]
    },
    {
      "cell_type": "code",
      "metadata": {
        "id": "RmA0wyBIOd3l"
      },
      "source": [
        "#df_match_15['Number of Total Matches'] =  num_matches_agast + num_matches_akaze + num_matches_brisk + num_matches_daisy + num_matches_fast + num_matches_freak + num_matches_gftt + num_matches_kaze + num_matches_mser + num_matches_orb + num_matches_rootsift + num_matches_sift + num_matches_briefstar + num_matches_superpoint+ num_matches_surf+ num_matches_surfsift\n",
        "d = {'Dataset': [f'{Dataset}']*(num_detectors*(len_files-1)), 'Number of Total Matches': num_matches_sift + num_matches_surf + num_matches_freak + num_matches_agast + num_matches_fast, 'Detector/Descriptor': ['AGAST+SIFT']*(len_files-1) + ['SIFT']*(len_files-1) + ['BRISK+FREAK']*(len_files-1) + ['FAST+SIFT']*(len_files-1) + ['SURF']*(len_files-1)}\n",
        "df_match_5 = pd.DataFrame(data=d)\n",
        "df_match_5['Number of Total Matches'] = df_match_5['Number of Total Matches']/(len_files-1)"
      ],
      "execution_count": 64,
      "outputs": []
    },
    {
      "cell_type": "code",
      "metadata": {
        "id": "SUZ8fqlHOdzR",
        "colab": {
          "base_uri": "https://localhost:8080/",
          "height": 759
        },
        "outputId": "516c52c3-1ff5-4648-eb62-ef4175f8838c"
      },
      "source": [
        "import seaborn as sns\n",
        "sns.set_theme(style='whitegrid')\n",
        "\n",
        "\n",
        "# Draw a nested barplot by species and sex\n",
        "g = sns.catplot(\n",
        "    data=df_match_5, kind=\"bar\",\n",
        "    x=\"Dataset\", y=\"Number of Total Matches\", hue=\"Detector/Descriptor\",\n",
        "    ci=\"sd\", palette=\"Spectral\", alpha=.9, height=10, aspect=0.5\n",
        ")\n",
        "g.despine(left=True)\n",
        "g.set_axis_labels(\"Dataset \", \"Total Number of Matches b/w Consecutive/Overlapping Images\")\n",
        "g.legend.set_title(\"Detector/Descriptor\")\n",
        "g.fig.suptitle(\"Total Number of Matches Detected for each Detector/Descriptor in Different Aerial Datasets\")"
      ],
      "execution_count": 65,
      "outputs": [
        {
          "output_type": "execute_result",
          "data": {
            "text/plain": [
              "Text(0.5, 0.98, 'Total Number of Matches Detected for each Detector/Descriptor in Different Aerial Datasets')"
            ]
          },
          "metadata": {
            "tags": []
          },
          "execution_count": 65
        },
        {
          "output_type": "display_data",
          "data": {
            "image/png": "[encoded data removed]",
            "text/plain": [
              "<Figure size 487.55x720 with 1 Axes>"
            ]
          },
          "metadata": {
            "tags": []
          }
        }
      ]
    },
    {
      "cell_type": "code",
      "metadata": {
        "id": "c_WMsBjmOdu1"
      },
      "source": [
        "g.savefig(f'drive/MyDrive/Num_Matches_8_{Dataset}.png')"
      ],
      "execution_count": null,
      "outputs": []
    },
    {
      "cell_type": "code",
      "metadata": {
        "id": "hv58xIv0Odqj"
      },
      "source": [
        "#df_match_16.to_csv('drive/MyDrive/Num_Matches_16.csv')"
      ],
      "execution_count": null,
      "outputs": []
    },
    {
      "cell_type": "markdown",
      "metadata": {
        "id": "KPEmrVP9OrDR"
      },
      "source": [
        "Total Number of Good/Robust Matches (NN+Lowe+RANSAC) Detected for each Detector+Descriptor"
      ]
    },
    {
      "cell_type": "code",
      "metadata": {
        "id": "Tx1DHmzTOt3P"
      },
      "source": [
        "df_match_5['Number of Good Matches'] =  num_good_matches_sift + num_good_matches_surf + num_good_matches_freak + num_good_matches_agast + num_good_matches_fast\n",
        "df_match_5['Number of Good Matches'] = df_match_5['Number of Good Matches']/(len_files-1)"
      ],
      "execution_count": 66,
      "outputs": []
    },
    {
      "cell_type": "code",
      "metadata": {
        "id": "dmL182-COtzw",
        "colab": {
          "base_uri": "https://localhost:8080/",
          "height": 759
        },
        "outputId": "72d26dbd-f324-4b49-f495-f0eb710c41cc"
      },
      "source": [
        "import seaborn as sns\n",
        "sns.set_theme(style='whitegrid')\n",
        "\n",
        "\n",
        "# Draw a nested barplot by species and sex\n",
        "g = sns.catplot(\n",
        "    data=df_match_5, kind=\"bar\",\n",
        "    x=\"Dataset\", y=\"Number of Good Matches\", hue=\"Detector/Descriptor\",\n",
        "    ci=\"sd\", palette=\"Spectral\", alpha=.9, height=10, aspect=0.5\n",
        ")\n",
        "g.despine(left=True)\n",
        "g.set_axis_labels(\"Dataset\", \"Number of Good Matches b/w Consecutive/Overlapping Images\")\n",
        "g.legend.set_title(\"Detector/Descriptor\")\n",
        "g.fig.suptitle(\"Number of Good Matches (Lowe + RANSAC) Detected for each Detector/Descriptor in Different Aerial Datasets\")"
      ],
      "execution_count": 67,
      "outputs": [
        {
          "output_type": "execute_result",
          "data": {
            "text/plain": [
              "Text(0.5, 0.98, 'Number of Good Matches (Lowe + RANSAC) Detected for each Detector/Descriptor in Different Aerial Datasets')"
            ]
          },
          "metadata": {
            "tags": []
          },
          "execution_count": 67
        },
        {
          "output_type": "display_data",
          "data": {
            "image/png": "[encoded data removed]",
            "text/plain": [
              "<Figure size 487.55x720 with 1 Axes>"
            ]
          },
          "metadata": {
            "tags": []
          }
        }
      ]
    },
    {
      "cell_type": "code",
      "metadata": {
        "id": "Ow42UY49OtvS"
      },
      "source": [
        "g.savefig('drive/MyDrive/Num_Good_Matches_8.png')"
      ],
      "execution_count": null,
      "outputs": []
    },
    {
      "cell_type": "code",
      "metadata": {
        "id": "LqbpFnFqOtro"
      },
      "source": [
        "#df_match_16.to_csv('drive/MyDrive/Num_Good_Matches_16.csv')"
      ],
      "execution_count": null,
      "outputs": []
    },
    {
      "cell_type": "markdown",
      "metadata": {
        "id": "hgN-5TGVO1_A"
      },
      "source": [
        "Recall Rate for each Detector+Descriptor"
      ]
    },
    {
      "cell_type": "code",
      "metadata": {
        "id": "Dq_VaaFpO2oh"
      },
      "source": [
        "df_match_5['Recall Rate of Matches'] = df_match_5['Number of Good Matches']/df_match_5['Number of Total Matches']"
      ],
      "execution_count": 68,
      "outputs": []
    },
    {
      "cell_type": "code",
      "metadata": {
        "id": "tRdc-FrzO5Na",
        "colab": {
          "base_uri": "https://localhost:8080/",
          "height": 759
        },
        "outputId": "11876a0a-f314-4149-92db-a17742afb719"
      },
      "source": [
        "import seaborn as sns\n",
        "sns.set_theme(style='whitegrid')\n",
        "\n",
        "\n",
        "g = sns.catplot(\n",
        "    data=df_match_5, kind=\"bar\",\n",
        "    x=\"Dataset\", y=\"Recall Rate of Matches\", hue=\"Detector/Descriptor\",\n",
        "    ci=\"sd\", palette=\"Spectral\", alpha=.9, height=10, aspect=0.5\n",
        ")\n",
        "g.despine(left=True)\n",
        "g.set_axis_labels(\"Dataset\", \"Precision of Matches\")\n",
        "g.legend.set_title(\"Detector/Descriptor\")\n",
        "g.fig.suptitle(\"Recall Rate of Matches Detected (Good/Total) for each Detector/Descriptor in Different Aerial Datasets (Higher the Better)\")"
      ],
      "execution_count": 69,
      "outputs": [
        {
          "output_type": "execute_result",
          "data": {
            "text/plain": [
              "Text(0.5, 0.98, 'Recall Rate of Matches Detected (Good/Total) for each Detector/Descriptor in Different Aerial Datasets (Higher the Better)')"
            ]
          },
          "metadata": {
            "tags": []
          },
          "execution_count": 69
        },
        {
          "output_type": "display_data",
          "data": {
            "image/png": "[encoded data removed]",
            "text/plain": [
              "<Figure size 487.55x720 with 1 Axes>"
            ]
          },
          "metadata": {
            "tags": []
          }
        }
      ]
    },
    {
      "cell_type": "code",
      "metadata": {
        "id": "tkDLeij5O5IP"
      },
      "source": [
        "g.savefig('drive/MyDrive/Recall_Rate_Matches_8.png')"
      ],
      "execution_count": null,
      "outputs": []
    },
    {
      "cell_type": "markdown",
      "metadata": {
        "id": "7QK0j7jsO-gP"
      },
      "source": [
        "1-Precision Rate for each Detector+Descriptor"
      ]
    },
    {
      "cell_type": "code",
      "metadata": {
        "id": "XbU_yfEfO5Cw"
      },
      "source": [
        "df_match_5['1 - Precision Rate of Matches'] = (df_match_5['Number of Total Matches'] - df_match_5['Number of Good Matches'])/df_match_5['Number of Total Matches']"
      ],
      "execution_count": 70,
      "outputs": []
    },
    {
      "cell_type": "code",
      "metadata": {
        "id": "yQakh0q8O49P",
        "colab": {
          "base_uri": "https://localhost:8080/",
          "height": 759
        },
        "outputId": "22efc2bc-8633-48ed-abc4-3ba87ae34732"
      },
      "source": [
        "import seaborn as sns\n",
        "sns.set_theme(style='whitegrid')\n",
        "\n",
        "\n",
        "# Draw a nested barplot by species and sex\n",
        "g = sns.catplot(\n",
        "    data=df_match_5,kind=\"bar\",\n",
        "    x=\"Dataset\", y=\"1 - Precision Rate of Matches\", hue=\"Detector/Descriptor\",\n",
        "    ci=\"sd\", palette=\"Spectral\", alpha=.9, height=10, aspect=0.5\n",
        ")\n",
        "g.despine(left=True)\n",
        "g.set_axis_labels(\"Dataset (120 Images)\", \"1 - Precision Rate of Matches\")\n",
        "g.legend.set_title(\"Detector/Descriptor\")\n",
        "g.fig.suptitle(\"1 - Precision rate of Matches Detected (False/Total Matches) for each Detector/Descriptor in Different Aerial Datasets (Lower the Better)\")"
      ],
      "execution_count": 72,
      "outputs": [
        {
          "output_type": "execute_result",
          "data": {
            "text/plain": [
              "Text(0.5, 0.98, '1 - Precision rate of Matches Detected (False/Total Matches) for each Detector/Descriptor in Different Aerial Datasets (Lower the Better)')"
            ]
          },
          "metadata": {
            "tags": []
          },
          "execution_count": 72
        },
        {
          "output_type": "display_data",
          "data": {
            "image/png": "[encoded data removed]",
            "text/plain": [
              "<Figure size 487.55x720 with 1 Axes>"
            ]
          },
          "metadata": {
            "tags": []
          }
        }
      ]
    },
    {
      "cell_type": "code",
      "metadata": {
        "id": "SmcYnpiUO45J"
      },
      "source": [
        "g.savefig('drive/MyDrive/One_minus_Precision_Rate_Matches_8.png')"
      ],
      "execution_count": null,
      "outputs": []
    },
    {
      "cell_type": "markdown",
      "metadata": {
        "id": "RsiNPE0QPHQx"
      },
      "source": [
        "F-Score for each Detector+Descriptor"
      ]
    },
    {
      "cell_type": "code",
      "metadata": {
        "id": "EQdlNOnVPE77"
      },
      "source": [
        "df_match_5['F-Score'] = (2* (1 - df_match_5['1 - Precision Rate of Matches']) * df_match_5['Recall Rate of Matches'])/((1 - df_match_5['1 - Precision Rate of Matches']) + df_match_5['Recall Rate of Matches'])"
      ],
      "execution_count": 74,
      "outputs": []
    },
    {
      "cell_type": "code",
      "metadata": {
        "id": "CCtYcjcSPE4F",
        "colab": {
          "base_uri": "https://localhost:8080/",
          "height": 759
        },
        "outputId": "99685d71-7af3-4f8b-d03a-c790803d565f"
      },
      "source": [
        "import seaborn as sns\n",
        "sns.set_theme(style='whitegrid')\n",
        "\n",
        "\n",
        "# Draw a nested barplot by species and sex\n",
        "g = sns.catplot(\n",
        "    data=df_match_5, kind=\"bar\",\n",
        "    x=\"Dataset\", y=\"F-Score\", hue=\"Detector/Descriptor\",\n",
        "    ci=\"sd\", palette=\"Spectral\", alpha=.9, height=10, aspect=0.5\n",
        ")\n",
        "g.despine(left=True)\n",
        "g.set_axis_labels(\"Dataset\", \"F-Score\")\n",
        "g.legend.set_title(\"Detector/Descriptor\")\n",
        "g.fig.suptitle(\"F-Score of Matches Detected (2*P*R/P+R) for each Detector/Descriptor in Different Aerial Datasets (Higher the Better)\")"
      ],
      "execution_count": 75,
      "outputs": [
        {
          "output_type": "execute_result",
          "data": {
            "text/plain": [
              "Text(0.5, 0.98, 'F-Score of Matches Detected (2*P*R/P+R) for each Detector/Descriptor in Different Aerial Datasets (Higher the Better)')"
            ]
          },
          "metadata": {
            "tags": []
          },
          "execution_count": 75
        },
        {
          "output_type": "display_data",
          "data": {
            "image/png": "[encoded data removed]",
            "text/plain": [
              "<Figure size 487.55x720 with 1 Axes>"
            ]
          },
          "metadata": {
            "tags": []
          }
        }
      ]
    },
    {
      "cell_type": "code",
      "metadata": {
        "id": "ibvFlM-QPE0j"
      },
      "source": [
        "g.savefig('drive/MyDrive/F_Score_Rate_Matches_8.png')"
      ],
      "execution_count": null,
      "outputs": []
    },
    {
      "cell_type": "code",
      "metadata": {
        "id": "i8uLq4m2PEvl"
      },
      "source": [
        "df_match_5.to_csv('drive/MyDrive/All_metrics_5.csv')"
      ],
      "execution_count": 76,
      "outputs": []
    },
    {
      "cell_type": "markdown",
      "metadata": {
        "id": "OAURAn7oPQrG"
      },
      "source": [
        "Time for each Detector+Descriptor"
      ]
    },
    {
      "cell_type": "code",
      "metadata": {
        "id": "VE704mWRPEqI"
      },
      "source": [
        "d = {'Dataset': [f'{Dataset}']*(num_detectors), 'Time': [time_all[3]] + [time_all[0]] + [time_all[2]] + [time_all[1]] + [time_all[4]], 'Detector/Descriptor': ['AGAST+SIFT'] + ['FAST+SIFT']*(1) + ['BRISK+FREAK']*(1) + ['SURF']*(1) +  ['SIFT']*(1) }\n",
        "df_time_5 = pd.DataFrame(data=d)"
      ],
      "execution_count": 77,
      "outputs": []
    },
    {
      "cell_type": "code",
      "metadata": {
        "id": "SnBKna22PTV3",
        "colab": {
          "base_uri": "https://localhost:8080/"
        },
        "outputId": "eb45036c-7dd4-4ba9-ddf1-a7313f8249dc"
      },
      "source": [
        "print(df_time_5)"
      ],
      "execution_count": 78,
      "outputs": [
        {
          "output_type": "stream",
          "text": [
            "                 Dataset        Time Detector/Descriptor\n",
            "0  Small Village Dataset  137.789900          AGAST+SIFT\n",
            "1  Small Village Dataset   69.319830           FAST+SIFT\n",
            "2  Small Village Dataset  171.139946         BRISK+FREAK\n",
            "3  Small Village Dataset  187.066598                SURF\n",
            "4  Small Village Dataset  204.605793                SIFT\n"
          ],
          "name": "stdout"
        }
      ]
    },
    {
      "cell_type": "code",
      "metadata": {
        "id": "TDc45piJPTQi",
        "colab": {
          "base_uri": "https://localhost:8080/",
          "height": 759
        },
        "outputId": "e8abb9d6-c102-414c-ecdb-1559bf813faf"
      },
      "source": [
        "import seaborn as sns\n",
        "sns.set_theme(style='whitegrid')\n",
        "\n",
        "\n",
        "# Draw a nested barplot by species and sex\n",
        "g = sns.catplot(\n",
        "    data=df_time_5, kind=\"bar\",\n",
        "    x=\"Dataset\", y=\"Time\", hue=\"Detector/Descriptor\",\n",
        "    ci=\"sd\", palette=\"Spectral\", alpha=.9, height=10, aspect=0.5\n",
        ")\n",
        "g.despine(left=True)\n",
        "g.set_axis_labels(\"Dataset\", \"Time (in sec)\")\n",
        "g.legend.set_title(\"Detector/Descriptor\")\n",
        "g.fig.suptitle(\"Time taken during Feature Extraction by each Detector/Descriptor in Different Aerial Datasets (Lower the Better)\")"
      ],
      "execution_count": 79,
      "outputs": [
        {
          "output_type": "execute_result",
          "data": {
            "text/plain": [
              "Text(0.5, 0.98, 'Time taken during Feature Extraction by each Detector/Descriptor in Different Aerial Datasets (Lower the Better)')"
            ]
          },
          "metadata": {
            "tags": []
          },
          "execution_count": 79
        },
        {
          "output_type": "display_data",
          "data": {
            "image/png": "[encoded data removed]",
            "text/plain": [
              "<Figure size 487.55x720 with 1 Axes>"
            ]
          },
          "metadata": {
            "tags": []
          }
        }
      ]
    },
    {
      "cell_type": "code",
      "metadata": {
        "id": "TdWb9SaEPTM5"
      },
      "source": [
        "g.savefig('drive/MyDrive/Time_8.png')"
      ],
      "execution_count": null,
      "outputs": []
    },
    {
      "cell_type": "code",
      "metadata": {
        "id": "VpAp8atPPTJN"
      },
      "source": [
        "df_time_5.to_csv('drive/MyDrive/Time_5.csv')"
      ],
      "execution_count": 80,
      "outputs": []
    },
    {
      "cell_type": "markdown",
      "metadata": {
        "id": "eYEIN3_QPca0"
      },
      "source": [
        "Stitching with CPU"
      ]
    },
    {
      "cell_type": "code",
      "metadata": {
        "id": "a5yhDnhjPTDI"
      },
      "source": [
        ""
      ],
      "execution_count": null,
      "outputs": []
    }
  ]
}
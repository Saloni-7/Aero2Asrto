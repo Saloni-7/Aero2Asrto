{
  "nbformat": 4,
  "nbformat_minor": 0,
  "metadata": {
    "colab": {
      "name": "Time_graph_for_Small Village_SUPERPOINT(0.35x).ipynb",
      "provenance": [],
      "collapsed_sections": []
    },
    "kernelspec": {
      "name": "python3",
      "display_name": "Python 3"
    },
    "language_info": {
      "name": "python"
    }
  },
  "cells": [
    {
      "cell_type": "code",
      "metadata": {
        "id": "TawUfS8U5M_k"
      },
      "source": [
        "import pandas as pd\n",
        "import matplotlib.pyplot as plt\n",
        "import numpy as np\n"
      ],
      "execution_count": 1,
      "outputs": []
    },
    {
      "cell_type": "code",
      "metadata": {
        "id": "qNzK9BoETjTS"
      },
      "source": [
        "#d = {'Detector': ['Agast','agast','agast'], 'Number of Total Matches':[100,200,300],'Parameter':['Parameter1','Parameter2','Parameter3'],'ParameterName':['A','B','C'] }"
      ],
      "execution_count": null,
      "outputs": []
    },
    {
      "cell_type": "code",
      "metadata": {
        "id": "1Dwj0uzp5Jnx"
      },
      "source": [
        "df1=pd.read_csv('/content/Time_1_small village_superpoint(0.35x).csv')"
      ],
      "execution_count": 2,
      "outputs": []
    },
    {
      "cell_type": "code",
      "metadata": {
        "id": "dEO_68muTK3S"
      },
      "source": [
        "df1['ParameterName'] = \"A\""
      ],
      "execution_count": 3,
      "outputs": []
    },
    {
      "cell_type": "code",
      "metadata": {
        "id": "ypvx7rKkJ_zd"
      },
      "source": [
        "df2=pd.read_csv('/content/Time_1_small village_superpoint_changed parameters_120 images(0.35x)_1.csv')"
      ],
      "execution_count": 5,
      "outputs": []
    },
    {
      "cell_type": "code",
      "metadata": {
        "id": "QVyAQGV5VdZ4"
      },
      "source": [
        "df2['ParameterName'] = \"B\""
      ],
      "execution_count": 6,
      "outputs": []
    },
    {
      "cell_type": "code",
      "metadata": {
        "id": "ezEncKgzJ_nf"
      },
      "source": [
        "df3=pd.read_csv('/content/Time_1_small village_superpoint_changed parameters_120 images(0.35x)_2.csv')"
      ],
      "execution_count": 7,
      "outputs": []
    },
    {
      "cell_type": "code",
      "metadata": {
        "id": "lSogUQCAWS94"
      },
      "source": [
        "df3['ParameterName'] = \"C\""
      ],
      "execution_count": 8,
      "outputs": []
    },
    {
      "cell_type": "code",
      "metadata": {
        "colab": {
          "base_uri": "https://localhost:8080/",
          "height": 80
        },
        "id": "WBD7tvHk5hUn",
        "outputId": "6b8b412d-4132-4f30-e1ce-6d2a87d0f939"
      },
      "source": [
        "df1"
      ],
      "execution_count": 9,
      "outputs": [
        {
          "output_type": "execute_result",
          "data": {
            "text/html": [
              "<div>\n",
              "<style scoped>\n",
              "    .dataframe tbody tr th:only-of-type {\n",
              "        vertical-align: middle;\n",
              "    }\n",
              "\n",
              "    .dataframe tbody tr th {\n",
              "        vertical-align: top;\n",
              "    }\n",
              "\n",
              "    .dataframe thead th {\n",
              "        text-align: right;\n",
              "    }\n",
              "</style>\n",
              "<table border=\"1\" class=\"dataframe\">\n",
              "  <thead>\n",
              "    <tr style=\"text-align: right;\">\n",
              "      <th></th>\n",
              "      <th>Unnamed: 0</th>\n",
              "      <th>Dataset</th>\n",
              "      <th>Time</th>\n",
              "      <th>Detector/Descriptor</th>\n",
              "      <th>ParameterName</th>\n",
              "    </tr>\n",
              "  </thead>\n",
              "  <tbody>\n",
              "    <tr>\n",
              "      <th>0</th>\n",
              "      <td>0</td>\n",
              "      <td>Small Village Dataset</td>\n",
              "      <td>32.504013</td>\n",
              "      <td>SUPERPOINT</td>\n",
              "      <td>A</td>\n",
              "    </tr>\n",
              "  </tbody>\n",
              "</table>\n",
              "</div>"
            ],
            "text/plain": [
              "   Unnamed: 0                Dataset  ...  Detector/Descriptor ParameterName\n",
              "0           0  Small Village Dataset  ...           SUPERPOINT             A\n",
              "\n",
              "[1 rows x 5 columns]"
            ]
          },
          "metadata": {},
          "execution_count": 9
        }
      ]
    },
    {
      "cell_type": "code",
      "metadata": {
        "id": "Sck9YTp-14Nb"
      },
      "source": [
        "df1['Parameter'] = \"weights_path=weights_path,nms_dist = 3,conf_thresh = 0.01,nn_thresh=0.5 \""
      ],
      "execution_count": 11,
      "outputs": []
    },
    {
      "cell_type": "code",
      "metadata": {
        "colab": {
          "base_uri": "https://localhost:8080/",
          "height": 80
        },
        "id": "_E7PsFOg53Ht",
        "outputId": "4e67de2d-eecd-4f84-d8e9-47fde2771e98"
      },
      "source": [
        "df1"
      ],
      "execution_count": 12,
      "outputs": [
        {
          "output_type": "execute_result",
          "data": {
            "text/html": [
              "<div>\n",
              "<style scoped>\n",
              "    .dataframe tbody tr th:only-of-type {\n",
              "        vertical-align: middle;\n",
              "    }\n",
              "\n",
              "    .dataframe tbody tr th {\n",
              "        vertical-align: top;\n",
              "    }\n",
              "\n",
              "    .dataframe thead th {\n",
              "        text-align: right;\n",
              "    }\n",
              "</style>\n",
              "<table border=\"1\" class=\"dataframe\">\n",
              "  <thead>\n",
              "    <tr style=\"text-align: right;\">\n",
              "      <th></th>\n",
              "      <th>Unnamed: 0</th>\n",
              "      <th>Dataset</th>\n",
              "      <th>Time</th>\n",
              "      <th>Detector/Descriptor</th>\n",
              "      <th>ParameterName</th>\n",
              "      <th>Parameter</th>\n",
              "    </tr>\n",
              "  </thead>\n",
              "  <tbody>\n",
              "    <tr>\n",
              "      <th>0</th>\n",
              "      <td>0</td>\n",
              "      <td>Small Village Dataset</td>\n",
              "      <td>32.504013</td>\n",
              "      <td>SUPERPOINT</td>\n",
              "      <td>A</td>\n",
              "      <td>weights_path=weights_path,nms_dist = 3,conf_th...</td>\n",
              "    </tr>\n",
              "  </tbody>\n",
              "</table>\n",
              "</div>"
            ],
            "text/plain": [
              "   Unnamed: 0  ...                                          Parameter\n",
              "0           0  ...  weights_path=weights_path,nms_dist = 3,conf_th...\n",
              "\n",
              "[1 rows x 6 columns]"
            ]
          },
          "metadata": {},
          "execution_count": 12
        }
      ]
    },
    {
      "cell_type": "code",
      "metadata": {
        "colab": {
          "base_uri": "https://localhost:8080/",
          "height": 80
        },
        "id": "1hLjHt1zKhs9",
        "outputId": "af689641-e5d3-4c87-fdf4-7ccb5fee3578"
      },
      "source": [
        "df2"
      ],
      "execution_count": 13,
      "outputs": [
        {
          "output_type": "execute_result",
          "data": {
            "text/html": [
              "<div>\n",
              "<style scoped>\n",
              "    .dataframe tbody tr th:only-of-type {\n",
              "        vertical-align: middle;\n",
              "    }\n",
              "\n",
              "    .dataframe tbody tr th {\n",
              "        vertical-align: top;\n",
              "    }\n",
              "\n",
              "    .dataframe thead th {\n",
              "        text-align: right;\n",
              "    }\n",
              "</style>\n",
              "<table border=\"1\" class=\"dataframe\">\n",
              "  <thead>\n",
              "    <tr style=\"text-align: right;\">\n",
              "      <th></th>\n",
              "      <th>Unnamed: 0</th>\n",
              "      <th>Dataset</th>\n",
              "      <th>Time</th>\n",
              "      <th>Detector/Descriptor</th>\n",
              "      <th>ParameterName</th>\n",
              "    </tr>\n",
              "  </thead>\n",
              "  <tbody>\n",
              "    <tr>\n",
              "      <th>0</th>\n",
              "      <td>0</td>\n",
              "      <td>Small Village Dataset</td>\n",
              "      <td>55.797071</td>\n",
              "      <td>SUPERPOINT</td>\n",
              "      <td>B</td>\n",
              "    </tr>\n",
              "  </tbody>\n",
              "</table>\n",
              "</div>"
            ],
            "text/plain": [
              "   Unnamed: 0                Dataset  ...  Detector/Descriptor ParameterName\n",
              "0           0  Small Village Dataset  ...           SUPERPOINT             B\n",
              "\n",
              "[1 rows x 5 columns]"
            ]
          },
          "metadata": {},
          "execution_count": 13
        }
      ]
    },
    {
      "cell_type": "code",
      "metadata": {
        "id": "4OipKSbK2alg"
      },
      "source": [
        "df2['Parameter'] = \"weights_path=weights_path,nms_dist = 4,conf_thresh = 0.03,nn_thresh=0.8\""
      ],
      "execution_count": 14,
      "outputs": []
    },
    {
      "cell_type": "code",
      "metadata": {
        "colab": {
          "base_uri": "https://localhost:8080/",
          "height": 80
        },
        "id": "YJ9tYPPKKhU8",
        "outputId": "2e95e909-9359-4323-db93-833885cfcf33"
      },
      "source": [
        "df2"
      ],
      "execution_count": 15,
      "outputs": [
        {
          "output_type": "execute_result",
          "data": {
            "text/html": [
              "<div>\n",
              "<style scoped>\n",
              "    .dataframe tbody tr th:only-of-type {\n",
              "        vertical-align: middle;\n",
              "    }\n",
              "\n",
              "    .dataframe tbody tr th {\n",
              "        vertical-align: top;\n",
              "    }\n",
              "\n",
              "    .dataframe thead th {\n",
              "        text-align: right;\n",
              "    }\n",
              "</style>\n",
              "<table border=\"1\" class=\"dataframe\">\n",
              "  <thead>\n",
              "    <tr style=\"text-align: right;\">\n",
              "      <th></th>\n",
              "      <th>Unnamed: 0</th>\n",
              "      <th>Dataset</th>\n",
              "      <th>Time</th>\n",
              "      <th>Detector/Descriptor</th>\n",
              "      <th>ParameterName</th>\n",
              "      <th>Parameter</th>\n",
              "    </tr>\n",
              "  </thead>\n",
              "  <tbody>\n",
              "    <tr>\n",
              "      <th>0</th>\n",
              "      <td>0</td>\n",
              "      <td>Small Village Dataset</td>\n",
              "      <td>55.797071</td>\n",
              "      <td>SUPERPOINT</td>\n",
              "      <td>B</td>\n",
              "      <td>weights_path=weights_path,nms_dist = 4,conf_th...</td>\n",
              "    </tr>\n",
              "  </tbody>\n",
              "</table>\n",
              "</div>"
            ],
            "text/plain": [
              "   Unnamed: 0  ...                                          Parameter\n",
              "0           0  ...  weights_path=weights_path,nms_dist = 4,conf_th...\n",
              "\n",
              "[1 rows x 6 columns]"
            ]
          },
          "metadata": {},
          "execution_count": 15
        }
      ]
    },
    {
      "cell_type": "code",
      "metadata": {
        "colab": {
          "base_uri": "https://localhost:8080/",
          "height": 80
        },
        "id": "oc3vYypQK4YA",
        "outputId": "f08dcbea-5adc-419f-bcc4-463a6f85bcfc"
      },
      "source": [
        "df3"
      ],
      "execution_count": 16,
      "outputs": [
        {
          "output_type": "execute_result",
          "data": {
            "text/html": [
              "<div>\n",
              "<style scoped>\n",
              "    .dataframe tbody tr th:only-of-type {\n",
              "        vertical-align: middle;\n",
              "    }\n",
              "\n",
              "    .dataframe tbody tr th {\n",
              "        vertical-align: top;\n",
              "    }\n",
              "\n",
              "    .dataframe thead th {\n",
              "        text-align: right;\n",
              "    }\n",
              "</style>\n",
              "<table border=\"1\" class=\"dataframe\">\n",
              "  <thead>\n",
              "    <tr style=\"text-align: right;\">\n",
              "      <th></th>\n",
              "      <th>Unnamed: 0</th>\n",
              "      <th>Dataset</th>\n",
              "      <th>Time</th>\n",
              "      <th>Detector/Descriptor</th>\n",
              "      <th>ParameterName</th>\n",
              "    </tr>\n",
              "  </thead>\n",
              "  <tbody>\n",
              "    <tr>\n",
              "      <th>0</th>\n",
              "      <td>0</td>\n",
              "      <td>Small Village Dataset</td>\n",
              "      <td>63.625422</td>\n",
              "      <td>SUPERPOINT</td>\n",
              "      <td>C</td>\n",
              "    </tr>\n",
              "  </tbody>\n",
              "</table>\n",
              "</div>"
            ],
            "text/plain": [
              "   Unnamed: 0                Dataset  ...  Detector/Descriptor ParameterName\n",
              "0           0  Small Village Dataset  ...           SUPERPOINT             C\n",
              "\n",
              "[1 rows x 5 columns]"
            ]
          },
          "metadata": {},
          "execution_count": 16
        }
      ]
    },
    {
      "cell_type": "code",
      "metadata": {
        "id": "kmudLwGf2m8R"
      },
      "source": [
        "df3['Parameter'] = \"weights_path=weights_path,nms_dist = 3,conf_thresh = 0.01,nn_thresh=0.3\" "
      ],
      "execution_count": 17,
      "outputs": []
    },
    {
      "cell_type": "code",
      "metadata": {
        "colab": {
          "base_uri": "https://localhost:8080/",
          "height": 80
        },
        "id": "cQVNHBe3LBMk",
        "outputId": "eba2ab63-f60d-4090-deee-5c752d83502d"
      },
      "source": [
        "df3"
      ],
      "execution_count": 18,
      "outputs": [
        {
          "output_type": "execute_result",
          "data": {
            "text/html": [
              "<div>\n",
              "<style scoped>\n",
              "    .dataframe tbody tr th:only-of-type {\n",
              "        vertical-align: middle;\n",
              "    }\n",
              "\n",
              "    .dataframe tbody tr th {\n",
              "        vertical-align: top;\n",
              "    }\n",
              "\n",
              "    .dataframe thead th {\n",
              "        text-align: right;\n",
              "    }\n",
              "</style>\n",
              "<table border=\"1\" class=\"dataframe\">\n",
              "  <thead>\n",
              "    <tr style=\"text-align: right;\">\n",
              "      <th></th>\n",
              "      <th>Unnamed: 0</th>\n",
              "      <th>Dataset</th>\n",
              "      <th>Time</th>\n",
              "      <th>Detector/Descriptor</th>\n",
              "      <th>ParameterName</th>\n",
              "      <th>Parameter</th>\n",
              "    </tr>\n",
              "  </thead>\n",
              "  <tbody>\n",
              "    <tr>\n",
              "      <th>0</th>\n",
              "      <td>0</td>\n",
              "      <td>Small Village Dataset</td>\n",
              "      <td>63.625422</td>\n",
              "      <td>SUPERPOINT</td>\n",
              "      <td>C</td>\n",
              "      <td>weights_path=weights_path,nms_dist = 3,conf_th...</td>\n",
              "    </tr>\n",
              "  </tbody>\n",
              "</table>\n",
              "</div>"
            ],
            "text/plain": [
              "   Unnamed: 0  ...                                          Parameter\n",
              "0           0  ...  weights_path=weights_path,nms_dist = 3,conf_th...\n",
              "\n",
              "[1 rows x 6 columns]"
            ]
          },
          "metadata": {},
          "execution_count": 18
        }
      ]
    },
    {
      "cell_type": "code",
      "metadata": {
        "id": "E12FC_MXLD2Q"
      },
      "source": [
        "df=pd.concat([df1,df2,df3])"
      ],
      "execution_count": 19,
      "outputs": []
    },
    {
      "cell_type": "code",
      "metadata": {
        "colab": {
          "base_uri": "https://localhost:8080/",
          "height": 142
        },
        "id": "QEfaGfQXMYDt",
        "outputId": "dc916a79-e384-489d-c5f1-2f0fed68d2f4"
      },
      "source": [
        "df"
      ],
      "execution_count": 20,
      "outputs": [
        {
          "output_type": "execute_result",
          "data": {
            "text/html": [
              "<div>\n",
              "<style scoped>\n",
              "    .dataframe tbody tr th:only-of-type {\n",
              "        vertical-align: middle;\n",
              "    }\n",
              "\n",
              "    .dataframe tbody tr th {\n",
              "        vertical-align: top;\n",
              "    }\n",
              "\n",
              "    .dataframe thead th {\n",
              "        text-align: right;\n",
              "    }\n",
              "</style>\n",
              "<table border=\"1\" class=\"dataframe\">\n",
              "  <thead>\n",
              "    <tr style=\"text-align: right;\">\n",
              "      <th></th>\n",
              "      <th>Unnamed: 0</th>\n",
              "      <th>Dataset</th>\n",
              "      <th>Time</th>\n",
              "      <th>Detector/Descriptor</th>\n",
              "      <th>ParameterName</th>\n",
              "      <th>Parameter</th>\n",
              "    </tr>\n",
              "  </thead>\n",
              "  <tbody>\n",
              "    <tr>\n",
              "      <th>0</th>\n",
              "      <td>0</td>\n",
              "      <td>Small Village Dataset</td>\n",
              "      <td>32.504013</td>\n",
              "      <td>SUPERPOINT</td>\n",
              "      <td>A</td>\n",
              "      <td>weights_path=weights_path,nms_dist = 3,conf_th...</td>\n",
              "    </tr>\n",
              "    <tr>\n",
              "      <th>0</th>\n",
              "      <td>0</td>\n",
              "      <td>Small Village Dataset</td>\n",
              "      <td>55.797071</td>\n",
              "      <td>SUPERPOINT</td>\n",
              "      <td>B</td>\n",
              "      <td>weights_path=weights_path,nms_dist = 4,conf_th...</td>\n",
              "    </tr>\n",
              "    <tr>\n",
              "      <th>0</th>\n",
              "      <td>0</td>\n",
              "      <td>Small Village Dataset</td>\n",
              "      <td>63.625422</td>\n",
              "      <td>SUPERPOINT</td>\n",
              "      <td>C</td>\n",
              "      <td>weights_path=weights_path,nms_dist = 3,conf_th...</td>\n",
              "    </tr>\n",
              "  </tbody>\n",
              "</table>\n",
              "</div>"
            ],
            "text/plain": [
              "   Unnamed: 0  ...                                          Parameter\n",
              "0           0  ...  weights_path=weights_path,nms_dist = 3,conf_th...\n",
              "0           0  ...  weights_path=weights_path,nms_dist = 4,conf_th...\n",
              "0           0  ...  weights_path=weights_path,nms_dist = 3,conf_th...\n",
              "\n",
              "[3 rows x 6 columns]"
            ]
          },
          "metadata": {},
          "execution_count": 20
        }
      ]
    },
    {
      "cell_type": "code",
      "metadata": {
        "id": "4yyb9x0EcQ64",
        "colab": {
          "base_uri": "https://localhost:8080/",
          "height": 616
        },
        "outputId": "1144e32d-8e41-43f9-b9c0-b71fd8ac598d"
      },
      "source": [
        " import seaborn as sns\n",
        "sns.set_theme(style='whitegrid')\n",
        "\n",
        "\n",
        "g = sns.catplot(\n",
        "    data=df, kind=\"bar\",\n",
        "    x=\"ParameterName\", y=\"Time\", hue=\"Parameter\" ,\n",
        "    ci=\"sd\", palette=\"Spectral\", alpha=.9, height=8, aspect=0.9\n",
        ")\n",
        "g.despine(left=True)\n",
        "g.set_axis_labels(\"Parameter Combinations \", \"Time Taken for Consecutive/Overlapping Images\")\n",
        "g.legend.set_title(\"Parameter Combinations\")\n",
        "g.fig.suptitle(\"Time Taken for SUPERPOINT for different parameter combinations\")"
      ],
      "execution_count": 21,
      "outputs": [
        {
          "output_type": "execute_result",
          "data": {
            "text/plain": [
              "Text(0.5, 0.98, 'Time Taken for SUPERPOINT for different parameter combinations')"
            ]
          },
          "metadata": {},
          "execution_count": 21
        },
        {
          "output_type": "display_data",
          "data": {
            "image/png": "[encoded data removed]",
            "text/plain": [
              "<Figure size 988x576 with 1 Axes>"
            ]
          },
          "metadata": {}
        }
      ]
    },
    {
      "cell_type": "code",
      "metadata": {
        "id": "w8oosWzjbFpS"
      },
      "source": [
        ""
      ],
      "execution_count": null,
      "outputs": []
    }
  ]
}
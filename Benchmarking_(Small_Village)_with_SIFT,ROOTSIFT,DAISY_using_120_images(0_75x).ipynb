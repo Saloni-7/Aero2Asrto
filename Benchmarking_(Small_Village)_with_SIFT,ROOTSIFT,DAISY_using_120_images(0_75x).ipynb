{
  "nbformat": 4,
  "nbformat_minor": 0,
  "metadata": {
    "colab": {
      "name": "Benchmarking_(Small_Village)_with_SIFT,ROOTSIFT,DAISY_using_120_images(0_75x).ipynb",
      "provenance": [],
      "collapsed_sections": []
    },
    "kernelspec": {
      "name": "python3",
      "display_name": "Python 3"
    },
    "language_info": {
      "name": "python"
    }
  },
  "cells": [
    {
      "cell_type": "code",
      "metadata": {
        "id": "aa8bfJcWCWFb"
      },
      "source": [
        "import numpy as np\n",
        "import cv2\n",
        "import scipy.io\n",
        "import os\n",
        "from numpy.linalg import norm\n",
        "from matplotlib import pyplot as plt\n",
        "from numpy.linalg import det\n",
        "from numpy.linalg import inv\n",
        "from scipy.linalg import rq\n",
        "from numpy.linalg import svd\n",
        "import matplotlib.pyplot as plt\n",
        "import numpy as np\n",
        "import math\n",
        "import random\n",
        "import sys\n",
        "from scipy import ndimage, spatial\n",
        "from tqdm.notebook import tqdm, trange\n",
        "\n",
        "import torch\n",
        "import torch.nn as nn\n",
        "import torch.optim as optim\n",
        "from torch.optim import lr_scheduler\n",
        "from torch.autograd import Variable\n",
        "import torchvision\n",
        "from torchvision import datasets, models, transforms\n",
        "from torch.utils.data import Dataset, DataLoader, ConcatDataset\n",
        "from skimage import io, transform,data\n",
        "from torchvision import transforms, utils\n",
        "import numpy as np\n",
        "import math\n",
        "import glob\n",
        "import matplotlib.pyplot as plt\n",
        "import time\n",
        "import os\n",
        "import copy\n",
        "import sklearn.svm\n",
        "import cv2\n",
        "from matplotlib import pyplot as plt\n",
        "import numpy as np\n",
        "from os.path import exists\n",
        "import pandas as pd\n",
        "import PIL\n",
        "import random\n",
        "from google.colab import drive\n",
        "from sklearn.metrics.cluster import completeness_score\n",
        "from sklearn.cluster import KMeans\n",
        "from tqdm import tqdm, tqdm_notebook\n",
        "from functools import partial\n",
        "from torchsummary import summary\n",
        "from torchvision.datasets import ImageFolder\n",
        "from torch.utils.data.sampler import SubsetRandomSampler\n",
        "import h5py as h5\n",
        "\n",
        "#cuda_output = !ldconfig -p|grep cudart.so|sed -e 's/.*\\.\\([0-9]*\\)\\.\\([0-9]*\\)$/cu\\1\\2/'\n",
        "#accelerator = cuda_output[0] if exists('/dev/nvidia0') else 'cpu'\n",
        "\n",
        "#print(\"Accelerator type = \",accelerator)\n",
        "#print(\"Pytorch verision: \", torch.__version__)"
      ],
      "execution_count": 1,
      "outputs": []
    },
    {
      "cell_type": "code",
      "metadata": {
        "colab": {
          "base_uri": "https://localhost:8080/"
        },
        "id": "rL9rcKHAChcb",
        "outputId": "7aee11f2-09a8-48bc-ec4a-870f70435144"
      },
      "source": [
        "from google.colab import drive\n",
        "\n",
        "# This will prompt for authorization.\n",
        "drive.mount('/content/drive')"
      ],
      "execution_count": 2,
      "outputs": [
        {
          "output_type": "stream",
          "text": [
            "Drive already mounted at /content/drive; to attempt to forcibly remount, call drive.mount(\"/content/drive\", force_remount=True).\n"
          ],
          "name": "stdout"
        }
      ]
    },
    {
      "cell_type": "code",
      "metadata": {
        "id": "KdSkrM1pGGNf"
      },
      "source": [
        "#!pip install ipython-autotime\n",
        "\n",
        "#%load_ext autotime"
      ],
      "execution_count": null,
      "outputs": []
    },
    {
      "cell_type": "code",
      "metadata": {
        "colab": {
          "base_uri": "https://localhost:8080/"
        },
        "id": "-VFwhM5HChUt",
        "outputId": "38b06a9e-ccbc-4789-bc58-ea1b2aa32591"
      },
      "source": [
        "!pip install opencv-python==3.4.2.17\n",
        "!pip install opencv-contrib-python==3.4.2.17"
      ],
      "execution_count": 3,
      "outputs": [
        {
          "output_type": "stream",
          "text": [
            "Requirement already satisfied: opencv-python==3.4.2.17 in /usr/local/lib/python3.7/dist-packages (3.4.2.17)\n",
            "Requirement already satisfied: numpy>=1.14.5 in /usr/local/lib/python3.7/dist-packages (from opencv-python==3.4.2.17) (1.19.5)\n",
            "Requirement already satisfied: opencv-contrib-python==3.4.2.17 in /usr/local/lib/python3.7/dist-packages (3.4.2.17)\n",
            "Requirement already satisfied: numpy>=1.14.5 in /usr/local/lib/python3.7/dist-packages (from opencv-contrib-python==3.4.2.17) (1.19.5)\n"
          ],
          "name": "stdout"
        }
      ]
    },
    {
      "cell_type": "code",
      "metadata": {
        "id": "hl3jpVdOChL1"
      },
      "source": [
        "class Image:\n",
        "    def __init__(self, img, position):\n",
        "        \n",
        "        self.img = img\n",
        "        self.position = position\n",
        "\n",
        "inlier_matchset = []\n",
        "def features_matching(a,keypointlength,threshold):\n",
        "  #threshold=0.2\n",
        "  bestmatch=np.empty((keypointlength),dtype= np.int16)\n",
        "  img1index=np.empty((keypointlength),dtype=np.int16)\n",
        "  distance=np.empty((keypointlength))\n",
        "  index=0\n",
        "  for j in range(0,keypointlength):\n",
        "    #For a descriptor fa in Ia, take the two closest descriptors fb1 and fb2 in Ib\n",
        "    x=a[j]\n",
        "    listx=x.tolist()\n",
        "    x.sort()\n",
        "    minval1=x[0]                                # min \n",
        "    minval2=x[1]                                # 2nd min\n",
        "    itemindex1 = listx.index(minval1)           #index of min val    \n",
        "    itemindex2 = listx.index(minval2)           #index of second min value \n",
        "    ratio=minval1/minval2                       #Ratio Test\n",
        "    \n",
        "    if ratio<threshold: \n",
        "      #Low distance ratio: fb1 can be a good match\n",
        "      bestmatch[index]=itemindex1\n",
        "      distance[index]=minval1\n",
        "      img1index[index]=j\n",
        "      index=index+1\n",
        "  return  [cv2.DMatch(img1index[i],bestmatch[i].astype(int),distance[i]) for i in range(0,index)]\n",
        "          \n",
        "   \n",
        "  \n",
        "def compute_Homography(im1_pts,im2_pts):\n",
        "  \"\"\"\n",
        "  im1_pts and im2_pts are 2×n matrices with\n",
        "  4 point correspondences from the two images\n",
        "  \"\"\"\n",
        "  num_matches=len(im1_pts)\n",
        "  num_rows = 2 * num_matches\n",
        "  num_cols = 9\n",
        "  A_matrix_shape = (num_rows,num_cols)\n",
        "  A = np.zeros(A_matrix_shape)\n",
        "  a_index = 0\n",
        "  for i in range(0,num_matches):\n",
        "    (a_x, a_y) = im1_pts[i]\n",
        "    (b_x, b_y) = im2_pts[i]\n",
        "    row1 = [a_x, a_y, 1, 0, 0, 0, -b_x*a_x, -b_x*a_y, -b_x] # First row \n",
        "    row2 = [0, 0, 0, a_x, a_y, 1, -b_y*a_x, -b_y*a_y, -b_y] # Second row \n",
        "\n",
        "    # place the rows in the matrix\n",
        "    A[a_index] = row1\n",
        "    A[a_index+1] = row2\n",
        "\n",
        "    a_index += 2\n",
        "    \n",
        "  U, s, Vt = np.linalg.svd(A)\n",
        "\n",
        "  #s is a 1-D array of singular values sorted in descending order\n",
        "  #U, Vt are unitary matrices\n",
        "  #Rows of Vt are the eigenvectors of A^TA.\n",
        "  #Columns of U are the eigenvectors of AA^T.\n",
        "  H = np.eye(3)\n",
        "  H = Vt[-1].reshape(3,3) # take the last row of the Vt matrix\n",
        "  return H\n",
        "  \n",
        "  \n",
        "def displayplot(img,title):\n",
        "  \n",
        "  plt.figure(figsize=(15,15))\n",
        "  plt.title(title)\n",
        "  plt.imshow(cv2.cvtColor(img, cv2.COLOR_BGR2RGB))\n",
        "  plt.show()"
      ],
      "execution_count": 2,
      "outputs": []
    },
    {
      "cell_type": "code",
      "metadata": {
        "id": "rJz6bnF_CgaL"
      },
      "source": [
        "def get_inliers(f1, f2, matches, H, RANSACthresh):\n",
        "\n",
        "  inlier_indices = []\n",
        "  for i in range(len(matches)):\n",
        "    queryInd = matches[i].queryIdx\n",
        "    trainInd = matches[i].trainIdx\n",
        "\n",
        "    #queryInd = matches[i][0]\n",
        "    #trainInd = matches[i][1]\n",
        "\n",
        "    queryPoint = np.array([f1[queryInd].pt[0],  f1[queryInd].pt[1], 1]).T \n",
        "    trans_query = H.dot(queryPoint) \n",
        "\n",
        "   \n",
        "    comp1 = [trans_query[0]/trans_query[2], trans_query[1]/trans_query[2]] # normalize with respect to z\n",
        "    comp2 = np.array(f2[trainInd].pt)[:2]\n",
        "    \n",
        "\n",
        "    if(np.linalg.norm(comp1-comp2) <= RANSACthresh): # check against threshold\n",
        "      inlier_indices.append(i)\n",
        "  return inlier_indices\n",
        "\n",
        "\n",
        "def RANSAC_alg(f1, f2, matches, nRANSAC, RANSACthresh):\n",
        "\n",
        "      \n",
        "    minMatches = 4\n",
        "    nBest = 0\n",
        "    best_inliers = []\n",
        "    H_estimate = np.eye(3,3)\n",
        "    global inlier_matchset\n",
        "    inlier_matchset=[]\n",
        "    for iteration in range(nRANSAC):\n",
        "      \n",
        "        #Choose a minimal set of feature matches.\n",
        "        matchSample = random.sample(matches, minMatches)\n",
        "        \n",
        "        #Estimate the Homography implied by these matches\n",
        "        im1_pts=np.empty((minMatches,2))\n",
        "        im2_pts=np.empty((minMatches,2))\n",
        "        for i in range(0,minMatches):\n",
        "          m = matchSample[i]\n",
        "          im1_pts[i] = f1[m.queryIdx].pt\n",
        "          im2_pts[i] = f2[m.trainIdx].pt\n",
        "          #im1_pts[i] = f1[m[0]].pt\n",
        "          #im2_pts[i] = f2[m[1]].pt             \n",
        "          \n",
        "        H_estimate=compute_Homography(im1_pts,im2_pts)\n",
        "        \n",
        "               \n",
        "        # Calculate the inliers for the H\n",
        "        inliers = get_inliers(f1, f2, matches, H_estimate, RANSACthresh)\n",
        "\n",
        "        # if the number of inliers is higher than previous iterations, update the best estimates\n",
        "        if len(inliers) > nBest:\n",
        "            nBest= len(inliers)\n",
        "            best_inliers = inliers\n",
        "\n",
        "    print(\"Number of best inliers\",len(best_inliers))\n",
        "    for i in range(len(best_inliers)):\n",
        "      inlier_matchset.append(matches[best_inliers[i]])\n",
        "    \n",
        "    # compute a homography given this set of matches\n",
        "    im1_pts=np.empty((len(best_inliers),2))\n",
        "    im2_pts=np.empty((len(best_inliers),2))\n",
        "    for i in range(0,len(best_inliers)):\n",
        "      m = inlier_matchset[i]\n",
        "      im1_pts[i] = f1[m.queryIdx].pt\n",
        "      im2_pts[i] = f2[m.trainIdx].pt\n",
        "      #im1_pts[i] = f1[m[0]].pt\n",
        "      #im2_pts[i] = f2[m[1]].pt\n",
        "\n",
        "    M=compute_Homography(im1_pts,im2_pts)\n",
        "    return M, best_inliers"
      ],
      "execution_count": 3,
      "outputs": []
    },
    {
      "cell_type": "code",
      "metadata": {
        "id": "RV-a3Gc2CgHC"
      },
      "source": [
        "tqdm = partial(tqdm, position=0, leave=True)"
      ],
      "execution_count": 4,
      "outputs": []
    },
    {
      "cell_type": "code",
      "metadata": {
        "id": "43ZzIO2rDcxW"
      },
      "source": [
        "files_all=[]\n",
        "for file in os.listdir(\"/content/drive/MyDrive/geotagged-images\"):\n",
        "    if file.endswith(\".JPG\"):\n",
        "      files_all.append(file)\n",
        "\n",
        "\n",
        "files_all.sort()\n",
        "folder_path = '/content/drive/MyDrive/geotagged-images/'\n",
        "\n",
        "#centre_file = folder_path + files_all[50]\n",
        "left_files_path_rev = []\n",
        "right_files_path = []\n",
        "\n",
        "\n",
        "#Change this according to your dataset split\n",
        "\n",
        "for file in files_all[:61]:\n",
        "  left_files_path_rev.append(folder_path + file)\n",
        "\n",
        "left_files_path = left_files_path_rev[::-1]\n",
        "\n",
        "for file in files_all[60:120]:\n",
        "  right_files_path.append(folder_path + file)"
      ],
      "execution_count": 5,
      "outputs": []
    },
    {
      "cell_type": "code",
      "metadata": {
        "colab": {
          "base_uri": "https://localhost:8080/"
        },
        "id": "lqngRpI6UabS",
        "outputId": "e78bd14b-ef56-4cdb-bb61-798ec8871603"
      },
      "source": [
        "print(len(files_all))"
      ],
      "execution_count": 6,
      "outputs": [
        {
          "output_type": "stream",
          "text": [
            "297\n"
          ],
          "name": "stdout"
        }
      ]
    },
    {
      "cell_type": "code",
      "metadata": {
        "id": "ERrE4NuoDcqr"
      },
      "source": [
        "from multiprocessing import Pool"
      ],
      "execution_count": 7,
      "outputs": []
    },
    {
      "cell_type": "code",
      "metadata": {
        "colab": {
          "base_uri": "https://localhost:8080/"
        },
        "id": "cJYWbq9HDcaS",
        "outputId": "8843a84e-79bf-44ef-edc9-8ba901924b6f"
      },
      "source": [
        "import multiprocessing\n",
        "print(multiprocessing.cpu_count())\n"
      ],
      "execution_count": 8,
      "outputs": [
        {
          "output_type": "stream",
          "text": [
            "2\n"
          ],
          "name": "stdout"
        }
      ]
    },
    {
      "cell_type": "code",
      "metadata": {
        "colab": {
          "base_uri": "https://localhost:8080/"
        },
        "id": "SiG8CVOtHaP-",
        "outputId": "80a39aa0-c03a-4ba3-a3cb-827e076df29f"
      },
      "source": [
        "gridsize = 8\n",
        "clahe = cv2.createCLAHE(clipLimit=2.0,tileGridSize=(gridsize,gridsize))\n",
        "\n",
        "images_left_bgr = []\n",
        "images_right_bgr = []\n",
        "\n",
        "images_left = []\n",
        "images_right = []\n",
        "\n",
        "for file in tqdm(left_files_path):\n",
        "  left_image_sat= cv2.imread(file)\n",
        "  lab = cv2.cvtColor(left_image_sat, cv2.COLOR_BGR2LAB)\n",
        "  lab[...,0] = clahe.apply(lab[...,0])\n",
        "  left_image_sat = cv2.cvtColor(lab, cv2.COLOR_LAB2BGR)\n",
        "  left_img = cv2.resize(left_image_sat,None,fx=0.75, fy=0.75, interpolation = cv2.INTER_CUBIC )\n",
        "  #images_left.append(cv2.cvtColor(left_img, cv2.COLOR_BGR2GRAY).astype('float32')/255.)\n",
        "  images_left_bgr.append(left_img)\n",
        "\n",
        "\n",
        "for file in tqdm(right_files_path):\n",
        "  right_image_sat= cv2.imread(file)\n",
        "  lab = cv2.cvtColor(right_image_sat, cv2.COLOR_BGR2LAB)\n",
        "  lab[...,0] = clahe.apply(lab[...,0])\n",
        "  right_image_sat = cv2.cvtColor(lab, cv2.COLOR_LAB2BGR)\n",
        "  right_img = cv2.resize(right_image_sat,None,fx=0.75,fy=0.75, interpolation = cv2.INTER_CUBIC )\n",
        "  #images_right.append(cv2.cvtColor(right_img, cv2.COLOR_BGR2GRAY).astype('float32')/255.)\n",
        "  images_right_bgr.append(right_img)"
      ],
      "execution_count": 9,
      "outputs": [
        {
          "output_type": "stream",
          "text": [
            "100%|██████████| 61/61 [00:52<00:00,  1.16it/s]\n",
            "100%|██████████| 60/60 [01:03<00:00,  1.06s/it]\n"
          ],
          "name": "stderr"
        }
      ]
    },
    {
      "cell_type": "code",
      "metadata": {
        "id": "QZZ5LCMiUjBR"
      },
      "source": [
        "Dataset = 'Small Village Dataset'"
      ],
      "execution_count": 10,
      "outputs": []
    },
    {
      "cell_type": "code",
      "metadata": {
        "colab": {
          "base_uri": "https://localhost:8080/"
        },
        "id": "DcRM1Hn0HaKt",
        "outputId": "150aeeb8-32dc-43fe-d341-606a27199772"
      },
      "source": [
        "f=h5.File(f'drive/MyDrive/all_images_bgr_{Dataset}.h5','w')\n",
        "t0=time.time()\n",
        "f.create_dataset('data',data=images_left_bgr + images_right_bgr)\n",
        "f.close()\n",
        "print('HDF5  w/o comp.:',time.time()-t0,'[s] ... size',os.path.getsize(f'drive/MyDrive/all_images_bgr_{Dataset}.h5')/1.e6,'MB')"
      ],
      "execution_count": 11,
      "outputs": [
        {
          "output_type": "stream",
          "text": [
            "HDF5  w/o comp.: 60.793731689453125 [s] ... size 3251.738624 MB\n"
          ],
          "name": "stdout"
        }
      ]
    },
    {
      "cell_type": "code",
      "metadata": {
        "id": "k7daORhhPUlY"
      },
      "source": [
        "'''\n",
        "f=h5.File(f'drive/MyDrive/all_images_gray_{Dataset}.h5','w')\n",
        "t0=time.time()\n",
        "f.create_dataset('data',data=images_left + images_right)\n",
        "f.close()\n",
        "print('HDF5  w/o comp.:',time.time()-t0,'[s] ... size',os.path.getsize(f'drive/MyDrive/all_images_gray_{Dataset}.h5')/1.e6,'MB')"
      ],
      "execution_count": null,
      "outputs": []
    },
    {
      "cell_type": "code",
      "metadata": {
        "id": "WuMrRmX4PUe1"
      },
      "source": [
        "del images_left_bgr,images_right_bgr"
      ],
      "execution_count": 12,
      "outputs": []
    },
    {
      "cell_type": "code",
      "metadata": {
        "id": "Vu0CPw_HPUXk"
      },
      "source": [
        "#images_left_bgr_no_enhance = []\n",
        "#images_right_bgr_no_enhance = []\n",
        "\n",
        "#for file in tqdm(left_files_path):\n",
        "#  left_image_sat= cv2.imread(file)\n",
        "#  left_img = cv2.resize(left_image_sat,None,fx=0.35, fy=0.35, interpolation = cv2.INTER_CUBIC)\n",
        "#  images_left_bgr_no_enhance.append(left_img)\n",
        "\n",
        "#for file in tqdm(right_files_path):\n",
        "# right_image_sat= cv2.imread(file)\n",
        "#  right_img = cv2.resize(right_image_sat,None,fx=0.35,fy=0.35, interpolation = cv2.INTER_CUBIC)\n",
        "#  images_right_bgr_no_enhance.append(right_img)"
      ],
      "execution_count": null,
      "outputs": []
    },
    {
      "cell_type": "code",
      "metadata": {
        "id": "Pw1048ZtPUPW"
      },
      "source": [
        "from timeit import default_timer as timer"
      ],
      "execution_count": 13,
      "outputs": []
    },
    {
      "cell_type": "code",
      "metadata": {
        "id": "nEz_15CQRVZ4"
      },
      "source": [
        "time_all = []"
      ],
      "execution_count": 14,
      "outputs": []
    },
    {
      "cell_type": "code",
      "metadata": {
        "id": "Q6qDnTfWRnoy"
      },
      "source": [
        "num_kps_sift = []\n",
        "num_kps_brisk = []\n",
        "num_kps_agast = []\n",
        "num_kps_kaze = []\n",
        "num_kps_akaze = []\n",
        "num_kps_orb = []\n",
        "num_kps_mser = []\n",
        "num_kps_daisy = []\n",
        "num_kps_surfsift = []\n",
        "num_kps_fast = []\n",
        "num_kps_freak = []\n",
        "num_kps_gftt = []\n",
        "num_kps_star = []\n",
        "num_kps_surf = []\n",
        "num_kps_rootsift = []\n",
        "num_kps_superpoint = []\n"
      ],
      "execution_count": 15,
      "outputs": []
    },
    {
      "cell_type": "code",
      "metadata": {
        "id": "KBJtyrsMHVw2"
      },
      "source": [
        "images_left_bgr=[]\n",
        "images_right_bgr=[]"
      ],
      "execution_count": 16,
      "outputs": []
    },
    {
      "cell_type": "markdown",
      "metadata": {
        "id": "0XzUMd-6AvOu"
      },
      "source": [
        "BRISK"
      ]
    },
    {
      "cell_type": "code",
      "metadata": {
        "id": "vEgZRVa2AtnF"
      },
      "source": [
        "'''\n",
        "Threshl=60;\n",
        "Octaves=6; \n",
        "#PatternScales=1.0f;\n",
        "\n",
        "start = timer()\n",
        "\n",
        "brisk = cv2.BRISK_create(Threshl,Octaves)\n",
        "\n",
        "\n",
        "keypoints_all_left_brisk = []\n",
        "descriptors_all_left_brisk = []\n",
        "points_all_left_brisk=[]\n",
        "\n",
        "keypoints_all_right_brisk = []\n",
        "descriptors_all_right_brisk = []\n",
        "points_all_right_brisk=[]\n",
        "\n",
        "for cnt in tqdm(range(len(left_files_path))):\n",
        "  f=h5.File(f'drive/MyDrive/all_images_bgr_{Dataset}.h5','r')\n",
        "  imgs = f['data'][cnt]\n",
        "  f.close()  \n",
        "  kpt = brisk.detect(imgs,None)\n",
        "  kpt,descrip =  brisk.compute(imgs, kpt)\n",
        "  keypoints_all_left_brisk.append(kpt)\n",
        "  descriptors_all_left_brisk.append(descrip)\n",
        "  #points_all_left_brisk.append(np.asarray([[p.pt[0], p.pt[1]] for p in kpt]))\n",
        "\n",
        "for cnt in tqdm(range(len(right_files_path))):\n",
        "  f=h5.File(f'drive/MyDrive/all_images_bgr_{Dataset}.h5','r')\n",
        "  imgs = f['data'][cnt+len(left_files_path)]\n",
        "  f.close()  \n",
        "  kpt = brisk.detect(imgs,None)\n",
        "  kpt,descrip =  brisk.compute(imgs, kpt)\n",
        "  keypoints_all_right_brisk.append(kpt)\n",
        "  descriptors_all_right_brisk.append(descrip)\n",
        "  #points_all_right_brisk.append(np.asarray([[p.pt[0], p.pt[1]] for p in kpt]))\n",
        "\n",
        "end = timer()\n",
        "\n",
        "time_all.append(end-start)"
      ],
      "execution_count": null,
      "outputs": []
    },
    {
      "cell_type": "code",
      "metadata": {
        "id": "t-kBwl3FAtc2"
      },
      "source": [
        "'''\n",
        "for j in tqdm(keypoints_all_left_brisk + keypoints_all_right_brisk[1:]):\n",
        "  num_kps_brisk.append(len(j))"
      ],
      "execution_count": null,
      "outputs": []
    },
    {
      "cell_type": "code",
      "metadata": {
        "id": "toJp9ANJA1B7"
      },
      "source": [
        "'''\n",
        "all_feat_brisk_left = []\n",
        "for cnt,kpt_all in enumerate(keypoints_all_left_brisk):\n",
        "  all_feat_brisk_left_each = []\n",
        "  for cnt_each, kpt in enumerate(kpt_all):\n",
        "    desc = descriptors_all_left_brisk[cnt][cnt_each]\n",
        "    temp = (kpt.pt, kpt.size, kpt.angle, kpt.response, kpt.octave, \n",
        "        kpt.class_id, desc)\n",
        "    all_feat_brisk_left_each.append(temp)\n",
        "  all_feat_brisk_left.append(all_feat_brisk_left_each)"
      ],
      "execution_count": null,
      "outputs": []
    },
    {
      "cell_type": "code",
      "metadata": {
        "id": "wCJoIhp3A0-_"
      },
      "source": [
        "'''\n",
        "all_feat_brisk_right = []\n",
        "for cnt,kpt_all in enumerate(keypoints_all_right_brisk):\n",
        "  all_feat_brisk_right_each = []\n",
        "  for cnt_each, kpt in enumerate(kpt_all):\n",
        "    desc = descriptors_all_right_brisk[cnt][cnt_each]\n",
        "    temp = (kpt.pt, kpt.size, kpt.angle, kpt.response, kpt.octave, \n",
        "        kpt.class_id, desc)\n",
        "    all_feat_brisk_right_each.append(temp)\n",
        "  all_feat_brisk_right.append(all_feat_brisk_right_each)"
      ],
      "execution_count": null,
      "outputs": []
    },
    {
      "cell_type": "code",
      "metadata": {
        "id": "W50kDEIyA07K"
      },
      "source": [
        "'''\n",
        "del keypoints_all_left_brisk, keypoints_all_right_brisk, descriptors_all_left_brisk, descriptors_all_right_brisk"
      ],
      "execution_count": null,
      "outputs": []
    },
    {
      "cell_type": "code",
      "metadata": {
        "id": "K9phujFrA04X"
      },
      "source": [
        "'''\n",
        "import pickle\n",
        "Fdb = open('all_feat_brisk_left.dat', 'wb')\n",
        "pickle.dump(all_feat_brisk_left,Fdb,-1)\n",
        "Fdb.close()"
      ],
      "execution_count": null,
      "outputs": []
    },
    {
      "cell_type": "code",
      "metadata": {
        "id": "VzyVXsHwA00p"
      },
      "source": [
        "'''\n",
        "import pickle\n",
        "Fdb = open('all_feat_brisk_right.dat', 'wb')\n",
        "pickle.dump(all_feat_brisk_right,Fdb,-1)\n",
        "Fdb.close()"
      ],
      "execution_count": null,
      "outputs": []
    },
    {
      "cell_type": "code",
      "metadata": {
        "id": "xULi5lVwA0vZ"
      },
      "source": [
        "'''\n",
        "del Fdb, all_feat_brisk_left, all_feat_brisk_right"
      ],
      "execution_count": null,
      "outputs": []
    },
    {
      "cell_type": "markdown",
      "metadata": {
        "id": "JYC1agZ6BBZo"
      },
      "source": [
        "ORB"
      ]
    },
    {
      "cell_type": "code",
      "metadata": {
        "id": "TQ4R8QrDA_Zr"
      },
      "source": [
        "'''\n",
        "orb = cv2.ORB_create(20000)\n",
        "\n",
        "start = timer()\n",
        "\n",
        "\n",
        "keypoints_all_left_orb = []\n",
        "descriptors_all_left_orb = []\n",
        "points_all_left_orb=[]\n",
        "\n",
        "keypoints_all_right_orb = []\n",
        "descriptors_all_right_orb = []\n",
        "points_all_right_orb=[]\n",
        "\n",
        "for cnt in tqdm(range(len(left_files_path))):\n",
        "  f=h5.File(f'drive/MyDrive/all_images_bgr_{Dataset}.h5','r')\n",
        "  imgs = f['data'][cnt]\n",
        "  f.close()    \n",
        "  kpt = orb.detect(imgs,None)\n",
        "  kpt,descrip =  orb.compute(imgs, kpt)\n",
        "  keypoints_all_left_orb.append(kpt)\n",
        "  descriptors_all_left_orb.append(descrip)\n",
        "  #points_all_left_orb.append(np.asarray([[p.pt[0], p.pt[1]] for p in kpt]))\n",
        "\n",
        "for cnt in tqdm(range(len(right_files_path))):\n",
        "  f=h5.File(f'drive/MyDrive/all_images_bgr_{Dataset}.h5','r')\n",
        "  imgs = f['data'][cnt+len(left_files_path)]\n",
        "  f.close()  \n",
        "  kpt = orb.detect(imgs,None)\n",
        "  kpt,descrip =  orb.compute(imgs, kpt)\n",
        "  keypoints_all_right_orb.append(kpt)\n",
        "  descriptors_all_right_orb.append(descrip)\n",
        "  #points_all_right_orb.append(np.asarray([[p.pt[0], p.pt[1]] for p in kpt]))\n",
        "\n",
        "end = timer()\n",
        "\n",
        "time_all.append(end-start)"
      ],
      "execution_count": null,
      "outputs": []
    },
    {
      "cell_type": "code",
      "metadata": {
        "id": "6a6mfgoZA_To"
      },
      "source": [
        "'''\n",
        "for j in tqdm(keypoints_all_left_orb + keypoints_all_right_orb[1:]):\n",
        "  num_kps_orb.append(len(j))"
      ],
      "execution_count": null,
      "outputs": []
    },
    {
      "cell_type": "code",
      "metadata": {
        "id": "-djChAE5A_Q8"
      },
      "source": [
        "'''\n",
        "all_feat_orb_left = []\n",
        "for cnt,kpt_all in enumerate(keypoints_all_left_orb):\n",
        "  all_feat_orb_left_each = []\n",
        "  for cnt_each, kpt in enumerate(kpt_all):\n",
        "    desc = descriptors_all_left_orb[cnt][cnt_each]\n",
        "    temp = (kpt.pt, kpt.size, kpt.angle, kpt.response, kpt.octave, \n",
        "        kpt.class_id, desc)\n",
        "    all_feat_orb_left_each.append(temp)\n",
        "  all_feat_orb_left.append(all_feat_orb_left_each)"
      ],
      "execution_count": null,
      "outputs": []
    },
    {
      "cell_type": "code",
      "metadata": {
        "id": "SameNN1xA_NJ"
      },
      "source": [
        "'''\n",
        "all_feat_orb_right = []\n",
        "for cnt,kpt_all in enumerate(keypoints_all_right_orb):\n",
        "  all_feat_orb_right_each = []\n",
        "  for cnt_each, kpt in enumerate(kpt_all):\n",
        "    desc = descriptors_all_right_orb[cnt][cnt_each]\n",
        "    temp = (kpt.pt, kpt.size, kpt.angle, kpt.response, kpt.octave, \n",
        "        kpt.class_id, desc)\n",
        "    all_feat_orb_right_each.append(temp)\n",
        "  all_feat_orb_right.append(all_feat_orb_right_each)"
      ],
      "execution_count": null,
      "outputs": []
    },
    {
      "cell_type": "code",
      "metadata": {
        "id": "ZewtuV_dA_JC"
      },
      "source": [
        "'''\n",
        "del keypoints_all_left_orb, keypoints_all_right_orb, descriptors_all_left_orb, descriptors_all_right_orb"
      ],
      "execution_count": null,
      "outputs": []
    },
    {
      "cell_type": "code",
      "metadata": {
        "id": "GkiRp1evBLeA"
      },
      "source": [
        "'''\n",
        "import pickle\n",
        "Fdb = open('all_feat_orb_left.dat', 'wb')\n",
        "pickle.dump(all_feat_orb_left,Fdb,-1)\n",
        "Fdb.close()"
      ],
      "execution_count": null,
      "outputs": []
    },
    {
      "cell_type": "code",
      "metadata": {
        "id": "vaGMXXk3BLa3"
      },
      "source": [
        "'''\n",
        "import pickle\n",
        "Fdb = open('all_feat_orb_right.dat', 'wb')\n",
        "pickle.dump(all_feat_orb_right,Fdb,-1)\n",
        "Fdb.close()"
      ],
      "execution_count": null,
      "outputs": []
    },
    {
      "cell_type": "code",
      "metadata": {
        "id": "Q6U0t9SKBLYX"
      },
      "source": [
        "'''\n",
        "del Fdb, all_feat_orb_left, all_feat_orb_right"
      ],
      "execution_count": null,
      "outputs": []
    },
    {
      "cell_type": "markdown",
      "metadata": {
        "id": "mpoh-2DHWFSW"
      },
      "source": [
        "KAZE\n"
      ]
    },
    {
      "cell_type": "code",
      "metadata": {
        "id": "kvn4HVDOvquh"
      },
      "source": [
        "'''\n",
        "start = timer()\n",
        "\n",
        "kaze = cv2.KAZE_create()\n",
        "\n",
        "\n",
        "keypoints_all_left_kaze = []\n",
        "descriptors_all_left_kaze = []\n",
        "points_all_left_kaze=[]\n",
        "\n",
        "keypoints_all_right_kaze = []\n",
        "descriptors_all_right_kaze = []\n",
        "points_all_right_kaze=[]\n",
        "\n",
        "for cnt in tqdm(range(len(left_files_path))):\n",
        "  f=h5.File(f'drive/MyDrive/all_images_bgr_{Dataset}.h5','r')\n",
        "  imgs = f['data'][cnt]\n",
        "  f.close()     \n",
        "  kpt = kaze.detect(imgs,None)\n",
        "  kpt,descrip =  kaze.compute(imgs, kpt)\n",
        "  keypoints_all_left_kaze.append(kpt)\n",
        "  descriptors_all_left_kaze.append(descrip)\n",
        "  #points_all_left_kaze.append(np.asarray([[p.pt[0], p.pt[1]] for p in kpt]))\n",
        "\n",
        "for cnt in tqdm(range(len(right_files_path))):\n",
        "  f=h5.File(f'drive/MyDrive/all_images_bgr_{Dataset}.h5','r')\n",
        "  imgs = f['data'][cnt+len(left_files_path)]\n",
        "  f.close()  \n",
        "  kpt = kaze.detect(imgs,None)\n",
        "  kpt,descrip =  kaze.compute(imgs, kpt)\n",
        "  keypoints_all_right_kaze.append(kpt)\n",
        "  descriptors_all_right_kaze.append(descrip)\n",
        "  #points_all_right_kaze.append(np.asarray([[p.pt[0], p.pt[1]] for p in kpt]))\n",
        "\n",
        "end = timer()\n",
        "\n",
        "time_all.append(end-start)"
      ],
      "execution_count": null,
      "outputs": []
    },
    {
      "cell_type": "code",
      "metadata": {
        "id": "a7j0fqIeRVPF"
      },
      "source": [
        "'''\n",
        "for j in tqdm(keypoints_all_left_kaze + keypoints_all_right_kaze[1:]):\n",
        "  num_kps_kaze.append(len(j))"
      ],
      "execution_count": null,
      "outputs": []
    },
    {
      "cell_type": "code",
      "metadata": {
        "id": "GnxCPMDvRVKW"
      },
      "source": [
        "'''\n",
        "all_feat_kaze_left = []\n",
        "for cnt,kpt_all in enumerate(keypoints_all_left_kaze):\n",
        "  all_feat_kaze_left_each = []\n",
        "  for cnt_each, kpt in enumerate(kpt_all):\n",
        "    desc = descriptors_all_left_kaze[cnt][cnt_each]\n",
        "    temp = (kpt.pt, kpt.size, kpt.angle, kpt.response, kpt.octave, \n",
        "        kpt.class_id, desc)\n",
        "    all_feat_kaze_left_each.append(temp)\n",
        "  all_feat_kaze_left.append(all_feat_kaze_left_each)"
      ],
      "execution_count": null,
      "outputs": []
    },
    {
      "cell_type": "code",
      "metadata": {
        "id": "n_rsRaTnRVEq"
      },
      "source": [
        "'''\n",
        "all_feat_kaze_right = []\n",
        "for cnt,kpt_all in enumerate(keypoints_all_right_kaze):\n",
        "  all_feat_kaze_right_each = []\n",
        "  for cnt_each, kpt in enumerate(kpt_all):\n",
        "    desc = descriptors_all_right_kaze[cnt][cnt_each]\n",
        "    temp = (kpt.pt, kpt.size, kpt.angle, kpt.response, kpt.octave, \n",
        "        kpt.class_id, desc)\n",
        "    all_feat_kaze_right_each.append(temp)\n",
        "  all_feat_kaze_right.append(all_feat_kaze_right_each)"
      ],
      "execution_count": null,
      "outputs": []
    },
    {
      "cell_type": "code",
      "metadata": {
        "id": "CmnJdV8KRU-6"
      },
      "source": [
        "'''\n",
        "del keypoints_all_left_kaze, keypoints_all_right_kaze, descriptors_all_left_kaze, descriptors_all_right_kaze"
      ],
      "execution_count": null,
      "outputs": []
    },
    {
      "cell_type": "code",
      "metadata": {
        "id": "oE-eS6B1RU4M"
      },
      "source": [
        "'''\n",
        "import pickle\n",
        "Fdb = open('all_feat_kaze_left.dat', 'wb')\n",
        "pickle.dump(all_feat_kaze_left,Fdb,-1)\n",
        "Fdb.close()"
      ],
      "execution_count": null,
      "outputs": []
    },
    {
      "cell_type": "code",
      "metadata": {
        "id": "jLSfTjxNRUyE"
      },
      "source": [
        "'''\n",
        "import pickle\n",
        "Fdb = open('all_feat_kaze_right.dat', 'wb')\n",
        "pickle.dump(all_feat_kaze_right,Fdb,-1)\n",
        "Fdb.close()"
      ],
      "execution_count": null,
      "outputs": []
    },
    {
      "cell_type": "code",
      "metadata": {
        "id": "ixbUx2XYRUpu"
      },
      "source": [
        "'''\n",
        "del Fdb, all_feat_kaze_left, all_feat_kaze_right"
      ],
      "execution_count": null,
      "outputs": []
    },
    {
      "cell_type": "markdown",
      "metadata": {
        "id": "_A6LaNo9BZih"
      },
      "source": [
        "AKAZE"
      ]
    },
    {
      "cell_type": "code",
      "metadata": {
        "id": "1jxJlohmVPtb"
      },
      "source": [
        "'''\n",
        "from functools import partial\n",
        "from tqdm import tqdm\n",
        "tqdm = partial(tqdm, position=0, leave=True)"
      ],
      "execution_count": null,
      "outputs": []
    },
    {
      "cell_type": "code",
      "metadata": {
        "id": "-u2IUSGdVPli"
      },
      "source": [
        "'''\n",
        "start = timer()\n",
        "\n",
        "akaze = cv2.AKAZE_create()\n",
        "\n",
        "\n",
        "keypoints_all_left_akaze = []\n",
        "descriptors_all_left_akaze = []\n",
        "points_all_left_akaze=[]\n",
        "\n",
        "keypoints_all_right_akaze = []\n",
        "descriptors_all_right_akaze = []\n",
        "points_all_right_akaze=[]\n",
        "\n",
        "for cnt in tqdm(range(len(left_files_path))):\n",
        "  f=h5.File(f'drive/MyDrive/all_images_bgr_{Dataset}.h5','r')\n",
        "  imgs = f['data'][cnt]\n",
        "  f.close()     \n",
        "  kpt = akaze.detect(imgs,None)\n",
        "  kpt,descrip =  akaze.compute(imgs, kpt)\n",
        "  keypoints_all_left_akaze.append(kpt)\n",
        "  descriptors_all_left_akaze.append(descrip)\n",
        "  #points_all_left_akaze.append(np.asarray([[p.pt[0], p.pt[1]] for p in kpt]))\n",
        "\n",
        "for cnt in tqdm(range(len(right_files_path))):\n",
        "  f=h5.File(f'drive/MyDrive/all_images_bgr_{Dataset}.h5','r')\n",
        "  imgs = f['data'][cnt+len(left_files_path)]\n",
        "  f.close()  \n",
        "  kpt = akaze.detect(imgs,None)\n",
        "  kpt,descrip = akaze.compute(imgs, kpt)\n",
        "  keypoints_all_right_akaze.append(kpt)\n",
        "  descriptors_all_right_akaze.append(descrip)\n",
        "  #points_all_right_akaze.append(np.asarray([[p.pt[0], p.pt[1]] for p in kpt]))\n",
        "\n",
        "end = timer()\n",
        "\n",
        "time_all.append(end-start)"
      ],
      "execution_count": null,
      "outputs": []
    },
    {
      "cell_type": "code",
      "metadata": {
        "id": "Efye6tC2Bfg_"
      },
      "source": [
        "'''\n",
        "for j in tqdm(keypoints_all_left_akaze + keypoints_all_right_akaze[1:]):\n",
        "  num_kps_akaze.append(len(j))"
      ],
      "execution_count": null,
      "outputs": []
    },
    {
      "cell_type": "code",
      "metadata": {
        "id": "u6YLQN2lBfbV"
      },
      "source": [
        "'''\n",
        "all_feat_akaze_left = []\n",
        "for cnt,kpt_all in enumerate(keypoints_all_left_akaze):\n",
        "  all_feat_akaze_left_each = []\n",
        "  for cnt_each, kpt in enumerate(kpt_all):\n",
        "    desc = descriptors_all_left_akaze[cnt][cnt_each]\n",
        "    temp = (kpt.pt, kpt.size, kpt.angle, kpt.response, kpt.octave, \n",
        "        kpt.class_id, desc)\n",
        "    all_feat_akaze_left_each.append(temp)\n",
        "  all_feat_akaze_left.append(all_feat_akaze_left_each)"
      ],
      "execution_count": null,
      "outputs": []
    },
    {
      "cell_type": "code",
      "metadata": {
        "id": "uOiE4zUkBfXj"
      },
      "source": [
        "'''\n",
        "all_feat_akaze_right = []\n",
        "for cnt,kpt_all in enumerate(keypoints_all_right_akaze):\n",
        "  all_feat_akaze_right_each = []\n",
        "  for cnt_each, kpt in enumerate(kpt_all):\n",
        "    desc = descriptors_all_right_akaze[cnt][cnt_each]\n",
        "    temp = (kpt.pt, kpt.size, kpt.angle, kpt.response, kpt.octave, \n",
        "        kpt.class_id, desc)\n",
        "    all_feat_akaze_right_each.append(temp)\n",
        "  all_feat_akaze_right.append(all_feat_akaze_right_each)"
      ],
      "execution_count": null,
      "outputs": []
    },
    {
      "cell_type": "code",
      "metadata": {
        "id": "Bp-XefAKBfUV"
      },
      "source": [
        "'''\n",
        "del keypoints_all_left_akaze, keypoints_all_right_akaze, descriptors_all_left_akaze, descriptors_all_right_akaze"
      ],
      "execution_count": null,
      "outputs": []
    },
    {
      "cell_type": "code",
      "metadata": {
        "id": "kbHSQehqBfQN"
      },
      "source": [
        "'''\n",
        "import pickle\n",
        "Fdb = open('all_feat_akaze_left.dat', 'wb')\n",
        "pickle.dump(all_feat_akaze_left,Fdb,-1)\n",
        "Fdb.close()"
      ],
      "execution_count": null,
      "outputs": []
    },
    {
      "cell_type": "code",
      "metadata": {
        "id": "qsZSDbuQBfM9"
      },
      "source": [
        "'''\n",
        "import pickle\n",
        "Fdb = open('all_feat_akaze_right.dat', 'wb')\n",
        "pickle.dump(all_feat_akaze_right,Fdb,-1)\n",
        "Fdb.close()"
      ],
      "execution_count": null,
      "outputs": []
    },
    {
      "cell_type": "code",
      "metadata": {
        "id": "RnV2d_GRBrcH"
      },
      "source": [
        "'''\n",
        "del Fdb, all_feat_akaze_left, all_feat_akaze_right"
      ],
      "execution_count": null,
      "outputs": []
    },
    {
      "cell_type": "markdown",
      "metadata": {
        "id": "KRpih8uqCSc9"
      },
      "source": [
        "\n",
        "STAR + BRIEF"
      ]
    },
    {
      "cell_type": "code",
      "metadata": {
        "id": "fttzUuuNCVhp"
      },
      "source": [
        "'''\n",
        "start = timer()\n",
        "\n",
        "star = cv2.xfeatures2d.StarDetector_create()\n",
        "brief = cv2.xfeatures2d.BriefDescriptorExtractor_create()\n",
        "\n",
        "keypoints_all_left_star = []\n",
        "descriptors_all_left_brief = []\n",
        "points_all_left_star=[]\n",
        "\n",
        "keypoints_all_right_star = []\n",
        "descriptors_all_right_brief = []\n",
        "points_all_right_star=[]\n",
        "\n",
        "for cnt in tqdm(range(len(left_files_path))):\n",
        "  f=h5.File(f'drive/MyDrive/all_images_bgr_{Dataset}.h5','r')\n",
        "  imgs = f['data'][cnt]\n",
        "  f.close()     \n",
        "  kpt = star.detect(imgs,None)\n",
        "  kpt,descrip =  brief.compute(imgs, kpt)\n",
        "  keypoints_all_left_star.append(kpt)\n",
        "  descriptors_all_left_brief.append(descrip)\n",
        "  #points_all_left_star.append(np.asarray([[p.pt[0], p.pt[1]] for p in kpt]))\n",
        "\n",
        "for cnt in tqdm(range(len(right_files_path))):\n",
        "  f=h5.File(f'drive/MyDrive/all_images_bgr_{Dataset}.h5','r')\n",
        "  imgs = f['data'][cnt+len(left_files_path)]\n",
        "  f.close()  \n",
        "  kpt = star.detect(imgs,None)\n",
        "  kpt,descrip =  brief.compute(imgs, kpt)\n",
        "  keypoints_all_right_star.append(kpt)\n",
        "  descriptors_all_right_brief.append(descrip)\n",
        "  #points_all_right_star.append(np.asarray([[p.pt[0], p.pt[1]] for p in kpt]))\n",
        "\n",
        "end = timer()\n",
        "\n",
        "time_all.append(end-start)"
      ],
      "execution_count": null,
      "outputs": []
    },
    {
      "cell_type": "code",
      "metadata": {
        "id": "uppvh4UwCVWp"
      },
      "source": [
        "'''\n",
        "for j in tqdm(keypoints_all_left_star + keypoints_all_right_star[1:]):\n",
        "  num_kps_star.append(len(j))"
      ],
      "execution_count": null,
      "outputs": []
    },
    {
      "cell_type": "code",
      "metadata": {
        "id": "jWif45XBCVT_"
      },
      "source": [
        "'''\n",
        "all_feat_star_left = []\n",
        "for cnt,kpt_all in enumerate(keypoints_all_left_star):\n",
        "  all_feat_star_left_each = []\n",
        "  for cnt_each, kpt in enumerate(kpt_all):\n",
        "    desc = descriptors_all_left_brief[cnt][cnt_each]\n",
        "    temp = (kpt.pt, kpt.size, kpt.angle, kpt.response, kpt.octave, \n",
        "        kpt.class_id, desc)\n",
        "    all_feat_star_left_each.append(temp)\n",
        "  all_feat_star_left.append(all_feat_star_left_each)"
      ],
      "execution_count": null,
      "outputs": []
    },
    {
      "cell_type": "code",
      "metadata": {
        "id": "C68lTIg8CVQy"
      },
      "source": [
        "'''\n",
        "all_feat_star_right = []\n",
        "for cnt,kpt_all in enumerate(keypoints_all_right_star):\n",
        "  all_feat_star_right_each = []\n",
        "  for cnt_each, kpt in enumerate(kpt_all):\n",
        "    desc = descriptors_all_right_brief[cnt][cnt_each]\n",
        "    temp = (kpt.pt, kpt.size, kpt.angle, kpt.response, kpt.octave, \n",
        "        kpt.class_id, desc)\n",
        "    all_feat_star_right_each.append(temp)\n",
        "  all_feat_star_right.append(all_feat_star_right_each)"
      ],
      "execution_count": null,
      "outputs": []
    },
    {
      "cell_type": "code",
      "metadata": {
        "id": "vtlJNPa5CVMx"
      },
      "source": [
        "'''\n",
        "del keypoints_all_left_star, keypoints_all_right_star, descriptors_all_left_brief, descriptors_all_right_brief"
      ],
      "execution_count": null,
      "outputs": []
    },
    {
      "cell_type": "code",
      "metadata": {
        "id": "i_SedP3HCVJp"
      },
      "source": [
        "'''\n",
        "import pickle\n",
        "Fdb = open('all_feat_star_left.dat', 'wb')\n",
        "pickle.dump(all_feat_star_left,Fdb,-1)\n",
        "Fdb.close()"
      ],
      "execution_count": null,
      "outputs": []
    },
    {
      "cell_type": "code",
      "metadata": {
        "id": "aK3skKAMCVF2"
      },
      "source": [
        "'''\n",
        "import pickle\n",
        "Fdb = open('all_feat_star_right.dat', 'wb')\n",
        "pickle.dump(all_feat_star_right,Fdb,-1)\n",
        "Fdb.close()"
      ],
      "execution_count": null,
      "outputs": []
    },
    {
      "cell_type": "code",
      "metadata": {
        "id": "Xnf8kB3MCU91"
      },
      "source": [
        "'''\n",
        "del Fdb, all_feat_star_left, all_feat_star_right"
      ],
      "execution_count": null,
      "outputs": []
    },
    {
      "cell_type": "markdown",
      "metadata": {
        "id": "VpFFN3FUCoQi"
      },
      "source": [
        "\n",
        "BRISK + FREAK"
      ]
    },
    {
      "cell_type": "code",
      "metadata": {
        "id": "xFjSnoZdCpMa"
      },
      "source": [
        "'''\n",
        "start = timer()\n",
        "\n",
        "Threshl=60;\n",
        "Octaves=8; \n",
        "#PatternScales=1.0f;\n",
        "brisk = cv2.BRISK_create(Threshl,Octaves)\n",
        "\n",
        "freak = cv2.xfeatures2d.FREAK_create()\n",
        "keypoints_all_left_freak = []\n",
        "descriptors_all_left_freak = []\n",
        "points_all_left_freak=[]\n",
        "\n",
        "keypoints_all_right_freak = []\n",
        "descriptors_all_right_freak = []\n",
        "points_all_right_freak=[]\n",
        "\n",
        "\n",
        "for cnt in tqdm(range(len(left_files_path))):\n",
        "  f=h5.File(f'drive/MyDrive/all_images_bgr_{Dataset}.h5','r')\n",
        "  imgs = f['data'][cnt]\n",
        "  f.close()     \n",
        "  kpt = brisk.detect(imgs)\n",
        "  kpt,descrip =  freak.compute(imgs, kpt)\n",
        "  keypoints_all_left_freak.append(kpt)\n",
        "  descriptors_all_left_freak.append(descrip)\n",
        "  #points_all_left_freak.append(np.asarray([[p.pt[0], p.pt[1]] for p in kpt]))\n",
        "\n",
        "for cnt in tqdm(range(len(right_files_path))):\n",
        "  f=h5.File(f'drive/MyDrive/all_images_bgr_{Dataset}.h5','r')\n",
        "  imgs = f['data'][cnt+len(left_files_path)]\n",
        "  f.close()  \n",
        "  kpt = brisk.detect(imgs,None)\n",
        "  kpt,descrip =  freak.compute(imgs, kpt)\n",
        "  keypoints_all_right_freak.append(kpt)\n",
        "  descriptors_all_right_freak.append(descrip)\n",
        "  #points_all_right_freak.append(np.asarray([[p.pt[0], p.pt[1]] for p in kpt]))\n",
        "\n",
        "end = timer()\n",
        "\n",
        "time_all.append(end-start)"
      ],
      "execution_count": null,
      "outputs": []
    },
    {
      "cell_type": "code",
      "metadata": {
        "id": "eRR-JZgPCqb4"
      },
      "source": [
        "'''\n",
        "for j in tqdm(keypoints_all_left_freak + keypoints_all_right_freak[1:]):\n",
        "  num_kps_freak.append(len(j))"
      ],
      "execution_count": null,
      "outputs": []
    },
    {
      "cell_type": "code",
      "metadata": {
        "id": "0suZngLtCqXc"
      },
      "source": [
        "'''\n",
        "all_feat_freak_left = []\n",
        "for cnt,kpt_all in enumerate(keypoints_all_left_freak):\n",
        "  all_feat_freak_left_each = []\n",
        "  for cnt_each, kpt in enumerate(kpt_all):\n",
        "    desc = descriptors_all_left_freak[cnt][cnt_each]\n",
        "    temp = (kpt.pt, kpt.size, kpt.angle, kpt.response, kpt.octave, \n",
        "        kpt.class_id, desc)\n",
        "    all_feat_freak_left_each.append(temp)\n",
        "  all_feat_freak_left.append(all_feat_freak_left_each)"
      ],
      "execution_count": null,
      "outputs": []
    },
    {
      "cell_type": "code",
      "metadata": {
        "id": "T6UEvj4-CqSJ"
      },
      "source": [
        "'''\n",
        "all_feat_freak_right = []\n",
        "for cnt,kpt_all in enumerate(keypoints_all_right_freak):\n",
        "  all_feat_freak_right_each = []\n",
        "  for cnt_each, kpt in enumerate(kpt_all):\n",
        "    desc = descriptors_all_right_freak[cnt][cnt_each]\n",
        "    temp = (kpt.pt, kpt.size, kpt.angle, kpt.response, kpt.octave, \n",
        "        kpt.class_id, desc)\n",
        "    all_feat_freak_right_each.append(temp)\n",
        "  all_feat_freak_right.append(all_feat_freak_right_each)"
      ],
      "execution_count": null,
      "outputs": []
    },
    {
      "cell_type": "code",
      "metadata": {
        "id": "53M9yWIsCqIW"
      },
      "source": [
        "'''\n",
        "del keypoints_all_left_freak, keypoints_all_right_freak, descriptors_all_left_freak, descriptors_all_right_freak"
      ],
      "execution_count": null,
      "outputs": []
    },
    {
      "cell_type": "code",
      "metadata": {
        "id": "uJxhMG_nDKqP"
      },
      "source": [
        "'''\n",
        "import pickle\n",
        "Fdb = open('all_feat_freak_left.dat', 'wb')\n",
        "pickle.dump(all_feat_freak_left,Fdb,-1)\n",
        "Fdb.close()"
      ],
      "execution_count": null,
      "outputs": []
    },
    {
      "cell_type": "code",
      "metadata": {
        "id": "cZxjEc1tDKg5"
      },
      "source": [
        "'''\n",
        "import pickle\n",
        "Fdb = open('all_feat_freak_right.dat', 'wb')\n",
        "pickle.dump(all_feat_freak_right,Fdb,-1)\n",
        "Fdb.close()"
      ],
      "execution_count": null,
      "outputs": []
    },
    {
      "cell_type": "code",
      "metadata": {
        "id": "fNluy3ftDKdI"
      },
      "source": [
        "'''\n",
        "del Fdb, all_feat_freak_left, all_feat_freak_right"
      ],
      "execution_count": null,
      "outputs": []
    },
    {
      "cell_type": "markdown",
      "metadata": {
        "id": "lk6PEqByDSH0"
      },
      "source": [
        "MSER + SIFT"
      ]
    },
    {
      "cell_type": "code",
      "metadata": {
        "id": "YH-9JMRADKW6"
      },
      "source": [
        "'''\n",
        "start = timer()\n",
        "\n",
        "mser = cv2.MSER_create()\n",
        "sift = cv2.xfeatures2d.SIFT_create()\n",
        "\n",
        "keypoints_all_left_mser = []\n",
        "descriptors_all_left_mser = []\n",
        "points_all_left_mser=[]\n",
        "\n",
        "keypoints_all_right_mser = []\n",
        "descriptors_all_right_mser = []\n",
        "points_all_right_mser=[]\n",
        "\n",
        "for cnt in tqdm(range(len(left_files_path))):\n",
        "  f=h5.File(f'drive/MyDrive/all_images_bgr_{Dataset}.h5','r')\n",
        "  imgs = f['data'][cnt]\n",
        "  f.close()     \n",
        "  kpt = mser.detect(imgs,None)\n",
        "  kpt,descrip =  sift.compute(imgs, kpt)\n",
        "  keypoints_all_left_mser.append(kpt)\n",
        "  descriptors_all_left_mser.append(descrip)\n",
        "  #points_all_left_mser.append(np.asarray([[p.pt[0], p.pt[1]] for p in kpt]))\n",
        "\n",
        "for cnt in tqdm(range(len(right_files_path))):\n",
        "  f=h5.File(f'drive/MyDrive/all_images_bgr_{Dataset}.h5','r')\n",
        "  imgs = f['data'][cnt+len(left_files_path)]\n",
        "  f.close()  \n",
        "  kpt = mser.detect(imgs,None)\n",
        "  kpt,descrip =  sift.compute(imgs, kpt)\n",
        "  keypoints_all_right_mser.append(kpt)\n",
        "  descriptors_all_right_mser.append(descrip)\n",
        "  #points_all_right_mser.append(np.asarray([[p.pt[0], p.pt[1]] for p in kpt]))\n",
        "\n",
        "end = timer()\n",
        "\n",
        "time_all.append(end-start)"
      ],
      "execution_count": null,
      "outputs": []
    },
    {
      "cell_type": "code",
      "metadata": {
        "id": "0BstgiHKDKQV"
      },
      "source": [
        "'''\n",
        "for j in tqdm(keypoints_all_left_mser + keypoints_all_right_mser[1:]):\n",
        "  num_kps_mser.append(len(j))"
      ],
      "execution_count": null,
      "outputs": []
    },
    {
      "cell_type": "code",
      "metadata": {
        "id": "ptgNXIMFDWyl"
      },
      "source": [
        "'''\n",
        "all_feat_mser_left = []\n",
        "for cnt,kpt_all in enumerate(keypoints_all_left_mser):\n",
        "  all_feat_mser_left_each = []\n",
        "  for cnt_each, kpt in enumerate(kpt_all):\n",
        "    desc = descriptors_all_left_mser[cnt][cnt_each]\n",
        "    temp = (kpt.pt, kpt.size, kpt.angle, kpt.response, kpt.octave, \n",
        "        kpt.class_id, desc)\n",
        "    all_feat_mser_left_each.append(temp)\n",
        "  all_feat_mser_left.append(all_feat_mser_left_each)"
      ],
      "execution_count": null,
      "outputs": []
    },
    {
      "cell_type": "code",
      "metadata": {
        "id": "y3CvnEpODWu2"
      },
      "source": [
        "'''\n",
        "all_feat_mser_right = []\n",
        "for cnt,kpt_all in enumerate(keypoints_all_right_mser):\n",
        "  all_feat_mser_right_each = []\n",
        "  for cnt_each, kpt in enumerate(kpt_all):\n",
        "    desc = descriptors_all_right_mser[cnt][cnt_each]\n",
        "    temp = (kpt.pt, kpt.size, kpt.angle, kpt.response, kpt.octave, \n",
        "        kpt.class_id, desc)\n",
        "    all_feat_mser_right_each.append(temp)\n",
        "  all_feat_mser_right.append(all_feat_mser_right_each)"
      ],
      "execution_count": null,
      "outputs": []
    },
    {
      "cell_type": "code",
      "metadata": {
        "id": "hQfOmhHHDWrL"
      },
      "source": [
        "'''\n",
        "del keypoints_all_left_mser, keypoints_all_right_mser, descriptors_all_left_mser, descriptors_all_right_mser"
      ],
      "execution_count": null,
      "outputs": []
    },
    {
      "cell_type": "code",
      "metadata": {
        "id": "-2okVS6MDWno"
      },
      "source": [
        "'''\n",
        "import pickle\n",
        "Fdb = open('all_feat_mser_left.dat', 'wb')\n",
        "pickle.dump(all_feat_mser_left,Fdb,-1)\n",
        "Fdb.close()"
      ],
      "execution_count": null,
      "outputs": []
    },
    {
      "cell_type": "code",
      "metadata": {
        "id": "zj6quw8eDWkD"
      },
      "source": [
        "'''\n",
        "import pickle\n",
        "Fdb = open('all_feat_mser_right.dat', 'wb')\n",
        "pickle.dump(all_feat_mser_right,Fdb,-1)\n",
        "Fdb.close()"
      ],
      "execution_count": null,
      "outputs": []
    },
    {
      "cell_type": "code",
      "metadata": {
        "id": "QyDwaVtyDWgX"
      },
      "source": [
        "'''\n",
        "del Fdb, all_feat_mser_left, all_feat_mser_right"
      ],
      "execution_count": null,
      "outputs": []
    },
    {
      "cell_type": "markdown",
      "metadata": {
        "id": "igrL8pcKJIe-"
      },
      "source": [
        "AGAST + SIFT"
      ]
    },
    {
      "cell_type": "code",
      "metadata": {
        "id": "qptKPAxHJJnN"
      },
      "source": [
        "'''\n",
        "start = timer()\n",
        "\n",
        "agast = cv2.AgastFeatureDetector_create(threshold = 40)\n",
        "sift = cv2.xfeatures2d.SIFT_create(nfeatures = 50,contrastThreshold=0.02, edgeThreshold=4)\n",
        "\n",
        "keypoints_all_left_agast = []\n",
        "descriptors_all_left_agast = []\n",
        "points_all_left_agast=[]\n",
        "\n",
        "keypoints_all_right_agast = []\n",
        "descriptors_all_right_agast = []\n",
        "points_all_right_agast=[]\n",
        "\n",
        "for cnt in tqdm(range(len(left_files_path))):\n",
        "  f=h5.File(f'drive/MyDrive/all_images_bgr_{Dataset}.h5','r')\n",
        "  imgs = f['data'][cnt]\n",
        "  f.close()     \n",
        "  kpt = agast.detect(imgs,None)\n",
        "  kpt,descrip =  sift.compute(imgs, kpt)\n",
        "  keypoints_all_left_agast.append(kpt)\n",
        "  descriptors_all_left_agast.append(descrip)\n",
        "  #points_all_left_agast.append(np.asarray([[p.pt[0], p.pt[1]] for p in kpt]))\n",
        "\n",
        "for cnt in tqdm(range(len(right_files_path))):\n",
        "  f=h5.File(f'drive/MyDrive/all_images_bgr_{Dataset}.h5','r')\n",
        "  imgs = f['data'][cnt+len(left_files_path)]\n",
        "  f.close()  \n",
        "  kpt = agast.detect(imgs,None)\n",
        "  kpt,descrip =  sift.compute(imgs, kpt)\n",
        "  keypoints_all_right_agast.append(kpt)\n",
        "  descriptors_all_right_agast.append(descrip)\n",
        "  #points_all_right_agast.append(np.asarray([[p.pt[0], p.pt[1]] for p in kpt]))\n",
        "\n",
        "end = timer()\n",
        "\n",
        "time_all.append(end-start)"
      ],
      "execution_count": null,
      "outputs": []
    },
    {
      "cell_type": "code",
      "metadata": {
        "id": "KXEiT-i3JKXc"
      },
      "source": [
        "'''\n",
        "for j in tqdm(keypoints_all_left_agast + keypoints_all_right_agast[1:]):\n",
        "  num_kps_agast.append(len(j))"
      ],
      "execution_count": null,
      "outputs": []
    },
    {
      "cell_type": "code",
      "metadata": {
        "id": "Q-tOYuY3JKUX"
      },
      "source": [
        "'''\n",
        "all_feat_agast_left = []\n",
        "for cnt,kpt_all in enumerate(keypoints_all_left_agast):\n",
        "  all_feat_agast_left_each = []\n",
        "  for cnt_each, kpt in enumerate(kpt_all):\n",
        "    desc = descriptors_all_left_agast[cnt][cnt_each]\n",
        "    temp = (kpt.pt, kpt.size, kpt.angle, kpt.response, kpt.octave, \n",
        "        kpt.class_id, desc)\n",
        "    all_feat_agast_left_each.append(temp)\n",
        "  all_feat_agast_left.append(all_feat_agast_left_each)"
      ],
      "execution_count": null,
      "outputs": []
    },
    {
      "cell_type": "code",
      "metadata": {
        "id": "ITuhTLbgJKQf"
      },
      "source": [
        "'''\n",
        "all_feat_agast_right = []\n",
        "for cnt,kpt_all in enumerate(keypoints_all_right_agast):\n",
        "  all_feat_agast_right_each = []\n",
        "  for cnt_each, kpt in enumerate(kpt_all):\n",
        "    desc = descriptors_all_right_agast[cnt][cnt_each]\n",
        "    temp = (kpt.pt, kpt.size, kpt.angle, kpt.response, kpt.octave, \n",
        "        kpt.class_id, desc)\n",
        "    all_feat_agast_right_each.append(temp)\n",
        "  all_feat_agast_right.append(all_feat_agast_right_each)"
      ],
      "execution_count": null,
      "outputs": []
    },
    {
      "cell_type": "code",
      "metadata": {
        "id": "I7CTjFFfJKNZ"
      },
      "source": [
        "'''\n",
        "del keypoints_all_left_agast, keypoints_all_right_agast, descriptors_all_left_agast, descriptors_all_right_agast"
      ],
      "execution_count": null,
      "outputs": []
    },
    {
      "cell_type": "code",
      "metadata": {
        "id": "9ZMjm3RAJKIG"
      },
      "source": [
        "'''\n",
        "import pickle\n",
        "Fdb = open('all_feat_agast_left.dat', 'wb')\n",
        "pickle.dump(all_feat_agast_left,Fdb,-1)\n",
        "Fdb.close()"
      ],
      "execution_count": null,
      "outputs": []
    },
    {
      "cell_type": "code",
      "metadata": {
        "id": "AzYI6EvPJKDP"
      },
      "source": [
        "'''\n",
        "del Fdb, all_feat_agast_left"
      ],
      "execution_count": null,
      "outputs": []
    },
    {
      "cell_type": "code",
      "metadata": {
        "id": "9McFDaRnJXQi"
      },
      "source": [
        "'''\n",
        "import pickle\n",
        "Fdb = open('all_feat_agast_right.dat', 'wb')\n",
        "pickle.dump(all_feat_agast_right,Fdb,-1)\n",
        "Fdb.close()"
      ],
      "execution_count": null,
      "outputs": []
    },
    {
      "cell_type": "code",
      "metadata": {
        "id": "nslPuEslJXJT"
      },
      "source": [
        "'''\n",
        "del Fdb, all_feat_agast_right"
      ],
      "execution_count": null,
      "outputs": []
    },
    {
      "cell_type": "markdown",
      "metadata": {
        "id": "MmHJo2qUJcZT"
      },
      "source": [
        "FAST + SIFT"
      ]
    },
    {
      "cell_type": "code",
      "metadata": {
        "id": "ig4yKEIGJbsr"
      },
      "source": [
        "'''\n",
        "start = timer()\n",
        "\n",
        "\n",
        "fast = cv2.FastFeatureDetector_create(threshold=40)\n",
        "sift = cv2.xfeatures2d.SIFT_create(nfeatures = 1000,contrastThreshold=0.02, edgeThreshold=4)\n",
        "\n",
        "keypoints_all_left_fast = []\n",
        "descriptors_all_left_fast = []\n",
        "points_all_left_fast=[]\n",
        "\n",
        "keypoints_all_right_fast = []\n",
        "descriptors_all_right_fast = []\n",
        "points_all_right_fast=[]\n",
        "\n",
        "for cnt in tqdm(range(len(left_files_path))):\n",
        "  f=h5.File(f'drive/MyDrive/all_images_bgr_{Dataset}.h5','r')\n",
        "  imgs = f['data'][cnt]\n",
        "  f.close()     \n",
        "  kpt = fast.detect(imgs,None)\n",
        "  kpt,descrip =  sift.compute(imgs, kpt)\n",
        "  keypoints_all_left_fast.append(kpt)\n",
        "  descriptors_all_left_fast.append(descrip)\n",
        "  #points_all_left_fast.append(np.asarray([[p.pt[0], p.pt[1]] for p in kpt]))\n",
        "\n",
        "for cnt in tqdm(range(len(right_files_path))):\n",
        "  f=h5.File(f'drive/MyDrive/all_images_bgr_{Dataset}.h5','r')\n",
        "  imgs = f['data'][cnt+len(left_files_path)]\n",
        "  f.close()  \n",
        "  kpt = fast.detect(imgs,None)\n",
        "  kpt,descrip =  sift.compute(imgs, kpt)\n",
        "  keypoints_all_right_fast.append(kpt)\n",
        "  descriptors_all_right_fast.append(descrip)\n",
        "  #points_all_right_fast.append(np.asarray([[p.pt[0], p.pt[1]] for p in kpt]))\n",
        "\n",
        "end = timer()\n",
        "\n",
        "time_all.append(end-start)"
      ],
      "execution_count": null,
      "outputs": []
    },
    {
      "cell_type": "code",
      "metadata": {
        "id": "Ie_WnWkWJgQ_"
      },
      "source": [
        "'''\n",
        "for j in tqdm(keypoints_all_left_fast + keypoints_all_right_fast[1:]):\n",
        "  num_kps_fast.append(len(j))"
      ],
      "execution_count": null,
      "outputs": []
    },
    {
      "cell_type": "code",
      "metadata": {
        "id": "l3pl_8CWJgLr"
      },
      "source": [
        "'''\n",
        "all_feat_fast_left = []\n",
        "for cnt,kpt_all in enumerate(keypoints_all_left_fast):\n",
        "  all_feat_fast_left_each = []\n",
        "  for cnt_each, kpt in enumerate(kpt_all):\n",
        "    desc = descriptors_all_left_fast[cnt][cnt_each]\n",
        "    temp = (kpt.pt, kpt.size, kpt.angle, kpt.response, kpt.octave, \n",
        "        kpt.class_id, desc)\n",
        "    all_feat_fast_left_each.append(temp)\n",
        "  all_feat_fast_left.append(all_feat_fast_left_each)"
      ],
      "execution_count": null,
      "outputs": []
    },
    {
      "cell_type": "code",
      "metadata": {
        "id": "e10-tkbiJgGM"
      },
      "source": [
        "'''\n",
        "all_feat_fast_right = []\n",
        "for cnt,kpt_all in enumerate(keypoints_all_right_fast):\n",
        "  all_feat_fast_right_each = []\n",
        "  for cnt_each, kpt in enumerate(kpt_all):\n",
        "    desc = descriptors_all_right_fast[cnt][cnt_each]\n",
        "    temp = (kpt.pt, kpt.size, kpt.angle, kpt.response, kpt.octave, \n",
        "        kpt.class_id, desc)\n",
        "    all_feat_fast_right_each.append(temp)\n",
        "  all_feat_fast_right.append(all_feat_fast_right_each)"
      ],
      "execution_count": null,
      "outputs": []
    },
    {
      "cell_type": "code",
      "metadata": {
        "id": "wTGgthlOJf_N"
      },
      "source": [
        "'''\n",
        "del keypoints_all_left_fast, keypoints_all_right_fast, descriptors_all_left_fast, descriptors_all_right_fast"
      ],
      "execution_count": null,
      "outputs": []
    },
    {
      "cell_type": "code",
      "metadata": {
        "id": "Yv5YzAjFJpRQ"
      },
      "source": [
        "'''\n",
        "import pickle\n",
        "Fdb = open('all_feat_fast_left.dat', 'wb')\n",
        "pickle.dump(all_feat_fast_left,Fdb,-1)\n",
        "Fdb.close()"
      ],
      "execution_count": null,
      "outputs": []
    },
    {
      "cell_type": "code",
      "metadata": {
        "id": "R5d__0yXJpKO"
      },
      "source": [
        "'''\n",
        "import pickle\n",
        "Fdb = open('all_feat_fast_right.dat', 'wb')\n",
        "pickle.dump(all_feat_fast_right,Fdb,-1)\n",
        "Fdb.close()"
      ],
      "execution_count": null,
      "outputs": []
    },
    {
      "cell_type": "code",
      "metadata": {
        "id": "WOu4VdRgJpDW"
      },
      "source": [
        "'''\n",
        "del Fdb, all_feat_fast_left, all_feat_fast_right"
      ],
      "execution_count": null,
      "outputs": []
    },
    {
      "cell_type": "markdown",
      "metadata": {
        "id": "yfyxf0FoJvlp"
      },
      "source": [
        "GFTT + SIFT"
      ]
    },
    {
      "cell_type": "code",
      "metadata": {
        "id": "-VnVeTvxJwKg"
      },
      "source": [
        "'''\n",
        "start = timer()\n",
        "\n",
        "gftt = cv2.GFTTDetector_create()\n",
        "sift = cv2.xfeatures2d.SIFT_create()\n",
        "\n",
        "keypoints_all_left_gftt = []\n",
        "descriptors_all_left_gftt = []\n",
        "points_all_left_gftt=[]\n",
        "\n",
        "keypoints_all_right_gftt = []\n",
        "descriptors_all_right_gftt = []\n",
        "points_all_right_gftt=[]\n",
        "\n",
        "for cnt in tqdm(range(len(left_files_path))):\n",
        "  f=h5.File(f'drive/MyDrive/all_images_bgr_{Dataset}.h5','r')\n",
        "  imgs = f['data'][cnt]\n",
        "  f.close()     \n",
        "  kpt = gftt.detect(imgs,None)\n",
        "  kpt,descrip =  sift.compute(imgs, kpt)\n",
        "  keypoints_all_left_gftt.append(kpt)\n",
        "  descriptors_all_left_gftt.append(descrip)\n",
        "  #points_all_left_gftt.append(np.asarray([[p.pt[0], p.pt[1]] for p in kpt]))\n",
        "\n",
        "for cnt in tqdm(range(len(right_files_path))):\n",
        "  f=h5.File(f'drive/MyDrive/all_images_bgr_{Dataset}.h5','r')\n",
        "  imgs = f['data'][cnt+len(left_files_path)]\n",
        "  f.close()  \n",
        "  kpt = gftt.detect(imgs,None)\n",
        "  kpt,descrip =  sift.compute(imgs, kpt)\n",
        "  keypoints_all_right_gftt.append(kpt)\n",
        "  descriptors_all_right_gftt.append(descrip)\n",
        "  #points_all_right_gftt.append(np.asarray([[p.pt[0], p.pt[1]] for p in kpt]))\n",
        "\n",
        "end = timer()\n",
        "\n",
        "time_all.append(end-start)"
      ],
      "execution_count": null,
      "outputs": []
    },
    {
      "cell_type": "code",
      "metadata": {
        "id": "o_kOTgxDJ0s6"
      },
      "source": [
        "'''\n",
        "for j in tqdm(keypoints_all_left_gftt + keypoints_all_right_gftt[1:]):\n",
        "  num_kps_gftt.append(len(j))"
      ],
      "execution_count": null,
      "outputs": []
    },
    {
      "cell_type": "code",
      "metadata": {
        "id": "4qUPAYraJ0mu"
      },
      "source": [
        "'''\n",
        "all_feat_gftt_left = []\n",
        "for cnt,kpt_all in enumerate(keypoints_all_left_gftt):\n",
        "  all_feat_gftt_left_each = []\n",
        "  for cnt_each, kpt in enumerate(kpt_all):\n",
        "    desc = descriptors_all_left_gftt[cnt][cnt_each]\n",
        "    temp = (kpt.pt, kpt.size, kpt.angle, kpt.response, kpt.octave, \n",
        "        kpt.class_id, desc)\n",
        "    all_feat_gftt_left_each.append(temp)\n",
        "  all_feat_gftt_left.append(all_feat_gftt_left_each)"
      ],
      "execution_count": null,
      "outputs": []
    },
    {
      "cell_type": "code",
      "metadata": {
        "id": "1wXmL7naJ0f9"
      },
      "source": [
        "'''\n",
        "all_feat_gftt_right = []\n",
        "for cnt,kpt_all in enumerate(keypoints_all_right_gftt):\n",
        "  all_feat_gftt_right_each = []\n",
        "  for cnt_each, kpt in enumerate(kpt_all):\n",
        "    desc = descriptors_all_right_gftt[cnt][cnt_each]\n",
        "    temp = (kpt.pt, kpt.size, kpt.angle, kpt.response, kpt.octave, \n",
        "        kpt.class_id, desc)\n",
        "    all_feat_gftt_right_each.append(temp)\n",
        "  all_feat_gftt_right.append(all_feat_gftt_right_each)"
      ],
      "execution_count": null,
      "outputs": []
    },
    {
      "cell_type": "code",
      "metadata": {
        "id": "MQ8_cQ6KJ0Wl"
      },
      "source": [
        "'''\n",
        "del keypoints_all_left_gftt, keypoints_all_right_gftt, descriptors_all_left_gftt, descriptors_all_right_gftt"
      ],
      "execution_count": null,
      "outputs": []
    },
    {
      "cell_type": "code",
      "metadata": {
        "id": "gXPIU4DeJ8AN"
      },
      "source": [
        "'''\n",
        "import pickle\n",
        "Fdb = open('all_feat_gftt_left.dat', 'wb')\n",
        "pickle.dump(all_feat_gftt_left,Fdb,-1)\n",
        "Fdb.close()"
      ],
      "execution_count": null,
      "outputs": []
    },
    {
      "cell_type": "code",
      "metadata": {
        "id": "nLAVNzy-J751"
      },
      "source": [
        "'''\n",
        "import pickle\n",
        "Fdb = open('all_feat_gftt_right.dat', 'wb')\n",
        "pickle.dump(all_feat_gftt_right,Fdb,-1)\n",
        "Fdb.close()"
      ],
      "execution_count": null,
      "outputs": []
    },
    {
      "cell_type": "code",
      "metadata": {
        "id": "Gz_JbQe3J7z7"
      },
      "source": [
        "'''\n",
        "del Fdb, all_feat_gftt_left, all_feat_gftt_right"
      ],
      "execution_count": null,
      "outputs": []
    },
    {
      "cell_type": "markdown",
      "metadata": {
        "id": "eg21YN-4LWMd"
      },
      "source": [
        "DAISY+SIFT"
      ]
    },
    {
      "cell_type": "code",
      "metadata": {
        "id": "roXAjN8jYgeP",
        "colab": {
          "base_uri": "https://localhost:8080/"
        },
        "outputId": "31d27d8d-ba43-4dd7-85b0-9659a211eb1f"
      },
      "source": [
        "\n",
        "start = timer()\n",
        "\n",
        "daisy = cv2.xfeatures2d.DAISY_create()\n",
        "sift = cv2.xfeatures2d.SIFT_create(nfeatures = 2000,contrastThreshold=0.02, edgeThreshold=4)\n",
        "\n",
        "keypoints_all_left_daisy = []\n",
        "descriptors_all_left_daisy = []\n",
        "points_all_left_daisy=[]\n",
        "\n",
        "keypoints_all_right_daisy = []\n",
        "descriptors_all_right_daisy = []\n",
        "points_all_right_daisy=[]\n",
        "\n",
        "for cnt in tqdm(range(len(left_files_path))):\n",
        "  f=h5.File(f'drive/MyDrive/all_images_bgr_{Dataset}.h5','r')\n",
        "  imgs = f['data'][cnt]\n",
        "  f.close()     \n",
        "  kpt = sift.detect(imgs,None)\n",
        "  kpt,descrip =  daisy.compute(imgs, kpt)\n",
        "  keypoints_all_left_daisy.append(kpt)\n",
        "  descriptors_all_left_daisy.append(descrip)\n",
        "  #points_all_left_daisy.append(np.asarray([[p.pt[0], p.pt[1]] for p in kpt]))\n",
        "\n",
        "for cnt in tqdm(range(len(right_files_path))):\n",
        "  f=h5.File(f'drive/MyDrive/all_images_bgr_{Dataset}.h5','r')\n",
        "  imgs = f['data'][cnt+len(left_files_path)]\n",
        "  f.close()  \n",
        "  kpt = sift.detect(imgs,None)\n",
        "  kpt,descrip =  daisy.compute(imgs, kpt)\n",
        "  keypoints_all_right_daisy.append(kpt)\n",
        "  descriptors_all_right_daisy.append(descrip)\n",
        "  #points_all_right_daisy.append(np.asarray([[p.pt[0], p.pt[1]] for p in kpt]))\n",
        "\n",
        "end = timer()\n",
        "\n",
        "time_all.append(end-start)"
      ],
      "execution_count": 80,
      "outputs": [
        {
          "output_type": "stream",
          "text": [
            "100%|██████████| 61/61 [06:27<00:00,  6.36s/it]\n",
            "100%|██████████| 60/60 [06:00<00:00,  6.02s/it]\n"
          ],
          "name": "stderr"
        }
      ]
    },
    {
      "cell_type": "code",
      "metadata": {
        "id": "IDJTpGnJYgXy",
        "colab": {
          "base_uri": "https://localhost:8080/"
        },
        "outputId": "841e0491-b5ce-4a44-8ece-87ab17c9f944"
      },
      "source": [
        "\n",
        "for j in tqdm(keypoints_all_left_daisy + keypoints_all_right_daisy[1:]):\n",
        "  num_kps_daisy.append(len(j))"
      ],
      "execution_count": 82,
      "outputs": [
        {
          "output_type": "stream",
          "text": [
            "100%|██████████| 120/120 [00:00<00:00, 350498.94it/s]\n"
          ],
          "name": "stderr"
        }
      ]
    },
    {
      "cell_type": "code",
      "metadata": {
        "id": "sTp2Q-HdYgTH"
      },
      "source": [
        "'''\n",
        "all_feat_daisy_left = []\n",
        "for cnt,kpt_all in enumerate(keypoints_all_left_daisy):\n",
        "  all_feat_daisy_left_each = []\n",
        "  for cnt_each, kpt in enumerate(kpt_all):\n",
        "    desc = descriptors_all_left_daisy[cnt][cnt_each]\n",
        "    temp = (kpt.pt, kpt.size, kpt.angle, kpt.response, kpt.octave, \n",
        "        kpt.class_id, desc)\n",
        "    all_feat_daisy_left_each.append(temp)\n",
        "  all_feat_daisy_left.append(all_feat_daisy_left_each)"
      ],
      "execution_count": null,
      "outputs": []
    },
    {
      "cell_type": "code",
      "metadata": {
        "id": "XqgObNhQYuhS"
      },
      "source": [
        "'''\n",
        "all_feat_daisy_right = []\n",
        "for cnt,kpt_all in enumerate(keypoints_all_right_daisy):\n",
        "  all_feat_daisy_right_each = []\n",
        "  for cnt_each, kpt in enumerate(kpt_all):\n",
        "    desc = descriptors_all_right_daisy[cnt][cnt_each]\n",
        "    temp = (kpt.pt, kpt.size, kpt.angle, kpt.response, kpt.octave, \n",
        "        kpt.class_id, desc)\n",
        "    all_feat_daisy_right_each.append(temp)\n",
        "  all_feat_daisy_right.append(all_feat_daisy_right_each)"
      ],
      "execution_count": null,
      "outputs": []
    },
    {
      "cell_type": "code",
      "metadata": {
        "id": "vidqbr5UYufD"
      },
      "source": [
        "'''\n",
        "del keypoints_all_left_daisy, keypoints_all_right_daisy, descriptors_all_left_daisy, descriptors_all_right_daisy"
      ],
      "execution_count": null,
      "outputs": []
    },
    {
      "cell_type": "code",
      "metadata": {
        "id": "4RbfnN6XYuYQ"
      },
      "source": [
        "'''\n",
        "import pickle\n",
        "Fdb = open('all_feat_daisy_left.dat', 'wb')\n",
        "pickle.dump(all_feat_daisy_left,Fdb,-1)\n",
        "Fdb.close()"
      ],
      "execution_count": null,
      "outputs": []
    },
    {
      "cell_type": "code",
      "metadata": {
        "id": "ia8arOghYuQP"
      },
      "source": [
        "'''\n",
        "import pickle\n",
        "Fdb = open('all_feat_daisy_right.dat', 'wb')\n",
        "pickle.dump(all_feat_daisy_right,Fdb,-1)\n",
        "Fdb.close()"
      ],
      "execution_count": null,
      "outputs": []
    },
    {
      "cell_type": "code",
      "metadata": {
        "id": "44W95xPWYuMD"
      },
      "source": [
        "'''\n",
        "del Fdb, all_feat_daisy_left, all_feat_daisy_right"
      ],
      "execution_count": null,
      "outputs": []
    },
    {
      "cell_type": "markdown",
      "metadata": {
        "id": "XnpjEZcGA1j_"
      },
      "source": [
        "SURF + SIFT"
      ]
    },
    {
      "cell_type": "code",
      "metadata": {
        "id": "zIZpQjn5A2CE"
      },
      "source": [
        "'''\n",
        "start = timer()\n",
        "\n",
        "surf = cv2.xfeatures2d.SURF_create(upright=1)\n",
        "sift = cv2.xfeatures2d.SIFT_create()\n",
        "\n",
        "keypoints_all_left_surfsift = []\n",
        "descriptors_all_left_surfsift = []\n",
        "points_all_left_surfsift=[]\n",
        "\n",
        "keypoints_all_right_surfsift = []\n",
        "descriptors_all_right_surfsift = []\n",
        "points_all_right_surfsift=[]\n",
        "\n",
        "for cnt in tqdm(range(len(left_files_path))):\n",
        "  f=h5.File('drive/MyDrive/all_images_bgr_sift_40.h5','r')\n",
        "  imgs = f['data'][cnt]\n",
        "  f.close()     \n",
        "  kpt = surf.detect(imgs,None)\n",
        "  kpt,descrip =  sift.compute(imgs, kpt)\n",
        "  keypoints_all_left_surfsift.append(kpt)\n",
        "  descriptors_all_left_surfsift.append(descrip)\n",
        "  #points_all_left_surfsift.append(np.asarray([[p.pt[0], p.pt[1]] for p in kpt]))\n",
        "\n",
        "for cnt in tqdm(range(len(right_files_path))):\n",
        "  f=h5.File('drive/MyDrive/all_images_bgr_sift_40.h5','r')\n",
        "  imgs = f['data'][cnt+len(left_files_path)]\n",
        "  f.close()  \n",
        "  kpt = surf.detect(imgs,None)\n",
        "  kpt,descrip =  sift.compute(imgs, kpt)\n",
        "  keypoints_all_right_surfsift.append(kpt)\n",
        "  descriptors_all_right_surfsift.append(descrip)\n",
        "  #points_all_right_surfsift.append(np.asarray([[p.pt[0], p.pt[1]] for p in kpt]))\n",
        "\n",
        "end = timer()\n",
        "\n",
        "time_all.append(end-start)"
      ],
      "execution_count": null,
      "outputs": []
    },
    {
      "cell_type": "code",
      "metadata": {
        "id": "b-si9W07A2q9"
      },
      "source": [
        "'''\n",
        "for j in tqdm(keypoints_all_left_surfsift + keypoints_all_right_surfsift[1:]):\n",
        "  num_kps_surfsift.append(len(j))"
      ],
      "execution_count": null,
      "outputs": []
    },
    {
      "cell_type": "code",
      "metadata": {
        "id": "yKXUSzbfA2Zx"
      },
      "source": [
        "'''\n",
        "all_feat_surfsift_left = []\n",
        "for cnt,kpt_all in enumerate(keypoints_all_left_surfsift):\n",
        "  all_feat_surfsift_left_each = []\n",
        "  for cnt_each, kpt in enumerate(kpt_all):\n",
        "    desc = descriptors_all_left_surfsift[cnt][cnt_each]\n",
        "    temp = (kpt.pt, kpt.size, kpt.angle, kpt.response, kpt.octave, \n",
        "        kpt.class_id, desc)\n",
        "    all_feat_surfsift_left_each.append(temp)\n",
        "  all_feat_surfsift_left.append(all_feat_surfsift_left_each)"
      ],
      "execution_count": null,
      "outputs": []
    },
    {
      "cell_type": "code",
      "metadata": {
        "id": "EA3GBpZABBjl"
      },
      "source": [
        "'''\n",
        "all_feat_surfsift_right = []\n",
        "for cnt,kpt_all in enumerate(keypoints_all_right_surfsift):\n",
        "  all_feat_surfsift_right_each = []\n",
        "  for cnt_each, kpt in enumerate(kpt_all):\n",
        "    desc = descriptors_all_right_surfsift[cnt][cnt_each]\n",
        "    temp = (kpt.pt, kpt.size, kpt.angle, kpt.response, kpt.octave, \n",
        "        kpt.class_id, desc)\n",
        "    all_feat_surfsift_right_each.append(temp)\n",
        "  all_feat_surfsift_right.append(all_feat_surfsift_right_each)"
      ],
      "execution_count": null,
      "outputs": []
    },
    {
      "cell_type": "code",
      "metadata": {
        "id": "95Xlu1ORBBeW"
      },
      "source": [
        "'''\n",
        "del keypoints_all_left_surfsift, keypoints_all_right_surfsift, descriptors_all_left_surfsift, descriptors_all_right_surfsift"
      ],
      "execution_count": null,
      "outputs": []
    },
    {
      "cell_type": "code",
      "metadata": {
        "id": "9SaqEJ1nBBYu"
      },
      "source": [
        "'''\n",
        "import pickle\n",
        "Fdb = open('all_feat_surfsift_left.dat', 'wb')\n",
        "pickle.dump(all_feat_surfsift_left,Fdb,-1)\n",
        "Fdb.close()"
      ],
      "execution_count": null,
      "outputs": []
    },
    {
      "cell_type": "code",
      "metadata": {
        "id": "dbUvyVuZBBS-"
      },
      "source": [
        "'''\n",
        "import pickle\n",
        "Fdb = open('all_feat_surfsift_right.dat', 'wb')\n",
        "pickle.dump(all_feat_surfsift_right,Fdb,-1)\n",
        "Fdb.close()"
      ],
      "execution_count": null,
      "outputs": []
    },
    {
      "cell_type": "code",
      "metadata": {
        "id": "0tNYxgZBBBNF"
      },
      "source": [
        "'''\n",
        "del Fdb, all_feat_surfsift_left, all_feat_surfsift_right"
      ],
      "execution_count": null,
      "outputs": []
    },
    {
      "cell_type": "markdown",
      "metadata": {
        "id": "2G9byE4MBLnF"
      },
      "source": [
        "SIFT"
      ]
    },
    {
      "cell_type": "code",
      "metadata": {
        "id": "I-CBqB4JBBHG",
        "colab": {
          "base_uri": "https://localhost:8080/"
        },
        "outputId": "1e66cddc-3623-44dc-82d9-075cd52f6355"
      },
      "source": [
        "\n",
        "print(len(left_files_path))"
      ],
      "execution_count": 17,
      "outputs": [
        {
          "output_type": "stream",
          "text": [
            "61\n"
          ],
          "name": "stdout"
        }
      ]
    },
    {
      "cell_type": "code",
      "metadata": {
        "id": "0tcYtoM5BOhe",
        "colab": {
          "base_uri": "https://localhost:8080/"
        },
        "outputId": "8340aea9-1575-4a55-c11e-16f6b39104d8"
      },
      "source": [
        "\n",
        "print(len(right_files_path))"
      ],
      "execution_count": 18,
      "outputs": [
        {
          "output_type": "stream",
          "text": [
            "60\n"
          ],
          "name": "stdout"
        }
      ]
    },
    {
      "cell_type": "code",
      "metadata": {
        "id": "F3JjADHCBOeI"
      },
      "source": [
        "# H5 file w/o compression\n",
        "#t0=time.time()\n",
        "#f=h5.File('drive/MyDrive/all_images_bgr_sift.h5','r')\n",
        "#print('HDF5  w/o comp.: data shape =',len(f['data'][0]),time.time()-t0,'[s]')\n",
        "#f.close()"
      ],
      "execution_count": null,
      "outputs": []
    },
    {
      "cell_type": "code",
      "metadata": {
        "id": "Zq3pEMS_BOa9"
      },
      "source": [
        "#del f"
      ],
      "execution_count": null,
      "outputs": []
    },
    {
      "cell_type": "code",
      "metadata": {
        "id": "h8m3R7gIBOXf",
        "colab": {
          "base_uri": "https://localhost:8080/"
        },
        "outputId": "a23cb237-b363-46de-f4b0-077c8fb6a4e6"
      },
      "source": [
        "\n",
        "start = timer()\n",
        "\n",
        "sift = cv2.xfeatures2d.SIFT_create(nfeatures = 1000, contrastThreshold=0.02, edgeThreshold=4)\n",
        "keypoints_all_left_sift = []\n",
        "descriptors_all_left_sift = []\n",
        "points_all_left_sift=[]\n",
        "\n",
        "keypoints_all_right_sift = []\n",
        "descriptors_all_right_sift = []\n",
        "points_all_right_sift=[]\n",
        "\n",
        "\n",
        "for cnt in tqdm(range(len(left_files_path))):\n",
        "  f=h5.File(f'drive/MyDrive/all_images_bgr_{Dataset}.h5','r')\n",
        "  imgs = f['data'][cnt]\n",
        "  f.close()\n",
        "  kpt = sift.detect(imgs,None)\n",
        "  kpt,descrip =  sift.compute(imgs, kpt)\n",
        "  keypoints_all_left_sift.append(kpt)\n",
        "  descriptors_all_left_sift.append(descrip)\n",
        "  #points_all_left_sift.append(np.asarray([[p.pt[0], p.pt[1]] for p in kpt]))\n",
        "\n",
        "for cnt in tqdm(range(len(right_files_path))):\n",
        "  f=h5.File(f'drive/MyDrive/all_images_bgr_{Dataset}.h5','r')\n",
        "  imgs = f['data'][cnt+len(left_files_path)]\n",
        "  f.close()\n",
        "  kpt = sift.detect(imgs,None)\n",
        "  kpt,descrip =  sift.compute(imgs, kpt)\n",
        "  keypoints_all_right_sift.append(kpt)\n",
        "  descriptors_all_right_sift.append(descrip)\n",
        "  #points_all_right_sift.append(np.asarray([[p.pt[0], p.pt[1]] for p in kpt]))\n",
        "\n",
        "end = timer()\n",
        "\n",
        "time_all.append(end-start)"
      ],
      "execution_count": 19,
      "outputs": [
        {
          "output_type": "stream",
          "text": [
            "100%|██████████| 61/61 [06:22<00:00,  6.27s/it]\n",
            "100%|██████████| 60/60 [05:56<00:00,  5.95s/it]\n"
          ],
          "name": "stderr"
        }
      ]
    },
    {
      "cell_type": "code",
      "metadata": {
        "id": "SB_q6BV-BOTE",
        "colab": {
          "base_uri": "https://localhost:8080/"
        },
        "outputId": "6589e825-2e5b-4f67-c051-1258a7aa60cd"
      },
      "source": [
        "\n",
        "for j in tqdm(keypoints_all_left_sift + keypoints_all_right_sift[1:]):\n",
        "  num_kps_sift.append(len(j))"
      ],
      "execution_count": 20,
      "outputs": [
        {
          "output_type": "stream",
          "text": [
            "100%|██████████| 120/120 [00:00<00:00, 118177.15it/s]\n"
          ],
          "name": "stderr"
        }
      ]
    },
    {
      "cell_type": "code",
      "metadata": {
        "id": "uaOGm1MTBOPJ"
      },
      "source": [
        "'''\n",
        "all_feat_sift_left = []\n",
        "for cnt,kpt_all in enumerate(keypoints_all_left_sift):\n",
        "  all_feat_sift_left_each = []\n",
        "  for cnt_each, kpt in enumerate(kpt_all):\n",
        "    desc = descriptors_all_left_sift[cnt][cnt_each]\n",
        "    temp = (kpt.pt, kpt.size, kpt.angle, kpt.response, kpt.octave, \n",
        "        kpt.class_id, desc)\n",
        "    all_feat_sift_left_each.append(temp)\n",
        "  all_feat_sift_left.append(all_feat_sift_left_each)"
      ],
      "execution_count": null,
      "outputs": []
    },
    {
      "cell_type": "code",
      "metadata": {
        "id": "jTLEBcppBOJm"
      },
      "source": [
        "'''\n",
        "all_feat_sift_right = []\n",
        "for cnt,kpt_all in enumerate(keypoints_all_right_sift):\n",
        "  all_feat_sift_right_each = []\n",
        "  for cnt_each, kpt in enumerate(kpt_all):\n",
        "    desc = descriptors_all_right_sift[cnt][cnt_each]\n",
        "    temp = (kpt.pt, kpt.size, kpt.angle, kpt.response, kpt.octave, \n",
        "        kpt.class_id, desc)\n",
        "    all_feat_sift_right_each.append(temp)\n",
        "  all_feat_sift_right.append(all_feat_sift_right_each)"
      ],
      "execution_count": null,
      "outputs": []
    },
    {
      "cell_type": "code",
      "metadata": {
        "id": "vuzpJ4aWBcFv"
      },
      "source": [
        "'''\n",
        "del keypoints_all_left_sift, keypoints_all_right_sift, descriptors_all_left_sift, descriptors_all_right_sift"
      ],
      "execution_count": null,
      "outputs": []
    },
    {
      "cell_type": "code",
      "metadata": {
        "id": "keX-zbR5BcAC"
      },
      "source": [
        "'''\n",
        "import pickle\n",
        "Fdb = open('all_feat_sift_left.dat', 'wb')\n",
        "pickle.dump(all_feat_sift_left,Fdb,-1)\n",
        "Fdb.close()"
      ],
      "execution_count": null,
      "outputs": []
    },
    {
      "cell_type": "code",
      "metadata": {
        "id": "LzV0lBZnBb3_"
      },
      "source": [
        "'''\n",
        "import pickle\n",
        "Fdb = open('all_feat_sift_right.dat', 'wb')\n",
        "pickle.dump(all_feat_sift_right,Fdb,-1)\n",
        "Fdb.close()"
      ],
      "execution_count": null,
      "outputs": []
    },
    {
      "cell_type": "code",
      "metadata": {
        "id": "FsrOHWZcBbwW"
      },
      "source": [
        "'''\n",
        "del Fdb, all_feat_sift_left, all_feat_sift_right"
      ],
      "execution_count": null,
      "outputs": []
    },
    {
      "cell_type": "code",
      "metadata": {
        "id": "J3rAfnOBBi0_"
      },
      "source": [
        "#del keypoints_all_right_sift, keypoints_all_left_sift, descriptors_all_right_sift, descriptors_all_left_sift, points_all_right_sift, points_all_left_sift"
      ],
      "execution_count": null,
      "outputs": []
    },
    {
      "cell_type": "markdown",
      "metadata": {
        "id": "6-hRX8jrBkrp"
      },
      "source": [
        "SURF"
      ]
    },
    {
      "cell_type": "code",
      "metadata": {
        "id": "Ql4NScZ1Biut",
        "colab": {
          "base_uri": "https://localhost:8080/"
        },
        "outputId": "e86432b4-7284-4ed8-f997-d9b480bb316e"
      },
      "source": [
        "'''\n",
        "start = timer()\n",
        "\n",
        "surf  = cv2.xfeatures2d.SURF_create( nOctaves = 3, hessianThreshold = 20 ,upright=1)\n",
        "keypoints_all_left_surf = []\n",
        "descriptors_all_left_surf = []\n",
        "points_all_left_surf=[]\n",
        "\n",
        "keypoints_all_right_surf = []\n",
        "descriptors_all_right_surf = []\n",
        "points_all_right_surf=[]\n",
        "\n",
        "for cnt in tqdm(range(len(left_files_path))):\n",
        "  f=h5.File(f'drive/MyDrive/all_images_bgr_{Dataset}.h5','r')\n",
        "  imgs = f['data'][cnt]\n",
        "  f.close()  \n",
        "  kpt = surf.detect(imgs,None)\n",
        "  kpt,descrip =  surf.compute(imgs, kpt)\n",
        "  keypoints_all_left_surf.append(kpt)\n",
        "  descriptors_all_left_surf.append(descrip)\n",
        "  #points_all_left_surf.append(np.asarray([[p.pt[0], p.pt[1]] for p in kpt]))\n",
        "\n",
        "for cnt in tqdm(range(len(right_files_path))):\n",
        "  f=h5.File(f'drive/MyDrive/all_images_bgr_{Dataset}.h5','r')\n",
        "  imgs = f['data'][cnt+len(left_files_path)]\n",
        "  f.close()  \n",
        "  kpt = surf.detect(imgs,None)\n",
        "  kpt,descrip =  surf.compute(imgs, kpt)\n",
        "  keypoints_all_right_surf.append(kpt)\n",
        "  descriptors_all_right_surf.append(descrip)\n",
        "  #points_all_right_surf.append(np.asarray([[p.pt[0], p.pt[1]] for p in kpt]))\n",
        "\n",
        "end = timer()\n",
        "\n",
        "time_all.append(end-start)"
      ],
      "execution_count": null,
      "outputs": [
        {
          "output_type": "stream",
          "text": [
            "100%|██████████| 61/61 [09:06<00:00,  8.96s/it]\n",
            "100%|██████████| 60/60 [08:12<00:00,  8.21s/it]\n"
          ],
          "name": "stderr"
        }
      ]
    },
    {
      "cell_type": "code",
      "metadata": {
        "id": "ebC3Q3MBBm4O",
        "colab": {
          "base_uri": "https://localhost:8080/"
        },
        "outputId": "7f312298-25d3-4cea-de83-ac04a085197d"
      },
      "source": [
        "'''\n",
        "for j in tqdm(keypoints_all_left_surf + keypoints_all_right_surf[1:]):\n",
        "  num_kps_surf.append(len(j))"
      ],
      "execution_count": null,
      "outputs": [
        {
          "output_type": "stream",
          "text": [
            "100%|██████████| 120/120 [00:00<00:00, 183090.75it/s]\n"
          ],
          "name": "stderr"
        }
      ]
    },
    {
      "cell_type": "code",
      "metadata": {
        "id": "E3tsk0eJBm0o"
      },
      "source": [
        "'''\n",
        "all_feat_surf_left = []\n",
        "for cnt,kpt_all in enumerate(keypoints_all_left_surf):\n",
        "  all_feat_surf_left_each = []\n",
        "  for cnt_each, kpt in enumerate(kpt_all):\n",
        "    desc = descriptors_all_left_surf[cnt][cnt_each]\n",
        "    temp = (kpt.pt, kpt.size, kpt.angle, kpt.response, kpt.octave, \n",
        "        kpt.class_id, desc)\n",
        "    all_feat_surf_left_each.append(temp)\n",
        "  all_feat_surf_left.append(all_feat_surf_left_each)"
      ],
      "execution_count": null,
      "outputs": []
    },
    {
      "cell_type": "code",
      "metadata": {
        "id": "U-RykyRjBmx1"
      },
      "source": [
        "'''\n",
        "all_feat_surf_right = []\n",
        "for cnt,kpt_all in enumerate(keypoints_all_right_surf):\n",
        "  all_feat_surf_right_each = []\n",
        "  for cnt_each, kpt in enumerate(kpt_all):\n",
        "    desc = descriptors_all_right_surf[cnt][cnt_each]\n",
        "    temp = (kpt.pt, kpt.size, kpt.angle, kpt.response, kpt.octave, \n",
        "        kpt.class_id, desc)\n",
        "    all_feat_surf_right_each.append(temp)\n",
        "  all_feat_surf_right.append(all_feat_surf_right_each)"
      ],
      "execution_count": null,
      "outputs": []
    },
    {
      "cell_type": "code",
      "metadata": {
        "id": "fBXM6S9VBmuh"
      },
      "source": [
        "'''\n",
        "del keypoints_all_left_surf, keypoints_all_right_surf, descriptors_all_left_surf, descriptors_all_right_surf"
      ],
      "execution_count": null,
      "outputs": []
    },
    {
      "cell_type": "code",
      "metadata": {
        "id": "OnYtZPMHBmqx"
      },
      "source": [
        "'''\n",
        "import pickle\n",
        "Fdb = open('all_feat_surf_left.dat', 'wb')\n",
        "pickle.dump(all_feat_surf_left,Fdb,-1)\n",
        "Fdb.close()"
      ],
      "execution_count": null,
      "outputs": []
    },
    {
      "cell_type": "code",
      "metadata": {
        "id": "eYl890XMByIG"
      },
      "source": [
        "'''\n",
        "import pickle\n",
        "Fdb = open('all_feat_surf_right.dat', 'wb')\n",
        "pickle.dump(all_feat_surf_right,Fdb,-1)\n",
        "Fdb.close()"
      ],
      "execution_count": null,
      "outputs": []
    },
    {
      "cell_type": "code",
      "metadata": {
        "id": "SIu9u7gPB0Mo"
      },
      "source": [
        "'''\n",
        "del Fdb, all_feat_surf_left, all_feat_surf_right"
      ],
      "execution_count": null,
      "outputs": []
    },
    {
      "cell_type": "markdown",
      "metadata": {
        "id": "4X-Xmis2Y9k8"
      },
      "source": [
        "ROOTSIFT"
      ]
    },
    {
      "cell_type": "code",
      "metadata": {
        "id": "uq-AUPpAY5CN"
      },
      "source": [
        "\n",
        "class RootSIFT:\n",
        "  def __init__(self):\n",
        "    # initialize the SIFT feature extractor\n",
        "    #self.extractor = cv2.DescriptorExtractor_create(\"SIFT\")\n",
        "    self.sift = cv2.xfeatures2d.SIFT_create()\n",
        "\n",
        "  def compute(self, image, kps, eps=1e-7):\n",
        "    # compute SIFT descriptors\n",
        "    (kps, descs) = self.sift.compute(image, kps)\n",
        "\n",
        "    # if there are no keypoints or descriptors, return an empty tuple\n",
        "    if len(kps) == 0:\n",
        "      return ([], None)\n",
        "\n",
        "    # apply the Hellinger kernel by first L1-normalizing, taking the\n",
        "    # square-root, and then L2-normalizing\n",
        "    descs /= (np.linalg.norm(descs, axis=0, ord=2) + eps)\n",
        "    descs /= (descs.sum(axis=0) + eps)\n",
        "    descs = np.sqrt(descs)\n",
        "    #descs /= (np.linalg.norm(descs, axis=0, ord=2) + eps)\n",
        "\n",
        "    # return a tuple of the keypoints and descriptors\n",
        "    return (kps, descs)"
      ],
      "execution_count": 21,
      "outputs": []
    },
    {
      "cell_type": "code",
      "metadata": {
        "id": "vKVJojBAY49D",
        "colab": {
          "base_uri": "https://localhost:8080/"
        },
        "outputId": "96451e51-b076-44ff-c832-fd1e76b372a3"
      },
      "source": [
        "\n",
        "start = timer()\n",
        "\n",
        "sift = cv2.xfeatures2d.SIFT_create(nfeatures = 1000, contrastThreshold=0.02, edgeThreshold=4)\n",
        "rootsift = RootSIFT()\n",
        "keypoints_all_left_rootsift = []\n",
        "descriptors_all_left_rootsift = []\n",
        "points_all_left_rootsift=[]\n",
        "\n",
        "keypoints_all_right_rootsift = []\n",
        "descriptors_all_right_rootsift = []\n",
        "points_all_right_rootsift=[]\n",
        "\n",
        "for cnt in tqdm(range(len(left_files_path))):\n",
        "  f=h5.File(f'drive/MyDrive/all_images_bgr_{Dataset}.h5','r')\n",
        "  imgs = f['data'][cnt]\n",
        "  f.close()  \n",
        "  kpt = sift.detect(imgs,None)\n",
        "  kpt,descrip =  rootsift.compute(imgs, kpt)\n",
        "  keypoints_all_left_rootsift.append(kpt)\n",
        "  descriptors_all_left_rootsift.append(descrip)\n",
        "  #points_all_left_rootsift.append(np.asarray([[p.pt[0], p.pt[1]] for p in kpt]))\n",
        "\n",
        "for cnt in tqdm(range(len(right_files_path))):\n",
        "  f=h5.File(f'drive/MyDrive/all_images_bgr_{Dataset}.h5','r')\n",
        "  imgs = f['data'][cnt+len(left_files_path)]\n",
        "  f.close()  \n",
        "  kpt = sift.detect(imgs,None)\n",
        "  kpt,descrip =  rootsift.compute(imgs, kpt)\n",
        "  keypoints_all_right_rootsift.append(kpt)\n",
        "  descriptors_all_right_rootsift.append(descrip)\n",
        "  #points_all_right_rootsift.append(np.asarray([[p.pt[0], p.pt[1]] for p in kpt]))\n",
        "\n",
        "end = timer()\n",
        "\n",
        "time_all.append(end-start)"
      ],
      "execution_count": 22,
      "outputs": [
        {
          "output_type": "stream",
          "text": [
            "100%|██████████| 61/61 [06:11<00:00,  6.09s/it]\n",
            "100%|██████████| 60/60 [05:55<00:00,  5.92s/it]\n"
          ],
          "name": "stderr"
        }
      ]
    },
    {
      "cell_type": "code",
      "metadata": {
        "id": "P-pIYbFDY44T",
        "colab": {
          "base_uri": "https://localhost:8080/"
        },
        "outputId": "4956f7a7-a012-4c5d-cf50-6bef0928829e"
      },
      "source": [
        "\n",
        "for j in tqdm(keypoints_all_left_rootsift + keypoints_all_right_rootsift[1:]):\n",
        "  num_kps_rootsift.append(len(j))"
      ],
      "execution_count": 23,
      "outputs": [
        {
          "output_type": "stream",
          "text": [
            "100%|██████████| 120/120 [00:00<00:00, 39485.09it/s]\n"
          ],
          "name": "stderr"
        }
      ]
    },
    {
      "cell_type": "code",
      "metadata": {
        "id": "TzaUmPtGY4y3"
      },
      "source": [
        "'''\n",
        "all_feat_rootsift_left = []\n",
        "for cnt,kpt_all in enumerate(keypoints_all_left_rootsift):\n",
        "  all_feat_rootsift_left_each = []\n",
        "  for cnt_each, kpt in enumerate(kpt_all):\n",
        "    desc = descriptors_all_left_rootsift[cnt][cnt_each]\n",
        "    temp = (kpt.pt, kpt.size, kpt.angle, kpt.response, kpt.octave, \n",
        "        kpt.class_id, desc)\n",
        "    all_feat_rootsift_left_each.append(temp)\n",
        "  all_feat_rootsift_left.append(all_feat_rootsift_left_each)"
      ],
      "execution_count": null,
      "outputs": []
    },
    {
      "cell_type": "code",
      "metadata": {
        "id": "WOz51FvlY4uE"
      },
      "source": [
        "'''\n",
        "all_feat_rootsift_right = []\n",
        "for cnt,kpt_all in enumerate(keypoints_all_right_rootsift):\n",
        "  all_feat_rootsift_right_each = []\n",
        "  for cnt_each, kpt in enumerate(kpt_all):\n",
        "    desc = descriptors_all_right_rootsift[cnt][cnt_each]\n",
        "    temp = (kpt.pt, kpt.size, kpt.angle, kpt.response, kpt.octave, \n",
        "        kpt.class_id, desc)\n",
        "    all_feat_rootsift_right_each.append(temp)\n",
        "  all_feat_rootsift_right.append(all_feat_rootsift_right_each)"
      ],
      "execution_count": null,
      "outputs": []
    },
    {
      "cell_type": "code",
      "metadata": {
        "id": "_j2VRWDAY4of"
      },
      "source": [
        "'''\n",
        "del keypoints_all_left_rootsift, keypoints_all_right_rootsift, descriptors_all_left_rootsift, descriptors_all_right_rootsift"
      ],
      "execution_count": null,
      "outputs": []
    },
    {
      "cell_type": "code",
      "metadata": {
        "id": "2ZbKnM1ZY4jI"
      },
      "source": [
        "'''\n",
        "import pickle\n",
        "Fdb = open('all_feat_rootsift_left.dat', 'wb')\n",
        "pickle.dump(all_feat_rootsift_left,Fdb,-1)\n",
        "Fdb.close()"
      ],
      "execution_count": null,
      "outputs": []
    },
    {
      "cell_type": "code",
      "metadata": {
        "id": "ImEPlaTtY4dc"
      },
      "source": [
        "'''\n",
        "import pickle\n",
        "Fdb = open('all_feat_rootsift_right.dat', 'wb')\n",
        "pickle.dump(all_feat_rootsift_right,Fdb,-1)\n",
        "Fdb.close()"
      ],
      "execution_count": null,
      "outputs": []
    },
    {
      "cell_type": "code",
      "metadata": {
        "id": "kxznTKgpZM01"
      },
      "source": [
        "'''\n",
        "del Fdb, all_feat_rootsift_left, all_feat_rootsift_right"
      ],
      "execution_count": null,
      "outputs": []
    },
    {
      "cell_type": "markdown",
      "metadata": {
        "id": "DMidlSPsB6XZ"
      },
      "source": [
        "SuperPoint"
      ]
    },
    {
      "cell_type": "code",
      "metadata": {
        "id": "bWZhoEjuZfIv"
      },
      "source": [
        "'''\n",
        "!git clone https://github.com/magicleap/SuperPointPretrainedNetwork.git"
      ],
      "execution_count": null,
      "outputs": []
    },
    {
      "cell_type": "code",
      "metadata": {
        "id": "Z6bD80zQZfCR"
      },
      "source": [
        "'''\n",
        "weights_path = 'SuperPointPretrainedNetwork/superpoint_v1.pth'\n",
        "\n",
        "cuda = 'True'"
      ],
      "execution_count": null,
      "outputs": []
    },
    {
      "cell_type": "code",
      "metadata": {
        "id": "TIiSaHNCCG_i"
      },
      "source": [
        "'''\n",
        "def to_kpts(pts, size=1):\n",
        "  return [cv2.KeyPoint(pt[0], pt[1], size) for pt in pts]"
      ],
      "execution_count": null,
      "outputs": []
    },
    {
      "cell_type": "code",
      "metadata": {
        "id": "kHzRz_l5CG6B"
      },
      "source": [
        "'''\n",
        "import numpy as np\n",
        "import torch\n",
        "import torch.nn as nn\n",
        "import torch.nn.functional as F\n",
        "\n",
        "torch.cuda.empty_cache()\n",
        "\n",
        "class SuperPointNet(nn.Module):\n",
        "    def __init__(self):\n",
        "        super(SuperPointNet, self).__init__()\n",
        "        self.relu = nn.ReLU(inplace=True)\n",
        "        self.pool = nn.MaxPool2d(kernel_size=2, stride=2)\n",
        "        c1, c2, c3, c4, c5, d1 = 64, 64, 128, 128, 256, 256\n",
        "        # Shared Encoder.\n",
        "        self.conv1a = nn.Conv2d(1, c1, kernel_size=3, stride=1, padding=1)\n",
        "        self.conv1b = nn.Conv2d(c1, c1, kernel_size=3, stride=1, padding=1)\n",
        "        self.conv2a = nn.Conv2d(c1, c2, kernel_size=3, stride=1, padding=1)\n",
        "        self.conv2b = nn.Conv2d(c2, c2, kernel_size=3, stride=1, padding=1)\n",
        "        self.conv3a = nn.Conv2d(c2, c3, kernel_size=3, stride=1, padding=1)\n",
        "        self.conv3b = nn.Conv2d(c3, c3, kernel_size=3, stride=1, padding=1)\n",
        "        self.conv4a = nn.Conv2d(c3, c4, kernel_size=3, stride=1, padding=1)\n",
        "        self.conv4b = nn.Conv2d(c4, c4, kernel_size=3, stride=1, padding=1)\n",
        "        # Detector Head.\n",
        "        self.convPa = nn.Conv2d(c4, c5, kernel_size=3, stride=1, padding=1)\n",
        "        self.convPb = nn.Conv2d(c5, 65, kernel_size=1, stride=1, padding=0)\n",
        "        # Descriptor Head.\n",
        "        self.convDa = nn.Conv2d(c4, c5, kernel_size=3, stride=1, padding=1)\n",
        "        self.convDb = nn.Conv2d(c5, d1, kernel_size=1, stride=1, padding=0)\n",
        "\n",
        "    def forward(self, x):\n",
        "\n",
        "        # Shared Encoder.\n",
        "        x = self.relu(self.conv1a(x))\n",
        "        x = self.relu(self.conv1b(x))\n",
        "        x = self.pool(x)\n",
        "        x = self.relu(self.conv2a(x))\n",
        "        x = self.relu(self.conv2b(x))\n",
        "        x = self.pool(x)\n",
        "        x = self.relu(self.conv3a(x))\n",
        "        x = self.relu(self.conv3b(x))\n",
        "        x = self.pool(x)\n",
        "        x = self.relu(self.conv4a(x))\n",
        "        x = self.relu(self.conv4b(x))\n",
        "        # Detector Head.\n",
        "        cPa = self.relu(self.convPa(x))\n",
        "        semi = self.convPb(cPa)\n",
        "        # Descriptor Head.\n",
        "        cDa = self.relu(self.convDa(x))\n",
        "        desc = self.convDb(cDa)\n",
        "        dn = torch.norm(desc, p=2, dim=1) # Compute the norm.\n",
        "        desc = desc.div(torch.unsqueeze(dn, 1)) # Divide by norm to normalize.\n",
        "        return semi, desc\n",
        "\n",
        "\n",
        "class SuperPointFrontend(object):\n",
        "    def __init__(self, weights_path, nms_dist, conf_thresh, nn_thresh,cuda=True):\n",
        "        self.name = 'SuperPoint'\n",
        "        self.cuda = cuda\n",
        "        self.nms_dist = nms_dist\n",
        "        self.conf_thresh = conf_thresh\n",
        "        self.nn_thresh = nn_thresh # L2 descriptor distance for good match.\n",
        "        self.cell = 8 # Size of each output cell. Keep this fixed.\n",
        "        self.border_remove = 4 # Remove points this close to the border.\n",
        "\n",
        "        # Load the network in inference mode.\n",
        "        self.net = SuperPointNet()\n",
        "        if cuda:\n",
        "          # Train on GPU, deploy on GPU.\n",
        "            self.net.load_state_dict(torch.load(weights_path))\n",
        "            self.net = self.net.cuda()\n",
        "        else:\n",
        "          # Train on GPU, deploy on CPU.\n",
        "            self.net.load_state_dict(torch.load(weights_path, map_location=lambda storage, loc: storage))\n",
        "        self.net.eval()\n",
        "\n",
        "    def nms_fast(self, in_corners, H, W, dist_thresh):\n",
        "\n",
        "        grid = np.zeros((H, W)).astype(int) # Track NMS data.\n",
        "        inds = np.zeros((H, W)).astype(int) # Store indices of points.\n",
        "        # Sort by confidence and round to nearest int.\n",
        "        inds1 = np.argsort(-in_corners[2,:])\n",
        "        corners = in_corners[:,inds1]\n",
        "        rcorners = corners[:2,:].round().astype(int) # Rounded corners.\n",
        "        # Check for edge case of 0 or 1 corners.\n",
        "        if rcorners.shape[1] == 0:\n",
        "            return np.zeros((3,0)).astype(int), np.zeros(0).astype(int)\n",
        "        if rcorners.shape[1] == 1:\n",
        "            out = np.vstack((rcorners, in_corners[2])).reshape(3,1)\n",
        "            return out, np.zeros((1)).astype(int)\n",
        "        # Initialize the grid.\n",
        "        for i, rc in enumerate(rcorners.T):\n",
        "            grid[rcorners[1,i], rcorners[0,i]] = 1\n",
        "            inds[rcorners[1,i], rcorners[0,i]] = i\n",
        "        # Pad the border of the grid, so that we can NMS points near the border.\n",
        "        pad = dist_thresh\n",
        "        grid = np.pad(grid, ((pad,pad), (pad,pad)), mode='constant')\n",
        "        # Iterate through points, highest to lowest conf, suppress neighborhood.\n",
        "        count = 0\n",
        "        for i, rc in enumerate(rcorners.T):\n",
        "          # Account for top and left padding.\n",
        "            pt = (rc[0]+pad, rc[1]+pad)\n",
        "            if grid[pt[1], pt[0]] == 1: # If not yet suppressed.\n",
        "                grid[pt[1]-pad:pt[1]+pad+1, pt[0]-pad:pt[0]+pad+1] = 0\n",
        "                grid[pt[1], pt[0]] = -1\n",
        "                count += 1\n",
        "        # Get all surviving -1's and return sorted array of remaining corners.\n",
        "        keepy, keepx = np.where(grid==-1)\n",
        "        keepy, keepx = keepy - pad, keepx - pad\n",
        "        inds_keep = inds[keepy, keepx]\n",
        "        out = corners[:, inds_keep]\n",
        "        values = out[-1, :]\n",
        "        inds2 = np.argsort(-values)\n",
        "        out = out[:, inds2]\n",
        "        out_inds = inds1[inds_keep[inds2]]\n",
        "        return out, out_inds\n",
        "\n",
        "    def run(self, img):\n",
        "        assert img.ndim == 2 #Image must be grayscale.\n",
        "        assert img.dtype == np.float32 #Image must be float32.\n",
        "        H, W = img.shape[0], img.shape[1]\n",
        "        inp = img.copy()\n",
        "        inp = (inp.reshape(1, H, W))\n",
        "        inp = torch.from_numpy(inp)\n",
        "        inp = torch.autograd.Variable(inp).view(1, 1, H, W)\n",
        "        if self.cuda:\n",
        "            inp = inp.cuda()\n",
        "        # Forward pass of network.\n",
        "        outs = self.net.forward(inp)\n",
        "        semi, coarse_desc = outs[0], outs[1]\n",
        "        # Convert pytorch -> numpy.\n",
        "        semi = semi.data.cpu().numpy().squeeze()\n",
        "        \n",
        "        # --- Process points.\n",
        "        dense = np.exp(semi) # Softmax.\n",
        "        dense = dense / (np.sum(dense, axis=0)+.00001) # Should sum to 1.\n",
        "        nodust = dense[:-1, :, :]\n",
        "        # Reshape to get full resolution heatmap.\n",
        "        Hc = int(H / self.cell)\n",
        "        Wc = int(W / self.cell)\n",
        "        nodust = np.transpose(nodust, [1, 2, 0])\n",
        "        heatmap = np.reshape(nodust, [Hc, Wc, self.cell, self.cell])\n",
        "        heatmap = np.transpose(heatmap, [0, 2, 1, 3])\n",
        "        heatmap = np.reshape(heatmap, [Hc*self.cell, Wc*self.cell]) \n",
        "        prob_map = heatmap/np.sum(np.sum(heatmap))\n",
        "        \n",
        "        return heatmap, coarse_desc\n",
        "\n",
        "\n",
        "    def key_pt_sampling(self, img, heat_map, coarse_desc, sampled):\n",
        "        \n",
        "        H, W = img.shape[0], img.shape[1]\n",
        "\n",
        "        xs, ys = np.where(heat_map >= self.conf_thresh) # Confidence threshold.\n",
        "        if len(xs) == 0:\n",
        "            return np.zeros((3, 0)), None, None\n",
        "        print(\"number of pts selected :\", len(xs))\n",
        "        \n",
        "        \n",
        "        pts = np.zeros((3, len(xs))) # Populate point data sized 3xN.\n",
        "        pts[0, :] = ys\n",
        "        pts[1, :] = xs\n",
        "        pts[2, :] = heat_map[xs, ys]\n",
        "        pts, _ = self.nms_fast(pts, H, W, dist_thresh=self.nms_dist) # Apply NMS.\n",
        "        inds = np.argsort(pts[2,:])\n",
        "        pts = pts[:,inds[::-1]] # Sort by confidence.\n",
        "        bord = self.border_remove\n",
        "        toremoveW = np.logical_or(pts[0, :] < bord, pts[0, :] >= (W-bord))\n",
        "        toremoveH = np.logical_or(pts[1, :] < bord, pts[1, :] >= (H-bord))\n",
        "        toremove = np.logical_or(toremoveW, toremoveH)\n",
        "        pts = pts[:, ~toremove]\n",
        "        pts = pts[:,0:sampled] #we take 2000 keypoints with highest probability from heatmap for our benchmark\n",
        "        \n",
        "        # --- Process descriptor.\n",
        "        D = coarse_desc.shape[1]\n",
        "        if pts.shape[1] == 0:\n",
        "            desc = np.zeros((D, 0))\n",
        "        else:\n",
        "          # Interpolate into descriptor map using 2D point locations.\n",
        "            samp_pts = torch.from_numpy(pts[:2, :].copy())\n",
        "            samp_pts[0, :] = (samp_pts[0, :] / (float(W)/2.)) - 1.\n",
        "            samp_pts[1, :] = (samp_pts[1, :] / (float(H)/2.)) - 1.\n",
        "            samp_pts = samp_pts.transpose(0, 1).contiguous()\n",
        "            samp_pts = samp_pts.view(1, 1, -1, 2)\n",
        "            samp_pts = samp_pts.float()\n",
        "            if self.cuda:\n",
        "                samp_pts = samp_pts.cuda()            \n",
        "            desc = nn.functional.grid_sample(coarse_desc, samp_pts)\n",
        "            desc = desc.data.cpu().numpy().reshape(D, -1)\n",
        "            desc /= np.linalg.norm(desc, axis=0)[np.newaxis, :]\n",
        "\n",
        "            \n",
        "        return pts, desc"
      ],
      "execution_count": null,
      "outputs": []
    },
    {
      "cell_type": "code",
      "metadata": {
        "id": "v_NTKvX5CG0h"
      },
      "source": [
        "'''\n",
        "print('Loading pre-trained network.')\n",
        "# This class runs the SuperPoint network and processes its outputs.\n",
        "fe = SuperPointFrontend(weights_path=weights_path,nms_dist = 3,conf_thresh = 0.01,nn_thresh=0.5)\n",
        "print('Successfully loaded pre-trained network.')"
      ],
      "execution_count": null,
      "outputs": []
    },
    {
      "cell_type": "code",
      "metadata": {
        "id": "zARa2vimCGu2"
      },
      "source": [
        "'''\n",
        "start = timer()\n",
        "\n",
        "keypoints_all_left_superpoint = []\n",
        "descriptors_all_left_superpoint = []\n",
        "points_all_left_superpoint=[]\n",
        "\n",
        "keypoints_all_right_superpoint = []\n",
        "descriptors_all_right_superpoint = []\n",
        "points_all_right_superpoint=[]\n",
        "\n",
        "tqdm = partial(tqdm, position=0, leave=True)\n",
        "\n",
        "for cnt in tqdm(range(len(left_files_path))):\n",
        "  f=h5.File(f'drive/MyDrive/all_images_gray_{Dataset}.h5','r')\n",
        "  lfpth = f['data'][cnt]\n",
        "  f.close()  \n",
        "  heatmap1, coarse_desc1 = fe.run(lfpth)\n",
        "  pts_1, desc_1 = fe.key_pt_sampling(lfpth, heatmap1, coarse_desc1, 80000) #Getting keypoints and descriptors for 1st image\n",
        "\n",
        "  keypoints_all_left_superpoint.append(to_kpts(pts_1.T))\n",
        "  descriptors_all_left_superpoint.append(desc_1.T)\n",
        "  #points_all_left_superpoint.append(pts_1.T)\n",
        "\n",
        "\n",
        "for cnt in tqdm(range(len(right_files_path))):\n",
        "  f=h5.File(f'drive/MyDrive/all_images_gray_{Dataset}.h5','r')\n",
        "  rfpth = f['data'][cnt]\n",
        "  f.close()  \n",
        "  heatmap1, coarse_desc1 = fe.run(rfpth)\n",
        "  pts_1, desc_1 = fe.key_pt_sampling(rfpth, heatmap1, coarse_desc1, 80000) #Getting keypoints and descriptors for 1st image\n",
        "\n",
        "  keypoints_all_right_superpoint.append(to_kpts(pts_1.T))\n",
        "  descriptors_all_right_superpoint.append(desc_1.T)\n",
        "  #points_all_right_superpoint.append(pts_1.T)\n",
        "\n",
        "end = timer()\n",
        "time_all.append(end-start)"
      ],
      "execution_count": null,
      "outputs": []
    },
    {
      "cell_type": "code",
      "metadata": {
        "id": "GShtFy1qCGpV"
      },
      "source": [
        "'''\n",
        "for j in tqdm(keypoints_all_left_superpoint + keypoints_all_right_superpoint[1:]):\n",
        "  num_kps_superpoint.append(len(j))"
      ],
      "execution_count": null,
      "outputs": []
    },
    {
      "cell_type": "code",
      "metadata": {
        "id": "_V3c3iWJCGjT"
      },
      "source": [
        "'''\n",
        "all_feat_superpoint_left = []\n",
        "for cnt,kpt_all in enumerate(keypoints_all_left_superpoint):\n",
        "  all_feat_superpoint_left_each = []\n",
        "  for cnt_each, kpt in enumerate(kpt_all):\n",
        "    desc = descriptors_all_left_superpoint[cnt][cnt_each]\n",
        "    temp = (kpt.pt, kpt.size, kpt.angle, kpt.response, kpt.octave, \n",
        "        kpt.class_id, desc)\n",
        "    all_feat_superpoint_left_each.append(temp)\n",
        "  all_feat_superpoint_left.append(all_feat_superpoint_left_each)"
      ],
      "execution_count": null,
      "outputs": []
    },
    {
      "cell_type": "code",
      "metadata": {
        "id": "ygLEJB5eCTXV"
      },
      "source": [
        "'''\n",
        "all_feat_superpoint_right = []\n",
        "for cnt,kpt_all in enumerate(keypoints_all_right_superpoint):\n",
        "  all_feat_superpoint_right_each = []\n",
        "  for cnt_each, kpt in enumerate(kpt_all):\n",
        "    desc = descriptors_all_right_superpoint[cnt][cnt_each]\n",
        "    temp = (kpt.pt, kpt.size, kpt.angle, kpt.response, kpt.octave, \n",
        "        kpt.class_id, desc)\n",
        "    all_feat_superpoint_right_each.append(temp)\n",
        "  all_feat_superpoint_right.append(all_feat_superpoint_right_each)"
      ],
      "execution_count": null,
      "outputs": []
    },
    {
      "cell_type": "code",
      "metadata": {
        "id": "9DHtCaFKCTSQ"
      },
      "source": [
        "'''\n",
        "del keypoints_all_left_superpoint, keypoints_all_right_superpoint, descriptors_all_left_superpoint, descriptors_all_right_superpoint"
      ],
      "execution_count": null,
      "outputs": []
    },
    {
      "cell_type": "code",
      "metadata": {
        "id": "mwLhhM_tCTKq"
      },
      "source": [
        "'''\n",
        "import pickle\n",
        "Fdb = open('all_feat_superpoint_left.dat', 'wb')\n",
        "pickle.dump(all_feat_superpoint_left,Fdb,-1)\n",
        "Fdb.close()"
      ],
      "execution_count": null,
      "outputs": []
    },
    {
      "cell_type": "code",
      "metadata": {
        "id": "_2XRYMrfCYhy"
      },
      "source": [
        "'''\n",
        "import pickle\n",
        "Fdb = open('all_feat_superpoint_right.dat', 'wb')\n",
        "pickle.dump(all_feat_superpoint_right,Fdb,-1)\n",
        "Fdb.close()"
      ],
      "execution_count": null,
      "outputs": []
    },
    {
      "cell_type": "code",
      "metadata": {
        "id": "QCWo--YTCYaM"
      },
      "source": [
        "'''\n",
        "del Fdb, all_feat_superpoint_left, all_feat_superpoint_right"
      ],
      "execution_count": null,
      "outputs": []
    },
    {
      "cell_type": "markdown",
      "metadata": {
        "id": "LFAdEmiACcst"
      },
      "source": [
        "Total Matches,Robust Matches and Homography Computation"
      ]
    },
    {
      "cell_type": "code",
      "metadata": {
        "id": "H1HvLX8HSWoQ"
      },
      "source": [
        "def compute_homography_fast(matched_pts1, matched_pts2,thresh=4):\n",
        "    #matched_pts1 = cv2.KeyPoint_convert(matched_kp1)\n",
        "    #matched_pts2 = cv2.KeyPoint_convert(matched_kp2)\n",
        "\n",
        "    # Estimate the homography between the matches using RANSAC\n",
        "    H, inliers = cv2.findHomography(matched_pts1,\n",
        "                                    matched_pts2,\n",
        "                                    cv2.RANSAC, ransacReprojThreshold =thresh, maxIters=3000)\n",
        "    inliers = inliers.flatten()\n",
        "    return H, inliers"
      ],
      "execution_count": 24,
      "outputs": []
    },
    {
      "cell_type": "code",
      "metadata": {
        "id": "1rQ1tDx0SWf9"
      },
      "source": [
        "def compute_homography_fast_other(matched_pts1, matched_pts2):\n",
        "    #matched_pts1 = cv2.KeyPoint_convert(matched_kp1)\n",
        "    #matched_pts2 = cv2.KeyPoint_convert(matched_kp2)\n",
        "\n",
        "    # Estimate the homography between the matches using RANSAC\n",
        "    H, inliers = cv2.findHomography(matched_pts1,\n",
        "                                    matched_pts2,\n",
        "                                    0)\n",
        "    inliers = inliers.flatten()\n",
        "    return H, inliers"
      ],
      "execution_count": 25,
      "outputs": []
    },
    {
      "cell_type": "code",
      "metadata": {
        "id": "_Q8lSaVqTQIE"
      },
      "source": [
        "def get_Hmatrix(imgs,keypts,pts,descripts,ratio=0.75,thresh=4,use_lowe=True,disp=False,no_ransac=False,binary=False):\n",
        "  lff1 = descripts[0]\n",
        "  lff = descripts[1]\n",
        "\n",
        "  if use_lowe==False:\n",
        "    #FLANN_INDEX_KDTREE = 2\n",
        "    #index_params = dict(algorithm=FLANN_INDEX_KDTREE, trees=5)\n",
        "    #search_params = dict(checks=50)\n",
        "    #flann = cv2.FlannBasedMatcher(index_params, search_params)\n",
        "    #flann = cv2.BFMatcher()\n",
        "    if binary==True:\n",
        "      bf = cv2.BFMatcher(cv2.NORM_HAMMING, crossCheck=True)\n",
        "\n",
        "    else:\n",
        "      bf = cv2.BFMatcher(cv2.NORM_L2, crossCheck=True)\n",
        "      lff1 = np.float32(descripts[0])\n",
        "      lff = np.float32(descripts[1])\n",
        "\n",
        "\n",
        "    #matches_lf1_lf = flann.knnMatch(lff1, lff, k=2)\n",
        "    matches_4 = bf.knnMatch(lff1, lff,k=2)\n",
        "    matches_lf1_lf = []\n",
        "\n",
        "\n",
        "    print(\"\\nNumber of matches\",len(matches_4))\n",
        "    '''\n",
        "    matches_4 = []\n",
        "    ratio = ratio\n",
        "    # loop over the raw matches\n",
        "    for m in matches_lf1_lf:\n",
        "      # ensure the distance is within a certain ratio of each\n",
        "      # other (i.e. Lowe’s ratio test)\n",
        "      #if len(m) == 2 and m[0].distance < m[1].distance * ratio:\n",
        "          #matches_1.append((m[0].trainIdx, m[0].queryIdx))\n",
        "      matches_4.append(m[0])\n",
        "    '''\n",
        "    print(\"Number of matches After Lowe's Ratio\",len(matches_4))\n",
        "  else:\n",
        "    FLANN_INDEX_KDTREE = 2\n",
        "    index_params = dict(algorithm=FLANN_INDEX_KDTREE, trees=5)\n",
        "    search_params = dict(checks=50)\n",
        "    flann = cv2.FlannBasedMatcher(index_params, search_params)\n",
        "    if binary==True:\n",
        "      bf = cv2.BFMatcher(cv2.NORM_HAMMING, crossCheck=True)\n",
        "      lff1 = np.float32(descripts[0])\n",
        "      lff = np.float32(descripts[1])\n",
        "    else:\n",
        "      bf = cv2.BFMatcher(cv2.NORM_L2, crossCheck=True)\n",
        "      lff1 = np.float32(descripts[0])\n",
        "      lff = np.float32(descripts[1])\n",
        "\n",
        "\n",
        "    matches_lf1_lf = flann.knnMatch(lff1, lff, k=2)\n",
        "    #matches_lf1_lf = bf.knnMatch(lff1, lff,k=2)\n",
        "\n",
        "\n",
        "    print(\"\\nNumber of matches\",len(matches_lf1_lf))\n",
        "    matches_4 = []\n",
        "    ratio = ratio\n",
        "    # loop over the raw matches\n",
        "    for m in matches_lf1_lf:\n",
        "      # ensure the distance is within a certain ratio of each\n",
        "      # other (i.e. Lowe’s ratio test)\n",
        "      if len(m) == 2 and m[0].distance < m[1].distance * ratio:\n",
        "          #matches_1.append((m[0].trainIdx, m[0].queryIdx))\n",
        "        matches_4.append(m[0])\n",
        "  \n",
        "    print(\"Number of matches After Lowe's Ratio\",len(matches_4))\n",
        "\n",
        "\n",
        "  \n",
        "  matches_idx = np.array([m.queryIdx for m in matches_4])\n",
        "  imm1_pts = np.array([keypts[0][idx].pt for idx in matches_idx])\n",
        "  matches_idx = np.array([m.trainIdx for m in matches_4])\n",
        "  imm2_pts = np.array([keypts[1][idx].pt for idx in matches_idx])\n",
        "  '''\n",
        "  # Estimate homography 1\n",
        "  #Compute H1\n",
        "  # Estimate homography 1\n",
        "  #Compute H1\n",
        "  imm1_pts=np.empty((len(matches_4),2))\n",
        "  imm2_pts=np.empty((len(matches_4),2))\n",
        "  for i in range(0,len(matches_4)):\n",
        "    m = matches_4[i]\n",
        "    (a_x, a_y) = keypts[0][m.queryIdx].pt\n",
        "    (b_x, b_y) = keypts[1][m.trainIdx].pt\n",
        "    imm1_pts[i]=(a_x, a_y)\n",
        "    imm2_pts[i]=(b_x, b_y)    \n",
        "  H=compute_Homography(imm1_pts,imm2_pts) \n",
        "  #Robustly estimate Homography 1 using RANSAC\n",
        "  Hn, best_inliers=RANSAC_alg(keypts[0] ,keypts[1], matches_4,  nRANSAC=1000, RANSACthresh=6)\n",
        "  '''\n",
        "  \n",
        "  if no_ransac==True:\n",
        "    Hn,inliers = compute_homography_fast_other(imm1_pts,imm2_pts)\n",
        "  else:\n",
        "    Hn,inliers = compute_homography_fast(imm1_pts,imm2_pts,thresh)  \n",
        "\n",
        "  inlier_matchset = np.array(matches_4)[inliers.astype(bool)].tolist()\n",
        "  print(\"Number of Robust matches\",len(inlier_matchset))\n",
        "  print(\"\\n\")\n",
        "  \n",
        "  if len(inlier_matchset)<25:\n",
        "    matches_4 = []\n",
        "    ratio = 0.85\n",
        "    # loop over the raw matches\n",
        "    for m in matches_lf1_lf:\n",
        "      # ensure the distance is within a certain ratio of each\n",
        "      # other (i.e. Lowe’s ratio test)\n",
        "      if len(m) == 2 and m[0].distance < m[1].distance * ratio:\n",
        "          #matches_1.append((m[0].trainIdx, m[0].queryIdx))\n",
        "          matches_4.append(m[0])\n",
        "    print(\"Number of matches After Lowe's Ratio New\",len(matches_4))\n",
        "  \n",
        "    matches_idx = np.array([m.queryIdx for m in matches_4])\n",
        "    imm1_pts = np.array([keypts[0][idx].pt for idx in matches_idx])\n",
        "    matches_idx = np.array([m.trainIdx for m in matches_4])\n",
        "    imm2_pts = np.array([keypts[1][idx].pt for idx in matches_idx])\n",
        "    Hn,inliers = compute_homography_fast(imm1_pts,imm2_pts)  \n",
        "    inlier_matchset = np.array(matches_4)[inliers.astype(bool)].tolist()\n",
        "    print(\"Number of Robust matches New\",len(inlier_matchset))\n",
        "    print(\"\\n\")    \n",
        "  \n",
        "  #H=compute_Homography(imm1_pts,imm2_pts) \n",
        "  #Robustly estimate Homography 1 using RANSAC\n",
        "  #Hn=RANSAC_alg(keypts[0] ,keypts[1], matches_4,  nRANSAC=1500, RANSACthresh=6)\n",
        "\n",
        "  #global inlier_matchset   \n",
        "  \n",
        "  if disp==True:\n",
        "    dispimg1=cv2.drawMatches(imgs[0], keypts[0], imgs[1], keypts[1], inlier_matchset, None,flags=2)\n",
        "    displayplot(dispimg1,'Robust Matching between Reference Image and Right Image ')\n",
        "  \n",
        "  \n",
        "  return Hn/Hn[2,2], len(matches_lf1_lf), len(inlier_matchset)"
      ],
      "execution_count": 26,
      "outputs": []
    },
    {
      "cell_type": "code",
      "metadata": {
        "id": "sbSaUB-hTQDG"
      },
      "source": [
        "def get_Hmatrix_rfnet(imgs,pts,descripts,disp=True):\n",
        "\n",
        "  des1 = descripts[0]\n",
        "  des2 = descripts[1]\n",
        "\n",
        "  kp1 = pts[0]\n",
        "  kp2 = pts[1]\n",
        "\n",
        "\n",
        "  predict_label, nn_kp2 = nearest_neighbor_distance_ratio_match(des1, des2, kp2, 0.7)\n",
        "  idx = predict_label.nonzero().view(-1)\n",
        "  mkp1 = kp1.index_select(dim=0, index=idx.long())  # predict match keypoints in I1\n",
        "  mkp2 = nn_kp2.index_select(dim=0, index=idx.long())  # predict match keypoints in I2\n",
        "\n",
        "  #img1, img2 = reverse_img(img1), reverse_img(img2)\n",
        "  keypoints1 = list(map(to_cv2_kp, mkp1))\n",
        "  keypoints2 = list(map(to_cv2_kp, mkp2))\n",
        "  DMatch = list(map(to_cv2_dmatch, np.arange(0, len(keypoints1))))\n",
        "\n",
        "  imm1_pts=np.empty((len(DMatch),2))\n",
        "  imm2_pts=np.empty((len(DMatch),2))\n",
        "  for i in range(0,len(DMatch)):\n",
        "    m = DMatch[i]\n",
        "    (a_x, a_y) = keypoints1[m.queryIdx].pt\n",
        "    (b_x, b_y) = keypoints2[m.trainIdx].pt\n",
        "    imm1_pts[i]=(a_x, a_y)\n",
        "    imm2_pts[i]=(b_x, b_y)    \n",
        "  H=compute_Homography_fast(imm1_pts,imm2_pts) \n",
        "\n",
        "\n",
        "  if disp==True:\n",
        "    dispimg1 = cv2.drawMatches(imgs[0], keypoints1, imgs[1], keypoints2, DMatch, None)\n",
        "    displayplot(dispimg1,'Robust Matching between Reference Image and Right Image ')\n",
        "\n",
        "\n",
        "  return H/H[2,2]"
      ],
      "execution_count": 27,
      "outputs": []
    },
    {
      "cell_type": "code",
      "metadata": {
        "id": "BxmB14K1IGji"
      },
      "source": [
        "'''\n",
        "import pickle\n",
        "Fdb = open('all_feat_brisk_left.dat', 'rb')\n",
        "kpts_all = pickle.load(Fdb)\n",
        "Fdb.close()\n",
        "\n",
        "keypoints_all_left_brisk = []\n",
        "descriptors_all_left_brisk = []\n",
        "points_all_left_brisk = []\n",
        "\n",
        "for j,kpt_each in enumerate(kpts_all):\n",
        "  keypoints_each = []\n",
        "  descrip_each = []\n",
        "  for k,kpt_img in enumerate(kpt_each):\n",
        "    temp_feature = cv2.KeyPoint(x=kpt_img[0][0],y=kpt_img[0][1],_size=kpt_img[1], _angle=kpt_img[2], \n",
        "                            _response=kpt_img[3], _octave=kpt_img[4], _class_id=kpt_img[5]) \n",
        "    temp_descriptor = kpt_img[6]\n",
        "    keypoints_each.append(temp_feature)\n",
        "    descrip_each.append(temp_descriptor)\n",
        "  points_all_left_brisk.append(np.asarray([[p.pt[0], p.pt[1]] for p in keypoints_each]))\n",
        "  keypoints_all_left_brisk.append(keypoints_each)\n",
        "  descriptors_all_left_brisk.append(descrip_each)"
      ],
      "execution_count": null,
      "outputs": []
    },
    {
      "cell_type": "code",
      "metadata": {
        "id": "GbsNJSsCIGfP"
      },
      "source": [
        "'''\n",
        "import pickle\n",
        "Fdb = open('all_feat_brisk_right.dat', 'rb')\n",
        "kpts_all = pickle.load(Fdb)\n",
        "Fdb.close()\n",
        "\n",
        "keypoints_all_right_brisk = []\n",
        "descriptors_all_right_brisk = []\n",
        "points_all_right_brisk = []\n",
        "\n",
        "for j,kpt_each in enumerate(kpts_all):\n",
        "  keypoints_each = []\n",
        "  descrip_each = []\n",
        "  for k,kpt_img in enumerate(kpt_each):\n",
        "    temp_feature = cv2.KeyPoint(x=kpt_img[0][0],y=kpt_img[0][1],_size=kpt_img[1], _angle=kpt_img[2], \n",
        "                            _response=kpt_img[3], _octave=kpt_img[4], _class_id=kpt_img[5]) \n",
        "    temp_descriptor = kpt_img[6]\n",
        "    keypoints_each.append(temp_feature)\n",
        "    descrip_each.append(temp_descriptor)\n",
        "  points_all_right_brisk.append(np.asarray([[p.pt[0], p.pt[1]] for p in keypoints_each]))\n",
        "  keypoints_all_right_brisk.append(keypoints_each)\n",
        "  descriptors_all_right_brisk.append(descrip_each)"
      ],
      "execution_count": null,
      "outputs": []
    },
    {
      "cell_type": "code",
      "metadata": {
        "id": "yvc4MelmIGaK"
      },
      "source": [
        "'''\n",
        "H_left_brisk = []\n",
        "H_right_brisk = []\n",
        "\n",
        "num_matches_brisk = []\n",
        "num_good_matches_brisk = []\n",
        "\n",
        "images_left_bgr = []\n",
        "images_right_bgr = []\n",
        "for j in tqdm(range(len(left_files_path))):\n",
        "  if j==len(left_files_path)-1:\n",
        "    break\n",
        "\n",
        "  H_a,matches,gd_matches = get_Hmatrix(images_left_bgr[j:j+2][::-1],keypoints_all_left_brisk[j:j+2][::-1],points_all_left_brisk[j:j+2][::-1],descriptors_all_left_brisk[j:j+2][::-1],0.7,3,use_lowe=True,binary=True)\n",
        "  H_left_brisk.append(H_a)\n",
        "  num_matches_brisk.append(matches)\n",
        "  num_good_matches_brisk.append(gd_matches)\n",
        "\n",
        "for j in tqdm(range(len(right_files_path))):\n",
        "  if j==len(right_files_path)-1:\n",
        "    break\n",
        "\n",
        "  H_a,matches,gd_matches = get_Hmatrix(images_right_bgr[j:j+2][::-1],keypoints_all_right_brisk[j:j+2][::-1],points_all_right_brisk[j:j+2][::-1],descriptors_all_right_brisk[j:j+2][::-1],0.7,3,use_lowe=True,binary=True)\n",
        "  H_right_brisk.append(H_a)\n",
        "  num_matches_brisk.append(matches)\n",
        "  num_good_matches_brisk.append(gd_matches)"
      ],
      "execution_count": null,
      "outputs": []
    },
    {
      "cell_type": "code",
      "metadata": {
        "id": "c8T74TJ4IGU9"
      },
      "source": [
        "'''\n",
        "import h5py as h5\n",
        "f=h5.File('drive/MyDrive/H_left_brisk_40.h5','w')\n",
        "t0=time.time()\n",
        "f.create_dataset('data',data=H_left_brisk)\n",
        "f.close()\n",
        "print('HDF5  w/o comp.:',time.time()-t0,'[s] ... size',os.path.getsize('drive/MyDrive/H_left_brisk_40.h5')/1.e6,'MB')"
      ],
      "execution_count": null,
      "outputs": []
    },
    {
      "cell_type": "code",
      "metadata": {
        "id": "t_nFQdxmIGOU"
      },
      "source": [
        "'''\n",
        "import h5py as h5\n",
        "f=h5.File('drive/MyDrive/H_right_brisk_40.h5','w')\n",
        "t0=time.time()\n",
        "f.create_dataset('data',data=H_right_brisk)\n",
        "f.close()\n",
        "print('HDF5  w/o comp.:',time.time()-t0,'[s] ... size',os.path.getsize('drive/MyDrive/H_right_brisk_40.h5')/1.e6,'MB')"
      ],
      "execution_count": null,
      "outputs": []
    },
    {
      "cell_type": "code",
      "metadata": {
        "id": "1mkl11ZfIGGP"
      },
      "source": [
        "'''\n",
        "del H_left_brisk, H_right_brisk,keypoints_all_left_brisk, keypoints_all_right_brisk, descriptors_all_left_brisk, descriptors_all_right_brisk, points_all_left_brisk, points_all_right_brisk"
      ],
      "execution_count": null,
      "outputs": []
    },
    {
      "cell_type": "code",
      "metadata": {
        "id": "3Bbuf1pWIF7k"
      },
      "source": [
        ""
      ],
      "execution_count": null,
      "outputs": []
    },
    {
      "cell_type": "code",
      "metadata": {
        "id": "0hAvJVtyCpgk"
      },
      "source": [
        "'''\n",
        "import pickle\n",
        "Fdb = open('all_feat_sift_left.dat', 'rb')\n",
        "kpts_all = pickle.load(Fdb)\n",
        "Fdb.close()\n",
        "\n",
        "keypoints_all_left_sift = []\n",
        "descriptors_all_left_sift = []\n",
        "\n",
        "\n",
        "\n",
        "for j,kpt_each in enumerate(kpts_all):\n",
        "  keypoints_each = []\n",
        "  descrip_each = []\n",
        "  for k,kpt_img in enumerate(kpt_each):\n",
        "    temp_feature = cv2.KeyPoint(x=kpt_img[0][0],y=kpt_img[0][1],_size=kpt_img[1], _angle=kpt_img[2], \n",
        "                            _response=kpt_img[3], _octave=kpt_img[4], _class_id=kpt_img[5]) \n",
        "    temp_descriptor = kpt_img[6]\n",
        "    keypoints_each.append(temp_feature)\n",
        "    descrip_each.append(temp_descriptor)\n",
        "  points_all_left_sift.append(np.asarray([[p.pt[0], p.pt[1]] for p in keypoints_each]))\n",
        "  keypoints_all_left_sift.append(keypoints_each)\n",
        "  descriptors_all_left_sift.append(descrip_each)"
      ],
      "execution_count": null,
      "outputs": []
    },
    {
      "cell_type": "code",
      "metadata": {
        "id": "sYZ8M-JGCpdG"
      },
      "source": [
        "'''\n",
        "import pickle\n",
        "Fdb = open('all_feat_sift_right.dat', 'rb')\n",
        "kpts_all = pickle.load(Fdb)\n",
        "Fdb.close()\n",
        "\n",
        "keypoints_all_right_sift = []\n",
        "descriptors_all_right_sift = []\n",
        "\n",
        "for j,kpt_each in enumerate(kpts_all):\n",
        "  keypoints_each = []\n",
        "  descrip_each = []\n",
        "  for k,kpt_img in enumerate(kpt_each):\n",
        "    temp_feature = cv2.KeyPoint(x=kpt_img[0][0],y=kpt_img[0][1],_size=kpt_img[1], _angle=kpt_img[2], \n",
        "                            _response=kpt_img[3], _octave=kpt_img[4], _class_id=kpt_img[5]) \n",
        "    temp_descriptor = kpt_img[6]\n",
        "    keypoints_each.append(temp_feature)\n",
        "    descrip_each.append(temp_descriptor)\n",
        "  points_all_right_sift.append(np.asarray([[p.pt[0], p.pt[1]] for p in keypoints_each]))\n",
        "  keypoints_all_right_sift.append(keypoints_each)\n",
        "  descriptors_all_right_sift.append(descrip_each)"
      ],
      "execution_count": null,
      "outputs": []
    },
    {
      "cell_type": "code",
      "metadata": {
        "id": "BzLUr-JVCpaE",
        "colab": {
          "base_uri": "https://localhost:8080/"
        },
        "outputId": "30af52a8-2762-4e05-9202-11d1fbbfa4e1"
      },
      "source": [
        "\n",
        "H_left_sift = []\n",
        "H_right_sift = []\n",
        "\n",
        "num_matches_sift = []\n",
        "num_good_matches_sift = []\n",
        "\n",
        "for j in tqdm(range(len(left_files_path))):\n",
        "  if j==len(left_files_path)-1:\n",
        "    break\n",
        "\n",
        "  H_a,matches,gd_matches = get_Hmatrix(images_left_bgr[j:j+2][::-1],keypoints_all_left_sift[j:j+2][::-1],points_all_left_sift[j:j+2][::-1],descriptors_all_left_sift[j:j+2][::-1],0.75)\n",
        "  H_left_sift.append(H_a)\n",
        "  num_matches_sift.append(matches)\n",
        "  num_good_matches_sift.append(gd_matches)\n",
        "\n",
        "for j in tqdm(range(len(right_files_path))):\n",
        "  if j==len(right_files_path)-1:\n",
        "    break\n",
        "\n",
        "  H_a,matches,gd_matches = get_Hmatrix(images_right_bgr[j:j+2][::-1],keypoints_all_right_sift[j:j+2][::-1],points_all_right_sift[j:j+2][::-1],descriptors_all_right_sift[j:j+2][::-1],0.75)\n",
        "  H_right_sift.append(H_a)\n",
        "  num_matches_sift.append(matches)\n",
        "  num_good_matches_sift.append(gd_matches)"
      ],
      "execution_count": 28,
      "outputs": [
        {
          "output_type": "stream",
          "text": [
            "  3%|▎         | 2/61 [00:00<00:09,  6.55it/s]"
          ],
          "name": "stderr"
        },
        {
          "output_type": "stream",
          "text": [
            "\n",
            "Number of matches 1000\n",
            "Number of matches After Lowe's Ratio 98\n",
            "Number of Robust matches 31\n",
            "\n",
            "\n",
            "\n",
            "Number of matches 1000\n",
            "Number of matches After Lowe's Ratio 118\n",
            "Number of Robust matches 44\n",
            "\n",
            "\n"
          ],
          "name": "stdout"
        },
        {
          "output_type": "stream",
          "text": [
            "  7%|▋         | 4/61 [00:00<00:08,  6.52it/s]"
          ],
          "name": "stderr"
        },
        {
          "output_type": "stream",
          "text": [
            "\n",
            "Number of matches 1000\n",
            "Number of matches After Lowe's Ratio 110\n",
            "Number of Robust matches 35\n",
            "\n",
            "\n",
            "\n",
            "Number of matches 1000\n",
            "Number of matches After Lowe's Ratio 124\n",
            "Number of Robust matches 46\n",
            "\n",
            "\n"
          ],
          "name": "stdout"
        },
        {
          "output_type": "stream",
          "text": [
            " 10%|▉         | 6/61 [00:00<00:08,  6.73it/s]"
          ],
          "name": "stderr"
        },
        {
          "output_type": "stream",
          "text": [
            "\n",
            "Number of matches 1001\n",
            "Number of matches After Lowe's Ratio 86\n",
            "Number of Robust matches 41\n",
            "\n",
            "\n",
            "\n",
            "Number of matches 1000\n",
            "Number of matches After Lowe's Ratio 87\n",
            "Number of Robust matches 42\n",
            "\n",
            "\n"
          ],
          "name": "stdout"
        },
        {
          "output_type": "stream",
          "text": [
            " 13%|█▎        | 8/61 [00:01<00:08,  6.32it/s]"
          ],
          "name": "stderr"
        },
        {
          "output_type": "stream",
          "text": [
            "\n",
            "Number of matches 1000\n",
            "Number of matches After Lowe's Ratio 147\n",
            "Number of Robust matches 93\n",
            "\n",
            "\n",
            "\n",
            "Number of matches 1001\n",
            "Number of matches After Lowe's Ratio 115\n",
            "Number of Robust matches 45\n",
            "\n",
            "\n"
          ],
          "name": "stdout"
        },
        {
          "output_type": "stream",
          "text": [
            " 16%|█▋        | 10/61 [00:01<00:07,  6.49it/s]"
          ],
          "name": "stderr"
        },
        {
          "output_type": "stream",
          "text": [
            "\n",
            "Number of matches 1000\n",
            "Number of matches After Lowe's Ratio 132\n",
            "Number of Robust matches 58\n",
            "\n",
            "\n",
            "\n",
            "Number of matches 1000\n",
            "Number of matches After Lowe's Ratio 110\n",
            "Number of Robust matches 45\n",
            "\n",
            "\n"
          ],
          "name": "stdout"
        },
        {
          "output_type": "stream",
          "text": [
            "\r 18%|█▊        | 11/61 [00:01<00:09,  5.34it/s]"
          ],
          "name": "stderr"
        },
        {
          "output_type": "stream",
          "text": [
            "\n",
            "Number of matches 1000\n",
            "Number of matches After Lowe's Ratio 99\n",
            "Number of Robust matches 23\n",
            "\n",
            "\n",
            "Number of matches After Lowe's Ratio New 193\n",
            "Number of Robust matches New 30\n",
            "\n",
            "\n"
          ],
          "name": "stdout"
        },
        {
          "output_type": "stream",
          "text": [
            " 21%|██▏       | 13/61 [00:02<00:08,  5.86it/s]"
          ],
          "name": "stderr"
        },
        {
          "output_type": "stream",
          "text": [
            "\n",
            "Number of matches 1000\n",
            "Number of matches After Lowe's Ratio 147\n",
            "Number of Robust matches 45\n",
            "\n",
            "\n",
            "\n",
            "Number of matches 1000\n",
            "Number of matches After Lowe's Ratio 32\n",
            "Number of Robust matches 19\n",
            "\n",
            "\n",
            "Number of matches After Lowe's Ratio New 78\n",
            "Number of Robust matches New 27\n",
            "\n",
            "\n"
          ],
          "name": "stdout"
        },
        {
          "output_type": "stream",
          "text": [
            "\r 23%|██▎       | 14/61 [00:02<00:08,  5.23it/s]"
          ],
          "name": "stderr"
        },
        {
          "output_type": "stream",
          "text": [
            "\n",
            "Number of matches 1000\n",
            "Number of matches After Lowe's Ratio 9\n",
            "Number of Robust matches 6\n",
            "\n",
            "\n",
            "Number of matches After Lowe's Ratio New 51\n",
            "Number of Robust matches New 7\n",
            "\n",
            "\n"
          ],
          "name": "stdout"
        },
        {
          "output_type": "stream",
          "text": [
            "\r 25%|██▍       | 15/61 [00:02<00:09,  4.81it/s]"
          ],
          "name": "stderr"
        },
        {
          "output_type": "stream",
          "text": [
            "\n",
            "Number of matches 1000\n",
            "Number of matches After Lowe's Ratio 17\n",
            "Number of Robust matches 12\n",
            "\n",
            "\n",
            "Number of matches After Lowe's Ratio New 72\n",
            "Number of Robust matches New 12\n",
            "\n",
            "\n"
          ],
          "name": "stdout"
        },
        {
          "output_type": "stream",
          "text": [
            " 28%|██▊       | 17/61 [00:02<00:08,  5.43it/s]"
          ],
          "name": "stderr"
        },
        {
          "output_type": "stream",
          "text": [
            "\n",
            "Number of matches 1000\n",
            "Number of matches After Lowe's Ratio 109\n",
            "Number of Robust matches 45\n",
            "\n",
            "\n",
            "\n",
            "Number of matches 1000\n",
            "Number of matches After Lowe's Ratio 95\n",
            "Number of Robust matches 29\n",
            "\n",
            "\n"
          ],
          "name": "stdout"
        },
        {
          "output_type": "stream",
          "text": [
            "\r 30%|██▉       | 18/61 [00:03<00:07,  5.60it/s]"
          ],
          "name": "stderr"
        },
        {
          "output_type": "stream",
          "text": [
            "\n",
            "Number of matches 1001\n",
            "Number of matches After Lowe's Ratio 81\n",
            "Number of Robust matches 27\n",
            "\n",
            "\n",
            "\n",
            "Number of matches 1000\n",
            "Number of matches After Lowe's Ratio 69\n",
            "Number of Robust matches"
          ],
          "name": "stdout"
        },
        {
          "output_type": "stream",
          "text": [
            "\r 31%|███       | 19/61 [00:03<00:08,  4.77it/s]"
          ],
          "name": "stderr"
        },
        {
          "output_type": "stream",
          "text": [
            " 18\n",
            "\n",
            "\n",
            "Number of matches After Lowe's Ratio New 163\n",
            "Number of Robust matches New 25\n",
            "\n",
            "\n"
          ],
          "name": "stdout"
        },
        {
          "output_type": "stream",
          "text": [
            " 34%|███▍      | 21/61 [00:03<00:07,  5.66it/s]"
          ],
          "name": "stderr"
        },
        {
          "output_type": "stream",
          "text": [
            "\n",
            "Number of matches 1000\n",
            "Number of matches After Lowe's Ratio 85\n",
            "Number of Robust matches 35\n",
            "\n",
            "\n",
            "\n",
            "Number of matches 1000\n",
            "Number of matches After Lowe's Ratio 88\n",
            "Number of Robust matches 47\n",
            "\n",
            "\n"
          ],
          "name": "stdout"
        },
        {
          "output_type": "stream",
          "text": [
            " 38%|███▊      | 23/61 [00:03<00:06,  6.08it/s]"
          ],
          "name": "stderr"
        },
        {
          "output_type": "stream",
          "text": [
            "\n",
            "Number of matches 1000\n",
            "Number of matches After Lowe's Ratio 136\n",
            "Number of Robust matches 100\n",
            "\n",
            "\n",
            "\n",
            "Number of matches 1001\n",
            "Number of matches After Lowe's Ratio 116\n",
            "Number of Robust matches 81\n",
            "\n",
            "\n"
          ],
          "name": "stdout"
        },
        {
          "output_type": "stream",
          "text": [
            " 41%|████      | 25/61 [00:04<00:05,  6.18it/s]"
          ],
          "name": "stderr"
        },
        {
          "output_type": "stream",
          "text": [
            "\n",
            "Number of matches 1000\n",
            "Number of matches After Lowe's Ratio 81\n",
            "Number of Robust matches 30\n",
            "\n",
            "\n",
            "\n",
            "Number of matches 1000\n",
            "Number of matches After Lowe's Ratio 62\n",
            "Number of Robust matches 25\n",
            "\n",
            "\n",
            "\n",
            "Number of matches 1000\n",
            "Number of matches After Lowe's Ratio 45\n",
            "Number of Robust matches 9\n",
            "\n",
            "\n",
            "Number of matches After Lowe's Ratio New 118\n"
          ],
          "name": "stdout"
        },
        {
          "output_type": "stream",
          "text": [
            " 44%|████▍     | 27/61 [00:04<00:06,  4.94it/s]"
          ],
          "name": "stderr"
        },
        {
          "output_type": "stream",
          "text": [
            "Number of Robust matches New 9\n",
            "\n",
            "\n",
            "\n",
            "Number of matches 1000\n",
            "Number of matches After Lowe's Ratio 102\n",
            "Number of Robust matches 26\n",
            "\n",
            "\n"
          ],
          "name": "stdout"
        },
        {
          "output_type": "stream",
          "text": [
            "\r 46%|████▌     | 28/61 [00:05<00:07,  4.63it/s]"
          ],
          "name": "stderr"
        },
        {
          "output_type": "stream",
          "text": [
            "\n",
            "Number of matches 1000\n",
            "Number of matches After Lowe's Ratio 33\n",
            "Number of Robust matches 12\n",
            "\n",
            "\n",
            "Number of matches After Lowe's Ratio New 85\n",
            "Number of Robust matches New 13\n",
            "\n",
            "\n"
          ],
          "name": "stdout"
        },
        {
          "output_type": "stream",
          "text": [
            "\r 48%|████▊     | 29/61 [00:05<00:07,  4.48it/s]"
          ],
          "name": "stderr"
        },
        {
          "output_type": "stream",
          "text": [
            "\n",
            "Number of matches 1000\n",
            "Number of matches After Lowe's Ratio 11\n",
            "Number of Robust matches 4\n",
            "\n",
            "\n",
            "Number of matches After Lowe's Ratio New 68\n",
            "Number of Robust matches New 6\n",
            "\n",
            "\n"
          ],
          "name": "stdout"
        },
        {
          "output_type": "stream",
          "text": [
            "\r 49%|████▉     | 30/61 [00:05<00:06,  4.43it/s]"
          ],
          "name": "stderr"
        },
        {
          "output_type": "stream",
          "text": [
            "\n",
            "Number of matches 1000\n",
            "Number of matches After Lowe's Ratio 17\n",
            "Number of Robust matches 9\n",
            "\n",
            "\n",
            "Number of matches After Lowe's Ratio New 68\n",
            "Number of Robust matches New 12\n",
            "\n",
            "\n"
          ],
          "name": "stdout"
        },
        {
          "output_type": "stream",
          "text": [
            "\r 51%|█████     | 31/61 [00:05<00:06,  4.37it/s]"
          ],
          "name": "stderr"
        },
        {
          "output_type": "stream",
          "text": [
            "\n",
            "Number of matches 1000\n",
            "Number of matches After Lowe's Ratio 56\n",
            "Number of Robust matches 18\n",
            "\n",
            "\n",
            "Number of matches After Lowe's Ratio New 130\n",
            "Number of Robust matches New 22\n",
            "\n",
            "\n"
          ],
          "name": "stdout"
        },
        {
          "output_type": "stream",
          "text": [
            " 54%|█████▍    | 33/61 [00:06<00:05,  5.16it/s]"
          ],
          "name": "stderr"
        },
        {
          "output_type": "stream",
          "text": [
            "\n",
            "Number of matches 1000\n",
            "Number of matches After Lowe's Ratio 132\n",
            "Number of Robust matches 36\n",
            "\n",
            "\n",
            "\n",
            "Number of matches 1000\n",
            "Number of matches After Lowe's Ratio 98\n",
            "Number of Robust matches 31\n",
            "\n",
            "\n"
          ],
          "name": "stdout"
        },
        {
          "output_type": "stream",
          "text": [
            "\r 56%|█████▌    | 34/61 [00:06<00:05,  4.61it/s]"
          ],
          "name": "stderr"
        },
        {
          "output_type": "stream",
          "text": [
            "\n",
            "Number of matches 1000\n",
            "Number of matches After Lowe's Ratio 78\n",
            "Number of Robust matches 23\n",
            "\n",
            "\n",
            "Number of matches After Lowe's Ratio New 168\n",
            "Number of Robust matches New 33\n",
            "\n",
            "\n"
          ],
          "name": "stdout"
        },
        {
          "output_type": "stream",
          "text": [
            " 59%|█████▉    | 36/61 [00:06<00:04,  5.33it/s]"
          ],
          "name": "stderr"
        },
        {
          "output_type": "stream",
          "text": [
            "\n",
            "Number of matches 1000\n",
            "Number of matches After Lowe's Ratio 94\n",
            "Number of Robust matches 36\n",
            "\n",
            "\n",
            "\n",
            "Number of matches 1000\n",
            "Number of matches After Lowe's Ratio 85\n",
            "Number of Robust matches 35\n",
            "\n",
            "\n"
          ],
          "name": "stdout"
        },
        {
          "output_type": "stream",
          "text": [
            " 62%|██████▏   | 38/61 [00:06<00:03,  5.92it/s]"
          ],
          "name": "stderr"
        },
        {
          "output_type": "stream",
          "text": [
            "\n",
            "Number of matches 1000\n",
            "Number of matches After Lowe's Ratio 95\n",
            "Number of Robust matches 62\n",
            "\n",
            "\n",
            "\n",
            "Number of matches 1000\n",
            "Number of matches After Lowe's Ratio 114\n",
            "Number of Robust matches 64\n",
            "\n",
            "\n"
          ],
          "name": "stdout"
        },
        {
          "output_type": "stream",
          "text": [
            "\r 64%|██████▍   | 39/61 [00:07<00:03,  6.24it/s]"
          ],
          "name": "stderr"
        },
        {
          "output_type": "stream",
          "text": [
            "\n",
            "Number of matches 1000\n",
            "Number of matches After Lowe's Ratio 142\n",
            "Number of Robust matches 96\n",
            "\n",
            "\n",
            "\n",
            "Number of matches 1000\n",
            "Number of matches After Lowe's Ratio 41\n",
            "Number of Robust matches 18\n",
            "\n",
            "\n",
            "Number of matches After Lowe's Ratio New 107\n"
          ],
          "name": "stdout"
        },
        {
          "output_type": "stream",
          "text": [
            "\r 66%|██████▌   | 40/61 [00:07<00:03,  5.51it/s]"
          ],
          "name": "stderr"
        },
        {
          "output_type": "stream",
          "text": [
            "Number of Robust matches New 21\n",
            "\n",
            "\n",
            "\n",
            "Number of matches 1000\n",
            "Number of matches After Lowe's Ratio 75\n",
            "Number of Robust matches 23\n",
            "\n",
            "\n",
            "Number of matches After Lowe's Ratio New 171\n"
          ],
          "name": "stdout"
        },
        {
          "output_type": "stream",
          "text": [
            "\r 67%|██████▋   | 41/61 [00:07<00:03,  5.14it/s]"
          ],
          "name": "stderr"
        },
        {
          "output_type": "stream",
          "text": [
            "Number of Robust matches New 28\n",
            "\n",
            "\n",
            "\n",
            "Number of matches 1001\n",
            "Number of matches After Lowe's Ratio 78\n",
            "Number of Robust matches 20\n",
            "\n",
            "\n",
            "Number of matches After Lowe's Ratio New 161\n"
          ],
          "name": "stdout"
        },
        {
          "output_type": "stream",
          "text": [
            "\r 69%|██████▉   | 42/61 [00:07<00:04,  4.71it/s]"
          ],
          "name": "stderr"
        },
        {
          "output_type": "stream",
          "text": [
            "Number of Robust matches New 21\n",
            "\n",
            "\n",
            "\n",
            "Number of matches 1000\n",
            "Number of matches After Lowe's Ratio 52\n",
            "Number of Robust matches 18\n",
            "\n",
            "\n",
            "Number of matches After Lowe's Ratio New 110\n"
          ],
          "name": "stdout"
        },
        {
          "output_type": "stream",
          "text": [
            "\r 70%|███████   | 43/61 [00:08<00:03,  4.68it/s]"
          ],
          "name": "stderr"
        },
        {
          "output_type": "stream",
          "text": [
            "Number of Robust matches New 26\n",
            "\n",
            "\n",
            "\n",
            "Number of matches 1000\n",
            "Number of matches After Lowe's Ratio 18\n",
            "Number of Robust matches 8\n",
            "\n",
            "\n",
            "Number of matches After Lowe's Ratio New 52\n"
          ],
          "name": "stdout"
        },
        {
          "output_type": "stream",
          "text": [
            "\r 72%|███████▏  | 44/61 [00:08<00:03,  4.63it/s]"
          ],
          "name": "stderr"
        },
        {
          "output_type": "stream",
          "text": [
            "Number of Robust matches New 12\n",
            "\n",
            "\n",
            "\n",
            "Number of matches 1000\n",
            "Number of matches After Lowe's Ratio 4\n",
            "Number of Robust matches 4\n",
            "\n",
            "\n",
            "Number of matches After Lowe's Ratio New 54\n"
          ],
          "name": "stdout"
        },
        {
          "output_type": "stream",
          "text": [
            "\r 74%|███████▍  | 45/61 [00:08<00:03,  4.58it/s]"
          ],
          "name": "stderr"
        },
        {
          "output_type": "stream",
          "text": [
            "Number of Robust matches New 8\n",
            "\n",
            "\n",
            "\n",
            "Number of matches 1000\n",
            "Number of matches After Lowe's Ratio 7\n",
            "Number of Robust matches 5\n",
            "\n",
            "\n",
            "Number of matches After Lowe's Ratio New 56\n"
          ],
          "name": "stdout"
        },
        {
          "output_type": "stream",
          "text": [
            " 77%|███████▋  | 47/61 [00:08<00:02,  4.72it/s]"
          ],
          "name": "stderr"
        },
        {
          "output_type": "stream",
          "text": [
            "Number of Robust matches New 7\n",
            "\n",
            "\n",
            "\n",
            "Number of matches 1000\n",
            "Number of matches After Lowe's Ratio 17\n",
            "Number of Robust matches 12\n",
            "\n",
            "\n",
            "Number of matches After Lowe's Ratio New 65\n",
            "Number of Robust matches New 21\n",
            "\n",
            "\n"
          ],
          "name": "stdout"
        },
        {
          "output_type": "stream",
          "text": [
            "\r 79%|███████▊  | 48/61 [00:09<00:02,  4.96it/s]"
          ],
          "name": "stderr"
        },
        {
          "output_type": "stream",
          "text": [
            "\n",
            "Number of matches 1000\n",
            "Number of matches After Lowe's Ratio 58\n",
            "Number of Robust matches 23\n",
            "\n",
            "\n",
            "Number of matches After Lowe's Ratio New 148\n",
            "Number of Robust matches New 39\n",
            "\n",
            "\n",
            "\n",
            "Number of matches 1000\n",
            "Number of matches After Lowe's Ratio 60\n"
          ],
          "name": "stdout"
        },
        {
          "output_type": "stream",
          "text": [
            "\r 80%|████████  | 49/61 [00:09<00:02,  4.13it/s]"
          ],
          "name": "stderr"
        },
        {
          "output_type": "stream",
          "text": [
            "Number of Robust matches 12\n",
            "\n",
            "\n",
            "Number of matches After Lowe's Ratio New 146\n",
            "Number of Robust matches New 13\n",
            "\n",
            "\n"
          ],
          "name": "stdout"
        },
        {
          "output_type": "stream",
          "text": [
            " 84%|████████▎ | 51/61 [00:09<00:01,  5.15it/s]"
          ],
          "name": "stderr"
        },
        {
          "output_type": "stream",
          "text": [
            "\n",
            "Number of matches 1002\n",
            "Number of matches After Lowe's Ratio 73\n",
            "Number of Robust matches 29\n",
            "\n",
            "\n",
            "\n",
            "Number of matches 1000\n",
            "Number of matches After Lowe's Ratio 55\n",
            "Number of Robust matches 39\n",
            "\n",
            "\n"
          ],
          "name": "stdout"
        },
        {
          "output_type": "stream",
          "text": [
            " 87%|████████▋ | 53/61 [00:10<00:01,  5.87it/s]"
          ],
          "name": "stderr"
        },
        {
          "output_type": "stream",
          "text": [
            "\n",
            "Number of matches 1000\n",
            "Number of matches After Lowe's Ratio 70\n",
            "Number of Robust matches 46\n",
            "\n",
            "\n",
            "\n",
            "Number of matches 1000\n",
            "Number of matches After Lowe's Ratio 75\n",
            "Number of Robust matches 50\n",
            "\n",
            "\n"
          ],
          "name": "stdout"
        },
        {
          "output_type": "stream",
          "text": [
            " 90%|█████████ | 55/61 [00:10<00:00,  6.29it/s]"
          ],
          "name": "stderr"
        },
        {
          "output_type": "stream",
          "text": [
            "\n",
            "Number of matches 1000\n",
            "Number of matches After Lowe's Ratio 82\n",
            "Number of Robust matches 72\n",
            "\n",
            "\n",
            "\n",
            "Number of matches 1000\n",
            "Number of matches After Lowe's Ratio 70\n",
            "Number of Robust matches 51\n",
            "\n",
            "\n"
          ],
          "name": "stdout"
        },
        {
          "output_type": "stream",
          "text": [
            " 93%|█████████▎| 57/61 [00:10<00:00,  6.30it/s]"
          ],
          "name": "stderr"
        },
        {
          "output_type": "stream",
          "text": [
            "\n",
            "Number of matches 1000\n",
            "Number of matches After Lowe's Ratio 81\n",
            "Number of Robust matches 74\n",
            "\n",
            "\n",
            "\n",
            "Number of matches 1001\n",
            "Number of matches After Lowe's Ratio 61\n",
            "Number of Robust matches 30\n",
            "\n",
            "\n"
          ],
          "name": "stdout"
        },
        {
          "output_type": "stream",
          "text": [
            "\r 95%|█████████▌| 58/61 [00:10<00:00,  5.04it/s]"
          ],
          "name": "stderr"
        },
        {
          "output_type": "stream",
          "text": [
            "\n",
            "Number of matches 1000\n",
            "Number of matches After Lowe's Ratio 85\n",
            "Number of Robust matches 24\n",
            "\n",
            "\n",
            "Number of matches After Lowe's Ratio New 164\n",
            "Number of Robust matches New 33\n",
            "\n",
            "\n"
          ],
          "name": "stdout"
        },
        {
          "output_type": "stream",
          "text": [
            "  0%|          | 0/60 [00:00<?, ?it/s]"
          ],
          "name": "stderr"
        },
        {
          "output_type": "stream",
          "text": [
            "\n",
            "Number of matches 1000\n",
            "Number of matches After Lowe's Ratio 32\n",
            "Number of Robust matches 19\n",
            "\n",
            "\n",
            "Number of matches After Lowe's Ratio New 97\n",
            "Number of Robust matches New 31\n",
            "\n",
            "\n",
            "\n",
            "Number of matches 1000\n",
            "Number of matches After Lowe's Ratio 14\n",
            "Number of Robust matches 8\n",
            "\n",
            "\n",
            "Number of matches After Lowe's Ratio New 42\n",
            "Number of Robust matches New 18\n",
            "\n",
            "\n"
          ],
          "name": "stdout"
        },
        {
          "output_type": "stream",
          "text": [
            "  3%|▎         | 2/60 [00:00<00:09,  6.39it/s]"
          ],
          "name": "stderr"
        },
        {
          "output_type": "stream",
          "text": [
            "\n",
            "Number of matches 1001\n",
            "Number of matches After Lowe's Ratio 73\n",
            "Number of Robust matches 31\n",
            "\n",
            "\n",
            "\n",
            "Number of matches 1000\n",
            "Number of matches After Lowe's Ratio 48\n",
            "Number of Robust matches 18\n",
            "\n",
            "\n",
            "Number of matches After Lowe's Ratio New 99\n",
            "Number of Robust matches New 26\n",
            "\n",
            "\n"
          ],
          "name": "stdout"
        },
        {
          "output_type": "stream",
          "text": [
            "\r  5%|▌         | 3/60 [00:00<00:09,  6.26it/s]"
          ],
          "name": "stderr"
        },
        {
          "output_type": "stream",
          "text": [
            "\n",
            "Number of matches 1000\n",
            "Number of matches After Lowe's Ratio 61\n",
            "Number of Robust matches 22\n",
            "\n",
            "\n",
            "Number of matches After Lowe's Ratio New 120\n",
            "Number of Robust matches New 32\n",
            "\n",
            "\n",
            "\n",
            "Number of matches 1000\n",
            "Number of matches After Lowe's Ratio 71\n",
            "Number of Robust matches 21\n",
            "\n",
            "\n",
            "Number of matches After Lowe's Ratio New 147\n"
          ],
          "name": "stdout"
        },
        {
          "output_type": "stream",
          "text": [
            "  8%|▊         | 5/60 [00:00<00:09,  5.64it/s]"
          ],
          "name": "stderr"
        },
        {
          "output_type": "stream",
          "text": [
            "Number of Robust matches New 26\n",
            "\n",
            "\n",
            "\n",
            "Number of matches 1000\n",
            "Number of matches After Lowe's Ratio 145\n",
            "Number of Robust matches 51\n",
            "\n",
            "\n"
          ],
          "name": "stdout"
        },
        {
          "output_type": "stream",
          "text": [
            " 12%|█▏        | 7/60 [00:01<00:08,  6.08it/s]"
          ],
          "name": "stderr"
        },
        {
          "output_type": "stream",
          "text": [
            "\n",
            "Number of matches 1000\n",
            "Number of matches After Lowe's Ratio 99\n",
            "Number of Robust matches 38\n",
            "\n",
            "\n",
            "\n",
            "Number of matches 1000\n",
            "Number of matches After Lowe's Ratio 115\n",
            "Number of Robust matches 41\n",
            "\n",
            "\n"
          ],
          "name": "stdout"
        },
        {
          "output_type": "stream",
          "text": [
            " 15%|█▌        | 9/60 [00:01<00:07,  6.45it/s]"
          ],
          "name": "stderr"
        },
        {
          "output_type": "stream",
          "text": [
            "\n",
            "Number of matches 1000\n",
            "Number of matches After Lowe's Ratio 134\n",
            "Number of Robust matches 51\n",
            "\n",
            "\n",
            "\n",
            "Number of matches 1000\n",
            "Number of matches After Lowe's Ratio 127\n",
            "Number of Robust matches 62\n",
            "\n",
            "\n"
          ],
          "name": "stdout"
        },
        {
          "output_type": "stream",
          "text": [
            " 18%|█▊        | 11/60 [00:01<00:07,  6.55it/s]"
          ],
          "name": "stderr"
        },
        {
          "output_type": "stream",
          "text": [
            "\n",
            "Number of matches 1000\n",
            "Number of matches After Lowe's Ratio 114\n",
            "Number of Robust matches 57\n",
            "\n",
            "\n",
            "\n",
            "Number of matches 1000\n",
            "Number of matches After Lowe's Ratio 140\n",
            "Number of Robust matches 81\n",
            "\n",
            "\n"
          ],
          "name": "stdout"
        },
        {
          "output_type": "stream",
          "text": [
            " 22%|██▏       | 13/60 [00:02<00:07,  6.60it/s]"
          ],
          "name": "stderr"
        },
        {
          "output_type": "stream",
          "text": [
            "\n",
            "Number of matches 1000\n",
            "Number of matches After Lowe's Ratio 69\n",
            "Number of Robust matches 28\n",
            "\n",
            "\n",
            "\n",
            "Number of matches 1000\n",
            "Number of matches After Lowe's Ratio 124\n",
            "Number of Robust matches 84\n",
            "\n",
            "\n"
          ],
          "name": "stdout"
        },
        {
          "output_type": "stream",
          "text": [
            " 25%|██▌       | 15/60 [00:02<00:06,  6.67it/s]"
          ],
          "name": "stderr"
        },
        {
          "output_type": "stream",
          "text": [
            "\n",
            "Number of matches 1001\n",
            "Number of matches After Lowe's Ratio 121\n",
            "Number of Robust matches 41\n",
            "\n",
            "\n",
            "\n",
            "Number of matches 1000\n",
            "Number of matches After Lowe's Ratio 86\n",
            "Number of Robust matches 27\n",
            "\n",
            "\n"
          ],
          "name": "stdout"
        },
        {
          "output_type": "stream",
          "text": [
            "\r 27%|██▋       | 16/60 [00:02<00:06,  6.57it/s]"
          ],
          "name": "stderr"
        },
        {
          "output_type": "stream",
          "text": [
            "\n",
            "Number of matches 1000\n",
            "Number of matches After Lowe's Ratio 94\n",
            "Number of Robust matches 31\n",
            "\n",
            "\n",
            "\n",
            "Number of matches 1000\n",
            "Number of matches After Lowe's Ratio 62\n",
            "Number of Robust matches 22\n",
            "\n",
            "\n",
            "Number of matches After Lowe's Ratio New 130\n"
          ],
          "name": "stdout"
        },
        {
          "output_type": "stream",
          "text": [
            " 30%|███       | 18/60 [00:02<00:07,  5.72it/s]"
          ],
          "name": "stderr"
        },
        {
          "output_type": "stream",
          "text": [
            "Number of Robust matches New 29\n",
            "\n",
            "\n",
            "\n",
            "Number of matches 1000\n",
            "Number of matches After Lowe's Ratio 81\n",
            "Number of Robust matches 43\n",
            "\n",
            "\n"
          ],
          "name": "stdout"
        },
        {
          "output_type": "stream",
          "text": [
            " 33%|███▎      | 20/60 [00:03<00:06,  5.96it/s]"
          ],
          "name": "stderr"
        },
        {
          "output_type": "stream",
          "text": [
            "\n",
            "Number of matches 1000\n",
            "Number of matches After Lowe's Ratio 32\n",
            "Number of Robust matches 14\n",
            "\n",
            "\n",
            "Number of matches After Lowe's Ratio New 83\n",
            "Number of Robust matches New 25\n",
            "\n",
            "\n",
            "\n",
            "Number of matches 1000\n",
            "Number of matches After Lowe's Ratio 80\n",
            "Number of Robust matches 38\n",
            "\n",
            "\n"
          ],
          "name": "stdout"
        },
        {
          "output_type": "stream",
          "text": [
            " 37%|███▋      | 22/60 [00:03<00:05,  6.37it/s]"
          ],
          "name": "stderr"
        },
        {
          "output_type": "stream",
          "text": [
            "\n",
            "Number of matches 1001\n",
            "Number of matches After Lowe's Ratio 119\n",
            "Number of Robust matches 42\n",
            "\n",
            "\n",
            "\n",
            "Number of matches 1000\n",
            "Number of matches After Lowe's Ratio 128\n",
            "Number of Robust matches 50\n",
            "\n",
            "\n"
          ],
          "name": "stdout"
        },
        {
          "output_type": "stream",
          "text": [
            " 40%|████      | 24/60 [00:03<00:05,  6.73it/s]"
          ],
          "name": "stderr"
        },
        {
          "output_type": "stream",
          "text": [
            "\n",
            "Number of matches 1001\n",
            "Number of matches After Lowe's Ratio 140\n",
            "Number of Robust matches 49\n",
            "\n",
            "\n",
            "\n",
            "Number of matches 1000\n",
            "Number of matches After Lowe's Ratio 130\n",
            "Number of Robust matches 63\n",
            "\n",
            "\n"
          ],
          "name": "stdout"
        },
        {
          "output_type": "stream",
          "text": [
            " 43%|████▎     | 26/60 [00:04<00:05,  6.64it/s]"
          ],
          "name": "stderr"
        },
        {
          "output_type": "stream",
          "text": [
            "\n",
            "Number of matches 1001\n",
            "Number of matches After Lowe's Ratio 101\n",
            "Number of Robust matches 62\n",
            "\n",
            "\n",
            "\n",
            "Number of matches 1000\n",
            "Number of matches After Lowe's Ratio 93\n",
            "Number of Robust matches 66\n",
            "\n",
            "\n"
          ],
          "name": "stdout"
        },
        {
          "output_type": "stream",
          "text": [
            " 47%|████▋     | 28/60 [00:04<00:05,  6.10it/s]"
          ],
          "name": "stderr"
        },
        {
          "output_type": "stream",
          "text": [
            "\n",
            "Number of matches 1000\n",
            "Number of matches After Lowe's Ratio 110\n",
            "Number of Robust matches 81\n",
            "\n",
            "\n",
            "\n",
            "Number of matches 1000\n",
            "Number of matches After Lowe's Ratio 35\n",
            "Number of Robust matches 18\n",
            "\n",
            "\n",
            "Number of matches After Lowe's Ratio New 105\n",
            "Number of Robust matches New 26\n",
            "\n",
            "\n"
          ],
          "name": "stdout"
        },
        {
          "output_type": "stream",
          "text": [
            " 50%|█████     | 30/60 [00:04<00:04,  6.39it/s]"
          ],
          "name": "stderr"
        },
        {
          "output_type": "stream",
          "text": [
            "\n",
            "Number of matches 1000\n",
            "Number of matches After Lowe's Ratio 107\n",
            "Number of Robust matches 50\n",
            "\n",
            "\n",
            "\n",
            "Number of matches 1000\n",
            "Number of matches After Lowe's Ratio 141\n",
            "Number of Robust matches 52\n",
            "\n",
            "\n"
          ],
          "name": "stdout"
        },
        {
          "output_type": "stream",
          "text": [
            " 53%|█████▎    | 32/60 [00:05<00:04,  6.40it/s]"
          ],
          "name": "stderr"
        },
        {
          "output_type": "stream",
          "text": [
            "\n",
            "Number of matches 1000\n",
            "Number of matches After Lowe's Ratio 126\n",
            "Number of Robust matches 42\n",
            "\n",
            "\n",
            "\n",
            "Number of matches 1000\n",
            "Number of matches After Lowe's Ratio 98\n",
            "Number of Robust matches 35\n",
            "\n",
            "\n"
          ],
          "name": "stdout"
        },
        {
          "output_type": "stream",
          "text": [
            " 57%|█████▋    | 34/60 [00:05<00:03,  6.94it/s]"
          ],
          "name": "stderr"
        },
        {
          "output_type": "stream",
          "text": [
            "\n",
            "Number of matches 1000\n",
            "Number of matches After Lowe's Ratio 137\n",
            "Number of Robust matches 56\n",
            "\n",
            "\n",
            "\n",
            "Number of matches 1000\n",
            "Number of matches After Lowe's Ratio 41\n",
            "Number of Robust matches 26\n",
            "\n",
            "\n"
          ],
          "name": "stdout"
        },
        {
          "output_type": "stream",
          "text": [
            " 60%|██████    | 36/60 [00:05<00:03,  6.68it/s]"
          ],
          "name": "stderr"
        },
        {
          "output_type": "stream",
          "text": [
            "\n",
            "Number of matches 1000\n",
            "Number of matches After Lowe's Ratio 40\n",
            "Number of Robust matches 19\n",
            "\n",
            "\n",
            "Number of matches After Lowe's Ratio New 95\n",
            "Number of Robust matches New 24\n",
            "\n",
            "\n",
            "\n",
            "Number of matches 1000\n",
            "Number of matches After Lowe's Ratio 98\n",
            "Number of Robust matches 34\n",
            "\n",
            "\n"
          ],
          "name": "stdout"
        },
        {
          "output_type": "stream",
          "text": [
            " 63%|██████▎   | 38/60 [00:06<00:03,  6.56it/s]"
          ],
          "name": "stderr"
        },
        {
          "output_type": "stream",
          "text": [
            "\n",
            "Number of matches 1000\n",
            "Number of matches After Lowe's Ratio 107\n",
            "Number of Robust matches 42\n",
            "\n",
            "\n",
            "\n",
            "Number of matches 1000\n",
            "Number of matches After Lowe's Ratio 137\n",
            "Number of Robust matches 41\n",
            "\n",
            "\n"
          ],
          "name": "stdout"
        },
        {
          "output_type": "stream",
          "text": [
            " 67%|██████▋   | 40/60 [00:06<00:02,  6.81it/s]"
          ],
          "name": "stderr"
        },
        {
          "output_type": "stream",
          "text": [
            "\n",
            "Number of matches 1000\n",
            "Number of matches After Lowe's Ratio 136\n",
            "Number of Robust matches 52\n",
            "\n",
            "\n",
            "\n",
            "Number of matches 1001\n",
            "Number of matches After Lowe's Ratio 127\n",
            "Number of Robust matches 87\n",
            "\n",
            "\n"
          ],
          "name": "stdout"
        },
        {
          "output_type": "stream",
          "text": [
            "\r 68%|██████▊   | 41/60 [00:06<00:02,  7.05it/s]"
          ],
          "name": "stderr"
        },
        {
          "output_type": "stream",
          "text": [
            "\n",
            "Number of matches 1000\n",
            "Number of matches After Lowe's Ratio 45\n",
            "Number of Robust matches 25\n",
            "\n",
            "\n",
            "\n",
            "Number of matches 1000\n",
            "Number of matches After Lowe's Ratio 22\n",
            "Number of Robust matches 12\n",
            "\n",
            "\n",
            "Number of matches After Lowe's Ratio New 80\n"
          ],
          "name": "stdout"
        },
        {
          "output_type": "stream",
          "text": [
            " 72%|███████▏  | 43/60 [00:06<00:02,  6.05it/s]"
          ],
          "name": "stderr"
        },
        {
          "output_type": "stream",
          "text": [
            "Number of Robust matches New 10\n",
            "\n",
            "\n",
            "\n",
            "Number of matches 1000\n",
            "Number of matches After Lowe's Ratio 35\n",
            "Number of Robust matches 24\n",
            "\n",
            "\n",
            "Number of matches After Lowe's Ratio New 96\n",
            "Number of Robust matches New 29\n",
            "\n",
            "\n"
          ],
          "name": "stdout"
        },
        {
          "output_type": "stream",
          "text": [
            " 75%|███████▌  | 45/60 [00:07<00:02,  5.94it/s]"
          ],
          "name": "stderr"
        },
        {
          "output_type": "stream",
          "text": [
            "\n",
            "Number of matches 1000\n",
            "Number of matches After Lowe's Ratio 28\n",
            "Number of Robust matches 19\n",
            "\n",
            "\n",
            "Number of matches After Lowe's Ratio New 88\n",
            "Number of Robust matches New 28\n",
            "\n",
            "\n",
            "\n",
            "Number of matches 1001\n",
            "Number of matches After Lowe's Ratio 90\n",
            "Number of Robust matches 55\n",
            "\n",
            "\n"
          ],
          "name": "stdout"
        },
        {
          "output_type": "stream",
          "text": [
            " 78%|███████▊  | 47/60 [00:07<00:02,  6.23it/s]"
          ],
          "name": "stderr"
        },
        {
          "output_type": "stream",
          "text": [
            "\n",
            "Number of matches 1000\n",
            "Number of matches After Lowe's Ratio 110\n",
            "Number of Robust matches 44\n",
            "\n",
            "\n",
            "\n",
            "Number of matches 1001\n",
            "Number of matches After Lowe's Ratio 83\n",
            "Number of Robust matches 28\n",
            "\n",
            "\n"
          ],
          "name": "stdout"
        },
        {
          "output_type": "stream",
          "text": [
            " 82%|████████▏ | 49/60 [00:07<00:01,  6.15it/s]"
          ],
          "name": "stderr"
        },
        {
          "output_type": "stream",
          "text": [
            "\n",
            "Number of matches 1001\n",
            "Number of matches After Lowe's Ratio 87\n",
            "Number of Robust matches 32\n",
            "\n",
            "\n",
            "\n",
            "Number of matches 1000\n",
            "Number of matches After Lowe's Ratio 46\n",
            "Number of Robust matches 22\n",
            "\n",
            "\n",
            "Number of matches After Lowe's Ratio New 107\n",
            "Number of Robust matches New 32\n",
            "\n",
            "\n"
          ],
          "name": "stdout"
        },
        {
          "output_type": "stream",
          "text": [
            " 85%|████████▌ | 51/60 [00:08<00:01,  6.59it/s]"
          ],
          "name": "stderr"
        },
        {
          "output_type": "stream",
          "text": [
            "\n",
            "Number of matches 1000\n",
            "Number of matches After Lowe's Ratio 75\n",
            "Number of Robust matches 33\n",
            "\n",
            "\n",
            "\n",
            "Number of matches 1000\n",
            "Number of matches After Lowe's Ratio 59\n",
            "Number of Robust matches 27\n",
            "\n",
            "\n"
          ],
          "name": "stdout"
        },
        {
          "output_type": "stream",
          "text": [
            "\r 87%|████████▋ | 52/60 [00:08<00:01,  5.30it/s]"
          ],
          "name": "stderr"
        },
        {
          "output_type": "stream",
          "text": [
            "\n",
            "Number of matches 1000\n",
            "Number of matches After Lowe's Ratio 39\n",
            "Number of Robust matches 15\n",
            "\n",
            "\n",
            "Number of matches After Lowe's Ratio New 110\n",
            "Number of Robust matches New 19\n",
            "\n",
            "\n"
          ],
          "name": "stdout"
        },
        {
          "output_type": "stream",
          "text": [
            "\r 88%|████████▊ | 53/60 [00:08<00:01,  4.79it/s]"
          ],
          "name": "stderr"
        },
        {
          "output_type": "stream",
          "text": [
            "\n",
            "Number of matches 1000\n",
            "Number of matches After Lowe's Ratio 68\n",
            "Number of Robust matches 21\n",
            "\n",
            "\n",
            "Number of matches After Lowe's Ratio New 157\n",
            "Number of Robust matches New 29\n",
            "\n",
            "\n"
          ],
          "name": "stdout"
        },
        {
          "output_type": "stream",
          "text": [
            " 92%|█████████▏| 55/60 [00:08<00:00,  5.53it/s]"
          ],
          "name": "stderr"
        },
        {
          "output_type": "stream",
          "text": [
            "\n",
            "Number of matches 1000\n",
            "Number of matches After Lowe's Ratio 117\n",
            "Number of Robust matches 38\n",
            "\n",
            "\n",
            "\n",
            "Number of matches 1000\n",
            "Number of matches After Lowe's Ratio 128\n",
            "Number of Robust matches 45\n",
            "\n",
            "\n"
          ],
          "name": "stdout"
        },
        {
          "output_type": "stream",
          "text": [
            " 95%|█████████▌| 57/60 [00:09<00:00,  6.22it/s]"
          ],
          "name": "stderr"
        },
        {
          "output_type": "stream",
          "text": [
            "\n",
            "Number of matches 1001\n",
            "Number of matches After Lowe's Ratio 118\n",
            "Number of Robust matches 57\n",
            "\n",
            "\n",
            "\n",
            "Number of matches 1001\n",
            "Number of matches After Lowe's Ratio 94\n",
            "Number of Robust matches 56\n",
            "\n",
            "\n"
          ],
          "name": "stdout"
        },
        {
          "output_type": "stream",
          "text": [
            " 98%|█████████▊| 59/60 [00:09<00:00,  6.69it/s]"
          ],
          "name": "stderr"
        },
        {
          "output_type": "stream",
          "text": [
            "\n",
            "Number of matches 1000\n",
            "Number of matches After Lowe's Ratio 91\n",
            "Number of Robust matches 78\n",
            "\n",
            "\n",
            "\n",
            "Number of matches 1000\n",
            "Number of matches After Lowe's Ratio 130\n",
            "Number of Robust matches 95\n",
            "\n",
            "\n"
          ],
          "name": "stdout"
        }
      ]
    },
    {
      "cell_type": "code",
      "metadata": {
        "id": "S0ZfgXvFCpXA",
        "colab": {
          "base_uri": "https://localhost:8080/"
        },
        "outputId": "397594a5-1ad1-4d74-db01-9cd5b2e991cc"
      },
      "source": [
        "\n",
        "import h5py as h5\n",
        "f=h5.File('drive/MyDrive/H_left_sift_40.h5','w')\n",
        "t0=time.time()\n",
        "f.create_dataset('data',data=H_left_sift)\n",
        "f.close()\n",
        "print('HDF5  w/o comp.:',time.time()-t0,'[s] ... size',os.path.getsize('drive/MyDrive/H_left_sift_40.h5')/1.e6,'MB')"
      ],
      "execution_count": 29,
      "outputs": [
        {
          "output_type": "stream",
          "text": [
            "HDF5  w/o comp.: 0.009790897369384766 [s] ... size 0.006368 MB\n"
          ],
          "name": "stdout"
        }
      ]
    },
    {
      "cell_type": "code",
      "metadata": {
        "id": "X5aeoRmrCpUD",
        "colab": {
          "base_uri": "https://localhost:8080/"
        },
        "outputId": "749ecee7-d246-4b55-ea1a-67f2c98c6e9a"
      },
      "source": [
        "\n",
        "import h5py as h5\n",
        "f=h5.File('drive/MyDrive/H_right_sift_40.h5','w')\n",
        "t0=time.time()\n",
        "f.create_dataset('data',data=H_right_sift)\n",
        "f.close()\n",
        "print('HDF5  w/o comp.:',time.time()-t0,'[s] ... size',os.path.getsize('drive/MyDrive/H_right_sift_40.h5')/1.e6,'MB')"
      ],
      "execution_count": 30,
      "outputs": [
        {
          "output_type": "stream",
          "text": [
            "HDF5  w/o comp.: 0.011440515518188477 [s] ... size 0.006296 MB\n"
          ],
          "name": "stdout"
        }
      ]
    },
    {
      "cell_type": "code",
      "metadata": {
        "id": "Sm6OxmVOCpOq"
      },
      "source": [
        "\n",
        "del H_left_sift, H_right_sift,keypoints_all_left_sift, keypoints_all_right_sift, descriptors_all_left_sift, descriptors_all_right_sift, points_all_left_sift, points_all_right_sift"
      ],
      "execution_count": 31,
      "outputs": []
    },
    {
      "cell_type": "code",
      "metadata": {
        "id": "vq9_ipIrCpL0"
      },
      "source": [
        ""
      ],
      "execution_count": null,
      "outputs": []
    },
    {
      "cell_type": "code",
      "metadata": {
        "id": "FrD8MHF3CpJT"
      },
      "source": [
        "'''\n",
        "import pickle\n",
        "Fdb = open('all_feat_fast_left.dat', 'rb')\n",
        "kpts_all = pickle.load(Fdb)\n",
        "Fdb.close()\n",
        "\n",
        "keypoints_all_left_fast = []\n",
        "descriptors_all_left_fast = []\n",
        "\n",
        "for j,kpt_each in enumerate(kpts_all):\n",
        "  keypoints_each = []\n",
        "  descrip_each = []\n",
        "  for k,kpt_img in enumerate(kpt_each):\n",
        "    temp_feature = cv2.KeyPoint(x=kpt_img[0][0],y=kpt_img[0][1],_size=kpt_img[1], _angle=kpt_img[2], \n",
        "                            _response=kpt_img[3], _octave=kpt_img[4], _class_id=kpt_img[5]) \n",
        "    temp_descriptor = kpt_img[6]\n",
        "    keypoints_each.append(temp_feature)\n",
        "    descrip_each.append(temp_descriptor)\n",
        "  points_all_left_fast.append(np.asarray([[p.pt[0], p.pt[1]] for p in keypoints_each]))\n",
        "  keypoints_all_left_fast.append(keypoints_each)\n",
        "  descriptors_all_left_fast.append(descrip_each)"
      ],
      "execution_count": null,
      "outputs": []
    },
    {
      "cell_type": "code",
      "metadata": {
        "id": "OgCxWEUpCpGg"
      },
      "source": [
        "'''\n",
        "import pickle\n",
        "Fdb = open('all_feat_fast_right.dat', 'rb')\n",
        "kpts_all = pickle.load(Fdb)\n",
        "Fdb.close()\n",
        "\n",
        "keypoints_all_right_fast = []\n",
        "descriptors_all_right_fast = []\n",
        "\n",
        "for j,kpt_each in enumerate(kpts_all):\n",
        "  keypoints_each = []\n",
        "  descrip_each = []\n",
        "  for k,kpt_img in enumerate(kpt_each):\n",
        "    temp_feature = cv2.KeyPoint(x=kpt_img[0][0],y=kpt_img[0][1],_size=kpt_img[1], _angle=kpt_img[2], \n",
        "                            _response=kpt_img[3], _octave=kpt_img[4], _class_id=kpt_img[5]) \n",
        "    temp_descriptor = kpt_img[6]\n",
        "    keypoints_each.append(temp_feature)\n",
        "    descrip_each.append(temp_descriptor)\n",
        "  points_all_right_fast.append(np.asarray([[p.pt[0], p.pt[1]] for p in keypoints_each]))\n",
        "  keypoints_all_right_fast.append(keypoints_each)\n",
        "  descriptors_all_right_fast.append(descrip_each)"
      ],
      "execution_count": null,
      "outputs": []
    },
    {
      "cell_type": "code",
      "metadata": {
        "id": "pBGTBep2CpD7"
      },
      "source": [
        "'''\n",
        "H_left_fast = []\n",
        "H_right_fast = []\n",
        "\n",
        "num_matches_fast = []\n",
        "num_good_matches_fast = []\n",
        "\n",
        "for j in tqdm(range(len(left_files_path))):\n",
        "  if j==len(left_files_path)-1:\n",
        "    break\n",
        "\n",
        "  H_a,matches,gd_matches = get_Hmatrix(images_left_bgr[j:j+2][::-1],keypoints_all_left_fast[j:j+2][::-1],points_all_left_fast[j:j+2][::-1],descriptors_all_left_fast[j:j+2][::-1],0.9,6)\n",
        "  H_left_fast.append(H_a)\n",
        "  num_matches_fast.append(matches)\n",
        "  num_good_matches_fast.append(gd_matches)\n",
        "\n",
        "for j in tqdm(range(len(right_files_path))):\n",
        "  if j==len(right_files_path)-1:\n",
        "    break\n",
        "\n",
        "  H_a,matches,gd_matches = get_Hmatrix(images_right_bgr[j:j+2][::-1],keypoints_all_right_fast[j:j+2][::-1],points_all_right_fast[j:j+2][::-1],descriptors_all_right_fast[j:j+2][::-1],0.9,6)\n",
        "  H_right_fast.append(H_a)\n",
        "  num_matches_fast.append(matches)\n",
        "  num_good_matches_fast.append(gd_matches)"
      ],
      "execution_count": null,
      "outputs": []
    },
    {
      "cell_type": "code",
      "metadata": {
        "id": "6KYrPTE6CpAT"
      },
      "source": [
        "'''\n",
        "import h5py as h5\n",
        "f=h5.File('drive/MyDrive/H_left_fast_40.h5','w')\n",
        "t0=time.time()\n",
        "f.create_dataset('data',data=H_left_fast)\n",
        "f.close()\n",
        "print('HDF5  w/o comp.:',time.time()-t0,'[s] ... size',os.path.getsize('drive/MyDrive/H_left_fast_40.h5')/1.e6,'MB')"
      ],
      "execution_count": null,
      "outputs": []
    },
    {
      "cell_type": "code",
      "metadata": {
        "id": "pHY7cpdhCo9g"
      },
      "source": [
        "'''\n",
        "import h5py as h5\n",
        "f=h5.File('drive/MyDrive/H_right_fast_40.h5','w')\n",
        "t0=time.time()\n",
        "f.create_dataset('data',data=H_right_fast)\n",
        "f.close()\n",
        "print('HDF5  w/o comp.:',time.time()-t0,'[s] ... size',os.path.getsize('drive/MyDrive/H_right_fast_40.h5')/1.e6,'MB')"
      ],
      "execution_count": null,
      "outputs": []
    },
    {
      "cell_type": "code",
      "metadata": {
        "id": "HSskRoPqCo6N"
      },
      "source": [
        "'''\n",
        "del H_left_fast, H_right_fast,keypoints_all_left_fast, keypoints_all_right_fast, descriptors_all_left_fast, descriptors_all_right_fast, points_all_left_fast, points_all_right_fast"
      ],
      "execution_count": null,
      "outputs": []
    },
    {
      "cell_type": "code",
      "metadata": {
        "id": "aFQQsAnmCo2h"
      },
      "source": [
        ""
      ],
      "execution_count": null,
      "outputs": []
    },
    {
      "cell_type": "code",
      "metadata": {
        "id": "iPqE-tN3Coy1"
      },
      "source": [
        "'''\n",
        "import pickle\n",
        "Fdb = open('all_feat_orb_left.dat', 'rb')\n",
        "kpts_all = pickle.load(Fdb)\n",
        "Fdb.close()\n",
        "\n",
        "keypoints_all_left_orb = []\n",
        "descriptors_all_left_orb = []\n",
        "\n",
        "for j,kpt_each in enumerate(kpts_all):\n",
        "  keypoints_each = []\n",
        "  descrip_each = []\n",
        "  for k,kpt_img in enumerate(kpt_each):\n",
        "    temp_feature = cv2.KeyPoint(x=kpt_img[0][0],y=kpt_img[0][1],_size=kpt_img[1], _angle=kpt_img[2], \n",
        "                            _response=kpt_img[3], _octave=kpt_img[4], _class_id=kpt_img[5]) \n",
        "    temp_descriptor = kpt_img[6]\n",
        "    keypoints_each.append(temp_feature)\n",
        "    descrip_each.append(temp_descriptor)\n",
        "  points_all_left_orb.append(np.asarray([[p.pt[0], p.pt[1]] for p in keypoints_each]))\n",
        "  keypoints_all_left_orb.append(keypoints_each)\n",
        "  descriptors_all_left_orb.append(descrip_each)"
      ],
      "execution_count": null,
      "outputs": []
    },
    {
      "cell_type": "code",
      "metadata": {
        "id": "LDINZCa2Coth"
      },
      "source": [
        "'''\n",
        "import pickle\n",
        "Fdb = open('all_feat_orb_right.dat', 'rb')\n",
        "kpts_all = pickle.load(Fdb)\n",
        "Fdb.close()\n",
        "\n",
        "keypoints_all_right_orb = []\n",
        "descriptors_all_right_orb = []\n",
        "\n",
        "for j,kpt_each in enumerate(kpts_all):\n",
        "  keypoints_each = []\n",
        "  descrip_each = []\n",
        "  for k,kpt_img in enumerate(kpt_each):\n",
        "    temp_feature = cv2.KeyPoint(x=kpt_img[0][0],y=kpt_img[0][1],_size=kpt_img[1], _angle=kpt_img[2], \n",
        "                            _response=kpt_img[3], _octave=kpt_img[4], _class_id=kpt_img[5]) \n",
        "    temp_descriptor = kpt_img[6]\n",
        "    keypoints_each.append(temp_feature)\n",
        "    descrip_each.append(temp_descriptor)\n",
        "  points_all_right_orb.append(np.asarray([[p.pt[0], p.pt[1]] for p in keypoints_each]))\n",
        "  keypoints_all_right_orb.append(keypoints_each)\n",
        "  descriptors_all_right_orb.append(descrip_each)"
      ],
      "execution_count": null,
      "outputs": []
    },
    {
      "cell_type": "code",
      "metadata": {
        "id": "1WHgugSBCony"
      },
      "source": [
        "'''\n",
        "H_left_orb = []\n",
        "H_right_orb = []\n",
        "\n",
        "num_matches_orb = []\n",
        "num_good_matches_orb = []\n",
        "\n",
        "for j in tqdm(range(len(left_files_path))):\n",
        "  if j==len(left_files_path)-1:\n",
        "    break\n",
        "\n",
        "  H_a,matches,gd_matches = get_Hmatrix(images_left_bgr[j:j+2][::-1],keypoints_all_left_orb[j:j+2][::-1],points_all_left_orb[j:j+2][::-1],descriptors_all_left_orb[j:j+2][::-1],0.7)\n",
        "  H_left_orb.append(H_a)\n",
        "  num_matches_orb.append(matches)\n",
        "  num_good_matches_orb.append(gd_matches)\n",
        "\n",
        "for j in tqdm(range(len(right_files_path))):\n",
        "  if j==len(right_files_path)-1:\n",
        "    break\n",
        "\n",
        "  H_a,matches,gd_matches = get_Hmatrix(images_right_bgr[j:j+2][::-1],keypoints_all_right_orb[j:j+2][::-1],points_all_right_orb[j:j+2][::-1],descriptors_all_right_orb[j:j+2][::-1],0.7)\n",
        "  H_right_orb.append(H_a)\n",
        "  num_matches_orb.append(matches)\n",
        "  num_good_matches_orb.append(gd_matches)"
      ],
      "execution_count": null,
      "outputs": []
    },
    {
      "cell_type": "code",
      "metadata": {
        "id": "5KOqm_thCoiE"
      },
      "source": [
        "'''\n",
        "import h5py as h5\n",
        "f=h5.File('drive/MyDrive/H_left_orb_40.h5','w')\n",
        "t0=time.time()\n",
        "f.create_dataset('data',data=H_left_orb)\n",
        "f.close()\n",
        "print('HDF5  w/o comp.:',time.time()-t0,'[s] ... size',os.path.getsize('drive/MyDrive/H_left_orb_40.h5')/1.e6,'MB')"
      ],
      "execution_count": null,
      "outputs": []
    },
    {
      "cell_type": "code",
      "metadata": {
        "id": "1Thqr2JOCoRY"
      },
      "source": [
        "'''\n",
        "import h5py as h5\n",
        "f=h5.File('drive/MyDrive/H_right_orb_40.h5','w')\n",
        "t0=time.time()\n",
        "f.create_dataset('data',data=H_right_orb)\n",
        "f.close()\n",
        "print('HDF5  w/o comp.:',time.time()-t0,'[s] ... size',os.path.getsize('drive/MyDrive/H_right_orb_40.h5')/1.e6,'MB')"
      ],
      "execution_count": null,
      "outputs": []
    },
    {
      "cell_type": "code",
      "metadata": {
        "id": "Od2bhrUTCoMK"
      },
      "source": [
        "'''\n",
        "del H_left_orb, H_right_orb,keypoints_all_left_orb, keypoints_all_right_orb, descriptors_all_left_orb, descriptors_all_right_orb, points_all_left_orb, points_all_right_orb"
      ],
      "execution_count": null,
      "outputs": []
    },
    {
      "cell_type": "code",
      "metadata": {
        "id": "r9jqLTS8CoF6"
      },
      "source": [
        ""
      ],
      "execution_count": null,
      "outputs": []
    },
    {
      "cell_type": "code",
      "metadata": {
        "id": "C8JpQMQ8Cn_a"
      },
      "source": [
        "'''\n",
        "import pickle\n",
        "Fdb = open('all_feat_kaze_left.dat', 'rb')\n",
        "kpts_all = pickle.load(Fdb)\n",
        "Fdb.close()\n",
        "\n",
        "keypoints_all_left_kaze = []\n",
        "descriptors_all_left_kaze = []\n",
        "\n",
        "for j,kpt_each in enumerate(kpts_all):\n",
        "  keypoints_each = []\n",
        "  descrip_each = []\n",
        "  for k,kpt_img in enumerate(kpt_each):\n",
        "    temp_feature = cv2.KeyPoint(x=kpt_img[0][0],y=kpt_img[0][1],_size=kpt_img[1], _angle=kpt_img[2], \n",
        "                            _response=kpt_img[3], _octave=kpt_img[4], _class_id=kpt_img[5]) \n",
        "    temp_descriptor = kpt_img[6]\n",
        "    keypoints_each.append(temp_feature)\n",
        "    descrip_each.append(temp_descriptor)\n",
        "  points_all_left_kaze.append(np.asarray([[p.pt[0], p.pt[1]] for p in keypoints_each]))\n",
        "  keypoints_all_left_kaze.append(keypoints_each)\n",
        "  descriptors_all_left_kaze.append(descrip_each)"
      ],
      "execution_count": null,
      "outputs": []
    },
    {
      "cell_type": "code",
      "metadata": {
        "id": "zIxJL3eVLU4-"
      },
      "source": [
        "'''\n",
        "import pickle\n",
        "Fdb = open('all_feat_kaze_right.dat', 'rb')\n",
        "kpts_all = pickle.load(Fdb)\n",
        "Fdb.close()\n",
        "\n",
        "keypoints_all_right_kaze = []\n",
        "descriptors_all_right_kaze = []\n",
        "\n",
        "for j,kpt_each in enumerate(kpts_all):\n",
        "  keypoints_each = []\n",
        "  descrip_each = []\n",
        "  for k,kpt_img in enumerate(kpt_each):\n",
        "    temp_feature = cv2.KeyPoint(x=kpt_img[0][0],y=kpt_img[0][1],_size=kpt_img[1], _angle=kpt_img[2], \n",
        "                            _response=kpt_img[3], _octave=kpt_img[4], _class_id=kpt_img[5]) \n",
        "    temp_descriptor = kpt_img[6]\n",
        "    keypoints_each.append(temp_feature)\n",
        "    descrip_each.append(temp_descriptor)\n",
        "  points_all_right_kaze.append(np.asarray([[p.pt[0], p.pt[1]] for p in keypoints_each]))\n",
        "  keypoints_all_right_kaze.append(keypoints_each)\n",
        "  descriptors_all_right_kaze.append(descrip_each)"
      ],
      "execution_count": null,
      "outputs": []
    },
    {
      "cell_type": "code",
      "metadata": {
        "id": "MVmEjVvtLU1c"
      },
      "source": [
        "'''\n",
        "H_left_kaze = []\n",
        "H_right_kaze = []\n",
        "\n",
        "num_matches_kaze = []\n",
        "num_good_matches_kaze = []\n",
        "\n",
        "for j in tqdm(range(len(left_files_path))):\n",
        "  if j==len(left_files_path)-1:\n",
        "    break\n",
        "\n",
        "  H_a,matches,gd_matches = get_Hmatrix(images_left_bgr[j:j+2][::-1],keypoints_all_left_kaze[j:j+2][::-1],points_all_left_kaze[j:j+2][::-1],descriptors_all_left_kaze[j:j+2][::-1])\n",
        "  H_left_kaze.append(H_a)\n",
        "  num_matches_kaze.append(matches)\n",
        "  num_good_matches_kaze.append(gd_matches)\n",
        "\n",
        "for j in tqdm(range(len(right_files_path))):\n",
        "  if j==len(right_files_path)-1:\n",
        "    break\n",
        "\n",
        "  H_a,matches,gd_matches = get_Hmatrix(images_right_bgr[j:j+2][::-1],keypoints_all_right_kaze[j:j+2][::-1],points_all_right_kaze[j:j+2][::-1],descriptors_all_right_kaze[j:j+2][::-1])\n",
        "  H_right_kaze.append(H_a)\n",
        "  num_matches_kaze.append(matches)\n",
        "  num_good_matches_kaze.append(gd_matches)"
      ],
      "execution_count": null,
      "outputs": []
    },
    {
      "cell_type": "code",
      "metadata": {
        "id": "guD4TGu6LUx3"
      },
      "source": [
        "''''\n",
        "import h5py as h5\n",
        "f=h5.File('drive/MyDrive/H_left_kaze_40.h5','w')\n",
        "t0=time.time()\n",
        "f.create_dataset('data',data=H_left_kaze)\n",
        "f.close()\n",
        "print('HDF5  w/o comp.:',time.time()-t0,'[s] ... size',os.path.getsize('drive/MyDrive/H_left_kaze_40.h5')/1.e6,'MB')"
      ],
      "execution_count": null,
      "outputs": []
    },
    {
      "cell_type": "code",
      "metadata": {
        "id": "MtlBrHx-LUsA"
      },
      "source": [
        "'''\n",
        "import h5py as h5\n",
        "f=h5.File('drive/MyDrive/H_right_kaze_40.h5','w')\n",
        "t0=time.time()\n",
        "f.create_dataset('data',data=H_right_kaze)\n",
        "f.close()\n",
        "print('HDF5  w/o comp.:',time.time()-t0,'[s] ... size',os.path.getsize('drive/MyDrive/H_right_kaze_40.h5')/1.e6,'MB')\n"
      ],
      "execution_count": null,
      "outputs": []
    },
    {
      "cell_type": "code",
      "metadata": {
        "id": "bi9MYWV1LUog"
      },
      "source": [
        "'''\n",
        "del H_left_kaze, H_right_kaze,keypoints_all_left_kaze, keypoints_all_right_kaze, descriptors_all_left_kaze, descriptors_all_right_kaze, points_all_left_kaze, points_all_right_kaze"
      ],
      "execution_count": null,
      "outputs": []
    },
    {
      "cell_type": "code",
      "metadata": {
        "id": "Na358EdCLUlI"
      },
      "source": [
        ""
      ],
      "execution_count": null,
      "outputs": []
    },
    {
      "cell_type": "code",
      "metadata": {
        "id": "yygpK4ReLUgv"
      },
      "source": [
        "'''\n",
        "import pickle\n",
        "Fdb = open('all_feat_akaze_left.dat', 'rb')\n",
        "kpts_all = pickle.load(Fdb)\n",
        "Fdb.close()\n",
        "\n",
        "keypoints_all_left_akaze = []\n",
        "descriptors_all_left_akaze = []\n",
        "\n",
        "for j,kpt_each in enumerate(kpts_all):\n",
        "  keypoints_each = []\n",
        "  descrip_each = []\n",
        "  for k,kpt_img in enumerate(kpt_each):\n",
        "    temp_feature = cv2.KeyPoint(x=kpt_img[0][0],y=kpt_img[0][1],_size=kpt_img[1], _angle=kpt_img[2], \n",
        "                            _response=kpt_img[3], _octave=kpt_img[4], _class_id=kpt_img[5]) \n",
        "    temp_descriptor = kpt_img[6]\n",
        "    keypoints_each.append(temp_feature)\n",
        "    descrip_each.append(temp_descriptor)\n",
        "  points_all_left_akaze.append(np.asarray([[p.pt[0], p.pt[1]] for p in keypoints_each]))\n",
        "  keypoints_all_left_akaze.append(keypoints_each)\n",
        "  descriptors_all_left_akaze.append(descrip_each)"
      ],
      "execution_count": null,
      "outputs": []
    },
    {
      "cell_type": "code",
      "metadata": {
        "id": "iMVyOCZkLUa8"
      },
      "source": [
        "'''\n",
        "import pickle\n",
        "Fdb = open('all_feat_akaze_right.dat', 'rb')\n",
        "kpts_all = pickle.load(Fdb)\n",
        "Fdb.close()\n",
        "\n",
        "keypoints_all_right_akaze = []\n",
        "descriptors_all_right_akaze = []\n",
        "\n",
        "for j,kpt_each in enumerate(kpts_all):\n",
        "  keypoints_each = []\n",
        "  descrip_each = []\n",
        "  for k,kpt_img in enumerate(kpt_each):\n",
        "    temp_feature = cv2.KeyPoint(x=kpt_img[0][0],y=kpt_img[0][1],_size=kpt_img[1], _angle=kpt_img[2], \n",
        "                            _response=kpt_img[3], _octave=kpt_img[4], _class_id=kpt_img[5]) \n",
        "    temp_descriptor = kpt_img[6]\n",
        "    keypoints_each.append(temp_feature)\n",
        "    descrip_each.append(temp_descriptor)\n",
        "  points_all_right_akaze.append(np.asarray([[p.pt[0], p.pt[1]] for p in keypoints_each]))\n",
        "  keypoints_all_right_akaze.append(keypoints_each)\n",
        "  descriptors_all_right_akaze.append(descrip_each)"
      ],
      "execution_count": null,
      "outputs": []
    },
    {
      "cell_type": "code",
      "metadata": {
        "id": "JXXoYuWrLUVi"
      },
      "source": [
        "'''\n",
        "H_left_akaze = []\n",
        "H_right_akaze = []\n",
        "\n",
        "num_matches_akaze = []\n",
        "num_good_matches_akaze = []\n",
        "\n",
        "for j in tqdm(range(len(left_files_path))):\n",
        "  if j==len(left_files_path)-1:\n",
        "    break\n",
        "\n",
        "  H_a,matches,gd_matches = get_Hmatrix(images_left_bgr[j:j+2][::-1],keypoints_all_left_akaze[j:j+2][::-1],points_all_left_akaze[j:j+2][::-1],descriptors_all_left_akaze[j:j+2][::-1])\n",
        "  H_left_akaze.append(H_a)\n",
        "  num_matches_akaze.append(matches)\n",
        "  num_good_matches_akaze.append(gd_matches)\n",
        "\n",
        "for j in tqdm(range(len(right_files_path))):\n",
        "  if j==len(right_files_path)-1:\n",
        "    break\n",
        "\n",
        "  H_a,matches,gd_matches = get_Hmatrix(images_right_bgr[j:j+2][::-1],keypoints_all_right_akaze[j:j+2][::-1],points_all_right_akaze[j:j+2][::-1],descriptors_all_right_akaze[j:j+2][::-1])\n",
        "  H_right_akaze.append(H_a)\n",
        "  num_matches_akaze.append(matches)\n",
        "  num_good_matches_akaze.append(gd_matches)"
      ],
      "execution_count": null,
      "outputs": []
    },
    {
      "cell_type": "code",
      "metadata": {
        "id": "VCUbYsdqLUPW"
      },
      "source": [
        "'''\n",
        "import h5py as h5\n",
        "f=h5.File('drive/MyDrive/H_left_akaze_40.h5','w')\n",
        "t0=time.time()\n",
        "f.create_dataset('data',data=H_left_akaze)\n",
        "f.close()\n",
        "print('HDF5  w/o comp.:',time.time()-t0,'[s] ... size',os.path.getsize('drive/MyDrive/H_left_akaze_40.h5')/1.e6,'MB')"
      ],
      "execution_count": null,
      "outputs": []
    },
    {
      "cell_type": "code",
      "metadata": {
        "id": "uKB4xG_yLrCm"
      },
      "source": [
        "'''\n",
        "import h5py as h5\n",
        "f=h5.File('drive/MyDrive/H_right_akaze_40.h5','w')\n",
        "t0=time.time()\n",
        "f.create_dataset('data',data=H_right_akaze)\n",
        "f.close()\n",
        "print('HDF5  w/o comp.:',time.time()-t0,'[s] ... size',os.path.getsize('drive/MyDrive/H_right_akaze_40.h5')/1.e6,'MB')"
      ],
      "execution_count": null,
      "outputs": []
    },
    {
      "cell_type": "code",
      "metadata": {
        "id": "nTsWFn9ULq-9"
      },
      "source": [
        "'''\n",
        "del H_left_akaze, H_right_akaze,keypoints_all_left_akaze, keypoints_all_right_akaze, descriptors_all_left_akaze, descriptors_all_right_akaze, points_all_left_akaze, points_all_right_akaze"
      ],
      "execution_count": null,
      "outputs": []
    },
    {
      "cell_type": "code",
      "metadata": {
        "id": "1-wP3IpSo9IT"
      },
      "source": [
        ""
      ],
      "execution_count": null,
      "outputs": []
    },
    {
      "cell_type": "code",
      "metadata": {
        "id": "cEmrP5gQLq7D"
      },
      "source": [
        "'''\n",
        "import pickle\n",
        "Fdb = open('all_feat_star_left.dat', 'rb')\n",
        "kpts_all = pickle.load(Fdb)\n",
        "Fdb.close()\n",
        "\n",
        "keypoints_all_left_star = []\n",
        "descriptors_all_left_brief = []\n",
        "\n",
        "for j,kpt_each in enumerate(kpts_all):\n",
        "  keypoints_each = []\n",
        "  descrip_each = []\n",
        "  for k,kpt_img in enumerate(kpt_each):\n",
        "    temp_feature = cv2.KeyPoint(x=kpt_img[0][0],y=kpt_img[0][1],_size=kpt_img[1], _angle=kpt_img[2], \n",
        "                            _response=kpt_img[3], _octave=kpt_img[4], _class_id=kpt_img[5]) \n",
        "    temp_descriptor = kpt_img[6]\n",
        "    keypoints_each.append(temp_feature)\n",
        "    descrip_each.append(temp_descriptor)\n",
        "  points_all_left_star.append(np.asarray([[p.pt[0], p.pt[1]] for p in keypoints_each]))\n",
        "  keypoints_all_left_star.append(keypoints_each)\n",
        "  descriptors_all_left_brief.append(descrip_each)"
      ],
      "execution_count": null,
      "outputs": []
    },
    {
      "cell_type": "code",
      "metadata": {
        "id": "a37U2l41Lq3d"
      },
      "source": [
        "'''\n",
        "import pickle\n",
        "Fdb = open('all_feat_star_right.dat', 'rb')\n",
        "kpts_all = pickle.load(Fdb)\n",
        "Fdb.close()\n",
        "\n",
        "keypoints_all_right_star = []\n",
        "descriptors_all_right_brief = []\n",
        "\n",
        "for j,kpt_each in enumerate(kpts_all):\n",
        "  keypoints_each = []\n",
        "  descrip_each = []\n",
        "  for k,kpt_img in enumerate(kpt_each):\n",
        "    temp_feature = cv2.KeyPoint(x=kpt_img[0][0],y=kpt_img[0][1],_size=kpt_img[1], _angle=kpt_img[2], \n",
        "                            _response=kpt_img[3], _octave=kpt_img[4], _class_id=kpt_img[5]) \n",
        "    temp_descriptor = kpt_img[6]\n",
        "    keypoints_each.append(temp_feature)\n",
        "    descrip_each.append(temp_descriptor)\n",
        "  points_all_right_star.append(np.asarray([[p.pt[0], p.pt[1]] for p in keypoints_each]))\n",
        "  keypoints_all_right_star.append(keypoints_each)\n",
        "  descriptors_all_right_brief.append(descrip_each)"
      ],
      "execution_count": null,
      "outputs": []
    },
    {
      "cell_type": "code",
      "metadata": {
        "id": "9AqNG-R1Lqzm"
      },
      "source": [
        "'''\n",
        "H_left_brief = []\n",
        "H_right_brief = []\n",
        "\n",
        "num_matches_briefstar = []\n",
        "num_good_matches_briefstar = []\n",
        "\n",
        "for j in tqdm(range(len(left_files_path))):\n",
        "  if j==len(left_files_path)-1:\n",
        "    break\n",
        "\n",
        "  H_a,matches,gd_matches = get_Hmatrix(images_left_bgr[j:j+2][::-1],keypoints_all_left_star[j:j+2][::-1],points_all_left_star[j:j+2][::-1],descriptors_all_left_brief[j:j+2][::-1])\n",
        "  H_left_brief.append(H_a)\n",
        "  num_matches_briefstar.append(matches)\n",
        "  num_good_matches_briefstar.append(gd_matches)\n",
        "\n",
        "for j in tqdm(range(len(right_files_path))):\n",
        "  if j==len(right_files_path)-1:\n",
        "    break\n",
        "\n",
        "  H_a,matches,gd_matches = get_Hmatrix(images_right_bgr[j:j+2][::-1],keypoints_all_right_star[j:j+2][::-1],points_all_right_star[j:j+2][::-1],descriptors_all_right_brief[j:j+2][::-1])\n",
        "  H_right_brief.append(H_a)\n",
        "  num_matches_briefstar.append(matches)\n",
        "  num_good_matches_briefstar.append(gd_matches)"
      ],
      "execution_count": null,
      "outputs": []
    },
    {
      "cell_type": "code",
      "metadata": {
        "id": "u0rUJtNXL_3A"
      },
      "source": [
        "'''\n",
        "import h5py as h5\n",
        "f=h5.File('drive/MyDrive/H_left_brief_40.h5','w')\n",
        "t0=time.time()\n",
        "f.create_dataset('data',data=H_left_brief)\n",
        "f.close()\n",
        "print('HDF5  w/o comp.:',time.time()-t0,'[s] ... size',os.path.getsize('drive/MyDrive/H_left_brief_40.h5')/1.e6,'MB')"
      ],
      "execution_count": null,
      "outputs": []
    },
    {
      "cell_type": "code",
      "metadata": {
        "id": "1UcMra4TL_ya"
      },
      "source": [
        "'''\n",
        "import h5py as h5\n",
        "f=h5.File('drive/MyDrive/H_right_brief_40.h5','w')\n",
        "t0=time.time()\n",
        "f.create_dataset('data',data=H_right_brief)\n",
        "f.close()\n",
        "print('HDF5  w/o comp.:',time.time()-t0,'[s] ... size',os.path.getsize('drive/MyDrive/H_right_brief_40.h5')/1.e6,'MB')"
      ],
      "execution_count": null,
      "outputs": []
    },
    {
      "cell_type": "code",
      "metadata": {
        "id": "J2byBTnoL_t_"
      },
      "source": [
        "'''\n",
        "del H_left_brief, H_right_brief,keypoints_all_left_star, keypoints_all_right_star, descriptors_all_left_brief, descriptors_all_right_brief, points_all_left_star, points_all_right_star"
      ],
      "execution_count": null,
      "outputs": []
    },
    {
      "cell_type": "code",
      "metadata": {
        "id": "GbdGzY8tL_m0"
      },
      "source": [
        ""
      ],
      "execution_count": null,
      "outputs": []
    },
    {
      "cell_type": "code",
      "metadata": {
        "id": "VMQUSHH2L_hd"
      },
      "source": [
        "'''\n",
        "import pickle\n",
        "Fdb = open('all_feat_agast_left.dat', 'rb')\n",
        "kpts_all = pickle.load(Fdb)\n",
        "Fdb.close()\n",
        "\n",
        "keypoints_all_left_agast = []\n",
        "descriptors_all_left_agast = []\n",
        "\n",
        "for j,kpt_each in enumerate(kpts_all):\n",
        "  keypoints_each = []\n",
        "  descrip_each = []\n",
        "  for k,kpt_img in enumerate(kpt_each):\n",
        "    temp_feature = cv2.KeyPoint(x=kpt_img[0][0],y=kpt_img[0][1],_size=kpt_img[1], _angle=kpt_img[2], \n",
        "                            _response=kpt_img[3], _octave=kpt_img[4], _class_id=kpt_img[5]) \n",
        "    temp_descriptor = kpt_img[6]\n",
        "    keypoints_each.append(temp_feature)\n",
        "    descrip_each.append(temp_descriptor)\n",
        "  points_all_left_agast.append(np.asarray([[p.pt[0], p.pt[1]] for p in keypoints_each]))\n",
        "  keypoints_all_left_agast.append(keypoints_each)\n",
        "  descriptors_all_left_agast.append(descrip_each)"
      ],
      "execution_count": null,
      "outputs": []
    },
    {
      "cell_type": "code",
      "metadata": {
        "id": "d8vgi650L_dN"
      },
      "source": [
        "'''\n",
        "import pickle\n",
        "Fdb = open('all_feat_agast_right.dat', 'rb')\n",
        "kpts_all = pickle.load(Fdb)\n",
        "Fdb.close()\n",
        "\n",
        "keypoints_all_right_agast = []\n",
        "descriptors_all_right_agast = []\n",
        "\n",
        "for j,kpt_each in enumerate(kpts_all):\n",
        "  keypoints_each = []\n",
        "  descrip_each = []\n",
        "  for k,kpt_img in enumerate(kpt_each):\n",
        "    temp_feature = cv2.KeyPoint(x=kpt_img[0][0],y=kpt_img[0][1],_size=kpt_img[1], _angle=kpt_img[2], \n",
        "                            _response=kpt_img[3], _octave=kpt_img[4], _class_id=kpt_img[5]) \n",
        "    temp_descriptor = kpt_img[6]\n",
        "    keypoints_each.append(temp_feature)\n",
        "    descrip_each.append(temp_descriptor)\n",
        "  points_all_right_agast.append(np.asarray([[p.pt[0], p.pt[1]] for p in keypoints_each]))\n",
        "  keypoints_all_right_agast.append(keypoints_each)\n",
        "  descriptors_all_right_agast.append(descrip_each)"
      ],
      "execution_count": null,
      "outputs": []
    },
    {
      "cell_type": "code",
      "metadata": {
        "id": "06H-GZvbL_X7",
        "colab": {
          "base_uri": "https://localhost:8080/"
        },
        "outputId": "344835c7-c293-474e-94be-5ccf9e2eb4e4"
      },
      "source": [
        "\n",
        "H_left_agast = []\n",
        "H_right_agast = []\n",
        "\n",
        "num_matches_agast = []\n",
        "num_good_matches_agast = []\n",
        "\n",
        "for j in tqdm(range(len(left_files_path))):\n",
        "  if j==len(left_files_path)-1:\n",
        "    break\n",
        "\n",
        "  H_a,matches,gd_matches = get_Hmatrix(images_left_bgr[j:j+2][::-1],keypoints_all_left_agast[j:j+2][::-1],points_all_left_agast[j:j+2][::-1],descriptors_all_left_agast[j:j+2][::-1],0.85,6)\n",
        "  H_left_agast.append(H_a)\n",
        "  num_matches_agast.append(matches)\n",
        "  num_good_matches_agast.append(gd_matches)\n",
        "\n",
        "for j in tqdm(range(len(right_files_path))):\n",
        "  if j==len(right_files_path)-1:\n",
        "    break\n",
        "\n",
        "  H_a,matches,gd_matches = get_Hmatrix(images_right_bgr[j:j+2][::-1],keypoints_all_right_agast[j:j+2][::-1],points_all_right_agast[j:j+2][::-1],descriptors_all_right_agast[j:j+2][::-1],0.85,6)\n",
        "  H_right_agast.append(H_a)\n",
        "  num_matches_agast.append(matches)\n",
        "  num_good_matches_agast.append(gd_matches)"
      ],
      "execution_count": 25,
      "outputs": [
        {
          "output_type": "stream",
          "text": [
            "\r  0%|          | 0/61 [00:00<?, ?it/s]"
          ],
          "name": "stderr"
        },
        {
          "output_type": "stream",
          "text": [
            "\n",
            "Number of matches 84857\n",
            "Number of matches After Lowe's Ratio 14815\n"
          ],
          "name": "stdout"
        },
        {
          "output_type": "stream",
          "text": [
            "\r  2%|▏         | 1/61 [00:29<29:34, 29.57s/it]"
          ],
          "name": "stderr"
        },
        {
          "output_type": "stream",
          "text": [
            "Number of Robust matches 5233\n",
            "\n",
            "\n",
            "\n",
            "Number of matches 82805\n",
            "Number of matches After Lowe's Ratio 20311\n"
          ],
          "name": "stdout"
        },
        {
          "output_type": "stream",
          "text": [
            "\r  3%|▎         | 2/61 [00:51<26:57, 27.42s/it]"
          ],
          "name": "stderr"
        },
        {
          "output_type": "stream",
          "text": [
            "Number of Robust matches 6618\n",
            "\n",
            "\n",
            "\n",
            "Number of matches 68042\n",
            "Number of matches After Lowe's Ratio 12747\n"
          ],
          "name": "stdout"
        },
        {
          "output_type": "stream",
          "text": [
            "\r  5%|▍         | 3/61 [01:11<24:17, 25.13s/it]"
          ],
          "name": "stderr"
        },
        {
          "output_type": "stream",
          "text": [
            "Number of Robust matches 4688\n",
            "\n",
            "\n",
            "\n",
            "Number of matches 74493\n",
            "Number of matches After Lowe's Ratio 9955\n"
          ],
          "name": "stdout"
        },
        {
          "output_type": "stream",
          "text": [
            "\r  7%|▋         | 4/61 [01:30<22:01, 23.18s/it]"
          ],
          "name": "stderr"
        },
        {
          "output_type": "stream",
          "text": [
            "Number of Robust matches 4225\n",
            "\n",
            "\n"
          ],
          "name": "stdout"
        },
        {
          "output_type": "stream",
          "text": [
            "\r  8%|▊         | 5/61 [01:52<21:12, 22.72s/it]"
          ],
          "name": "stderr"
        },
        {
          "output_type": "stream",
          "text": [
            "\n",
            "Number of matches 104418\n",
            "Number of matches After Lowe's Ratio 3953\n",
            "Number of Robust matches 1801\n",
            "\n",
            "\n"
          ],
          "name": "stdout"
        },
        {
          "output_type": "stream",
          "text": [
            "\r 10%|▉         | 6/61 [02:23<23:08, 25.24s/it]"
          ],
          "name": "stderr"
        },
        {
          "output_type": "stream",
          "text": [
            "\n",
            "Number of matches 167534\n",
            "Number of matches After Lowe's Ratio 690\n",
            "Number of Robust matches 56\n",
            "\n",
            "\n",
            "\n",
            "Number of matches 135317\n",
            "Number of matches After Lowe's Ratio 44554\n"
          ],
          "name": "stdout"
        },
        {
          "output_type": "stream",
          "text": [
            "\r 11%|█▏        | 7/61 [03:08<28:10, 31.30s/it]"
          ],
          "name": "stderr"
        },
        {
          "output_type": "stream",
          "text": [
            "Number of Robust matches 34618\n",
            "\n",
            "\n"
          ],
          "name": "stdout"
        },
        {
          "output_type": "stream",
          "text": [
            "\r 13%|█▎        | 8/61 [03:41<28:06, 31.83s/it]"
          ],
          "name": "stderr"
        },
        {
          "output_type": "stream",
          "text": [
            "\n",
            "Number of matches 87115\n",
            "Number of matches After Lowe's Ratio 23152\n",
            "Number of Robust matches 15342\n",
            "\n",
            "\n"
          ],
          "name": "stdout"
        },
        {
          "output_type": "stream",
          "text": [
            "\r 15%|█▍        | 9/61 [04:04<25:08, 29.02s/it]"
          ],
          "name": "stderr"
        },
        {
          "output_type": "stream",
          "text": [
            "\n",
            "Number of matches 69241\n",
            "Number of matches After Lowe's Ratio 13591\n",
            "Number of Robust matches 7455\n",
            "\n",
            "\n",
            "\n",
            "Number of matches 72181\n",
            "Number of matches After Lowe's Ratio 13972\n"
          ],
          "name": "stdout"
        },
        {
          "output_type": "stream",
          "text": [
            "\r 16%|█▋        | 10/61 [04:22<21:58, 25.84s/it]"
          ],
          "name": "stderr"
        },
        {
          "output_type": "stream",
          "text": [
            "Number of Robust matches 5099\n",
            "\n",
            "\n",
            "\n",
            "Number of matches 85113\n",
            "Number of matches After Lowe's Ratio 8261\n"
          ],
          "name": "stdout"
        },
        {
          "output_type": "stream",
          "text": [
            "\r 18%|█▊        | 11/61 [04:42<20:10, 24.21s/it]"
          ],
          "name": "stderr"
        },
        {
          "output_type": "stream",
          "text": [
            "Number of Robust matches 2471\n",
            "\n",
            "\n"
          ],
          "name": "stdout"
        },
        {
          "output_type": "stream",
          "text": [
            "\r 20%|█▉        | 12/61 [05:06<19:40, 24.10s/it]"
          ],
          "name": "stderr"
        },
        {
          "output_type": "stream",
          "text": [
            "\n",
            "Number of matches 105845\n",
            "Number of matches After Lowe's Ratio 8504\n",
            "Number of Robust matches 2280\n",
            "\n",
            "\n"
          ],
          "name": "stdout"
        },
        {
          "output_type": "stream",
          "text": [
            "\r 21%|██▏       | 13/61 [05:44<22:26, 28.05s/it]"
          ],
          "name": "stderr"
        },
        {
          "output_type": "stream",
          "text": [
            "\n",
            "Number of matches 227178\n",
            "Number of matches After Lowe's Ratio 3718\n",
            "Number of Robust matches 1202\n",
            "\n",
            "\n",
            "\n",
            "Number of matches 343673\n",
            "Number of matches After Lowe's Ratio 480\n",
            "Number of Robust matches 9\n",
            "\n",
            "\n"
          ],
          "name": "stdout"
        },
        {
          "output_type": "stream",
          "text": [
            "\r 23%|██▎       | 14/61 [06:57<32:42, 41.75s/it]"
          ],
          "name": "stderr"
        },
        {
          "output_type": "stream",
          "text": [
            "Number of matches After Lowe's Ratio New 480\n",
            "Number of Robust matches New 8\n",
            "\n",
            "\n",
            "\n",
            "Number of matches 203995\n",
            "Number of matches After Lowe's Ratio 26190\n",
            "Number of Robust matches 15165\n",
            "\n",
            "\n"
          ],
          "name": "stdout"
        },
        {
          "output_type": "stream",
          "text": [
            " 26%|██▌       | 16/61 [09:18<41:20, 55.12s/it]"
          ],
          "name": "stderr"
        },
        {
          "output_type": "stream",
          "text": [
            "\n",
            "Number of matches 143995\n",
            "Number of matches After Lowe's Ratio 9588\n",
            "Number of Robust matches 4308\n",
            "\n",
            "\n"
          ],
          "name": "stdout"
        },
        {
          "output_type": "stream",
          "text": [
            "\r 28%|██▊       | 17/61 [10:01<37:38, 51.32s/it]"
          ],
          "name": "stderr"
        },
        {
          "output_type": "stream",
          "text": [
            "\n",
            "Number of matches 94593\n",
            "Number of matches After Lowe's Ratio 860\n",
            "Number of Robust matches 90\n",
            "\n",
            "\n",
            "\n",
            "Number of matches 89200\n",
            "Number of matches After Lowe's Ratio 689\n",
            "Number of Robust matches 24\n",
            "\n",
            "\n",
            "Number of matches After Lowe's Ratio New 689\n"
          ],
          "name": "stdout"
        },
        {
          "output_type": "stream",
          "text": [
            "\r 30%|██▉       | 18/61 [10:27<31:30, 43.96s/it]"
          ],
          "name": "stderr"
        },
        {
          "output_type": "stream",
          "text": [
            "Number of Robust matches New 24\n",
            "\n",
            "\n"
          ],
          "name": "stdout"
        },
        {
          "output_type": "stream",
          "text": [
            "\r 31%|███       | 19/61 [10:51<26:31, 37.90s/it]"
          ],
          "name": "stderr"
        },
        {
          "output_type": "stream",
          "text": [
            "\n",
            "Number of matches 76151\n",
            "Number of matches After Lowe's Ratio 765\n",
            "Number of Robust matches 34\n",
            "\n",
            "\n",
            "\n",
            "Number of matches 116324\n",
            "Number of matches After Lowe's Ratio 748\n",
            "Number of Robust matches 15\n",
            "\n",
            "\n",
            "Number of matches After Lowe's Ratio New 748\n"
          ],
          "name": "stdout"
        },
        {
          "output_type": "stream",
          "text": [
            "\r 33%|███▎      | 20/61 [11:14<22:47, 33.34s/it]"
          ],
          "name": "stderr"
        },
        {
          "output_type": "stream",
          "text": [
            "Number of Robust matches New 14\n",
            "\n",
            "\n",
            "\n",
            "Number of matches 168272\n",
            "Number of matches After Lowe's Ratio 695\n",
            "Number of Robust matches 23\n",
            "\n",
            "\n",
            "Number of matches After Lowe's Ratio New 695\n"
          ],
          "name": "stdout"
        },
        {
          "output_type": "stream",
          "text": [
            "\r 34%|███▍      | 21/61 [11:51<23:05, 34.63s/it]"
          ],
          "name": "stderr"
        },
        {
          "output_type": "stream",
          "text": [
            "Number of Robust matches New 23\n",
            "\n",
            "\n",
            "\n",
            "Number of matches 237167\n",
            "Number of matches After Lowe's Ratio 803\n",
            "Number of Robust matches 17\n",
            "\n",
            "\n",
            "Number of matches After Lowe's Ratio New 803\n"
          ],
          "name": "stdout"
        },
        {
          "output_type": "stream",
          "text": [
            "\r 36%|███▌      | 22/61 [12:39<25:03, 38.56s/it]"
          ],
          "name": "stderr"
        },
        {
          "output_type": "stream",
          "text": [
            "Number of Robust matches New 16\n",
            "\n",
            "\n"
          ],
          "name": "stdout"
        },
        {
          "output_type": "stream",
          "text": [
            "\r 38%|███▊      | 23/61 [13:42<28:58, 45.75s/it]"
          ],
          "name": "stderr"
        },
        {
          "output_type": "stream",
          "text": [
            "\n",
            "Number of matches 177137\n",
            "Number of matches After Lowe's Ratio 816\n",
            "Number of Robust matches 275\n",
            "\n",
            "\n",
            "\n",
            "Number of matches 108727\n",
            "Number of matches After Lowe's Ratio 613\n",
            "Number of Robust matches 22\n",
            "\n",
            "\n",
            "Number of matches After Lowe's Ratio New 613\n"
          ],
          "name": "stdout"
        },
        {
          "output_type": "stream",
          "text": [
            "\r 39%|███▉      | 24/61 [14:26<27:59, 45.39s/it]"
          ],
          "name": "stderr"
        },
        {
          "output_type": "stream",
          "text": [
            "Number of Robust matches New 20\n",
            "\n",
            "\n"
          ],
          "name": "stdout"
        },
        {
          "output_type": "stream",
          "text": [
            "\r 41%|████      | 25/61 [14:54<24:02, 40.07s/it]"
          ],
          "name": "stderr"
        },
        {
          "output_type": "stream",
          "text": [
            "\n",
            "Number of matches 87870\n",
            "Number of matches After Lowe's Ratio 756\n",
            "Number of Robust matches 34\n",
            "\n",
            "\n"
          ],
          "name": "stdout"
        },
        {
          "output_type": "stream",
          "text": [
            "\r 43%|████▎     | 26/61 [15:16<20:16, 34.77s/it]"
          ],
          "name": "stderr"
        },
        {
          "output_type": "stream",
          "text": [
            "\n",
            "Number of matches 109999\n",
            "Number of matches After Lowe's Ratio 887\n",
            "Number of Robust matches 43\n",
            "\n",
            "\n"
          ],
          "name": "stdout"
        },
        {
          "output_type": "stream",
          "text": [
            "\r 44%|████▍     | 27/61 [15:48<19:15, 33.97s/it]"
          ],
          "name": "stderr"
        },
        {
          "output_type": "stream",
          "text": [
            "\n",
            "Number of matches 127853\n",
            "Number of matches After Lowe's Ratio 711\n",
            "Number of Robust matches 62\n",
            "\n",
            "\n",
            "\n",
            "Number of matches 190433\n",
            "Number of matches After Lowe's Ratio 574\n",
            "Number of Robust matches 23\n",
            "\n",
            "\n"
          ],
          "name": "stdout"
        },
        {
          "output_type": "stream",
          "text": [
            "\r 46%|████▌     | 28/61 [16:23<18:51, 34.28s/it]"
          ],
          "name": "stderr"
        },
        {
          "output_type": "stream",
          "text": [
            "Number of matches After Lowe's Ratio New 574\n",
            "Number of Robust matches New 23\n",
            "\n",
            "\n",
            "\n",
            "Number of matches 237587\n",
            "Number of matches After Lowe's Ratio 335\n",
            "Number of Robust matches 11\n",
            "\n",
            "\n",
            "Number of matches After Lowe's Ratio New 335\n"
          ],
          "name": "stdout"
        },
        {
          "output_type": "stream",
          "text": [
            "\r 48%|████▊     | 29/61 [17:26<22:46, 42.69s/it]"
          ],
          "name": "stderr"
        },
        {
          "output_type": "stream",
          "text": [
            "Number of Robust matches New 9\n",
            "\n",
            "\n"
          ],
          "name": "stdout"
        },
        {
          "output_type": "stream",
          "text": [
            "\r 49%|████▉     | 30/61 [18:40<26:55, 52.11s/it]"
          ],
          "name": "stderr"
        },
        {
          "output_type": "stream",
          "text": [
            "\n",
            "Number of matches 235139\n",
            "Number of matches After Lowe's Ratio 13135\n",
            "Number of Robust matches 7767\n",
            "\n",
            "\n"
          ],
          "name": "stdout"
        },
        {
          "output_type": "stream",
          "text": [
            "\r 51%|█████     | 31/61 [19:44<27:51, 55.72s/it]"
          ],
          "name": "stderr"
        },
        {
          "output_type": "stream",
          "text": [
            "\n",
            "Number of matches 142614\n",
            "Number of matches After Lowe's Ratio 7114\n",
            "Number of Robust matches 2300\n",
            "\n",
            "\n"
          ],
          "name": "stdout"
        },
        {
          "output_type": "stream",
          "text": [
            "\r 52%|█████▏    | 32/61 [20:18<23:43, 49.08s/it]"
          ],
          "name": "stderr"
        },
        {
          "output_type": "stream",
          "text": [
            "\n",
            "Number of matches 74989\n",
            "Number of matches After Lowe's Ratio 1816\n",
            "Number of Robust matches 455\n",
            "\n",
            "\n"
          ],
          "name": "stdout"
        },
        {
          "output_type": "stream",
          "text": [
            "\r 54%|█████▍    | 33/61 [20:40<19:06, 40.93s/it]"
          ],
          "name": "stderr"
        },
        {
          "output_type": "stream",
          "text": [
            "\n",
            "Number of matches 90642\n",
            "Number of matches After Lowe's Ratio 4899\n",
            "Number of Robust matches 1802\n",
            "\n",
            "\n"
          ],
          "name": "stdout"
        },
        {
          "output_type": "stream",
          "text": [
            "\r 56%|█████▌    | 34/61 [21:07<16:38, 36.99s/it]"
          ],
          "name": "stderr"
        },
        {
          "output_type": "stream",
          "text": [
            "\n",
            "Number of matches 125456\n",
            "Number of matches After Lowe's Ratio 11467\n",
            "Number of Robust matches 5347\n",
            "\n",
            "\n"
          ],
          "name": "stdout"
        },
        {
          "output_type": "stream",
          "text": [
            "\r 57%|█████▋    | 35/61 [21:41<15:39, 36.13s/it]"
          ],
          "name": "stderr"
        },
        {
          "output_type": "stream",
          "text": [
            "\n",
            "Number of matches 166880\n",
            "Number of matches After Lowe's Ratio 19207\n",
            "Number of Robust matches 10925\n",
            "\n",
            "\n",
            "\n",
            "Number of matches 212917\n",
            "Number of matches After Lowe's Ratio 29158\n"
          ],
          "name": "stdout"
        },
        {
          "output_type": "stream",
          "text": [
            "\r 59%|█████▉    | 36/61 [22:28<16:19, 39.19s/it]"
          ],
          "name": "stderr"
        },
        {
          "output_type": "stream",
          "text": [
            "Number of Robust matches 19946\n",
            "\n",
            "\n",
            "\n",
            "Number of matches 290571\n",
            "Number of matches After Lowe's Ratio 882\n",
            "Number of Robust matches 23\n",
            "\n",
            "\n"
          ],
          "name": "stdout"
        },
        {
          "output_type": "stream",
          "text": [
            "\r 61%|██████    | 37/61 [23:38<19:23, 48.46s/it]"
          ],
          "name": "stderr"
        },
        {
          "output_type": "stream",
          "text": [
            "Number of matches After Lowe's Ratio New 882\n",
            "Number of Robust matches New 21\n",
            "\n",
            "\n"
          ],
          "name": "stdout"
        },
        {
          "output_type": "stream",
          "text": [
            "\r 62%|██████▏   | 38/61 [24:55<21:53, 57.11s/it]"
          ],
          "name": "stderr"
        },
        {
          "output_type": "stream",
          "text": [
            "\n",
            "Number of matches 225076\n",
            "Number of matches After Lowe's Ratio 18356\n",
            "Number of Robust matches 12819\n",
            "\n",
            "\n"
          ],
          "name": "stdout"
        },
        {
          "output_type": "stream",
          "text": [
            "\r 64%|██████▍   | 39/61 [26:03<22:04, 60.23s/it]"
          ],
          "name": "stderr"
        },
        {
          "output_type": "stream",
          "text": [
            "\n",
            "Number of matches 178798\n",
            "Number of matches After Lowe's Ratio 2078\n",
            "Number of Robust matches 1374\n",
            "\n",
            "\n",
            "\n",
            "Number of matches 107589\n",
            "Number of matches After Lowe's Ratio 23394\n"
          ],
          "name": "stdout"
        },
        {
          "output_type": "stream",
          "text": [
            "\r 66%|██████▌   | 40/61 [26:46<19:20, 55.27s/it]"
          ],
          "name": "stderr"
        },
        {
          "output_type": "stream",
          "text": [
            "Number of Robust matches 16574\n",
            "\n",
            "\n"
          ],
          "name": "stdout"
        },
        {
          "output_type": "stream",
          "text": [
            "\r 67%|██████▋   | 41/61 [27:15<15:43, 47.17s/it]"
          ],
          "name": "stderr"
        },
        {
          "output_type": "stream",
          "text": [
            "\n",
            "Number of matches 84585\n",
            "Number of matches After Lowe's Ratio 3614\n",
            "Number of Robust matches 1474\n",
            "\n",
            "\n"
          ],
          "name": "stdout"
        },
        {
          "output_type": "stream",
          "text": [
            "\r 69%|██████▉   | 42/61 [27:42<13:05, 41.32s/it]"
          ],
          "name": "stderr"
        },
        {
          "output_type": "stream",
          "text": [
            "\n",
            "Number of matches 116428\n",
            "Number of matches After Lowe's Ratio 1407\n",
            "Number of Robust matches 249\n",
            "\n",
            "\n"
          ],
          "name": "stdout"
        },
        {
          "output_type": "stream",
          "text": [
            "\r 70%|███████   | 43/61 [28:16<11:42, 39.03s/it]"
          ],
          "name": "stderr"
        },
        {
          "output_type": "stream",
          "text": [
            "\n",
            "Number of matches 174626\n",
            "Number of matches After Lowe's Ratio 9100\n",
            "Number of Robust matches 2501\n",
            "\n",
            "\n"
          ],
          "name": "stdout"
        },
        {
          "output_type": "stream",
          "text": [
            "\r 72%|███████▏  | 44/61 [29:13<12:33, 44.33s/it]"
          ],
          "name": "stderr"
        },
        {
          "output_type": "stream",
          "text": [
            "\n",
            "Number of matches 232116\n",
            "Number of matches After Lowe's Ratio 3176\n",
            "Number of Robust matches 1674\n",
            "\n",
            "\n",
            "\n",
            "Number of matches 349489\n",
            "Number of matches After Lowe's Ratio 552\n",
            "Number of Robust matches 12\n",
            "\n",
            "\n"
          ],
          "name": "stdout"
        },
        {
          "output_type": "stream",
          "text": [
            "\r 74%|███████▍  | 45/61 [30:33<14:43, 55.22s/it]"
          ],
          "name": "stderr"
        },
        {
          "output_type": "stream",
          "text": [
            "Number of matches After Lowe's Ratio New 552\n",
            "Number of Robust matches New 10\n",
            "\n",
            "\n",
            "\n",
            "Number of matches 272354\n",
            "Number of matches After Lowe's Ratio 400\n",
            "Number of Robust matches 12\n",
            "\n",
            "\n"
          ],
          "name": "stdout"
        },
        {
          "output_type": "stream",
          "text": [
            "\r 75%|███████▌  | 46/61 [32:03<16:22, 65.53s/it]"
          ],
          "name": "stderr"
        },
        {
          "output_type": "stream",
          "text": [
            "Number of matches After Lowe's Ratio New 400\n",
            "Number of Robust matches New 12\n",
            "\n",
            "\n",
            "\n",
            "Number of matches 200895\n",
            "Number of matches After Lowe's Ratio 16274\n"
          ],
          "name": "stdout"
        },
        {
          "output_type": "stream",
          "text": [
            "\r 77%|███████▋  | 47/61 [33:05<15:01, 64.39s/it]"
          ],
          "name": "stderr"
        },
        {
          "output_type": "stream",
          "text": [
            "Number of Robust matches 7956\n",
            "\n",
            "\n",
            "\n",
            "Number of matches 136719\n",
            "Number of matches After Lowe's Ratio 28490\n"
          ],
          "name": "stdout"
        },
        {
          "output_type": "stream",
          "text": [
            "\r 79%|███████▊  | 48/61 [33:55<13:02, 60.23s/it]"
          ],
          "name": "stderr"
        },
        {
          "output_type": "stream",
          "text": [
            "Number of Robust matches 14975\n",
            "\n",
            "\n"
          ],
          "name": "stdout"
        },
        {
          "output_type": "stream",
          "text": [
            "\r 80%|████████  | 49/61 [34:29<10:26, 52.17s/it]"
          ],
          "name": "stderr"
        },
        {
          "output_type": "stream",
          "text": [
            "\n",
            "Number of matches 86766\n",
            "Number of matches After Lowe's Ratio 9550\n",
            "Number of Robust matches 3637\n",
            "\n",
            "\n",
            "\n",
            "Number of matches 189558\n",
            "Number of matches After Lowe's Ratio 33009\n"
          ],
          "name": "stdout"
        },
        {
          "output_type": "stream",
          "text": [
            "\r 82%|████████▏ | 50/61 [34:58<08:18, 45.28s/it]"
          ],
          "name": "stderr"
        },
        {
          "output_type": "stream",
          "text": [
            "Number of Robust matches 20250\n",
            "\n",
            "\n",
            "\n",
            "Number of matches 210538\n",
            "Number of matches After Lowe's Ratio 50334\n"
          ],
          "name": "stdout"
        },
        {
          "output_type": "stream",
          "text": [
            "\r 84%|████████▎ | 51/61 [35:51<07:57, 47.80s/it]"
          ],
          "name": "stderr"
        },
        {
          "output_type": "stream",
          "text": [
            "Number of Robust matches 35949\n",
            "\n",
            "\n",
            "\n",
            "Number of matches 256256\n",
            "Number of matches After Lowe's Ratio 58226\n"
          ],
          "name": "stdout"
        },
        {
          "output_type": "stream",
          "text": [
            "\r 85%|████████▌ | 52/61 [36:55<07:53, 52.61s/it]"
          ],
          "name": "stderr"
        },
        {
          "output_type": "stream",
          "text": [
            "Number of Robust matches 43620\n",
            "\n",
            "\n",
            "\n",
            "Number of matches 306957\n",
            "Number of matches After Lowe's Ratio 548\n",
            "Number of Robust matches 13\n",
            "\n",
            "\n"
          ],
          "name": "stdout"
        },
        {
          "output_type": "stream",
          "text": [
            "\r 87%|████████▋ | 53/61 [38:13<08:01, 60.19s/it]"
          ],
          "name": "stderr"
        },
        {
          "output_type": "stream",
          "text": [
            "Number of matches After Lowe's Ratio New 548\n",
            "Number of Robust matches New 12\n",
            "\n",
            "\n",
            "\n",
            "Number of matches 320449\n",
            "Number of matches After Lowe's Ratio 89732\n"
          ],
          "name": "stdout"
        },
        {
          "output_type": "stream",
          "text": [
            "\r 89%|████████▊ | 54/61 [39:31<07:39, 65.62s/it]"
          ],
          "name": "stderr"
        },
        {
          "output_type": "stream",
          "text": [
            "Number of Robust matches 69020\n",
            "\n",
            "\n",
            "\n",
            "Number of matches 269247\n",
            "Number of matches After Lowe's Ratio 17915\n"
          ],
          "name": "stdout"
        },
        {
          "output_type": "stream",
          "text": [
            "\r 90%|█████████ | 55/61 [40:55<07:06, 71.03s/it]"
          ],
          "name": "stderr"
        },
        {
          "output_type": "stream",
          "text": [
            "Number of Robust matches 13470\n",
            "\n",
            "\n"
          ],
          "name": "stdout"
        },
        {
          "output_type": "stream",
          "text": [
            "\r 92%|█████████▏| 56/61 [42:03<05:49, 70.00s/it]"
          ],
          "name": "stderr"
        },
        {
          "output_type": "stream",
          "text": [
            "\n",
            "Number of matches 223902\n",
            "Number of matches After Lowe's Ratio 2925\n",
            "Number of Robust matches 1956\n",
            "\n",
            "\n"
          ],
          "name": "stdout"
        },
        {
          "output_type": "stream",
          "text": [
            "\r 93%|█████████▎| 57/61 [42:53<04:15, 63.96s/it]"
          ],
          "name": "stderr"
        },
        {
          "output_type": "stream",
          "text": [
            "\n",
            "Number of matches 166224\n",
            "Number of matches After Lowe's Ratio 17250\n",
            "Number of Robust matches 10993\n",
            "\n",
            "\n"
          ],
          "name": "stdout"
        },
        {
          "output_type": "stream",
          "text": [
            "\r 95%|█████████▌| 58/61 [43:30<02:47, 55.97s/it]"
          ],
          "name": "stderr"
        },
        {
          "output_type": "stream",
          "text": [
            "\n",
            "Number of matches 115002\n",
            "Number of matches After Lowe's Ratio 4747\n",
            "Number of Robust matches 2776\n",
            "\n",
            "\n"
          ],
          "name": "stdout"
        },
        {
          "output_type": "stream",
          "text": [
            "\r 97%|█████████▋| 59/61 [44:19<01:47, 53.87s/it]"
          ],
          "name": "stderr"
        },
        {
          "output_type": "stream",
          "text": [
            "\n",
            "Number of matches 274471\n",
            "Number of matches After Lowe's Ratio 9354\n",
            "Number of Robust matches 4250\n",
            "\n",
            "\n"
          ],
          "name": "stdout"
        },
        {
          "output_type": "stream",
          "text": [
            "  0%|          | 0/60 [00:00<?, ?it/s]"
          ],
          "name": "stderr"
        },
        {
          "output_type": "stream",
          "text": [
            "\n",
            "Number of matches 315937\n",
            "Number of matches After Lowe's Ratio 7724\n",
            "Number of Robust matches 4094\n",
            "\n",
            "\n",
            "\n",
            "Number of matches 197167\n",
            "Number of matches After Lowe's Ratio 31997\n"
          ],
          "name": "stdout"
        },
        {
          "output_type": "stream",
          "text": [
            "\r  2%|▏         | 1/60 [00:35<35:09, 35.75s/it]"
          ],
          "name": "stderr"
        },
        {
          "output_type": "stream",
          "text": [
            "Number of Robust matches 12920\n",
            "\n",
            "\n",
            "\n",
            "Number of matches 258353\n",
            "Number of matches After Lowe's Ratio 26462\n"
          ],
          "name": "stdout"
        },
        {
          "output_type": "stream",
          "text": [
            "\r  3%|▎         | 2/60 [01:30<39:58, 41.35s/it]"
          ],
          "name": "stderr"
        },
        {
          "output_type": "stream",
          "text": [
            "Number of Robust matches 8371\n",
            "\n",
            "\n",
            "\n",
            "Number of matches 177757\n",
            "Number of matches After Lowe's Ratio 410\n",
            "Number of Robust matches 16\n",
            "\n",
            "\n",
            "Number of matches After Lowe's Ratio New 410\n"
          ],
          "name": "stdout"
        },
        {
          "output_type": "stream",
          "text": [
            "\r  5%|▌         | 3/60 [02:36<46:31, 48.98s/it]"
          ],
          "name": "stderr"
        },
        {
          "output_type": "stream",
          "text": [
            "Number of Robust matches New 16\n",
            "\n",
            "\n"
          ],
          "name": "stdout"
        },
        {
          "output_type": "stream",
          "text": [
            "\r  7%|▋         | 4/60 [03:16<43:00, 46.07s/it]"
          ],
          "name": "stderr"
        },
        {
          "output_type": "stream",
          "text": [
            "\n",
            "Number of matches 118122\n",
            "Number of matches After Lowe's Ratio 1665\n",
            "Number of Robust matches 517\n",
            "\n",
            "\n"
          ],
          "name": "stdout"
        },
        {
          "output_type": "stream",
          "text": [
            "\r  8%|▊         | 5/60 [03:43<37:09, 40.54s/it]"
          ],
          "name": "stderr"
        },
        {
          "output_type": "stream",
          "text": [
            "\n",
            "Number of matches 80983\n",
            "Number of matches After Lowe's Ratio 12833\n",
            "Number of Robust matches 4559\n",
            "\n",
            "\n",
            "\n",
            "Number of matches 78600\n",
            "Number of matches After Lowe's Ratio 16980\n"
          ],
          "name": "stdout"
        },
        {
          "output_type": "stream",
          "text": [
            "\r 10%|█         | 6/60 [04:05<31:17, 34.77s/it]"
          ],
          "name": "stderr"
        },
        {
          "output_type": "stream",
          "text": [
            "Number of Robust matches 6131\n",
            "\n",
            "\n",
            "\n",
            "Number of matches 68302\n",
            "Number of matches After Lowe's Ratio 15519\n"
          ],
          "name": "stdout"
        },
        {
          "output_type": "stream",
          "text": [
            "\r 12%|█▏        | 7/60 [04:24<26:33, 30.07s/it]"
          ],
          "name": "stderr"
        },
        {
          "output_type": "stream",
          "text": [
            "Number of Robust matches 5786\n",
            "\n",
            "\n"
          ],
          "name": "stdout"
        },
        {
          "output_type": "stream",
          "text": [
            "\r 13%|█▎        | 8/60 [04:41<22:41, 26.18s/it]"
          ],
          "name": "stderr"
        },
        {
          "output_type": "stream",
          "text": [
            "\n",
            "Number of matches 61656\n",
            "Number of matches After Lowe's Ratio 11488\n",
            "Number of Robust matches 6352\n",
            "\n",
            "\n"
          ],
          "name": "stdout"
        },
        {
          "output_type": "stream",
          "text": [
            "\r 15%|█▌        | 9/60 [05:00<20:24, 24.01s/it]"
          ],
          "name": "stderr"
        },
        {
          "output_type": "stream",
          "text": [
            "\n",
            "Number of matches 63340\n",
            "Number of matches After Lowe's Ratio 13364\n",
            "Number of Robust matches 7810\n",
            "\n",
            "\n",
            "\n",
            "Number of matches 71302\n",
            "Number of matches After Lowe's Ratio 18834\n"
          ],
          "name": "stdout"
        },
        {
          "output_type": "stream",
          "text": [
            "\r 17%|█▋        | 10/60 [05:20<18:59, 22.79s/it]"
          ],
          "name": "stderr"
        },
        {
          "output_type": "stream",
          "text": [
            "Number of Robust matches 15049\n",
            "\n",
            "\n"
          ],
          "name": "stdout"
        },
        {
          "output_type": "stream",
          "text": [
            "\r 18%|█▊        | 11/60 [05:40<18:06, 22.17s/it]"
          ],
          "name": "stderr"
        },
        {
          "output_type": "stream",
          "text": [
            "\n",
            "Number of matches 69089\n",
            "Number of matches After Lowe's Ratio 365\n",
            "Number of Robust matches 15\n",
            "\n",
            "\n",
            "Number of matches After Lowe's Ratio New 365\n",
            "Number of Robust matches New 13\n",
            "\n",
            "\n"
          ],
          "name": "stdout"
        },
        {
          "output_type": "stream",
          "text": [
            "\r 20%|██        | 12/60 [06:02<17:35, 21.99s/it]"
          ],
          "name": "stderr"
        },
        {
          "output_type": "stream",
          "text": [
            "\n",
            "Number of matches 74226\n",
            "Number of matches After Lowe's Ratio 12403\n",
            "Number of Robust matches 8182\n",
            "\n",
            "\n"
          ],
          "name": "stdout"
        },
        {
          "output_type": "stream",
          "text": [
            "\r 22%|██▏       | 13/60 [06:21<16:33, 21.14s/it]"
          ],
          "name": "stderr"
        },
        {
          "output_type": "stream",
          "text": [
            "\n",
            "Number of matches 77704\n",
            "Number of matches After Lowe's Ratio 16722\n",
            "Number of Robust matches 8522\n",
            "\n",
            "\n",
            "\n",
            "Number of matches 78942\n",
            "Number of matches After Lowe's Ratio 19666\n"
          ],
          "name": "stdout"
        },
        {
          "output_type": "stream",
          "text": [
            "\r 23%|██▎       | 14/60 [06:41<15:59, 20.85s/it]"
          ],
          "name": "stderr"
        },
        {
          "output_type": "stream",
          "text": [
            "Number of Robust matches 8208\n",
            "\n",
            "\n"
          ],
          "name": "stdout"
        },
        {
          "output_type": "stream",
          "text": [
            "\r 25%|██▌       | 15/60 [07:02<15:31, 20.71s/it]"
          ],
          "name": "stderr"
        },
        {
          "output_type": "stream",
          "text": [
            "\n",
            "Number of matches 81925\n",
            "Number of matches After Lowe's Ratio 14910\n",
            "Number of Robust matches 6328\n",
            "\n",
            "\n"
          ],
          "name": "stdout"
        },
        {
          "output_type": "stream",
          "text": [
            "\r 27%|██▋       | 16/60 [07:24<15:35, 21.27s/it]"
          ],
          "name": "stderr"
        },
        {
          "output_type": "stream",
          "text": [
            "\n",
            "Number of matches 106277\n",
            "Number of matches After Lowe's Ratio 16320\n",
            "Number of Robust matches 8178\n",
            "\n",
            "\n",
            "\n",
            "Number of matches 178507\n",
            "Number of matches After Lowe's Ratio 27831\n"
          ],
          "name": "stdout"
        },
        {
          "output_type": "stream",
          "text": [
            "\r 28%|██▊       | 17/60 [07:55<17:14, 24.07s/it]"
          ],
          "name": "stderr"
        },
        {
          "output_type": "stream",
          "text": [
            "Number of Robust matches 14690\n",
            "\n",
            "\n",
            "\n",
            "Number of matches 196503\n",
            "Number of matches After Lowe's Ratio 35624\n"
          ],
          "name": "stdout"
        },
        {
          "output_type": "stream",
          "text": [
            "\r 30%|███       | 18/60 [08:46<22:33, 32.23s/it]"
          ],
          "name": "stderr"
        },
        {
          "output_type": "stream",
          "text": [
            "Number of Robust matches 14952\n",
            "\n",
            "\n"
          ],
          "name": "stdout"
        },
        {
          "output_type": "stream",
          "text": [
            "\r 32%|███▏      | 19/60 [09:38<26:04, 38.15s/it]"
          ],
          "name": "stderr"
        },
        {
          "output_type": "stream",
          "text": [
            "\n",
            "Number of matches 184077\n",
            "Number of matches After Lowe's Ratio 552\n",
            "Number of Robust matches 82\n",
            "\n",
            "\n"
          ],
          "name": "stdout"
        },
        {
          "output_type": "stream",
          "text": [
            "\r 33%|███▎      | 20/60 [10:16<25:21, 38.04s/it]"
          ],
          "name": "stderr"
        },
        {
          "output_type": "stream",
          "text": [
            "\n",
            "Number of matches 101834\n",
            "Number of matches After Lowe's Ratio 2136\n",
            "Number of Robust matches 906\n",
            "\n",
            "\n"
          ],
          "name": "stdout"
        },
        {
          "output_type": "stream",
          "text": [
            "\r 35%|███▌      | 21/60 [10:41<22:16, 34.28s/it]"
          ],
          "name": "stderr"
        },
        {
          "output_type": "stream",
          "text": [
            "\n",
            "Number of matches 100681\n",
            "Number of matches After Lowe's Ratio 15985\n",
            "Number of Robust matches 6389\n",
            "\n",
            "\n"
          ],
          "name": "stdout"
        },
        {
          "output_type": "stream",
          "text": [
            "\r 37%|███▋      | 22/60 [11:05<19:36, 30.96s/it]"
          ],
          "name": "stderr"
        },
        {
          "output_type": "stream",
          "text": [
            "\n",
            "Number of matches 80995\n",
            "Number of matches After Lowe's Ratio 13683\n",
            "Number of Robust matches 5626\n",
            "\n",
            "\n"
          ],
          "name": "stdout"
        },
        {
          "output_type": "stream",
          "text": [
            "\r 38%|███▊      | 23/60 [11:24<16:59, 27.56s/it]"
          ],
          "name": "stderr"
        },
        {
          "output_type": "stream",
          "text": [
            "\n",
            "Number of matches 70753\n",
            "Number of matches After Lowe's Ratio 16557\n",
            "Number of Robust matches 6210\n",
            "\n",
            "\n"
          ],
          "name": "stdout"
        },
        {
          "output_type": "stream",
          "text": [
            "\r 40%|████      | 24/60 [11:45<15:21, 25.59s/it]"
          ],
          "name": "stderr"
        },
        {
          "output_type": "stream",
          "text": [
            "\n",
            "Number of matches 68700\n",
            "Number of matches After Lowe's Ratio 20035\n",
            "Number of Robust matches 11635\n",
            "\n",
            "\n"
          ],
          "name": "stdout"
        },
        {
          "output_type": "stream",
          "text": [
            "\r 42%|████▏     | 25/60 [12:04<13:44, 23.54s/it]"
          ],
          "name": "stderr"
        },
        {
          "output_type": "stream",
          "text": [
            "\n",
            "Number of matches 54700\n",
            "Number of matches After Lowe's Ratio 20351\n",
            "Number of Robust matches 14279\n",
            "\n",
            "\n"
          ],
          "name": "stdout"
        },
        {
          "output_type": "stream",
          "text": [
            "\r 43%|████▎     | 26/60 [12:17<11:37, 20.50s/it]"
          ],
          "name": "stderr"
        },
        {
          "output_type": "stream",
          "text": [
            "\n",
            "Number of matches 32030\n",
            "Number of matches After Lowe's Ratio 10335\n",
            "Number of Robust matches 8299\n",
            "\n",
            "\n",
            "\n",
            "Number of matches 37212\n",
            "Number of matches After Lowe's Ratio 374\n",
            "Number of Robust matches 13\n",
            "\n",
            "\n",
            "Number of matches After Lowe's Ratio New 374\n",
            "Number of Robust matches New"
          ],
          "name": "stdout"
        },
        {
          "output_type": "stream",
          "text": [
            "\r 45%|████▌     | 27/60 [12:26<09:22, 17.03s/it]"
          ],
          "name": "stderr"
        },
        {
          "output_type": "stream",
          "text": [
            " 12\n",
            "\n",
            "\n"
          ],
          "name": "stdout"
        },
        {
          "output_type": "stream",
          "text": [
            "\r 47%|████▋     | 28/60 [12:41<08:42, 16.33s/it]"
          ],
          "name": "stderr"
        },
        {
          "output_type": "stream",
          "text": [
            "\n",
            "Number of matches 87049\n",
            "Number of matches After Lowe's Ratio 17234\n",
            "Number of Robust matches 11276\n",
            "\n",
            "\n"
          ],
          "name": "stdout"
        },
        {
          "output_type": "stream",
          "text": [
            "\r 48%|████▊     | 29/60 [13:06<09:48, 18.99s/it]"
          ],
          "name": "stderr"
        },
        {
          "output_type": "stream",
          "text": [
            "\n",
            "Number of matches 105444\n",
            "Number of matches After Lowe's Ratio 26047\n",
            "Number of Robust matches 13541\n",
            "\n",
            "\n",
            "\n",
            "Number of matches 102446\n",
            "Number of matches After Lowe's Ratio 25251\n"
          ],
          "name": "stdout"
        },
        {
          "output_type": "stream",
          "text": [
            "\r 50%|█████     | 30/60 [13:34<10:46, 21.56s/it]"
          ],
          "name": "stderr"
        },
        {
          "output_type": "stream",
          "text": [
            "Number of Robust matches 9942\n",
            "\n",
            "\n"
          ],
          "name": "stdout"
        },
        {
          "output_type": "stream",
          "text": [
            "\r 52%|█████▏    | 31/60 [13:59<10:54, 22.58s/it]"
          ],
          "name": "stderr"
        },
        {
          "output_type": "stream",
          "text": [
            "\n",
            "Number of matches 107602\n",
            "Number of matches After Lowe's Ratio 20985\n",
            "Number of Robust matches 8184\n",
            "\n",
            "\n",
            "\n",
            "Number of matches 130388\n",
            "Number of matches After Lowe's Ratio 16530\n"
          ],
          "name": "stdout"
        },
        {
          "output_type": "stream",
          "text": [
            "\r 53%|█████▎    | 32/60 [14:29<11:32, 24.75s/it]"
          ],
          "name": "stderr"
        },
        {
          "output_type": "stream",
          "text": [
            "Number of Robust matches 9997\n",
            "\n",
            "\n",
            "\n",
            "Number of matches 162117\n",
            "Number of matches After Lowe's Ratio 22670\n"
          ],
          "name": "stdout"
        },
        {
          "output_type": "stream",
          "text": [
            "\r 55%|█████▌    | 33/60 [15:08<13:03, 29.01s/it]"
          ],
          "name": "stderr"
        },
        {
          "output_type": "stream",
          "text": [
            "Number of Robust matches 15401\n",
            "\n",
            "\n",
            "\n",
            "Number of matches 271554\n",
            "Number of matches After Lowe's Ratio 43143\n"
          ],
          "name": "stdout"
        },
        {
          "output_type": "stream",
          "text": [
            "\r 57%|█████▋    | 34/60 [16:04<16:05, 37.14s/it]"
          ],
          "name": "stderr"
        },
        {
          "output_type": "stream",
          "text": [
            "Number of Robust matches 28638\n",
            "\n",
            "\n",
            "\n",
            "Number of matches 206437\n",
            "Number of matches After Lowe's Ratio 372\n",
            "Number of Robust matches 14\n",
            "\n",
            "\n",
            "Number of matches After Lowe's Ratio New 372\n"
          ],
          "name": "stdout"
        },
        {
          "output_type": "stream",
          "text": [
            "\r 58%|█████▊    | 35/60 [17:17<20:02, 48.10s/it]"
          ],
          "name": "stderr"
        },
        {
          "output_type": "stream",
          "text": [
            "Number of Robust matches New 14\n",
            "\n",
            "\n"
          ],
          "name": "stdout"
        },
        {
          "output_type": "stream",
          "text": [
            "\r 60%|██████    | 36/60 [18:07<19:28, 48.69s/it]"
          ],
          "name": "stderr"
        },
        {
          "output_type": "stream",
          "text": [
            "\n",
            "Number of matches 150075\n",
            "Number of matches After Lowe's Ratio 832\n",
            "Number of Robust matches 223\n",
            "\n",
            "\n",
            "\n",
            "Number of matches 113380\n",
            "Number of matches After Lowe's Ratio 16851\n"
          ],
          "name": "stdout"
        },
        {
          "output_type": "stream",
          "text": [
            "\r 62%|██████▏   | 37/60 [18:47<17:37, 45.99s/it]"
          ],
          "name": "stderr"
        },
        {
          "output_type": "stream",
          "text": [
            "Number of Robust matches 10225\n",
            "\n",
            "\n"
          ],
          "name": "stdout"
        },
        {
          "output_type": "stream",
          "text": [
            "\r 63%|██████▎   | 38/60 [19:18<15:08, 41.31s/it]"
          ],
          "name": "stderr"
        },
        {
          "output_type": "stream",
          "text": [
            "\n",
            "Number of matches 105952\n",
            "Number of matches After Lowe's Ratio 20319\n",
            "Number of Robust matches 7427\n",
            "\n",
            "\n"
          ],
          "name": "stdout"
        },
        {
          "output_type": "stream",
          "text": [
            "\r 65%|██████▌   | 39/60 [19:43<12:49, 36.65s/it]"
          ],
          "name": "stderr"
        },
        {
          "output_type": "stream",
          "text": [
            "\n",
            "Number of matches 86727\n",
            "Number of matches After Lowe's Ratio 24186\n",
            "Number of Robust matches 9835\n",
            "\n",
            "\n",
            "\n",
            "Number of matches 87373\n",
            "Number of matches After Lowe's Ratio 29391\n"
          ],
          "name": "stdout"
        },
        {
          "output_type": "stream",
          "text": [
            "\r 67%|██████▋   | 40/60 [20:05<10:46, 32.32s/it]"
          ],
          "name": "stderr"
        },
        {
          "output_type": "stream",
          "text": [
            "Number of Robust matches 18323\n",
            "\n",
            "\n"
          ],
          "name": "stdout"
        },
        {
          "output_type": "stream",
          "text": [
            "\r 68%|██████▊   | 41/60 [20:24<08:58, 28.32s/it]"
          ],
          "name": "stderr"
        },
        {
          "output_type": "stream",
          "text": [
            "\n",
            "Number of matches 61128\n",
            "Number of matches After Lowe's Ratio 18900\n",
            "Number of Robust matches 16031\n",
            "\n",
            "\n"
          ],
          "name": "stdout"
        },
        {
          "output_type": "stream",
          "text": [
            "\r 70%|███████   | 42/60 [20:34<06:46, 22.56s/it]"
          ],
          "name": "stderr"
        },
        {
          "output_type": "stream",
          "text": [
            "\n",
            "Number of matches 1260\n",
            "Number of matches After Lowe's Ratio 434\n",
            "Number of Robust matches 268\n",
            "\n",
            "\n"
          ],
          "name": "stdout"
        },
        {
          "output_type": "stream",
          "text": [
            "\r 72%|███████▏  | 43/60 [20:37<04:43, 16.67s/it]"
          ],
          "name": "stderr"
        },
        {
          "output_type": "stream",
          "text": [
            "\n",
            "Number of matches 52855\n",
            "Number of matches After Lowe's Ratio 531\n",
            "Number of Robust matches 23\n",
            "\n",
            "\n",
            "Number of matches After Lowe's Ratio New 531\n",
            "Number of Robust matches New 23\n",
            "\n",
            "\n"
          ],
          "name": "stdout"
        },
        {
          "output_type": "stream",
          "text": [
            "\r 73%|███████▎  | 44/60 [20:52<04:20, 16.31s/it]"
          ],
          "name": "stderr"
        },
        {
          "output_type": "stream",
          "text": [
            "\n",
            "Number of matches 82008\n",
            "Number of matches After Lowe's Ratio 18047\n",
            "Number of Robust matches 14951\n",
            "\n",
            "\n",
            "\n",
            "Number of matches 109195\n",
            "Number of matches After Lowe's Ratio 24807\n"
          ],
          "name": "stdout"
        },
        {
          "output_type": "stream",
          "text": [
            "\r 75%|███████▌  | 45/60 [21:16<04:38, 18.57s/it]"
          ],
          "name": "stderr"
        },
        {
          "output_type": "stream",
          "text": [
            "Number of Robust matches 14207\n",
            "\n",
            "\n"
          ],
          "name": "stdout"
        },
        {
          "output_type": "stream",
          "text": [
            "\r 77%|███████▋  | 46/60 [21:44<04:58, 21.34s/it]"
          ],
          "name": "stderr"
        },
        {
          "output_type": "stream",
          "text": [
            "\n",
            "Number of matches 95312\n",
            "Number of matches After Lowe's Ratio 15539\n",
            "Number of Robust matches 7516\n",
            "\n",
            "\n"
          ],
          "name": "stdout"
        },
        {
          "output_type": "stream",
          "text": [
            "\r 78%|███████▊  | 47/60 [22:14<05:11, 23.95s/it]"
          ],
          "name": "stderr"
        },
        {
          "output_type": "stream",
          "text": [
            "\n",
            "Number of matches 115231\n",
            "Number of matches After Lowe's Ratio 13330\n",
            "Number of Robust matches 5254\n",
            "\n",
            "\n",
            "\n",
            "Number of matches 177649\n",
            "Number of matches After Lowe's Ratio 22472\n"
          ],
          "name": "stdout"
        },
        {
          "output_type": "stream",
          "text": [
            "\r 80%|████████  | 48/60 [22:50<05:32, 27.73s/it]"
          ],
          "name": "stderr"
        },
        {
          "output_type": "stream",
          "text": [
            "Number of Robust matches 14099\n",
            "\n",
            "\n"
          ],
          "name": "stdout"
        },
        {
          "output_type": "stream",
          "text": [
            "\r 82%|████████▏ | 49/60 [23:32<05:50, 31.83s/it]"
          ],
          "name": "stderr"
        },
        {
          "output_type": "stream",
          "text": [
            "\n",
            "Number of matches 144782\n",
            "Number of matches After Lowe's Ratio 23027\n",
            "Number of Robust matches 14597\n",
            "\n",
            "\n",
            "\n",
            "Number of matches 224270\n",
            "Number of matches After Lowe's Ratio 47135\n"
          ],
          "name": "stdout"
        },
        {
          "output_type": "stream",
          "text": [
            "\r 83%|████████▎ | 50/60 [24:12<05:44, 34.43s/it]"
          ],
          "name": "stderr"
        },
        {
          "output_type": "stream",
          "text": [
            "Number of Robust matches 31011\n",
            "\n",
            "\n"
          ],
          "name": "stdout"
        },
        {
          "output_type": "stream",
          "text": [
            "\r 85%|████████▌ | 51/60 [25:05<05:58, 39.84s/it]"
          ],
          "name": "stderr"
        },
        {
          "output_type": "stream",
          "text": [
            "\n",
            "Number of matches 150305\n",
            "Number of matches After Lowe's Ratio 830\n",
            "Number of Robust matches 300\n",
            "\n",
            "\n",
            "\n",
            "Number of matches 187224\n",
            "Number of matches After Lowe's Ratio 19352\n"
          ],
          "name": "stdout"
        },
        {
          "output_type": "stream",
          "text": [
            "\r 87%|████████▋ | 52/60 [25:50<05:31, 41.48s/it]"
          ],
          "name": "stderr"
        },
        {
          "output_type": "stream",
          "text": [
            "Number of Robust matches 10012\n",
            "\n",
            "\n"
          ],
          "name": "stdout"
        },
        {
          "output_type": "stream",
          "text": [
            "\r 88%|████████▊ | 53/60 [26:36<05:00, 42.87s/it]"
          ],
          "name": "stderr"
        },
        {
          "output_type": "stream",
          "text": [
            "\n",
            "Number of matches 129611\n",
            "Number of matches After Lowe's Ratio 17454\n",
            "Number of Robust matches 8528\n",
            "\n",
            "\n"
          ],
          "name": "stdout"
        },
        {
          "output_type": "stream",
          "text": [
            "\r 90%|█████████ | 54/60 [27:08<03:57, 39.63s/it]"
          ],
          "name": "stderr"
        },
        {
          "output_type": "stream",
          "text": [
            "\n",
            "Number of matches 100649\n",
            "Number of matches After Lowe's Ratio 14784\n",
            "Number of Robust matches 5276\n",
            "\n",
            "\n"
          ],
          "name": "stdout"
        },
        {
          "output_type": "stream",
          "text": [
            "\r 92%|█████████▏| 55/60 [27:31<02:52, 34.55s/it]"
          ],
          "name": "stderr"
        },
        {
          "output_type": "stream",
          "text": [
            "\n",
            "Number of matches 88759\n",
            "Number of matches After Lowe's Ratio 13327\n",
            "Number of Robust matches 6667\n",
            "\n",
            "\n",
            "\n",
            "Number of matches 75721\n",
            "Number of matches After Lowe's Ratio 22433\n"
          ],
          "name": "stdout"
        },
        {
          "output_type": "stream",
          "text": [
            "\r 93%|█████████▎| 56/60 [27:52<02:01, 30.47s/it]"
          ],
          "name": "stderr"
        },
        {
          "output_type": "stream",
          "text": [
            "Number of Robust matches 15620\n",
            "\n",
            "\n"
          ],
          "name": "stdout"
        },
        {
          "output_type": "stream",
          "text": [
            "\r 95%|█████████▌| 57/60 [28:09<01:19, 26.38s/it]"
          ],
          "name": "stderr"
        },
        {
          "output_type": "stream",
          "text": [
            "\n",
            "Number of matches 55071\n",
            "Number of matches After Lowe's Ratio 22171\n",
            "Number of Robust matches 20226\n",
            "\n",
            "\n"
          ],
          "name": "stdout"
        },
        {
          "output_type": "stream",
          "text": [
            "\r 97%|█████████▋| 58/60 [28:19<00:43, 21.71s/it]"
          ],
          "name": "stderr"
        },
        {
          "output_type": "stream",
          "text": [
            "\n",
            "Number of matches 25212\n",
            "Number of matches After Lowe's Ratio 13331\n",
            "Number of Robust matches 12259\n",
            "\n",
            "\n",
            "\n",
            "Number of matches 51841\n",
            "Number of matches After Lowe's Ratio 373\n",
            "Number of Robust matches 12\n",
            "\n",
            "\n",
            "Number of matches After Lowe's Ratio New 373\n"
          ],
          "name": "stdout"
        },
        {
          "output_type": "stream",
          "text": [
            "\r 98%|█████████▊| 59/60 [28:27<00:17, 17.46s/it]"
          ],
          "name": "stderr"
        },
        {
          "output_type": "stream",
          "text": [
            "Number of Robust matches New 11\n",
            "\n",
            "\n"
          ],
          "name": "stdout"
        }
      ]
    },
    {
      "cell_type": "code",
      "metadata": {
        "id": "yuB1EagSL_Ta",
        "colab": {
          "base_uri": "https://localhost:8080/"
        },
        "outputId": "9a893247-219b-4ae5-8600-e1c427f37be0"
      },
      "source": [
        "\n",
        "import h5py as h5\n",
        "f=h5.File('drive/MyDrive/H_left_agast_40.h5','w')\n",
        "t0=time.time()\n",
        "f.create_dataset('data',data=H_left_agast)\n",
        "f.close()\n",
        "print('HDF5  w/o comp.:',time.time()-t0,'[s] ... size',os.path.getsize('drive/MyDrive/H_left_agast_40.h5')/1.e6,'MB')"
      ],
      "execution_count": 26,
      "outputs": [
        {
          "output_type": "stream",
          "text": [
            "HDF5  w/o comp.: 0.16475343704223633 [s] ... size 0.006368 MB\n"
          ],
          "name": "stdout"
        }
      ]
    },
    {
      "cell_type": "code",
      "metadata": {
        "id": "a1LMoHOzL_NW",
        "colab": {
          "base_uri": "https://localhost:8080/"
        },
        "outputId": "50d53135-4238-4a7f-c799-4e102096f100"
      },
      "source": [
        "\n",
        "import h5py as h5\n",
        "f=h5.File('drive/MyDrive/H_right_agast_40.h5','w')\n",
        "t0=time.time()\n",
        "f.create_dataset('data',data=H_right_agast)\n",
        "f.close()\n",
        "print('HDF5  w/o comp.:',time.time()-t0,'[s] ... size',os.path.getsize('drive/MyDrive/H_right_agast_40.h5')/1.e6,'MB')"
      ],
      "execution_count": 27,
      "outputs": [
        {
          "output_type": "stream",
          "text": [
            "HDF5  w/o comp.: 0.06866621971130371 [s] ... size 0.006296 MB\n"
          ],
          "name": "stdout"
        }
      ]
    },
    {
      "cell_type": "code",
      "metadata": {
        "id": "_kYn3bzmMPyl"
      },
      "source": [
        "\n",
        "del H_left_agast, H_right_agast,keypoints_all_left_agast, keypoints_all_right_agast, descriptors_all_left_agast, descriptors_all_right_agast, points_all_left_agast, points_all_right_agast"
      ],
      "execution_count": 28,
      "outputs": []
    },
    {
      "cell_type": "code",
      "metadata": {
        "id": "JZbR8ZLbMPuK"
      },
      "source": [
        ""
      ],
      "execution_count": null,
      "outputs": []
    },
    {
      "cell_type": "code",
      "metadata": {
        "id": "G1wEtkqiMPo4"
      },
      "source": [
        "'''\n",
        "import pickle\n",
        "Fdb = open('all_feat_daisy_left.dat', 'rb')\n",
        "kpts_all = pickle.load(Fdb)\n",
        "Fdb.close()\n",
        "\n",
        "keypoints_all_left_daisy = []\n",
        "descriptors_all_left_daisy = []\n",
        "\n",
        "for j,kpt_each in enumerate(kpts_all):\n",
        "  keypoints_each = []\n",
        "  descrip_each = []\n",
        "  for k,kpt_img in enumerate(kpt_each):\n",
        "    temp_feature = cv2.KeyPoint(x=kpt_img[0][0],y=kpt_img[0][1],_size=kpt_img[1], _angle=kpt_img[2], \n",
        "                            _response=kpt_img[3], _octave=kpt_img[4], _class_id=kpt_img[5]) \n",
        "    temp_descriptor = kpt_img[6]\n",
        "    keypoints_each.append(temp_feature)\n",
        "    descrip_each.append(temp_descriptor)\n",
        "  points_all_left_daisy.append(np.asarray([[p.pt[0], p.pt[1]] for p in keypoints_each]))\n",
        "  keypoints_all_left_daisy.append(keypoints_each)\n",
        "  descriptors_all_left_daisy.append(descrip_each)"
      ],
      "execution_count": null,
      "outputs": []
    },
    {
      "cell_type": "code",
      "metadata": {
        "id": "weAFvO6GMPjf"
      },
      "source": [
        "'''\n",
        "import pickle\n",
        "Fdb = open('all_feat_daisy_right.dat', 'rb')\n",
        "kpts_all = pickle.load(Fdb)\n",
        "Fdb.close()\n",
        "\n",
        "keypoints_all_right_daisy = []\n",
        "descriptors_all_right_daisy = []\n",
        "\n",
        "for j,kpt_each in enumerate(kpts_all):\n",
        "  keypoints_each = []\n",
        "  descrip_each = []\n",
        "  for k,kpt_img in enumerate(kpt_each):\n",
        "    temp_feature = cv2.KeyPoint(x=kpt_img[0][0],y=kpt_img[0][1],_size=kpt_img[1], _angle=kpt_img[2], \n",
        "                            _response=kpt_img[3], _octave=kpt_img[4], _class_id=kpt_img[5]) \n",
        "    temp_descriptor = kpt_img[6]\n",
        "    keypoints_each.append(temp_feature)\n",
        "    descrip_each.append(temp_descriptor)\n",
        "  points_all_right_daisy.append(np.asarray([[p.pt[0], p.pt[1]] for p in keypoints_each]))\n",
        "  keypoints_all_right_daisy.append(keypoints_each)\n",
        "  descriptors_all_right_daisy.append(descrip_each)"
      ],
      "execution_count": null,
      "outputs": []
    },
    {
      "cell_type": "code",
      "metadata": {
        "id": "_2rNYL0GMPd4",
        "colab": {
          "base_uri": "https://localhost:8080/"
        },
        "outputId": "a66f61f6-8d75-472c-ba31-641f23f17c5b"
      },
      "source": [
        "\n",
        "H_left_daisy = []\n",
        "H_right_daisy = []\n",
        "\n",
        "num_matches_daisy = []\n",
        "num_good_matches_daisy = []\n",
        "\n",
        "for j in tqdm(range(len(left_files_path))):\n",
        "  if j==len(left_files_path)-1:\n",
        "    break\n",
        "\n",
        "  H_a,matches,gd_matches = get_Hmatrix(images_left_bgr[j:j+2][::-1],keypoints_all_left_daisy[j:j+2][::-1],points_all_left_daisy[j:j+2][::-1],descriptors_all_left_daisy[j:j+2][::-1],0.9,6)\n",
        "  H_left_daisy.append(H_a)\n",
        "  num_matches_daisy.append(matches)\n",
        "  num_good_matches_daisy.append(gd_matches)\n",
        "\n",
        "for j in tqdm(range(len(right_files_path))):\n",
        "  if j==len(right_files_path)-1:\n",
        "    break\n",
        "\n",
        "  H_a,matches,gd_matches = get_Hmatrix(images_right_bgr[j:j+2][::-1],keypoints_all_right_daisy[j:j+2][::-1],points_all_right_daisy[j:j+2][::-1],descriptors_all_right_daisy[j:j+2][::-1],0.9,6)\n",
        "  H_right_daisy.append(H_a)\n",
        "  num_matches_daisy.append(matches)\n",
        "  num_good_matches_daisy.append(gd_matches)"
      ],
      "execution_count": 84,
      "outputs": [
        {
          "output_type": "stream",
          "text": [
            "  2%|▏         | 1/61 [00:00<00:23,  2.58it/s]"
          ],
          "name": "stderr"
        },
        {
          "output_type": "stream",
          "text": [
            "\n",
            "Number of matches 2000\n",
            "Number of matches After Lowe's Ratio 378\n",
            "Number of Robust matches 88\n",
            "\n",
            "\n"
          ],
          "name": "stdout"
        },
        {
          "output_type": "stream",
          "text": [
            "\r  3%|▎         | 2/61 [00:00<00:22,  2.63it/s]"
          ],
          "name": "stderr"
        },
        {
          "output_type": "stream",
          "text": [
            "\n",
            "Number of matches 2000\n",
            "Number of matches After Lowe's Ratio 415\n",
            "Number of Robust matches 109\n",
            "\n",
            "\n"
          ],
          "name": "stdout"
        },
        {
          "output_type": "stream",
          "text": [
            "\r  5%|▍         | 3/61 [00:01<00:22,  2.55it/s]"
          ],
          "name": "stderr"
        },
        {
          "output_type": "stream",
          "text": [
            "\n",
            "Number of matches 2000\n",
            "Number of matches After Lowe's Ratio 419\n",
            "Number of Robust matches 80\n",
            "\n",
            "\n"
          ],
          "name": "stdout"
        },
        {
          "output_type": "stream",
          "text": [
            "\r  7%|▋         | 4/61 [00:01<00:21,  2.63it/s]"
          ],
          "name": "stderr"
        },
        {
          "output_type": "stream",
          "text": [
            "\n",
            "Number of matches 2001\n",
            "Number of matches After Lowe's Ratio 446\n",
            "Number of Robust matches 151\n",
            "\n",
            "\n"
          ],
          "name": "stdout"
        },
        {
          "output_type": "stream",
          "text": [
            "\r  8%|▊         | 5/61 [00:01<00:21,  2.64it/s]"
          ],
          "name": "stderr"
        },
        {
          "output_type": "stream",
          "text": [
            "\n",
            "Number of matches 2000\n",
            "Number of matches After Lowe's Ratio 323\n",
            "Number of Robust matches 82\n",
            "\n",
            "\n"
          ],
          "name": "stdout"
        },
        {
          "output_type": "stream",
          "text": [
            "\r 10%|▉         | 6/61 [00:02<00:21,  2.56it/s]"
          ],
          "name": "stderr"
        },
        {
          "output_type": "stream",
          "text": [
            "\n",
            "Number of matches 2000\n",
            "Number of matches After Lowe's Ratio 179\n",
            "Number of Robust matches 25\n",
            "\n",
            "\n"
          ],
          "name": "stdout"
        },
        {
          "output_type": "stream",
          "text": [
            "\r 11%|█▏        | 7/61 [00:02<00:20,  2.62it/s]"
          ],
          "name": "stderr"
        },
        {
          "output_type": "stream",
          "text": [
            "\n",
            "Number of matches 2000\n",
            "Number of matches After Lowe's Ratio 411\n",
            "Number of Robust matches 140\n",
            "\n",
            "\n"
          ],
          "name": "stdout"
        },
        {
          "output_type": "stream",
          "text": [
            "\r 13%|█▎        | 8/61 [00:03<00:19,  2.68it/s]"
          ],
          "name": "stderr"
        },
        {
          "output_type": "stream",
          "text": [
            "\n",
            "Number of matches 2000\n",
            "Number of matches After Lowe's Ratio 399\n",
            "Number of Robust matches 146\n",
            "\n",
            "\n"
          ],
          "name": "stdout"
        },
        {
          "output_type": "stream",
          "text": [
            "\r 15%|█▍        | 9/61 [00:03<00:19,  2.70it/s]"
          ],
          "name": "stderr"
        },
        {
          "output_type": "stream",
          "text": [
            "\n",
            "Number of matches 2000\n",
            "Number of matches After Lowe's Ratio 465\n",
            "Number of Robust matches 159\n",
            "\n",
            "\n"
          ],
          "name": "stdout"
        },
        {
          "output_type": "stream",
          "text": [
            "\r 16%|█▋        | 10/61 [00:03<00:18,  2.72it/s]"
          ],
          "name": "stderr"
        },
        {
          "output_type": "stream",
          "text": [
            "\n",
            "Number of matches 2000\n",
            "Number of matches After Lowe's Ratio 452\n",
            "Number of Robust matches 136\n",
            "\n",
            "\n"
          ],
          "name": "stdout"
        },
        {
          "output_type": "stream",
          "text": [
            "\r 18%|█▊        | 11/61 [00:04<00:19,  2.63it/s]"
          ],
          "name": "stderr"
        },
        {
          "output_type": "stream",
          "text": [
            "\n",
            "Number of matches 2000\n",
            "Number of matches After Lowe's Ratio 429\n",
            "Number of Robust matches 79\n",
            "\n",
            "\n"
          ],
          "name": "stdout"
        },
        {
          "output_type": "stream",
          "text": [
            "\r 20%|█▉        | 12/61 [00:04<00:18,  2.59it/s]"
          ],
          "name": "stderr"
        },
        {
          "output_type": "stream",
          "text": [
            "\n",
            "Number of matches 2000\n",
            "Number of matches After Lowe's Ratio 481\n",
            "Number of Robust matches 105\n",
            "\n",
            "\n"
          ],
          "name": "stdout"
        },
        {
          "output_type": "stream",
          "text": [
            "\r 21%|██▏       | 13/61 [00:04<00:19,  2.52it/s]"
          ],
          "name": "stderr"
        },
        {
          "output_type": "stream",
          "text": [
            "\n",
            "Number of matches 2000\n",
            "Number of matches After Lowe's Ratio 182\n",
            "Number of Robust matches 29\n",
            "\n",
            "\n"
          ],
          "name": "stdout"
        },
        {
          "output_type": "stream",
          "text": [
            "\r 23%|██▎       | 14/61 [00:05<00:18,  2.48it/s]"
          ],
          "name": "stderr"
        },
        {
          "output_type": "stream",
          "text": [
            "\n",
            "Number of matches 2000\n",
            "Number of matches After Lowe's Ratio 121\n",
            "Number of Robust matches 13\n",
            "\n",
            "\n",
            "Number of matches After Lowe's Ratio New 32\n",
            "Number of Robust matches New 8\n",
            "\n",
            "\n"
          ],
          "name": "stdout"
        },
        {
          "output_type": "stream",
          "text": [
            "\r 25%|██▍       | 15/61 [00:05<00:18,  2.49it/s]"
          ],
          "name": "stderr"
        },
        {
          "output_type": "stream",
          "text": [
            "\n",
            "Number of matches 2000\n",
            "Number of matches After Lowe's Ratio 163\n",
            "Number of Robust matches 28\n",
            "\n",
            "\n"
          ],
          "name": "stdout"
        },
        {
          "output_type": "stream",
          "text": [
            "\r 26%|██▌       | 16/61 [00:06<00:17,  2.50it/s]"
          ],
          "name": "stderr"
        },
        {
          "output_type": "stream",
          "text": [
            "\n",
            "Number of matches 2000\n",
            "Number of matches After Lowe's Ratio 272\n",
            "Number of Robust matches 51\n",
            "\n",
            "\n"
          ],
          "name": "stdout"
        },
        {
          "output_type": "stream",
          "text": [
            "\r 28%|██▊       | 17/61 [00:06<00:17,  2.47it/s]"
          ],
          "name": "stderr"
        },
        {
          "output_type": "stream",
          "text": [
            "\n",
            "Number of matches 2002\n",
            "Number of matches After Lowe's Ratio 294\n",
            "Number of Robust matches 54\n",
            "\n",
            "\n"
          ],
          "name": "stdout"
        },
        {
          "output_type": "stream",
          "text": [
            "\r 30%|██▉       | 18/61 [00:07<00:18,  2.35it/s]"
          ],
          "name": "stderr"
        },
        {
          "output_type": "stream",
          "text": [
            "\n",
            "Number of matches 2000\n",
            "Number of matches After Lowe's Ratio 246\n",
            "Number of Robust matches 15\n",
            "\n",
            "\n",
            "Number of matches After Lowe's Ratio New 128\n",
            "Number of Robust matches New 12\n",
            "\n",
            "\n"
          ],
          "name": "stdout"
        },
        {
          "output_type": "stream",
          "text": [
            "\r 31%|███       | 19/61 [00:07<00:18,  2.29it/s]"
          ],
          "name": "stderr"
        },
        {
          "output_type": "stream",
          "text": [
            "\n",
            "Number of matches 2001\n",
            "Number of matches After Lowe's Ratio 227\n",
            "Number of Robust matches 14\n",
            "\n",
            "\n",
            "Number of matches After Lowe's Ratio New 110\n",
            "Number of Robust matches New 12\n",
            "\n",
            "\n"
          ],
          "name": "stdout"
        },
        {
          "output_type": "stream",
          "text": [
            "\r 33%|███▎      | 20/61 [00:08<00:18,  2.23it/s]"
          ],
          "name": "stderr"
        },
        {
          "output_type": "stream",
          "text": [
            "\n",
            "Number of matches 2000\n",
            "Number of matches After Lowe's Ratio 263\n",
            "Number of Robust matches 14\n",
            "\n",
            "\n",
            "Number of matches After Lowe's Ratio New 108\n",
            "Number of Robust matches New 10\n",
            "\n",
            "\n"
          ],
          "name": "stdout"
        },
        {
          "output_type": "stream",
          "text": [
            "\r 34%|███▍      | 21/61 [00:08<00:17,  2.28it/s]"
          ],
          "name": "stderr"
        },
        {
          "output_type": "stream",
          "text": [
            "\n",
            "Number of matches 2000\n",
            "Number of matches After Lowe's Ratio 202\n",
            "Number of Robust matches 27\n",
            "\n",
            "\n"
          ],
          "name": "stdout"
        },
        {
          "output_type": "stream",
          "text": [
            "\r 36%|███▌      | 22/61 [00:08<00:17,  2.26it/s]"
          ],
          "name": "stderr"
        },
        {
          "output_type": "stream",
          "text": [
            "\n",
            "Number of matches 2000\n",
            "Number of matches After Lowe's Ratio 214\n",
            "Number of Robust matches 17\n",
            "\n",
            "\n",
            "Number of matches After Lowe's Ratio New 84\n",
            "Number of Robust matches New 16\n",
            "\n",
            "\n"
          ],
          "name": "stdout"
        },
        {
          "output_type": "stream",
          "text": [
            "\r 38%|███▊      | 23/61 [00:09<00:15,  2.42it/s]"
          ],
          "name": "stderr"
        },
        {
          "output_type": "stream",
          "text": [
            "\n",
            "Number of matches 2000\n",
            "Number of matches After Lowe's Ratio 283\n",
            "Number of Robust matches 92\n",
            "\n",
            "\n"
          ],
          "name": "stdout"
        },
        {
          "output_type": "stream",
          "text": [
            "\r 39%|███▉      | 24/61 [00:09<00:16,  2.30it/s]"
          ],
          "name": "stderr"
        },
        {
          "output_type": "stream",
          "text": [
            "\n",
            "Number of matches 2000\n",
            "Number of matches After Lowe's Ratio 293\n",
            "Number of Robust matches 21\n",
            "\n",
            "\n",
            "Number of matches After Lowe's Ratio New 145\n",
            "Number of Robust matches New 13\n",
            "\n",
            "\n"
          ],
          "name": "stdout"
        },
        {
          "output_type": "stream",
          "text": [
            "\r 41%|████      | 25/61 [00:10<00:15,  2.34it/s]"
          ],
          "name": "stderr"
        },
        {
          "output_type": "stream",
          "text": [
            "\n",
            "Number of matches 2000\n",
            "Number of matches After Lowe's Ratio 259\n",
            "Number of Robust matches 29\n",
            "\n",
            "\n"
          ],
          "name": "stdout"
        },
        {
          "output_type": "stream",
          "text": [
            "\r 43%|████▎     | 26/61 [00:10<00:15,  2.26it/s]"
          ],
          "name": "stderr"
        },
        {
          "output_type": "stream",
          "text": [
            "\n",
            "Number of matches 2000\n",
            "Number of matches After Lowe's Ratio 221\n",
            "Number of Robust matches 13\n",
            "\n",
            "\n",
            "Number of matches After Lowe's Ratio New 79\n",
            "Number of Robust matches New 10\n",
            "\n",
            "\n"
          ],
          "name": "stdout"
        },
        {
          "output_type": "stream",
          "text": [
            "\r 44%|████▍     | 27/61 [00:11<00:14,  2.31it/s]"
          ],
          "name": "stderr"
        },
        {
          "output_type": "stream",
          "text": [
            "\n",
            "Number of matches 2000\n",
            "Number of matches After Lowe's Ratio 258\n",
            "Number of Robust matches 29\n",
            "\n",
            "\n"
          ],
          "name": "stdout"
        },
        {
          "output_type": "stream",
          "text": [
            "\r 46%|████▌     | 28/61 [00:11<00:14,  2.35it/s]"
          ],
          "name": "stderr"
        },
        {
          "output_type": "stream",
          "text": [
            "\n",
            "Number of matches 2000\n",
            "Number of matches After Lowe's Ratio 200\n",
            "Number of Robust matches 25\n",
            "\n",
            "\n"
          ],
          "name": "stdout"
        },
        {
          "output_type": "stream",
          "text": [
            "\r 48%|████▊     | 29/61 [00:11<00:13,  2.29it/s]"
          ],
          "name": "stderr"
        },
        {
          "output_type": "stream",
          "text": [
            "\n",
            "Number of matches 2000\n",
            "Number of matches After Lowe's Ratio 173\n",
            "Number of Robust matches 13\n",
            "\n",
            "\n",
            "Number of matches After Lowe's Ratio New 57\n",
            "Number of Robust matches New 9\n",
            "\n",
            "\n"
          ],
          "name": "stdout"
        },
        {
          "output_type": "stream",
          "text": [
            "\r 49%|████▉     | 30/61 [00:12<00:14,  2.21it/s]"
          ],
          "name": "stderr"
        },
        {
          "output_type": "stream",
          "text": [
            "\n",
            "Number of matches 2000\n",
            "Number of matches After Lowe's Ratio 175\n",
            "Number of Robust matches 12\n",
            "\n",
            "\n",
            "Number of matches After Lowe's Ratio New 64\n",
            "Number of Robust matches New 10\n",
            "\n",
            "\n"
          ],
          "name": "stdout"
        },
        {
          "output_type": "stream",
          "text": [
            "\r 51%|█████     | 31/61 [00:12<00:13,  2.28it/s]"
          ],
          "name": "stderr"
        },
        {
          "output_type": "stream",
          "text": [
            "\n",
            "Number of matches 2000\n",
            "Number of matches After Lowe's Ratio 239\n",
            "Number of Robust matches 29\n",
            "\n",
            "\n"
          ],
          "name": "stdout"
        },
        {
          "output_type": "stream",
          "text": [
            "\r 52%|█████▏    | 32/61 [00:13<00:12,  2.33it/s]"
          ],
          "name": "stderr"
        },
        {
          "output_type": "stream",
          "text": [
            "\n",
            "Number of matches 2001\n",
            "Number of matches After Lowe's Ratio 365\n",
            "Number of Robust matches 52\n",
            "\n",
            "\n"
          ],
          "name": "stdout"
        },
        {
          "output_type": "stream",
          "text": [
            "\r 54%|█████▍    | 33/61 [00:13<00:11,  2.36it/s]"
          ],
          "name": "stderr"
        },
        {
          "output_type": "stream",
          "text": [
            "\n",
            "Number of matches 2000\n",
            "Number of matches After Lowe's Ratio 386\n",
            "Number of Robust matches 67\n",
            "\n",
            "\n"
          ],
          "name": "stdout"
        },
        {
          "output_type": "stream",
          "text": [
            "\r 56%|█████▌    | 34/61 [00:14<00:12,  2.16it/s]"
          ],
          "name": "stderr"
        },
        {
          "output_type": "stream",
          "text": [
            "\n",
            "Number of matches 2000\n",
            "Number of matches After Lowe's Ratio 426\n",
            "Number of Robust matches 106\n",
            "\n",
            "\n"
          ],
          "name": "stdout"
        },
        {
          "output_type": "stream",
          "text": [
            "\r 57%|█████▋    | 35/61 [00:14<00:11,  2.23it/s]"
          ],
          "name": "stderr"
        },
        {
          "output_type": "stream",
          "text": [
            "\n",
            "Number of matches 2000\n",
            "Number of matches After Lowe's Ratio 379\n",
            "Number of Robust matches 108\n",
            "\n",
            "\n"
          ],
          "name": "stdout"
        },
        {
          "output_type": "stream",
          "text": [
            "\r 59%|█████▉    | 36/61 [00:14<00:10,  2.37it/s]"
          ],
          "name": "stderr"
        },
        {
          "output_type": "stream",
          "text": [
            "\n",
            "Number of matches 2000\n",
            "Number of matches After Lowe's Ratio 369\n",
            "Number of Robust matches 96\n",
            "\n",
            "\n"
          ],
          "name": "stdout"
        },
        {
          "output_type": "stream",
          "text": [
            "\r 61%|██████    | 37/61 [00:15<00:10,  2.27it/s]"
          ],
          "name": "stderr"
        },
        {
          "output_type": "stream",
          "text": [
            "\n",
            "Number of matches 2000\n",
            "Number of matches After Lowe's Ratio 186\n",
            "Number of Robust matches 14\n",
            "\n",
            "\n",
            "Number of matches After Lowe's Ratio New 64\n",
            "Number of Robust matches New 8\n",
            "\n",
            "\n"
          ],
          "name": "stdout"
        },
        {
          "output_type": "stream",
          "text": [
            "\r 62%|██████▏   | 38/61 [00:15<00:09,  2.42it/s]"
          ],
          "name": "stderr"
        },
        {
          "output_type": "stream",
          "text": [
            "\n",
            "Number of matches 2000\n",
            "Number of matches After Lowe's Ratio 344\n",
            "Number of Robust matches 116\n",
            "\n",
            "\n"
          ],
          "name": "stdout"
        },
        {
          "output_type": "stream",
          "text": [
            "\r 64%|██████▍   | 39/61 [00:16<00:08,  2.51it/s]"
          ],
          "name": "stderr"
        },
        {
          "output_type": "stream",
          "text": [
            "\n",
            "Number of matches 2000\n",
            "Number of matches After Lowe's Ratio 303\n",
            "Number of Robust matches 89\n",
            "\n",
            "\n"
          ],
          "name": "stdout"
        },
        {
          "output_type": "stream",
          "text": [
            "\r 66%|██████▌   | 40/61 [00:16<00:08,  2.49it/s]"
          ],
          "name": "stderr"
        },
        {
          "output_type": "stream",
          "text": [
            "\n",
            "Number of matches 2000\n",
            "Number of matches After Lowe's Ratio 301\n",
            "Number of Robust matches 54\n",
            "\n",
            "\n"
          ],
          "name": "stdout"
        },
        {
          "output_type": "stream",
          "text": [
            "\r 67%|██████▋   | 41/61 [00:16<00:08,  2.48it/s]"
          ],
          "name": "stderr"
        },
        {
          "output_type": "stream",
          "text": [
            "\n",
            "Number of matches 2000\n",
            "Number of matches After Lowe's Ratio 282\n",
            "Number of Robust matches 51\n",
            "\n",
            "\n"
          ],
          "name": "stdout"
        },
        {
          "output_type": "stream",
          "text": [
            "\r 69%|██████▉   | 42/61 [00:17<00:07,  2.46it/s]"
          ],
          "name": "stderr"
        },
        {
          "output_type": "stream",
          "text": [
            "\n",
            "Number of matches 2000\n",
            "Number of matches After Lowe's Ratio 311\n",
            "Number of Robust matches 62\n",
            "\n",
            "\n"
          ],
          "name": "stdout"
        },
        {
          "output_type": "stream",
          "text": [
            "\r 70%|███████   | 43/61 [00:17<00:07,  2.47it/s]"
          ],
          "name": "stderr"
        },
        {
          "output_type": "stream",
          "text": [
            "\n",
            "Number of matches 2001\n",
            "Number of matches After Lowe's Ratio 288\n",
            "Number of Robust matches 43\n",
            "\n",
            "\n"
          ],
          "name": "stdout"
        },
        {
          "output_type": "stream",
          "text": [
            "\r 72%|███████▏  | 44/61 [00:18<00:07,  2.43it/s]"
          ],
          "name": "stderr"
        },
        {
          "output_type": "stream",
          "text": [
            "\n",
            "Number of matches 2000\n",
            "Number of matches After Lowe's Ratio 141\n",
            "Number of Robust matches 20\n",
            "\n",
            "\n",
            "Number of matches After Lowe's Ratio New 44\n",
            "Number of Robust matches New 13\n",
            "\n",
            "\n"
          ],
          "name": "stdout"
        },
        {
          "output_type": "stream",
          "text": [
            "\r 74%|███████▍  | 45/61 [00:18<00:06,  2.32it/s]"
          ],
          "name": "stderr"
        },
        {
          "output_type": "stream",
          "text": [
            "\n",
            "Number of matches 2000\n",
            "Number of matches After Lowe's Ratio 134\n",
            "Number of Robust matches 14\n",
            "\n",
            "\n",
            "Number of matches After Lowe's Ratio New 42\n",
            "Number of Robust matches New 9\n",
            "\n",
            "\n"
          ],
          "name": "stdout"
        },
        {
          "output_type": "stream",
          "text": [
            "\r 75%|███████▌  | 46/61 [00:19<00:06,  2.31it/s]"
          ],
          "name": "stderr"
        },
        {
          "output_type": "stream",
          "text": [
            "\n",
            "Number of matches 2000\n",
            "Number of matches After Lowe's Ratio 142\n",
            "Number of Robust matches 13\n",
            "\n",
            "\n",
            "Number of matches After Lowe's Ratio New 48\n",
            "Number of Robust matches New 10\n",
            "\n",
            "\n"
          ],
          "name": "stdout"
        },
        {
          "output_type": "stream",
          "text": [
            "\r 77%|███████▋  | 47/61 [00:19<00:05,  2.34it/s]"
          ],
          "name": "stderr"
        },
        {
          "output_type": "stream",
          "text": [
            "\n",
            "Number of matches 2002\n",
            "Number of matches After Lowe's Ratio 141\n",
            "Number of Robust matches 27\n",
            "\n",
            "\n"
          ],
          "name": "stdout"
        },
        {
          "output_type": "stream",
          "text": [
            "\r 79%|███████▊  | 48/61 [00:19<00:05,  2.39it/s]"
          ],
          "name": "stderr"
        },
        {
          "output_type": "stream",
          "text": [
            "\n",
            "Number of matches 2000\n",
            "Number of matches After Lowe's Ratio 278\n",
            "Number of Robust matches 55\n",
            "\n",
            "\n"
          ],
          "name": "stdout"
        },
        {
          "output_type": "stream",
          "text": [
            "\r 80%|████████  | 49/61 [00:20<00:05,  2.39it/s]"
          ],
          "name": "stderr"
        },
        {
          "output_type": "stream",
          "text": [
            "\n",
            "Number of matches 2000\n",
            "Number of matches After Lowe's Ratio 338\n",
            "Number of Robust matches 47\n",
            "\n",
            "\n"
          ],
          "name": "stdout"
        },
        {
          "output_type": "stream",
          "text": [
            "\r 82%|████████▏ | 50/61 [00:20<00:04,  2.41it/s]"
          ],
          "name": "stderr"
        },
        {
          "output_type": "stream",
          "text": [
            "\n",
            "Number of matches 2000\n",
            "Number of matches After Lowe's Ratio 333\n",
            "Number of Robust matches 42\n",
            "\n",
            "\n"
          ],
          "name": "stdout"
        },
        {
          "output_type": "stream",
          "text": [
            "\r 84%|████████▎ | 51/61 [00:21<00:03,  2.53it/s]"
          ],
          "name": "stderr"
        },
        {
          "output_type": "stream",
          "text": [
            "\n",
            "Number of matches 2000\n",
            "Number of matches After Lowe's Ratio 266\n",
            "Number of Robust matches 90\n",
            "\n",
            "\n"
          ],
          "name": "stdout"
        },
        {
          "output_type": "stream",
          "text": [
            "\r 85%|████████▌ | 52/61 [00:21<00:03,  2.59it/s]"
          ],
          "name": "stderr"
        },
        {
          "output_type": "stream",
          "text": [
            "\n",
            "Number of matches 2000\n",
            "Number of matches After Lowe's Ratio 297\n",
            "Number of Robust matches 83\n",
            "\n",
            "\n"
          ],
          "name": "stdout"
        },
        {
          "output_type": "stream",
          "text": [
            "\r 87%|████████▋ | 53/61 [00:21<00:03,  2.53it/s]"
          ],
          "name": "stderr"
        },
        {
          "output_type": "stream",
          "text": [
            "\n",
            "Number of matches 2000\n",
            "Number of matches After Lowe's Ratio 136\n",
            "Number of Robust matches 13\n",
            "\n",
            "\n",
            "Number of matches After Lowe's Ratio New 33\n",
            "Number of Robust matches New 9\n",
            "\n",
            "\n"
          ],
          "name": "stdout"
        },
        {
          "output_type": "stream",
          "text": [
            "\r 89%|████████▊ | 54/61 [00:22<00:02,  2.64it/s]"
          ],
          "name": "stderr"
        },
        {
          "output_type": "stream",
          "text": [
            "\n",
            "Number of matches 2001\n",
            "Number of matches After Lowe's Ratio 295\n",
            "Number of Robust matches 118\n",
            "\n",
            "\n"
          ],
          "name": "stdout"
        },
        {
          "output_type": "stream",
          "text": [
            "\r 90%|█████████ | 55/61 [00:22<00:02,  2.69it/s]"
          ],
          "name": "stderr"
        },
        {
          "output_type": "stream",
          "text": [
            "\n",
            "Number of matches 2000\n",
            "Number of matches After Lowe's Ratio 212\n",
            "Number of Robust matches 100\n",
            "\n",
            "\n"
          ],
          "name": "stdout"
        },
        {
          "output_type": "stream",
          "text": [
            "\r 92%|█████████▏| 56/61 [00:22<00:01,  2.75it/s]"
          ],
          "name": "stderr"
        },
        {
          "output_type": "stream",
          "text": [
            "\n",
            "Number of matches 2000\n",
            "Number of matches After Lowe's Ratio 207\n",
            "Number of Robust matches 84\n",
            "\n",
            "\n"
          ],
          "name": "stdout"
        },
        {
          "output_type": "stream",
          "text": [
            "\r 93%|█████████▎| 57/61 [00:23<00:01,  2.67it/s]"
          ],
          "name": "stderr"
        },
        {
          "output_type": "stream",
          "text": [
            "\n",
            "Number of matches 2000\n",
            "Number of matches After Lowe's Ratio 299\n",
            "Number of Robust matches 28\n",
            "\n",
            "\n"
          ],
          "name": "stdout"
        },
        {
          "output_type": "stream",
          "text": [
            "\r 95%|█████████▌| 58/61 [00:23<00:01,  2.62it/s]"
          ],
          "name": "stderr"
        },
        {
          "output_type": "stream",
          "text": [
            "\n",
            "Number of matches 2000\n",
            "Number of matches After Lowe's Ratio 269\n",
            "Number of Robust matches 60\n",
            "\n",
            "\n"
          ],
          "name": "stdout"
        },
        {
          "output_type": "stream",
          "text": [
            "\r 97%|█████████▋| 59/61 [00:24<00:00,  2.63it/s]"
          ],
          "name": "stderr"
        },
        {
          "output_type": "stream",
          "text": [
            "\n",
            "Number of matches 2000\n",
            "Number of matches After Lowe's Ratio 195\n",
            "Number of Robust matches 43\n",
            "\n",
            "\n"
          ],
          "name": "stdout"
        },
        {
          "output_type": "stream",
          "text": [
            "  0%|          | 0/60 [00:00<?, ?it/s]"
          ],
          "name": "stderr"
        },
        {
          "output_type": "stream",
          "text": [
            "\n",
            "Number of matches 2000\n",
            "Number of matches After Lowe's Ratio 155\n",
            "Number of Robust matches 26\n",
            "\n",
            "\n"
          ],
          "name": "stdout"
        },
        {
          "output_type": "stream",
          "text": [
            "\r  2%|▏         | 1/60 [00:00<00:25,  2.34it/s]"
          ],
          "name": "stderr"
        },
        {
          "output_type": "stream",
          "text": [
            "\n",
            "Number of matches 2000\n",
            "Number of matches After Lowe's Ratio 293\n",
            "Number of Robust matches 56\n",
            "\n",
            "\n"
          ],
          "name": "stdout"
        },
        {
          "output_type": "stream",
          "text": [
            "\r  3%|▎         | 2/60 [00:00<00:24,  2.41it/s]"
          ],
          "name": "stderr"
        },
        {
          "output_type": "stream",
          "text": [
            "\n",
            "Number of matches 2000\n",
            "Number of matches After Lowe's Ratio 305\n",
            "Number of Robust matches 71\n",
            "\n",
            "\n"
          ],
          "name": "stdout"
        },
        {
          "output_type": "stream",
          "text": [
            "\r  5%|▌         | 3/60 [00:01<00:24,  2.33it/s]"
          ],
          "name": "stderr"
        },
        {
          "output_type": "stream",
          "text": [
            "\n",
            "Number of matches 2000\n",
            "Number of matches After Lowe's Ratio 187\n",
            "Number of Robust matches 18\n",
            "\n",
            "\n",
            "Number of matches After Lowe's Ratio New 74\n",
            "Number of Robust matches New 13\n",
            "\n",
            "\n"
          ],
          "name": "stdout"
        },
        {
          "output_type": "stream",
          "text": [
            "\r  7%|▋         | 4/60 [00:01<00:23,  2.37it/s]"
          ],
          "name": "stderr"
        },
        {
          "output_type": "stream",
          "text": [
            "\n",
            "Number of matches 2000\n",
            "Number of matches After Lowe's Ratio 261\n",
            "Number of Robust matches 37\n",
            "\n",
            "\n"
          ],
          "name": "stdout"
        },
        {
          "output_type": "stream",
          "text": [
            "\r  8%|▊         | 5/60 [00:02<00:22,  2.43it/s]"
          ],
          "name": "stderr"
        },
        {
          "output_type": "stream",
          "text": [
            "\n",
            "Number of matches 2000\n",
            "Number of matches After Lowe's Ratio 440\n",
            "Number of Robust matches 125\n",
            "\n",
            "\n"
          ],
          "name": "stdout"
        },
        {
          "output_type": "stream",
          "text": [
            "\r 10%|█         | 6/60 [00:02<00:22,  2.42it/s]"
          ],
          "name": "stderr"
        },
        {
          "output_type": "stream",
          "text": [
            "\n",
            "Number of matches 2000\n",
            "Number of matches After Lowe's Ratio 503\n",
            "Number of Robust matches 87\n",
            "\n",
            "\n"
          ],
          "name": "stdout"
        },
        {
          "output_type": "stream",
          "text": [
            "\r 12%|█▏        | 7/60 [00:02<00:21,  2.46it/s]"
          ],
          "name": "stderr"
        },
        {
          "output_type": "stream",
          "text": [
            "\n",
            "Number of matches 2004\n",
            "Number of matches After Lowe's Ratio 437\n",
            "Number of Robust matches 122\n",
            "\n",
            "\n"
          ],
          "name": "stdout"
        },
        {
          "output_type": "stream",
          "text": [
            "\r 13%|█▎        | 8/60 [00:03<00:20,  2.52it/s]"
          ],
          "name": "stderr"
        },
        {
          "output_type": "stream",
          "text": [
            "\n",
            "Number of matches 2000\n",
            "Number of matches After Lowe's Ratio 506\n",
            "Number of Robust matches 157\n",
            "\n",
            "\n"
          ],
          "name": "stdout"
        },
        {
          "output_type": "stream",
          "text": [
            "\r 15%|█▌        | 9/60 [00:03<00:19,  2.59it/s]"
          ],
          "name": "stderr"
        },
        {
          "output_type": "stream",
          "text": [
            "\n",
            "Number of matches 2000\n",
            "Number of matches After Lowe's Ratio 468\n",
            "Number of Robust matches 181\n",
            "\n",
            "\n"
          ],
          "name": "stdout"
        },
        {
          "output_type": "stream",
          "text": [
            "\r 17%|█▋        | 10/60 [00:03<00:18,  2.64it/s]"
          ],
          "name": "stderr"
        },
        {
          "output_type": "stream",
          "text": [
            "\n",
            "Number of matches 2000\n",
            "Number of matches After Lowe's Ratio 464\n",
            "Number of Robust matches 168\n",
            "\n",
            "\n"
          ],
          "name": "stdout"
        },
        {
          "output_type": "stream",
          "text": [
            "\r 18%|█▊        | 11/60 [00:04<00:20,  2.45it/s]"
          ],
          "name": "stderr"
        },
        {
          "output_type": "stream",
          "text": [
            "\n",
            "Number of matches 2000\n",
            "Number of matches After Lowe's Ratio 209\n",
            "Number of Robust matches 13\n",
            "\n",
            "\n",
            "Number of matches After Lowe's Ratio New 98\n",
            "Number of Robust matches New 11\n",
            "\n",
            "\n"
          ],
          "name": "stdout"
        },
        {
          "output_type": "stream",
          "text": [
            "\r 20%|██        | 12/60 [00:04<00:19,  2.51it/s]"
          ],
          "name": "stderr"
        },
        {
          "output_type": "stream",
          "text": [
            "\n",
            "Number of matches 2000\n",
            "Number of matches After Lowe's Ratio 306\n",
            "Number of Robust matches 95\n",
            "\n",
            "\n"
          ],
          "name": "stdout"
        },
        {
          "output_type": "stream",
          "text": [
            "\r 22%|██▏       | 13/60 [00:05<00:18,  2.55it/s]"
          ],
          "name": "stderr"
        },
        {
          "output_type": "stream",
          "text": [
            "\n",
            "Number of matches 2000\n",
            "Number of matches After Lowe's Ratio 478\n",
            "Number of Robust matches 172\n",
            "\n",
            "\n"
          ],
          "name": "stdout"
        },
        {
          "output_type": "stream",
          "text": [
            "\r 23%|██▎       | 14/60 [00:05<00:18,  2.54it/s]"
          ],
          "name": "stderr"
        },
        {
          "output_type": "stream",
          "text": [
            "\n",
            "Number of matches 2000\n",
            "Number of matches After Lowe's Ratio 455\n",
            "Number of Robust matches 118\n",
            "\n",
            "\n"
          ],
          "name": "stdout"
        },
        {
          "output_type": "stream",
          "text": [
            "\r 25%|██▌       | 15/60 [00:05<00:17,  2.55it/s]"
          ],
          "name": "stderr"
        },
        {
          "output_type": "stream",
          "text": [
            "\n",
            "Number of matches 2000\n",
            "Number of matches After Lowe's Ratio 415\n",
            "Number of Robust matches 95\n",
            "\n",
            "\n"
          ],
          "name": "stdout"
        },
        {
          "output_type": "stream",
          "text": [
            "\r 27%|██▋       | 16/60 [00:06<00:17,  2.51it/s]"
          ],
          "name": "stderr"
        },
        {
          "output_type": "stream",
          "text": [
            "\n",
            "Number of matches 2000\n",
            "Number of matches After Lowe's Ratio 403\n",
            "Number of Robust matches 86\n",
            "\n",
            "\n"
          ],
          "name": "stdout"
        },
        {
          "output_type": "stream",
          "text": [
            "\r 28%|██▊       | 17/60 [00:06<00:17,  2.45it/s]"
          ],
          "name": "stderr"
        },
        {
          "output_type": "stream",
          "text": [
            "\n",
            "Number of matches 2000\n",
            "Number of matches After Lowe's Ratio 289\n",
            "Number of Robust matches 44\n",
            "\n",
            "\n"
          ],
          "name": "stdout"
        },
        {
          "output_type": "stream",
          "text": [
            "\r 30%|███       | 18/60 [00:07<00:16,  2.51it/s]"
          ],
          "name": "stderr"
        },
        {
          "output_type": "stream",
          "text": [
            "\n",
            "Number of matches 2000\n",
            "Number of matches After Lowe's Ratio 238\n",
            "Number of Robust matches 63\n",
            "\n",
            "\n"
          ],
          "name": "stdout"
        },
        {
          "output_type": "stream",
          "text": [
            "\r 32%|███▏      | 19/60 [00:07<00:17,  2.40it/s]"
          ],
          "name": "stderr"
        },
        {
          "output_type": "stream",
          "text": [
            "\n",
            "Number of matches 2000\n",
            "Number of matches After Lowe's Ratio 194\n",
            "Number of Robust matches 14\n",
            "\n",
            "\n",
            "Number of matches After Lowe's Ratio New 72\n",
            "Number of Robust matches New 10\n",
            "\n",
            "\n"
          ],
          "name": "stdout"
        },
        {
          "output_type": "stream",
          "text": [
            "\r 33%|███▎      | 20/60 [00:08<00:16,  2.44it/s]"
          ],
          "name": "stderr"
        },
        {
          "output_type": "stream",
          "text": [
            "\n",
            "Number of matches 2000\n",
            "Number of matches After Lowe's Ratio 307\n",
            "Number of Robust matches 57\n",
            "\n",
            "\n"
          ],
          "name": "stdout"
        },
        {
          "output_type": "stream",
          "text": [
            "\r 35%|███▌      | 21/60 [00:08<00:15,  2.46it/s]"
          ],
          "name": "stderr"
        },
        {
          "output_type": "stream",
          "text": [
            "\n",
            "Number of matches 2000\n",
            "Number of matches After Lowe's Ratio 410\n",
            "Number of Robust matches 117\n",
            "\n",
            "\n"
          ],
          "name": "stdout"
        },
        {
          "output_type": "stream",
          "text": [
            "\r 37%|███▋      | 22/60 [00:08<00:14,  2.55it/s]"
          ],
          "name": "stderr"
        },
        {
          "output_type": "stream",
          "text": [
            "\n",
            "Number of matches 2000\n",
            "Number of matches After Lowe's Ratio 383\n",
            "Number of Robust matches 115\n",
            "\n",
            "\n"
          ],
          "name": "stdout"
        },
        {
          "output_type": "stream",
          "text": [
            "\r 38%|███▊      | 23/60 [00:09<00:14,  2.56it/s]"
          ],
          "name": "stderr"
        },
        {
          "output_type": "stream",
          "text": [
            "\n",
            "Number of matches 2000\n",
            "Number of matches After Lowe's Ratio 495\n",
            "Number of Robust matches 141\n",
            "\n",
            "\n"
          ],
          "name": "stdout"
        },
        {
          "output_type": "stream",
          "text": [
            "\r 40%|████      | 24/60 [00:09<00:13,  2.59it/s]"
          ],
          "name": "stderr"
        },
        {
          "output_type": "stream",
          "text": [
            "\n",
            "Number of matches 2000\n",
            "Number of matches After Lowe's Ratio 470\n",
            "Number of Robust matches 156\n",
            "\n",
            "\n"
          ],
          "name": "stdout"
        },
        {
          "output_type": "stream",
          "text": [
            "\r 42%|████▏     | 25/60 [00:09<00:13,  2.62it/s]"
          ],
          "name": "stderr"
        },
        {
          "output_type": "stream",
          "text": [
            "\n",
            "Number of matches 2000\n",
            "Number of matches After Lowe's Ratio 523\n",
            "Number of Robust matches 171\n",
            "\n",
            "\n"
          ],
          "name": "stdout"
        },
        {
          "output_type": "stream",
          "text": [
            "\r 43%|████▎     | 26/60 [00:10<00:12,  2.69it/s]"
          ],
          "name": "stderr"
        },
        {
          "output_type": "stream",
          "text": [
            "\n",
            "Number of matches 2000\n",
            "Number of matches After Lowe's Ratio 372\n",
            "Number of Robust matches 128\n",
            "\n",
            "\n"
          ],
          "name": "stdout"
        },
        {
          "output_type": "stream",
          "text": [
            "\r 45%|████▌     | 27/60 [00:10<00:13,  2.50it/s]"
          ],
          "name": "stderr"
        },
        {
          "output_type": "stream",
          "text": [
            "\n",
            "Number of matches 2000\n",
            "Number of matches After Lowe's Ratio 214\n",
            "Number of Robust matches 14\n",
            "\n",
            "\n",
            "Number of matches After Lowe's Ratio New 73\n",
            "Number of Robust matches New 14\n",
            "\n",
            "\n"
          ],
          "name": "stdout"
        },
        {
          "output_type": "stream",
          "text": [
            "\r 47%|████▋     | 28/60 [00:11<00:12,  2.57it/s]"
          ],
          "name": "stderr"
        },
        {
          "output_type": "stream",
          "text": [
            "\n",
            "Number of matches 2000\n",
            "Number of matches After Lowe's Ratio 245\n",
            "Number of Robust matches 69\n",
            "\n",
            "\n"
          ],
          "name": "stdout"
        },
        {
          "output_type": "stream",
          "text": [
            "\r 48%|████▊     | 29/60 [00:11<00:11,  2.62it/s]"
          ],
          "name": "stderr"
        },
        {
          "output_type": "stream",
          "text": [
            "\n",
            "Number of matches 2000\n",
            "Number of matches After Lowe's Ratio 499\n",
            "Number of Robust matches 154\n",
            "\n",
            "\n"
          ],
          "name": "stdout"
        },
        {
          "output_type": "stream",
          "text": [
            "\r 50%|█████     | 30/60 [00:11<00:11,  2.65it/s]"
          ],
          "name": "stderr"
        },
        {
          "output_type": "stream",
          "text": [
            "\n",
            "Number of matches 2000\n",
            "Number of matches After Lowe's Ratio 554\n",
            "Number of Robust matches 161\n",
            "\n",
            "\n"
          ],
          "name": "stdout"
        },
        {
          "output_type": "stream",
          "text": [
            "\r 52%|█████▏    | 31/60 [00:12<00:10,  2.67it/s]"
          ],
          "name": "stderr"
        },
        {
          "output_type": "stream",
          "text": [
            "\n",
            "Number of matches 2000\n",
            "Number of matches After Lowe's Ratio 402\n",
            "Number of Robust matches 109\n",
            "\n",
            "\n"
          ],
          "name": "stdout"
        },
        {
          "output_type": "stream",
          "text": [
            "\r 53%|█████▎    | 32/60 [00:12<00:10,  2.65it/s]"
          ],
          "name": "stderr"
        },
        {
          "output_type": "stream",
          "text": [
            "\n",
            "Number of matches 2000\n",
            "Number of matches After Lowe's Ratio 415\n",
            "Number of Robust matches 112\n",
            "\n",
            "\n"
          ],
          "name": "stdout"
        },
        {
          "output_type": "stream",
          "text": [
            "\r 55%|█████▌    | 33/60 [00:12<00:10,  2.70it/s]"
          ],
          "name": "stderr"
        },
        {
          "output_type": "stream",
          "text": [
            "\n",
            "Number of matches 2000\n",
            "Number of matches After Lowe's Ratio 473\n",
            "Number of Robust matches 158\n",
            "\n",
            "\n"
          ],
          "name": "stdout"
        },
        {
          "output_type": "stream",
          "text": [
            "\r 57%|█████▋    | 34/60 [00:13<00:10,  2.60it/s]"
          ],
          "name": "stderr"
        },
        {
          "output_type": "stream",
          "text": [
            "\n",
            "Number of matches 2000\n",
            "Number of matches After Lowe's Ratio 327\n",
            "Number of Robust matches 75\n",
            "\n",
            "\n"
          ],
          "name": "stdout"
        },
        {
          "output_type": "stream",
          "text": [
            "\r 58%|█████▊    | 35/60 [00:14<00:11,  2.10it/s]"
          ],
          "name": "stderr"
        },
        {
          "output_type": "stream",
          "text": [
            "\n",
            "Number of matches 2000\n",
            "Number of matches After Lowe's Ratio 194\n",
            "Number of Robust matches 18\n",
            "\n",
            "\n",
            "Number of matches After Lowe's Ratio New 84\n",
            "Number of Robust matches New 14\n",
            "\n",
            "\n"
          ],
          "name": "stdout"
        },
        {
          "output_type": "stream",
          "text": [
            "\r 60%|██████    | 36/60 [00:14<00:11,  2.02it/s]"
          ],
          "name": "stderr"
        },
        {
          "output_type": "stream",
          "text": [
            "\n",
            "Number of matches 2001\n",
            "Number of matches After Lowe's Ratio 334\n",
            "Number of Robust matches 57\n",
            "\n",
            "\n"
          ],
          "name": "stdout"
        },
        {
          "output_type": "stream",
          "text": [
            "\r 62%|██████▏   | 37/60 [00:15<00:11,  2.01it/s]"
          ],
          "name": "stderr"
        },
        {
          "output_type": "stream",
          "text": [
            "\n",
            "Number of matches 2000\n",
            "Number of matches After Lowe's Ratio 407\n",
            "Number of Robust matches 115\n",
            "\n",
            "\n"
          ],
          "name": "stdout"
        },
        {
          "output_type": "stream",
          "text": [
            "\r 63%|██████▎   | 38/60 [00:15<00:11,  1.98it/s]"
          ],
          "name": "stderr"
        },
        {
          "output_type": "stream",
          "text": [
            "\n",
            "Number of matches 2001\n",
            "Number of matches After Lowe's Ratio 435\n",
            "Number of Robust matches 111\n",
            "\n",
            "\n"
          ],
          "name": "stdout"
        },
        {
          "output_type": "stream",
          "text": [
            "\r 65%|██████▌   | 39/60 [00:16<00:10,  2.00it/s]"
          ],
          "name": "stderr"
        },
        {
          "output_type": "stream",
          "text": [
            "\n",
            "Number of matches 2000\n",
            "Number of matches After Lowe's Ratio 508\n",
            "Number of Robust matches 151\n",
            "\n",
            "\n"
          ],
          "name": "stdout"
        },
        {
          "output_type": "stream",
          "text": [
            "\r 67%|██████▋   | 40/60 [00:16<00:09,  2.06it/s]"
          ],
          "name": "stderr"
        },
        {
          "output_type": "stream",
          "text": [
            "\n",
            "Number of matches 2001\n",
            "Number of matches After Lowe's Ratio 585\n",
            "Number of Robust matches 274\n",
            "\n",
            "\n"
          ],
          "name": "stdout"
        },
        {
          "output_type": "stream",
          "text": [
            "\r 68%|██████▊   | 41/60 [00:17<00:09,  2.09it/s]"
          ],
          "name": "stderr"
        },
        {
          "output_type": "stream",
          "text": [
            "\n",
            "Number of matches 2000\n",
            "Number of matches After Lowe's Ratio 250\n",
            "Number of Robust matches 70\n",
            "\n",
            "\n"
          ],
          "name": "stdout"
        },
        {
          "output_type": "stream",
          "text": [
            "\r 70%|███████   | 42/60 [00:17<00:08,  2.02it/s]"
          ],
          "name": "stderr"
        },
        {
          "output_type": "stream",
          "text": [
            "\n",
            "Number of matches 2000\n",
            "Number of matches After Lowe's Ratio 140\n",
            "Number of Robust matches 25\n",
            "\n",
            "\n"
          ],
          "name": "stdout"
        },
        {
          "output_type": "stream",
          "text": [
            "\r 72%|███████▏  | 43/60 [00:17<00:07,  2.15it/s]"
          ],
          "name": "stderr"
        },
        {
          "output_type": "stream",
          "text": [
            "\n",
            "Number of matches 2000\n",
            "Number of matches After Lowe's Ratio 58\n",
            "Number of Robust matches 31\n",
            "\n",
            "\n"
          ],
          "name": "stdout"
        },
        {
          "output_type": "stream",
          "text": [
            "\r 73%|███████▎  | 44/60 [00:18<00:07,  2.04it/s]"
          ],
          "name": "stderr"
        },
        {
          "output_type": "stream",
          "text": [
            "\n",
            "Number of matches 2000\n",
            "Number of matches After Lowe's Ratio 215\n",
            "Number of Robust matches 39\n",
            "\n",
            "\n"
          ],
          "name": "stdout"
        },
        {
          "output_type": "stream",
          "text": [
            "\r 75%|███████▌  | 45/60 [00:18<00:07,  2.08it/s]"
          ],
          "name": "stderr"
        },
        {
          "output_type": "stream",
          "text": [
            "\n",
            "Number of matches 2000\n",
            "Number of matches After Lowe's Ratio 366\n",
            "Number of Robust matches 147\n",
            "\n",
            "\n"
          ],
          "name": "stdout"
        },
        {
          "output_type": "stream",
          "text": [
            "\r 77%|███████▋  | 46/60 [00:19<00:06,  2.11it/s]"
          ],
          "name": "stderr"
        },
        {
          "output_type": "stream",
          "text": [
            "\n",
            "Number of matches 2001\n",
            "Number of matches After Lowe's Ratio 477\n",
            "Number of Robust matches 133\n",
            "\n",
            "\n"
          ],
          "name": "stdout"
        },
        {
          "output_type": "stream",
          "text": [
            "\r 78%|███████▊  | 47/60 [00:19<00:06,  2.08it/s]"
          ],
          "name": "stderr"
        },
        {
          "output_type": "stream",
          "text": [
            "\n",
            "Number of matches 2000\n",
            "Number of matches After Lowe's Ratio 417\n",
            "Number of Robust matches 93\n",
            "\n",
            "\n"
          ],
          "name": "stdout"
        },
        {
          "output_type": "stream",
          "text": [
            "\r 80%|████████  | 48/60 [00:20<00:06,  2.00it/s]"
          ],
          "name": "stderr"
        },
        {
          "output_type": "stream",
          "text": [
            "\n",
            "Number of matches 2000\n",
            "Number of matches After Lowe's Ratio 395\n",
            "Number of Robust matches 84\n",
            "\n",
            "\n"
          ],
          "name": "stdout"
        },
        {
          "output_type": "stream",
          "text": [
            "\r 82%|████████▏ | 49/60 [00:21<00:05,  1.86it/s]"
          ],
          "name": "stderr"
        },
        {
          "output_type": "stream",
          "text": [
            "\n",
            "Number of matches 2000\n",
            "Number of matches After Lowe's Ratio 223\n",
            "Number of Robust matches 11\n",
            "\n",
            "\n",
            "Number of matches After Lowe's Ratio New 97\n",
            "Number of Robust matches New 11\n",
            "\n",
            "\n"
          ],
          "name": "stdout"
        },
        {
          "output_type": "stream",
          "text": [
            "\r 83%|████████▎ | 50/60 [00:21<00:05,  1.87it/s]"
          ],
          "name": "stderr"
        },
        {
          "output_type": "stream",
          "text": [
            "\n",
            "Number of matches 2000\n",
            "Number of matches After Lowe's Ratio 175\n",
            "Number of Robust matches 30\n",
            "\n",
            "\n"
          ],
          "name": "stdout"
        },
        {
          "output_type": "stream",
          "text": [
            "\r 85%|████████▌ | 51/60 [00:22<00:05,  1.77it/s]"
          ],
          "name": "stderr"
        },
        {
          "output_type": "stream",
          "text": [
            "\n",
            "Number of matches 2000\n",
            "Number of matches After Lowe's Ratio 179\n",
            "Number of Robust matches 11\n",
            "\n",
            "\n",
            "Number of matches After Lowe's Ratio New 68\n",
            "Number of Robust matches New 11\n",
            "\n",
            "\n"
          ],
          "name": "stdout"
        },
        {
          "output_type": "stream",
          "text": [
            "\r 87%|████████▋ | 52/60 [00:22<00:04,  1.84it/s]"
          ],
          "name": "stderr"
        },
        {
          "output_type": "stream",
          "text": [
            "\n",
            "Number of matches 2000\n",
            "Number of matches After Lowe's Ratio 306\n",
            "Number of Robust matches 35\n",
            "\n",
            "\n"
          ],
          "name": "stdout"
        },
        {
          "output_type": "stream",
          "text": [
            "\r 88%|████████▊ | 53/60 [00:23<00:03,  1.88it/s]"
          ],
          "name": "stderr"
        },
        {
          "output_type": "stream",
          "text": [
            "\n",
            "Number of matches 2000\n",
            "Number of matches After Lowe's Ratio 369\n",
            "Number of Robust matches 52\n",
            "\n",
            "\n"
          ],
          "name": "stdout"
        },
        {
          "output_type": "stream",
          "text": [
            "\r 90%|█████████ | 54/60 [00:23<00:03,  1.97it/s]"
          ],
          "name": "stderr"
        },
        {
          "output_type": "stream",
          "text": [
            "\n",
            "Number of matches 2000\n",
            "Number of matches After Lowe's Ratio 484\n",
            "Number of Robust matches 151\n",
            "\n",
            "\n"
          ],
          "name": "stdout"
        },
        {
          "output_type": "stream",
          "text": [
            "\r 92%|█████████▏| 55/60 [00:24<00:02,  2.00it/s]"
          ],
          "name": "stderr"
        },
        {
          "output_type": "stream",
          "text": [
            "\n",
            "Number of matches 2000\n",
            "Number of matches After Lowe's Ratio 509\n",
            "Number of Robust matches 161\n",
            "\n",
            "\n"
          ],
          "name": "stdout"
        },
        {
          "output_type": "stream",
          "text": [
            "\r 93%|█████████▎| 56/60 [00:24<00:01,  2.03it/s]"
          ],
          "name": "stderr"
        },
        {
          "output_type": "stream",
          "text": [
            "\n",
            "Number of matches 2000\n",
            "Number of matches After Lowe's Ratio 506\n",
            "Number of Robust matches 210\n",
            "\n",
            "\n"
          ],
          "name": "stdout"
        },
        {
          "output_type": "stream",
          "text": [
            "\r 95%|█████████▌| 57/60 [00:25<00:01,  2.09it/s]"
          ],
          "name": "stderr"
        },
        {
          "output_type": "stream",
          "text": [
            "\n",
            "Number of matches 2002\n",
            "Number of matches After Lowe's Ratio 366\n",
            "Number of Robust matches 166\n",
            "\n",
            "\n"
          ],
          "name": "stdout"
        },
        {
          "output_type": "stream",
          "text": [
            "\r 97%|█████████▋| 58/60 [00:25<00:00,  2.12it/s]"
          ],
          "name": "stderr"
        },
        {
          "output_type": "stream",
          "text": [
            "\n",
            "Number of matches 2000\n",
            "Number of matches After Lowe's Ratio 268\n",
            "Number of Robust matches 89\n",
            "\n",
            "\n"
          ],
          "name": "stdout"
        },
        {
          "output_type": "stream",
          "text": [
            "\r 98%|█████████▊| 59/60 [00:26<00:00,  1.95it/s]"
          ],
          "name": "stderr"
        },
        {
          "output_type": "stream",
          "text": [
            "\n",
            "Number of matches 2000\n",
            "Number of matches After Lowe's Ratio 177\n",
            "Number of Robust matches 17\n",
            "\n",
            "\n",
            "Number of matches After Lowe's Ratio New 61\n",
            "Number of Robust matches New 13\n",
            "\n",
            "\n"
          ],
          "name": "stdout"
        }
      ]
    },
    {
      "cell_type": "code",
      "metadata": {
        "id": "rbmBqPPoMPXn",
        "colab": {
          "base_uri": "https://localhost:8080/"
        },
        "outputId": "ec3375e5-fac7-4c91-d1c9-acf71a89811b"
      },
      "source": [
        "\n",
        "import h5py as h5\n",
        "f=h5.File('drive/MyDrive/H_left_daisy_40.h5','w')\n",
        "t0=time.time()\n",
        "f.create_dataset('data',data=H_left_daisy)\n",
        "f.close()\n",
        "print('HDF5  w/o comp.:',time.time()-t0,'[s] ... size',os.path.getsize('drive/MyDrive/H_left_daisy_40.h5')/1.e6,'MB')"
      ],
      "execution_count": 85,
      "outputs": [
        {
          "output_type": "stream",
          "text": [
            "HDF5  w/o comp.: 0.009500980377197266 [s] ... size 0.006368 MB\n"
          ],
          "name": "stdout"
        }
      ]
    },
    {
      "cell_type": "code",
      "metadata": {
        "id": "k7kN0xeSMcJD",
        "colab": {
          "base_uri": "https://localhost:8080/"
        },
        "outputId": "fdb26968-d172-42b4-cf21-49320fbacbcc"
      },
      "source": [
        "\n",
        "import h5py as h5\n",
        "f=h5.File('drive/MyDrive/H_right_daisy_40.h5','w')\n",
        "t0=time.time()\n",
        "f.create_dataset('data',data=H_right_daisy)\n",
        "f.close()\n",
        "print('HDF5  w/o comp.:',time.time()-t0,'[s] ... size',os.path.getsize('drive/MyDrive/H_right_daisy_40.h5')/1.e6,'MB')"
      ],
      "execution_count": 86,
      "outputs": [
        {
          "output_type": "stream",
          "text": [
            "HDF5  w/o comp.: 0.0050928592681884766 [s] ... size 0.006296 MB\n"
          ],
          "name": "stdout"
        }
      ]
    },
    {
      "cell_type": "code",
      "metadata": {
        "id": "iJz1GnPlMcFv"
      },
      "source": [
        "\n",
        "del H_left_daisy, H_right_daisy,keypoints_all_left_daisy, keypoints_all_right_daisy, descriptors_all_left_daisy, descriptors_all_right_daisy, points_all_left_daisy, points_all_right_daisy"
      ],
      "execution_count": 87,
      "outputs": []
    },
    {
      "cell_type": "code",
      "metadata": {
        "id": "lBhvFt7CMcAe"
      },
      "source": [
        ""
      ],
      "execution_count": null,
      "outputs": []
    },
    {
      "cell_type": "code",
      "metadata": {
        "id": "u1uKem3vMb7M"
      },
      "source": [
        "'''\n",
        "import pickle\n",
        "Fdb = open('all_feat_freak_left.dat', 'rb')\n",
        "kpts_all = pickle.load(Fdb)\n",
        "Fdb.close()\n",
        "\n",
        "keypoints_all_left_freak = []\n",
        "descriptors_all_left_freak = []\n",
        "\n",
        "for j,kpt_each in enumerate(kpts_all):\n",
        "  keypoints_each = []\n",
        "  descrip_each = []\n",
        "  for k,kpt_img in enumerate(kpt_each):\n",
        "    temp_feature = cv2.KeyPoint(x=kpt_img[0][0],y=kpt_img[0][1],_size=kpt_img[1], _angle=kpt_img[2], \n",
        "                            _response=kpt_img[3], _octave=kpt_img[4], _class_id=kpt_img[5]) \n",
        "    temp_descriptor = kpt_img[6]\n",
        "    keypoints_each.append(temp_feature)\n",
        "    descrip_each.append(temp_descriptor)\n",
        "  points_all_left_freak.append(np.asarray([[p.pt[0], p.pt[1]] for p in keypoints_each]))\n",
        "  keypoints_all_left_freak.append(keypoints_each)\n",
        "  descriptors_all_left_freak.append(descrip_each)"
      ],
      "execution_count": null,
      "outputs": []
    },
    {
      "cell_type": "code",
      "metadata": {
        "id": "vCTwXuf6Mb0W"
      },
      "source": [
        "'''\n",
        "import pickle\n",
        "Fdb = open('all_feat_freak_right.dat', 'rb')\n",
        "kpts_all = pickle.load(Fdb)\n",
        "Fdb.close()\n",
        "\n",
        "keypoints_all_right_freak = []\n",
        "descriptors_all_right_freak = []\n",
        "\n",
        "for j,kpt_each in enumerate(kpts_all):\n",
        "  keypoints_each = []\n",
        "  descrip_each = []\n",
        "  for k,kpt_img in enumerate(kpt_each):\n",
        "    temp_feature = cv2.KeyPoint(x=kpt_img[0][0],y=kpt_img[0][1],_size=kpt_img[1], _angle=kpt_img[2], \n",
        "                            _response=kpt_img[3], _octave=kpt_img[4], _class_id=kpt_img[5]) \n",
        "    temp_descriptor = kpt_img[6]\n",
        "    keypoints_each.append(temp_feature)\n",
        "    descrip_each.append(temp_descriptor)\n",
        "  points_all_right_freak.append(np.asarray([[p.pt[0], p.pt[1]] for p in keypoints_each]))\n",
        "  keypoints_all_right_freak.append(keypoints_each)\n",
        "  descriptors_all_right_freak.append(descrip_each)"
      ],
      "execution_count": null,
      "outputs": []
    },
    {
      "cell_type": "code",
      "metadata": {
        "id": "nojIEqNvMm0b"
      },
      "source": [
        "'''\n",
        "H_left_freak = []\n",
        "H_right_freak = []\n",
        "\n",
        "num_matches_freak = []\n",
        "num_good_matches_freak = []\n",
        "\n",
        "for j in tqdm(range(len(left_files_path))):\n",
        "  if j==len(left_files_path)-1:\n",
        "    break\n",
        "\n",
        "  H_a,matches,gd_matches = get_Hmatrix(images_left_bgr[j:j+2][::-1],keypoints_all_left_freak[j:j+2][::-1],points_all_left_freak[j:j+2][::-1],descriptors_all_left_freak[j:j+2][::-1],0.7,6)\n",
        "  H_left_freak.append(H_a)\n",
        "  num_matches_freak.append(matches)\n",
        "  num_good_matches_freak.append(gd_matches)\n",
        "\n",
        "for j in tqdm(range(len(right_files_path))):\n",
        "  if j==len(right_files_path)-1:\n",
        "    break\n",
        "\n",
        "  H_a,matches,gd_matches = get_Hmatrix(images_right_bgr[j:j+2][::-1],keypoints_all_right_freak[j:j+2][::-1],points_all_right_freak[j:j+2][::-1],descriptors_all_right_freak[j:j+2][::-1],0.7,6)\n",
        "  H_right_freak.append(H_a)\n",
        "  num_matches_freak.append(matches)\n",
        "  num_good_matches_freak.append(gd_matches)"
      ],
      "execution_count": null,
      "outputs": []
    },
    {
      "cell_type": "code",
      "metadata": {
        "id": "QWtrnneyMmwE"
      },
      "source": [
        "'''\n",
        "import h5py as h5\n",
        "f=h5.File('drive/MyDrive/H_left_freak_40.h5','w')\n",
        "t0=time.time()\n",
        "f.create_dataset('data',data=H_left_freak)\n",
        "f.close()\n",
        "print('HDF5  w/o comp.:',time.time()-t0,'[s] ... size',os.path.getsize('drive/MyDrive/H_left_freak_40.h5')/1.e6,'MB')"
      ],
      "execution_count": null,
      "outputs": []
    },
    {
      "cell_type": "code",
      "metadata": {
        "id": "cGRvI_mjMmqY"
      },
      "source": [
        "'''\n",
        "import h5py as h5\n",
        "f=h5.File('drive/MyDrive/H_right_freak_40.h5','w')\n",
        "t0=time.time()\n",
        "f.create_dataset('data',data=H_right_freak)\n",
        "f.close()\n",
        "print('HDF5  w/o comp.:',time.time()-t0,'[s] ... size',os.path.getsize('drive/MyDrive/H_right_freak_40.h5')/1.e6,'MB')"
      ],
      "execution_count": null,
      "outputs": []
    },
    {
      "cell_type": "code",
      "metadata": {
        "id": "iM9RneyGMml4"
      },
      "source": [
        "'''\n",
        "del H_left_freak, H_right_freak,keypoints_all_left_freak, keypoints_all_right_freak, descriptors_all_left_freak, descriptors_all_right_freak, points_all_left_freak, points_all_right_freak"
      ],
      "execution_count": null,
      "outputs": []
    },
    {
      "cell_type": "code",
      "metadata": {
        "id": "9XtCEAI_MmhW"
      },
      "source": [
        ""
      ],
      "execution_count": null,
      "outputs": []
    },
    {
      "cell_type": "code",
      "metadata": {
        "id": "JSA_55TFMmaa"
      },
      "source": [
        "'''\n",
        "import pickle\n",
        "Fdb = open('all_feat_surf_left.dat', 'rb')\n",
        "kpts_all = pickle.load(Fdb)\n",
        "Fdb.close()\n",
        "\n",
        "keypoints_all_left_surf = []\n",
        "descriptors_all_left_surf = []\n",
        "\n",
        "for j,kpt_each in enumerate(kpts_all):\n",
        "  keypoints_each = []\n",
        "  descrip_each = []\n",
        "  for k,kpt_img in enumerate(kpt_each):\n",
        "    temp_feature = cv2.KeyPoint(x=kpt_img[0][0],y=kpt_img[0][1],_size=kpt_img[1], _angle=kpt_img[2], \n",
        "                            _response=kpt_img[3], _octave=kpt_img[4], _class_id=kpt_img[5]) \n",
        "    temp_descriptor = kpt_img[6]\n",
        "    keypoints_each.append(temp_feature)\n",
        "    descrip_each.append(temp_descriptor)\n",
        "  points_all_left_surf.append(np.asarray([[p.pt[0], p.pt[1]] for p in keypoints_each]))\n",
        "  keypoints_all_left_surf.append(keypoints_each)\n",
        "  descriptors_all_left_surf.append(descrip_each)"
      ],
      "execution_count": null,
      "outputs": []
    },
    {
      "cell_type": "code",
      "metadata": {
        "id": "FPc9Ec71M1bH"
      },
      "source": [
        "'''\n",
        "import pickle\n",
        "Fdb = open('all_feat_surf_right.dat', 'rb')\n",
        "kpts_all = pickle.load(Fdb)\n",
        "Fdb.close()\n",
        "\n",
        "keypoints_all_right_surf = []\n",
        "descriptors_all_right_surf = []\n",
        "\n",
        "for j,kpt_each in enumerate(kpts_all):\n",
        "  keypoints_each = []\n",
        "  descrip_each = []\n",
        "  for k,kpt_img in enumerate(kpt_each):\n",
        "    temp_feature = cv2.KeyPoint(x=kpt_img[0][0],y=kpt_img[0][1],_size=kpt_img[1], _angle=kpt_img[2], \n",
        "                            _response=kpt_img[3], _octave=kpt_img[4], _class_id=kpt_img[5]) \n",
        "    temp_descriptor = kpt_img[6]\n",
        "    keypoints_each.append(temp_feature)\n",
        "    descrip_each.append(temp_descriptor)\n",
        "  points_all_right_surf.append(np.asarray([[p.pt[0], p.pt[1]] for p in keypoints_each]))\n",
        "  keypoints_all_right_surf.append(keypoints_each)\n",
        "  descriptors_all_right_surf.append(descrip_each)"
      ],
      "execution_count": null,
      "outputs": []
    },
    {
      "cell_type": "code",
      "metadata": {
        "id": "fL8Xcg9kM1V6"
      },
      "source": [
        "'''\n",
        "H_left_surf = []\n",
        "H_right_surf = []\n",
        "\n",
        "num_matches_surf = []\n",
        "num_good_matches_surf = []\n",
        "\n",
        "for j in tqdm(range(len(left_files_path))):\n",
        "  if j==len(left_files_path)-1:\n",
        "    break\n",
        "\n",
        "  H_a,matches,gd_matches = get_Hmatrix(images_left_bgr[j:j+2][::-1],keypoints_all_left_surf[j:j+2][::-1],points_all_left_surf[j:j+2][::-1],descriptors_all_left_surf[j:j+2][::-1],0.65)\n",
        "  H_left_surf.append(H_a)\n",
        "  num_matches_surf.append(matches)\n",
        "  num_good_matches_surf.append(gd_matches)\n",
        "\n",
        "for j in tqdm(range(len(right_files_path))):\n",
        "  if j==len(right_files_path)-1:\n",
        "    break\n",
        "\n",
        "  H_a,matches,gd_matches = get_Hmatrix(images_right_bgr[j:j+2][::-1],keypoints_all_right_surf[j:j+2][::-1],points_all_right_surf[j:j+2][::-1],descriptors_all_right_surf[j:j+2][::-1],0.65)\n",
        "  H_right_surf.append(H_a)\n",
        "  num_matches_surf.append(matches)\n",
        "  num_good_matches_surf.append(gd_matches)"
      ],
      "execution_count": null,
      "outputs": []
    },
    {
      "cell_type": "code",
      "metadata": {
        "id": "gmxdDHHtM1RP"
      },
      "source": [
        "'''\n",
        "import h5py as h5\n",
        "f=h5.File('drive/MyDrive/H_left_surf_40.h5','w')\n",
        "t0=time.time()\n",
        "f.create_dataset('data',data=H_left_surf)\n",
        "f.close()\n",
        "print('HDF5  w/o comp.:',time.time()-t0,'[s] ... size',os.path.getsize('drive/MyDrive/H_left_surf_40.h5')/1.e6,'MB')"
      ],
      "execution_count": null,
      "outputs": []
    },
    {
      "cell_type": "code",
      "metadata": {
        "id": "kHnkqEQaM1GG"
      },
      "source": [
        "'''\n",
        "import h5py as h5\n",
        "f=h5.File('drive/MyDrive/H_right_surf_40.h5','w')\n",
        "t0=time.time()\n",
        "f.create_dataset('data',data=H_right_surf)\n",
        "f.close()\n",
        "print('HDF5  w/o comp.:',time.time()-t0,'[s] ... size',os.path.getsize('drive/MyDrive/H_right_surf_40.h5')/1.e6,'MB')"
      ],
      "execution_count": null,
      "outputs": []
    },
    {
      "cell_type": "code",
      "metadata": {
        "id": "IWnqIKCGM1CZ"
      },
      "source": [
        "'''\n",
        "del H_left_surf, H_right_surf,keypoints_all_left_surf, keypoints_all_right_surf, descriptors_all_left_surf, descriptors_all_right_surf, points_all_left_surf, points_all_right_surf"
      ],
      "execution_count": null,
      "outputs": []
    },
    {
      "cell_type": "code",
      "metadata": {
        "id": "qRiNLo19M0-z"
      },
      "source": [
        ""
      ],
      "execution_count": null,
      "outputs": []
    },
    {
      "cell_type": "code",
      "metadata": {
        "id": "rnE1eMQFM07J"
      },
      "source": [
        "'''\n",
        "import pickle\n",
        "Fdb = open('all_feat_rootsift_left.dat', 'rb')\n",
        "kpts_all = pickle.load(Fdb)\n",
        "Fdb.close()\n",
        "\n",
        "keypoints_all_left_rootsift = []\n",
        "descriptors_all_left_rootsift = []\n",
        "\n",
        "for j,kpt_each in enumerate(kpts_all):\n",
        "  keypoints_each = []\n",
        "  descrip_each = []\n",
        "  for k,kpt_img in enumerate(kpt_each):\n",
        "    temp_feature = cv2.KeyPoint(x=kpt_img[0][0],y=kpt_img[0][1],_size=kpt_img[1], _angle=kpt_img[2], \n",
        "                            _response=kpt_img[3], _octave=kpt_img[4], _class_id=kpt_img[5]) \n",
        "    temp_descriptor = kpt_img[6]\n",
        "    keypoints_each.append(temp_feature)\n",
        "    descrip_each.append(temp_descriptor)\n",
        "  points_all_left_rootsift.append(np.asarray([[p.pt[0], p.pt[1]] for p in keypoints_each]))\n",
        "  keypoints_all_left_rootsift.append(keypoints_each)\n",
        "  descriptors_all_left_rootsift.append(descrip_each)"
      ],
      "execution_count": null,
      "outputs": []
    },
    {
      "cell_type": "code",
      "metadata": {
        "id": "ho55GFaxM02H"
      },
      "source": [
        "'''\n",
        "import pickle\n",
        "Fdb = open('all_feat_rootsift_right.dat', 'rb')\n",
        "kpts_all = pickle.load(Fdb)\n",
        "Fdb.close()\n",
        "\n",
        "keypoints_all_right_rootsift = []\n",
        "descriptors_all_right_rootsift = []\n",
        "\n",
        "for j,kpt_each in enumerate(kpts_all):\n",
        "  keypoints_each = []\n",
        "  descrip_each = []\n",
        "  for k,kpt_img in enumerate(kpt_each):\n",
        "    temp_feature = cv2.KeyPoint(x=kpt_img[0][0],y=kpt_img[0][1],_size=kpt_img[1], _angle=kpt_img[2], \n",
        "                            _response=kpt_img[3], _octave=kpt_img[4], _class_id=kpt_img[5]) \n",
        "    temp_descriptor = kpt_img[6]\n",
        "    keypoints_each.append(temp_feature)\n",
        "    descrip_each.append(temp_descriptor)\n",
        "  points_all_right_rootsift.append(np.asarray([[p.pt[0], p.pt[1]] for p in keypoints_each]))\n",
        "  keypoints_all_right_rootsift.append(keypoints_each)\n",
        "  descriptors_all_right_rootsift.append(descrip_each)"
      ],
      "execution_count": null,
      "outputs": []
    },
    {
      "cell_type": "code",
      "metadata": {
        "id": "LFOkZhTNNBra",
        "colab": {
          "base_uri": "https://localhost:8080/"
        },
        "outputId": "a7ec5f56-f74a-4917-cc7a-aae5e58e44bc"
      },
      "source": [
        "\n",
        "H_left_rootsift = []\n",
        "H_right_rootsift = []\n",
        "\n",
        "num_matches_rootsift = []\n",
        "num_good_matches_rootsift = []\n",
        "\n",
        "for j in tqdm(range(len(left_files_path))):\n",
        "  if j==len(left_files_path)-1:\n",
        "    break\n",
        "\n",
        "  H_a,matches,gd_matches = get_Hmatrix(images_left_bgr[j:j+2][::-1],keypoints_all_left_rootsift[j:j+2][::-1],points_all_left_rootsift[j:j+2][::-1],descriptors_all_left_rootsift[j:j+2][::-1],0.9)\n",
        "  H_left_rootsift.append(H_a)\n",
        "  num_matches_rootsift.append(matches)\n",
        "  num_good_matches_rootsift.append(gd_matches)\n",
        "\n",
        "for j in tqdm(range(len(right_files_path))):\n",
        "  if j==len(right_files_path)-1:\n",
        "    break\n",
        "\n",
        "  H_a,matches,gd_matches = get_Hmatrix(images_right_bgr[j:j+2][::-1],keypoints_all_right_rootsift[j:j+2][::-1],points_all_right_rootsift[j:j+2][::-1],descriptors_all_right_rootsift[j:j+2][::-1],0.9)\n",
        "  H_right_rootsift.append(H_a)\n",
        "  num_matches_rootsift.append(matches)\n",
        "  num_good_matches_rootsift.append(gd_matches)"
      ],
      "execution_count": 52,
      "outputs": [
        {
          "output_type": "stream",
          "text": [
            "  2%|▏         | 1/61 [00:00<00:10,  5.96it/s]"
          ],
          "name": "stderr"
        },
        {
          "output_type": "stream",
          "text": [
            "\n",
            "Number of matches 1000\n",
            "Number of matches After Lowe's Ratio 289\n",
            "Number of Robust matches 43\n",
            "\n",
            "\n",
            "\n",
            "Number of matches 1000\n",
            "Number of matches After Lowe's Ratio 294\n"
          ],
          "name": "stdout"
        },
        {
          "output_type": "stream",
          "text": [
            "  5%|▍         | 3/61 [00:00<00:10,  5.75it/s]"
          ],
          "name": "stderr"
        },
        {
          "output_type": "stream",
          "text": [
            "Number of Robust matches 48\n",
            "\n",
            "\n",
            "\n",
            "Number of matches 1000\n",
            "Number of matches After Lowe's Ratio 295\n",
            "Number of Robust matches 39\n",
            "\n",
            "\n"
          ],
          "name": "stdout"
        },
        {
          "output_type": "stream",
          "text": [
            "\r  7%|▋         | 4/61 [00:00<00:09,  5.82it/s]"
          ],
          "name": "stderr"
        },
        {
          "output_type": "stream",
          "text": [
            "\n",
            "Number of matches 1000\n",
            "Number of matches After Lowe's Ratio 325\n",
            "Number of Robust matches 80\n",
            "\n",
            "\n",
            "\n",
            "Number of matches 1001\n",
            "Number of matches After Lowe's Ratio 275\n"
          ],
          "name": "stdout"
        },
        {
          "output_type": "stream",
          "text": [
            " 10%|▉         | 6/61 [00:01<00:08,  6.17it/s]"
          ],
          "name": "stderr"
        },
        {
          "output_type": "stream",
          "text": [
            "Number of Robust matches 50\n",
            "\n",
            "\n",
            "\n",
            "Number of matches 1000\n",
            "Number of matches After Lowe's Ratio 249\n",
            "Number of Robust matches 64\n",
            "\n",
            "\n"
          ],
          "name": "stdout"
        },
        {
          "output_type": "stream",
          "text": [
            " 13%|█▎        | 8/61 [00:01<00:08,  6.49it/s]"
          ],
          "name": "stderr"
        },
        {
          "output_type": "stream",
          "text": [
            "\n",
            "Number of matches 1000\n",
            "Number of matches After Lowe's Ratio 271\n",
            "Number of Robust matches 118\n",
            "\n",
            "\n",
            "\n",
            "Number of matches 1001\n",
            "Number of matches After Lowe's Ratio 257\n",
            "Number of Robust matches 65\n",
            "\n",
            "\n"
          ],
          "name": "stdout"
        },
        {
          "output_type": "stream",
          "text": [
            "\r 15%|█▍        | 9/61 [00:01<00:07,  6.86it/s]"
          ],
          "name": "stderr"
        },
        {
          "output_type": "stream",
          "text": [
            "\n",
            "Number of matches 1000\n",
            "Number of matches After Lowe's Ratio 316\n",
            "Number of Robust matches 97\n",
            "\n",
            "\n",
            "\n",
            "Number of matches 1000\n",
            "Number of matches After Lowe's Ratio 297\n"
          ],
          "name": "stdout"
        },
        {
          "output_type": "stream",
          "text": [
            " 18%|█▊        | 11/61 [00:01<00:08,  6.00it/s]"
          ],
          "name": "stderr"
        },
        {
          "output_type": "stream",
          "text": [
            "Number of Robust matches 53\n",
            "\n",
            "\n",
            "\n",
            "Number of matches 1000\n",
            "Number of matches After Lowe's Ratio 266\n",
            "Number of Robust matches 34\n",
            "\n",
            "\n"
          ],
          "name": "stdout"
        },
        {
          "output_type": "stream",
          "text": [
            "\r 20%|█▉        | 12/61 [00:01<00:08,  5.92it/s]"
          ],
          "name": "stderr"
        },
        {
          "output_type": "stream",
          "text": [
            "\n",
            "Number of matches 1000\n",
            "Number of matches After Lowe's Ratio 326\n",
            "Number of Robust matches 57\n",
            "\n",
            "\n",
            "\n",
            "Number of matches 1000\n",
            "Number of matches After Lowe's Ratio 167\n"
          ],
          "name": "stdout"
        },
        {
          "output_type": "stream",
          "text": [
            "\r 21%|██▏       | 13/61 [00:02<00:08,  5.83it/s]"
          ],
          "name": "stderr"
        },
        {
          "output_type": "stream",
          "text": [
            "Number of Robust matches 28\n",
            "\n",
            "\n",
            "\n",
            "Number of matches 1000\n",
            "Number of matches After Lowe's Ratio 124\n",
            "Number of Robust matches 7\n",
            "\n",
            "\n",
            "Number of matches After Lowe's Ratio New 37\n"
          ],
          "name": "stdout"
        },
        {
          "output_type": "stream",
          "text": [
            "\r 23%|██▎       | 14/61 [00:02<00:09,  5.00it/s]"
          ],
          "name": "stderr"
        },
        {
          "output_type": "stream",
          "text": [
            "Number of Robust matches New 7\n",
            "\n",
            "\n",
            "\n",
            "Number of matches 1000\n",
            "Number of matches After Lowe's Ratio 115\n",
            "Number of Robust matches 11\n",
            "\n",
            "\n",
            "Number of matches After Lowe's Ratio New 39\n"
          ],
          "name": "stdout"
        },
        {
          "output_type": "stream",
          "text": [
            " 26%|██▌       | 16/61 [00:02<00:08,  5.39it/s]"
          ],
          "name": "stderr"
        },
        {
          "output_type": "stream",
          "text": [
            "Number of Robust matches New 13\n",
            "\n",
            "\n",
            "\n",
            "Number of matches 1000\n",
            "Number of matches After Lowe's Ratio 280\n",
            "Number of Robust matches 63\n",
            "\n",
            "\n",
            "\n",
            "Number of matches 1000\n",
            "Number of matches After Lowe's Ratio 274\n"
          ],
          "name": "stdout"
        },
        {
          "output_type": "stream",
          "text": [
            " 30%|██▉       | 18/61 [00:03<00:07,  5.46it/s]"
          ],
          "name": "stderr"
        },
        {
          "output_type": "stream",
          "text": [
            "Number of Robust matches 53\n",
            "\n",
            "\n",
            "\n",
            "Number of matches 1001\n",
            "Number of matches After Lowe's Ratio 251\n",
            "Number of Robust matches 30\n",
            "\n",
            "\n"
          ],
          "name": "stdout"
        },
        {
          "output_type": "stream",
          "text": [
            "\r 31%|███       | 19/61 [00:03<00:08,  4.75it/s]"
          ],
          "name": "stderr"
        },
        {
          "output_type": "stream",
          "text": [
            "\n",
            "Number of matches 1000\n",
            "Number of matches After Lowe's Ratio 246\n",
            "Number of Robust matches 23\n",
            "\n",
            "\n",
            "Number of matches After Lowe's Ratio New 155\n",
            "Number of Robust matches New 27\n",
            "\n",
            "\n"
          ],
          "name": "stdout"
        },
        {
          "output_type": "stream",
          "text": [
            "\r 33%|███▎      | 20/61 [00:03<00:08,  4.91it/s]"
          ],
          "name": "stderr"
        },
        {
          "output_type": "stream",
          "text": [
            "\n",
            "Number of matches 1000\n",
            "Number of matches After Lowe's Ratio 253\n",
            "Number of Robust matches 46\n",
            "\n",
            "\n",
            "\n",
            "Number of matches 1000\n",
            "Number of matches After Lowe's Ratio 242\n"
          ],
          "name": "stdout"
        },
        {
          "output_type": "stream",
          "text": [
            " 36%|███▌      | 22/61 [00:03<00:06,  6.01it/s]"
          ],
          "name": "stderr"
        },
        {
          "output_type": "stream",
          "text": [
            "Number of Robust matches 62\n",
            "\n",
            "\n",
            "\n",
            "Number of matches 1000\n",
            "Number of matches After Lowe's Ratio 275\n",
            "Number of Robust matches 120\n",
            "\n",
            "\n"
          ],
          "name": "stdout"
        },
        {
          "output_type": "stream",
          "text": [
            " 39%|███▉      | 24/61 [00:04<00:05,  6.25it/s]"
          ],
          "name": "stderr"
        },
        {
          "output_type": "stream",
          "text": [
            "\n",
            "Number of matches 1001\n",
            "Number of matches After Lowe's Ratio 255\n",
            "Number of Robust matches 108\n",
            "\n",
            "\n",
            "\n",
            "Number of matches 1000\n",
            "Number of matches After Lowe's Ratio 234\n",
            "Number of Robust matches 36\n",
            "\n",
            "\n"
          ],
          "name": "stdout"
        },
        {
          "output_type": "stream",
          "text": [
            "\r 41%|████      | 25/61 [00:04<00:05,  6.03it/s]"
          ],
          "name": "stderr"
        },
        {
          "output_type": "stream",
          "text": [
            "\n",
            "Number of matches 1000\n",
            "Number of matches After Lowe's Ratio 255\n",
            "Number of Robust matches 31\n",
            "\n",
            "\n",
            "\n",
            "Number of matches 1000\n",
            "Number of matches After Lowe's Ratio 205\n"
          ],
          "name": "stdout"
        },
        {
          "output_type": "stream",
          "text": [
            "\r 43%|████▎     | 26/61 [00:04<00:06,  5.29it/s]"
          ],
          "name": "stderr"
        },
        {
          "output_type": "stream",
          "text": [
            "Number of Robust matches 13\n",
            "\n",
            "\n",
            "Number of matches After Lowe's Ratio New 95\n",
            "Number of Robust matches New 12\n",
            "\n",
            "\n",
            "\n",
            "Number of matches 1000\n",
            "Number of matches After Lowe's Ratio 281\n"
          ],
          "name": "stdout"
        },
        {
          "output_type": "stream",
          "text": [
            "\r 44%|████▍     | 27/61 [00:04<00:06,  5.39it/s]"
          ],
          "name": "stderr"
        },
        {
          "output_type": "stream",
          "text": [
            "Number of Robust matches 37\n",
            "\n",
            "\n",
            "\n",
            "Number of matches 1000\n",
            "Number of matches After Lowe's Ratio 176\n",
            "Number of Robust matches 14\n",
            "\n",
            "\n",
            "Number of matches After Lowe's Ratio New 85\n"
          ],
          "name": "stdout"
        },
        {
          "output_type": "stream",
          "text": [
            "\r 46%|████▌     | 28/61 [00:04<00:06,  4.98it/s]"
          ],
          "name": "stderr"
        },
        {
          "output_type": "stream",
          "text": [
            "Number of Robust matches New 16\n",
            "\n",
            "\n",
            "\n",
            "Number of matches 1000\n",
            "Number of matches After Lowe's Ratio 152\n",
            "Number of Robust matches 6\n",
            "\n",
            "\n",
            "Number of matches After Lowe's Ratio New 59\n"
          ],
          "name": "stdout"
        },
        {
          "output_type": "stream",
          "text": [
            "\r 48%|████▊     | 29/61 [00:05<00:06,  4.74it/s]"
          ],
          "name": "stderr"
        },
        {
          "output_type": "stream",
          "text": [
            "Number of Robust matches New 6\n",
            "\n",
            "\n",
            "\n",
            "Number of matches 1000\n",
            "Number of matches After Lowe's Ratio 155\n",
            "Number of Robust matches 8\n",
            "\n",
            "\n",
            "Number of matches After Lowe's Ratio New 60\n"
          ],
          "name": "stdout"
        },
        {
          "output_type": "stream",
          "text": [
            "\r 49%|████▉     | 30/61 [00:05<00:06,  4.47it/s]"
          ],
          "name": "stderr"
        },
        {
          "output_type": "stream",
          "text": [
            "Number of Robust matches New 12\n",
            "\n",
            "\n",
            "\n",
            "Number of matches 1000\n",
            "Number of matches After Lowe's Ratio 211\n",
            "Number of Robust matches 22\n",
            "\n",
            "\n",
            "Number of matches After Lowe's Ratio New 96\n"
          ],
          "name": "stdout"
        },
        {
          "output_type": "stream",
          "text": [
            " 52%|█████▏    | 32/61 [00:05<00:06,  4.80it/s]"
          ],
          "name": "stderr"
        },
        {
          "output_type": "stream",
          "text": [
            "Number of Robust matches New 22\n",
            "\n",
            "\n",
            "\n",
            "Number of matches 1000\n",
            "Number of matches After Lowe's Ratio 297\n",
            "Number of Robust matches 41\n",
            "\n",
            "\n"
          ],
          "name": "stdout"
        },
        {
          "output_type": "stream",
          "text": [
            "\r 54%|█████▍    | 33/61 [00:06<00:05,  5.08it/s]"
          ],
          "name": "stderr"
        },
        {
          "output_type": "stream",
          "text": [
            "\n",
            "Number of matches 1000\n",
            "Number of matches After Lowe's Ratio 274\n",
            "Number of Robust matches 31\n",
            "\n",
            "\n",
            "\n",
            "Number of matches 1000\n",
            "Number of matches After Lowe's Ratio 267\n"
          ],
          "name": "stdout"
        },
        {
          "output_type": "stream",
          "text": [
            " 57%|█████▋    | 35/61 [00:06<00:04,  5.37it/s]"
          ],
          "name": "stderr"
        },
        {
          "output_type": "stream",
          "text": [
            "Number of Robust matches 40\n",
            "\n",
            "\n",
            "\n",
            "Number of matches 1000\n",
            "Number of matches After Lowe's Ratio 269\n",
            "Number of Robust matches 46\n",
            "\n",
            "\n"
          ],
          "name": "stdout"
        },
        {
          "output_type": "stream",
          "text": [
            " 61%|██████    | 37/61 [00:06<00:04,  5.97it/s]"
          ],
          "name": "stderr"
        },
        {
          "output_type": "stream",
          "text": [
            "\n",
            "Number of matches 1000\n",
            "Number of matches After Lowe's Ratio 262\n",
            "Number of Robust matches 57\n",
            "\n",
            "\n",
            "\n",
            "Number of matches 1000\n",
            "Number of matches After Lowe's Ratio 260\n",
            "Number of Robust matches 72\n",
            "\n",
            "\n"
          ],
          "name": "stdout"
        },
        {
          "output_type": "stream",
          "text": [
            " 64%|██████▍   | 39/61 [00:06<00:03,  7.01it/s]"
          ],
          "name": "stderr"
        },
        {
          "output_type": "stream",
          "text": [
            "\n",
            "Number of matches 1000\n",
            "Number of matches After Lowe's Ratio 281\n",
            "Number of Robust matches 87\n",
            "\n",
            "\n",
            "\n",
            "Number of matches 1000\n",
            "Number of matches After Lowe's Ratio 276\n",
            "Number of Robust matches 120\n",
            "\n",
            "\n"
          ],
          "name": "stdout"
        },
        {
          "output_type": "stream",
          "text": [
            "\r 66%|██████▌   | 40/61 [00:07<00:03,  6.24it/s]"
          ],
          "name": "stderr"
        },
        {
          "output_type": "stream",
          "text": [
            "\n",
            "Number of matches 1000\n",
            "Number of matches After Lowe's Ratio 192\n",
            "Number of Robust matches 24\n",
            "\n",
            "\n",
            "Number of matches After Lowe's Ratio New 100\n",
            "Number of Robust matches New 25\n",
            "\n",
            "\n"
          ],
          "name": "stdout"
        },
        {
          "output_type": "stream",
          "text": [
            "\r 67%|██████▋   | 41/61 [00:07<00:03,  5.92it/s]"
          ],
          "name": "stderr"
        },
        {
          "output_type": "stream",
          "text": [
            "\n",
            "Number of matches 1000\n",
            "Number of matches After Lowe's Ratio 266\n",
            "Number of Robust matches 35\n",
            "\n",
            "\n",
            "\n",
            "Number of matches 1001\n",
            "Number of matches After Lowe's Ratio 252\n"
          ],
          "name": "stdout"
        },
        {
          "output_type": "stream",
          "text": [
            " 70%|███████   | 43/61 [00:07<00:03,  5.86it/s]"
          ],
          "name": "stderr"
        },
        {
          "output_type": "stream",
          "text": [
            "Number of Robust matches 28\n",
            "\n",
            "\n",
            "\n",
            "Number of matches 1000\n",
            "Number of matches After Lowe's Ratio 191\n",
            "Number of Robust matches 35\n",
            "\n",
            "\n"
          ],
          "name": "stdout"
        },
        {
          "output_type": "stream",
          "text": [
            "\r 72%|███████▏  | 44/61 [00:07<00:03,  5.46it/s]"
          ],
          "name": "stderr"
        },
        {
          "output_type": "stream",
          "text": [
            "\n",
            "Number of matches 1000\n",
            "Number of matches After Lowe's Ratio 120\n",
            "Number of Robust matches 12\n",
            "\n",
            "\n",
            "Number of matches After Lowe's Ratio New 47\n",
            "Number of Robust matches New 12\n",
            "\n",
            "\n"
          ],
          "name": "stdout"
        },
        {
          "output_type": "stream",
          "text": [
            "\r 74%|███████▍  | 45/61 [00:08<00:03,  4.90it/s]"
          ],
          "name": "stderr"
        },
        {
          "output_type": "stream",
          "text": [
            "\n",
            "Number of matches 1000\n",
            "Number of matches After Lowe's Ratio 107\n",
            "Number of Robust matches 8\n",
            "\n",
            "\n",
            "Number of matches After Lowe's Ratio New 39\n",
            "Number of Robust matches New 6\n",
            "\n",
            "\n"
          ],
          "name": "stdout"
        },
        {
          "output_type": "stream",
          "text": [
            "\r 75%|███████▌  | 46/61 [00:08<00:03,  4.95it/s]"
          ],
          "name": "stderr"
        },
        {
          "output_type": "stream",
          "text": [
            "\n",
            "Number of matches 1000\n",
            "Number of matches After Lowe's Ratio 129\n",
            "Number of Robust matches 15\n",
            "\n",
            "\n",
            "Number of matches After Lowe's Ratio New 46\n",
            "Number of Robust matches New 13\n",
            "\n",
            "\n"
          ],
          "name": "stdout"
        },
        {
          "output_type": "stream",
          "text": [
            " 79%|███████▊  | 48/61 [00:08<00:02,  5.70it/s]"
          ],
          "name": "stderr"
        },
        {
          "output_type": "stream",
          "text": [
            "\n",
            "Number of matches 1000\n",
            "Number of matches After Lowe's Ratio 135\n",
            "Number of Robust matches 29\n",
            "\n",
            "\n",
            "\n",
            "Number of matches 1000\n",
            "Number of matches After Lowe's Ratio 226\n",
            "Number of Robust matches 68\n",
            "\n",
            "\n"
          ],
          "name": "stdout"
        },
        {
          "output_type": "stream",
          "text": [
            "\r 80%|████████  | 49/61 [00:08<00:02,  5.08it/s]"
          ],
          "name": "stderr"
        },
        {
          "output_type": "stream",
          "text": [
            "\n",
            "Number of matches 1000\n",
            "Number of matches After Lowe's Ratio 211\n",
            "Number of Robust matches 16\n",
            "\n",
            "\n",
            "Number of matches After Lowe's Ratio New 122\n",
            "Number of Robust matches New 15\n",
            "\n",
            "\n"
          ],
          "name": "stdout"
        },
        {
          "output_type": "stream",
          "text": [
            " 84%|████████▎ | 51/61 [00:09<00:01,  5.93it/s]"
          ],
          "name": "stderr"
        },
        {
          "output_type": "stream",
          "text": [
            "\n",
            "Number of matches 1002\n",
            "Number of matches After Lowe's Ratio 235\n",
            "Number of Robust matches 49\n",
            "\n",
            "\n",
            "\n",
            "Number of matches 1000\n",
            "Number of matches After Lowe's Ratio 204\n",
            "Number of Robust matches 85\n",
            "\n",
            "\n"
          ],
          "name": "stdout"
        },
        {
          "output_type": "stream",
          "text": [
            " 87%|████████▋ | 53/61 [00:09<00:01,  6.49it/s]"
          ],
          "name": "stderr"
        },
        {
          "output_type": "stream",
          "text": [
            "\n",
            "Number of matches 1000\n",
            "Number of matches After Lowe's Ratio 198\n",
            "Number of Robust matches 61\n",
            "\n",
            "\n",
            "\n",
            "Number of matches 1000\n",
            "Number of matches After Lowe's Ratio 202\n",
            "Number of Robust matches 66\n",
            "\n",
            "\n"
          ],
          "name": "stdout"
        },
        {
          "output_type": "stream",
          "text": [
            " 90%|█████████ | 55/61 [00:09<00:00,  7.61it/s]"
          ],
          "name": "stderr"
        },
        {
          "output_type": "stream",
          "text": [
            "\n",
            "Number of matches 1000\n",
            "Number of matches After Lowe's Ratio 223\n",
            "Number of Robust matches 98\n",
            "\n",
            "\n",
            "\n",
            "Number of matches 1000\n",
            "Number of matches After Lowe's Ratio 187\n",
            "Number of Robust matches 89\n",
            "\n",
            "\n"
          ],
          "name": "stdout"
        },
        {
          "output_type": "stream",
          "text": [
            " 93%|█████████▎| 57/61 [00:09<00:00,  7.83it/s]"
          ],
          "name": "stderr"
        },
        {
          "output_type": "stream",
          "text": [
            "\n",
            "Number of matches 1000\n",
            "Number of matches After Lowe's Ratio 200\n",
            "Number of Robust matches 118\n",
            "\n",
            "\n",
            "\n",
            "Number of matches 1001\n",
            "Number of matches After Lowe's Ratio 214\n",
            "Number of Robust matches 58\n",
            "\n",
            "\n"
          ],
          "name": "stdout"
        },
        {
          "output_type": "stream",
          "text": [
            "\r 95%|█████████▌| 58/61 [00:10<00:00,  6.96it/s]"
          ],
          "name": "stderr"
        },
        {
          "output_type": "stream",
          "text": [
            "\n",
            "Number of matches 1000\n",
            "Number of matches After Lowe's Ratio 238\n",
            "Number of Robust matches 36\n",
            "\n",
            "\n",
            "\n",
            "Number of matches 1000\n",
            "Number of matches After Lowe's Ratio 173\n"
          ],
          "name": "stdout"
        },
        {
          "output_type": "stream",
          "text": [
            "  0%|          | 0/60 [00:00<?, ?it/s]"
          ],
          "name": "stderr"
        },
        {
          "output_type": "stream",
          "text": [
            "Number of Robust matches 44\n",
            "\n",
            "\n",
            "\n",
            "Number of matches 1000\n",
            "Number of matches After Lowe's Ratio 132\n",
            "Number of Robust matches 19\n",
            "\n",
            "\n",
            "Number of matches After Lowe's Ratio New 40\n",
            "Number of Robust matches New 17\n",
            "\n",
            "\n"
          ],
          "name": "stdout"
        },
        {
          "output_type": "stream",
          "text": [
            "\r  2%|▏         | 1/60 [00:00<00:10,  5.88it/s]"
          ],
          "name": "stderr"
        },
        {
          "output_type": "stream",
          "text": [
            "\n",
            "Number of matches 1001\n",
            "Number of matches After Lowe's Ratio 242\n",
            "Number of Robust matches 50\n",
            "\n",
            "\n",
            "\n",
            "Number of matches 1000\n",
            "Number of matches After Lowe's Ratio 181\n"
          ],
          "name": "stdout"
        },
        {
          "output_type": "stream",
          "text": [
            "  5%|▌         | 3/60 [00:00<00:09,  5.76it/s]"
          ],
          "name": "stderr"
        },
        {
          "output_type": "stream",
          "text": [
            "Number of Robust matches 33\n",
            "\n",
            "\n",
            "\n",
            "Number of matches 1000\n",
            "Number of matches After Lowe's Ratio 192\n",
            "Number of Robust matches 30\n",
            "\n",
            "\n"
          ],
          "name": "stdout"
        },
        {
          "output_type": "stream",
          "text": [
            "\r  7%|▋         | 4/60 [00:00<00:09,  5.69it/s]"
          ],
          "name": "stderr"
        },
        {
          "output_type": "stream",
          "text": [
            "\n",
            "Number of matches 1000\n",
            "Number of matches After Lowe's Ratio 241\n",
            "Number of Robust matches 29\n",
            "\n",
            "\n",
            "\n",
            "Number of matches 1000\n",
            "Number of matches After Lowe's Ratio 329\n"
          ],
          "name": "stdout"
        },
        {
          "output_type": "stream",
          "text": [
            " 10%|█         | 6/60 [00:01<00:09,  5.66it/s]"
          ],
          "name": "stderr"
        },
        {
          "output_type": "stream",
          "text": [
            "Number of Robust matches 56\n",
            "\n",
            "\n",
            "\n",
            "Number of matches 1000\n",
            "Number of matches After Lowe's Ratio 311\n",
            "Number of Robust matches 53\n",
            "\n",
            "\n"
          ],
          "name": "stdout"
        },
        {
          "output_type": "stream",
          "text": [
            "\r 12%|█▏        | 7/60 [00:01<00:09,  5.65it/s]"
          ],
          "name": "stderr"
        },
        {
          "output_type": "stream",
          "text": [
            "\n",
            "Number of matches 1000\n",
            "Number of matches After Lowe's Ratio 297\n",
            "Number of Robust matches 58\n",
            "\n",
            "\n",
            "\n",
            "Number of matches 1000\n",
            "Number of matches After Lowe's Ratio 319\n"
          ],
          "name": "stdout"
        },
        {
          "output_type": "stream",
          "text": [
            " 15%|█▌        | 9/60 [00:01<00:07,  6.51it/s]"
          ],
          "name": "stderr"
        },
        {
          "output_type": "stream",
          "text": [
            "Number of Robust matches 80\n",
            "\n",
            "\n",
            "\n",
            "Number of matches 1000\n",
            "Number of matches After Lowe's Ratio 315\n",
            "Number of Robust matches 93\n",
            "\n",
            "\n"
          ],
          "name": "stdout"
        },
        {
          "output_type": "stream",
          "text": [
            " 18%|█▊        | 11/60 [00:01<00:06,  7.17it/s]"
          ],
          "name": "stderr"
        },
        {
          "output_type": "stream",
          "text": [
            "\n",
            "Number of matches 1000\n",
            "Number of matches After Lowe's Ratio 283\n",
            "Number of Robust matches 83\n",
            "\n",
            "\n",
            "\n",
            "Number of matches 1000\n",
            "Number of matches After Lowe's Ratio 286\n",
            "Number of Robust matches 93\n",
            "\n",
            "\n"
          ],
          "name": "stdout"
        },
        {
          "output_type": "stream",
          "text": [
            " 22%|██▏       | 13/60 [00:02<00:06,  7.09it/s]"
          ],
          "name": "stderr"
        },
        {
          "output_type": "stream",
          "text": [
            "\n",
            "Number of matches 1000\n",
            "Number of matches After Lowe's Ratio 245\n",
            "Number of Robust matches 56\n",
            "\n",
            "\n",
            "\n",
            "Number of matches 1000\n",
            "Number of matches After Lowe's Ratio 297\n",
            "Number of Robust matches 104\n",
            "\n",
            "\n"
          ],
          "name": "stdout"
        },
        {
          "output_type": "stream",
          "text": [
            "\r 23%|██▎       | 14/60 [00:02<00:06,  6.66it/s]"
          ],
          "name": "stderr"
        },
        {
          "output_type": "stream",
          "text": [
            "\n",
            "Number of matches 1001\n",
            "Number of matches After Lowe's Ratio 334\n",
            "Number of Robust matches 53\n",
            "\n",
            "\n",
            "\n",
            "Number of matches 1000\n",
            "Number of matches After Lowe's Ratio 263\n"
          ],
          "name": "stdout"
        },
        {
          "output_type": "stream",
          "text": [
            " 27%|██▋       | 16/60 [00:02<00:07,  6.20it/s]"
          ],
          "name": "stderr"
        },
        {
          "output_type": "stream",
          "text": [
            "Number of Robust matches 47\n",
            "\n",
            "\n",
            "\n",
            "Number of matches 1000\n",
            "Number of matches After Lowe's Ratio 276\n",
            "Number of Robust matches 43\n",
            "\n",
            "\n"
          ],
          "name": "stdout"
        },
        {
          "output_type": "stream",
          "text": [
            " 30%|███       | 18/60 [00:02<00:06,  6.30it/s]"
          ],
          "name": "stderr"
        },
        {
          "output_type": "stream",
          "text": [
            "\n",
            "Number of matches 1000\n",
            "Number of matches After Lowe's Ratio 217\n",
            "Number of Robust matches 26\n",
            "\n",
            "\n",
            "\n",
            "Number of matches 1000\n",
            "Number of matches After Lowe's Ratio 233\n",
            "Number of Robust matches 62\n",
            "\n",
            "\n"
          ],
          "name": "stdout"
        },
        {
          "output_type": "stream",
          "text": [
            "\r 32%|███▏      | 19/60 [00:03<00:06,  5.90it/s]"
          ],
          "name": "stderr"
        },
        {
          "output_type": "stream",
          "text": [
            "\n",
            "Number of matches 1000\n",
            "Number of matches After Lowe's Ratio 160\n",
            "Number of Robust matches 26\n",
            "\n",
            "\n",
            "\n",
            "Number of matches 1000\n",
            "Number of matches After Lowe's Ratio 222\n"
          ],
          "name": "stdout"
        },
        {
          "output_type": "stream",
          "text": [
            " 35%|███▌      | 21/60 [00:03<00:06,  5.84it/s]"
          ],
          "name": "stderr"
        },
        {
          "output_type": "stream",
          "text": [
            "Number of Robust matches 46\n",
            "\n",
            "\n",
            "\n",
            "Number of matches 1001\n",
            "Number of matches After Lowe's Ratio 309\n",
            "Number of Robust matches 56\n",
            "\n",
            "\n"
          ],
          "name": "stdout"
        },
        {
          "output_type": "stream",
          "text": [
            " 38%|███▊      | 23/60 [00:03<00:05,  6.26it/s]"
          ],
          "name": "stderr"
        },
        {
          "output_type": "stream",
          "text": [
            "\n",
            "Number of matches 1000\n",
            "Number of matches After Lowe's Ratio 277\n",
            "Number of Robust matches 64\n",
            "\n",
            "\n",
            "\n",
            "Number of matches 1001\n",
            "Number of matches After Lowe's Ratio 340\n",
            "Number of Robust matches 77\n",
            "\n",
            "\n"
          ],
          "name": "stdout"
        },
        {
          "output_type": "stream",
          "text": [
            " 42%|████▏     | 25/60 [00:03<00:04,  7.11it/s]"
          ],
          "name": "stderr"
        },
        {
          "output_type": "stream",
          "text": [
            "\n",
            "Number of matches 1000\n",
            "Number of matches After Lowe's Ratio 332\n",
            "Number of Robust matches 95\n",
            "\n",
            "\n",
            "\n",
            "Number of matches 1001\n",
            "Number of matches After Lowe's Ratio 279\n",
            "Number of Robust matches 94\n",
            "\n",
            "\n"
          ],
          "name": "stdout"
        },
        {
          "output_type": "stream",
          "text": [
            " 45%|████▌     | 27/60 [00:04<00:04,  7.58it/s]"
          ],
          "name": "stderr"
        },
        {
          "output_type": "stream",
          "text": [
            "\n",
            "Number of matches 1000\n",
            "Number of matches After Lowe's Ratio 253\n",
            "Number of Robust matches 71\n",
            "\n",
            "\n",
            "\n",
            "Number of matches 1000\n",
            "Number of matches After Lowe's Ratio 283\n",
            "Number of Robust matches 109\n",
            "\n",
            "\n"
          ],
          "name": "stdout"
        },
        {
          "output_type": "stream",
          "text": [
            "\r 47%|████▋     | 28/60 [00:04<00:04,  7.01it/s]"
          ],
          "name": "stderr"
        },
        {
          "output_type": "stream",
          "text": [
            "\n",
            "Number of matches 1000\n",
            "Number of matches After Lowe's Ratio 186\n",
            "Number of Robust matches 37\n",
            "\n",
            "\n",
            "\n",
            "Number of matches 1000\n",
            "Number of matches After Lowe's Ratio 312\n"
          ],
          "name": "stdout"
        },
        {
          "output_type": "stream",
          "text": [
            " 50%|█████     | 30/60 [00:04<00:04,  6.62it/s]"
          ],
          "name": "stderr"
        },
        {
          "output_type": "stream",
          "text": [
            "Number of Robust matches 81\n",
            "\n",
            "\n",
            "\n",
            "Number of matches 1000\n",
            "Number of matches After Lowe's Ratio 317\n",
            "Number of Robust matches 66\n",
            "\n",
            "\n"
          ],
          "name": "stdout"
        },
        {
          "output_type": "stream",
          "text": [
            "\r 52%|█████▏    | 31/60 [00:04<00:04,  6.28it/s]"
          ],
          "name": "stderr"
        },
        {
          "output_type": "stream",
          "text": [
            "\n",
            "Number of matches 1000\n",
            "Number of matches After Lowe's Ratio 292\n",
            "Number of Robust matches 62\n",
            "\n",
            "\n",
            "\n",
            "Number of matches 1000\n",
            "Number of matches After Lowe's Ratio 305\n"
          ],
          "name": "stdout"
        },
        {
          "output_type": "stream",
          "text": [
            " 55%|█████▌    | 33/60 [00:05<00:04,  6.45it/s]"
          ],
          "name": "stderr"
        },
        {
          "output_type": "stream",
          "text": [
            "Number of Robust matches 55\n",
            "\n",
            "\n",
            "\n",
            "Number of matches 1000\n",
            "Number of matches After Lowe's Ratio 292\n",
            "Number of Robust matches 76\n",
            "\n",
            "\n"
          ],
          "name": "stdout"
        },
        {
          "output_type": "stream",
          "text": [
            "\r 57%|█████▋    | 34/60 [00:05<00:04,  6.15it/s]"
          ],
          "name": "stderr"
        },
        {
          "output_type": "stream",
          "text": [
            "\n",
            "Number of matches 1000\n",
            "Number of matches After Lowe's Ratio 159\n",
            "Number of Robust matches 36\n",
            "\n",
            "\n",
            "\n",
            "Number of matches 1000\n",
            "Number of matches After Lowe's Ratio 167\n"
          ],
          "name": "stdout"
        },
        {
          "output_type": "stream",
          "text": [
            " 60%|██████    | 36/60 [00:05<00:03,  6.00it/s]"
          ],
          "name": "stderr"
        },
        {
          "output_type": "stream",
          "text": [
            "Number of Robust matches 35\n",
            "\n",
            "\n",
            "\n",
            "Number of matches 1000\n",
            "Number of matches After Lowe's Ratio 261\n",
            "Number of Robust matches 56\n",
            "\n",
            "\n"
          ],
          "name": "stdout"
        },
        {
          "output_type": "stream",
          "text": [
            "\r 62%|██████▏   | 37/60 [00:05<00:03,  6.01it/s]"
          ],
          "name": "stderr"
        },
        {
          "output_type": "stream",
          "text": [
            "\n",
            "Number of matches 1000\n",
            "Number of matches After Lowe's Ratio 284\n",
            "Number of Robust matches 61\n",
            "\n",
            "\n",
            "\n",
            "Number of matches 1000\n",
            "Number of matches After Lowe's Ratio 280\n"
          ],
          "name": "stdout"
        },
        {
          "output_type": "stream",
          "text": [
            " 65%|██████▌   | 39/60 [00:06<00:03,  6.08it/s]"
          ],
          "name": "stderr"
        },
        {
          "output_type": "stream",
          "text": [
            "Number of Robust matches 51\n",
            "\n",
            "\n",
            "\n",
            "Number of matches 1000\n",
            "Number of matches After Lowe's Ratio 320\n",
            "Number of Robust matches 73\n",
            "\n",
            "\n"
          ],
          "name": "stdout"
        },
        {
          "output_type": "stream",
          "text": [
            " 68%|██████▊   | 41/60 [00:06<00:03,  6.24it/s]"
          ],
          "name": "stderr"
        },
        {
          "output_type": "stream",
          "text": [
            "\n",
            "Number of matches 1001\n",
            "Number of matches After Lowe's Ratio 292\n",
            "Number of Robust matches 97\n",
            "\n",
            "\n",
            "\n",
            "Number of matches 1000\n",
            "Number of matches After Lowe's Ratio 194\n",
            "Number of Robust matches 41\n",
            "\n",
            "\n"
          ],
          "name": "stdout"
        },
        {
          "output_type": "stream",
          "text": [
            "\r 70%|███████   | 42/60 [00:06<00:03,  5.45it/s]"
          ],
          "name": "stderr"
        },
        {
          "output_type": "stream",
          "text": [
            "\n",
            "Number of matches 1000\n",
            "Number of matches After Lowe's Ratio 157\n",
            "Number of Robust matches 7\n",
            "\n",
            "\n",
            "Number of matches After Lowe's Ratio New 62\n",
            "Number of Robust matches New 13\n",
            "\n",
            "\n"
          ],
          "name": "stdout"
        },
        {
          "output_type": "stream",
          "text": [
            "\r 72%|███████▏  | 43/60 [00:06<00:03,  5.50it/s]"
          ],
          "name": "stderr"
        },
        {
          "output_type": "stream",
          "text": [
            "\n",
            "Number of matches 1000\n",
            "Number of matches After Lowe's Ratio 196\n",
            "Number of Robust matches 34\n",
            "\n",
            "\n",
            "\n",
            "Number of matches 1000\n",
            "Number of matches After Lowe's Ratio 154\n"
          ],
          "name": "stdout"
        },
        {
          "output_type": "stream",
          "text": [
            " 75%|███████▌  | 45/60 [00:07<00:02,  5.98it/s]"
          ],
          "name": "stderr"
        },
        {
          "output_type": "stream",
          "text": [
            "Number of Robust matches 28\n",
            "\n",
            "\n",
            "\n",
            "Number of matches 1001\n",
            "Number of matches After Lowe's Ratio 259\n",
            "Number of Robust matches 82\n",
            "\n",
            "\n"
          ],
          "name": "stdout"
        },
        {
          "output_type": "stream",
          "text": [
            "\r 77%|███████▋  | 46/60 [00:07<00:02,  6.09it/s]"
          ],
          "name": "stderr"
        },
        {
          "output_type": "stream",
          "text": [
            "\n",
            "Number of matches 1000\n",
            "Number of matches After Lowe's Ratio 281\n",
            "Number of Robust matches 64\n",
            "\n",
            "\n",
            "\n",
            "Number of matches 1001\n",
            "Number of matches After Lowe's Ratio 257\n"
          ],
          "name": "stdout"
        },
        {
          "output_type": "stream",
          "text": [
            " 80%|████████  | 48/60 [00:07<00:02,  5.98it/s]"
          ],
          "name": "stderr"
        },
        {
          "output_type": "stream",
          "text": [
            "Number of Robust matches 34\n",
            "\n",
            "\n",
            "\n",
            "Number of matches 1001\n",
            "Number of matches After Lowe's Ratio 254\n",
            "Number of Robust matches 52\n",
            "\n",
            "\n"
          ],
          "name": "stdout"
        },
        {
          "output_type": "stream",
          "text": [
            "\r 82%|████████▏ | 49/60 [00:07<00:01,  5.90it/s]"
          ],
          "name": "stderr"
        },
        {
          "output_type": "stream",
          "text": [
            "\n",
            "Number of matches 1000\n",
            "Number of matches After Lowe's Ratio 190\n",
            "Number of Robust matches 37\n",
            "\n",
            "\n",
            "\n",
            "Number of matches 1000\n",
            "Number of matches After Lowe's Ratio 203\n"
          ],
          "name": "stdout"
        },
        {
          "output_type": "stream",
          "text": [
            " 85%|████████▌ | 51/60 [00:08<00:01,  5.69it/s]"
          ],
          "name": "stderr"
        },
        {
          "output_type": "stream",
          "text": [
            "Number of Robust matches 33\n",
            "\n",
            "\n",
            "\n",
            "Number of matches 1000\n",
            "Number of matches After Lowe's Ratio 209\n",
            "Number of Robust matches 37\n",
            "\n",
            "\n"
          ],
          "name": "stdout"
        },
        {
          "output_type": "stream",
          "text": [
            "\r 87%|████████▋ | 52/60 [00:08<00:01,  5.31it/s]"
          ],
          "name": "stderr"
        },
        {
          "output_type": "stream",
          "text": [
            "\n",
            "Number of matches 1000\n",
            "Number of matches After Lowe's Ratio 179\n",
            "Number of Robust matches 22\n",
            "\n",
            "\n",
            "Number of matches After Lowe's Ratio New 81\n",
            "Number of Robust matches New 20\n",
            "\n",
            "\n"
          ],
          "name": "stdout"
        },
        {
          "output_type": "stream",
          "text": [
            "\r 88%|████████▊ | 53/60 [00:08<00:01,  5.41it/s]"
          ],
          "name": "stderr"
        },
        {
          "output_type": "stream",
          "text": [
            "\n",
            "Number of matches 1000\n",
            "Number of matches After Lowe's Ratio 247\n",
            "Number of Robust matches 30\n",
            "\n",
            "\n",
            "\n",
            "Number of matches 1000\n",
            "Number of matches After Lowe's Ratio 306\n"
          ],
          "name": "stdout"
        },
        {
          "output_type": "stream",
          "text": [
            " 92%|█████████▏| 55/60 [00:09<00:00,  5.54it/s]"
          ],
          "name": "stderr"
        },
        {
          "output_type": "stream",
          "text": [
            "Number of Robust matches 50\n",
            "\n",
            "\n",
            "\n",
            "Number of matches 1000\n",
            "Number of matches After Lowe's Ratio 300\n",
            "Number of Robust matches 59\n",
            "\n",
            "\n"
          ],
          "name": "stdout"
        },
        {
          "output_type": "stream",
          "text": [
            " 95%|█████████▌| 57/60 [00:09<00:00,  6.48it/s]"
          ],
          "name": "stderr"
        },
        {
          "output_type": "stream",
          "text": [
            "\n",
            "Number of matches 1001\n",
            "Number of matches After Lowe's Ratio 288\n",
            "Number of Robust matches 85\n",
            "\n",
            "\n",
            "\n",
            "Number of matches 1001\n",
            "Number of matches After Lowe's Ratio 265\n",
            "Number of Robust matches 88\n",
            "\n",
            "\n"
          ],
          "name": "stdout"
        },
        {
          "output_type": "stream",
          "text": [
            " 98%|█████████▊| 59/60 [00:09<00:00,  7.11it/s]"
          ],
          "name": "stderr"
        },
        {
          "output_type": "stream",
          "text": [
            "\n",
            "Number of matches 1000\n",
            "Number of matches After Lowe's Ratio 218\n",
            "Number of Robust matches 88\n",
            "\n",
            "\n",
            "\n",
            "Number of matches 1000\n",
            "Number of matches After Lowe's Ratio 265\n",
            "Number of Robust matches 115\n",
            "\n",
            "\n"
          ],
          "name": "stdout"
        }
      ]
    },
    {
      "cell_type": "code",
      "metadata": {
        "id": "o1Rs4WF_NBn3",
        "colab": {
          "base_uri": "https://localhost:8080/"
        },
        "outputId": "f2a7736e-5f22-4c37-9528-eadcfa896161"
      },
      "source": [
        "\n",
        "import h5py as h5\n",
        "f=h5.File('drive/MyDrive/H_left_rootsift_40.h5','w')\n",
        "t0=time.time()\n",
        "f.create_dataset('data',data=H_left_rootsift)\n",
        "f.close()\n",
        "print('HDF5  w/o comp.:',time.time()-t0,'[s] ... size',os.path.getsize('drive/MyDrive/H_left_rootsift_40.h5')/1.e6,'MB')"
      ],
      "execution_count": 53,
      "outputs": [
        {
          "output_type": "stream",
          "text": [
            "HDF5  w/o comp.: 0.008107662200927734 [s] ... size 0.006368 MB\n"
          ],
          "name": "stdout"
        }
      ]
    },
    {
      "cell_type": "code",
      "metadata": {
        "id": "BNe5ZQs0NBj6",
        "colab": {
          "base_uri": "https://localhost:8080/"
        },
        "outputId": "a85ca933-edbf-434f-afd1-5f5bf87233b8"
      },
      "source": [
        "\n",
        "import h5py as h5\n",
        "f=h5.File('drive/MyDrive/H_right_rootsift_40.h5','w')\n",
        "t0=time.time()\n",
        "f.create_dataset('data',data=H_right_rootsift)\n",
        "f.close()\n",
        "print('HDF5  w/o comp.:',time.time()-t0,'[s] ... size',os.path.getsize('drive/MyDrive/H_right_rootsift_40.h5')/1.e6,'MB')"
      ],
      "execution_count": 54,
      "outputs": [
        {
          "output_type": "stream",
          "text": [
            "HDF5  w/o comp.: 0.010056495666503906 [s] ... size 0.006296 MB\n"
          ],
          "name": "stdout"
        }
      ]
    },
    {
      "cell_type": "code",
      "metadata": {
        "id": "3-HuMiSpNBez"
      },
      "source": [
        "\n",
        "del H_left_rootsift, H_right_rootsift,keypoints_all_left_rootsift, keypoints_all_right_rootsift, descriptors_all_left_rootsift, descriptors_all_right_rootsift, points_all_left_rootsift, points_all_right_rootsift"
      ],
      "execution_count": 55,
      "outputs": []
    },
    {
      "cell_type": "code",
      "metadata": {
        "id": "xvOdNUKWNBa2"
      },
      "source": [
        ""
      ],
      "execution_count": null,
      "outputs": []
    },
    {
      "cell_type": "code",
      "metadata": {
        "id": "ox8i17_-Tslv"
      },
      "source": [
        "'''\n",
        "import pickle\n",
        "Fdb = open('all_feat_surfsift_left.dat', 'rb')\n",
        "kpts_all = pickle.load(Fdb)\n",
        "Fdb.close()\n",
        "\n",
        "keypoints_all_left_surfsift = []\n",
        "descriptors_all_left_surfsift = []\n",
        "\n",
        "for j,kpt_each in enumerate(kpts_all):\n",
        "  keypoints_each = []\n",
        "  descrip_each = []\n",
        "  for k,kpt_img in enumerate(kpt_each):\n",
        "    temp_feature = cv2.KeyPoint(x=kpt_img[0][0],y=kpt_img[0][1],_size=kpt_img[1], _angle=kpt_img[2], \n",
        "                            _response=kpt_img[3], _octave=kpt_img[4], _class_id=kpt_img[5]) \n",
        "    temp_descriptor = kpt_img[6]\n",
        "    keypoints_each.append(temp_feature)\n",
        "    descrip_each.append(temp_descriptor)\n",
        "  points_all_left_surfsift.append(np.asarray([[p.pt[0], p.pt[1]] for p in keypoints_each]))\n",
        "  keypoints_all_left_surfsift.append(keypoints_each)\n",
        "  descriptors_all_left_surfsift.append(descrip_each)"
      ],
      "execution_count": null,
      "outputs": []
    },
    {
      "cell_type": "code",
      "metadata": {
        "id": "y_rHNxPCVcj9"
      },
      "source": [
        "'''\n",
        "import pickle\n",
        "Fdb = open('all_feat_surfsift_right.dat', 'rb')\n",
        "kpts_all = pickle.load(Fdb)\n",
        "Fdb.close()\n",
        "\n",
        "keypoints_all_right_surfsift = []\n",
        "descriptors_all_right_surfsift = []\n",
        "\n",
        "for j,kpt_each in enumerate(kpts_all):\n",
        "  keypoints_each = []\n",
        "  descrip_each = []\n",
        "  for k,kpt_img in enumerate(kpt_each):\n",
        "    temp_feature = cv2.KeyPoint(x=kpt_img[0][0],y=kpt_img[0][1],_size=kpt_img[1], _angle=kpt_img[2], \n",
        "                            _response=kpt_img[3], _octave=kpt_img[4], _class_id=kpt_img[5]) \n",
        "    temp_descriptor = kpt_img[6]\n",
        "    keypoints_each.append(temp_feature)\n",
        "    descrip_each.append(temp_descriptor)\n",
        "  points_all_right_surfsift.append(np.asarray([[p.pt[0], p.pt[1]] for p in keypoints_each]))\n",
        "  keypoints_all_right_surfsift.append(keypoints_each)\n",
        "  descriptors_all_right_surfsift.append(descrip_each)"
      ],
      "execution_count": null,
      "outputs": []
    },
    {
      "cell_type": "code",
      "metadata": {
        "id": "FImXVRt7Vcfp"
      },
      "source": [
        "'''\n",
        "H_left_surfsift = []\n",
        "H_right_surfsift = []\n",
        "\n",
        "num_matches_surfsift = []\n",
        "num_good_matches_surfsift = []\n",
        "\n",
        "for j in tqdm(range(len(left_files_path))):\n",
        "  if j==len(left_files_path)-1:\n",
        "    break\n",
        "\n",
        "  H_a,matches,gd_matches = get_Hmatrix(images_left_bgr[j:j+2][::-1],keypoints_all_left_surfsift[j:j+2][::-1],points_all_left_surfsift[j:j+2][::-1],descriptors_all_left_surfsift[j:j+2][::-1],0.7,6)\n",
        "  H_left_surfsift.append(H_a)\n",
        "  num_matches_surfsift.append(matches)\n",
        "  num_good_matches_surfsift.append(gd_matches)\n",
        "\n",
        "for j in tqdm(range(len(right_files_path))):\n",
        "  if j==len(right_files_path)-1:\n",
        "    break\n",
        "\n",
        "  H_a,matches,gd_matches = get_Hmatrix(images_right_bgr[j:j+2][::-1],keypoints_all_right_surfsift[j:j+2][::-1],points_all_right_surfsift[j:j+2][::-1],descriptors_all_right_surfsift[j:j+2][::-1],0.7,6)\n",
        "  H_right_surfsift.append(H_a)\n",
        "  num_matches_surfsift.append(matches)\n",
        "  num_good_matches_surfsift.append(gd_matches)"
      ],
      "execution_count": null,
      "outputs": []
    },
    {
      "cell_type": "code",
      "metadata": {
        "id": "8xMUiQctVcac"
      },
      "source": [
        "'''\n",
        "import h5py as h5\n",
        "f=h5.File('drive/MyDrive/H_left_surfsift_40.h5','w')\n",
        "t0=time.time()\n",
        "f.create_dataset('data',data=H_left_surfsift)\n",
        "f.close()\n",
        "print('HDF5  w/o comp.:',time.time()-t0,'[s] ... size',os.path.getsize('drive/MyDrive/H_left_surfsift_40.h5')/1.e6,'MB')"
      ],
      "execution_count": null,
      "outputs": []
    },
    {
      "cell_type": "code",
      "metadata": {
        "id": "oCs2pUGAVcTq"
      },
      "source": [
        "'''\n",
        "import h5py as h5\n",
        "f=h5.File('drive/MyDrive/H_right_surfsift_40.h5','w')\n",
        "t0=time.time()\n",
        "f.create_dataset('data',data=H_right_surfsift)\n",
        "f.close()\n",
        "print('HDF5  w/o comp.:',time.time()-t0,'[s] ... size',os.path.getsize('drive/MyDrive/H_right_surfsift_40.h5')/1.e6,'MB')"
      ],
      "execution_count": null,
      "outputs": []
    },
    {
      "cell_type": "code",
      "metadata": {
        "id": "bQyjlNKdVkm3"
      },
      "source": [
        "'''\n",
        "del H_left_surfsift, H_right_surfsift,keypoints_all_left_surfsift, keypoints_all_right_surfsift, descriptors_all_left_surfsift, descriptors_all_right_surfsift, points_all_left_surfsift, points_all_right_surfsift"
      ],
      "execution_count": null,
      "outputs": []
    },
    {
      "cell_type": "code",
      "metadata": {
        "id": "SDZPXKE7Vkjm"
      },
      "source": [
        ""
      ],
      "execution_count": null,
      "outputs": []
    },
    {
      "cell_type": "code",
      "metadata": {
        "id": "iyC-HQL6NSGE"
      },
      "source": [
        "'''\n",
        "import pickle\n",
        "Fdb = open('all_feat_gftt_left.dat', 'rb')\n",
        "kpts_all = pickle.load(Fdb)\n",
        "Fdb.close()\n",
        "\n",
        "keypoints_all_left_gftt = []\n",
        "descriptors_all_left_gftt = []\n",
        "\n",
        "for j,kpt_each in enumerate(kpts_all):\n",
        "  keypoints_each = []\n",
        "  descrip_each = []\n",
        "  for k,kpt_img in enumerate(kpt_each):\n",
        "    temp_feature = cv2.KeyPoint(x=kpt_img[0][0],y=kpt_img[0][1],_size=kpt_img[1], _angle=kpt_img[2], \n",
        "                            _response=kpt_img[3], _octave=kpt_img[4], _class_id=kpt_img[5]) \n",
        "    temp_descriptor = kpt_img[6]\n",
        "    keypoints_each.append(temp_feature)\n",
        "    descrip_each.append(temp_descriptor)\n",
        "  points_all_left_gftt.append(np.asarray([[p.pt[0], p.pt[1]] for p in keypoints_each]))\n",
        "  keypoints_all_left_gftt.append(keypoints_each)\n",
        "  descriptors_all_left_gftt.append(descrip_each)"
      ],
      "execution_count": null,
      "outputs": []
    },
    {
      "cell_type": "code",
      "metadata": {
        "id": "QQSn8pA5NSBw"
      },
      "source": [
        "'''\n",
        "import pickle\n",
        "Fdb = open('all_feat_gftt_right.dat', 'rb')\n",
        "kpts_all = pickle.load(Fdb)\n",
        "Fdb.close()\n",
        "\n",
        "keypoints_all_right_gftt = []\n",
        "descriptors_all_right_gftt = []\n",
        "\n",
        "for j,kpt_each in enumerate(kpts_all):\n",
        "  keypoints_each = []\n",
        "  descrip_each = []\n",
        "  for k,kpt_img in enumerate(kpt_each):\n",
        "    temp_feature = cv2.KeyPoint(x=kpt_img[0][0],y=kpt_img[0][1],_size=kpt_img[1], _angle=kpt_img[2], \n",
        "                            _response=kpt_img[3], _octave=kpt_img[4], _class_id=kpt_img[5]) \n",
        "    temp_descriptor = kpt_img[6]\n",
        "    keypoints_each.append(temp_feature)\n",
        "    descrip_each.append(temp_descriptor)\n",
        "  points_all_right_gftt.append(np.asarray([[p.pt[0], p.pt[1]] for p in keypoints_each]))\n",
        "  keypoints_all_right_gftt.append(keypoints_each)\n",
        "  descriptors_all_right_gftt.append(descrip_each)"
      ],
      "execution_count": null,
      "outputs": []
    },
    {
      "cell_type": "code",
      "metadata": {
        "id": "tDiMSQY4NR-l"
      },
      "source": [
        "'''\n",
        "H_left_gftt = []\n",
        "H_right_gftt = []\n",
        "\n",
        "num_matches_gftt = []\n",
        "num_good_matches_gftt = []\n",
        "\n",
        "for j in tqdm(range(len(left_files_path))):\n",
        "  if j==len(left_files_path)-1:\n",
        "    break\n",
        "\n",
        "  H_a,matches,gd_matches = get_Hmatrix(images_left_bgr[j:j+2][::-1],keypoints_all_left_gftt[j:j+2][::-1],points_all_left_gftt[j:j+2][::-1],descriptors_all_left_gftt[j:j+2][::-1],0.85,6)\n",
        "  H_left_gftt.append(H_a)\n",
        "  num_matches_gftt.append(matches)\n",
        "  num_good_matches_gftt.append(gd_matches)\n",
        "\n",
        "for j in tqdm(range(len(right_files_path))):\n",
        "  if j==len(right_files_path)-1:\n",
        "    break\n",
        "\n",
        "  H_a,matches,gd_matches = get_Hmatrix(images_right_bgr[j:j+2][::-1],keypoints_all_right_gftt[j:j+2][::-1],points_all_right_gftt[j:j+2][::-1],descriptors_all_right_gftt[j:j+2][::-1],0.85,6)\n",
        "  H_right_gftt.append(H_a)\n",
        "  num_matches_gftt.append(matches)\n",
        "  num_good_matches_gftt.append(gd_matches)"
      ],
      "execution_count": null,
      "outputs": []
    },
    {
      "cell_type": "code",
      "metadata": {
        "id": "ZNfb9ajaNR51"
      },
      "source": [
        "'''\n",
        "import h5py as h5\n",
        "f=h5.File('drive/MyDrive/H_left_gftt_40.h5','w')\n",
        "t0=time.time()\n",
        "f.create_dataset('data',data=H_left_gftt)\n",
        "f.close()\n",
        "print('HDF5  w/o comp.:',time.time()-t0,'[s] ... size',os.path.getsize('drive/MyDrive/H_left_gftt_40.h5')/1.e6,'MB')"
      ],
      "execution_count": null,
      "outputs": []
    },
    {
      "cell_type": "code",
      "metadata": {
        "id": "DmDMHiUVNR0n"
      },
      "source": [
        "'''\n",
        "import h5py as h5\n",
        "f=h5.File('drive/MyDrive/H_right_gftt_40.h5','w')\n",
        "t0=time.time()\n",
        "f.create_dataset('data',data=H_right_gftt)\n",
        "f.close()\n",
        "print('HDF5  w/o comp.:',time.time()-t0,'[s] ... size',os.path.getsize('drive/MyDrive/H_right_gftt_40.h5')/1.e6,'MB')"
      ],
      "execution_count": null,
      "outputs": []
    },
    {
      "cell_type": "code",
      "metadata": {
        "id": "Kjou3NzdNRvb"
      },
      "source": [
        "'''\n",
        "del H_left_gftt, H_right_gftt,keypoints_all_left_gftt, keypoints_all_right_gftt, descriptors_all_left_gftt, descriptors_all_right_gftt, points_all_left_gftt, points_all_right_gftt"
      ],
      "execution_count": null,
      "outputs": []
    },
    {
      "cell_type": "code",
      "metadata": {
        "id": "4WPAx1bPNRpb"
      },
      "source": [
        ""
      ],
      "execution_count": null,
      "outputs": []
    },
    {
      "cell_type": "code",
      "metadata": {
        "id": "RkzmrEaNNRld"
      },
      "source": [
        "'''\n",
        "import pickle\n",
        "Fdb = open('all_feat_mser_left.dat', 'rb')\n",
        "kpts_all = pickle.load(Fdb)\n",
        "Fdb.close()\n",
        "\n",
        "keypoints_all_left_mser = []\n",
        "descriptors_all_left_mser = []\n",
        "\n",
        "for j,kpt_each in enumerate(kpts_all):\n",
        "  keypoints_each = []\n",
        "  descrip_each = []\n",
        "  for k,kpt_img in enumerate(kpt_each):\n",
        "    temp_feature = cv2.KeyPoint(x=kpt_img[0][0],y=kpt_img[0][1],_size=kpt_img[1], _angle=kpt_img[2], \n",
        "                            _response=kpt_img[3], _octave=kpt_img[4], _class_id=kpt_img[5]) \n",
        "    temp_descriptor = kpt_img[6]\n",
        "    keypoints_each.append(temp_feature)\n",
        "    descrip_each.append(temp_descriptor)\n",
        "  points_all_left_mser.append(np.asarray([[p.pt[0], p.pt[1]] for p in keypoints_each]))\n",
        "  keypoints_all_left_mser.append(keypoints_each)\n",
        "  descriptors_all_left_mser.append(descrip_each)"
      ],
      "execution_count": null,
      "outputs": []
    },
    {
      "cell_type": "code",
      "metadata": {
        "id": "GJrHMRuwNRgV"
      },
      "source": [
        "'''\n",
        "import pickle\n",
        "Fdb = open('all_feat_mser_right.dat', 'rb')\n",
        "kpts_all = pickle.load(Fdb)\n",
        "Fdb.close()\n",
        "\n",
        "keypoints_all_right_mser = []\n",
        "descriptors_all_right_mser = []\n",
        "\n",
        "for j,kpt_each in enumerate(kpts_all):\n",
        "  keypoints_each = []\n",
        "  descrip_each = []\n",
        "  for k,kpt_img in enumerate(kpt_each):\n",
        "    temp_feature = cv2.KeyPoint(x=kpt_img[0][0],y=kpt_img[0][1],_size=kpt_img[1], _angle=kpt_img[2], \n",
        "                            _response=kpt_img[3], _octave=kpt_img[4], _class_id=kpt_img[5]) \n",
        "    temp_descriptor = kpt_img[6]\n",
        "    keypoints_each.append(temp_feature)\n",
        "    descrip_each.append(temp_descriptor)\n",
        "  points_all_right_mser.append(np.asarray([[p.pt[0], p.pt[1]] for p in keypoints_each]))\n",
        "  keypoints_all_right_mser.append(keypoints_each)\n",
        "  descriptors_all_right_mser.append(descrip_each)"
      ],
      "execution_count": null,
      "outputs": []
    },
    {
      "cell_type": "code",
      "metadata": {
        "id": "RTNrAvibNRWJ"
      },
      "source": [
        "'''\n",
        "H_left_mser = []\n",
        "H_right_mser = []\n",
        "\n",
        "num_matches_mser = []\n",
        "num_good_matches_mser = []\n",
        "\n",
        "for j in tqdm(range(len(left_files_path))):\n",
        "  if j==len(left_files_path)-1:\n",
        "    break\n",
        "\n",
        "  H_a,matches,gd_matches = get_Hmatrix(images_left_bgr[j:j+2][::-1],keypoints_all_left_mser[j:j+2][::-1],points_all_left_mser[j:j+2][::-1],descriptors_all_left_mser[j:j+2][::-1],0.95,8)\n",
        "  H_left_mser.append(H_a)\n",
        "  num_matches_mser.append(matches)\n",
        "  num_good_matches_mser.append(gd_matches)\n",
        "\n",
        "for j in tqdm(range(len(right_files_path))):\n",
        "  if j==len(right_files_path)-1:\n",
        "    break\n",
        "\n",
        "  H_a,matches,gd_matches = get_Hmatrix(images_right_bgr[j:j+2][::-1],keypoints_all_right_mser[j:j+2][::-1],points_all_right_mser[j:j+2][::-1],descriptors_all_right_mser[j:j+2][::-1],0.95,8)\n",
        "  H_right_mser.append(H_a)\n",
        "  num_matches_mser.append(matches)\n",
        "  num_good_matches_mser.append(gd_matches)"
      ],
      "execution_count": null,
      "outputs": []
    },
    {
      "cell_type": "code",
      "metadata": {
        "id": "15_8796hNjIP"
      },
      "source": [
        "'''\n",
        "import h5py as h5\n",
        "f=h5.File('drive/MyDrive/H_left_mser_40.h5','w')\n",
        "t0=time.time()\n",
        "f.create_dataset('data',data=H_left_mser)\n",
        "f.close()\n",
        "print('HDF5  w/o comp.:',time.time()-t0,'[s] ... size',os.path.getsize('drive/MyDrive/H_left_mser_40.h5')/1.e6,'MB')"
      ],
      "execution_count": null,
      "outputs": []
    },
    {
      "cell_type": "code",
      "metadata": {
        "id": "f8Er9whfNjE0"
      },
      "source": [
        "'''\n",
        "import h5py as h5\n",
        "f=h5.File('drive/MyDrive/H_right_mser_40.h5','w')\n",
        "t0=time.time()\n",
        "f.create_dataset('data',data=H_right_mser)\n",
        "f.close()\n",
        "print('HDF5  w/o comp.:',time.time()-t0,'[s] ... size',os.path.getsize('drive/MyDrive/H_right_mser_40.h5')/1.e6,'MB')"
      ],
      "execution_count": null,
      "outputs": []
    },
    {
      "cell_type": "code",
      "metadata": {
        "id": "hGinOcpTNjA9"
      },
      "source": [
        "'''\n",
        "del H_left_mser, H_right_mser,keypoints_all_left_mser, keypoints_all_right_mser, descriptors_all_left_mser, descriptors_all_right_mser, points_all_left_mser, points_all_right_mser"
      ],
      "execution_count": null,
      "outputs": []
    },
    {
      "cell_type": "code",
      "metadata": {
        "id": "60PMVL7-Ni9a"
      },
      "source": [
        ""
      ],
      "execution_count": null,
      "outputs": []
    },
    {
      "cell_type": "code",
      "metadata": {
        "id": "v9h1dfs3Ni5A"
      },
      "source": [
        "'''\n",
        "import pickle\n",
        "Fdb = open('all_feat_superpoint_left.dat', 'rb')\n",
        "kpts_all = pickle.load(Fdb)\n",
        "Fdb.close()\n",
        "\n",
        "keypoints_all_left_superpoint = []\n",
        "descriptors_all_left_superpoint = []\n",
        "\n",
        "for j,kpt_each in enumerate(kpts_all):\n",
        "  keypoints_each = []\n",
        "  descrip_each = []\n",
        "  for k,kpt_img in enumerate(kpt_each):\n",
        "    temp_feature = cv2.KeyPoint(x=kpt_img[0][0],y=kpt_img[0][1],_size=kpt_img[1], _angle=kpt_img[2], \n",
        "                            _response=kpt_img[3], _octave=kpt_img[4], _class_id=kpt_img[5]) \n",
        "    temp_descriptor = kpt_img[6]\n",
        "    keypoints_each.append(temp_feature)\n",
        "    descrip_each.append(temp_descriptor)\n",
        "  points_all_left_superpoint.append(np.asarray([[p.pt[0], p.pt[1]] for p in keypoints_each]))\n",
        "  keypoints_all_left_superpoint.append(keypoints_each)\n",
        "  descriptors_all_left_superpoint.append(descrip_each)"
      ],
      "execution_count": null,
      "outputs": []
    },
    {
      "cell_type": "code",
      "metadata": {
        "id": "88AByrvBNi0y"
      },
      "source": [
        "'''\n",
        "import pickle\n",
        "Fdb = open('all_feat_superpoint_right.dat', 'rb')\n",
        "kpts_all = pickle.load(Fdb)\n",
        "Fdb.close()\n",
        "\n",
        "keypoints_all_right_superpoint = []\n",
        "descriptors_all_right_superpoint = []\n",
        "\n",
        "for j,kpt_each in enumerate(kpts_all):\n",
        "  keypoints_each = []\n",
        "  descrip_each = []\n",
        "  for k,kpt_img in enumerate(kpt_each):\n",
        "    temp_feature = cv2.KeyPoint(x=kpt_img[0][0],y=kpt_img[0][1],_size=kpt_img[1], _angle=kpt_img[2], \n",
        "                            _response=kpt_img[3], _octave=kpt_img[4], _class_id=kpt_img[5]) \n",
        "    temp_descriptor = kpt_img[6]\n",
        "    keypoints_each.append(temp_feature)\n",
        "    descrip_each.append(temp_descriptor)\n",
        "  points_all_right_superpoint.append(np.asarray([[p.pt[0], p.pt[1]] for p in keypoints_each]))\n",
        "  keypoints_all_right_superpoint.append(keypoints_each)\n",
        "  descriptors_all_right_superpoint.append(descrip_each)"
      ],
      "execution_count": null,
      "outputs": []
    },
    {
      "cell_type": "code",
      "metadata": {
        "id": "f2kldmCnNiwl"
      },
      "source": [
        "'''\n",
        "H_left_superpoint = []\n",
        "H_right_superpoint = []\n",
        "\n",
        "num_matches_superpoint = []\n",
        "num_good_matches_superpoint = []\n",
        "\n",
        "for j in tqdm(range(len(left_files_path))):\n",
        "  if j==len(left_files_path)-1:\n",
        "    break\n",
        "\n",
        "  H_a,matches,gd_matches = get_Hmatrix(images_left_bgr[j:j+2][::-1],keypoints_all_left_superpoint[j:j+2][::-1],points_all_left_superpoint[j:j+2][::-1],descriptors_all_left_superpoint[j:j+2][::-1],ratio=0.8,thresh=3,no_ransac=False,use_lowe=True)\n",
        "  H_left_superpoint.append(H_a)\n",
        "  num_matches_superpoint.append(matches)\n",
        "  num_good_matches_superpoint.append(gd_matches)\n",
        "\n",
        "for j in tqdm(range(len(right_files_path))):\n",
        "  if j==len(right_files_path)-1:\n",
        "    break\n",
        "\n",
        "  H_a,matches,gd_matches = get_Hmatrix(images_right_bgr[j:j+2][::-1],keypoints_all_right_superpoint[j:j+2][::-1],points_all_right_superpoint[j:j+2][::-1],descriptors_all_right_superpoint[j:j+2][::-1],ratio=0.8,thresh = 3,no_ransac=False,use_lowe=True)\n",
        "  H_right_superpoint.append(H_a)\n",
        "  num_matches_superpoint.append(matches)\n",
        "  num_good_matches_superpoint.append(gd_matches)"
      ],
      "execution_count": null,
      "outputs": []
    },
    {
      "cell_type": "code",
      "metadata": {
        "id": "q706DNjLN6Vh"
      },
      "source": [
        "'''\n",
        "import h5py as h5\n",
        "f=h5.File('drive/MyDrive/H_left_superpoint_40.h5','w')\n",
        "t0=time.time()\n",
        "f.create_dataset('data',data=H_left_superpoint)\n",
        "f.close()\n",
        "print('HDF5  w/o comp.:',time.time()-t0,'[s] ... size',os.path.getsize('drive/MyDrive/H_left_superpoint_40.h5')/1.e6,'MB')"
      ],
      "execution_count": null,
      "outputs": []
    },
    {
      "cell_type": "code",
      "metadata": {
        "id": "BkzXTRmkN6RW"
      },
      "source": [
        "'''\n",
        "import h5py as h5\n",
        "f=h5.File('drive/MyDrive/H_right_superpoint_40.h5','w')\n",
        "t0=time.time()\n",
        "f.create_dataset('data',data=H_right_superpoint)\n",
        "f.close()\n",
        "print('HDF5  w/o comp.:',time.time()-t0,'[s] ... size',os.path.getsize('drive/MyDrive/H_right_superpoint_40.h5')/1.e6,'MB')"
      ],
      "execution_count": null,
      "outputs": []
    },
    {
      "cell_type": "code",
      "metadata": {
        "id": "HFL3LP99N6MH"
      },
      "source": [
        "'''\n",
        "del H_left_superpoint, H_right_superpoint,keypoints_all_left_superpoint, keypoints_all_right_superpoint, descriptors_all_left_superpoint, descriptors_all_right_superpoint, points_all_left_superpoint, points_all_right_superpoint"
      ],
      "execution_count": null,
      "outputs": []
    },
    {
      "cell_type": "code",
      "metadata": {
        "id": "_q_yrn5XOFoP"
      },
      "source": [
        "'''\n",
        "print(len(num_matches_superpoint))"
      ],
      "execution_count": null,
      "outputs": []
    },
    {
      "cell_type": "code",
      "metadata": {
        "id": "Iel-_BchOFjx"
      },
      "source": [
        ""
      ],
      "execution_count": null,
      "outputs": []
    },
    {
      "cell_type": "markdown",
      "metadata": {
        "id": "trzf2eTGOOjd"
      },
      "source": [
        "Collect All Number Of KeyPoints"
      ]
    },
    {
      "cell_type": "code",
      "metadata": {
        "id": "9HS4lRFrVkfT"
      },
      "source": [
        "len_files = len(left_files_path) + len(right_files_path[1:])\n",
        "num_detectors = 3"
      ],
      "execution_count": 88,
      "outputs": []
    },
    {
      "cell_type": "code",
      "metadata": {
        "id": "yCck1fMMVkZ1"
      },
      "source": [
        "d = {'Dataset': [f'{Dataset}']*(num_detectors*len_files), 'Number of Keypoints': num_kps_sift + num_kps_rootsift + num_kps_daisy, 'Detector/Descriptor': ['SIFT']*len_files + ['ROOTSIFT']*len_files + ['DAISY+SIFT']*len_files  }\n",
        "df_numkey_3 = pd.DataFrame(data=d)\n",
        "df_numkey_3['Number of Keypoints'] = df_numkey_3['Number of Keypoints']/(len_files)"
      ],
      "execution_count": 89,
      "outputs": []
    },
    {
      "cell_type": "code",
      "metadata": {
        "id": "pAg-a2j-OVqA"
      },
      "source": [
        "#d = {'Dataset': ['University Campus']*(3*len_files), 'Number of Keypoints': num_kps_rootsift + num_kps_superpoint + num_kps_surf, 'Detector/Descriptor':['ROOTSIFT']*101 + ['SuperPoint']*101 + ['SURF']*101  }\n",
        "#df = pd.DataFrame(data=d)"
      ],
      "execution_count": null,
      "outputs": []
    },
    {
      "cell_type": "code",
      "metadata": {
        "id": "X2PQojiuOVk0"
      },
      "source": [
        "#df_13 = pd.read_csv('drive/MyDrive/Num_Key_13.csv')\n",
        "#frames = [df_13, df]\n",
        "#df_16 = pd.concat(frames)"
      ],
      "execution_count": null,
      "outputs": []
    },
    {
      "cell_type": "code",
      "metadata": {
        "id": "x3OVBuQNOVgo"
      },
      "source": [
        "#df_16.to_csv('drive/MyDrive/Num_Key_16.csv')"
      ],
      "execution_count": null,
      "outputs": []
    },
    {
      "cell_type": "code",
      "metadata": {
        "id": "nRowM7PgOVZN",
        "colab": {
          "base_uri": "https://localhost:8080/",
          "height": 475
        },
        "outputId": "4981e6ed-b2e3-465c-bc73-68b79114e025"
      },
      "source": [
        "import seaborn as sns\n",
        "sns.set_theme(style='whitegrid')\n",
        "\n",
        "\n",
        "# Draw a nested barplot by species and sex\n",
        "g = sns.catplot(\n",
        "    data=df_numkey_3, kind=\"bar\",\n",
        "    x=\"Dataset\", y=\"Number of Keypoints\", hue=\"Detector/Descriptor\",\n",
        "    ci=\"sd\", palette=\"Spectral\", alpha=.9, height=6, aspect=2\n",
        ")\n",
        "g.despine(left=True)\n",
        "g.set_axis_labels(\"Dataset\", \"Number of Keypoints/Descriptors\")\n",
        "g.legend.set_title(\"Detector/Descriptor\")\n",
        "g.fig.suptitle(\"Number of Keypoints Detected for each Detector/Descriptor in Different Aerial Datasets\")"
      ],
      "execution_count": 90,
      "outputs": [
        {
          "output_type": "execute_result",
          "data": {
            "text/plain": [
              "Text(0.5, 0.98, 'Number of Keypoints Detected for each Detector/Descriptor in Different Aerial Datasets')"
            ]
          },
          "metadata": {
            "tags": []
          },
          "execution_count": 90
        },
        {
          "output_type": "display_data",
          "data": {
            "image/png": "[encoded data removed]",
            "text/plain": [
              "<Figure size 991.55x432 with 1 Axes>"
            ]
          },
          "metadata": {
            "tags": []
          }
        }
      ]
    },
    {
      "cell_type": "code",
      "metadata": {
        "id": "dr91y79XOVR8"
      },
      "source": [
        "g.savefig(f'drive/MyDrive/Num_Kypoints_1_{Dataset}.png')"
      ],
      "execution_count": null,
      "outputs": []
    },
    {
      "cell_type": "code",
      "metadata": {
        "id": "ZDRlBi3XOd8f"
      },
      "source": [
        "df_numkey_3.to_csv(f'drive/MyDrive/Num_Kypoints_3_{Dataset}.csv')"
      ],
      "execution_count": 91,
      "outputs": []
    },
    {
      "cell_type": "code",
      "metadata": {
        "id": "NJa1lqz8oLgi"
      },
      "source": [
        "#print(len(num_matches_agast))"
      ],
      "execution_count": null,
      "outputs": []
    },
    {
      "cell_type": "markdown",
      "metadata": {
        "id": "SX8IMi-qOhTI"
      },
      "source": [
        "Total Number of Matches Detected for each Detector+Descriptor"
      ]
    },
    {
      "cell_type": "code",
      "metadata": {
        "id": "RmA0wyBIOd3l"
      },
      "source": [
        "#df_match_15['Number of Total Matches'] =  num_matches_agast + num_matches_akaze + num_matches_brisk + num_matches_daisy + num_matches_fast + num_matches_freak + num_matches_gftt + num_matches_kaze + num_matches_mser + num_matches_orb + num_matches_rootsift + num_matches_sift + num_matches_briefstar + num_matches_superpoint+ num_matches_surf+ num_matches_surfsift\n",
        "d = {'Dataset': [f'{Dataset}']*(num_detectors*(len_files-1)), 'Number of Total Matches': num_matches_rootsift + num_matches_sift + num_matches_daisy , 'Detector/Descriptor': ['ROOTSIFT']*(len_files-1) + ['SIFT']*(len_files-1) + ['DAISY+SIFT']*(len_files-1) }\n",
        "df_match_3 = pd.DataFrame(data=d)\n",
        "df_match_3['Number of Total Matches'] = df_match_3['Number of Total Matches']/(len_files-1)"
      ],
      "execution_count": 92,
      "outputs": []
    },
    {
      "cell_type": "code",
      "metadata": {
        "id": "SUZ8fqlHOdzR",
        "colab": {
          "base_uri": "https://localhost:8080/",
          "height": 759
        },
        "outputId": "06b9a6a4-cece-437c-9b99-4ac6a1b98299"
      },
      "source": [
        "import seaborn as sns\n",
        "sns.set_theme(style='whitegrid')\n",
        "\n",
        "\n",
        "# Draw a nested barplot by species and sex\n",
        "g = sns.catplot(\n",
        "    data=df_match_3, kind=\"bar\",\n",
        "    x=\"Dataset\", y=\"Number of Total Matches\", hue=\"Detector/Descriptor\",\n",
        "    ci=\"sd\", palette=\"Spectral\", alpha=.9, height=10, aspect=0.5\n",
        ")\n",
        "g.despine(left=True)\n",
        "g.set_axis_labels(\"Dataset \", \"Total Number of Matches b/w Consecutive/Overlapping Images\")\n",
        "g.legend.set_title(\"Detector/Descriptor\")\n",
        "g.fig.suptitle(\"Total Number of Matches Detected for each Detector/Descriptor in Different Aerial Datasets\")"
      ],
      "execution_count": 93,
      "outputs": [
        {
          "output_type": "execute_result",
          "data": {
            "text/plain": [
              "Text(0.5, 0.98, 'Total Number of Matches Detected for each Detector/Descriptor in Different Aerial Datasets')"
            ]
          },
          "metadata": {
            "tags": []
          },
          "execution_count": 93
        },
        {
          "output_type": "display_data",
          "data": {
            "image/png": "[encoded data removed]",
            "text/plain": [
              "<Figure size 487.55x720 with 1 Axes>"
            ]
          },
          "metadata": {
            "tags": []
          }
        }
      ]
    },
    {
      "cell_type": "code",
      "metadata": {
        "id": "c_WMsBjmOdu1"
      },
      "source": [
        "g.savefig(f'drive/MyDrive/Num_Matches_1_{Dataset}.png')"
      ],
      "execution_count": null,
      "outputs": []
    },
    {
      "cell_type": "code",
      "metadata": {
        "id": "hv58xIv0Odqj"
      },
      "source": [
        "#df_match_16.to_csv('drive/MyDrive/Num_Matches_16.csv')"
      ],
      "execution_count": null,
      "outputs": []
    },
    {
      "cell_type": "markdown",
      "metadata": {
        "id": "KPEmrVP9OrDR"
      },
      "source": [
        "Total Number of Good/Robust Matches (NN+Lowe+RANSAC) Detected for each Detector+Descriptor"
      ]
    },
    {
      "cell_type": "code",
      "metadata": {
        "id": "Tx1DHmzTOt3P"
      },
      "source": [
        "df_match_3['Number of Good Matches'] = num_good_matches_sift + num_good_matches_rootsift + num_good_matches_daisy\n",
        "df_match_3['Number of Good Matches'] = df_match_3['Number of Good Matches']/(len_files-1)"
      ],
      "execution_count": 94,
      "outputs": []
    },
    {
      "cell_type": "code",
      "metadata": {
        "id": "dmL182-COtzw",
        "colab": {
          "base_uri": "https://localhost:8080/",
          "height": 759
        },
        "outputId": "572ab55c-ec73-476f-f096-01e6683ca304"
      },
      "source": [
        "import seaborn as sns\n",
        "sns.set_theme(style='whitegrid')\n",
        "\n",
        "\n",
        "# Draw a nested barplot by species and sex\n",
        "g = sns.catplot(\n",
        "    data=df_match_3, kind=\"bar\",\n",
        "    x=\"Dataset\", y=\"Number of Good Matches\", hue=\"Detector/Descriptor\",\n",
        "    ci=\"sd\", palette=\"Spectral\", alpha=.9, height=10, aspect=0.5\n",
        ")\n",
        "g.despine(left=True)\n",
        "g.set_axis_labels(\"Dataset\", \"Number of Good Matches b/w Consecutive/Overlapping Images\")\n",
        "g.legend.set_title(\"Detector/Descriptor\")\n",
        "g.fig.suptitle(\"Number of Good Matches (Lowe + RANSAC) Detected for each Detector/Descriptor in Different Aerial Datasets\")"
      ],
      "execution_count": 95,
      "outputs": [
        {
          "output_type": "execute_result",
          "data": {
            "text/plain": [
              "Text(0.5, 0.98, 'Number of Good Matches (Lowe + RANSAC) Detected for each Detector/Descriptor in Different Aerial Datasets')"
            ]
          },
          "metadata": {
            "tags": []
          },
          "execution_count": 95
        },
        {
          "output_type": "display_data",
          "data": {
            "image/png": "[encoded data removed]",
            "text/plain": [
              "<Figure size 487.55x720 with 1 Axes>"
            ]
          },
          "metadata": {
            "tags": []
          }
        }
      ]
    },
    {
      "cell_type": "code",
      "metadata": {
        "id": "Ow42UY49OtvS"
      },
      "source": [
        "g.savefig('drive/MyDrive/Num_Good_Matches_1.png')"
      ],
      "execution_count": null,
      "outputs": []
    },
    {
      "cell_type": "code",
      "metadata": {
        "id": "LqbpFnFqOtro"
      },
      "source": [
        "#df_match_16.to_csv('drive/MyDrive/Num_Good_Matches_16.csv')"
      ],
      "execution_count": null,
      "outputs": []
    },
    {
      "cell_type": "markdown",
      "metadata": {
        "id": "hgN-5TGVO1_A"
      },
      "source": [
        "Recall Rate for each Detector+Descriptor"
      ]
    },
    {
      "cell_type": "code",
      "metadata": {
        "id": "Dq_VaaFpO2oh"
      },
      "source": [
        "df_match_3['Recall Rate of Matches'] = df_match_3['Number of Good Matches']/df_match_3['Number of Total Matches']"
      ],
      "execution_count": 96,
      "outputs": []
    },
    {
      "cell_type": "code",
      "metadata": {
        "id": "tRdc-FrzO5Na",
        "colab": {
          "base_uri": "https://localhost:8080/",
          "height": 759
        },
        "outputId": "d713deb2-85c0-478b-cdd6-b7c2694f896d"
      },
      "source": [
        "import seaborn as sns\n",
        "sns.set_theme(style='whitegrid')\n",
        "\n",
        "\n",
        "g = sns.catplot(\n",
        "    data=df_match_3, kind=\"bar\",\n",
        "    x=\"Dataset\", y=\"Recall Rate of Matches\", hue=\"Detector/Descriptor\",\n",
        "    ci=\"sd\", palette=\"Spectral\", alpha=.9, height=10, aspect=0.5\n",
        ")\n",
        "g.despine(left=True)\n",
        "g.set_axis_labels(\"Dataset\", \"Precision of Matches\")\n",
        "g.legend.set_title(\"Detector/Descriptor\")\n",
        "g.fig.suptitle(\"Recall Rate of Matches Detected (Good/Total) for each Detector/Descriptor in Different Aerial Datasets (Higher the Better)\")"
      ],
      "execution_count": 97,
      "outputs": [
        {
          "output_type": "execute_result",
          "data": {
            "text/plain": [
              "Text(0.5, 0.98, 'Recall Rate of Matches Detected (Good/Total) for each Detector/Descriptor in Different Aerial Datasets (Higher the Better)')"
            ]
          },
          "metadata": {
            "tags": []
          },
          "execution_count": 97
        },
        {
          "output_type": "display_data",
          "data": {
            "image/png": "[encoded data removed]",
            "text/plain": [
              "<Figure size 487.55x720 with 1 Axes>"
            ]
          },
          "metadata": {
            "tags": []
          }
        }
      ]
    },
    {
      "cell_type": "code",
      "metadata": {
        "id": "tkDLeij5O5IP"
      },
      "source": [
        "g.savefig('drive/MyDrive/Recall_Rate_Matches_1.png')"
      ],
      "execution_count": null,
      "outputs": []
    },
    {
      "cell_type": "markdown",
      "metadata": {
        "id": "7QK0j7jsO-gP"
      },
      "source": [
        "1-Precision Rate for each Detector+Descriptor"
      ]
    },
    {
      "cell_type": "code",
      "metadata": {
        "id": "XbU_yfEfO5Cw"
      },
      "source": [
        "df_match_3['1 - Precision Rate of Matches'] = (df_match_3['Number of Total Matches'] - df_match_3['Number of Good Matches'])/df_match_3['Number of Total Matches']"
      ],
      "execution_count": 98,
      "outputs": []
    },
    {
      "cell_type": "code",
      "metadata": {
        "id": "yQakh0q8O49P",
        "colab": {
          "base_uri": "https://localhost:8080/",
          "height": 759
        },
        "outputId": "5fe0fccf-14ad-46c0-9acc-125db2b4a605"
      },
      "source": [
        "import seaborn as sns\n",
        "sns.set_theme(style='whitegrid')\n",
        "\n",
        "\n",
        "# Draw a nested barplot by species and sex\n",
        "g = sns.catplot(\n",
        "    data=df_match_3, kind=\"bar\",\n",
        "    x=\"Dataset\", y=\"1 - Precision Rate of Matches\", hue=\"Detector/Descriptor\",\n",
        "    ci=\"sd\", palette=\"Spectral\", alpha=.9, height=10, aspect=0.5\n",
        ")\n",
        "g.despine(left=True)\n",
        "g.set_axis_labels(\"Dataset (120 Images)\", \"1 - Precision Rate of Matches\")\n",
        "g.legend.set_title(\"Detector/Descriptor\")\n",
        "g.fig.suptitle(\"1 - Precision rate of Matches Detected (False/Total Matches) for each Detector/Descriptor in Different Aerial Datasets (Lower the Better)\")"
      ],
      "execution_count": 99,
      "outputs": [
        {
          "output_type": "execute_result",
          "data": {
            "text/plain": [
              "Text(0.5, 0.98, '1 - Precision rate of Matches Detected (False/Total Matches) for each Detector/Descriptor in Different Aerial Datasets (Lower the Better)')"
            ]
          },
          "metadata": {
            "tags": []
          },
          "execution_count": 99
        },
        {
          "output_type": "display_data",
          "data": {
            "image/png": "[encoded data removed]",
            "text/plain": [
              "<Figure size 487.55x720 with 1 Axes>"
            ]
          },
          "metadata": {
            "tags": []
          }
        }
      ]
    },
    {
      "cell_type": "code",
      "metadata": {
        "id": "SmcYnpiUO45J"
      },
      "source": [
        "g.savefig('drive/MyDrive/One_minus_Precision_Rate_Matches_1.png')"
      ],
      "execution_count": null,
      "outputs": []
    },
    {
      "cell_type": "markdown",
      "metadata": {
        "id": "RsiNPE0QPHQx"
      },
      "source": [
        "F-Score for each Detector+Descriptor"
      ]
    },
    {
      "cell_type": "code",
      "metadata": {
        "id": "EQdlNOnVPE77"
      },
      "source": [
        "df_match_3['F-Score'] = (2* (1 - df_match_3['1 - Precision Rate of Matches']) * df_match_3['Recall Rate of Matches'])/((1 - df_match_3['1 - Precision Rate of Matches']) + df_match_3['Recall Rate of Matches'])"
      ],
      "execution_count": 100,
      "outputs": []
    },
    {
      "cell_type": "code",
      "metadata": {
        "id": "CCtYcjcSPE4F",
        "colab": {
          "base_uri": "https://localhost:8080/",
          "height": 759
        },
        "outputId": "745e39cc-fc05-4498-9f49-5f36305bd726"
      },
      "source": [
        "import seaborn as sns\n",
        "sns.set_theme(style='whitegrid')\n",
        "\n",
        "\n",
        "# Draw a nested barplot by species and sex\n",
        "g = sns.catplot(\n",
        "    data=df_match_3, kind=\"bar\",\n",
        "    x=\"Dataset\", y=\"F-Score\", hue=\"Detector/Descriptor\",\n",
        "    ci=\"sd\", palette=\"Spectral\", alpha=.9, height=10, aspect=0.5\n",
        ")\n",
        "g.despine(left=True)\n",
        "g.set_axis_labels(\"Dataset\", \"F-Score\")\n",
        "g.legend.set_title(\"Detector/Descriptor\")\n",
        "g.fig.suptitle(\"F-Score of Matches Detected (2*P*R/P+R) for each Detector/Descriptor in Different Aerial Datasets (Higher the Better)\")"
      ],
      "execution_count": 101,
      "outputs": [
        {
          "output_type": "execute_result",
          "data": {
            "text/plain": [
              "Text(0.5, 0.98, 'F-Score of Matches Detected (2*P*R/P+R) for each Detector/Descriptor in Different Aerial Datasets (Higher the Better)')"
            ]
          },
          "metadata": {
            "tags": []
          },
          "execution_count": 101
        },
        {
          "output_type": "display_data",
          "data": {
            "image/png": "[encoded data removed]",
            "text/plain": [
              "<Figure size 487.55x720 with 1 Axes>"
            ]
          },
          "metadata": {
            "tags": []
          }
        }
      ]
    },
    {
      "cell_type": "code",
      "metadata": {
        "id": "ibvFlM-QPE0j"
      },
      "source": [
        "g.savefig('drive/MyDrive/F_Score_Rate_Matches_1.png')"
      ],
      "execution_count": null,
      "outputs": []
    },
    {
      "cell_type": "code",
      "metadata": {
        "id": "i8uLq4m2PEvl"
      },
      "source": [
        "df_match_3.to_csv('drive/MyDrive/All_metrics_3.csv')"
      ],
      "execution_count": 102,
      "outputs": []
    },
    {
      "cell_type": "markdown",
      "metadata": {
        "id": "OAURAn7oPQrG"
      },
      "source": [
        "Time for each Detector+Descriptor"
      ]
    },
    {
      "cell_type": "code",
      "metadata": {
        "id": "VE704mWRPEqI"
      },
      "source": [
        "d = {'Dataset': [f'{Dataset}']*(num_detectors), 'Time': [time_all[0]] + [time_all[1]] + [time_all[2]], 'Detector/Descriptor': ['SIFT']*(1) + ['ROOTSIFT']*(1) + ['DAISY+SIFT']*(1) }\n",
        "df_time_3 = pd.DataFrame(data=d)"
      ],
      "execution_count": 107,
      "outputs": []
    },
    {
      "cell_type": "code",
      "metadata": {
        "id": "SnBKna22PTV3",
        "colab": {
          "base_uri": "https://localhost:8080/"
        },
        "outputId": "52a53206-5acf-4df4-903c-45a757f7a151"
      },
      "source": [
        "print(df_time_3)"
      ],
      "execution_count": 108,
      "outputs": [
        {
          "output_type": "stream",
          "text": [
            "                 Dataset        Time Detector/Descriptor\n",
            "0  Small Village Dataset  739.386023                SIFT\n",
            "1  Small Village Dataset  726.929643            ROOTSIFT\n",
            "2  Small Village Dataset  748.542295          DAISY+SIFT\n"
          ],
          "name": "stdout"
        }
      ]
    },
    {
      "cell_type": "code",
      "metadata": {
        "id": "TDc45piJPTQi",
        "colab": {
          "base_uri": "https://localhost:8080/",
          "height": 759
        },
        "outputId": "b97b2d88-fb48-406b-9356-dc2c8e5706b2"
      },
      "source": [
        "import seaborn as sns\n",
        "sns.set_theme(style='whitegrid')\n",
        "\n",
        "\n",
        "# Draw a nested barplot by species and sex\n",
        "g = sns.catplot(\n",
        "    data=df_time_3, kind=\"bar\",\n",
        "    x=\"Dataset\", y=\"Time\", hue=\"Detector/Descriptor\",\n",
        "    ci=\"sd\", palette=\"Spectral\", alpha=.9, height=10, aspect=0.5\n",
        ")\n",
        "g.despine(left=True)\n",
        "g.set_axis_labels(\"Dataset\", \"Time (in sec)\")\n",
        "g.legend.set_title(\"Detector/Descriptor\")\n",
        "g.fig.suptitle(\"Time taken during Feature Extraction by each Detector/Descriptor in Different Aerial Datasets (Lower the Better)\")"
      ],
      "execution_count": 109,
      "outputs": [
        {
          "output_type": "execute_result",
          "data": {
            "text/plain": [
              "Text(0.5, 0.98, 'Time taken during Feature Extraction by each Detector/Descriptor in Different Aerial Datasets (Lower the Better)')"
            ]
          },
          "metadata": {
            "tags": []
          },
          "execution_count": 109
        },
        {
          "output_type": "display_data",
          "data": {
            "image/png": "[encoded data removed]",
            "text/plain": [
              "<Figure size 487.55x720 with 1 Axes>"
            ]
          },
          "metadata": {
            "tags": []
          }
        }
      ]
    },
    {
      "cell_type": "code",
      "metadata": {
        "id": "TdWb9SaEPTM5"
      },
      "source": [
        "g.savefig('drive/MyDrive/Time_1.png')"
      ],
      "execution_count": null,
      "outputs": []
    },
    {
      "cell_type": "code",
      "metadata": {
        "id": "VpAp8atPPTJN"
      },
      "source": [
        "df_time_3.to_csv('drive/MyDrive/Time_3.csv')"
      ],
      "execution_count": 110,
      "outputs": []
    },
    {
      "cell_type": "markdown",
      "metadata": {
        "id": "eYEIN3_QPca0"
      },
      "source": [
        "Stitching with CPU"
      ]
    },
    {
      "cell_type": "code",
      "metadata": {
        "id": "a5yhDnhjPTDI"
      },
      "source": [
        ""
      ],
      "execution_count": null,
      "outputs": []
    }
  ]
}
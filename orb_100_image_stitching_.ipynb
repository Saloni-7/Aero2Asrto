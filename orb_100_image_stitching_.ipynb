{
  "nbformat": 4,
  "nbformat_minor": 0,
  "metadata": {
    "colab": {
      "name": "orb_100_image_stitching_.ipynb",
      "provenance": [],
      "collapsed_sections": []
    },
    "kernelspec": {
      "name": "python3",
      "display_name": "Python 3"
    },
    "language_info": {
      "name": "python"
    }
  },
  "cells": [
    {
      "cell_type": "code",
      "metadata": {
        "id": "mdJ6vjClq5Uu"
      },
      "source": [
        "import numpy as np\n",
        "import cv2\n",
        "import scipy.io\n",
        "import os\n",
        "from numpy.linalg import norm\n",
        "from matplotlib import pyplot as plt\n",
        "from numpy.linalg import det\n",
        "from numpy.linalg import inv\n",
        "from scipy.linalg import rq\n",
        "from numpy.linalg import svd\n",
        "import matplotlib.pyplot as plt\n",
        "import numpy as np\n",
        "import math\n",
        "import random\n",
        "import sys\n",
        "from scipy import ndimage, spatial\n",
        "from tqdm.notebook import tqdm, trange\n",
        "\n",
        "import torch\n",
        "import torch.nn as nn\n",
        "import torch.optim as optim\n",
        "from torch.optim import lr_scheduler\n",
        "from torch.autograd import Variable\n",
        "import torchvision\n",
        "from torchvision import datasets, models, transforms\n",
        "from torch.utils.data import Dataset, DataLoader, ConcatDataset\n",
        "from skimage import io, transform,data\n",
        "from torchvision import transforms, utils\n",
        "import numpy as np\n",
        "import math\n",
        "import glob\n",
        "import matplotlib.pyplot as plt\n",
        "import time\n",
        "import os\n",
        "import copy\n",
        "import sklearn.svm\n",
        "import cv2\n",
        "from matplotlib import pyplot as plt\n",
        "import numpy as np\n",
        "from os.path import exists\n",
        "import pandas as pd\n",
        "import PIL\n",
        "import random\n",
        "from google.colab import drive\n",
        "from sklearn.metrics.cluster import completeness_score\n",
        "from sklearn.cluster import KMeans\n",
        "from tqdm import tqdm, tqdm_notebook\n",
        "from functools import partial\n",
        "from torchsummary import summary\n",
        "from torchvision.datasets import ImageFolder\n",
        "from torch.utils.data.sampler import SubsetRandomSampler"
      ],
      "execution_count": 1,
      "outputs": []
    },
    {
      "cell_type": "code",
      "metadata": {
        "colab": {
          "base_uri": "https://localhost:8080/"
        },
        "id": "uv5E1BcGrPKz",
        "outputId": "2e3ee5f7-c163-4961-ed12-bde342eb37e2"
      },
      "source": [
        "from google.colab import drive\n",
        "\n",
        "# This will prompt for authorization.\n",
        "drive.mount('/content/drive')"
      ],
      "execution_count": 2,
      "outputs": [
        {
          "output_type": "stream",
          "text": [
            "Drive already mounted at /content/drive; to attempt to forcibly remount, call drive.mount(\"/content/drive\", force_remount=True).\n"
          ],
          "name": "stdout"
        }
      ]
    },
    {
      "cell_type": "code",
      "metadata": {
        "colab": {
          "base_uri": "https://localhost:8080/"
        },
        "id": "YaGE7mgJrc3O",
        "outputId": "cf5fee59-1b31-4b58-e01b-f734271def3b"
      },
      "source": [
        "!pip install opencv-python==3.4.2.17\n",
        "!pip install opencv-contrib-python==3.4.2.17"
      ],
      "execution_count": 3,
      "outputs": [
        {
          "output_type": "stream",
          "text": [
            "Requirement already satisfied: opencv-python==3.4.2.17 in /usr/local/lib/python3.7/dist-packages (3.4.2.17)\n",
            "Requirement already satisfied: numpy>=1.14.5 in /usr/local/lib/python3.7/dist-packages (from opencv-python==3.4.2.17) (1.19.5)\n",
            "Requirement already satisfied: opencv-contrib-python==3.4.2.17 in /usr/local/lib/python3.7/dist-packages (3.4.2.17)\n",
            "Requirement already satisfied: numpy>=1.14.5 in /usr/local/lib/python3.7/dist-packages (from opencv-contrib-python==3.4.2.17) (1.19.5)\n"
          ],
          "name": "stdout"
        }
      ]
    },
    {
      "cell_type": "code",
      "metadata": {
        "id": "2NWGZAUprc1Z"
      },
      "source": [
        "class Image:\n",
        "    def __init__(self, img, position):\n",
        "        \n",
        "        self.img = img\n",
        "        self.position = position\n",
        "\n",
        "inlier_matchset = []\n",
        "def features_matching(a,keypointlength,threshold):\n",
        "  #threshold=0.2\n",
        "  bestmatch=np.empty((keypointlength),dtype= np.int16)\n",
        "  img1index=np.empty((keypointlength),dtype=np.int16)\n",
        "  distance=np.empty((keypointlength))\n",
        "  index=0\n",
        "  for j in range(0,keypointlength):\n",
        "    #For a descriptor fa in Ia, take the two closest descriptors fb1 and fb2 in Ib\n",
        "    x=a[j]\n",
        "    listx=x.tolist()\n",
        "    x.sort()\n",
        "    minval1=x[0]                                # min \n",
        "    minval2=x[1]                                # 2nd min\n",
        "    itemindex1 = listx.index(minval1)           #index of min val    \n",
        "    itemindex2 = listx.index(minval2)           #index of second min value \n",
        "    ratio=minval1/minval2                       #Ratio Test\n",
        "    \n",
        "    if ratio<threshold: \n",
        "      #Low distance ratio: fb1 can be a good match\n",
        "      bestmatch[index]=itemindex1\n",
        "      distance[index]=minval1\n",
        "      img1index[index]=j\n",
        "      index=index+1\n",
        "  return  [cv2.DMatch(img1index[i],bestmatch[i].astype(int),distance[i]) for i in range(0,index)]\n",
        "          \n",
        "   \n",
        "  \n",
        "def compute_Homography(im1_pts,im2_pts):\n",
        "  \"\"\"\n",
        "  im1_pts and im2_pts are 2×n matrices with\n",
        "  4 point correspondences from the two images\n",
        "  \"\"\"\n",
        "  num_matches=len(im1_pts)\n",
        "  num_rows = 2 * num_matches\n",
        "  num_cols = 9\n",
        "  A_matrix_shape = (num_rows,num_cols)\n",
        "  A = np.zeros(A_matrix_shape)\n",
        "  a_index = 0\n",
        "  for i in range(0,num_matches):\n",
        "    (a_x, a_y) = im1_pts[i]\n",
        "    (b_x, b_y) = im2_pts[i]\n",
        "    row1 = [a_x, a_y, 1, 0, 0, 0, -b_x*a_x, -b_x*a_y, -b_x] # First row \n",
        "    row2 = [0, 0, 0, a_x, a_y, 1, -b_y*a_x, -b_y*a_y, -b_y] # Second row \n",
        "\n",
        "    # place the rows in the matrix\n",
        "    A[a_index] = row1\n",
        "    A[a_index+1] = row2\n",
        "\n",
        "    a_index += 2\n",
        "    \n",
        "  U, s, Vt = np.linalg.svd(A)\n",
        "\n",
        "  #s is a 1-D array of singular values sorted in descending order\n",
        "  #U, Vt are unitary matrices\n",
        "  #Rows of Vt are the eigenvectors of A^TA.\n",
        "  #Columns of U are the eigenvectors of AA^T.\n",
        "  H = np.eye(3)\n",
        "  H = Vt[-1].reshape(3,3) # take the last row of the Vt matrix\n",
        "  return H\n",
        "  \n",
        "  \n",
        "def displayplot(img,title):\n",
        "  \n",
        "  plt.figure(figsize=(15,15))\n",
        "  plt.title(title)\n",
        "  plt.imshow(cv2.cvtColor(img, cv2.COLOR_BGR2RGB))\n",
        "  plt.show()"
      ],
      "execution_count": 4,
      "outputs": []
    },
    {
      "cell_type": "code",
      "metadata": {
        "id": "FSkiJvPzrcxx"
      },
      "source": [
        "def get_inliers(f1, f2, matches, H, RANSACthresh):\n",
        "\n",
        "  inlier_indices = []\n",
        "  for i in range(len(matches)):\n",
        "    queryInd = matches[i].queryIdx\n",
        "    trainInd = matches[i].trainIdx\n",
        "\n",
        "    #queryInd = matches[i][0]\n",
        "    #trainInd = matches[i][1]\n",
        "\n",
        "    queryPoint = np.array([f1[queryInd].pt[0],  f1[queryInd].pt[1], 1]).T \n",
        "    trans_query = H.dot(queryPoint) \n",
        "\n",
        "   \n",
        "    comp1 = [trans_query[0]/trans_query[2], trans_query[1]/trans_query[2]] # normalize with respect to z\n",
        "    comp2 = np.array(f2[trainInd].pt)[:2]\n",
        "    \n",
        "\n",
        "    if(np.linalg.norm(comp1-comp2) <= RANSACthresh): # check against threshold\n",
        "      inlier_indices.append(i)\n",
        "  return inlier_indices\n",
        "\n",
        "\n",
        "def RANSAC_alg(f1, f2, matches, nRANSAC, RANSACthresh):\n",
        "\n",
        "      \n",
        "    minMatches = 4\n",
        "    nBest = 0\n",
        "    best_inliers = []\n",
        "    H_estimate = np.eye(3,3)\n",
        "    global inlier_matchset\n",
        "    inlier_matchset=[]\n",
        "    for iteration in range(nRANSAC):\n",
        "      \n",
        "        #Choose a minimal set of feature matches.\n",
        "        matchSample = random.sample(matches, minMatches)\n",
        "        \n",
        "        #Estimate the Homography implied by these matches\n",
        "        im1_pts=np.empty((minMatches,2))\n",
        "        im2_pts=np.empty((minMatches,2))\n",
        "        for i in range(0,minMatches):\n",
        "          m = matchSample[i]\n",
        "          im1_pts[i] = f1[m.queryIdx].pt\n",
        "          im2_pts[i] = f2[m.trainIdx].pt\n",
        "          #im1_pts[i] = f1[m[0]].pt\n",
        "          #im2_pts[i] = f2[m[1]].pt             \n",
        "          \n",
        "        H_estimate=compute_Homography(im1_pts,im2_pts)\n",
        "        \n",
        "               \n",
        "        # Calculate the inliers for the H\n",
        "        inliers = get_inliers(f1, f2, matches, H_estimate, RANSACthresh)\n",
        "\n",
        "        # if the number of inliers is higher than previous iterations, update the best estimates\n",
        "        if len(inliers) > nBest:\n",
        "            nBest= len(inliers)\n",
        "            best_inliers = inliers\n",
        "\n",
        "    print(\"Number of best inliers\",len(best_inliers))\n",
        "    for i in range(len(best_inliers)):\n",
        "      inlier_matchset.append(matches[best_inliers[i]])\n",
        "    \n",
        "    # compute a homography given this set of matches\n",
        "    im1_pts=np.empty((len(best_inliers),2))\n",
        "    im2_pts=np.empty((len(best_inliers),2))\n",
        "    for i in range(0,len(best_inliers)):\n",
        "      m = inlier_matchset[i]\n",
        "      im1_pts[i] = f1[m.queryIdx].pt\n",
        "      im2_pts[i] = f2[m.trainIdx].pt\n",
        "      #im1_pts[i] = f1[m[0]].pt\n",
        "      #im2_pts[i] = f2[m[1]].pt\n",
        "\n",
        "    M=compute_Homography(im1_pts,im2_pts)\n",
        "    return M, best_inliers"
      ],
      "execution_count": 5,
      "outputs": []
    },
    {
      "cell_type": "code",
      "metadata": {
        "id": "j7uVMHTkrcvc"
      },
      "source": [
        "files_all=[]\n",
        "for file in os.listdir(\"/content/drive/MyDrive/RGB-img/img/\"):\n",
        "    if file.endswith(\".JPG\"):\n",
        "      files_all.append(file)\n",
        "\n",
        "\n",
        "files_all.sort()\n",
        "folder_path = '/content/drive/MyDrive/RGB-img/img/'\n",
        "\n",
        "centre_file = folder_path + files_all[50]\n",
        "left_files_path_rev = []\n",
        "right_files_path = []\n",
        "\n",
        "for file in files_all[:51]:\n",
        "  left_files_path_rev.append(folder_path + file)\n",
        "\n",
        "left_files_path = left_files_path_rev[::-1]\n",
        "\n",
        "for file in files_all[49:100]:\n",
        "  right_files_path.append(folder_path + file)"
      ],
      "execution_count": 6,
      "outputs": []
    },
    {
      "cell_type": "code",
      "metadata": {
        "id": "ZCBnjcxprcpY",
        "colab": {
          "base_uri": "https://localhost:8080/"
        },
        "outputId": "5da852c3-f7b3-49ad-eb32-0212f7fcd1fa"
      },
      "source": [
        "gridsize = 8\n",
        "clahe = cv2.createCLAHE(clipLimit=2.0,tileGridSize=(gridsize,gridsize))\n",
        "\n",
        "images_left_bgr = []\n",
        "images_right_bgr = []\n",
        "\n",
        "images_left = []\n",
        "images_right = []\n",
        "\n",
        "for file in tqdm(left_files_path):\n",
        "  left_image_sat= cv2.imread(file)\n",
        "  lab = cv2.cvtColor(left_image_sat, cv2.COLOR_BGR2LAB)\n",
        "  lab[...,0] = clahe.apply(lab[...,0])\n",
        "  left_image_sat = cv2.cvtColor(lab, cv2.COLOR_LAB2BGR)\n",
        "  left_img = cv2.resize(left_image_sat,None,fx=0.35, fy=0.35, interpolation = cv2.INTER_CUBIC)\n",
        "  images_left.append(cv2.cvtColor(left_img, cv2.COLOR_BGR2GRAY).astype('float32')/255.)\n",
        "  images_left_bgr.append(left_img)\n",
        "\n",
        "\n",
        "for file in tqdm(right_files_path):\n",
        "  right_image_sat= cv2.imread(file)\n",
        "  lab = cv2.cvtColor(right_image_sat, cv2.COLOR_BGR2LAB)\n",
        "  lab[...,0] = clahe.apply(lab[...,0])\n",
        "  right_image_sat = cv2.cvtColor(lab, cv2.COLOR_LAB2BGR)\n",
        "  right_img = cv2.resize(right_image_sat,None,fx=0.35,fy=0.35, interpolation = cv2.INTER_CUBIC)\n",
        "  images_right.append(cv2.cvtColor(right_img, cv2.COLOR_BGR2GRAY).astype('float32')/255.)\n",
        "  images_right_bgr.append(right_img)"
      ],
      "execution_count": 7,
      "outputs": [
        {
          "output_type": "stream",
          "text": [
            "100%|██████████| 51/51 [00:59<00:00,  1.17s/it]\n",
            "100%|██████████| 51/51 [00:58<00:00,  1.15s/it]\n"
          ],
          "name": "stderr"
        }
      ]
    },
    {
      "cell_type": "code",
      "metadata": {
        "id": "auFWP6IPrcmW",
        "colab": {
          "base_uri": "https://localhost:8080/"
        },
        "outputId": "e4d325b9-2446-4ea2-a8ad-f9ce2dd409bf"
      },
      "source": [
        "images_left_bgr_no_enhance = []\n",
        "images_right_bgr_no_enhance = []\n",
        "\n",
        "\n",
        "for file in tqdm(left_files_path):\n",
        "  left_image_sat= cv2.imread(file)\n",
        "  left_img = cv2.resize(left_image_sat,None,fx=0.35, fy=0.35, interpolation = cv2.INTER_CUBIC)\n",
        "  images_left_bgr_no_enhance.append(left_img)\n",
        "\n",
        "\n",
        "for file in tqdm(right_files_path):\n",
        "  right_image_sat= cv2.imread(file)\n",
        "  right_img = cv2.resize(right_image_sat,None,fx=0.35,fy=0.35, interpolation = cv2.INTER_CUBIC)\n",
        "  images_right_bgr_no_enhance.append(right_img)"
      ],
      "execution_count": 8,
      "outputs": [
        {
          "output_type": "stream",
          "text": [
            "100%|██████████| 51/51 [00:22<00:00,  2.31it/s]\n",
            "100%|██████████| 51/51 [00:22<00:00,  2.28it/s]\n"
          ],
          "name": "stderr"
        }
      ]
    },
    {
      "cell_type": "code",
      "metadata": {
        "colab": {
          "base_uri": "https://localhost:8080/"
        },
        "id": "HDUg9DhLj22U",
        "outputId": "5734eeb2-f9f5-4762-d86f-75d6422a7f0d"
      },
      "source": [
        "orb = cv2.ORB_create(5000)\n",
        "\n",
        "\n",
        "keypoints_all_left_orb = []\n",
        "descriptors_all_left_orb = []\n",
        "points_all_left_orb=[]\n",
        "\n",
        "keypoints_all_right_orb = []\n",
        "descriptors_all_right_orb = []\n",
        "points_all_right_orb=[]\n",
        "\n",
        "for imgs in tqdm(images_left_bgr):\n",
        "  kpt = orb.detect(imgs,None)\n",
        "  kpt,descrip =  orb.compute(imgs, kpt)\n",
        "  keypoints_all_left_orb.append(kpt)\n",
        "  descriptors_all_left_orb.append(descrip)\n",
        "  points_all_left_orb.append(np.asarray([[p.pt[0], p.pt[1]] for p in kpt]))\n",
        "\n",
        "for imgs in tqdm(images_right_bgr):\n",
        "  kpt = orb.detect(imgs,None)\n",
        "  kpt,descrip =  orb.compute(imgs, kpt)\n",
        "  keypoints_all_right_orb.append(kpt)\n",
        "  descriptors_all_right_orb.append(descrip)\n",
        "  points_all_right_orb.append(np.asarray([[p.pt[0], p.pt[1]] for p in kpt]))"
      ],
      "execution_count": 9,
      "outputs": [
        {
          "output_type": "stream",
          "text": [
            "100%|██████████| 51/51 [00:09<00:00,  5.23it/s]\n",
            "100%|██████████| 51/51 [00:09<00:00,  5.34it/s]\n"
          ],
          "name": "stderr"
        }
      ]
    },
    {
      "cell_type": "code",
      "metadata": {
        "colab": {
          "base_uri": "https://localhost:8080/"
        },
        "id": "AUyn1npysJNk",
        "outputId": "067086e8-1c2c-4271-9171-87d1387d9a6f"
      },
      "source": [
        "num_kps_orb = []\n",
        "for j in tqdm(keypoints_all_left_orb + keypoints_all_right_orb):\n",
        "  num_kps_orb.append(len(j))"
      ],
      "execution_count": 10,
      "outputs": [
        {
          "output_type": "stream",
          "text": [
            "100%|██████████| 102/102 [00:00<00:00, 345293.79it/s]\n"
          ],
          "name": "stderr"
        }
      ]
    },
    {
      "cell_type": "code",
      "metadata": {
        "id": "P46iswYWrcg1"
      },
      "source": [
        "def compute_homography_fast(matched_pts1, matched_pts2,thresh=4):\n",
        "    #matched_pts1 = cv2.KeyPoint_convert(matched_kp1)\n",
        "    #matched_pts2 = cv2.KeyPoint_convert(matched_kp2)\n",
        "\n",
        "    # Estimate the homography between the matches using RANSAC\n",
        "    H, inliers = cv2.findHomography(matched_pts1,\n",
        "                                    matched_pts2,\n",
        "                                    cv2.RANSAC, ransacReprojThreshold =thresh)\n",
        "    inliers = inliers.flatten()\n",
        "    return H, inliers"
      ],
      "execution_count": 11,
      "outputs": []
    },
    {
      "cell_type": "code",
      "metadata": {
        "id": "k3KMCQwcrcbT"
      },
      "source": [
        "def get_Hmatrix(imgs,keypts,pts,descripts,ratio=0.8,thresh=4,disp=False):\n",
        "  FLANN_INDEX_KDTREE = 2\n",
        "  index_params = dict(algorithm=FLANN_INDEX_KDTREE, trees=5)\n",
        "  search_params = dict(checks=50)\n",
        "  flann = cv2.FlannBasedMatcher(index_params, search_params)\n",
        "  #flann = cv2.BFMatcher()\n",
        "\n",
        "  lff1 = np.float32(descripts[0])\n",
        "  lff = np.float32(descripts[1])\n",
        "\n",
        "\n",
        "  matches_lf1_lf = flann.knnMatch(lff1, lff, k=2)\n",
        "\n",
        "  print(\"\\nNumber of matches\",len(matches_lf1_lf))\n",
        "\n",
        "  matches_4 = []\n",
        "  ratio = ratio\n",
        "  # loop over the raw matches\n",
        "  for m in matches_lf1_lf:\n",
        "    # ensure the distance is within a certain ratio of each\n",
        "    # other (i.e. Lowe’s ratio test)\n",
        "    if len(m) == 2 and m[0].distance < m[1].distance * ratio:\n",
        "        #matches_1.append((m[0].trainIdx, m[0].queryIdx))\n",
        "        matches_4.append(m[0])\n",
        "\n",
        "  print(\"Number of matches After Lowe's Ratio\",len(matches_4))\n",
        "  \n",
        "  matches_idx = np.array([m.queryIdx for m in matches_4])\n",
        "  imm1_pts = np.array([keypts[0][idx].pt for idx in matches_idx])\n",
        "  matches_idx = np.array([m.trainIdx for m in matches_4])\n",
        "  imm2_pts = np.array([keypts[1][idx].pt for idx in matches_idx])\n",
        "  '''\n",
        "  # Estimate homography 1\n",
        "  #Compute H1\n",
        "  # Estimate homography 1\n",
        "  #Compute H1\n",
        "  imm1_pts=np.empty((len(matches_4),2))\n",
        "  imm2_pts=np.empty((len(matches_4),2))\n",
        "  for i in range(0,len(matches_4)):\n",
        "    m = matches_4[i]\n",
        "    (a_x, a_y) = keypts[0][m.queryIdx].pt\n",
        "    (b_x, b_y) = keypts[1][m.trainIdx].pt\n",
        "    imm1_pts[i]=(a_x, a_y)\n",
        "    imm2_pts[i]=(b_x, b_y)    \n",
        "  H=compute_Homography(imm1_pts,imm2_pts) \n",
        "  #Robustly estimate Homography 1 using RANSAC\n",
        "  Hn, best_inliers=RANSAC_alg(keypts[0] ,keypts[1], matches_4,  nRANSAC=1000, RANSACthresh=6)\n",
        "  '''\n",
        "  \n",
        "  \n",
        "  Hn,inliers = compute_homography_fast(imm1_pts,imm2_pts,thresh)  \n",
        "  inlier_matchset = np.array(matches_4)[inliers.astype(bool)].tolist()\n",
        "  print(\"Number of Robust matches\",len(inlier_matchset))\n",
        "  print(\"\\n\")\n",
        "  '''\n",
        "  if len(inlier_matchset)<50:\n",
        "    matches_4 = []\n",
        "    ratio = 0.67\n",
        "    # loop over the raw matches\n",
        "    for m in matches_lf1_lf:\n",
        "      # ensure the distance is within a certain ratio of each\n",
        "      # other (i.e. Lowe’s ratio test)\n",
        "      if len(m) == 2 and m[0].distance < m[1].distance * ratio:\n",
        "          #matches_1.append((m[0].trainIdx, m[0].queryIdx))\n",
        "          matches_4.append(m[0])\n",
        "    print(\"Number of matches After Lowe's Ratio New\",len(matches_4))\n",
        "  \n",
        "    matches_idx = np.array([m.queryIdx for m in matches_4])\n",
        "    imm1_pts = np.array([keypts[0][idx].pt for idx in matches_idx])\n",
        "    matches_idx = np.array([m.trainIdx for m in matches_4])\n",
        "    imm2_pts = np.array([keypts[1][idx].pt for idx in matches_idx])\n",
        "    Hn,inliers = compute_homography_fast_other(imm1_pts,imm2_pts)  \n",
        "    inlier_matchset = np.array(matches_4)[inliers.astype(bool)].tolist()\n",
        "    print(\"Number of Robust matches New\",len(inlier_matchset))\n",
        "    print(\"\\n\")    \n",
        "    '''\n",
        "  #H=compute_Homography(imm1_pts,imm2_pts) \n",
        "  #Robustly estimate Homography 1 using RANSAC\n",
        "  #Hn=RANSAC_alg(keypts[0] ,keypts[1], matches_4,  nRANSAC=1500, RANSACthresh=6)\n",
        "\n",
        "  #global inlier_matchset   \n",
        "  \n",
        "  if disp==True:\n",
        "    dispimg1=cv2.drawMatches(imgs[0], keypts[0], imgs[1], keypts[1], inlier_matchset, None,flags=2)\n",
        "    displayplot(dispimg1,'Robust Matching between Reference Image and Right Image ')\n",
        "  \n",
        "  return Hn/Hn[2,2], len(matches_lf1_lf), len(inlier_matchset)"
      ],
      "execution_count": 12,
      "outputs": []
    },
    {
      "cell_type": "code",
      "metadata": {
        "id": "WIXAppT4rcYh"
      },
      "source": [
        "from functools import partial\n",
        "from tqdm import tqdm\n",
        "tqdm = partial(tqdm, position=0, leave=True)"
      ],
      "execution_count": 13,
      "outputs": []
    },
    {
      "cell_type": "code",
      "metadata": {
        "colab": {
          "base_uri": "https://localhost:8080/"
        },
        "id": "9hOVOaxHFgBU",
        "outputId": "9262474b-1994-48fc-b1ba-41001db563a3"
      },
      "source": [
        "H_left_orb = []\n",
        "H_right_orb = []\n",
        "\n",
        "num_matches_orb = []\n",
        "num_good_matches_orb = []\n",
        "\n",
        "for j in tqdm(range(len(images_left))):\n",
        "  if j==len(images_left)-1:\n",
        "    break\n",
        "\n",
        "  H_a,matches,gd_matches = get_Hmatrix(images_left_bgr[j:j+2][::-1],keypoints_all_left_orb[j:j+2][::-1],points_all_left_orb[j:j+2][::-1],descriptors_all_left_orb[j:j+2][::-1],0.9)\n",
        "  H_left_orb.append(H_a)\n",
        "  num_matches_orb.append(matches)\n",
        "  num_good_matches_orb.append(gd_matches)\n",
        "\n",
        "for j in tqdm(range(len(images_right))):\n",
        "  if j==len(images_right)-1:\n",
        "    break\n",
        "\n",
        "  H_a,matches,gd_matches = get_Hmatrix(images_right_bgr[j:j+2][::-1],keypoints_all_right_orb[j:j+2][::-1],points_all_right_orb[j:j+2][::-1],descriptors_all_right_orb[j:j+2][::-1],0.9)\n",
        "  H_right_orb.append(H_a)\n",
        "  num_matches_orb.append(matches)\n",
        "  num_good_matches_orb.append(gd_matches)"
      ],
      "execution_count": 14,
      "outputs": [
        {
          "output_type": "stream",
          "text": [
            "  2%|▏         | 1/51 [00:00<00:12,  3.98it/s]"
          ],
          "name": "stderr"
        },
        {
          "output_type": "stream",
          "text": [
            "\n",
            "Number of matches 5000\n",
            "Number of matches After Lowe's Ratio 1119\n",
            "Number of Robust matches 169\n",
            "\n",
            "\n"
          ],
          "name": "stdout"
        },
        {
          "output_type": "stream",
          "text": [
            "\r  4%|▍         | 2/51 [00:00<00:11,  4.21it/s]"
          ],
          "name": "stderr"
        },
        {
          "output_type": "stream",
          "text": [
            "\n",
            "Number of matches 5000\n",
            "Number of matches After Lowe's Ratio 1306\n",
            "Number of Robust matches 409\n",
            "\n",
            "\n"
          ],
          "name": "stdout"
        },
        {
          "output_type": "stream",
          "text": [
            "\r  6%|▌         | 3/51 [00:00<00:11,  4.27it/s]"
          ],
          "name": "stderr"
        },
        {
          "output_type": "stream",
          "text": [
            "\n",
            "Number of matches 5000\n",
            "Number of matches After Lowe's Ratio 1142\n",
            "Number of Robust matches 285\n",
            "\n",
            "\n"
          ],
          "name": "stdout"
        },
        {
          "output_type": "stream",
          "text": [
            "\r  8%|▊         | 4/51 [00:00<00:10,  4.40it/s]"
          ],
          "name": "stderr"
        },
        {
          "output_type": "stream",
          "text": [
            "\n",
            "Number of matches 5000\n",
            "Number of matches After Lowe's Ratio 1324\n",
            "Number of Robust matches 441\n",
            "\n",
            "\n"
          ],
          "name": "stdout"
        },
        {
          "output_type": "stream",
          "text": [
            "\r 10%|▉         | 5/51 [00:01<00:10,  4.52it/s]"
          ],
          "name": "stderr"
        },
        {
          "output_type": "stream",
          "text": [
            "\n",
            "Number of matches 5000\n",
            "Number of matches After Lowe's Ratio 1317\n",
            "Number of Robust matches 491\n",
            "\n",
            "\n",
            "\n",
            "Number of matches 5000\n",
            "Number of matches After Lowe's Ratio 1298\n"
          ],
          "name": "stdout"
        },
        {
          "output_type": "stream",
          "text": [
            " 14%|█▎        | 7/51 [00:01<00:09,  4.79it/s]"
          ],
          "name": "stderr"
        },
        {
          "output_type": "stream",
          "text": [
            "Number of Robust matches 460\n",
            "\n",
            "\n",
            "\n",
            "Number of matches 5000\n",
            "Number of matches After Lowe's Ratio 1405\n",
            "Number of Robust matches 544\n",
            "\n",
            "\n"
          ],
          "name": "stdout"
        },
        {
          "output_type": "stream",
          "text": [
            "\r 16%|█▌        | 8/51 [00:01<00:08,  4.82it/s]"
          ],
          "name": "stderr"
        },
        {
          "output_type": "stream",
          "text": [
            "\n",
            "Number of matches 5000\n",
            "Number of matches After Lowe's Ratio 1307\n",
            "Number of Robust matches 470\n",
            "\n",
            "\n",
            "\n",
            "Number of matches 5000\n",
            "Number of matches After Lowe's Ratio 1430\n"
          ],
          "name": "stdout"
        },
        {
          "output_type": "stream",
          "text": [
            "\r 18%|█▊        | 9/51 [00:01<00:08,  4.86it/s]"
          ],
          "name": "stderr"
        },
        {
          "output_type": "stream",
          "text": [
            "Number of Robust matches 634\n",
            "\n",
            "\n",
            "\n",
            "Number of matches 5000\n",
            "Number of matches After Lowe's Ratio 1342\n"
          ],
          "name": "stdout"
        },
        {
          "output_type": "stream",
          "text": [
            " 22%|██▏       | 11/51 [00:02<00:08,  4.89it/s]"
          ],
          "name": "stderr"
        },
        {
          "output_type": "stream",
          "text": [
            "Number of Robust matches 484\n",
            "\n",
            "\n",
            "\n",
            "Number of matches 5000\n",
            "Number of matches After Lowe's Ratio 1442\n",
            "Number of Robust matches 580\n",
            "\n",
            "\n"
          ],
          "name": "stdout"
        },
        {
          "output_type": "stream",
          "text": [
            "\r 24%|██▎       | 12/51 [00:02<00:07,  4.96it/s]"
          ],
          "name": "stderr"
        },
        {
          "output_type": "stream",
          "text": [
            "\n",
            "Number of matches 5000\n",
            "Number of matches After Lowe's Ratio 1529\n",
            "Number of Robust matches 664\n",
            "\n",
            "\n",
            "\n",
            "Number of matches 5000\n",
            "Number of matches After Lowe's Ratio 1352\n"
          ],
          "name": "stdout"
        },
        {
          "output_type": "stream",
          "text": [
            "\r 25%|██▌       | 13/51 [00:02<00:07,  4.91it/s]"
          ],
          "name": "stderr"
        },
        {
          "output_type": "stream",
          "text": [
            "Number of Robust matches 442\n",
            "\n",
            "\n",
            "\n",
            "Number of matches 5000\n",
            "Number of matches After Lowe's Ratio 1222\n"
          ],
          "name": "stdout"
        },
        {
          "output_type": "stream",
          "text": [
            "\r 27%|██▋       | 14/51 [00:02<00:07,  4.80it/s]"
          ],
          "name": "stderr"
        },
        {
          "output_type": "stream",
          "text": [
            "Number of Robust matches 353\n",
            "\n",
            "\n",
            "\n",
            "Number of matches 5000\n",
            "Number of matches After Lowe's Ratio 1309\n"
          ],
          "name": "stdout"
        },
        {
          "output_type": "stream",
          "text": [
            " 31%|███▏      | 16/51 [00:03<00:07,  4.89it/s]"
          ],
          "name": "stderr"
        },
        {
          "output_type": "stream",
          "text": [
            "Number of Robust matches 427\n",
            "\n",
            "\n",
            "\n",
            "Number of matches 5000\n",
            "Number of matches After Lowe's Ratio 1318\n",
            "Number of Robust matches 479\n",
            "\n",
            "\n"
          ],
          "name": "stdout"
        },
        {
          "output_type": "stream",
          "text": [
            "\r 33%|███▎      | 17/51 [00:03<00:07,  4.83it/s]"
          ],
          "name": "stderr"
        },
        {
          "output_type": "stream",
          "text": [
            "\n",
            "Number of matches 5000\n",
            "Number of matches After Lowe's Ratio 1233\n",
            "Number of Robust matches 389\n",
            "\n",
            "\n"
          ],
          "name": "stdout"
        },
        {
          "output_type": "stream",
          "text": [
            "\r 35%|███▌      | 18/51 [00:03<00:06,  4.82it/s]"
          ],
          "name": "stderr"
        },
        {
          "output_type": "stream",
          "text": [
            "\n",
            "Number of matches 5000\n",
            "Number of matches After Lowe's Ratio 1233\n",
            "Number of Robust matches 389\n",
            "\n",
            "\n"
          ],
          "name": "stdout"
        },
        {
          "output_type": "stream",
          "text": [
            "\r 37%|███▋      | 19/51 [00:04<00:07,  4.54it/s]"
          ],
          "name": "stderr"
        },
        {
          "output_type": "stream",
          "text": [
            "\n",
            "Number of matches 5000\n",
            "Number of matches After Lowe's Ratio 1300\n",
            "Number of Robust matches 308\n",
            "\n",
            "\n"
          ],
          "name": "stdout"
        },
        {
          "output_type": "stream",
          "text": [
            "\r 39%|███▉      | 20/51 [00:04<00:06,  4.60it/s]"
          ],
          "name": "stderr"
        },
        {
          "output_type": "stream",
          "text": [
            "\n",
            "Number of matches 5000\n",
            "Number of matches After Lowe's Ratio 1292\n",
            "Number of Robust matches 398\n",
            "\n",
            "\n"
          ],
          "name": "stdout"
        },
        {
          "output_type": "stream",
          "text": [
            "\r 41%|████      | 21/51 [00:04<00:06,  4.42it/s]"
          ],
          "name": "stderr"
        },
        {
          "output_type": "stream",
          "text": [
            "\n",
            "Number of matches 5000\n",
            "Number of matches After Lowe's Ratio 1266\n",
            "Number of Robust matches 285\n",
            "\n",
            "\n"
          ],
          "name": "stdout"
        },
        {
          "output_type": "stream",
          "text": [
            "\r 43%|████▎     | 22/51 [00:04<00:06,  4.32it/s]"
          ],
          "name": "stderr"
        },
        {
          "output_type": "stream",
          "text": [
            "\n",
            "Number of matches 5000\n",
            "Number of matches After Lowe's Ratio 1117\n",
            "Number of Robust matches 146\n",
            "\n",
            "\n"
          ],
          "name": "stdout"
        },
        {
          "output_type": "stream",
          "text": [
            "\r 45%|████▌     | 23/51 [00:04<00:06,  4.26it/s]"
          ],
          "name": "stderr"
        },
        {
          "output_type": "stream",
          "text": [
            "\n",
            "Number of matches 5000\n",
            "Number of matches After Lowe's Ratio 1220\n",
            "Number of Robust matches 178\n",
            "\n",
            "\n"
          ],
          "name": "stdout"
        },
        {
          "output_type": "stream",
          "text": [
            "\r 47%|████▋     | 24/51 [00:05<00:06,  4.20it/s]"
          ],
          "name": "stderr"
        },
        {
          "output_type": "stream",
          "text": [
            "\n",
            "Number of matches 5000\n",
            "Number of matches After Lowe's Ratio 1036\n",
            "Number of Robust matches 45\n",
            "\n",
            "\n"
          ],
          "name": "stdout"
        },
        {
          "output_type": "stream",
          "text": [
            "\r 49%|████▉     | 25/51 [00:05<00:06,  4.20it/s]"
          ],
          "name": "stderr"
        },
        {
          "output_type": "stream",
          "text": [
            "\n",
            "Number of matches 5000\n",
            "Number of matches After Lowe's Ratio 1014\n",
            "Number of Robust matches 9\n",
            "\n",
            "\n"
          ],
          "name": "stdout"
        },
        {
          "output_type": "stream",
          "text": [
            "\r 51%|█████     | 26/51 [00:05<00:05,  4.17it/s]"
          ],
          "name": "stderr"
        },
        {
          "output_type": "stream",
          "text": [
            "\n",
            "Number of matches 5000\n",
            "Number of matches After Lowe's Ratio 1240\n",
            "Number of Robust matches 269\n",
            "\n",
            "\n"
          ],
          "name": "stdout"
        },
        {
          "output_type": "stream",
          "text": [
            "\r 53%|█████▎    | 27/51 [00:05<00:05,  4.31it/s]"
          ],
          "name": "stderr"
        },
        {
          "output_type": "stream",
          "text": [
            "\n",
            "Number of matches 5000\n",
            "Number of matches After Lowe's Ratio 1353\n",
            "Number of Robust matches 384\n",
            "\n",
            "\n"
          ],
          "name": "stdout"
        },
        {
          "output_type": "stream",
          "text": [
            "\r 55%|█████▍    | 28/51 [00:06<00:05,  3.86it/s]"
          ],
          "name": "stderr"
        },
        {
          "output_type": "stream",
          "text": [
            "\n",
            "Number of matches 5000\n",
            "Number of matches After Lowe's Ratio 1218\n",
            "Number of Robust matches 262\n",
            "\n",
            "\n"
          ],
          "name": "stdout"
        },
        {
          "output_type": "stream",
          "text": [
            "\r 57%|█████▋    | 29/51 [00:06<00:05,  3.89it/s]"
          ],
          "name": "stderr"
        },
        {
          "output_type": "stream",
          "text": [
            "\n",
            "Number of matches 5000\n",
            "Number of matches After Lowe's Ratio 1124\n",
            "Number of Robust matches 232\n",
            "\n",
            "\n"
          ],
          "name": "stdout"
        },
        {
          "output_type": "stream",
          "text": [
            "\r 59%|█████▉    | 30/51 [00:06<00:05,  3.96it/s]"
          ],
          "name": "stderr"
        },
        {
          "output_type": "stream",
          "text": [
            "\n",
            "Number of matches 5000\n",
            "Number of matches After Lowe's Ratio 1111\n",
            "Number of Robust matches 57\n",
            "\n",
            "\n"
          ],
          "name": "stdout"
        },
        {
          "output_type": "stream",
          "text": [
            "\r 61%|██████    | 31/51 [00:06<00:05,  4.00it/s]"
          ],
          "name": "stderr"
        },
        {
          "output_type": "stream",
          "text": [
            "\n",
            "Number of matches 5000\n",
            "Number of matches After Lowe's Ratio 1251\n",
            "Number of Robust matches 88\n",
            "\n",
            "\n"
          ],
          "name": "stdout"
        },
        {
          "output_type": "stream",
          "text": [
            "\r 63%|██████▎   | 32/51 [00:07<00:04,  4.02it/s]"
          ],
          "name": "stderr"
        },
        {
          "output_type": "stream",
          "text": [
            "\n",
            "Number of matches 5000\n",
            "Number of matches After Lowe's Ratio 1104\n",
            "Number of Robust matches 111\n",
            "\n",
            "\n"
          ],
          "name": "stdout"
        },
        {
          "output_type": "stream",
          "text": [
            "\r 65%|██████▍   | 33/51 [00:07<00:04,  4.21it/s]"
          ],
          "name": "stderr"
        },
        {
          "output_type": "stream",
          "text": [
            "\n",
            "Number of matches 5000\n",
            "Number of matches After Lowe's Ratio 1248\n",
            "Number of Robust matches 368\n",
            "\n",
            "\n"
          ],
          "name": "stdout"
        },
        {
          "output_type": "stream",
          "text": [
            "\r 67%|██████▋   | 34/51 [00:07<00:03,  4.43it/s]"
          ],
          "name": "stderr"
        },
        {
          "output_type": "stream",
          "text": [
            "\n",
            "Number of matches 5000\n",
            "Number of matches After Lowe's Ratio 1339\n",
            "Number of Robust matches 489\n",
            "\n",
            "\n",
            "\n",
            "Number of matches 5000\n",
            "Number of matches After Lowe's Ratio 1416\n"
          ],
          "name": "stdout"
        },
        {
          "output_type": "stream",
          "text": [
            " 71%|███████   | 36/51 [00:08<00:03,  4.72it/s]"
          ],
          "name": "stderr"
        },
        {
          "output_type": "stream",
          "text": [
            "Number of Robust matches 551\n",
            "\n",
            "\n",
            "\n",
            "Number of matches 5000\n",
            "Number of matches After Lowe's Ratio 1476\n",
            "Number of Robust matches 709\n",
            "\n",
            "\n"
          ],
          "name": "stdout"
        },
        {
          "output_type": "stream",
          "text": [
            "\r 73%|███████▎  | 37/51 [00:08<00:02,  4.75it/s]"
          ],
          "name": "stderr"
        },
        {
          "output_type": "stream",
          "text": [
            "\n",
            "Number of matches 5000\n",
            "Number of matches After Lowe's Ratio 1391\n",
            "Number of Robust matches 570\n",
            "\n",
            "\n",
            "\n",
            "Number of matches 5000\n",
            "Number of matches After Lowe's Ratio 1341\n"
          ],
          "name": "stdout"
        },
        {
          "output_type": "stream",
          "text": [
            "\r 75%|███████▍  | 38/51 [00:08<00:02,  4.80it/s]"
          ],
          "name": "stderr"
        },
        {
          "output_type": "stream",
          "text": [
            "Number of Robust matches 450\n",
            "\n",
            "\n",
            "\n",
            "Number of matches 5000\n",
            "Number of matches After Lowe's Ratio 1336\n"
          ],
          "name": "stdout"
        },
        {
          "output_type": "stream",
          "text": [
            "\r 76%|███████▋  | 39/51 [00:08<00:02,  4.76it/s]"
          ],
          "name": "stderr"
        },
        {
          "output_type": "stream",
          "text": [
            "Number of Robust matches 396\n",
            "\n",
            "\n",
            "\n",
            "Number of matches 5000\n",
            "Number of matches After Lowe's Ratio 1232\n"
          ],
          "name": "stdout"
        },
        {
          "output_type": "stream",
          "text": [
            "\r 78%|███████▊  | 40/51 [00:08<00:02,  4.65it/s]"
          ],
          "name": "stderr"
        },
        {
          "output_type": "stream",
          "text": [
            "Number of Robust matches 321\n",
            "\n",
            "\n",
            "\n",
            "Number of matches 5000\n",
            "Number of matches After Lowe's Ratio 1213\n"
          ],
          "name": "stdout"
        },
        {
          "output_type": "stream",
          "text": [
            " 82%|████████▏ | 42/51 [00:09<00:01,  4.62it/s]"
          ],
          "name": "stderr"
        },
        {
          "output_type": "stream",
          "text": [
            "Number of Robust matches 267\n",
            "\n",
            "\n",
            "\n",
            "Number of matches 5000\n",
            "Number of matches After Lowe's Ratio 1504\n",
            "Number of Robust matches 688\n",
            "\n",
            "\n"
          ],
          "name": "stdout"
        },
        {
          "output_type": "stream",
          "text": [
            "\r 84%|████████▍ | 43/51 [00:09<00:01,  4.72it/s]"
          ],
          "name": "stderr"
        },
        {
          "output_type": "stream",
          "text": [
            "\n",
            "Number of matches 5000\n",
            "Number of matches After Lowe's Ratio 1447\n",
            "Number of Robust matches 692\n",
            "\n",
            "\n",
            "\n",
            "Number of matches 5000\n",
            "Number of matches After Lowe's Ratio 1238\n"
          ],
          "name": "stdout"
        },
        {
          "output_type": "stream",
          "text": [
            "\r 86%|████████▋ | 44/51 [00:09<00:01,  4.69it/s]"
          ],
          "name": "stderr"
        },
        {
          "output_type": "stream",
          "text": [
            "Number of Robust matches 339\n",
            "\n",
            "\n",
            "\n",
            "Number of matches 5000\n",
            "Number of matches After Lowe's Ratio 1192\n"
          ],
          "name": "stdout"
        },
        {
          "output_type": "stream",
          "text": [
            " 90%|█████████ | 46/51 [00:10<00:01,  4.71it/s]"
          ],
          "name": "stderr"
        },
        {
          "output_type": "stream",
          "text": [
            "Number of Robust matches 291\n",
            "\n",
            "\n",
            "\n",
            "Number of matches 5000\n",
            "Number of matches After Lowe's Ratio 1356\n",
            "Number of Robust matches 517\n",
            "\n",
            "\n"
          ],
          "name": "stdout"
        },
        {
          "output_type": "stream",
          "text": [
            "\r 92%|█████████▏| 47/51 [00:10<00:00,  4.67it/s]"
          ],
          "name": "stderr"
        },
        {
          "output_type": "stream",
          "text": [
            "\n",
            "Number of matches 5000\n",
            "Number of matches After Lowe's Ratio 1222\n",
            "Number of Robust matches 346\n",
            "\n",
            "\n"
          ],
          "name": "stdout"
        },
        {
          "output_type": "stream",
          "text": [
            "\r 94%|█████████▍| 48/51 [00:10<00:00,  4.75it/s]"
          ],
          "name": "stderr"
        },
        {
          "output_type": "stream",
          "text": [
            "\n",
            "Number of matches 5000\n",
            "Number of matches After Lowe's Ratio 1263\n",
            "Number of Robust matches 435\n",
            "\n",
            "\n",
            "\n",
            "Number of matches 5000\n",
            "Number of matches After Lowe's Ratio 1297\n"
          ],
          "name": "stdout"
        },
        {
          "output_type": "stream",
          "text": [
            "\r 96%|█████████▌| 49/51 [00:10<00:00,  4.53it/s]"
          ],
          "name": "stderr"
        },
        {
          "output_type": "stream",
          "text": [
            "Number of Robust matches 290\n",
            "\n",
            "\n",
            "\n",
            "Number of matches 5000\n",
            "Number of matches After Lowe's Ratio 1028\n"
          ],
          "name": "stdout"
        },
        {
          "output_type": "stream",
          "text": [
            "  0%|          | 0/51 [00:00<?, ?it/s]"
          ],
          "name": "stderr"
        },
        {
          "output_type": "stream",
          "text": [
            "Number of Robust matches 9\n",
            "\n",
            "\n",
            "\n",
            "Number of matches 5000\n",
            "Number of matches After Lowe's Ratio 1083\n"
          ],
          "name": "stdout"
        },
        {
          "output_type": "stream",
          "text": [
            "\r  2%|▏         | 1/51 [00:00<00:12,  4.10it/s]"
          ],
          "name": "stderr"
        },
        {
          "output_type": "stream",
          "text": [
            "Number of Robust matches 145\n",
            "\n",
            "\n",
            "\n",
            "Number of matches 5000\n",
            "Number of matches After Lowe's Ratio 1289\n"
          ],
          "name": "stdout"
        },
        {
          "output_type": "stream",
          "text": [
            "\r  4%|▍         | 2/51 [00:00<00:11,  4.26it/s]"
          ],
          "name": "stderr"
        },
        {
          "output_type": "stream",
          "text": [
            "Number of Robust matches 360\n",
            "\n",
            "\n",
            "\n",
            "Number of matches 5000\n",
            "Number of matches After Lowe's Ratio 1233\n"
          ],
          "name": "stdout"
        },
        {
          "output_type": "stream",
          "text": [
            "\r  6%|▌         | 3/51 [00:00<00:11,  4.24it/s]"
          ],
          "name": "stderr"
        },
        {
          "output_type": "stream",
          "text": [
            "Number of Robust matches 286\n",
            "\n",
            "\n",
            "\n",
            "Number of matches 5000\n",
            "Number of matches After Lowe's Ratio 1329\n"
          ],
          "name": "stdout"
        },
        {
          "output_type": "stream",
          "text": [
            "\r  8%|▊         | 4/51 [00:00<00:10,  4.37it/s]"
          ],
          "name": "stderr"
        },
        {
          "output_type": "stream",
          "text": [
            "Number of Robust matches 392\n",
            "\n",
            "\n",
            "\n",
            "Number of matches 5000\n",
            "Number of matches After Lowe's Ratio 1284\n"
          ],
          "name": "stdout"
        },
        {
          "output_type": "stream",
          "text": [
            "\r 10%|▉         | 5/51 [00:01<00:10,  4.31it/s]"
          ],
          "name": "stderr"
        },
        {
          "output_type": "stream",
          "text": [
            "Number of Robust matches 302\n",
            "\n",
            "\n",
            "\n",
            "Number of matches 5000\n",
            "Number of matches After Lowe's Ratio 1053\n"
          ],
          "name": "stdout"
        },
        {
          "output_type": "stream",
          "text": [
            "\r 12%|█▏        | 6/51 [00:01<00:10,  4.22it/s]"
          ],
          "name": "stderr"
        },
        {
          "output_type": "stream",
          "text": [
            "Number of Robust matches 8\n",
            "\n",
            "\n"
          ],
          "name": "stdout"
        },
        {
          "output_type": "stream",
          "text": [
            "\r 14%|█▎        | 7/51 [00:01<00:11,  3.82it/s]"
          ],
          "name": "stderr"
        },
        {
          "output_type": "stream",
          "text": [
            "\n",
            "Number of matches 5000\n",
            "Number of matches After Lowe's Ratio 1005\n",
            "Number of Robust matches 22\n",
            "\n",
            "\n"
          ],
          "name": "stdout"
        },
        {
          "output_type": "stream",
          "text": [
            "\r 16%|█▌        | 8/51 [00:01<00:10,  3.92it/s]"
          ],
          "name": "stderr"
        },
        {
          "output_type": "stream",
          "text": [
            "\n",
            "Number of matches 5000\n",
            "Number of matches After Lowe's Ratio 994\n",
            "Number of Robust matches 29\n",
            "\n",
            "\n"
          ],
          "name": "stdout"
        },
        {
          "output_type": "stream",
          "text": [
            "\r 18%|█▊        | 9/51 [00:02<00:10,  3.98it/s]"
          ],
          "name": "stderr"
        },
        {
          "output_type": "stream",
          "text": [
            "\n",
            "Number of matches 5000\n",
            "Number of matches After Lowe's Ratio 1189\n",
            "Number of Robust matches 214\n",
            "\n",
            "\n"
          ],
          "name": "stdout"
        },
        {
          "output_type": "stream",
          "text": [
            "\r 20%|█▉        | 10/51 [00:02<00:09,  4.23it/s]"
          ],
          "name": "stderr"
        },
        {
          "output_type": "stream",
          "text": [
            "\n",
            "Number of matches 5000\n",
            "Number of matches After Lowe's Ratio 1435\n",
            "Number of Robust matches 613\n",
            "\n",
            "\n",
            "\n",
            "Number of matches 5000\n",
            "Number of matches After Lowe's Ratio 1421\n"
          ],
          "name": "stdout"
        },
        {
          "output_type": "stream",
          "text": [
            "\r 22%|██▏       | 11/51 [00:02<00:09,  4.43it/s]"
          ],
          "name": "stderr"
        },
        {
          "output_type": "stream",
          "text": [
            "Number of Robust matches 540\n",
            "\n",
            "\n",
            "\n",
            "Number of matches 5000\n",
            "Number of matches After Lowe's Ratio 1226\n"
          ],
          "name": "stdout"
        },
        {
          "output_type": "stream",
          "text": [
            "\r 24%|██▎       | 12/51 [00:02<00:08,  4.45it/s]"
          ],
          "name": "stderr"
        },
        {
          "output_type": "stream",
          "text": [
            "Number of Robust matches 334\n",
            "\n",
            "\n",
            "\n",
            "Number of matches 5000\n",
            "Number of matches After Lowe's Ratio 1044\n"
          ],
          "name": "stdout"
        },
        {
          "output_type": "stream",
          "text": [
            "\r 25%|██▌       | 13/51 [00:03<00:08,  4.31it/s]"
          ],
          "name": "stderr"
        },
        {
          "output_type": "stream",
          "text": [
            "Number of Robust matches 69\n",
            "\n",
            "\n",
            "\n",
            "Number of matches 5000\n",
            "Number of matches After Lowe's Ratio 1352\n"
          ],
          "name": "stdout"
        },
        {
          "output_type": "stream",
          "text": [
            "\r 27%|██▋       | 14/51 [00:03<00:08,  4.46it/s]"
          ],
          "name": "stderr"
        },
        {
          "output_type": "stream",
          "text": [
            "Number of Robust matches 491\n",
            "\n",
            "\n",
            "\n",
            "Number of matches 5000\n",
            "Number of matches After Lowe's Ratio 1181\n"
          ],
          "name": "stdout"
        },
        {
          "output_type": "stream",
          "text": [
            "\r 29%|██▉       | 15/51 [00:03<00:08,  4.36it/s]"
          ],
          "name": "stderr"
        },
        {
          "output_type": "stream",
          "text": [
            "Number of Robust matches 297\n",
            "\n",
            "\n",
            "\n",
            "Number of matches 5000\n",
            "Number of matches After Lowe's Ratio 1492\n"
          ],
          "name": "stdout"
        },
        {
          "output_type": "stream",
          "text": [
            " 33%|███▎      | 17/51 [00:03<00:07,  4.67it/s]"
          ],
          "name": "stderr"
        },
        {
          "output_type": "stream",
          "text": [
            "Number of Robust matches 703\n",
            "\n",
            "\n",
            "\n",
            "Number of matches 5000\n",
            "Number of matches After Lowe's Ratio 1596\n",
            "Number of Robust matches 693\n",
            "\n",
            "\n"
          ],
          "name": "stdout"
        },
        {
          "output_type": "stream",
          "text": [
            "\r 35%|███▌      | 18/51 [00:04<00:07,  4.69it/s]"
          ],
          "name": "stderr"
        },
        {
          "output_type": "stream",
          "text": [
            "\n",
            "Number of matches 5000\n",
            "Number of matches After Lowe's Ratio 1322\n",
            "Number of Robust matches 463\n",
            "\n",
            "\n",
            "\n",
            "Number of matches"
          ],
          "name": "stdout"
        },
        {
          "output_type": "stream",
          "text": [
            "\r 37%|███▋      | 19/51 [00:04<00:06,  4.79it/s]"
          ],
          "name": "stderr"
        },
        {
          "output_type": "stream",
          "text": [
            " 5000\n",
            "Number of matches After Lowe's Ratio 1371\n",
            "Number of Robust matches 603\n",
            "\n",
            "\n",
            "\n",
            "Number of matches 5000\n",
            "Number of matches After Lowe's Ratio 1220\n"
          ],
          "name": "stdout"
        },
        {
          "output_type": "stream",
          "text": [
            " 41%|████      | 21/51 [00:04<00:06,  4.85it/s]"
          ],
          "name": "stderr"
        },
        {
          "output_type": "stream",
          "text": [
            "Number of Robust matches 344\n",
            "\n",
            "\n",
            "\n",
            "Number of matches 5000\n",
            "Number of matches After Lowe's Ratio 1425\n",
            "Number of Robust matches 587\n",
            "\n",
            "\n"
          ],
          "name": "stdout"
        },
        {
          "output_type": "stream",
          "text": [
            "\r 43%|████▎     | 22/51 [00:04<00:05,  4.89it/s]"
          ],
          "name": "stderr"
        },
        {
          "output_type": "stream",
          "text": [
            "\n",
            "Number of matches 5000\n",
            "Number of matches After Lowe's Ratio 1350\n",
            "Number of Robust matches 550\n",
            "\n",
            "\n"
          ],
          "name": "stdout"
        },
        {
          "output_type": "stream",
          "text": [
            "\r 45%|████▌     | 23/51 [00:05<00:05,  4.86it/s]"
          ],
          "name": "stderr"
        },
        {
          "output_type": "stream",
          "text": [
            "\n",
            "Number of matches 5000\n",
            "Number of matches After Lowe's Ratio 1394\n",
            "Number of Robust matches 470\n",
            "\n",
            "\n",
            "\n",
            "Number of matches 5000\n",
            "Number of matches After Lowe's Ratio "
          ],
          "name": "stdout"
        },
        {
          "output_type": "stream",
          "text": [
            "\r 47%|████▋     | 24/51 [00:05<00:05,  4.81it/s]"
          ],
          "name": "stderr"
        },
        {
          "output_type": "stream",
          "text": [
            "1358\n",
            "Number of Robust matches 387\n",
            "\n",
            "\n"
          ],
          "name": "stdout"
        },
        {
          "output_type": "stream",
          "text": [
            "\r 49%|████▉     | 25/51 [00:05<00:05,  4.72it/s]"
          ],
          "name": "stderr"
        },
        {
          "output_type": "stream",
          "text": [
            "\n",
            "Number of matches 5000\n",
            "Number of matches After Lowe's Ratio 1272\n",
            "Number of Robust matches 330\n",
            "\n",
            "\n"
          ],
          "name": "stdout"
        },
        {
          "output_type": "stream",
          "text": [
            "\r 51%|█████     | 26/51 [00:05<00:05,  4.64it/s]"
          ],
          "name": "stderr"
        },
        {
          "output_type": "stream",
          "text": [
            "\n",
            "Number of matches 5000\n",
            "Number of matches After Lowe's Ratio 1320\n",
            "Number of Robust matches 372\n",
            "\n",
            "\n"
          ],
          "name": "stdout"
        },
        {
          "output_type": "stream",
          "text": [
            "\r 53%|█████▎    | 27/51 [00:06<00:05,  4.59it/s]"
          ],
          "name": "stderr"
        },
        {
          "output_type": "stream",
          "text": [
            "\n",
            "Number of matches 5000\n",
            "Number of matches After Lowe's Ratio 1305\n",
            "Number of Robust matches 364\n",
            "\n",
            "\n"
          ],
          "name": "stdout"
        },
        {
          "output_type": "stream",
          "text": [
            "\r 55%|█████▍    | 28/51 [00:06<00:05,  4.50it/s]"
          ],
          "name": "stderr"
        },
        {
          "output_type": "stream",
          "text": [
            "\n",
            "Number of matches 5000\n",
            "Number of matches After Lowe's Ratio 1314\n",
            "Number of Robust matches 332\n",
            "\n",
            "\n"
          ],
          "name": "stdout"
        },
        {
          "output_type": "stream",
          "text": [
            "\r 57%|█████▋    | 29/51 [00:06<00:04,  4.56it/s]"
          ],
          "name": "stderr"
        },
        {
          "output_type": "stream",
          "text": [
            "\n",
            "Number of matches 5000\n",
            "Number of matches After Lowe's Ratio 1328\n",
            "Number of Robust matches 376\n",
            "\n",
            "\n"
          ],
          "name": "stdout"
        },
        {
          "output_type": "stream",
          "text": [
            "\r 59%|█████▉    | 30/51 [00:06<00:04,  4.61it/s]"
          ],
          "name": "stderr"
        },
        {
          "output_type": "stream",
          "text": [
            "\n",
            "Number of matches 5000\n",
            "Number of matches After Lowe's Ratio 1316\n",
            "Number of Robust matches 450\n",
            "\n",
            "\n",
            "\n",
            "Number of matches 5000\n",
            "Number of matches After Lowe's Ratio 928\n"
          ],
          "name": "stdout"
        },
        {
          "output_type": "stream",
          "text": [
            "\r 61%|██████    | 31/51 [00:06<00:04,  4.50it/s]"
          ],
          "name": "stderr"
        },
        {
          "output_type": "stream",
          "text": [
            "Number of Robust matches 23\n",
            "\n",
            "\n",
            "\n",
            "Number of matches 5000\n",
            "Number of matches After Lowe's Ratio 1090\n"
          ],
          "name": "stdout"
        },
        {
          "output_type": "stream",
          "text": [
            "\r 63%|██████▎   | 32/51 [00:07<00:04,  4.36it/s]"
          ],
          "name": "stderr"
        },
        {
          "output_type": "stream",
          "text": [
            "Number of Robust matches 64\n",
            "\n",
            "\n",
            "\n",
            "Number of matches 5000\n",
            "Number of matches After Lowe's Ratio 953\n"
          ],
          "name": "stdout"
        },
        {
          "output_type": "stream",
          "text": [
            "\r 65%|██████▍   | 33/51 [00:07<00:04,  4.32it/s]"
          ],
          "name": "stderr"
        },
        {
          "output_type": "stream",
          "text": [
            "Number of Robust matches 8\n",
            "\n",
            "\n",
            "\n",
            "Number of matches 5000\n",
            "Number of matches After Lowe's Ratio 1116\n"
          ],
          "name": "stdout"
        },
        {
          "output_type": "stream",
          "text": [
            "\r 67%|██████▋   | 34/51 [00:07<00:04,  4.23it/s]"
          ],
          "name": "stderr"
        },
        {
          "output_type": "stream",
          "text": [
            "Number of Robust matches 54\n",
            "\n",
            "\n",
            "\n",
            "Number of matches 5000\n",
            "Number of matches After Lowe's Ratio 1306\n"
          ],
          "name": "stdout"
        },
        {
          "output_type": "stream",
          "text": [
            "\r 69%|██████▊   | 35/51 [00:07<00:03,  4.31it/s]"
          ],
          "name": "stderr"
        },
        {
          "output_type": "stream",
          "text": [
            "Number of Robust matches 340\n",
            "\n",
            "\n"
          ],
          "name": "stdout"
        },
        {
          "output_type": "stream",
          "text": [
            "\r 71%|███████   | 36/51 [00:08<00:03,  3.92it/s]"
          ],
          "name": "stderr"
        },
        {
          "output_type": "stream",
          "text": [
            "\n",
            "Number of matches 5000\n",
            "Number of matches After Lowe's Ratio 1311\n",
            "Number of Robust matches 328\n",
            "\n",
            "\n"
          ],
          "name": "stdout"
        },
        {
          "output_type": "stream",
          "text": [
            "\r 73%|███████▎  | 37/51 [00:08<00:03,  4.06it/s]"
          ],
          "name": "stderr"
        },
        {
          "output_type": "stream",
          "text": [
            "\n",
            "Number of matches 5000\n",
            "Number of matches After Lowe's Ratio 1304\n",
            "Number of Robust matches 319\n",
            "\n",
            "\n"
          ],
          "name": "stdout"
        },
        {
          "output_type": "stream",
          "text": [
            "\r 75%|███████▍  | 38/51 [00:08<00:03,  4.08it/s]"
          ],
          "name": "stderr"
        },
        {
          "output_type": "stream",
          "text": [
            "\n",
            "Number of matches 5000\n",
            "Number of matches After Lowe's Ratio 1212\n",
            "Number of Robust matches 185\n",
            "\n",
            "\n"
          ],
          "name": "stdout"
        },
        {
          "output_type": "stream",
          "text": [
            "\r 76%|███████▋  | 39/51 [00:08<00:02,  4.09it/s]"
          ],
          "name": "stderr"
        },
        {
          "output_type": "stream",
          "text": [
            "\n",
            "Number of matches 5000\n",
            "Number of matches After Lowe's Ratio 1168\n",
            "Number of Robust matches 137\n",
            "\n",
            "\n"
          ],
          "name": "stdout"
        },
        {
          "output_type": "stream",
          "text": [
            "\r 78%|███████▊  | 40/51 [00:09<00:02,  4.12it/s]"
          ],
          "name": "stderr"
        },
        {
          "output_type": "stream",
          "text": [
            "\n",
            "Number of matches 5000\n",
            "Number of matches After Lowe's Ratio 1367\n",
            "Number of Robust matches 260\n",
            "\n",
            "\n"
          ],
          "name": "stdout"
        },
        {
          "output_type": "stream",
          "text": [
            "\r 80%|████████  | 41/51 [00:09<00:02,  4.09it/s]"
          ],
          "name": "stderr"
        },
        {
          "output_type": "stream",
          "text": [
            "\n",
            "Number of matches 5000\n",
            "Number of matches After Lowe's Ratio 1066\n",
            "Number of Robust matches 104\n",
            "\n",
            "\n"
          ],
          "name": "stdout"
        },
        {
          "output_type": "stream",
          "text": [
            "\r 82%|████████▏ | 42/51 [00:09<00:02,  4.28it/s]"
          ],
          "name": "stderr"
        },
        {
          "output_type": "stream",
          "text": [
            "\n",
            "Number of matches 5000\n",
            "Number of matches After Lowe's Ratio 1284\n",
            "Number of Robust matches 389\n",
            "\n",
            "\n"
          ],
          "name": "stdout"
        },
        {
          "output_type": "stream",
          "text": [
            "\r 84%|████████▍ | 43/51 [00:09<00:01,  4.22it/s]"
          ],
          "name": "stderr"
        },
        {
          "output_type": "stream",
          "text": [
            "\n",
            "Number of matches 5000\n",
            "Number of matches After Lowe's Ratio 1213\n",
            "Number of Robust matches 277\n",
            "\n",
            "\n"
          ],
          "name": "stdout"
        },
        {
          "output_type": "stream",
          "text": [
            "\r 86%|████████▋ | 44/51 [00:10<00:01,  4.16it/s]"
          ],
          "name": "stderr"
        },
        {
          "output_type": "stream",
          "text": [
            "\n",
            "Number of matches 5000\n",
            "Number of matches After Lowe's Ratio 1200\n",
            "Number of Robust matches 222\n",
            "\n",
            "\n"
          ],
          "name": "stdout"
        },
        {
          "output_type": "stream",
          "text": [
            "\r 88%|████████▊ | 45/51 [00:10<00:01,  4.26it/s]"
          ],
          "name": "stderr"
        },
        {
          "output_type": "stream",
          "text": [
            "\n",
            "Number of matches 5000\n",
            "Number of matches After Lowe's Ratio 1168\n",
            "Number of Robust matches 348\n",
            "\n",
            "\n"
          ],
          "name": "stdout"
        },
        {
          "output_type": "stream",
          "text": [
            "\r 90%|█████████ | 46/51 [00:10<00:01,  4.49it/s]"
          ],
          "name": "stderr"
        },
        {
          "output_type": "stream",
          "text": [
            "\n",
            "Number of matches 5000\n",
            "Number of matches After Lowe's Ratio 1481\n",
            "Number of Robust matches 671\n",
            "\n",
            "\n",
            "\n",
            "Number of matches 5000\n",
            "Number of matches After Lowe's Ratio 1429\n"
          ],
          "name": "stdout"
        },
        {
          "output_type": "stream",
          "text": [
            " 94%|█████████▍| 48/51 [00:10<00:00,  4.79it/s]"
          ],
          "name": "stderr"
        },
        {
          "output_type": "stream",
          "text": [
            "Number of Robust matches 543\n",
            "\n",
            "\n",
            "\n",
            "Number of matches 5000\n",
            "Number of matches After Lowe's Ratio 1710\n",
            "Number of Robust matches 927\n",
            "\n",
            "\n"
          ],
          "name": "stdout"
        },
        {
          "output_type": "stream",
          "text": [
            "\r 96%|█████████▌| 49/51 [00:11<00:00,  4.79it/s]"
          ],
          "name": "stderr"
        },
        {
          "output_type": "stream",
          "text": [
            "\n",
            "Number of matches 5000\n",
            "Number of matches After Lowe's Ratio 1351\n",
            "Number of Robust matches 452\n",
            "\n",
            "\n"
          ],
          "name": "stdout"
        },
        {
          "output_type": "stream",
          "text": [
            "\r 98%|█████████▊| 50/51 [00:11<00:00,  4.82it/s]"
          ],
          "name": "stderr"
        },
        {
          "output_type": "stream",
          "text": [
            "\n",
            "Number of matches 5000\n",
            "Number of matches After Lowe's Ratio 1572\n",
            "Number of Robust matches 798\n",
            "\n",
            "\n"
          ],
          "name": "stdout"
        }
      ]
    },
    {
      "cell_type": "code",
      "metadata": {
        "id": "8JgDFOqercN0"
      },
      "source": [
        "def warpnImages(images_left, images_right,H_left,H_right):\n",
        "    #img1-centre,img2-left,img3-right\n",
        "\n",
        "    h, w = images_left[0].shape[:2]\n",
        "\n",
        "    pts_left = []\n",
        "    pts_right = []\n",
        "\n",
        "    pts_centre = np.float32([[0, 0], [0, h], [w, h], [w, 0]]).reshape(-1, 1, 2)\n",
        "\n",
        "    for j in range(len(H_left)):\n",
        "      pts = np.float32([[0, 0], [0, h], [w, h], [w, 0]]).reshape(-1, 1, 2)\n",
        "      pts_left.append(pts)\n",
        "\n",
        "    for j in range(len(H_right)):\n",
        "      pts = np.float32([[0, 0], [0, h], [w, h], [w, 0]]).reshape(-1, 1, 2)\n",
        "      pts_right.append(pts)\n",
        "\n",
        "    pts_left_transformed=[]\n",
        "    pts_right_transformed=[]\n",
        "\n",
        "\n",
        "\n",
        "    for j,pts in enumerate(pts_left):\n",
        "      if j==0:\n",
        "        H_trans = H_left[j]\n",
        "      else:\n",
        "        H_trans = H_trans@H_left[j]\n",
        "      pts_ = cv2.perspectiveTransform(pts, H_trans)\n",
        "      pts_left_transformed.append(pts_)\n",
        "\n",
        "    for j,pts in enumerate(pts_right):\n",
        "      if j==0:\n",
        "        H_trans = H_right[j]\n",
        "      else:\n",
        "        H_trans = H_trans@H_right[j]\n",
        "      pts_ = cv2.perspectiveTransform(pts, H_trans)\n",
        "      pts_right_transformed.append(pts_)\n",
        "\n",
        "\n",
        "    print('Step1:Done')\n",
        "\n",
        "\n",
        "    #pts = np.concatenate((pts1, pts2_), axis=0)\n",
        "\n",
        "    pts_concat = np.concatenate((pts_centre,np.concatenate(np.array(pts_left_transformed),axis=0),np.concatenate(np.array(pts_right_transformed),axis=0)), axis=0)\n",
        "\n",
        "    [xmin, ymin] = np.int32(pts_concat.min(axis=0).ravel() - 0.5)\n",
        "    [xmax, ymax] = np.int32(pts_concat.max(axis=0).ravel() + 0.5)\n",
        "    t = [-xmin, -ymin]\n",
        "    Ht = np.array([[1, 0, t[0]], [0, 1, t[1]], [0, 0, 1]])  # translate\n",
        "\n",
        "    print('Step2:Done')\n",
        "\n",
        "\n",
        "    return xmax,xmin,ymax,ymin,t,h,w,Ht"
      ],
      "execution_count": 15,
      "outputs": []
    },
    {
      "cell_type": "code",
      "metadata": {
        "id": "Y_vjs-IErcK4"
      },
      "source": [
        "def final_steps_left(images_left,images_right,H_left,H_right,xmax,xmin,ymax,ymin,t,h,w,Ht):\n",
        "\n",
        "    warp_imgs_left = []\n",
        "\n",
        "\n",
        "    for j,H in enumerate(H_left):\n",
        "      if j==0:\n",
        "        H_trans = Ht@H\n",
        "      else:\n",
        "        H_trans = H_trans@H\n",
        "      result = cv2.warpPerspective(images_left[j+1], H_trans, (xmax-xmin, ymax-ymin))\n",
        "\n",
        "      if j==0:\n",
        "        result[t[1]:h+t[1], t[0]:w+t[0]] = images_left[0]\n",
        "      \n",
        "      warp_imgs_left.append(result)\n",
        "\n",
        "    print('Step31:Done')\n",
        "\n",
        "    return warp_imgs_left\n",
        "\n",
        "def final_steps_right(images_left,images_right,H_left,H_right,xmax,xmin,ymax,ymin,t,h,w,Ht):\n",
        "\n",
        "    warp_imgs_right = []\n",
        "\n",
        "    for j,H in enumerate(H_right):\n",
        "      if j==0:\n",
        "        H_trans = Ht@H\n",
        "      else:\n",
        "        H_trans = H_trans@H\n",
        "      result = cv2.warpPerspective(images_right[j+1], H_trans, (xmax-xmin, ymax-ymin))\n",
        "      \n",
        "      warp_imgs_right.append(result)\n",
        "\n",
        "    print('Step32:Done')\n",
        "\n",
        "    return warp_imgs_right\n",
        "\n",
        "def final_steps_union(warp_imgs_left,warp_imgs_right):\n",
        "    #Union\n",
        "\n",
        "    warp_images_all = warp_imgs_left + warp_imgs_right\n",
        "\n",
        "    warp_img_init = warp_images_all[0]\n",
        "\n",
        "\n",
        "\n",
        "    #warp_final_all=[]\n",
        "\n",
        "    for j,warp_img in enumerate(warp_images_all):\n",
        "      if j==len(warp_images_all)-1:\n",
        "        break\n",
        "      black_pixels = np.where((warp_img_init[:, :, 0] == 0) & (warp_img_init[:, :, 1] == 0) & (warp_img_init[:, :, 2] == 0))\n",
        "\n",
        "      warp_img_init[black_pixels] = warp_images_all[j+1][black_pixels]\n",
        "    \n",
        "      #warp_final = np.maximum(warp_img_init,warp_images_all[j+1])\n",
        "      #warp_img_init = warp_final\n",
        "      #warp_final_all.append(warp_final)\n",
        "\n",
        "    print('Step4:Done')\n",
        "\n",
        "\n",
        "    return warp_img_init"
      ],
      "execution_count": 16,
      "outputs": []
    },
    {
      "cell_type": "code",
      "metadata": {
        "id": "7R6POgN6rcIE"
      },
      "source": [
        "def final_steps_left_union(images_left,H_left,xmax,xmin,ymax,ymin,t,h,w,Ht):\n",
        "\n",
        "\n",
        "\n",
        "    for j,H in enumerate(H_left):\n",
        "      if j==0:\n",
        "        H_trans = Ht@H\n",
        "      else:\n",
        "        H_trans = H_trans@H\n",
        "      input_img = images_left[j+1]\n",
        "      result = np.zeros((ymax-ymin,xmax-xmin,3),dtype='uint8')\n",
        "\n",
        "      cv2.warpPerspective(src = np.uint8(input_img), M = H_trans, dsize = (xmax-xmin, ymax-ymin),dst=result)\n",
        "      warp_img_init_curr = result\n",
        "\n",
        "      if j==0:\n",
        "        result[t[1]:h+t[1], t[0]:w+t[0]] = images_left[0]\n",
        "        warp_img_init_prev = result\n",
        "        continue\n",
        "\n",
        "      black_pixels = np.where((warp_img_init_prev[:, :, 0] == 0) & (warp_img_init_prev[:, :, 1] == 0) & (warp_img_init_prev[:, :, 2] == 0))\n",
        "\n",
        "      warp_img_init_prev[black_pixels] = warp_img_init_curr[black_pixels]\n",
        "\n",
        "    print('Step31:Done')\n",
        "\n",
        "    return warp_img_init_prev\n",
        "\n",
        "def final_steps_right_union(warp_img_prev,images_right,H_right,xmax,xmin,ymax,ymin,t,h,w,Ht):\n",
        "\n",
        "    for j,H in enumerate(H_right):\n",
        "      if j==0:\n",
        "        H_trans = Ht@H\n",
        "      else:\n",
        "        H_trans = H_trans@H\n",
        "      input_img = images_right[j+1]\n",
        "      result = np.zeros((ymax-ymin,xmax-xmin,3),dtype='uint8')\n",
        "\n",
        "      cv2.warpPerspective(src = np.uint8(input_img), M = H_trans, dsize = (xmax-xmin, ymax-ymin),dst=result)\n",
        "      warp_img_init_curr = result\n",
        "\n",
        "      black_pixels = np.where((warp_img_prev[:, :, 0] == 0) & (warp_img_prev[:, :, 1] == 0) & (warp_img_prev[:, :, 2] == 0))\n",
        "\n",
        "      warp_img_prev[black_pixels] = warp_img_init_curr[black_pixels]\n",
        "\n",
        "    print('Step32:Done')\n",
        "\n",
        "    return warp_img_prev"
      ],
      "execution_count": 17,
      "outputs": []
    },
    {
      "cell_type": "code",
      "metadata": {
        "id": "1j0Ey4P3MmaJ",
        "colab": {
          "base_uri": "https://localhost:8080/"
        },
        "outputId": "d5cdf7b0-2a2d-4c89-e712-140884dc60c8"
      },
      "source": [
        "xmax,xmin,ymax,ymin,t,h,w,Ht = warpnImages(images_left_bgr_no_enhance, images_right_bgr_no_enhance,H_left_orb,H_right_orb)"
      ],
      "execution_count": 18,
      "outputs": [
        {
          "output_type": "stream",
          "text": [
            "Step1:Done\n",
            "Step2:Done\n"
          ],
          "name": "stdout"
        }
      ]
    },
    {
      "cell_type": "code",
      "metadata": {
        "id": "P9B8Uc2nMooS"
      },
      "source": [
        "warp_imgs_left = final_steps_left_union(images_left_bgr_no_enhance,H_left_orb,xmax,xmin,ymax,ymin,t,h,w,Ht)"
      ],
      "execution_count": null,
      "outputs": []
    },
    {
      "cell_type": "code",
      "metadata": {
        "id": "YMgbHhQSMogL"
      },
      "source": [
        "warp_imgs_all_orb = final_steps_right_union(warp_imgs_left,images_right_bgr_no_enhance,H_right_orb,xmax,xmin,ymax,ymin,t,h,w,Ht)"
      ],
      "execution_count": null,
      "outputs": []
    },
    {
      "cell_type": "code",
      "metadata": {
        "id": "EyYfQ-ptMoQx"
      },
      "source": [
        "fig,ax =plt.subplots()\n",
        "fig.set_size_inches(20,20)\n",
        "ax.imshow(cv2.cvtColor(warp_imgs_all_orb , cv2.COLOR_BGR2RGB))\n",
        "ax.set_title('100-Images Mosaic-ORB')"
      ],
      "execution_count": null,
      "outputs": []
    }
  ]
}
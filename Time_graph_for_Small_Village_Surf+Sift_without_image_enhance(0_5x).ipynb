{
  "nbformat": 4,
  "nbformat_minor": 0,
  "metadata": {
    "colab": {
      "name": "Time_graph_for_Small Village_Surf+Sift_without image enhance(0.5x).ipynb",
      "provenance": [],
      "collapsed_sections": []
    },
    "kernelspec": {
      "name": "python3",
      "display_name": "Python 3"
    },
    "language_info": {
      "name": "python"
    }
  },
  "cells": [
    {
      "cell_type": "code",
      "metadata": {
        "id": "TawUfS8U5M_k"
      },
      "source": [
        "import pandas as pd\n",
        "import matplotlib.pyplot as plt\n",
        "import numpy as np\n"
      ],
      "execution_count": 1,
      "outputs": []
    },
    {
      "cell_type": "code",
      "metadata": {
        "id": "qNzK9BoETjTS"
      },
      "source": [
        "#d = {'Detector': ['Agast','agast','agast'], 'Number of Total Matches':[100,200,300],'Parameter':['Parameter1','Parameter2','Parameter3'],'ParameterName':['A','B','C'] }"
      ],
      "execution_count": null,
      "outputs": []
    },
    {
      "cell_type": "code",
      "metadata": {
        "id": "1Dwj0uzp5Jnx"
      },
      "source": [
        "df1=pd.read_csv('/content/Time_1_Small Village_Surf_Sift_without image enhance(0.5x).csv')"
      ],
      "execution_count": 2,
      "outputs": []
    },
    {
      "cell_type": "code",
      "metadata": {
        "id": "dEO_68muTK3S"
      },
      "source": [
        "df1['ParameterName'] = \"A\""
      ],
      "execution_count": 3,
      "outputs": []
    },
    {
      "cell_type": "code",
      "metadata": {
        "id": "ypvx7rKkJ_zd"
      },
      "source": [
        "df2=pd.read_csv('/content/Time_1_Small Village_Surf+Sift_without image enhance(0.5x)_1.csv')"
      ],
      "execution_count": 5,
      "outputs": []
    },
    {
      "cell_type": "code",
      "metadata": {
        "id": "QVyAQGV5VdZ4"
      },
      "source": [
        "df2['ParameterName'] = \"B\""
      ],
      "execution_count": 6,
      "outputs": []
    },
    {
      "cell_type": "code",
      "metadata": {
        "id": "ezEncKgzJ_nf"
      },
      "source": [
        "df3=pd.read_csv('/content/Time_1_Small Village_Surf+Sift_without image enhance(0.5x)_2.csv')"
      ],
      "execution_count": 7,
      "outputs": []
    },
    {
      "cell_type": "code",
      "metadata": {
        "id": "lSogUQCAWS94"
      },
      "source": [
        "df3['ParameterName'] = \"C\""
      ],
      "execution_count": 8,
      "outputs": []
    },
    {
      "cell_type": "code",
      "metadata": {
        "colab": {
          "base_uri": "https://localhost:8080/",
          "height": 80
        },
        "id": "WBD7tvHk5hUn",
        "outputId": "850e2b8a-b557-4599-84d6-25a860e19476"
      },
      "source": [
        "df1"
      ],
      "execution_count": 9,
      "outputs": [
        {
          "output_type": "execute_result",
          "data": {
            "text/html": [
              "<div>\n",
              "<style scoped>\n",
              "    .dataframe tbody tr th:only-of-type {\n",
              "        vertical-align: middle;\n",
              "    }\n",
              "\n",
              "    .dataframe tbody tr th {\n",
              "        vertical-align: top;\n",
              "    }\n",
              "\n",
              "    .dataframe thead th {\n",
              "        text-align: right;\n",
              "    }\n",
              "</style>\n",
              "<table border=\"1\" class=\"dataframe\">\n",
              "  <thead>\n",
              "    <tr style=\"text-align: right;\">\n",
              "      <th></th>\n",
              "      <th>Unnamed: 0</th>\n",
              "      <th>Dataset</th>\n",
              "      <th>Time</th>\n",
              "      <th>Detector/Descriptor</th>\n",
              "      <th>ParameterName</th>\n",
              "    </tr>\n",
              "  </thead>\n",
              "  <tbody>\n",
              "    <tr>\n",
              "      <th>0</th>\n",
              "      <td>0</td>\n",
              "      <td>Small Village Dataset</td>\n",
              "      <td>4056.970755</td>\n",
              "      <td>SURF+SIFT</td>\n",
              "      <td>A</td>\n",
              "    </tr>\n",
              "  </tbody>\n",
              "</table>\n",
              "</div>"
            ],
            "text/plain": [
              "   Unnamed: 0                Dataset  ...  Detector/Descriptor ParameterName\n",
              "0           0  Small Village Dataset  ...            SURF+SIFT             A\n",
              "\n",
              "[1 rows x 5 columns]"
            ]
          },
          "metadata": {},
          "execution_count": 9
        }
      ]
    },
    {
      "cell_type": "code",
      "metadata": {
        "id": "Sck9YTp-14Nb"
      },
      "source": [
        "df1['Parameter'] = \"Surf:hessianThreshold =40\""
      ],
      "execution_count": 10,
      "outputs": []
    },
    {
      "cell_type": "code",
      "metadata": {
        "colab": {
          "base_uri": "https://localhost:8080/",
          "height": 80
        },
        "id": "_E7PsFOg53Ht",
        "outputId": "dc0018ce-d356-4abd-b685-7fc881b18d70"
      },
      "source": [
        "df1"
      ],
      "execution_count": 11,
      "outputs": [
        {
          "output_type": "execute_result",
          "data": {
            "text/html": [
              "<div>\n",
              "<style scoped>\n",
              "    .dataframe tbody tr th:only-of-type {\n",
              "        vertical-align: middle;\n",
              "    }\n",
              "\n",
              "    .dataframe tbody tr th {\n",
              "        vertical-align: top;\n",
              "    }\n",
              "\n",
              "    .dataframe thead th {\n",
              "        text-align: right;\n",
              "    }\n",
              "</style>\n",
              "<table border=\"1\" class=\"dataframe\">\n",
              "  <thead>\n",
              "    <tr style=\"text-align: right;\">\n",
              "      <th></th>\n",
              "      <th>Unnamed: 0</th>\n",
              "      <th>Dataset</th>\n",
              "      <th>Time</th>\n",
              "      <th>Detector/Descriptor</th>\n",
              "      <th>ParameterName</th>\n",
              "      <th>Parameter</th>\n",
              "    </tr>\n",
              "  </thead>\n",
              "  <tbody>\n",
              "    <tr>\n",
              "      <th>0</th>\n",
              "      <td>0</td>\n",
              "      <td>Small Village Dataset</td>\n",
              "      <td>4056.970755</td>\n",
              "      <td>SURF+SIFT</td>\n",
              "      <td>A</td>\n",
              "      <td>Surf:hessianThreshold =40</td>\n",
              "    </tr>\n",
              "  </tbody>\n",
              "</table>\n",
              "</div>"
            ],
            "text/plain": [
              "   Unnamed: 0                Dataset  ...  ParameterName                  Parameter\n",
              "0           0  Small Village Dataset  ...              A  Surf:hessianThreshold =40\n",
              "\n",
              "[1 rows x 6 columns]"
            ]
          },
          "metadata": {},
          "execution_count": 11
        }
      ]
    },
    {
      "cell_type": "code",
      "metadata": {
        "colab": {
          "base_uri": "https://localhost:8080/",
          "height": 80
        },
        "id": "1hLjHt1zKhs9",
        "outputId": "e4d78450-6111-453c-b9be-7b956f7cda08"
      },
      "source": [
        "df2"
      ],
      "execution_count": 12,
      "outputs": [
        {
          "output_type": "execute_result",
          "data": {
            "text/html": [
              "<div>\n",
              "<style scoped>\n",
              "    .dataframe tbody tr th:only-of-type {\n",
              "        vertical-align: middle;\n",
              "    }\n",
              "\n",
              "    .dataframe tbody tr th {\n",
              "        vertical-align: top;\n",
              "    }\n",
              "\n",
              "    .dataframe thead th {\n",
              "        text-align: right;\n",
              "    }\n",
              "</style>\n",
              "<table border=\"1\" class=\"dataframe\">\n",
              "  <thead>\n",
              "    <tr style=\"text-align: right;\">\n",
              "      <th></th>\n",
              "      <th>Unnamed: 0</th>\n",
              "      <th>Dataset</th>\n",
              "      <th>Time</th>\n",
              "      <th>Detector/Descriptor</th>\n",
              "      <th>ParameterName</th>\n",
              "    </tr>\n",
              "  </thead>\n",
              "  <tbody>\n",
              "    <tr>\n",
              "      <th>0</th>\n",
              "      <td>0</td>\n",
              "      <td>Small Village Dataset</td>\n",
              "      <td>2946.54692</td>\n",
              "      <td>SURF+SIFT</td>\n",
              "      <td>B</td>\n",
              "    </tr>\n",
              "  </tbody>\n",
              "</table>\n",
              "</div>"
            ],
            "text/plain": [
              "   Unnamed: 0                Dataset  ...  Detector/Descriptor ParameterName\n",
              "0           0  Small Village Dataset  ...            SURF+SIFT             B\n",
              "\n",
              "[1 rows x 5 columns]"
            ]
          },
          "metadata": {},
          "execution_count": 12
        }
      ]
    },
    {
      "cell_type": "code",
      "metadata": {
        "id": "4OipKSbK2alg"
      },
      "source": [
        "df2['Parameter'] = \"Surf:hessianThreshold =60\""
      ],
      "execution_count": 13,
      "outputs": []
    },
    {
      "cell_type": "code",
      "metadata": {
        "colab": {
          "base_uri": "https://localhost:8080/",
          "height": 80
        },
        "id": "YJ9tYPPKKhU8",
        "outputId": "eec0c614-b1c2-4450-cbf8-7b626c136aa9"
      },
      "source": [
        "df2"
      ],
      "execution_count": 14,
      "outputs": [
        {
          "output_type": "execute_result",
          "data": {
            "text/html": [
              "<div>\n",
              "<style scoped>\n",
              "    .dataframe tbody tr th:only-of-type {\n",
              "        vertical-align: middle;\n",
              "    }\n",
              "\n",
              "    .dataframe tbody tr th {\n",
              "        vertical-align: top;\n",
              "    }\n",
              "\n",
              "    .dataframe thead th {\n",
              "        text-align: right;\n",
              "    }\n",
              "</style>\n",
              "<table border=\"1\" class=\"dataframe\">\n",
              "  <thead>\n",
              "    <tr style=\"text-align: right;\">\n",
              "      <th></th>\n",
              "      <th>Unnamed: 0</th>\n",
              "      <th>Dataset</th>\n",
              "      <th>Time</th>\n",
              "      <th>Detector/Descriptor</th>\n",
              "      <th>ParameterName</th>\n",
              "      <th>Parameter</th>\n",
              "    </tr>\n",
              "  </thead>\n",
              "  <tbody>\n",
              "    <tr>\n",
              "      <th>0</th>\n",
              "      <td>0</td>\n",
              "      <td>Small Village Dataset</td>\n",
              "      <td>2946.54692</td>\n",
              "      <td>SURF+SIFT</td>\n",
              "      <td>B</td>\n",
              "      <td>Surf:hessianThreshold =60</td>\n",
              "    </tr>\n",
              "  </tbody>\n",
              "</table>\n",
              "</div>"
            ],
            "text/plain": [
              "   Unnamed: 0                Dataset  ...  ParameterName                  Parameter\n",
              "0           0  Small Village Dataset  ...              B  Surf:hessianThreshold =60\n",
              "\n",
              "[1 rows x 6 columns]"
            ]
          },
          "metadata": {},
          "execution_count": 14
        }
      ]
    },
    {
      "cell_type": "code",
      "metadata": {
        "colab": {
          "base_uri": "https://localhost:8080/",
          "height": 80
        },
        "id": "oc3vYypQK4YA",
        "outputId": "1c3b1b7c-8c69-4e18-9988-a767dcc032f9"
      },
      "source": [
        "df3"
      ],
      "execution_count": 15,
      "outputs": [
        {
          "output_type": "execute_result",
          "data": {
            "text/html": [
              "<div>\n",
              "<style scoped>\n",
              "    .dataframe tbody tr th:only-of-type {\n",
              "        vertical-align: middle;\n",
              "    }\n",
              "\n",
              "    .dataframe tbody tr th {\n",
              "        vertical-align: top;\n",
              "    }\n",
              "\n",
              "    .dataframe thead th {\n",
              "        text-align: right;\n",
              "    }\n",
              "</style>\n",
              "<table border=\"1\" class=\"dataframe\">\n",
              "  <thead>\n",
              "    <tr style=\"text-align: right;\">\n",
              "      <th></th>\n",
              "      <th>Unnamed: 0</th>\n",
              "      <th>Dataset</th>\n",
              "      <th>Time</th>\n",
              "      <th>Detector/Descriptor</th>\n",
              "      <th>ParameterName</th>\n",
              "    </tr>\n",
              "  </thead>\n",
              "  <tbody>\n",
              "    <tr>\n",
              "      <th>0</th>\n",
              "      <td>0</td>\n",
              "      <td>Small Village Dataset</td>\n",
              "      <td>2641.915372</td>\n",
              "      <td>SURF+SIFT</td>\n",
              "      <td>C</td>\n",
              "    </tr>\n",
              "  </tbody>\n",
              "</table>\n",
              "</div>"
            ],
            "text/plain": [
              "   Unnamed: 0                Dataset  ...  Detector/Descriptor ParameterName\n",
              "0           0  Small Village Dataset  ...            SURF+SIFT             C\n",
              "\n",
              "[1 rows x 5 columns]"
            ]
          },
          "metadata": {},
          "execution_count": 15
        }
      ]
    },
    {
      "cell_type": "code",
      "metadata": {
        "id": "kmudLwGf2m8R"
      },
      "source": [
        "df3['Parameter'] = \"Surf:hessianThreshold =80\" "
      ],
      "execution_count": 16,
      "outputs": []
    },
    {
      "cell_type": "code",
      "metadata": {
        "id": "cQVNHBe3LBMk",
        "colab": {
          "base_uri": "https://localhost:8080/",
          "height": 80
        },
        "outputId": "05595aed-d8a9-43ba-eb79-58e69da9c28c"
      },
      "source": [
        "df3"
      ],
      "execution_count": 17,
      "outputs": [
        {
          "output_type": "execute_result",
          "data": {
            "text/html": [
              "<div>\n",
              "<style scoped>\n",
              "    .dataframe tbody tr th:only-of-type {\n",
              "        vertical-align: middle;\n",
              "    }\n",
              "\n",
              "    .dataframe tbody tr th {\n",
              "        vertical-align: top;\n",
              "    }\n",
              "\n",
              "    .dataframe thead th {\n",
              "        text-align: right;\n",
              "    }\n",
              "</style>\n",
              "<table border=\"1\" class=\"dataframe\">\n",
              "  <thead>\n",
              "    <tr style=\"text-align: right;\">\n",
              "      <th></th>\n",
              "      <th>Unnamed: 0</th>\n",
              "      <th>Dataset</th>\n",
              "      <th>Time</th>\n",
              "      <th>Detector/Descriptor</th>\n",
              "      <th>ParameterName</th>\n",
              "      <th>Parameter</th>\n",
              "    </tr>\n",
              "  </thead>\n",
              "  <tbody>\n",
              "    <tr>\n",
              "      <th>0</th>\n",
              "      <td>0</td>\n",
              "      <td>Small Village Dataset</td>\n",
              "      <td>2641.915372</td>\n",
              "      <td>SURF+SIFT</td>\n",
              "      <td>C</td>\n",
              "      <td>Surf:hessianThreshold =80</td>\n",
              "    </tr>\n",
              "  </tbody>\n",
              "</table>\n",
              "</div>"
            ],
            "text/plain": [
              "   Unnamed: 0                Dataset  ...  ParameterName                  Parameter\n",
              "0           0  Small Village Dataset  ...              C  Surf:hessianThreshold =80\n",
              "\n",
              "[1 rows x 6 columns]"
            ]
          },
          "metadata": {},
          "execution_count": 17
        }
      ]
    },
    {
      "cell_type": "code",
      "metadata": {
        "id": "E12FC_MXLD2Q"
      },
      "source": [
        "df=pd.concat([df1,df2,df3])"
      ],
      "execution_count": 18,
      "outputs": []
    },
    {
      "cell_type": "code",
      "metadata": {
        "colab": {
          "base_uri": "https://localhost:8080/",
          "height": 142
        },
        "id": "QEfaGfQXMYDt",
        "outputId": "d1042121-4fe3-4a4b-d53f-8986aa3d1ebb"
      },
      "source": [
        "df"
      ],
      "execution_count": 19,
      "outputs": [
        {
          "output_type": "execute_result",
          "data": {
            "text/html": [
              "<div>\n",
              "<style scoped>\n",
              "    .dataframe tbody tr th:only-of-type {\n",
              "        vertical-align: middle;\n",
              "    }\n",
              "\n",
              "    .dataframe tbody tr th {\n",
              "        vertical-align: top;\n",
              "    }\n",
              "\n",
              "    .dataframe thead th {\n",
              "        text-align: right;\n",
              "    }\n",
              "</style>\n",
              "<table border=\"1\" class=\"dataframe\">\n",
              "  <thead>\n",
              "    <tr style=\"text-align: right;\">\n",
              "      <th></th>\n",
              "      <th>Unnamed: 0</th>\n",
              "      <th>Dataset</th>\n",
              "      <th>Time</th>\n",
              "      <th>Detector/Descriptor</th>\n",
              "      <th>ParameterName</th>\n",
              "      <th>Parameter</th>\n",
              "    </tr>\n",
              "  </thead>\n",
              "  <tbody>\n",
              "    <tr>\n",
              "      <th>0</th>\n",
              "      <td>0</td>\n",
              "      <td>Small Village Dataset</td>\n",
              "      <td>4056.970755</td>\n",
              "      <td>SURF+SIFT</td>\n",
              "      <td>A</td>\n",
              "      <td>Surf:hessianThreshold =40</td>\n",
              "    </tr>\n",
              "    <tr>\n",
              "      <th>0</th>\n",
              "      <td>0</td>\n",
              "      <td>Small Village Dataset</td>\n",
              "      <td>2946.546920</td>\n",
              "      <td>SURF+SIFT</td>\n",
              "      <td>B</td>\n",
              "      <td>Surf:hessianThreshold =60</td>\n",
              "    </tr>\n",
              "    <tr>\n",
              "      <th>0</th>\n",
              "      <td>0</td>\n",
              "      <td>Small Village Dataset</td>\n",
              "      <td>2641.915372</td>\n",
              "      <td>SURF+SIFT</td>\n",
              "      <td>C</td>\n",
              "      <td>Surf:hessianThreshold =80</td>\n",
              "    </tr>\n",
              "  </tbody>\n",
              "</table>\n",
              "</div>"
            ],
            "text/plain": [
              "   Unnamed: 0                Dataset  ...  ParameterName                  Parameter\n",
              "0           0  Small Village Dataset  ...              A  Surf:hessianThreshold =40\n",
              "0           0  Small Village Dataset  ...              B  Surf:hessianThreshold =60\n",
              "0           0  Small Village Dataset  ...              C  Surf:hessianThreshold =80\n",
              "\n",
              "[3 rows x 6 columns]"
            ]
          },
          "metadata": {},
          "execution_count": 19
        }
      ]
    },
    {
      "cell_type": "code",
      "metadata": {
        "id": "4yyb9x0EcQ64",
        "colab": {
          "base_uri": "https://localhost:8080/",
          "height": 599
        },
        "outputId": "4449cd5e-c934-4637-ccd2-c09c0a20f1ff"
      },
      "source": [
        " import seaborn as sns\n",
        "sns.set_theme(style='whitegrid')\n",
        "\n",
        "\n",
        "g = sns.catplot(\n",
        "    data=df, kind=\"bar\",\n",
        "    x=\"ParameterName\", y=\"Time\", hue=\"Parameter\" ,\n",
        "    ci=\"sd\", palette=\"Spectral\", alpha=.9, height=8, aspect=0.9\n",
        ")\n",
        "g.despine(left=True)\n",
        "g.set_axis_labels(\"Parameter Combinations \", \"Time Taken for Consecutive/Overlapping Images\")\n",
        "g.legend.set_title(\"Parameter Combinations\")\n",
        "g.fig.suptitle(\"Time Taken for SURF+SIFT for different parameter combinations\")"
      ],
      "execution_count": 20,
      "outputs": [
        {
          "output_type": "execute_result",
          "data": {
            "text/plain": [
              "Text(0.5, 0.98, 'Time Taken for SURF+SIFT for different parameter combinations')"
            ]
          },
          "metadata": {},
          "execution_count": 20
        },
        {
          "output_type": "display_data",
          "data": {
            "image/png": "[encoded data removed]",
            "text/plain": [
              "<Figure size 707.375x576 with 1 Axes>"
            ]
          },
          "metadata": {}
        }
      ]
    },
    {
      "cell_type": "code",
      "metadata": {
        "id": "w8oosWzjbFpS"
      },
      "source": [
        ""
      ],
      "execution_count": null,
      "outputs": []
    }
  ]
}